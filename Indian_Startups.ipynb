{
  "cells": [
    {
      "cell_type": "markdown",
      "metadata": {
        "id": "view-in-github",
        "colab_type": "text"
      },
      "source": [
        "<a href=\"https://colab.research.google.com/github/DataMinati/Super-Notebooks-100/blob/main/Indian_Startups.ipynb\" target=\"_parent\"><img src=\"https://colab.research.google.com/assets/colab-badge.svg\" alt=\"Open In Colab\"/></a>"
      ]
    },
    {
      "cell_type": "code",
      "execution_count": 20,
      "id": "c6ebb655",
      "metadata": {
        "_cell_guid": "b1076dfc-b9ad-4769-8c92-a6c4dae69d19",
        "_uuid": "8f2839f25d086af736a60e9eeb907d3b93b6e0e5",
        "execution": {
          "iopub.execute_input": "2022-01-01T08:42:19.819850Z",
          "iopub.status.busy": "2022-01-01T08:42:19.818657Z",
          "iopub.status.idle": "2022-01-01T08:42:19.843346Z",
          "shell.execute_reply": "2022-01-01T08:42:19.843923Z",
          "shell.execute_reply.started": "2022-01-01T08:10:31.152084Z"
        },
        "papermill": {
          "duration": 0.043976,
          "end_time": "2022-01-01T08:42:19.844310",
          "exception": false,
          "start_time": "2022-01-01T08:42:19.800334",
          "status": "completed"
        },
        "tags": [],
        "colab": {
          "base_uri": "https://localhost:8080/",
          "height": 52
        },
        "id": "c6ebb655",
        "outputId": "20270a96-d80d-4e5f-c628-2dd99e031175"
      },
      "outputs": [
        {
          "output_type": "execute_result",
          "data": {
            "text/plain": [
              "<Figure size 720x576 with 0 Axes>"
            ]
          },
          "metadata": {},
          "execution_count": 20
        },
        {
          "output_type": "display_data",
          "data": {
            "text/plain": [
              "<Figure size 720x576 with 0 Axes>"
            ]
          },
          "metadata": {}
        }
      ],
      "source": [
        "import numpy as np \n",
        "import pandas as pd\n",
        "import matplotlib.pyplot as plt\n",
        "import seaborn as sns"
      ]
    },
    {
      "cell_type": "markdown",
      "id": "197a5ad4",
      "metadata": {
        "papermill": {
          "duration": 0.016936,
          "end_time": "2022-01-01T08:42:19.877183",
          "exception": false,
          "start_time": "2022-01-01T08:42:19.860247",
          "status": "completed"
        },
        "tags": [],
        "id": "197a5ad4"
      },
      "source": [
        "### Loading Data"
      ]
    },
    {
      "cell_type": "code",
      "execution_count": 2,
      "id": "50eb0ed9",
      "metadata": {
        "execution": {
          "iopub.execute_input": "2022-01-01T08:42:19.917570Z",
          "iopub.status.busy": "2022-01-01T08:42:19.916634Z",
          "iopub.status.idle": "2022-01-01T08:42:19.972815Z",
          "shell.execute_reply": "2022-01-01T08:42:19.973360Z",
          "shell.execute_reply.started": "2022-01-01T08:10:31.944886Z"
        },
        "papermill": {
          "duration": 0.079093,
          "end_time": "2022-01-01T08:42:19.973554",
          "exception": false,
          "start_time": "2022-01-01T08:42:19.894461",
          "status": "completed"
        },
        "tags": [],
        "colab": {
          "base_uri": "https://localhost:8080/",
          "height": 676
        },
        "id": "50eb0ed9",
        "outputId": "4364f43c-919a-4d11-e04e-af3a5ffece88"
      },
      "outputs": [
        {
          "output_type": "execute_result",
          "data": {
            "text/html": [
              "\n",
              "  <div id=\"df-c95f2fa2-f327-4f96-aaa1-1631f5d9ab52\">\n",
              "    <div class=\"colab-df-container\">\n",
              "      <div>\n",
              "<style scoped>\n",
              "    .dataframe tbody tr th:only-of-type {\n",
              "        vertical-align: middle;\n",
              "    }\n",
              "\n",
              "    .dataframe tbody tr th {\n",
              "        vertical-align: top;\n",
              "    }\n",
              "\n",
              "    .dataframe thead th {\n",
              "        text-align: right;\n",
              "    }\n",
              "</style>\n",
              "<table border=\"1\" class=\"dataframe\">\n",
              "  <thead>\n",
              "    <tr style=\"text-align: right;\">\n",
              "      <th></th>\n",
              "      <th>Company/Brand</th>\n",
              "      <th>Founded</th>\n",
              "      <th>Headquarters</th>\n",
              "      <th>Sector</th>\n",
              "      <th>What it does</th>\n",
              "      <th>Founder/s</th>\n",
              "      <th>Investor/s</th>\n",
              "      <th>Amount(in dollars)</th>\n",
              "      <th>Stage</th>\n",
              "      <th>Month</th>\n",
              "    </tr>\n",
              "  </thead>\n",
              "  <tbody>\n",
              "    <tr>\n",
              "      <th>0</th>\n",
              "      <td>CollegeDekho</td>\n",
              "      <td>2015.0</td>\n",
              "      <td>Gurgaon</td>\n",
              "      <td>E-learning</td>\n",
              "      <td>Collegedekho.com is Student’s Partner, Friend ...</td>\n",
              "      <td>Ruchir Arora</td>\n",
              "      <td>Disrupt ADQ, QIC</td>\n",
              "      <td>35000000</td>\n",
              "      <td>Series B</td>\n",
              "      <td>12</td>\n",
              "    </tr>\n",
              "    <tr>\n",
              "      <th>1</th>\n",
              "      <td>BOX8</td>\n",
              "      <td>2012.0</td>\n",
              "      <td>Mumbai</td>\n",
              "      <td>Food &amp; Beverages</td>\n",
              "      <td>India's Largest Desi Meals Brand</td>\n",
              "      <td>Anshul Gupta, Amit Raj</td>\n",
              "      <td>Tiger Global</td>\n",
              "      <td>40000000</td>\n",
              "      <td>NaN</td>\n",
              "      <td>12</td>\n",
              "    </tr>\n",
              "    <tr>\n",
              "      <th>2</th>\n",
              "      <td>Simpl</td>\n",
              "      <td>2015.0</td>\n",
              "      <td>Bangalore</td>\n",
              "      <td>Consumer Services</td>\n",
              "      <td>Simpl empowers merchants to build trusted rela...</td>\n",
              "      <td>Nitya, Chaitra Chidanand</td>\n",
              "      <td>Valar Ventures, IA Ventures</td>\n",
              "      <td>40000000</td>\n",
              "      <td>Series B</td>\n",
              "      <td>12</td>\n",
              "    </tr>\n",
              "    <tr>\n",
              "      <th>3</th>\n",
              "      <td>8i Ventures</td>\n",
              "      <td>2018.0</td>\n",
              "      <td>Mumbai</td>\n",
              "      <td>Venture Capital &amp; Private Equity</td>\n",
              "      <td>8i is a Mumbai &amp; Bangalore based early stage f...</td>\n",
              "      <td>Vikram Chachra</td>\n",
              "      <td>NaN</td>\n",
              "      <td>50000000</td>\n",
              "      <td>NaN</td>\n",
              "      <td>12</td>\n",
              "    </tr>\n",
              "    <tr>\n",
              "      <th>4</th>\n",
              "      <td>PayGlocal</td>\n",
              "      <td>2021.0</td>\n",
              "      <td>Bangalore</td>\n",
              "      <td>Financial Services</td>\n",
              "      <td>PayGlocal is a FinTech solving for global paym...</td>\n",
              "      <td>Prachi Dharani, Rohit Sukhija, Yogesh Lokhande</td>\n",
              "      <td>Sequoia Capital India</td>\n",
              "      <td>4900000</td>\n",
              "      <td>Series A</td>\n",
              "      <td>12</td>\n",
              "    </tr>\n",
              "    <tr>\n",
              "      <th>...</th>\n",
              "      <td>...</td>\n",
              "      <td>...</td>\n",
              "      <td>...</td>\n",
              "      <td>...</td>\n",
              "      <td>...</td>\n",
              "      <td>...</td>\n",
              "      <td>...</td>\n",
              "      <td>...</td>\n",
              "      <td>...</td>\n",
              "      <td>...</td>\n",
              "    </tr>\n",
              "    <tr>\n",
              "      <th>1189</th>\n",
              "      <td>HobSpace</td>\n",
              "      <td>2019.0</td>\n",
              "      <td>Mumbai</td>\n",
              "      <td>EdTech</td>\n",
              "      <td>HobSpace is a platform for extra-curricular ac...</td>\n",
              "      <td>Priya Goel Sheth, Harsh Jain</td>\n",
              "      <td>Siddharth Bhaskar Shah, Upsparks</td>\n",
              "      <td>1,00,000</td>\n",
              "      <td>Pre-series A1</td>\n",
              "      <td>1</td>\n",
              "    </tr>\n",
              "    <tr>\n",
              "      <th>1190</th>\n",
              "      <td>DcodeAI</td>\n",
              "      <td>2020.0</td>\n",
              "      <td>New Delhi</td>\n",
              "      <td>EdTech</td>\n",
              "      <td>EMPOWER LEARNERS TO BE FUTURE READY USING AI</td>\n",
              "      <td>Kartik Sharma, Ashish Aggarwal</td>\n",
              "      <td>S Chand</td>\n",
              "      <td>5,00,000</td>\n",
              "      <td>NaN</td>\n",
              "      <td>1</td>\n",
              "    </tr>\n",
              "    <tr>\n",
              "      <th>1191</th>\n",
              "      <td>Biocon Biologics</td>\n",
              "      <td>1978.0</td>\n",
              "      <td>Bangalore</td>\n",
              "      <td>BioTechnology</td>\n",
              "      <td>Biocon is a fully integrated pure play biosimi...</td>\n",
              "      <td>Kiran Mazumdar-Shaw</td>\n",
              "      <td>Goldman Sachs, Tata Capital</td>\n",
              "      <td>7,00,00,000</td>\n",
              "      <td>NaN</td>\n",
              "      <td>1</td>\n",
              "    </tr>\n",
              "    <tr>\n",
              "      <th>1192</th>\n",
              "      <td>KiranaKart</td>\n",
              "      <td>2020.0</td>\n",
              "      <td>Mumbai</td>\n",
              "      <td>E-commerce</td>\n",
              "      <td>A better model for instant grocery delivery in...</td>\n",
              "      <td>Kaivalya Vohra, Aadit Palicha</td>\n",
              "      <td>Global Founders Capital</td>\n",
              "      <td>7,20,000</td>\n",
              "      <td>Pre-seed</td>\n",
              "      <td>1</td>\n",
              "    </tr>\n",
              "    <tr>\n",
              "      <th>1193</th>\n",
              "      <td>Meddo</td>\n",
              "      <td>2018.0</td>\n",
              "      <td>Gurgaon</td>\n",
              "      <td>Healthcare</td>\n",
              "      <td>Meddo is an end-to-end medical services provider</td>\n",
              "      <td>Saurabh Kochhar</td>\n",
              "      <td>growX ventures, Venture Gurukool</td>\n",
              "      <td>30,00,000</td>\n",
              "      <td>Pre-series A</td>\n",
              "      <td>1</td>\n",
              "    </tr>\n",
              "  </tbody>\n",
              "</table>\n",
              "<p>1194 rows × 10 columns</p>\n",
              "</div>\n",
              "      <button class=\"colab-df-convert\" onclick=\"convertToInteractive('df-c95f2fa2-f327-4f96-aaa1-1631f5d9ab52')\"\n",
              "              title=\"Convert this dataframe to an interactive table.\"\n",
              "              style=\"display:none;\">\n",
              "        \n",
              "  <svg xmlns=\"http://www.w3.org/2000/svg\" height=\"24px\"viewBox=\"0 0 24 24\"\n",
              "       width=\"24px\">\n",
              "    <path d=\"M0 0h24v24H0V0z\" fill=\"none\"/>\n",
              "    <path d=\"M18.56 5.44l.94 2.06.94-2.06 2.06-.94-2.06-.94-.94-2.06-.94 2.06-2.06.94zm-11 1L8.5 8.5l.94-2.06 2.06-.94-2.06-.94L8.5 2.5l-.94 2.06-2.06.94zm10 10l.94 2.06.94-2.06 2.06-.94-2.06-.94-.94-2.06-.94 2.06-2.06.94z\"/><path d=\"M17.41 7.96l-1.37-1.37c-.4-.4-.92-.59-1.43-.59-.52 0-1.04.2-1.43.59L10.3 9.45l-7.72 7.72c-.78.78-.78 2.05 0 2.83L4 21.41c.39.39.9.59 1.41.59.51 0 1.02-.2 1.41-.59l7.78-7.78 2.81-2.81c.8-.78.8-2.07 0-2.86zM5.41 20L4 18.59l7.72-7.72 1.47 1.35L5.41 20z\"/>\n",
              "  </svg>\n",
              "      </button>\n",
              "      \n",
              "  <style>\n",
              "    .colab-df-container {\n",
              "      display:flex;\n",
              "      flex-wrap:wrap;\n",
              "      gap: 12px;\n",
              "    }\n",
              "\n",
              "    .colab-df-convert {\n",
              "      background-color: #E8F0FE;\n",
              "      border: none;\n",
              "      border-radius: 50%;\n",
              "      cursor: pointer;\n",
              "      display: none;\n",
              "      fill: #1967D2;\n",
              "      height: 32px;\n",
              "      padding: 0 0 0 0;\n",
              "      width: 32px;\n",
              "    }\n",
              "\n",
              "    .colab-df-convert:hover {\n",
              "      background-color: #E2EBFA;\n",
              "      box-shadow: 0px 1px 2px rgba(60, 64, 67, 0.3), 0px 1px 3px 1px rgba(60, 64, 67, 0.15);\n",
              "      fill: #174EA6;\n",
              "    }\n",
              "\n",
              "    [theme=dark] .colab-df-convert {\n",
              "      background-color: #3B4455;\n",
              "      fill: #D2E3FC;\n",
              "    }\n",
              "\n",
              "    [theme=dark] .colab-df-convert:hover {\n",
              "      background-color: #434B5C;\n",
              "      box-shadow: 0px 1px 3px 1px rgba(0, 0, 0, 0.15);\n",
              "      filter: drop-shadow(0px 1px 2px rgba(0, 0, 0, 0.3));\n",
              "      fill: #FFFFFF;\n",
              "    }\n",
              "  </style>\n",
              "\n",
              "      <script>\n",
              "        const buttonEl =\n",
              "          document.querySelector('#df-c95f2fa2-f327-4f96-aaa1-1631f5d9ab52 button.colab-df-convert');\n",
              "        buttonEl.style.display =\n",
              "          google.colab.kernel.accessAllowed ? 'block' : 'none';\n",
              "\n",
              "        async function convertToInteractive(key) {\n",
              "          const element = document.querySelector('#df-c95f2fa2-f327-4f96-aaa1-1631f5d9ab52');\n",
              "          const dataTable =\n",
              "            await google.colab.kernel.invokeFunction('convertToInteractive',\n",
              "                                                     [key], {});\n",
              "          if (!dataTable) return;\n",
              "\n",
              "          const docLinkHtml = 'Like what you see? Visit the ' +\n",
              "            '<a target=\"_blank\" href=https://colab.research.google.com/notebooks/data_table.ipynb>data table notebook</a>'\n",
              "            + ' to learn more about interactive tables.';\n",
              "          element.innerHTML = '';\n",
              "          dataTable['output_type'] = 'display_data';\n",
              "          await google.colab.output.renderOutput(dataTable, element);\n",
              "          const docLink = document.createElement('div');\n",
              "          docLink.innerHTML = docLinkHtml;\n",
              "          element.appendChild(docLink);\n",
              "        }\n",
              "      </script>\n",
              "    </div>\n",
              "  </div>\n",
              "  "
            ],
            "text/plain": [
              "         Company/Brand  Founded  ...          Stage Month\n",
              "0         CollegeDekho   2015.0  ...       Series B    12\n",
              "1                 BOX8   2012.0  ...            NaN    12\n",
              "2                Simpl   2015.0  ...       Series B    12\n",
              "3          8i Ventures   2018.0  ...            NaN    12\n",
              "4            PayGlocal   2021.0  ...       Series A    12\n",
              "...                ...      ...  ...            ...   ...\n",
              "1189          HobSpace   2019.0  ...  Pre-series A1     1\n",
              "1190           DcodeAI   2020.0  ...            NaN     1\n",
              "1191  Biocon Biologics   1978.0  ...            NaN     1\n",
              "1192        KiranaKart   2020.0  ...       Pre-seed     1\n",
              "1193             Meddo   2018.0  ...   Pre-series A     1\n",
              "\n",
              "[1194 rows x 10 columns]"
            ]
          },
          "metadata": {},
          "execution_count": 2
        }
      ],
      "source": [
        "startup=pd.read_csv('https://raw.githubusercontent.com/MainakRepositor/Datasets-/master/Indian%20startups%20funding%20in%202021.csv')\n",
        "startup\n"
      ]
    },
    {
      "cell_type": "code",
      "execution_count": 3,
      "id": "951c8c25",
      "metadata": {
        "execution": {
          "iopub.execute_input": "2022-01-01T08:42:20.009134Z",
          "iopub.status.busy": "2022-01-01T08:42:20.008211Z",
          "iopub.status.idle": "2022-01-01T08:42:20.030460Z",
          "shell.execute_reply": "2022-01-01T08:42:20.029650Z",
          "shell.execute_reply.started": "2022-01-01T08:10:32.820742Z"
        },
        "papermill": {
          "duration": 0.041466,
          "end_time": "2022-01-01T08:42:20.030650",
          "exception": false,
          "start_time": "2022-01-01T08:42:19.989184",
          "status": "completed"
        },
        "tags": [],
        "colab": {
          "base_uri": "https://localhost:8080/"
        },
        "id": "951c8c25",
        "outputId": "360c582f-f2f6-4fb5-e6f4-c95d07b41210"
      },
      "outputs": [
        {
          "output_type": "stream",
          "name": "stdout",
          "text": [
            "<class 'pandas.core.frame.DataFrame'>\n",
            "RangeIndex: 1194 entries, 0 to 1193\n",
            "Data columns (total 10 columns):\n",
            " #   Column              Non-Null Count  Dtype  \n",
            "---  ------              --------------  -----  \n",
            " 0   Company/Brand       1194 non-null   object \n",
            " 1   Founded             1193 non-null   float64\n",
            " 2   Headquarters        1193 non-null   object \n",
            " 3   Sector              1194 non-null   object \n",
            " 4   What it does        1194 non-null   object \n",
            " 5   Founder/s           1190 non-null   object \n",
            " 6   Investor/s          1135 non-null   object \n",
            " 7   Amount(in dollars)  1189 non-null   object \n",
            " 8   Stage               775 non-null    object \n",
            " 9   Month               1194 non-null   int64  \n",
            "dtypes: float64(1), int64(1), object(8)\n",
            "memory usage: 93.4+ KB\n"
          ]
        }
      ],
      "source": [
        "startup.info()"
      ]
    },
    {
      "cell_type": "markdown",
      "id": "b7bbe7a8",
      "metadata": {
        "papermill": {
          "duration": 0.015788,
          "end_time": "2022-01-01T08:42:20.062901",
          "exception": false,
          "start_time": "2022-01-01T08:42:20.047113",
          "status": "completed"
        },
        "tags": [],
        "id": "b7bbe7a8"
      },
      "source": [
        "### Data Cleaning"
      ]
    },
    {
      "cell_type": "code",
      "execution_count": 4,
      "id": "fc6e3e0f",
      "metadata": {
        "execution": {
          "iopub.execute_input": "2022-01-01T08:42:20.102239Z",
          "iopub.status.busy": "2022-01-01T08:42:20.101501Z",
          "iopub.status.idle": "2022-01-01T08:42:20.104528Z",
          "shell.execute_reply": "2022-01-01T08:42:20.105080Z",
          "shell.execute_reply.started": "2022-01-01T08:10:33.730909Z"
        },
        "papermill": {
          "duration": 0.026367,
          "end_time": "2022-01-01T08:42:20.105250",
          "exception": false,
          "start_time": "2022-01-01T08:42:20.078883",
          "status": "completed"
        },
        "tags": [],
        "colab": {
          "base_uri": "https://localhost:8080/"
        },
        "id": "fc6e3e0f",
        "outputId": "045321b2-b4ab-4f28-ea40-6b2551c0ca85"
      },
      "outputs": [
        {
          "output_type": "execute_result",
          "data": {
            "text/plain": [
              "array(['35000000', '40000000', '50000000', '4900000', '145000000',\n",
              "       '22000000', '10000000', '13000000', '70000000', '100000000',\n",
              "       '6700000', '30000000', '7000000', '5000000', '6600000', '32000000',\n",
              "       '150000000', '24000000', '700000', 'Undisclosed', '200000',\n",
              "       '1500000', '1300000', '1000000', '725000', '500000', '461000',\n",
              "       'Series C', 'Seed', '96000000', '4000000', '60000000', '20000000',\n",
              "       '500000000', '266000000', '4500000', '1200000', '300000',\n",
              "       '9500000', '325000000', '6500000', '1600000', '400000', '225000',\n",
              "       '85000000', '235000', '260000', '2900000', '12000000', '53000000',\n",
              "       '3500000', '3000000', '2000000', '3300000', '150000', '92000000',\n",
              "       '600000', '100000', '17000000', '2500000', '135000000', '8000000',\n",
              "       '15000000', '5500000', '6000000', '1,55,000', '2100000',\n",
              "       '25000000', '21000000', '840000000', '248000000', '220000000',\n",
              "       '4300000', '570000', '2200000', '4700000', '300000000', '52000000',\n",
              "       '28000000', '260000000', '140000000', '175000000', '19000000',\n",
              "       '200000000', '810000', '7500000', '600000000', '125000000',\n",
              "       '90000000', '250000000', '11000000', '2300000', '5700000',\n",
              "       '6750000', '75000000', '1100000', '78000000', '3200000', '5400000',\n",
              "       '115000000', '1900000', '255000000', '18000000', '48000000',\n",
              "       '570000000', '550000', '2700000', '4200000', nan, '1700000',\n",
              "       '450000000', '31000000', '540000', '14000000', '340000', '900000',\n",
              "       '6200000', '800000', '750000', '6300000', '320000', '23000000',\n",
              "       '76000000', '55000000', '26000000', 'Upsparks', '225000000',\n",
              "       '250000', '3800000', '17500000', '42000000', '8500000', '37000000',\n",
              "       '370000000', '16000000', 'undisclosed', '44000000', '770000',\n",
              "       '9000000', '1800000', '330000', '36000000', '67000000', '10200000',\n",
              "       '108000000', '450000', '660000000', 'ah! Ventures', '45000000',\n",
              "       '370000', 'Pre-series A', 'ITO Angel Network, LetsVenture',\n",
              "       '3600000', '192000000', '65000000', '1400000', '41000000',\n",
              "       '144000000', '5200000', '270000000', '140000', '350000000',\n",
              "       '4800000', '38000000', '125000', '64000000', '620000',\n",
              "       'JITO Angel Network, LetsVenture', '2600000', '9,50,00,000',\n",
              "       '30,00,000', '2,00,000', '20,00,000', '3,50,000', '1,50,00,000',\n",
              "       '4,00,000', '10,00,000', '50,00,000', '1,10,00,000', '15,00,000',\n",
              "       '3,00,00,000', '18,00,000', '6,00,000', '2,40,00,000', '80,00,000',\n",
              "       '60,00,000', '5,00,000', '5,00,00,000', '1,40,000', '3,00,000',\n",
              "       '8,00,000', '40,00,000', '1,65,00,000', '1,00,000', '3,40,000',\n",
              "       '4,30,00,000', '15,00,00,000', '7,50,00,000', '16,00,000',\n",
              "       '12,00,000', '12,00,00,000', '5,10,00,000', '18,80,00,000',\n",
              "       '7,00,000', '90,00,000', '4,00,00,000', '4,90,00,000',\n",
              "       '2,50,00,000', '16,00,00,000', '1,50,000', '8,50,000',\n",
              "       '5,30,00,000', '11,00,000', '1,00,00,000', '2,10,00,000',\n",
              "       '75,00,000', '2,60,00,000', '74,00,000', '80,00,00,000',\n",
              "       '1,70,00,000', '35,00,000', '21,50,00,000', '25,00,000',\n",
              "       '35,00,00,000', '55,00,000', '8,30,00,000', '11,00,00,000',\n",
              "       '50,00,00,000', '6,50,00,000', '1,50,00,00,00,000', '30,00,00,000',\n",
              "       '22,00,000', '3,50,00,000', '14,00,00,000', '1,30,00,000',\n",
              "       '13,00,000', '12,50,000', '40,00,00,000', '41,00,000', '17,00,000',\n",
              "       '2,70,00,000', '23,40,00,000', '46,00,00,000', '1,35,00,000',\n",
              "       '51,00,000', '19,50,00,000', '1,25,000', '4,50,00,000',\n",
              "       '20,00,00,000', '1,20,00,000', '26,00,000', '73,00,000',\n",
              "       '2,00,00,000', '63,00,000', '1,25,00,000', '10,00,00,000',\n",
              "       '38,00,000', '2,60,000', '1,00,00,00,000', '1,80,00,000',\n",
              "       '52,00,000', '14,00,000', '9,00,000', '2,50,000', '1,60,00,000',\n",
              "       '70,00,000', '1,43,00,000', '8,10,00,000', '82,00,000',\n",
              "       '28,00,00,000', '7,00,00,000', '7,20,000'], dtype=object)"
            ]
          },
          "metadata": {},
          "execution_count": 4
        }
      ],
      "source": [
        "startup['Amount(in dollars)'].unique()"
      ]
    },
    {
      "cell_type": "code",
      "execution_count": 5,
      "id": "61e69b1f",
      "metadata": {
        "execution": {
          "iopub.execute_input": "2022-01-01T08:42:20.144147Z",
          "iopub.status.busy": "2022-01-01T08:42:20.143476Z",
          "iopub.status.idle": "2022-01-01T08:42:20.145695Z",
          "shell.execute_reply": "2022-01-01T08:42:20.146243Z",
          "shell.execute_reply.started": "2022-01-01T08:10:34.502825Z"
        },
        "papermill": {
          "duration": 0.024705,
          "end_time": "2022-01-01T08:42:20.146429",
          "exception": false,
          "start_time": "2022-01-01T08:42:20.121724",
          "status": "completed"
        },
        "tags": [],
        "id": "61e69b1f"
      },
      "outputs": [],
      "source": [
        "startup.rename(columns={'Amount(in dollars)':'Amount'},inplace=True)"
      ]
    },
    {
      "cell_type": "code",
      "execution_count": 6,
      "id": "ab56d70b",
      "metadata": {
        "execution": {
          "iopub.execute_input": "2022-01-01T08:42:20.180618Z",
          "iopub.status.busy": "2022-01-01T08:42:20.180035Z",
          "iopub.status.idle": "2022-01-01T08:42:20.202087Z",
          "shell.execute_reply": "2022-01-01T08:42:20.202632Z",
          "shell.execute_reply.started": "2022-01-01T08:10:35.445750Z"
        },
        "papermill": {
          "duration": 0.040674,
          "end_time": "2022-01-01T08:42:20.202818",
          "exception": false,
          "start_time": "2022-01-01T08:42:20.162144",
          "status": "completed"
        },
        "tags": [],
        "id": "ab56d70b"
      },
      "outputs": [],
      "source": [
        "startup=startup[startup.Amount!='Undisclosed']\n",
        "startup=startup[startup.Amount!='undisclosed']\n",
        "startup=startup[startup.Amount!='Series C']\n",
        "startup=startup[startup.Amount!='LetsVenture']\n",
        "startup=startup[startup.Amount!='ITO Angel Network']\n",
        "startup=startup[startup.Amount!='JITO Angel Network']\n",
        "startup=startup[startup.Amount!='Pre-series A']\n",
        "startup=startup[startup.Amount!='Upsparks']\n",
        "startup=startup[startup.Amount!='Seed']\n",
        "startup=startup[startup.Amount!='nan']\n",
        "startup=startup[startup.Amount!='ah! Ventures']\n",
        "startup=startup[startup.Amount!='ITO Angel Network, LetsVenture']\n",
        "startup=startup[startup.Amount!='JITO Angel Network LetsVenture']\n",
        "startup=startup[startup.Amount!='JITO Angel Network, LetsVenture']"
      ]
    },
    {
      "cell_type": "code",
      "execution_count": 7,
      "id": "554f71c3",
      "metadata": {
        "execution": {
          "iopub.execute_input": "2022-01-01T08:42:20.244632Z",
          "iopub.status.busy": "2022-01-01T08:42:20.243966Z",
          "iopub.status.idle": "2022-01-01T08:42:20.246305Z",
          "shell.execute_reply": "2022-01-01T08:42:20.246782Z",
          "shell.execute_reply.started": "2022-01-01T08:25:23.164214Z"
        },
        "papermill": {
          "duration": 0.028463,
          "end_time": "2022-01-01T08:42:20.246953",
          "exception": false,
          "start_time": "2022-01-01T08:42:20.218490",
          "status": "completed"
        },
        "tags": [],
        "colab": {
          "base_uri": "https://localhost:8080/"
        },
        "id": "554f71c3",
        "outputId": "649154fa-9065-4b0e-af62-9f63c6a9f433"
      },
      "outputs": [
        {
          "output_type": "execute_result",
          "data": {
            "text/plain": [
              "0       35000000\n",
              "1       40000000\n",
              "2       40000000\n",
              "3       50000000\n",
              "4        4900000\n",
              "          ...   \n",
              "1189      100000\n",
              "1190      500000\n",
              "1191    70000000\n",
              "1192      720000\n",
              "1193     3000000\n",
              "Name: Amount, Length: 1049, dtype: int64"
            ]
          },
          "metadata": {},
          "execution_count": 7
        }
      ],
      "source": [
        "def conv(x):\n",
        "    if type(x)==str:\n",
        "        h=int(x.replace(',',''))\n",
        "#         print(type(h))\n",
        "        return h\n",
        "    elif type(x)!=float and x.isnull():\n",
        "        return 0\n",
        "    else:\n",
        "#         print(type(x))\n",
        "        return 0\n",
        "        \n",
        "    \n",
        "startup['Amount'].apply(lambda x: conv(x))\n",
        "# startup['Amount'].apply(lambda x: int(x))"
      ]
    },
    {
      "cell_type": "code",
      "execution_count": 8,
      "id": "0008191a",
      "metadata": {
        "execution": {
          "iopub.execute_input": "2022-01-01T08:42:20.280819Z",
          "iopub.status.busy": "2022-01-01T08:42:20.280233Z",
          "iopub.status.idle": "2022-01-01T08:42:20.286384Z",
          "shell.execute_reply": "2022-01-01T08:42:20.286894Z",
          "shell.execute_reply.started": "2022-01-01T08:36:58.788190Z"
        },
        "papermill": {
          "duration": 0.024587,
          "end_time": "2022-01-01T08:42:20.287046",
          "exception": false,
          "start_time": "2022-01-01T08:42:20.262459",
          "status": "completed"
        },
        "tags": [],
        "colab": {
          "base_uri": "https://localhost:8080/"
        },
        "id": "0008191a",
        "outputId": "86c7a3fd-f2ca-4dba-9fa9-2f354fbe59eb"
      },
      "outputs": [
        {
          "output_type": "execute_result",
          "data": {
            "text/plain": [
              "array(['35000000', '40000000', '50000000', '4900000', '145000000',\n",
              "       '22000000', '10000000', '13000000', '70000000', '100000000',\n",
              "       '6700000', '30000000', '7000000', '5000000', '6600000', '32000000',\n",
              "       '150000000', '24000000', '700000', '200000', '1500000', '1300000',\n",
              "       '1000000', '725000', '500000', '461000', '96000000', '4000000',\n",
              "       '60000000', '20000000', '500000000', '266000000', '4500000',\n",
              "       '1200000', '300000', '9500000', '325000000', '6500000', '1600000',\n",
              "       '400000', '225000', '85000000', '235000', '260000', '2900000',\n",
              "       '12000000', '53000000', '3500000', '3000000', '2000000', '3300000',\n",
              "       '150000', '92000000', '600000', '100000', '17000000', '2500000',\n",
              "       '135000000', '8000000', '15000000', '5500000', '6000000',\n",
              "       '1,55,000', '2100000', '25000000', '21000000', '840000000',\n",
              "       '248000000', '220000000', '4300000', '570000', '2200000',\n",
              "       '4700000', '300000000', '52000000', '28000000', '260000000',\n",
              "       '140000000', '175000000', '19000000', '200000000', '810000',\n",
              "       '7500000', '600000000', '125000000', '90000000', '250000000',\n",
              "       '11000000', '2300000', '5700000', '6750000', '75000000', '1100000',\n",
              "       '78000000', '3200000', '5400000', '115000000', '1900000',\n",
              "       '255000000', '18000000', '48000000', '570000000', '550000',\n",
              "       '2700000', '4200000', nan, '1700000', '450000000', '31000000',\n",
              "       '540000', '14000000', '340000', '900000', '6200000', '800000',\n",
              "       '750000', '6300000', '320000', '23000000', '76000000', '55000000',\n",
              "       '26000000', '225000000', '250000', '3800000', '17500000',\n",
              "       '42000000', '8500000', '37000000', '370000000', '16000000',\n",
              "       '44000000', '770000', '9000000', '1800000', '330000', '36000000',\n",
              "       '67000000', '10200000', '108000000', '450000', '660000000',\n",
              "       '45000000', '370000', '3600000', '192000000', '65000000',\n",
              "       '1400000', '41000000', '144000000', '5200000', '270000000',\n",
              "       '140000', '350000000', '4800000', '38000000', '125000', '64000000',\n",
              "       '620000', '2600000', '9,50,00,000', '30,00,000', '2,00,000',\n",
              "       '20,00,000', '3,50,000', '1,50,00,000', '4,00,000', '10,00,000',\n",
              "       '50,00,000', '1,10,00,000', '15,00,000', '3,00,00,000',\n",
              "       '18,00,000', '6,00,000', '2,40,00,000', '80,00,000', '60,00,000',\n",
              "       '5,00,000', '5,00,00,000', '1,40,000', '3,00,000', '8,00,000',\n",
              "       '40,00,000', '1,65,00,000', '1,00,000', '3,40,000', '4,30,00,000',\n",
              "       '15,00,00,000', '7,50,00,000', '16,00,000', '12,00,000',\n",
              "       '12,00,00,000', '5,10,00,000', '18,80,00,000', '7,00,000',\n",
              "       '90,00,000', '4,00,00,000', '4,90,00,000', '2,50,00,000',\n",
              "       '16,00,00,000', '1,50,000', '8,50,000', '5,30,00,000', '11,00,000',\n",
              "       '1,00,00,000', '2,10,00,000', '75,00,000', '2,60,00,000',\n",
              "       '74,00,000', '80,00,00,000', '1,70,00,000', '35,00,000',\n",
              "       '21,50,00,000', '25,00,000', '35,00,00,000', '55,00,000',\n",
              "       '8,30,00,000', '11,00,00,000', '50,00,00,000', '6,50,00,000',\n",
              "       '1,50,00,00,00,000', '30,00,00,000', '22,00,000', '3,50,00,000',\n",
              "       '14,00,00,000', '1,30,00,000', '13,00,000', '12,50,000',\n",
              "       '40,00,00,000', '41,00,000', '17,00,000', '2,70,00,000',\n",
              "       '23,40,00,000', '46,00,00,000', '1,35,00,000', '51,00,000',\n",
              "       '19,50,00,000', '1,25,000', '4,50,00,000', '20,00,00,000',\n",
              "       '1,20,00,000', '26,00,000', '73,00,000', '2,00,00,000',\n",
              "       '63,00,000', '1,25,00,000', '10,00,00,000', '38,00,000',\n",
              "       '2,60,000', '1,00,00,00,000', '1,80,00,000', '52,00,000',\n",
              "       '14,00,000', '9,00,000', '2,50,000', '1,60,00,000', '70,00,000',\n",
              "       '1,43,00,000', '8,10,00,000', '82,00,000', '28,00,00,000',\n",
              "       '7,00,00,000', '7,20,000'], dtype=object)"
            ]
          },
          "metadata": {},
          "execution_count": 8
        }
      ],
      "source": [
        "startup['Amount'].unique()"
      ]
    },
    {
      "cell_type": "code",
      "execution_count": 9,
      "id": "1d4f1811",
      "metadata": {
        "execution": {
          "iopub.execute_input": "2022-01-01T08:42:20.322039Z",
          "iopub.status.busy": "2022-01-01T08:42:20.321437Z",
          "iopub.status.idle": "2022-01-01T08:42:20.328578Z",
          "shell.execute_reply": "2022-01-01T08:42:20.329143Z",
          "shell.execute_reply.started": "2022-01-01T08:36:50.633919Z"
        },
        "papermill": {
          "duration": 0.026241,
          "end_time": "2022-01-01T08:42:20.329304",
          "exception": false,
          "start_time": "2022-01-01T08:42:20.303063",
          "status": "completed"
        },
        "tags": [],
        "colab": {
          "base_uri": "https://localhost:8080/"
        },
        "id": "1d4f1811",
        "outputId": "741af18c-2baa-49de-d4e3-96188925b5a0"
      },
      "outputs": [
        {
          "output_type": "execute_result",
          "data": {
            "text/plain": [
              "0       0\n",
              "1       0\n",
              "2       0\n",
              "3       0\n",
              "4       0\n",
              "       ..\n",
              "1189    0\n",
              "1190    0\n",
              "1191    0\n",
              "1192    0\n",
              "1193    0\n",
              "Name: Amount, Length: 1049, dtype: int64"
            ]
          },
          "metadata": {},
          "execution_count": 9
        }
      ],
      "source": [
        "startup['Amount'].apply(lambda x:0 if type(x)!=int else x)"
      ]
    },
    {
      "cell_type": "code",
      "execution_count": 10,
      "id": "3b435ec3",
      "metadata": {
        "execution": {
          "iopub.execute_input": "2022-01-01T08:42:20.383005Z",
          "iopub.status.busy": "2022-01-01T08:42:20.382353Z",
          "iopub.status.idle": "2022-01-01T08:42:20.386337Z",
          "shell.execute_reply": "2022-01-01T08:42:20.385692Z",
          "shell.execute_reply.started": "2022-01-01T08:37:03.498596Z"
        },
        "papermill": {
          "duration": 0.041005,
          "end_time": "2022-01-01T08:42:20.386472",
          "exception": false,
          "start_time": "2022-01-01T08:42:20.345467",
          "status": "completed"
        },
        "tags": [],
        "colab": {
          "base_uri": "https://localhost:8080/",
          "height": 624
        },
        "id": "3b435ec3",
        "outputId": "1ec65e40-fcf0-44b2-f46a-d172c291db7d"
      },
      "outputs": [
        {
          "output_type": "execute_result",
          "data": {
            "text/html": [
              "\n",
              "  <div id=\"df-3cb38f17-1d62-4bae-9553-1e41e69432e6\">\n",
              "    <div class=\"colab-df-container\">\n",
              "      <div>\n",
              "<style scoped>\n",
              "    .dataframe tbody tr th:only-of-type {\n",
              "        vertical-align: middle;\n",
              "    }\n",
              "\n",
              "    .dataframe tbody tr th {\n",
              "        vertical-align: top;\n",
              "    }\n",
              "\n",
              "    .dataframe thead th {\n",
              "        text-align: right;\n",
              "    }\n",
              "</style>\n",
              "<table border=\"1\" class=\"dataframe\">\n",
              "  <thead>\n",
              "    <tr style=\"text-align: right;\">\n",
              "      <th></th>\n",
              "      <th>Company/Brand</th>\n",
              "      <th>Founded</th>\n",
              "      <th>Headquarters</th>\n",
              "      <th>Sector</th>\n",
              "      <th>What it does</th>\n",
              "      <th>Founder/s</th>\n",
              "      <th>Investor/s</th>\n",
              "      <th>Amount</th>\n",
              "      <th>Stage</th>\n",
              "      <th>Month</th>\n",
              "    </tr>\n",
              "  </thead>\n",
              "  <tbody>\n",
              "    <tr>\n",
              "      <th>0</th>\n",
              "      <td>CollegeDekho</td>\n",
              "      <td>2015.0</td>\n",
              "      <td>Gurgaon</td>\n",
              "      <td>E-learning</td>\n",
              "      <td>Collegedekho.com is Student’s Partner, Friend ...</td>\n",
              "      <td>Ruchir Arora</td>\n",
              "      <td>Disrupt ADQ, QIC</td>\n",
              "      <td>35000000</td>\n",
              "      <td>Series B</td>\n",
              "      <td>12</td>\n",
              "    </tr>\n",
              "    <tr>\n",
              "      <th>1</th>\n",
              "      <td>BOX8</td>\n",
              "      <td>2012.0</td>\n",
              "      <td>Mumbai</td>\n",
              "      <td>Food &amp; Beverages</td>\n",
              "      <td>India's Largest Desi Meals Brand</td>\n",
              "      <td>Anshul Gupta, Amit Raj</td>\n",
              "      <td>Tiger Global</td>\n",
              "      <td>40000000</td>\n",
              "      <td>NaN</td>\n",
              "      <td>12</td>\n",
              "    </tr>\n",
              "    <tr>\n",
              "      <th>2</th>\n",
              "      <td>Simpl</td>\n",
              "      <td>2015.0</td>\n",
              "      <td>Bangalore</td>\n",
              "      <td>Consumer Services</td>\n",
              "      <td>Simpl empowers merchants to build trusted rela...</td>\n",
              "      <td>Nitya, Chaitra Chidanand</td>\n",
              "      <td>Valar Ventures, IA Ventures</td>\n",
              "      <td>40000000</td>\n",
              "      <td>Series B</td>\n",
              "      <td>12</td>\n",
              "    </tr>\n",
              "    <tr>\n",
              "      <th>3</th>\n",
              "      <td>8i Ventures</td>\n",
              "      <td>2018.0</td>\n",
              "      <td>Mumbai</td>\n",
              "      <td>Venture Capital &amp; Private Equity</td>\n",
              "      <td>8i is a Mumbai &amp; Bangalore based early stage f...</td>\n",
              "      <td>Vikram Chachra</td>\n",
              "      <td>NaN</td>\n",
              "      <td>50000000</td>\n",
              "      <td>NaN</td>\n",
              "      <td>12</td>\n",
              "    </tr>\n",
              "    <tr>\n",
              "      <th>4</th>\n",
              "      <td>PayGlocal</td>\n",
              "      <td>2021.0</td>\n",
              "      <td>Bangalore</td>\n",
              "      <td>Financial Services</td>\n",
              "      <td>PayGlocal is a FinTech solving for global paym...</td>\n",
              "      <td>Prachi Dharani, Rohit Sukhija, Yogesh Lokhande</td>\n",
              "      <td>Sequoia Capital India</td>\n",
              "      <td>4900000</td>\n",
              "      <td>Series A</td>\n",
              "      <td>12</td>\n",
              "    </tr>\n",
              "    <tr>\n",
              "      <th>...</th>\n",
              "      <td>...</td>\n",
              "      <td>...</td>\n",
              "      <td>...</td>\n",
              "      <td>...</td>\n",
              "      <td>...</td>\n",
              "      <td>...</td>\n",
              "      <td>...</td>\n",
              "      <td>...</td>\n",
              "      <td>...</td>\n",
              "      <td>...</td>\n",
              "    </tr>\n",
              "    <tr>\n",
              "      <th>1189</th>\n",
              "      <td>HobSpace</td>\n",
              "      <td>2019.0</td>\n",
              "      <td>Mumbai</td>\n",
              "      <td>EdTech</td>\n",
              "      <td>HobSpace is a platform for extra-curricular ac...</td>\n",
              "      <td>Priya Goel Sheth, Harsh Jain</td>\n",
              "      <td>Siddharth Bhaskar Shah, Upsparks</td>\n",
              "      <td>1,00,000</td>\n",
              "      <td>Pre-series A1</td>\n",
              "      <td>1</td>\n",
              "    </tr>\n",
              "    <tr>\n",
              "      <th>1190</th>\n",
              "      <td>DcodeAI</td>\n",
              "      <td>2020.0</td>\n",
              "      <td>New Delhi</td>\n",
              "      <td>EdTech</td>\n",
              "      <td>EMPOWER LEARNERS TO BE FUTURE READY USING AI</td>\n",
              "      <td>Kartik Sharma, Ashish Aggarwal</td>\n",
              "      <td>S Chand</td>\n",
              "      <td>5,00,000</td>\n",
              "      <td>NaN</td>\n",
              "      <td>1</td>\n",
              "    </tr>\n",
              "    <tr>\n",
              "      <th>1191</th>\n",
              "      <td>Biocon Biologics</td>\n",
              "      <td>1978.0</td>\n",
              "      <td>Bangalore</td>\n",
              "      <td>BioTechnology</td>\n",
              "      <td>Biocon is a fully integrated pure play biosimi...</td>\n",
              "      <td>Kiran Mazumdar-Shaw</td>\n",
              "      <td>Goldman Sachs, Tata Capital</td>\n",
              "      <td>7,00,00,000</td>\n",
              "      <td>NaN</td>\n",
              "      <td>1</td>\n",
              "    </tr>\n",
              "    <tr>\n",
              "      <th>1192</th>\n",
              "      <td>KiranaKart</td>\n",
              "      <td>2020.0</td>\n",
              "      <td>Mumbai</td>\n",
              "      <td>E-commerce</td>\n",
              "      <td>A better model for instant grocery delivery in...</td>\n",
              "      <td>Kaivalya Vohra, Aadit Palicha</td>\n",
              "      <td>Global Founders Capital</td>\n",
              "      <td>7,20,000</td>\n",
              "      <td>Pre-seed</td>\n",
              "      <td>1</td>\n",
              "    </tr>\n",
              "    <tr>\n",
              "      <th>1193</th>\n",
              "      <td>Meddo</td>\n",
              "      <td>2018.0</td>\n",
              "      <td>Gurgaon</td>\n",
              "      <td>Healthcare</td>\n",
              "      <td>Meddo is an end-to-end medical services provider</td>\n",
              "      <td>Saurabh Kochhar</td>\n",
              "      <td>growX ventures, Venture Gurukool</td>\n",
              "      <td>30,00,000</td>\n",
              "      <td>Pre-series A</td>\n",
              "      <td>1</td>\n",
              "    </tr>\n",
              "  </tbody>\n",
              "</table>\n",
              "<p>1049 rows × 10 columns</p>\n",
              "</div>\n",
              "      <button class=\"colab-df-convert\" onclick=\"convertToInteractive('df-3cb38f17-1d62-4bae-9553-1e41e69432e6')\"\n",
              "              title=\"Convert this dataframe to an interactive table.\"\n",
              "              style=\"display:none;\">\n",
              "        \n",
              "  <svg xmlns=\"http://www.w3.org/2000/svg\" height=\"24px\"viewBox=\"0 0 24 24\"\n",
              "       width=\"24px\">\n",
              "    <path d=\"M0 0h24v24H0V0z\" fill=\"none\"/>\n",
              "    <path d=\"M18.56 5.44l.94 2.06.94-2.06 2.06-.94-2.06-.94-.94-2.06-.94 2.06-2.06.94zm-11 1L8.5 8.5l.94-2.06 2.06-.94-2.06-.94L8.5 2.5l-.94 2.06-2.06.94zm10 10l.94 2.06.94-2.06 2.06-.94-2.06-.94-.94-2.06-.94 2.06-2.06.94z\"/><path d=\"M17.41 7.96l-1.37-1.37c-.4-.4-.92-.59-1.43-.59-.52 0-1.04.2-1.43.59L10.3 9.45l-7.72 7.72c-.78.78-.78 2.05 0 2.83L4 21.41c.39.39.9.59 1.41.59.51 0 1.02-.2 1.41-.59l7.78-7.78 2.81-2.81c.8-.78.8-2.07 0-2.86zM5.41 20L4 18.59l7.72-7.72 1.47 1.35L5.41 20z\"/>\n",
              "  </svg>\n",
              "      </button>\n",
              "      \n",
              "  <style>\n",
              "    .colab-df-container {\n",
              "      display:flex;\n",
              "      flex-wrap:wrap;\n",
              "      gap: 12px;\n",
              "    }\n",
              "\n",
              "    .colab-df-convert {\n",
              "      background-color: #E8F0FE;\n",
              "      border: none;\n",
              "      border-radius: 50%;\n",
              "      cursor: pointer;\n",
              "      display: none;\n",
              "      fill: #1967D2;\n",
              "      height: 32px;\n",
              "      padding: 0 0 0 0;\n",
              "      width: 32px;\n",
              "    }\n",
              "\n",
              "    .colab-df-convert:hover {\n",
              "      background-color: #E2EBFA;\n",
              "      box-shadow: 0px 1px 2px rgba(60, 64, 67, 0.3), 0px 1px 3px 1px rgba(60, 64, 67, 0.15);\n",
              "      fill: #174EA6;\n",
              "    }\n",
              "\n",
              "    [theme=dark] .colab-df-convert {\n",
              "      background-color: #3B4455;\n",
              "      fill: #D2E3FC;\n",
              "    }\n",
              "\n",
              "    [theme=dark] .colab-df-convert:hover {\n",
              "      background-color: #434B5C;\n",
              "      box-shadow: 0px 1px 3px 1px rgba(0, 0, 0, 0.15);\n",
              "      filter: drop-shadow(0px 1px 2px rgba(0, 0, 0, 0.3));\n",
              "      fill: #FFFFFF;\n",
              "    }\n",
              "  </style>\n",
              "\n",
              "      <script>\n",
              "        const buttonEl =\n",
              "          document.querySelector('#df-3cb38f17-1d62-4bae-9553-1e41e69432e6 button.colab-df-convert');\n",
              "        buttonEl.style.display =\n",
              "          google.colab.kernel.accessAllowed ? 'block' : 'none';\n",
              "\n",
              "        async function convertToInteractive(key) {\n",
              "          const element = document.querySelector('#df-3cb38f17-1d62-4bae-9553-1e41e69432e6');\n",
              "          const dataTable =\n",
              "            await google.colab.kernel.invokeFunction('convertToInteractive',\n",
              "                                                     [key], {});\n",
              "          if (!dataTable) return;\n",
              "\n",
              "          const docLinkHtml = 'Like what you see? Visit the ' +\n",
              "            '<a target=\"_blank\" href=https://colab.research.google.com/notebooks/data_table.ipynb>data table notebook</a>'\n",
              "            + ' to learn more about interactive tables.';\n",
              "          element.innerHTML = '';\n",
              "          dataTable['output_type'] = 'display_data';\n",
              "          await google.colab.output.renderOutput(dataTable, element);\n",
              "          const docLink = document.createElement('div');\n",
              "          docLink.innerHTML = docLinkHtml;\n",
              "          element.appendChild(docLink);\n",
              "        }\n",
              "      </script>\n",
              "    </div>\n",
              "  </div>\n",
              "  "
            ],
            "text/plain": [
              "         Company/Brand  Founded Headquarters  ...       Amount          Stage Month\n",
              "0         CollegeDekho   2015.0      Gurgaon  ...     35000000       Series B    12\n",
              "1                 BOX8   2012.0       Mumbai  ...     40000000            NaN    12\n",
              "2                Simpl   2015.0    Bangalore  ...     40000000       Series B    12\n",
              "3          8i Ventures   2018.0       Mumbai  ...     50000000            NaN    12\n",
              "4            PayGlocal   2021.0    Bangalore  ...      4900000       Series A    12\n",
              "...                ...      ...          ...  ...          ...            ...   ...\n",
              "1189          HobSpace   2019.0       Mumbai  ...     1,00,000  Pre-series A1     1\n",
              "1190           DcodeAI   2020.0    New Delhi  ...     5,00,000            NaN     1\n",
              "1191  Biocon Biologics   1978.0    Bangalore  ...  7,00,00,000            NaN     1\n",
              "1192        KiranaKart   2020.0       Mumbai  ...     7,20,000       Pre-seed     1\n",
              "1193             Meddo   2018.0      Gurgaon  ...    30,00,000   Pre-series A     1\n",
              "\n",
              "[1049 rows x 10 columns]"
            ]
          },
          "metadata": {},
          "execution_count": 10
        }
      ],
      "source": [
        "# startup['Amount'].unique()\n",
        "startup"
      ]
    },
    {
      "cell_type": "markdown",
      "id": "2cc30b84",
      "metadata": {
        "papermill": {
          "duration": 0.016859,
          "end_time": "2022-01-01T08:42:20.420812",
          "exception": false,
          "start_time": "2022-01-01T08:42:20.403953",
          "status": "completed"
        },
        "tags": [],
        "id": "2cc30b84"
      },
      "source": [
        "### Data Representation"
      ]
    },
    {
      "cell_type": "code",
      "execution_count": 29,
      "id": "263f6e9e",
      "metadata": {
        "execution": {
          "iopub.execute_input": "2022-01-01T08:42:20.460473Z",
          "iopub.status.busy": "2022-01-01T08:42:20.459882Z",
          "iopub.status.idle": "2022-01-01T08:42:20.468752Z",
          "shell.execute_reply": "2022-01-01T08:42:20.469354Z",
          "shell.execute_reply.started": "2022-01-01T08:39:25.433484Z"
        },
        "papermill": {
          "duration": 0.031449,
          "end_time": "2022-01-01T08:42:20.469511",
          "exception": false,
          "start_time": "2022-01-01T08:42:20.438062",
          "status": "completed"
        },
        "tags": [],
        "colab": {
          "base_uri": "https://localhost:8080/"
        },
        "id": "263f6e9e",
        "outputId": "516fe7ba-9366-4c16-ba93-3e28c8b57bfd"
      },
      "outputs": [
        {
          "output_type": "execute_result",
          "data": {
            "text/plain": [
              "Sector\n",
              "FinTech                              108\n",
              "EdTech                                82\n",
              "Financial Services                    56\n",
              "Information Technology & Services     35\n",
              "E-commerce                            34\n",
              "Automotive                            29\n",
              "Food & Beverages                      27\n",
              "Healthcare                            27\n",
              "E-learning                            23\n",
              "Consumer Goods                        22\n",
              "Name: Amount, dtype: int64"
            ]
          },
          "metadata": {},
          "execution_count": 29
        }
      ],
      "source": [
        "sc = startup.groupby(['Sector'])['Amount'].count().nlargest(10)\n",
        "sc"
      ]
    },
    {
      "cell_type": "code",
      "execution_count": 17,
      "id": "d99cfd0d",
      "metadata": {
        "execution": {
          "iopub.execute_input": "2022-01-01T08:42:20.512022Z",
          "iopub.status.busy": "2022-01-01T08:42:20.506312Z",
          "iopub.status.idle": "2022-01-01T08:42:20.515313Z",
          "shell.execute_reply": "2022-01-01T08:42:20.515743Z",
          "shell.execute_reply.started": "2022-01-01T08:41:06.651927Z"
        },
        "papermill": {
          "duration": 0.029191,
          "end_time": "2022-01-01T08:42:20.515917",
          "exception": false,
          "start_time": "2022-01-01T08:42:20.486726",
          "status": "completed"
        },
        "tags": [],
        "colab": {
          "base_uri": "https://localhost:8080/"
        },
        "id": "d99cfd0d",
        "outputId": "cc63fde5-1d88-44f8-8ab4-fdf58daba0b6"
      },
      "outputs": [
        {
          "output_type": "execute_result",
          "data": {
            "text/plain": [
              "Headquarters\n",
              "Bangalore    378\n",
              "Mumbai       171\n",
              "Gurugram     136\n",
              "New Delhi    122\n",
              "Pune          39\n",
              "Name: Amount, dtype: int64"
            ]
          },
          "metadata": {},
          "execution_count": 17
        }
      ],
      "source": [
        "hq = startup.groupby(['Headquarters'])['Amount'].count().nlargest(5)\n",
        "hq"
      ]
    },
    {
      "cell_type": "code",
      "execution_count": 13,
      "id": "2c1ac1d3",
      "metadata": {
        "execution": {
          "iopub.execute_input": "2022-01-01T08:42:20.555039Z",
          "iopub.status.busy": "2022-01-01T08:42:20.554077Z",
          "iopub.status.idle": "2022-01-01T08:42:20.564005Z",
          "shell.execute_reply": "2022-01-01T08:42:20.564445Z",
          "shell.execute_reply.started": "2022-01-01T08:41:34.632493Z"
        },
        "papermill": {
          "duration": 0.031063,
          "end_time": "2022-01-01T08:42:20.564604",
          "exception": false,
          "start_time": "2022-01-01T08:42:20.533541",
          "status": "completed"
        },
        "tags": [],
        "colab": {
          "base_uri": "https://localhost:8080/"
        },
        "id": "2c1ac1d3",
        "outputId": "399e0a5d-4088-4d19-eb68-2251928568f9"
      },
      "outputs": [
        {
          "output_type": "execute_result",
          "data": {
            "text/plain": [
              "Founded\n",
              "2020.0    196\n",
              "2019.0    143\n",
              "2018.0    127\n",
              "2015.0    117\n",
              "2016.0    103\n",
              "Name: Amount, dtype: int64"
            ]
          },
          "metadata": {},
          "execution_count": 13
        }
      ],
      "source": [
        "startup.groupby(['Founded'])['Amount'].count().nlargest(5)"
      ]
    },
    {
      "cell_type": "code",
      "source": [
        "hq = hq.to_numpy()\n",
        "hq"
      ],
      "metadata": {
        "colab": {
          "base_uri": "https://localhost:8080/"
        },
        "id": "RqFnqRh3twie",
        "outputId": "fdf44737-ee2e-4ebc-8e95-67e904a132a6"
      },
      "id": "RqFnqRh3twie",
      "execution_count": 18,
      "outputs": [
        {
          "output_type": "execute_result",
          "data": {
            "text/plain": [
              "array([378, 171, 136, 122,  39])"
            ]
          },
          "metadata": {},
          "execution_count": 18
        }
      ]
    },
    {
      "cell_type": "code",
      "execution_count": 26,
      "id": "197a66e2",
      "metadata": {
        "papermill": {
          "duration": 0.017839,
          "end_time": "2022-01-01T08:42:20.600554",
          "exception": false,
          "start_time": "2022-01-01T08:42:20.582715",
          "status": "completed"
        },
        "tags": [],
        "colab": {
          "base_uri": "https://localhost:8080/",
          "height": 466
        },
        "id": "197a66e2",
        "outputId": "3e45d6f2-bf7d-46ea-9eff-2dc3bcd0eebd"
      },
      "outputs": [
        {
          "output_type": "display_data",
          "data": {
            "image/png": "[encoded data removed]",
            "text/plain": [
              "<Figure size 720x576 with 1 Axes>"
            ]
          },
          "metadata": {}
        }
      ],
      "source": [
        "headquarters = hq\n",
        "mylabels = [\"Bangalore\", \"Mumbai\", \"Gurugram\", \"New Delhi\",\"Pune\"]\n",
        "myexplode = [0.1, 0, 0, 0, 0.1]\n",
        "plt.figure(figsize=(10,8))\n",
        "plt.pie(headquarters, labels = mylabels, explode = myexplode, shadow = True)\n",
        "plt.show() "
      ]
    },
    {
      "cell_type": "code",
      "source": [
        "sc = sc.to_numpy()\n",
        "sc"
      ],
      "metadata": {
        "colab": {
          "base_uri": "https://localhost:8080/"
        },
        "id": "8EqfS9c7uhYd",
        "outputId": "eb14585c-b350-4cbe-e810-307b3874f938"
      },
      "id": "8EqfS9c7uhYd",
      "execution_count": 30,
      "outputs": [
        {
          "output_type": "execute_result",
          "data": {
            "text/plain": [
              "array([108,  82,  56,  35,  34,  29,  27,  27,  23,  22])"
            ]
          },
          "metadata": {},
          "execution_count": 30
        }
      ]
    },
    {
      "cell_type": "code",
      "source": [
        "sectors = sc\n",
        "mylabels = [\"Fintech\", \"Edtech\", \"Financial Services\", \"IT Services\",\"E-Commerce\",\"Automotive\",\"Food\",\"Healthcare\",\"E-learning\",\"Consumer Goods\"]\n",
        "myexplode = [0.1, 0, 0, 0, 0.1, 0, 0, 0, 0.2, 0]\n",
        "plt.figure(figsize=(10,8))\n",
        "plt.pie(sectors, labels = mylabels, explode = myexplode, shadow = True)\n",
        "plt.show() "
      ],
      "metadata": {
        "colab": {
          "base_uri": "https://localhost:8080/",
          "height": 466
        },
        "id": "N64srCTLvSMf",
        "outputId": "ae272194-65e3-48c9-f0fb-bc45bae62b04"
      },
      "id": "N64srCTLvSMf",
      "execution_count": 31,
      "outputs": [
        {
          "output_type": "display_data",
          "data": {
            "image/png": "[encoded data removed]",
            "text/plain": [
              "<Figure size 720x576 with 1 Axes>"
            ]
          },
          "metadata": {}
        }
      ]
    },
    {
      "cell_type": "code",
      "source": [
        "print(startup[startup.Founded == 2021.0])\n"
      ],
      "metadata": {
        "colab": {
          "base_uri": "https://localhost:8080/"
        },
        "id": "Cd8tqvYXvtoJ",
        "outputId": "ba804939-b5f7-49de-d15b-ebbdbc3082d1"
      },
      "id": "Cd8tqvYXvtoJ",
      "execution_count": 38,
      "outputs": [
        {
          "output_type": "stream",
          "name": "stdout",
          "text": [
            "     Company/Brand  Founded Headquarters  ...       Amount     Stage Month\n",
            "4        PayGlocal   2021.0    Bangalore  ...      4900000  Series A    12\n",
            "17        Trinkerr   2021.0    Bangalore  ...      6600000  Series A    12\n",
            "18           Zorro   2021.0     Gurugram  ...     32000000      Seed    12\n",
            "19   Ultraviolette   2021.0    Bangalore  ...    150000000  Series C    12\n",
            "23      PingoLearn   2021.0         Pune  ...       200000       NaN    12\n",
            "..             ...      ...          ...  ...          ...       ...   ...\n",
            "845   Mensa Brands   2021.0    Bangalore  ...  5,00,00,000  Series A     5\n",
            "846     Disruptium   2021.0    Ahmadabad  ...     2,00,000       NaN     5\n",
            "875       FypMoney   2021.0     Gurugram  ...    20,00,000      Seed     4\n",
            "901   Jambox Games   2021.0    Bangalore  ...    11,00,000      Seed     4\n",
            "916        moEVing   2021.0     Gurugram  ...    10,00,000      Seed     4\n",
            "\n",
            "[64 rows x 10 columns]\n"
          ]
        }
      ]
    },
    {
      "cell_type": "code",
      "source": [
        ""
      ],
      "metadata": {
        "id": "v5jfRAR6wRFR"
      },
      "id": "v5jfRAR6wRFR",
      "execution_count": null,
      "outputs": []
    }
  ],
  "metadata": {
    "kernelspec": {
      "display_name": "Python 3",
      "language": "python",
      "name": "python3"
    },
    "language_info": {
      "codemirror_mode": {
        "name": "ipython",
        "version": 3
      },
      "file_extension": ".py",
      "mimetype": "text/x-python",
      "name": "python",
      "nbconvert_exporter": "python",
      "pygments_lexer": "ipython3",
      "version": "3.7.12"
    },
    "papermill": {
      "default_parameters": {},
      "duration": 11.028789,
      "end_time": "2022-01-01T08:42:21.228826",
      "environment_variables": {},
      "exception": null,
      "input_path": "__notebook__.ipynb",
      "output_path": "__notebook__.ipynb",
      "parameters": {},
      "start_time": "2022-01-01T08:42:10.200037",
      "version": "2.3.3"
    },
    "colab": {
      "name": "Indian Startups",
      "provenance": [],
      "include_colab_link": true
    }
  },
  "nbformat": 4,
  "nbformat_minor": 5
}