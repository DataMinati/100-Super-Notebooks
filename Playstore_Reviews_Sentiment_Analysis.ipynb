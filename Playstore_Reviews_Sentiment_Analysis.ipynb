{
  "cells": [
    {
      "cell_type": "markdown",
      "metadata": {
        "id": "view-in-github",
        "colab_type": "text"
      },
      "source": [
        "<a href=\"https://colab.research.google.com/github/DataMinati/Super-Notebooks-100/blob/main/Playstore_Reviews_Sentiment_Analysis.ipynb\" target=\"_parent\"><img src=\"https://colab.research.google.com/assets/colab-badge.svg\" alt=\"Open In Colab\"/></a>"
      ]
    },
    {
      "cell_type": "code",
      "execution_count": 5,
      "id": "6cd46490",
      "metadata": {
        "_kg_hide-input": true,
        "execution": {
          "iopub.execute_input": "2021-11-16T08:08:44.654187Z",
          "iopub.status.busy": "2021-11-16T08:08:44.653282Z",
          "iopub.status.idle": "2021-11-16T08:08:44.657140Z",
          "shell.execute_reply": "2021-11-16T08:08:44.656401Z",
          "shell.execute_reply.started": "2021-11-16T08:03:42.148292Z"
        },
        "id": "6cd46490",
        "papermill": {
          "duration": 0.061565,
          "end_time": "2021-11-16T08:08:44.657307",
          "exception": false,
          "start_time": "2021-11-16T08:08:44.595742",
          "status": "completed"
        },
        "tags": []
      },
      "outputs": [],
      "source": [
        "import warnings\n",
        "warnings.filterwarnings(\"ignore\");"
      ]
    },
    {
      "cell_type": "code",
      "execution_count": 6,
      "id": "2017b9ab",
      "metadata": {
        "execution": {
          "iopub.execute_input": "2021-11-16T08:08:44.751323Z",
          "iopub.status.busy": "2021-11-16T08:08:44.750330Z",
          "iopub.status.idle": "2021-11-16T08:08:44.754049Z",
          "shell.execute_reply": "2021-11-16T08:08:44.754676Z",
          "shell.execute_reply.started": "2021-11-16T08:03:42.163829Z"
        },
        "id": "2017b9ab",
        "papermill": {
          "duration": 0.052232,
          "end_time": "2021-11-16T08:08:44.754853",
          "exception": false,
          "start_time": "2021-11-16T08:08:44.702621",
          "status": "completed"
        },
        "tags": []
      },
      "outputs": [],
      "source": [
        "import pandas as pd\n",
        "import numpy as np"
      ]
    },
    {
      "cell_type": "code",
      "execution_count": 7,
      "id": "bb5e3120",
      "metadata": {
        "execution": {
          "iopub.execute_input": "2021-11-16T08:08:44.848507Z",
          "iopub.status.busy": "2021-11-16T08:08:44.847541Z",
          "iopub.status.idle": "2021-11-16T08:08:45.107867Z",
          "shell.execute_reply": "2021-11-16T08:08:45.107348Z",
          "shell.execute_reply.started": "2021-11-16T08:03:42.172351Z"
        },
        "id": "bb5e3120",
        "outputId": "a4d209fe-53f6-45f3-bf1a-9554a9f58eff",
        "papermill": {
          "duration": 0.308176,
          "end_time": "2021-11-16T08:08:45.108039",
          "exception": false,
          "start_time": "2021-11-16T08:08:44.799863",
          "status": "completed"
        },
        "tags": [],
        "colab": {
          "base_uri": "https://localhost:8080/",
          "height": 634
        }
      },
      "outputs": [
        {
          "output_type": "execute_result",
          "data": {
            "text/html": [
              "\n",
              "  <div id=\"df-cb0e8f4a-4e93-4223-bd58-58f4d59879df\">\n",
              "    <div class=\"colab-df-container\">\n",
              "      <div>\n",
              "<style scoped>\n",
              "    .dataframe tbody tr th:only-of-type {\n",
              "        vertical-align: middle;\n",
              "    }\n",
              "\n",
              "    .dataframe tbody tr th {\n",
              "        vertical-align: top;\n",
              "    }\n",
              "\n",
              "    .dataframe thead th {\n",
              "        text-align: right;\n",
              "    }\n",
              "</style>\n",
              "<table border=\"1\" class=\"dataframe\">\n",
              "  <thead>\n",
              "    <tr style=\"text-align: right;\">\n",
              "      <th></th>\n",
              "      <th>reviewId</th>\n",
              "      <th>userName</th>\n",
              "      <th>userImage</th>\n",
              "      <th>content</th>\n",
              "      <th>score</th>\n",
              "      <th>thumbsUpCount</th>\n",
              "      <th>reviewCreatedVersion</th>\n",
              "      <th>at</th>\n",
              "      <th>replyContent</th>\n",
              "      <th>repliedAt</th>\n",
              "      <th>sortOrder</th>\n",
              "      <th>appId</th>\n",
              "    </tr>\n",
              "  </thead>\n",
              "  <tbody>\n",
              "    <tr>\n",
              "      <th>0</th>\n",
              "      <td>gp:AOqpTOEhZuqSqqWnaKRgv-9ABYdajFUB0WugPGh-SG-...</td>\n",
              "      <td>Eric Tie</td>\n",
              "      <td>https://play-lh.googleusercontent.com/a-/AOh14...</td>\n",
              "      <td>I cannot open the app anymore</td>\n",
              "      <td>1</td>\n",
              "      <td>0</td>\n",
              "      <td>5.4.0.6</td>\n",
              "      <td>2020-10-27 21:24:41</td>\n",
              "      <td>NaN</td>\n",
              "      <td>NaN</td>\n",
              "      <td>newest</td>\n",
              "      <td>com.anydo</td>\n",
              "    </tr>\n",
              "    <tr>\n",
              "      <th>1</th>\n",
              "      <td>gp:AOqpTOH0WP4IQKBZ2LrdNmFy_YmpPCVrV3diEU9KGm3...</td>\n",
              "      <td>john alpha</td>\n",
              "      <td>https://play-lh.googleusercontent.com/a-/AOh14...</td>\n",
              "      <td>I have been begging for a refund from this app...</td>\n",
              "      <td>1</td>\n",
              "      <td>0</td>\n",
              "      <td>NaN</td>\n",
              "      <td>2020-10-27 14:03:28</td>\n",
              "      <td>Please note that from checking our records, yo...</td>\n",
              "      <td>2020-10-27 15:05:52</td>\n",
              "      <td>newest</td>\n",
              "      <td>com.anydo</td>\n",
              "    </tr>\n",
              "    <tr>\n",
              "      <th>2</th>\n",
              "      <td>gp:AOqpTOEMCkJB8Iq1p-r9dPwnSYadA5BkPWTf32Z1azu...</td>\n",
              "      <td>Sudhakar .S</td>\n",
              "      <td>https://play-lh.googleusercontent.com/a-/AOh14...</td>\n",
              "      <td>Very costly for the premium version (approx In...</td>\n",
              "      <td>1</td>\n",
              "      <td>0</td>\n",
              "      <td>NaN</td>\n",
              "      <td>2020-10-27 08:18:40</td>\n",
              "      <td>NaN</td>\n",
              "      <td>NaN</td>\n",
              "      <td>newest</td>\n",
              "      <td>com.anydo</td>\n",
              "    </tr>\n",
              "    <tr>\n",
              "      <th>3</th>\n",
              "      <td>gp:AOqpTOGFrUWuKGycpje8kszj3uwHN6tU_fd4gLVFy9z...</td>\n",
              "      <td>SKGflorida@bellsouth.net DAVID S</td>\n",
              "      <td>https://play-lh.googleusercontent.com/-75aK0WF...</td>\n",
              "      <td>Used to keep me organized, but all the 2020 UP...</td>\n",
              "      <td>1</td>\n",
              "      <td>0</td>\n",
              "      <td>NaN</td>\n",
              "      <td>2020-10-26 13:28:07</td>\n",
              "      <td>What do you find troublesome about the update?...</td>\n",
              "      <td>2020-10-26 14:58:29</td>\n",
              "      <td>newest</td>\n",
              "      <td>com.anydo</td>\n",
              "    </tr>\n",
              "    <tr>\n",
              "      <th>4</th>\n",
              "      <td>gp:AOqpTOHls7DW8wmDFzTkHwxuqFkdNQtKHmO6Pt9jhZE...</td>\n",
              "      <td>Louann Stoker</td>\n",
              "      <td>https://play-lh.googleusercontent.com/-pBcY_Z-...</td>\n",
              "      <td>Dan Birthday Oct 28</td>\n",
              "      <td>1</td>\n",
              "      <td>0</td>\n",
              "      <td>5.6.0.7</td>\n",
              "      <td>2020-10-26 06:10:50</td>\n",
              "      <td>NaN</td>\n",
              "      <td>NaN</td>\n",
              "      <td>newest</td>\n",
              "      <td>com.anydo</td>\n",
              "    </tr>\n",
              "  </tbody>\n",
              "</table>\n",
              "</div>\n",
              "      <button class=\"colab-df-convert\" onclick=\"convertToInteractive('df-cb0e8f4a-4e93-4223-bd58-58f4d59879df')\"\n",
              "              title=\"Convert this dataframe to an interactive table.\"\n",
              "              style=\"display:none;\">\n",
              "        \n",
              "  <svg xmlns=\"http://www.w3.org/2000/svg\" height=\"24px\"viewBox=\"0 0 24 24\"\n",
              "       width=\"24px\">\n",
              "    <path d=\"M0 0h24v24H0V0z\" fill=\"none\"/>\n",
              "    <path d=\"M18.56 5.44l.94 2.06.94-2.06 2.06-.94-2.06-.94-.94-2.06-.94 2.06-2.06.94zm-11 1L8.5 8.5l.94-2.06 2.06-.94-2.06-.94L8.5 2.5l-.94 2.06-2.06.94zm10 10l.94 2.06.94-2.06 2.06-.94-2.06-.94-.94-2.06-.94 2.06-2.06.94z\"/><path d=\"M17.41 7.96l-1.37-1.37c-.4-.4-.92-.59-1.43-.59-.52 0-1.04.2-1.43.59L10.3 9.45l-7.72 7.72c-.78.78-.78 2.05 0 2.83L4 21.41c.39.39.9.59 1.41.59.51 0 1.02-.2 1.41-.59l7.78-7.78 2.81-2.81c.8-.78.8-2.07 0-2.86zM5.41 20L4 18.59l7.72-7.72 1.47 1.35L5.41 20z\"/>\n",
              "  </svg>\n",
              "      </button>\n",
              "      \n",
              "  <style>\n",
              "    .colab-df-container {\n",
              "      display:flex;\n",
              "      flex-wrap:wrap;\n",
              "      gap: 12px;\n",
              "    }\n",
              "\n",
              "    .colab-df-convert {\n",
              "      background-color: #E8F0FE;\n",
              "      border: none;\n",
              "      border-radius: 50%;\n",
              "      cursor: pointer;\n",
              "      display: none;\n",
              "      fill: #1967D2;\n",
              "      height: 32px;\n",
              "      padding: 0 0 0 0;\n",
              "      width: 32px;\n",
              "    }\n",
              "\n",
              "    .colab-df-convert:hover {\n",
              "      background-color: #E2EBFA;\n",
              "      box-shadow: 0px 1px 2px rgba(60, 64, 67, 0.3), 0px 1px 3px 1px rgba(60, 64, 67, 0.15);\n",
              "      fill: #174EA6;\n",
              "    }\n",
              "\n",
              "    [theme=dark] .colab-df-convert {\n",
              "      background-color: #3B4455;\n",
              "      fill: #D2E3FC;\n",
              "    }\n",
              "\n",
              "    [theme=dark] .colab-df-convert:hover {\n",
              "      background-color: #434B5C;\n",
              "      box-shadow: 0px 1px 3px 1px rgba(0, 0, 0, 0.15);\n",
              "      filter: drop-shadow(0px 1px 2px rgba(0, 0, 0, 0.3));\n",
              "      fill: #FFFFFF;\n",
              "    }\n",
              "  </style>\n",
              "\n",
              "      <script>\n",
              "        const buttonEl =\n",
              "          document.querySelector('#df-cb0e8f4a-4e93-4223-bd58-58f4d59879df button.colab-df-convert');\n",
              "        buttonEl.style.display =\n",
              "          google.colab.kernel.accessAllowed ? 'block' : 'none';\n",
              "\n",
              "        async function convertToInteractive(key) {\n",
              "          const element = document.querySelector('#df-cb0e8f4a-4e93-4223-bd58-58f4d59879df');\n",
              "          const dataTable =\n",
              "            await google.colab.kernel.invokeFunction('convertToInteractive',\n",
              "                                                     [key], {});\n",
              "          if (!dataTable) return;\n",
              "\n",
              "          const docLinkHtml = 'Like what you see? Visit the ' +\n",
              "            '<a target=\"_blank\" href=https://colab.research.google.com/notebooks/data_table.ipynb>data table notebook</a>'\n",
              "            + ' to learn more about interactive tables.';\n",
              "          element.innerHTML = '';\n",
              "          dataTable['output_type'] = 'display_data';\n",
              "          await google.colab.output.renderOutput(dataTable, element);\n",
              "          const docLink = document.createElement('div');\n",
              "          docLink.innerHTML = docLinkHtml;\n",
              "          element.appendChild(docLink);\n",
              "        }\n",
              "      </script>\n",
              "    </div>\n",
              "  </div>\n",
              "  "
            ],
            "text/plain": [
              "                                            reviewId  ...      appId\n",
              "0  gp:AOqpTOEhZuqSqqWnaKRgv-9ABYdajFUB0WugPGh-SG-...  ...  com.anydo\n",
              "1  gp:AOqpTOH0WP4IQKBZ2LrdNmFy_YmpPCVrV3diEU9KGm3...  ...  com.anydo\n",
              "2  gp:AOqpTOEMCkJB8Iq1p-r9dPwnSYadA5BkPWTf32Z1azu...  ...  com.anydo\n",
              "3  gp:AOqpTOGFrUWuKGycpje8kszj3uwHN6tU_fd4gLVFy9z...  ...  com.anydo\n",
              "4  gp:AOqpTOHls7DW8wmDFzTkHwxuqFkdNQtKHmO6Pt9jhZE...  ...  com.anydo\n",
              "\n",
              "[5 rows x 12 columns]"
            ]
          },
          "metadata": {},
          "execution_count": 7
        }
      ],
      "source": [
        "PS_reviews_data = pd.read_csv('https://raw.githubusercontent.com/MainakRepositor/Datasets-/master/playstore_sentiments.csv')\n",
        "PS_reviews_data.head()"
      ]
    },
    {
      "cell_type": "markdown",
      "id": "3a9b31e0",
      "metadata": {
        "id": "3a9b31e0",
        "papermill": {
          "duration": 0.045339,
          "end_time": "2021-11-16T08:08:45.199462",
          "exception": false,
          "start_time": "2021-11-16T08:08:45.154123",
          "status": "completed"
        },
        "tags": []
      },
      "source": [
        "Before data pre-processing we will drop columns that are not required."
      ]
    },
    {
      "cell_type": "code",
      "execution_count": 8,
      "id": "64e6053c",
      "metadata": {
        "execution": {
          "iopub.execute_input": "2021-11-16T08:08:45.353045Z",
          "iopub.status.busy": "2021-11-16T08:08:45.352084Z",
          "iopub.status.idle": "2021-11-16T08:08:45.368483Z",
          "shell.execute_reply": "2021-11-16T08:08:45.369008Z",
          "shell.execute_reply.started": "2021-11-16T08:03:42.376334Z"
        },
        "id": "64e6053c",
        "outputId": "fc67d28a-c17d-4303-cd88-e3295f189780",
        "papermill": {
          "duration": 0.123772,
          "end_time": "2021-11-16T08:08:45.369183",
          "exception": false,
          "start_time": "2021-11-16T08:08:45.245411",
          "status": "completed"
        },
        "tags": [],
        "colab": {
          "base_uri": "https://localhost:8080/",
          "height": 206
        }
      },
      "outputs": [
        {
          "output_type": "execute_result",
          "data": {
            "text/html": [
              "\n",
              "  <div id=\"df-137cb657-652d-43f9-95ab-3fde50c7b6a2\">\n",
              "    <div class=\"colab-df-container\">\n",
              "      <div>\n",
              "<style scoped>\n",
              "    .dataframe tbody tr th:only-of-type {\n",
              "        vertical-align: middle;\n",
              "    }\n",
              "\n",
              "    .dataframe tbody tr th {\n",
              "        vertical-align: top;\n",
              "    }\n",
              "\n",
              "    .dataframe thead th {\n",
              "        text-align: right;\n",
              "    }\n",
              "</style>\n",
              "<table border=\"1\" class=\"dataframe\">\n",
              "  <thead>\n",
              "    <tr style=\"text-align: right;\">\n",
              "      <th></th>\n",
              "      <th>content</th>\n",
              "      <th>score</th>\n",
              "    </tr>\n",
              "  </thead>\n",
              "  <tbody>\n",
              "    <tr>\n",
              "      <th>0</th>\n",
              "      <td>I cannot open the app anymore</td>\n",
              "      <td>1</td>\n",
              "    </tr>\n",
              "    <tr>\n",
              "      <th>1</th>\n",
              "      <td>I have been begging for a refund from this app...</td>\n",
              "      <td>1</td>\n",
              "    </tr>\n",
              "    <tr>\n",
              "      <th>2</th>\n",
              "      <td>Very costly for the premium version (approx In...</td>\n",
              "      <td>1</td>\n",
              "    </tr>\n",
              "    <tr>\n",
              "      <th>3</th>\n",
              "      <td>Used to keep me organized, but all the 2020 UP...</td>\n",
              "      <td>1</td>\n",
              "    </tr>\n",
              "    <tr>\n",
              "      <th>4</th>\n",
              "      <td>Dan Birthday Oct 28</td>\n",
              "      <td>1</td>\n",
              "    </tr>\n",
              "  </tbody>\n",
              "</table>\n",
              "</div>\n",
              "      <button class=\"colab-df-convert\" onclick=\"convertToInteractive('df-137cb657-652d-43f9-95ab-3fde50c7b6a2')\"\n",
              "              title=\"Convert this dataframe to an interactive table.\"\n",
              "              style=\"display:none;\">\n",
              "        \n",
              "  <svg xmlns=\"http://www.w3.org/2000/svg\" height=\"24px\"viewBox=\"0 0 24 24\"\n",
              "       width=\"24px\">\n",
              "    <path d=\"M0 0h24v24H0V0z\" fill=\"none\"/>\n",
              "    <path d=\"M18.56 5.44l.94 2.06.94-2.06 2.06-.94-2.06-.94-.94-2.06-.94 2.06-2.06.94zm-11 1L8.5 8.5l.94-2.06 2.06-.94-2.06-.94L8.5 2.5l-.94 2.06-2.06.94zm10 10l.94 2.06.94-2.06 2.06-.94-2.06-.94-.94-2.06-.94 2.06-2.06.94z\"/><path d=\"M17.41 7.96l-1.37-1.37c-.4-.4-.92-.59-1.43-.59-.52 0-1.04.2-1.43.59L10.3 9.45l-7.72 7.72c-.78.78-.78 2.05 0 2.83L4 21.41c.39.39.9.59 1.41.59.51 0 1.02-.2 1.41-.59l7.78-7.78 2.81-2.81c.8-.78.8-2.07 0-2.86zM5.41 20L4 18.59l7.72-7.72 1.47 1.35L5.41 20z\"/>\n",
              "  </svg>\n",
              "      </button>\n",
              "      \n",
              "  <style>\n",
              "    .colab-df-container {\n",
              "      display:flex;\n",
              "      flex-wrap:wrap;\n",
              "      gap: 12px;\n",
              "    }\n",
              "\n",
              "    .colab-df-convert {\n",
              "      background-color: #E8F0FE;\n",
              "      border: none;\n",
              "      border-radius: 50%;\n",
              "      cursor: pointer;\n",
              "      display: none;\n",
              "      fill: #1967D2;\n",
              "      height: 32px;\n",
              "      padding: 0 0 0 0;\n",
              "      width: 32px;\n",
              "    }\n",
              "\n",
              "    .colab-df-convert:hover {\n",
              "      background-color: #E2EBFA;\n",
              "      box-shadow: 0px 1px 2px rgba(60, 64, 67, 0.3), 0px 1px 3px 1px rgba(60, 64, 67, 0.15);\n",
              "      fill: #174EA6;\n",
              "    }\n",
              "\n",
              "    [theme=dark] .colab-df-convert {\n",
              "      background-color: #3B4455;\n",
              "      fill: #D2E3FC;\n",
              "    }\n",
              "\n",
              "    [theme=dark] .colab-df-convert:hover {\n",
              "      background-color: #434B5C;\n",
              "      box-shadow: 0px 1px 3px 1px rgba(0, 0, 0, 0.15);\n",
              "      filter: drop-shadow(0px 1px 2px rgba(0, 0, 0, 0.3));\n",
              "      fill: #FFFFFF;\n",
              "    }\n",
              "  </style>\n",
              "\n",
              "      <script>\n",
              "        const buttonEl =\n",
              "          document.querySelector('#df-137cb657-652d-43f9-95ab-3fde50c7b6a2 button.colab-df-convert');\n",
              "        buttonEl.style.display =\n",
              "          google.colab.kernel.accessAllowed ? 'block' : 'none';\n",
              "\n",
              "        async function convertToInteractive(key) {\n",
              "          const element = document.querySelector('#df-137cb657-652d-43f9-95ab-3fde50c7b6a2');\n",
              "          const dataTable =\n",
              "            await google.colab.kernel.invokeFunction('convertToInteractive',\n",
              "                                                     [key], {});\n",
              "          if (!dataTable) return;\n",
              "\n",
              "          const docLinkHtml = 'Like what you see? Visit the ' +\n",
              "            '<a target=\"_blank\" href=https://colab.research.google.com/notebooks/data_table.ipynb>data table notebook</a>'\n",
              "            + ' to learn more about interactive tables.';\n",
              "          element.innerHTML = '';\n",
              "          dataTable['output_type'] = 'display_data';\n",
              "          await google.colab.output.renderOutput(dataTable, element);\n",
              "          const docLink = document.createElement('div');\n",
              "          docLink.innerHTML = docLinkHtml;\n",
              "          element.appendChild(docLink);\n",
              "        }\n",
              "      </script>\n",
              "    </div>\n",
              "  </div>\n",
              "  "
            ],
            "text/plain": [
              "                                             content  score\n",
              "0                      I cannot open the app anymore      1\n",
              "1  I have been begging for a refund from this app...      1\n",
              "2  Very costly for the premium version (approx In...      1\n",
              "3  Used to keep me organized, but all the 2020 UP...      1\n",
              "4                                Dan Birthday Oct 28      1"
            ]
          },
          "metadata": {},
          "execution_count": 8
        }
      ],
      "source": [
        "PS_reviews_data = PS_reviews_data[['content','score']]\n",
        "PS_reviews_data.head()"
      ]
    },
    {
      "cell_type": "code",
      "execution_count": 9,
      "id": "6b3acf94",
      "metadata": {
        "execution": {
          "iopub.execute_input": "2021-11-16T08:08:45.465481Z",
          "iopub.status.busy": "2021-11-16T08:08:45.464479Z",
          "iopub.status.idle": "2021-11-16T08:08:45.474007Z",
          "shell.execute_reply": "2021-11-16T08:08:45.474600Z",
          "shell.execute_reply.started": "2021-11-16T08:03:42.391566Z"
        },
        "id": "6b3acf94",
        "outputId": "27503e05-0651-4126-d82a-b339fdb73a9c",
        "papermill": {
          "duration": 0.059391,
          "end_time": "2021-11-16T08:08:45.474782",
          "exception": false,
          "start_time": "2021-11-16T08:08:45.415391",
          "status": "completed"
        },
        "tags": [],
        "colab": {
          "base_uri": "https://localhost:8080/"
        }
      },
      "outputs": [
        {
          "output_type": "execute_result",
          "data": {
            "text/plain": [
              "content    0\n",
              "score      0\n",
              "dtype: int64"
            ]
          },
          "metadata": {},
          "execution_count": 9
        }
      ],
      "source": [
        "PS_reviews_data.isnull().sum()"
      ]
    },
    {
      "cell_type": "markdown",
      "id": "29d1a749",
      "metadata": {
        "id": "29d1a749",
        "papermill": {
          "duration": 0.046373,
          "end_time": "2021-11-16T08:08:45.567714",
          "exception": false,
          "start_time": "2021-11-16T08:08:45.521341",
          "status": "completed"
        },
        "tags": []
      },
      "source": [
        "There is no null values in data."
      ]
    },
    {
      "cell_type": "code",
      "execution_count": 10,
      "id": "89fe6b53",
      "metadata": {
        "execution": {
          "iopub.execute_input": "2021-11-16T08:08:45.664719Z",
          "iopub.status.busy": "2021-11-16T08:08:45.663741Z",
          "iopub.status.idle": "2021-11-16T08:08:46.651033Z",
          "shell.execute_reply": "2021-11-16T08:08:46.650290Z",
          "shell.execute_reply.started": "2021-11-16T08:03:42.420968Z"
        },
        "id": "89fe6b53",
        "papermill": {
          "duration": 1.036787,
          "end_time": "2021-11-16T08:08:46.651180",
          "exception": false,
          "start_time": "2021-11-16T08:08:45.614393",
          "status": "completed"
        },
        "tags": []
      },
      "outputs": [],
      "source": [
        "import seaborn as sns"
      ]
    },
    {
      "cell_type": "code",
      "execution_count": 11,
      "id": "5503ff54",
      "metadata": {
        "execution": {
          "iopub.execute_input": "2021-11-16T08:08:46.750874Z",
          "iopub.status.busy": "2021-11-16T08:08:46.749745Z",
          "iopub.status.idle": "2021-11-16T08:08:47.118101Z",
          "shell.execute_reply": "2021-11-16T08:08:47.117212Z",
          "shell.execute_reply.started": "2021-11-16T08:03:42.430478Z"
        },
        "id": "5503ff54",
        "outputId": "0ae71d4b-6b44-4d32-d148-ef2a78461048",
        "papermill": {
          "duration": 0.420155,
          "end_time": "2021-11-16T08:08:47.118265",
          "exception": false,
          "start_time": "2021-11-16T08:08:46.698110",
          "status": "completed"
        },
        "tags": [],
        "colab": {
          "base_uri": "https://localhost:8080/",
          "height": 285
        }
      },
      "outputs": [
        {
          "output_type": "execute_result",
          "data": {
            "text/plain": [
              "<matplotlib.axes._subplots.AxesSubplot at 0x7f73ebe99610>"
            ]
          },
          "metadata": {},
          "execution_count": 11
        },
        {
          "output_type": "display_data",
          "data": {
            "image/png": "[encoded data removed]",
            "text/plain": [
              "<Figure size 432x288 with 1 Axes>"
            ]
          },
          "metadata": {
            "needs_background": "light"
          }
        }
      ],
      "source": [
        "sns.barplot(x=PS_reviews_data.score.value_counts().index,y=PS_reviews_data.score.value_counts())"
      ]
    },
    {
      "cell_type": "markdown",
      "id": "af7e3607",
      "metadata": {
        "id": "af7e3607",
        "papermill": {
          "duration": 0.047041,
          "end_time": "2021-11-16T08:08:47.213856",
          "exception": false,
          "start_time": "2021-11-16T08:08:47.166815",
          "status": "completed"
        },
        "tags": []
      },
      "source": [
        "We will segregate the data into 2 groups for better analysis,\n",
        "```\n",
        "1. Rating from 1-2 will be negative(0)\n",
        "2. Rating from 4-5 will be positive(1)\n",
        "```\n",
        "\n"
      ]
    },
    {
      "cell_type": "code",
      "execution_count": 12,
      "id": "9c8958ec",
      "metadata": {
        "execution": {
          "iopub.execute_input": "2021-11-16T08:08:47.312144Z",
          "iopub.status.busy": "2021-11-16T08:08:47.311525Z",
          "iopub.status.idle": "2021-11-16T08:08:48.216222Z",
          "shell.execute_reply": "2021-11-16T08:08:48.216706Z",
          "shell.execute_reply.started": "2021-11-16T08:03:42.613615Z"
        },
        "id": "9c8958ec",
        "outputId": "6ca42544-0fcf-4049-ad0f-05d520410d15",
        "papermill": {
          "duration": 0.955502,
          "end_time": "2021-11-16T08:08:48.216879",
          "exception": false,
          "start_time": "2021-11-16T08:08:47.261377",
          "status": "completed"
        },
        "tags": [],
        "colab": {
          "base_uri": "https://localhost:8080/"
        }
      },
      "outputs": [
        {
          "output_type": "stream",
          "name": "stdout",
          "text": [
            "[nltk_data] Downloading package vader_lexicon to /root/nltk_data...\n"
          ]
        },
        {
          "output_type": "execute_result",
          "data": {
            "text/plain": [
              "True"
            ]
          },
          "metadata": {},
          "execution_count": 12
        }
      ],
      "source": [
        "import nltk\n",
        "nltk.download('vader_lexicon')"
      ]
    },
    {
      "cell_type": "code",
      "execution_count": 13,
      "id": "6784bd76",
      "metadata": {
        "execution": {
          "iopub.execute_input": "2021-11-16T08:08:48.316997Z",
          "iopub.status.busy": "2021-11-16T08:08:48.316358Z",
          "iopub.status.idle": "2021-11-16T08:08:48.332090Z",
          "shell.execute_reply": "2021-11-16T08:08:48.332654Z",
          "shell.execute_reply.started": "2021-11-16T08:03:42.623453Z"
        },
        "id": "6784bd76",
        "papermill": {
          "duration": 0.067287,
          "end_time": "2021-11-16T08:08:48.332831",
          "exception": false,
          "start_time": "2021-11-16T08:08:48.265544",
          "status": "completed"
        },
        "tags": []
      },
      "outputs": [],
      "source": [
        "from nltk.sentiment.vader import SentimentIntensityAnalyzer as SIA"
      ]
    },
    {
      "cell_type": "code",
      "execution_count": 14,
      "id": "ad860dba",
      "metadata": {
        "execution": {
          "iopub.execute_input": "2021-11-16T08:08:48.433570Z",
          "iopub.status.busy": "2021-11-16T08:08:48.432890Z",
          "iopub.status.idle": "2021-11-16T08:08:48.437295Z",
          "shell.execute_reply": "2021-11-16T08:08:48.437777Z",
          "shell.execute_reply.started": "2021-11-16T08:03:42.634841Z"
        },
        "id": "ad860dba",
        "papermill": {
          "duration": 0.056283,
          "end_time": "2021-11-16T08:08:48.437937",
          "exception": false,
          "start_time": "2021-11-16T08:08:48.381654",
          "status": "completed"
        },
        "tags": []
      },
      "outputs": [],
      "source": [
        "def analyze_sentiment(data):\n",
        "    analysis = SIA().polarity_scores(data)\n",
        "    if analysis['compound'] > 0:    # Converting rating 3 with positive sentiment as group 1\n",
        "        return 'Positive'\n",
        "    elif analysis['compound'] == 0: # Converting rating 3 with neutral sentiment as group to drop\n",
        "        return 'Neutral'\n",
        "    else:                           # Converting rating 3 with negative sentiment as group 0\n",
        "        return 'Negative'"
      ]
    },
    {
      "cell_type": "code",
      "execution_count": 15,
      "id": "fa094a85",
      "metadata": {
        "execution": {
          "iopub.execute_input": "2021-11-16T08:08:48.538301Z",
          "iopub.status.busy": "2021-11-16T08:08:48.537629Z",
          "iopub.status.idle": "2021-11-16T08:09:05.969420Z",
          "shell.execute_reply": "2021-11-16T08:09:05.968701Z",
          "shell.execute_reply.started": "2021-11-16T08:03:42.652119Z"
        },
        "id": "fa094a85",
        "papermill": {
          "duration": 17.483086,
          "end_time": "2021-11-16T08:09:05.969568",
          "exception": false,
          "start_time": "2021-11-16T08:08:48.486482",
          "status": "completed"
        },
        "tags": []
      },
      "outputs": [],
      "source": [
        "PS_reviews_data['sentiment_neutral_ratings'] = PS_reviews_data[PS_reviews_data.score == 3].content.apply(analyze_sentiment)"
      ]
    },
    {
      "cell_type": "code",
      "execution_count": 16,
      "id": "a984e3f5",
      "metadata": {
        "execution": {
          "iopub.execute_input": "2021-11-16T08:09:06.072339Z",
          "iopub.status.busy": "2021-11-16T08:09:06.071641Z",
          "iopub.status.idle": "2021-11-16T08:09:06.081464Z",
          "shell.execute_reply": "2021-11-16T08:09:06.082041Z",
          "shell.execute_reply.started": "2021-11-16T08:04:04.208136Z"
        },
        "id": "a984e3f5",
        "outputId": "fdd97f0c-e243-4736-eb6d-d6e195cfed85",
        "papermill": {
          "duration": 0.06361,
          "end_time": "2021-11-16T08:09:06.082222",
          "exception": false,
          "start_time": "2021-11-16T08:09:06.018612",
          "status": "completed"
        },
        "tags": [],
        "colab": {
          "base_uri": "https://localhost:8080/",
          "height": 206
        }
      },
      "outputs": [
        {
          "output_type": "execute_result",
          "data": {
            "text/html": [
              "\n",
              "  <div id=\"df-2e66b364-aee3-4c35-83dd-8d7db98a0479\">\n",
              "    <div class=\"colab-df-container\">\n",
              "      <div>\n",
              "<style scoped>\n",
              "    .dataframe tbody tr th:only-of-type {\n",
              "        vertical-align: middle;\n",
              "    }\n",
              "\n",
              "    .dataframe tbody tr th {\n",
              "        vertical-align: top;\n",
              "    }\n",
              "\n",
              "    .dataframe thead th {\n",
              "        text-align: right;\n",
              "    }\n",
              "</style>\n",
              "<table border=\"1\" class=\"dataframe\">\n",
              "  <thead>\n",
              "    <tr style=\"text-align: right;\">\n",
              "      <th></th>\n",
              "      <th>content</th>\n",
              "      <th>score</th>\n",
              "      <th>sentiment_neutral_ratings</th>\n",
              "    </tr>\n",
              "  </thead>\n",
              "  <tbody>\n",
              "    <tr>\n",
              "      <th>400</th>\n",
              "      <td>This still works pretty well, but I'm not a fa...</td>\n",
              "      <td>3</td>\n",
              "      <td>Positive</td>\n",
              "    </tr>\n",
              "    <tr>\n",
              "      <th>401</th>\n",
              "      <td>Good app. Annoying pop up every morning on my ...</td>\n",
              "      <td>3</td>\n",
              "      <td>Positive</td>\n",
              "    </tr>\n",
              "    <tr>\n",
              "      <th>402</th>\n",
              "      <td>I haven't used they made an effort from there ...</td>\n",
              "      <td>3</td>\n",
              "      <td>Negative</td>\n",
              "    </tr>\n",
              "    <tr>\n",
              "      <th>403</th>\n",
              "      <td>29.9. Nothing new, I've already reconciled to ...</td>\n",
              "      <td>3</td>\n",
              "      <td>Positive</td>\n",
              "    </tr>\n",
              "    <tr>\n",
              "      <th>404</th>\n",
              "      <td>I've been a satisfied user of Any.do since Mar...</td>\n",
              "      <td>3</td>\n",
              "      <td>Positive</td>\n",
              "    </tr>\n",
              "  </tbody>\n",
              "</table>\n",
              "</div>\n",
              "      <button class=\"colab-df-convert\" onclick=\"convertToInteractive('df-2e66b364-aee3-4c35-83dd-8d7db98a0479')\"\n",
              "              title=\"Convert this dataframe to an interactive table.\"\n",
              "              style=\"display:none;\">\n",
              "        \n",
              "  <svg xmlns=\"http://www.w3.org/2000/svg\" height=\"24px\"viewBox=\"0 0 24 24\"\n",
              "       width=\"24px\">\n",
              "    <path d=\"M0 0h24v24H0V0z\" fill=\"none\"/>\n",
              "    <path d=\"M18.56 5.44l.94 2.06.94-2.06 2.06-.94-2.06-.94-.94-2.06-.94 2.06-2.06.94zm-11 1L8.5 8.5l.94-2.06 2.06-.94-2.06-.94L8.5 2.5l-.94 2.06-2.06.94zm10 10l.94 2.06.94-2.06 2.06-.94-2.06-.94-.94-2.06-.94 2.06-2.06.94z\"/><path d=\"M17.41 7.96l-1.37-1.37c-.4-.4-.92-.59-1.43-.59-.52 0-1.04.2-1.43.59L10.3 9.45l-7.72 7.72c-.78.78-.78 2.05 0 2.83L4 21.41c.39.39.9.59 1.41.59.51 0 1.02-.2 1.41-.59l7.78-7.78 2.81-2.81c.8-.78.8-2.07 0-2.86zM5.41 20L4 18.59l7.72-7.72 1.47 1.35L5.41 20z\"/>\n",
              "  </svg>\n",
              "      </button>\n",
              "      \n",
              "  <style>\n",
              "    .colab-df-container {\n",
              "      display:flex;\n",
              "      flex-wrap:wrap;\n",
              "      gap: 12px;\n",
              "    }\n",
              "\n",
              "    .colab-df-convert {\n",
              "      background-color: #E8F0FE;\n",
              "      border: none;\n",
              "      border-radius: 50%;\n",
              "      cursor: pointer;\n",
              "      display: none;\n",
              "      fill: #1967D2;\n",
              "      height: 32px;\n",
              "      padding: 0 0 0 0;\n",
              "      width: 32px;\n",
              "    }\n",
              "\n",
              "    .colab-df-convert:hover {\n",
              "      background-color: #E2EBFA;\n",
              "      box-shadow: 0px 1px 2px rgba(60, 64, 67, 0.3), 0px 1px 3px 1px rgba(60, 64, 67, 0.15);\n",
              "      fill: #174EA6;\n",
              "    }\n",
              "\n",
              "    [theme=dark] .colab-df-convert {\n",
              "      background-color: #3B4455;\n",
              "      fill: #D2E3FC;\n",
              "    }\n",
              "\n",
              "    [theme=dark] .colab-df-convert:hover {\n",
              "      background-color: #434B5C;\n",
              "      box-shadow: 0px 1px 3px 1px rgba(0, 0, 0, 0.15);\n",
              "      filter: drop-shadow(0px 1px 2px rgba(0, 0, 0, 0.3));\n",
              "      fill: #FFFFFF;\n",
              "    }\n",
              "  </style>\n",
              "\n",
              "      <script>\n",
              "        const buttonEl =\n",
              "          document.querySelector('#df-2e66b364-aee3-4c35-83dd-8d7db98a0479 button.colab-df-convert');\n",
              "        buttonEl.style.display =\n",
              "          google.colab.kernel.accessAllowed ? 'block' : 'none';\n",
              "\n",
              "        async function convertToInteractive(key) {\n",
              "          const element = document.querySelector('#df-2e66b364-aee3-4c35-83dd-8d7db98a0479');\n",
              "          const dataTable =\n",
              "            await google.colab.kernel.invokeFunction('convertToInteractive',\n",
              "                                                     [key], {});\n",
              "          if (!dataTable) return;\n",
              "\n",
              "          const docLinkHtml = 'Like what you see? Visit the ' +\n",
              "            '<a target=\"_blank\" href=https://colab.research.google.com/notebooks/data_table.ipynb>data table notebook</a>'\n",
              "            + ' to learn more about interactive tables.';\n",
              "          element.innerHTML = '';\n",
              "          dataTable['output_type'] = 'display_data';\n",
              "          await google.colab.output.renderOutput(dataTable, element);\n",
              "          const docLink = document.createElement('div');\n",
              "          docLink.innerHTML = docLinkHtml;\n",
              "          element.appendChild(docLink);\n",
              "        }\n",
              "      </script>\n",
              "    </div>\n",
              "  </div>\n",
              "  "
            ],
            "text/plain": [
              "                                               content  ...  sentiment_neutral_ratings\n",
              "400  This still works pretty well, but I'm not a fa...  ...                   Positive\n",
              "401  Good app. Annoying pop up every morning on my ...  ...                   Positive\n",
              "402  I haven't used they made an effort from there ...  ...                   Negative\n",
              "403  29.9. Nothing new, I've already reconciled to ...  ...                   Positive\n",
              "404  I've been a satisfied user of Any.do since Mar...  ...                   Positive\n",
              "\n",
              "[5 rows x 3 columns]"
            ]
          },
          "metadata": {},
          "execution_count": 16
        }
      ],
      "source": [
        "PS_reviews_data[PS_reviews_data.score == 3].head()"
      ]
    },
    {
      "cell_type": "code",
      "execution_count": 17,
      "id": "b50b8909",
      "metadata": {
        "execution": {
          "iopub.execute_input": "2021-11-16T08:09:06.184691Z",
          "iopub.status.busy": "2021-11-16T08:09:06.184000Z",
          "iopub.status.idle": "2021-11-16T08:09:06.194113Z",
          "shell.execute_reply": "2021-11-16T08:09:06.194712Z",
          "shell.execute_reply.started": "2021-11-16T08:04:04.222875Z"
        },
        "id": "b50b8909",
        "outputId": "76e9011e-df03-4c5e-9b93-b46722d8bade",
        "papermill": {
          "duration": 0.062502,
          "end_time": "2021-11-16T08:09:06.194895",
          "exception": false,
          "start_time": "2021-11-16T08:09:06.132393",
          "status": "completed"
        },
        "tags": [],
        "colab": {
          "base_uri": "https://localhost:8080/",
          "height": 206
        }
      },
      "outputs": [
        {
          "output_type": "execute_result",
          "data": {
            "text/html": [
              "\n",
              "  <div id=\"df-c025c243-6f57-4da9-917d-05ef7caae0ac\">\n",
              "    <div class=\"colab-df-container\">\n",
              "      <div>\n",
              "<style scoped>\n",
              "    .dataframe tbody tr th:only-of-type {\n",
              "        vertical-align: middle;\n",
              "    }\n",
              "\n",
              "    .dataframe tbody tr th {\n",
              "        vertical-align: top;\n",
              "    }\n",
              "\n",
              "    .dataframe thead th {\n",
              "        text-align: right;\n",
              "    }\n",
              "</style>\n",
              "<table border=\"1\" class=\"dataframe\">\n",
              "  <thead>\n",
              "    <tr style=\"text-align: right;\">\n",
              "      <th></th>\n",
              "      <th>content</th>\n",
              "      <th>score</th>\n",
              "      <th>sentiment_neutral_ratings</th>\n",
              "    </tr>\n",
              "  </thead>\n",
              "  <tbody>\n",
              "    <tr>\n",
              "      <th>426</th>\n",
              "      <td>Too many options and gets too fancy for an app...</td>\n",
              "      <td>3</td>\n",
              "      <td>Neutral</td>\n",
              "    </tr>\n",
              "    <tr>\n",
              "      <th>429</th>\n",
              "      <td>Way too expensive; if there was a monthly opti...</td>\n",
              "      <td>3</td>\n",
              "      <td>Neutral</td>\n",
              "    </tr>\n",
              "    <tr>\n",
              "      <th>438</th>\n",
              "      <td>Hyyy</td>\n",
              "      <td>3</td>\n",
              "      <td>Neutral</td>\n",
              "    </tr>\n",
              "    <tr>\n",
              "      <th>441</th>\n",
              "      <td>Don't know</td>\n",
              "      <td>3</td>\n",
              "      <td>Neutral</td>\n",
              "    </tr>\n",
              "    <tr>\n",
              "      <th>445</th>\n",
              "      <td>We need a monthly payment terms. Currently it ...</td>\n",
              "      <td>3</td>\n",
              "      <td>Neutral</td>\n",
              "    </tr>\n",
              "  </tbody>\n",
              "</table>\n",
              "</div>\n",
              "      <button class=\"colab-df-convert\" onclick=\"convertToInteractive('df-c025c243-6f57-4da9-917d-05ef7caae0ac')\"\n",
              "              title=\"Convert this dataframe to an interactive table.\"\n",
              "              style=\"display:none;\">\n",
              "        \n",
              "  <svg xmlns=\"http://www.w3.org/2000/svg\" height=\"24px\"viewBox=\"0 0 24 24\"\n",
              "       width=\"24px\">\n",
              "    <path d=\"M0 0h24v24H0V0z\" fill=\"none\"/>\n",
              "    <path d=\"M18.56 5.44l.94 2.06.94-2.06 2.06-.94-2.06-.94-.94-2.06-.94 2.06-2.06.94zm-11 1L8.5 8.5l.94-2.06 2.06-.94-2.06-.94L8.5 2.5l-.94 2.06-2.06.94zm10 10l.94 2.06.94-2.06 2.06-.94-2.06-.94-.94-2.06-.94 2.06-2.06.94z\"/><path d=\"M17.41 7.96l-1.37-1.37c-.4-.4-.92-.59-1.43-.59-.52 0-1.04.2-1.43.59L10.3 9.45l-7.72 7.72c-.78.78-.78 2.05 0 2.83L4 21.41c.39.39.9.59 1.41.59.51 0 1.02-.2 1.41-.59l7.78-7.78 2.81-2.81c.8-.78.8-2.07 0-2.86zM5.41 20L4 18.59l7.72-7.72 1.47 1.35L5.41 20z\"/>\n",
              "  </svg>\n",
              "      </button>\n",
              "      \n",
              "  <style>\n",
              "    .colab-df-container {\n",
              "      display:flex;\n",
              "      flex-wrap:wrap;\n",
              "      gap: 12px;\n",
              "    }\n",
              "\n",
              "    .colab-df-convert {\n",
              "      background-color: #E8F0FE;\n",
              "      border: none;\n",
              "      border-radius: 50%;\n",
              "      cursor: pointer;\n",
              "      display: none;\n",
              "      fill: #1967D2;\n",
              "      height: 32px;\n",
              "      padding: 0 0 0 0;\n",
              "      width: 32px;\n",
              "    }\n",
              "\n",
              "    .colab-df-convert:hover {\n",
              "      background-color: #E2EBFA;\n",
              "      box-shadow: 0px 1px 2px rgba(60, 64, 67, 0.3), 0px 1px 3px 1px rgba(60, 64, 67, 0.15);\n",
              "      fill: #174EA6;\n",
              "    }\n",
              "\n",
              "    [theme=dark] .colab-df-convert {\n",
              "      background-color: #3B4455;\n",
              "      fill: #D2E3FC;\n",
              "    }\n",
              "\n",
              "    [theme=dark] .colab-df-convert:hover {\n",
              "      background-color: #434B5C;\n",
              "      box-shadow: 0px 1px 3px 1px rgba(0, 0, 0, 0.15);\n",
              "      filter: drop-shadow(0px 1px 2px rgba(0, 0, 0, 0.3));\n",
              "      fill: #FFFFFF;\n",
              "    }\n",
              "  </style>\n",
              "\n",
              "      <script>\n",
              "        const buttonEl =\n",
              "          document.querySelector('#df-c025c243-6f57-4da9-917d-05ef7caae0ac button.colab-df-convert');\n",
              "        buttonEl.style.display =\n",
              "          google.colab.kernel.accessAllowed ? 'block' : 'none';\n",
              "\n",
              "        async function convertToInteractive(key) {\n",
              "          const element = document.querySelector('#df-c025c243-6f57-4da9-917d-05ef7caae0ac');\n",
              "          const dataTable =\n",
              "            await google.colab.kernel.invokeFunction('convertToInteractive',\n",
              "                                                     [key], {});\n",
              "          if (!dataTable) return;\n",
              "\n",
              "          const docLinkHtml = 'Like what you see? Visit the ' +\n",
              "            '<a target=\"_blank\" href=https://colab.research.google.com/notebooks/data_table.ipynb>data table notebook</a>'\n",
              "            + ' to learn more about interactive tables.';\n",
              "          element.innerHTML = '';\n",
              "          dataTable['output_type'] = 'display_data';\n",
              "          await google.colab.output.renderOutput(dataTable, element);\n",
              "          const docLink = document.createElement('div');\n",
              "          docLink.innerHTML = docLinkHtml;\n",
              "          element.appendChild(docLink);\n",
              "        }\n",
              "      </script>\n",
              "    </div>\n",
              "  </div>\n",
              "  "
            ],
            "text/plain": [
              "                                               content  ...  sentiment_neutral_ratings\n",
              "426  Too many options and gets too fancy for an app...  ...                    Neutral\n",
              "429  Way too expensive; if there was a monthly opti...  ...                    Neutral\n",
              "438                                               Hyyy  ...                    Neutral\n",
              "441                                         Don't know  ...                    Neutral\n",
              "445  We need a monthly payment terms. Currently it ...  ...                    Neutral\n",
              "\n",
              "[5 rows x 3 columns]"
            ]
          },
          "metadata": {},
          "execution_count": 17
        }
      ],
      "source": [
        "PS_reviews_data[PS_reviews_data.sentiment_neutral_ratings == 'Neutral'].head() # Drop these records"
      ]
    },
    {
      "cell_type": "code",
      "execution_count": 18,
      "id": "50ff309e",
      "metadata": {
        "execution": {
          "iopub.execute_input": "2021-11-16T08:09:06.297578Z",
          "iopub.status.busy": "2021-11-16T08:09:06.296953Z",
          "iopub.status.idle": "2021-11-16T08:09:06.302394Z",
          "shell.execute_reply": "2021-11-16T08:09:06.303032Z",
          "shell.execute_reply.started": "2021-11-16T08:04:04.251990Z"
        },
        "id": "50ff309e",
        "papermill": {
          "duration": 0.058729,
          "end_time": "2021-11-16T08:09:06.303221",
          "exception": false,
          "start_time": "2021-11-16T08:09:06.244492",
          "status": "completed"
        },
        "tags": []
      },
      "outputs": [],
      "source": [
        "PS_reviews_data = PS_reviews_data[PS_reviews_data.sentiment_neutral_ratings != 'Neutral'] # Discarding neutral records"
      ]
    },
    {
      "cell_type": "code",
      "execution_count": 19,
      "id": "47e5714a",
      "metadata": {
        "execution": {
          "iopub.execute_input": "2021-11-16T08:09:06.406804Z",
          "iopub.status.busy": "2021-11-16T08:09:06.406186Z",
          "iopub.status.idle": "2021-11-16T08:09:06.410409Z",
          "shell.execute_reply": "2021-11-16T08:09:06.411014Z",
          "shell.execute_reply.started": "2021-11-16T08:04:04.266217Z"
        },
        "id": "47e5714a",
        "papermill": {
          "duration": 0.057892,
          "end_time": "2021-11-16T08:09:06.411175",
          "exception": false,
          "start_time": "2021-11-16T08:09:06.353283",
          "status": "completed"
        },
        "tags": []
      },
      "outputs": [],
      "source": [
        "def rating_seg(df):\n",
        "  score_ = 0\n",
        "  if df['score'] <= 2:\n",
        "    score_ = 0\n",
        "  elif df['score'] == 3:\n",
        "    if df['sentiment_neutral_ratings'] == 'Positive':\n",
        "      score_ = 0\n",
        "    else:\n",
        "      score_ = 1\n",
        "  else:\n",
        "    score_ = 1\n",
        "  return score_\n"
      ]
    },
    {
      "cell_type": "code",
      "execution_count": 20,
      "id": "3cfbf118",
      "metadata": {
        "execution": {
          "iopub.execute_input": "2021-11-16T08:09:06.541346Z",
          "iopub.status.busy": "2021-11-16T08:09:06.539191Z",
          "iopub.status.idle": "2021-11-16T08:09:06.782744Z",
          "shell.execute_reply": "2021-11-16T08:09:06.783345Z",
          "shell.execute_reply.started": "2021-11-16T08:04:04.282917Z"
        },
        "id": "3cfbf118",
        "outputId": "6e243165-b07b-476c-edb9-5a59014cdf0e",
        "papermill": {
          "duration": 0.311291,
          "end_time": "2021-11-16T08:09:06.783520",
          "exception": false,
          "start_time": "2021-11-16T08:09:06.472229",
          "status": "completed"
        },
        "tags": [],
        "colab": {
          "base_uri": "https://localhost:8080/",
          "height": 206
        }
      },
      "outputs": [
        {
          "output_type": "execute_result",
          "data": {
            "text/html": [
              "\n",
              "  <div id=\"df-164fc0bf-7e0d-473b-b5b4-4d4128e99286\">\n",
              "    <div class=\"colab-df-container\">\n",
              "      <div>\n",
              "<style scoped>\n",
              "    .dataframe tbody tr th:only-of-type {\n",
              "        vertical-align: middle;\n",
              "    }\n",
              "\n",
              "    .dataframe tbody tr th {\n",
              "        vertical-align: top;\n",
              "    }\n",
              "\n",
              "    .dataframe thead th {\n",
              "        text-align: right;\n",
              "    }\n",
              "</style>\n",
              "<table border=\"1\" class=\"dataframe\">\n",
              "  <thead>\n",
              "    <tr style=\"text-align: right;\">\n",
              "      <th></th>\n",
              "      <th>score</th>\n",
              "      <th>new_score</th>\n",
              "    </tr>\n",
              "  </thead>\n",
              "  <tbody>\n",
              "    <tr>\n",
              "      <th>5233</th>\n",
              "      <td>3</td>\n",
              "      <td>0</td>\n",
              "    </tr>\n",
              "    <tr>\n",
              "      <th>12228</th>\n",
              "      <td>4</td>\n",
              "      <td>1</td>\n",
              "    </tr>\n",
              "    <tr>\n",
              "      <th>11460</th>\n",
              "      <td>5</td>\n",
              "      <td>1</td>\n",
              "    </tr>\n",
              "    <tr>\n",
              "      <th>6881</th>\n",
              "      <td>1</td>\n",
              "      <td>0</td>\n",
              "    </tr>\n",
              "    <tr>\n",
              "      <th>8054</th>\n",
              "      <td>2</td>\n",
              "      <td>0</td>\n",
              "    </tr>\n",
              "  </tbody>\n",
              "</table>\n",
              "</div>\n",
              "      <button class=\"colab-df-convert\" onclick=\"convertToInteractive('df-164fc0bf-7e0d-473b-b5b4-4d4128e99286')\"\n",
              "              title=\"Convert this dataframe to an interactive table.\"\n",
              "              style=\"display:none;\">\n",
              "        \n",
              "  <svg xmlns=\"http://www.w3.org/2000/svg\" height=\"24px\"viewBox=\"0 0 24 24\"\n",
              "       width=\"24px\">\n",
              "    <path d=\"M0 0h24v24H0V0z\" fill=\"none\"/>\n",
              "    <path d=\"M18.56 5.44l.94 2.06.94-2.06 2.06-.94-2.06-.94-.94-2.06-.94 2.06-2.06.94zm-11 1L8.5 8.5l.94-2.06 2.06-.94-2.06-.94L8.5 2.5l-.94 2.06-2.06.94zm10 10l.94 2.06.94-2.06 2.06-.94-2.06-.94-.94-2.06-.94 2.06-2.06.94z\"/><path d=\"M17.41 7.96l-1.37-1.37c-.4-.4-.92-.59-1.43-.59-.52 0-1.04.2-1.43.59L10.3 9.45l-7.72 7.72c-.78.78-.78 2.05 0 2.83L4 21.41c.39.39.9.59 1.41.59.51 0 1.02-.2 1.41-.59l7.78-7.78 2.81-2.81c.8-.78.8-2.07 0-2.86zM5.41 20L4 18.59l7.72-7.72 1.47 1.35L5.41 20z\"/>\n",
              "  </svg>\n",
              "      </button>\n",
              "      \n",
              "  <style>\n",
              "    .colab-df-container {\n",
              "      display:flex;\n",
              "      flex-wrap:wrap;\n",
              "      gap: 12px;\n",
              "    }\n",
              "\n",
              "    .colab-df-convert {\n",
              "      background-color: #E8F0FE;\n",
              "      border: none;\n",
              "      border-radius: 50%;\n",
              "      cursor: pointer;\n",
              "      display: none;\n",
              "      fill: #1967D2;\n",
              "      height: 32px;\n",
              "      padding: 0 0 0 0;\n",
              "      width: 32px;\n",
              "    }\n",
              "\n",
              "    .colab-df-convert:hover {\n",
              "      background-color: #E2EBFA;\n",
              "      box-shadow: 0px 1px 2px rgba(60, 64, 67, 0.3), 0px 1px 3px 1px rgba(60, 64, 67, 0.15);\n",
              "      fill: #174EA6;\n",
              "    }\n",
              "\n",
              "    [theme=dark] .colab-df-convert {\n",
              "      background-color: #3B4455;\n",
              "      fill: #D2E3FC;\n",
              "    }\n",
              "\n",
              "    [theme=dark] .colab-df-convert:hover {\n",
              "      background-color: #434B5C;\n",
              "      box-shadow: 0px 1px 3px 1px rgba(0, 0, 0, 0.15);\n",
              "      filter: drop-shadow(0px 1px 2px rgba(0, 0, 0, 0.3));\n",
              "      fill: #FFFFFF;\n",
              "    }\n",
              "  </style>\n",
              "\n",
              "      <script>\n",
              "        const buttonEl =\n",
              "          document.querySelector('#df-164fc0bf-7e0d-473b-b5b4-4d4128e99286 button.colab-df-convert');\n",
              "        buttonEl.style.display =\n",
              "          google.colab.kernel.accessAllowed ? 'block' : 'none';\n",
              "\n",
              "        async function convertToInteractive(key) {\n",
              "          const element = document.querySelector('#df-164fc0bf-7e0d-473b-b5b4-4d4128e99286');\n",
              "          const dataTable =\n",
              "            await google.colab.kernel.invokeFunction('convertToInteractive',\n",
              "                                                     [key], {});\n",
              "          if (!dataTable) return;\n",
              "\n",
              "          const docLinkHtml = 'Like what you see? Visit the ' +\n",
              "            '<a target=\"_blank\" href=https://colab.research.google.com/notebooks/data_table.ipynb>data table notebook</a>'\n",
              "            + ' to learn more about interactive tables.';\n",
              "          element.innerHTML = '';\n",
              "          dataTable['output_type'] = 'display_data';\n",
              "          await google.colab.output.renderOutput(dataTable, element);\n",
              "          const docLink = document.createElement('div');\n",
              "          docLink.innerHTML = docLinkHtml;\n",
              "          element.appendChild(docLink);\n",
              "        }\n",
              "      </script>\n",
              "    </div>\n",
              "  </div>\n",
              "  "
            ],
            "text/plain": [
              "       score  new_score\n",
              "5233       3          0\n",
              "12228      4          1\n",
              "11460      5          1\n",
              "6881       1          0\n",
              "8054       2          0"
            ]
          },
          "metadata": {},
          "execution_count": 20
        }
      ],
      "source": [
        "PS_reviews_data['new_score'] = PS_reviews_data.apply(rating_seg, axis=1)\n",
        "PS_reviews_data[['score','new_score']].sample(frac=1.0).head() # verifying data"
      ]
    },
    {
      "cell_type": "code",
      "execution_count": 21,
      "id": "1ddd0a88",
      "metadata": {
        "execution": {
          "iopub.execute_input": "2021-11-16T08:09:06.889293Z",
          "iopub.status.busy": "2021-11-16T08:09:06.888566Z",
          "iopub.status.idle": "2021-11-16T08:09:06.893397Z",
          "shell.execute_reply": "2021-11-16T08:09:06.893867Z",
          "shell.execute_reply.started": "2021-11-16T08:04:04.448623Z"
        },
        "papermill": {
          "duration": 0.060329,
          "end_time": "2021-11-16T08:09:06.894057",
          "exception": false,
          "start_time": "2021-11-16T08:09:06.833728",
          "status": "completed"
        },
        "tags": [],
        "id": "1ddd0a88"
      },
      "outputs": [],
      "source": [
        "PS_reviews_data.drop(['sentiment_neutral_ratings'],inplace=True,axis=1)"
      ]
    },
    {
      "cell_type": "markdown",
      "id": "b203358c",
      "metadata": {
        "id": "b203358c",
        "papermill": {
          "duration": 0.051909,
          "end_time": "2021-11-16T08:09:06.996657",
          "exception": false,
          "start_time": "2021-11-16T08:09:06.944748",
          "status": "completed"
        },
        "tags": []
      },
      "source": [
        "# Data Pre-Processing\n",
        "\n",
        "ML models require data to be in numeric format, since we are dealinng with textual data, we will have to clean textual data and then convert it into numeric format.\n",
        "\n",
        "Below are the steps to clean any textual data,"
      ]
    },
    {
      "cell_type": "markdown",
      "id": "075c028f",
      "metadata": {
        "id": "075c028f",
        "papermill": {
          "duration": 0.050921,
          "end_time": "2021-11-16T08:09:07.098109",
          "exception": false,
          "start_time": "2021-11-16T08:09:07.047188",
          "status": "completed"
        },
        "tags": []
      },
      "source": [
        "## 1. Replacing/Dropping NULL values"
      ]
    },
    {
      "cell_type": "code",
      "execution_count": 22,
      "id": "39acc5da",
      "metadata": {
        "execution": {
          "iopub.execute_input": "2021-11-16T08:09:07.202263Z",
          "iopub.status.busy": "2021-11-16T08:09:07.201560Z",
          "iopub.status.idle": "2021-11-16T08:09:07.210259Z",
          "shell.execute_reply": "2021-11-16T08:09:07.210783Z",
          "shell.execute_reply.started": "2021-11-16T08:04:04.457591Z"
        },
        "id": "39acc5da",
        "outputId": "0e01f3f6-92fb-48f2-86d2-c2047100d167",
        "papermill": {
          "duration": 0.061752,
          "end_time": "2021-11-16T08:09:07.210946",
          "exception": false,
          "start_time": "2021-11-16T08:09:07.149194",
          "status": "completed"
        },
        "tags": [],
        "colab": {
          "base_uri": "https://localhost:8080/"
        }
      },
      "outputs": [
        {
          "output_type": "execute_result",
          "data": {
            "text/plain": [
              "content      0\n",
              "score        0\n",
              "new_score    0\n",
              "dtype: int64"
            ]
          },
          "metadata": {},
          "execution_count": 22
        }
      ],
      "source": [
        "PS_reviews_data.isnull().sum()\n",
        "# Since our data has no null values will be skip this step"
      ]
    },
    {
      "cell_type": "markdown",
      "id": "eb4a4393",
      "metadata": {
        "id": "eb4a4393",
        "papermill": {
          "duration": 0.049524,
          "end_time": "2021-11-16T08:09:07.310334",
          "exception": false,
          "start_time": "2021-11-16T08:09:07.260810",
          "status": "completed"
        },
        "tags": []
      },
      "source": [
        "## 2. Converting to LOWER case"
      ]
    },
    {
      "cell_type": "code",
      "execution_count": 23,
      "id": "8f4f49a8",
      "metadata": {
        "execution": {
          "iopub.execute_input": "2021-11-16T08:09:07.414116Z",
          "iopub.status.busy": "2021-11-16T08:09:07.413358Z",
          "iopub.status.idle": "2021-11-16T08:09:07.418969Z",
          "shell.execute_reply": "2021-11-16T08:09:07.419552Z",
          "shell.execute_reply.started": "2021-11-16T08:04:04.481742Z"
        },
        "id": "8f4f49a8",
        "outputId": "75759df3-da93-45df-cdf5-1a1d91cfa06a",
        "papermill": {
          "duration": 0.059502,
          "end_time": "2021-11-16T08:09:07.419738",
          "exception": false,
          "start_time": "2021-11-16T08:09:07.360236",
          "status": "completed"
        },
        "tags": [],
        "colab": {
          "base_uri": "https://localhost:8080/"
        }
      },
      "outputs": [
        {
          "output_type": "execute_result",
          "data": {
            "text/plain": [
              "0                        I cannot open the app anymore\n",
              "1    I have been begging for a refund from this app...\n",
              "2    Very costly for the premium version (approx In...\n",
              "3    Used to keep me organized, but all the 2020 UP...\n",
              "4                                  Dan Birthday Oct 28\n",
              "Name: content, dtype: object"
            ]
          },
          "metadata": {},
          "execution_count": 23
        }
      ],
      "source": [
        "PS_reviews_data['content'].head()\n",
        "# from below data we can verify that our data has uppercase letters, we will convert our data in lower case"
      ]
    },
    {
      "cell_type": "code",
      "execution_count": 24,
      "id": "f4552713",
      "metadata": {
        "execution": {
          "iopub.execute_input": "2021-11-16T08:09:07.526049Z",
          "iopub.status.busy": "2021-11-16T08:09:07.525348Z",
          "iopub.status.idle": "2021-11-16T08:09:07.547665Z",
          "shell.execute_reply": "2021-11-16T08:09:07.548242Z",
          "shell.execute_reply.started": "2021-11-16T08:04:04.497406Z"
        },
        "id": "f4552713",
        "outputId": "8151bdf2-62dd-41f8-9817-fa738a501f51",
        "papermill": {
          "duration": 0.076959,
          "end_time": "2021-11-16T08:09:07.548418",
          "exception": false,
          "start_time": "2021-11-16T08:09:07.471459",
          "status": "completed"
        },
        "tags": [],
        "colab": {
          "base_uri": "https://localhost:8080/",
          "height": 206
        }
      },
      "outputs": [
        {
          "output_type": "execute_result",
          "data": {
            "text/html": [
              "\n",
              "  <div id=\"df-815c85a1-53e6-46ed-9d22-050a87943dc0\">\n",
              "    <div class=\"colab-df-container\">\n",
              "      <div>\n",
              "<style scoped>\n",
              "    .dataframe tbody tr th:only-of-type {\n",
              "        vertical-align: middle;\n",
              "    }\n",
              "\n",
              "    .dataframe tbody tr th {\n",
              "        vertical-align: top;\n",
              "    }\n",
              "\n",
              "    .dataframe thead th {\n",
              "        text-align: right;\n",
              "    }\n",
              "</style>\n",
              "<table border=\"1\" class=\"dataframe\">\n",
              "  <thead>\n",
              "    <tr style=\"text-align: right;\">\n",
              "      <th></th>\n",
              "      <th>content</th>\n",
              "      <th>new_content</th>\n",
              "    </tr>\n",
              "  </thead>\n",
              "  <tbody>\n",
              "    <tr>\n",
              "      <th>0</th>\n",
              "      <td>I cannot open the app anymore</td>\n",
              "      <td>i cannot open the app anymore</td>\n",
              "    </tr>\n",
              "    <tr>\n",
              "      <th>1</th>\n",
              "      <td>I have been begging for a refund from this app...</td>\n",
              "      <td>i have been begging for a refund from this app...</td>\n",
              "    </tr>\n",
              "    <tr>\n",
              "      <th>2</th>\n",
              "      <td>Very costly for the premium version (approx In...</td>\n",
              "      <td>very costly for the premium version (approx in...</td>\n",
              "    </tr>\n",
              "    <tr>\n",
              "      <th>3</th>\n",
              "      <td>Used to keep me organized, but all the 2020 UP...</td>\n",
              "      <td>used to keep me organized, but all the 2020 up...</td>\n",
              "    </tr>\n",
              "    <tr>\n",
              "      <th>4</th>\n",
              "      <td>Dan Birthday Oct 28</td>\n",
              "      <td>dan birthday oct 28</td>\n",
              "    </tr>\n",
              "  </tbody>\n",
              "</table>\n",
              "</div>\n",
              "      <button class=\"colab-df-convert\" onclick=\"convertToInteractive('df-815c85a1-53e6-46ed-9d22-050a87943dc0')\"\n",
              "              title=\"Convert this dataframe to an interactive table.\"\n",
              "              style=\"display:none;\">\n",
              "        \n",
              "  <svg xmlns=\"http://www.w3.org/2000/svg\" height=\"24px\"viewBox=\"0 0 24 24\"\n",
              "       width=\"24px\">\n",
              "    <path d=\"M0 0h24v24H0V0z\" fill=\"none\"/>\n",
              "    <path d=\"M18.56 5.44l.94 2.06.94-2.06 2.06-.94-2.06-.94-.94-2.06-.94 2.06-2.06.94zm-11 1L8.5 8.5l.94-2.06 2.06-.94-2.06-.94L8.5 2.5l-.94 2.06-2.06.94zm10 10l.94 2.06.94-2.06 2.06-.94-2.06-.94-.94-2.06-.94 2.06-2.06.94z\"/><path d=\"M17.41 7.96l-1.37-1.37c-.4-.4-.92-.59-1.43-.59-.52 0-1.04.2-1.43.59L10.3 9.45l-7.72 7.72c-.78.78-.78 2.05 0 2.83L4 21.41c.39.39.9.59 1.41.59.51 0 1.02-.2 1.41-.59l7.78-7.78 2.81-2.81c.8-.78.8-2.07 0-2.86zM5.41 20L4 18.59l7.72-7.72 1.47 1.35L5.41 20z\"/>\n",
              "  </svg>\n",
              "      </button>\n",
              "      \n",
              "  <style>\n",
              "    .colab-df-container {\n",
              "      display:flex;\n",
              "      flex-wrap:wrap;\n",
              "      gap: 12px;\n",
              "    }\n",
              "\n",
              "    .colab-df-convert {\n",
              "      background-color: #E8F0FE;\n",
              "      border: none;\n",
              "      border-radius: 50%;\n",
              "      cursor: pointer;\n",
              "      display: none;\n",
              "      fill: #1967D2;\n",
              "      height: 32px;\n",
              "      padding: 0 0 0 0;\n",
              "      width: 32px;\n",
              "    }\n",
              "\n",
              "    .colab-df-convert:hover {\n",
              "      background-color: #E2EBFA;\n",
              "      box-shadow: 0px 1px 2px rgba(60, 64, 67, 0.3), 0px 1px 3px 1px rgba(60, 64, 67, 0.15);\n",
              "      fill: #174EA6;\n",
              "    }\n",
              "\n",
              "    [theme=dark] .colab-df-convert {\n",
              "      background-color: #3B4455;\n",
              "      fill: #D2E3FC;\n",
              "    }\n",
              "\n",
              "    [theme=dark] .colab-df-convert:hover {\n",
              "      background-color: #434B5C;\n",
              "      box-shadow: 0px 1px 3px 1px rgba(0, 0, 0, 0.15);\n",
              "      filter: drop-shadow(0px 1px 2px rgba(0, 0, 0, 0.3));\n",
              "      fill: #FFFFFF;\n",
              "    }\n",
              "  </style>\n",
              "\n",
              "      <script>\n",
              "        const buttonEl =\n",
              "          document.querySelector('#df-815c85a1-53e6-46ed-9d22-050a87943dc0 button.colab-df-convert');\n",
              "        buttonEl.style.display =\n",
              "          google.colab.kernel.accessAllowed ? 'block' : 'none';\n",
              "\n",
              "        async function convertToInteractive(key) {\n",
              "          const element = document.querySelector('#df-815c85a1-53e6-46ed-9d22-050a87943dc0');\n",
              "          const dataTable =\n",
              "            await google.colab.kernel.invokeFunction('convertToInteractive',\n",
              "                                                     [key], {});\n",
              "          if (!dataTable) return;\n",
              "\n",
              "          const docLinkHtml = 'Like what you see? Visit the ' +\n",
              "            '<a target=\"_blank\" href=https://colab.research.google.com/notebooks/data_table.ipynb>data table notebook</a>'\n",
              "            + ' to learn more about interactive tables.';\n",
              "          element.innerHTML = '';\n",
              "          dataTable['output_type'] = 'display_data';\n",
              "          await google.colab.output.renderOutput(dataTable, element);\n",
              "          const docLink = document.createElement('div');\n",
              "          docLink.innerHTML = docLinkHtml;\n",
              "          element.appendChild(docLink);\n",
              "        }\n",
              "      </script>\n",
              "    </div>\n",
              "  </div>\n",
              "  "
            ],
            "text/plain": [
              "                                             content                                        new_content\n",
              "0                      I cannot open the app anymore                      i cannot open the app anymore\n",
              "1  I have been begging for a refund from this app...  i have been begging for a refund from this app...\n",
              "2  Very costly for the premium version (approx In...  very costly for the premium version (approx in...\n",
              "3  Used to keep me organized, but all the 2020 UP...  used to keep me organized, but all the 2020 up...\n",
              "4                                Dan Birthday Oct 28                                dan birthday oct 28"
            ]
          },
          "metadata": {},
          "execution_count": 24
        }
      ],
      "source": [
        "PS_reviews_data['new_content'] = PS_reviews_data['content'].apply(lambda x: str(x).lower())\n",
        "PS_reviews_data[['content','new_content']].head()"
      ]
    },
    {
      "cell_type": "markdown",
      "id": "217b602c",
      "metadata": {
        "id": "217b602c",
        "papermill": {
          "duration": 0.051553,
          "end_time": "2021-11-16T08:09:07.651305",
          "exception": false,
          "start_time": "2021-11-16T08:09:07.599752",
          "status": "completed"
        },
        "tags": []
      },
      "source": [
        "## 3. REMOVE NON-ALPHA DATA(DIGITS,PUNCTUATIONS,DIACRITICS)"
      ]
    },
    {
      "cell_type": "code",
      "execution_count": 25,
      "id": "d5fde661",
      "metadata": {
        "execution": {
          "iopub.execute_input": "2021-11-16T08:09:07.757446Z",
          "iopub.status.busy": "2021-11-16T08:09:07.756751Z",
          "iopub.status.idle": "2021-11-16T08:09:07.785595Z",
          "shell.execute_reply": "2021-11-16T08:09:07.785076Z",
          "shell.execute_reply.started": "2021-11-16T08:04:04.528506Z"
        },
        "id": "d5fde661",
        "outputId": "24ec4513-eb6a-421a-80ca-3a14f70e8187",
        "papermill": {
          "duration": 0.083337,
          "end_time": "2021-11-16T08:09:07.785737",
          "exception": false,
          "start_time": "2021-11-16T08:09:07.702400",
          "status": "completed"
        },
        "tags": [],
        "colab": {
          "base_uri": "https://localhost:8080/"
        }
      },
      "outputs": [
        {
          "output_type": "execute_result",
          "data": {
            "text/plain": [
              "2    very costly for the premium version (approx in...\n",
              "3    used to keep me organized, but all the 2020 up...\n",
              "4                                  dan birthday oct 28\n",
              "5    it has changed how i viewed my different lists...\n",
              "6    i'm only looking for a grocery list app but ev...\n",
              "Name: new_content, dtype: object"
            ]
          },
          "metadata": {},
          "execution_count": 25
        }
      ],
      "source": [
        "PS_reviews_data.loc[PS_reviews_data['new_content'].str.contains(\"[^a-z\\s]\"),'new_content'].head()\n",
        "\n",
        "# From below data we can notice that there are many rows that has non-aplhabet data"
      ]
    },
    {
      "cell_type": "code",
      "execution_count": 26,
      "id": "7629c078",
      "metadata": {
        "execution": {
          "iopub.execute_input": "2021-11-16T08:09:07.906338Z",
          "iopub.status.busy": "2021-11-16T08:09:07.901279Z",
          "iopub.status.idle": "2021-11-16T08:09:07.992831Z",
          "shell.execute_reply": "2021-11-16T08:09:07.992322Z",
          "shell.execute_reply.started": "2021-11-16T08:04:04.556949Z"
        },
        "id": "7629c078",
        "outputId": "1f6b0e25-21f1-473f-986b-bc46439cec61",
        "papermill": {
          "duration": 0.155628,
          "end_time": "2021-11-16T08:09:07.992985",
          "exception": false,
          "start_time": "2021-11-16T08:09:07.837357",
          "status": "completed"
        },
        "tags": [],
        "colab": {
          "base_uri": "https://localhost:8080/",
          "height": 206
        }
      },
      "outputs": [
        {
          "output_type": "execute_result",
          "data": {
            "text/html": [
              "\n",
              "  <div id=\"df-a5ab4dd8-8247-41e3-94e0-9199640dfe4a\">\n",
              "    <div class=\"colab-df-container\">\n",
              "      <div>\n",
              "<style scoped>\n",
              "    .dataframe tbody tr th:only-of-type {\n",
              "        vertical-align: middle;\n",
              "    }\n",
              "\n",
              "    .dataframe tbody tr th {\n",
              "        vertical-align: top;\n",
              "    }\n",
              "\n",
              "    .dataframe thead th {\n",
              "        text-align: right;\n",
              "    }\n",
              "</style>\n",
              "<table border=\"1\" class=\"dataframe\">\n",
              "  <thead>\n",
              "    <tr style=\"text-align: right;\">\n",
              "      <th></th>\n",
              "      <th>content</th>\n",
              "      <th>new_content</th>\n",
              "    </tr>\n",
              "  </thead>\n",
              "  <tbody>\n",
              "    <tr>\n",
              "      <th>0</th>\n",
              "      <td>I cannot open the app anymore</td>\n",
              "      <td>i cannot open the app anymore</td>\n",
              "    </tr>\n",
              "    <tr>\n",
              "      <th>1</th>\n",
              "      <td>I have been begging for a refund from this app...</td>\n",
              "      <td>i have been begging for a refund from this app...</td>\n",
              "    </tr>\n",
              "    <tr>\n",
              "      <th>2</th>\n",
              "      <td>Very costly for the premium version (approx In...</td>\n",
              "      <td>very costly for the premium version  approx in...</td>\n",
              "    </tr>\n",
              "    <tr>\n",
              "      <th>3</th>\n",
              "      <td>Used to keep me organized, but all the 2020 UP...</td>\n",
              "      <td>used to keep me organized  but all the      up...</td>\n",
              "    </tr>\n",
              "    <tr>\n",
              "      <th>4</th>\n",
              "      <td>Dan Birthday Oct 28</td>\n",
              "      <td>dan birthday oct</td>\n",
              "    </tr>\n",
              "  </tbody>\n",
              "</table>\n",
              "</div>\n",
              "      <button class=\"colab-df-convert\" onclick=\"convertToInteractive('df-a5ab4dd8-8247-41e3-94e0-9199640dfe4a')\"\n",
              "              title=\"Convert this dataframe to an interactive table.\"\n",
              "              style=\"display:none;\">\n",
              "        \n",
              "  <svg xmlns=\"http://www.w3.org/2000/svg\" height=\"24px\"viewBox=\"0 0 24 24\"\n",
              "       width=\"24px\">\n",
              "    <path d=\"M0 0h24v24H0V0z\" fill=\"none\"/>\n",
              "    <path d=\"M18.56 5.44l.94 2.06.94-2.06 2.06-.94-2.06-.94-.94-2.06-.94 2.06-2.06.94zm-11 1L8.5 8.5l.94-2.06 2.06-.94-2.06-.94L8.5 2.5l-.94 2.06-2.06.94zm10 10l.94 2.06.94-2.06 2.06-.94-2.06-.94-.94-2.06-.94 2.06-2.06.94z\"/><path d=\"M17.41 7.96l-1.37-1.37c-.4-.4-.92-.59-1.43-.59-.52 0-1.04.2-1.43.59L10.3 9.45l-7.72 7.72c-.78.78-.78 2.05 0 2.83L4 21.41c.39.39.9.59 1.41.59.51 0 1.02-.2 1.41-.59l7.78-7.78 2.81-2.81c.8-.78.8-2.07 0-2.86zM5.41 20L4 18.59l7.72-7.72 1.47 1.35L5.41 20z\"/>\n",
              "  </svg>\n",
              "      </button>\n",
              "      \n",
              "  <style>\n",
              "    .colab-df-container {\n",
              "      display:flex;\n",
              "      flex-wrap:wrap;\n",
              "      gap: 12px;\n",
              "    }\n",
              "\n",
              "    .colab-df-convert {\n",
              "      background-color: #E8F0FE;\n",
              "      border: none;\n",
              "      border-radius: 50%;\n",
              "      cursor: pointer;\n",
              "      display: none;\n",
              "      fill: #1967D2;\n",
              "      height: 32px;\n",
              "      padding: 0 0 0 0;\n",
              "      width: 32px;\n",
              "    }\n",
              "\n",
              "    .colab-df-convert:hover {\n",
              "      background-color: #E2EBFA;\n",
              "      box-shadow: 0px 1px 2px rgba(60, 64, 67, 0.3), 0px 1px 3px 1px rgba(60, 64, 67, 0.15);\n",
              "      fill: #174EA6;\n",
              "    }\n",
              "\n",
              "    [theme=dark] .colab-df-convert {\n",
              "      background-color: #3B4455;\n",
              "      fill: #D2E3FC;\n",
              "    }\n",
              "\n",
              "    [theme=dark] .colab-df-convert:hover {\n",
              "      background-color: #434B5C;\n",
              "      box-shadow: 0px 1px 3px 1px rgba(0, 0, 0, 0.15);\n",
              "      filter: drop-shadow(0px 1px 2px rgba(0, 0, 0, 0.3));\n",
              "      fill: #FFFFFF;\n",
              "    }\n",
              "  </style>\n",
              "\n",
              "      <script>\n",
              "        const buttonEl =\n",
              "          document.querySelector('#df-a5ab4dd8-8247-41e3-94e0-9199640dfe4a button.colab-df-convert');\n",
              "        buttonEl.style.display =\n",
              "          google.colab.kernel.accessAllowed ? 'block' : 'none';\n",
              "\n",
              "        async function convertToInteractive(key) {\n",
              "          const element = document.querySelector('#df-a5ab4dd8-8247-41e3-94e0-9199640dfe4a');\n",
              "          const dataTable =\n",
              "            await google.colab.kernel.invokeFunction('convertToInteractive',\n",
              "                                                     [key], {});\n",
              "          if (!dataTable) return;\n",
              "\n",
              "          const docLinkHtml = 'Like what you see? Visit the ' +\n",
              "            '<a target=\"_blank\" href=https://colab.research.google.com/notebooks/data_table.ipynb>data table notebook</a>'\n",
              "            + ' to learn more about interactive tables.';\n",
              "          element.innerHTML = '';\n",
              "          dataTable['output_type'] = 'display_data';\n",
              "          await google.colab.output.renderOutput(dataTable, element);\n",
              "          const docLink = document.createElement('div');\n",
              "          docLink.innerHTML = docLinkHtml;\n",
              "          element.appendChild(docLink);\n",
              "        }\n",
              "      </script>\n",
              "    </div>\n",
              "  </div>\n",
              "  "
            ],
            "text/plain": [
              "                                             content                                        new_content\n",
              "0                      I cannot open the app anymore                      i cannot open the app anymore\n",
              "1  I have been begging for a refund from this app...  i have been begging for a refund from this app...\n",
              "2  Very costly for the premium version (approx In...  very costly for the premium version  approx in...\n",
              "3  Used to keep me organized, but all the 2020 UP...  used to keep me organized  but all the      up...\n",
              "4                                Dan Birthday Oct 28                                dan birthday oct   "
            ]
          },
          "metadata": {},
          "execution_count": 26
        }
      ],
      "source": [
        "PS_reviews_data['new_content'] = PS_reviews_data['new_content'].str.replace(r'[^a-zA-Z\\s]', ' ') # replacing junk data with space\n",
        "PS_reviews_data[['content','new_content']].head()"
      ]
    },
    {
      "cell_type": "code",
      "execution_count": 27,
      "id": "437e853a",
      "metadata": {
        "execution": {
          "iopub.execute_input": "2021-11-16T08:09:08.126855Z",
          "iopub.status.busy": "2021-11-16T08:09:08.103682Z",
          "iopub.status.idle": "2021-11-16T08:09:08.162005Z",
          "shell.execute_reply": "2021-11-16T08:09:08.162535Z",
          "shell.execute_reply.started": "2021-11-16T08:04:04.659497Z"
        },
        "id": "437e853a",
        "outputId": "9ceb8466-6563-4c75-df5d-41c164315f37",
        "papermill": {
          "duration": 0.118022,
          "end_time": "2021-11-16T08:09:08.162722",
          "exception": false,
          "start_time": "2021-11-16T08:09:08.044700",
          "status": "completed"
        },
        "tags": [],
        "colab": {
          "base_uri": "https://localhost:8080/"
        }
      },
      "outputs": [
        {
          "output_type": "execute_result",
          "data": {
            "text/plain": [
              "Series([], Name: new_content, dtype: object)"
            ]
          },
          "metadata": {},
          "execution_count": 27
        }
      ],
      "source": [
        "PS_reviews_data.loc[PS_reviews_data['new_content'].str.contains(\"[^a-z\\s]\"),'new_content']\n",
        "# Our data now contains only alphabets"
      ]
    },
    {
      "cell_type": "code",
      "execution_count": 28,
      "id": "85cbafec",
      "metadata": {
        "execution": {
          "iopub.execute_input": "2021-11-16T08:09:08.275097Z",
          "iopub.status.busy": "2021-11-16T08:09:08.274424Z",
          "iopub.status.idle": "2021-11-16T08:09:08.347398Z",
          "shell.execute_reply": "2021-11-16T08:09:08.347881Z",
          "shell.execute_reply.started": "2021-11-16T08:04:04.731028Z"
        },
        "id": "85cbafec",
        "outputId": "96ee8fbd-5fb7-4a35-9e6f-41be03f9189f",
        "papermill": {
          "duration": 0.132883,
          "end_time": "2021-11-16T08:09:08.348097",
          "exception": false,
          "start_time": "2021-11-16T08:09:08.215214",
          "status": "completed"
        },
        "tags": [],
        "colab": {
          "base_uri": "https://localhost:8080/",
          "height": 327
        }
      },
      "outputs": [
        {
          "output_type": "execute_result",
          "data": {
            "text/html": [
              "<style  type=\"text/css\" >\n",
              "#T_faf057fa_7f4f_11ec_94bd_0242ac1c0002row0_col0,#T_faf057fa_7f4f_11ec_94bd_0242ac1c0002row0_col1,#T_faf057fa_7f4f_11ec_94bd_0242ac1c0002row1_col0,#T_faf057fa_7f4f_11ec_94bd_0242ac1c0002row1_col1,#T_faf057fa_7f4f_11ec_94bd_0242ac1c0002row2_col0,#T_faf057fa_7f4f_11ec_94bd_0242ac1c0002row2_col1,#T_faf057fa_7f4f_11ec_94bd_0242ac1c0002row3_col0,#T_faf057fa_7f4f_11ec_94bd_0242ac1c0002row3_col1,#T_faf057fa_7f4f_11ec_94bd_0242ac1c0002row4_col0,#T_faf057fa_7f4f_11ec_94bd_0242ac1c0002row4_col1{\n",
              "            width:  400px;\n",
              "        }</style><table id=\"T_faf057fa_7f4f_11ec_94bd_0242ac1c0002\" class=\"dataframe\"><thead>    <tr>        <th class=\"blank level0\" ></th>        <th class=\"col_heading level0 col0\" >content</th>        <th class=\"col_heading level0 col1\" >new_content</th>    </tr></thead><tbody>\n",
              "                <tr>\n",
              "                        <th id=\"T_faf057fa_7f4f_11ec_94bd_0242ac1c0002level0_row0\" class=\"row_heading level0 row0\" >0</th>\n",
              "                        <td id=\"T_faf057fa_7f4f_11ec_94bd_0242ac1c0002row0_col0\" class=\"data row0 col0\" >I cannot open the app anymore</td>\n",
              "                        <td id=\"T_faf057fa_7f4f_11ec_94bd_0242ac1c0002row0_col1\" class=\"data row0 col1\" >i cannot open the app anymore</td>\n",
              "            </tr>\n",
              "            <tr>\n",
              "                        <th id=\"T_faf057fa_7f4f_11ec_94bd_0242ac1c0002level0_row1\" class=\"row_heading level0 row1\" >1</th>\n",
              "                        <td id=\"T_faf057fa_7f4f_11ec_94bd_0242ac1c0002row1_col0\" class=\"data row1 col0\" >I have been begging for a refund from this app for over a month and nobody is replying me</td>\n",
              "                        <td id=\"T_faf057fa_7f4f_11ec_94bd_0242ac1c0002row1_col1\" class=\"data row1 col1\" >i have been begging for a refund from this app for over a month and nobody is replying me</td>\n",
              "            </tr>\n",
              "            <tr>\n",
              "                        <th id=\"T_faf057fa_7f4f_11ec_94bd_0242ac1c0002level0_row2\" class=\"row_heading level0 row2\" >2</th>\n",
              "                        <td id=\"T_faf057fa_7f4f_11ec_94bd_0242ac1c0002row2_col0\" class=\"data row2 col0\" >Very costly for the premium version (approx Indian Rupees 910 per year). Better to download the premium version of this app from apkmos website and use it. Microsoft to do list app is far more better.</td>\n",
              "                        <td id=\"T_faf057fa_7f4f_11ec_94bd_0242ac1c0002row2_col1\" class=\"data row2 col1\" >very costly for the premium version  approx indian rupees     per year   better to download the premium version of this app from apkmos website and use it  microsoft to do list app is far more better </td>\n",
              "            </tr>\n",
              "            <tr>\n",
              "                        <th id=\"T_faf057fa_7f4f_11ec_94bd_0242ac1c0002level0_row3\" class=\"row_heading level0 row3\" >3</th>\n",
              "                        <td id=\"T_faf057fa_7f4f_11ec_94bd_0242ac1c0002row3_col0\" class=\"data row3 col0\" >Used to keep me organized, but all the 2020 UPDATES have made a mess of things !!! Y cudn't u leave well enuf alone ??? Guess ur techies feel the need to keep making changes to justify continuing to collect their salary !!! 🤤🤤🤤</td>\n",
              "                        <td id=\"T_faf057fa_7f4f_11ec_94bd_0242ac1c0002row3_col1\" class=\"data row3 col1\" >used to keep me organized  but all the      updates have made a mess of things     y cudn t u leave well enuf alone     guess ur techies feel the need to keep making changes to justify continuing to collect their salary        </td>\n",
              "            </tr>\n",
              "            <tr>\n",
              "                        <th id=\"T_faf057fa_7f4f_11ec_94bd_0242ac1c0002level0_row4\" class=\"row_heading level0 row4\" >4</th>\n",
              "                        <td id=\"T_faf057fa_7f4f_11ec_94bd_0242ac1c0002row4_col0\" class=\"data row4 col0\" >Dan Birthday Oct 28</td>\n",
              "                        <td id=\"T_faf057fa_7f4f_11ec_94bd_0242ac1c0002row4_col1\" class=\"data row4 col1\" >dan birthday oct   </td>\n",
              "            </tr>\n",
              "    </tbody></table>"
            ],
            "text/plain": [
              "<pandas.io.formats.style.Styler at 0x7f73e53412d0>"
            ]
          },
          "metadata": {},
          "execution_count": 28
        }
      ],
      "source": [
        "PS_reviews_data[['content','new_content']].head().style.set_properties( **{'width': '400px'})"
      ]
    },
    {
      "cell_type": "markdown",
      "id": "4bcf91b8",
      "metadata": {
        "id": "4bcf91b8",
        "papermill": {
          "duration": 0.052435,
          "end_time": "2021-11-16T08:09:08.453556",
          "exception": false,
          "start_time": "2021-11-16T08:09:08.401121",
          "status": "completed"
        },
        "tags": []
      },
      "source": [
        "## 4. REMOVING WHITE SPACE"
      ]
    },
    {
      "cell_type": "code",
      "execution_count": 29,
      "id": "0466fbf2",
      "metadata": {
        "execution": {
          "iopub.execute_input": "2021-11-16T08:09:08.581765Z",
          "iopub.status.busy": "2021-11-16T08:09:08.581092Z",
          "iopub.status.idle": "2021-11-16T08:09:08.598582Z",
          "shell.execute_reply": "2021-11-16T08:09:08.598035Z",
          "shell.execute_reply.started": "2021-11-16T08:04:04.747773Z"
        },
        "id": "0466fbf2",
        "outputId": "43ebe7d4-57ea-4d5e-ac00-d8a6724de3bd",
        "papermill": {
          "duration": 0.092654,
          "end_time": "2021-11-16T08:09:08.598722",
          "exception": false,
          "start_time": "2021-11-16T08:09:08.506068",
          "status": "completed"
        },
        "tags": [],
        "colab": {
          "base_uri": "https://localhost:8080/"
        }
      },
      "outputs": [
        {
          "output_type": "execute_result",
          "data": {
            "text/plain": [
              "2    very costly for the premium version  approx in...\n",
              "3    used to keep me organized  but all the      up...\n",
              "4                                  dan birthday oct   \n",
              "5    it has changed how i viewed my different lists...\n",
              "6    i m only looking for a grocery list app but ev...\n",
              "Name: new_content, dtype: object"
            ]
          },
          "metadata": {},
          "execution_count": 29
        }
      ],
      "source": [
        "PS_reviews_data.loc[PS_reviews_data['new_content'].str.contains(\"\\s{2,}\"),'new_content'].head()\n",
        "# From below data we can notice after removing non-alphabet data we have extra spaces(2 or more) in between"
      ]
    },
    {
      "cell_type": "code",
      "execution_count": 30,
      "id": "c60a78ac",
      "metadata": {
        "execution": {
          "iopub.execute_input": "2021-11-16T08:09:08.712509Z",
          "iopub.status.busy": "2021-11-16T08:09:08.711856Z",
          "iopub.status.idle": "2021-11-16T08:09:08.805172Z",
          "shell.execute_reply": "2021-11-16T08:09:08.804597Z",
          "shell.execute_reply.started": "2021-11-16T08:04:04.807104Z"
        },
        "id": "c60a78ac",
        "papermill": {
          "duration": 0.153453,
          "end_time": "2021-11-16T08:09:08.805319",
          "exception": false,
          "start_time": "2021-11-16T08:09:08.651866",
          "status": "completed"
        },
        "tags": []
      },
      "outputs": [],
      "source": [
        "PS_reviews_data['new_content'] = PS_reviews_data['new_content'].str.replace(r'\\s{2,}', ' ')"
      ]
    },
    {
      "cell_type": "markdown",
      "id": "09c75ae9",
      "metadata": {
        "id": "09c75ae9",
        "papermill": {
          "duration": 0.053625,
          "end_time": "2021-11-16T08:09:08.913455",
          "exception": false,
          "start_time": "2021-11-16T08:09:08.859830",
          "status": "completed"
        },
        "tags": []
      },
      "source": [
        "## 5. WORD TOKENIZATION"
      ]
    },
    {
      "cell_type": "code",
      "execution_count": 31,
      "id": "ef1942e7",
      "metadata": {
        "execution": {
          "iopub.execute_input": "2021-11-16T08:09:09.026710Z",
          "iopub.status.busy": "2021-11-16T08:09:09.026046Z",
          "iopub.status.idle": "2021-11-16T08:09:09.096489Z",
          "shell.execute_reply": "2021-11-16T08:09:09.096993Z",
          "shell.execute_reply.started": "2021-11-16T08:04:04.959253Z"
        },
        "id": "ef1942e7",
        "outputId": "1fa5658c-3b7d-45b1-febd-3c7c31071cc3",
        "papermill": {
          "duration": 0.129094,
          "end_time": "2021-11-16T08:09:09.097175",
          "exception": false,
          "start_time": "2021-11-16T08:09:08.968081",
          "status": "completed"
        },
        "tags": [],
        "colab": {
          "base_uri": "https://localhost:8080/"
        }
      },
      "outputs": [
        {
          "output_type": "stream",
          "name": "stdout",
          "text": [
            "[nltk_data] Downloading package punkt to /root/nltk_data...\n",
            "[nltk_data]   Unzipping tokenizers/punkt.zip.\n"
          ]
        },
        {
          "output_type": "execute_result",
          "data": {
            "text/plain": [
              "True"
            ]
          },
          "metadata": {},
          "execution_count": 31
        }
      ],
      "source": [
        "from nltk.tokenize import word_tokenize\n",
        "nltk.download('punkt')"
      ]
    },
    {
      "cell_type": "code",
      "execution_count": 32,
      "id": "7f52eb81",
      "metadata": {
        "execution": {
          "iopub.execute_input": "2021-11-16T08:09:09.211658Z",
          "iopub.status.busy": "2021-11-16T08:09:09.210795Z",
          "iopub.status.idle": "2021-11-16T08:09:12.945781Z",
          "shell.execute_reply": "2021-11-16T08:09:12.946296Z",
          "shell.execute_reply.started": "2021-11-16T08:04:04.969212Z"
        },
        "id": "7f52eb81",
        "papermill": {
          "duration": 3.794915,
          "end_time": "2021-11-16T08:09:12.946480",
          "exception": false,
          "start_time": "2021-11-16T08:09:09.151565",
          "status": "completed"
        },
        "tags": []
      },
      "outputs": [],
      "source": [
        "PS_reviews_data['new_content'] = PS_reviews_data['new_content'].apply(lambda x: word_tokenize(x))"
      ]
    },
    {
      "cell_type": "code",
      "execution_count": 33,
      "id": "456908d5",
      "metadata": {
        "execution": {
          "iopub.execute_input": "2021-11-16T08:09:13.058739Z",
          "iopub.status.busy": "2021-11-16T08:09:13.057785Z",
          "iopub.status.idle": "2021-11-16T08:09:13.071182Z",
          "shell.execute_reply": "2021-11-16T08:09:13.071704Z",
          "shell.execute_reply.started": "2021-11-16T08:04:09.357563Z"
        },
        "id": "456908d5",
        "outputId": "62845dd4-8237-478b-c791-258509ada9eb",
        "papermill": {
          "duration": 0.071351,
          "end_time": "2021-11-16T08:09:13.071875",
          "exception": false,
          "start_time": "2021-11-16T08:09:13.000524",
          "status": "completed"
        },
        "tags": [],
        "colab": {
          "base_uri": "https://localhost:8080/",
          "height": 206
        }
      },
      "outputs": [
        {
          "output_type": "execute_result",
          "data": {
            "text/html": [
              "\n",
              "  <div id=\"df-0e7841a2-0f25-4ff1-97e1-865f85bc4072\">\n",
              "    <div class=\"colab-df-container\">\n",
              "      <div>\n",
              "<style scoped>\n",
              "    .dataframe tbody tr th:only-of-type {\n",
              "        vertical-align: middle;\n",
              "    }\n",
              "\n",
              "    .dataframe tbody tr th {\n",
              "        vertical-align: top;\n",
              "    }\n",
              "\n",
              "    .dataframe thead th {\n",
              "        text-align: right;\n",
              "    }\n",
              "</style>\n",
              "<table border=\"1\" class=\"dataframe\">\n",
              "  <thead>\n",
              "    <tr style=\"text-align: right;\">\n",
              "      <th></th>\n",
              "      <th>content</th>\n",
              "      <th>new_content</th>\n",
              "    </tr>\n",
              "  </thead>\n",
              "  <tbody>\n",
              "    <tr>\n",
              "      <th>0</th>\n",
              "      <td>I cannot open the app anymore</td>\n",
              "      <td>[i, can, not, open, the, app, anymore]</td>\n",
              "    </tr>\n",
              "    <tr>\n",
              "      <th>1</th>\n",
              "      <td>I have been begging for a refund from this app...</td>\n",
              "      <td>[i, have, been, begging, for, a, refund, from,...</td>\n",
              "    </tr>\n",
              "    <tr>\n",
              "      <th>2</th>\n",
              "      <td>Very costly for the premium version (approx In...</td>\n",
              "      <td>[very, costly, for, the, premium, version, app...</td>\n",
              "    </tr>\n",
              "    <tr>\n",
              "      <th>3</th>\n",
              "      <td>Used to keep me organized, but all the 2020 UP...</td>\n",
              "      <td>[used, to, keep, me, organized, but, all, the,...</td>\n",
              "    </tr>\n",
              "    <tr>\n",
              "      <th>4</th>\n",
              "      <td>Dan Birthday Oct 28</td>\n",
              "      <td>[dan, birthday, oct]</td>\n",
              "    </tr>\n",
              "  </tbody>\n",
              "</table>\n",
              "</div>\n",
              "      <button class=\"colab-df-convert\" onclick=\"convertToInteractive('df-0e7841a2-0f25-4ff1-97e1-865f85bc4072')\"\n",
              "              title=\"Convert this dataframe to an interactive table.\"\n",
              "              style=\"display:none;\">\n",
              "        \n",
              "  <svg xmlns=\"http://www.w3.org/2000/svg\" height=\"24px\"viewBox=\"0 0 24 24\"\n",
              "       width=\"24px\">\n",
              "    <path d=\"M0 0h24v24H0V0z\" fill=\"none\"/>\n",
              "    <path d=\"M18.56 5.44l.94 2.06.94-2.06 2.06-.94-2.06-.94-.94-2.06-.94 2.06-2.06.94zm-11 1L8.5 8.5l.94-2.06 2.06-.94-2.06-.94L8.5 2.5l-.94 2.06-2.06.94zm10 10l.94 2.06.94-2.06 2.06-.94-2.06-.94-.94-2.06-.94 2.06-2.06.94z\"/><path d=\"M17.41 7.96l-1.37-1.37c-.4-.4-.92-.59-1.43-.59-.52 0-1.04.2-1.43.59L10.3 9.45l-7.72 7.72c-.78.78-.78 2.05 0 2.83L4 21.41c.39.39.9.59 1.41.59.51 0 1.02-.2 1.41-.59l7.78-7.78 2.81-2.81c.8-.78.8-2.07 0-2.86zM5.41 20L4 18.59l7.72-7.72 1.47 1.35L5.41 20z\"/>\n",
              "  </svg>\n",
              "      </button>\n",
              "      \n",
              "  <style>\n",
              "    .colab-df-container {\n",
              "      display:flex;\n",
              "      flex-wrap:wrap;\n",
              "      gap: 12px;\n",
              "    }\n",
              "\n",
              "    .colab-df-convert {\n",
              "      background-color: #E8F0FE;\n",
              "      border: none;\n",
              "      border-radius: 50%;\n",
              "      cursor: pointer;\n",
              "      display: none;\n",
              "      fill: #1967D2;\n",
              "      height: 32px;\n",
              "      padding: 0 0 0 0;\n",
              "      width: 32px;\n",
              "    }\n",
              "\n",
              "    .colab-df-convert:hover {\n",
              "      background-color: #E2EBFA;\n",
              "      box-shadow: 0px 1px 2px rgba(60, 64, 67, 0.3), 0px 1px 3px 1px rgba(60, 64, 67, 0.15);\n",
              "      fill: #174EA6;\n",
              "    }\n",
              "\n",
              "    [theme=dark] .colab-df-convert {\n",
              "      background-color: #3B4455;\n",
              "      fill: #D2E3FC;\n",
              "    }\n",
              "\n",
              "    [theme=dark] .colab-df-convert:hover {\n",
              "      background-color: #434B5C;\n",
              "      box-shadow: 0px 1px 3px 1px rgba(0, 0, 0, 0.15);\n",
              "      filter: drop-shadow(0px 1px 2px rgba(0, 0, 0, 0.3));\n",
              "      fill: #FFFFFF;\n",
              "    }\n",
              "  </style>\n",
              "\n",
              "      <script>\n",
              "        const buttonEl =\n",
              "          document.querySelector('#df-0e7841a2-0f25-4ff1-97e1-865f85bc4072 button.colab-df-convert');\n",
              "        buttonEl.style.display =\n",
              "          google.colab.kernel.accessAllowed ? 'block' : 'none';\n",
              "\n",
              "        async function convertToInteractive(key) {\n",
              "          const element = document.querySelector('#df-0e7841a2-0f25-4ff1-97e1-865f85bc4072');\n",
              "          const dataTable =\n",
              "            await google.colab.kernel.invokeFunction('convertToInteractive',\n",
              "                                                     [key], {});\n",
              "          if (!dataTable) return;\n",
              "\n",
              "          const docLinkHtml = 'Like what you see? Visit the ' +\n",
              "            '<a target=\"_blank\" href=https://colab.research.google.com/notebooks/data_table.ipynb>data table notebook</a>'\n",
              "            + ' to learn more about interactive tables.';\n",
              "          element.innerHTML = '';\n",
              "          dataTable['output_type'] = 'display_data';\n",
              "          await google.colab.output.renderOutput(dataTable, element);\n",
              "          const docLink = document.createElement('div');\n",
              "          docLink.innerHTML = docLinkHtml;\n",
              "          element.appendChild(docLink);\n",
              "        }\n",
              "      </script>\n",
              "    </div>\n",
              "  </div>\n",
              "  "
            ],
            "text/plain": [
              "                                             content                                        new_content\n",
              "0                      I cannot open the app anymore             [i, can, not, open, the, app, anymore]\n",
              "1  I have been begging for a refund from this app...  [i, have, been, begging, for, a, refund, from,...\n",
              "2  Very costly for the premium version (approx In...  [very, costly, for, the, premium, version, app...\n",
              "3  Used to keep me organized, but all the 2020 UP...  [used, to, keep, me, organized, but, all, the,...\n",
              "4                                Dan Birthday Oct 28                               [dan, birthday, oct]"
            ]
          },
          "metadata": {},
          "execution_count": 33
        }
      ],
      "source": [
        "PS_reviews_data[['content','new_content']].head()"
      ]
    },
    {
      "cell_type": "markdown",
      "id": "3a3b1d38",
      "metadata": {
        "id": "3a3b1d38",
        "papermill": {
          "duration": 0.053707,
          "end_time": "2021-11-16T08:09:13.179645",
          "exception": false,
          "start_time": "2021-11-16T08:09:13.125938",
          "status": "completed"
        },
        "tags": []
      },
      "source": [
        "## 6. REMOVE STOP WORDS"
      ]
    },
    {
      "cell_type": "code",
      "execution_count": 34,
      "id": "0632f27f",
      "metadata": {
        "execution": {
          "iopub.execute_input": "2021-11-16T08:09:13.305758Z",
          "iopub.status.busy": "2021-11-16T08:09:13.292666Z",
          "iopub.status.idle": "2021-11-16T08:09:23.791097Z",
          "shell.execute_reply": "2021-11-16T08:09:23.790418Z",
          "shell.execute_reply.started": "2021-11-16T08:04:09.378306Z"
        },
        "id": "0632f27f",
        "outputId": "17299dfd-7a2a-443c-a64e-5a0c9165575f",
        "papermill": {
          "duration": 10.557528,
          "end_time": "2021-11-16T08:09:23.791315",
          "exception": false,
          "start_time": "2021-11-16T08:09:13.233787",
          "status": "completed"
        },
        "tags": [],
        "colab": {
          "base_uri": "https://localhost:8080/"
        }
      },
      "outputs": [
        {
          "output_type": "stream",
          "name": "stdout",
          "text": [
            "Collecting stopwords\n",
            "  Downloading stopwords-1.0.0-py2.py3-none-any.whl (37 kB)\n",
            "Installing collected packages: stopwords\n",
            "Successfully installed stopwords-1.0.0\n"
          ]
        }
      ],
      "source": [
        "!pip install stopwords"
      ]
    },
    {
      "cell_type": "code",
      "execution_count": 35,
      "id": "600415e7",
      "metadata": {
        "execution": {
          "iopub.execute_input": "2021-11-16T08:09:23.907700Z",
          "iopub.status.busy": "2021-11-16T08:09:23.906730Z",
          "iopub.status.idle": "2021-11-16T08:09:23.919694Z",
          "shell.execute_reply": "2021-11-16T08:09:23.920227Z",
          "shell.execute_reply.started": "2021-11-16T08:04:16.334839Z"
        },
        "id": "600415e7",
        "outputId": "64faa398-f17b-4202-fa9b-3316000b28a6",
        "papermill": {
          "duration": 0.072878,
          "end_time": "2021-11-16T08:09:23.920409",
          "exception": false,
          "start_time": "2021-11-16T08:09:23.847531",
          "status": "completed"
        },
        "tags": [],
        "colab": {
          "base_uri": "https://localhost:8080/"
        }
      },
      "outputs": [
        {
          "output_type": "stream",
          "name": "stdout",
          "text": [
            "[nltk_data] Downloading package stopwords to /root/nltk_data...\n",
            "[nltk_data]   Unzipping corpora/stopwords.zip.\n"
          ]
        },
        {
          "output_type": "execute_result",
          "data": {
            "text/plain": [
              "True"
            ]
          },
          "metadata": {},
          "execution_count": 35
        }
      ],
      "source": [
        "from nltk.corpus import stopwords\n",
        "nltk.download('stopwords')"
      ]
    },
    {
      "cell_type": "code",
      "execution_count": 36,
      "id": "6cffabeb",
      "metadata": {
        "execution": {
          "iopub.execute_input": "2021-11-16T08:09:24.037328Z",
          "iopub.status.busy": "2021-11-16T08:09:24.036344Z",
          "iopub.status.idle": "2021-11-16T08:09:24.045000Z",
          "shell.execute_reply": "2021-11-16T08:09:24.045516Z",
          "shell.execute_reply.started": "2021-11-16T08:04:16.345226Z"
        },
        "id": "6cffabeb",
        "outputId": "4d08b8e9-b639-435f-ebe4-2de7e64cc6c1",
        "papermill": {
          "duration": 0.068808,
          "end_time": "2021-11-16T08:09:24.045687",
          "exception": false,
          "start_time": "2021-11-16T08:09:23.976879",
          "status": "completed"
        },
        "tags": [],
        "colab": {
          "base_uri": "https://localhost:8080/"
        }
      },
      "outputs": [
        {
          "output_type": "execute_result",
          "data": {
            "text/plain": [
              "['i',\n",
              " 'me',\n",
              " 'my',\n",
              " 'myself',\n",
              " 'we',\n",
              " 'our',\n",
              " 'ours',\n",
              " 'ourselves',\n",
              " 'you',\n",
              " \"you're\",\n",
              " \"you've\",\n",
              " \"you'll\",\n",
              " \"you'd\",\n",
              " 'your',\n",
              " 'yours',\n",
              " 'yourself',\n",
              " 'yourselves',\n",
              " 'he',\n",
              " 'him',\n",
              " 'his']"
            ]
          },
          "metadata": {},
          "execution_count": 36
        }
      ],
      "source": [
        "stopwords.words(\"english\")[:20]"
      ]
    },
    {
      "cell_type": "code",
      "execution_count": 37,
      "id": "44cdd02b",
      "metadata": {
        "execution": {
          "iopub.execute_input": "2021-11-16T08:09:24.164065Z",
          "iopub.status.busy": "2021-11-16T08:09:24.163363Z",
          "iopub.status.idle": "2021-11-16T08:10:07.778480Z",
          "shell.execute_reply": "2021-11-16T08:10:07.777828Z",
          "shell.execute_reply.started": "2021-11-16T08:04:16.365081Z"
        },
        "id": "44cdd02b",
        "papermill": {
          "duration": 43.675177,
          "end_time": "2021-11-16T08:10:07.778652",
          "exception": false,
          "start_time": "2021-11-16T08:09:24.103475",
          "status": "completed"
        },
        "tags": []
      },
      "outputs": [],
      "source": [
        "PS_reviews_data['new_content'] = PS_reviews_data.new_content.apply(lambda x: [word for word in x if word not in stopwords.words(\"english\")])"
      ]
    },
    {
      "cell_type": "code",
      "execution_count": 38,
      "id": "650e21d9",
      "metadata": {
        "execution": {
          "iopub.execute_input": "2021-11-16T08:10:07.907794Z",
          "iopub.status.busy": "2021-11-16T08:10:07.907104Z",
          "iopub.status.idle": "2021-11-16T08:10:07.910883Z",
          "shell.execute_reply": "2021-11-16T08:10:07.910363Z",
          "shell.execute_reply.started": "2021-11-16T08:05:09.006668Z"
        },
        "id": "650e21d9",
        "outputId": "8e515bae-291a-4841-97c5-40f822590743",
        "papermill": {
          "duration": 0.07529,
          "end_time": "2021-11-16T08:10:07.911041",
          "exception": false,
          "start_time": "2021-11-16T08:10:07.835751",
          "status": "completed"
        },
        "tags": [],
        "colab": {
          "base_uri": "https://localhost:8080/",
          "height": 206
        }
      },
      "outputs": [
        {
          "output_type": "execute_result",
          "data": {
            "text/html": [
              "\n",
              "  <div id=\"df-f05f0d6f-fcfb-4720-adbc-63a6ac6c12c0\">\n",
              "    <div class=\"colab-df-container\">\n",
              "      <div>\n",
              "<style scoped>\n",
              "    .dataframe tbody tr th:only-of-type {\n",
              "        vertical-align: middle;\n",
              "    }\n",
              "\n",
              "    .dataframe tbody tr th {\n",
              "        vertical-align: top;\n",
              "    }\n",
              "\n",
              "    .dataframe thead th {\n",
              "        text-align: right;\n",
              "    }\n",
              "</style>\n",
              "<table border=\"1\" class=\"dataframe\">\n",
              "  <thead>\n",
              "    <tr style=\"text-align: right;\">\n",
              "      <th></th>\n",
              "      <th>content</th>\n",
              "      <th>new_content</th>\n",
              "    </tr>\n",
              "  </thead>\n",
              "  <tbody>\n",
              "    <tr>\n",
              "      <th>0</th>\n",
              "      <td>I cannot open the app anymore</td>\n",
              "      <td>[open, app, anymore]</td>\n",
              "    </tr>\n",
              "    <tr>\n",
              "      <th>1</th>\n",
              "      <td>I have been begging for a refund from this app...</td>\n",
              "      <td>[begging, refund, app, month, nobody, replying]</td>\n",
              "    </tr>\n",
              "    <tr>\n",
              "      <th>2</th>\n",
              "      <td>Very costly for the premium version (approx In...</td>\n",
              "      <td>[costly, premium, version, approx, indian, rup...</td>\n",
              "    </tr>\n",
              "    <tr>\n",
              "      <th>3</th>\n",
              "      <td>Used to keep me organized, but all the 2020 UP...</td>\n",
              "      <td>[used, keep, organized, updates, made, mess, t...</td>\n",
              "    </tr>\n",
              "    <tr>\n",
              "      <th>4</th>\n",
              "      <td>Dan Birthday Oct 28</td>\n",
              "      <td>[dan, birthday, oct]</td>\n",
              "    </tr>\n",
              "  </tbody>\n",
              "</table>\n",
              "</div>\n",
              "      <button class=\"colab-df-convert\" onclick=\"convertToInteractive('df-f05f0d6f-fcfb-4720-adbc-63a6ac6c12c0')\"\n",
              "              title=\"Convert this dataframe to an interactive table.\"\n",
              "              style=\"display:none;\">\n",
              "        \n",
              "  <svg xmlns=\"http://www.w3.org/2000/svg\" height=\"24px\"viewBox=\"0 0 24 24\"\n",
              "       width=\"24px\">\n",
              "    <path d=\"M0 0h24v24H0V0z\" fill=\"none\"/>\n",
              "    <path d=\"M18.56 5.44l.94 2.06.94-2.06 2.06-.94-2.06-.94-.94-2.06-.94 2.06-2.06.94zm-11 1L8.5 8.5l.94-2.06 2.06-.94-2.06-.94L8.5 2.5l-.94 2.06-2.06.94zm10 10l.94 2.06.94-2.06 2.06-.94-2.06-.94-.94-2.06-.94 2.06-2.06.94z\"/><path d=\"M17.41 7.96l-1.37-1.37c-.4-.4-.92-.59-1.43-.59-.52 0-1.04.2-1.43.59L10.3 9.45l-7.72 7.72c-.78.78-.78 2.05 0 2.83L4 21.41c.39.39.9.59 1.41.59.51 0 1.02-.2 1.41-.59l7.78-7.78 2.81-2.81c.8-.78.8-2.07 0-2.86zM5.41 20L4 18.59l7.72-7.72 1.47 1.35L5.41 20z\"/>\n",
              "  </svg>\n",
              "      </button>\n",
              "      \n",
              "  <style>\n",
              "    .colab-df-container {\n",
              "      display:flex;\n",
              "      flex-wrap:wrap;\n",
              "      gap: 12px;\n",
              "    }\n",
              "\n",
              "    .colab-df-convert {\n",
              "      background-color: #E8F0FE;\n",
              "      border: none;\n",
              "      border-radius: 50%;\n",
              "      cursor: pointer;\n",
              "      display: none;\n",
              "      fill: #1967D2;\n",
              "      height: 32px;\n",
              "      padding: 0 0 0 0;\n",
              "      width: 32px;\n",
              "    }\n",
              "\n",
              "    .colab-df-convert:hover {\n",
              "      background-color: #E2EBFA;\n",
              "      box-shadow: 0px 1px 2px rgba(60, 64, 67, 0.3), 0px 1px 3px 1px rgba(60, 64, 67, 0.15);\n",
              "      fill: #174EA6;\n",
              "    }\n",
              "\n",
              "    [theme=dark] .colab-df-convert {\n",
              "      background-color: #3B4455;\n",
              "      fill: #D2E3FC;\n",
              "    }\n",
              "\n",
              "    [theme=dark] .colab-df-convert:hover {\n",
              "      background-color: #434B5C;\n",
              "      box-shadow: 0px 1px 3px 1px rgba(0, 0, 0, 0.15);\n",
              "      filter: drop-shadow(0px 1px 2px rgba(0, 0, 0, 0.3));\n",
              "      fill: #FFFFFF;\n",
              "    }\n",
              "  </style>\n",
              "\n",
              "      <script>\n",
              "        const buttonEl =\n",
              "          document.querySelector('#df-f05f0d6f-fcfb-4720-adbc-63a6ac6c12c0 button.colab-df-convert');\n",
              "        buttonEl.style.display =\n",
              "          google.colab.kernel.accessAllowed ? 'block' : 'none';\n",
              "\n",
              "        async function convertToInteractive(key) {\n",
              "          const element = document.querySelector('#df-f05f0d6f-fcfb-4720-adbc-63a6ac6c12c0');\n",
              "          const dataTable =\n",
              "            await google.colab.kernel.invokeFunction('convertToInteractive',\n",
              "                                                     [key], {});\n",
              "          if (!dataTable) return;\n",
              "\n",
              "          const docLinkHtml = 'Like what you see? Visit the ' +\n",
              "            '<a target=\"_blank\" href=https://colab.research.google.com/notebooks/data_table.ipynb>data table notebook</a>'\n",
              "            + ' to learn more about interactive tables.';\n",
              "          element.innerHTML = '';\n",
              "          dataTable['output_type'] = 'display_data';\n",
              "          await google.colab.output.renderOutput(dataTable, element);\n",
              "          const docLink = document.createElement('div');\n",
              "          docLink.innerHTML = docLinkHtml;\n",
              "          element.appendChild(docLink);\n",
              "        }\n",
              "      </script>\n",
              "    </div>\n",
              "  </div>\n",
              "  "
            ],
            "text/plain": [
              "                                             content                                        new_content\n",
              "0                      I cannot open the app anymore                               [open, app, anymore]\n",
              "1  I have been begging for a refund from this app...    [begging, refund, app, month, nobody, replying]\n",
              "2  Very costly for the premium version (approx In...  [costly, premium, version, approx, indian, rup...\n",
              "3  Used to keep me organized, but all the 2020 UP...  [used, keep, organized, updates, made, mess, t...\n",
              "4                                Dan Birthday Oct 28                               [dan, birthday, oct]"
            ]
          },
          "metadata": {},
          "execution_count": 38
        }
      ],
      "source": [
        "PS_reviews_data[['content','new_content']].head() # We have removed the stop words"
      ]
    },
    {
      "cell_type": "markdown",
      "id": "e6d81b6f",
      "metadata": {
        "id": "e6d81b6f",
        "papermill": {
          "duration": 0.056559,
          "end_time": "2021-11-16T08:10:08.025761",
          "exception": false,
          "start_time": "2021-11-16T08:10:07.969202",
          "status": "completed"
        },
        "tags": []
      },
      "source": [
        "## 7. REMOVE RECORDS THAT HAS 0 OR 1 WORD"
      ]
    },
    {
      "cell_type": "code",
      "execution_count": 39,
      "id": "fd3c941d",
      "metadata": {
        "execution": {
          "iopub.execute_input": "2021-11-16T08:10:08.162526Z",
          "iopub.status.busy": "2021-11-16T08:10:08.161711Z",
          "iopub.status.idle": "2021-11-16T08:10:08.164569Z",
          "shell.execute_reply": "2021-11-16T08:10:08.165116Z",
          "shell.execute_reply.started": "2021-11-16T08:05:09.025621Z"
        },
        "id": "fd3c941d",
        "outputId": "036884e6-f3c1-4b0d-cf00-82c7d87a6fa4",
        "papermill": {
          "duration": 0.082661,
          "end_time": "2021-11-16T08:10:08.165286",
          "exception": false,
          "start_time": "2021-11-16T08:10:08.082625",
          "status": "completed"
        },
        "tags": [],
        "colab": {
          "base_uri": "https://localhost:8080/",
          "height": 206
        }
      },
      "outputs": [
        {
          "output_type": "execute_result",
          "data": {
            "text/html": [
              "\n",
              "  <div id=\"df-f45ad498-2d92-4b84-bb44-7ac61bba5903\">\n",
              "    <div class=\"colab-df-container\">\n",
              "      <div>\n",
              "<style scoped>\n",
              "    .dataframe tbody tr th:only-of-type {\n",
              "        vertical-align: middle;\n",
              "    }\n",
              "\n",
              "    .dataframe tbody tr th {\n",
              "        vertical-align: top;\n",
              "    }\n",
              "\n",
              "    .dataframe thead th {\n",
              "        text-align: right;\n",
              "    }\n",
              "</style>\n",
              "<table border=\"1\" class=\"dataframe\">\n",
              "  <thead>\n",
              "    <tr style=\"text-align: right;\">\n",
              "      <th></th>\n",
              "      <th>content</th>\n",
              "      <th>score</th>\n",
              "      <th>new_score</th>\n",
              "      <th>new_content</th>\n",
              "    </tr>\n",
              "  </thead>\n",
              "  <tbody>\n",
              "    <tr>\n",
              "      <th>19</th>\n",
              "      <td>Do not download</td>\n",
              "      <td>1</td>\n",
              "      <td>0</td>\n",
              "      <td>[download]</td>\n",
              "    </tr>\n",
              "    <tr>\n",
              "      <th>38</th>\n",
              "      <td>Yes i what</td>\n",
              "      <td>1</td>\n",
              "      <td>0</td>\n",
              "      <td>[yes]</td>\n",
              "    </tr>\n",
              "    <tr>\n",
              "      <th>39</th>\n",
              "      <td>Waste</td>\n",
              "      <td>1</td>\n",
              "      <td>0</td>\n",
              "      <td>[waste]</td>\n",
              "    </tr>\n",
              "    <tr>\n",
              "      <th>44</th>\n",
              "      <td>Dindigul</td>\n",
              "      <td>1</td>\n",
              "      <td>0</td>\n",
              "      <td>[dindigul]</td>\n",
              "    </tr>\n",
              "    <tr>\n",
              "      <th>51</th>\n",
              "      <td>good</td>\n",
              "      <td>1</td>\n",
              "      <td>0</td>\n",
              "      <td>[good]</td>\n",
              "    </tr>\n",
              "  </tbody>\n",
              "</table>\n",
              "</div>\n",
              "      <button class=\"colab-df-convert\" onclick=\"convertToInteractive('df-f45ad498-2d92-4b84-bb44-7ac61bba5903')\"\n",
              "              title=\"Convert this dataframe to an interactive table.\"\n",
              "              style=\"display:none;\">\n",
              "        \n",
              "  <svg xmlns=\"http://www.w3.org/2000/svg\" height=\"24px\"viewBox=\"0 0 24 24\"\n",
              "       width=\"24px\">\n",
              "    <path d=\"M0 0h24v24H0V0z\" fill=\"none\"/>\n",
              "    <path d=\"M18.56 5.44l.94 2.06.94-2.06 2.06-.94-2.06-.94-.94-2.06-.94 2.06-2.06.94zm-11 1L8.5 8.5l.94-2.06 2.06-.94-2.06-.94L8.5 2.5l-.94 2.06-2.06.94zm10 10l.94 2.06.94-2.06 2.06-.94-2.06-.94-.94-2.06-.94 2.06-2.06.94z\"/><path d=\"M17.41 7.96l-1.37-1.37c-.4-.4-.92-.59-1.43-.59-.52 0-1.04.2-1.43.59L10.3 9.45l-7.72 7.72c-.78.78-.78 2.05 0 2.83L4 21.41c.39.39.9.59 1.41.59.51 0 1.02-.2 1.41-.59l7.78-7.78 2.81-2.81c.8-.78.8-2.07 0-2.86zM5.41 20L4 18.59l7.72-7.72 1.47 1.35L5.41 20z\"/>\n",
              "  </svg>\n",
              "      </button>\n",
              "      \n",
              "  <style>\n",
              "    .colab-df-container {\n",
              "      display:flex;\n",
              "      flex-wrap:wrap;\n",
              "      gap: 12px;\n",
              "    }\n",
              "\n",
              "    .colab-df-convert {\n",
              "      background-color: #E8F0FE;\n",
              "      border: none;\n",
              "      border-radius: 50%;\n",
              "      cursor: pointer;\n",
              "      display: none;\n",
              "      fill: #1967D2;\n",
              "      height: 32px;\n",
              "      padding: 0 0 0 0;\n",
              "      width: 32px;\n",
              "    }\n",
              "\n",
              "    .colab-df-convert:hover {\n",
              "      background-color: #E2EBFA;\n",
              "      box-shadow: 0px 1px 2px rgba(60, 64, 67, 0.3), 0px 1px 3px 1px rgba(60, 64, 67, 0.15);\n",
              "      fill: #174EA6;\n",
              "    }\n",
              "\n",
              "    [theme=dark] .colab-df-convert {\n",
              "      background-color: #3B4455;\n",
              "      fill: #D2E3FC;\n",
              "    }\n",
              "\n",
              "    [theme=dark] .colab-df-convert:hover {\n",
              "      background-color: #434B5C;\n",
              "      box-shadow: 0px 1px 3px 1px rgba(0, 0, 0, 0.15);\n",
              "      filter: drop-shadow(0px 1px 2px rgba(0, 0, 0, 0.3));\n",
              "      fill: #FFFFFF;\n",
              "    }\n",
              "  </style>\n",
              "\n",
              "      <script>\n",
              "        const buttonEl =\n",
              "          document.querySelector('#df-f45ad498-2d92-4b84-bb44-7ac61bba5903 button.colab-df-convert');\n",
              "        buttonEl.style.display =\n",
              "          google.colab.kernel.accessAllowed ? 'block' : 'none';\n",
              "\n",
              "        async function convertToInteractive(key) {\n",
              "          const element = document.querySelector('#df-f45ad498-2d92-4b84-bb44-7ac61bba5903');\n",
              "          const dataTable =\n",
              "            await google.colab.kernel.invokeFunction('convertToInteractive',\n",
              "                                                     [key], {});\n",
              "          if (!dataTable) return;\n",
              "\n",
              "          const docLinkHtml = 'Like what you see? Visit the ' +\n",
              "            '<a target=\"_blank\" href=https://colab.research.google.com/notebooks/data_table.ipynb>data table notebook</a>'\n",
              "            + ' to learn more about interactive tables.';\n",
              "          element.innerHTML = '';\n",
              "          dataTable['output_type'] = 'display_data';\n",
              "          await google.colab.output.renderOutput(dataTable, element);\n",
              "          const docLink = document.createElement('div');\n",
              "          docLink.innerHTML = docLinkHtml;\n",
              "          element.appendChild(docLink);\n",
              "        }\n",
              "      </script>\n",
              "    </div>\n",
              "  </div>\n",
              "  "
            ],
            "text/plain": [
              "            content  score  new_score new_content\n",
              "19  Do not download      1          0  [download]\n",
              "38       Yes i what      1          0       [yes]\n",
              "39            Waste      1          0     [waste]\n",
              "44         Dindigul      1          0  [dindigul]\n",
              "51             good      1          0      [good]"
            ]
          },
          "metadata": {},
          "execution_count": 39
        }
      ],
      "source": [
        "PS_reviews_data[PS_reviews_data['new_content'].map(lambda x: len(x)) < 2].head()"
      ]
    },
    {
      "cell_type": "code",
      "execution_count": 40,
      "id": "c5190390",
      "metadata": {
        "execution": {
          "iopub.execute_input": "2021-11-16T08:10:08.293787Z",
          "iopub.status.busy": "2021-11-16T08:10:08.293084Z",
          "iopub.status.idle": "2021-11-16T08:10:08.297419Z",
          "shell.execute_reply": "2021-11-16T08:10:08.296864Z",
          "shell.execute_reply.started": "2021-11-16T08:05:09.060335Z"
        },
        "id": "c5190390",
        "papermill": {
          "duration": 0.07491,
          "end_time": "2021-11-16T08:10:08.297555",
          "exception": false,
          "start_time": "2021-11-16T08:10:08.222645",
          "status": "completed"
        },
        "tags": []
      },
      "outputs": [],
      "source": [
        "PS_reviews_data = PS_reviews_data[PS_reviews_data['new_content'].map(lambda x: len(x)) > 1]"
      ]
    },
    {
      "cell_type": "markdown",
      "id": "bb69a7cb",
      "metadata": {
        "id": "bb69a7cb",
        "papermill": {
          "duration": 0.059024,
          "end_time": "2021-11-16T08:10:08.417295",
          "exception": false,
          "start_time": "2021-11-16T08:10:08.358271",
          "status": "completed"
        },
        "tags": []
      },
      "source": [
        "## 8. REMOVE NON-ALPHABETS WORDS"
      ]
    },
    {
      "cell_type": "code",
      "execution_count": 41,
      "id": "fa04b26e",
      "metadata": {
        "execution": {
          "iopub.execute_input": "2021-11-16T08:10:08.537455Z",
          "iopub.status.busy": "2021-11-16T08:10:08.536785Z",
          "iopub.status.idle": "2021-11-16T08:10:08.579738Z",
          "shell.execute_reply": "2021-11-16T08:10:08.579110Z",
          "shell.execute_reply.started": "2021-11-16T08:05:09.080297Z"
        },
        "id": "fa04b26e",
        "papermill": {
          "duration": 0.103992,
          "end_time": "2021-11-16T08:10:08.579903",
          "exception": false,
          "start_time": "2021-11-16T08:10:08.475911",
          "status": "completed"
        },
        "tags": []
      },
      "outputs": [],
      "source": [
        "PS_reviews_data['new_content'] = PS_reviews_data['new_content'].apply(lambda x: [word for word in x if word.isalpha()])"
      ]
    },
    {
      "cell_type": "code",
      "execution_count": 42,
      "id": "9c4b4990",
      "metadata": {
        "execution": {
          "iopub.execute_input": "2021-11-16T08:10:08.703780Z",
          "iopub.status.busy": "2021-11-16T08:10:08.703155Z",
          "iopub.status.idle": "2021-11-16T08:10:08.713543Z",
          "shell.execute_reply": "2021-11-16T08:10:08.714112Z",
          "shell.execute_reply.started": "2021-11-16T08:05:09.150814Z"
        },
        "id": "9c4b4990",
        "papermill": {
          "duration": 0.074061,
          "end_time": "2021-11-16T08:10:08.714287",
          "exception": false,
          "start_time": "2021-11-16T08:10:08.640226",
          "status": "completed"
        },
        "tags": []
      },
      "outputs": [],
      "source": [
        "PS_reviews_data = PS_reviews_data[PS_reviews_data['new_content'].map(lambda x: len(x)) > 1] # Repeating STEP 7"
      ]
    },
    {
      "cell_type": "markdown",
      "id": "a60680e9",
      "metadata": {
        "id": "a60680e9",
        "papermill": {
          "duration": 0.057167,
          "end_time": "2021-11-16T08:10:08.828809",
          "exception": false,
          "start_time": "2021-11-16T08:10:08.771642",
          "status": "completed"
        },
        "tags": []
      },
      "source": [
        "## 9. LEMMATIZATION"
      ]
    },
    {
      "cell_type": "code",
      "execution_count": 43,
      "id": "6878cc8f",
      "metadata": {
        "execution": {
          "iopub.execute_input": "2021-11-16T08:10:08.951359Z",
          "iopub.status.busy": "2021-11-16T08:10:08.950626Z",
          "iopub.status.idle": "2021-11-16T08:10:09.006590Z",
          "shell.execute_reply": "2021-11-16T08:10:09.007088Z",
          "shell.execute_reply.started": "2021-11-16T08:05:09.164323Z"
        },
        "id": "6878cc8f",
        "outputId": "7f3a9922-f4f5-4bc7-9f51-4c638e2a15ee",
        "papermill": {
          "duration": 0.119893,
          "end_time": "2021-11-16T08:10:09.007268",
          "exception": false,
          "start_time": "2021-11-16T08:10:08.887375",
          "status": "completed"
        },
        "tags": [],
        "colab": {
          "base_uri": "https://localhost:8080/"
        }
      },
      "outputs": [
        {
          "output_type": "stream",
          "name": "stdout",
          "text": [
            "[nltk_data] Downloading package wordnet to /root/nltk_data...\n",
            "[nltk_data]   Unzipping corpora/wordnet.zip.\n"
          ]
        },
        {
          "output_type": "execute_result",
          "data": {
            "text/plain": [
              "True"
            ]
          },
          "metadata": {},
          "execution_count": 43
        }
      ],
      "source": [
        "from nltk.stem import WordNetLemmatizer\n",
        "nltk.download('wordnet')"
      ]
    },
    {
      "cell_type": "code",
      "execution_count": 44,
      "id": "b34bf8f5",
      "metadata": {
        "execution": {
          "iopub.execute_input": "2021-11-16T08:10:09.129299Z",
          "iopub.status.busy": "2021-11-16T08:10:09.128569Z",
          "iopub.status.idle": "2021-11-16T08:10:12.301569Z",
          "shell.execute_reply": "2021-11-16T08:10:12.300888Z",
          "shell.execute_reply.started": "2021-11-16T08:05:09.239737Z"
        },
        "id": "b34bf8f5",
        "papermill": {
          "duration": 3.236493,
          "end_time": "2021-11-16T08:10:12.301711",
          "exception": false,
          "start_time": "2021-11-16T08:10:09.065218",
          "status": "completed"
        },
        "tags": []
      },
      "outputs": [],
      "source": [
        "PS_reviews_data['new_content'] = PS_reviews_data['new_content'].apply(lambda x: [WordNetLemmatizer().lemmatize(word) for word in x])"
      ]
    },
    {
      "cell_type": "markdown",
      "id": "cddb4d5c",
      "metadata": {
        "id": "cddb4d5c",
        "papermill": {
          "duration": 0.058266,
          "end_time": "2021-11-16T08:10:12.419275",
          "exception": false,
          "start_time": "2021-11-16T08:10:12.361009",
          "status": "completed"
        },
        "tags": []
      },
      "source": [
        "## 10. TF-IDF"
      ]
    },
    {
      "cell_type": "code",
      "execution_count": 45,
      "id": "bfb52e94",
      "metadata": {
        "execution": {
          "iopub.execute_input": "2021-11-16T08:10:12.561497Z",
          "iopub.status.busy": "2021-11-16T08:10:12.560624Z",
          "iopub.status.idle": "2021-11-16T08:10:12.563581Z",
          "shell.execute_reply": "2021-11-16T08:10:12.562993Z",
          "shell.execute_reply.started": "2021-11-16T08:05:12.666622Z"
        },
        "id": "bfb52e94",
        "papermill": {
          "duration": 0.073649,
          "end_time": "2021-11-16T08:10:12.563716",
          "exception": false,
          "start_time": "2021-11-16T08:10:12.490067",
          "status": "completed"
        },
        "tags": []
      },
      "outputs": [],
      "source": [
        "from sklearn.feature_extraction.text import TfidfVectorizer"
      ]
    },
    {
      "cell_type": "code",
      "execution_count": 46,
      "id": "fbf24ba0",
      "metadata": {
        "execution": {
          "iopub.execute_input": "2021-11-16T08:10:12.738644Z",
          "iopub.status.busy": "2021-11-16T08:10:12.712608Z",
          "iopub.status.idle": "2021-11-16T08:10:13.028261Z",
          "shell.execute_reply": "2021-11-16T08:10:13.027195Z",
          "shell.execute_reply.started": "2021-11-16T08:05:12.672761Z"
        },
        "id": "fbf24ba0",
        "papermill": {
          "duration": 0.406361,
          "end_time": "2021-11-16T08:10:13.028413",
          "exception": false,
          "start_time": "2021-11-16T08:10:12.622052",
          "status": "completed"
        },
        "tags": []
      },
      "outputs": [],
      "source": [
        "Tfidf_vect = TfidfVectorizer()\n",
        "Train_content_tfidf = Tfidf_vect.fit_transform(PS_reviews_data['new_content'].astype(str))"
      ]
    },
    {
      "cell_type": "code",
      "execution_count": 47,
      "id": "c9c894c6",
      "metadata": {
        "execution": {
          "iopub.execute_input": "2021-11-16T08:10:13.151403Z",
          "iopub.status.busy": "2021-11-16T08:10:13.150567Z",
          "iopub.status.idle": "2021-11-16T08:10:13.152785Z",
          "shell.execute_reply": "2021-11-16T08:10:13.152258Z",
          "shell.execute_reply.started": "2021-11-16T08:05:12.923981Z"
        },
        "id": "c9c894c6",
        "papermill": {
          "duration": 0.065075,
          "end_time": "2021-11-16T08:10:13.152937",
          "exception": false,
          "start_time": "2021-11-16T08:10:13.087862",
          "status": "completed"
        },
        "tags": []
      },
      "outputs": [],
      "source": [
        "# Tfidf_vect.vocabulary_ # To check vocabulary"
      ]
    },
    {
      "cell_type": "code",
      "execution_count": 48,
      "id": "5ca94f47",
      "metadata": {
        "execution": {
          "iopub.execute_input": "2021-11-16T08:10:13.277064Z",
          "iopub.status.busy": "2021-11-16T08:10:13.276350Z",
          "iopub.status.idle": "2021-11-16T08:10:13.280220Z",
          "shell.execute_reply": "2021-11-16T08:10:13.279492Z",
          "shell.execute_reply.started": "2021-11-16T08:05:12.928681Z"
        },
        "id": "5ca94f47",
        "outputId": "00a770a3-b1a5-4bc0-8403-c9e8eeaafa3d",
        "papermill": {
          "duration": 0.067583,
          "end_time": "2021-11-16T08:10:13.280397",
          "exception": false,
          "start_time": "2021-11-16T08:10:13.212814",
          "status": "completed"
        },
        "tags": [],
        "colab": {
          "base_uri": "https://localhost:8080/"
        }
      },
      "outputs": [
        {
          "output_type": "stream",
          "name": "stdout",
          "text": [
            "  (0, 423)\t0.7442205089144512\n",
            "  (0, 460)\t0.22669775392938943\n",
            "  (0, 5749)\t0.6282865289614965\n",
            "  (1, 7038)\t0.5098928283032067\n",
            "  (1, 5539)\t0.48817466469248405\n",
            "  (1, 5319)\t0.28209699450293924\n",
            "  (1, 6873)\t0.3889691746394387\n",
            "  (1, 840)\t0.5098928283032067\n",
            "  (1, 460)\t0.1040594585562335\n",
            "  (2, 3054)\t0.1552816138599539\n",
            "  (2, 4790)\t0.12551833684747368\n",
            "  (2, 5164)\t0.19362861790089347\n",
            "  (2, 9063)\t0.10762325941713373\n",
            "  (2, 9326)\t0.22763212874017583\n",
            "  (2, 446)\t0.34090539177314033\n",
            "  (2, 2466)\t0.20456173739616854\n",
            "  (2, 889)\t0.2949842500593587\n",
            "  (2, 9539)\t0.14871600765019707\n",
            "  (2, 6041)\t0.21987487712519135\n",
            "  (2, 7285)\t0.3084571742554576\n",
            "  (2, 4204)\t0.32654682678273134\n",
            "  (2, 499)\t0.32654682678273134\n",
            "  (2, 9158)\t0.25409316057974035\n",
            "  (2, 6369)\t0.2747219908829051\n",
            "  (2, 1780)\t0.2839110452767498\n",
            "  (2, 460)\t0.12103712784129549\n"
          ]
        }
      ],
      "source": [
        "print(Train_content_tfidf[:3])"
      ]
    },
    {
      "cell_type": "markdown",
      "id": "92e4266f",
      "metadata": {
        "id": "92e4266f",
        "papermill": {
          "duration": 0.05785,
          "end_time": "2021-11-16T08:10:13.398021",
          "exception": false,
          "start_time": "2021-11-16T08:10:13.340171",
          "status": "completed"
        },
        "tags": []
      },
      "source": [
        "## Training ML Models"
      ]
    },
    {
      "cell_type": "code",
      "execution_count": 49,
      "id": "89a7a92c",
      "metadata": {
        "execution": {
          "iopub.execute_input": "2021-11-16T08:10:13.521503Z",
          "iopub.status.busy": "2021-11-16T08:10:13.520816Z",
          "iopub.status.idle": "2021-11-16T08:10:13.631318Z",
          "shell.execute_reply": "2021-11-16T08:10:13.630738Z",
          "shell.execute_reply.started": "2021-11-16T08:05:12.947474Z"
        },
        "id": "89a7a92c",
        "papermill": {
          "duration": 0.174009,
          "end_time": "2021-11-16T08:10:13.631468",
          "exception": false,
          "start_time": "2021-11-16T08:10:13.457459",
          "status": "completed"
        },
        "tags": []
      },
      "outputs": [],
      "source": [
        "from sklearn.linear_model import LogisticRegression\n",
        "from sklearn.tree import DecisionTreeClassifier\n",
        "from sklearn.ensemble import RandomForestClassifier\n",
        "from sklearn.neighbors import KNeighborsClassifier\n",
        "from sklearn.svm import SVC\n",
        "\n",
        "from sklearn.model_selection import StratifiedKFold,cross_val_score"
      ]
    },
    {
      "cell_type": "code",
      "execution_count": 50,
      "id": "942275e8",
      "metadata": {
        "execution": {
          "iopub.execute_input": "2021-11-16T08:10:13.754399Z",
          "iopub.status.busy": "2021-11-16T08:10:13.753365Z",
          "iopub.status.idle": "2021-11-16T08:10:13.756275Z",
          "shell.execute_reply": "2021-11-16T08:10:13.755727Z",
          "shell.execute_reply.started": "2021-11-16T08:05:13.084777Z"
        },
        "id": "942275e8",
        "papermill": {
          "duration": 0.066126,
          "end_time": "2021-11-16T08:10:13.756418",
          "exception": false,
          "start_time": "2021-11-16T08:10:13.690292",
          "status": "completed"
        },
        "tags": []
      },
      "outputs": [],
      "source": [
        "SKF = StratifiedKFold(n_splits=5, shuffle=True)"
      ]
    },
    {
      "cell_type": "code",
      "execution_count": 51,
      "id": "6a7323af",
      "metadata": {
        "execution": {
          "iopub.execute_input": "2021-11-16T08:10:13.882462Z",
          "iopub.status.busy": "2021-11-16T08:10:13.881756Z",
          "iopub.status.idle": "2021-11-16T08:12:56.779430Z",
          "shell.execute_reply": "2021-11-16T08:12:56.779959Z",
          "shell.execute_reply.started": "2021-11-16T08:05:13.091957Z"
        },
        "id": "6a7323af",
        "outputId": "6531c238-8f46-4fff-81f3-e99ee7c83fea",
        "papermill": {
          "duration": 162.963757,
          "end_time": "2021-11-16T08:12:56.780169",
          "exception": false,
          "start_time": "2021-11-16T08:10:13.816412",
          "status": "completed"
        },
        "tags": [],
        "colab": {
          "base_uri": "https://localhost:8080/"
        }
      },
      "outputs": [
        {
          "output_type": "stream",
          "name": "stdout",
          "text": [
            " Accuracy of LogisticRegression  : 78.36%\n",
            " Accuracy of DecisionTreeClassifier  : 68.06%\n",
            " Accuracy of RandomForestClassifier  : 76.73%\n",
            " Accuracy of KNeighborsClassifier  : 72.15%\n",
            " Accuracy of SVC  : 78.57%\n"
          ]
        }
      ],
      "source": [
        "for model in [LogisticRegression(),DecisionTreeClassifier(),RandomForestClassifier(),KNeighborsClassifier(),SVC()]:\n",
        "  model_name = str(model).split('(',1)[0]\n",
        "  print(f' Accuracy of {model_name}  : {round(cross_val_score(model,Train_content_tfidf,PS_reviews_data.new_score,cv=SKF,scoring=\"accuracy\").mean()*100,2)}%')"
      ]
    }
  ],
  "metadata": {
    "kernelspec": {
      "display_name": "Python 3",
      "language": "python",
      "name": "python3"
    },
    "language_info": {
      "codemirror_mode": {
        "name": "ipython",
        "version": 3
      },
      "file_extension": ".py",
      "mimetype": "text/x-python",
      "name": "python",
      "nbconvert_exporter": "python",
      "pygments_lexer": "ipython3",
      "version": "3.7.10"
    },
    "papermill": {
      "default_parameters": {},
      "duration": 262.67799,
      "end_time": "2021-11-16T08:12:57.853830",
      "environment_variables": {},
      "exception": null,
      "input_path": "__notebook__.ipynb",
      "output_path": "__notebook__.ipynb",
      "parameters": {},
      "start_time": "2021-11-16T08:08:35.175840",
      "version": "2.3.3"
    },
    "colab": {
      "name": "Playstore Reviews Sentiment Analysis.ipynb",
      "provenance": [],
      "include_colab_link": true
    }
  },
  "nbformat": 4,
  "nbformat_minor": 5
}