{
  "cells": [
    {
      "cell_type": "markdown",
      "metadata": {
        "id": "view-in-github",
        "colab_type": "text"
      },
      "source": [
        "<a href=\"https://colab.research.google.com/github/DataMinati/Super-Notebooks-100/blob/main/Github_Stats_Analysis.ipynb\" target=\"_parent\"><img src=\"https://colab.research.google.com/assets/colab-badge.svg\" alt=\"Open In Colab\"/></a>"
      ]
    },
    {
      "cell_type": "code",
      "execution_count": 2,
      "id": "8b495e31",
      "metadata": {
        "_cell_guid": "b1076dfc-b9ad-4769-8c92-a6c4dae69d19",
        "_uuid": "8f2839f25d086af736a60e9eeb907d3b93b6e0e5",
        "execution": {
          "iopub.execute_input": "2022-01-03T07:13:21.535173Z",
          "iopub.status.busy": "2022-01-03T07:13:21.534026Z",
          "iopub.status.idle": "2022-01-03T07:13:22.571541Z",
          "shell.execute_reply": "2022-01-03T07:13:22.572023Z",
          "shell.execute_reply.started": "2022-01-03T07:10:27.214551Z"
        },
        "papermill": {
          "duration": 1.069595,
          "end_time": "2022-01-03T07:13:22.572320",
          "exception": false,
          "start_time": "2022-01-03T07:13:21.502725",
          "status": "completed"
        },
        "tags": [],
        "id": "8b495e31"
      },
      "outputs": [],
      "source": [
        "#Importing Libraries\n",
        "\n",
        "import numpy as np \n",
        "import pandas as pd \n",
        "import matplotlib.pyplot as plt\n",
        "import matplotlib.ticker as ticker\n",
        "import seaborn as sns\n",
        "%matplotlib inline"
      ]
    },
    {
      "cell_type": "markdown",
      "id": "c9692f36",
      "metadata": {
        "papermill": {
          "duration": 0.026974,
          "end_time": "2022-01-03T07:13:22.628870",
          "exception": false,
          "start_time": "2022-01-03T07:13:22.601896",
          "status": "completed"
        },
        "tags": [],
        "id": "c9692f36"
      },
      "source": [
        "## Loading Datasets"
      ]
    },
    {
      "cell_type": "code",
      "execution_count": 3,
      "id": "ef75f7a6",
      "metadata": {
        "execution": {
          "iopub.execute_input": "2022-01-03T07:13:22.687674Z",
          "iopub.status.busy": "2022-01-03T07:13:22.686933Z",
          "iopub.status.idle": "2022-01-03T07:13:22.731641Z",
          "shell.execute_reply": "2022-01-03T07:13:22.732177Z",
          "shell.execute_reply.started": "2022-01-03T07:10:27.231847Z"
        },
        "papermill": {
          "duration": 0.077084,
          "end_time": "2022-01-03T07:13:22.732349",
          "exception": false,
          "start_time": "2022-01-03T07:13:22.655265",
          "status": "completed"
        },
        "tags": [],
        "id": "ef75f7a6"
      },
      "outputs": [],
      "source": [
        "issues = pd.read_csv('https://raw.githubusercontent.com/MainakRepositor/Datasets-/master/Github_Stats/issues.csv')\n",
        "prs = pd.read_csv('https://raw.githubusercontent.com/MainakRepositor/Datasets-/master/Github_Stats//prs.csv')\n",
        "repos = pd.read_csv('https://raw.githubusercontent.com/MainakRepositor/Datasets-/master/Github_Stats//repos.csv')\n",
        "\n",
        "#Removing Data from 2022 as year has just started\n",
        "issues = issues[issues['year']!=2022]\n",
        "prs = prs[prs['year']!=2022]"
      ]
    },
    {
      "cell_type": "code",
      "execution_count": 4,
      "id": "ec0d09f1",
      "metadata": {
        "execution": {
          "iopub.execute_input": "2022-01-03T07:13:22.791853Z",
          "iopub.status.busy": "2022-01-03T07:13:22.791209Z",
          "iopub.status.idle": "2022-01-03T07:13:22.801913Z",
          "shell.execute_reply": "2022-01-03T07:13:22.802460Z",
          "shell.execute_reply.started": "2022-01-03T07:10:27.259270Z"
        },
        "papermill": {
          "duration": 0.04385,
          "end_time": "2022-01-03T07:13:22.802625",
          "exception": false,
          "start_time": "2022-01-03T07:13:22.758775",
          "status": "completed"
        },
        "tags": [],
        "colab": {
          "base_uri": "https://localhost:8080/",
          "height": 206
        },
        "id": "ec0d09f1",
        "outputId": "276d2c51-16d8-4501-8778-e26bb61d76d5"
      },
      "outputs": [
        {
          "output_type": "execute_result",
          "data": {
            "text/html": [
              "\n",
              "  <div id=\"df-0e60fb94-8af1-4e24-a1e1-79861b4bbe80\">\n",
              "    <div class=\"colab-df-container\">\n",
              "      <div>\n",
              "<style scoped>\n",
              "    .dataframe tbody tr th:only-of-type {\n",
              "        vertical-align: middle;\n",
              "    }\n",
              "\n",
              "    .dataframe tbody tr th {\n",
              "        vertical-align: top;\n",
              "    }\n",
              "\n",
              "    .dataframe thead th {\n",
              "        text-align: right;\n",
              "    }\n",
              "</style>\n",
              "<table border=\"1\" class=\"dataframe\">\n",
              "  <thead>\n",
              "    <tr style=\"text-align: right;\">\n",
              "      <th></th>\n",
              "      <th>name</th>\n",
              "      <th>year</th>\n",
              "      <th>quarter</th>\n",
              "      <th>count</th>\n",
              "    </tr>\n",
              "  </thead>\n",
              "  <tbody>\n",
              "    <tr>\n",
              "      <th>0</th>\n",
              "      <td>Ruby</td>\n",
              "      <td>2011</td>\n",
              "      <td>3</td>\n",
              "      <td>965</td>\n",
              "    </tr>\n",
              "    <tr>\n",
              "      <th>1</th>\n",
              "      <td>JavaScript</td>\n",
              "      <td>2011</td>\n",
              "      <td>3</td>\n",
              "      <td>694</td>\n",
              "    </tr>\n",
              "    <tr>\n",
              "      <th>2</th>\n",
              "      <td>Python</td>\n",
              "      <td>2011</td>\n",
              "      <td>3</td>\n",
              "      <td>619</td>\n",
              "    </tr>\n",
              "    <tr>\n",
              "      <th>3</th>\n",
              "      <td>PHP</td>\n",
              "      <td>2011</td>\n",
              "      <td>3</td>\n",
              "      <td>560</td>\n",
              "    </tr>\n",
              "    <tr>\n",
              "      <th>4</th>\n",
              "      <td>Java</td>\n",
              "      <td>2011</td>\n",
              "      <td>3</td>\n",
              "      <td>420</td>\n",
              "    </tr>\n",
              "  </tbody>\n",
              "</table>\n",
              "</div>\n",
              "      <button class=\"colab-df-convert\" onclick=\"convertToInteractive('df-0e60fb94-8af1-4e24-a1e1-79861b4bbe80')\"\n",
              "              title=\"Convert this dataframe to an interactive table.\"\n",
              "              style=\"display:none;\">\n",
              "        \n",
              "  <svg xmlns=\"http://www.w3.org/2000/svg\" height=\"24px\"viewBox=\"0 0 24 24\"\n",
              "       width=\"24px\">\n",
              "    <path d=\"M0 0h24v24H0V0z\" fill=\"none\"/>\n",
              "    <path d=\"M18.56 5.44l.94 2.06.94-2.06 2.06-.94-2.06-.94-.94-2.06-.94 2.06-2.06.94zm-11 1L8.5 8.5l.94-2.06 2.06-.94-2.06-.94L8.5 2.5l-.94 2.06-2.06.94zm10 10l.94 2.06.94-2.06 2.06-.94-2.06-.94-.94-2.06-.94 2.06-2.06.94z\"/><path d=\"M17.41 7.96l-1.37-1.37c-.4-.4-.92-.59-1.43-.59-.52 0-1.04.2-1.43.59L10.3 9.45l-7.72 7.72c-.78.78-.78 2.05 0 2.83L4 21.41c.39.39.9.59 1.41.59.51 0 1.02-.2 1.41-.59l7.78-7.78 2.81-2.81c.8-.78.8-2.07 0-2.86zM5.41 20L4 18.59l7.72-7.72 1.47 1.35L5.41 20z\"/>\n",
              "  </svg>\n",
              "      </button>\n",
              "      \n",
              "  <style>\n",
              "    .colab-df-container {\n",
              "      display:flex;\n",
              "      flex-wrap:wrap;\n",
              "      gap: 12px;\n",
              "    }\n",
              "\n",
              "    .colab-df-convert {\n",
              "      background-color: #E8F0FE;\n",
              "      border: none;\n",
              "      border-radius: 50%;\n",
              "      cursor: pointer;\n",
              "      display: none;\n",
              "      fill: #1967D2;\n",
              "      height: 32px;\n",
              "      padding: 0 0 0 0;\n",
              "      width: 32px;\n",
              "    }\n",
              "\n",
              "    .colab-df-convert:hover {\n",
              "      background-color: #E2EBFA;\n",
              "      box-shadow: 0px 1px 2px rgba(60, 64, 67, 0.3), 0px 1px 3px 1px rgba(60, 64, 67, 0.15);\n",
              "      fill: #174EA6;\n",
              "    }\n",
              "\n",
              "    [theme=dark] .colab-df-convert {\n",
              "      background-color: #3B4455;\n",
              "      fill: #D2E3FC;\n",
              "    }\n",
              "\n",
              "    [theme=dark] .colab-df-convert:hover {\n",
              "      background-color: #434B5C;\n",
              "      box-shadow: 0px 1px 3px 1px rgba(0, 0, 0, 0.15);\n",
              "      filter: drop-shadow(0px 1px 2px rgba(0, 0, 0, 0.3));\n",
              "      fill: #FFFFFF;\n",
              "    }\n",
              "  </style>\n",
              "\n",
              "      <script>\n",
              "        const buttonEl =\n",
              "          document.querySelector('#df-0e60fb94-8af1-4e24-a1e1-79861b4bbe80 button.colab-df-convert');\n",
              "        buttonEl.style.display =\n",
              "          google.colab.kernel.accessAllowed ? 'block' : 'none';\n",
              "\n",
              "        async function convertToInteractive(key) {\n",
              "          const element = document.querySelector('#df-0e60fb94-8af1-4e24-a1e1-79861b4bbe80');\n",
              "          const dataTable =\n",
              "            await google.colab.kernel.invokeFunction('convertToInteractive',\n",
              "                                                     [key], {});\n",
              "          if (!dataTable) return;\n",
              "\n",
              "          const docLinkHtml = 'Like what you see? Visit the ' +\n",
              "            '<a target=\"_blank\" href=https://colab.research.google.com/notebooks/data_table.ipynb>data table notebook</a>'\n",
              "            + ' to learn more about interactive tables.';\n",
              "          element.innerHTML = '';\n",
              "          dataTable['output_type'] = 'display_data';\n",
              "          await google.colab.output.renderOutput(dataTable, element);\n",
              "          const docLink = document.createElement('div');\n",
              "          docLink.innerHTML = docLinkHtml;\n",
              "          element.appendChild(docLink);\n",
              "        }\n",
              "      </script>\n",
              "    </div>\n",
              "  </div>\n",
              "  "
            ],
            "text/plain": [
              "         name  year  quarter  count\n",
              "0        Ruby  2011        3    965\n",
              "1  JavaScript  2011        3    694\n",
              "2      Python  2011        3    619\n",
              "3         PHP  2011        3    560\n",
              "4        Java  2011        3    420"
            ]
          },
          "metadata": {},
          "execution_count": 4
        }
      ],
      "source": [
        "issues.head()"
      ]
    },
    {
      "cell_type": "code",
      "execution_count": 5,
      "id": "de308f04",
      "metadata": {
        "execution": {
          "iopub.execute_input": "2022-01-03T07:13:22.858590Z",
          "iopub.status.busy": "2022-01-03T07:13:22.857956Z",
          "iopub.status.idle": "2022-01-03T07:13:22.866835Z",
          "shell.execute_reply": "2022-01-03T07:13:22.867353Z",
          "shell.execute_reply.started": "2022-01-03T07:10:27.271516Z"
        },
        "papermill": {
          "duration": 0.038422,
          "end_time": "2022-01-03T07:13:22.867528",
          "exception": false,
          "start_time": "2022-01-03T07:13:22.829106",
          "status": "completed"
        },
        "tags": [],
        "colab": {
          "base_uri": "https://localhost:8080/",
          "height": 206
        },
        "id": "de308f04",
        "outputId": "71d58692-308d-4188-a3c7-e6b96e88699a"
      },
      "outputs": [
        {
          "output_type": "execute_result",
          "data": {
            "text/html": [
              "\n",
              "  <div id=\"df-b42b2385-a482-40be-a118-bbd1699a2466\">\n",
              "    <div class=\"colab-df-container\">\n",
              "      <div>\n",
              "<style scoped>\n",
              "    .dataframe tbody tr th:only-of-type {\n",
              "        vertical-align: middle;\n",
              "    }\n",
              "\n",
              "    .dataframe tbody tr th {\n",
              "        vertical-align: top;\n",
              "    }\n",
              "\n",
              "    .dataframe thead th {\n",
              "        text-align: right;\n",
              "    }\n",
              "</style>\n",
              "<table border=\"1\" class=\"dataframe\">\n",
              "  <thead>\n",
              "    <tr style=\"text-align: right;\">\n",
              "      <th></th>\n",
              "      <th>name</th>\n",
              "      <th>year</th>\n",
              "      <th>quarter</th>\n",
              "      <th>count</th>\n",
              "    </tr>\n",
              "  </thead>\n",
              "  <tbody>\n",
              "    <tr>\n",
              "      <th>0</th>\n",
              "      <td>Ruby</td>\n",
              "      <td>2011</td>\n",
              "      <td>3</td>\n",
              "      <td>632</td>\n",
              "    </tr>\n",
              "    <tr>\n",
              "      <th>1</th>\n",
              "      <td>PHP</td>\n",
              "      <td>2011</td>\n",
              "      <td>3</td>\n",
              "      <td>484</td>\n",
              "    </tr>\n",
              "    <tr>\n",
              "      <th>2</th>\n",
              "      <td>Python</td>\n",
              "      <td>2011</td>\n",
              "      <td>3</td>\n",
              "      <td>423</td>\n",
              "    </tr>\n",
              "    <tr>\n",
              "      <th>3</th>\n",
              "      <td>JavaScript</td>\n",
              "      <td>2011</td>\n",
              "      <td>3</td>\n",
              "      <td>367</td>\n",
              "    </tr>\n",
              "    <tr>\n",
              "      <th>4</th>\n",
              "      <td>Java</td>\n",
              "      <td>2011</td>\n",
              "      <td>3</td>\n",
              "      <td>216</td>\n",
              "    </tr>\n",
              "  </tbody>\n",
              "</table>\n",
              "</div>\n",
              "      <button class=\"colab-df-convert\" onclick=\"convertToInteractive('df-b42b2385-a482-40be-a118-bbd1699a2466')\"\n",
              "              title=\"Convert this dataframe to an interactive table.\"\n",
              "              style=\"display:none;\">\n",
              "        \n",
              "  <svg xmlns=\"http://www.w3.org/2000/svg\" height=\"24px\"viewBox=\"0 0 24 24\"\n",
              "       width=\"24px\">\n",
              "    <path d=\"M0 0h24v24H0V0z\" fill=\"none\"/>\n",
              "    <path d=\"M18.56 5.44l.94 2.06.94-2.06 2.06-.94-2.06-.94-.94-2.06-.94 2.06-2.06.94zm-11 1L8.5 8.5l.94-2.06 2.06-.94-2.06-.94L8.5 2.5l-.94 2.06-2.06.94zm10 10l.94 2.06.94-2.06 2.06-.94-2.06-.94-.94-2.06-.94 2.06-2.06.94z\"/><path d=\"M17.41 7.96l-1.37-1.37c-.4-.4-.92-.59-1.43-.59-.52 0-1.04.2-1.43.59L10.3 9.45l-7.72 7.72c-.78.78-.78 2.05 0 2.83L4 21.41c.39.39.9.59 1.41.59.51 0 1.02-.2 1.41-.59l7.78-7.78 2.81-2.81c.8-.78.8-2.07 0-2.86zM5.41 20L4 18.59l7.72-7.72 1.47 1.35L5.41 20z\"/>\n",
              "  </svg>\n",
              "      </button>\n",
              "      \n",
              "  <style>\n",
              "    .colab-df-container {\n",
              "      display:flex;\n",
              "      flex-wrap:wrap;\n",
              "      gap: 12px;\n",
              "    }\n",
              "\n",
              "    .colab-df-convert {\n",
              "      background-color: #E8F0FE;\n",
              "      border: none;\n",
              "      border-radius: 50%;\n",
              "      cursor: pointer;\n",
              "      display: none;\n",
              "      fill: #1967D2;\n",
              "      height: 32px;\n",
              "      padding: 0 0 0 0;\n",
              "      width: 32px;\n",
              "    }\n",
              "\n",
              "    .colab-df-convert:hover {\n",
              "      background-color: #E2EBFA;\n",
              "      box-shadow: 0px 1px 2px rgba(60, 64, 67, 0.3), 0px 1px 3px 1px rgba(60, 64, 67, 0.15);\n",
              "      fill: #174EA6;\n",
              "    }\n",
              "\n",
              "    [theme=dark] .colab-df-convert {\n",
              "      background-color: #3B4455;\n",
              "      fill: #D2E3FC;\n",
              "    }\n",
              "\n",
              "    [theme=dark] .colab-df-convert:hover {\n",
              "      background-color: #434B5C;\n",
              "      box-shadow: 0px 1px 3px 1px rgba(0, 0, 0, 0.15);\n",
              "      filter: drop-shadow(0px 1px 2px rgba(0, 0, 0, 0.3));\n",
              "      fill: #FFFFFF;\n",
              "    }\n",
              "  </style>\n",
              "\n",
              "      <script>\n",
              "        const buttonEl =\n",
              "          document.querySelector('#df-b42b2385-a482-40be-a118-bbd1699a2466 button.colab-df-convert');\n",
              "        buttonEl.style.display =\n",
              "          google.colab.kernel.accessAllowed ? 'block' : 'none';\n",
              "\n",
              "        async function convertToInteractive(key) {\n",
              "          const element = document.querySelector('#df-b42b2385-a482-40be-a118-bbd1699a2466');\n",
              "          const dataTable =\n",
              "            await google.colab.kernel.invokeFunction('convertToInteractive',\n",
              "                                                     [key], {});\n",
              "          if (!dataTable) return;\n",
              "\n",
              "          const docLinkHtml = 'Like what you see? Visit the ' +\n",
              "            '<a target=\"_blank\" href=https://colab.research.google.com/notebooks/data_table.ipynb>data table notebook</a>'\n",
              "            + ' to learn more about interactive tables.';\n",
              "          element.innerHTML = '';\n",
              "          dataTable['output_type'] = 'display_data';\n",
              "          await google.colab.output.renderOutput(dataTable, element);\n",
              "          const docLink = document.createElement('div');\n",
              "          docLink.innerHTML = docLinkHtml;\n",
              "          element.appendChild(docLink);\n",
              "        }\n",
              "      </script>\n",
              "    </div>\n",
              "  </div>\n",
              "  "
            ],
            "text/plain": [
              "         name  year  quarter  count\n",
              "0        Ruby  2011        3    632\n",
              "1         PHP  2011        3    484\n",
              "2      Python  2011        3    423\n",
              "3  JavaScript  2011        3    367\n",
              "4        Java  2011        3    216"
            ]
          },
          "metadata": {},
          "execution_count": 5
        }
      ],
      "source": [
        "prs.head()"
      ]
    },
    {
      "cell_type": "code",
      "execution_count": 6,
      "id": "f82e294f",
      "metadata": {
        "execution": {
          "iopub.execute_input": "2022-01-03T07:13:22.924444Z",
          "iopub.status.busy": "2022-01-03T07:13:22.923818Z",
          "iopub.status.idle": "2022-01-03T07:13:22.931463Z",
          "shell.execute_reply": "2022-01-03T07:13:22.932028Z",
          "shell.execute_reply.started": "2022-01-03T07:10:27.290990Z"
        },
        "papermill": {
          "duration": 0.037787,
          "end_time": "2022-01-03T07:13:22.932199",
          "exception": false,
          "start_time": "2022-01-03T07:13:22.894412",
          "status": "completed"
        },
        "tags": [],
        "colab": {
          "base_uri": "https://localhost:8080/",
          "height": 206
        },
        "id": "f82e294f",
        "outputId": "627da326-e0fe-4cc1-e57e-c63f32fd3446"
      },
      "outputs": [
        {
          "output_type": "execute_result",
          "data": {
            "text/html": [
              "\n",
              "  <div id=\"df-8eb8415a-cc9b-415e-874e-b860b86a5db1\">\n",
              "    <div class=\"colab-df-container\">\n",
              "      <div>\n",
              "<style scoped>\n",
              "    .dataframe tbody tr th:only-of-type {\n",
              "        vertical-align: middle;\n",
              "    }\n",
              "\n",
              "    .dataframe tbody tr th {\n",
              "        vertical-align: top;\n",
              "    }\n",
              "\n",
              "    .dataframe thead th {\n",
              "        text-align: right;\n",
              "    }\n",
              "</style>\n",
              "<table border=\"1\" class=\"dataframe\">\n",
              "  <thead>\n",
              "    <tr style=\"text-align: right;\">\n",
              "      <th></th>\n",
              "      <th>language</th>\n",
              "      <th>num_repos</th>\n",
              "    </tr>\n",
              "  </thead>\n",
              "  <tbody>\n",
              "    <tr>\n",
              "      <th>0</th>\n",
              "      <td>JavaScript</td>\n",
              "      <td>1100421</td>\n",
              "    </tr>\n",
              "    <tr>\n",
              "      <th>1</th>\n",
              "      <td>CSS</td>\n",
              "      <td>813443</td>\n",
              "    </tr>\n",
              "    <tr>\n",
              "      <th>2</th>\n",
              "      <td>HTML</td>\n",
              "      <td>779549</td>\n",
              "    </tr>\n",
              "    <tr>\n",
              "      <th>3</th>\n",
              "      <td>Shell</td>\n",
              "      <td>638068</td>\n",
              "    </tr>\n",
              "    <tr>\n",
              "      <th>4</th>\n",
              "      <td>Python</td>\n",
              "      <td>548870</td>\n",
              "    </tr>\n",
              "  </tbody>\n",
              "</table>\n",
              "</div>\n",
              "      <button class=\"colab-df-convert\" onclick=\"convertToInteractive('df-8eb8415a-cc9b-415e-874e-b860b86a5db1')\"\n",
              "              title=\"Convert this dataframe to an interactive table.\"\n",
              "              style=\"display:none;\">\n",
              "        \n",
              "  <svg xmlns=\"http://www.w3.org/2000/svg\" height=\"24px\"viewBox=\"0 0 24 24\"\n",
              "       width=\"24px\">\n",
              "    <path d=\"M0 0h24v24H0V0z\" fill=\"none\"/>\n",
              "    <path d=\"M18.56 5.44l.94 2.06.94-2.06 2.06-.94-2.06-.94-.94-2.06-.94 2.06-2.06.94zm-11 1L8.5 8.5l.94-2.06 2.06-.94-2.06-.94L8.5 2.5l-.94 2.06-2.06.94zm10 10l.94 2.06.94-2.06 2.06-.94-2.06-.94-.94-2.06-.94 2.06-2.06.94z\"/><path d=\"M17.41 7.96l-1.37-1.37c-.4-.4-.92-.59-1.43-.59-.52 0-1.04.2-1.43.59L10.3 9.45l-7.72 7.72c-.78.78-.78 2.05 0 2.83L4 21.41c.39.39.9.59 1.41.59.51 0 1.02-.2 1.41-.59l7.78-7.78 2.81-2.81c.8-.78.8-2.07 0-2.86zM5.41 20L4 18.59l7.72-7.72 1.47 1.35L5.41 20z\"/>\n",
              "  </svg>\n",
              "      </button>\n",
              "      \n",
              "  <style>\n",
              "    .colab-df-container {\n",
              "      display:flex;\n",
              "      flex-wrap:wrap;\n",
              "      gap: 12px;\n",
              "    }\n",
              "\n",
              "    .colab-df-convert {\n",
              "      background-color: #E8F0FE;\n",
              "      border: none;\n",
              "      border-radius: 50%;\n",
              "      cursor: pointer;\n",
              "      display: none;\n",
              "      fill: #1967D2;\n",
              "      height: 32px;\n",
              "      padding: 0 0 0 0;\n",
              "      width: 32px;\n",
              "    }\n",
              "\n",
              "    .colab-df-convert:hover {\n",
              "      background-color: #E2EBFA;\n",
              "      box-shadow: 0px 1px 2px rgba(60, 64, 67, 0.3), 0px 1px 3px 1px rgba(60, 64, 67, 0.15);\n",
              "      fill: #174EA6;\n",
              "    }\n",
              "\n",
              "    [theme=dark] .colab-df-convert {\n",
              "      background-color: #3B4455;\n",
              "      fill: #D2E3FC;\n",
              "    }\n",
              "\n",
              "    [theme=dark] .colab-df-convert:hover {\n",
              "      background-color: #434B5C;\n",
              "      box-shadow: 0px 1px 3px 1px rgba(0, 0, 0, 0.15);\n",
              "      filter: drop-shadow(0px 1px 2px rgba(0, 0, 0, 0.3));\n",
              "      fill: #FFFFFF;\n",
              "    }\n",
              "  </style>\n",
              "\n",
              "      <script>\n",
              "        const buttonEl =\n",
              "          document.querySelector('#df-8eb8415a-cc9b-415e-874e-b860b86a5db1 button.colab-df-convert');\n",
              "        buttonEl.style.display =\n",
              "          google.colab.kernel.accessAllowed ? 'block' : 'none';\n",
              "\n",
              "        async function convertToInteractive(key) {\n",
              "          const element = document.querySelector('#df-8eb8415a-cc9b-415e-874e-b860b86a5db1');\n",
              "          const dataTable =\n",
              "            await google.colab.kernel.invokeFunction('convertToInteractive',\n",
              "                                                     [key], {});\n",
              "          if (!dataTable) return;\n",
              "\n",
              "          const docLinkHtml = 'Like what you see? Visit the ' +\n",
              "            '<a target=\"_blank\" href=https://colab.research.google.com/notebooks/data_table.ipynb>data table notebook</a>'\n",
              "            + ' to learn more about interactive tables.';\n",
              "          element.innerHTML = '';\n",
              "          dataTable['output_type'] = 'display_data';\n",
              "          await google.colab.output.renderOutput(dataTable, element);\n",
              "          const docLink = document.createElement('div');\n",
              "          docLink.innerHTML = docLinkHtml;\n",
              "          element.appendChild(docLink);\n",
              "        }\n",
              "      </script>\n",
              "    </div>\n",
              "  </div>\n",
              "  "
            ],
            "text/plain": [
              "     language  num_repos\n",
              "0  JavaScript    1100421\n",
              "1         CSS     813443\n",
              "2        HTML     779549\n",
              "3       Shell     638068\n",
              "4      Python     548870"
            ]
          },
          "metadata": {},
          "execution_count": 6
        }
      ],
      "source": [
        "repos.head()"
      ]
    },
    {
      "cell_type": "markdown",
      "id": "ee12a200",
      "metadata": {
        "papermill": {
          "duration": 0.026968,
          "end_time": "2022-01-03T07:13:22.988011",
          "exception": false,
          "start_time": "2022-01-03T07:13:22.961043",
          "status": "completed"
        },
        "tags": [],
        "id": "ee12a200"
      },
      "source": [
        "# Issues Data Visualization and Analysis"
      ]
    },
    {
      "cell_type": "code",
      "execution_count": 7,
      "id": "27e40eb5",
      "metadata": {
        "execution": {
          "iopub.execute_input": "2022-01-03T07:13:23.050158Z",
          "iopub.status.busy": "2022-01-03T07:13:23.049564Z",
          "iopub.status.idle": "2022-01-03T07:13:23.070823Z",
          "shell.execute_reply": "2022-01-03T07:13:23.071439Z",
          "shell.execute_reply.started": "2022-01-03T07:10:27.306013Z"
        },
        "papermill": {
          "duration": 0.051466,
          "end_time": "2022-01-03T07:13:23.071614",
          "exception": false,
          "start_time": "2022-01-03T07:13:23.020148",
          "status": "completed"
        },
        "tags": [],
        "colab": {
          "base_uri": "https://localhost:8080/",
          "height": 363
        },
        "id": "27e40eb5",
        "outputId": "7839c0be-c0ae-49ac-8012-a86d982abcb5"
      },
      "outputs": [
        {
          "output_type": "execute_result",
          "data": {
            "text/html": [
              "\n",
              "  <div id=\"df-8c6088d8-3043-45f2-899f-232e1d63da5b\">\n",
              "    <div class=\"colab-df-container\">\n",
              "      <div>\n",
              "<style scoped>\n",
              "    .dataframe tbody tr th:only-of-type {\n",
              "        vertical-align: middle;\n",
              "    }\n",
              "\n",
              "    .dataframe tbody tr th {\n",
              "        vertical-align: top;\n",
              "    }\n",
              "\n",
              "    .dataframe thead th {\n",
              "        text-align: right;\n",
              "    }\n",
              "</style>\n",
              "<table border=\"1\" class=\"dataframe\">\n",
              "  <thead>\n",
              "    <tr style=\"text-align: right;\">\n",
              "      <th></th>\n",
              "      <th>name</th>\n",
              "      <th>count</th>\n",
              "      <th>count//1000</th>\n",
              "    </tr>\n",
              "  </thead>\n",
              "  <tbody>\n",
              "    <tr>\n",
              "      <th>0</th>\n",
              "      <td>JavaScript</td>\n",
              "      <td>6500006</td>\n",
              "      <td>6500</td>\n",
              "    </tr>\n",
              "    <tr>\n",
              "      <th>1</th>\n",
              "      <td>Python</td>\n",
              "      <td>4192070</td>\n",
              "      <td>4192</td>\n",
              "    </tr>\n",
              "    <tr>\n",
              "      <th>2</th>\n",
              "      <td>Java</td>\n",
              "      <td>3535768</td>\n",
              "      <td>3535</td>\n",
              "    </tr>\n",
              "    <tr>\n",
              "      <th>3</th>\n",
              "      <td>PHP</td>\n",
              "      <td>2240412</td>\n",
              "      <td>2240</td>\n",
              "    </tr>\n",
              "    <tr>\n",
              "      <th>4</th>\n",
              "      <td>C++</td>\n",
              "      <td>1940721</td>\n",
              "      <td>1940</td>\n",
              "    </tr>\n",
              "    <tr>\n",
              "      <th>5</th>\n",
              "      <td>TypeScript</td>\n",
              "      <td>1741424</td>\n",
              "      <td>1741</td>\n",
              "    </tr>\n",
              "    <tr>\n",
              "      <th>6</th>\n",
              "      <td>Go</td>\n",
              "      <td>1645154</td>\n",
              "      <td>1645</td>\n",
              "    </tr>\n",
              "    <tr>\n",
              "      <th>7</th>\n",
              "      <td>C#</td>\n",
              "      <td>1407711</td>\n",
              "      <td>1407</td>\n",
              "    </tr>\n",
              "    <tr>\n",
              "      <th>8</th>\n",
              "      <td>Ruby</td>\n",
              "      <td>1292627</td>\n",
              "      <td>1292</td>\n",
              "    </tr>\n",
              "    <tr>\n",
              "      <th>9</th>\n",
              "      <td>C</td>\n",
              "      <td>1002905</td>\n",
              "      <td>1002</td>\n",
              "    </tr>\n",
              "  </tbody>\n",
              "</table>\n",
              "</div>\n",
              "      <button class=\"colab-df-convert\" onclick=\"convertToInteractive('df-8c6088d8-3043-45f2-899f-232e1d63da5b')\"\n",
              "              title=\"Convert this dataframe to an interactive table.\"\n",
              "              style=\"display:none;\">\n",
              "        \n",
              "  <svg xmlns=\"http://www.w3.org/2000/svg\" height=\"24px\"viewBox=\"0 0 24 24\"\n",
              "       width=\"24px\">\n",
              "    <path d=\"M0 0h24v24H0V0z\" fill=\"none\"/>\n",
              "    <path d=\"M18.56 5.44l.94 2.06.94-2.06 2.06-.94-2.06-.94-.94-2.06-.94 2.06-2.06.94zm-11 1L8.5 8.5l.94-2.06 2.06-.94-2.06-.94L8.5 2.5l-.94 2.06-2.06.94zm10 10l.94 2.06.94-2.06 2.06-.94-2.06-.94-.94-2.06-.94 2.06-2.06.94z\"/><path d=\"M17.41 7.96l-1.37-1.37c-.4-.4-.92-.59-1.43-.59-.52 0-1.04.2-1.43.59L10.3 9.45l-7.72 7.72c-.78.78-.78 2.05 0 2.83L4 21.41c.39.39.9.59 1.41.59.51 0 1.02-.2 1.41-.59l7.78-7.78 2.81-2.81c.8-.78.8-2.07 0-2.86zM5.41 20L4 18.59l7.72-7.72 1.47 1.35L5.41 20z\"/>\n",
              "  </svg>\n",
              "      </button>\n",
              "      \n",
              "  <style>\n",
              "    .colab-df-container {\n",
              "      display:flex;\n",
              "      flex-wrap:wrap;\n",
              "      gap: 12px;\n",
              "    }\n",
              "\n",
              "    .colab-df-convert {\n",
              "      background-color: #E8F0FE;\n",
              "      border: none;\n",
              "      border-radius: 50%;\n",
              "      cursor: pointer;\n",
              "      display: none;\n",
              "      fill: #1967D2;\n",
              "      height: 32px;\n",
              "      padding: 0 0 0 0;\n",
              "      width: 32px;\n",
              "    }\n",
              "\n",
              "    .colab-df-convert:hover {\n",
              "      background-color: #E2EBFA;\n",
              "      box-shadow: 0px 1px 2px rgba(60, 64, 67, 0.3), 0px 1px 3px 1px rgba(60, 64, 67, 0.15);\n",
              "      fill: #174EA6;\n",
              "    }\n",
              "\n",
              "    [theme=dark] .colab-df-convert {\n",
              "      background-color: #3B4455;\n",
              "      fill: #D2E3FC;\n",
              "    }\n",
              "\n",
              "    [theme=dark] .colab-df-convert:hover {\n",
              "      background-color: #434B5C;\n",
              "      box-shadow: 0px 1px 3px 1px rgba(0, 0, 0, 0.15);\n",
              "      filter: drop-shadow(0px 1px 2px rgba(0, 0, 0, 0.3));\n",
              "      fill: #FFFFFF;\n",
              "    }\n",
              "  </style>\n",
              "\n",
              "      <script>\n",
              "        const buttonEl =\n",
              "          document.querySelector('#df-8c6088d8-3043-45f2-899f-232e1d63da5b button.colab-df-convert');\n",
              "        buttonEl.style.display =\n",
              "          google.colab.kernel.accessAllowed ? 'block' : 'none';\n",
              "\n",
              "        async function convertToInteractive(key) {\n",
              "          const element = document.querySelector('#df-8c6088d8-3043-45f2-899f-232e1d63da5b');\n",
              "          const dataTable =\n",
              "            await google.colab.kernel.invokeFunction('convertToInteractive',\n",
              "                                                     [key], {});\n",
              "          if (!dataTable) return;\n",
              "\n",
              "          const docLinkHtml = 'Like what you see? Visit the ' +\n",
              "            '<a target=\"_blank\" href=https://colab.research.google.com/notebooks/data_table.ipynb>data table notebook</a>'\n",
              "            + ' to learn more about interactive tables.';\n",
              "          element.innerHTML = '';\n",
              "          dataTable['output_type'] = 'display_data';\n",
              "          await google.colab.output.renderOutput(dataTable, element);\n",
              "          const docLink = document.createElement('div');\n",
              "          docLink.innerHTML = docLinkHtml;\n",
              "          element.appendChild(docLink);\n",
              "        }\n",
              "      </script>\n",
              "    </div>\n",
              "  </div>\n",
              "  "
            ],
            "text/plain": [
              "         name    count  count//1000\n",
              "0  JavaScript  6500006         6500\n",
              "1      Python  4192070         4192\n",
              "2        Java  3535768         3535\n",
              "3         PHP  2240412         2240\n",
              "4         C++  1940721         1940\n",
              "5  TypeScript  1741424         1741\n",
              "6          Go  1645154         1645\n",
              "7          C#  1407711         1407\n",
              "8        Ruby  1292627         1292\n",
              "9           C  1002905         1002"
            ]
          },
          "metadata": {},
          "execution_count": 7
        }
      ],
      "source": [
        "#Language vs Issues Count\n",
        "df = pd.DataFrame(issues.groupby('name')['count'].sum().nlargest(10))\n",
        "df['count//1000'] = df['count']//1000\n",
        "df.reset_index(level=0, inplace=True)\n",
        "df"
      ]
    },
    {
      "cell_type": "code",
      "execution_count": 8,
      "id": "f834cfb4",
      "metadata": {
        "execution": {
          "iopub.execute_input": "2022-01-03T07:13:23.130277Z",
          "iopub.status.busy": "2022-01-03T07:13:23.129646Z",
          "iopub.status.idle": "2022-01-03T07:13:23.177503Z",
          "shell.execute_reply": "2022-01-03T07:13:23.176794Z",
          "shell.execute_reply.started": "2022-01-03T07:10:27.325207Z"
        },
        "papermill": {
          "duration": 0.07813,
          "end_time": "2022-01-03T07:13:23.177641",
          "exception": false,
          "start_time": "2022-01-03T07:13:23.099511",
          "status": "completed"
        },
        "tags": [],
        "id": "f834cfb4"
      },
      "outputs": [],
      "source": [
        "# Checking to see if there was a sudden rise in popularity of any one language (only considering 5 every year here to not make it too complicated)\n",
        "merged = pd.DataFrame() \n",
        "for i in [2011,2012,2013,2014,2015,2016,2017,2018,2019,2020,2021]:\n",
        "    rr = pd.DataFrame(issues[issues['year']== i].groupby(['name','year'])['count'].sum().nlargest(5))\n",
        "    rr.reset_index(level=0, inplace=True)\n",
        "    merged = pd.concat([merged,rr],axis = 'index')\n",
        "#merged (#commented out to improve readability)"
      ]
    },
    {
      "cell_type": "markdown",
      "id": "a019836a",
      "metadata": {
        "papermill": {
          "duration": 0.027766,
          "end_time": "2022-01-03T07:13:23.233296",
          "exception": false,
          "start_time": "2022-01-03T07:13:23.205530",
          "status": "completed"
        },
        "tags": [],
        "id": "a019836a"
      },
      "source": [
        "#### No new language popped up here in the top 5 any year other than the languages considered in the top 10. Top 10 per year did have some new entries in some years but count wasnt significant when considering the most popular languages"
      ]
    },
    {
      "cell_type": "code",
      "execution_count": 9,
      "id": "4e0b8711",
      "metadata": {
        "execution": {
          "iopub.execute_input": "2022-01-03T07:13:23.292595Z",
          "iopub.status.busy": "2022-01-03T07:13:23.291977Z",
          "iopub.status.idle": "2022-01-03T07:13:23.302561Z",
          "shell.execute_reply": "2022-01-03T07:13:23.303162Z",
          "shell.execute_reply.started": "2022-01-03T07:10:27.379191Z"
        },
        "papermill": {
          "duration": 0.041985,
          "end_time": "2022-01-03T07:13:23.303323",
          "exception": false,
          "start_time": "2022-01-03T07:13:23.261338",
          "status": "completed"
        },
        "tags": [],
        "colab": {
          "base_uri": "https://localhost:8080/",
          "height": 206
        },
        "id": "4e0b8711",
        "outputId": "b1f8d58a-0779-43f8-de80-fa5cd4605210"
      },
      "outputs": [
        {
          "output_type": "execute_result",
          "data": {
            "text/html": [
              "\n",
              "  <div id=\"df-95364696-cc3a-4f46-a870-f942a2c7b2b5\">\n",
              "    <div class=\"colab-df-container\">\n",
              "      <div>\n",
              "<style scoped>\n",
              "    .dataframe tbody tr th:only-of-type {\n",
              "        vertical-align: middle;\n",
              "    }\n",
              "\n",
              "    .dataframe tbody tr th {\n",
              "        vertical-align: top;\n",
              "    }\n",
              "\n",
              "    .dataframe thead th {\n",
              "        text-align: right;\n",
              "    }\n",
              "</style>\n",
              "<table border=\"1\" class=\"dataframe\">\n",
              "  <thead>\n",
              "    <tr style=\"text-align: right;\">\n",
              "      <th></th>\n",
              "      <th>year</th>\n",
              "      <th>count</th>\n",
              "    </tr>\n",
              "  </thead>\n",
              "  <tbody>\n",
              "    <tr>\n",
              "      <th>0</th>\n",
              "      <td>2011</td>\n",
              "      <td>26074</td>\n",
              "    </tr>\n",
              "    <tr>\n",
              "      <th>1</th>\n",
              "      <td>2012</td>\n",
              "      <td>483126</td>\n",
              "    </tr>\n",
              "    <tr>\n",
              "      <th>2</th>\n",
              "      <td>2013</td>\n",
              "      <td>1243638</td>\n",
              "    </tr>\n",
              "    <tr>\n",
              "      <th>3</th>\n",
              "      <td>2014</td>\n",
              "      <td>2385009</td>\n",
              "    </tr>\n",
              "    <tr>\n",
              "      <th>4</th>\n",
              "      <td>2015</td>\n",
              "      <td>4039150</td>\n",
              "    </tr>\n",
              "  </tbody>\n",
              "</table>\n",
              "</div>\n",
              "      <button class=\"colab-df-convert\" onclick=\"convertToInteractive('df-95364696-cc3a-4f46-a870-f942a2c7b2b5')\"\n",
              "              title=\"Convert this dataframe to an interactive table.\"\n",
              "              style=\"display:none;\">\n",
              "        \n",
              "  <svg xmlns=\"http://www.w3.org/2000/svg\" height=\"24px\"viewBox=\"0 0 24 24\"\n",
              "       width=\"24px\">\n",
              "    <path d=\"M0 0h24v24H0V0z\" fill=\"none\"/>\n",
              "    <path d=\"M18.56 5.44l.94 2.06.94-2.06 2.06-.94-2.06-.94-.94-2.06-.94 2.06-2.06.94zm-11 1L8.5 8.5l.94-2.06 2.06-.94-2.06-.94L8.5 2.5l-.94 2.06-2.06.94zm10 10l.94 2.06.94-2.06 2.06-.94-2.06-.94-.94-2.06-.94 2.06-2.06.94z\"/><path d=\"M17.41 7.96l-1.37-1.37c-.4-.4-.92-.59-1.43-.59-.52 0-1.04.2-1.43.59L10.3 9.45l-7.72 7.72c-.78.78-.78 2.05 0 2.83L4 21.41c.39.39.9.59 1.41.59.51 0 1.02-.2 1.41-.59l7.78-7.78 2.81-2.81c.8-.78.8-2.07 0-2.86zM5.41 20L4 18.59l7.72-7.72 1.47 1.35L5.41 20z\"/>\n",
              "  </svg>\n",
              "      </button>\n",
              "      \n",
              "  <style>\n",
              "    .colab-df-container {\n",
              "      display:flex;\n",
              "      flex-wrap:wrap;\n",
              "      gap: 12px;\n",
              "    }\n",
              "\n",
              "    .colab-df-convert {\n",
              "      background-color: #E8F0FE;\n",
              "      border: none;\n",
              "      border-radius: 50%;\n",
              "      cursor: pointer;\n",
              "      display: none;\n",
              "      fill: #1967D2;\n",
              "      height: 32px;\n",
              "      padding: 0 0 0 0;\n",
              "      width: 32px;\n",
              "    }\n",
              "\n",
              "    .colab-df-convert:hover {\n",
              "      background-color: #E2EBFA;\n",
              "      box-shadow: 0px 1px 2px rgba(60, 64, 67, 0.3), 0px 1px 3px 1px rgba(60, 64, 67, 0.15);\n",
              "      fill: #174EA6;\n",
              "    }\n",
              "\n",
              "    [theme=dark] .colab-df-convert {\n",
              "      background-color: #3B4455;\n",
              "      fill: #D2E3FC;\n",
              "    }\n",
              "\n",
              "    [theme=dark] .colab-df-convert:hover {\n",
              "      background-color: #434B5C;\n",
              "      box-shadow: 0px 1px 3px 1px rgba(0, 0, 0, 0.15);\n",
              "      filter: drop-shadow(0px 1px 2px rgba(0, 0, 0, 0.3));\n",
              "      fill: #FFFFFF;\n",
              "    }\n",
              "  </style>\n",
              "\n",
              "      <script>\n",
              "        const buttonEl =\n",
              "          document.querySelector('#df-95364696-cc3a-4f46-a870-f942a2c7b2b5 button.colab-df-convert');\n",
              "        buttonEl.style.display =\n",
              "          google.colab.kernel.accessAllowed ? 'block' : 'none';\n",
              "\n",
              "        async function convertToInteractive(key) {\n",
              "          const element = document.querySelector('#df-95364696-cc3a-4f46-a870-f942a2c7b2b5');\n",
              "          const dataTable =\n",
              "            await google.colab.kernel.invokeFunction('convertToInteractive',\n",
              "                                                     [key], {});\n",
              "          if (!dataTable) return;\n",
              "\n",
              "          const docLinkHtml = 'Like what you see? Visit the ' +\n",
              "            '<a target=\"_blank\" href=https://colab.research.google.com/notebooks/data_table.ipynb>data table notebook</a>'\n",
              "            + ' to learn more about interactive tables.';\n",
              "          element.innerHTML = '';\n",
              "          dataTable['output_type'] = 'display_data';\n",
              "          await google.colab.output.renderOutput(dataTable, element);\n",
              "          const docLink = document.createElement('div');\n",
              "          docLink.innerHTML = docLinkHtml;\n",
              "          element.appendChild(docLink);\n",
              "        }\n",
              "      </script>\n",
              "    </div>\n",
              "  </div>\n",
              "  "
            ],
            "text/plain": [
              "   year    count\n",
              "0  2011    26074\n",
              "1  2012   483126\n",
              "2  2013  1243638\n",
              "3  2014  2385009\n",
              "4  2015  4039150"
            ]
          },
          "metadata": {},
          "execution_count": 9
        }
      ],
      "source": [
        "# Year vs Count \n",
        "df_year = pd.DataFrame(issues.groupby('year')['count'].sum())\n",
        "df_year.reset_index(level=0, inplace=True)\n",
        "df_year.head()"
      ]
    },
    {
      "cell_type": "code",
      "execution_count": 10,
      "id": "281cbb47",
      "metadata": {
        "execution": {
          "iopub.execute_input": "2022-01-03T07:13:23.362740Z",
          "iopub.status.busy": "2022-01-03T07:13:23.362138Z",
          "iopub.status.idle": "2022-01-03T07:13:23.405951Z",
          "shell.execute_reply": "2022-01-03T07:13:23.407295Z",
          "shell.execute_reply.started": "2022-01-03T07:10:27.393597Z"
        },
        "papermill": {
          "duration": 0.075913,
          "end_time": "2022-01-03T07:13:23.407530",
          "exception": false,
          "start_time": "2022-01-03T07:13:23.331617",
          "status": "completed"
        },
        "tags": [],
        "colab": {
          "base_uri": "https://localhost:8080/",
          "height": 363
        },
        "id": "281cbb47",
        "outputId": "3e21ca8c-cab7-4977-b53f-b94d8081753b"
      },
      "outputs": [
        {
          "output_type": "execute_result",
          "data": {
            "text/html": [
              "\n",
              "  <div id=\"df-6bb4ef44-c3bf-499c-8cd0-5ea0cc859456\">\n",
              "    <div class=\"colab-df-container\">\n",
              "      <div>\n",
              "<style scoped>\n",
              "    .dataframe tbody tr th:only-of-type {\n",
              "        vertical-align: middle;\n",
              "    }\n",
              "\n",
              "    .dataframe tbody tr th {\n",
              "        vertical-align: top;\n",
              "    }\n",
              "\n",
              "    .dataframe thead th {\n",
              "        text-align: right;\n",
              "    }\n",
              "</style>\n",
              "<table border=\"1\" class=\"dataframe\">\n",
              "  <thead>\n",
              "    <tr style=\"text-align: right;\">\n",
              "      <th></th>\n",
              "      <th>year</th>\n",
              "      <th>name</th>\n",
              "      <th>count</th>\n",
              "      <th>total</th>\n",
              "    </tr>\n",
              "  </thead>\n",
              "  <tbody>\n",
              "    <tr>\n",
              "      <th>1</th>\n",
              "      <td>2011</td>\n",
              "      <td>C</td>\n",
              "      <td>1276</td>\n",
              "      <td>0.048938</td>\n",
              "    </tr>\n",
              "    <tr>\n",
              "      <th>2</th>\n",
              "      <td>2011</td>\n",
              "      <td>C#</td>\n",
              "      <td>888</td>\n",
              "      <td>0.034057</td>\n",
              "    </tr>\n",
              "    <tr>\n",
              "      <th>3</th>\n",
              "      <td>2011</td>\n",
              "      <td>C++</td>\n",
              "      <td>2280</td>\n",
              "      <td>0.087443</td>\n",
              "    </tr>\n",
              "    <tr>\n",
              "      <th>10</th>\n",
              "      <td>2011</td>\n",
              "      <td>Java</td>\n",
              "      <td>2228</td>\n",
              "      <td>0.085449</td>\n",
              "    </tr>\n",
              "    <tr>\n",
              "      <th>11</th>\n",
              "      <td>2011</td>\n",
              "      <td>JavaScript</td>\n",
              "      <td>4697</td>\n",
              "      <td>0.180141</td>\n",
              "    </tr>\n",
              "    <tr>\n",
              "      <th>13</th>\n",
              "      <td>2011</td>\n",
              "      <td>PHP</td>\n",
              "      <td>3401</td>\n",
              "      <td>0.130436</td>\n",
              "    </tr>\n",
              "    <tr>\n",
              "      <th>14</th>\n",
              "      <td>2011</td>\n",
              "      <td>Python</td>\n",
              "      <td>3764</td>\n",
              "      <td>0.144358</td>\n",
              "    </tr>\n",
              "    <tr>\n",
              "      <th>15</th>\n",
              "      <td>2011</td>\n",
              "      <td>Ruby</td>\n",
              "      <td>5326</td>\n",
              "      <td>0.204265</td>\n",
              "    </tr>\n",
              "    <tr>\n",
              "      <th>23</th>\n",
              "      <td>2012</td>\n",
              "      <td>C</td>\n",
              "      <td>16423</td>\n",
              "      <td>0.033993</td>\n",
              "    </tr>\n",
              "    <tr>\n",
              "      <th>24</th>\n",
              "      <td>2012</td>\n",
              "      <td>C#</td>\n",
              "      <td>12657</td>\n",
              "      <td>0.026198</td>\n",
              "    </tr>\n",
              "  </tbody>\n",
              "</table>\n",
              "</div>\n",
              "      <button class=\"colab-df-convert\" onclick=\"convertToInteractive('df-6bb4ef44-c3bf-499c-8cd0-5ea0cc859456')\"\n",
              "              title=\"Convert this dataframe to an interactive table.\"\n",
              "              style=\"display:none;\">\n",
              "        \n",
              "  <svg xmlns=\"http://www.w3.org/2000/svg\" height=\"24px\"viewBox=\"0 0 24 24\"\n",
              "       width=\"24px\">\n",
              "    <path d=\"M0 0h24v24H0V0z\" fill=\"none\"/>\n",
              "    <path d=\"M18.56 5.44l.94 2.06.94-2.06 2.06-.94-2.06-.94-.94-2.06-.94 2.06-2.06.94zm-11 1L8.5 8.5l.94-2.06 2.06-.94-2.06-.94L8.5 2.5l-.94 2.06-2.06.94zm10 10l.94 2.06.94-2.06 2.06-.94-2.06-.94-.94-2.06-.94 2.06-2.06.94z\"/><path d=\"M17.41 7.96l-1.37-1.37c-.4-.4-.92-.59-1.43-.59-.52 0-1.04.2-1.43.59L10.3 9.45l-7.72 7.72c-.78.78-.78 2.05 0 2.83L4 21.41c.39.39.9.59 1.41.59.51 0 1.02-.2 1.41-.59l7.78-7.78 2.81-2.81c.8-.78.8-2.07 0-2.86zM5.41 20L4 18.59l7.72-7.72 1.47 1.35L5.41 20z\"/>\n",
              "  </svg>\n",
              "      </button>\n",
              "      \n",
              "  <style>\n",
              "    .colab-df-container {\n",
              "      display:flex;\n",
              "      flex-wrap:wrap;\n",
              "      gap: 12px;\n",
              "    }\n",
              "\n",
              "    .colab-df-convert {\n",
              "      background-color: #E8F0FE;\n",
              "      border: none;\n",
              "      border-radius: 50%;\n",
              "      cursor: pointer;\n",
              "      display: none;\n",
              "      fill: #1967D2;\n",
              "      height: 32px;\n",
              "      padding: 0 0 0 0;\n",
              "      width: 32px;\n",
              "    }\n",
              "\n",
              "    .colab-df-convert:hover {\n",
              "      background-color: #E2EBFA;\n",
              "      box-shadow: 0px 1px 2px rgba(60, 64, 67, 0.3), 0px 1px 3px 1px rgba(60, 64, 67, 0.15);\n",
              "      fill: #174EA6;\n",
              "    }\n",
              "\n",
              "    [theme=dark] .colab-df-convert {\n",
              "      background-color: #3B4455;\n",
              "      fill: #D2E3FC;\n",
              "    }\n",
              "\n",
              "    [theme=dark] .colab-df-convert:hover {\n",
              "      background-color: #434B5C;\n",
              "      box-shadow: 0px 1px 3px 1px rgba(0, 0, 0, 0.15);\n",
              "      filter: drop-shadow(0px 1px 2px rgba(0, 0, 0, 0.3));\n",
              "      fill: #FFFFFF;\n",
              "    }\n",
              "  </style>\n",
              "\n",
              "      <script>\n",
              "        const buttonEl =\n",
              "          document.querySelector('#df-6bb4ef44-c3bf-499c-8cd0-5ea0cc859456 button.colab-df-convert');\n",
              "        buttonEl.style.display =\n",
              "          google.colab.kernel.accessAllowed ? 'block' : 'none';\n",
              "\n",
              "        async function convertToInteractive(key) {\n",
              "          const element = document.querySelector('#df-6bb4ef44-c3bf-499c-8cd0-5ea0cc859456');\n",
              "          const dataTable =\n",
              "            await google.colab.kernel.invokeFunction('convertToInteractive',\n",
              "                                                     [key], {});\n",
              "          if (!dataTable) return;\n",
              "\n",
              "          const docLinkHtml = 'Like what you see? Visit the ' +\n",
              "            '<a target=\"_blank\" href=https://colab.research.google.com/notebooks/data_table.ipynb>data table notebook</a>'\n",
              "            + ' to learn more about interactive tables.';\n",
              "          element.innerHTML = '';\n",
              "          dataTable['output_type'] = 'display_data';\n",
              "          await google.colab.output.renderOutput(dataTable, element);\n",
              "          const docLink = document.createElement('div');\n",
              "          docLink.innerHTML = docLinkHtml;\n",
              "          element.appendChild(docLink);\n",
              "        }\n",
              "      </script>\n",
              "    </div>\n",
              "  </div>\n",
              "  "
            ],
            "text/plain": [
              "    year        name  count     total\n",
              "1   2011           C   1276  0.048938\n",
              "2   2011          C#    888  0.034057\n",
              "3   2011         C++   2280  0.087443\n",
              "10  2011        Java   2228  0.085449\n",
              "11  2011  JavaScript   4697  0.180141\n",
              "13  2011         PHP   3401  0.130436\n",
              "14  2011      Python   3764  0.144358\n",
              "15  2011        Ruby   5326  0.204265\n",
              "23  2012           C  16423  0.033993\n",
              "24  2012          C#  12657  0.026198"
            ]
          },
          "metadata": {},
          "execution_count": 10
        }
      ],
      "source": [
        "# Absolute count and yearwise relative count( count for the language/total count for that year) have been mentioned for top 10 languages\n",
        "df1 = pd.DataFrame(issues.groupby(['year','name'])['count'].sum())\n",
        "df1.reset_index(level=[0,1], inplace=True)\n",
        "lst = ['JavaScript','Java','Python','C++','PHP','Go','TypeScript','C#','Ruby','C']\n",
        "total = []\n",
        "for i in range(len(df_year['year'])):\n",
        "    for j in df1.loc[df1['year']== df_year.loc[i,'year']]['count']:\n",
        "        total.append(j/df_year.loc[i,'count'])\n",
        "df1['total'] = total\n",
        "df2 = df1.loc[df1['name'].isin(lst)]\n",
        "\n",
        "df2.head(10)\n"
      ]
    },
    {
      "cell_type": "markdown",
      "id": "ce5bf2dc",
      "metadata": {
        "papermill": {
          "duration": 0.028444,
          "end_time": "2022-01-03T07:13:23.464962",
          "exception": false,
          "start_time": "2022-01-03T07:13:23.436518",
          "status": "completed"
        },
        "tags": [],
        "id": "ce5bf2dc"
      },
      "source": [
        "### Seeing the overall trends over 10 years for the popular languages (taking count as count//1000)"
      ]
    },
    {
      "cell_type": "code",
      "execution_count": 11,
      "id": "1c386c0c",
      "metadata": {
        "execution": {
          "iopub.execute_input": "2022-01-03T07:13:23.525608Z",
          "iopub.status.busy": "2022-01-03T07:13:23.524947Z",
          "iopub.status.idle": "2022-01-03T07:13:23.884925Z",
          "shell.execute_reply": "2022-01-03T07:13:23.885430Z",
          "shell.execute_reply.started": "2022-01-03T07:10:27.443348Z"
        },
        "papermill": {
          "duration": 0.391971,
          "end_time": "2022-01-03T07:13:23.885596",
          "exception": false,
          "start_time": "2022-01-03T07:13:23.493625",
          "status": "completed"
        },
        "tags": [],
        "colab": {
          "base_uri": "https://localhost:8080/",
          "height": 824
        },
        "id": "1c386c0c",
        "outputId": "f9853dc9-ec2b-4ccc-c0bd-210e79321689"
      },
      "outputs": [
        {
          "output_type": "error",
          "ename": "AttributeError",
          "evalue": "ignored",
          "traceback": [
            "\u001b[0;31m---------------------------------------------------------------------------\u001b[0m",
            "\u001b[0;31mAttributeError\u001b[0m                            Traceback (most recent call last)",
            "\u001b[0;32m<ipython-input-11-3919eb115c8a>\u001b[0m in \u001b[0;36m<module>\u001b[0;34m()\u001b[0m\n\u001b[1;32m      2\u001b[0m \u001b[0mplt\u001b[0m\u001b[0;34m.\u001b[0m\u001b[0mfigure\u001b[0m\u001b[0;34m(\u001b[0m\u001b[0mfigsize\u001b[0m \u001b[0;34m=\u001b[0m \u001b[0;34m(\u001b[0m\u001b[0;36m10\u001b[0m\u001b[0;34m,\u001b[0m\u001b[0;36m10\u001b[0m\u001b[0;34m)\u001b[0m\u001b[0;34m)\u001b[0m\u001b[0;34m\u001b[0m\u001b[0;34m\u001b[0m\u001b[0m\n\u001b[1;32m      3\u001b[0m \u001b[0max\u001b[0m \u001b[0;34m=\u001b[0m \u001b[0msns\u001b[0m\u001b[0;34m.\u001b[0m\u001b[0mbarplot\u001b[0m\u001b[0;34m(\u001b[0m\u001b[0mx\u001b[0m \u001b[0;34m=\u001b[0m \u001b[0;34m'name'\u001b[0m\u001b[0;34m,\u001b[0m \u001b[0my\u001b[0m \u001b[0;34m=\u001b[0m \u001b[0;34m'count//1000'\u001b[0m\u001b[0;34m,\u001b[0m\u001b[0mdata\u001b[0m \u001b[0;34m=\u001b[0m \u001b[0mdf\u001b[0m\u001b[0;34m)\u001b[0m\u001b[0;34m\u001b[0m\u001b[0;34m\u001b[0m\u001b[0m\n\u001b[0;32m----> 4\u001b[0;31m \u001b[0max\u001b[0m\u001b[0;34m.\u001b[0m\u001b[0mbar_label\u001b[0m\u001b[0;34m(\u001b[0m\u001b[0max\u001b[0m\u001b[0;34m.\u001b[0m\u001b[0mcontainers\u001b[0m\u001b[0;34m[\u001b[0m\u001b[0;36m0\u001b[0m\u001b[0;34m]\u001b[0m\u001b[0;34m)\u001b[0m\u001b[0;34m\u001b[0m\u001b[0;34m\u001b[0m\u001b[0m\n\u001b[0m\u001b[1;32m      5\u001b[0m \u001b[0max\u001b[0m\u001b[0;34m.\u001b[0m\u001b[0mset_ylabel\u001b[0m\u001b[0;34m(\u001b[0m\u001b[0;34m'No. of Issues //1000'\u001b[0m\u001b[0;34m,\u001b[0m \u001b[0msize\u001b[0m \u001b[0;34m=\u001b[0m \u001b[0;34m'large'\u001b[0m\u001b[0;34m,\u001b[0m \u001b[0mbackgroundcolor\u001b[0m \u001b[0;34m=\u001b[0m \u001b[0;34m'yellow'\u001b[0m\u001b[0;34m,\u001b[0m\u001b[0mlabelpad\u001b[0m \u001b[0;34m=\u001b[0m \u001b[0;36m20\u001b[0m\u001b[0;34m)\u001b[0m\u001b[0;34m\u001b[0m\u001b[0;34m\u001b[0m\u001b[0m\n\u001b[1;32m      6\u001b[0m \u001b[0max\u001b[0m\u001b[0;34m.\u001b[0m\u001b[0mset_xlabel\u001b[0m\u001b[0;34m(\u001b[0m\u001b[0;34m'Language Name'\u001b[0m\u001b[0;34m,\u001b[0m \u001b[0msize\u001b[0m \u001b[0;34m=\u001b[0m \u001b[0;34m'large'\u001b[0m\u001b[0;34m,\u001b[0m\u001b[0mbackgroundcolor\u001b[0m \u001b[0;34m=\u001b[0m \u001b[0;34m'yellow'\u001b[0m\u001b[0;34m,\u001b[0m\u001b[0mlabelpad\u001b[0m \u001b[0;34m=\u001b[0m \u001b[0;36m20\u001b[0m\u001b[0;34m)\u001b[0m\u001b[0;34m\u001b[0m\u001b[0;34m\u001b[0m\u001b[0m\n",
            "\u001b[0;31mAttributeError\u001b[0m: 'AxesSubplot' object has no attribute 'bar_label'"
          ]
        },
        {
          "output_type": "display_data",
          "data": {
            "image/png": "[encoded data removed]",
            "text/plain": [
              "<Figure size 720x720 with 1 Axes>"
            ]
          },
          "metadata": {
            "needs_background": "light"
          }
        }
      ],
      "source": [
        "#Absolute Value trends for overall case\n",
        "plt.figure(figsize = (10,10))\n",
        "ax = sns.barplot(x = 'name', y = 'count//1000',data = df)\n",
        "ax.bar_label(ax.containers[0])\n",
        "ax.set_ylabel('No. of Issues //1000', size = 'large', backgroundcolor = 'yellow',labelpad = 20)\n",
        "ax.set_xlabel('Language Name', size = 'large',backgroundcolor = 'yellow',labelpad = 20)"
      ]
    },
    {
      "cell_type": "markdown",
      "id": "782003c4",
      "metadata": {
        "papermill": {
          "duration": 0.029831,
          "end_time": "2022-01-03T07:13:23.946111",
          "exception": false,
          "start_time": "2022-01-03T07:13:23.916280",
          "status": "completed"
        },
        "tags": [],
        "id": "782003c4"
      },
      "source": [
        "### Seeing the trend based on year for the popular languages"
      ]
    },
    {
      "cell_type": "markdown",
      "id": "af1a73c9",
      "metadata": {
        "papermill": {
          "duration": 0.029696,
          "end_time": "2022-01-03T07:13:24.006363",
          "exception": false,
          "start_time": "2022-01-03T07:13:23.976667",
          "status": "completed"
        },
        "tags": [],
        "id": "af1a73c9"
      },
      "source": [
        "### Absolute Value Trends"
      ]
    },
    {
      "cell_type": "code",
      "execution_count": null,
      "id": "ba28f529",
      "metadata": {
        "execution": {
          "iopub.execute_input": "2022-01-03T07:13:24.081271Z",
          "iopub.status.busy": "2022-01-03T07:13:24.080641Z",
          "iopub.status.idle": "2022-01-03T07:13:24.526129Z",
          "shell.execute_reply": "2022-01-03T07:13:24.526611Z",
          "shell.execute_reply.started": "2022-01-03T07:10:27.781985Z"
        },
        "papermill": {
          "duration": 0.489632,
          "end_time": "2022-01-03T07:13:24.526783",
          "exception": false,
          "start_time": "2022-01-03T07:13:24.037151",
          "status": "completed"
        },
        "tags": [],
        "id": "ba28f529"
      },
      "outputs": [],
      "source": [
        "# Absolute value trends yearwise\n",
        "plt.figure(figsize = (10,10))\n",
        "ax = plt.subplot(111)\n",
        "sns.lineplot(x = 'year', y = 'count', hue = 'name',data = df2,marker = 'o')\n",
        "ax.legend(loc='center left', bbox_to_anchor=(1, 0.5))\n",
        "tick_spacing = 1\n",
        "ax.xaxis.set_major_locator(ticker.MultipleLocator(tick_spacing))\n",
        "ax.set_ylabel('Count', size = 'large', backgroundcolor = 'yellow',labelpad = 20)\n",
        "ax.set_xlabel('Year', size = 'large',backgroundcolor = 'yellow',labelpad = 20)"
      ]
    },
    {
      "cell_type": "markdown",
      "id": "ec57daa5",
      "metadata": {
        "papermill": {
          "duration": 0.032885,
          "end_time": "2022-01-03T07:13:24.593006",
          "exception": false,
          "start_time": "2022-01-03T07:13:24.560121",
          "status": "completed"
        },
        "tags": [],
        "id": "ec57daa5"
      },
      "source": [
        "### Relative Value Trends"
      ]
    },
    {
      "cell_type": "code",
      "execution_count": null,
      "id": "1c1bd636",
      "metadata": {
        "execution": {
          "iopub.execute_input": "2022-01-03T07:13:24.662621Z",
          "iopub.status.busy": "2022-01-03T07:13:24.662019Z",
          "iopub.status.idle": "2022-01-03T07:13:25.097943Z",
          "shell.execute_reply": "2022-01-03T07:13:25.098459Z",
          "shell.execute_reply.started": "2022-01-03T07:10:28.226818Z"
        },
        "papermill": {
          "duration": 0.472283,
          "end_time": "2022-01-03T07:13:25.098627",
          "exception": false,
          "start_time": "2022-01-03T07:13:24.626344",
          "status": "completed"
        },
        "tags": [],
        "id": "1c1bd636"
      },
      "outputs": [],
      "source": [
        "# Relative value trends yearwise\n",
        "plt.figure(figsize = (10,10))\n",
        "ax = plt.subplot(111)\n",
        "sns.lineplot(x = 'year', y = 'total', hue = 'name',data = df2,marker = 'o')\n",
        "ax.legend(loc='center left', bbox_to_anchor=(1, 0.5))\n",
        "tick_spacing = 1\n",
        "ax.xaxis.set_major_locator(ticker.MultipleLocator(tick_spacing))\n",
        "ax.set_ylabel('Count', size = 'large', backgroundcolor = 'yellow',labelpad = 20)\n",
        "ax.set_xlabel('Year', size = 'large',backgroundcolor = 'yellow',labelpad = 20)"
      ]
    },
    {
      "cell_type": "markdown",
      "id": "10e0165d",
      "metadata": {
        "papermill": {
          "duration": 0.036034,
          "end_time": "2022-01-03T07:13:25.171230",
          "exception": false,
          "start_time": "2022-01-03T07:13:25.135196",
          "status": "completed"
        },
        "tags": [],
        "id": "10e0165d"
      },
      "source": [
        "### Key Takeaways: JavaScript has been the most popular language when it comes to Issues feature in GitHub, but, recently Python has overtaken GitHub. TypeScript has also been steadily improving while Ruby and PHP have been declining"
      ]
    },
    {
      "cell_type": "markdown",
      "id": "597475d7",
      "metadata": {
        "papermill": {
          "duration": 0.036037,
          "end_time": "2022-01-03T07:13:25.243747",
          "exception": false,
          "start_time": "2022-01-03T07:13:25.207710",
          "status": "completed"
        },
        "tags": [],
        "id": "597475d7"
      },
      "source": [
        "# Pull Requests Data Visualization and Analysis"
      ]
    },
    {
      "cell_type": "code",
      "execution_count": null,
      "id": "b3e6c4d6",
      "metadata": {
        "execution": {
          "iopub.execute_input": "2022-01-03T07:13:25.320364Z",
          "iopub.status.busy": "2022-01-03T07:13:25.319777Z",
          "iopub.status.idle": "2022-01-03T07:13:25.333120Z",
          "shell.execute_reply": "2022-01-03T07:13:25.333635Z",
          "shell.execute_reply.started": "2022-01-03T07:10:29.214613Z"
        },
        "papermill": {
          "duration": 0.05279,
          "end_time": "2022-01-03T07:13:25.333801",
          "exception": false,
          "start_time": "2022-01-03T07:13:25.281011",
          "status": "completed"
        },
        "tags": [],
        "id": "b3e6c4d6"
      },
      "outputs": [],
      "source": [
        "# Languages vs Pull Requests data\n",
        "df3 = pd.DataFrame(prs.groupby('name')['count'].sum().nlargest(10))\n",
        "df3.reset_index(level=0, inplace=True)\n",
        "df3['count//1000'] = df3['count']//1000\n",
        "df3"
      ]
    },
    {
      "cell_type": "code",
      "execution_count": null,
      "id": "db51c0a1",
      "metadata": {
        "execution": {
          "iopub.execute_input": "2022-01-03T07:13:25.410890Z",
          "iopub.status.busy": "2022-01-03T07:13:25.410237Z",
          "iopub.status.idle": "2022-01-03T07:13:25.421274Z",
          "shell.execute_reply": "2022-01-03T07:13:25.421826Z",
          "shell.execute_reply.started": "2022-01-03T07:10:29.234126Z"
        },
        "papermill": {
          "duration": 0.051293,
          "end_time": "2022-01-03T07:13:25.421983",
          "exception": false,
          "start_time": "2022-01-03T07:13:25.370690",
          "status": "completed"
        },
        "tags": [],
        "id": "db51c0a1"
      },
      "outputs": [],
      "source": [
        "#Year vs Pull Requests count data\n",
        "df_year_1 = pd.DataFrame(prs.groupby('year')['count'].sum())\n",
        "df_year_1.reset_index(level=0, inplace=True)\n",
        "df_year_1.head()"
      ]
    },
    {
      "cell_type": "code",
      "execution_count": null,
      "id": "dea45d65",
      "metadata": {
        "execution": {
          "iopub.execute_input": "2022-01-03T07:13:25.499236Z",
          "iopub.status.busy": "2022-01-03T07:13:25.498649Z",
          "iopub.status.idle": "2022-01-03T07:13:25.549856Z",
          "shell.execute_reply": "2022-01-03T07:13:25.550314Z",
          "shell.execute_reply.started": "2022-01-03T07:10:29.250266Z"
        },
        "papermill": {
          "duration": 0.091524,
          "end_time": "2022-01-03T07:13:25.550493",
          "exception": false,
          "start_time": "2022-01-03T07:13:25.458969",
          "status": "completed"
        },
        "tags": [],
        "id": "dea45d65"
      },
      "outputs": [],
      "source": [
        "# Checking to see if there was a sudden rise in popularity of any one language (only considering 5 every year here to not make it too complicated)\n",
        "merged = pd.DataFrame() \n",
        "for i in [2011,2012,2013,2014,2015,2016,2017,2018,2019,2020,2021]:\n",
        "    rr = pd.DataFrame(issues[prs['year']== i].groupby(['name','year'])['count'].sum().nlargest(5))\n",
        "    rr.reset_index(level=0, inplace=True)\n",
        "    merged = pd.concat([merged,rr],axis = 'index')\n",
        "#merged (commented out to improve readability)"
      ]
    },
    {
      "cell_type": "markdown",
      "id": "0308034c",
      "metadata": {
        "papermill": {
          "duration": 0.037835,
          "end_time": "2022-01-03T07:13:25.625927",
          "exception": false,
          "start_time": "2022-01-03T07:13:25.588092",
          "status": "completed"
        },
        "tags": [],
        "id": "0308034c"
      },
      "source": [
        "#### No new language popped up here in the top 5 any year other than the languages considered in the top 10. Top 10 per year did have some new entries in some years but count wasnt significant when considering the most popular languages"
      ]
    },
    {
      "cell_type": "code",
      "execution_count": null,
      "id": "f5f05344",
      "metadata": {
        "execution": {
          "iopub.execute_input": "2022-01-03T07:13:25.705696Z",
          "iopub.status.busy": "2022-01-03T07:13:25.704925Z",
          "iopub.status.idle": "2022-01-03T07:13:25.746877Z",
          "shell.execute_reply": "2022-01-03T07:13:25.746309Z",
          "shell.execute_reply.started": "2022-01-03T07:10:29.306729Z"
        },
        "papermill": {
          "duration": 0.083201,
          "end_time": "2022-01-03T07:13:25.747013",
          "exception": false,
          "start_time": "2022-01-03T07:13:25.663812",
          "status": "completed"
        },
        "tags": [],
        "id": "f5f05344"
      },
      "outputs": [],
      "source": [
        "# Absolute count and yearwise relative count( count for the language/total count for that year) have been mentioned for top 10 languages\n",
        "df4 = pd.DataFrame(prs.groupby(['year','name'])['count'].sum())\n",
        "df4.reset_index(level=[0,1], inplace=True)\n",
        "lst1 = ['JavaScript','Java','Python','Ruby','PHP','Go','C++','TypeScript','C#','HTML']\n",
        "total = []\n",
        "for i in range(len(df_year['year'])):\n",
        "    for j in df4.loc[df4['year']== df_year_1.loc[i,'year']]['count']:\n",
        "        total.append(j/df_year_1.loc[i,'count'])\n",
        "df4['total'] = total\n",
        "df5 = df4.loc[df4['name'].isin(lst1)]\n",
        "df5.head(10)"
      ]
    },
    {
      "cell_type": "markdown",
      "id": "4838ebc2",
      "metadata": {
        "papermill": {
          "duration": 0.038197,
          "end_time": "2022-01-03T07:13:25.822946",
          "exception": false,
          "start_time": "2022-01-03T07:13:25.784749",
          "status": "completed"
        },
        "tags": [],
        "id": "4838ebc2"
      },
      "source": [
        "### Seeing the overall trends over 10 years for the popular languages (taking count as count//1000)"
      ]
    },
    {
      "cell_type": "code",
      "execution_count": null,
      "id": "1a2fff71",
      "metadata": {
        "execution": {
          "iopub.execute_input": "2022-01-03T07:13:25.935105Z",
          "iopub.status.busy": "2022-01-03T07:13:25.932092Z",
          "iopub.status.idle": "2022-01-03T07:13:26.240953Z",
          "shell.execute_reply": "2022-01-03T07:13:26.240389Z",
          "shell.execute_reply.started": "2022-01-03T07:10:29.353842Z"
        },
        "papermill": {
          "duration": 0.379123,
          "end_time": "2022-01-03T07:13:26.241090",
          "exception": false,
          "start_time": "2022-01-03T07:13:25.861967",
          "status": "completed"
        },
        "tags": [],
        "id": "1a2fff71"
      },
      "outputs": [],
      "source": [
        "# Absolute value trends overall\n",
        "plt.figure(figsize = (10,10))\n",
        "ax = sns.barplot(x = 'name', y = 'count//1000',data = df3)\n",
        "ax.bar_label(ax.containers[0])\n",
        "ax.set_ylabel('No. of Pull Requsts //1000', size = 'large', backgroundcolor = 'yellow',labelpad = 20)\n",
        "ax.set_xlabel('Language Name', size = 'large',backgroundcolor = 'yellow',labelpad = 20)"
      ]
    },
    {
      "cell_type": "markdown",
      "id": "17090808",
      "metadata": {
        "papermill": {
          "duration": 0.039199,
          "end_time": "2022-01-03T07:13:26.320090",
          "exception": false,
          "start_time": "2022-01-03T07:13:26.280891",
          "status": "completed"
        },
        "tags": [],
        "id": "17090808"
      },
      "source": [
        "### Seeing the trend based on year for the popular languages"
      ]
    },
    {
      "cell_type": "markdown",
      "id": "30ae6943",
      "metadata": {
        "papermill": {
          "duration": 0.0393,
          "end_time": "2022-01-03T07:13:26.398829",
          "exception": false,
          "start_time": "2022-01-03T07:13:26.359529",
          "status": "completed"
        },
        "tags": [],
        "id": "30ae6943"
      },
      "source": [
        "### Absolute Value Trends"
      ]
    },
    {
      "cell_type": "code",
      "execution_count": null,
      "id": "3a783741",
      "metadata": {
        "execution": {
          "iopub.execute_input": "2022-01-03T07:13:26.514772Z",
          "iopub.status.busy": "2022-01-03T07:13:26.499765Z",
          "iopub.status.idle": "2022-01-03T07:13:26.927387Z",
          "shell.execute_reply": "2022-01-03T07:13:26.927955Z",
          "shell.execute_reply.started": "2022-01-03T07:10:29.694776Z"
        },
        "papermill": {
          "duration": 0.489453,
          "end_time": "2022-01-03T07:13:26.928121",
          "exception": false,
          "start_time": "2022-01-03T07:13:26.438668",
          "status": "completed"
        },
        "tags": [],
        "id": "3a783741"
      },
      "outputs": [],
      "source": [
        "# Absolute value trends yearwise\n",
        "plt.figure(figsize = (10,10))\n",
        "ax = plt.subplot(111)\n",
        "sns.lineplot(x = 'year', y = 'count', hue = 'name',data = df5,marker= 'o')\n",
        "ax.legend(loc='center left', bbox_to_anchor=(1, 0.5))\n",
        "tick_spacing = 1\n",
        "ax.xaxis.set_major_locator(ticker.MultipleLocator(tick_spacing))\n",
        "ax.set_ylabel('Count', size = 'large', backgroundcolor = 'yellow',labelpad = 20)\n",
        "ax.set_xlabel('Year', size = 'large',backgroundcolor = 'yellow',labelpad = 20)"
      ]
    },
    {
      "cell_type": "markdown",
      "id": "d93d04c0",
      "metadata": {
        "papermill": {
          "duration": 0.044567,
          "end_time": "2022-01-03T07:13:27.015831",
          "exception": false,
          "start_time": "2022-01-03T07:13:26.971264",
          "status": "completed"
        },
        "tags": [],
        "id": "d93d04c0"
      },
      "source": [
        "### Relative Value Trends"
      ]
    },
    {
      "cell_type": "code",
      "execution_count": null,
      "id": "0ee5d230",
      "metadata": {
        "execution": {
          "iopub.execute_input": "2022-01-03T07:13:27.137664Z",
          "iopub.status.busy": "2022-01-03T07:13:27.132893Z",
          "iopub.status.idle": "2022-01-03T07:13:27.539046Z",
          "shell.execute_reply": "2022-01-03T07:13:27.539538Z",
          "shell.execute_reply.started": "2022-01-03T07:10:30.159764Z"
        },
        "papermill": {
          "duration": 0.480502,
          "end_time": "2022-01-03T07:13:27.539711",
          "exception": false,
          "start_time": "2022-01-03T07:13:27.059209",
          "status": "completed"
        },
        "tags": [],
        "id": "0ee5d230"
      },
      "outputs": [],
      "source": [
        "# Relative value trends yearwise\n",
        "plt.figure(figsize = (10,10))\n",
        "ax = plt.subplot(111)\n",
        "sns.lineplot(x = 'year', y = 'total', hue = 'name',data = df5,marker = 'o')\n",
        "ax.legend(loc='center left', bbox_to_anchor=(1, 0.5))\n",
        "tick_spacing = 1\n",
        "ax.xaxis.set_major_locator(ticker.MultipleLocator(tick_spacing))\n",
        "ax.set_ylabel('Relative Count', size = 'large', backgroundcolor = 'yellow',labelpad = 20)\n",
        "ax.set_xlabel('Year', size = 'large',backgroundcolor = 'yellow',labelpad = 20)"
      ]
    },
    {
      "cell_type": "markdown",
      "id": "0cef3432",
      "metadata": {
        "papermill": {
          "duration": 0.045379,
          "end_time": "2022-01-03T07:13:27.630556",
          "exception": false,
          "start_time": "2022-01-03T07:13:27.585177",
          "status": "completed"
        },
        "tags": [],
        "id": "0cef3432"
      },
      "source": [
        "### Key Takeaways: JavaScript has been the most popular language when it comes to Issues feature in GitHub, but, recently Python has overtaken GitHub. TypeScript and Go (maybe even Java can be considered) have also been steadily improving while Ruby and PHP have been declining"
      ]
    },
    {
      "cell_type": "markdown",
      "id": "2ff19626",
      "metadata": {
        "papermill": {
          "duration": 0.045684,
          "end_time": "2022-01-03T07:13:27.721858",
          "exception": false,
          "start_time": "2022-01-03T07:13:27.676174",
          "status": "completed"
        },
        "tags": [],
        "id": "2ff19626"
      },
      "source": [
        "# Public Repositories Data Visualization and Analysis"
      ]
    },
    {
      "cell_type": "code",
      "execution_count": null,
      "id": "3c398cab",
      "metadata": {
        "execution": {
          "iopub.execute_input": "2022-01-03T07:13:27.816803Z",
          "iopub.status.busy": "2022-01-03T07:13:27.816170Z",
          "iopub.status.idle": "2022-01-03T07:13:27.826216Z",
          "shell.execute_reply": "2022-01-03T07:13:27.826739Z",
          "shell.execute_reply.started": "2022-01-03T07:10:30.607234Z"
        },
        "papermill": {
          "duration": 0.059414,
          "end_time": "2022-01-03T07:13:27.826896",
          "exception": false,
          "start_time": "2022-01-03T07:13:27.767482",
          "status": "completed"
        },
        "tags": [],
        "id": "3c398cab"
      },
      "outputs": [],
      "source": [
        "df9 = pd.DataFrame(repos.head(10))\n",
        "df9['num_repos//1000'] = df9['num_repos']//1000\n",
        "df9"
      ]
    },
    {
      "cell_type": "code",
      "execution_count": null,
      "id": "aa08d9a9",
      "metadata": {
        "execution": {
          "iopub.execute_input": "2022-01-03T07:13:27.922822Z",
          "iopub.status.busy": "2022-01-03T07:13:27.921857Z",
          "iopub.status.idle": "2022-01-03T07:13:28.241722Z",
          "shell.execute_reply": "2022-01-03T07:13:28.242234Z",
          "shell.execute_reply.started": "2022-01-03T07:11:10.217608Z"
        },
        "papermill": {
          "duration": 0.369346,
          "end_time": "2022-01-03T07:13:28.242410",
          "exception": false,
          "start_time": "2022-01-03T07:13:27.873064",
          "status": "completed"
        },
        "tags": [],
        "id": "aa08d9a9"
      },
      "outputs": [],
      "source": [
        "# Absolute Value trend overall\n",
        "plt.figure(figsize = (10,10))\n",
        "ax = sns.barplot(x = 'language', y = 'num_repos//1000',data = df9)\n",
        "ax.bar_label(ax.containers[0])\n",
        "ax.set_ylabel('No. of Repos // 1000', size = 'large', backgroundcolor = 'yellow',labelpad = 20)\n",
        "ax.set_xlabel('Language Name', size = 'large',backgroundcolor = 'yellow',labelpad = 20)"
      ]
    },
    {
      "cell_type": "markdown",
      "id": "1b8e456b",
      "metadata": {
        "papermill": {
          "duration": 0.04715,
          "end_time": "2022-01-03T07:13:28.337224",
          "exception": false,
          "start_time": "2022-01-03T07:13:28.290074",
          "status": "completed"
        },
        "tags": [],
        "id": "1b8e456b"
      },
      "source": [
        "### Key Takeaways: The Public Repositories data just tells us about the language vs overall count and so, we cannot say anything about yearwise or recent trends. But, based on this JavaScript,CSS,HTML are the top 3 languages when it comes to PR's"
      ]
    },
    {
      "cell_type": "markdown",
      "id": "5e4e929f",
      "metadata": {
        "papermill": {
          "duration": 0.047046,
          "end_time": "2022-01-03T07:13:28.431765",
          "exception": false,
          "start_time": "2022-01-03T07:13:28.384719",
          "status": "completed"
        },
        "tags": [],
        "id": "5e4e929f"
      },
      "source": [
        "## One Important conclusion about the 2 most popular languages on GitHub( based on the given data): JavaScript has been a very popular language when it comes to Issues and Pull Requests in GitHub but recently Python has overtaken JavaScript."
      ]
    }
  ],
  "metadata": {
    "kernelspec": {
      "display_name": "Python 3",
      "language": "python",
      "name": "python3"
    },
    "language_info": {
      "codemirror_mode": {
        "name": "ipython",
        "version": 3
      },
      "file_extension": ".py",
      "mimetype": "text/x-python",
      "name": "python",
      "nbconvert_exporter": "python",
      "pygments_lexer": "ipython3",
      "version": "3.7.12"
    },
    "papermill": {
      "default_parameters": {},
      "duration": 17.570906,
      "end_time": "2022-01-03T07:13:29.190050",
      "environment_variables": {},
      "exception": null,
      "input_path": "__notebook__.ipynb",
      "output_path": "__notebook__.ipynb",
      "parameters": {},
      "start_time": "2022-01-03T07:13:11.619144",
      "version": "2.3.3"
    },
    "colab": {
      "name": "Github Stats Analysis",
      "provenance": [],
      "include_colab_link": true
    }
  },
  "nbformat": 4,
  "nbformat_minor": 5
}