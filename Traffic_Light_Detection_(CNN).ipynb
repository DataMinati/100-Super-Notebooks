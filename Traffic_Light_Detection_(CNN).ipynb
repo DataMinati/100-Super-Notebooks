{
  "cells": [
    {
      "cell_type": "markdown",
      "metadata": {
        "id": "view-in-github",
        "colab_type": "text"
      },
      "source": [
        "<a href=\"https://colab.research.google.com/github/DataMinati/Super-Notebooks-100/blob/main/Traffic_Light_Detection_(CNN).ipynb\" target=\"_parent\"><img src=\"https://colab.research.google.com/assets/colab-badge.svg\" alt=\"Open In Colab\"/></a>"
      ]
    },
    {
      "cell_type": "markdown",
      "id": "86d03eb8",
      "metadata": {
        "papermill": {
          "duration": 0.013303,
          "end_time": "2022-01-29T19:23:15.245209",
          "exception": false,
          "start_time": "2022-01-29T19:23:15.231906",
          "status": "completed"
        },
        "tags": [],
        "id": "86d03eb8"
      },
      "source": [
        "# Importing the libraries"
      ]
    },
    {
      "cell_type": "code",
      "execution_count": null,
      "id": "592b4f97",
      "metadata": {
        "execution": {
          "iopub.execute_input": "2022-01-29T19:23:15.275342Z",
          "iopub.status.busy": "2022-01-29T19:23:15.274779Z",
          "iopub.status.idle": "2022-01-29T19:23:20.230052Z",
          "shell.execute_reply": "2022-01-29T19:23:20.229435Z",
          "shell.execute_reply.started": "2022-01-29T19:05:10.980276Z"
        },
        "papermill": {
          "duration": 4.971268,
          "end_time": "2022-01-29T19:23:20.230194",
          "exception": false,
          "start_time": "2022-01-29T19:23:15.258926",
          "status": "completed"
        },
        "tags": [],
        "id": "592b4f97"
      },
      "outputs": [],
      "source": [
        "import tensorflow as tf\n",
        "from keras.preprocessing.image import ImageDataGenerator"
      ]
    },
    {
      "cell_type": "markdown",
      "id": "7924d269",
      "metadata": {
        "papermill": {
          "duration": 0.013438,
          "end_time": "2022-01-29T19:23:20.257895",
          "exception": false,
          "start_time": "2022-01-29T19:23:20.244457",
          "status": "completed"
        },
        "tags": [],
        "id": "7924d269"
      },
      "source": [
        "# Part 1 - Data Preprocessing"
      ]
    },
    {
      "cell_type": "markdown",
      "id": "7eb03733",
      "metadata": {
        "papermill": {
          "duration": 0.013441,
          "end_time": "2022-01-29T19:23:20.284940",
          "exception": false,
          "start_time": "2022-01-29T19:23:20.271499",
          "status": "completed"
        },
        "tags": [],
        "id": "7eb03733"
      },
      "source": [
        "# Preprocessing the Training set"
      ]
    },
    {
      "cell_type": "code",
      "execution_count": null,
      "id": "15c1caa9",
      "metadata": {
        "execution": {
          "iopub.execute_input": "2022-01-29T19:23:20.319082Z",
          "iopub.status.busy": "2022-01-29T19:23:20.318156Z",
          "iopub.status.idle": "2022-01-29T19:23:23.853113Z",
          "shell.execute_reply": "2022-01-29T19:23:23.852277Z",
          "shell.execute_reply.started": "2022-01-29T19:05:10.987191Z"
        },
        "papermill": {
          "duration": 3.55388,
          "end_time": "2022-01-29T19:23:23.853339",
          "exception": false,
          "start_time": "2022-01-29T19:23:20.299459",
          "status": "completed"
        },
        "tags": [],
        "id": "15c1caa9",
        "outputId": "d39faa7e-f011-405d-8959-e0539c1a0687"
      },
      "outputs": [
        {
          "name": "stdout",
          "output_type": "stream",
          "text": [
            "Found 2600 images belonging to 1 classes.\n"
          ]
        }
      ],
      "source": [
        "train_datagen = ImageDataGenerator(rescale = 1./255,\n",
        "                                   shear_range = 0.2,\n",
        "                                   zoom_range = 0.2,\n",
        "                                   horizontal_flip = True)\n",
        "training_set = train_datagen.flow_from_directory(\"../input/traffic-light-detection-dataset/train_dataset\",\n",
        "                                                 target_size = (64, 64),\n",
        "                                                 batch_size = 32,\n",
        "                                                 class_mode = 'binary')"
      ]
    },
    {
      "cell_type": "markdown",
      "id": "f55d6cb4",
      "metadata": {
        "papermill": {
          "duration": 0.013839,
          "end_time": "2022-01-29T19:23:23.882208",
          "exception": false,
          "start_time": "2022-01-29T19:23:23.868369",
          "status": "completed"
        },
        "tags": [],
        "id": "f55d6cb4"
      },
      "source": [
        "# Preprocessing the Test set"
      ]
    },
    {
      "cell_type": "code",
      "execution_count": null,
      "id": "6fa8db88",
      "metadata": {
        "execution": {
          "iopub.execute_input": "2022-01-29T19:23:23.914261Z",
          "iopub.status.busy": "2022-01-29T19:23:23.913642Z",
          "iopub.status.idle": "2022-01-29T19:23:24.129450Z",
          "shell.execute_reply": "2022-01-29T19:23:24.128859Z",
          "shell.execute_reply.started": "2022-01-29T19:05:11.113642Z"
        },
        "papermill": {
          "duration": 0.233173,
          "end_time": "2022-01-29T19:23:24.129588",
          "exception": false,
          "start_time": "2022-01-29T19:23:23.896415",
          "status": "completed"
        },
        "tags": [],
        "id": "6fa8db88",
        "outputId": "a3884c2c-a5f5-446e-f45b-6a60b32a3bd5"
      },
      "outputs": [
        {
          "name": "stdout",
          "output_type": "stream",
          "text": [
            "Found 400 images belonging to 1 classes.\n"
          ]
        }
      ],
      "source": [
        "test_datagen = ImageDataGenerator(rescale = 1./255)\n",
        "test_set = test_datagen.flow_from_directory(\"../input/traffic-light-detection-dataset/test_dataset\",\n",
        "                                            target_size = (64, 64),\n",
        "                                            batch_size = 32,\n",
        "                                            class_mode = 'binary')"
      ]
    },
    {
      "cell_type": "markdown",
      "id": "f2a4e600",
      "metadata": {
        "papermill": {
          "duration": 0.014268,
          "end_time": "2022-01-29T19:23:24.158781",
          "exception": false,
          "start_time": "2022-01-29T19:23:24.144513",
          "status": "completed"
        },
        "tags": [],
        "id": "f2a4e600"
      },
      "source": [
        "# Part 2 - Building the CNN"
      ]
    },
    {
      "cell_type": "markdown",
      "id": "76c87f90",
      "metadata": {
        "papermill": {
          "duration": 0.014031,
          "end_time": "2022-01-29T19:23:24.187093",
          "exception": false,
          "start_time": "2022-01-29T19:23:24.173062",
          "status": "completed"
        },
        "tags": [],
        "id": "76c87f90"
      },
      "source": [
        "# Initialising the CNN"
      ]
    },
    {
      "cell_type": "code",
      "execution_count": null,
      "id": "30a73a44",
      "metadata": {
        "execution": {
          "iopub.execute_input": "2022-01-29T19:23:24.220574Z",
          "iopub.status.busy": "2022-01-29T19:23:24.220014Z",
          "iopub.status.idle": "2022-01-29T19:23:24.277921Z",
          "shell.execute_reply": "2022-01-29T19:23:24.278448Z",
          "shell.execute_reply.started": "2022-01-29T19:05:11.227408Z"
        },
        "papermill": {
          "duration": 0.077185,
          "end_time": "2022-01-29T19:23:24.278627",
          "exception": false,
          "start_time": "2022-01-29T19:23:24.201442",
          "status": "completed"
        },
        "tags": [],
        "id": "30a73a44",
        "outputId": "72f4a068-9cfe-4b42-cbe0-4e1541116acd"
      },
      "outputs": [
        {
          "name": "stderr",
          "output_type": "stream",
          "text": [
            "\n",
            "User settings:\n",
            "\n",
            "   KMP_AFFINITY=granularity=fine,noverbose,compact,1,0\n",
            "   KMP_BLOCKTIME=0\n",
            "   KMP_SETTINGS=1\n",
            "   KMP_WARNINGS=0\n",
            "\n",
            "Effective settings:\n",
            "\n",
            "   KMP_ABORT_DELAY=0\n",
            "   KMP_ADAPTIVE_LOCK_PROPS='1,1024'\n",
            "   KMP_ALIGN_ALLOC=64\n",
            "   KMP_ALL_THREADPRIVATE=128\n",
            "   KMP_ATOMIC_MODE=2\n",
            "   KMP_BLOCKTIME=0\n",
            "   KMP_CPUINFO_FILE: value is not defined\n",
            "   KMP_DETERMINISTIC_REDUCTION=false\n",
            "   KMP_DEVICE_THREAD_LIMIT=2147483647\n",
            "   KMP_DISP_NUM_BUFFERS=7\n",
            "   KMP_DUPLICATE_LIB_OK=false\n",
            "   KMP_ENABLE_TASK_THROTTLING=true\n",
            "   KMP_FORCE_REDUCTION: value is not defined\n",
            "   KMP_FOREIGN_THREADS_THREADPRIVATE=true\n",
            "   KMP_FORKJOIN_BARRIER='2,2'\n",
            "   KMP_FORKJOIN_BARRIER_PATTERN='hyper,hyper'\n",
            "   KMP_GTID_MODE=3\n",
            "   KMP_HANDLE_SIGNALS=false\n",
            "   KMP_HOT_TEAMS_MAX_LEVEL=1\n",
            "   KMP_HOT_TEAMS_MODE=0\n",
            "   KMP_INIT_AT_FORK=true\n",
            "   KMP_LIBRARY=throughput\n",
            "   KMP_LOCK_KIND=queuing\n",
            "   KMP_MALLOC_POOL_INCR=1M\n",
            "   KMP_NUM_LOCKS_IN_BLOCK=1\n",
            "   KMP_PLAIN_BARRIER='2,2'\n",
            "   KMP_PLAIN_BARRIER_PATTERN='hyper,hyper'\n",
            "   KMP_REDUCTION_BARRIER='1,1'\n",
            "   KMP_REDUCTION_BARRIER_PATTERN='hyper,hyper'\n",
            "   KMP_SCHEDULE='static,balanced;guided,iterative'\n",
            "   KMP_SETTINGS=true\n",
            "   KMP_SPIN_BACKOFF_PARAMS='4096,100'\n",
            "   KMP_STACKOFFSET=64\n",
            "   KMP_STACKPAD=0\n",
            "   KMP_STACKSIZE=8M\n",
            "   KMP_STORAGE_MAP=false\n",
            "   KMP_TASKING=2\n",
            "   KMP_TASKLOOP_MIN_TASKS=0\n",
            "   KMP_TASK_STEALING_CONSTRAINT=1\n",
            "   KMP_TEAMS_THREAD_LIMIT=4\n",
            "   KMP_TOPOLOGY_METHOD=all\n",
            "   KMP_USE_YIELD=1\n",
            "   KMP_VERSION=false\n",
            "   KMP_WARNINGS=false\n",
            "   OMP_AFFINITY_FORMAT='OMP: pid %P tid %i thread %n bound to OS proc set {%A}'\n",
            "   OMP_ALLOCATOR=omp_default_mem_alloc\n",
            "   OMP_CANCELLATION=false\n",
            "   OMP_DEFAULT_DEVICE=0\n",
            "   OMP_DISPLAY_AFFINITY=false\n",
            "   OMP_DISPLAY_ENV=false\n",
            "   OMP_DYNAMIC=false\n",
            "   OMP_MAX_ACTIVE_LEVELS=1\n",
            "   OMP_MAX_TASK_PRIORITY=0\n",
            "   OMP_NESTED: deprecated; max-active-levels-var=1\n",
            "   OMP_NUM_THREADS: value is not defined\n",
            "   OMP_PLACES: value is not defined\n",
            "   OMP_PROC_BIND='intel'\n",
            "   OMP_SCHEDULE='static'\n",
            "   OMP_STACKSIZE=8M\n",
            "   OMP_TARGET_OFFLOAD=DEFAULT\n",
            "   OMP_THREAD_LIMIT=2147483647\n",
            "   OMP_WAIT_POLICY=PASSIVE\n",
            "   KMP_AFFINITY='noverbose,warnings,respect,granularity=fine,compact,1,0'\n",
            "\n",
            "2022-01-29 19:23:24.256243: I tensorflow/core/common_runtime/process_util.cc:146] Creating new thread pool with default inter op setting: 2. Tune using inter_op_parallelism_threads for best performance.\n"
          ]
        }
      ],
      "source": [
        "cnn = tf.keras.models.Sequential()"
      ]
    },
    {
      "cell_type": "markdown",
      "id": "252838b7",
      "metadata": {
        "papermill": {
          "duration": 0.014679,
          "end_time": "2022-01-29T19:23:24.308806",
          "exception": false,
          "start_time": "2022-01-29T19:23:24.294127",
          "status": "completed"
        },
        "tags": [],
        "id": "252838b7"
      },
      "source": [
        "# Step 1 - Convolution"
      ]
    },
    {
      "cell_type": "code",
      "execution_count": null,
      "id": "2bfff165",
      "metadata": {
        "execution": {
          "iopub.execute_input": "2022-01-29T19:23:24.341537Z",
          "iopub.status.busy": "2022-01-29T19:23:24.340968Z",
          "iopub.status.idle": "2022-01-29T19:23:24.395873Z",
          "shell.execute_reply": "2022-01-29T19:23:24.395235Z",
          "shell.execute_reply.started": "2022-01-29T19:05:11.237025Z"
        },
        "papermill": {
          "duration": 0.072311,
          "end_time": "2022-01-29T19:23:24.396014",
          "exception": false,
          "start_time": "2022-01-29T19:23:24.323703",
          "status": "completed"
        },
        "tags": [],
        "id": "2bfff165"
      },
      "outputs": [],
      "source": [
        "cnn.add(tf.keras.layers.Conv2D(filters=32, kernel_size=3, activation='relu', input_shape=[64, 64, 3]))"
      ]
    },
    {
      "cell_type": "markdown",
      "id": "1d75fe77",
      "metadata": {
        "papermill": {
          "duration": 0.01438,
          "end_time": "2022-01-29T19:23:24.425276",
          "exception": false,
          "start_time": "2022-01-29T19:23:24.410896",
          "status": "completed"
        },
        "tags": [],
        "id": "1d75fe77"
      },
      "source": [
        "# Step 2 - Pooling"
      ]
    },
    {
      "cell_type": "code",
      "execution_count": null,
      "id": "a1b4fe0b",
      "metadata": {
        "execution": {
          "iopub.execute_input": "2022-01-29T19:23:24.457425Z",
          "iopub.status.busy": "2022-01-29T19:23:24.456859Z",
          "iopub.status.idle": "2022-01-29T19:23:24.463594Z",
          "shell.execute_reply": "2022-01-29T19:23:24.464174Z",
          "shell.execute_reply.started": "2022-01-29T19:05:11.262902Z"
        },
        "papermill": {
          "duration": 0.024336,
          "end_time": "2022-01-29T19:23:24.464332",
          "exception": false,
          "start_time": "2022-01-29T19:23:24.439996",
          "status": "completed"
        },
        "tags": [],
        "id": "a1b4fe0b"
      },
      "outputs": [],
      "source": [
        "cnn.add(tf.keras.layers.MaxPool2D(pool_size=2, strides=2))"
      ]
    },
    {
      "cell_type": "markdown",
      "id": "676e2f9b",
      "metadata": {
        "papermill": {
          "duration": 0.014653,
          "end_time": "2022-01-29T19:23:24.493671",
          "exception": false,
          "start_time": "2022-01-29T19:23:24.479018",
          "status": "completed"
        },
        "tags": [],
        "id": "676e2f9b"
      },
      "source": [
        "# Adding a second convolutional layer"
      ]
    },
    {
      "cell_type": "code",
      "execution_count": null,
      "id": "81c0c6a9",
      "metadata": {
        "execution": {
          "iopub.execute_input": "2022-01-29T19:23:24.526683Z",
          "iopub.status.busy": "2022-01-29T19:23:24.526125Z",
          "iopub.status.idle": "2022-01-29T19:23:24.541672Z",
          "shell.execute_reply": "2022-01-29T19:23:24.542128Z",
          "shell.execute_reply.started": "2022-01-29T19:05:11.273067Z"
        },
        "papermill": {
          "duration": 0.033635,
          "end_time": "2022-01-29T19:23:24.542298",
          "exception": false,
          "start_time": "2022-01-29T19:23:24.508663",
          "status": "completed"
        },
        "tags": [],
        "id": "81c0c6a9"
      },
      "outputs": [],
      "source": [
        "cnn.add(tf.keras.layers.Conv2D(filters=32, kernel_size=3, activation='relu'))\n",
        "cnn.add(tf.keras.layers.MaxPool2D(pool_size=2, strides=2))"
      ]
    },
    {
      "cell_type": "markdown",
      "id": "5291d2d3",
      "metadata": {
        "papermill": {
          "duration": 0.014896,
          "end_time": "2022-01-29T19:23:24.572023",
          "exception": false,
          "start_time": "2022-01-29T19:23:24.557127",
          "status": "completed"
        },
        "tags": [],
        "id": "5291d2d3"
      },
      "source": [
        "# Step 3 - Flattening"
      ]
    },
    {
      "cell_type": "code",
      "execution_count": null,
      "id": "6e9428df",
      "metadata": {
        "execution": {
          "iopub.execute_input": "2022-01-29T19:23:24.606321Z",
          "iopub.status.busy": "2022-01-29T19:23:24.605734Z",
          "iopub.status.idle": "2022-01-29T19:23:24.615065Z",
          "shell.execute_reply": "2022-01-29T19:23:24.615465Z",
          "shell.execute_reply.started": "2022-01-29T19:05:11.295649Z"
        },
        "papermill": {
          "duration": 0.028645,
          "end_time": "2022-01-29T19:23:24.615638",
          "exception": false,
          "start_time": "2022-01-29T19:23:24.586993",
          "status": "completed"
        },
        "tags": [],
        "id": "6e9428df"
      },
      "outputs": [],
      "source": [
        "cnn.add(tf.keras.layers.Flatten())"
      ]
    },
    {
      "cell_type": "markdown",
      "id": "8602f630",
      "metadata": {
        "papermill": {
          "duration": 0.014909,
          "end_time": "2022-01-29T19:23:24.645264",
          "exception": false,
          "start_time": "2022-01-29T19:23:24.630355",
          "status": "completed"
        },
        "tags": [],
        "id": "8602f630"
      },
      "source": [
        "# Step 4 - Full Connection"
      ]
    },
    {
      "cell_type": "code",
      "execution_count": null,
      "id": "61dd30e0",
      "metadata": {
        "execution": {
          "iopub.execute_input": "2022-01-29T19:23:24.678453Z",
          "iopub.status.busy": "2022-01-29T19:23:24.677891Z",
          "iopub.status.idle": "2022-01-29T19:23:24.696220Z",
          "shell.execute_reply": "2022-01-29T19:23:24.696643Z",
          "shell.execute_reply.started": "2022-01-29T19:05:11.309222Z"
        },
        "papermill": {
          "duration": 0.036329,
          "end_time": "2022-01-29T19:23:24.696843",
          "exception": false,
          "start_time": "2022-01-29T19:23:24.660514",
          "status": "completed"
        },
        "tags": [],
        "id": "61dd30e0"
      },
      "outputs": [],
      "source": [
        "cnn.add(tf.keras.layers.Dense(units=128, activation='relu'))"
      ]
    },
    {
      "cell_type": "markdown",
      "id": "cc62af96",
      "metadata": {
        "papermill": {
          "duration": 0.014861,
          "end_time": "2022-01-29T19:23:24.726484",
          "exception": false,
          "start_time": "2022-01-29T19:23:24.711623",
          "status": "completed"
        },
        "tags": [],
        "id": "cc62af96"
      },
      "source": [
        "# Step 5 - Output Layer"
      ]
    },
    {
      "cell_type": "code",
      "execution_count": null,
      "id": "03aa576f",
      "metadata": {
        "execution": {
          "iopub.execute_input": "2022-01-29T19:23:24.759220Z",
          "iopub.status.busy": "2022-01-29T19:23:24.758615Z",
          "iopub.status.idle": "2022-01-29T19:23:24.770009Z",
          "shell.execute_reply": "2022-01-29T19:23:24.770398Z",
          "shell.execute_reply.started": "2022-01-29T19:05:11.331555Z"
        },
        "papermill": {
          "duration": 0.029075,
          "end_time": "2022-01-29T19:23:24.770562",
          "exception": false,
          "start_time": "2022-01-29T19:23:24.741487",
          "status": "completed"
        },
        "tags": [],
        "id": "03aa576f"
      },
      "outputs": [],
      "source": [
        "cnn.add(tf.keras.layers.Dense(units=1, activation='sigmoid'))"
      ]
    },
    {
      "cell_type": "markdown",
      "id": "522d0122",
      "metadata": {
        "papermill": {
          "duration": 0.014931,
          "end_time": "2022-01-29T19:23:24.800179",
          "exception": false,
          "start_time": "2022-01-29T19:23:24.785248",
          "status": "completed"
        },
        "tags": [],
        "id": "522d0122"
      },
      "source": [
        "# Part 3 - Training the CNN"
      ]
    },
    {
      "cell_type": "markdown",
      "id": "64ea6d9b",
      "metadata": {
        "papermill": {
          "duration": 0.014715,
          "end_time": "2022-01-29T19:23:24.830133",
          "exception": false,
          "start_time": "2022-01-29T19:23:24.815418",
          "status": "completed"
        },
        "tags": [],
        "id": "64ea6d9b"
      },
      "source": [
        "# Compiling the CNN"
      ]
    },
    {
      "cell_type": "code",
      "execution_count": null,
      "id": "2d953fc8",
      "metadata": {
        "execution": {
          "iopub.execute_input": "2022-01-29T19:23:24.863293Z",
          "iopub.status.busy": "2022-01-29T19:23:24.862689Z",
          "iopub.status.idle": "2022-01-29T19:23:24.873423Z",
          "shell.execute_reply": "2022-01-29T19:23:24.873878Z",
          "shell.execute_reply.started": "2022-01-29T19:05:11.346485Z"
        },
        "papermill": {
          "duration": 0.028761,
          "end_time": "2022-01-29T19:23:24.874042",
          "exception": false,
          "start_time": "2022-01-29T19:23:24.845281",
          "status": "completed"
        },
        "tags": [],
        "id": "2d953fc8"
      },
      "outputs": [],
      "source": [
        "cnn.compile(optimizer = 'adam', loss = 'binary_crossentropy', metrics = ['accuracy'])"
      ]
    },
    {
      "cell_type": "markdown",
      "id": "43906bf4",
      "metadata": {
        "papermill": {
          "duration": 0.014949,
          "end_time": "2022-01-29T19:23:24.904223",
          "exception": false,
          "start_time": "2022-01-29T19:23:24.889274",
          "status": "completed"
        },
        "tags": [],
        "id": "43906bf4"
      },
      "source": [
        "# Training the CNN on the Training set and evaluating it on the Test set"
      ]
    },
    {
      "cell_type": "code",
      "execution_count": null,
      "id": "f4cc9dfb",
      "metadata": {
        "execution": {
          "iopub.execute_input": "2022-01-29T19:23:24.937114Z",
          "iopub.status.busy": "2022-01-29T19:23:24.936533Z",
          "iopub.status.idle": "2022-01-29T19:37:06.037192Z",
          "shell.execute_reply": "2022-01-29T19:37:06.037687Z",
          "shell.execute_reply.started": "2022-01-29T19:05:11.359406Z"
        },
        "papermill": {
          "duration": 821.118496,
          "end_time": "2022-01-29T19:37:06.037880",
          "exception": false,
          "start_time": "2022-01-29T19:23:24.919384",
          "status": "completed"
        },
        "tags": [],
        "id": "f4cc9dfb",
        "outputId": "1f0e0262-1959-42a1-e0f0-3d4b57c39ff0"
      },
      "outputs": [
        {
          "name": "stderr",
          "output_type": "stream",
          "text": [
            "2022-01-29 19:23:27.167344: I tensorflow/compiler/mlir/mlir_graph_optimization_pass.cc:185] None of the MLIR Optimization Passes are enabled (registered 2)\n"
          ]
        },
        {
          "name": "stdout",
          "output_type": "stream",
          "text": [
            "Epoch 1/5\n",
            "82/82 [==============================] - 198s 2s/step - loss: 0.0106 - accuracy: 0.9885 - val_loss: 3.1770e-17 - val_accuracy: 1.0000\n",
            "Epoch 2/5\n",
            "82/82 [==============================] - 154s 2s/step - loss: 5.4143e-18 - accuracy: 1.0000 - val_loss: 3.1078e-17 - val_accuracy: 1.0000\n",
            "Epoch 3/5\n",
            "82/82 [==============================] - 154s 2s/step - loss: 3.8306e-18 - accuracy: 1.0000 - val_loss: 3.1078e-17 - val_accuracy: 1.0000\n",
            "Epoch 4/5\n",
            "82/82 [==============================] - 154s 2s/step - loss: 2.3995e-17 - accuracy: 1.0000 - val_loss: 3.1078e-17 - val_accuracy: 1.0000\n",
            "Epoch 5/5\n",
            "82/82 [==============================] - 154s 2s/step - loss: 4.6383e-18 - accuracy: 1.0000 - val_loss: 3.1078e-17 - val_accuracy: 1.0000\n"
          ]
        },
        {
          "data": {
            "text/plain": [
              "<keras.callbacks.History at 0x7f77ac351e10>"
            ]
          },
          "execution_count": 13,
          "metadata": {},
          "output_type": "execute_result"
        }
      ],
      "source": [
        "cnn.fit(x = training_set, validation_data = test_set, epochs = 5)"
      ]
    },
    {
      "cell_type": "markdown",
      "id": "6f0bcc0d",
      "metadata": {
        "papermill": {
          "duration": 0.110223,
          "end_time": "2022-01-29T19:37:06.264407",
          "exception": false,
          "start_time": "2022-01-29T19:37:06.154184",
          "status": "completed"
        },
        "tags": [],
        "id": "6f0bcc0d"
      },
      "source": [
        "# Get Accuracy 100%."
      ]
    }
  ],
  "metadata": {
    "kernelspec": {
      "display_name": "Python 3",
      "language": "python",
      "name": "python3"
    },
    "language_info": {
      "codemirror_mode": {
        "name": "ipython",
        "version": 3
      },
      "file_extension": ".py",
      "mimetype": "text/x-python",
      "name": "python",
      "nbconvert_exporter": "python",
      "pygments_lexer": "ipython3",
      "version": "3.7.12"
    },
    "papermill": {
      "default_parameters": {},
      "duration": 842.745966,
      "end_time": "2022-01-29T19:37:09.624927",
      "environment_variables": {},
      "exception": null,
      "input_path": "__notebook__.ipynb",
      "output_path": "__notebook__.ipynb",
      "parameters": {},
      "start_time": "2022-01-29T19:23:06.878961",
      "version": "2.3.3"
    },
    "colab": {
      "name": "Traffic Light Detection (CNN)",
      "provenance": [],
      "include_colab_link": true
    }
  },
  "nbformat": 4,
  "nbformat_minor": 5
}