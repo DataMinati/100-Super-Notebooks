{
  "cells": [
    {
      "cell_type": "markdown",
      "metadata": {
        "id": "view-in-github",
        "colab_type": "text"
      },
      "source": [
        "<a href=\"https://colab.research.google.com/github/DataMinati/Super-Notebooks-1K/blob/main/Brain_Tumour_Classification_and_Prediction.ipynb\" target=\"_parent\"><img src=\"https://colab.research.google.com/assets/colab-badge.svg\" alt=\"Open In Colab\"/></a>"
      ]
    },
    {
      "cell_type": "markdown",
      "source": [
        "## 1. Importing necessary libraries"
      ],
      "metadata": {
        "id": "9ionUoR78jOO"
      }
    },
    {
      "cell_type": "code",
      "execution_count": 1,
      "metadata": {
        "colab": {
          "base_uri": "https://localhost:8080/"
        },
        "id": "zHGkvujylhEH",
        "outputId": "792acf9c-cc2c-4eff-8004-a50ce4a03bd8"
      },
      "outputs": [
        {
          "output_type": "stream",
          "name": "stdout",
          "text": [
            "All necessary packages are installed successfully!\n"
          ]
        }
      ],
      "source": [
        "# Basic necessary libraries\n",
        "import numpy as np\n",
        "import pandas as pd\n",
        "import matplotlib.pyplot as plt\n",
        "import seaborn as sns\n",
        "\n",
        "# Machine Learning Libraries\n",
        "from sklearn.metrics import r2_score, mean_squared_error, confusion_matrix, roc_curve, classification_report\n",
        "from sklearn.model_selection import train_test_split, cross_val_score, GridSearchCV\n",
        "from sklearn.preprocessing import LabelEncoder\n",
        "from sklearn.linear_model import LogisticRegression\n",
        "from sklearn.tree import DecisionTreeClassifier\n",
        "from sklearn.ensemble import RandomForestClassifier,AdaBoostClassifier,BaggingClassifier,GradientBoostingClassifier\n",
        "from sklearn.neighbors import KNeighborsClassifier\n",
        "from sklearn.svm import SVC\n",
        "from collections import Counter\n",
        "from sklearn.metrics import r2_score\n",
        "from sklearn import preprocessing\n",
        "\n",
        "print(\"All necessary packages are installed successfully!\")"
      ]
    },
    {
      "cell_type": "markdown",
      "source": [
        "## 2. Importing the datasets"
      ],
      "metadata": {
        "id": "sMLEs4LG8oPY"
      }
    },
    {
      "cell_type": "code",
      "execution_count": 2,
      "metadata": {
        "colab": {
          "base_uri": "https://localhost:8080/",
          "height": 474
        },
        "id": "l5atadkZl_pJ",
        "outputId": "4e2ff449-f1b0-4e2c-d08c-a36a159e6004"
      },
      "outputs": [
        {
          "output_type": "execute_result",
          "data": {
            "text/html": [
              "\n",
              "  <div id=\"df-d18b703d-1471-4789-a292-b1d800d6dfe2\">\n",
              "    <div class=\"colab-df-container\">\n",
              "      <div>\n",
              "<style scoped>\n",
              "    .dataframe tbody tr th:only-of-type {\n",
              "        vertical-align: middle;\n",
              "    }\n",
              "\n",
              "    .dataframe tbody tr th {\n",
              "        vertical-align: top;\n",
              "    }\n",
              "\n",
              "    .dataframe thead th {\n",
              "        text-align: right;\n",
              "    }\n",
              "</style>\n",
              "<table border=\"1\" class=\"dataframe\">\n",
              "  <thead>\n",
              "    <tr style=\"text-align: right;\">\n",
              "      <th></th>\n",
              "      <th>Unnamed: 0</th>\n",
              "      <th>X53416</th>\n",
              "      <th>M83670</th>\n",
              "      <th>X90908</th>\n",
              "      <th>M97496</th>\n",
              "      <th>X90908.1</th>\n",
              "      <th>U37019</th>\n",
              "      <th>R48602</th>\n",
              "      <th>T96548</th>\n",
              "      <th>X64559</th>\n",
              "      <th>T55741</th>\n",
              "      <th>T64171</th>\n",
              "      <th>T54547</th>\n",
              "      <th>M95936</th>\n",
              "      <th>X54162</th>\n",
              "      <th>H57136</th>\n",
              "      <th>M10373</th>\n",
              "      <th>T55200</th>\n",
              "      <th>T46924</th>\n",
              "      <th>L11708</th>\n",
              "      <th>M18079</th>\n",
              "      <th>T46933</th>\n",
              "      <th>M98331</th>\n",
              "      <th>H54425</th>\n",
              "      <th>M76378</th>\n",
              "      <th>M26393</th>\n",
              "      <th>H59796</th>\n",
              "      <th>M82962</th>\n",
              "      <th>T55255</th>\n",
              "      <th>L13773</th>\n",
              "      <th>X53416.1</th>\n",
              "      <th>M63391</th>\n",
              "      <th>M63603</th>\n",
              "      <th>R33881</th>\n",
              "      <th>M95787</th>\n",
              "      <th>J03037</th>\n",
              "      <th>J02854</th>\n",
              "      <th>H37925</th>\n",
              "      <th>M83186</th>\n",
              "      <th>T72257</th>\n",
              "      <th>...</th>\n",
              "      <th>J03464.2</th>\n",
              "      <th>X54942</th>\n",
              "      <th>U17899</th>\n",
              "      <th>R36977</th>\n",
              "      <th>X05231</th>\n",
              "      <th>T87871.1</th>\n",
              "      <th>X72755</th>\n",
              "      <th>U33635</th>\n",
              "      <th>M26383</th>\n",
              "      <th>R83313.1</th>\n",
              "      <th>R32511</th>\n",
              "      <th>X54942.1</th>\n",
              "      <th>X17668</th>\n",
              "      <th>Z48481</th>\n",
              "      <th>T60780</th>\n",
              "      <th>U33286</th>\n",
              "      <th>H50438</th>\n",
              "      <th>L29254</th>\n",
              "      <th>M77349</th>\n",
              "      <th>R08183</th>\n",
              "      <th>X02530</th>\n",
              "      <th>L23808</th>\n",
              "      <th>M36821</th>\n",
              "      <th>D21262</th>\n",
              "      <th>T89991</th>\n",
              "      <th>M77836</th>\n",
              "      <th>H64555</th>\n",
              "      <th>M61832</th>\n",
              "      <th>J04765</th>\n",
              "      <th>D14657</th>\n",
              "      <th>H87456</th>\n",
              "      <th>R64130</th>\n",
              "      <th>H11125.1</th>\n",
              "      <th>U22055</th>\n",
              "      <th>L22524</th>\n",
              "      <th>M13699.1</th>\n",
              "      <th>X54489</th>\n",
              "      <th>T55008</th>\n",
              "      <th>M10065.2</th>\n",
              "      <th>y</th>\n",
              "    </tr>\n",
              "  </thead>\n",
              "  <tbody>\n",
              "    <tr>\n",
              "      <th>0</th>\n",
              "      <td>0</td>\n",
              "      <td>70</td>\n",
              "      <td>-81</td>\n",
              "      <td>25</td>\n",
              "      <td>10</td>\n",
              "      <td>22</td>\n",
              "      <td>113</td>\n",
              "      <td>36</td>\n",
              "      <td>163</td>\n",
              "      <td>9</td>\n",
              "      <td>25</td>\n",
              "      <td>14</td>\n",
              "      <td>34</td>\n",
              "      <td>54</td>\n",
              "      <td>27</td>\n",
              "      <td>2</td>\n",
              "      <td>4</td>\n",
              "      <td>-104</td>\n",
              "      <td>34</td>\n",
              "      <td>12</td>\n",
              "      <td>7</td>\n",
              "      <td>0</td>\n",
              "      <td>39</td>\n",
              "      <td>39</td>\n",
              "      <td>13</td>\n",
              "      <td>-11</td>\n",
              "      <td>7</td>\n",
              "      <td>0</td>\n",
              "      <td>6</td>\n",
              "      <td>50</td>\n",
              "      <td>85</td>\n",
              "      <td>205</td>\n",
              "      <td>23</td>\n",
              "      <td>-50</td>\n",
              "      <td>235</td>\n",
              "      <td>4</td>\n",
              "      <td>67</td>\n",
              "      <td>7</td>\n",
              "      <td>6</td>\n",
              "      <td>20</td>\n",
              "      <td>...</td>\n",
              "      <td>63</td>\n",
              "      <td>160</td>\n",
              "      <td>30</td>\n",
              "      <td>159</td>\n",
              "      <td>24</td>\n",
              "      <td>69</td>\n",
              "      <td>-2</td>\n",
              "      <td>66</td>\n",
              "      <td>114</td>\n",
              "      <td>35</td>\n",
              "      <td>62</td>\n",
              "      <td>98</td>\n",
              "      <td>4</td>\n",
              "      <td>141</td>\n",
              "      <td>260</td>\n",
              "      <td>96</td>\n",
              "      <td>31</td>\n",
              "      <td>73</td>\n",
              "      <td>143</td>\n",
              "      <td>287</td>\n",
              "      <td>1</td>\n",
              "      <td>27</td>\n",
              "      <td>137</td>\n",
              "      <td>96</td>\n",
              "      <td>-4</td>\n",
              "      <td>108</td>\n",
              "      <td>4</td>\n",
              "      <td>224</td>\n",
              "      <td>18</td>\n",
              "      <td>44</td>\n",
              "      <td>75</td>\n",
              "      <td>5</td>\n",
              "      <td>68</td>\n",
              "      <td>138</td>\n",
              "      <td>53</td>\n",
              "      <td>-4</td>\n",
              "      <td>123</td>\n",
              "      <td>2</td>\n",
              "      <td>19</td>\n",
              "      <td>tumor</td>\n",
              "    </tr>\n",
              "    <tr>\n",
              "      <th>1</th>\n",
              "      <td>1</td>\n",
              "      <td>108</td>\n",
              "      <td>-30</td>\n",
              "      <td>-7</td>\n",
              "      <td>60</td>\n",
              "      <td>0</td>\n",
              "      <td>24</td>\n",
              "      <td>8</td>\n",
              "      <td>113</td>\n",
              "      <td>-3</td>\n",
              "      <td>9</td>\n",
              "      <td>23</td>\n",
              "      <td>-2</td>\n",
              "      <td>-17</td>\n",
              "      <td>12</td>\n",
              "      <td>-9</td>\n",
              "      <td>-3</td>\n",
              "      <td>-25</td>\n",
              "      <td>17</td>\n",
              "      <td>-43</td>\n",
              "      <td>18</td>\n",
              "      <td>41</td>\n",
              "      <td>15</td>\n",
              "      <td>24</td>\n",
              "      <td>38</td>\n",
              "      <td>-2</td>\n",
              "      <td>-16</td>\n",
              "      <td>2</td>\n",
              "      <td>3</td>\n",
              "      <td>59</td>\n",
              "      <td>207</td>\n",
              "      <td>124</td>\n",
              "      <td>16</td>\n",
              "      <td>-6</td>\n",
              "      <td>102</td>\n",
              "      <td>13</td>\n",
              "      <td>70</td>\n",
              "      <td>5</td>\n",
              "      <td>14</td>\n",
              "      <td>-2</td>\n",
              "      <td>...</td>\n",
              "      <td>66</td>\n",
              "      <td>388</td>\n",
              "      <td>54</td>\n",
              "      <td>100</td>\n",
              "      <td>91</td>\n",
              "      <td>63</td>\n",
              "      <td>16</td>\n",
              "      <td>46</td>\n",
              "      <td>338</td>\n",
              "      <td>63</td>\n",
              "      <td>14</td>\n",
              "      <td>359</td>\n",
              "      <td>31</td>\n",
              "      <td>87</td>\n",
              "      <td>65</td>\n",
              "      <td>76</td>\n",
              "      <td>57</td>\n",
              "      <td>109</td>\n",
              "      <td>184</td>\n",
              "      <td>450</td>\n",
              "      <td>17</td>\n",
              "      <td>62</td>\n",
              "      <td>206</td>\n",
              "      <td>74</td>\n",
              "      <td>-2</td>\n",
              "      <td>106</td>\n",
              "      <td>31</td>\n",
              "      <td>198</td>\n",
              "      <td>24</td>\n",
              "      <td>110</td>\n",
              "      <td>186</td>\n",
              "      <td>6</td>\n",
              "      <td>60</td>\n",
              "      <td>93</td>\n",
              "      <td>140</td>\n",
              "      <td>-3</td>\n",
              "      <td>271</td>\n",
              "      <td>-1</td>\n",
              "      <td>-51</td>\n",
              "      <td>tumor</td>\n",
              "    </tr>\n",
              "    <tr>\n",
              "      <th>2</th>\n",
              "      <td>2</td>\n",
              "      <td>75</td>\n",
              "      <td>-1</td>\n",
              "      <td>5</td>\n",
              "      <td>48</td>\n",
              "      <td>6</td>\n",
              "      <td>34</td>\n",
              "      <td>27</td>\n",
              "      <td>35</td>\n",
              "      <td>-1</td>\n",
              "      <td>4</td>\n",
              "      <td>6</td>\n",
              "      <td>5</td>\n",
              "      <td>-8</td>\n",
              "      <td>5</td>\n",
              "      <td>-11</td>\n",
              "      <td>13</td>\n",
              "      <td>-52</td>\n",
              "      <td>20</td>\n",
              "      <td>11</td>\n",
              "      <td>13</td>\n",
              "      <td>28</td>\n",
              "      <td>13</td>\n",
              "      <td>22</td>\n",
              "      <td>39</td>\n",
              "      <td>27</td>\n",
              "      <td>-2</td>\n",
              "      <td>5</td>\n",
              "      <td>3</td>\n",
              "      <td>48</td>\n",
              "      <td>87</td>\n",
              "      <td>108</td>\n",
              "      <td>16</td>\n",
              "      <td>29</td>\n",
              "      <td>98</td>\n",
              "      <td>19</td>\n",
              "      <td>30</td>\n",
              "      <td>2</td>\n",
              "      <td>25</td>\n",
              "      <td>29</td>\n",
              "      <td>...</td>\n",
              "      <td>56</td>\n",
              "      <td>258</td>\n",
              "      <td>46</td>\n",
              "      <td>94</td>\n",
              "      <td>64</td>\n",
              "      <td>51</td>\n",
              "      <td>113</td>\n",
              "      <td>40</td>\n",
              "      <td>122</td>\n",
              "      <td>53</td>\n",
              "      <td>48</td>\n",
              "      <td>193</td>\n",
              "      <td>82</td>\n",
              "      <td>113</td>\n",
              "      <td>203</td>\n",
              "      <td>90</td>\n",
              "      <td>81</td>\n",
              "      <td>43</td>\n",
              "      <td>87</td>\n",
              "      <td>421</td>\n",
              "      <td>61</td>\n",
              "      <td>73</td>\n",
              "      <td>196</td>\n",
              "      <td>77</td>\n",
              "      <td>-6</td>\n",
              "      <td>123</td>\n",
              "      <td>3</td>\n",
              "      <td>89</td>\n",
              "      <td>10</td>\n",
              "      <td>98</td>\n",
              "      <td>186</td>\n",
              "      <td>225</td>\n",
              "      <td>94</td>\n",
              "      <td>62</td>\n",
              "      <td>39</td>\n",
              "      <td>-14</td>\n",
              "      <td>127</td>\n",
              "      <td>7</td>\n",
              "      <td>192</td>\n",
              "      <td>tumor</td>\n",
              "    </tr>\n",
              "    <tr>\n",
              "      <th>3</th>\n",
              "      <td>3</td>\n",
              "      <td>871</td>\n",
              "      <td>4</td>\n",
              "      <td>14</td>\n",
              "      <td>78</td>\n",
              "      <td>-6</td>\n",
              "      <td>85</td>\n",
              "      <td>65</td>\n",
              "      <td>227</td>\n",
              "      <td>19</td>\n",
              "      <td>22</td>\n",
              "      <td>20</td>\n",
              "      <td>45</td>\n",
              "      <td>49</td>\n",
              "      <td>26</td>\n",
              "      <td>12</td>\n",
              "      <td>11</td>\n",
              "      <td>-88</td>\n",
              "      <td>25</td>\n",
              "      <td>22</td>\n",
              "      <td>15</td>\n",
              "      <td>19</td>\n",
              "      <td>2</td>\n",
              "      <td>27</td>\n",
              "      <td>44</td>\n",
              "      <td>9</td>\n",
              "      <td>11</td>\n",
              "      <td>17</td>\n",
              "      <td>3</td>\n",
              "      <td>64</td>\n",
              "      <td>628</td>\n",
              "      <td>197</td>\n",
              "      <td>28</td>\n",
              "      <td>29</td>\n",
              "      <td>280</td>\n",
              "      <td>4</td>\n",
              "      <td>84</td>\n",
              "      <td>7</td>\n",
              "      <td>18</td>\n",
              "      <td>27</td>\n",
              "      <td>...</td>\n",
              "      <td>79</td>\n",
              "      <td>177</td>\n",
              "      <td>82</td>\n",
              "      <td>87</td>\n",
              "      <td>51</td>\n",
              "      <td>45</td>\n",
              "      <td>42</td>\n",
              "      <td>34</td>\n",
              "      <td>59</td>\n",
              "      <td>34</td>\n",
              "      <td>27</td>\n",
              "      <td>57</td>\n",
              "      <td>14</td>\n",
              "      <td>135</td>\n",
              "      <td>72</td>\n",
              "      <td>127</td>\n",
              "      <td>69</td>\n",
              "      <td>20</td>\n",
              "      <td>337</td>\n",
              "      <td>370</td>\n",
              "      <td>20</td>\n",
              "      <td>70</td>\n",
              "      <td>119</td>\n",
              "      <td>28</td>\n",
              "      <td>4</td>\n",
              "      <td>51</td>\n",
              "      <td>155</td>\n",
              "      <td>154</td>\n",
              "      <td>36</td>\n",
              "      <td>54</td>\n",
              "      <td>77</td>\n",
              "      <td>6</td>\n",
              "      <td>78</td>\n",
              "      <td>30</td>\n",
              "      <td>87</td>\n",
              "      <td>-4</td>\n",
              "      <td>59</td>\n",
              "      <td>3</td>\n",
              "      <td>367</td>\n",
              "      <td>tumor</td>\n",
              "    </tr>\n",
              "    <tr>\n",
              "      <th>4</th>\n",
              "      <td>4</td>\n",
              "      <td>-92</td>\n",
              "      <td>-34</td>\n",
              "      <td>14</td>\n",
              "      <td>19</td>\n",
              "      <td>11</td>\n",
              "      <td>-6</td>\n",
              "      <td>27</td>\n",
              "      <td>-8</td>\n",
              "      <td>9</td>\n",
              "      <td>-5</td>\n",
              "      <td>12</td>\n",
              "      <td>-7</td>\n",
              "      <td>4</td>\n",
              "      <td>4</td>\n",
              "      <td>-6</td>\n",
              "      <td>5</td>\n",
              "      <td>-68</td>\n",
              "      <td>21</td>\n",
              "      <td>50</td>\n",
              "      <td>-2</td>\n",
              "      <td>44</td>\n",
              "      <td>5</td>\n",
              "      <td>4</td>\n",
              "      <td>22</td>\n",
              "      <td>61</td>\n",
              "      <td>3</td>\n",
              "      <td>37</td>\n",
              "      <td>7</td>\n",
              "      <td>70</td>\n",
              "      <td>4</td>\n",
              "      <td>76</td>\n",
              "      <td>5</td>\n",
              "      <td>51</td>\n",
              "      <td>14</td>\n",
              "      <td>0</td>\n",
              "      <td>22</td>\n",
              "      <td>3</td>\n",
              "      <td>-55</td>\n",
              "      <td>0</td>\n",
              "      <td>...</td>\n",
              "      <td>47</td>\n",
              "      <td>250</td>\n",
              "      <td>20</td>\n",
              "      <td>91</td>\n",
              "      <td>15</td>\n",
              "      <td>29</td>\n",
              "      <td>67</td>\n",
              "      <td>23</td>\n",
              "      <td>40</td>\n",
              "      <td>61</td>\n",
              "      <td>22</td>\n",
              "      <td>288</td>\n",
              "      <td>111</td>\n",
              "      <td>-7</td>\n",
              "      <td>67</td>\n",
              "      <td>109</td>\n",
              "      <td>45</td>\n",
              "      <td>135</td>\n",
              "      <td>124</td>\n",
              "      <td>504</td>\n",
              "      <td>85</td>\n",
              "      <td>96</td>\n",
              "      <td>337</td>\n",
              "      <td>39</td>\n",
              "      <td>-4</td>\n",
              "      <td>122</td>\n",
              "      <td>-1</td>\n",
              "      <td>258</td>\n",
              "      <td>6</td>\n",
              "      <td>142</td>\n",
              "      <td>87</td>\n",
              "      <td>303</td>\n",
              "      <td>204</td>\n",
              "      <td>81</td>\n",
              "      <td>105</td>\n",
              "      <td>9</td>\n",
              "      <td>265</td>\n",
              "      <td>-2</td>\n",
              "      <td>126</td>\n",
              "      <td>tumor</td>\n",
              "    </tr>\n",
              "    <tr>\n",
              "      <th>5</th>\n",
              "      <td>5</td>\n",
              "      <td>21</td>\n",
              "      <td>-13</td>\n",
              "      <td>5</td>\n",
              "      <td>11</td>\n",
              "      <td>-18</td>\n",
              "      <td>78</td>\n",
              "      <td>4</td>\n",
              "      <td>143</td>\n",
              "      <td>14</td>\n",
              "      <td>-1</td>\n",
              "      <td>17</td>\n",
              "      <td>79</td>\n",
              "      <td>48</td>\n",
              "      <td>-31</td>\n",
              "      <td>15</td>\n",
              "      <td>-4</td>\n",
              "      <td>32</td>\n",
              "      <td>31</td>\n",
              "      <td>16</td>\n",
              "      <td>4</td>\n",
              "      <td>22</td>\n",
              "      <td>16</td>\n",
              "      <td>60</td>\n",
              "      <td>182</td>\n",
              "      <td>23</td>\n",
              "      <td>13</td>\n",
              "      <td>-4</td>\n",
              "      <td>1</td>\n",
              "      <td>21</td>\n",
              "      <td>198</td>\n",
              "      <td>177</td>\n",
              "      <td>45</td>\n",
              "      <td>21</td>\n",
              "      <td>268</td>\n",
              "      <td>7</td>\n",
              "      <td>133</td>\n",
              "      <td>-8</td>\n",
              "      <td>31</td>\n",
              "      <td>39</td>\n",
              "      <td>...</td>\n",
              "      <td>84</td>\n",
              "      <td>125</td>\n",
              "      <td>59</td>\n",
              "      <td>118</td>\n",
              "      <td>1</td>\n",
              "      <td>9</td>\n",
              "      <td>31</td>\n",
              "      <td>38</td>\n",
              "      <td>32</td>\n",
              "      <td>22</td>\n",
              "      <td>-10</td>\n",
              "      <td>46</td>\n",
              "      <td>6</td>\n",
              "      <td>36</td>\n",
              "      <td>73</td>\n",
              "      <td>24</td>\n",
              "      <td>5</td>\n",
              "      <td>35</td>\n",
              "      <td>158</td>\n",
              "      <td>180</td>\n",
              "      <td>24</td>\n",
              "      <td>26</td>\n",
              "      <td>-6</td>\n",
              "      <td>30</td>\n",
              "      <td>-5</td>\n",
              "      <td>54</td>\n",
              "      <td>11</td>\n",
              "      <td>13</td>\n",
              "      <td>83</td>\n",
              "      <td>2</td>\n",
              "      <td>51</td>\n",
              "      <td>3</td>\n",
              "      <td>131</td>\n",
              "      <td>38</td>\n",
              "      <td>10</td>\n",
              "      <td>4</td>\n",
              "      <td>3</td>\n",
              "      <td>9</td>\n",
              "      <td>145</td>\n",
              "      <td>tumor</td>\n",
              "    </tr>\n",
              "    <tr>\n",
              "      <th>6</th>\n",
              "      <td>6</td>\n",
              "      <td>225</td>\n",
              "      <td>118</td>\n",
              "      <td>-5</td>\n",
              "      <td>175</td>\n",
              "      <td>-40</td>\n",
              "      <td>108</td>\n",
              "      <td>54</td>\n",
              "      <td>272</td>\n",
              "      <td>32</td>\n",
              "      <td>3</td>\n",
              "      <td>41</td>\n",
              "      <td>-39</td>\n",
              "      <td>-74</td>\n",
              "      <td>17</td>\n",
              "      <td>-2</td>\n",
              "      <td>-3</td>\n",
              "      <td>-30</td>\n",
              "      <td>36</td>\n",
              "      <td>20</td>\n",
              "      <td>-3</td>\n",
              "      <td>32</td>\n",
              "      <td>7</td>\n",
              "      <td>17</td>\n",
              "      <td>211</td>\n",
              "      <td>-1</td>\n",
              "      <td>-1</td>\n",
              "      <td>13</td>\n",
              "      <td>11</td>\n",
              "      <td>33</td>\n",
              "      <td>262</td>\n",
              "      <td>291</td>\n",
              "      <td>33</td>\n",
              "      <td>26</td>\n",
              "      <td>250</td>\n",
              "      <td>-9</td>\n",
              "      <td>116</td>\n",
              "      <td>2</td>\n",
              "      <td>40</td>\n",
              "      <td>-4</td>\n",
              "      <td>...</td>\n",
              "      <td>45</td>\n",
              "      <td>96</td>\n",
              "      <td>46</td>\n",
              "      <td>235</td>\n",
              "      <td>33</td>\n",
              "      <td>23</td>\n",
              "      <td>40</td>\n",
              "      <td>98</td>\n",
              "      <td>241</td>\n",
              "      <td>55</td>\n",
              "      <td>27</td>\n",
              "      <td>66</td>\n",
              "      <td>1</td>\n",
              "      <td>66</td>\n",
              "      <td>-30</td>\n",
              "      <td>67</td>\n",
              "      <td>66</td>\n",
              "      <td>54</td>\n",
              "      <td>69</td>\n",
              "      <td>716</td>\n",
              "      <td>22</td>\n",
              "      <td>60</td>\n",
              "      <td>187</td>\n",
              "      <td>24</td>\n",
              "      <td>-11</td>\n",
              "      <td>67</td>\n",
              "      <td>-4</td>\n",
              "      <td>112</td>\n",
              "      <td>26</td>\n",
              "      <td>46</td>\n",
              "      <td>64</td>\n",
              "      <td>-3</td>\n",
              "      <td>142</td>\n",
              "      <td>55</td>\n",
              "      <td>202</td>\n",
              "      <td>-23</td>\n",
              "      <td>110</td>\n",
              "      <td>7</td>\n",
              "      <td>-14</td>\n",
              "      <td>tumor</td>\n",
              "    </tr>\n",
              "    <tr>\n",
              "      <th>7</th>\n",
              "      <td>7</td>\n",
              "      <td>-346</td>\n",
              "      <td>-35</td>\n",
              "      <td>37</td>\n",
              "      <td>42</td>\n",
              "      <td>39</td>\n",
              "      <td>18</td>\n",
              "      <td>14</td>\n",
              "      <td>28</td>\n",
              "      <td>34</td>\n",
              "      <td>-7</td>\n",
              "      <td>-5</td>\n",
              "      <td>104</td>\n",
              "      <td>-73</td>\n",
              "      <td>-11</td>\n",
              "      <td>-9</td>\n",
              "      <td>-27</td>\n",
              "      <td>-35</td>\n",
              "      <td>30</td>\n",
              "      <td>33</td>\n",
              "      <td>5</td>\n",
              "      <td>-36</td>\n",
              "      <td>15</td>\n",
              "      <td>5</td>\n",
              "      <td>74</td>\n",
              "      <td>-5</td>\n",
              "      <td>-8</td>\n",
              "      <td>10</td>\n",
              "      <td>-3</td>\n",
              "      <td>12</td>\n",
              "      <td>-42</td>\n",
              "      <td>100</td>\n",
              "      <td>16</td>\n",
              "      <td>-30</td>\n",
              "      <td>84</td>\n",
              "      <td>-15</td>\n",
              "      <td>67</td>\n",
              "      <td>7</td>\n",
              "      <td>-4</td>\n",
              "      <td>-32</td>\n",
              "      <td>...</td>\n",
              "      <td>84</td>\n",
              "      <td>69</td>\n",
              "      <td>50</td>\n",
              "      <td>201</td>\n",
              "      <td>28</td>\n",
              "      <td>28</td>\n",
              "      <td>33</td>\n",
              "      <td>47</td>\n",
              "      <td>102</td>\n",
              "      <td>47</td>\n",
              "      <td>50</td>\n",
              "      <td>56</td>\n",
              "      <td>5</td>\n",
              "      <td>75</td>\n",
              "      <td>61</td>\n",
              "      <td>40</td>\n",
              "      <td>11</td>\n",
              "      <td>16</td>\n",
              "      <td>961</td>\n",
              "      <td>243</td>\n",
              "      <td>12</td>\n",
              "      <td>63</td>\n",
              "      <td>52</td>\n",
              "      <td>12</td>\n",
              "      <td>4</td>\n",
              "      <td>67</td>\n",
              "      <td>9</td>\n",
              "      <td>12</td>\n",
              "      <td>248</td>\n",
              "      <td>15</td>\n",
              "      <td>84</td>\n",
              "      <td>-5</td>\n",
              "      <td>13</td>\n",
              "      <td>102</td>\n",
              "      <td>27</td>\n",
              "      <td>17</td>\n",
              "      <td>30</td>\n",
              "      <td>-5</td>\n",
              "      <td>-53</td>\n",
              "      <td>tumor</td>\n",
              "    </tr>\n",
              "    <tr>\n",
              "      <th>8</th>\n",
              "      <td>8</td>\n",
              "      <td>-378</td>\n",
              "      <td>31</td>\n",
              "      <td>-29</td>\n",
              "      <td>105</td>\n",
              "      <td>-54</td>\n",
              "      <td>19</td>\n",
              "      <td>-4</td>\n",
              "      <td>11</td>\n",
              "      <td>16</td>\n",
              "      <td>-9</td>\n",
              "      <td>57</td>\n",
              "      <td>-49</td>\n",
              "      <td>10</td>\n",
              "      <td>-41</td>\n",
              "      <td>-10</td>\n",
              "      <td>25</td>\n",
              "      <td>-14</td>\n",
              "      <td>0</td>\n",
              "      <td>70</td>\n",
              "      <td>17</td>\n",
              "      <td>8</td>\n",
              "      <td>8</td>\n",
              "      <td>65</td>\n",
              "      <td>99</td>\n",
              "      <td>51</td>\n",
              "      <td>-11</td>\n",
              "      <td>10</td>\n",
              "      <td>3</td>\n",
              "      <td>-647</td>\n",
              "      <td>-21</td>\n",
              "      <td>116</td>\n",
              "      <td>19</td>\n",
              "      <td>28</td>\n",
              "      <td>173</td>\n",
              "      <td>15</td>\n",
              "      <td>83</td>\n",
              "      <td>-10</td>\n",
              "      <td>36</td>\n",
              "      <td>-9</td>\n",
              "      <td>...</td>\n",
              "      <td>41</td>\n",
              "      <td>92</td>\n",
              "      <td>40</td>\n",
              "      <td>92</td>\n",
              "      <td>46</td>\n",
              "      <td>17</td>\n",
              "      <td>34</td>\n",
              "      <td>5</td>\n",
              "      <td>1383</td>\n",
              "      <td>85</td>\n",
              "      <td>17</td>\n",
              "      <td>55</td>\n",
              "      <td>-1</td>\n",
              "      <td>21</td>\n",
              "      <td>30</td>\n",
              "      <td>58</td>\n",
              "      <td>23</td>\n",
              "      <td>43</td>\n",
              "      <td>56</td>\n",
              "      <td>226</td>\n",
              "      <td>6</td>\n",
              "      <td>53</td>\n",
              "      <td>57</td>\n",
              "      <td>61</td>\n",
              "      <td>958</td>\n",
              "      <td>74</td>\n",
              "      <td>4</td>\n",
              "      <td>6</td>\n",
              "      <td>100</td>\n",
              "      <td>14</td>\n",
              "      <td>87</td>\n",
              "      <td>-4</td>\n",
              "      <td>110</td>\n",
              "      <td>25</td>\n",
              "      <td>18</td>\n",
              "      <td>15</td>\n",
              "      <td>97</td>\n",
              "      <td>0</td>\n",
              "      <td>-51</td>\n",
              "      <td>tumor</td>\n",
              "    </tr>\n",
              "    <tr>\n",
              "      <th>9</th>\n",
              "      <td>9</td>\n",
              "      <td>475</td>\n",
              "      <td>-79</td>\n",
              "      <td>20</td>\n",
              "      <td>41</td>\n",
              "      <td>10</td>\n",
              "      <td>65</td>\n",
              "      <td>-13</td>\n",
              "      <td>225</td>\n",
              "      <td>17</td>\n",
              "      <td>10</td>\n",
              "      <td>11</td>\n",
              "      <td>34</td>\n",
              "      <td>57</td>\n",
              "      <td>25</td>\n",
              "      <td>-8</td>\n",
              "      <td>-5</td>\n",
              "      <td>-23</td>\n",
              "      <td>80</td>\n",
              "      <td>3</td>\n",
              "      <td>17</td>\n",
              "      <td>35</td>\n",
              "      <td>1</td>\n",
              "      <td>39</td>\n",
              "      <td>17</td>\n",
              "      <td>37</td>\n",
              "      <td>15</td>\n",
              "      <td>18</td>\n",
              "      <td>0</td>\n",
              "      <td>29</td>\n",
              "      <td>345</td>\n",
              "      <td>240</td>\n",
              "      <td>21</td>\n",
              "      <td>-62</td>\n",
              "      <td>135</td>\n",
              "      <td>1</td>\n",
              "      <td>40</td>\n",
              "      <td>-1</td>\n",
              "      <td>-66</td>\n",
              "      <td>22</td>\n",
              "      <td>...</td>\n",
              "      <td>30</td>\n",
              "      <td>182</td>\n",
              "      <td>116</td>\n",
              "      <td>78</td>\n",
              "      <td>56</td>\n",
              "      <td>33</td>\n",
              "      <td>-2</td>\n",
              "      <td>30</td>\n",
              "      <td>174</td>\n",
              "      <td>-71</td>\n",
              "      <td>20</td>\n",
              "      <td>80</td>\n",
              "      <td>3</td>\n",
              "      <td>113</td>\n",
              "      <td>31</td>\n",
              "      <td>53</td>\n",
              "      <td>5</td>\n",
              "      <td>27</td>\n",
              "      <td>484</td>\n",
              "      <td>230</td>\n",
              "      <td>7</td>\n",
              "      <td>36</td>\n",
              "      <td>97</td>\n",
              "      <td>55</td>\n",
              "      <td>10</td>\n",
              "      <td>63</td>\n",
              "      <td>15</td>\n",
              "      <td>70</td>\n",
              "      <td>118</td>\n",
              "      <td>18</td>\n",
              "      <td>115</td>\n",
              "      <td>-4</td>\n",
              "      <td>95</td>\n",
              "      <td>47</td>\n",
              "      <td>41</td>\n",
              "      <td>-4</td>\n",
              "      <td>76</td>\n",
              "      <td>11</td>\n",
              "      <td>22</td>\n",
              "      <td>tumor</td>\n",
              "    </tr>\n",
              "  </tbody>\n",
              "</table>\n",
              "<p>10 rows × 7466 columns</p>\n",
              "</div>\n",
              "      <button class=\"colab-df-convert\" onclick=\"convertToInteractive('df-d18b703d-1471-4789-a292-b1d800d6dfe2')\"\n",
              "              title=\"Convert this dataframe to an interactive table.\"\n",
              "              style=\"display:none;\">\n",
              "        \n",
              "  <svg xmlns=\"http://www.w3.org/2000/svg\" height=\"24px\"viewBox=\"0 0 24 24\"\n",
              "       width=\"24px\">\n",
              "    <path d=\"M0 0h24v24H0V0z\" fill=\"none\"/>\n",
              "    <path d=\"M18.56 5.44l.94 2.06.94-2.06 2.06-.94-2.06-.94-.94-2.06-.94 2.06-2.06.94zm-11 1L8.5 8.5l.94-2.06 2.06-.94-2.06-.94L8.5 2.5l-.94 2.06-2.06.94zm10 10l.94 2.06.94-2.06 2.06-.94-2.06-.94-.94-2.06-.94 2.06-2.06.94z\"/><path d=\"M17.41 7.96l-1.37-1.37c-.4-.4-.92-.59-1.43-.59-.52 0-1.04.2-1.43.59L10.3 9.45l-7.72 7.72c-.78.78-.78 2.05 0 2.83L4 21.41c.39.39.9.59 1.41.59.51 0 1.02-.2 1.41-.59l7.78-7.78 2.81-2.81c.8-.78.8-2.07 0-2.86zM5.41 20L4 18.59l7.72-7.72 1.47 1.35L5.41 20z\"/>\n",
              "  </svg>\n",
              "      </button>\n",
              "      \n",
              "  <style>\n",
              "    .colab-df-container {\n",
              "      display:flex;\n",
              "      flex-wrap:wrap;\n",
              "      gap: 12px;\n",
              "    }\n",
              "\n",
              "    .colab-df-convert {\n",
              "      background-color: #E8F0FE;\n",
              "      border: none;\n",
              "      border-radius: 50%;\n",
              "      cursor: pointer;\n",
              "      display: none;\n",
              "      fill: #1967D2;\n",
              "      height: 32px;\n",
              "      padding: 0 0 0 0;\n",
              "      width: 32px;\n",
              "    }\n",
              "\n",
              "    .colab-df-convert:hover {\n",
              "      background-color: #E2EBFA;\n",
              "      box-shadow: 0px 1px 2px rgba(60, 64, 67, 0.3), 0px 1px 3px 1px rgba(60, 64, 67, 0.15);\n",
              "      fill: #174EA6;\n",
              "    }\n",
              "\n",
              "    [theme=dark] .colab-df-convert {\n",
              "      background-color: #3B4455;\n",
              "      fill: #D2E3FC;\n",
              "    }\n",
              "\n",
              "    [theme=dark] .colab-df-convert:hover {\n",
              "      background-color: #434B5C;\n",
              "      box-shadow: 0px 1px 3px 1px rgba(0, 0, 0, 0.15);\n",
              "      filter: drop-shadow(0px 1px 2px rgba(0, 0, 0, 0.3));\n",
              "      fill: #FFFFFF;\n",
              "    }\n",
              "  </style>\n",
              "\n",
              "      <script>\n",
              "        const buttonEl =\n",
              "          document.querySelector('#df-d18b703d-1471-4789-a292-b1d800d6dfe2 button.colab-df-convert');\n",
              "        buttonEl.style.display =\n",
              "          google.colab.kernel.accessAllowed ? 'block' : 'none';\n",
              "\n",
              "        async function convertToInteractive(key) {\n",
              "          const element = document.querySelector('#df-d18b703d-1471-4789-a292-b1d800d6dfe2');\n",
              "          const dataTable =\n",
              "            await google.colab.kernel.invokeFunction('convertToInteractive',\n",
              "                                                     [key], {});\n",
              "          if (!dataTable) return;\n",
              "\n",
              "          const docLinkHtml = 'Like what you see? Visit the ' +\n",
              "            '<a target=\"_blank\" href=https://colab.research.google.com/notebooks/data_table.ipynb>data table notebook</a>'\n",
              "            + ' to learn more about interactive tables.';\n",
              "          element.innerHTML = '';\n",
              "          dataTable['output_type'] = 'display_data';\n",
              "          await google.colab.output.renderOutput(dataTable, element);\n",
              "          const docLink = document.createElement('div');\n",
              "          docLink.innerHTML = docLinkHtml;\n",
              "          element.appendChild(docLink);\n",
              "        }\n",
              "      </script>\n",
              "    </div>\n",
              "  </div>\n",
              "  "
            ],
            "text/plain": [
              "   Unnamed: 0  X53416  M83670  X90908  ...  X54489  T55008  M10065.2      y\n",
              "0           0      70     -81      25  ...     123       2        19  tumor\n",
              "1           1     108     -30      -7  ...     271      -1       -51  tumor\n",
              "2           2      75      -1       5  ...     127       7       192  tumor\n",
              "3           3     871       4      14  ...      59       3       367  tumor\n",
              "4           4     -92     -34      14  ...     265      -2       126  tumor\n",
              "5           5      21     -13       5  ...       3       9       145  tumor\n",
              "6           6     225     118      -5  ...     110       7       -14  tumor\n",
              "7           7    -346     -35      37  ...      30      -5       -53  tumor\n",
              "8           8    -378      31     -29  ...      97       0       -51  tumor\n",
              "9           9     475     -79      20  ...      76      11        22  tumor\n",
              "\n",
              "[10 rows x 7466 columns]"
            ]
          },
          "metadata": {},
          "execution_count": 2
        }
      ],
      "source": [
        "df=pd.read_csv('https://raw.githubusercontent.com/MainakRepositor/Datasets-/master/brain_tumor.csv',error_bad_lines=False)\n",
        "\n",
        "df.head(10)"
      ]
    },
    {
      "cell_type": "markdown",
      "source": [
        "## 3. Removing Null\n"
      ],
      "metadata": {
        "id": "4PDiG9ic8rkb"
      }
    },
    {
      "cell_type": "code",
      "execution_count": 3,
      "metadata": {
        "colab": {
          "base_uri": "https://localhost:8080/"
        },
        "id": "IoH0Dg1HmK4N",
        "outputId": "f55773d8-4cf9-4c43-a9f5-cda7c7a72aaa"
      },
      "outputs": [
        {
          "output_type": "execute_result",
          "data": {
            "text/plain": [
              "Unnamed: 0    0\n",
              "X53416        0\n",
              "M83670        0\n",
              "X90908        0\n",
              "M97496        0\n",
              "             ..\n",
              "M13699.1      0\n",
              "X54489        0\n",
              "T55008        0\n",
              "M10065.2      0\n",
              "y             0\n",
              "Length: 7466, dtype: int64"
            ]
          },
          "metadata": {},
          "execution_count": 3
        }
      ],
      "source": [
        "df.isnull().sum()"
      ]
    },
    {
      "cell_type": "code",
      "execution_count": 4,
      "metadata": {
        "colab": {
          "base_uri": "https://localhost:8080/"
        },
        "id": "xyapmQKzmOBF",
        "outputId": "2b49d573-8af8-4c34-e72f-1252fd542640"
      },
      "outputs": [
        {
          "output_type": "stream",
          "name": "stdout",
          "text": [
            "<class 'pandas.core.frame.DataFrame'>\n",
            "Int64Index: 36 entries, 0 to 35\n",
            "Columns: 7466 entries, Unnamed: 0 to y\n",
            "dtypes: int64(7465), object(1)\n",
            "memory usage: 2.1+ MB\n"
          ]
        }
      ],
      "source": [
        "df.dropna(inplace=True)\n",
        "df.info()"
      ]
    },
    {
      "cell_type": "markdown",
      "source": [
        "## 4. Data exploration"
      ],
      "metadata": {
        "id": "txCzFJyu8v-j"
      }
    },
    {
      "cell_type": "code",
      "execution_count": 5,
      "metadata": {
        "colab": {
          "base_uri": "https://localhost:8080/"
        },
        "id": "Bjttph-AmQYF",
        "outputId": "ffeb547c-ddfe-4f85-deec-1b53e338ea65"
      },
      "outputs": [
        {
          "output_type": "execute_result",
          "data": {
            "text/plain": [
              "Index(['Unnamed: 0', 'X53416', 'M83670', 'X90908', 'M97496', 'X90908.1',\n",
              "       'U37019', 'R48602', 'T96548', 'X64559',\n",
              "       ...\n",
              "       'H87456', 'R64130', 'H11125.1', 'U22055', 'L22524', 'M13699.1',\n",
              "       'X54489', 'T55008', 'M10065.2', 'y'],\n",
              "      dtype='object', length=7466)"
            ]
          },
          "metadata": {},
          "execution_count": 5
        }
      ],
      "source": [
        "df.columns"
      ]
    },
    {
      "cell_type": "code",
      "execution_count": 6,
      "metadata": {
        "colab": {
          "base_uri": "https://localhost:8080/"
        },
        "id": "jCtwyE3vmTBk",
        "outputId": "6aed6998-c1c9-4709-e61b-714a54e1cfdc"
      },
      "outputs": [
        {
          "output_type": "execute_result",
          "data": {
            "text/plain": [
              "array(['tumor', 'Normal'], dtype=object)"
            ]
          },
          "metadata": {},
          "execution_count": 6
        }
      ],
      "source": [
        "df['y'].unique()"
      ]
    },
    {
      "cell_type": "code",
      "execution_count": 7,
      "metadata": {
        "id": "40sIaOhbmVnh"
      },
      "outputs": [],
      "source": [
        "df.drop(columns=['Unnamed: 0'],axis=1,inplace=True)"
      ]
    },
    {
      "cell_type": "code",
      "execution_count": 8,
      "metadata": {
        "colab": {
          "base_uri": "https://localhost:8080/"
        },
        "id": "5ftggPYimXr7",
        "outputId": "c9226753-4b58-45de-af09-9f99ac4c7faa"
      },
      "outputs": [
        {
          "output_type": "execute_result",
          "data": {
            "text/plain": [
              "array([1, 0])"
            ]
          },
          "metadata": {},
          "execution_count": 8
        }
      ],
      "source": [
        "label_encoder = preprocessing.LabelEncoder()\n",
        "df['y']= label_encoder.fit_transform(df['y'])\n",
        "df['y'].unique()"
      ]
    },
    {
      "cell_type": "code",
      "execution_count": 9,
      "metadata": {
        "id": "UxdCGVyJmf8N"
      },
      "outputs": [],
      "source": [
        "for i in df.columns:\n",
        "    for each in df[i].values:\n",
        "        \n",
        "        if each > 1 or each < -1:\n",
        "            df[i] = (df[i] - np.min(df[i]))/(np.max(df[i]) - np.min(df[i]))\n",
        "        else:\n",
        "            pass"
      ]
    },
    {
      "cell_type": "code",
      "execution_count": 10,
      "metadata": {
        "id": "pUgfBl48mh7t"
      },
      "outputs": [],
      "source": [
        "y = df[\"y\"]\n",
        "X = df.drop([\"y\"],axis = 1)"
      ]
    },
    {
      "cell_type": "markdown",
      "source": [
        "## 5. Machine Learning Modelling"
      ],
      "metadata": {
        "id": "QkVA_hZ_80f2"
      }
    },
    {
      "cell_type": "markdown",
      "source": [
        "### i. Linear Regression"
      ],
      "metadata": {
        "id": "7SBf2x2I84BJ"
      }
    },
    {
      "cell_type": "code",
      "execution_count": 11,
      "metadata": {
        "id": "6d-51uVOnRMS"
      },
      "outputs": [],
      "source": [
        "from sklearn.model_selection import train_test_split\n",
        "X_train, X_test, y_train, y_test = train_test_split(X,y,test_size = 0.3,random_state = 0)"
      ]
    },
    {
      "cell_type": "code",
      "execution_count": 12,
      "metadata": {
        "colab": {
          "base_uri": "https://localhost:8080/"
        },
        "id": "mVtjnvYDnT-4",
        "outputId": "57d3667e-6ff7-4c66-dc3b-b94f7e177d7b"
      },
      "outputs": [
        {
          "output_type": "stream",
          "name": "stdout",
          "text": [
            "(25, 7464)\n",
            "(25,)\n"
          ]
        }
      ],
      "source": [
        "print(X_train.shape)\n",
        "print(y_train.shape)"
      ]
    },
    {
      "cell_type": "markdown",
      "source": [
        "### ii. Logistic Regression"
      ],
      "metadata": {
        "id": "d_YS9LkX8-eN"
      }
    },
    {
      "cell_type": "code",
      "execution_count": 13,
      "metadata": {
        "colab": {
          "base_uri": "https://localhost:8080/"
        },
        "id": "Ue8_mb_SnWC5",
        "outputId": "3fd2f1d5-6c55-4ee2-f3e3-8e4ce895f3e9"
      },
      "outputs": [
        {
          "output_type": "execute_result",
          "data": {
            "text/plain": [
              "LogisticRegression(max_iter=900, random_state=0)"
            ]
          },
          "metadata": {},
          "execution_count": 13
        }
      ],
      "source": [
        "log_reg=LogisticRegression(random_state=0,max_iter=900)\n",
        "log_reg.fit(X_train,y_train)"
      ]
    },
    {
      "cell_type": "code",
      "execution_count": 14,
      "metadata": {
        "colab": {
          "base_uri": "https://localhost:8080/"
        },
        "id": "wk0-FE1qnYTQ",
        "outputId": "0206bdc4-1151-4bb1-fe9e-85422f4a3b8d"
      },
      "outputs": [
        {
          "output_type": "execute_result",
          "data": {
            "text/plain": [
              "1.0"
            ]
          },
          "metadata": {},
          "execution_count": 14
        }
      ],
      "source": [
        "y_pred=log_reg.predict(X_test)\n",
        "log_reg.score(X_test,y_test)"
      ]
    },
    {
      "cell_type": "code",
      "execution_count": 15,
      "metadata": {
        "colab": {
          "base_uri": "https://localhost:8080/"
        },
        "id": "05OFiUConZ7o",
        "outputId": "0b36bab8-82fa-4a87-94b2-479c9c4b4985"
      },
      "outputs": [
        {
          "output_type": "stream",
          "name": "stderr",
          "text": [
            "/usr/local/lib/python3.7/dist-packages/sklearn/model_selection/_validation.py:372: FitFailedWarning: \n",
            "35 fits failed out of a total of 70.\n",
            "The score on these train-test partitions for these parameters will be set to nan.\n",
            "If these failures are not expected, you can try to debug them by setting error_score='raise'.\n",
            "\n",
            "Below are more details about the failures:\n",
            "--------------------------------------------------------------------------------\n",
            "35 fits failed with the following error:\n",
            "Traceback (most recent call last):\n",
            "  File \"/usr/local/lib/python3.7/dist-packages/sklearn/model_selection/_validation.py\", line 680, in _fit_and_score\n",
            "    estimator.fit(X_train, y_train, **fit_params)\n",
            "  File \"/usr/local/lib/python3.7/dist-packages/sklearn/linear_model/_logistic.py\", line 1461, in fit\n",
            "    solver = _check_solver(self.solver, self.penalty, self.dual)\n",
            "  File \"/usr/local/lib/python3.7/dist-packages/sklearn/linear_model/_logistic.py\", line 449, in _check_solver\n",
            "    % (solver, penalty)\n",
            "ValueError: Solver lbfgs supports only 'l2' or 'none' penalties, got l1 penalty.\n",
            "\n",
            "  warnings.warn(some_fits_failed_message, FitFailedWarning)\n",
            "/usr/local/lib/python3.7/dist-packages/sklearn/model_selection/_search.py:972: UserWarning: One or more of the test scores are non-finite: [ nan 0.72  nan 0.96  nan 0.96  nan 0.96  nan 0.96  nan 0.96  nan 0.96]\n",
            "  category=UserWarning,\n"
          ]
        },
        {
          "output_type": "execute_result",
          "data": {
            "text/plain": [
              "{'C': 0.01, 'penalty': 'l2'}"
            ]
          },
          "metadata": {},
          "execution_count": 15
        }
      ],
      "source": [
        "params = {'C': np.logspace(-3, 3, 7), 'penalty': ['l1', 'l2']}\n",
        "lr_model = LogisticRegression(random_state = 0)\n",
        "lr_cv = GridSearchCV(lr_model,params,cv = 5).fit(X_train,y_train)\n",
        "lr_cv.best_params_"
      ]
    },
    {
      "cell_type": "code",
      "execution_count": 16,
      "metadata": {
        "colab": {
          "base_uri": "https://localhost:8080/"
        },
        "id": "UU5a10nSnckS",
        "outputId": "9cf9a453-0841-4f42-847d-ed2603bd692b"
      },
      "outputs": [
        {
          "output_type": "execute_result",
          "data": {
            "text/plain": [
              "LogisticRegression(C=0.01, random_state=0)"
            ]
          },
          "metadata": {},
          "execution_count": 16
        }
      ],
      "source": [
        "log_reg2 = LogisticRegression(C = .01,random_state = 0,penalty= 'l2')\n",
        "log_reg2.fit(X_train,y_train)"
      ]
    },
    {
      "cell_type": "code",
      "execution_count": 17,
      "metadata": {
        "colab": {
          "base_uri": "https://localhost:8080/"
        },
        "id": "Mq-KKYkjnijL",
        "outputId": "f1e32d0b-5dde-4c1c-d745-8d548780c277"
      },
      "outputs": [
        {
          "output_type": "execute_result",
          "data": {
            "text/plain": [
              "array([0, 0, 1, 0, 0, 1, 1, 1, 1, 0, 0])"
            ]
          },
          "metadata": {},
          "execution_count": 17
        }
      ],
      "source": [
        "log_reg2.predict(X_test)"
      ]
    },
    {
      "cell_type": "code",
      "execution_count": 18,
      "metadata": {
        "colab": {
          "base_uri": "https://localhost:8080/"
        },
        "id": "SHfUF7J0nkbM",
        "outputId": "7f79b856-bded-4b09-b5e2-9c9c25ddc787"
      },
      "outputs": [
        {
          "output_type": "execute_result",
          "data": {
            "text/plain": [
              "1.0"
            ]
          },
          "metadata": {},
          "execution_count": 18
        }
      ],
      "source": [
        "log_reg2.score(X_test,y_test)"
      ]
    },
    {
      "cell_type": "markdown",
      "source": [
        "### iii. K-Nearest Neighbours Classifier"
      ],
      "metadata": {
        "id": "LQ5WwJpW9EHQ"
      }
    },
    {
      "cell_type": "code",
      "execution_count": 19,
      "metadata": {
        "colab": {
          "base_uri": "https://localhost:8080/"
        },
        "id": "eerV2A-Wnl-B",
        "outputId": "3bcec751-3cc5-4a24-e868-76ebdda1ec4d"
      },
      "outputs": [
        {
          "output_type": "execute_result",
          "data": {
            "text/plain": [
              "0.8181818181818182"
            ]
          },
          "metadata": {},
          "execution_count": 19
        }
      ],
      "source": [
        "knn = KNeighborsClassifier(n_neighbors = 2).fit(X_train,y_train)\n",
        "knn.score(X_test,y_test)"
      ]
    },
    {
      "cell_type": "markdown",
      "source": [
        "### iv. Decision Tree"
      ],
      "metadata": {
        "id": "bNpJ_5PN9JvA"
      }
    },
    {
      "cell_type": "code",
      "execution_count": 20,
      "metadata": {
        "colab": {
          "base_uri": "https://localhost:8080/"
        },
        "id": "CxYyRBKunnzb",
        "outputId": "e6169031-5c3f-48d7-ea60-11e4a3edba5f"
      },
      "outputs": [
        {
          "output_type": "execute_result",
          "data": {
            "text/plain": [
              "1.0"
            ]
          },
          "metadata": {},
          "execution_count": 20
        }
      ],
      "source": [
        "tree = DecisionTreeClassifier(random_state = 0).fit(X_train,y_train)\n",
        "tree.score(X_test,y_test)"
      ]
    },
    {
      "cell_type": "code",
      "execution_count": 21,
      "metadata": {
        "colab": {
          "base_uri": "https://localhost:8080/"
        },
        "id": "DfCx9126npin",
        "outputId": "40031aa7-7039-4aeb-f41f-3f169192beef"
      },
      "outputs": [
        {
          "output_type": "execute_result",
          "data": {
            "text/plain": [
              "{'max_depth': 1, 'min_samples_split': 2}"
            ]
          },
          "metadata": {},
          "execution_count": 21
        }
      ],
      "source": [
        "params = {\"max_depth\": range(1,10),\n",
        "            \"min_samples_split\" : list(range(2,50))}\n",
        "tree_model = DecisionTreeClassifier(random_state = 0)\n",
        "tree_cv = GridSearchCV(tree_model, params, cv = 10, n_jobs = -1).fit(X_train,y_train)\n",
        "tree_cv.best_params_"
      ]
    },
    {
      "cell_type": "code",
      "execution_count": 22,
      "metadata": {
        "id": "RkAFWVc4nrLb",
        "colab": {
          "base_uri": "https://localhost:8080/"
        },
        "outputId": "952d2c0b-6d82-44ad-8958-30f8f764239f"
      },
      "outputs": [
        {
          "output_type": "execute_result",
          "data": {
            "text/plain": [
              "1.0"
            ]
          },
          "metadata": {},
          "execution_count": 22
        }
      ],
      "source": [
        "tree_tuned = DecisionTreeClassifier(max_depth = 1, min_samples_leaf = 7, min_samples_split = 2,random_state = 42).fit(X_train,y_train)\n",
        "tree_tuned.score(X_test,y_test)"
      ]
    },
    {
      "cell_type": "markdown",
      "source": [
        "### v. Random Forest"
      ],
      "metadata": {
        "id": "iaubqrg69NHO"
      }
    },
    {
      "cell_type": "code",
      "source": [
        "rf = RandomForestClassifier(random_state = 0).fit(X_train,y_train)\n",
        "rf.score(X_test,y_test)"
      ],
      "metadata": {
        "colab": {
          "base_uri": "https://localhost:8080/"
        },
        "id": "5ptMwEJw8EP-",
        "outputId": "dbc51cf5-a74b-4e7c-f535-cc9f44a8e47b"
      },
      "execution_count": 23,
      "outputs": [
        {
          "output_type": "execute_result",
          "data": {
            "text/plain": [
              "1.0"
            ]
          },
          "metadata": {},
          "execution_count": 23
        }
      ]
    },
    {
      "cell_type": "markdown",
      "source": [
        "### vi. Support Vector Machine"
      ],
      "metadata": {
        "id": "7gYMqgJ39Q6Q"
      }
    },
    {
      "cell_type": "code",
      "source": [
        "svm = SVC(random_state = 42).fit(X_train,y_train)\n",
        "svm.score(X_test,y_test)"
      ],
      "metadata": {
        "colab": {
          "base_uri": "https://localhost:8080/"
        },
        "id": "dr4B60BA8Ewx",
        "outputId": "4062e72c-25e7-4b18-8cb8-bd8d80caba1c"
      },
      "execution_count": 24,
      "outputs": [
        {
          "output_type": "execute_result",
          "data": {
            "text/plain": [
              "1.0"
            ]
          },
          "metadata": {},
          "execution_count": 24
        }
      ]
    },
    {
      "cell_type": "markdown",
      "source": [
        "### vii. Gradient Boosting"
      ],
      "metadata": {
        "id": "CBcmmLlo9UCA"
      }
    },
    {
      "cell_type": "code",
      "source": [
        "gbm = GradientBoostingClassifier(random_state = 42).fit(X_train,y_train)\n",
        "gbm.score(X_test,y_test)"
      ],
      "metadata": {
        "colab": {
          "base_uri": "https://localhost:8080/"
        },
        "id": "zm7I1Vhv8HCd",
        "outputId": "5922f9d1-c238-4559-bf71-d106ab1a6f97"
      },
      "execution_count": 25,
      "outputs": [
        {
          "output_type": "execute_result",
          "data": {
            "text/plain": [
              "1.0"
            ]
          },
          "metadata": {},
          "execution_count": 25
        }
      ]
    },
    {
      "cell_type": "code",
      "source": [
        "gbm_tuned = GradientBoostingClassifier(max_depth = 2, learning_rate = 0.01, min_samples_split = 2, n_estimators = 100, random_state = 42).fit(X_train,y_train)\n",
        "gbm_tuned.score(X_test,y_test)"
      ],
      "metadata": {
        "colab": {
          "base_uri": "https://localhost:8080/"
        },
        "id": "y-Wgm4-p8Ixq",
        "outputId": "dd6ffe6b-437c-4f3a-b9fe-8e98ab62ec7b"
      },
      "execution_count": 26,
      "outputs": [
        {
          "output_type": "execute_result",
          "data": {
            "text/plain": [
              "1.0"
            ]
          },
          "metadata": {},
          "execution_count": 26
        }
      ]
    },
    {
      "cell_type": "markdown",
      "source": [
        "### viii. AdaBoost"
      ],
      "metadata": {
        "id": "GSIuSbxX9Ysa"
      }
    },
    {
      "cell_type": "code",
      "source": [
        "ada = AdaBoostClassifier(random_state = 42).fit(X_train,y_train)\n",
        "ada.score(X_test,y_test)"
      ],
      "metadata": {
        "colab": {
          "base_uri": "https://localhost:8080/"
        },
        "id": "ks40NvOH8KH-",
        "outputId": "6af108e0-e645-4b98-8050-63456adaec65"
      },
      "execution_count": 27,
      "outputs": [
        {
          "output_type": "execute_result",
          "data": {
            "text/plain": [
              "1.0"
            ]
          },
          "metadata": {},
          "execution_count": 27
        }
      ]
    },
    {
      "cell_type": "code",
      "source": [
        "ada_tuned = AdaBoostClassifier(learning_rate = 0.01,n_estimators = 1000,random_state = 42).fit(X_train,y_train)\n",
        "ada_tuned.score(X_test,y_test)"
      ],
      "metadata": {
        "colab": {
          "base_uri": "https://localhost:8080/"
        },
        "id": "0PMfFinX8LkW",
        "outputId": "515dd939-c0ed-4df1-eee2-eb6bc3bbd332"
      },
      "execution_count": 28,
      "outputs": [
        {
          "output_type": "execute_result",
          "data": {
            "text/plain": [
              "1.0"
            ]
          },
          "metadata": {},
          "execution_count": 28
        }
      ]
    },
    {
      "cell_type": "markdown",
      "source": [
        "### ix. Bagging"
      ],
      "metadata": {
        "id": "6di4WTPh9gDk"
      }
    },
    {
      "cell_type": "code",
      "source": [
        "bag = BaggingClassifier(random_state = 42).fit(X_train,y_train)\n",
        "bag.score(X_test,y_test)"
      ],
      "metadata": {
        "colab": {
          "base_uri": "https://localhost:8080/"
        },
        "id": "dStnMNZx8M8G",
        "outputId": "2ef6ed28-0b9d-40eb-f84e-f9c2f4c6f2ad"
      },
      "execution_count": 29,
      "outputs": [
        {
          "output_type": "execute_result",
          "data": {
            "text/plain": [
              "1.0"
            ]
          },
          "metadata": {},
          "execution_count": 29
        }
      ]
    },
    {
      "cell_type": "code",
      "source": [
        "bag_tuned = BaggingClassifier(n_estimators = 45,random_state = 42).fit(X_train,y_train)\n",
        "bag_tuned.score(X_test,y_test)"
      ],
      "metadata": {
        "colab": {
          "base_uri": "https://localhost:8080/"
        },
        "id": "zJu6Qbne8Oj_",
        "outputId": "4d93d6a2-72cd-480a-fefa-aff9df201b07"
      },
      "execution_count": 30,
      "outputs": [
        {
          "output_type": "execute_result",
          "data": {
            "text/plain": [
              "1.0"
            ]
          },
          "metadata": {},
          "execution_count": 30
        }
      ]
    },
    {
      "cell_type": "markdown",
      "source": [
        "## 6. Visualization of Results"
      ],
      "metadata": {
        "id": "P98-44sM-Pbj"
      }
    },
    {
      "cell_type": "code",
      "source": [
        "pred_list = [log_reg2,knn,rf,gbm_tuned,svm,ada_tuned,bag_tuned]\n",
        "\n",
        "for i in pred_list:\n",
        "    print(\"Score : \",i.score(X_test,y_test))\n",
        "    y_pred = i.predict(X_test)\n",
        "    sns.heatmap(confusion_matrix(y_test,y_pred),annot = True)\n",
        "    plt.xlabel(\"Y_pred\")\n",
        "    plt.ylabel(\"Y_test\")\n",
        "    plt.title(i)\n",
        "    plt.show()"
      ],
      "metadata": {
        "colab": {
          "base_uri": "https://localhost:8080/",
          "height": 1000
        },
        "id": "OEtj0UXl8QPu",
        "outputId": "bfd58a3c-23be-44ea-830c-b28cc88b80ba"
      },
      "execution_count": 31,
      "outputs": [
        {
          "output_type": "stream",
          "name": "stdout",
          "text": [
            "Score :  1.0\n"
          ]
        },
        {
          "output_type": "display_data",
          "data": {
            "image/png": "[encoded data removed]",
            "text/plain": [
              "<Figure size 432x288 with 2 Axes>"
            ]
          },
          "metadata": {
            "needs_background": "light"
          }
        },
        {
          "output_type": "stream",
          "name": "stdout",
          "text": [
            "Score :  0.8181818181818182\n"
          ]
        },
        {
          "output_type": "display_data",
          "data": {
            "image/png": "[encoded data removed]",
            "text/plain": [
              "<Figure size 432x288 with 2 Axes>"
            ]
          },
          "metadata": {
            "needs_background": "light"
          }
        },
        {
          "output_type": "stream",
          "name": "stdout",
          "text": [
            "Score :  1.0\n"
          ]
        },
        {
          "output_type": "display_data",
          "data": {
            "image/png": "[encoded data removed]",
            "text/plain": [
              "<Figure size 432x288 with 2 Axes>"
            ]
          },
          "metadata": {
            "needs_background": "light"
          }
        },
        {
          "output_type": "stream",
          "name": "stdout",
          "text": [
            "Score :  1.0\n"
          ]
        },
        {
          "output_type": "display_data",
          "data": {
            "image/png": "[encoded data removed]",
            "text/plain": [
              "<Figure size 432x288 with 2 Axes>"
            ]
          },
          "metadata": {
            "needs_background": "light"
          }
        },
        {
          "output_type": "stream",
          "name": "stdout",
          "text": [
            "Score :  1.0\n"
          ]
        },
        {
          "output_type": "display_data",
          "data": {
            "image/png": "[encoded data removed]",
            "text/plain": [
              "<Figure size 432x288 with 2 Axes>"
            ]
          },
          "metadata": {
            "needs_background": "light"
          }
        },
        {
          "output_type": "stream",
          "name": "stdout",
          "text": [
            "Score :  1.0\n"
          ]
        },
        {
          "output_type": "display_data",
          "data": {
            "image/png": "[encoded data removed]",
            "text/plain": [
              "<Figure size 432x288 with 2 Axes>"
            ]
          },
          "metadata": {
            "needs_background": "light"
          }
        },
        {
          "output_type": "stream",
          "name": "stdout",
          "text": [
            "Score :  1.0\n"
          ]
        },
        {
          "output_type": "display_data",
          "data": {
            "image/png": "[encoded data removed]",
            "text/plain": [
              "<Figure size 432x288 with 2 Axes>"
            ]
          },
          "metadata": {
            "needs_background": "light"
          }
        }
      ]
    },
    {
      "cell_type": "code",
      "source": [
        ""
      ],
      "metadata": {
        "id": "ShFKd6-g8S9-"
      },
      "execution_count": null,
      "outputs": []
    }
  ],
  "metadata": {
    "colab": {
      "name": "Brain Tumour Classification and Prediction",
      "provenance": [],
      "authorship_tag": "ABX9TyNxpGVR8SKJy9OgJ8KUQh7c",
      "include_colab_link": true
    },
    "kernelspec": {
      "display_name": "Python 3",
      "name": "python3"
    },
    "language_info": {
      "name": "python"
    }
  },
  "nbformat": 4,
  "nbformat_minor": 0
}