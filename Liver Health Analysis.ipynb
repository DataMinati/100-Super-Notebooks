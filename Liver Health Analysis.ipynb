{
  "cells": [
    {
      "cell_type": "markdown",
      "metadata": {
        "id": "view-in-github",
        "colab_type": "text"
      },
      "source": [
        "<a href=\"https://colab.research.google.com/github/DataMinati/100-Super-Notebooks/blob/main/Liver%20Health%20Analysis.ipynb\" target=\"_parent\"><img src=\"https://colab.research.google.com/assets/colab-badge.svg\" alt=\"Open In Colab\"/></a>"
      ]
    },
    {
      "metadata": {
        "_cell_guid": "94e442bb-e3e6-4afb-9b37-5bc478db5f4f",
        "_uuid": "51898d40216d04490c572d5ac7598091b73d3615",
        "id": "Cue-Il4K4Sn2"
      },
      "cell_type": "markdown",
      "source": [
        "# Analysis and Prediction-Indian Liver Patients."
      ]
    },
    {
      "metadata": {
        "_cell_guid": "77c7f1f3-9467-49d9-a113-b3b345b08110",
        "_uuid": "c8034ad4f2e2bb5d1c932c32232753c82a6b0e33",
        "id": "05q-a2dD4Sn6"
      },
      "cell_type": "markdown",
      "source": [
        "The dataset was downloaded from the UCI ML Repository.\n",
        "\n",
        "Here are the steps I'm going to perform:  \n",
        "1) Data Analysis: This is in general looking at the data to figure out whats going on. Inspect the data: Check whether there is any missing data, irrelevant data and do a cleanup.  \n",
        "2) Data Visualization:   \n",
        "3) Feature selection.  \n",
        "4) Search for any trends, relations & correlations.  \n",
        "5) Draw an inference and predict whether the patient can be identified to be having liver disease or not  "
      ]
    },
    {
      "metadata": {
        "_cell_guid": "ead33c46-262f-428c-a300-5372b4f15a7a",
        "_uuid": "2cfb47f6cfc64578a9bff30d0e5ec6ab95a8e06b",
        "collapsed": true,
        "trusted": true,
        "id": "DxKR_gL34Sn7"
      },
      "cell_type": "code",
      "source": [
        "#Import all required libraries for reading data, analysing and visualizing data\n",
        "import pandas as pd\n",
        "import numpy as np\n",
        "import matplotlib.pyplot as plt\n",
        "import seaborn as sns\n",
        "%matplotlib inline\n",
        "from sklearn.preprocessing import LabelEncoder"
      ],
      "execution_count": 29,
      "outputs": []
    },
    {
      "metadata": {
        "_cell_guid": "d58aeb11-2795-4ba6-8dd1-f48160dec59c",
        "_uuid": "3b99a454b4a233394a3fa3c8a5190b198cbc84ba",
        "id": "VeVyXB3E4Sn8"
      },
      "cell_type": "markdown",
      "source": [
        "# Data Analysis"
      ]
    },
    {
      "metadata": {
        "_cell_guid": "518b7cef-cafc-433e-94e5-ed91f9b70ba6",
        "_uuid": "104d9fe12aae79b3eff8c1ad92e432a77a2b92bc",
        "collapsed": true,
        "trusted": true,
        "id": "bAVeaoM44Sn9"
      },
      "cell_type": "code",
      "source": [
        "#Read the training & test data\n",
        "liver_df = pd.read_csv('https://raw.githubusercontent.com/MainakRepositor/Datasets/master/indian_liver_patient.csv')"
      ],
      "execution_count": 30,
      "outputs": []
    },
    {
      "metadata": {
        "_cell_guid": "04286350-1e1c-46ac-9099-d29585d30287",
        "_uuid": "897e4e62d506ee354a42d13005f604da99f12e59",
        "trusted": true,
        "colab": {
          "base_uri": "https://localhost:8080/",
          "height": 270
        },
        "id": "m2iMgArF4Sn9",
        "outputId": "d1d5a6d4-1d2e-43a7-86de-112396c45f19"
      },
      "cell_type": "code",
      "source": [
        "liver_df.head()"
      ],
      "execution_count": 31,
      "outputs": [
        {
          "output_type": "execute_result",
          "data": {
            "text/plain": [
              "   Age  Gender  Total_Bilirubin  Direct_Bilirubin  Alkaline_Phosphotase  \\\n",
              "0   65  Female              0.7               0.1                   187   \n",
              "1   62    Male             10.9               5.5                   699   \n",
              "2   62    Male              7.3               4.1                   490   \n",
              "3   58    Male              1.0               0.4                   182   \n",
              "4   72    Male              3.9               2.0                   195   \n",
              "\n",
              "   Alamine_Aminotransferase  Aspartate_Aminotransferase  Total_Protiens  \\\n",
              "0                        16                          18             6.8   \n",
              "1                        64                         100             7.5   \n",
              "2                        60                          68             7.0   \n",
              "3                        14                          20             6.8   \n",
              "4                        27                          59             7.3   \n",
              "\n",
              "   Albumin  Albumin_and_Globulin_Ratio  Outcome  \n",
              "0      3.3                        0.90        1  \n",
              "1      3.2                        0.74        1  \n",
              "2      3.3                        0.89        1  \n",
              "3      3.4                        1.00        1  \n",
              "4      2.4                        0.40        1  "
            ],
            "text/html": [
              "\n",
              "  <div id=\"df-3ae0b41d-715d-4a2a-b5ab-ca745e1bd72f\">\n",
              "    <div class=\"colab-df-container\">\n",
              "      <div>\n",
              "<style scoped>\n",
              "    .dataframe tbody tr th:only-of-type {\n",
              "        vertical-align: middle;\n",
              "    }\n",
              "\n",
              "    .dataframe tbody tr th {\n",
              "        vertical-align: top;\n",
              "    }\n",
              "\n",
              "    .dataframe thead th {\n",
              "        text-align: right;\n",
              "    }\n",
              "</style>\n",
              "<table border=\"1\" class=\"dataframe\">\n",
              "  <thead>\n",
              "    <tr style=\"text-align: right;\">\n",
              "      <th></th>\n",
              "      <th>Age</th>\n",
              "      <th>Gender</th>\n",
              "      <th>Total_Bilirubin</th>\n",
              "      <th>Direct_Bilirubin</th>\n",
              "      <th>Alkaline_Phosphotase</th>\n",
              "      <th>Alamine_Aminotransferase</th>\n",
              "      <th>Aspartate_Aminotransferase</th>\n",
              "      <th>Total_Protiens</th>\n",
              "      <th>Albumin</th>\n",
              "      <th>Albumin_and_Globulin_Ratio</th>\n",
              "      <th>Outcome</th>\n",
              "    </tr>\n",
              "  </thead>\n",
              "  <tbody>\n",
              "    <tr>\n",
              "      <th>0</th>\n",
              "      <td>65</td>\n",
              "      <td>Female</td>\n",
              "      <td>0.7</td>\n",
              "      <td>0.1</td>\n",
              "      <td>187</td>\n",
              "      <td>16</td>\n",
              "      <td>18</td>\n",
              "      <td>6.8</td>\n",
              "      <td>3.3</td>\n",
              "      <td>0.90</td>\n",
              "      <td>1</td>\n",
              "    </tr>\n",
              "    <tr>\n",
              "      <th>1</th>\n",
              "      <td>62</td>\n",
              "      <td>Male</td>\n",
              "      <td>10.9</td>\n",
              "      <td>5.5</td>\n",
              "      <td>699</td>\n",
              "      <td>64</td>\n",
              "      <td>100</td>\n",
              "      <td>7.5</td>\n",
              "      <td>3.2</td>\n",
              "      <td>0.74</td>\n",
              "      <td>1</td>\n",
              "    </tr>\n",
              "    <tr>\n",
              "      <th>2</th>\n",
              "      <td>62</td>\n",
              "      <td>Male</td>\n",
              "      <td>7.3</td>\n",
              "      <td>4.1</td>\n",
              "      <td>490</td>\n",
              "      <td>60</td>\n",
              "      <td>68</td>\n",
              "      <td>7.0</td>\n",
              "      <td>3.3</td>\n",
              "      <td>0.89</td>\n",
              "      <td>1</td>\n",
              "    </tr>\n",
              "    <tr>\n",
              "      <th>3</th>\n",
              "      <td>58</td>\n",
              "      <td>Male</td>\n",
              "      <td>1.0</td>\n",
              "      <td>0.4</td>\n",
              "      <td>182</td>\n",
              "      <td>14</td>\n",
              "      <td>20</td>\n",
              "      <td>6.8</td>\n",
              "      <td>3.4</td>\n",
              "      <td>1.00</td>\n",
              "      <td>1</td>\n",
              "    </tr>\n",
              "    <tr>\n",
              "      <th>4</th>\n",
              "      <td>72</td>\n",
              "      <td>Male</td>\n",
              "      <td>3.9</td>\n",
              "      <td>2.0</td>\n",
              "      <td>195</td>\n",
              "      <td>27</td>\n",
              "      <td>59</td>\n",
              "      <td>7.3</td>\n",
              "      <td>2.4</td>\n",
              "      <td>0.40</td>\n",
              "      <td>1</td>\n",
              "    </tr>\n",
              "  </tbody>\n",
              "</table>\n",
              "</div>\n",
              "      <button class=\"colab-df-convert\" onclick=\"convertToInteractive('df-3ae0b41d-715d-4a2a-b5ab-ca745e1bd72f')\"\n",
              "              title=\"Convert this dataframe to an interactive table.\"\n",
              "              style=\"display:none;\">\n",
              "        \n",
              "  <svg xmlns=\"http://www.w3.org/2000/svg\" height=\"24px\"viewBox=\"0 0 24 24\"\n",
              "       width=\"24px\">\n",
              "    <path d=\"M0 0h24v24H0V0z\" fill=\"none\"/>\n",
              "    <path d=\"M18.56 5.44l.94 2.06.94-2.06 2.06-.94-2.06-.94-.94-2.06-.94 2.06-2.06.94zm-11 1L8.5 8.5l.94-2.06 2.06-.94-2.06-.94L8.5 2.5l-.94 2.06-2.06.94zm10 10l.94 2.06.94-2.06 2.06-.94-2.06-.94-.94-2.06-.94 2.06-2.06.94z\"/><path d=\"M17.41 7.96l-1.37-1.37c-.4-.4-.92-.59-1.43-.59-.52 0-1.04.2-1.43.59L10.3 9.45l-7.72 7.72c-.78.78-.78 2.05 0 2.83L4 21.41c.39.39.9.59 1.41.59.51 0 1.02-.2 1.41-.59l7.78-7.78 2.81-2.81c.8-.78.8-2.07 0-2.86zM5.41 20L4 18.59l7.72-7.72 1.47 1.35L5.41 20z\"/>\n",
              "  </svg>\n",
              "      </button>\n",
              "      \n",
              "  <style>\n",
              "    .colab-df-container {\n",
              "      display:flex;\n",
              "      flex-wrap:wrap;\n",
              "      gap: 12px;\n",
              "    }\n",
              "\n",
              "    .colab-df-convert {\n",
              "      background-color: #E8F0FE;\n",
              "      border: none;\n",
              "      border-radius: 50%;\n",
              "      cursor: pointer;\n",
              "      display: none;\n",
              "      fill: #1967D2;\n",
              "      height: 32px;\n",
              "      padding: 0 0 0 0;\n",
              "      width: 32px;\n",
              "    }\n",
              "\n",
              "    .colab-df-convert:hover {\n",
              "      background-color: #E2EBFA;\n",
              "      box-shadow: 0px 1px 2px rgba(60, 64, 67, 0.3), 0px 1px 3px 1px rgba(60, 64, 67, 0.15);\n",
              "      fill: #174EA6;\n",
              "    }\n",
              "\n",
              "    [theme=dark] .colab-df-convert {\n",
              "      background-color: #3B4455;\n",
              "      fill: #D2E3FC;\n",
              "    }\n",
              "\n",
              "    [theme=dark] .colab-df-convert:hover {\n",
              "      background-color: #434B5C;\n",
              "      box-shadow: 0px 1px 3px 1px rgba(0, 0, 0, 0.15);\n",
              "      filter: drop-shadow(0px 1px 2px rgba(0, 0, 0, 0.3));\n",
              "      fill: #FFFFFF;\n",
              "    }\n",
              "  </style>\n",
              "\n",
              "      <script>\n",
              "        const buttonEl =\n",
              "          document.querySelector('#df-3ae0b41d-715d-4a2a-b5ab-ca745e1bd72f button.colab-df-convert');\n",
              "        buttonEl.style.display =\n",
              "          google.colab.kernel.accessAllowed ? 'block' : 'none';\n",
              "\n",
              "        async function convertToInteractive(key) {\n",
              "          const element = document.querySelector('#df-3ae0b41d-715d-4a2a-b5ab-ca745e1bd72f');\n",
              "          const dataTable =\n",
              "            await google.colab.kernel.invokeFunction('convertToInteractive',\n",
              "                                                     [key], {});\n",
              "          if (!dataTable) return;\n",
              "\n",
              "          const docLinkHtml = 'Like what you see? Visit the ' +\n",
              "            '<a target=\"_blank\" href=https://colab.research.google.com/notebooks/data_table.ipynb>data table notebook</a>'\n",
              "            + ' to learn more about interactive tables.';\n",
              "          element.innerHTML = '';\n",
              "          dataTable['output_type'] = 'display_data';\n",
              "          await google.colab.output.renderOutput(dataTable, element);\n",
              "          const docLink = document.createElement('div');\n",
              "          docLink.innerHTML = docLinkHtml;\n",
              "          element.appendChild(docLink);\n",
              "        }\n",
              "      </script>\n",
              "    </div>\n",
              "  </div>\n",
              "  "
            ]
          },
          "metadata": {},
          "execution_count": 31
        }
      ]
    },
    {
      "metadata": {
        "_cell_guid": "9a45eba7-cb42-4ac8-bd56-e75fee941808",
        "_uuid": "3e60087458159fe381e86febe8f9bca1bd097ff4",
        "trusted": true,
        "colab": {
          "base_uri": "https://localhost:8080/"
        },
        "id": "iuqeK9V14Sn-",
        "outputId": "d987835b-021f-4db6-e742-495ead450820"
      },
      "cell_type": "code",
      "source": [
        "liver_df.info()"
      ],
      "execution_count": 32,
      "outputs": [
        {
          "output_type": "stream",
          "name": "stdout",
          "text": [
            "<class 'pandas.core.frame.DataFrame'>\n",
            "RangeIndex: 583 entries, 0 to 582\n",
            "Data columns (total 11 columns):\n",
            " #   Column                      Non-Null Count  Dtype  \n",
            "---  ------                      --------------  -----  \n",
            " 0   Age                         583 non-null    int64  \n",
            " 1   Gender                      583 non-null    object \n",
            " 2   Total_Bilirubin             583 non-null    float64\n",
            " 3   Direct_Bilirubin            583 non-null    float64\n",
            " 4   Alkaline_Phosphotase        583 non-null    int64  \n",
            " 5   Alamine_Aminotransferase    583 non-null    int64  \n",
            " 6   Aspartate_Aminotransferase  583 non-null    int64  \n",
            " 7   Total_Protiens              583 non-null    float64\n",
            " 8   Albumin                     583 non-null    float64\n",
            " 9   Albumin_and_Globulin_Ratio  579 non-null    float64\n",
            " 10  Outcome                     583 non-null    int64  \n",
            "dtypes: float64(5), int64(5), object(1)\n",
            "memory usage: 50.2+ KB\n"
          ]
        }
      ]
    },
    {
      "metadata": {
        "_cell_guid": "aa1480e6-27f0-4073-83c9-9901d677b615",
        "_uuid": "3bc3e850db0d915e15a149433a4a3600ecc59783",
        "id": "FXMoEbNf4Sn_"
      },
      "cell_type": "markdown",
      "source": [
        "Here is the observation from the dataset:   \n",
        "1) Only gender is non-numeric veriable. All others are numeric.   \n",
        "2) There are 10 features and 1 output - dataset. Value 1 indicates that the patient has liver disease and 0 indicates the patient does not have liver disease.  "
      ]
    },
    {
      "metadata": {
        "_cell_guid": "7336699b-7ef0-4ee9-9e3d-1f7741ef3692",
        "_uuid": "f98b0529723f1b862688a5738c7afce79365e352",
        "trusted": true,
        "colab": {
          "base_uri": "https://localhost:8080/",
          "height": 458
        },
        "id": "dePJTq_T4SoA",
        "outputId": "8e60500b-1a93-4796-db5e-db650f65eb63"
      },
      "cell_type": "code",
      "source": [
        "#NUMERICAL STATISTICS OF THE DATASET\n",
        "liver_df.describe(include='all')\n",
        "#We can see that there are missing values for Albumin_and_Globulin_Ratio as only 579 entries have valid values indicating 4 missing values.\n",
        "#Gender has only 2 values - Male/Female"
      ],
      "execution_count": 33,
      "outputs": [
        {
          "output_type": "execute_result",
          "data": {
            "text/plain": [
              "               Age Gender  Total_Bilirubin  Direct_Bilirubin  \\\n",
              "count   583.000000    583       583.000000        583.000000   \n",
              "unique         NaN      2              NaN               NaN   \n",
              "top            NaN   Male              NaN               NaN   \n",
              "freq           NaN    441              NaN               NaN   \n",
              "mean     44.746141    NaN         3.298799          1.486106   \n",
              "std      16.189833    NaN         6.209522          2.808498   \n",
              "min       4.000000    NaN         0.400000          0.100000   \n",
              "25%      33.000000    NaN         0.800000          0.200000   \n",
              "50%      45.000000    NaN         1.000000          0.300000   \n",
              "75%      58.000000    NaN         2.600000          1.300000   \n",
              "max      90.000000    NaN        75.000000         19.700000   \n",
              "\n",
              "        Alkaline_Phosphotase  Alamine_Aminotransferase  \\\n",
              "count             583.000000                583.000000   \n",
              "unique                   NaN                       NaN   \n",
              "top                      NaN                       NaN   \n",
              "freq                     NaN                       NaN   \n",
              "mean              290.576329                 80.713551   \n",
              "std               242.937989                182.620356   \n",
              "min                63.000000                 10.000000   \n",
              "25%               175.500000                 23.000000   \n",
              "50%               208.000000                 35.000000   \n",
              "75%               298.000000                 60.500000   \n",
              "max              2110.000000               2000.000000   \n",
              "\n",
              "        Aspartate_Aminotransferase  Total_Protiens     Albumin  \\\n",
              "count                   583.000000      583.000000  583.000000   \n",
              "unique                         NaN             NaN         NaN   \n",
              "top                            NaN             NaN         NaN   \n",
              "freq                           NaN             NaN         NaN   \n",
              "mean                    109.910806        6.483190    3.141852   \n",
              "std                     288.918529        1.085451    0.795519   \n",
              "min                      10.000000        2.700000    0.900000   \n",
              "25%                      25.000000        5.800000    2.600000   \n",
              "50%                      42.000000        6.600000    3.100000   \n",
              "75%                      87.000000        7.200000    3.800000   \n",
              "max                    4929.000000        9.600000    5.500000   \n",
              "\n",
              "        Albumin_and_Globulin_Ratio     Outcome  \n",
              "count                   579.000000  583.000000  \n",
              "unique                         NaN         NaN  \n",
              "top                            NaN         NaN  \n",
              "freq                           NaN         NaN  \n",
              "mean                      0.947064    1.286449  \n",
              "std                       0.319592    0.452490  \n",
              "min                       0.300000    1.000000  \n",
              "25%                       0.700000    1.000000  \n",
              "50%                       0.930000    1.000000  \n",
              "75%                       1.100000    2.000000  \n",
              "max                       2.800000    2.000000  "
            ],
            "text/html": [
              "\n",
              "  <div id=\"df-cdac0978-059f-4598-86c3-e7caa05c1e65\">\n",
              "    <div class=\"colab-df-container\">\n",
              "      <div>\n",
              "<style scoped>\n",
              "    .dataframe tbody tr th:only-of-type {\n",
              "        vertical-align: middle;\n",
              "    }\n",
              "\n",
              "    .dataframe tbody tr th {\n",
              "        vertical-align: top;\n",
              "    }\n",
              "\n",
              "    .dataframe thead th {\n",
              "        text-align: right;\n",
              "    }\n",
              "</style>\n",
              "<table border=\"1\" class=\"dataframe\">\n",
              "  <thead>\n",
              "    <tr style=\"text-align: right;\">\n",
              "      <th></th>\n",
              "      <th>Age</th>\n",
              "      <th>Gender</th>\n",
              "      <th>Total_Bilirubin</th>\n",
              "      <th>Direct_Bilirubin</th>\n",
              "      <th>Alkaline_Phosphotase</th>\n",
              "      <th>Alamine_Aminotransferase</th>\n",
              "      <th>Aspartate_Aminotransferase</th>\n",
              "      <th>Total_Protiens</th>\n",
              "      <th>Albumin</th>\n",
              "      <th>Albumin_and_Globulin_Ratio</th>\n",
              "      <th>Outcome</th>\n",
              "    </tr>\n",
              "  </thead>\n",
              "  <tbody>\n",
              "    <tr>\n",
              "      <th>count</th>\n",
              "      <td>583.000000</td>\n",
              "      <td>583</td>\n",
              "      <td>583.000000</td>\n",
              "      <td>583.000000</td>\n",
              "      <td>583.000000</td>\n",
              "      <td>583.000000</td>\n",
              "      <td>583.000000</td>\n",
              "      <td>583.000000</td>\n",
              "      <td>583.000000</td>\n",
              "      <td>579.000000</td>\n",
              "      <td>583.000000</td>\n",
              "    </tr>\n",
              "    <tr>\n",
              "      <th>unique</th>\n",
              "      <td>NaN</td>\n",
              "      <td>2</td>\n",
              "      <td>NaN</td>\n",
              "      <td>NaN</td>\n",
              "      <td>NaN</td>\n",
              "      <td>NaN</td>\n",
              "      <td>NaN</td>\n",
              "      <td>NaN</td>\n",
              "      <td>NaN</td>\n",
              "      <td>NaN</td>\n",
              "      <td>NaN</td>\n",
              "    </tr>\n",
              "    <tr>\n",
              "      <th>top</th>\n",
              "      <td>NaN</td>\n",
              "      <td>Male</td>\n",
              "      <td>NaN</td>\n",
              "      <td>NaN</td>\n",
              "      <td>NaN</td>\n",
              "      <td>NaN</td>\n",
              "      <td>NaN</td>\n",
              "      <td>NaN</td>\n",
              "      <td>NaN</td>\n",
              "      <td>NaN</td>\n",
              "      <td>NaN</td>\n",
              "    </tr>\n",
              "    <tr>\n",
              "      <th>freq</th>\n",
              "      <td>NaN</td>\n",
              "      <td>441</td>\n",
              "      <td>NaN</td>\n",
              "      <td>NaN</td>\n",
              "      <td>NaN</td>\n",
              "      <td>NaN</td>\n",
              "      <td>NaN</td>\n",
              "      <td>NaN</td>\n",
              "      <td>NaN</td>\n",
              "      <td>NaN</td>\n",
              "      <td>NaN</td>\n",
              "    </tr>\n",
              "    <tr>\n",
              "      <th>mean</th>\n",
              "      <td>44.746141</td>\n",
              "      <td>NaN</td>\n",
              "      <td>3.298799</td>\n",
              "      <td>1.486106</td>\n",
              "      <td>290.576329</td>\n",
              "      <td>80.713551</td>\n",
              "      <td>109.910806</td>\n",
              "      <td>6.483190</td>\n",
              "      <td>3.141852</td>\n",
              "      <td>0.947064</td>\n",
              "      <td>1.286449</td>\n",
              "    </tr>\n",
              "    <tr>\n",
              "      <th>std</th>\n",
              "      <td>16.189833</td>\n",
              "      <td>NaN</td>\n",
              "      <td>6.209522</td>\n",
              "      <td>2.808498</td>\n",
              "      <td>242.937989</td>\n",
              "      <td>182.620356</td>\n",
              "      <td>288.918529</td>\n",
              "      <td>1.085451</td>\n",
              "      <td>0.795519</td>\n",
              "      <td>0.319592</td>\n",
              "      <td>0.452490</td>\n",
              "    </tr>\n",
              "    <tr>\n",
              "      <th>min</th>\n",
              "      <td>4.000000</td>\n",
              "      <td>NaN</td>\n",
              "      <td>0.400000</td>\n",
              "      <td>0.100000</td>\n",
              "      <td>63.000000</td>\n",
              "      <td>10.000000</td>\n",
              "      <td>10.000000</td>\n",
              "      <td>2.700000</td>\n",
              "      <td>0.900000</td>\n",
              "      <td>0.300000</td>\n",
              "      <td>1.000000</td>\n",
              "    </tr>\n",
              "    <tr>\n",
              "      <th>25%</th>\n",
              "      <td>33.000000</td>\n",
              "      <td>NaN</td>\n",
              "      <td>0.800000</td>\n",
              "      <td>0.200000</td>\n",
              "      <td>175.500000</td>\n",
              "      <td>23.000000</td>\n",
              "      <td>25.000000</td>\n",
              "      <td>5.800000</td>\n",
              "      <td>2.600000</td>\n",
              "      <td>0.700000</td>\n",
              "      <td>1.000000</td>\n",
              "    </tr>\n",
              "    <tr>\n",
              "      <th>50%</th>\n",
              "      <td>45.000000</td>\n",
              "      <td>NaN</td>\n",
              "      <td>1.000000</td>\n",
              "      <td>0.300000</td>\n",
              "      <td>208.000000</td>\n",
              "      <td>35.000000</td>\n",
              "      <td>42.000000</td>\n",
              "      <td>6.600000</td>\n",
              "      <td>3.100000</td>\n",
              "      <td>0.930000</td>\n",
              "      <td>1.000000</td>\n",
              "    </tr>\n",
              "    <tr>\n",
              "      <th>75%</th>\n",
              "      <td>58.000000</td>\n",
              "      <td>NaN</td>\n",
              "      <td>2.600000</td>\n",
              "      <td>1.300000</td>\n",
              "      <td>298.000000</td>\n",
              "      <td>60.500000</td>\n",
              "      <td>87.000000</td>\n",
              "      <td>7.200000</td>\n",
              "      <td>3.800000</td>\n",
              "      <td>1.100000</td>\n",
              "      <td>2.000000</td>\n",
              "    </tr>\n",
              "    <tr>\n",
              "      <th>max</th>\n",
              "      <td>90.000000</td>\n",
              "      <td>NaN</td>\n",
              "      <td>75.000000</td>\n",
              "      <td>19.700000</td>\n",
              "      <td>2110.000000</td>\n",
              "      <td>2000.000000</td>\n",
              "      <td>4929.000000</td>\n",
              "      <td>9.600000</td>\n",
              "      <td>5.500000</td>\n",
              "      <td>2.800000</td>\n",
              "      <td>2.000000</td>\n",
              "    </tr>\n",
              "  </tbody>\n",
              "</table>\n",
              "</div>\n",
              "      <button class=\"colab-df-convert\" onclick=\"convertToInteractive('df-cdac0978-059f-4598-86c3-e7caa05c1e65')\"\n",
              "              title=\"Convert this dataframe to an interactive table.\"\n",
              "              style=\"display:none;\">\n",
              "        \n",
              "  <svg xmlns=\"http://www.w3.org/2000/svg\" height=\"24px\"viewBox=\"0 0 24 24\"\n",
              "       width=\"24px\">\n",
              "    <path d=\"M0 0h24v24H0V0z\" fill=\"none\"/>\n",
              "    <path d=\"M18.56 5.44l.94 2.06.94-2.06 2.06-.94-2.06-.94-.94-2.06-.94 2.06-2.06.94zm-11 1L8.5 8.5l.94-2.06 2.06-.94-2.06-.94L8.5 2.5l-.94 2.06-2.06.94zm10 10l.94 2.06.94-2.06 2.06-.94-2.06-.94-.94-2.06-.94 2.06-2.06.94z\"/><path d=\"M17.41 7.96l-1.37-1.37c-.4-.4-.92-.59-1.43-.59-.52 0-1.04.2-1.43.59L10.3 9.45l-7.72 7.72c-.78.78-.78 2.05 0 2.83L4 21.41c.39.39.9.59 1.41.59.51 0 1.02-.2 1.41-.59l7.78-7.78 2.81-2.81c.8-.78.8-2.07 0-2.86zM5.41 20L4 18.59l7.72-7.72 1.47 1.35L5.41 20z\"/>\n",
              "  </svg>\n",
              "      </button>\n",
              "      \n",
              "  <style>\n",
              "    .colab-df-container {\n",
              "      display:flex;\n",
              "      flex-wrap:wrap;\n",
              "      gap: 12px;\n",
              "    }\n",
              "\n",
              "    .colab-df-convert {\n",
              "      background-color: #E8F0FE;\n",
              "      border: none;\n",
              "      border-radius: 50%;\n",
              "      cursor: pointer;\n",
              "      display: none;\n",
              "      fill: #1967D2;\n",
              "      height: 32px;\n",
              "      padding: 0 0 0 0;\n",
              "      width: 32px;\n",
              "    }\n",
              "\n",
              "    .colab-df-convert:hover {\n",
              "      background-color: #E2EBFA;\n",
              "      box-shadow: 0px 1px 2px rgba(60, 64, 67, 0.3), 0px 1px 3px 1px rgba(60, 64, 67, 0.15);\n",
              "      fill: #174EA6;\n",
              "    }\n",
              "\n",
              "    [theme=dark] .colab-df-convert {\n",
              "      background-color: #3B4455;\n",
              "      fill: #D2E3FC;\n",
              "    }\n",
              "\n",
              "    [theme=dark] .colab-df-convert:hover {\n",
              "      background-color: #434B5C;\n",
              "      box-shadow: 0px 1px 3px 1px rgba(0, 0, 0, 0.15);\n",
              "      filter: drop-shadow(0px 1px 2px rgba(0, 0, 0, 0.3));\n",
              "      fill: #FFFFFF;\n",
              "    }\n",
              "  </style>\n",
              "\n",
              "      <script>\n",
              "        const buttonEl =\n",
              "          document.querySelector('#df-cdac0978-059f-4598-86c3-e7caa05c1e65 button.colab-df-convert');\n",
              "        buttonEl.style.display =\n",
              "          google.colab.kernel.accessAllowed ? 'block' : 'none';\n",
              "\n",
              "        async function convertToInteractive(key) {\n",
              "          const element = document.querySelector('#df-cdac0978-059f-4598-86c3-e7caa05c1e65');\n",
              "          const dataTable =\n",
              "            await google.colab.kernel.invokeFunction('convertToInteractive',\n",
              "                                                     [key], {});\n",
              "          if (!dataTable) return;\n",
              "\n",
              "          const docLinkHtml = 'Like what you see? Visit the ' +\n",
              "            '<a target=\"_blank\" href=https://colab.research.google.com/notebooks/data_table.ipynb>data table notebook</a>'\n",
              "            + ' to learn more about interactive tables.';\n",
              "          element.innerHTML = '';\n",
              "          dataTable['output_type'] = 'display_data';\n",
              "          await google.colab.output.renderOutput(dataTable, element);\n",
              "          const docLink = document.createElement('div');\n",
              "          docLink.innerHTML = docLinkHtml;\n",
              "          element.appendChild(docLink);\n",
              "        }\n",
              "      </script>\n",
              "    </div>\n",
              "  </div>\n",
              "  "
            ]
          },
          "metadata": {},
          "execution_count": 33
        }
      ]
    },
    {
      "metadata": {
        "_cell_guid": "e379fc6e-e467-47bd-978c-c8eae32f3193",
        "_uuid": "a371d92f66a0641259d6053f2aaf33e3cfb64994",
        "trusted": true,
        "colab": {
          "base_uri": "https://localhost:8080/"
        },
        "id": "T6qigapr4SoA",
        "outputId": "a449a874-7136-4277-8b3e-741361c34cde"
      },
      "cell_type": "code",
      "source": [
        "#Which features are available in the dataset?\n",
        "liver_df.columns"
      ],
      "execution_count": 34,
      "outputs": [
        {
          "output_type": "execute_result",
          "data": {
            "text/plain": [
              "Index(['Age', 'Gender', 'Total_Bilirubin', 'Direct_Bilirubin',\n",
              "       'Alkaline_Phosphotase', 'Alamine_Aminotransferase',\n",
              "       'Aspartate_Aminotransferase', 'Total_Protiens', 'Albumin',\n",
              "       'Albumin_and_Globulin_Ratio', 'Outcome'],\n",
              "      dtype='object')"
            ]
          },
          "metadata": {},
          "execution_count": 34
        }
      ]
    },
    {
      "metadata": {
        "_cell_guid": "b6d201e0-a049-462a-a4c3-e66fdd3c1ff1",
        "_uuid": "0ab1acc33cd91286825dba1d5d77fcbf171348d5",
        "trusted": true,
        "colab": {
          "base_uri": "https://localhost:8080/"
        },
        "id": "2en13Wqn4SoB",
        "outputId": "49680777-13b1-4b13-cf31-8e9021776ddf"
      },
      "cell_type": "code",
      "source": [
        "#Check for any null values\n",
        "liver_df.isnull().sum()"
      ],
      "execution_count": 35,
      "outputs": [
        {
          "output_type": "execute_result",
          "data": {
            "text/plain": [
              "Age                           0\n",
              "Gender                        0\n",
              "Total_Bilirubin               0\n",
              "Direct_Bilirubin              0\n",
              "Alkaline_Phosphotase          0\n",
              "Alamine_Aminotransferase      0\n",
              "Aspartate_Aminotransferase    0\n",
              "Total_Protiens                0\n",
              "Albumin                       0\n",
              "Albumin_and_Globulin_Ratio    4\n",
              "Outcome                       0\n",
              "dtype: int64"
            ]
          },
          "metadata": {},
          "execution_count": 35
        }
      ]
    },
    {
      "metadata": {
        "_cell_guid": "1d6972b0-3916-4ec4-9c4e-050b4be86f0d",
        "_uuid": "5d2737231e0a088725b3403778a48e9c0ba2c629",
        "id": "Rz9wDI_m4SoB"
      },
      "cell_type": "markdown",
      "source": [
        "The only data that is null is the Albumin_and_Globulin_Ratio - Only 4 rows are null. Lets see whether this is an important feature    "
      ]
    },
    {
      "metadata": {
        "_cell_guid": "888444b8-b4a9-45b6-b2c2-11b826ff9da7",
        "_uuid": "2d518d8a9f73f3ef58ebef6cd7c918a15178a656",
        "id": "kdXySNYQ4SoB"
      },
      "cell_type": "markdown",
      "source": [
        "# Data Visualization"
      ]
    },
    {
      "metadata": {
        "_cell_guid": "544cd4dc-5cb5-45ac-ba26-c6c2be5d3db1",
        "_uuid": "0f20a9162e6c41a4f602f2bbcdfd21c012e035da",
        "trusted": true,
        "colab": {
          "base_uri": "https://localhost:8080/",
          "height": 314
        },
        "id": "qOrYCFj44SoC",
        "outputId": "c0a37238-73a2-4376-8b3b-d4794ecdf84c"
      },
      "cell_type": "code",
      "source": [
        "sns.countplot(data=liver_df, x = 'Outcome', label='Count')\n",
        "\n",
        "LD, NLD = liver_df['Outcome'].value_counts()\n",
        "print('Number of patients diagnosed with liver disease: ',LD)\n",
        "print('Number of patients not diagnosed with liver disease: ',NLD)"
      ],
      "execution_count": 36,
      "outputs": [
        {
          "output_type": "stream",
          "name": "stdout",
          "text": [
            "Number of patients diagnosed with liver disease:  416\n",
            "Number of patients not diagnosed with liver disease:  167\n"
          ]
        },
        {
          "output_type": "display_data",
          "data": {
            "text/plain": [
              "<Figure size 432x288 with 1 Axes>"
            ],
            "image/png": "[encoded data removed]"
          },
          "metadata": {
            "needs_background": "light"
          }
        }
      ]
    },
    {
      "metadata": {
        "_cell_guid": "3e8bf602-3b81-4a53-b190-8ba363295904",
        "_uuid": "d0e41e3d9a88577572fe5fea081de4de19f6ad6a",
        "trusted": true,
        "colab": {
          "base_uri": "https://localhost:8080/",
          "height": 314
        },
        "id": "3JHnfJR74SoC",
        "outputId": "3685a7d3-f697-4545-f869-c1471eb8ff6d"
      },
      "cell_type": "code",
      "source": [
        "sns.countplot(data=liver_df, x = 'Gender', label='Count')\n",
        "\n",
        "M, F = liver_df['Gender'].value_counts()\n",
        "print('Number of patients that are male: ',M)\n",
        "print('Number of patients that are female: ',F)"
      ],
      "execution_count": 37,
      "outputs": [
        {
          "output_type": "stream",
          "name": "stdout",
          "text": [
            "Number of patients that are male:  441\n",
            "Number of patients that are female:  142\n"
          ]
        },
        {
          "output_type": "display_data",
          "data": {
            "text/plain": [
              "<Figure size 432x288 with 1 Axes>"
            ],
            "image/png": "[encoded data removed]"
          },
          "metadata": {
            "needs_background": "light"
          }
        }
      ]
    },
    {
      "metadata": {
        "_cell_guid": "dff35f12-ee87-43d2-a4f3-67ad7a12de76",
        "_uuid": "8b1e4c43e56c9eb7f571709bc896f3a9806dc1cd",
        "trusted": true,
        "colab": {
          "base_uri": "https://localhost:8080/",
          "height": 424
        },
        "id": "nJdvHpLn4SoD",
        "outputId": "1360ce0e-a5e3-44e6-c323-1dbecc3e13c1"
      },
      "cell_type": "code",
      "source": [
        "sns.factorplot(x=\"Age\", y=\"Gender\", hue=\"Outcome\", data=liver_df);"
      ],
      "execution_count": 38,
      "outputs": [
        {
          "output_type": "stream",
          "name": "stderr",
          "text": [
            "/usr/local/lib/python3.7/dist-packages/seaborn/categorical.py:3717: UserWarning: The `factorplot` function has been renamed to `catplot`. The original name will be removed in a future release. Please update your code. Note that the default `kind` in `factorplot` (`'point'`) has changed `'strip'` in `catplot`.\n",
            "  warnings.warn(msg)\n"
          ]
        },
        {
          "output_type": "display_data",
          "data": {
            "text/plain": [
              "<Figure size 413.25x360 with 1 Axes>"
            ],
            "image/png": "[encoded data removed]"
          },
          "metadata": {
            "needs_background": "light"
          }
        }
      ]
    },
    {
      "metadata": {
        "_cell_guid": "d1f71ba8-caa8-47e2-b675-e234abfab05c",
        "_uuid": "059e213bb14b66c18d67a022679d485e00003e25",
        "id": "7oD3_sI34SoD"
      },
      "cell_type": "markdown",
      "source": [
        "Age seems to be a factor for liver disease for both male and female genders"
      ]
    },
    {
      "metadata": {
        "_cell_guid": "8201c43b-3d29-4076-a385-d46f4d016670",
        "_uuid": "e39a78707778302672d3e058a2b386b53630c062",
        "trusted": true,
        "colab": {
          "base_uri": "https://localhost:8080/",
          "height": 175
        },
        "id": "bCZ6gFR34SoD",
        "outputId": "92795c28-4962-4699-9d75-fe2a3210dfb9"
      },
      "cell_type": "code",
      "source": [
        "liver_df[['Gender', 'Outcome','Age']].groupby(['Outcome','Gender'], as_index=False).count().sort_values(by='Outcome', ascending=False)"
      ],
      "execution_count": 39,
      "outputs": [
        {
          "output_type": "execute_result",
          "data": {
            "text/plain": [
              "   Outcome  Gender  Age\n",
              "2        2  Female   50\n",
              "3        2    Male  117\n",
              "0        1  Female   92\n",
              "1        1    Male  324"
            ],
            "text/html": [
              "\n",
              "  <div id=\"df-136b38e8-2fc3-4a85-94ce-307d921a6d20\">\n",
              "    <div class=\"colab-df-container\">\n",
              "      <div>\n",
              "<style scoped>\n",
              "    .dataframe tbody tr th:only-of-type {\n",
              "        vertical-align: middle;\n",
              "    }\n",
              "\n",
              "    .dataframe tbody tr th {\n",
              "        vertical-align: top;\n",
              "    }\n",
              "\n",
              "    .dataframe thead th {\n",
              "        text-align: right;\n",
              "    }\n",
              "</style>\n",
              "<table border=\"1\" class=\"dataframe\">\n",
              "  <thead>\n",
              "    <tr style=\"text-align: right;\">\n",
              "      <th></th>\n",
              "      <th>Outcome</th>\n",
              "      <th>Gender</th>\n",
              "      <th>Age</th>\n",
              "    </tr>\n",
              "  </thead>\n",
              "  <tbody>\n",
              "    <tr>\n",
              "      <th>2</th>\n",
              "      <td>2</td>\n",
              "      <td>Female</td>\n",
              "      <td>50</td>\n",
              "    </tr>\n",
              "    <tr>\n",
              "      <th>3</th>\n",
              "      <td>2</td>\n",
              "      <td>Male</td>\n",
              "      <td>117</td>\n",
              "    </tr>\n",
              "    <tr>\n",
              "      <th>0</th>\n",
              "      <td>1</td>\n",
              "      <td>Female</td>\n",
              "      <td>92</td>\n",
              "    </tr>\n",
              "    <tr>\n",
              "      <th>1</th>\n",
              "      <td>1</td>\n",
              "      <td>Male</td>\n",
              "      <td>324</td>\n",
              "    </tr>\n",
              "  </tbody>\n",
              "</table>\n",
              "</div>\n",
              "      <button class=\"colab-df-convert\" onclick=\"convertToInteractive('df-136b38e8-2fc3-4a85-94ce-307d921a6d20')\"\n",
              "              title=\"Convert this dataframe to an interactive table.\"\n",
              "              style=\"display:none;\">\n",
              "        \n",
              "  <svg xmlns=\"http://www.w3.org/2000/svg\" height=\"24px\"viewBox=\"0 0 24 24\"\n",
              "       width=\"24px\">\n",
              "    <path d=\"M0 0h24v24H0V0z\" fill=\"none\"/>\n",
              "    <path d=\"M18.56 5.44l.94 2.06.94-2.06 2.06-.94-2.06-.94-.94-2.06-.94 2.06-2.06.94zm-11 1L8.5 8.5l.94-2.06 2.06-.94-2.06-.94L8.5 2.5l-.94 2.06-2.06.94zm10 10l.94 2.06.94-2.06 2.06-.94-2.06-.94-.94-2.06-.94 2.06-2.06.94z\"/><path d=\"M17.41 7.96l-1.37-1.37c-.4-.4-.92-.59-1.43-.59-.52 0-1.04.2-1.43.59L10.3 9.45l-7.72 7.72c-.78.78-.78 2.05 0 2.83L4 21.41c.39.39.9.59 1.41.59.51 0 1.02-.2 1.41-.59l7.78-7.78 2.81-2.81c.8-.78.8-2.07 0-2.86zM5.41 20L4 18.59l7.72-7.72 1.47 1.35L5.41 20z\"/>\n",
              "  </svg>\n",
              "      </button>\n",
              "      \n",
              "  <style>\n",
              "    .colab-df-container {\n",
              "      display:flex;\n",
              "      flex-wrap:wrap;\n",
              "      gap: 12px;\n",
              "    }\n",
              "\n",
              "    .colab-df-convert {\n",
              "      background-color: #E8F0FE;\n",
              "      border: none;\n",
              "      border-radius: 50%;\n",
              "      cursor: pointer;\n",
              "      display: none;\n",
              "      fill: #1967D2;\n",
              "      height: 32px;\n",
              "      padding: 0 0 0 0;\n",
              "      width: 32px;\n",
              "    }\n",
              "\n",
              "    .colab-df-convert:hover {\n",
              "      background-color: #E2EBFA;\n",
              "      box-shadow: 0px 1px 2px rgba(60, 64, 67, 0.3), 0px 1px 3px 1px rgba(60, 64, 67, 0.15);\n",
              "      fill: #174EA6;\n",
              "    }\n",
              "\n",
              "    [theme=dark] .colab-df-convert {\n",
              "      background-color: #3B4455;\n",
              "      fill: #D2E3FC;\n",
              "    }\n",
              "\n",
              "    [theme=dark] .colab-df-convert:hover {\n",
              "      background-color: #434B5C;\n",
              "      box-shadow: 0px 1px 3px 1px rgba(0, 0, 0, 0.15);\n",
              "      filter: drop-shadow(0px 1px 2px rgba(0, 0, 0, 0.3));\n",
              "      fill: #FFFFFF;\n",
              "    }\n",
              "  </style>\n",
              "\n",
              "      <script>\n",
              "        const buttonEl =\n",
              "          document.querySelector('#df-136b38e8-2fc3-4a85-94ce-307d921a6d20 button.colab-df-convert');\n",
              "        buttonEl.style.display =\n",
              "          google.colab.kernel.accessAllowed ? 'block' : 'none';\n",
              "\n",
              "        async function convertToInteractive(key) {\n",
              "          const element = document.querySelector('#df-136b38e8-2fc3-4a85-94ce-307d921a6d20');\n",
              "          const dataTable =\n",
              "            await google.colab.kernel.invokeFunction('convertToInteractive',\n",
              "                                                     [key], {});\n",
              "          if (!dataTable) return;\n",
              "\n",
              "          const docLinkHtml = 'Like what you see? Visit the ' +\n",
              "            '<a target=\"_blank\" href=https://colab.research.google.com/notebooks/data_table.ipynb>data table notebook</a>'\n",
              "            + ' to learn more about interactive tables.';\n",
              "          element.innerHTML = '';\n",
              "          dataTable['output_type'] = 'display_data';\n",
              "          await google.colab.output.renderOutput(dataTable, element);\n",
              "          const docLink = document.createElement('div');\n",
              "          docLink.innerHTML = docLinkHtml;\n",
              "          element.appendChild(docLink);\n",
              "        }\n",
              "      </script>\n",
              "    </div>\n",
              "  </div>\n",
              "  "
            ]
          },
          "metadata": {},
          "execution_count": 39
        }
      ]
    },
    {
      "metadata": {
        "_cell_guid": "b0a4a24b-f24f-4e5e-9511-ef3a99965192",
        "_uuid": "258fc14a5fcf4a33f7560dba890ddcf6b7eab0e7",
        "trusted": true,
        "colab": {
          "base_uri": "https://localhost:8080/",
          "height": 175
        },
        "id": "lkAfYBrm4SoD",
        "outputId": "86db0700-d870-423b-b4ed-a2aa38cedb41"
      },
      "cell_type": "code",
      "source": [
        "liver_df[['Gender', 'Outcome','Age']].groupby(['Outcome','Gender'], as_index=False).mean().sort_values(by='Outcome', ascending=False)"
      ],
      "execution_count": 40,
      "outputs": [
        {
          "output_type": "execute_result",
          "data": {
            "text/plain": [
              "   Outcome  Gender        Age\n",
              "2        2  Female  42.740000\n",
              "3        2    Male  40.598291\n",
              "0        1  Female  43.347826\n",
              "1        1    Male  46.950617"
            ],
            "text/html": [
              "\n",
              "  <div id=\"df-eaf84699-9e31-40a7-b687-4d70232d1f0a\">\n",
              "    <div class=\"colab-df-container\">\n",
              "      <div>\n",
              "<style scoped>\n",
              "    .dataframe tbody tr th:only-of-type {\n",
              "        vertical-align: middle;\n",
              "    }\n",
              "\n",
              "    .dataframe tbody tr th {\n",
              "        vertical-align: top;\n",
              "    }\n",
              "\n",
              "    .dataframe thead th {\n",
              "        text-align: right;\n",
              "    }\n",
              "</style>\n",
              "<table border=\"1\" class=\"dataframe\">\n",
              "  <thead>\n",
              "    <tr style=\"text-align: right;\">\n",
              "      <th></th>\n",
              "      <th>Outcome</th>\n",
              "      <th>Gender</th>\n",
              "      <th>Age</th>\n",
              "    </tr>\n",
              "  </thead>\n",
              "  <tbody>\n",
              "    <tr>\n",
              "      <th>2</th>\n",
              "      <td>2</td>\n",
              "      <td>Female</td>\n",
              "      <td>42.740000</td>\n",
              "    </tr>\n",
              "    <tr>\n",
              "      <th>3</th>\n",
              "      <td>2</td>\n",
              "      <td>Male</td>\n",
              "      <td>40.598291</td>\n",
              "    </tr>\n",
              "    <tr>\n",
              "      <th>0</th>\n",
              "      <td>1</td>\n",
              "      <td>Female</td>\n",
              "      <td>43.347826</td>\n",
              "    </tr>\n",
              "    <tr>\n",
              "      <th>1</th>\n",
              "      <td>1</td>\n",
              "      <td>Male</td>\n",
              "      <td>46.950617</td>\n",
              "    </tr>\n",
              "  </tbody>\n",
              "</table>\n",
              "</div>\n",
              "      <button class=\"colab-df-convert\" onclick=\"convertToInteractive('df-eaf84699-9e31-40a7-b687-4d70232d1f0a')\"\n",
              "              title=\"Convert this dataframe to an interactive table.\"\n",
              "              style=\"display:none;\">\n",
              "        \n",
              "  <svg xmlns=\"http://www.w3.org/2000/svg\" height=\"24px\"viewBox=\"0 0 24 24\"\n",
              "       width=\"24px\">\n",
              "    <path d=\"M0 0h24v24H0V0z\" fill=\"none\"/>\n",
              "    <path d=\"M18.56 5.44l.94 2.06.94-2.06 2.06-.94-2.06-.94-.94-2.06-.94 2.06-2.06.94zm-11 1L8.5 8.5l.94-2.06 2.06-.94-2.06-.94L8.5 2.5l-.94 2.06-2.06.94zm10 10l.94 2.06.94-2.06 2.06-.94-2.06-.94-.94-2.06-.94 2.06-2.06.94z\"/><path d=\"M17.41 7.96l-1.37-1.37c-.4-.4-.92-.59-1.43-.59-.52 0-1.04.2-1.43.59L10.3 9.45l-7.72 7.72c-.78.78-.78 2.05 0 2.83L4 21.41c.39.39.9.59 1.41.59.51 0 1.02-.2 1.41-.59l7.78-7.78 2.81-2.81c.8-.78.8-2.07 0-2.86zM5.41 20L4 18.59l7.72-7.72 1.47 1.35L5.41 20z\"/>\n",
              "  </svg>\n",
              "      </button>\n",
              "      \n",
              "  <style>\n",
              "    .colab-df-container {\n",
              "      display:flex;\n",
              "      flex-wrap:wrap;\n",
              "      gap: 12px;\n",
              "    }\n",
              "\n",
              "    .colab-df-convert {\n",
              "      background-color: #E8F0FE;\n",
              "      border: none;\n",
              "      border-radius: 50%;\n",
              "      cursor: pointer;\n",
              "      display: none;\n",
              "      fill: #1967D2;\n",
              "      height: 32px;\n",
              "      padding: 0 0 0 0;\n",
              "      width: 32px;\n",
              "    }\n",
              "\n",
              "    .colab-df-convert:hover {\n",
              "      background-color: #E2EBFA;\n",
              "      box-shadow: 0px 1px 2px rgba(60, 64, 67, 0.3), 0px 1px 3px 1px rgba(60, 64, 67, 0.15);\n",
              "      fill: #174EA6;\n",
              "    }\n",
              "\n",
              "    [theme=dark] .colab-df-convert {\n",
              "      background-color: #3B4455;\n",
              "      fill: #D2E3FC;\n",
              "    }\n",
              "\n",
              "    [theme=dark] .colab-df-convert:hover {\n",
              "      background-color: #434B5C;\n",
              "      box-shadow: 0px 1px 3px 1px rgba(0, 0, 0, 0.15);\n",
              "      filter: drop-shadow(0px 1px 2px rgba(0, 0, 0, 0.3));\n",
              "      fill: #FFFFFF;\n",
              "    }\n",
              "  </style>\n",
              "\n",
              "      <script>\n",
              "        const buttonEl =\n",
              "          document.querySelector('#df-eaf84699-9e31-40a7-b687-4d70232d1f0a button.colab-df-convert');\n",
              "        buttonEl.style.display =\n",
              "          google.colab.kernel.accessAllowed ? 'block' : 'none';\n",
              "\n",
              "        async function convertToInteractive(key) {\n",
              "          const element = document.querySelector('#df-eaf84699-9e31-40a7-b687-4d70232d1f0a');\n",
              "          const dataTable =\n",
              "            await google.colab.kernel.invokeFunction('convertToInteractive',\n",
              "                                                     [key], {});\n",
              "          if (!dataTable) return;\n",
              "\n",
              "          const docLinkHtml = 'Like what you see? Visit the ' +\n",
              "            '<a target=\"_blank\" href=https://colab.research.google.com/notebooks/data_table.ipynb>data table notebook</a>'\n",
              "            + ' to learn more about interactive tables.';\n",
              "          element.innerHTML = '';\n",
              "          dataTable['output_type'] = 'display_data';\n",
              "          await google.colab.output.renderOutput(dataTable, element);\n",
              "          const docLink = document.createElement('div');\n",
              "          docLink.innerHTML = docLinkHtml;\n",
              "          element.appendChild(docLink);\n",
              "        }\n",
              "      </script>\n",
              "    </div>\n",
              "  </div>\n",
              "  "
            ]
          },
          "metadata": {},
          "execution_count": 40
        }
      ]
    },
    {
      "metadata": {
        "_cell_guid": "d5bd9ed4-6d96-4893-bbf4-795ab25d2c3a",
        "_uuid": "6c3f4fefb376a5f538b90e1cf47ee6bc6abb5e70",
        "trusted": true,
        "colab": {
          "base_uri": "https://localhost:8080/",
          "height": 443
        },
        "id": "nuXYhtW14SoE",
        "outputId": "eb9a0691-8bef-43b8-9533-d19218664679"
      },
      "cell_type": "code",
      "source": [
        "g = sns.FacetGrid(liver_df, col=\"Outcome\", row=\"Gender\", margin_titles=True)\n",
        "g.map(plt.hist, \"Age\", color=\"red\")\n",
        "plt.subplots_adjust(top=0.9)\n",
        "g.fig.suptitle('Disease by Gender and Age');"
      ],
      "execution_count": 41,
      "outputs": [
        {
          "output_type": "display_data",
          "data": {
            "text/plain": [
              "<Figure size 432x432 with 4 Axes>"
            ],
            "image/png": "[encoded data removed]"
          },
          "metadata": {
            "needs_background": "light"
          }
        }
      ]
    },
    {
      "metadata": {
        "_cell_guid": "67d473ed-ea9c-41f2-a3f0-204ef4f0ec97",
        "_uuid": "c49b4d8c56d507f819b413686e38560c26310d9f",
        "trusted": true,
        "colab": {
          "base_uri": "https://localhost:8080/",
          "height": 423
        },
        "id": "2izdLdIk4SoE",
        "outputId": "c2f5dfbd-c200-4c7f-ef79-05ff4ac58749"
      },
      "cell_type": "code",
      "source": [
        "g = sns.FacetGrid(liver_df, col=\"Gender\", row=\"Outcome\", margin_titles=True)\n",
        "g.map(plt.scatter,\"Direct_Bilirubin\", \"Total_Bilirubin\", edgecolor=\"w\")\n",
        "plt.subplots_adjust(top=0.9)"
      ],
      "execution_count": 42,
      "outputs": [
        {
          "output_type": "display_data",
          "data": {
            "text/plain": [
              "<Figure size 432x432 with 4 Axes>"
            ],
            "image/png": "[encoded data removed]"
          },
          "metadata": {
            "needs_background": "light"
          }
        }
      ]
    },
    {
      "metadata": {
        "_cell_guid": "bed3776c-37d8-46a5-a0e2-c9a3aca3b873",
        "_uuid": "79b749d653ba9554007543a8d72f9f74ed5e3332",
        "id": "-ewtMMb34SoE"
      },
      "cell_type": "markdown",
      "source": [
        "There seems to be direct relationship between Total_Bilirubin and Direct_Bilirubin. We have the possibility of removing one of this feature."
      ]
    },
    {
      "metadata": {
        "_cell_guid": "698b86f0-9f90-44e4-a455-4e544665e0de",
        "_uuid": "46347f3bba50466b2398940b3c975188474723d6",
        "trusted": true,
        "colab": {
          "base_uri": "https://localhost:8080/",
          "height": 513
        },
        "id": "vw0XTjJg4SoF",
        "outputId": "cf71e0e8-6c8d-4420-bcc9-27f77e74869c"
      },
      "cell_type": "code",
      "source": [
        "sns.jointplot(\"Total_Bilirubin\", \"Direct_Bilirubin\", data=liver_df, kind=\"reg\")"
      ],
      "execution_count": 43,
      "outputs": [
        {
          "output_type": "stream",
          "name": "stderr",
          "text": [
            "/usr/local/lib/python3.7/dist-packages/seaborn/_decorators.py:43: FutureWarning: Pass the following variables as keyword args: x, y. From version 0.12, the only valid positional argument will be `data`, and passing other arguments without an explicit keyword will result in an error or misinterpretation.\n",
            "  FutureWarning\n"
          ]
        },
        {
          "output_type": "execute_result",
          "data": {
            "text/plain": [
              "<seaborn.axisgrid.JointGrid at 0x7f855876eb10>"
            ]
          },
          "metadata": {},
          "execution_count": 43
        },
        {
          "output_type": "display_data",
          "data": {
            "text/plain": [
              "<Figure size 432x432 with 3 Axes>"
            ],
            "image/png": "[encoded data removed]"
          },
          "metadata": {
            "needs_background": "light"
          }
        }
      ]
    },
    {
      "metadata": {
        "_cell_guid": "0e313f91-b5e0-437c-8496-583dc84b86df",
        "_uuid": "2f0eef12382e1bdfb8f25881a8e91e6017e13e94",
        "trusted": true,
        "colab": {
          "base_uri": "https://localhost:8080/",
          "height": 423
        },
        "id": "PsRiGU6W4SoF",
        "outputId": "37bb7ffd-41e9-4477-fcef-acc560d7447a"
      },
      "cell_type": "code",
      "source": [
        "g = sns.FacetGrid(liver_df, col=\"Gender\", row=\"Outcome\", margin_titles=True)\n",
        "g.map(plt.scatter,\"Aspartate_Aminotransferase\", \"Alamine_Aminotransferase\",  edgecolor=\"w\")\n",
        "plt.subplots_adjust(top=0.9)"
      ],
      "execution_count": 44,
      "outputs": [
        {
          "output_type": "display_data",
          "data": {
            "text/plain": [
              "<Figure size 432x432 with 4 Axes>"
            ],
            "image/png": "[encoded data removed]"
          },
          "metadata": {
            "needs_background": "light"
          }
        }
      ]
    },
    {
      "metadata": {
        "_cell_guid": "ff7fe013-f0a1-4489-ba53-576807d6feed",
        "_uuid": "e501b5d2dd39ff930376992e9d97c3b991a38d2a",
        "id": "mBxXhnD94SoF"
      },
      "cell_type": "markdown",
      "source": [
        "There is linear relationship between Aspartate_Aminotransferase and Alamine_Aminotransferase and the gender. We have the possibility of removing one of this feature."
      ]
    },
    {
      "metadata": {
        "_cell_guid": "7d71e81c-f7e3-48f6-aba7-fce8c071df3b",
        "_uuid": "065ebcad6c036771378419b1d4a4e92767eaeaa8",
        "trusted": true,
        "colab": {
          "base_uri": "https://localhost:8080/",
          "height": 513
        },
        "id": "wMtPSZnC4SoF",
        "outputId": "4846c655-3a2e-4422-b2b0-681157416fea"
      },
      "cell_type": "code",
      "source": [
        "sns.jointplot(\"Aspartate_Aminotransferase\", \"Alamine_Aminotransferase\", data=liver_df, kind=\"reg\")"
      ],
      "execution_count": 45,
      "outputs": [
        {
          "output_type": "stream",
          "name": "stderr",
          "text": [
            "/usr/local/lib/python3.7/dist-packages/seaborn/_decorators.py:43: FutureWarning: Pass the following variables as keyword args: x, y. From version 0.12, the only valid positional argument will be `data`, and passing other arguments without an explicit keyword will result in an error or misinterpretation.\n",
            "  FutureWarning\n"
          ]
        },
        {
          "output_type": "execute_result",
          "data": {
            "text/plain": [
              "<seaborn.axisgrid.JointGrid at 0x7f8558863350>"
            ]
          },
          "metadata": {},
          "execution_count": 45
        },
        {
          "output_type": "display_data",
          "data": {
            "text/plain": [
              "<Figure size 432x432 with 3 Axes>"
            ],
            "image/png": "[encoded data removed]"
          },
          "metadata": {
            "needs_background": "light"
          }
        }
      ]
    },
    {
      "metadata": {
        "_cell_guid": "dc59414a-bbea-4dfd-b160-9c4b9bc441b5",
        "_uuid": "913a7c6227545ad9f1802df2d74ab2dac51574c0",
        "trusted": true,
        "colab": {
          "base_uri": "https://localhost:8080/",
          "height": 423
        },
        "id": "AdvWeofH4SoF",
        "outputId": "d73dd23f-b9d2-424c-bac8-371e3fab6d8b"
      },
      "cell_type": "code",
      "source": [
        "g = sns.FacetGrid(liver_df, col=\"Gender\", row=\"Outcome\", margin_titles=True)\n",
        "g.map(plt.scatter,\"Alkaline_Phosphotase\", \"Alamine_Aminotransferase\",  edgecolor=\"w\")\n",
        "plt.subplots_adjust(top=0.9)"
      ],
      "execution_count": 46,
      "outputs": [
        {
          "output_type": "display_data",
          "data": {
            "text/plain": [
              "<Figure size 432x432 with 4 Axes>"
            ],
            "image/png": "[encoded data removed]"
          },
          "metadata": {
            "needs_background": "light"
          }
        }
      ]
    },
    {
      "metadata": {
        "_cell_guid": "da7eef26-8d4a-4c05-9c80-570b11499bc9",
        "_uuid": "21739cb6eaf4ac688108a1806ac71cb940071493",
        "trusted": true,
        "colab": {
          "base_uri": "https://localhost:8080/",
          "height": 513
        },
        "id": "DWEHcF3E4SoF",
        "outputId": "76a82723-04ff-4008-8b77-af6d9b65d7fe"
      },
      "cell_type": "code",
      "source": [
        "sns.jointplot(\"Alkaline_Phosphotase\", \"Alamine_Aminotransferase\", data=liver_df, kind=\"reg\")"
      ],
      "execution_count": 47,
      "outputs": [
        {
          "output_type": "stream",
          "name": "stderr",
          "text": [
            "/usr/local/lib/python3.7/dist-packages/seaborn/_decorators.py:43: FutureWarning: Pass the following variables as keyword args: x, y. From version 0.12, the only valid positional argument will be `data`, and passing other arguments without an explicit keyword will result in an error or misinterpretation.\n",
            "  FutureWarning\n"
          ]
        },
        {
          "output_type": "execute_result",
          "data": {
            "text/plain": [
              "<seaborn.axisgrid.JointGrid at 0x7f855818e650>"
            ]
          },
          "metadata": {},
          "execution_count": 47
        },
        {
          "output_type": "display_data",
          "data": {
            "text/plain": [
              "<Figure size 432x432 with 3 Axes>"
            ],
            "image/png": "[encoded data removed]"
          },
          "metadata": {
            "needs_background": "light"
          }
        }
      ]
    },
    {
      "metadata": {
        "_cell_guid": "8269092e-f173-446f-aaaa-257b75d15633",
        "_uuid": "2b63345e2bb199ede233e177754ee5347d0350db",
        "id": "CoJ7XEke4SoG"
      },
      "cell_type": "markdown",
      "source": [
        "No linear correlation between Alkaline_Phosphotase and Alamine_Aminotransferase"
      ]
    },
    {
      "metadata": {
        "_cell_guid": "9d767027-3dda-43aa-8cc1-f908d631d992",
        "_uuid": "716befce65e13a87415987a9885eb36f977be73e",
        "trusted": true,
        "colab": {
          "base_uri": "https://localhost:8080/",
          "height": 423
        },
        "id": "KwkxitJG4SoG",
        "outputId": "31b5fc48-d306-4391-9221-fe9da8f285a1"
      },
      "cell_type": "code",
      "source": [
        "g = sns.FacetGrid(liver_df, col=\"Gender\", row=\"Outcome\", margin_titles=True)\n",
        "g.map(plt.scatter,\"Total_Protiens\", \"Albumin\",  edgecolor=\"w\")\n",
        "plt.subplots_adjust(top=0.9)"
      ],
      "execution_count": 48,
      "outputs": [
        {
          "output_type": "display_data",
          "data": {
            "text/plain": [
              "<Figure size 432x432 with 4 Axes>"
            ],
            "image/png": "[encoded data removed]"
          },
          "metadata": {
            "needs_background": "light"
          }
        }
      ]
    },
    {
      "metadata": {
        "_cell_guid": "cd3415c5-e60a-45dc-a9ce-6e33561715ea",
        "_uuid": "2d09fb0a3ec7978315959d87667cd068b2e10e02",
        "id": "1MLIjEsm4SoG"
      },
      "cell_type": "markdown",
      "source": [
        "There is linear relationship between Total_Protiens and Albumin and the gender. We have the possibility of removing one of this feature."
      ]
    },
    {
      "metadata": {
        "_cell_guid": "b18f4c6f-7742-4edd-a0d3-be517b953d35",
        "_uuid": "58a74e764ac2bb213ef0701846ca66123a89b946",
        "trusted": true,
        "colab": {
          "base_uri": "https://localhost:8080/",
          "height": 513
        },
        "id": "Oha3e-vZ4SoG",
        "outputId": "e061d37b-04e3-4733-eb41-f22ee2e29301"
      },
      "cell_type": "code",
      "source": [
        "sns.jointplot(\"Total_Protiens\", \"Albumin\", data=liver_df, kind=\"reg\")"
      ],
      "execution_count": 49,
      "outputs": [
        {
          "output_type": "stream",
          "name": "stderr",
          "text": [
            "/usr/local/lib/python3.7/dist-packages/seaborn/_decorators.py:43: FutureWarning: Pass the following variables as keyword args: x, y. From version 0.12, the only valid positional argument will be `data`, and passing other arguments without an explicit keyword will result in an error or misinterpretation.\n",
            "  FutureWarning\n"
          ]
        },
        {
          "output_type": "execute_result",
          "data": {
            "text/plain": [
              "<seaborn.axisgrid.JointGrid at 0x7f8559259e90>"
            ]
          },
          "metadata": {},
          "execution_count": 49
        },
        {
          "output_type": "display_data",
          "data": {
            "text/plain": [
              "<Figure size 432x432 with 3 Axes>"
            ],
            "image/png": "[encoded data removed]"
          },
          "metadata": {
            "needs_background": "light"
          }
        }
      ]
    },
    {
      "metadata": {
        "_cell_guid": "c2f9376c-218b-458c-9ef9-0246f7f30c6f",
        "_uuid": "d64847416d1a611e041aed536b5391565a1e247b",
        "trusted": true,
        "colab": {
          "base_uri": "https://localhost:8080/",
          "height": 423
        },
        "id": "W9h3gUBt4SoG",
        "outputId": "661e278b-ebdf-4885-93fb-2f9598eab3dd"
      },
      "cell_type": "code",
      "source": [
        "g = sns.FacetGrid(liver_df, col=\"Gender\", row=\"Outcome\", margin_titles=True)\n",
        "g.map(plt.scatter,\"Albumin\", \"Albumin_and_Globulin_Ratio\",  edgecolor=\"w\")\n",
        "plt.subplots_adjust(top=0.9)"
      ],
      "execution_count": 50,
      "outputs": [
        {
          "output_type": "display_data",
          "data": {
            "text/plain": [
              "<Figure size 432x432 with 4 Axes>"
            ],
            "image/png": "[encoded data removed]"
          },
          "metadata": {
            "needs_background": "light"
          }
        }
      ]
    },
    {
      "metadata": {
        "_cell_guid": "b82e75f5-f87c-4788-bd96-3608b9066cb0",
        "_uuid": "e1acbd8a2f18bad8f794a2a08b300a6c1aae935a",
        "id": "G4YkxAvi4SoG"
      },
      "cell_type": "markdown",
      "source": [
        "There is linear relationship between Albumin_and_Globulin_Ratio and Albumin. We have the possibility of removing one of this feature."
      ]
    },
    {
      "metadata": {
        "_cell_guid": "7d80b0d8-1fa0-47ef-9667-9e1621752d9b",
        "_uuid": "84126004350eca1fad4180dd154d301bdc2c1c9e",
        "trusted": true,
        "colab": {
          "base_uri": "https://localhost:8080/",
          "height": 513
        },
        "id": "pzxT1JLq4SoH",
        "outputId": "f087261e-344a-40f6-91fd-49c2399cfdac"
      },
      "cell_type": "code",
      "source": [
        "sns.jointplot(\"Albumin_and_Globulin_Ratio\", \"Albumin\", data=liver_df, kind=\"reg\")"
      ],
      "execution_count": 51,
      "outputs": [
        {
          "output_type": "stream",
          "name": "stderr",
          "text": [
            "/usr/local/lib/python3.7/dist-packages/seaborn/_decorators.py:43: FutureWarning: Pass the following variables as keyword args: x, y. From version 0.12, the only valid positional argument will be `data`, and passing other arguments without an explicit keyword will result in an error or misinterpretation.\n",
            "  FutureWarning\n"
          ]
        },
        {
          "output_type": "execute_result",
          "data": {
            "text/plain": [
              "<seaborn.axisgrid.JointGrid at 0x7f8557a7cb10>"
            ]
          },
          "metadata": {},
          "execution_count": 51
        },
        {
          "output_type": "display_data",
          "data": {
            "text/plain": [
              "<Figure size 432x432 with 3 Axes>"
            ],
            "image/png": "[encoded data removed]"
          },
          "metadata": {
            "needs_background": "light"
          }
        }
      ]
    },
    {
      "metadata": {
        "_cell_guid": "820ae8a1-03b8-4cc5-8135-84d631f49fad",
        "_uuid": "2f564e383e82994d7710f13b5cf94023486af391",
        "trusted": true,
        "colab": {
          "base_uri": "https://localhost:8080/",
          "height": 423
        },
        "id": "lhgOiOaC4SoH",
        "outputId": "ddfb2200-93b9-4436-a2a8-2176a6fb7b4e"
      },
      "cell_type": "code",
      "source": [
        "g = sns.FacetGrid(liver_df, col=\"Gender\", row=\"Outcome\", margin_titles=True)\n",
        "g.map(plt.scatter,\"Albumin_and_Globulin_Ratio\", \"Total_Protiens\",  edgecolor=\"w\")\n",
        "plt.subplots_adjust(top=0.9)"
      ],
      "execution_count": 52,
      "outputs": [
        {
          "output_type": "display_data",
          "data": {
            "text/plain": [
              "<Figure size 432x432 with 4 Axes>"
            ],
            "image/png": "[encoded data removed]"
          },
          "metadata": {
            "needs_background": "light"
          }
        }
      ]
    },
    {
      "metadata": {
        "_cell_guid": "79d7d365-9eab-453e-adc1-97b02461c8a1",
        "_uuid": "730a2d0a33cdb3db4ec8e783dbc9e03470af1f4f",
        "id": "09xZqYuX4SoH"
      },
      "cell_type": "markdown",
      "source": [
        "# Observation:"
      ]
    },
    {
      "metadata": {
        "_cell_guid": "824ec774-42ef-4fad-849f-82893dd03849",
        "_uuid": "5b9a21eded807cc989db8eab46435ee77bc74e50",
        "id": "Qv_MdNWq4SoH"
      },
      "cell_type": "markdown",
      "source": [
        "From the above jointplots and scatterplots, we find direct relationship between the following features:  \n",
        "Direct_Bilirubin & Total_Bilirubin  \n",
        "Aspartate_Aminotransferase & Alamine_Aminotransferase  \n",
        "Total_Protiens & Albumin  \n",
        "Albumin_and_Globulin_Ratio & Albumin  \n",
        "\n",
        "Hence, we can very well find that we can omit one of the features. I'm going to keep the follwing features:  \n",
        "Total_Bilirubin  \n",
        "Alamine_Aminotransferase  \n",
        "Total_Protiens  \n",
        "Albumin_and_Globulin_Ratio  \n",
        "Albumin  "
      ]
    },
    {
      "metadata": {
        "_cell_guid": "af447fa3-486a-4c9f-a0bb-143d240a8b41",
        "_uuid": "6b2c57a7dc86c5a48f4749fb0ff55f76bf1ce2c1",
        "trusted": true,
        "colab": {
          "base_uri": "https://localhost:8080/",
          "height": 207
        },
        "id": "XAbwmkas4SoH",
        "outputId": "64f0bd72-a422-4128-facd-a47dc91e0657"
      },
      "cell_type": "code",
      "source": [
        "liver_df.head(3)"
      ],
      "execution_count": 53,
      "outputs": [
        {
          "output_type": "execute_result",
          "data": {
            "text/plain": [
              "   Age  Gender  Total_Bilirubin  Direct_Bilirubin  Alkaline_Phosphotase  \\\n",
              "0   65  Female              0.7               0.1                   187   \n",
              "1   62    Male             10.9               5.5                   699   \n",
              "2   62    Male              7.3               4.1                   490   \n",
              "\n",
              "   Alamine_Aminotransferase  Aspartate_Aminotransferase  Total_Protiens  \\\n",
              "0                        16                          18             6.8   \n",
              "1                        64                         100             7.5   \n",
              "2                        60                          68             7.0   \n",
              "\n",
              "   Albumin  Albumin_and_Globulin_Ratio  Outcome  \n",
              "0      3.3                        0.90        1  \n",
              "1      3.2                        0.74        1  \n",
              "2      3.3                        0.89        1  "
            ],
            "text/html": [
              "\n",
              "  <div id=\"df-16a4f1a4-fca9-403c-95bd-bda5c3b59631\">\n",
              "    <div class=\"colab-df-container\">\n",
              "      <div>\n",
              "<style scoped>\n",
              "    .dataframe tbody tr th:only-of-type {\n",
              "        vertical-align: middle;\n",
              "    }\n",
              "\n",
              "    .dataframe tbody tr th {\n",
              "        vertical-align: top;\n",
              "    }\n",
              "\n",
              "    .dataframe thead th {\n",
              "        text-align: right;\n",
              "    }\n",
              "</style>\n",
              "<table border=\"1\" class=\"dataframe\">\n",
              "  <thead>\n",
              "    <tr style=\"text-align: right;\">\n",
              "      <th></th>\n",
              "      <th>Age</th>\n",
              "      <th>Gender</th>\n",
              "      <th>Total_Bilirubin</th>\n",
              "      <th>Direct_Bilirubin</th>\n",
              "      <th>Alkaline_Phosphotase</th>\n",
              "      <th>Alamine_Aminotransferase</th>\n",
              "      <th>Aspartate_Aminotransferase</th>\n",
              "      <th>Total_Protiens</th>\n",
              "      <th>Albumin</th>\n",
              "      <th>Albumin_and_Globulin_Ratio</th>\n",
              "      <th>Outcome</th>\n",
              "    </tr>\n",
              "  </thead>\n",
              "  <tbody>\n",
              "    <tr>\n",
              "      <th>0</th>\n",
              "      <td>65</td>\n",
              "      <td>Female</td>\n",
              "      <td>0.7</td>\n",
              "      <td>0.1</td>\n",
              "      <td>187</td>\n",
              "      <td>16</td>\n",
              "      <td>18</td>\n",
              "      <td>6.8</td>\n",
              "      <td>3.3</td>\n",
              "      <td>0.90</td>\n",
              "      <td>1</td>\n",
              "    </tr>\n",
              "    <tr>\n",
              "      <th>1</th>\n",
              "      <td>62</td>\n",
              "      <td>Male</td>\n",
              "      <td>10.9</td>\n",
              "      <td>5.5</td>\n",
              "      <td>699</td>\n",
              "      <td>64</td>\n",
              "      <td>100</td>\n",
              "      <td>7.5</td>\n",
              "      <td>3.2</td>\n",
              "      <td>0.74</td>\n",
              "      <td>1</td>\n",
              "    </tr>\n",
              "    <tr>\n",
              "      <th>2</th>\n",
              "      <td>62</td>\n",
              "      <td>Male</td>\n",
              "      <td>7.3</td>\n",
              "      <td>4.1</td>\n",
              "      <td>490</td>\n",
              "      <td>60</td>\n",
              "      <td>68</td>\n",
              "      <td>7.0</td>\n",
              "      <td>3.3</td>\n",
              "      <td>0.89</td>\n",
              "      <td>1</td>\n",
              "    </tr>\n",
              "  </tbody>\n",
              "</table>\n",
              "</div>\n",
              "      <button class=\"colab-df-convert\" onclick=\"convertToInteractive('df-16a4f1a4-fca9-403c-95bd-bda5c3b59631')\"\n",
              "              title=\"Convert this dataframe to an interactive table.\"\n",
              "              style=\"display:none;\">\n",
              "        \n",
              "  <svg xmlns=\"http://www.w3.org/2000/svg\" height=\"24px\"viewBox=\"0 0 24 24\"\n",
              "       width=\"24px\">\n",
              "    <path d=\"M0 0h24v24H0V0z\" fill=\"none\"/>\n",
              "    <path d=\"M18.56 5.44l.94 2.06.94-2.06 2.06-.94-2.06-.94-.94-2.06-.94 2.06-2.06.94zm-11 1L8.5 8.5l.94-2.06 2.06-.94-2.06-.94L8.5 2.5l-.94 2.06-2.06.94zm10 10l.94 2.06.94-2.06 2.06-.94-2.06-.94-.94-2.06-.94 2.06-2.06.94z\"/><path d=\"M17.41 7.96l-1.37-1.37c-.4-.4-.92-.59-1.43-.59-.52 0-1.04.2-1.43.59L10.3 9.45l-7.72 7.72c-.78.78-.78 2.05 0 2.83L4 21.41c.39.39.9.59 1.41.59.51 0 1.02-.2 1.41-.59l7.78-7.78 2.81-2.81c.8-.78.8-2.07 0-2.86zM5.41 20L4 18.59l7.72-7.72 1.47 1.35L5.41 20z\"/>\n",
              "  </svg>\n",
              "      </button>\n",
              "      \n",
              "  <style>\n",
              "    .colab-df-container {\n",
              "      display:flex;\n",
              "      flex-wrap:wrap;\n",
              "      gap: 12px;\n",
              "    }\n",
              "\n",
              "    .colab-df-convert {\n",
              "      background-color: #E8F0FE;\n",
              "      border: none;\n",
              "      border-radius: 50%;\n",
              "      cursor: pointer;\n",
              "      display: none;\n",
              "      fill: #1967D2;\n",
              "      height: 32px;\n",
              "      padding: 0 0 0 0;\n",
              "      width: 32px;\n",
              "    }\n",
              "\n",
              "    .colab-df-convert:hover {\n",
              "      background-color: #E2EBFA;\n",
              "      box-shadow: 0px 1px 2px rgba(60, 64, 67, 0.3), 0px 1px 3px 1px rgba(60, 64, 67, 0.15);\n",
              "      fill: #174EA6;\n",
              "    }\n",
              "\n",
              "    [theme=dark] .colab-df-convert {\n",
              "      background-color: #3B4455;\n",
              "      fill: #D2E3FC;\n",
              "    }\n",
              "\n",
              "    [theme=dark] .colab-df-convert:hover {\n",
              "      background-color: #434B5C;\n",
              "      box-shadow: 0px 1px 3px 1px rgba(0, 0, 0, 0.15);\n",
              "      filter: drop-shadow(0px 1px 2px rgba(0, 0, 0, 0.3));\n",
              "      fill: #FFFFFF;\n",
              "    }\n",
              "  </style>\n",
              "\n",
              "      <script>\n",
              "        const buttonEl =\n",
              "          document.querySelector('#df-16a4f1a4-fca9-403c-95bd-bda5c3b59631 button.colab-df-convert');\n",
              "        buttonEl.style.display =\n",
              "          google.colab.kernel.accessAllowed ? 'block' : 'none';\n",
              "\n",
              "        async function convertToInteractive(key) {\n",
              "          const element = document.querySelector('#df-16a4f1a4-fca9-403c-95bd-bda5c3b59631');\n",
              "          const dataTable =\n",
              "            await google.colab.kernel.invokeFunction('convertToInteractive',\n",
              "                                                     [key], {});\n",
              "          if (!dataTable) return;\n",
              "\n",
              "          const docLinkHtml = 'Like what you see? Visit the ' +\n",
              "            '<a target=\"_blank\" href=https://colab.research.google.com/notebooks/data_table.ipynb>data table notebook</a>'\n",
              "            + ' to learn more about interactive tables.';\n",
              "          element.innerHTML = '';\n",
              "          dataTable['output_type'] = 'display_data';\n",
              "          await google.colab.output.renderOutput(dataTable, element);\n",
              "          const docLink = document.createElement('div');\n",
              "          docLink.innerHTML = docLinkHtml;\n",
              "          element.appendChild(docLink);\n",
              "        }\n",
              "      </script>\n",
              "    </div>\n",
              "  </div>\n",
              "  "
            ]
          },
          "metadata": {},
          "execution_count": 53
        }
      ]
    },
    {
      "metadata": {
        "_cell_guid": "e1bd4a7c-ee90-480d-89d4-981ab14ad59f",
        "_uuid": "de6437c17e7114936ceaafcf2c292cd8660391f0",
        "id": "oW6imwxc4SoI"
      },
      "cell_type": "markdown",
      "source": [
        "Convert categorical variable \"Gender\" to indicator variables"
      ]
    },
    {
      "metadata": {
        "_cell_guid": "21a8680c-ee95-4943-97a4-699a6936683a",
        "_uuid": "e3eda36cb69d136d9f05502abae8760acf45349d",
        "trusted": true,
        "colab": {
          "base_uri": "https://localhost:8080/",
          "height": 206
        },
        "id": "C9nQN2gP4SoI",
        "outputId": "0312fd05-2f1f-4f88-a622-fa3add44b92e"
      },
      "cell_type": "code",
      "source": [
        "pd.get_dummies(liver_df['Gender'], prefix = 'Gender').head()"
      ],
      "execution_count": 54,
      "outputs": [
        {
          "output_type": "execute_result",
          "data": {
            "text/plain": [
              "   Gender_Female  Gender_Male\n",
              "0              1            0\n",
              "1              0            1\n",
              "2              0            1\n",
              "3              0            1\n",
              "4              0            1"
            ],
            "text/html": [
              "\n",
              "  <div id=\"df-0f65aae4-dc25-4d83-8af3-68879fd76095\">\n",
              "    <div class=\"colab-df-container\">\n",
              "      <div>\n",
              "<style scoped>\n",
              "    .dataframe tbody tr th:only-of-type {\n",
              "        vertical-align: middle;\n",
              "    }\n",
              "\n",
              "    .dataframe tbody tr th {\n",
              "        vertical-align: top;\n",
              "    }\n",
              "\n",
              "    .dataframe thead th {\n",
              "        text-align: right;\n",
              "    }\n",
              "</style>\n",
              "<table border=\"1\" class=\"dataframe\">\n",
              "  <thead>\n",
              "    <tr style=\"text-align: right;\">\n",
              "      <th></th>\n",
              "      <th>Gender_Female</th>\n",
              "      <th>Gender_Male</th>\n",
              "    </tr>\n",
              "  </thead>\n",
              "  <tbody>\n",
              "    <tr>\n",
              "      <th>0</th>\n",
              "      <td>1</td>\n",
              "      <td>0</td>\n",
              "    </tr>\n",
              "    <tr>\n",
              "      <th>1</th>\n",
              "      <td>0</td>\n",
              "      <td>1</td>\n",
              "    </tr>\n",
              "    <tr>\n",
              "      <th>2</th>\n",
              "      <td>0</td>\n",
              "      <td>1</td>\n",
              "    </tr>\n",
              "    <tr>\n",
              "      <th>3</th>\n",
              "      <td>0</td>\n",
              "      <td>1</td>\n",
              "    </tr>\n",
              "    <tr>\n",
              "      <th>4</th>\n",
              "      <td>0</td>\n",
              "      <td>1</td>\n",
              "    </tr>\n",
              "  </tbody>\n",
              "</table>\n",
              "</div>\n",
              "      <button class=\"colab-df-convert\" onclick=\"convertToInteractive('df-0f65aae4-dc25-4d83-8af3-68879fd76095')\"\n",
              "              title=\"Convert this dataframe to an interactive table.\"\n",
              "              style=\"display:none;\">\n",
              "        \n",
              "  <svg xmlns=\"http://www.w3.org/2000/svg\" height=\"24px\"viewBox=\"0 0 24 24\"\n",
              "       width=\"24px\">\n",
              "    <path d=\"M0 0h24v24H0V0z\" fill=\"none\"/>\n",
              "    <path d=\"M18.56 5.44l.94 2.06.94-2.06 2.06-.94-2.06-.94-.94-2.06-.94 2.06-2.06.94zm-11 1L8.5 8.5l.94-2.06 2.06-.94-2.06-.94L8.5 2.5l-.94 2.06-2.06.94zm10 10l.94 2.06.94-2.06 2.06-.94-2.06-.94-.94-2.06-.94 2.06-2.06.94z\"/><path d=\"M17.41 7.96l-1.37-1.37c-.4-.4-.92-.59-1.43-.59-.52 0-1.04.2-1.43.59L10.3 9.45l-7.72 7.72c-.78.78-.78 2.05 0 2.83L4 21.41c.39.39.9.59 1.41.59.51 0 1.02-.2 1.41-.59l7.78-7.78 2.81-2.81c.8-.78.8-2.07 0-2.86zM5.41 20L4 18.59l7.72-7.72 1.47 1.35L5.41 20z\"/>\n",
              "  </svg>\n",
              "      </button>\n",
              "      \n",
              "  <style>\n",
              "    .colab-df-container {\n",
              "      display:flex;\n",
              "      flex-wrap:wrap;\n",
              "      gap: 12px;\n",
              "    }\n",
              "\n",
              "    .colab-df-convert {\n",
              "      background-color: #E8F0FE;\n",
              "      border: none;\n",
              "      border-radius: 50%;\n",
              "      cursor: pointer;\n",
              "      display: none;\n",
              "      fill: #1967D2;\n",
              "      height: 32px;\n",
              "      padding: 0 0 0 0;\n",
              "      width: 32px;\n",
              "    }\n",
              "\n",
              "    .colab-df-convert:hover {\n",
              "      background-color: #E2EBFA;\n",
              "      box-shadow: 0px 1px 2px rgba(60, 64, 67, 0.3), 0px 1px 3px 1px rgba(60, 64, 67, 0.15);\n",
              "      fill: #174EA6;\n",
              "    }\n",
              "\n",
              "    [theme=dark] .colab-df-convert {\n",
              "      background-color: #3B4455;\n",
              "      fill: #D2E3FC;\n",
              "    }\n",
              "\n",
              "    [theme=dark] .colab-df-convert:hover {\n",
              "      background-color: #434B5C;\n",
              "      box-shadow: 0px 1px 3px 1px rgba(0, 0, 0, 0.15);\n",
              "      filter: drop-shadow(0px 1px 2px rgba(0, 0, 0, 0.3));\n",
              "      fill: #FFFFFF;\n",
              "    }\n",
              "  </style>\n",
              "\n",
              "      <script>\n",
              "        const buttonEl =\n",
              "          document.querySelector('#df-0f65aae4-dc25-4d83-8af3-68879fd76095 button.colab-df-convert');\n",
              "        buttonEl.style.display =\n",
              "          google.colab.kernel.accessAllowed ? 'block' : 'none';\n",
              "\n",
              "        async function convertToInteractive(key) {\n",
              "          const element = document.querySelector('#df-0f65aae4-dc25-4d83-8af3-68879fd76095');\n",
              "          const dataTable =\n",
              "            await google.colab.kernel.invokeFunction('convertToInteractive',\n",
              "                                                     [key], {});\n",
              "          if (!dataTable) return;\n",
              "\n",
              "          const docLinkHtml = 'Like what you see? Visit the ' +\n",
              "            '<a target=\"_blank\" href=https://colab.research.google.com/notebooks/data_table.ipynb>data table notebook</a>'\n",
              "            + ' to learn more about interactive tables.';\n",
              "          element.innerHTML = '';\n",
              "          dataTable['output_type'] = 'display_data';\n",
              "          await google.colab.output.renderOutput(dataTable, element);\n",
              "          const docLink = document.createElement('div');\n",
              "          docLink.innerHTML = docLinkHtml;\n",
              "          element.appendChild(docLink);\n",
              "        }\n",
              "      </script>\n",
              "    </div>\n",
              "  </div>\n",
              "  "
            ]
          },
          "metadata": {},
          "execution_count": 54
        }
      ]
    },
    {
      "metadata": {
        "_cell_guid": "20bc6e16-444b-4319-8ad0-bc3fee31baac",
        "_uuid": "c0072980444041499d7be75dd70863794e2d6a6a",
        "collapsed": true,
        "trusted": true,
        "id": "KtgQtAI_4SoI"
      },
      "cell_type": "code",
      "source": [
        "liver_df = pd.concat([liver_df,pd.get_dummies(liver_df['Gender'], prefix = 'Gender')], axis=1)"
      ],
      "execution_count": 55,
      "outputs": []
    },
    {
      "metadata": {
        "_cell_guid": "bd025bf6-cad5-4d92-a4bc-d8924b46abe5",
        "_uuid": "6755149ea5a286853b00e64cedd297a6a1564d72",
        "trusted": true,
        "colab": {
          "base_uri": "https://localhost:8080/",
          "height": 270
        },
        "id": "xCuaF_6P4SoI",
        "outputId": "f2f3dd83-2664-4e23-a4c2-7960d85aa9b3"
      },
      "cell_type": "code",
      "source": [
        "liver_df.head()"
      ],
      "execution_count": 56,
      "outputs": [
        {
          "output_type": "execute_result",
          "data": {
            "text/plain": [
              "   Age  Gender  Total_Bilirubin  Direct_Bilirubin  Alkaline_Phosphotase  \\\n",
              "0   65  Female              0.7               0.1                   187   \n",
              "1   62    Male             10.9               5.5                   699   \n",
              "2   62    Male              7.3               4.1                   490   \n",
              "3   58    Male              1.0               0.4                   182   \n",
              "4   72    Male              3.9               2.0                   195   \n",
              "\n",
              "   Alamine_Aminotransferase  Aspartate_Aminotransferase  Total_Protiens  \\\n",
              "0                        16                          18             6.8   \n",
              "1                        64                         100             7.5   \n",
              "2                        60                          68             7.0   \n",
              "3                        14                          20             6.8   \n",
              "4                        27                          59             7.3   \n",
              "\n",
              "   Albumin  Albumin_and_Globulin_Ratio  Outcome  Gender_Female  Gender_Male  \n",
              "0      3.3                        0.90        1              1            0  \n",
              "1      3.2                        0.74        1              0            1  \n",
              "2      3.3                        0.89        1              0            1  \n",
              "3      3.4                        1.00        1              0            1  \n",
              "4      2.4                        0.40        1              0            1  "
            ],
            "text/html": [
              "\n",
              "  <div id=\"df-c74911ff-a301-4709-a249-85924aa80995\">\n",
              "    <div class=\"colab-df-container\">\n",
              "      <div>\n",
              "<style scoped>\n",
              "    .dataframe tbody tr th:only-of-type {\n",
              "        vertical-align: middle;\n",
              "    }\n",
              "\n",
              "    .dataframe tbody tr th {\n",
              "        vertical-align: top;\n",
              "    }\n",
              "\n",
              "    .dataframe thead th {\n",
              "        text-align: right;\n",
              "    }\n",
              "</style>\n",
              "<table border=\"1\" class=\"dataframe\">\n",
              "  <thead>\n",
              "    <tr style=\"text-align: right;\">\n",
              "      <th></th>\n",
              "      <th>Age</th>\n",
              "      <th>Gender</th>\n",
              "      <th>Total_Bilirubin</th>\n",
              "      <th>Direct_Bilirubin</th>\n",
              "      <th>Alkaline_Phosphotase</th>\n",
              "      <th>Alamine_Aminotransferase</th>\n",
              "      <th>Aspartate_Aminotransferase</th>\n",
              "      <th>Total_Protiens</th>\n",
              "      <th>Albumin</th>\n",
              "      <th>Albumin_and_Globulin_Ratio</th>\n",
              "      <th>Outcome</th>\n",
              "      <th>Gender_Female</th>\n",
              "      <th>Gender_Male</th>\n",
              "    </tr>\n",
              "  </thead>\n",
              "  <tbody>\n",
              "    <tr>\n",
              "      <th>0</th>\n",
              "      <td>65</td>\n",
              "      <td>Female</td>\n",
              "      <td>0.7</td>\n",
              "      <td>0.1</td>\n",
              "      <td>187</td>\n",
              "      <td>16</td>\n",
              "      <td>18</td>\n",
              "      <td>6.8</td>\n",
              "      <td>3.3</td>\n",
              "      <td>0.90</td>\n",
              "      <td>1</td>\n",
              "      <td>1</td>\n",
              "      <td>0</td>\n",
              "    </tr>\n",
              "    <tr>\n",
              "      <th>1</th>\n",
              "      <td>62</td>\n",
              "      <td>Male</td>\n",
              "      <td>10.9</td>\n",
              "      <td>5.5</td>\n",
              "      <td>699</td>\n",
              "      <td>64</td>\n",
              "      <td>100</td>\n",
              "      <td>7.5</td>\n",
              "      <td>3.2</td>\n",
              "      <td>0.74</td>\n",
              "      <td>1</td>\n",
              "      <td>0</td>\n",
              "      <td>1</td>\n",
              "    </tr>\n",
              "    <tr>\n",
              "      <th>2</th>\n",
              "      <td>62</td>\n",
              "      <td>Male</td>\n",
              "      <td>7.3</td>\n",
              "      <td>4.1</td>\n",
              "      <td>490</td>\n",
              "      <td>60</td>\n",
              "      <td>68</td>\n",
              "      <td>7.0</td>\n",
              "      <td>3.3</td>\n",
              "      <td>0.89</td>\n",
              "      <td>1</td>\n",
              "      <td>0</td>\n",
              "      <td>1</td>\n",
              "    </tr>\n",
              "    <tr>\n",
              "      <th>3</th>\n",
              "      <td>58</td>\n",
              "      <td>Male</td>\n",
              "      <td>1.0</td>\n",
              "      <td>0.4</td>\n",
              "      <td>182</td>\n",
              "      <td>14</td>\n",
              "      <td>20</td>\n",
              "      <td>6.8</td>\n",
              "      <td>3.4</td>\n",
              "      <td>1.00</td>\n",
              "      <td>1</td>\n",
              "      <td>0</td>\n",
              "      <td>1</td>\n",
              "    </tr>\n",
              "    <tr>\n",
              "      <th>4</th>\n",
              "      <td>72</td>\n",
              "      <td>Male</td>\n",
              "      <td>3.9</td>\n",
              "      <td>2.0</td>\n",
              "      <td>195</td>\n",
              "      <td>27</td>\n",
              "      <td>59</td>\n",
              "      <td>7.3</td>\n",
              "      <td>2.4</td>\n",
              "      <td>0.40</td>\n",
              "      <td>1</td>\n",
              "      <td>0</td>\n",
              "      <td>1</td>\n",
              "    </tr>\n",
              "  </tbody>\n",
              "</table>\n",
              "</div>\n",
              "      <button class=\"colab-df-convert\" onclick=\"convertToInteractive('df-c74911ff-a301-4709-a249-85924aa80995')\"\n",
              "              title=\"Convert this dataframe to an interactive table.\"\n",
              "              style=\"display:none;\">\n",
              "        \n",
              "  <svg xmlns=\"http://www.w3.org/2000/svg\" height=\"24px\"viewBox=\"0 0 24 24\"\n",
              "       width=\"24px\">\n",
              "    <path d=\"M0 0h24v24H0V0z\" fill=\"none\"/>\n",
              "    <path d=\"M18.56 5.44l.94 2.06.94-2.06 2.06-.94-2.06-.94-.94-2.06-.94 2.06-2.06.94zm-11 1L8.5 8.5l.94-2.06 2.06-.94-2.06-.94L8.5 2.5l-.94 2.06-2.06.94zm10 10l.94 2.06.94-2.06 2.06-.94-2.06-.94-.94-2.06-.94 2.06-2.06.94z\"/><path d=\"M17.41 7.96l-1.37-1.37c-.4-.4-.92-.59-1.43-.59-.52 0-1.04.2-1.43.59L10.3 9.45l-7.72 7.72c-.78.78-.78 2.05 0 2.83L4 21.41c.39.39.9.59 1.41.59.51 0 1.02-.2 1.41-.59l7.78-7.78 2.81-2.81c.8-.78.8-2.07 0-2.86zM5.41 20L4 18.59l7.72-7.72 1.47 1.35L5.41 20z\"/>\n",
              "  </svg>\n",
              "      </button>\n",
              "      \n",
              "  <style>\n",
              "    .colab-df-container {\n",
              "      display:flex;\n",
              "      flex-wrap:wrap;\n",
              "      gap: 12px;\n",
              "    }\n",
              "\n",
              "    .colab-df-convert {\n",
              "      background-color: #E8F0FE;\n",
              "      border: none;\n",
              "      border-radius: 50%;\n",
              "      cursor: pointer;\n",
              "      display: none;\n",
              "      fill: #1967D2;\n",
              "      height: 32px;\n",
              "      padding: 0 0 0 0;\n",
              "      width: 32px;\n",
              "    }\n",
              "\n",
              "    .colab-df-convert:hover {\n",
              "      background-color: #E2EBFA;\n",
              "      box-shadow: 0px 1px 2px rgba(60, 64, 67, 0.3), 0px 1px 3px 1px rgba(60, 64, 67, 0.15);\n",
              "      fill: #174EA6;\n",
              "    }\n",
              "\n",
              "    [theme=dark] .colab-df-convert {\n",
              "      background-color: #3B4455;\n",
              "      fill: #D2E3FC;\n",
              "    }\n",
              "\n",
              "    [theme=dark] .colab-df-convert:hover {\n",
              "      background-color: #434B5C;\n",
              "      box-shadow: 0px 1px 3px 1px rgba(0, 0, 0, 0.15);\n",
              "      filter: drop-shadow(0px 1px 2px rgba(0, 0, 0, 0.3));\n",
              "      fill: #FFFFFF;\n",
              "    }\n",
              "  </style>\n",
              "\n",
              "      <script>\n",
              "        const buttonEl =\n",
              "          document.querySelector('#df-c74911ff-a301-4709-a249-85924aa80995 button.colab-df-convert');\n",
              "        buttonEl.style.display =\n",
              "          google.colab.kernel.accessAllowed ? 'block' : 'none';\n",
              "\n",
              "        async function convertToInteractive(key) {\n",
              "          const element = document.querySelector('#df-c74911ff-a301-4709-a249-85924aa80995');\n",
              "          const dataTable =\n",
              "            await google.colab.kernel.invokeFunction('convertToInteractive',\n",
              "                                                     [key], {});\n",
              "          if (!dataTable) return;\n",
              "\n",
              "          const docLinkHtml = 'Like what you see? Visit the ' +\n",
              "            '<a target=\"_blank\" href=https://colab.research.google.com/notebooks/data_table.ipynb>data table notebook</a>'\n",
              "            + ' to learn more about interactive tables.';\n",
              "          element.innerHTML = '';\n",
              "          dataTable['output_type'] = 'display_data';\n",
              "          await google.colab.output.renderOutput(dataTable, element);\n",
              "          const docLink = document.createElement('div');\n",
              "          docLink.innerHTML = docLinkHtml;\n",
              "          element.appendChild(docLink);\n",
              "        }\n",
              "      </script>\n",
              "    </div>\n",
              "  </div>\n",
              "  "
            ]
          },
          "metadata": {},
          "execution_count": 56
        }
      ]
    },
    {
      "metadata": {
        "_cell_guid": "c6011e12-8e58-4e38-aa82-33bd336723ce",
        "_uuid": "6b834a47790a238c390fc7b552587c6fc6bcb24d",
        "trusted": true,
        "colab": {
          "base_uri": "https://localhost:8080/",
          "height": 364
        },
        "id": "A4agpyIX4SoI",
        "outputId": "41853e6f-4c83-4a03-df4c-cbc1aad76ada"
      },
      "cell_type": "code",
      "source": [
        "liver_df.describe()"
      ],
      "execution_count": 57,
      "outputs": [
        {
          "output_type": "execute_result",
          "data": {
            "text/plain": [
              "              Age  Total_Bilirubin  Direct_Bilirubin  Alkaline_Phosphotase  \\\n",
              "count  583.000000       583.000000        583.000000            583.000000   \n",
              "mean    44.746141         3.298799          1.486106            290.576329   \n",
              "std     16.189833         6.209522          2.808498            242.937989   \n",
              "min      4.000000         0.400000          0.100000             63.000000   \n",
              "25%     33.000000         0.800000          0.200000            175.500000   \n",
              "50%     45.000000         1.000000          0.300000            208.000000   \n",
              "75%     58.000000         2.600000          1.300000            298.000000   \n",
              "max     90.000000        75.000000         19.700000           2110.000000   \n",
              "\n",
              "       Alamine_Aminotransferase  Aspartate_Aminotransferase  Total_Protiens  \\\n",
              "count                583.000000                  583.000000      583.000000   \n",
              "mean                  80.713551                  109.910806        6.483190   \n",
              "std                  182.620356                  288.918529        1.085451   \n",
              "min                   10.000000                   10.000000        2.700000   \n",
              "25%                   23.000000                   25.000000        5.800000   \n",
              "50%                   35.000000                   42.000000        6.600000   \n",
              "75%                   60.500000                   87.000000        7.200000   \n",
              "max                 2000.000000                 4929.000000        9.600000   \n",
              "\n",
              "          Albumin  Albumin_and_Globulin_Ratio     Outcome  Gender_Female  \\\n",
              "count  583.000000                  579.000000  583.000000     583.000000   \n",
              "mean     3.141852                    0.947064    1.286449       0.243568   \n",
              "std      0.795519                    0.319592    0.452490       0.429603   \n",
              "min      0.900000                    0.300000    1.000000       0.000000   \n",
              "25%      2.600000                    0.700000    1.000000       0.000000   \n",
              "50%      3.100000                    0.930000    1.000000       0.000000   \n",
              "75%      3.800000                    1.100000    2.000000       0.000000   \n",
              "max      5.500000                    2.800000    2.000000       1.000000   \n",
              "\n",
              "       Gender_Male  \n",
              "count   583.000000  \n",
              "mean      0.756432  \n",
              "std       0.429603  \n",
              "min       0.000000  \n",
              "25%       1.000000  \n",
              "50%       1.000000  \n",
              "75%       1.000000  \n",
              "max       1.000000  "
            ],
            "text/html": [
              "\n",
              "  <div id=\"df-a97d2fde-cc08-4372-b767-c3d24dc4e91a\">\n",
              "    <div class=\"colab-df-container\">\n",
              "      <div>\n",
              "<style scoped>\n",
              "    .dataframe tbody tr th:only-of-type {\n",
              "        vertical-align: middle;\n",
              "    }\n",
              "\n",
              "    .dataframe tbody tr th {\n",
              "        vertical-align: top;\n",
              "    }\n",
              "\n",
              "    .dataframe thead th {\n",
              "        text-align: right;\n",
              "    }\n",
              "</style>\n",
              "<table border=\"1\" class=\"dataframe\">\n",
              "  <thead>\n",
              "    <tr style=\"text-align: right;\">\n",
              "      <th></th>\n",
              "      <th>Age</th>\n",
              "      <th>Total_Bilirubin</th>\n",
              "      <th>Direct_Bilirubin</th>\n",
              "      <th>Alkaline_Phosphotase</th>\n",
              "      <th>Alamine_Aminotransferase</th>\n",
              "      <th>Aspartate_Aminotransferase</th>\n",
              "      <th>Total_Protiens</th>\n",
              "      <th>Albumin</th>\n",
              "      <th>Albumin_and_Globulin_Ratio</th>\n",
              "      <th>Outcome</th>\n",
              "      <th>Gender_Female</th>\n",
              "      <th>Gender_Male</th>\n",
              "    </tr>\n",
              "  </thead>\n",
              "  <tbody>\n",
              "    <tr>\n",
              "      <th>count</th>\n",
              "      <td>583.000000</td>\n",
              "      <td>583.000000</td>\n",
              "      <td>583.000000</td>\n",
              "      <td>583.000000</td>\n",
              "      <td>583.000000</td>\n",
              "      <td>583.000000</td>\n",
              "      <td>583.000000</td>\n",
              "      <td>583.000000</td>\n",
              "      <td>579.000000</td>\n",
              "      <td>583.000000</td>\n",
              "      <td>583.000000</td>\n",
              "      <td>583.000000</td>\n",
              "    </tr>\n",
              "    <tr>\n",
              "      <th>mean</th>\n",
              "      <td>44.746141</td>\n",
              "      <td>3.298799</td>\n",
              "      <td>1.486106</td>\n",
              "      <td>290.576329</td>\n",
              "      <td>80.713551</td>\n",
              "      <td>109.910806</td>\n",
              "      <td>6.483190</td>\n",
              "      <td>3.141852</td>\n",
              "      <td>0.947064</td>\n",
              "      <td>1.286449</td>\n",
              "      <td>0.243568</td>\n",
              "      <td>0.756432</td>\n",
              "    </tr>\n",
              "    <tr>\n",
              "      <th>std</th>\n",
              "      <td>16.189833</td>\n",
              "      <td>6.209522</td>\n",
              "      <td>2.808498</td>\n",
              "      <td>242.937989</td>\n",
              "      <td>182.620356</td>\n",
              "      <td>288.918529</td>\n",
              "      <td>1.085451</td>\n",
              "      <td>0.795519</td>\n",
              "      <td>0.319592</td>\n",
              "      <td>0.452490</td>\n",
              "      <td>0.429603</td>\n",
              "      <td>0.429603</td>\n",
              "    </tr>\n",
              "    <tr>\n",
              "      <th>min</th>\n",
              "      <td>4.000000</td>\n",
              "      <td>0.400000</td>\n",
              "      <td>0.100000</td>\n",
              "      <td>63.000000</td>\n",
              "      <td>10.000000</td>\n",
              "      <td>10.000000</td>\n",
              "      <td>2.700000</td>\n",
              "      <td>0.900000</td>\n",
              "      <td>0.300000</td>\n",
              "      <td>1.000000</td>\n",
              "      <td>0.000000</td>\n",
              "      <td>0.000000</td>\n",
              "    </tr>\n",
              "    <tr>\n",
              "      <th>25%</th>\n",
              "      <td>33.000000</td>\n",
              "      <td>0.800000</td>\n",
              "      <td>0.200000</td>\n",
              "      <td>175.500000</td>\n",
              "      <td>23.000000</td>\n",
              "      <td>25.000000</td>\n",
              "      <td>5.800000</td>\n",
              "      <td>2.600000</td>\n",
              "      <td>0.700000</td>\n",
              "      <td>1.000000</td>\n",
              "      <td>0.000000</td>\n",
              "      <td>1.000000</td>\n",
              "    </tr>\n",
              "    <tr>\n",
              "      <th>50%</th>\n",
              "      <td>45.000000</td>\n",
              "      <td>1.000000</td>\n",
              "      <td>0.300000</td>\n",
              "      <td>208.000000</td>\n",
              "      <td>35.000000</td>\n",
              "      <td>42.000000</td>\n",
              "      <td>6.600000</td>\n",
              "      <td>3.100000</td>\n",
              "      <td>0.930000</td>\n",
              "      <td>1.000000</td>\n",
              "      <td>0.000000</td>\n",
              "      <td>1.000000</td>\n",
              "    </tr>\n",
              "    <tr>\n",
              "      <th>75%</th>\n",
              "      <td>58.000000</td>\n",
              "      <td>2.600000</td>\n",
              "      <td>1.300000</td>\n",
              "      <td>298.000000</td>\n",
              "      <td>60.500000</td>\n",
              "      <td>87.000000</td>\n",
              "      <td>7.200000</td>\n",
              "      <td>3.800000</td>\n",
              "      <td>1.100000</td>\n",
              "      <td>2.000000</td>\n",
              "      <td>0.000000</td>\n",
              "      <td>1.000000</td>\n",
              "    </tr>\n",
              "    <tr>\n",
              "      <th>max</th>\n",
              "      <td>90.000000</td>\n",
              "      <td>75.000000</td>\n",
              "      <td>19.700000</td>\n",
              "      <td>2110.000000</td>\n",
              "      <td>2000.000000</td>\n",
              "      <td>4929.000000</td>\n",
              "      <td>9.600000</td>\n",
              "      <td>5.500000</td>\n",
              "      <td>2.800000</td>\n",
              "      <td>2.000000</td>\n",
              "      <td>1.000000</td>\n",
              "      <td>1.000000</td>\n",
              "    </tr>\n",
              "  </tbody>\n",
              "</table>\n",
              "</div>\n",
              "      <button class=\"colab-df-convert\" onclick=\"convertToInteractive('df-a97d2fde-cc08-4372-b767-c3d24dc4e91a')\"\n",
              "              title=\"Convert this dataframe to an interactive table.\"\n",
              "              style=\"display:none;\">\n",
              "        \n",
              "  <svg xmlns=\"http://www.w3.org/2000/svg\" height=\"24px\"viewBox=\"0 0 24 24\"\n",
              "       width=\"24px\">\n",
              "    <path d=\"M0 0h24v24H0V0z\" fill=\"none\"/>\n",
              "    <path d=\"M18.56 5.44l.94 2.06.94-2.06 2.06-.94-2.06-.94-.94-2.06-.94 2.06-2.06.94zm-11 1L8.5 8.5l.94-2.06 2.06-.94-2.06-.94L8.5 2.5l-.94 2.06-2.06.94zm10 10l.94 2.06.94-2.06 2.06-.94-2.06-.94-.94-2.06-.94 2.06-2.06.94z\"/><path d=\"M17.41 7.96l-1.37-1.37c-.4-.4-.92-.59-1.43-.59-.52 0-1.04.2-1.43.59L10.3 9.45l-7.72 7.72c-.78.78-.78 2.05 0 2.83L4 21.41c.39.39.9.59 1.41.59.51 0 1.02-.2 1.41-.59l7.78-7.78 2.81-2.81c.8-.78.8-2.07 0-2.86zM5.41 20L4 18.59l7.72-7.72 1.47 1.35L5.41 20z\"/>\n",
              "  </svg>\n",
              "      </button>\n",
              "      \n",
              "  <style>\n",
              "    .colab-df-container {\n",
              "      display:flex;\n",
              "      flex-wrap:wrap;\n",
              "      gap: 12px;\n",
              "    }\n",
              "\n",
              "    .colab-df-convert {\n",
              "      background-color: #E8F0FE;\n",
              "      border: none;\n",
              "      border-radius: 50%;\n",
              "      cursor: pointer;\n",
              "      display: none;\n",
              "      fill: #1967D2;\n",
              "      height: 32px;\n",
              "      padding: 0 0 0 0;\n",
              "      width: 32px;\n",
              "    }\n",
              "\n",
              "    .colab-df-convert:hover {\n",
              "      background-color: #E2EBFA;\n",
              "      box-shadow: 0px 1px 2px rgba(60, 64, 67, 0.3), 0px 1px 3px 1px rgba(60, 64, 67, 0.15);\n",
              "      fill: #174EA6;\n",
              "    }\n",
              "\n",
              "    [theme=dark] .colab-df-convert {\n",
              "      background-color: #3B4455;\n",
              "      fill: #D2E3FC;\n",
              "    }\n",
              "\n",
              "    [theme=dark] .colab-df-convert:hover {\n",
              "      background-color: #434B5C;\n",
              "      box-shadow: 0px 1px 3px 1px rgba(0, 0, 0, 0.15);\n",
              "      filter: drop-shadow(0px 1px 2px rgba(0, 0, 0, 0.3));\n",
              "      fill: #FFFFFF;\n",
              "    }\n",
              "  </style>\n",
              "\n",
              "      <script>\n",
              "        const buttonEl =\n",
              "          document.querySelector('#df-a97d2fde-cc08-4372-b767-c3d24dc4e91a button.colab-df-convert');\n",
              "        buttonEl.style.display =\n",
              "          google.colab.kernel.accessAllowed ? 'block' : 'none';\n",
              "\n",
              "        async function convertToInteractive(key) {\n",
              "          const element = document.querySelector('#df-a97d2fde-cc08-4372-b767-c3d24dc4e91a');\n",
              "          const dataTable =\n",
              "            await google.colab.kernel.invokeFunction('convertToInteractive',\n",
              "                                                     [key], {});\n",
              "          if (!dataTable) return;\n",
              "\n",
              "          const docLinkHtml = 'Like what you see? Visit the ' +\n",
              "            '<a target=\"_blank\" href=https://colab.research.google.com/notebooks/data_table.ipynb>data table notebook</a>'\n",
              "            + ' to learn more about interactive tables.';\n",
              "          element.innerHTML = '';\n",
              "          dataTable['output_type'] = 'display_data';\n",
              "          await google.colab.output.renderOutput(dataTable, element);\n",
              "          const docLink = document.createElement('div');\n",
              "          docLink.innerHTML = docLinkHtml;\n",
              "          element.appendChild(docLink);\n",
              "        }\n",
              "      </script>\n",
              "    </div>\n",
              "  </div>\n",
              "  "
            ]
          },
          "metadata": {},
          "execution_count": 57
        }
      ]
    },
    {
      "metadata": {
        "_cell_guid": "f8b7af4e-9b7c-4943-bc0c-d3de640b4544",
        "_uuid": "047946d891f4734a97a0fcc5c60192b4b4b7d74e",
        "trusted": true,
        "colab": {
          "base_uri": "https://localhost:8080/",
          "height": 239
        },
        "id": "gKxMn2OG4SoI",
        "outputId": "6b2c382b-9cd6-4f57-e56d-9158718c41f6"
      },
      "cell_type": "code",
      "source": [
        "liver_df[liver_df['Albumin_and_Globulin_Ratio'].isnull()]"
      ],
      "execution_count": 58,
      "outputs": [
        {
          "output_type": "execute_result",
          "data": {
            "text/plain": [
              "     Age  Gender  Total_Bilirubin  Direct_Bilirubin  Alkaline_Phosphotase  \\\n",
              "209   45  Female              0.9               0.3                   189   \n",
              "241   51    Male              0.8               0.2                   230   \n",
              "253   35  Female              0.6               0.2                   180   \n",
              "312   27    Male              1.3               0.6                   106   \n",
              "\n",
              "     Alamine_Aminotransferase  Aspartate_Aminotransferase  Total_Protiens  \\\n",
              "209                        23                          33             6.6   \n",
              "241                        24                          46             6.5   \n",
              "253                        12                          15             5.2   \n",
              "312                        25                          54             8.5   \n",
              "\n",
              "     Albumin  Albumin_and_Globulin_Ratio  Outcome  Gender_Female  Gender_Male  \n",
              "209      3.9                         NaN        1              1            0  \n",
              "241      3.1                         NaN        1              0            1  \n",
              "253      2.7                         NaN        2              1            0  \n",
              "312      4.8                         NaN        2              0            1  "
            ],
            "text/html": [
              "\n",
              "  <div id=\"df-dc0bbc38-4256-4b26-8566-6d53d8b569d1\">\n",
              "    <div class=\"colab-df-container\">\n",
              "      <div>\n",
              "<style scoped>\n",
              "    .dataframe tbody tr th:only-of-type {\n",
              "        vertical-align: middle;\n",
              "    }\n",
              "\n",
              "    .dataframe tbody tr th {\n",
              "        vertical-align: top;\n",
              "    }\n",
              "\n",
              "    .dataframe thead th {\n",
              "        text-align: right;\n",
              "    }\n",
              "</style>\n",
              "<table border=\"1\" class=\"dataframe\">\n",
              "  <thead>\n",
              "    <tr style=\"text-align: right;\">\n",
              "      <th></th>\n",
              "      <th>Age</th>\n",
              "      <th>Gender</th>\n",
              "      <th>Total_Bilirubin</th>\n",
              "      <th>Direct_Bilirubin</th>\n",
              "      <th>Alkaline_Phosphotase</th>\n",
              "      <th>Alamine_Aminotransferase</th>\n",
              "      <th>Aspartate_Aminotransferase</th>\n",
              "      <th>Total_Protiens</th>\n",
              "      <th>Albumin</th>\n",
              "      <th>Albumin_and_Globulin_Ratio</th>\n",
              "      <th>Outcome</th>\n",
              "      <th>Gender_Female</th>\n",
              "      <th>Gender_Male</th>\n",
              "    </tr>\n",
              "  </thead>\n",
              "  <tbody>\n",
              "    <tr>\n",
              "      <th>209</th>\n",
              "      <td>45</td>\n",
              "      <td>Female</td>\n",
              "      <td>0.9</td>\n",
              "      <td>0.3</td>\n",
              "      <td>189</td>\n",
              "      <td>23</td>\n",
              "      <td>33</td>\n",
              "      <td>6.6</td>\n",
              "      <td>3.9</td>\n",
              "      <td>NaN</td>\n",
              "      <td>1</td>\n",
              "      <td>1</td>\n",
              "      <td>0</td>\n",
              "    </tr>\n",
              "    <tr>\n",
              "      <th>241</th>\n",
              "      <td>51</td>\n",
              "      <td>Male</td>\n",
              "      <td>0.8</td>\n",
              "      <td>0.2</td>\n",
              "      <td>230</td>\n",
              "      <td>24</td>\n",
              "      <td>46</td>\n",
              "      <td>6.5</td>\n",
              "      <td>3.1</td>\n",
              "      <td>NaN</td>\n",
              "      <td>1</td>\n",
              "      <td>0</td>\n",
              "      <td>1</td>\n",
              "    </tr>\n",
              "    <tr>\n",
              "      <th>253</th>\n",
              "      <td>35</td>\n",
              "      <td>Female</td>\n",
              "      <td>0.6</td>\n",
              "      <td>0.2</td>\n",
              "      <td>180</td>\n",
              "      <td>12</td>\n",
              "      <td>15</td>\n",
              "      <td>5.2</td>\n",
              "      <td>2.7</td>\n",
              "      <td>NaN</td>\n",
              "      <td>2</td>\n",
              "      <td>1</td>\n",
              "      <td>0</td>\n",
              "    </tr>\n",
              "    <tr>\n",
              "      <th>312</th>\n",
              "      <td>27</td>\n",
              "      <td>Male</td>\n",
              "      <td>1.3</td>\n",
              "      <td>0.6</td>\n",
              "      <td>106</td>\n",
              "      <td>25</td>\n",
              "      <td>54</td>\n",
              "      <td>8.5</td>\n",
              "      <td>4.8</td>\n",
              "      <td>NaN</td>\n",
              "      <td>2</td>\n",
              "      <td>0</td>\n",
              "      <td>1</td>\n",
              "    </tr>\n",
              "  </tbody>\n",
              "</table>\n",
              "</div>\n",
              "      <button class=\"colab-df-convert\" onclick=\"convertToInteractive('df-dc0bbc38-4256-4b26-8566-6d53d8b569d1')\"\n",
              "              title=\"Convert this dataframe to an interactive table.\"\n",
              "              style=\"display:none;\">\n",
              "        \n",
              "  <svg xmlns=\"http://www.w3.org/2000/svg\" height=\"24px\"viewBox=\"0 0 24 24\"\n",
              "       width=\"24px\">\n",
              "    <path d=\"M0 0h24v24H0V0z\" fill=\"none\"/>\n",
              "    <path d=\"M18.56 5.44l.94 2.06.94-2.06 2.06-.94-2.06-.94-.94-2.06-.94 2.06-2.06.94zm-11 1L8.5 8.5l.94-2.06 2.06-.94-2.06-.94L8.5 2.5l-.94 2.06-2.06.94zm10 10l.94 2.06.94-2.06 2.06-.94-2.06-.94-.94-2.06-.94 2.06-2.06.94z\"/><path d=\"M17.41 7.96l-1.37-1.37c-.4-.4-.92-.59-1.43-.59-.52 0-1.04.2-1.43.59L10.3 9.45l-7.72 7.72c-.78.78-.78 2.05 0 2.83L4 21.41c.39.39.9.59 1.41.59.51 0 1.02-.2 1.41-.59l7.78-7.78 2.81-2.81c.8-.78.8-2.07 0-2.86zM5.41 20L4 18.59l7.72-7.72 1.47 1.35L5.41 20z\"/>\n",
              "  </svg>\n",
              "      </button>\n",
              "      \n",
              "  <style>\n",
              "    .colab-df-container {\n",
              "      display:flex;\n",
              "      flex-wrap:wrap;\n",
              "      gap: 12px;\n",
              "    }\n",
              "\n",
              "    .colab-df-convert {\n",
              "      background-color: #E8F0FE;\n",
              "      border: none;\n",
              "      border-radius: 50%;\n",
              "      cursor: pointer;\n",
              "      display: none;\n",
              "      fill: #1967D2;\n",
              "      height: 32px;\n",
              "      padding: 0 0 0 0;\n",
              "      width: 32px;\n",
              "    }\n",
              "\n",
              "    .colab-df-convert:hover {\n",
              "      background-color: #E2EBFA;\n",
              "      box-shadow: 0px 1px 2px rgba(60, 64, 67, 0.3), 0px 1px 3px 1px rgba(60, 64, 67, 0.15);\n",
              "      fill: #174EA6;\n",
              "    }\n",
              "\n",
              "    [theme=dark] .colab-df-convert {\n",
              "      background-color: #3B4455;\n",
              "      fill: #D2E3FC;\n",
              "    }\n",
              "\n",
              "    [theme=dark] .colab-df-convert:hover {\n",
              "      background-color: #434B5C;\n",
              "      box-shadow: 0px 1px 3px 1px rgba(0, 0, 0, 0.15);\n",
              "      filter: drop-shadow(0px 1px 2px rgba(0, 0, 0, 0.3));\n",
              "      fill: #FFFFFF;\n",
              "    }\n",
              "  </style>\n",
              "\n",
              "      <script>\n",
              "        const buttonEl =\n",
              "          document.querySelector('#df-dc0bbc38-4256-4b26-8566-6d53d8b569d1 button.colab-df-convert');\n",
              "        buttonEl.style.display =\n",
              "          google.colab.kernel.accessAllowed ? 'block' : 'none';\n",
              "\n",
              "        async function convertToInteractive(key) {\n",
              "          const element = document.querySelector('#df-dc0bbc38-4256-4b26-8566-6d53d8b569d1');\n",
              "          const dataTable =\n",
              "            await google.colab.kernel.invokeFunction('convertToInteractive',\n",
              "                                                     [key], {});\n",
              "          if (!dataTable) return;\n",
              "\n",
              "          const docLinkHtml = 'Like what you see? Visit the ' +\n",
              "            '<a target=\"_blank\" href=https://colab.research.google.com/notebooks/data_table.ipynb>data table notebook</a>'\n",
              "            + ' to learn more about interactive tables.';\n",
              "          element.innerHTML = '';\n",
              "          dataTable['output_type'] = 'display_data';\n",
              "          await google.colab.output.renderOutput(dataTable, element);\n",
              "          const docLink = document.createElement('div');\n",
              "          docLink.innerHTML = docLinkHtml;\n",
              "          element.appendChild(docLink);\n",
              "        }\n",
              "      </script>\n",
              "    </div>\n",
              "  </div>\n",
              "  "
            ]
          },
          "metadata": {},
          "execution_count": 58
        }
      ]
    },
    {
      "metadata": {
        "_cell_guid": "a22f10fd-a319-401f-9a4a-1c02a8357975",
        "_uuid": "a00f9b9d4f6b3c086b4bf8b328955a6b49642057",
        "collapsed": true,
        "trusted": true,
        "id": "y2-7fIrM4SoI"
      },
      "cell_type": "code",
      "source": [
        "liver_df[\"Albumin_and_Globulin_Ratio\"] = liver_df.Albumin_and_Globulin_Ratio.fillna(liver_df['Albumin_and_Globulin_Ratio'].mean())"
      ],
      "execution_count": 59,
      "outputs": []
    },
    {
      "metadata": {
        "_cell_guid": "ab697d55-f4e6-4e43-87a8-e853f893349c",
        "_uuid": "73b9eacd147f702a0cb8bdd00bb0e6d52d8b8cb1",
        "collapsed": true,
        "trusted": true,
        "id": "tV6RqWqi4SoI"
      },
      "cell_type": "code",
      "source": [
        "#liver_df[liver_df['Albumin_and_Globulin_Ratio'] == 0.9470639032815201]"
      ],
      "execution_count": 60,
      "outputs": []
    },
    {
      "metadata": {
        "_cell_guid": "f2cc0e7b-0e62-4cd4-99a7-e213b983b9e4",
        "_uuid": "cdab8936d73dfe0533c10d723739df09b73c23ad",
        "trusted": true,
        "colab": {
          "base_uri": "https://localhost:8080/",
          "height": 207
        },
        "id": "DoLnjtKf4SoJ",
        "outputId": "2b4d8e1f-b39e-457e-b3d1-09905cadece4"
      },
      "cell_type": "code",
      "source": [
        "# The input variables/features are all the inputs except Dataset. The prediction or label is 'Dataset' that determines whether the patient has liver disease or not. \n",
        "X = liver_df.drop(['Gender','Outcome'], axis=1)\n",
        "X.head(3)"
      ],
      "execution_count": 61,
      "outputs": [
        {
          "output_type": "execute_result",
          "data": {
            "text/plain": [
              "   Age  Total_Bilirubin  Direct_Bilirubin  Alkaline_Phosphotase  \\\n",
              "0   65              0.7               0.1                   187   \n",
              "1   62             10.9               5.5                   699   \n",
              "2   62              7.3               4.1                   490   \n",
              "\n",
              "   Alamine_Aminotransferase  Aspartate_Aminotransferase  Total_Protiens  \\\n",
              "0                        16                          18             6.8   \n",
              "1                        64                         100             7.5   \n",
              "2                        60                          68             7.0   \n",
              "\n",
              "   Albumin  Albumin_and_Globulin_Ratio  Gender_Female  Gender_Male  \n",
              "0      3.3                        0.90              1            0  \n",
              "1      3.2                        0.74              0            1  \n",
              "2      3.3                        0.89              0            1  "
            ],
            "text/html": [
              "\n",
              "  <div id=\"df-7b33ad29-3589-435e-b2f0-3d54fc8afb69\">\n",
              "    <div class=\"colab-df-container\">\n",
              "      <div>\n",
              "<style scoped>\n",
              "    .dataframe tbody tr th:only-of-type {\n",
              "        vertical-align: middle;\n",
              "    }\n",
              "\n",
              "    .dataframe tbody tr th {\n",
              "        vertical-align: top;\n",
              "    }\n",
              "\n",
              "    .dataframe thead th {\n",
              "        text-align: right;\n",
              "    }\n",
              "</style>\n",
              "<table border=\"1\" class=\"dataframe\">\n",
              "  <thead>\n",
              "    <tr style=\"text-align: right;\">\n",
              "      <th></th>\n",
              "      <th>Age</th>\n",
              "      <th>Total_Bilirubin</th>\n",
              "      <th>Direct_Bilirubin</th>\n",
              "      <th>Alkaline_Phosphotase</th>\n",
              "      <th>Alamine_Aminotransferase</th>\n",
              "      <th>Aspartate_Aminotransferase</th>\n",
              "      <th>Total_Protiens</th>\n",
              "      <th>Albumin</th>\n",
              "      <th>Albumin_and_Globulin_Ratio</th>\n",
              "      <th>Gender_Female</th>\n",
              "      <th>Gender_Male</th>\n",
              "    </tr>\n",
              "  </thead>\n",
              "  <tbody>\n",
              "    <tr>\n",
              "      <th>0</th>\n",
              "      <td>65</td>\n",
              "      <td>0.7</td>\n",
              "      <td>0.1</td>\n",
              "      <td>187</td>\n",
              "      <td>16</td>\n",
              "      <td>18</td>\n",
              "      <td>6.8</td>\n",
              "      <td>3.3</td>\n",
              "      <td>0.90</td>\n",
              "      <td>1</td>\n",
              "      <td>0</td>\n",
              "    </tr>\n",
              "    <tr>\n",
              "      <th>1</th>\n",
              "      <td>62</td>\n",
              "      <td>10.9</td>\n",
              "      <td>5.5</td>\n",
              "      <td>699</td>\n",
              "      <td>64</td>\n",
              "      <td>100</td>\n",
              "      <td>7.5</td>\n",
              "      <td>3.2</td>\n",
              "      <td>0.74</td>\n",
              "      <td>0</td>\n",
              "      <td>1</td>\n",
              "    </tr>\n",
              "    <tr>\n",
              "      <th>2</th>\n",
              "      <td>62</td>\n",
              "      <td>7.3</td>\n",
              "      <td>4.1</td>\n",
              "      <td>490</td>\n",
              "      <td>60</td>\n",
              "      <td>68</td>\n",
              "      <td>7.0</td>\n",
              "      <td>3.3</td>\n",
              "      <td>0.89</td>\n",
              "      <td>0</td>\n",
              "      <td>1</td>\n",
              "    </tr>\n",
              "  </tbody>\n",
              "</table>\n",
              "</div>\n",
              "      <button class=\"colab-df-convert\" onclick=\"convertToInteractive('df-7b33ad29-3589-435e-b2f0-3d54fc8afb69')\"\n",
              "              title=\"Convert this dataframe to an interactive table.\"\n",
              "              style=\"display:none;\">\n",
              "        \n",
              "  <svg xmlns=\"http://www.w3.org/2000/svg\" height=\"24px\"viewBox=\"0 0 24 24\"\n",
              "       width=\"24px\">\n",
              "    <path d=\"M0 0h24v24H0V0z\" fill=\"none\"/>\n",
              "    <path d=\"M18.56 5.44l.94 2.06.94-2.06 2.06-.94-2.06-.94-.94-2.06-.94 2.06-2.06.94zm-11 1L8.5 8.5l.94-2.06 2.06-.94-2.06-.94L8.5 2.5l-.94 2.06-2.06.94zm10 10l.94 2.06.94-2.06 2.06-.94-2.06-.94-.94-2.06-.94 2.06-2.06.94z\"/><path d=\"M17.41 7.96l-1.37-1.37c-.4-.4-.92-.59-1.43-.59-.52 0-1.04.2-1.43.59L10.3 9.45l-7.72 7.72c-.78.78-.78 2.05 0 2.83L4 21.41c.39.39.9.59 1.41.59.51 0 1.02-.2 1.41-.59l7.78-7.78 2.81-2.81c.8-.78.8-2.07 0-2.86zM5.41 20L4 18.59l7.72-7.72 1.47 1.35L5.41 20z\"/>\n",
              "  </svg>\n",
              "      </button>\n",
              "      \n",
              "  <style>\n",
              "    .colab-df-container {\n",
              "      display:flex;\n",
              "      flex-wrap:wrap;\n",
              "      gap: 12px;\n",
              "    }\n",
              "\n",
              "    .colab-df-convert {\n",
              "      background-color: #E8F0FE;\n",
              "      border: none;\n",
              "      border-radius: 50%;\n",
              "      cursor: pointer;\n",
              "      display: none;\n",
              "      fill: #1967D2;\n",
              "      height: 32px;\n",
              "      padding: 0 0 0 0;\n",
              "      width: 32px;\n",
              "    }\n",
              "\n",
              "    .colab-df-convert:hover {\n",
              "      background-color: #E2EBFA;\n",
              "      box-shadow: 0px 1px 2px rgba(60, 64, 67, 0.3), 0px 1px 3px 1px rgba(60, 64, 67, 0.15);\n",
              "      fill: #174EA6;\n",
              "    }\n",
              "\n",
              "    [theme=dark] .colab-df-convert {\n",
              "      background-color: #3B4455;\n",
              "      fill: #D2E3FC;\n",
              "    }\n",
              "\n",
              "    [theme=dark] .colab-df-convert:hover {\n",
              "      background-color: #434B5C;\n",
              "      box-shadow: 0px 1px 3px 1px rgba(0, 0, 0, 0.15);\n",
              "      filter: drop-shadow(0px 1px 2px rgba(0, 0, 0, 0.3));\n",
              "      fill: #FFFFFF;\n",
              "    }\n",
              "  </style>\n",
              "\n",
              "      <script>\n",
              "        const buttonEl =\n",
              "          document.querySelector('#df-7b33ad29-3589-435e-b2f0-3d54fc8afb69 button.colab-df-convert');\n",
              "        buttonEl.style.display =\n",
              "          google.colab.kernel.accessAllowed ? 'block' : 'none';\n",
              "\n",
              "        async function convertToInteractive(key) {\n",
              "          const element = document.querySelector('#df-7b33ad29-3589-435e-b2f0-3d54fc8afb69');\n",
              "          const dataTable =\n",
              "            await google.colab.kernel.invokeFunction('convertToInteractive',\n",
              "                                                     [key], {});\n",
              "          if (!dataTable) return;\n",
              "\n",
              "          const docLinkHtml = 'Like what you see? Visit the ' +\n",
              "            '<a target=\"_blank\" href=https://colab.research.google.com/notebooks/data_table.ipynb>data table notebook</a>'\n",
              "            + ' to learn more about interactive tables.';\n",
              "          element.innerHTML = '';\n",
              "          dataTable['output_type'] = 'display_data';\n",
              "          await google.colab.output.renderOutput(dataTable, element);\n",
              "          const docLink = document.createElement('div');\n",
              "          docLink.innerHTML = docLinkHtml;\n",
              "          element.appendChild(docLink);\n",
              "        }\n",
              "      </script>\n",
              "    </div>\n",
              "  </div>\n",
              "  "
            ]
          },
          "metadata": {},
          "execution_count": 61
        }
      ]
    },
    {
      "metadata": {
        "_cell_guid": "134edf24-b704-483f-91f6-a000aa7525a5",
        "_uuid": "13e14244f1f54357aba978576a2d1a9515dece6e",
        "collapsed": true,
        "trusted": true,
        "id": "Ampallmh4SoJ"
      },
      "cell_type": "code",
      "source": [
        "y = liver_df['Outcome'] # 1 for liver disease; 2 for no liver disease"
      ],
      "execution_count": 62,
      "outputs": []
    },
    {
      "metadata": {
        "_cell_guid": "551ce97e-ab7e-4ffc-a9fd-f10ee1d9332a",
        "_uuid": "3ca13b008594f58b54943bd1c02f2984a10032e1",
        "trusted": true,
        "collapsed": true,
        "id": "354wJLE_4SoJ"
      },
      "cell_type": "code",
      "source": [
        "# Correlation\n",
        "liver_corr = X.corr()"
      ],
      "execution_count": 63,
      "outputs": []
    },
    {
      "metadata": {
        "_cell_guid": "8678807f-c33a-4efd-86de-23dc5b0acf80",
        "_uuid": "ab8a278a98ba9b59e8763198652c88233e6fa6d6",
        "trusted": true,
        "colab": {
          "base_uri": "https://localhost:8080/",
          "height": 458
        },
        "id": "CMmmARpW4SoJ",
        "outputId": "7924d1db-04d1-4010-a9d3-b14840e7cdbe"
      },
      "cell_type": "code",
      "source": [
        "liver_corr"
      ],
      "execution_count": 64,
      "outputs": [
        {
          "output_type": "execute_result",
          "data": {
            "text/plain": [
              "                                 Age  Total_Bilirubin  Direct_Bilirubin  \\\n",
              "Age                         1.000000         0.011763          0.007529   \n",
              "Total_Bilirubin             0.011763         1.000000          0.874618   \n",
              "Direct_Bilirubin            0.007529         0.874618          1.000000   \n",
              "Alkaline_Phosphotase        0.080425         0.206669          0.234939   \n",
              "Alamine_Aminotransferase   -0.086883         0.214065          0.233894   \n",
              "Aspartate_Aminotransferase -0.019910         0.237831          0.257544   \n",
              "Total_Protiens             -0.187461        -0.008099         -0.000139   \n",
              "Albumin                    -0.265924        -0.222250         -0.228531   \n",
              "Albumin_and_Globulin_Ratio -0.216089        -0.206159         -0.200004   \n",
              "Gender_Female              -0.056560        -0.089291         -0.100436   \n",
              "Gender_Male                 0.056560         0.089291          0.100436   \n",
              "\n",
              "                            Alkaline_Phosphotase  Alamine_Aminotransferase  \\\n",
              "Age                                     0.080425                 -0.086883   \n",
              "Total_Bilirubin                         0.206669                  0.214065   \n",
              "Direct_Bilirubin                        0.234939                  0.233894   \n",
              "Alkaline_Phosphotase                    1.000000                  0.125680   \n",
              "Alamine_Aminotransferase                0.125680                  1.000000   \n",
              "Aspartate_Aminotransferase              0.167196                  0.791966   \n",
              "Total_Protiens                         -0.028514                 -0.042518   \n",
              "Albumin                                -0.165453                 -0.029742   \n",
              "Albumin_and_Globulin_Ratio             -0.233960                 -0.002374   \n",
              "Gender_Female                           0.027496                 -0.082332   \n",
              "Gender_Male                            -0.027496                  0.082332   \n",
              "\n",
              "                            Aspartate_Aminotransferase  Total_Protiens  \\\n",
              "Age                                          -0.019910       -0.187461   \n",
              "Total_Bilirubin                               0.237831       -0.008099   \n",
              "Direct_Bilirubin                              0.257544       -0.000139   \n",
              "Alkaline_Phosphotase                          0.167196       -0.028514   \n",
              "Alamine_Aminotransferase                      0.791966       -0.042518   \n",
              "Aspartate_Aminotransferase                    1.000000       -0.025645   \n",
              "Total_Protiens                               -0.025645        1.000000   \n",
              "Albumin                                      -0.085290        0.784053   \n",
              "Albumin_and_Globulin_Ratio                   -0.070024        0.233904   \n",
              "Gender_Female                                -0.080336        0.089121   \n",
              "Gender_Male                                   0.080336       -0.089121   \n",
              "\n",
              "                             Albumin  Albumin_and_Globulin_Ratio  \\\n",
              "Age                        -0.265924                   -0.216089   \n",
              "Total_Bilirubin            -0.222250                   -0.206159   \n",
              "Direct_Bilirubin           -0.228531                   -0.200004   \n",
              "Alkaline_Phosphotase       -0.165453                   -0.233960   \n",
              "Alamine_Aminotransferase   -0.029742                   -0.002374   \n",
              "Aspartate_Aminotransferase -0.085290                   -0.070024   \n",
              "Total_Protiens              0.784053                    0.233904   \n",
              "Albumin                     1.000000                    0.686322   \n",
              "Albumin_and_Globulin_Ratio  0.686322                    1.000000   \n",
              "Gender_Female               0.093799                    0.003404   \n",
              "Gender_Male                -0.093799                   -0.003404   \n",
              "\n",
              "                            Gender_Female  Gender_Male  \n",
              "Age                             -0.056560     0.056560  \n",
              "Total_Bilirubin                 -0.089291     0.089291  \n",
              "Direct_Bilirubin                -0.100436     0.100436  \n",
              "Alkaline_Phosphotase             0.027496    -0.027496  \n",
              "Alamine_Aminotransferase        -0.082332     0.082332  \n",
              "Aspartate_Aminotransferase      -0.080336     0.080336  \n",
              "Total_Protiens                   0.089121    -0.089121  \n",
              "Albumin                          0.093799    -0.093799  \n",
              "Albumin_and_Globulin_Ratio       0.003404    -0.003404  \n",
              "Gender_Female                    1.000000    -1.000000  \n",
              "Gender_Male                     -1.000000     1.000000  "
            ],
            "text/html": [
              "\n",
              "  <div id=\"df-a43ac699-420b-4f0a-826b-f11618dca420\">\n",
              "    <div class=\"colab-df-container\">\n",
              "      <div>\n",
              "<style scoped>\n",
              "    .dataframe tbody tr th:only-of-type {\n",
              "        vertical-align: middle;\n",
              "    }\n",
              "\n",
              "    .dataframe tbody tr th {\n",
              "        vertical-align: top;\n",
              "    }\n",
              "\n",
              "    .dataframe thead th {\n",
              "        text-align: right;\n",
              "    }\n",
              "</style>\n",
              "<table border=\"1\" class=\"dataframe\">\n",
              "  <thead>\n",
              "    <tr style=\"text-align: right;\">\n",
              "      <th></th>\n",
              "      <th>Age</th>\n",
              "      <th>Total_Bilirubin</th>\n",
              "      <th>Direct_Bilirubin</th>\n",
              "      <th>Alkaline_Phosphotase</th>\n",
              "      <th>Alamine_Aminotransferase</th>\n",
              "      <th>Aspartate_Aminotransferase</th>\n",
              "      <th>Total_Protiens</th>\n",
              "      <th>Albumin</th>\n",
              "      <th>Albumin_and_Globulin_Ratio</th>\n",
              "      <th>Gender_Female</th>\n",
              "      <th>Gender_Male</th>\n",
              "    </tr>\n",
              "  </thead>\n",
              "  <tbody>\n",
              "    <tr>\n",
              "      <th>Age</th>\n",
              "      <td>1.000000</td>\n",
              "      <td>0.011763</td>\n",
              "      <td>0.007529</td>\n",
              "      <td>0.080425</td>\n",
              "      <td>-0.086883</td>\n",
              "      <td>-0.019910</td>\n",
              "      <td>-0.187461</td>\n",
              "      <td>-0.265924</td>\n",
              "      <td>-0.216089</td>\n",
              "      <td>-0.056560</td>\n",
              "      <td>0.056560</td>\n",
              "    </tr>\n",
              "    <tr>\n",
              "      <th>Total_Bilirubin</th>\n",
              "      <td>0.011763</td>\n",
              "      <td>1.000000</td>\n",
              "      <td>0.874618</td>\n",
              "      <td>0.206669</td>\n",
              "      <td>0.214065</td>\n",
              "      <td>0.237831</td>\n",
              "      <td>-0.008099</td>\n",
              "      <td>-0.222250</td>\n",
              "      <td>-0.206159</td>\n",
              "      <td>-0.089291</td>\n",
              "      <td>0.089291</td>\n",
              "    </tr>\n",
              "    <tr>\n",
              "      <th>Direct_Bilirubin</th>\n",
              "      <td>0.007529</td>\n",
              "      <td>0.874618</td>\n",
              "      <td>1.000000</td>\n",
              "      <td>0.234939</td>\n",
              "      <td>0.233894</td>\n",
              "      <td>0.257544</td>\n",
              "      <td>-0.000139</td>\n",
              "      <td>-0.228531</td>\n",
              "      <td>-0.200004</td>\n",
              "      <td>-0.100436</td>\n",
              "      <td>0.100436</td>\n",
              "    </tr>\n",
              "    <tr>\n",
              "      <th>Alkaline_Phosphotase</th>\n",
              "      <td>0.080425</td>\n",
              "      <td>0.206669</td>\n",
              "      <td>0.234939</td>\n",
              "      <td>1.000000</td>\n",
              "      <td>0.125680</td>\n",
              "      <td>0.167196</td>\n",
              "      <td>-0.028514</td>\n",
              "      <td>-0.165453</td>\n",
              "      <td>-0.233960</td>\n",
              "      <td>0.027496</td>\n",
              "      <td>-0.027496</td>\n",
              "    </tr>\n",
              "    <tr>\n",
              "      <th>Alamine_Aminotransferase</th>\n",
              "      <td>-0.086883</td>\n",
              "      <td>0.214065</td>\n",
              "      <td>0.233894</td>\n",
              "      <td>0.125680</td>\n",
              "      <td>1.000000</td>\n",
              "      <td>0.791966</td>\n",
              "      <td>-0.042518</td>\n",
              "      <td>-0.029742</td>\n",
              "      <td>-0.002374</td>\n",
              "      <td>-0.082332</td>\n",
              "      <td>0.082332</td>\n",
              "    </tr>\n",
              "    <tr>\n",
              "      <th>Aspartate_Aminotransferase</th>\n",
              "      <td>-0.019910</td>\n",
              "      <td>0.237831</td>\n",
              "      <td>0.257544</td>\n",
              "      <td>0.167196</td>\n",
              "      <td>0.791966</td>\n",
              "      <td>1.000000</td>\n",
              "      <td>-0.025645</td>\n",
              "      <td>-0.085290</td>\n",
              "      <td>-0.070024</td>\n",
              "      <td>-0.080336</td>\n",
              "      <td>0.080336</td>\n",
              "    </tr>\n",
              "    <tr>\n",
              "      <th>Total_Protiens</th>\n",
              "      <td>-0.187461</td>\n",
              "      <td>-0.008099</td>\n",
              "      <td>-0.000139</td>\n",
              "      <td>-0.028514</td>\n",
              "      <td>-0.042518</td>\n",
              "      <td>-0.025645</td>\n",
              "      <td>1.000000</td>\n",
              "      <td>0.784053</td>\n",
              "      <td>0.233904</td>\n",
              "      <td>0.089121</td>\n",
              "      <td>-0.089121</td>\n",
              "    </tr>\n",
              "    <tr>\n",
              "      <th>Albumin</th>\n",
              "      <td>-0.265924</td>\n",
              "      <td>-0.222250</td>\n",
              "      <td>-0.228531</td>\n",
              "      <td>-0.165453</td>\n",
              "      <td>-0.029742</td>\n",
              "      <td>-0.085290</td>\n",
              "      <td>0.784053</td>\n",
              "      <td>1.000000</td>\n",
              "      <td>0.686322</td>\n",
              "      <td>0.093799</td>\n",
              "      <td>-0.093799</td>\n",
              "    </tr>\n",
              "    <tr>\n",
              "      <th>Albumin_and_Globulin_Ratio</th>\n",
              "      <td>-0.216089</td>\n",
              "      <td>-0.206159</td>\n",
              "      <td>-0.200004</td>\n",
              "      <td>-0.233960</td>\n",
              "      <td>-0.002374</td>\n",
              "      <td>-0.070024</td>\n",
              "      <td>0.233904</td>\n",
              "      <td>0.686322</td>\n",
              "      <td>1.000000</td>\n",
              "      <td>0.003404</td>\n",
              "      <td>-0.003404</td>\n",
              "    </tr>\n",
              "    <tr>\n",
              "      <th>Gender_Female</th>\n",
              "      <td>-0.056560</td>\n",
              "      <td>-0.089291</td>\n",
              "      <td>-0.100436</td>\n",
              "      <td>0.027496</td>\n",
              "      <td>-0.082332</td>\n",
              "      <td>-0.080336</td>\n",
              "      <td>0.089121</td>\n",
              "      <td>0.093799</td>\n",
              "      <td>0.003404</td>\n",
              "      <td>1.000000</td>\n",
              "      <td>-1.000000</td>\n",
              "    </tr>\n",
              "    <tr>\n",
              "      <th>Gender_Male</th>\n",
              "      <td>0.056560</td>\n",
              "      <td>0.089291</td>\n",
              "      <td>0.100436</td>\n",
              "      <td>-0.027496</td>\n",
              "      <td>0.082332</td>\n",
              "      <td>0.080336</td>\n",
              "      <td>-0.089121</td>\n",
              "      <td>-0.093799</td>\n",
              "      <td>-0.003404</td>\n",
              "      <td>-1.000000</td>\n",
              "      <td>1.000000</td>\n",
              "    </tr>\n",
              "  </tbody>\n",
              "</table>\n",
              "</div>\n",
              "      <button class=\"colab-df-convert\" onclick=\"convertToInteractive('df-a43ac699-420b-4f0a-826b-f11618dca420')\"\n",
              "              title=\"Convert this dataframe to an interactive table.\"\n",
              "              style=\"display:none;\">\n",
              "        \n",
              "  <svg xmlns=\"http://www.w3.org/2000/svg\" height=\"24px\"viewBox=\"0 0 24 24\"\n",
              "       width=\"24px\">\n",
              "    <path d=\"M0 0h24v24H0V0z\" fill=\"none\"/>\n",
              "    <path d=\"M18.56 5.44l.94 2.06.94-2.06 2.06-.94-2.06-.94-.94-2.06-.94 2.06-2.06.94zm-11 1L8.5 8.5l.94-2.06 2.06-.94-2.06-.94L8.5 2.5l-.94 2.06-2.06.94zm10 10l.94 2.06.94-2.06 2.06-.94-2.06-.94-.94-2.06-.94 2.06-2.06.94z\"/><path d=\"M17.41 7.96l-1.37-1.37c-.4-.4-.92-.59-1.43-.59-.52 0-1.04.2-1.43.59L10.3 9.45l-7.72 7.72c-.78.78-.78 2.05 0 2.83L4 21.41c.39.39.9.59 1.41.59.51 0 1.02-.2 1.41-.59l7.78-7.78 2.81-2.81c.8-.78.8-2.07 0-2.86zM5.41 20L4 18.59l7.72-7.72 1.47 1.35L5.41 20z\"/>\n",
              "  </svg>\n",
              "      </button>\n",
              "      \n",
              "  <style>\n",
              "    .colab-df-container {\n",
              "      display:flex;\n",
              "      flex-wrap:wrap;\n",
              "      gap: 12px;\n",
              "    }\n",
              "\n",
              "    .colab-df-convert {\n",
              "      background-color: #E8F0FE;\n",
              "      border: none;\n",
              "      border-radius: 50%;\n",
              "      cursor: pointer;\n",
              "      display: none;\n",
              "      fill: #1967D2;\n",
              "      height: 32px;\n",
              "      padding: 0 0 0 0;\n",
              "      width: 32px;\n",
              "    }\n",
              "\n",
              "    .colab-df-convert:hover {\n",
              "      background-color: #E2EBFA;\n",
              "      box-shadow: 0px 1px 2px rgba(60, 64, 67, 0.3), 0px 1px 3px 1px rgba(60, 64, 67, 0.15);\n",
              "      fill: #174EA6;\n",
              "    }\n",
              "\n",
              "    [theme=dark] .colab-df-convert {\n",
              "      background-color: #3B4455;\n",
              "      fill: #D2E3FC;\n",
              "    }\n",
              "\n",
              "    [theme=dark] .colab-df-convert:hover {\n",
              "      background-color: #434B5C;\n",
              "      box-shadow: 0px 1px 3px 1px rgba(0, 0, 0, 0.15);\n",
              "      filter: drop-shadow(0px 1px 2px rgba(0, 0, 0, 0.3));\n",
              "      fill: #FFFFFF;\n",
              "    }\n",
              "  </style>\n",
              "\n",
              "      <script>\n",
              "        const buttonEl =\n",
              "          document.querySelector('#df-a43ac699-420b-4f0a-826b-f11618dca420 button.colab-df-convert');\n",
              "        buttonEl.style.display =\n",
              "          google.colab.kernel.accessAllowed ? 'block' : 'none';\n",
              "\n",
              "        async function convertToInteractive(key) {\n",
              "          const element = document.querySelector('#df-a43ac699-420b-4f0a-826b-f11618dca420');\n",
              "          const dataTable =\n",
              "            await google.colab.kernel.invokeFunction('convertToInteractive',\n",
              "                                                     [key], {});\n",
              "          if (!dataTable) return;\n",
              "\n",
              "          const docLinkHtml = 'Like what you see? Visit the ' +\n",
              "            '<a target=\"_blank\" href=https://colab.research.google.com/notebooks/data_table.ipynb>data table notebook</a>'\n",
              "            + ' to learn more about interactive tables.';\n",
              "          element.innerHTML = '';\n",
              "          dataTable['output_type'] = 'display_data';\n",
              "          await google.colab.output.renderOutput(dataTable, element);\n",
              "          const docLink = document.createElement('div');\n",
              "          docLink.innerHTML = docLinkHtml;\n",
              "          element.appendChild(docLink);\n",
              "        }\n",
              "      </script>\n",
              "    </div>\n",
              "  </div>\n",
              "  "
            ]
          },
          "metadata": {},
          "execution_count": 64
        }
      ]
    },
    {
      "metadata": {
        "_cell_guid": "7f17a7ba-96e2-4d91-899c-2378dc63f8fa",
        "_uuid": "44e9f67a5c8d33edaa35d750616a5ef8ae292412",
        "trusted": true,
        "colab": {
          "base_uri": "https://localhost:8080/",
          "height": 1000
        },
        "id": "N8bFhRCM4SoJ",
        "outputId": "474ed882-b379-4507-9d22-8822977fe311"
      },
      "cell_type": "code",
      "source": [
        "plt.figure(figsize=(30, 30))\n",
        "sns.heatmap(liver_corr, cbar = True,  square = True, annot=True, fmt= '.2f',annot_kws={'size': 15},\n",
        "           cmap= 'coolwarm')\n",
        "plt.title('Correlation between features');"
      ],
      "execution_count": 65,
      "outputs": [
        {
          "output_type": "display_data",
          "data": {
            "text/plain": [
              "<Figure size 2160x2160 with 2 Axes>"
            ],
            "image/png": "[encoded data removed]"
          },
          "metadata": {
            "needs_background": "light"
          }
        }
      ]
    },
    {
      "metadata": {
        "_cell_guid": "e5ddc363-f1eb-4225-979b-64d86c2aa578",
        "_uuid": "7879565f25f9f5c349c8e39c506f57243d597636",
        "collapsed": true,
        "trusted": true,
        "id": "s2hbEJpg4SoJ"
      },
      "cell_type": "code",
      "source": [
        "#The above correlation also indicates the following correlation\n",
        "# Total_Protiens & Albumin\n",
        "# Alamine_Aminotransferase & Aspartate_Aminotransferase\n",
        "# Direct_Bilirubin & Total_Bilirubin\n",
        "# There is some correlation between Albumin_and_Globulin_Ratio and Albumin. But its not as high as Total_Protiens & Albumin"
      ],
      "execution_count": 66,
      "outputs": []
    },
    {
      "metadata": {
        "_cell_guid": "d452f2ac-60ed-4330-98a6-70db275af530",
        "_uuid": "458d0033ebbc367888af6082573eef6b7e27e2c9",
        "id": "ln8aCsPC4SoK"
      },
      "cell_type": "markdown",
      "source": [
        "# Machine Learning"
      ]
    },
    {
      "metadata": {
        "_cell_guid": "10d22778-b70f-4190-a277-82b4d020f281",
        "_uuid": "6bc5635a45d3950a0ea94cf088c8571ec8029cbb",
        "collapsed": true,
        "trusted": true,
        "id": "320rs2K74SoK"
      },
      "cell_type": "code",
      "source": [
        "# Importing modules\n",
        "from sklearn.metrics import accuracy_score\n",
        "from sklearn.model_selection import train_test_split\n",
        "from sklearn.metrics import classification_report,confusion_matrix\n",
        "from sklearn import linear_model\n",
        "from sklearn.linear_model import LogisticRegression\n",
        "from sklearn.svm import SVC, LinearSVC\n",
        "from sklearn.ensemble import RandomForestClassifier, AdaBoostClassifier, BaggingClassifier\n",
        "from sklearn.neighbors import KNeighborsClassifier\n",
        "from sklearn.naive_bayes import GaussianNB\n",
        "from sklearn.linear_model import Perceptron\n",
        "from sklearn.linear_model import SGDClassifier\n",
        "from sklearn.tree import DecisionTreeClassifier\n",
        "from sklearn.neural_network import MLPClassifier"
      ],
      "execution_count": 67,
      "outputs": []
    },
    {
      "metadata": {
        "_cell_guid": "ade84f4a-7907-4ff1-a20d-7493ac06c16b",
        "_uuid": "bc317a65e95970b06de98f20e046e1845cb72f75",
        "trusted": true,
        "colab": {
          "base_uri": "https://localhost:8080/"
        },
        "id": "loVnxead4SoK",
        "outputId": "b3ebdba2-4f75-40bb-d828-052940f3da2e"
      },
      "cell_type": "code",
      "source": [
        "X_train, X_test, y_train, y_test = train_test_split(X, y, test_size=0.30, random_state=101)\n",
        "print (X_train.shape)\n",
        "print (y_train.shape)\n",
        "print (X_test.shape)\n",
        "print (y_test.shape)"
      ],
      "execution_count": 68,
      "outputs": [
        {
          "output_type": "stream",
          "name": "stdout",
          "text": [
            "(408, 11)\n",
            "(408,)\n",
            "(175, 11)\n",
            "(175,)\n"
          ]
        }
      ]
    },
    {
      "metadata": {
        "_cell_guid": "6a33cbbf-4c26-4509-aca6-7d8160a68fa7",
        "_uuid": "79462fc8649ec0e0916e874fc6d8766ef6f3b31a",
        "trusted": true,
        "colab": {
          "base_uri": "https://localhost:8080/",
          "height": 838
        },
        "id": "JtgLRS7K4SoK",
        "outputId": "620fc236-e9a6-43ab-99ab-a1f5fe35541c"
      },
      "cell_type": "code",
      "source": [
        "#2) Logistic Regression\n",
        "# Create logistic regression object\n",
        "logreg = LogisticRegression()\n",
        "# Train the model using the training sets and check score\n",
        "logreg.fit(X_train, y_train)\n",
        "#Predict Output\n",
        "log_predicted= logreg.predict(X_test)\n",
        "\n",
        "logreg_score = round(logreg.score(X_train, y_train) * 100, 2)\n",
        "logreg_score_test = round(logreg.score(X_test, y_test) * 100, 2)\n",
        "#Equation coefficient and Intercept\n",
        "print('Logistic Regression Training Score: \\n', logreg_score)\n",
        "print('Logistic Regression Test Score: \\n', logreg_score_test)\n",
        "print('Coefficient: \\n', logreg.coef_)\n",
        "print('Intercept: \\n', logreg.intercept_)\n",
        "print('Accuracy: \\n', accuracy_score(y_test,log_predicted))\n",
        "print('Confusion Matrix: \\n', confusion_matrix(y_test,log_predicted))\n",
        "print('Classification Report: \\n', classification_report(y_test,log_predicted))\n",
        "\n",
        "sns.heatmap(confusion_matrix(y_test,log_predicted),annot=True,fmt=\"d\")\n"
      ],
      "execution_count": 69,
      "outputs": [
        {
          "output_type": "stream",
          "name": "stdout",
          "text": [
            "Logistic Regression Training Score: \n",
            " 72.06\n",
            "Logistic Regression Test Score: \n",
            " 68.0\n",
            "Coefficient: \n",
            " [[-0.00994993 -0.09851216 -0.30688722 -0.00082939 -0.01078829 -0.00275598\n",
            "  -0.23899671  0.40208933  0.59475502  0.25335289  0.09115993]]\n",
            "Intercept: \n",
            " [0.36100671]\n",
            "Accuracy: \n",
            " 0.68\n",
            "Confusion Matrix: \n",
            " [[107  17]\n",
            " [ 39  12]]\n",
            "Classification Report: \n",
            "               precision    recall  f1-score   support\n",
            "\n",
            "           1       0.73      0.86      0.79       124\n",
            "           2       0.41      0.24      0.30        51\n",
            "\n",
            "    accuracy                           0.68       175\n",
            "   macro avg       0.57      0.55      0.55       175\n",
            "weighted avg       0.64      0.68      0.65       175\n",
            "\n"
          ]
        },
        {
          "output_type": "stream",
          "name": "stderr",
          "text": [
            "/usr/local/lib/python3.7/dist-packages/sklearn/linear_model/_logistic.py:818: ConvergenceWarning: lbfgs failed to converge (status=1):\n",
            "STOP: TOTAL NO. of ITERATIONS REACHED LIMIT.\n",
            "\n",
            "Increase the number of iterations (max_iter) or scale the data as shown in:\n",
            "    https://scikit-learn.org/stable/modules/preprocessing.html\n",
            "Please also refer to the documentation for alternative solver options:\n",
            "    https://scikit-learn.org/stable/modules/linear_model.html#logistic-regression\n",
            "  extra_warning_msg=_LOGISTIC_SOLVER_CONVERGENCE_MSG,\n"
          ]
        },
        {
          "output_type": "execute_result",
          "data": {
            "text/plain": [
              "<matplotlib.axes._subplots.AxesSubplot at 0x7f8554c776d0>"
            ]
          },
          "metadata": {},
          "execution_count": 69
        },
        {
          "output_type": "display_data",
          "data": {
            "text/plain": [
              "<Figure size 432x288 with 2 Axes>"
            ],
            "image/png": "[encoded data removed]"
          },
          "metadata": {
            "needs_background": "light"
          }
        }
      ]
    },
    {
      "metadata": {
        "_cell_guid": "89140e45-c762-4514-9474-821c9d85447f",
        "_uuid": "12a4e1da350653eb0e1c0307cd1d6d17015df422",
        "trusted": true,
        "colab": {
          "base_uri": "https://localhost:8080/",
          "height": 394
        },
        "id": "oGu1Xu9v4SoK",
        "outputId": "92ce7025-973a-4b97-cb7e-b8e2484154a9"
      },
      "cell_type": "code",
      "source": [
        "coeff_df = pd.DataFrame(X.columns)\n",
        "coeff_df.columns = ['Feature']\n",
        "coeff_df[\"Correlation\"] = pd.Series(logreg.coef_[0])\n",
        "pd.Series(logreg.coef_[0])\n",
        "\n",
        "coeff_df.sort_values(by='Correlation', ascending=False)"
      ],
      "execution_count": 70,
      "outputs": [
        {
          "output_type": "execute_result",
          "data": {
            "text/plain": [
              "                       Feature  Correlation\n",
              "8   Albumin_and_Globulin_Ratio     0.594755\n",
              "7                      Albumin     0.402089\n",
              "9                Gender_Female     0.253353\n",
              "10                 Gender_Male     0.091160\n",
              "3         Alkaline_Phosphotase    -0.000829\n",
              "5   Aspartate_Aminotransferase    -0.002756\n",
              "0                          Age    -0.009950\n",
              "4     Alamine_Aminotransferase    -0.010788\n",
              "1              Total_Bilirubin    -0.098512\n",
              "6               Total_Protiens    -0.238997\n",
              "2             Direct_Bilirubin    -0.306887"
            ],
            "text/html": [
              "\n",
              "  <div id=\"df-e179e057-0ce1-47a8-98be-7ac58b7e228c\">\n",
              "    <div class=\"colab-df-container\">\n",
              "      <div>\n",
              "<style scoped>\n",
              "    .dataframe tbody tr th:only-of-type {\n",
              "        vertical-align: middle;\n",
              "    }\n",
              "\n",
              "    .dataframe tbody tr th {\n",
              "        vertical-align: top;\n",
              "    }\n",
              "\n",
              "    .dataframe thead th {\n",
              "        text-align: right;\n",
              "    }\n",
              "</style>\n",
              "<table border=\"1\" class=\"dataframe\">\n",
              "  <thead>\n",
              "    <tr style=\"text-align: right;\">\n",
              "      <th></th>\n",
              "      <th>Feature</th>\n",
              "      <th>Correlation</th>\n",
              "    </tr>\n",
              "  </thead>\n",
              "  <tbody>\n",
              "    <tr>\n",
              "      <th>8</th>\n",
              "      <td>Albumin_and_Globulin_Ratio</td>\n",
              "      <td>0.594755</td>\n",
              "    </tr>\n",
              "    <tr>\n",
              "      <th>7</th>\n",
              "      <td>Albumin</td>\n",
              "      <td>0.402089</td>\n",
              "    </tr>\n",
              "    <tr>\n",
              "      <th>9</th>\n",
              "      <td>Gender_Female</td>\n",
              "      <td>0.253353</td>\n",
              "    </tr>\n",
              "    <tr>\n",
              "      <th>10</th>\n",
              "      <td>Gender_Male</td>\n",
              "      <td>0.091160</td>\n",
              "    </tr>\n",
              "    <tr>\n",
              "      <th>3</th>\n",
              "      <td>Alkaline_Phosphotase</td>\n",
              "      <td>-0.000829</td>\n",
              "    </tr>\n",
              "    <tr>\n",
              "      <th>5</th>\n",
              "      <td>Aspartate_Aminotransferase</td>\n",
              "      <td>-0.002756</td>\n",
              "    </tr>\n",
              "    <tr>\n",
              "      <th>0</th>\n",
              "      <td>Age</td>\n",
              "      <td>-0.009950</td>\n",
              "    </tr>\n",
              "    <tr>\n",
              "      <th>4</th>\n",
              "      <td>Alamine_Aminotransferase</td>\n",
              "      <td>-0.010788</td>\n",
              "    </tr>\n",
              "    <tr>\n",
              "      <th>1</th>\n",
              "      <td>Total_Bilirubin</td>\n",
              "      <td>-0.098512</td>\n",
              "    </tr>\n",
              "    <tr>\n",
              "      <th>6</th>\n",
              "      <td>Total_Protiens</td>\n",
              "      <td>-0.238997</td>\n",
              "    </tr>\n",
              "    <tr>\n",
              "      <th>2</th>\n",
              "      <td>Direct_Bilirubin</td>\n",
              "      <td>-0.306887</td>\n",
              "    </tr>\n",
              "  </tbody>\n",
              "</table>\n",
              "</div>\n",
              "      <button class=\"colab-df-convert\" onclick=\"convertToInteractive('df-e179e057-0ce1-47a8-98be-7ac58b7e228c')\"\n",
              "              title=\"Convert this dataframe to an interactive table.\"\n",
              "              style=\"display:none;\">\n",
              "        \n",
              "  <svg xmlns=\"http://www.w3.org/2000/svg\" height=\"24px\"viewBox=\"0 0 24 24\"\n",
              "       width=\"24px\">\n",
              "    <path d=\"M0 0h24v24H0V0z\" fill=\"none\"/>\n",
              "    <path d=\"M18.56 5.44l.94 2.06.94-2.06 2.06-.94-2.06-.94-.94-2.06-.94 2.06-2.06.94zm-11 1L8.5 8.5l.94-2.06 2.06-.94-2.06-.94L8.5 2.5l-.94 2.06-2.06.94zm10 10l.94 2.06.94-2.06 2.06-.94-2.06-.94-.94-2.06-.94 2.06-2.06.94z\"/><path d=\"M17.41 7.96l-1.37-1.37c-.4-.4-.92-.59-1.43-.59-.52 0-1.04.2-1.43.59L10.3 9.45l-7.72 7.72c-.78.78-.78 2.05 0 2.83L4 21.41c.39.39.9.59 1.41.59.51 0 1.02-.2 1.41-.59l7.78-7.78 2.81-2.81c.8-.78.8-2.07 0-2.86zM5.41 20L4 18.59l7.72-7.72 1.47 1.35L5.41 20z\"/>\n",
              "  </svg>\n",
              "      </button>\n",
              "      \n",
              "  <style>\n",
              "    .colab-df-container {\n",
              "      display:flex;\n",
              "      flex-wrap:wrap;\n",
              "      gap: 12px;\n",
              "    }\n",
              "\n",
              "    .colab-df-convert {\n",
              "      background-color: #E8F0FE;\n",
              "      border: none;\n",
              "      border-radius: 50%;\n",
              "      cursor: pointer;\n",
              "      display: none;\n",
              "      fill: #1967D2;\n",
              "      height: 32px;\n",
              "      padding: 0 0 0 0;\n",
              "      width: 32px;\n",
              "    }\n",
              "\n",
              "    .colab-df-convert:hover {\n",
              "      background-color: #E2EBFA;\n",
              "      box-shadow: 0px 1px 2px rgba(60, 64, 67, 0.3), 0px 1px 3px 1px rgba(60, 64, 67, 0.15);\n",
              "      fill: #174EA6;\n",
              "    }\n",
              "\n",
              "    [theme=dark] .colab-df-convert {\n",
              "      background-color: #3B4455;\n",
              "      fill: #D2E3FC;\n",
              "    }\n",
              "\n",
              "    [theme=dark] .colab-df-convert:hover {\n",
              "      background-color: #434B5C;\n",
              "      box-shadow: 0px 1px 3px 1px rgba(0, 0, 0, 0.15);\n",
              "      filter: drop-shadow(0px 1px 2px rgba(0, 0, 0, 0.3));\n",
              "      fill: #FFFFFF;\n",
              "    }\n",
              "  </style>\n",
              "\n",
              "      <script>\n",
              "        const buttonEl =\n",
              "          document.querySelector('#df-e179e057-0ce1-47a8-98be-7ac58b7e228c button.colab-df-convert');\n",
              "        buttonEl.style.display =\n",
              "          google.colab.kernel.accessAllowed ? 'block' : 'none';\n",
              "\n",
              "        async function convertToInteractive(key) {\n",
              "          const element = document.querySelector('#df-e179e057-0ce1-47a8-98be-7ac58b7e228c');\n",
              "          const dataTable =\n",
              "            await google.colab.kernel.invokeFunction('convertToInteractive',\n",
              "                                                     [key], {});\n",
              "          if (!dataTable) return;\n",
              "\n",
              "          const docLinkHtml = 'Like what you see? Visit the ' +\n",
              "            '<a target=\"_blank\" href=https://colab.research.google.com/notebooks/data_table.ipynb>data table notebook</a>'\n",
              "            + ' to learn more about interactive tables.';\n",
              "          element.innerHTML = '';\n",
              "          dataTable['output_type'] = 'display_data';\n",
              "          await google.colab.output.renderOutput(dataTable, element);\n",
              "          const docLink = document.createElement('div');\n",
              "          docLink.innerHTML = docLinkHtml;\n",
              "          element.appendChild(docLink);\n",
              "        }\n",
              "      </script>\n",
              "    </div>\n",
              "  </div>\n",
              "  "
            ]
          },
          "metadata": {},
          "execution_count": 70
        }
      ]
    },
    {
      "metadata": {
        "_cell_guid": "133bdeb1-d6d9-4eed-8c95-88a4fa237d84",
        "_uuid": "da565cb49c73098981463b6dd5e941cddd2cab9b",
        "trusted": true,
        "colab": {
          "base_uri": "https://localhost:8080/",
          "height": 582
        },
        "id": "7rtvVbWG4SoL",
        "outputId": "e83a0a67-d7ae-4fd2-85be-6afbf99c5fce"
      },
      "cell_type": "code",
      "source": [
        "# Gaussian Naive Bayes\n",
        "\n",
        "gaussian = GaussianNB()\n",
        "gaussian.fit(X_train, y_train)\n",
        "#Predict Output\n",
        "gauss_predicted = gaussian.predict(X_test)\n",
        "\n",
        "gauss_score = round(gaussian.score(X_train, y_train) * 100, 2)\n",
        "gauss_score_test = round(gaussian.score(X_test, y_test) * 100, 2)\n",
        "print('Gaussian Score: \\n', gauss_score)\n",
        "print('Gaussian Test Score: \\n', gauss_score_test)\n",
        "print('Accuracy: \\n', accuracy_score(y_test, gauss_predicted))\n",
        "print(confusion_matrix(y_test,gauss_predicted))\n",
        "print(classification_report(y_test,gauss_predicted))\n",
        "\n",
        "sns.heatmap(confusion_matrix(y_test,gauss_predicted),annot=True,fmt=\"d\")"
      ],
      "execution_count": 71,
      "outputs": [
        {
          "output_type": "stream",
          "name": "stdout",
          "text": [
            "Gaussian Score: \n",
            " 56.13\n",
            "Gaussian Test Score: \n",
            " 53.14\n",
            "Accuracy: \n",
            " 0.5314285714285715\n",
            "[[44 80]\n",
            " [ 2 49]]\n",
            "              precision    recall  f1-score   support\n",
            "\n",
            "           1       0.96      0.35      0.52       124\n",
            "           2       0.38      0.96      0.54        51\n",
            "\n",
            "    accuracy                           0.53       175\n",
            "   macro avg       0.67      0.66      0.53       175\n",
            "weighted avg       0.79      0.53      0.53       175\n",
            "\n"
          ]
        },
        {
          "output_type": "execute_result",
          "data": {
            "text/plain": [
              "<matplotlib.axes._subplots.AxesSubplot at 0x7f8554cb9490>"
            ]
          },
          "metadata": {},
          "execution_count": 71
        },
        {
          "output_type": "display_data",
          "data": {
            "text/plain": [
              "<Figure size 432x288 with 2 Axes>"
            ],
            "image/png": "[encoded data removed]"
          },
          "metadata": {
            "needs_background": "light"
          }
        }
      ]
    },
    {
      "metadata": {
        "_cell_guid": "3ebf85d5-2867-49a8-821d-4566f7d066a0",
        "_uuid": "1613eb76e677ff43f9253c41775f0064a6162b1d",
        "trusted": true,
        "colab": {
          "base_uri": "https://localhost:8080/"
        },
        "id": "Dm8KJkjj4SoL",
        "outputId": "06468f39-c325-4aec-8757-926bb3ea52de"
      },
      "cell_type": "code",
      "source": [
        "# Random Forest\n",
        "\n",
        "random_forest = RandomForestClassifier(n_estimators=100)\n",
        "random_forest.fit(X_train, y_train)\n",
        "#Predict Output\n",
        "rf_predicted = random_forest.predict(X_test)\n",
        "\n",
        "random_forest_score = round(random_forest.score(X_train, y_train) * 100, 2)\n",
        "random_forest_score_test = round(random_forest.score(X_test, y_test) * 100, 2)\n",
        "print('Random Forest Score: \\n', random_forest_score)\n",
        "print('Random Forest Test Score: \\n', random_forest_score_test)\n",
        "print('Accuracy: \\n', accuracy_score(y_test,rf_predicted))\n",
        "print(confusion_matrix(y_test,rf_predicted))\n",
        "print(classification_report(y_test,rf_predicted))"
      ],
      "execution_count": 72,
      "outputs": [
        {
          "output_type": "stream",
          "name": "stdout",
          "text": [
            "Random Forest Score: \n",
            " 100.0\n",
            "Random Forest Test Score: \n",
            " 68.0\n",
            "Accuracy: \n",
            " 0.68\n",
            "[[99 25]\n",
            " [31 20]]\n",
            "              precision    recall  f1-score   support\n",
            "\n",
            "           1       0.76      0.80      0.78       124\n",
            "           2       0.44      0.39      0.42        51\n",
            "\n",
            "    accuracy                           0.68       175\n",
            "   macro avg       0.60      0.60      0.60       175\n",
            "weighted avg       0.67      0.68      0.67       175\n",
            "\n"
          ]
        }
      ]
    },
    {
      "metadata": {
        "_cell_guid": "43ad5917-e40f-4e2a-bae5-182d2baadb6c",
        "_uuid": "2d8812b1ccb4a56cfde468f223a6539974b54394",
        "trusted": true,
        "colab": {
          "base_uri": "https://localhost:8080/",
          "height": 143
        },
        "id": "G9emFXQu4SoL",
        "outputId": "cabd34f4-bff4-44ca-d954-dfc0755d2724"
      },
      "cell_type": "code",
      "source": [
        "###Model evaluation\n",
        "#We can now rank our evaluation of all the models to choose the best one for our problem. \n",
        "models = pd.DataFrame({\n",
        "    'Model': [ 'Logistic Regression', 'Gaussian Naive Bayes','Random Forest'],\n",
        "    'Score': [ logreg_score, gauss_score, random_forest_score],\n",
        "    'Test Score': [ logreg_score_test, gauss_score_test, random_forest_score_test]})\n",
        "models.sort_values(by='Test Score', ascending=False)"
      ],
      "execution_count": 73,
      "outputs": [
        {
          "output_type": "execute_result",
          "data": {
            "text/plain": [
              "                  Model   Score  Test Score\n",
              "0   Logistic Regression   72.06       68.00\n",
              "2         Random Forest  100.00       68.00\n",
              "1  Gaussian Naive Bayes   56.13       53.14"
            ],
            "text/html": [
              "\n",
              "  <div id=\"df-2d658b54-c7f7-4175-a173-21046971a257\">\n",
              "    <div class=\"colab-df-container\">\n",
              "      <div>\n",
              "<style scoped>\n",
              "    .dataframe tbody tr th:only-of-type {\n",
              "        vertical-align: middle;\n",
              "    }\n",
              "\n",
              "    .dataframe tbody tr th {\n",
              "        vertical-align: top;\n",
              "    }\n",
              "\n",
              "    .dataframe thead th {\n",
              "        text-align: right;\n",
              "    }\n",
              "</style>\n",
              "<table border=\"1\" class=\"dataframe\">\n",
              "  <thead>\n",
              "    <tr style=\"text-align: right;\">\n",
              "      <th></th>\n",
              "      <th>Model</th>\n",
              "      <th>Score</th>\n",
              "      <th>Test Score</th>\n",
              "    </tr>\n",
              "  </thead>\n",
              "  <tbody>\n",
              "    <tr>\n",
              "      <th>0</th>\n",
              "      <td>Logistic Regression</td>\n",
              "      <td>72.06</td>\n",
              "      <td>68.00</td>\n",
              "    </tr>\n",
              "    <tr>\n",
              "      <th>2</th>\n",
              "      <td>Random Forest</td>\n",
              "      <td>100.00</td>\n",
              "      <td>68.00</td>\n",
              "    </tr>\n",
              "    <tr>\n",
              "      <th>1</th>\n",
              "      <td>Gaussian Naive Bayes</td>\n",
              "      <td>56.13</td>\n",
              "      <td>53.14</td>\n",
              "    </tr>\n",
              "  </tbody>\n",
              "</table>\n",
              "</div>\n",
              "      <button class=\"colab-df-convert\" onclick=\"convertToInteractive('df-2d658b54-c7f7-4175-a173-21046971a257')\"\n",
              "              title=\"Convert this dataframe to an interactive table.\"\n",
              "              style=\"display:none;\">\n",
              "        \n",
              "  <svg xmlns=\"http://www.w3.org/2000/svg\" height=\"24px\"viewBox=\"0 0 24 24\"\n",
              "       width=\"24px\">\n",
              "    <path d=\"M0 0h24v24H0V0z\" fill=\"none\"/>\n",
              "    <path d=\"M18.56 5.44l.94 2.06.94-2.06 2.06-.94-2.06-.94-.94-2.06-.94 2.06-2.06.94zm-11 1L8.5 8.5l.94-2.06 2.06-.94-2.06-.94L8.5 2.5l-.94 2.06-2.06.94zm10 10l.94 2.06.94-2.06 2.06-.94-2.06-.94-.94-2.06-.94 2.06-2.06.94z\"/><path d=\"M17.41 7.96l-1.37-1.37c-.4-.4-.92-.59-1.43-.59-.52 0-1.04.2-1.43.59L10.3 9.45l-7.72 7.72c-.78.78-.78 2.05 0 2.83L4 21.41c.39.39.9.59 1.41.59.51 0 1.02-.2 1.41-.59l7.78-7.78 2.81-2.81c.8-.78.8-2.07 0-2.86zM5.41 20L4 18.59l7.72-7.72 1.47 1.35L5.41 20z\"/>\n",
              "  </svg>\n",
              "      </button>\n",
              "      \n",
              "  <style>\n",
              "    .colab-df-container {\n",
              "      display:flex;\n",
              "      flex-wrap:wrap;\n",
              "      gap: 12px;\n",
              "    }\n",
              "\n",
              "    .colab-df-convert {\n",
              "      background-color: #E8F0FE;\n",
              "      border: none;\n",
              "      border-radius: 50%;\n",
              "      cursor: pointer;\n",
              "      display: none;\n",
              "      fill: #1967D2;\n",
              "      height: 32px;\n",
              "      padding: 0 0 0 0;\n",
              "      width: 32px;\n",
              "    }\n",
              "\n",
              "    .colab-df-convert:hover {\n",
              "      background-color: #E2EBFA;\n",
              "      box-shadow: 0px 1px 2px rgba(60, 64, 67, 0.3), 0px 1px 3px 1px rgba(60, 64, 67, 0.15);\n",
              "      fill: #174EA6;\n",
              "    }\n",
              "\n",
              "    [theme=dark] .colab-df-convert {\n",
              "      background-color: #3B4455;\n",
              "      fill: #D2E3FC;\n",
              "    }\n",
              "\n",
              "    [theme=dark] .colab-df-convert:hover {\n",
              "      background-color: #434B5C;\n",
              "      box-shadow: 0px 1px 3px 1px rgba(0, 0, 0, 0.15);\n",
              "      filter: drop-shadow(0px 1px 2px rgba(0, 0, 0, 0.3));\n",
              "      fill: #FFFFFF;\n",
              "    }\n",
              "  </style>\n",
              "\n",
              "      <script>\n",
              "        const buttonEl =\n",
              "          document.querySelector('#df-2d658b54-c7f7-4175-a173-21046971a257 button.colab-df-convert');\n",
              "        buttonEl.style.display =\n",
              "          google.colab.kernel.accessAllowed ? 'block' : 'none';\n",
              "\n",
              "        async function convertToInteractive(key) {\n",
              "          const element = document.querySelector('#df-2d658b54-c7f7-4175-a173-21046971a257');\n",
              "          const dataTable =\n",
              "            await google.colab.kernel.invokeFunction('convertToInteractive',\n",
              "                                                     [key], {});\n",
              "          if (!dataTable) return;\n",
              "\n",
              "          const docLinkHtml = 'Like what you see? Visit the ' +\n",
              "            '<a target=\"_blank\" href=https://colab.research.google.com/notebooks/data_table.ipynb>data table notebook</a>'\n",
              "            + ' to learn more about interactive tables.';\n",
              "          element.innerHTML = '';\n",
              "          dataTable['output_type'] = 'display_data';\n",
              "          await google.colab.output.renderOutput(dataTable, element);\n",
              "          const docLink = document.createElement('div');\n",
              "          docLink.innerHTML = docLinkHtml;\n",
              "          element.appendChild(docLink);\n",
              "        }\n",
              "      </script>\n",
              "    </div>\n",
              "  </div>\n",
              "  "
            ]
          },
          "metadata": {},
          "execution_count": 73
        }
      ]
    },
    {
      "metadata": {
        "trusted": true,
        "_uuid": "65f3a976213dfb21de9375c8bd75e75b59463aec",
        "colab": {
          "base_uri": "https://localhost:8080/"
        },
        "id": "34oRohhV4SoL",
        "outputId": "c639dec2-7d3e-45bf-f580-f951d08d2b1a"
      },
      "cell_type": "code",
      "source": [
        "linear = linear_model.LinearRegression()\n",
        "# Train the model using the training sets and check score\n",
        "linear.fit(X_train, y_train)\n",
        "#Predict Output\n",
        "lin_predicted = linear.predict(X_test)\n",
        "\n",
        "linear_score = round(linear.score(X_train, y_train) * 100, 2)\n",
        "linear_score_test = round(linear.score(X_test, y_test) * 100, 2)\n",
        "#Equation coefficient and Intercept\n",
        "print('Linear Regression Score: \\n', linear_score)\n",
        "print('Linear Regression Test Score: \\n', linear_score_test)\n",
        "print('Coefficient: \\n', linear.coef_)\n",
        "print('Intercept: \\n', linear.intercept_)\n",
        "\n",
        "from sklearn.feature_selection import RFE\n",
        "rfe =RFE(linear, n_features_to_select=3)\n",
        "rfe.fit(X,y)"
      ],
      "execution_count": 74,
      "outputs": [
        {
          "output_type": "stream",
          "name": "stdout",
          "text": [
            "Linear Regression Score: \n",
            " 13.12\n",
            "Linear Regression Test Score: \n",
            " 8.07\n",
            "Coefficient: \n",
            " [-2.53338525e-03 -4.02775624e-04 -2.29658815e-02 -2.17508414e-04\n",
            " -3.93047877e-04  6.12504741e-05 -5.55814496e-02  8.31023933e-02\n",
            "  6.22099710e-02  4.61371689e-02 -4.61371689e-02]\n",
            "Intercept: \n",
            " 1.5942528884830836\n"
          ]
        },
        {
          "output_type": "execute_result",
          "data": {
            "text/plain": [
              "RFE(estimator=LinearRegression(), n_features_to_select=3)"
            ]
          },
          "metadata": {},
          "execution_count": 74
        }
      ]
    },
    {
      "metadata": {
        "trusted": true,
        "_uuid": "baeb67c97907ccb86bfba6cfa3478b5b57e8aa36",
        "colab": {
          "base_uri": "https://localhost:8080/"
        },
        "id": "OQz2JAYH4SoL",
        "outputId": "476beb8b-385c-456e-df6b-35f6a98ddac1"
      },
      "cell_type": "code",
      "source": [
        "for i in range(len(rfe.ranking_)):\n",
        "    if rfe.ranking_[i] == 1:\n",
        "        print(X.columns.values[i])"
      ],
      "execution_count": 75,
      "outputs": [
        {
          "output_type": "stream",
          "name": "stdout",
          "text": [
            "Total_Protiens\n",
            "Albumin\n",
            "Gender_Male\n"
          ]
        }
      ]
    },
    {
      "metadata": {
        "_cell_guid": "02e32ee7-5d28-40c4-b3fd-6a945d9a4830",
        "_uuid": "bc5d9679e8ac9ef04048e24eb735e189cfd1aa50",
        "trusted": true,
        "colab": {
          "base_uri": "https://localhost:8080/",
          "height": 175
        },
        "id": "8UoF6b-Q4SoL",
        "outputId": "9f3ddd12-448d-4e60-fb82-8727e106b94d"
      },
      "cell_type": "code",
      "source": [
        "#I'm considering seven important features based on recursive feature elimination\n",
        "#finX = liver_df[['Age','Direct_Bilirubin','Total_Protiens','Albumin', 'Gender_Female', 'Gender_Male']]\n",
        "finX = liver_df[['Total_Protiens','Albumin', 'Gender_Male']]\n",
        "finX.head(4)"
      ],
      "execution_count": 76,
      "outputs": [
        {
          "output_type": "execute_result",
          "data": {
            "text/plain": [
              "   Total_Protiens  Albumin  Gender_Male\n",
              "0             6.8      3.3            0\n",
              "1             7.5      3.2            1\n",
              "2             7.0      3.3            1\n",
              "3             6.8      3.4            1"
            ],
            "text/html": [
              "\n",
              "  <div id=\"df-bcff4fb7-e09f-4543-b3c5-ca89c3bb425e\">\n",
              "    <div class=\"colab-df-container\">\n",
              "      <div>\n",
              "<style scoped>\n",
              "    .dataframe tbody tr th:only-of-type {\n",
              "        vertical-align: middle;\n",
              "    }\n",
              "\n",
              "    .dataframe tbody tr th {\n",
              "        vertical-align: top;\n",
              "    }\n",
              "\n",
              "    .dataframe thead th {\n",
              "        text-align: right;\n",
              "    }\n",
              "</style>\n",
              "<table border=\"1\" class=\"dataframe\">\n",
              "  <thead>\n",
              "    <tr style=\"text-align: right;\">\n",
              "      <th></th>\n",
              "      <th>Total_Protiens</th>\n",
              "      <th>Albumin</th>\n",
              "      <th>Gender_Male</th>\n",
              "    </tr>\n",
              "  </thead>\n",
              "  <tbody>\n",
              "    <tr>\n",
              "      <th>0</th>\n",
              "      <td>6.8</td>\n",
              "      <td>3.3</td>\n",
              "      <td>0</td>\n",
              "    </tr>\n",
              "    <tr>\n",
              "      <th>1</th>\n",
              "      <td>7.5</td>\n",
              "      <td>3.2</td>\n",
              "      <td>1</td>\n",
              "    </tr>\n",
              "    <tr>\n",
              "      <th>2</th>\n",
              "      <td>7.0</td>\n",
              "      <td>3.3</td>\n",
              "      <td>1</td>\n",
              "    </tr>\n",
              "    <tr>\n",
              "      <th>3</th>\n",
              "      <td>6.8</td>\n",
              "      <td>3.4</td>\n",
              "      <td>1</td>\n",
              "    </tr>\n",
              "  </tbody>\n",
              "</table>\n",
              "</div>\n",
              "      <button class=\"colab-df-convert\" onclick=\"convertToInteractive('df-bcff4fb7-e09f-4543-b3c5-ca89c3bb425e')\"\n",
              "              title=\"Convert this dataframe to an interactive table.\"\n",
              "              style=\"display:none;\">\n",
              "        \n",
              "  <svg xmlns=\"http://www.w3.org/2000/svg\" height=\"24px\"viewBox=\"0 0 24 24\"\n",
              "       width=\"24px\">\n",
              "    <path d=\"M0 0h24v24H0V0z\" fill=\"none\"/>\n",
              "    <path d=\"M18.56 5.44l.94 2.06.94-2.06 2.06-.94-2.06-.94-.94-2.06-.94 2.06-2.06.94zm-11 1L8.5 8.5l.94-2.06 2.06-.94-2.06-.94L8.5 2.5l-.94 2.06-2.06.94zm10 10l.94 2.06.94-2.06 2.06-.94-2.06-.94-.94-2.06-.94 2.06-2.06.94z\"/><path d=\"M17.41 7.96l-1.37-1.37c-.4-.4-.92-.59-1.43-.59-.52 0-1.04.2-1.43.59L10.3 9.45l-7.72 7.72c-.78.78-.78 2.05 0 2.83L4 21.41c.39.39.9.59 1.41.59.51 0 1.02-.2 1.41-.59l7.78-7.78 2.81-2.81c.8-.78.8-2.07 0-2.86zM5.41 20L4 18.59l7.72-7.72 1.47 1.35L5.41 20z\"/>\n",
              "  </svg>\n",
              "      </button>\n",
              "      \n",
              "  <style>\n",
              "    .colab-df-container {\n",
              "      display:flex;\n",
              "      flex-wrap:wrap;\n",
              "      gap: 12px;\n",
              "    }\n",
              "\n",
              "    .colab-df-convert {\n",
              "      background-color: #E8F0FE;\n",
              "      border: none;\n",
              "      border-radius: 50%;\n",
              "      cursor: pointer;\n",
              "      display: none;\n",
              "      fill: #1967D2;\n",
              "      height: 32px;\n",
              "      padding: 0 0 0 0;\n",
              "      width: 32px;\n",
              "    }\n",
              "\n",
              "    .colab-df-convert:hover {\n",
              "      background-color: #E2EBFA;\n",
              "      box-shadow: 0px 1px 2px rgba(60, 64, 67, 0.3), 0px 1px 3px 1px rgba(60, 64, 67, 0.15);\n",
              "      fill: #174EA6;\n",
              "    }\n",
              "\n",
              "    [theme=dark] .colab-df-convert {\n",
              "      background-color: #3B4455;\n",
              "      fill: #D2E3FC;\n",
              "    }\n",
              "\n",
              "    [theme=dark] .colab-df-convert:hover {\n",
              "      background-color: #434B5C;\n",
              "      box-shadow: 0px 1px 3px 1px rgba(0, 0, 0, 0.15);\n",
              "      filter: drop-shadow(0px 1px 2px rgba(0, 0, 0, 0.3));\n",
              "      fill: #FFFFFF;\n",
              "    }\n",
              "  </style>\n",
              "\n",
              "      <script>\n",
              "        const buttonEl =\n",
              "          document.querySelector('#df-bcff4fb7-e09f-4543-b3c5-ca89c3bb425e button.colab-df-convert');\n",
              "        buttonEl.style.display =\n",
              "          google.colab.kernel.accessAllowed ? 'block' : 'none';\n",
              "\n",
              "        async function convertToInteractive(key) {\n",
              "          const element = document.querySelector('#df-bcff4fb7-e09f-4543-b3c5-ca89c3bb425e');\n",
              "          const dataTable =\n",
              "            await google.colab.kernel.invokeFunction('convertToInteractive',\n",
              "                                                     [key], {});\n",
              "          if (!dataTable) return;\n",
              "\n",
              "          const docLinkHtml = 'Like what you see? Visit the ' +\n",
              "            '<a target=\"_blank\" href=https://colab.research.google.com/notebooks/data_table.ipynb>data table notebook</a>'\n",
              "            + ' to learn more about interactive tables.';\n",
              "          element.innerHTML = '';\n",
              "          dataTable['output_type'] = 'display_data';\n",
              "          await google.colab.output.renderOutput(dataTable, element);\n",
              "          const docLink = document.createElement('div');\n",
              "          docLink.innerHTML = docLinkHtml;\n",
              "          element.appendChild(docLink);\n",
              "        }\n",
              "      </script>\n",
              "    </div>\n",
              "  </div>\n",
              "  "
            ]
          },
          "metadata": {},
          "execution_count": 76
        }
      ]
    },
    {
      "metadata": {
        "_cell_guid": "7f8cb246-bf58-4f0a-914b-f4d72e39638c",
        "_uuid": "868e712ae862044058d4390fb26a6d91db86edc2",
        "collapsed": true,
        "trusted": true,
        "id": "ZlAJli_24SoM"
      },
      "cell_type": "code",
      "source": [
        "X_train, X_test, y_train, y_test = train_test_split(finX, y, test_size=0.30, random_state=101)"
      ],
      "execution_count": 77,
      "outputs": []
    },
    {
      "metadata": {
        "trusted": true,
        "_uuid": "8f6d358db23a877239ad211bb57b2f952d5c4149",
        "colab": {
          "base_uri": "https://localhost:8080/",
          "height": 686
        },
        "id": "egRltdHl4SoM",
        "outputId": "af1f6bf5-ab6a-4a93-9cfb-acad5da82827"
      },
      "cell_type": "code",
      "source": [
        "#Logistic Regression\n",
        "logreg = LogisticRegression()\n",
        "# Train the model using the training sets and check score\n",
        "logreg.fit(X_train, y_train)\n",
        "#Predict Output\n",
        "log_predicted= logreg.predict(X_test)\n",
        "\n",
        "logreg_score = round(logreg.score(X_train, y_train) * 100, 2)\n",
        "logreg_score_test = round(logreg.score(X_test, y_test) * 100, 2)\n",
        "#Equation coefficient and Intercept\n",
        "print('Logistic Regression Training Score: \\n', logreg_score)\n",
        "print('Logistic Regression Test Score: \\n', logreg_score_test)\n",
        "print('Coefficient: \\n', logreg.coef_)\n",
        "print('Intercept: \\n', logreg.intercept_)\n",
        "print('Accuracy: \\n', accuracy_score(y_test,log_predicted))\n",
        "print('Confusion Matrix: \\n', confusion_matrix(y_test,log_predicted))\n",
        "print('Classification Report: \\n', classification_report(y_test,log_predicted))\n",
        "\n",
        "sns.heatmap(confusion_matrix(y_test,log_predicted),annot=True,fmt=\"d\")\n"
      ],
      "execution_count": 78,
      "outputs": [
        {
          "output_type": "stream",
          "name": "stdout",
          "text": [
            "Logistic Regression Training Score: \n",
            " 71.08\n",
            "Logistic Regression Test Score: \n",
            " 71.43\n",
            "Coefficient: \n",
            " [[-0.58254377  1.08940697 -0.54185122]]\n",
            "Intercept: \n",
            " [-0.20423275]\n",
            "Accuracy: \n",
            " 0.7142857142857143\n",
            "Confusion Matrix: \n",
            " [[120   4]\n",
            " [ 46   5]]\n",
            "Classification Report: \n",
            "               precision    recall  f1-score   support\n",
            "\n",
            "           1       0.72      0.97      0.83       124\n",
            "           2       0.56      0.10      0.17        51\n",
            "\n",
            "    accuracy                           0.71       175\n",
            "   macro avg       0.64      0.53      0.50       175\n",
            "weighted avg       0.67      0.71      0.63       175\n",
            "\n"
          ]
        },
        {
          "output_type": "execute_result",
          "data": {
            "text/plain": [
              "<matplotlib.axes._subplots.AxesSubplot at 0x7f8554aea510>"
            ]
          },
          "metadata": {},
          "execution_count": 78
        },
        {
          "output_type": "display_data",
          "data": {
            "text/plain": [
              "<Figure size 432x288 with 2 Axes>"
            ],
            "image/png": "[encoded data removed]"
          },
          "metadata": {
            "needs_background": "light"
          }
        }
      ]
    }
  ],
  "metadata": {
    "kernelspec": {
      "display_name": "Python 3",
      "language": "python",
      "name": "python3"
    },
    "language_info": {
      "name": "python",
      "version": "3.6.4",
      "mimetype": "text/x-python",
      "codemirror_mode": {
        "name": "ipython",
        "version": 3
      },
      "pygments_lexer": "ipython3",
      "nbconvert_exporter": "python",
      "file_extension": ".py"
    },
    "colab": {
      "name": "liver 01.ipynb",
      "provenance": [],
      "include_colab_link": true
    }
  },
  "nbformat": 4,
  "nbformat_minor": 0
}