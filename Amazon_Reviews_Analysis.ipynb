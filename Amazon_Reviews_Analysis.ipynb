{
  "nbformat": 4,
  "nbformat_minor": 0,
  "metadata": {
    "colab": {
      "name": "Amazon Reviews Analysis.ipynb",
      "provenance": [],
      "authorship_tag": "ABX9TyMlj0H/+O8aPflwFZMOQwBd",
      "include_colab_link": true
    },
    "kernelspec": {
      "name": "python3",
      "display_name": "Python 3"
    },
    "language_info": {
      "name": "python"
    }
  },
  "cells": [
    {
      "cell_type": "markdown",
      "metadata": {
        "id": "view-in-github",
        "colab_type": "text"
      },
      "source": [
        "<a href=\"https://colab.research.google.com/github/DataMinati/Super-Notebooks-1K/blob/main/Amazon_Reviews_Analysis.ipynb\" target=\"_parent\"><img src=\"https://colab.research.google.com/assets/colab-badge.svg\" alt=\"Open In Colab\"/></a>"
      ]
    },
    {
      "cell_type": "code",
      "source": [
        "import os\n",
        "import re\n",
        "import string\n",
        "import spacy\n",
        "import nltk\n",
        "import numpy as np \n",
        "import pandas as pd \n",
        "import seaborn as sns\n",
        "import matplotlib.pyplot as plt\n",
        "from spacy import displacy\n",
        "from wordcloud import WordCloud\n",
        "from sklearn.model_selection import train_test_split\n",
        "from sklearn.pipeline import Pipeline\n",
        "from sklearn.feature_extraction.text import TfidfVectorizer\n",
        "from sklearn.svm import LinearSVC\n",
        "from sklearn.metrics import confusion_matrix,classification_report,plot_confusion_matrix,accuracy_score\n",
        "from sklearn.metrics import plot_precision_recall_curve,plot_roc_curve\n",
        "from nltk.sentiment.vader import SentimentIntensityAnalyzer\n",
        "from sklearn.linear_model import LogisticRegression\n",
        "from collections import Counter\n",
        "import warnings\n",
        "nltk.download(\"vader_lexicon\")\n",
        "warnings.filterwarnings('ignore')\n"
      ],
      "metadata": {
        "colab": {
          "base_uri": "https://localhost:8080/"
        },
        "id": "nRBIwMmv4wto",
        "outputId": "2f684413-5793-4a07-b65d-e47764f8ec7c"
      },
      "execution_count": 2,
      "outputs": [
        {
          "output_type": "stream",
          "name": "stdout",
          "text": [
            "[nltk_data] Downloading package vader_lexicon to /root/nltk_data...\n",
            "[nltk_data]   Package vader_lexicon is already up-to-date!\n"
          ]
        }
      ]
    },
    {
      "cell_type": "code",
      "execution_count": 3,
      "metadata": {
        "colab": {
          "base_uri": "https://localhost:8080/",
          "height": 363
        },
        "id": "-2C17eJE4g02",
        "outputId": "418116bb-9fe5-4e28-d541-24243ebe60ec"
      },
      "outputs": [
        {
          "output_type": "execute_result",
          "data": {
            "text/html": [
              "\n",
              "  <div id=\"df-0e8da068-963a-4d86-be62-14833c298930\">\n",
              "    <div class=\"colab-df-container\">\n",
              "      <div>\n",
              "<style scoped>\n",
              "    .dataframe tbody tr th:only-of-type {\n",
              "        vertical-align: middle;\n",
              "    }\n",
              "\n",
              "    .dataframe tbody tr th {\n",
              "        vertical-align: top;\n",
              "    }\n",
              "\n",
              "    .dataframe thead th {\n",
              "        text-align: right;\n",
              "    }\n",
              "</style>\n",
              "<table border=\"1\" class=\"dataframe\">\n",
              "  <thead>\n",
              "    <tr style=\"text-align: right;\">\n",
              "      <th></th>\n",
              "      <th>label</th>\n",
              "      <th>review</th>\n",
              "    </tr>\n",
              "  </thead>\n",
              "  <tbody>\n",
              "    <tr>\n",
              "      <th>0</th>\n",
              "      <td>pos</td>\n",
              "      <td>Stuning even for the non-gamer: This sound tra...</td>\n",
              "    </tr>\n",
              "    <tr>\n",
              "      <th>1</th>\n",
              "      <td>pos</td>\n",
              "      <td>The best soundtrack ever to anything.: I'm rea...</td>\n",
              "    </tr>\n",
              "    <tr>\n",
              "      <th>2</th>\n",
              "      <td>pos</td>\n",
              "      <td>Amazing!: This soundtrack is my favorite music...</td>\n",
              "    </tr>\n",
              "    <tr>\n",
              "      <th>3</th>\n",
              "      <td>pos</td>\n",
              "      <td>Excellent Soundtrack: I truly like this soundt...</td>\n",
              "    </tr>\n",
              "    <tr>\n",
              "      <th>4</th>\n",
              "      <td>pos</td>\n",
              "      <td>Remember, Pull Your Jaw Off The Floor After He...</td>\n",
              "    </tr>\n",
              "    <tr>\n",
              "      <th>5</th>\n",
              "      <td>pos</td>\n",
              "      <td>an absolute masterpiece: I am quite sure any o...</td>\n",
              "    </tr>\n",
              "    <tr>\n",
              "      <th>6</th>\n",
              "      <td>neg</td>\n",
              "      <td>Buyer beware: This is a self-published book, a...</td>\n",
              "    </tr>\n",
              "    <tr>\n",
              "      <th>7</th>\n",
              "      <td>pos</td>\n",
              "      <td>Glorious story: I loved Whisper of the wicked ...</td>\n",
              "    </tr>\n",
              "    <tr>\n",
              "      <th>8</th>\n",
              "      <td>pos</td>\n",
              "      <td>A FIVE STAR BOOK: I just finished reading Whis...</td>\n",
              "    </tr>\n",
              "    <tr>\n",
              "      <th>9</th>\n",
              "      <td>pos</td>\n",
              "      <td>Whispers of the Wicked Saints: This was a easy...</td>\n",
              "    </tr>\n",
              "  </tbody>\n",
              "</table>\n",
              "</div>\n",
              "      <button class=\"colab-df-convert\" onclick=\"convertToInteractive('df-0e8da068-963a-4d86-be62-14833c298930')\"\n",
              "              title=\"Convert this dataframe to an interactive table.\"\n",
              "              style=\"display:none;\">\n",
              "        \n",
              "  <svg xmlns=\"http://www.w3.org/2000/svg\" height=\"24px\"viewBox=\"0 0 24 24\"\n",
              "       width=\"24px\">\n",
              "    <path d=\"M0 0h24v24H0V0z\" fill=\"none\"/>\n",
              "    <path d=\"M18.56 5.44l.94 2.06.94-2.06 2.06-.94-2.06-.94-.94-2.06-.94 2.06-2.06.94zm-11 1L8.5 8.5l.94-2.06 2.06-.94-2.06-.94L8.5 2.5l-.94 2.06-2.06.94zm10 10l.94 2.06.94-2.06 2.06-.94-2.06-.94-.94-2.06-.94 2.06-2.06.94z\"/><path d=\"M17.41 7.96l-1.37-1.37c-.4-.4-.92-.59-1.43-.59-.52 0-1.04.2-1.43.59L10.3 9.45l-7.72 7.72c-.78.78-.78 2.05 0 2.83L4 21.41c.39.39.9.59 1.41.59.51 0 1.02-.2 1.41-.59l7.78-7.78 2.81-2.81c.8-.78.8-2.07 0-2.86zM5.41 20L4 18.59l7.72-7.72 1.47 1.35L5.41 20z\"/>\n",
              "  </svg>\n",
              "      </button>\n",
              "      \n",
              "  <style>\n",
              "    .colab-df-container {\n",
              "      display:flex;\n",
              "      flex-wrap:wrap;\n",
              "      gap: 12px;\n",
              "    }\n",
              "\n",
              "    .colab-df-convert {\n",
              "      background-color: #E8F0FE;\n",
              "      border: none;\n",
              "      border-radius: 50%;\n",
              "      cursor: pointer;\n",
              "      display: none;\n",
              "      fill: #1967D2;\n",
              "      height: 32px;\n",
              "      padding: 0 0 0 0;\n",
              "      width: 32px;\n",
              "    }\n",
              "\n",
              "    .colab-df-convert:hover {\n",
              "      background-color: #E2EBFA;\n",
              "      box-shadow: 0px 1px 2px rgba(60, 64, 67, 0.3), 0px 1px 3px 1px rgba(60, 64, 67, 0.15);\n",
              "      fill: #174EA6;\n",
              "    }\n",
              "\n",
              "    [theme=dark] .colab-df-convert {\n",
              "      background-color: #3B4455;\n",
              "      fill: #D2E3FC;\n",
              "    }\n",
              "\n",
              "    [theme=dark] .colab-df-convert:hover {\n",
              "      background-color: #434B5C;\n",
              "      box-shadow: 0px 1px 3px 1px rgba(0, 0, 0, 0.15);\n",
              "      filter: drop-shadow(0px 1px 2px rgba(0, 0, 0, 0.3));\n",
              "      fill: #FFFFFF;\n",
              "    }\n",
              "  </style>\n",
              "\n",
              "      <script>\n",
              "        const buttonEl =\n",
              "          document.querySelector('#df-0e8da068-963a-4d86-be62-14833c298930 button.colab-df-convert');\n",
              "        buttonEl.style.display =\n",
              "          google.colab.kernel.accessAllowed ? 'block' : 'none';\n",
              "\n",
              "        async function convertToInteractive(key) {\n",
              "          const element = document.querySelector('#df-0e8da068-963a-4d86-be62-14833c298930');\n",
              "          const dataTable =\n",
              "            await google.colab.kernel.invokeFunction('convertToInteractive',\n",
              "                                                     [key], {});\n",
              "          if (!dataTable) return;\n",
              "\n",
              "          const docLinkHtml = 'Like what you see? Visit the ' +\n",
              "            '<a target=\"_blank\" href=https://colab.research.google.com/notebooks/data_table.ipynb>data table notebook</a>'\n",
              "            + ' to learn more about interactive tables.';\n",
              "          element.innerHTML = '';\n",
              "          dataTable['output_type'] = 'display_data';\n",
              "          await google.colab.output.renderOutput(dataTable, element);\n",
              "          const docLink = document.createElement('div');\n",
              "          docLink.innerHTML = docLinkHtml;\n",
              "          element.appendChild(docLink);\n",
              "        }\n",
              "      </script>\n",
              "    </div>\n",
              "  </div>\n",
              "  "
            ],
            "text/plain": [
              "  label                                             review\n",
              "0   pos  Stuning even for the non-gamer: This sound tra...\n",
              "1   pos  The best soundtrack ever to anything.: I'm rea...\n",
              "2   pos  Amazing!: This soundtrack is my favorite music...\n",
              "3   pos  Excellent Soundtrack: I truly like this soundt...\n",
              "4   pos  Remember, Pull Your Jaw Off The Floor After He...\n",
              "5   pos  an absolute masterpiece: I am quite sure any o...\n",
              "6   neg  Buyer beware: This is a self-published book, a...\n",
              "7   pos  Glorious story: I loved Whisper of the wicked ...\n",
              "8   pos  A FIVE STAR BOOK: I just finished reading Whis...\n",
              "9   pos  Whispers of the Wicked Saints: This was a easy..."
            ]
          },
          "metadata": {},
          "execution_count": 3
        }
      ],
      "source": [
        "url = 'https://raw.githubusercontent.com/MainakRepositor/Datasets-/master/amazonreviews.tsv'\n",
        "df = pd.read_csv(url,sep=\"\\t\")\n",
        "df.head(10)"
      ]
    },
    {
      "cell_type": "code",
      "source": [
        "sns.set(rc={'figure.figsize':(5,5)})\n",
        "sns.histplot(df, x=\"label\", hue=\"label\")\n",
        "plt.show()"
      ],
      "metadata": {
        "colab": {
          "base_uri": "https://localhost:8080/",
          "height": 339
        },
        "id": "LrXVCzFX5CLG",
        "outputId": "b9ee356c-5705-497b-b4d5-7c92b2f0f733"
      },
      "execution_count": 14,
      "outputs": [
        {
          "output_type": "display_data",
          "data": {
            "image/png": "[encoded data removed]",
            "text/plain": [
              "<Figure size 360x360 with 1 Axes>"
            ]
          },
          "metadata": {}
        }
      ]
    },
    {
      "cell_type": "code",
      "source": [
        "df.isnull().sum()"
      ],
      "metadata": {
        "colab": {
          "base_uri": "https://localhost:8080/"
        },
        "id": "DFAioO928VZf",
        "outputId": "ab5225ec-3d67-4419-9fbb-26027e250ff1"
      },
      "execution_count": 15,
      "outputs": [
        {
          "output_type": "execute_result",
          "data": {
            "text/plain": [
              "label     0\n",
              "review    0\n",
              "dtype: int64"
            ]
          },
          "metadata": {},
          "execution_count": 15
        }
      ]
    },
    {
      "cell_type": "code",
      "source": [
        "analysis_sa = SentimentIntensityAnalyzer()"
      ],
      "metadata": {
        "id": "c1K8Zrcu8X6y"
      },
      "execution_count": 16,
      "outputs": []
    },
    {
      "cell_type": "code",
      "source": [
        "random_text = 'the most exciting book i have ever read'\n",
        "print(analysis_sa.polarity_scores(random_text))"
      ],
      "metadata": {
        "colab": {
          "base_uri": "https://localhost:8080/"
        },
        "id": "HFApOdPs8c8k",
        "outputId": "c9a532a2-f21e-4e58-e620-54feca9918e7"
      },
      "execution_count": 17,
      "outputs": [
        {
          "output_type": "stream",
          "name": "stdout",
          "text": [
            "{'neg': 0.0, 'neu': 0.632, 'pos': 0.368, 'compound': 0.5413}\n"
          ]
        }
      ]
    },
    {
      "cell_type": "code",
      "source": [
        "random_text = 'This was the worst film to ever disgrace the screen.'\n",
        "print(analysis_sa.polarity_scores(random_text))"
      ],
      "metadata": {
        "colab": {
          "base_uri": "https://localhost:8080/"
        },
        "id": "INrTemtN8fyn",
        "outputId": "55479ffc-0347-4d0f-a7b3-12f26d79b797"
      },
      "execution_count": 18,
      "outputs": [
        {
          "output_type": "stream",
          "name": "stdout",
          "text": [
            "{'neg': 0.477, 'neu': 0.523, 'pos': 0.0, 'compound': -0.8074}\n"
          ]
        }
      ]
    },
    {
      "cell_type": "code",
      "source": [
        "df['score']= df['review'].apply(lambda rew: analysis_sa.polarity_scores(rew))\n",
        "df['compound']= df['score'].apply(lambda score: score['compound'])\n",
        "df['predict']= df['compound'].apply(lambda value: 'pos' if value >=0 else 'neg')"
      ],
      "metadata": {
        "id": "_Lp_JkQ38hoZ"
      },
      "execution_count": 20,
      "outputs": []
    },
    {
      "cell_type": "code",
      "source": [
        "df.head(10)"
      ],
      "metadata": {
        "colab": {
          "base_uri": "https://localhost:8080/",
          "height": 363
        },
        "id": "goHrj2j98jqp",
        "outputId": "b0b8ce13-5fa4-4ac8-9749-5d3c5bd8230c"
      },
      "execution_count": 21,
      "outputs": [
        {
          "output_type": "execute_result",
          "data": {
            "text/html": [
              "\n",
              "  <div id=\"df-c2311a55-02b2-4b53-a1a7-2763b1753b27\">\n",
              "    <div class=\"colab-df-container\">\n",
              "      <div>\n",
              "<style scoped>\n",
              "    .dataframe tbody tr th:only-of-type {\n",
              "        vertical-align: middle;\n",
              "    }\n",
              "\n",
              "    .dataframe tbody tr th {\n",
              "        vertical-align: top;\n",
              "    }\n",
              "\n",
              "    .dataframe thead th {\n",
              "        text-align: right;\n",
              "    }\n",
              "</style>\n",
              "<table border=\"1\" class=\"dataframe\">\n",
              "  <thead>\n",
              "    <tr style=\"text-align: right;\">\n",
              "      <th></th>\n",
              "      <th>label</th>\n",
              "      <th>review</th>\n",
              "      <th>score</th>\n",
              "      <th>compound</th>\n",
              "      <th>predict</th>\n",
              "    </tr>\n",
              "  </thead>\n",
              "  <tbody>\n",
              "    <tr>\n",
              "      <th>0</th>\n",
              "      <td>pos</td>\n",
              "      <td>Stuning even for the non-gamer: This sound tra...</td>\n",
              "      <td>{'neg': 0.088, 'neu': 0.669, 'pos': 0.243, 'co...</td>\n",
              "      <td>0.9454</td>\n",
              "      <td>pos</td>\n",
              "    </tr>\n",
              "    <tr>\n",
              "      <th>1</th>\n",
              "      <td>pos</td>\n",
              "      <td>The best soundtrack ever to anything.: I'm rea...</td>\n",
              "      <td>{'neg': 0.018, 'neu': 0.837, 'pos': 0.145, 'co...</td>\n",
              "      <td>0.8957</td>\n",
              "      <td>pos</td>\n",
              "    </tr>\n",
              "    <tr>\n",
              "      <th>2</th>\n",
              "      <td>pos</td>\n",
              "      <td>Amazing!: This soundtrack is my favorite music...</td>\n",
              "      <td>{'neg': 0.04, 'neu': 0.692, 'pos': 0.268, 'com...</td>\n",
              "      <td>0.9858</td>\n",
              "      <td>pos</td>\n",
              "    </tr>\n",
              "    <tr>\n",
              "      <th>3</th>\n",
              "      <td>pos</td>\n",
              "      <td>Excellent Soundtrack: I truly like this soundt...</td>\n",
              "      <td>{'neg': 0.09, 'neu': 0.615, 'pos': 0.295, 'com...</td>\n",
              "      <td>0.9814</td>\n",
              "      <td>pos</td>\n",
              "    </tr>\n",
              "    <tr>\n",
              "      <th>4</th>\n",
              "      <td>pos</td>\n",
              "      <td>Remember, Pull Your Jaw Off The Floor After He...</td>\n",
              "      <td>{'neg': 0.0, 'neu': 0.746, 'pos': 0.254, 'comp...</td>\n",
              "      <td>0.9781</td>\n",
              "      <td>pos</td>\n",
              "    </tr>\n",
              "    <tr>\n",
              "      <th>5</th>\n",
              "      <td>pos</td>\n",
              "      <td>an absolute masterpiece: I am quite sure any o...</td>\n",
              "      <td>{'neg': 0.014, 'neu': 0.737, 'pos': 0.249, 'co...</td>\n",
              "      <td>0.9900</td>\n",
              "      <td>pos</td>\n",
              "    </tr>\n",
              "    <tr>\n",
              "      <th>6</th>\n",
              "      <td>neg</td>\n",
              "      <td>Buyer beware: This is a self-published book, a...</td>\n",
              "      <td>{'neg': 0.124, 'neu': 0.806, 'pos': 0.069, 'co...</td>\n",
              "      <td>-0.8744</td>\n",
              "      <td>neg</td>\n",
              "    </tr>\n",
              "    <tr>\n",
              "      <th>7</th>\n",
              "      <td>pos</td>\n",
              "      <td>Glorious story: I loved Whisper of the wicked ...</td>\n",
              "      <td>{'neg': 0.064, 'neu': 0.588, 'pos': 0.349, 'co...</td>\n",
              "      <td>0.9908</td>\n",
              "      <td>pos</td>\n",
              "    </tr>\n",
              "    <tr>\n",
              "      <th>8</th>\n",
              "      <td>pos</td>\n",
              "      <td>A FIVE STAR BOOK: I just finished reading Whis...</td>\n",
              "      <td>{'neg': 0.113, 'neu': 0.712, 'pos': 0.174, 'co...</td>\n",
              "      <td>0.8353</td>\n",
              "      <td>pos</td>\n",
              "    </tr>\n",
              "    <tr>\n",
              "      <th>9</th>\n",
              "      <td>pos</td>\n",
              "      <td>Whispers of the Wicked Saints: This was a easy...</td>\n",
              "      <td>{'neg': 0.033, 'neu': 0.777, 'pos': 0.19, 'com...</td>\n",
              "      <td>0.8196</td>\n",
              "      <td>pos</td>\n",
              "    </tr>\n",
              "  </tbody>\n",
              "</table>\n",
              "</div>\n",
              "      <button class=\"colab-df-convert\" onclick=\"convertToInteractive('df-c2311a55-02b2-4b53-a1a7-2763b1753b27')\"\n",
              "              title=\"Convert this dataframe to an interactive table.\"\n",
              "              style=\"display:none;\">\n",
              "        \n",
              "  <svg xmlns=\"http://www.w3.org/2000/svg\" height=\"24px\"viewBox=\"0 0 24 24\"\n",
              "       width=\"24px\">\n",
              "    <path d=\"M0 0h24v24H0V0z\" fill=\"none\"/>\n",
              "    <path d=\"M18.56 5.44l.94 2.06.94-2.06 2.06-.94-2.06-.94-.94-2.06-.94 2.06-2.06.94zm-11 1L8.5 8.5l.94-2.06 2.06-.94-2.06-.94L8.5 2.5l-.94 2.06-2.06.94zm10 10l.94 2.06.94-2.06 2.06-.94-2.06-.94-.94-2.06-.94 2.06-2.06.94z\"/><path d=\"M17.41 7.96l-1.37-1.37c-.4-.4-.92-.59-1.43-.59-.52 0-1.04.2-1.43.59L10.3 9.45l-7.72 7.72c-.78.78-.78 2.05 0 2.83L4 21.41c.39.39.9.59 1.41.59.51 0 1.02-.2 1.41-.59l7.78-7.78 2.81-2.81c.8-.78.8-2.07 0-2.86zM5.41 20L4 18.59l7.72-7.72 1.47 1.35L5.41 20z\"/>\n",
              "  </svg>\n",
              "      </button>\n",
              "      \n",
              "  <style>\n",
              "    .colab-df-container {\n",
              "      display:flex;\n",
              "      flex-wrap:wrap;\n",
              "      gap: 12px;\n",
              "    }\n",
              "\n",
              "    .colab-df-convert {\n",
              "      background-color: #E8F0FE;\n",
              "      border: none;\n",
              "      border-radius: 50%;\n",
              "      cursor: pointer;\n",
              "      display: none;\n",
              "      fill: #1967D2;\n",
              "      height: 32px;\n",
              "      padding: 0 0 0 0;\n",
              "      width: 32px;\n",
              "    }\n",
              "\n",
              "    .colab-df-convert:hover {\n",
              "      background-color: #E2EBFA;\n",
              "      box-shadow: 0px 1px 2px rgba(60, 64, 67, 0.3), 0px 1px 3px 1px rgba(60, 64, 67, 0.15);\n",
              "      fill: #174EA6;\n",
              "    }\n",
              "\n",
              "    [theme=dark] .colab-df-convert {\n",
              "      background-color: #3B4455;\n",
              "      fill: #D2E3FC;\n",
              "    }\n",
              "\n",
              "    [theme=dark] .colab-df-convert:hover {\n",
              "      background-color: #434B5C;\n",
              "      box-shadow: 0px 1px 3px 1px rgba(0, 0, 0, 0.15);\n",
              "      filter: drop-shadow(0px 1px 2px rgba(0, 0, 0, 0.3));\n",
              "      fill: #FFFFFF;\n",
              "    }\n",
              "  </style>\n",
              "\n",
              "      <script>\n",
              "        const buttonEl =\n",
              "          document.querySelector('#df-c2311a55-02b2-4b53-a1a7-2763b1753b27 button.colab-df-convert');\n",
              "        buttonEl.style.display =\n",
              "          google.colab.kernel.accessAllowed ? 'block' : 'none';\n",
              "\n",
              "        async function convertToInteractive(key) {\n",
              "          const element = document.querySelector('#df-c2311a55-02b2-4b53-a1a7-2763b1753b27');\n",
              "          const dataTable =\n",
              "            await google.colab.kernel.invokeFunction('convertToInteractive',\n",
              "                                                     [key], {});\n",
              "          if (!dataTable) return;\n",
              "\n",
              "          const docLinkHtml = 'Like what you see? Visit the ' +\n",
              "            '<a target=\"_blank\" href=https://colab.research.google.com/notebooks/data_table.ipynb>data table notebook</a>'\n",
              "            + ' to learn more about interactive tables.';\n",
              "          element.innerHTML = '';\n",
              "          dataTable['output_type'] = 'display_data';\n",
              "          await google.colab.output.renderOutput(dataTable, element);\n",
              "          const docLink = document.createElement('div');\n",
              "          docLink.innerHTML = docLinkHtml;\n",
              "          element.appendChild(docLink);\n",
              "        }\n",
              "      </script>\n",
              "    </div>\n",
              "  </div>\n",
              "  "
            ],
            "text/plain": [
              "  label                                             review  ... compound  predict\n",
              "0   pos  Stuning even for the non-gamer: This sound tra...  ...   0.9454      pos\n",
              "1   pos  The best soundtrack ever to anything.: I'm rea...  ...   0.8957      pos\n",
              "2   pos  Amazing!: This soundtrack is my favorite music...  ...   0.9858      pos\n",
              "3   pos  Excellent Soundtrack: I truly like this soundt...  ...   0.9814      pos\n",
              "4   pos  Remember, Pull Your Jaw Off The Floor After He...  ...   0.9781      pos\n",
              "5   pos  an absolute masterpiece: I am quite sure any o...  ...   0.9900      pos\n",
              "6   neg  Buyer beware: This is a self-published book, a...  ...  -0.8744      neg\n",
              "7   pos  Glorious story: I loved Whisper of the wicked ...  ...   0.9908      pos\n",
              "8   pos  A FIVE STAR BOOK: I just finished reading Whis...  ...   0.8353      pos\n",
              "9   pos  Whispers of the Wicked Saints: This was a easy...  ...   0.8196      pos\n",
              "\n",
              "[10 rows x 5 columns]"
            ]
          },
          "metadata": {},
          "execution_count": 21
        }
      ]
    },
    {
      "cell_type": "code",
      "source": [
        "print('Overall accuracy is {}\\n'.format(accuracy_score(df['label'],df['predict'])*100))\n",
        "\n",
        "print(classification_report(df['label'],df['predict']))\n",
        "print(confusion_matrix(df['label'],df['predict']))"
      ],
      "metadata": {
        "colab": {
          "base_uri": "https://localhost:8080/"
        },
        "id": "RDhEn12N8vaT",
        "outputId": "a5905f1c-7abb-4d93-e8cb-d0f0dba09b30"
      },
      "execution_count": 22,
      "outputs": [
        {
          "output_type": "stream",
          "name": "stdout",
          "text": [
            "Overall accuracy is 70.91\n",
            "\n",
            "              precision    recall  f1-score   support\n",
            "\n",
            "         neg       0.86      0.51      0.64      5097\n",
            "         pos       0.64      0.91      0.75      4903\n",
            "\n",
            "    accuracy                           0.71     10000\n",
            "   macro avg       0.75      0.71      0.70     10000\n",
            "weighted avg       0.75      0.71      0.70     10000\n",
            "\n",
            "[[2623 2474]\n",
            " [ 435 4468]]\n"
          ]
        }
      ]
    },
    {
      "cell_type": "code",
      "source": [
        "df['label_num'] = pd.get_dummies(df['label'],drop_first=True)"
      ],
      "metadata": {
        "id": "wH6w5xDz82K1"
      },
      "execution_count": 23,
      "outputs": []
    },
    {
      "cell_type": "code",
      "source": [
        "class PredictReview:\n",
        "    \n",
        "    def vectorize(self,train_data,test_data):\n",
        "        \n",
        "        tfidf = TfidfVectorizer()\n",
        "        train = tfidf.fit_transform(train_data.values.astype('U'))\n",
        "        test = tfidf.transform(test_data.values.astype('U'))\n",
        "        \n",
        "        return train,test,tfidf\n",
        "    \n",
        "    def split(self,data,train_size=0.1,shuffle=101):\n",
        "        \n",
        "        input_data = data['review']\n",
        "        output_data = data['label_num']\n",
        "        train_data, test_data, train_output, test_output = train_test_split(input_data, output_data, test_size=train_size, random_state=shuffle)\n",
        "        return train_data, test_data, train_output, test_output\n",
        "    \n",
        "    def base(self,data):\n",
        "        \n",
        "        log_reg = LogisticRegression()\n",
        "        data = self.prepare_data_for_train(data)\n",
        "        train_data, test_data, train_output, test_output = self.split(data)\n",
        "        train,test,tfidf = self.vectorize(train_data,test_data)\n",
        "        log_reg.fit(train,train_output)\n",
        "        pred = log_reg.predict(test)\n",
        "        self.performance(pred,test,test_output,log_reg)\n",
        "        return log_reg,tfidf\n",
        "    \n",
        "   \n",
        "    def prepare_data_for_train(self,input_data):\n",
        "        \n",
        "        nlp = spacy.load('en_core_web_sm')\n",
        "        stopword = nltk.corpus.stopwords.words('english')\n",
        "        empty_list  = []\n",
        "        for text in input_data.review:\n",
        "            text = text.lower()\n",
        "            text = re.sub('\\[.*?\\]', '', text)\n",
        "            text = re.sub('https?://\\S+|www\\.\\S+', '', text)\n",
        "            text = re.sub('<.*?>+', '', text)\n",
        "            text = re.sub('[%s]' % re.escape(string.punctuation), '', text)\n",
        "            text = re.sub('\\n', '', text)\n",
        "            text = re.sub('\\w*\\d\\w*', '', text)\n",
        "            text = re.sub(r'[^\\w\\s]', '',str(text))            \n",
        "            text=re.split(\"\\W+\",text)                          \n",
        "            text=[word for word in text if word not in stopword]\n",
        "            text = ' '.join(text)       \n",
        "            empty_list.append(text)\n",
        "        #input_data.drop('review',axis=1,inplace=True)\n",
        "        input_data['review'] = empty_list\n",
        "        return input_data\n",
        "    \n",
        "    \n",
        "    def performance(self,_data,test_data,test_output,model):\n",
        "        \n",
        "        plt.figure(figsize=(12,12))\n",
        "       \n",
        "        print(plot_confusion_matrix(model,test_data,test_output))\n",
        "        print(plot_precision_recall_curve(model,test_data,test_output))\n",
        "        print(plot_roc_curve(model,test_data,test_output))\n",
        "        print('\\033[36m'+classification_report(_data,test_output))\n",
        "        print('\\033[4m'+'\\033[91m'+'\\033[1m' +'Overall accuracy is {}% 💣\\n'.format(round(accuracy_score(_data,test_output)*100),0))\n",
        "        plt.show()\n",
        "     \n",
        "        \n",
        "    def test_sample(self,text,tfidf,base_model):\n",
        "        \n",
        "        text = self.clean_df(text)\n",
        "        text_sample = tfidf.transform([text])\n",
        "        pred = base_model.predict(text_sample)\n",
        "        if pred[0] == 1:\n",
        "            return 'positive'\n",
        "        else:\n",
        "            return 'negative'\n",
        "        \n",
        "    def  clean_df(self,text):\n",
        "        text = text.lower()\n",
        "        nlp = spacy.load('en_core_web_sm')\n",
        "        stopword = nltk.corpus.stopwords.words('english')\n",
        "        text = re.sub(r'[^\\w\\s]', '',str(text))            \n",
        "        text=re.split(\"\\W+\",text)                          \n",
        "        text=[word for word in text if word not in stopword]\n",
        "        text = ' '.join(text)                              \n",
        "        return text\n"
      ],
      "metadata": {
        "id": "J49UfH4a86hr"
      },
      "execution_count": 24,
      "outputs": []
    },
    {
      "cell_type": "code",
      "source": [
        "review_predictor = PredictReview()"
      ],
      "metadata": {
        "id": "1jSqtDU29BK7"
      },
      "execution_count": 25,
      "outputs": []
    },
    {
      "cell_type": "code",
      "source": [
        "import nltk\n",
        "nltk.download('stopwords')"
      ],
      "metadata": {
        "colab": {
          "base_uri": "https://localhost:8080/"
        },
        "id": "chy4VdDP9JOo",
        "outputId": "4cf00c73-0ba6-42d1-98ec-5ff856515642"
      },
      "execution_count": 28,
      "outputs": [
        {
          "output_type": "stream",
          "name": "stdout",
          "text": [
            "[nltk_data] Downloading package stopwords to /root/nltk_data...\n",
            "[nltk_data]   Unzipping corpora/stopwords.zip.\n"
          ]
        },
        {
          "output_type": "execute_result",
          "data": {
            "text/plain": [
              "True"
            ]
          },
          "metadata": {},
          "execution_count": 28
        }
      ]
    },
    {
      "cell_type": "code",
      "source": [
        "plt.rcParams[\"figure.figsize\"] = (15,10)\n",
        "model,coverter = review_predictor.base(df)\n",
        "plt.show()"
      ],
      "metadata": {
        "colab": {
          "base_uri": "https://localhost:8080/",
          "height": 1000
        },
        "id": "FFOqeImo9DET",
        "outputId": "a0997417-2935-426f-e441-e68ffa8cdb97"
      },
      "execution_count": 31,
      "outputs": [
        {
          "output_type": "stream",
          "name": "stdout",
          "text": [
            "<sklearn.metrics._plot.confusion_matrix.ConfusionMatrixDisplay object at 0x7f3a9cc73ad0>\n",
            "<sklearn.metrics._plot.precision_recall_curve.PrecisionRecallDisplay object at 0x7f3a9cc52150>\n",
            "<sklearn.metrics._plot.roc_curve.RocCurveDisplay object at 0x7f3a9bc1fb90>\n",
            "\u001b[36m              precision    recall  f1-score   support\n",
            "\n",
            "           0       0.89      0.86      0.87       517\n",
            "           1       0.85      0.88      0.87       483\n",
            "\n",
            "    accuracy                           0.87      1000\n",
            "   macro avg       0.87      0.87      0.87      1000\n",
            "weighted avg       0.87      0.87      0.87      1000\n",
            "\n",
            "\u001b[4m\u001b[91m\u001b[1mOverall accuracy is 87% 💣\n",
            "\n"
          ]
        },
        {
          "output_type": "display_data",
          "data": {
            "text/plain": [
              "<Figure size 864x864 with 0 Axes>"
            ]
          },
          "metadata": {}
        },
        {
          "output_type": "display_data",
          "data": {
            "image/png": "[encoded data removed]",
            "text/plain": [
              "<Figure size 1080x720 with 2 Axes>"
            ]
          },
          "metadata": {}
        },
        {
          "output_type": "display_data",
          "data": {
            "image/png": "[encoded data removed]",
            "text/plain": [
              "<Figure size 1080x720 with 1 Axes>"
            ]
          },
          "metadata": {}
        },
        {
          "output_type": "display_data",
          "data": {
            "image/png": "[encoded data removed]",
            "text/plain": [
              "<Figure size 1080x720 with 1 Axes>"
            ]
          },
          "metadata": {}
        }
      ]
    },
    {
      "cell_type": "code",
      "source": [
        "def quick_preictor(text):\n",
        "    answer = review_predictor.test_sample(text,coverter,model)\n",
        "    if answer == 'negative':\n",
        "        print('\\033[1m'+'\\033[91m'+'Prediction is : '+answer+\"\\n\")\n",
        "        print(text)\n",
        "    else:\n",
        "        print('\\033[1m'+'\\033[92m'+'Prediction is : '+answer+\"\\n\")\n",
        "        print(text)"
      ],
      "metadata": {
        "id": "Fh2P60eZ9EzZ"
      },
      "execution_count": 32,
      "outputs": []
    },
    {
      "cell_type": "code",
      "source": [
        "text = 'Purchased this keyboard in September 2018 and it has already stopped working. Some keys do not work while others simply input a gibberish combination of characters. I also purchased the 4 year squaretrade warranty but since it is under the manufacturer warranty they wont allow me to make a claim.'\n",
        "quick_preictor(text)"
      ],
      "metadata": {
        "colab": {
          "base_uri": "https://localhost:8080/"
        },
        "id": "qFm3u10I9sqS",
        "outputId": "690e1485-f303-4577-bf36-38440173e7a5"
      },
      "execution_count": 33,
      "outputs": [
        {
          "output_type": "stream",
          "name": "stdout",
          "text": [
            "\u001b[1m\u001b[91mPrediction is : negative\n",
            "\n",
            "Purchased this keyboard in September 2018 and it has already stopped working. Some keys do not work while others simply input a gibberish combination of characters. I also purchased the 4 year squaretrade warranty but since it is under the manufacturer warranty they wont allow me to make a claim.\n"
          ]
        }
      ]
    },
    {
      "cell_type": "code",
      "source": [
        "text = 'Love it just have to sync it up with all the other RGB but love it. Big Razor fan'\n",
        "quick_preictor(text)"
      ],
      "metadata": {
        "colab": {
          "base_uri": "https://localhost:8080/"
        },
        "id": "y0S3LTMi9uo4",
        "outputId": "2c93ecf6-b6b8-4afa-c96e-502b80ce414d"
      },
      "execution_count": 34,
      "outputs": [
        {
          "output_type": "stream",
          "name": "stdout",
          "text": [
            "\u001b[1m\u001b[92mPrediction is : positive\n",
            "\n",
            "Love it just have to sync it up with all the other RGB but love it. Big Razor fan\n"
          ]
        }
      ]
    },
    {
      "cell_type": "code",
      "source": [
        "text = \"I get cold really easy and this jacket is great if you want a warm one. I'm 5'10 and weigh 135lbs and the small fits me well. It has fleece lined pockets and a fleece lined hood. It has a good quality YKK zipper. The coat snaps shut in addition to zippering shut. It has elastic around the wrists for a nice tight fit that won't allow breezes to flow up your arm. There a fleece-line inside pocket about chest high big enough for a cell phone or wallet. It has a velcro enclosure.\"\n",
        "quick_preictor(text)"
      ],
      "metadata": {
        "colab": {
          "base_uri": "https://localhost:8080/"
        },
        "id": "teQ4FW8f9yNQ",
        "outputId": "a5d6f00b-e68a-4799-b0a7-774d1dd48fa1"
      },
      "execution_count": 35,
      "outputs": [
        {
          "output_type": "stream",
          "name": "stdout",
          "text": [
            "\u001b[1m\u001b[92mPrediction is : positive\n",
            "\n",
            "I get cold really easy and this jacket is great if you want a warm one. I'm 5'10 and weigh 135lbs and the small fits me well. It has fleece lined pockets and a fleece lined hood. It has a good quality YKK zipper. The coat snaps shut in addition to zippering shut. It has elastic around the wrists for a nice tight fit that won't allow breezes to flow up your arm. There a fleece-line inside pocket about chest high big enough for a cell phone or wallet. It has a velcro enclosure.\n"
          ]
        }
      ]
    },
    {
      "cell_type": "code",
      "source": [
        "text = \"Dont do it ! It will tell u steps and heartbeat .. But dont bother connecting it to your phone 👎 Not android anyways.\"\n",
        "quick_preictor(text)"
      ],
      "metadata": {
        "colab": {
          "base_uri": "https://localhost:8080/"
        },
        "id": "6pKeEkBw90pz",
        "outputId": "eea570bd-3798-4996-ae63-163e45d773ed"
      },
      "execution_count": 36,
      "outputs": [
        {
          "output_type": "stream",
          "name": "stdout",
          "text": [
            "\u001b[1m\u001b[91mPrediction is : negative\n",
            "\n",
            "Dont do it ! It will tell u steps and heartbeat .. But dont bother connecting it to your phone 👎 Not android anyways.\n"
          ]
        }
      ]
    },
    {
      "cell_type": "code",
      "source": [
        "text = \"I have owned two Samsung smartwatches, one Fitbit, and a new Apple watch 6 for wife, but I am looking for a simple, light, long battery life particularly with Alexa control function smart device. I finally made decision to try it. It took less than 5 minutes to setup EVERYTHING. The screen is beautiful, super crisp text. The Alexa function works perfectly even without the ability of speaker. I can read text message, and get phone call notification. It has a lot of basic health fitness tracker features that are very useful. I would give it 5+ stars.\"\n",
        "quick_preictor(text)"
      ],
      "metadata": {
        "colab": {
          "base_uri": "https://localhost:8080/"
        },
        "id": "S6LPuwJG94-X",
        "outputId": "bf451bf5-f221-4fea-d83b-df8f7ef9c51f"
      },
      "execution_count": 37,
      "outputs": [
        {
          "output_type": "stream",
          "name": "stdout",
          "text": [
            "\u001b[1m\u001b[92mPrediction is : positive\n",
            "\n",
            "I have owned two Samsung smartwatches, one Fitbit, and a new Apple watch 6 for wife, but I am looking for a simple, light, long battery life particularly with Alexa control function smart device. I finally made decision to try it. It took less than 5 minutes to setup EVERYTHING. The screen is beautiful, super crisp text. The Alexa function works perfectly even without the ability of speaker. I can read text message, and get phone call notification. It has a lot of basic health fitness tracker features that are very useful. I would give it 5+ stars.\n"
          ]
        }
      ]
    },
    {
      "cell_type": "code",
      "source": [
        "text = \"The WATCH is awesome! Does what i need it to do. Counts my steps and my calories while doing my workout.The battery life is great! Better than my previous watch. You can also change the strap with other ones used for other watches.\"\n",
        "quick_preictor(text)"
      ],
      "metadata": {
        "colab": {
          "base_uri": "https://localhost:8080/"
        },
        "id": "RWUUZEdN97Dv",
        "outputId": "d88a7044-4267-4c59-ee30-134f8a6f983c"
      },
      "execution_count": 38,
      "outputs": [
        {
          "output_type": "stream",
          "name": "stdout",
          "text": [
            "\u001b[1m\u001b[92mPrediction is : positive\n",
            "\n",
            "The WATCH is awesome! Does what i need it to do. Counts my steps and my calories while doing my workout.The battery life is great! Better than my previous watch. You can also change the strap with other ones used for other watches.\n"
          ]
        }
      ]
    },
    {
      "cell_type": "code",
      "source": [
        ""
      ],
      "metadata": {
        "id": "W-sYqf9K98-C"
      },
      "execution_count": null,
      "outputs": []
    }
  ]
}