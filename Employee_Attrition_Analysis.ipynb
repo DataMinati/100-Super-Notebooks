{
  "cells": [
    {
      "cell_type": "markdown",
      "metadata": {
        "id": "view-in-github",
        "colab_type": "text"
      },
      "source": [
        "<a href=\"https://colab.research.google.com/github/DataMinati/Super-Notebooks-100/blob/main/Employee_Attrition_Analysis.ipynb\" target=\"_parent\"><img src=\"https://colab.research.google.com/assets/colab-badge.svg\" alt=\"Open In Colab\"/></a>"
      ]
    },
    {
      "cell_type": "code",
      "execution_count": null,
      "metadata": {
        "_cell_guid": "79c7e3d0-c299-4dcb-8224-4455121ee9b0",
        "_uuid": "d629ff2d2480ee46fbb7e2d37f6b5fab8052498a",
        "execution": {
          "iopub.execute_input": "2021-01-20T14:50:29.048533Z",
          "iopub.status.busy": "2021-01-20T14:50:29.047842Z",
          "iopub.status.idle": "2021-01-20T14:50:31.237463Z",
          "shell.execute_reply": "2021-01-20T14:50:31.238177Z"
        },
        "papermill": {
          "duration": 2.259977,
          "end_time": "2021-01-20T14:50:31.238353",
          "exception": false,
          "start_time": "2021-01-20T14:50:28.978376",
          "status": "completed"
        },
        "tags": [],
        "id": "pPPMeFpZrkPf"
      },
      "outputs": [],
      "source": [
        "#load libraries\n",
        "import numpy as np # linear algebra\n",
        "import pandas as pd \n",
        "import matplotlib.pyplot as plt\n",
        "import seaborn as sns\n",
        "\n",
        "import plotly as py\n",
        "import plotly.express as px\n",
        "import plotly.graph_objects as go\n",
        "from plotly.offline import download_plotlyjs, init_notebook_mode, plot, iplot\n",
        "\n",
        "import warnings\n",
        "warnings.filterwarnings(\"ignore\")"
      ]
    },
    {
      "cell_type": "code",
      "execution_count": null,
      "metadata": {
        "execution": {
          "iopub.execute_input": "2021-01-20T14:50:31.447111Z",
          "iopub.status.busy": "2021-01-20T14:50:31.445996Z",
          "iopub.status.idle": "2021-01-20T14:50:33.015341Z",
          "shell.execute_reply": "2021-01-20T14:50:33.015817Z"
        },
        "papermill": {
          "duration": 1.682198,
          "end_time": "2021-01-20T14:50:33.015988",
          "exception": false,
          "start_time": "2021-01-20T14:50:31.333790",
          "status": "completed"
        },
        "tags": [],
        "id": "Z995SL2BrkPg",
        "outputId": "535f1c4e-a8e6-4499-f383-014aac14e216"
      },
      "outputs": [
        {
          "data": {
            "text/html": [
              "        <script type=\"text/javascript\">\n",
              "        window.PlotlyConfig = {MathJaxConfig: 'local'};\n",
              "        if (window.MathJax) {MathJax.Hub.Config({SVG: {font: \"STIX-Web\"}});}\n",
              "        if (typeof require !== 'undefined') {\n",
              "        require.undef(\"plotly\");\n",
              "        requirejs.config({\n",
              "            paths: {\n",
              "                'plotly': ['https://cdn.plot.ly/plotly-latest.min']\n",
              "            }\n",
              "        });\n",
              "        require(['plotly'], function(Plotly) {\n",
              "            window._Plotly = Plotly;\n",
              "        });\n",
              "        }\n",
              "        </script>\n",
              "        "
            ]
          },
          "metadata": {},
          "output_type": "display_data"
        }
      ],
      "source": [
        "import cufflinks as cf\n",
        "cf.go_offline()\n",
        "cf.set_config_file(offline = False, world_readable = True)"
      ]
    },
    {
      "cell_type": "code",
      "execution_count": null,
      "metadata": {
        "execution": {
          "iopub.execute_input": "2021-01-20T14:50:33.145742Z",
          "iopub.status.busy": "2021-01-20T14:50:33.145091Z",
          "iopub.status.idle": "2021-01-20T14:50:33.153157Z",
          "shell.execute_reply": "2021-01-20T14:50:33.152527Z"
        },
        "papermill": {
          "duration": 0.074511,
          "end_time": "2021-01-20T14:50:33.153275",
          "exception": false,
          "start_time": "2021-01-20T14:50:33.078764",
          "status": "completed"
        },
        "tags": [],
        "id": "v-RPTjubrkPh"
      },
      "outputs": [],
      "source": [
        "pd.set_option('display.max_columns',None)"
      ]
    },
    {
      "cell_type": "code",
      "execution_count": null,
      "metadata": {
        "execution": {
          "iopub.execute_input": "2021-01-20T14:50:33.291351Z",
          "iopub.status.busy": "2021-01-20T14:50:33.290643Z",
          "iopub.status.idle": "2021-01-20T14:50:33.322193Z",
          "shell.execute_reply": "2021-01-20T14:50:33.322834Z"
        },
        "papermill": {
          "duration": 0.1044,
          "end_time": "2021-01-20T14:50:33.323011",
          "exception": false,
          "start_time": "2021-01-20T14:50:33.218611",
          "status": "completed"
        },
        "tags": [],
        "id": "Q7Z8Rc1KrkPi"
      },
      "outputs": [],
      "source": [
        "data = pd.read_csv('https://raw.githubusercontent.com/MainakRepositor/Datasets-/master/Employee%20Attrition.csv')\n",
        "#copy the data to another df\n",
        "empdf = data.copy()"
      ]
    },
    {
      "cell_type": "code",
      "execution_count": null,
      "metadata": {
        "execution": {
          "iopub.execute_input": "2021-01-20T14:50:33.459210Z",
          "iopub.status.busy": "2021-01-20T14:50:33.458263Z",
          "iopub.status.idle": "2021-01-20T14:50:33.461377Z",
          "shell.execute_reply": "2021-01-20T14:50:33.462183Z"
        },
        "papermill": {
          "duration": 0.076248,
          "end_time": "2021-01-20T14:50:33.462340",
          "exception": false,
          "start_time": "2021-01-20T14:50:33.386092",
          "status": "completed"
        },
        "tags": [],
        "id": "4G4jfB3ArkPi",
        "outputId": "fb37dfba-31d9-422d-da2b-6d92d9a7c483"
      },
      "outputs": [
        {
          "data": {
            "text/plain": [
              "(1470, 35)"
            ]
          },
          "execution_count": 6,
          "metadata": {},
          "output_type": "execute_result"
        }
      ],
      "source": [
        "#look over shape of data\n",
        "empdf.shape"
      ]
    },
    {
      "cell_type": "code",
      "execution_count": null,
      "metadata": {
        "execution": {
          "iopub.execute_input": "2021-01-20T14:50:33.659872Z",
          "iopub.status.busy": "2021-01-20T14:50:33.659023Z",
          "iopub.status.idle": "2021-01-20T14:50:33.700989Z",
          "shell.execute_reply": "2021-01-20T14:50:33.699892Z"
        },
        "papermill": {
          "duration": 0.142534,
          "end_time": "2021-01-20T14:50:33.701229",
          "exception": false,
          "start_time": "2021-01-20T14:50:33.558695",
          "status": "completed"
        },
        "tags": [],
        "id": "92Q1Bom-rkPj",
        "outputId": "a65b7fce-54a5-4059-a011-05029530e040"
      },
      "outputs": [
        {
          "data": {
            "text/html": [
              "<div>\n",
              "<style scoped>\n",
              "    .dataframe tbody tr th:only-of-type {\n",
              "        vertical-align: middle;\n",
              "    }\n",
              "\n",
              "    .dataframe tbody tr th {\n",
              "        vertical-align: top;\n",
              "    }\n",
              "\n",
              "    .dataframe thead th {\n",
              "        text-align: right;\n",
              "    }\n",
              "</style>\n",
              "<table border=\"1\" class=\"dataframe\">\n",
              "  <thead>\n",
              "    <tr style=\"text-align: right;\">\n",
              "      <th></th>\n",
              "      <th>Age</th>\n",
              "      <th>Attrition</th>\n",
              "      <th>BusinessTravel</th>\n",
              "      <th>DailyRate</th>\n",
              "      <th>Department</th>\n",
              "      <th>DistanceFromHome</th>\n",
              "      <th>Education</th>\n",
              "      <th>EducationField</th>\n",
              "      <th>EmployeeCount</th>\n",
              "      <th>EmployeeNumber</th>\n",
              "      <th>EnvironmentSatisfaction</th>\n",
              "      <th>Gender</th>\n",
              "      <th>HourlyRate</th>\n",
              "      <th>JobInvolvement</th>\n",
              "      <th>JobLevel</th>\n",
              "      <th>JobRole</th>\n",
              "      <th>JobSatisfaction</th>\n",
              "      <th>MaritalStatus</th>\n",
              "      <th>MonthlyIncome</th>\n",
              "      <th>MonthlyRate</th>\n",
              "      <th>NumCompaniesWorked</th>\n",
              "      <th>Over18</th>\n",
              "      <th>OverTime</th>\n",
              "      <th>PercentSalaryHike</th>\n",
              "      <th>PerformanceRating</th>\n",
              "      <th>RelationshipSatisfaction</th>\n",
              "      <th>StandardHours</th>\n",
              "      <th>StockOptionLevel</th>\n",
              "      <th>TotalWorkingYears</th>\n",
              "      <th>TrainingTimesLastYear</th>\n",
              "      <th>WorkLifeBalance</th>\n",
              "      <th>YearsAtCompany</th>\n",
              "      <th>YearsInCurrentRole</th>\n",
              "      <th>YearsSinceLastPromotion</th>\n",
              "      <th>YearsWithCurrManager</th>\n",
              "    </tr>\n",
              "  </thead>\n",
              "  <tbody>\n",
              "    <tr>\n",
              "      <th>0</th>\n",
              "      <td>41</td>\n",
              "      <td>Yes</td>\n",
              "      <td>Travel_Rarely</td>\n",
              "      <td>1102</td>\n",
              "      <td>Sales</td>\n",
              "      <td>1</td>\n",
              "      <td>2</td>\n",
              "      <td>Life Sciences</td>\n",
              "      <td>1</td>\n",
              "      <td>1</td>\n",
              "      <td>2</td>\n",
              "      <td>Female</td>\n",
              "      <td>94</td>\n",
              "      <td>3</td>\n",
              "      <td>2</td>\n",
              "      <td>Sales Executive</td>\n",
              "      <td>4</td>\n",
              "      <td>Single</td>\n",
              "      <td>5993</td>\n",
              "      <td>19479</td>\n",
              "      <td>8</td>\n",
              "      <td>Y</td>\n",
              "      <td>Yes</td>\n",
              "      <td>11</td>\n",
              "      <td>3</td>\n",
              "      <td>1</td>\n",
              "      <td>80</td>\n",
              "      <td>0</td>\n",
              "      <td>8</td>\n",
              "      <td>0</td>\n",
              "      <td>1</td>\n",
              "      <td>6</td>\n",
              "      <td>4</td>\n",
              "      <td>0</td>\n",
              "      <td>5</td>\n",
              "    </tr>\n",
              "    <tr>\n",
              "      <th>1</th>\n",
              "      <td>49</td>\n",
              "      <td>No</td>\n",
              "      <td>Travel_Frequently</td>\n",
              "      <td>279</td>\n",
              "      <td>Research &amp; Development</td>\n",
              "      <td>8</td>\n",
              "      <td>1</td>\n",
              "      <td>Life Sciences</td>\n",
              "      <td>1</td>\n",
              "      <td>2</td>\n",
              "      <td>3</td>\n",
              "      <td>Male</td>\n",
              "      <td>61</td>\n",
              "      <td>2</td>\n",
              "      <td>2</td>\n",
              "      <td>Research Scientist</td>\n",
              "      <td>2</td>\n",
              "      <td>Married</td>\n",
              "      <td>5130</td>\n",
              "      <td>24907</td>\n",
              "      <td>1</td>\n",
              "      <td>Y</td>\n",
              "      <td>No</td>\n",
              "      <td>23</td>\n",
              "      <td>4</td>\n",
              "      <td>4</td>\n",
              "      <td>80</td>\n",
              "      <td>1</td>\n",
              "      <td>10</td>\n",
              "      <td>3</td>\n",
              "      <td>3</td>\n",
              "      <td>10</td>\n",
              "      <td>7</td>\n",
              "      <td>1</td>\n",
              "      <td>7</td>\n",
              "    </tr>\n",
              "    <tr>\n",
              "      <th>2</th>\n",
              "      <td>37</td>\n",
              "      <td>Yes</td>\n",
              "      <td>Travel_Rarely</td>\n",
              "      <td>1373</td>\n",
              "      <td>Research &amp; Development</td>\n",
              "      <td>2</td>\n",
              "      <td>2</td>\n",
              "      <td>Other</td>\n",
              "      <td>1</td>\n",
              "      <td>4</td>\n",
              "      <td>4</td>\n",
              "      <td>Male</td>\n",
              "      <td>92</td>\n",
              "      <td>2</td>\n",
              "      <td>1</td>\n",
              "      <td>Laboratory Technician</td>\n",
              "      <td>3</td>\n",
              "      <td>Single</td>\n",
              "      <td>2090</td>\n",
              "      <td>2396</td>\n",
              "      <td>6</td>\n",
              "      <td>Y</td>\n",
              "      <td>Yes</td>\n",
              "      <td>15</td>\n",
              "      <td>3</td>\n",
              "      <td>2</td>\n",
              "      <td>80</td>\n",
              "      <td>0</td>\n",
              "      <td>7</td>\n",
              "      <td>3</td>\n",
              "      <td>3</td>\n",
              "      <td>0</td>\n",
              "      <td>0</td>\n",
              "      <td>0</td>\n",
              "      <td>0</td>\n",
              "    </tr>\n",
              "    <tr>\n",
              "      <th>3</th>\n",
              "      <td>33</td>\n",
              "      <td>No</td>\n",
              "      <td>Travel_Frequently</td>\n",
              "      <td>1392</td>\n",
              "      <td>Research &amp; Development</td>\n",
              "      <td>3</td>\n",
              "      <td>4</td>\n",
              "      <td>Life Sciences</td>\n",
              "      <td>1</td>\n",
              "      <td>5</td>\n",
              "      <td>4</td>\n",
              "      <td>Female</td>\n",
              "      <td>56</td>\n",
              "      <td>3</td>\n",
              "      <td>1</td>\n",
              "      <td>Research Scientist</td>\n",
              "      <td>3</td>\n",
              "      <td>Married</td>\n",
              "      <td>2909</td>\n",
              "      <td>23159</td>\n",
              "      <td>1</td>\n",
              "      <td>Y</td>\n",
              "      <td>Yes</td>\n",
              "      <td>11</td>\n",
              "      <td>3</td>\n",
              "      <td>3</td>\n",
              "      <td>80</td>\n",
              "      <td>0</td>\n",
              "      <td>8</td>\n",
              "      <td>3</td>\n",
              "      <td>3</td>\n",
              "      <td>8</td>\n",
              "      <td>7</td>\n",
              "      <td>3</td>\n",
              "      <td>0</td>\n",
              "    </tr>\n",
              "    <tr>\n",
              "      <th>4</th>\n",
              "      <td>27</td>\n",
              "      <td>No</td>\n",
              "      <td>Travel_Rarely</td>\n",
              "      <td>591</td>\n",
              "      <td>Research &amp; Development</td>\n",
              "      <td>2</td>\n",
              "      <td>1</td>\n",
              "      <td>Medical</td>\n",
              "      <td>1</td>\n",
              "      <td>7</td>\n",
              "      <td>1</td>\n",
              "      <td>Male</td>\n",
              "      <td>40</td>\n",
              "      <td>3</td>\n",
              "      <td>1</td>\n",
              "      <td>Laboratory Technician</td>\n",
              "      <td>2</td>\n",
              "      <td>Married</td>\n",
              "      <td>3468</td>\n",
              "      <td>16632</td>\n",
              "      <td>9</td>\n",
              "      <td>Y</td>\n",
              "      <td>No</td>\n",
              "      <td>12</td>\n",
              "      <td>3</td>\n",
              "      <td>4</td>\n",
              "      <td>80</td>\n",
              "      <td>1</td>\n",
              "      <td>6</td>\n",
              "      <td>3</td>\n",
              "      <td>3</td>\n",
              "      <td>2</td>\n",
              "      <td>2</td>\n",
              "      <td>2</td>\n",
              "      <td>2</td>\n",
              "    </tr>\n",
              "  </tbody>\n",
              "</table>\n",
              "</div>"
            ],
            "text/plain": [
              "   Age Attrition     BusinessTravel  DailyRate              Department  \\\n",
              "0   41       Yes      Travel_Rarely       1102                   Sales   \n",
              "1   49        No  Travel_Frequently        279  Research & Development   \n",
              "2   37       Yes      Travel_Rarely       1373  Research & Development   \n",
              "3   33        No  Travel_Frequently       1392  Research & Development   \n",
              "4   27        No      Travel_Rarely        591  Research & Development   \n",
              "\n",
              "   DistanceFromHome  Education EducationField  EmployeeCount  EmployeeNumber  \\\n",
              "0                 1          2  Life Sciences              1               1   \n",
              "1                 8          1  Life Sciences              1               2   \n",
              "2                 2          2          Other              1               4   \n",
              "3                 3          4  Life Sciences              1               5   \n",
              "4                 2          1        Medical              1               7   \n",
              "\n",
              "   EnvironmentSatisfaction  Gender  HourlyRate  JobInvolvement  JobLevel  \\\n",
              "0                        2  Female          94               3         2   \n",
              "1                        3    Male          61               2         2   \n",
              "2                        4    Male          92               2         1   \n",
              "3                        4  Female          56               3         1   \n",
              "4                        1    Male          40               3         1   \n",
              "\n",
              "                 JobRole  JobSatisfaction MaritalStatus  MonthlyIncome  \\\n",
              "0        Sales Executive                4        Single           5993   \n",
              "1     Research Scientist                2       Married           5130   \n",
              "2  Laboratory Technician                3        Single           2090   \n",
              "3     Research Scientist                3       Married           2909   \n",
              "4  Laboratory Technician                2       Married           3468   \n",
              "\n",
              "   MonthlyRate  NumCompaniesWorked Over18 OverTime  PercentSalaryHike  \\\n",
              "0        19479                   8      Y      Yes                 11   \n",
              "1        24907                   1      Y       No                 23   \n",
              "2         2396                   6      Y      Yes                 15   \n",
              "3        23159                   1      Y      Yes                 11   \n",
              "4        16632                   9      Y       No                 12   \n",
              "\n",
              "   PerformanceRating  RelationshipSatisfaction  StandardHours  \\\n",
              "0                  3                         1             80   \n",
              "1                  4                         4             80   \n",
              "2                  3                         2             80   \n",
              "3                  3                         3             80   \n",
              "4                  3                         4             80   \n",
              "\n",
              "   StockOptionLevel  TotalWorkingYears  TrainingTimesLastYear  \\\n",
              "0                 0                  8                      0   \n",
              "1                 1                 10                      3   \n",
              "2                 0                  7                      3   \n",
              "3                 0                  8                      3   \n",
              "4                 1                  6                      3   \n",
              "\n",
              "   WorkLifeBalance  YearsAtCompany  YearsInCurrentRole  \\\n",
              "0                1               6                   4   \n",
              "1                3              10                   7   \n",
              "2                3               0                   0   \n",
              "3                3               8                   7   \n",
              "4                3               2                   2   \n",
              "\n",
              "   YearsSinceLastPromotion  YearsWithCurrManager  \n",
              "0                        0                     5  \n",
              "1                        1                     7  \n",
              "2                        0                     0  \n",
              "3                        3                     0  \n",
              "4                        2                     2  "
            ]
          },
          "execution_count": 7,
          "metadata": {},
          "output_type": "execute_result"
        }
      ],
      "source": [
        "#look at sample of data\n",
        "empdf.head()"
      ]
    },
    {
      "cell_type": "code",
      "execution_count": null,
      "metadata": {
        "execution": {
          "iopub.execute_input": "2021-01-20T14:50:33.842218Z",
          "iopub.status.busy": "2021-01-20T14:50:33.841563Z",
          "iopub.status.idle": "2021-01-20T14:50:33.847064Z",
          "shell.execute_reply": "2021-01-20T14:50:33.846381Z"
        },
        "papermill": {
          "duration": 0.080957,
          "end_time": "2021-01-20T14:50:33.847172",
          "exception": false,
          "start_time": "2021-01-20T14:50:33.766215",
          "status": "completed"
        },
        "tags": [],
        "id": "zKxy5p3zrkPk",
        "outputId": "44dc6e0b-1b1e-4d72-b78e-e0230986a0c3"
      },
      "outputs": [
        {
          "data": {
            "text/plain": [
              "int64     26\n",
              "object     9\n",
              "dtype: int64"
            ]
          },
          "execution_count": 8,
          "metadata": {},
          "output_type": "execute_result"
        }
      ],
      "source": [
        "#let's see what data types how many features we are having\n",
        "empdf.dtypes.value_counts()"
      ]
    },
    {
      "cell_type": "code",
      "execution_count": null,
      "metadata": {
        "execution": {
          "iopub.execute_input": "2021-01-20T14:50:33.986403Z",
          "iopub.status.busy": "2021-01-20T14:50:33.985533Z",
          "iopub.status.idle": "2021-01-20T14:50:33.992543Z",
          "shell.execute_reply": "2021-01-20T14:50:33.993092Z"
        },
        "papermill": {
          "duration": 0.081291,
          "end_time": "2021-01-20T14:50:33.993239",
          "exception": false,
          "start_time": "2021-01-20T14:50:33.911948",
          "status": "completed"
        },
        "tags": [],
        "id": "qxt28sBIrkPl",
        "outputId": "b4f4725b-fbb5-4374-9875-61bc17081399"
      },
      "outputs": [
        {
          "data": {
            "text/plain": [
              "No     1233\n",
              "Yes     237\n",
              "Name: Attrition, dtype: int64"
            ]
          },
          "execution_count": 9,
          "metadata": {},
          "output_type": "execute_result"
        }
      ],
      "source": [
        "empdf['Attrition'].value_counts()"
      ]
    },
    {
      "cell_type": "code",
      "execution_count": null,
      "metadata": {
        "execution": {
          "iopub.execute_input": "2021-01-20T14:50:34.130032Z",
          "iopub.status.busy": "2021-01-20T14:50:34.129289Z",
          "iopub.status.idle": "2021-01-20T14:50:34.133680Z",
          "shell.execute_reply": "2021-01-20T14:50:34.132959Z"
        },
        "papermill": {
          "duration": 0.075112,
          "end_time": "2021-01-20T14:50:34.133816",
          "exception": false,
          "start_time": "2021-01-20T14:50:34.058704",
          "status": "completed"
        },
        "tags": [],
        "id": "sAAPU4o5rkPm"
      },
      "outputs": [],
      "source": [
        "#fig = go.Figure(figsize=(4,5))\n",
        "#trace = go.Pie(labels=empdf['Attrition'], values=empdf['Attrition'].value_counts())\n",
        "#iplot([trace])"
      ]
    },
    {
      "cell_type": "code",
      "execution_count": null,
      "metadata": {
        "execution": {
          "iopub.execute_input": "2021-01-20T14:50:34.625500Z",
          "iopub.status.busy": "2021-01-20T14:50:34.624659Z",
          "iopub.status.idle": "2021-01-20T14:50:34.630511Z",
          "shell.execute_reply": "2021-01-20T14:50:34.629633Z"
        },
        "papermill": {
          "duration": 0.109858,
          "end_time": "2021-01-20T14:50:34.630666",
          "exception": false,
          "start_time": "2021-01-20T14:50:34.520808",
          "status": "completed"
        },
        "tags": [],
        "id": "_7lLILz8rkPn",
        "outputId": "f4feb9a3-32ba-4b71-d0d5-25aeff55de50"
      },
      "outputs": [
        {
          "data": {
            "text/plain": [
              "0"
            ]
          },
          "execution_count": 12,
          "metadata": {},
          "output_type": "execute_result"
        }
      ],
      "source": [
        "# let's see the total Missing values in dataset\n",
        "empdf.isnull().sum().sum()"
      ]
    },
    {
      "cell_type": "code",
      "execution_count": null,
      "metadata": {
        "execution": {
          "iopub.execute_input": "2021-01-20T14:50:35.098360Z",
          "iopub.status.busy": "2021-01-20T14:50:35.097507Z",
          "iopub.status.idle": "2021-01-20T14:50:35.762817Z",
          "shell.execute_reply": "2021-01-20T14:50:35.761892Z"
        },
        "papermill": {
          "duration": 0.787801,
          "end_time": "2021-01-20T14:50:35.762953",
          "exception": false,
          "start_time": "2021-01-20T14:50:34.975152",
          "status": "completed"
        },
        "tags": [],
        "id": "h3Mm3nYnrkPp",
        "outputId": "02df4505-2c3e-4201-b324-d0d3b90d4180"
      },
      "outputs": [
        {
          "data": {
            "image/png": "[encoded data removed]",
            "text/plain": [
              "<Figure size 936x648 with 2 Axes>"
            ]
          },
          "metadata": {
            "needs_background": "light"
          },
          "output_type": "display_data"
        }
      ],
      "source": [
        "plt.figure(figsize=(13,9))\n",
        "sns.heatmap(empdf.corr(),vmax=0.8,linewidth=0.1,cmap='coolwarm')\n",
        "plt.show()"
      ]
    },
    {
      "cell_type": "markdown",
      "metadata": {
        "papermill": {
          "duration": 0.124458,
          "end_time": "2021-01-20T14:50:36.268169",
          "exception": false,
          "start_time": "2021-01-20T14:50:36.143711",
          "status": "completed"
        },
        "tags": [],
        "id": "ytvP_qhOrkPq"
      },
      "source": [
        "# EDA\n",
        "\n",
        "### Univariate and Bivariate Analysis\n",
        "**Categorical Features**"
      ]
    },
    {
      "cell_type": "code",
      "execution_count": null,
      "metadata": {
        "execution": {
          "iopub.execute_input": "2021-01-20T14:50:36.529221Z",
          "iopub.status.busy": "2021-01-20T14:50:36.528137Z",
          "iopub.status.idle": "2021-01-20T14:50:36.533731Z",
          "shell.execute_reply": "2021-01-20T14:50:36.533111Z"
        },
        "papermill": {
          "duration": 0.140728,
          "end_time": "2021-01-20T14:50:36.533859",
          "exception": false,
          "start_time": "2021-01-20T14:50:36.393131",
          "status": "completed"
        },
        "tags": [],
        "id": "S-oNh0IJrkPr",
        "outputId": "5ad06e0d-8b4a-4f7c-d631-211e111bfca4"
      },
      "outputs": [
        {
          "name": "stdout",
          "output_type": "stream",
          "text": [
            "total categorical_features 9\n"
          ]
        }
      ],
      "source": [
        "categorical_features = empdf.select_dtypes(include=[np.object]).columns\n",
        "print(\"total categorical_features\",len(categorical_features))"
      ]
    },
    {
      "cell_type": "code",
      "execution_count": null,
      "metadata": {
        "execution": {
          "iopub.execute_input": "2021-01-20T14:50:36.717074Z",
          "iopub.status.busy": "2021-01-20T14:50:36.716211Z",
          "iopub.status.idle": "2021-01-20T14:50:36.719495Z",
          "shell.execute_reply": "2021-01-20T14:50:36.720198Z"
        },
        "papermill": {
          "duration": 0.103811,
          "end_time": "2021-01-20T14:50:36.720356",
          "exception": false,
          "start_time": "2021-01-20T14:50:36.616545",
          "status": "completed"
        },
        "tags": [],
        "id": "eMPazQCrrkPs",
        "outputId": "2a909bcf-ee3c-4432-836d-6e38079be9cc"
      },
      "outputs": [
        {
          "data": {
            "text/html": [
              "<div>\n",
              "<style scoped>\n",
              "    .dataframe tbody tr th:only-of-type {\n",
              "        vertical-align: middle;\n",
              "    }\n",
              "\n",
              "    .dataframe tbody tr th {\n",
              "        vertical-align: top;\n",
              "    }\n",
              "\n",
              "    .dataframe thead th {\n",
              "        text-align: right;\n",
              "    }\n",
              "</style>\n",
              "<table border=\"1\" class=\"dataframe\">\n",
              "  <thead>\n",
              "    <tr style=\"text-align: right;\">\n",
              "      <th></th>\n",
              "      <th>Attrition</th>\n",
              "      <th>BusinessTravel</th>\n",
              "      <th>Department</th>\n",
              "      <th>EducationField</th>\n",
              "      <th>Gender</th>\n",
              "      <th>JobRole</th>\n",
              "      <th>MaritalStatus</th>\n",
              "      <th>Over18</th>\n",
              "      <th>OverTime</th>\n",
              "    </tr>\n",
              "  </thead>\n",
              "  <tbody>\n",
              "    <tr>\n",
              "      <th>0</th>\n",
              "      <td>Yes</td>\n",
              "      <td>Travel_Rarely</td>\n",
              "      <td>Sales</td>\n",
              "      <td>Life Sciences</td>\n",
              "      <td>Female</td>\n",
              "      <td>Sales Executive</td>\n",
              "      <td>Single</td>\n",
              "      <td>Y</td>\n",
              "      <td>Yes</td>\n",
              "    </tr>\n",
              "    <tr>\n",
              "      <th>1</th>\n",
              "      <td>No</td>\n",
              "      <td>Travel_Frequently</td>\n",
              "      <td>Research &amp; Development</td>\n",
              "      <td>Life Sciences</td>\n",
              "      <td>Male</td>\n",
              "      <td>Research Scientist</td>\n",
              "      <td>Married</td>\n",
              "      <td>Y</td>\n",
              "      <td>No</td>\n",
              "    </tr>\n",
              "    <tr>\n",
              "      <th>2</th>\n",
              "      <td>Yes</td>\n",
              "      <td>Travel_Rarely</td>\n",
              "      <td>Research &amp; Development</td>\n",
              "      <td>Other</td>\n",
              "      <td>Male</td>\n",
              "      <td>Laboratory Technician</td>\n",
              "      <td>Single</td>\n",
              "      <td>Y</td>\n",
              "      <td>Yes</td>\n",
              "    </tr>\n",
              "    <tr>\n",
              "      <th>3</th>\n",
              "      <td>No</td>\n",
              "      <td>Travel_Frequently</td>\n",
              "      <td>Research &amp; Development</td>\n",
              "      <td>Life Sciences</td>\n",
              "      <td>Female</td>\n",
              "      <td>Research Scientist</td>\n",
              "      <td>Married</td>\n",
              "      <td>Y</td>\n",
              "      <td>Yes</td>\n",
              "    </tr>\n",
              "    <tr>\n",
              "      <th>4</th>\n",
              "      <td>No</td>\n",
              "      <td>Travel_Rarely</td>\n",
              "      <td>Research &amp; Development</td>\n",
              "      <td>Medical</td>\n",
              "      <td>Male</td>\n",
              "      <td>Laboratory Technician</td>\n",
              "      <td>Married</td>\n",
              "      <td>Y</td>\n",
              "      <td>No</td>\n",
              "    </tr>\n",
              "  </tbody>\n",
              "</table>\n",
              "</div>"
            ],
            "text/plain": [
              "  Attrition     BusinessTravel              Department EducationField  Gender  \\\n",
              "0       Yes      Travel_Rarely                   Sales  Life Sciences  Female   \n",
              "1        No  Travel_Frequently  Research & Development  Life Sciences    Male   \n",
              "2       Yes      Travel_Rarely  Research & Development          Other    Male   \n",
              "3        No  Travel_Frequently  Research & Development  Life Sciences  Female   \n",
              "4        No      Travel_Rarely  Research & Development        Medical    Male   \n",
              "\n",
              "                 JobRole MaritalStatus Over18 OverTime  \n",
              "0        Sales Executive        Single      Y      Yes  \n",
              "1     Research Scientist       Married      Y       No  \n",
              "2  Laboratory Technician        Single      Y      Yes  \n",
              "3     Research Scientist       Married      Y      Yes  \n",
              "4  Laboratory Technician       Married      Y       No  "
            ]
          },
          "execution_count": 15,
          "metadata": {},
          "output_type": "execute_result"
        }
      ],
      "source": [
        "empdf[categorical_features].head()"
      ]
    },
    {
      "cell_type": "code",
      "execution_count": null,
      "metadata": {
        "execution": {
          "iopub.execute_input": "2021-01-20T14:50:36.965110Z",
          "iopub.status.busy": "2021-01-20T14:50:36.964253Z",
          "iopub.status.idle": "2021-01-20T14:50:36.969557Z",
          "shell.execute_reply": "2021-01-20T14:50:36.970217Z"
        },
        "papermill": {
          "duration": 0.131003,
          "end_time": "2021-01-20T14:50:36.970364",
          "exception": false,
          "start_time": "2021-01-20T14:50:36.839361",
          "status": "completed"
        },
        "tags": [],
        "id": "a4JeTthlrkPs",
        "outputId": "f6d621a1-f520-4b86-adf8-d445dc91b0e8"
      },
      "outputs": [
        {
          "data": {
            "text/plain": [
              "Travel_Rarely        1043\n",
              "Travel_Frequently     277\n",
              "Non-Travel            150\n",
              "Name: BusinessTravel, dtype: int64"
            ]
          },
          "execution_count": 16,
          "metadata": {},
          "output_type": "execute_result"
        }
      ],
      "source": [
        "# Business Travel\n",
        "empdf['BusinessTravel'].value_counts()"
      ]
    },
    {
      "cell_type": "code",
      "execution_count": null,
      "metadata": {
        "execution": {
          "iopub.execute_input": "2021-01-20T14:50:37.135323Z",
          "iopub.status.busy": "2021-01-20T14:50:37.133664Z",
          "iopub.status.idle": "2021-01-20T14:50:37.287446Z",
          "shell.execute_reply": "2021-01-20T14:50:37.286855Z"
        },
        "papermill": {
          "duration": 0.237964,
          "end_time": "2021-01-20T14:50:37.287551",
          "exception": false,
          "start_time": "2021-01-20T14:50:37.049587",
          "status": "completed"
        },
        "tags": [],
        "id": "FAp2DkSYrkPt",
        "outputId": "44d6c2a7-8dad-4779-af2a-7b1c665bd8fc"
      },
      "outputs": [
        {
          "data": {
            "image/png": "[encoded data removed]",
            "text/plain": [
              "<Figure size 576x360 with 1 Axes>"
            ]
          },
          "metadata": {
            "needs_background": "light"
          },
          "output_type": "display_data"
        }
      ],
      "source": [
        "plt.figure(figsize=(8,5))\n",
        "sns.countplot(x='BusinessTravel',hue='Attrition', data=empdf, palette='plasma')\n",
        "plt.title(\"Attrition wrt BusinessTravel\")\n",
        "plt.show()"
      ]
    },
    {
      "cell_type": "code",
      "execution_count": null,
      "metadata": {
        "execution": {
          "iopub.execute_input": "2021-01-20T14:50:39.048457Z",
          "iopub.status.busy": "2021-01-20T14:50:39.047319Z",
          "iopub.status.idle": "2021-01-20T14:50:39.054468Z",
          "shell.execute_reply": "2021-01-20T14:50:39.053677Z"
        },
        "papermill": {
          "duration": 0.156804,
          "end_time": "2021-01-20T14:50:39.054614",
          "exception": false,
          "start_time": "2021-01-20T14:50:38.897810",
          "status": "completed"
        },
        "tags": [],
        "id": "xVuZ_JwprkPv",
        "outputId": "d9fe1556-368f-4f6d-8810-bbace70b5e5f"
      },
      "outputs": [
        {
          "data": {
            "text/plain": [
              "Research & Development    961\n",
              "Sales                     446\n",
              "Human Resources            63\n",
              "Name: Department, dtype: int64"
            ]
          },
          "execution_count": 19,
          "metadata": {},
          "output_type": "execute_result"
        }
      ],
      "source": [
        "#Department\n",
        "empdf['Department'].value_counts()"
      ]
    },
    {
      "cell_type": "code",
      "execution_count": null,
      "metadata": {
        "execution": {
          "iopub.execute_input": "2021-01-20T14:50:39.340379Z",
          "iopub.status.busy": "2021-01-20T14:50:39.339515Z",
          "iopub.status.idle": "2021-01-20T14:50:39.502894Z",
          "shell.execute_reply": "2021-01-20T14:50:39.502391Z"
        },
        "papermill": {
          "duration": 0.30881,
          "end_time": "2021-01-20T14:50:39.503013",
          "exception": false,
          "start_time": "2021-01-20T14:50:39.194203",
          "status": "completed"
        },
        "tags": [],
        "id": "m81ERl7jrkPv",
        "outputId": "5a86b8a5-ec0a-4e67-caee-b72ebc16ef0c"
      },
      "outputs": [
        {
          "data": {
            "image/png": "[encoded data removed]",
            "text/plain": [
              "<Figure size 576x360 with 1 Axes>"
            ]
          },
          "metadata": {
            "needs_background": "light"
          },
          "output_type": "display_data"
        }
      ],
      "source": [
        "# Department wrt Attrition\n",
        "plt.figure(figsize=(8,5))\n",
        "sns.countplot(x='Department',hue='Attrition', data=empdf, palette='rocket')\n",
        "plt.title(\"Attrition w.r.t Department\")\n",
        "plt.show()"
      ]
    },
    {
      "cell_type": "code",
      "execution_count": null,
      "metadata": {
        "execution": {
          "iopub.execute_input": "2021-01-20T14:50:39.692038Z",
          "iopub.status.busy": "2021-01-20T14:50:39.691093Z",
          "iopub.status.idle": "2021-01-20T14:50:39.695489Z",
          "shell.execute_reply": "2021-01-20T14:50:39.695980Z"
        },
        "papermill": {
          "duration": 0.103087,
          "end_time": "2021-01-20T14:50:39.696124",
          "exception": false,
          "start_time": "2021-01-20T14:50:39.593037",
          "status": "completed"
        },
        "tags": [],
        "id": "v6ncNZvbrkPw",
        "outputId": "288dd81d-6979-4e46-d425-eaad40b3c6d5"
      },
      "outputs": [
        {
          "data": {
            "text/plain": [
              "Life Sciences       606\n",
              "Medical             464\n",
              "Marketing           159\n",
              "Technical Degree    132\n",
              "Other                82\n",
              "Human Resources      27\n",
              "Name: EducationField, dtype: int64"
            ]
          },
          "execution_count": 21,
          "metadata": {},
          "output_type": "execute_result"
        }
      ],
      "source": [
        "#EducationField\n",
        "empdf['EducationField'].value_counts()"
      ]
    },
    {
      "cell_type": "code",
      "execution_count": null,
      "metadata": {
        "execution": {
          "iopub.execute_input": "2021-01-20T14:50:39.885001Z",
          "iopub.status.busy": "2021-01-20T14:50:39.884148Z",
          "iopub.status.idle": "2021-01-20T14:50:40.127418Z",
          "shell.execute_reply": "2021-01-20T14:50:40.127966Z"
        },
        "papermill": {
          "duration": 0.339192,
          "end_time": "2021-01-20T14:50:40.128104",
          "exception": false,
          "start_time": "2021-01-20T14:50:39.788912",
          "status": "completed"
        },
        "tags": [],
        "id": "2mIeuViGrkPw",
        "outputId": "0cb7011f-f03b-4c1d-c365-050f70e9372e"
      },
      "outputs": [
        {
          "data": {
            "image/png": "[encoded data removed]",
            "text/plain": [
              "<Figure size 576x360 with 1 Axes>"
            ]
          },
          "metadata": {
            "needs_background": "light"
          },
          "output_type": "display_data"
        }
      ],
      "source": [
        "# Department wrt Attrition\n",
        "plt.figure(figsize=(8,5))\n",
        "sns.countplot(x='EducationField',hue='Attrition', data=empdf, palette='seismic')\n",
        "plt.title(\"Attrition w.r.t EducationField\")\n",
        "plt.xticks(rotation=45)\n",
        "plt.show()"
      ]
    },
    {
      "cell_type": "code",
      "execution_count": null,
      "metadata": {
        "execution": {
          "iopub.execute_input": "2021-01-20T14:50:40.320880Z",
          "iopub.status.busy": "2021-01-20T14:50:40.320232Z",
          "iopub.status.idle": "2021-01-20T14:50:40.328009Z",
          "shell.execute_reply": "2021-01-20T14:50:40.327310Z"
        },
        "papermill": {
          "duration": 0.107161,
          "end_time": "2021-01-20T14:50:40.328143",
          "exception": false,
          "start_time": "2021-01-20T14:50:40.220982",
          "status": "completed"
        },
        "tags": [],
        "id": "6tW_m86JrkPx",
        "outputId": "046c62c8-d9bd-40b7-f702-dc912d467c57"
      },
      "outputs": [
        {
          "data": {
            "text/plain": [
              "Male      882\n",
              "Female    588\n",
              "Name: Gender, dtype: int64"
            ]
          },
          "execution_count": 23,
          "metadata": {},
          "output_type": "execute_result"
        }
      ],
      "source": [
        "#Gender\n",
        "empdf['Gender'].value_counts()"
      ]
    },
    {
      "cell_type": "code",
      "execution_count": null,
      "metadata": {
        "execution": {
          "iopub.execute_input": "2021-01-20T14:50:40.619616Z",
          "iopub.status.busy": "2021-01-20T14:50:40.618718Z",
          "iopub.status.idle": "2021-01-20T14:50:40.759955Z",
          "shell.execute_reply": "2021-01-20T14:50:40.760802Z"
        },
        "papermill": {
          "duration": 0.292302,
          "end_time": "2021-01-20T14:50:40.760989",
          "exception": false,
          "start_time": "2021-01-20T14:50:40.468687",
          "status": "completed"
        },
        "tags": [],
        "id": "cKNQ6VulrkPx",
        "outputId": "2c79bff9-c771-44ff-9bed-c0429b91c193"
      },
      "outputs": [
        {
          "data": {
            "image/png": "[encoded data removed]",
            "text/plain": [
              "<Figure size 504x360 with 1 Axes>"
            ]
          },
          "metadata": {
            "needs_background": "light"
          },
          "output_type": "display_data"
        }
      ],
      "source": [
        "# most male of female employes Attriate\n",
        "# Department wrt Attrition\n",
        "plt.figure(figsize=(7,5))\n",
        "sns.countplot(x='Gender',hue='Attrition', data=empdf, palette='plasma')\n",
        "plt.title(\"Gender w.r.t Attrition\")\n",
        "plt.legend(loc='best')\n",
        "plt.show()"
      ]
    },
    {
      "cell_type": "code",
      "execution_count": null,
      "metadata": {
        "execution": {
          "iopub.execute_input": "2021-01-20T14:50:41.056311Z",
          "iopub.status.busy": "2021-01-20T14:50:41.055303Z",
          "iopub.status.idle": "2021-01-20T14:50:41.106745Z",
          "shell.execute_reply": "2021-01-20T14:50:41.107485Z"
        },
        "papermill": {
          "duration": 0.204206,
          "end_time": "2021-01-20T14:50:41.107660",
          "exception": false,
          "start_time": "2021-01-20T14:50:40.903454",
          "status": "completed"
        },
        "tags": [],
        "id": "YOm78hVurkPy",
        "outputId": "877b90b0-5fe1-4c09-9838-1373236d7557"
      },
      "outputs": [
        {
          "data": {
            "text/html": [
              "<div>\n",
              "<style scoped>\n",
              "    .dataframe tbody tr th:only-of-type {\n",
              "        vertical-align: middle;\n",
              "    }\n",
              "\n",
              "    .dataframe tbody tr th {\n",
              "        vertical-align: top;\n",
              "    }\n",
              "\n",
              "    .dataframe thead th {\n",
              "        text-align: right;\n",
              "    }\n",
              "</style>\n",
              "<table border=\"1\" class=\"dataframe\">\n",
              "  <thead>\n",
              "    <tr style=\"text-align: right;\">\n",
              "      <th>Gender</th>\n",
              "      <th>Female</th>\n",
              "      <th>Male</th>\n",
              "    </tr>\n",
              "    <tr>\n",
              "      <th>MaritalStatus</th>\n",
              "      <th></th>\n",
              "      <th></th>\n",
              "    </tr>\n",
              "  </thead>\n",
              "  <tbody>\n",
              "    <tr>\n",
              "      <th>Divorced</th>\n",
              "      <td>117</td>\n",
              "      <td>210</td>\n",
              "    </tr>\n",
              "    <tr>\n",
              "      <th>Married</th>\n",
              "      <td>272</td>\n",
              "      <td>401</td>\n",
              "    </tr>\n",
              "    <tr>\n",
              "      <th>Single</th>\n",
              "      <td>199</td>\n",
              "      <td>271</td>\n",
              "    </tr>\n",
              "  </tbody>\n",
              "</table>\n",
              "</div>"
            ],
            "text/plain": [
              "Gender         Female  Male\n",
              "MaritalStatus              \n",
              "Divorced          117   210\n",
              "Married           272   401\n",
              "Single            199   271"
            ]
          },
          "execution_count": 25,
          "metadata": {},
          "output_type": "execute_result"
        }
      ],
      "source": [
        "# let's also see, how any male and female are Married\n",
        "pd.crosstab(empdf['MaritalStatus'],empdf['Gender'])"
      ]
    },
    {
      "cell_type": "code",
      "execution_count": null,
      "metadata": {
        "execution": {
          "iopub.execute_input": "2021-01-20T14:50:41.403219Z",
          "iopub.status.busy": "2021-01-20T14:50:41.402161Z",
          "iopub.status.idle": "2021-01-20T14:50:41.408905Z",
          "shell.execute_reply": "2021-01-20T14:50:41.408121Z"
        },
        "papermill": {
          "duration": 0.157125,
          "end_time": "2021-01-20T14:50:41.409090",
          "exception": false,
          "start_time": "2021-01-20T14:50:41.251965",
          "status": "completed"
        },
        "tags": [],
        "id": "yQvE25yMrkPz",
        "outputId": "aca70f1b-015c-4e89-d9c4-3118de7a2411"
      },
      "outputs": [
        {
          "data": {
            "text/plain": [
              "9"
            ]
          },
          "execution_count": 26,
          "metadata": {},
          "output_type": "execute_result"
        }
      ],
      "source": [
        "#JobRole\n",
        "empdf['JobRole'].nunique()"
      ]
    },
    {
      "cell_type": "code",
      "execution_count": null,
      "metadata": {
        "execution": {
          "iopub.execute_input": "2021-01-20T14:50:41.722794Z",
          "iopub.status.busy": "2021-01-20T14:50:41.707881Z",
          "iopub.status.idle": "2021-01-20T14:50:41.934714Z",
          "shell.execute_reply": "2021-01-20T14:50:41.933065Z"
        },
        "papermill": {
          "duration": 0.38134,
          "end_time": "2021-01-20T14:50:41.934837",
          "exception": false,
          "start_time": "2021-01-20T14:50:41.553497",
          "status": "completed"
        },
        "tags": [],
        "id": "PSHvyZ0HrkPz",
        "outputId": "c6659171-7de1-43ff-fdc3-7b54f4502105"
      },
      "outputs": [
        {
          "data": {
            "image/png": "[encoded data removed]",
            "text/plain": [
              "<Figure size 576x360 with 1 Axes>"
            ]
          },
          "metadata": {
            "needs_background": "light"
          },
          "output_type": "display_data"
        }
      ],
      "source": [
        "# let's see at which post most people are leaving the jobs\n",
        "# JobRole\n",
        "plt.figure(figsize=(8,5))\n",
        "sns.countplot(x='JobRole',hue='Attrition', data=empdf, palette='plasma')\n",
        "plt.title(\"JobRole w.r.t Attrition\")\n",
        "plt.legend(loc='best')\n",
        "plt.xticks(rotation=45)\n",
        "plt.show()"
      ]
    },
    {
      "cell_type": "code",
      "execution_count": null,
      "metadata": {
        "execution": {
          "iopub.execute_input": "2021-01-20T14:50:42.139156Z",
          "iopub.status.busy": "2021-01-20T14:50:42.138291Z",
          "iopub.status.idle": "2021-01-20T14:50:42.144732Z",
          "shell.execute_reply": "2021-01-20T14:50:42.143950Z"
        },
        "papermill": {
          "duration": 0.111996,
          "end_time": "2021-01-20T14:50:42.144873",
          "exception": false,
          "start_time": "2021-01-20T14:50:42.032877",
          "status": "completed"
        },
        "tags": [],
        "id": "5XJhLT43rkP0",
        "outputId": "1ba8e8b0-0d1b-443a-efe5-b8cd7c8349bf"
      },
      "outputs": [
        {
          "data": {
            "text/plain": [
              "No     1054\n",
              "Yes     416\n",
              "Name: OverTime, dtype: int64"
            ]
          },
          "execution_count": 28,
          "metadata": {},
          "output_type": "execute_result"
        }
      ],
      "source": [
        "#OverTime\n",
        "empdf['OverTime'].value_counts()"
      ]
    },
    {
      "cell_type": "code",
      "execution_count": null,
      "metadata": {
        "execution": {
          "iopub.execute_input": "2021-01-20T14:50:42.454093Z",
          "iopub.status.busy": "2021-01-20T14:50:42.453119Z",
          "iopub.status.idle": "2021-01-20T14:50:42.629791Z",
          "shell.execute_reply": "2021-01-20T14:50:42.628988Z"
        },
        "papermill": {
          "duration": 0.337992,
          "end_time": "2021-01-20T14:50:42.629947",
          "exception": false,
          "start_time": "2021-01-20T14:50:42.291955",
          "status": "completed"
        },
        "tags": [],
        "id": "fF89Jpa5rkP1",
        "outputId": "8e708438-45b3-4353-8100-d76f406a48a9"
      },
      "outputs": [
        {
          "data": {
            "image/png": "[encoded data removed]",
            "text/plain": [
              "<Figure size 504x360 with 1 Axes>"
            ]
          },
          "metadata": {
            "needs_background": "light"
          },
          "output_type": "display_data"
        }
      ],
      "source": [
        "plt.figure(figsize=(7,5))\n",
        "sns.countplot(x='OverTime',hue='Attrition', data=empdf, palette='plasma')\n",
        "plt.title(\"OverTime w.r.t Attrition\")\n",
        "plt.legend(loc='best')\n",
        "plt.show()"
      ]
    },
    {
      "cell_type": "code",
      "execution_count": null,
      "metadata": {
        "execution": {
          "iopub.execute_input": "2021-01-20T14:50:42.851303Z",
          "iopub.status.busy": "2021-01-20T14:50:42.841611Z",
          "iopub.status.idle": "2021-01-20T14:50:42.867440Z",
          "shell.execute_reply": "2021-01-20T14:50:42.866634Z"
        },
        "papermill": {
          "duration": 0.133968,
          "end_time": "2021-01-20T14:50:42.867551",
          "exception": false,
          "start_time": "2021-01-20T14:50:42.733583",
          "status": "completed"
        },
        "tags": [],
        "id": "AwfDZY3vrkP1",
        "outputId": "7c5ad4b4-6bc1-440a-ed70-b1cd6733b297"
      },
      "outputs": [
        {
          "data": {
            "text/html": [
              "<div>\n",
              "<style scoped>\n",
              "    .dataframe tbody tr th:only-of-type {\n",
              "        vertical-align: middle;\n",
              "    }\n",
              "\n",
              "    .dataframe tbody tr th {\n",
              "        vertical-align: top;\n",
              "    }\n",
              "\n",
              "    .dataframe thead th {\n",
              "        text-align: right;\n",
              "    }\n",
              "</style>\n",
              "<table border=\"1\" class=\"dataframe\">\n",
              "  <thead>\n",
              "    <tr style=\"text-align: right;\">\n",
              "      <th>Gender</th>\n",
              "      <th>Female</th>\n",
              "      <th>Male</th>\n",
              "    </tr>\n",
              "    <tr>\n",
              "      <th>OverTime</th>\n",
              "      <th></th>\n",
              "      <th></th>\n",
              "    </tr>\n",
              "  </thead>\n",
              "  <tbody>\n",
              "    <tr>\n",
              "      <th>No</th>\n",
              "      <td>408</td>\n",
              "      <td>646</td>\n",
              "    </tr>\n",
              "    <tr>\n",
              "      <th>Yes</th>\n",
              "      <td>180</td>\n",
              "      <td>236</td>\n",
              "    </tr>\n",
              "  </tbody>\n",
              "</table>\n",
              "</div>"
            ],
            "text/plain": [
              "Gender    Female  Male\n",
              "OverTime              \n",
              "No           408   646\n",
              "Yes          180   236"
            ]
          },
          "execution_count": 30,
          "metadata": {},
          "output_type": "execute_result"
        }
      ],
      "source": [
        "# how many male and female do overTime\n",
        "pd.crosstab(empdf['OverTime'], empdf['Gender'])"
      ]
    },
    {
      "cell_type": "markdown",
      "metadata": {
        "papermill": {
          "duration": 0.148433,
          "end_time": "2021-01-20T14:50:43.359838",
          "exception": false,
          "start_time": "2021-01-20T14:50:43.211405",
          "status": "completed"
        },
        "tags": [],
        "id": "1KdMVL3irkP3"
      },
      "source": [
        "**Numerical Features**"
      ]
    },
    {
      "cell_type": "code",
      "execution_count": null,
      "metadata": {
        "execution": {
          "iopub.execute_input": "2021-01-20T14:50:43.663829Z",
          "iopub.status.busy": "2021-01-20T14:50:43.663014Z",
          "iopub.status.idle": "2021-01-20T14:50:43.670565Z",
          "shell.execute_reply": "2021-01-20T14:50:43.669640Z"
        },
        "papermill": {
          "duration": 0.162969,
          "end_time": "2021-01-20T14:50:43.670703",
          "exception": false,
          "start_time": "2021-01-20T14:50:43.507734",
          "status": "completed"
        },
        "tags": [],
        "id": "HVUoV5NSrkP3",
        "outputId": "d1c6f811-dc7e-475f-e8e0-590a26913f36"
      },
      "outputs": [
        {
          "name": "stdout",
          "output_type": "stream",
          "text": [
            "Total numerical_features 26\n"
          ]
        }
      ],
      "source": [
        "numerical_features = [feature for feature in empdf.columns if empdf[feature].dtype != 'O']\n",
        "print(\"Total numerical_features\", len(numerical_features))"
      ]
    },
    {
      "cell_type": "code",
      "execution_count": null,
      "metadata": {
        "execution": {
          "iopub.execute_input": "2021-01-20T14:50:44.003824Z",
          "iopub.status.busy": "2021-01-20T14:50:44.001455Z",
          "iopub.status.idle": "2021-01-20T14:50:44.010365Z",
          "shell.execute_reply": "2021-01-20T14:50:44.009366Z"
        },
        "papermill": {
          "duration": 0.181285,
          "end_time": "2021-01-20T14:50:44.010497",
          "exception": false,
          "start_time": "2021-01-20T14:50:43.829212",
          "status": "completed"
        },
        "tags": [],
        "id": "MqGZt_NHrkP4",
        "outputId": "35a0157f-90a8-4118-eb32-97740fa958b8"
      },
      "outputs": [
        {
          "data": {
            "text/html": [
              "<div>\n",
              "<style scoped>\n",
              "    .dataframe tbody tr th:only-of-type {\n",
              "        vertical-align: middle;\n",
              "    }\n",
              "\n",
              "    .dataframe tbody tr th {\n",
              "        vertical-align: top;\n",
              "    }\n",
              "\n",
              "    .dataframe thead th {\n",
              "        text-align: right;\n",
              "    }\n",
              "</style>\n",
              "<table border=\"1\" class=\"dataframe\">\n",
              "  <thead>\n",
              "    <tr style=\"text-align: right;\">\n",
              "      <th></th>\n",
              "      <th>Age</th>\n",
              "      <th>DailyRate</th>\n",
              "      <th>DistanceFromHome</th>\n",
              "      <th>Education</th>\n",
              "      <th>EmployeeCount</th>\n",
              "      <th>EmployeeNumber</th>\n",
              "      <th>EnvironmentSatisfaction</th>\n",
              "      <th>HourlyRate</th>\n",
              "      <th>JobInvolvement</th>\n",
              "      <th>JobLevel</th>\n",
              "      <th>JobSatisfaction</th>\n",
              "      <th>MonthlyIncome</th>\n",
              "      <th>MonthlyRate</th>\n",
              "      <th>NumCompaniesWorked</th>\n",
              "      <th>PercentSalaryHike</th>\n",
              "      <th>PerformanceRating</th>\n",
              "      <th>RelationshipSatisfaction</th>\n",
              "      <th>StandardHours</th>\n",
              "      <th>StockOptionLevel</th>\n",
              "      <th>TotalWorkingYears</th>\n",
              "      <th>TrainingTimesLastYear</th>\n",
              "      <th>WorkLifeBalance</th>\n",
              "      <th>YearsAtCompany</th>\n",
              "      <th>YearsInCurrentRole</th>\n",
              "      <th>YearsSinceLastPromotion</th>\n",
              "      <th>YearsWithCurrManager</th>\n",
              "    </tr>\n",
              "  </thead>\n",
              "  <tbody>\n",
              "    <tr>\n",
              "      <th>0</th>\n",
              "      <td>41</td>\n",
              "      <td>1102</td>\n",
              "      <td>1</td>\n",
              "      <td>2</td>\n",
              "      <td>1</td>\n",
              "      <td>1</td>\n",
              "      <td>2</td>\n",
              "      <td>94</td>\n",
              "      <td>3</td>\n",
              "      <td>2</td>\n",
              "      <td>4</td>\n",
              "      <td>5993</td>\n",
              "      <td>19479</td>\n",
              "      <td>8</td>\n",
              "      <td>11</td>\n",
              "      <td>3</td>\n",
              "      <td>1</td>\n",
              "      <td>80</td>\n",
              "      <td>0</td>\n",
              "      <td>8</td>\n",
              "      <td>0</td>\n",
              "      <td>1</td>\n",
              "      <td>6</td>\n",
              "      <td>4</td>\n",
              "      <td>0</td>\n",
              "      <td>5</td>\n",
              "    </tr>\n",
              "    <tr>\n",
              "      <th>1</th>\n",
              "      <td>49</td>\n",
              "      <td>279</td>\n",
              "      <td>8</td>\n",
              "      <td>1</td>\n",
              "      <td>1</td>\n",
              "      <td>2</td>\n",
              "      <td>3</td>\n",
              "      <td>61</td>\n",
              "      <td>2</td>\n",
              "      <td>2</td>\n",
              "      <td>2</td>\n",
              "      <td>5130</td>\n",
              "      <td>24907</td>\n",
              "      <td>1</td>\n",
              "      <td>23</td>\n",
              "      <td>4</td>\n",
              "      <td>4</td>\n",
              "      <td>80</td>\n",
              "      <td>1</td>\n",
              "      <td>10</td>\n",
              "      <td>3</td>\n",
              "      <td>3</td>\n",
              "      <td>10</td>\n",
              "      <td>7</td>\n",
              "      <td>1</td>\n",
              "      <td>7</td>\n",
              "    </tr>\n",
              "    <tr>\n",
              "      <th>2</th>\n",
              "      <td>37</td>\n",
              "      <td>1373</td>\n",
              "      <td>2</td>\n",
              "      <td>2</td>\n",
              "      <td>1</td>\n",
              "      <td>4</td>\n",
              "      <td>4</td>\n",
              "      <td>92</td>\n",
              "      <td>2</td>\n",
              "      <td>1</td>\n",
              "      <td>3</td>\n",
              "      <td>2090</td>\n",
              "      <td>2396</td>\n",
              "      <td>6</td>\n",
              "      <td>15</td>\n",
              "      <td>3</td>\n",
              "      <td>2</td>\n",
              "      <td>80</td>\n",
              "      <td>0</td>\n",
              "      <td>7</td>\n",
              "      <td>3</td>\n",
              "      <td>3</td>\n",
              "      <td>0</td>\n",
              "      <td>0</td>\n",
              "      <td>0</td>\n",
              "      <td>0</td>\n",
              "    </tr>\n",
              "    <tr>\n",
              "      <th>3</th>\n",
              "      <td>33</td>\n",
              "      <td>1392</td>\n",
              "      <td>3</td>\n",
              "      <td>4</td>\n",
              "      <td>1</td>\n",
              "      <td>5</td>\n",
              "      <td>4</td>\n",
              "      <td>56</td>\n",
              "      <td>3</td>\n",
              "      <td>1</td>\n",
              "      <td>3</td>\n",
              "      <td>2909</td>\n",
              "      <td>23159</td>\n",
              "      <td>1</td>\n",
              "      <td>11</td>\n",
              "      <td>3</td>\n",
              "      <td>3</td>\n",
              "      <td>80</td>\n",
              "      <td>0</td>\n",
              "      <td>8</td>\n",
              "      <td>3</td>\n",
              "      <td>3</td>\n",
              "      <td>8</td>\n",
              "      <td>7</td>\n",
              "      <td>3</td>\n",
              "      <td>0</td>\n",
              "    </tr>\n",
              "    <tr>\n",
              "      <th>4</th>\n",
              "      <td>27</td>\n",
              "      <td>591</td>\n",
              "      <td>2</td>\n",
              "      <td>1</td>\n",
              "      <td>1</td>\n",
              "      <td>7</td>\n",
              "      <td>1</td>\n",
              "      <td>40</td>\n",
              "      <td>3</td>\n",
              "      <td>1</td>\n",
              "      <td>2</td>\n",
              "      <td>3468</td>\n",
              "      <td>16632</td>\n",
              "      <td>9</td>\n",
              "      <td>12</td>\n",
              "      <td>3</td>\n",
              "      <td>4</td>\n",
              "      <td>80</td>\n",
              "      <td>1</td>\n",
              "      <td>6</td>\n",
              "      <td>3</td>\n",
              "      <td>3</td>\n",
              "      <td>2</td>\n",
              "      <td>2</td>\n",
              "      <td>2</td>\n",
              "      <td>2</td>\n",
              "    </tr>\n",
              "  </tbody>\n",
              "</table>\n",
              "</div>"
            ],
            "text/plain": [
              "   Age  DailyRate  DistanceFromHome  Education  EmployeeCount  EmployeeNumber  \\\n",
              "0   41       1102                 1          2              1               1   \n",
              "1   49        279                 8          1              1               2   \n",
              "2   37       1373                 2          2              1               4   \n",
              "3   33       1392                 3          4              1               5   \n",
              "4   27        591                 2          1              1               7   \n",
              "\n",
              "   EnvironmentSatisfaction  HourlyRate  JobInvolvement  JobLevel  \\\n",
              "0                        2          94               3         2   \n",
              "1                        3          61               2         2   \n",
              "2                        4          92               2         1   \n",
              "3                        4          56               3         1   \n",
              "4                        1          40               3         1   \n",
              "\n",
              "   JobSatisfaction  MonthlyIncome  MonthlyRate  NumCompaniesWorked  \\\n",
              "0                4           5993        19479                   8   \n",
              "1                2           5130        24907                   1   \n",
              "2                3           2090         2396                   6   \n",
              "3                3           2909        23159                   1   \n",
              "4                2           3468        16632                   9   \n",
              "\n",
              "   PercentSalaryHike  PerformanceRating  RelationshipSatisfaction  \\\n",
              "0                 11                  3                         1   \n",
              "1                 23                  4                         4   \n",
              "2                 15                  3                         2   \n",
              "3                 11                  3                         3   \n",
              "4                 12                  3                         4   \n",
              "\n",
              "   StandardHours  StockOptionLevel  TotalWorkingYears  TrainingTimesLastYear  \\\n",
              "0             80                 0                  8                      0   \n",
              "1             80                 1                 10                      3   \n",
              "2             80                 0                  7                      3   \n",
              "3             80                 0                  8                      3   \n",
              "4             80                 1                  6                      3   \n",
              "\n",
              "   WorkLifeBalance  YearsAtCompany  YearsInCurrentRole  \\\n",
              "0                1               6                   4   \n",
              "1                3              10                   7   \n",
              "2                3               0                   0   \n",
              "3                3               8                   7   \n",
              "4                3               2                   2   \n",
              "\n",
              "   YearsSinceLastPromotion  YearsWithCurrManager  \n",
              "0                        0                     5  \n",
              "1                        1                     7  \n",
              "2                        0                     0  \n",
              "3                        3                     0  \n",
              "4                        2                     2  "
            ]
          },
          "execution_count": 32,
          "metadata": {},
          "output_type": "execute_result"
        }
      ],
      "source": [
        "empdf[numerical_features].head()"
      ]
    },
    {
      "cell_type": "code",
      "execution_count": null,
      "metadata": {
        "execution": {
          "iopub.execute_input": "2021-01-20T14:50:44.325084Z",
          "iopub.status.busy": "2021-01-20T14:50:44.321243Z",
          "iopub.status.idle": "2021-01-20T14:50:44.462422Z",
          "shell.execute_reply": "2021-01-20T14:50:44.461679Z"
        },
        "papermill": {
          "duration": 0.299944,
          "end_time": "2021-01-20T14:50:44.462565",
          "exception": false,
          "start_time": "2021-01-20T14:50:44.162621",
          "status": "completed"
        },
        "tags": [],
        "id": "sNzHAS3arkP5",
        "outputId": "b4b5d47e-ab7e-45ea-eb3f-b673782b996b"
      },
      "outputs": [
        {
          "data": {
            "image/png": "[encoded data removed]",
            "text/plain": [
              "<Figure size 432x288 with 1 Axes>"
            ]
          },
          "metadata": {
            "needs_background": "light"
          },
          "output_type": "display_data"
        }
      ],
      "source": [
        "# distribution of age\n",
        "sns.distplot(empdf['Age'],hist=False)\n",
        "plt.show()"
      ]
    },
    {
      "cell_type": "code",
      "execution_count": null,
      "metadata": {
        "execution": {
          "iopub.execute_input": "2021-01-20T14:50:44.777037Z",
          "iopub.status.busy": "2021-01-20T14:50:44.776334Z",
          "iopub.status.idle": "2021-01-20T14:50:44.782793Z",
          "shell.execute_reply": "2021-01-20T14:50:44.783542Z"
        },
        "papermill": {
          "duration": 0.167558,
          "end_time": "2021-01-20T14:50:44.783687",
          "exception": false,
          "start_time": "2021-01-20T14:50:44.616129",
          "status": "completed"
        },
        "tags": [],
        "id": "qLMKqH0grkP6",
        "outputId": "667ac36c-2249-465d-87d0-3cdcfa532cd7"
      },
      "outputs": [
        {
          "data": {
            "text/plain": [
              "43"
            ]
          },
          "execution_count": 34,
          "metadata": {},
          "output_type": "execute_result"
        }
      ],
      "source": [
        "empdf['Age'].nunique()"
      ]
    },
    {
      "cell_type": "markdown",
      "metadata": {
        "papermill": {
          "duration": 0.153316,
          "end_time": "2021-01-20T14:50:45.090107",
          "exception": false,
          "start_time": "2021-01-20T14:50:44.936791",
          "status": "completed"
        },
        "tags": [],
        "id": "iTjvNsl8rkP6"
      },
      "source": [
        "* Age column is very well normalized, most of employees are age between 25 to 40.\n",
        "- we are having some of the numerical columns which are lebel encoded for us, they are ordinal labels, so let's have a look at them first"
      ]
    },
    {
      "cell_type": "code",
      "execution_count": null,
      "metadata": {
        "execution": {
          "iopub.execute_input": "2021-01-20T14:50:45.408584Z",
          "iopub.status.busy": "2021-01-20T14:50:45.407513Z",
          "iopub.status.idle": "2021-01-20T14:50:45.421405Z",
          "shell.execute_reply": "2021-01-20T14:50:45.420493Z"
        },
        "papermill": {
          "duration": 0.179257,
          "end_time": "2021-01-20T14:50:45.421530",
          "exception": false,
          "start_time": "2021-01-20T14:50:45.242273",
          "status": "completed"
        },
        "tags": [],
        "id": "j6tzCG3mrkP7",
        "outputId": "76b89726-12dc-4082-8042-786af087151e"
      },
      "outputs": [
        {
          "data": {
            "text/html": [
              "<div>\n",
              "<style scoped>\n",
              "    .dataframe tbody tr th:only-of-type {\n",
              "        vertical-align: middle;\n",
              "    }\n",
              "\n",
              "    .dataframe tbody tr th {\n",
              "        vertical-align: top;\n",
              "    }\n",
              "\n",
              "    .dataframe thead th {\n",
              "        text-align: right;\n",
              "    }\n",
              "</style>\n",
              "<table border=\"1\" class=\"dataframe\">\n",
              "  <thead>\n",
              "    <tr style=\"text-align: right;\">\n",
              "      <th></th>\n",
              "      <th>Education</th>\n",
              "      <th>EnvironmentSatisfaction</th>\n",
              "      <th>JobInvolvement</th>\n",
              "      <th>JobSatisfaction</th>\n",
              "      <th>PerformanceRating</th>\n",
              "      <th>RelationshipSatisfaction</th>\n",
              "      <th>WorkLifeBalance</th>\n",
              "    </tr>\n",
              "  </thead>\n",
              "  <tbody>\n",
              "    <tr>\n",
              "      <th>0</th>\n",
              "      <td>2</td>\n",
              "      <td>2</td>\n",
              "      <td>3</td>\n",
              "      <td>4</td>\n",
              "      <td>3</td>\n",
              "      <td>1</td>\n",
              "      <td>1</td>\n",
              "    </tr>\n",
              "    <tr>\n",
              "      <th>1</th>\n",
              "      <td>1</td>\n",
              "      <td>3</td>\n",
              "      <td>2</td>\n",
              "      <td>2</td>\n",
              "      <td>4</td>\n",
              "      <td>4</td>\n",
              "      <td>3</td>\n",
              "    </tr>\n",
              "    <tr>\n",
              "      <th>2</th>\n",
              "      <td>2</td>\n",
              "      <td>4</td>\n",
              "      <td>2</td>\n",
              "      <td>3</td>\n",
              "      <td>3</td>\n",
              "      <td>2</td>\n",
              "      <td>3</td>\n",
              "    </tr>\n",
              "    <tr>\n",
              "      <th>3</th>\n",
              "      <td>4</td>\n",
              "      <td>4</td>\n",
              "      <td>3</td>\n",
              "      <td>3</td>\n",
              "      <td>3</td>\n",
              "      <td>3</td>\n",
              "      <td>3</td>\n",
              "    </tr>\n",
              "    <tr>\n",
              "      <th>4</th>\n",
              "      <td>1</td>\n",
              "      <td>1</td>\n",
              "      <td>3</td>\n",
              "      <td>2</td>\n",
              "      <td>3</td>\n",
              "      <td>4</td>\n",
              "      <td>3</td>\n",
              "    </tr>\n",
              "  </tbody>\n",
              "</table>\n",
              "</div>"
            ],
            "text/plain": [
              "   Education  EnvironmentSatisfaction  JobInvolvement  JobSatisfaction  \\\n",
              "0          2                        2               3                4   \n",
              "1          1                        3               2                2   \n",
              "2          2                        4               2                3   \n",
              "3          4                        4               3                3   \n",
              "4          1                        1               3                2   \n",
              "\n",
              "   PerformanceRating  RelationshipSatisfaction  WorkLifeBalance  \n",
              "0                  3                         1                1  \n",
              "1                  4                         4                3  \n",
              "2                  3                         2                3  \n",
              "3                  3                         3                3  \n",
              "4                  3                         4                3  "
            ]
          },
          "execution_count": 35,
          "metadata": {},
          "output_type": "execute_result"
        }
      ],
      "source": [
        "ordinal_features = ['Education','EnvironmentSatisfaction','JobInvolvement','JobSatisfaction',\n",
        "                    'PerformanceRating','RelationshipSatisfaction','WorkLifeBalance']\n",
        "empdf[ordinal_features].head()"
      ]
    },
    {
      "cell_type": "code",
      "execution_count": null,
      "metadata": {
        "execution": {
          "iopub.execute_input": "2021-01-20T14:50:45.754403Z",
          "iopub.status.busy": "2021-01-20T14:50:45.753398Z",
          "iopub.status.idle": "2021-01-20T14:50:45.757131Z",
          "shell.execute_reply": "2021-01-20T14:50:45.757960Z"
        },
        "papermill": {
          "duration": 0.186942,
          "end_time": "2021-01-20T14:50:45.758152",
          "exception": false,
          "start_time": "2021-01-20T14:50:45.571210",
          "status": "completed"
        },
        "tags": [],
        "id": "b3ef7d3erkP8",
        "outputId": "90fa4765-0d0c-4935-da06-ce374d5a901b"
      },
      "outputs": [
        {
          "data": {
            "text/plain": [
              "3    572\n",
              "4    398\n",
              "2    282\n",
              "1    170\n",
              "5     48\n",
              "Name: Education, dtype: int64"
            ]
          },
          "execution_count": 36,
          "metadata": {},
          "output_type": "execute_result"
        }
      ],
      "source": [
        "# Education\n",
        "empdf['Education'].value_counts()"
      ]
    },
    {
      "cell_type": "code",
      "execution_count": null,
      "metadata": {
        "execution": {
          "iopub.execute_input": "2021-01-20T14:50:46.083845Z",
          "iopub.status.busy": "2021-01-20T14:50:46.083049Z",
          "iopub.status.idle": "2021-01-20T14:50:46.315811Z",
          "shell.execute_reply": "2021-01-20T14:50:46.316386Z"
        },
        "papermill": {
          "duration": 0.399283,
          "end_time": "2021-01-20T14:50:46.316531",
          "exception": false,
          "start_time": "2021-01-20T14:50:45.917248",
          "status": "completed"
        },
        "tags": [],
        "id": "obebusn-rkQC",
        "outputId": "102d5f4b-a053-458f-e409-c851abd95341"
      },
      "outputs": [
        {
          "data": {
            "image/png": "[encoded data removed]",
            "text/plain": [
              "<Figure size 504x360 with 1 Axes>"
            ]
          },
          "metadata": {
            "needs_background": "light"
          },
          "output_type": "display_data"
        }
      ],
      "source": [
        "edu_map = {1 :'Below College', 2: 'College', 3 :'Bachelor', 4 :'Master', 5: 'Doctor'}\n",
        "plt.figure(figsize=(7,5))\n",
        "sns.countplot(x=empdf['Education'].map(edu_map), hue='Attrition', data=empdf, palette='prism')\n",
        "plt.title(\"Education W.R.T Attrition\")\n",
        "plt.show()"
      ]
    },
    {
      "cell_type": "code",
      "execution_count": null,
      "metadata": {
        "execution": {
          "iopub.execute_input": "2021-01-20T14:50:46.537901Z",
          "iopub.status.busy": "2021-01-20T14:50:46.534359Z",
          "iopub.status.idle": "2021-01-20T14:50:46.544571Z",
          "shell.execute_reply": "2021-01-20T14:50:46.543602Z"
        },
        "papermill": {
          "duration": 0.122124,
          "end_time": "2021-01-20T14:50:46.544741",
          "exception": false,
          "start_time": "2021-01-20T14:50:46.422617",
          "status": "completed"
        },
        "tags": [],
        "id": "c7_vTXyfrkQD",
        "outputId": "c1b4145b-d914-4fc9-d9bd-8ff9fcdc3e80"
      },
      "outputs": [
        {
          "data": {
            "text/plain": [
              "3    453\n",
              "4    446\n",
              "2    287\n",
              "1    284\n",
              "Name: EnvironmentSatisfaction, dtype: int64"
            ]
          },
          "execution_count": 38,
          "metadata": {},
          "output_type": "execute_result"
        }
      ],
      "source": [
        "#EnvironmentSatisfaction\n",
        "empdf['EnvironmentSatisfaction'].value_counts()   # it is very nice response from employees"
      ]
    },
    {
      "cell_type": "code",
      "execution_count": null,
      "metadata": {
        "execution": {
          "iopub.execute_input": "2021-01-20T14:50:46.827220Z",
          "iopub.status.busy": "2021-01-20T14:50:46.826318Z",
          "iopub.status.idle": "2021-01-20T14:50:46.835329Z",
          "shell.execute_reply": "2021-01-20T14:50:46.834710Z"
        },
        "papermill": {
          "duration": 0.132273,
          "end_time": "2021-01-20T14:50:46.835470",
          "exception": false,
          "start_time": "2021-01-20T14:50:46.703197",
          "status": "completed"
        },
        "tags": [],
        "id": "iLl9t9lNrkQE",
        "outputId": "d9ea157c-e762-47b8-e487-db00bbc69693"
      },
      "outputs": [
        {
          "data": {
            "text/plain": [
              "3    868\n",
              "2    375\n",
              "4    144\n",
              "1     83\n",
              "Name: JobInvolvement, dtype: int64"
            ]
          },
          "execution_count": 39,
          "metadata": {},
          "output_type": "execute_result"
        }
      ],
      "source": [
        "#JobInvolvement\n",
        "empdf['JobInvolvement'].value_counts()"
      ]
    },
    {
      "cell_type": "code",
      "execution_count": null,
      "metadata": {
        "execution": {
          "iopub.execute_input": "2021-01-20T14:50:47.486565Z",
          "iopub.status.busy": "2021-01-20T14:50:47.485882Z",
          "iopub.status.idle": "2021-01-20T14:50:47.497841Z",
          "shell.execute_reply": "2021-01-20T14:50:47.496889Z"
        },
        "papermill": {
          "duration": 0.125288,
          "end_time": "2021-01-20T14:50:47.498016",
          "exception": false,
          "start_time": "2021-01-20T14:50:47.372728",
          "status": "completed"
        },
        "tags": [],
        "id": "bmRxvC8WrkQG",
        "outputId": "7c8189ae-33b5-4356-ce93-5c68139a92af"
      },
      "outputs": [
        {
          "name": "stdout",
          "output_type": "stream",
          "text": [
            "total numerical_features 19\n"
          ]
        }
      ],
      "source": [
        "numerical_features = [feature for feature in empdf.columns if empdf[feature].dtype != 'O' and feature not in ordinal_features]\n",
        "print(\"total numerical_features\",len(numerical_features))"
      ]
    },
    {
      "cell_type": "code",
      "execution_count": null,
      "metadata": {
        "execution": {
          "iopub.execute_input": "2021-01-20T14:50:47.813820Z",
          "iopub.status.busy": "2021-01-20T14:50:47.806135Z",
          "iopub.status.idle": "2021-01-20T14:50:47.820874Z",
          "shell.execute_reply": "2021-01-20T14:50:47.820275Z"
        },
        "papermill": {
          "duration": 0.16342,
          "end_time": "2021-01-20T14:50:47.821016",
          "exception": false,
          "start_time": "2021-01-20T14:50:47.657596",
          "status": "completed"
        },
        "tags": [],
        "id": "NhLkIaHyrkQM",
        "outputId": "4fedf307-d315-43e7-bd23-3148a7ccfba1"
      },
      "outputs": [
        {
          "data": {
            "text/html": [
              "<div>\n",
              "<style scoped>\n",
              "    .dataframe tbody tr th:only-of-type {\n",
              "        vertical-align: middle;\n",
              "    }\n",
              "\n",
              "    .dataframe tbody tr th {\n",
              "        vertical-align: top;\n",
              "    }\n",
              "\n",
              "    .dataframe thead th {\n",
              "        text-align: right;\n",
              "    }\n",
              "</style>\n",
              "<table border=\"1\" class=\"dataframe\">\n",
              "  <thead>\n",
              "    <tr style=\"text-align: right;\">\n",
              "      <th></th>\n",
              "      <th>Age</th>\n",
              "      <th>DailyRate</th>\n",
              "      <th>DistanceFromHome</th>\n",
              "      <th>EmployeeCount</th>\n",
              "      <th>EmployeeNumber</th>\n",
              "      <th>HourlyRate</th>\n",
              "      <th>JobLevel</th>\n",
              "      <th>MonthlyIncome</th>\n",
              "      <th>MonthlyRate</th>\n",
              "      <th>NumCompaniesWorked</th>\n",
              "      <th>PercentSalaryHike</th>\n",
              "      <th>StandardHours</th>\n",
              "      <th>StockOptionLevel</th>\n",
              "      <th>TotalWorkingYears</th>\n",
              "      <th>TrainingTimesLastYear</th>\n",
              "      <th>YearsAtCompany</th>\n",
              "      <th>YearsInCurrentRole</th>\n",
              "      <th>YearsSinceLastPromotion</th>\n",
              "      <th>YearsWithCurrManager</th>\n",
              "    </tr>\n",
              "  </thead>\n",
              "  <tbody>\n",
              "    <tr>\n",
              "      <th>0</th>\n",
              "      <td>41</td>\n",
              "      <td>1102</td>\n",
              "      <td>1</td>\n",
              "      <td>1</td>\n",
              "      <td>1</td>\n",
              "      <td>94</td>\n",
              "      <td>2</td>\n",
              "      <td>5993</td>\n",
              "      <td>19479</td>\n",
              "      <td>8</td>\n",
              "      <td>11</td>\n",
              "      <td>80</td>\n",
              "      <td>0</td>\n",
              "      <td>8</td>\n",
              "      <td>0</td>\n",
              "      <td>6</td>\n",
              "      <td>4</td>\n",
              "      <td>0</td>\n",
              "      <td>5</td>\n",
              "    </tr>\n",
              "    <tr>\n",
              "      <th>1</th>\n",
              "      <td>49</td>\n",
              "      <td>279</td>\n",
              "      <td>8</td>\n",
              "      <td>1</td>\n",
              "      <td>2</td>\n",
              "      <td>61</td>\n",
              "      <td>2</td>\n",
              "      <td>5130</td>\n",
              "      <td>24907</td>\n",
              "      <td>1</td>\n",
              "      <td>23</td>\n",
              "      <td>80</td>\n",
              "      <td>1</td>\n",
              "      <td>10</td>\n",
              "      <td>3</td>\n",
              "      <td>10</td>\n",
              "      <td>7</td>\n",
              "      <td>1</td>\n",
              "      <td>7</td>\n",
              "    </tr>\n",
              "    <tr>\n",
              "      <th>2</th>\n",
              "      <td>37</td>\n",
              "      <td>1373</td>\n",
              "      <td>2</td>\n",
              "      <td>1</td>\n",
              "      <td>4</td>\n",
              "      <td>92</td>\n",
              "      <td>1</td>\n",
              "      <td>2090</td>\n",
              "      <td>2396</td>\n",
              "      <td>6</td>\n",
              "      <td>15</td>\n",
              "      <td>80</td>\n",
              "      <td>0</td>\n",
              "      <td>7</td>\n",
              "      <td>3</td>\n",
              "      <td>0</td>\n",
              "      <td>0</td>\n",
              "      <td>0</td>\n",
              "      <td>0</td>\n",
              "    </tr>\n",
              "    <tr>\n",
              "      <th>3</th>\n",
              "      <td>33</td>\n",
              "      <td>1392</td>\n",
              "      <td>3</td>\n",
              "      <td>1</td>\n",
              "      <td>5</td>\n",
              "      <td>56</td>\n",
              "      <td>1</td>\n",
              "      <td>2909</td>\n",
              "      <td>23159</td>\n",
              "      <td>1</td>\n",
              "      <td>11</td>\n",
              "      <td>80</td>\n",
              "      <td>0</td>\n",
              "      <td>8</td>\n",
              "      <td>3</td>\n",
              "      <td>8</td>\n",
              "      <td>7</td>\n",
              "      <td>3</td>\n",
              "      <td>0</td>\n",
              "    </tr>\n",
              "    <tr>\n",
              "      <th>4</th>\n",
              "      <td>27</td>\n",
              "      <td>591</td>\n",
              "      <td>2</td>\n",
              "      <td>1</td>\n",
              "      <td>7</td>\n",
              "      <td>40</td>\n",
              "      <td>1</td>\n",
              "      <td>3468</td>\n",
              "      <td>16632</td>\n",
              "      <td>9</td>\n",
              "      <td>12</td>\n",
              "      <td>80</td>\n",
              "      <td>1</td>\n",
              "      <td>6</td>\n",
              "      <td>3</td>\n",
              "      <td>2</td>\n",
              "      <td>2</td>\n",
              "      <td>2</td>\n",
              "      <td>2</td>\n",
              "    </tr>\n",
              "  </tbody>\n",
              "</table>\n",
              "</div>"
            ],
            "text/plain": [
              "   Age  DailyRate  DistanceFromHome  EmployeeCount  EmployeeNumber  \\\n",
              "0   41       1102                 1              1               1   \n",
              "1   49        279                 8              1               2   \n",
              "2   37       1373                 2              1               4   \n",
              "3   33       1392                 3              1               5   \n",
              "4   27        591                 2              1               7   \n",
              "\n",
              "   HourlyRate  JobLevel  MonthlyIncome  MonthlyRate  NumCompaniesWorked  \\\n",
              "0          94         2           5993        19479                   8   \n",
              "1          61         2           5130        24907                   1   \n",
              "2          92         1           2090         2396                   6   \n",
              "3          56         1           2909        23159                   1   \n",
              "4          40         1           3468        16632                   9   \n",
              "\n",
              "   PercentSalaryHike  StandardHours  StockOptionLevel  TotalWorkingYears  \\\n",
              "0                 11             80                 0                  8   \n",
              "1                 23             80                 1                 10   \n",
              "2                 15             80                 0                  7   \n",
              "3                 11             80                 0                  8   \n",
              "4                 12             80                 1                  6   \n",
              "\n",
              "   TrainingTimesLastYear  YearsAtCompany  YearsInCurrentRole  \\\n",
              "0                      0               6                   4   \n",
              "1                      3              10                   7   \n",
              "2                      3               0                   0   \n",
              "3                      3               8                   7   \n",
              "4                      3               2                   2   \n",
              "\n",
              "   YearsSinceLastPromotion  YearsWithCurrManager  \n",
              "0                        0                     5  \n",
              "1                        1                     7  \n",
              "2                        0                     0  \n",
              "3                        3                     0  \n",
              "4                        2                     2  "
            ]
          },
          "execution_count": 41,
          "metadata": {},
          "output_type": "execute_result"
        }
      ],
      "source": [
        "empdf[numerical_features].head()"
      ]
    },
    {
      "cell_type": "code",
      "execution_count": null,
      "metadata": {
        "execution": {
          "iopub.execute_input": "2021-01-20T14:50:48.053834Z",
          "iopub.status.busy": "2021-01-20T14:50:48.053188Z",
          "iopub.status.idle": "2021-01-20T14:50:48.201425Z",
          "shell.execute_reply": "2021-01-20T14:50:48.200586Z"
        },
        "papermill": {
          "duration": 0.271442,
          "end_time": "2021-01-20T14:50:48.201570",
          "exception": false,
          "start_time": "2021-01-20T14:50:47.930128",
          "status": "completed"
        },
        "tags": [],
        "id": "H3Epw5iqrkQM",
        "outputId": "3660fb6b-7da2-4a3a-e2b9-85ae6ef72950"
      },
      "outputs": [
        {
          "data": {
            "image/png": "[encoded data removed]",
            "text/plain": [
              "<Figure size 432x288 with 1 Axes>"
            ]
          },
          "metadata": {
            "needs_background": "light"
          },
          "output_type": "display_data"
        }
      ],
      "source": [
        "#MonthlyIncome\n",
        "sns.distplot(empdf['MonthlyIncome'],hist=False)\n",
        "plt.show()"
      ]
    },
    {
      "cell_type": "code",
      "execution_count": null,
      "metadata": {
        "execution": {
          "iopub.execute_input": "2021-01-20T14:50:48.540856Z",
          "iopub.status.busy": "2021-01-20T14:50:48.537368Z",
          "iopub.status.idle": "2021-01-20T14:50:48.656557Z",
          "shell.execute_reply": "2021-01-20T14:50:48.655713Z"
        },
        "papermill": {
          "duration": 0.293902,
          "end_time": "2021-01-20T14:50:48.656674",
          "exception": false,
          "start_time": "2021-01-20T14:50:48.362772",
          "status": "completed"
        },
        "tags": [],
        "id": "trhdORZ_rkQN",
        "outputId": "38b5e02d-1335-4a95-8fd9-60d5c1c3589c"
      },
      "outputs": [
        {
          "data": {
            "image/png": "[encoded data removed]",
            "text/plain": [
              "<Figure size 432x360 with 1 Axes>"
            ]
          },
          "metadata": {
            "needs_background": "light"
          },
          "output_type": "display_data"
        }
      ],
      "source": [
        "plt.figure(figsize=(6,5))\n",
        "sns.boxplot(empdf['MonthlyIncome'])\n",
        "plt.show()"
      ]
    },
    {
      "cell_type": "code",
      "execution_count": null,
      "metadata": {
        "execution": {
          "iopub.execute_input": "2021-01-20T14:50:49.449235Z",
          "iopub.status.busy": "2021-01-20T14:50:49.448380Z",
          "iopub.status.idle": "2021-01-20T14:50:49.453840Z",
          "shell.execute_reply": "2021-01-20T14:50:49.453225Z"
        },
        "papermill": {
          "duration": 0.14288,
          "end_time": "2021-01-20T14:50:49.453973",
          "exception": false,
          "start_time": "2021-01-20T14:50:49.311093",
          "status": "completed"
        },
        "tags": [],
        "id": "2x49iwVfrkQQ",
        "outputId": "94cd622e-fe27-4158-f923-6df70ac7e0e5"
      },
      "outputs": [
        {
          "data": {
            "text/plain": [
              "Age\n",
              "35    78\n",
              "34    77\n",
              "31    69\n",
              "36    69\n",
              "29    68\n",
              "Name: EmployeeCount, dtype: int64"
            ]
          },
          "execution_count": 45,
          "metadata": {},
          "output_type": "execute_result"
        }
      ],
      "source": [
        "# employee count in age group and whicg age employees are more\n",
        "empdf.groupby('Age')['EmployeeCount'].sum().sort_values(ascending=False).head()"
      ]
    },
    {
      "cell_type": "code",
      "execution_count": null,
      "metadata": {
        "execution": {
          "iopub.execute_input": "2021-01-20T14:50:49.705864Z",
          "iopub.status.busy": "2021-01-20T14:50:49.704895Z",
          "iopub.status.idle": "2021-01-20T14:50:49.712664Z",
          "shell.execute_reply": "2021-01-20T14:50:49.712050Z"
        },
        "papermill": {
          "duration": 0.138798,
          "end_time": "2021-01-20T14:50:49.712771",
          "exception": false,
          "start_time": "2021-01-20T14:50:49.573973",
          "status": "completed"
        },
        "tags": [],
        "id": "MfXoLGQArkQW",
        "outputId": "697ae8af-9ebe-4f14-9087-0eff287d02b4"
      },
      "outputs": [
        {
          "data": {
            "text/plain": [
              "1    543\n",
              "2    534\n",
              "3    218\n",
              "4    106\n",
              "5     69\n",
              "Name: JobLevel, dtype: int64"
            ]
          },
          "execution_count": 46,
          "metadata": {},
          "output_type": "execute_result"
        }
      ],
      "source": [
        "#JobLevel\n",
        "empdf['JobLevel'].value_counts()"
      ]
    },
    {
      "cell_type": "code",
      "execution_count": null,
      "metadata": {
        "execution": {
          "iopub.execute_input": "2021-01-20T14:50:49.975011Z",
          "iopub.status.busy": "2021-01-20T14:50:49.974111Z",
          "iopub.status.idle": "2021-01-20T14:50:50.185699Z",
          "shell.execute_reply": "2021-01-20T14:50:50.184620Z"
        },
        "papermill": {
          "duration": 0.344935,
          "end_time": "2021-01-20T14:50:50.185828",
          "exception": false,
          "start_time": "2021-01-20T14:50:49.840893",
          "status": "completed"
        },
        "tags": [],
        "id": "14O3pbn4rkQX",
        "outputId": "86621182-9512-44b5-b9ed-e214cdd200b8"
      },
      "outputs": [
        {
          "data": {
            "image/png": "[encoded data removed]",
            "text/plain": [
              "<Figure size 432x288 with 1 Axes>"
            ]
          },
          "metadata": {
            "needs_background": "light"
          },
          "output_type": "display_data"
        }
      ],
      "source": [
        "# JobLevel can have some effect on Attrition of Employees\n",
        "sns.countplot(x='JobLevel',hue='Attrition',data=empdf)\n",
        "plt.show()"
      ]
    },
    {
      "cell_type": "code",
      "execution_count": null,
      "metadata": {
        "execution": {
          "iopub.execute_input": "2021-01-20T14:50:50.444460Z",
          "iopub.status.busy": "2021-01-20T14:50:50.443705Z",
          "iopub.status.idle": "2021-01-20T14:50:50.606351Z",
          "shell.execute_reply": "2021-01-20T14:50:50.605702Z"
        },
        "papermill": {
          "duration": 0.294006,
          "end_time": "2021-01-20T14:50:50.606467",
          "exception": false,
          "start_time": "2021-01-20T14:50:50.312461",
          "status": "completed"
        },
        "tags": [],
        "id": "9TX0sFZtrkQY",
        "outputId": "726d4a73-1e55-48b1-e63e-6aa0bf4430f2"
      },
      "outputs": [
        {
          "data": {
            "image/png": "[encoded data removed]",
            "text/plain": [
              "<Figure size 432x288 with 1 Axes>"
            ]
          },
          "metadata": {
            "needs_background": "light"
          },
          "output_type": "display_data"
        }
      ],
      "source": [
        "#NumCompaniesWorked\n",
        "sns.countplot(x='JobLevel',hue='Attrition',data=empdf)\n",
        "plt.show()"
      ]
    },
    {
      "cell_type": "code",
      "execution_count": null,
      "metadata": {
        "execution": {
          "iopub.execute_input": "2021-01-20T14:50:50.864822Z",
          "iopub.status.busy": "2021-01-20T14:50:50.863986Z",
          "iopub.status.idle": "2021-01-20T14:50:50.869563Z",
          "shell.execute_reply": "2021-01-20T14:50:50.868775Z"
        },
        "papermill": {
          "duration": 0.140374,
          "end_time": "2021-01-20T14:50:50.869714",
          "exception": false,
          "start_time": "2021-01-20T14:50:50.729340",
          "status": "completed"
        },
        "tags": [],
        "id": "oWjDFOQarkQZ",
        "outputId": "df454477-5c63-4b67-9ab9-db7e09ab2a0d"
      },
      "outputs": [
        {
          "data": {
            "text/plain": [
              "0    631\n",
              "1    596\n",
              "2    158\n",
              "3     85\n",
              "Name: StockOptionLevel, dtype: int64"
            ]
          },
          "execution_count": 49,
          "metadata": {},
          "output_type": "execute_result"
        }
      ],
      "source": [
        "empdf['StockOptionLevel'].value_counts()"
      ]
    },
    {
      "cell_type": "code",
      "execution_count": null,
      "metadata": {
        "execution": {
          "iopub.execute_input": "2021-01-20T14:50:51.254832Z",
          "iopub.status.busy": "2021-01-20T14:50:51.253753Z",
          "iopub.status.idle": "2021-01-20T14:50:51.258950Z",
          "shell.execute_reply": "2021-01-20T14:50:51.258362Z"
        },
        "papermill": {
          "duration": 0.199878,
          "end_time": "2021-01-20T14:50:51.259064",
          "exception": false,
          "start_time": "2021-01-20T14:50:51.059186",
          "status": "completed"
        },
        "tags": [],
        "id": "x3fWclWtrkQa"
      },
      "outputs": [],
      "source": [
        "#drop the columns which have save val in whole dataset or which are unrelevant for Attrition prediction. \n",
        "empdf.drop(['EmployeeCount','EmployeeNumber','StandardHours'],axis=1, inplace=True)"
      ]
    },
    {
      "cell_type": "markdown",
      "metadata": {
        "papermill": {
          "duration": 0.122492,
          "end_time": "2021-01-20T14:50:51.506935",
          "exception": false,
          "start_time": "2021-01-20T14:50:51.384443",
          "status": "completed"
        },
        "tags": [],
        "id": "AhQ6kozorkQa"
      },
      "source": [
        "## Categorical Encoding"
      ]
    },
    {
      "cell_type": "code",
      "execution_count": null,
      "metadata": {
        "execution": {
          "iopub.execute_input": "2021-01-20T14:50:51.771858Z",
          "iopub.status.busy": "2021-01-20T14:50:51.771210Z",
          "iopub.status.idle": "2021-01-20T14:50:51.776709Z",
          "shell.execute_reply": "2021-01-20T14:50:51.777253Z"
        },
        "papermill": {
          "duration": 0.148075,
          "end_time": "2021-01-20T14:50:51.777394",
          "exception": false,
          "start_time": "2021-01-20T14:50:51.629319",
          "status": "completed"
        },
        "tags": [],
        "id": "Pm4wIRURrkQf",
        "outputId": "2caaa554-640f-4eaa-db79-c1c886f8544a"
      },
      "outputs": [
        {
          "data": {
            "text/html": [
              "<div>\n",
              "<style scoped>\n",
              "    .dataframe tbody tr th:only-of-type {\n",
              "        vertical-align: middle;\n",
              "    }\n",
              "\n",
              "    .dataframe tbody tr th {\n",
              "        vertical-align: top;\n",
              "    }\n",
              "\n",
              "    .dataframe thead th {\n",
              "        text-align: right;\n",
              "    }\n",
              "</style>\n",
              "<table border=\"1\" class=\"dataframe\">\n",
              "  <thead>\n",
              "    <tr style=\"text-align: right;\">\n",
              "      <th></th>\n",
              "      <th>Attrition</th>\n",
              "      <th>BusinessTravel</th>\n",
              "      <th>Department</th>\n",
              "      <th>EducationField</th>\n",
              "      <th>Gender</th>\n",
              "      <th>JobRole</th>\n",
              "      <th>MaritalStatus</th>\n",
              "      <th>Over18</th>\n",
              "      <th>OverTime</th>\n",
              "    </tr>\n",
              "  </thead>\n",
              "  <tbody>\n",
              "    <tr>\n",
              "      <th>0</th>\n",
              "      <td>Yes</td>\n",
              "      <td>Travel_Rarely</td>\n",
              "      <td>Sales</td>\n",
              "      <td>Life Sciences</td>\n",
              "      <td>Female</td>\n",
              "      <td>Sales Executive</td>\n",
              "      <td>Single</td>\n",
              "      <td>Y</td>\n",
              "      <td>Yes</td>\n",
              "    </tr>\n",
              "    <tr>\n",
              "      <th>1</th>\n",
              "      <td>No</td>\n",
              "      <td>Travel_Frequently</td>\n",
              "      <td>Research &amp; Development</td>\n",
              "      <td>Life Sciences</td>\n",
              "      <td>Male</td>\n",
              "      <td>Research Scientist</td>\n",
              "      <td>Married</td>\n",
              "      <td>Y</td>\n",
              "      <td>No</td>\n",
              "    </tr>\n",
              "    <tr>\n",
              "      <th>2</th>\n",
              "      <td>Yes</td>\n",
              "      <td>Travel_Rarely</td>\n",
              "      <td>Research &amp; Development</td>\n",
              "      <td>Other</td>\n",
              "      <td>Male</td>\n",
              "      <td>Laboratory Technician</td>\n",
              "      <td>Single</td>\n",
              "      <td>Y</td>\n",
              "      <td>Yes</td>\n",
              "    </tr>\n",
              "    <tr>\n",
              "      <th>3</th>\n",
              "      <td>No</td>\n",
              "      <td>Travel_Frequently</td>\n",
              "      <td>Research &amp; Development</td>\n",
              "      <td>Life Sciences</td>\n",
              "      <td>Female</td>\n",
              "      <td>Research Scientist</td>\n",
              "      <td>Married</td>\n",
              "      <td>Y</td>\n",
              "      <td>Yes</td>\n",
              "    </tr>\n",
              "    <tr>\n",
              "      <th>4</th>\n",
              "      <td>No</td>\n",
              "      <td>Travel_Rarely</td>\n",
              "      <td>Research &amp; Development</td>\n",
              "      <td>Medical</td>\n",
              "      <td>Male</td>\n",
              "      <td>Laboratory Technician</td>\n",
              "      <td>Married</td>\n",
              "      <td>Y</td>\n",
              "      <td>No</td>\n",
              "    </tr>\n",
              "  </tbody>\n",
              "</table>\n",
              "</div>"
            ],
            "text/plain": [
              "  Attrition     BusinessTravel              Department EducationField  Gender  \\\n",
              "0       Yes      Travel_Rarely                   Sales  Life Sciences  Female   \n",
              "1        No  Travel_Frequently  Research & Development  Life Sciences    Male   \n",
              "2       Yes      Travel_Rarely  Research & Development          Other    Male   \n",
              "3        No  Travel_Frequently  Research & Development  Life Sciences  Female   \n",
              "4        No      Travel_Rarely  Research & Development        Medical    Male   \n",
              "\n",
              "                 JobRole MaritalStatus Over18 OverTime  \n",
              "0        Sales Executive        Single      Y      Yes  \n",
              "1     Research Scientist       Married      Y       No  \n",
              "2  Laboratory Technician        Single      Y      Yes  \n",
              "3     Research Scientist       Married      Y      Yes  \n",
              "4  Laboratory Technician       Married      Y       No  "
            ]
          },
          "execution_count": 51,
          "metadata": {},
          "output_type": "execute_result"
        }
      ],
      "source": [
        "empdf[categorical_features].head()"
      ]
    },
    {
      "cell_type": "code",
      "execution_count": null,
      "metadata": {
        "execution": {
          "iopub.execute_input": "2021-01-20T14:50:52.033803Z",
          "iopub.status.busy": "2021-01-20T14:50:52.030648Z",
          "iopub.status.idle": "2021-01-20T14:50:52.038892Z",
          "shell.execute_reply": "2021-01-20T14:50:52.038244Z"
        },
        "papermill": {
          "duration": 0.1383,
          "end_time": "2021-01-20T14:50:52.039031",
          "exception": false,
          "start_time": "2021-01-20T14:50:51.900731",
          "status": "completed"
        },
        "tags": [],
        "id": "tB5EPCFurkQg"
      },
      "outputs": [],
      "source": [
        "# Target Variable(Attrition)\n",
        "empdf['Attrition'] = empdf['Attrition'].replace({'No':0,'Yes':1})"
      ]
    },
    {
      "cell_type": "code",
      "execution_count": null,
      "metadata": {
        "execution": {
          "iopub.execute_input": "2021-01-20T14:50:52.308183Z",
          "iopub.status.busy": "2021-01-20T14:50:52.307521Z",
          "iopub.status.idle": "2021-01-20T14:50:52.311158Z",
          "shell.execute_reply": "2021-01-20T14:50:52.311947Z"
        },
        "papermill": {
          "duration": 0.143975,
          "end_time": "2021-01-20T14:50:52.312125",
          "exception": false,
          "start_time": "2021-01-20T14:50:52.168150",
          "status": "completed"
        },
        "tags": [],
        "id": "-LEO_ZJurkQh"
      },
      "outputs": [],
      "source": [
        "#encode binary variables\n",
        "empdf['OverTime'] = empdf['OverTime'].map({'No':0,'Yes':1})\n",
        "empdf['Gender'] = empdf['Gender'].map({'Male':0,'Female':1})"
      ]
    },
    {
      "cell_type": "code",
      "execution_count": null,
      "metadata": {
        "execution": {
          "iopub.execute_input": "2021-01-20T14:50:52.715242Z",
          "iopub.status.busy": "2021-01-20T14:50:52.710809Z",
          "iopub.status.idle": "2021-01-20T14:50:52.723278Z",
          "shell.execute_reply": "2021-01-20T14:50:52.722477Z"
        },
        "papermill": {
          "duration": 0.21673,
          "end_time": "2021-01-20T14:50:52.723423",
          "exception": false,
          "start_time": "2021-01-20T14:50:52.506693",
          "status": "completed"
        },
        "tags": [],
        "id": "cArHEd3crkQi"
      },
      "outputs": [],
      "source": [
        "#encode categorical columns which are ordinal, use labelEncoding\n",
        "cat_cols = ['BusinessTravel','Department','EducationField','JobRole','MaritalStatus']\n",
        "for col in cat_cols:\n",
        "    map_dict = {k:i for i, k in enumerate(empdf[col].value_counts().index,0)}\n",
        "    empdf[col] = empdf[col].map(map_dict)"
      ]
    },
    {
      "cell_type": "code",
      "execution_count": null,
      "metadata": {
        "execution": {
          "iopub.execute_input": "2021-01-20T14:50:53.112889Z",
          "iopub.status.busy": "2021-01-20T14:50:53.112251Z",
          "iopub.status.idle": "2021-01-20T14:50:53.118722Z",
          "shell.execute_reply": "2021-01-20T14:50:53.118212Z"
        },
        "papermill": {
          "duration": 0.203624,
          "end_time": "2021-01-20T14:50:53.118832",
          "exception": false,
          "start_time": "2021-01-20T14:50:52.915208",
          "status": "completed"
        },
        "tags": [],
        "id": "uxWCuXzzrkQi"
      },
      "outputs": [],
      "source": [
        "# drop the Over18 column\n",
        "empdf.drop('Over18',axis=1,inplace=True)"
      ]
    },
    {
      "cell_type": "markdown",
      "metadata": {
        "papermill": {
          "duration": 0.127359,
          "end_time": "2021-01-20T14:50:53.374494",
          "exception": false,
          "start_time": "2021-01-20T14:50:53.247135",
          "status": "completed"
        },
        "tags": [],
        "id": "QXhW1jFlrkQj"
      },
      "source": [
        "### Making a Corelation"
      ]
    },
    {
      "cell_type": "code",
      "execution_count": null,
      "metadata": {
        "execution": {
          "iopub.execute_input": "2021-01-20T14:50:53.665868Z",
          "iopub.status.busy": "2021-01-20T14:50:53.665222Z",
          "iopub.status.idle": "2021-01-20T14:50:53.680407Z",
          "shell.execute_reply": "2021-01-20T14:50:53.679717Z"
        },
        "papermill": {
          "duration": 0.152947,
          "end_time": "2021-01-20T14:50:53.680631",
          "exception": false,
          "start_time": "2021-01-20T14:50:53.527684",
          "status": "completed"
        },
        "tags": [],
        "id": "4JhFntGwrkQk",
        "outputId": "65cab041-941f-4100-c93d-3bfc6d7a09e7"
      },
      "outputs": [
        {
          "data": {
            "text/plain": [
              "Attrition                   1.000000\n",
              "OverTime                    0.246118\n",
              "DistanceFromHome            0.077924\n",
              "Department                  0.077351\n",
              "EducationField              0.062320\n",
              "NumCompaniesWorked          0.043494\n",
              "MonthlyRate                 0.015170\n",
              "MaritalStatus               0.011195\n",
              "PerformanceRating           0.002889\n",
              "BusinessTravel             -0.000074\n",
              "HourlyRate                 -0.006846\n",
              "PercentSalaryHike          -0.013478\n",
              "JobRole                    -0.027930\n",
              "Gender                     -0.029453\n",
              "Education                  -0.031373\n",
              "YearsSinceLastPromotion    -0.033019\n",
              "RelationshipSatisfaction   -0.045872\n",
              "DailyRate                  -0.056652\n",
              "TrainingTimesLastYear      -0.059478\n",
              "WorkLifeBalance            -0.063939\n",
              "EnvironmentSatisfaction    -0.103369\n",
              "JobSatisfaction            -0.103481\n",
              "JobInvolvement             -0.130016\n",
              "YearsAtCompany             -0.134392\n",
              "StockOptionLevel           -0.137145\n",
              "Age                        -0.159205\n",
              "MonthlyIncome              -0.159840\n",
              "YearsInCurrentRole         -0.160545\n",
              "JobLevel                   -0.169105\n",
              "TotalWorkingYears          -0.171063\n",
              "Name: Attrition, dtype: float64"
            ]
          },
          "execution_count": 56,
          "metadata": {},
          "output_type": "execute_result"
        }
      ],
      "source": [
        "empdf.corr()['Attrition'][:-1].sort_values(ascending=False)"
      ]
    },
    {
      "cell_type": "code",
      "execution_count": null,
      "metadata": {
        "execution": {
          "iopub.execute_input": "2021-01-20T14:50:53.943690Z",
          "iopub.status.busy": "2021-01-20T14:50:53.942865Z",
          "iopub.status.idle": "2021-01-20T14:50:54.681682Z",
          "shell.execute_reply": "2021-01-20T14:50:54.680301Z"
        },
        "papermill": {
          "duration": 0.871301,
          "end_time": "2021-01-20T14:50:54.681800",
          "exception": false,
          "start_time": "2021-01-20T14:50:53.810499",
          "status": "completed"
        },
        "tags": [],
        "id": "u2xg9D8zrkQk",
        "outputId": "f4de7f1a-472e-4faa-9953-af6fd2a51946"
      },
      "outputs": [
        {
          "data": {
            "image/png": "[encoded data removed]",
            "text/plain": [
              "<Figure size 936x648 with 2 Axes>"
            ]
          },
          "metadata": {
            "needs_background": "light"
          },
          "output_type": "display_data"
        }
      ],
      "source": [
        "plt.figure(figsize=(13,9))\n",
        "sns.heatmap(empdf.corr(),vmax=0.8,linewidth=0.1,cmap='coolwarm')\n",
        "plt.show()"
      ]
    },
    {
      "cell_type": "code",
      "execution_count": null,
      "metadata": {
        "execution": {
          "iopub.execute_input": "2021-01-20T14:50:54.943274Z",
          "iopub.status.busy": "2021-01-20T14:50:54.942590Z",
          "iopub.status.idle": "2021-01-20T14:50:54.963493Z",
          "shell.execute_reply": "2021-01-20T14:50:54.964023Z"
        },
        "papermill": {
          "duration": 0.15222,
          "end_time": "2021-01-20T14:50:54.964159",
          "exception": false,
          "start_time": "2021-01-20T14:50:54.811939",
          "status": "completed"
        },
        "tags": [],
        "id": "68JpOd7XrkQo",
        "outputId": "84d5c32d-f630-45e6-8c7b-bb08aca9de37"
      },
      "outputs": [
        {
          "data": {
            "text/html": [
              "<div>\n",
              "<style scoped>\n",
              "    .dataframe tbody tr th:only-of-type {\n",
              "        vertical-align: middle;\n",
              "    }\n",
              "\n",
              "    .dataframe tbody tr th {\n",
              "        vertical-align: top;\n",
              "    }\n",
              "\n",
              "    .dataframe thead th {\n",
              "        text-align: right;\n",
              "    }\n",
              "</style>\n",
              "<table border=\"1\" class=\"dataframe\">\n",
              "  <thead>\n",
              "    <tr style=\"text-align: right;\">\n",
              "      <th></th>\n",
              "      <th>Age</th>\n",
              "      <th>Attrition</th>\n",
              "      <th>BusinessTravel</th>\n",
              "      <th>DailyRate</th>\n",
              "      <th>Department</th>\n",
              "      <th>DistanceFromHome</th>\n",
              "      <th>Education</th>\n",
              "      <th>EducationField</th>\n",
              "      <th>EnvironmentSatisfaction</th>\n",
              "      <th>Gender</th>\n",
              "      <th>HourlyRate</th>\n",
              "      <th>JobInvolvement</th>\n",
              "      <th>JobLevel</th>\n",
              "      <th>JobRole</th>\n",
              "      <th>JobSatisfaction</th>\n",
              "      <th>MaritalStatus</th>\n",
              "      <th>MonthlyIncome</th>\n",
              "      <th>MonthlyRate</th>\n",
              "      <th>NumCompaniesWorked</th>\n",
              "      <th>OverTime</th>\n",
              "      <th>PercentSalaryHike</th>\n",
              "      <th>PerformanceRating</th>\n",
              "      <th>RelationshipSatisfaction</th>\n",
              "      <th>StockOptionLevel</th>\n",
              "      <th>TotalWorkingYears</th>\n",
              "      <th>TrainingTimesLastYear</th>\n",
              "      <th>WorkLifeBalance</th>\n",
              "      <th>YearsAtCompany</th>\n",
              "      <th>YearsInCurrentRole</th>\n",
              "      <th>YearsSinceLastPromotion</th>\n",
              "      <th>YearsWithCurrManager</th>\n",
              "    </tr>\n",
              "  </thead>\n",
              "  <tbody>\n",
              "    <tr>\n",
              "      <th>0</th>\n",
              "      <td>41</td>\n",
              "      <td>1</td>\n",
              "      <td>0</td>\n",
              "      <td>1102</td>\n",
              "      <td>1</td>\n",
              "      <td>1</td>\n",
              "      <td>2</td>\n",
              "      <td>0</td>\n",
              "      <td>2</td>\n",
              "      <td>1</td>\n",
              "      <td>94</td>\n",
              "      <td>3</td>\n",
              "      <td>2</td>\n",
              "      <td>0</td>\n",
              "      <td>4</td>\n",
              "      <td>1</td>\n",
              "      <td>5993</td>\n",
              "      <td>19479</td>\n",
              "      <td>8</td>\n",
              "      <td>1</td>\n",
              "      <td>11</td>\n",
              "      <td>3</td>\n",
              "      <td>1</td>\n",
              "      <td>0</td>\n",
              "      <td>8</td>\n",
              "      <td>0</td>\n",
              "      <td>1</td>\n",
              "      <td>6</td>\n",
              "      <td>4</td>\n",
              "      <td>0</td>\n",
              "      <td>5</td>\n",
              "    </tr>\n",
              "    <tr>\n",
              "      <th>1</th>\n",
              "      <td>49</td>\n",
              "      <td>0</td>\n",
              "      <td>1</td>\n",
              "      <td>279</td>\n",
              "      <td>0</td>\n",
              "      <td>8</td>\n",
              "      <td>1</td>\n",
              "      <td>0</td>\n",
              "      <td>3</td>\n",
              "      <td>0</td>\n",
              "      <td>61</td>\n",
              "      <td>2</td>\n",
              "      <td>2</td>\n",
              "      <td>1</td>\n",
              "      <td>2</td>\n",
              "      <td>0</td>\n",
              "      <td>5130</td>\n",
              "      <td>24907</td>\n",
              "      <td>1</td>\n",
              "      <td>0</td>\n",
              "      <td>23</td>\n",
              "      <td>4</td>\n",
              "      <td>4</td>\n",
              "      <td>1</td>\n",
              "      <td>10</td>\n",
              "      <td>3</td>\n",
              "      <td>3</td>\n",
              "      <td>10</td>\n",
              "      <td>7</td>\n",
              "      <td>1</td>\n",
              "      <td>7</td>\n",
              "    </tr>\n",
              "    <tr>\n",
              "      <th>2</th>\n",
              "      <td>37</td>\n",
              "      <td>1</td>\n",
              "      <td>0</td>\n",
              "      <td>1373</td>\n",
              "      <td>0</td>\n",
              "      <td>2</td>\n",
              "      <td>2</td>\n",
              "      <td>4</td>\n",
              "      <td>4</td>\n",
              "      <td>0</td>\n",
              "      <td>92</td>\n",
              "      <td>2</td>\n",
              "      <td>1</td>\n",
              "      <td>2</td>\n",
              "      <td>3</td>\n",
              "      <td>1</td>\n",
              "      <td>2090</td>\n",
              "      <td>2396</td>\n",
              "      <td>6</td>\n",
              "      <td>1</td>\n",
              "      <td>15</td>\n",
              "      <td>3</td>\n",
              "      <td>2</td>\n",
              "      <td>0</td>\n",
              "      <td>7</td>\n",
              "      <td>3</td>\n",
              "      <td>3</td>\n",
              "      <td>0</td>\n",
              "      <td>0</td>\n",
              "      <td>0</td>\n",
              "      <td>0</td>\n",
              "    </tr>\n",
              "    <tr>\n",
              "      <th>3</th>\n",
              "      <td>33</td>\n",
              "      <td>0</td>\n",
              "      <td>1</td>\n",
              "      <td>1392</td>\n",
              "      <td>0</td>\n",
              "      <td>3</td>\n",
              "      <td>4</td>\n",
              "      <td>0</td>\n",
              "      <td>4</td>\n",
              "      <td>1</td>\n",
              "      <td>56</td>\n",
              "      <td>3</td>\n",
              "      <td>1</td>\n",
              "      <td>1</td>\n",
              "      <td>3</td>\n",
              "      <td>0</td>\n",
              "      <td>2909</td>\n",
              "      <td>23159</td>\n",
              "      <td>1</td>\n",
              "      <td>1</td>\n",
              "      <td>11</td>\n",
              "      <td>3</td>\n",
              "      <td>3</td>\n",
              "      <td>0</td>\n",
              "      <td>8</td>\n",
              "      <td>3</td>\n",
              "      <td>3</td>\n",
              "      <td>8</td>\n",
              "      <td>7</td>\n",
              "      <td>3</td>\n",
              "      <td>0</td>\n",
              "    </tr>\n",
              "    <tr>\n",
              "      <th>4</th>\n",
              "      <td>27</td>\n",
              "      <td>0</td>\n",
              "      <td>0</td>\n",
              "      <td>591</td>\n",
              "      <td>0</td>\n",
              "      <td>2</td>\n",
              "      <td>1</td>\n",
              "      <td>1</td>\n",
              "      <td>1</td>\n",
              "      <td>0</td>\n",
              "      <td>40</td>\n",
              "      <td>3</td>\n",
              "      <td>1</td>\n",
              "      <td>2</td>\n",
              "      <td>2</td>\n",
              "      <td>0</td>\n",
              "      <td>3468</td>\n",
              "      <td>16632</td>\n",
              "      <td>9</td>\n",
              "      <td>0</td>\n",
              "      <td>12</td>\n",
              "      <td>3</td>\n",
              "      <td>4</td>\n",
              "      <td>1</td>\n",
              "      <td>6</td>\n",
              "      <td>3</td>\n",
              "      <td>3</td>\n",
              "      <td>2</td>\n",
              "      <td>2</td>\n",
              "      <td>2</td>\n",
              "      <td>2</td>\n",
              "    </tr>\n",
              "  </tbody>\n",
              "</table>\n",
              "</div>"
            ],
            "text/plain": [
              "   Age  Attrition  BusinessTravel  DailyRate  Department  DistanceFromHome  \\\n",
              "0   41          1               0       1102           1                 1   \n",
              "1   49          0               1        279           0                 8   \n",
              "2   37          1               0       1373           0                 2   \n",
              "3   33          0               1       1392           0                 3   \n",
              "4   27          0               0        591           0                 2   \n",
              "\n",
              "   Education  EducationField  EnvironmentSatisfaction  Gender  HourlyRate  \\\n",
              "0          2               0                        2       1          94   \n",
              "1          1               0                        3       0          61   \n",
              "2          2               4                        4       0          92   \n",
              "3          4               0                        4       1          56   \n",
              "4          1               1                        1       0          40   \n",
              "\n",
              "   JobInvolvement  JobLevel  JobRole  JobSatisfaction  MaritalStatus  \\\n",
              "0               3         2        0                4              1   \n",
              "1               2         2        1                2              0   \n",
              "2               2         1        2                3              1   \n",
              "3               3         1        1                3              0   \n",
              "4               3         1        2                2              0   \n",
              "\n",
              "   MonthlyIncome  MonthlyRate  NumCompaniesWorked  OverTime  \\\n",
              "0           5993        19479                   8         1   \n",
              "1           5130        24907                   1         0   \n",
              "2           2090         2396                   6         1   \n",
              "3           2909        23159                   1         1   \n",
              "4           3468        16632                   9         0   \n",
              "\n",
              "   PercentSalaryHike  PerformanceRating  RelationshipSatisfaction  \\\n",
              "0                 11                  3                         1   \n",
              "1                 23                  4                         4   \n",
              "2                 15                  3                         2   \n",
              "3                 11                  3                         3   \n",
              "4                 12                  3                         4   \n",
              "\n",
              "   StockOptionLevel  TotalWorkingYears  TrainingTimesLastYear  \\\n",
              "0                 0                  8                      0   \n",
              "1                 1                 10                      3   \n",
              "2                 0                  7                      3   \n",
              "3                 0                  8                      3   \n",
              "4                 1                  6                      3   \n",
              "\n",
              "   WorkLifeBalance  YearsAtCompany  YearsInCurrentRole  \\\n",
              "0                1               6                   4   \n",
              "1                3              10                   7   \n",
              "2                3               0                   0   \n",
              "3                3               8                   7   \n",
              "4                3               2                   2   \n",
              "\n",
              "   YearsSinceLastPromotion  YearsWithCurrManager  \n",
              "0                        0                     5  \n",
              "1                        1                     7  \n",
              "2                        0                     0  \n",
              "3                        3                     0  \n",
              "4                        2                     2  "
            ]
          },
          "execution_count": 58,
          "metadata": {},
          "output_type": "execute_result"
        }
      ],
      "source": [
        "empdf.head()"
      ]
    },
    {
      "cell_type": "markdown",
      "metadata": {
        "papermill": {
          "duration": 0.128062,
          "end_time": "2021-01-20T14:50:55.223075",
          "exception": false,
          "start_time": "2021-01-20T14:50:55.095013",
          "status": "completed"
        },
        "tags": [],
        "id": "QiM6QhagrkQp"
      },
      "source": [
        "## FeatureSelection"
      ]
    },
    {
      "cell_type": "code",
      "execution_count": null,
      "metadata": {
        "execution": {
          "iopub.execute_input": "2021-01-20T14:50:55.481237Z",
          "iopub.status.busy": "2021-01-20T14:50:55.480604Z",
          "iopub.status.idle": "2021-01-20T14:50:55.489490Z",
          "shell.execute_reply": "2021-01-20T14:50:55.488910Z"
        },
        "papermill": {
          "duration": 0.139501,
          "end_time": "2021-01-20T14:50:55.489610",
          "exception": false,
          "start_time": "2021-01-20T14:50:55.350109",
          "status": "completed"
        },
        "tags": [],
        "id": "3-BoURe5rkQp"
      },
      "outputs": [],
      "source": [
        "x = empdf.drop('Attrition',axis=1)\n",
        "y = empdf['Attrition']"
      ]
    },
    {
      "cell_type": "code",
      "execution_count": null,
      "metadata": {
        "execution": {
          "iopub.execute_input": "2021-01-20T14:50:55.798741Z",
          "iopub.status.busy": "2021-01-20T14:50:55.797696Z",
          "iopub.status.idle": "2021-01-20T14:50:56.490491Z",
          "shell.execute_reply": "2021-01-20T14:50:56.491277Z"
        },
        "papermill": {
          "duration": 0.872079,
          "end_time": "2021-01-20T14:50:56.491445",
          "exception": false,
          "start_time": "2021-01-20T14:50:55.619366",
          "status": "completed"
        },
        "tags": [],
        "id": "WLqhlF3XrkQq"
      },
      "outputs": [],
      "source": [
        "from sklearn.ensemble import ExtraTreesClassifier\n",
        "\n",
        "extra_tree = ExtraTreesClassifier()\n",
        "\n",
        "extra_tree.fit(x,y)\n",
        "\n",
        "feat_importance = extra_tree.feature_importances_"
      ]
    },
    {
      "cell_type": "code",
      "execution_count": null,
      "metadata": {
        "execution": {
          "iopub.execute_input": "2021-01-20T14:50:56.885741Z",
          "iopub.status.busy": "2021-01-20T14:50:56.884615Z",
          "iopub.status.idle": "2021-01-20T14:50:57.167456Z",
          "shell.execute_reply": "2021-01-20T14:50:57.168004Z"
        },
        "papermill": {
          "duration": 0.482746,
          "end_time": "2021-01-20T14:50:57.168154",
          "exception": false,
          "start_time": "2021-01-20T14:50:56.685408",
          "status": "completed"
        },
        "tags": [],
        "id": "x95EDXaTrkQq",
        "outputId": "7df4c2e2-362c-437f-f4ac-7c2fdb3066b8"
      },
      "outputs": [
        {
          "data": {
            "image/png": "[encoded data removed]",
            "text/plain": [
              "<Figure size 792x648 with 1 Axes>"
            ]
          },
          "metadata": {
            "needs_background": "light"
          },
          "output_type": "display_data"
        }
      ],
      "source": [
        "#plotting a feature importance\n",
        "plt.figure(figsize=(11,9))\n",
        "feat_imp = pd.Series(extra_tree.feature_importances_, index=x.columns)\n",
        "\n",
        "feat_imp.nlargest(20).plot(kind='barh')\n",
        "plt.show()"
      ]
    },
    {
      "cell_type": "markdown",
      "metadata": {
        "papermill": {
          "duration": 0.12897,
          "end_time": "2021-01-20T14:50:57.427439",
          "exception": false,
          "start_time": "2021-01-20T14:50:57.298469",
          "status": "completed"
        },
        "tags": [],
        "id": "kY6Vw3NLrkQr"
      },
      "source": [
        "**OBSERVATIONS:** ****Factors Responsible for Employee Attrition****\n",
        "\n",
        "- OverTime has highest relationship with Attrition, Employee who do OverTime, changes or leaves the Job early. we have seen this above also during categorical variable analysis.\n",
        "- Age is 2nd factor responsible, it can be that who are senior, are retiring or the employees who are bachelor has more expectations more organization.\n",
        "- MonthlyIncome is also a greatest factor for employee to Attritate\n",
        "- StockOptionLevel, we have seen can be determing factor, because employees are in chance that they should be given priority and power and consider to have involvement to buy Company stocks.\n",
        "- EnvironmentSatisfaction, JobSatisfaction, DistanceFromHome, WorkLifeBalance, JobLevel is at same level affects equally to the organization employees base."
      ]
    },
    {
      "cell_type": "markdown",
      "metadata": {
        "papermill": {
          "duration": 0.128327,
          "end_time": "2021-01-20T14:50:57.684714",
          "exception": false,
          "start_time": "2021-01-20T14:50:57.556387",
          "status": "completed"
        },
        "tags": [],
        "id": "KDNuQNghrkQr"
      },
      "source": [
        "### Feature Selection with Feature Scaling"
      ]
    },
    {
      "cell_type": "code",
      "execution_count": null,
      "metadata": {
        "execution": {
          "iopub.execute_input": "2021-01-20T14:50:57.959017Z",
          "iopub.status.busy": "2021-01-20T14:50:57.958317Z",
          "iopub.status.idle": "2021-01-20T14:50:57.965302Z",
          "shell.execute_reply": "2021-01-20T14:50:57.964751Z"
        },
        "papermill": {
          "duration": 0.150308,
          "end_time": "2021-01-20T14:50:57.965429",
          "exception": false,
          "start_time": "2021-01-20T14:50:57.815121",
          "status": "completed"
        },
        "tags": [],
        "id": "ehmhizkUrkQr"
      },
      "outputs": [],
      "source": [
        "from sklearn.preprocessing import MinMaxScaler\n",
        "\n",
        "min_max = MinMaxScaler()\n",
        "\n",
        "x_scaled = min_max.fit(x).transform(x)"
      ]
    },
    {
      "cell_type": "code",
      "execution_count": null,
      "metadata": {
        "execution": {
          "iopub.execute_input": "2021-01-20T14:50:58.236565Z",
          "iopub.status.busy": "2021-01-20T14:50:58.235841Z",
          "iopub.status.idle": "2021-01-20T14:50:58.551037Z",
          "shell.execute_reply": "2021-01-20T14:50:58.550332Z"
        },
        "papermill": {
          "duration": 0.45397,
          "end_time": "2021-01-20T14:50:58.551159",
          "exception": false,
          "start_time": "2021-01-20T14:50:58.097189",
          "status": "completed"
        },
        "tags": [],
        "id": "boK4iXFOrkQs",
        "outputId": "05ce9cb2-c5da-4912-ce5e-5be0c0454a3d"
      },
      "outputs": [
        {
          "data": {
            "text/plain": [
              "Age                         0.042077\n",
              "BusinessTravel              0.024245\n",
              "DailyRate                   0.030778\n",
              "Department                  0.022886\n",
              "DistanceFromHome            0.036665\n",
              "Education                   0.027269\n",
              "EducationField              0.030718\n",
              "EnvironmentSatisfaction     0.040646\n",
              "Gender                      0.021108\n",
              "HourlyRate                  0.032182\n",
              "JobInvolvement              0.033192\n",
              "JobLevel                    0.035605\n",
              "JobRole                     0.031268\n",
              "JobSatisfaction             0.037526\n",
              "MaritalStatus               0.026702\n",
              "MonthlyIncome               0.044151\n",
              "MonthlyRate                 0.031825\n",
              "NumCompaniesWorked          0.031300\n",
              "OverTime                    0.066854\n",
              "PercentSalaryHike           0.030019\n",
              "PerformanceRating           0.013645\n",
              "RelationshipSatisfaction    0.032518\n",
              "StockOptionLevel            0.038713\n",
              "TotalWorkingYears           0.040938\n",
              "TrainingTimesLastYear       0.029355\n",
              "WorkLifeBalance             0.034646\n",
              "YearsAtCompany              0.035716\n",
              "YearsInCurrentRole          0.032537\n",
              "YearsSinceLastPromotion     0.028893\n",
              "YearsWithCurrManager        0.036026\n",
              "dtype: float64"
            ]
          },
          "execution_count": 63,
          "metadata": {},
          "output_type": "execute_result"
        }
      ],
      "source": [
        "ExtraTree = ExtraTreesClassifier()\n",
        "\n",
        "ExtraTree.fit(x_scaled, y)\n",
        "\n",
        "feature_importance = pd.Series(ExtraTree.feature_importances_, index=x.columns)\n",
        "feature_importance"
      ]
    },
    {
      "cell_type": "code",
      "execution_count": null,
      "metadata": {
        "execution": {
          "iopub.execute_input": "2021-01-20T14:50:58.822466Z",
          "iopub.status.busy": "2021-01-20T14:50:58.821520Z",
          "iopub.status.idle": "2021-01-20T14:50:59.058441Z",
          "shell.execute_reply": "2021-01-20T14:50:59.057738Z"
        },
        "papermill": {
          "duration": 0.377246,
          "end_time": "2021-01-20T14:50:59.058561",
          "exception": false,
          "start_time": "2021-01-20T14:50:58.681315",
          "status": "completed"
        },
        "tags": [],
        "id": "YlSQ7DnwrkQs",
        "outputId": "0d75cfce-7f65-43fd-8c13-88752521277a"
      },
      "outputs": [
        {
          "data": {
            "image/png": "[encoded data removed]",
            "text/plain": [
              "<Figure size 720x648 with 1 Axes>"
            ]
          },
          "metadata": {
            "needs_background": "light"
          },
          "output_type": "display_data"
        }
      ],
      "source": [
        "plt.figure(figsize=(10,9))\n",
        "feature_importance.nlargest(20).plot(kind='barh')\n",
        "plt.show()"
      ]
    },
    {
      "cell_type": "markdown",
      "metadata": {
        "papermill": {
          "duration": 0.132581,
          "end_time": "2021-01-20T14:50:59.326312",
          "exception": false,
          "start_time": "2021-01-20T14:50:59.193731",
          "status": "completed"
        },
        "tags": [],
        "id": "XZvxc74ErkQt"
      },
      "source": [
        "- Only a little bit of changed occured due to scaling the features that, can be proved strong from modelling part."
      ]
    },
    {
      "cell_type": "markdown",
      "metadata": {
        "papermill": {
          "duration": 0.132575,
          "end_time": "2021-01-20T14:50:59.594093",
          "exception": false,
          "start_time": "2021-01-20T14:50:59.461518",
          "status": "completed"
        },
        "tags": [],
        "id": "EMqzfD_PrkQu"
      },
      "source": [
        "## Modelling"
      ]
    },
    {
      "cell_type": "code",
      "execution_count": null,
      "metadata": {
        "execution": {
          "iopub.execute_input": "2021-01-20T14:50:59.875353Z",
          "iopub.status.busy": "2021-01-20T14:50:59.874143Z",
          "iopub.status.idle": "2021-01-20T14:50:59.879151Z",
          "shell.execute_reply": "2021-01-20T14:50:59.878426Z"
        },
        "papermill": {
          "duration": 0.150148,
          "end_time": "2021-01-20T14:50:59.879263",
          "exception": false,
          "start_time": "2021-01-20T14:50:59.729115",
          "status": "completed"
        },
        "tags": [],
        "id": "G69GucHcrkQu"
      },
      "outputs": [],
      "source": [
        "from sklearn.model_selection import train_test_split\n",
        "\n",
        "from sklearn.linear_model import LogisticRegression\n",
        "from sklearn.svm import SVC\n",
        "from sklearn.neighbors import KNeighborsClassifier\n",
        "from sklearn.tree import DecisionTreeClassifier\n",
        "from sklearn.ensemble import RandomForestClassifier\n",
        "\n",
        "#metrics\n",
        "from sklearn.metrics import accuracy_score, classification_report"
      ]
    },
    {
      "cell_type": "code",
      "execution_count": null,
      "metadata": {
        "execution": {
          "iopub.execute_input": "2021-01-20T14:51:00.158890Z",
          "iopub.status.busy": "2021-01-20T14:51:00.158169Z",
          "iopub.status.idle": "2021-01-20T14:51:00.166306Z",
          "shell.execute_reply": "2021-01-20T14:51:00.166822Z"
        },
        "papermill": {
          "duration": 0.15233,
          "end_time": "2021-01-20T14:51:00.167001",
          "exception": false,
          "start_time": "2021-01-20T14:51:00.014671",
          "status": "completed"
        },
        "tags": [],
        "id": "GQjG73pFrkQv",
        "outputId": "1315c12d-7850-48c1-afc8-18a25591481b"
      },
      "outputs": [
        {
          "name": "stdout",
          "output_type": "stream",
          "text": [
            "training shape:  (1102, 30)\n",
            "testing shape:  (368, 30)\n"
          ]
        }
      ],
      "source": [
        "#split data into train and test set.\n",
        "x_train,x_test,y_train,y_test = train_test_split(x,y,test_size=0.25,random_state=42)\n",
        "print(\"training shape: \",x_train.shape)\n",
        "print(\"testing shape: \",x_test.shape)"
      ]
    },
    {
      "cell_type": "code",
      "execution_count": null,
      "metadata": {
        "execution": {
          "iopub.execute_input": "2021-01-20T14:51:00.441308Z",
          "iopub.status.busy": "2021-01-20T14:51:00.440692Z",
          "iopub.status.idle": "2021-01-20T14:51:00.445596Z",
          "shell.execute_reply": "2021-01-20T14:51:00.444972Z"
        },
        "papermill": {
          "duration": 0.144294,
          "end_time": "2021-01-20T14:51:00.445702",
          "exception": false,
          "start_time": "2021-01-20T14:51:00.301408",
          "status": "completed"
        },
        "tags": [],
        "id": "BCwwxMn5rkQw"
      },
      "outputs": [],
      "source": [
        "#models\n",
        "log_clf = LogisticRegression()\n",
        "svc_clf = SVC()\n",
        "knn_clf = KNeighborsClassifier()\n",
        "dt_clf = DecisionTreeClassifier()\n",
        "rf_clf = RandomForestClassifier()"
      ]
    },
    {
      "cell_type": "code",
      "execution_count": null,
      "metadata": {
        "execution": {
          "iopub.execute_input": "2021-01-20T14:51:00.721364Z",
          "iopub.status.busy": "2021-01-20T14:51:00.720502Z",
          "iopub.status.idle": "2021-01-20T14:51:01.242517Z",
          "shell.execute_reply": "2021-01-20T14:51:01.241835Z"
        },
        "papermill": {
          "duration": 0.664743,
          "end_time": "2021-01-20T14:51:01.242633",
          "exception": false,
          "start_time": "2021-01-20T14:51:00.577890",
          "status": "completed"
        },
        "tags": [],
        "id": "R9ewtKhArkQw",
        "outputId": "92ac27ea-54f1-4322-d2e6-01828528ef13"
      },
      "outputs": [
        {
          "name": "stdout",
          "output_type": "stream",
          "text": [
            "LogisticRegression   0.8722826086956522\n",
            "SVC   0.8695652173913043\n",
            "KNeighborsClassifier   0.8396739130434783\n",
            "DecisionTreeClassifier   0.8070652173913043\n",
            "RandomForestClassifier   0.875\n"
          ]
        }
      ],
      "source": [
        "# first check the accuracy score on without scalled features\n",
        "for clf in [log_clf, svc_clf, knn_clf, dt_clf, rf_clf]:\n",
        "    clf.fit(x_train, y_train)\n",
        "    \n",
        "    pred = clf.predict(x_test)\n",
        "    \n",
        "    print(clf.__class__.__name__, \" \", accuracy_score(y_test,pred))"
      ]
    },
    {
      "cell_type": "code",
      "execution_count": null,
      "metadata": {
        "execution": {
          "iopub.execute_input": "2021-01-20T14:51:01.521987Z",
          "iopub.status.busy": "2021-01-20T14:51:01.521039Z",
          "iopub.status.idle": "2021-01-20T14:51:02.261948Z",
          "shell.execute_reply": "2021-01-20T14:51:02.261162Z"
        },
        "papermill": {
          "duration": 0.885076,
          "end_time": "2021-01-20T14:51:02.262093",
          "exception": false,
          "start_time": "2021-01-20T14:51:01.377017",
          "status": "completed"
        },
        "tags": [],
        "id": "wWwe2vHyrkQx",
        "outputId": "6a0f162f-eb4a-454a-e643-ba695209cfc7"
      },
      "outputs": [
        {
          "name": "stdout",
          "output_type": "stream",
          "text": [
            "acuracy:  0.8722826086956522\n"
          ]
        }
      ],
      "source": [
        "# let's try out VotingClassifier\n",
        "from sklearn.ensemble import VotingClassifier\n",
        "\n",
        "voting_clf =VotingClassifier([('lgclf',log_clf),('svc',svc_clf),('knn',knn_clf),('dt',dt_clf),('rf',rf_clf)])\n",
        "\n",
        "voting_clf.fit(x_train,y_train)\n",
        "\n",
        "y_pred = voting_clf.predict(x_test)\n",
        "print(\"acuracy: \",accuracy_score(y_test,y_pred))"
      ]
    },
    {
      "cell_type": "code",
      "execution_count": null,
      "metadata": {
        "execution": {
          "iopub.execute_input": "2021-01-20T14:51:02.545439Z",
          "iopub.status.busy": "2021-01-20T14:51:02.544532Z",
          "iopub.status.idle": "2021-01-20T14:51:02.552587Z",
          "shell.execute_reply": "2021-01-20T14:51:02.553260Z"
        },
        "papermill": {
          "duration": 0.152544,
          "end_time": "2021-01-20T14:51:02.553447",
          "exception": false,
          "start_time": "2021-01-20T14:51:02.400903",
          "status": "completed"
        },
        "tags": [],
        "id": "jUWjLk67rkQx",
        "outputId": "3062c2c0-95e6-419c-a0e9-72d1c985dfb7"
      },
      "outputs": [
        {
          "name": "stdout",
          "output_type": "stream",
          "text": [
            "training shape:  (1102, 30)\n",
            "testing shape:  (368, 30)\n"
          ]
        }
      ],
      "source": [
        "# if we do same thing on scaled features\n",
        "#split data into train and test set using scaled data.\n",
        "x_train_scaled,x_test_scaled,y_train_scaled,y_test_scaled = train_test_split(x_scaled,y,test_size=0.25,random_state=42)\n",
        "print(\"training shape: \",x_train_scaled.shape)\n",
        "print(\"testing shape: \",x_test_scaled.shape)"
      ]
    },
    {
      "cell_type": "code",
      "execution_count": null,
      "metadata": {
        "execution": {
          "iopub.execute_input": "2021-01-20T14:51:02.963573Z",
          "iopub.status.busy": "2021-01-20T14:51:02.962446Z",
          "iopub.status.idle": "2021-01-20T14:51:03.466604Z",
          "shell.execute_reply": "2021-01-20T14:51:03.465674Z"
        },
        "papermill": {
          "duration": 0.715873,
          "end_time": "2021-01-20T14:51:03.466783",
          "exception": false,
          "start_time": "2021-01-20T14:51:02.750910",
          "status": "completed"
        },
        "tags": [],
        "id": "xYHFMPdurkQy",
        "outputId": "20b60090-33ab-4c49-e76f-8c54e4b88c86"
      },
      "outputs": [
        {
          "name": "stdout",
          "output_type": "stream",
          "text": [
            "LogisticRegression   0.904891304347826\n",
            "SVC   0.8831521739130435\n",
            "KNeighborsClassifier   0.875\n",
            "DecisionTreeClassifier   0.7907608695652174\n",
            "RandomForestClassifier   0.875\n"
          ]
        }
      ],
      "source": [
        "# Now check the accuracy score on scalled features\n",
        "for clf in [log_clf, svc_clf, knn_clf, dt_clf, rf_clf]:\n",
        "    clf.fit(x_train_scaled, y_train_scaled)\n",
        "    \n",
        "    pred = clf.predict(x_test_scaled)\n",
        "    \n",
        "    print(clf.__class__.__name__, \" \", accuracy_score(y_test,pred))"
      ]
    },
    {
      "cell_type": "code",
      "execution_count": null,
      "metadata": {
        "execution": {
          "iopub.execute_input": "2021-01-20T14:51:03.746753Z",
          "iopub.status.busy": "2021-01-20T14:51:03.744201Z",
          "iopub.status.idle": "2021-01-20T14:51:04.248209Z",
          "shell.execute_reply": "2021-01-20T14:51:04.246614Z"
        },
        "papermill": {
          "duration": 0.647374,
          "end_time": "2021-01-20T14:51:04.248354",
          "exception": false,
          "start_time": "2021-01-20T14:51:03.600980",
          "status": "completed"
        },
        "tags": [],
        "id": "6Snz_MINrkQy",
        "outputId": "e3c67f22-7f8f-4914-a68e-6f2b1b5f54e5"
      },
      "outputs": [
        {
          "name": "stdout",
          "output_type": "stream",
          "text": [
            "acuracy:  0.8913043478260869\n"
          ]
        }
      ],
      "source": [
        "# try votingClf with scaled data\n",
        "\n",
        "voting_clf =VotingClassifier([('lgclf',log_clf),('svc',svc_clf),('knn',knn_clf),('dt',dt_clf),('rf',rf_clf)])\n",
        "\n",
        "voting_clf.fit(x_train_scaled,y_train_scaled)\n",
        "\n",
        "y_pred = voting_clf.predict(x_test_scaled)\n",
        "print(\"acuracy: \",accuracy_score(y_test_scaled,y_pred))"
      ]
    },
    {
      "cell_type": "markdown",
      "metadata": {
        "papermill": {
          "duration": 0.163346,
          "end_time": "2021-01-20T14:51:04.548619",
          "exception": false,
          "start_time": "2021-01-20T14:51:04.385273",
          "status": "completed"
        },
        "tags": [],
        "id": "ZspAigoWrkQz"
      },
      "source": [
        "**This is reason why Feature Scaling is used. by scaling down the features we are able to achieve better accuracy**"
      ]
    },
    {
      "cell_type": "markdown",
      "metadata": {
        "papermill": {
          "duration": 0.136897,
          "end_time": "2021-01-20T14:51:04.826207",
          "exception": false,
          "start_time": "2021-01-20T14:51:04.689310",
          "status": "completed"
        },
        "tags": [],
        "id": "Nll6_NN7rkQz"
      },
      "source": [
        "**ADABOOST:** Adaboost is a boosting algoritm, which works on concept of errror correction using the concept of SAMME(Stagwise Adaptive Multimodelling using Multiclass exponential loss function) algorithm. It works sequentially by building a sequential model that works on a error generated by previous model. Repeatedly it do this process untill iterations are over of error becomes 0. Thus, it exploits the dependency between the models and different from Bagging(RandomForest).\n",
        "\n",
        "**XGBoost:** Xgboost is an extension to GBM, for better speed and performance. It is trained in additive manner. It prevents the overfitting, and outliers. for xgboost we also no need to impute missing values, it takes care of that too.  "
      ]
    },
    {
      "cell_type": "code",
      "execution_count": null,
      "metadata": {
        "execution": {
          "iopub.execute_input": "2021-01-20T14:51:05.106952Z",
          "iopub.status.busy": "2021-01-20T14:51:05.106332Z",
          "iopub.status.idle": "2021-01-20T14:51:05.402370Z",
          "shell.execute_reply": "2021-01-20T14:51:05.401456Z"
        },
        "papermill": {
          "duration": 0.438303,
          "end_time": "2021-01-20T14:51:05.402514",
          "exception": false,
          "start_time": "2021-01-20T14:51:04.964211",
          "status": "completed"
        },
        "tags": [],
        "id": "2BGQCDierkQ0"
      },
      "outputs": [],
      "source": [
        "from sklearn.ensemble import AdaBoostClassifier\n",
        "from xgboost import XGBClassifier"
      ]
    },
    {
      "cell_type": "code",
      "execution_count": null,
      "metadata": {
        "execution": {
          "iopub.execute_input": "2021-01-20T14:51:05.824019Z",
          "iopub.status.busy": "2021-01-20T14:51:05.823193Z",
          "iopub.status.idle": "2021-01-20T14:51:07.511373Z",
          "shell.execute_reply": "2021-01-20T14:51:07.512291Z"
        },
        "papermill": {
          "duration": 1.901918,
          "end_time": "2021-01-20T14:51:07.512491",
          "exception": false,
          "start_time": "2021-01-20T14:51:05.610573",
          "status": "completed"
        },
        "tags": [],
        "id": "KLXjWVHWrkQ0",
        "outputId": "923519c5-992b-4de3-d622-c00485a3c0f9"
      },
      "outputs": [
        {
          "name": "stdout",
          "output_type": "stream",
          "text": [
            "accuracy: 0.8722826086956522\n"
          ]
        }
      ],
      "source": [
        "boost = AdaBoostClassifier(base_estimator = DecisionTreeClassifier(max_depth=1), n_estimators=500, algorithm='SAMME',learning_rate=0.01)\n",
        "\n",
        "boost.fit(x_train_scaled,y_train_scaled)\n",
        "\n",
        "predictions = boost.predict(x_test_scaled)\n",
        "\n",
        "print(\"accuracy:\",accuracy_score(y_test,predictions))"
      ]
    },
    {
      "cell_type": "code",
      "execution_count": null,
      "metadata": {
        "execution": {
          "iopub.execute_input": "2021-01-20T14:51:07.929502Z",
          "iopub.status.busy": "2021-01-20T14:51:07.928575Z",
          "iopub.status.idle": "2021-01-20T14:51:08.081779Z",
          "shell.execute_reply": "2021-01-20T14:51:08.081069Z"
        },
        "papermill": {
          "duration": 0.363197,
          "end_time": "2021-01-20T14:51:08.081892",
          "exception": false,
          "start_time": "2021-01-20T14:51:07.718695",
          "status": "completed"
        },
        "tags": [],
        "id": "TLgWl8p4rkQ1",
        "outputId": "5147ac27-71af-4368-b2c0-c77e4f7caed8"
      },
      "outputs": [
        {
          "name": "stdout",
          "output_type": "stream",
          "text": [
            "training accuracy: 0.837568058076225\n",
            "testing accuracy: 0.8722826086956522\n"
          ]
        }
      ],
      "source": [
        "#training accuracy\n",
        "print(\"training accuracy:\",boost.score(x_train_scaled,y_train_scaled))\n",
        "print(\"testing accuracy:\",boost.score(x_test_scaled,y_test_scaled))"
      ]
    },
    {
      "cell_type": "code",
      "execution_count": null,
      "metadata": {
        "execution": {
          "iopub.execute_input": "2021-01-20T14:51:08.363522Z",
          "iopub.status.busy": "2021-01-20T14:51:08.362886Z",
          "iopub.status.idle": "2021-01-20T14:51:08.526248Z",
          "shell.execute_reply": "2021-01-20T14:51:08.527140Z"
        },
        "papermill": {
          "duration": 0.307925,
          "end_time": "2021-01-20T14:51:08.527301",
          "exception": false,
          "start_time": "2021-01-20T14:51:08.219376",
          "status": "completed"
        },
        "tags": [],
        "id": "oih1O-UTrkQ1",
        "outputId": "5005ec9f-2bd3-4483-861d-d4fd033537be"
      },
      "outputs": [
        {
          "name": "stdout",
          "output_type": "stream",
          "text": [
            "accuracy:  0.8804347826086957\n"
          ]
        }
      ],
      "source": [
        "# XGBOOST\n",
        "xgb = XGBClassifier()\n",
        "\n",
        "xgb.fit(x_train_scaled, y_train_scaled)\n",
        "\n",
        "prediction = xgb.predict(x_test_scaled)\n",
        "\n",
        "print(\"accuracy: \",accuracy_score(y_test,prediction))"
      ]
    },
    {
      "cell_type": "markdown",
      "metadata": {
        "papermill": {
          "duration": 0.141115,
          "end_time": "2021-01-20T14:51:08.845128",
          "exception": false,
          "start_time": "2021-01-20T14:51:08.704013",
          "status": "completed"
        },
        "tags": [],
        "id": "WcBhJjA9rkQ2"
      },
      "source": [
        "## Hyperparameter(Performance) Tuning"
      ]
    },
    {
      "cell_type": "code",
      "execution_count": null,
      "metadata": {
        "execution": {
          "iopub.execute_input": "2021-01-20T14:51:09.126637Z",
          "iopub.status.busy": "2021-01-20T14:51:09.126026Z",
          "iopub.status.idle": "2021-01-20T14:51:09.131999Z",
          "shell.execute_reply": "2021-01-20T14:51:09.130544Z"
        },
        "papermill": {
          "duration": 0.149103,
          "end_time": "2021-01-20T14:51:09.132126",
          "exception": false,
          "start_time": "2021-01-20T14:51:08.983023",
          "status": "completed"
        },
        "tags": [],
        "id": "WtLR5ltcrkQ3"
      },
      "outputs": [],
      "source": [
        "from sklearn.model_selection import RandomizedSearchCV\n",
        "from sklearn.model_selection import cross_val_score"
      ]
    },
    {
      "cell_type": "code",
      "execution_count": null,
      "metadata": {
        "execution": {
          "iopub.execute_input": "2021-01-20T14:51:09.410781Z",
          "iopub.status.busy": "2021-01-20T14:51:09.410169Z",
          "iopub.status.idle": "2021-01-20T14:51:09.423762Z",
          "shell.execute_reply": "2021-01-20T14:51:09.424522Z"
        },
        "papermill": {
          "duration": 0.156213,
          "end_time": "2021-01-20T14:51:09.424699",
          "exception": false,
          "start_time": "2021-01-20T14:51:09.268486",
          "status": "completed"
        },
        "tags": [],
        "id": "INZjdpZurkQ4",
        "outputId": "18119486-1547-4b01-a601-5de61f69c9ba"
      },
      "outputs": [
        {
          "name": "stdout",
          "output_type": "stream",
          "text": [
            "{'n_estimators': [100, 200, 300, 400, 500, 600, 700, 800, 900, 1000, 1100, 1200], 'max_depth': [5, 10, 15, 20, 25, 30], 'criterion': ['gini', 'entropy'], 'min_samples_split': [2, 5, 7, 10], 'min_samples_leaf': [2, 5, 8], 'max_features': ['auto', 'sqrt']}\n"
          ]
        }
      ],
      "source": [
        "# let's first try hyperparameter tuning with RandomForest\n",
        "\n",
        "#number of trees in forest\n",
        "n_estimators = [int(x) for x in np.linspace(100,1200,12)]\n",
        "#max depth of tree\n",
        "max_depth = [int(x) for x in np.linspace(5,30,6)]\n",
        "#quality of split\n",
        "criterion = ['gini','entropy']\n",
        "#min no. of samples to consider for splitting a internal node\n",
        "min_samples_split = [2,5,7,10]\n",
        "#min number of node can be as leaf node\n",
        "min_samples_leaf = [2,5,8]\n",
        "# The number of features to consider when looking for the best split:\n",
        "max_features = [\"auto\",\"sqrt\"]\n",
        "\n",
        "random_grid = dict(n_estimators=n_estimators, max_depth=max_depth, criterion=criterion,\n",
        "                  min_samples_split=min_samples_split,min_samples_leaf=min_samples_leaf,\n",
        "                   max_features=max_features)\n",
        "print(random_grid)"
      ]
    },
    {
      "cell_type": "code",
      "execution_count": null,
      "metadata": {
        "execution": {
          "iopub.execute_input": "2021-01-20T14:51:09.715615Z",
          "iopub.status.busy": "2021-01-20T14:51:09.714977Z",
          "iopub.status.idle": "2021-01-20T14:51:58.230548Z",
          "shell.execute_reply": "2021-01-20T14:51:58.229497Z"
        },
        "papermill": {
          "duration": 48.665113,
          "end_time": "2021-01-20T14:51:58.230684",
          "exception": false,
          "start_time": "2021-01-20T14:51:09.565571",
          "status": "completed"
        },
        "tags": [],
        "id": "Ru-lySGYrkQ5",
        "outputId": "67179ad4-362f-49a6-9887-a369c66f1101"
      },
      "outputs": [
        {
          "name": "stdout",
          "output_type": "stream",
          "text": [
            "Fitting 5 folds for each of 10 candidates, totalling 50 fits\n"
          ]
        },
        {
          "name": "stderr",
          "output_type": "stream",
          "text": [
            "[Parallel(n_jobs=-1)]: Using backend LokyBackend with 4 concurrent workers.\n",
            "[Parallel(n_jobs=-1)]: Done  42 tasks      | elapsed:   39.8s\n",
            "[Parallel(n_jobs=-1)]: Done  50 out of  50 | elapsed:   44.4s finished\n"
          ]
        },
        {
          "data": {
            "text/plain": [
              "RandomizedSearchCV(cv=5, estimator=RandomForestClassifier(), n_jobs=-1,\n",
              "                   param_distributions={'criterion': ['gini', 'entropy'],\n",
              "                                        'max_depth': [5, 10, 15, 20, 25, 30],\n",
              "                                        'max_features': ['auto', 'sqrt'],\n",
              "                                        'min_samples_leaf': [2, 5, 8],\n",
              "                                        'min_samples_split': [2, 5, 7, 10],\n",
              "                                        'n_estimators': [100, 200, 300, 400,\n",
              "                                                         500, 600, 700, 800,\n",
              "                                                         900, 1000, 1100,\n",
              "                                                         1200]},\n",
              "                   random_state=42, verbose=1)"
            ]
          },
          "execution_count": 79,
          "metadata": {},
          "output_type": "execute_result"
        }
      ],
      "source": [
        "rf_clf = RandomForestClassifier()\n",
        "rf_random = RandomizedSearchCV(rf_clf, param_distributions=random_grid, cv=5, n_iter=10,\n",
        "                               random_state=42, n_jobs=-1,verbose=1,)\n",
        "\n",
        "rf_random.fit(x_train_scaled, y_train_scaled)"
      ]
    },
    {
      "cell_type": "code",
      "execution_count": null,
      "metadata": {
        "execution": {
          "iopub.execute_input": "2021-01-20T14:51:58.726998Z",
          "iopub.status.busy": "2021-01-20T14:51:58.726223Z",
          "iopub.status.idle": "2021-01-20T14:51:58.730148Z",
          "shell.execute_reply": "2021-01-20T14:51:58.730797Z"
        },
        "papermill": {
          "duration": 0.283022,
          "end_time": "2021-01-20T14:51:58.731024",
          "exception": false,
          "start_time": "2021-01-20T14:51:58.448002",
          "status": "completed"
        },
        "tags": [],
        "id": "nCHwLqY2rkQ6",
        "outputId": "ace1f2fe-097e-41d9-fc6e-8f01d45ba571"
      },
      "outputs": [
        {
          "name": "stdout",
          "output_type": "stream",
          "text": [
            "0.8538831756478815\n",
            "{'n_estimators': 700, 'min_samples_split': 2, 'min_samples_leaf': 2, 'max_features': 'auto', 'max_depth': 30, 'criterion': 'entropy'}\n"
          ]
        }
      ],
      "source": [
        "print(rf_random.best_score_)\n",
        "print(rf_random.best_params_)"
      ]
    },
    {
      "cell_type": "code",
      "execution_count": null,
      "metadata": {
        "execution": {
          "iopub.execute_input": "2021-01-20T14:51:59.094975Z",
          "iopub.status.busy": "2021-01-20T14:51:59.094146Z",
          "iopub.status.idle": "2021-01-20T14:51:59.097777Z",
          "shell.execute_reply": "2021-01-20T14:51:59.098411Z"
        },
        "papermill": {
          "duration": 0.226199,
          "end_time": "2021-01-20T14:51:59.098539",
          "exception": false,
          "start_time": "2021-01-20T14:51:58.872340",
          "status": "completed"
        },
        "tags": [],
        "id": "TJXEiPs9rkQ7",
        "outputId": "30f09631-858c-4991-97d6-acee2d7665b6"
      },
      "outputs": [
        {
          "name": "stdout",
          "output_type": "stream",
          "text": [
            "{'n_estimators': [100, 200, 300, 400, 500, 600, 700, 800, 900, 1000], 'max_depth': [6, 12, 18, 24, 30], 'learning_rate': [0.001, 0.002, 0.003, 0.004, 0.005, 0.006, 0.007, 0.008, 0.009, 0.01], 'min_child_weight': [1, 2, 3, 4, 5, 6, 7, 8, 9]}\n"
          ]
        }
      ],
      "source": [
        "# hyperparameter tuning for XgBoost\n",
        "\n",
        "n_estimators = [int(x) for x in np.linspace(100,1000,10)]\n",
        "\n",
        "max_depth = [int(x) for x in np.linspace(6,30,5)]\n",
        "learning_rate = [0.001,0.002,0.003,0.004,0.005,0.006,0.007,0.008,0.009,0.01]\n",
        "min_child_weight = list(range(1,10))\n",
        "\n",
        "xg_grid = dict(n_estimators=n_estimators, max_depth=max_depth, learning_rate=learning_rate, \n",
        "               min_child_weight=min_child_weight)\n",
        "print(xg_grid)"
      ]
    },
    {
      "cell_type": "code",
      "execution_count": null,
      "metadata": {
        "execution": {
          "iopub.execute_input": "2021-01-20T14:51:59.391081Z",
          "iopub.status.busy": "2021-01-20T14:51:59.390404Z",
          "iopub.status.idle": "2021-01-20T14:52:22.485119Z",
          "shell.execute_reply": "2021-01-20T14:52:22.485883Z"
        },
        "papermill": {
          "duration": 23.244134,
          "end_time": "2021-01-20T14:52:22.486075",
          "exception": false,
          "start_time": "2021-01-20T14:51:59.241941",
          "status": "completed"
        },
        "tags": [],
        "id": "Oa83FjAlrkQ8",
        "outputId": "04184f89-a83b-481b-d637-872e960152cb"
      },
      "outputs": [
        {
          "name": "stdout",
          "output_type": "stream",
          "text": [
            "Fitting 5 folds for each of 10 candidates, totalling 50 fits\n"
          ]
        },
        {
          "name": "stderr",
          "output_type": "stream",
          "text": [
            "[Parallel(n_jobs=-1)]: Using backend LokyBackend with 4 concurrent workers.\n",
            "[Parallel(n_jobs=-1)]: Done  42 tasks      | elapsed:   18.5s\n",
            "[Parallel(n_jobs=-1)]: Done  50 out of  50 | elapsed:   22.1s finished\n"
          ]
        },
        {
          "data": {
            "text/plain": [
              "RandomizedSearchCV(cv=5,\n",
              "                   estimator=XGBClassifier(base_score=None, booster=None,\n",
              "                                           colsample_bylevel=None,\n",
              "                                           colsample_bynode=None,\n",
              "                                           colsample_bytree=None, gamma=None,\n",
              "                                           gpu_id=None, importance_type='gain',\n",
              "                                           interaction_constraints=None,\n",
              "                                           learning_rate=None,\n",
              "                                           max_delta_step=None, max_depth=None,\n",
              "                                           min_child_weight=None, missing=nan,\n",
              "                                           monotone_constraints=None,\n",
              "                                           n_estimators=100,...\n",
              "                                           subsample=None, tree_method=None,\n",
              "                                           validate_parameters=None,\n",
              "                                           verbosity=None),\n",
              "                   n_jobs=-1,\n",
              "                   param_distributions={'learning_rate': [0.001, 0.002, 0.003,\n",
              "                                                          0.004, 0.005, 0.006,\n",
              "                                                          0.007, 0.008, 0.009,\n",
              "                                                          0.01],\n",
              "                                        'max_depth': [6, 12, 18, 24, 30],\n",
              "                                        'min_child_weight': [1, 2, 3, 4, 5, 6,\n",
              "                                                             7, 8, 9],\n",
              "                                        'n_estimators': [100, 200, 300, 400,\n",
              "                                                         500, 600, 700, 800,\n",
              "                                                         900, 1000]},\n",
              "                   random_state=42, scoring='accuracy', verbose=1)"
            ]
          },
          "execution_count": 82,
          "metadata": {},
          "output_type": "execute_result"
        }
      ],
      "source": [
        "xgb = XGBClassifier()\n",
        "xgb_random = RandomizedSearchCV(xgb, param_distributions=xg_grid, cv=5, random_state=42,\n",
        "                               n_iter=10,scoring=\"accuracy\",n_jobs=-1,verbose=1)\n",
        "\n",
        "xgb_random.fit(x_train_scaled,y_train_scaled)"
      ]
    },
    {
      "cell_type": "code",
      "execution_count": null,
      "metadata": {
        "execution": {
          "iopub.execute_input": "2021-01-20T14:52:22.826636Z",
          "iopub.status.busy": "2021-01-20T14:52:22.825729Z",
          "iopub.status.idle": "2021-01-20T14:52:22.828961Z",
          "shell.execute_reply": "2021-01-20T14:52:22.829842Z"
        },
        "papermill": {
          "duration": 0.157488,
          "end_time": "2021-01-20T14:52:22.830080",
          "exception": false,
          "start_time": "2021-01-20T14:52:22.672592",
          "status": "completed"
        },
        "tags": [],
        "id": "TQyAanhkrkQ9",
        "outputId": "98c3f15c-f7b5-4b0b-9d95-b4902f0ae5c8"
      },
      "outputs": [
        {
          "name": "stdout",
          "output_type": "stream",
          "text": [
            "score:  0.8629452900041136\n",
            "best_params: \n",
            " {'n_estimators': 600, 'min_child_weight': 7, 'max_depth': 24, 'learning_rate': 0.004}\n"
          ]
        }
      ],
      "source": [
        "print(\"score: \",xgb_random.best_score_)\n",
        "print(\"best_params: \\n\",xgb_random.best_params_)"
      ]
    },
    {
      "cell_type": "markdown",
      "metadata": {
        "papermill": {
          "duration": 0.144603,
          "end_time": "2021-01-20T14:52:23.119773",
          "exception": false,
          "start_time": "2021-01-20T14:52:22.975170",
          "status": "completed"
        },
        "tags": [],
        "id": "2aP2udWmrkQ-"
      },
      "source": [
        "### **If you like this Notebook, Please Upvote. It gives motivation for making a new notebooks and positively move ahead with a Data science journey**\n",
        "\n",
        "**Thank You!..** "
      ]
    }
  ],
  "metadata": {
    "kernelspec": {
      "display_name": "Python 3",
      "language": "python",
      "name": "python3"
    },
    "language_info": {
      "codemirror_mode": {
        "name": "ipython",
        "version": 3
      },
      "file_extension": ".py",
      "mimetype": "text/x-python",
      "name": "python",
      "nbconvert_exporter": "python",
      "pygments_lexer": "ipython3",
      "version": "3.7.6"
    },
    "papermill": {
      "duration": 121.040833,
      "end_time": "2021-01-20T14:52:23.373865",
      "environment_variables": {},
      "exception": null,
      "input_path": "__notebook__.ipynb",
      "output_path": "__notebook__.ipynb",
      "parameters": {},
      "start_time": "2021-01-20T14:50:22.333032",
      "version": "2.1.0"
    },
    "colab": {
      "name": "Employee Attrition Analysis",
      "provenance": [],
      "include_colab_link": true
    }
  },
  "nbformat": 4,
  "nbformat_minor": 0
}