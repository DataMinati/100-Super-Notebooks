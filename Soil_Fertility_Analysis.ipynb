{
  "nbformat": 4,
  "nbformat_minor": 0,
  "metadata": {
    "colab": {
      "name": "Soil Fertility Analysis",
      "provenance": [],
      "authorship_tag": "ABX9TyM2enuSPsDK5rgwaiF0xRf8",
      "include_colab_link": true
    },
    "kernelspec": {
      "name": "python3",
      "display_name": "Python 3"
    },
    "language_info": {
      "name": "python"
    }
  },
  "cells": [
    {
      "cell_type": "markdown",
      "metadata": {
        "id": "view-in-github",
        "colab_type": "text"
      },
      "source": [
        "<a href=\"https://colab.research.google.com/github/DataMinati/Super-Notebooks-1K/blob/main/Soil_Fertility_Analysis.ipynb\" target=\"_parent\"><img src=\"https://colab.research.google.com/assets/colab-badge.svg\" alt=\"Open In Colab\"/></a>"
      ]
    },
    {
      "cell_type": "code",
      "execution_count": 29,
      "metadata": {
        "id": "nHXADDCCcgf4"
      },
      "outputs": [],
      "source": [
        "import numpy as np\n",
        "import  pandas as pd\n",
        "from sklearn.compose import ColumnTransformer\n",
        "from sklearn.preprocessing import LabelEncoder\n",
        "from sklearn.model_selection import train_test_split\n",
        "from sklearn.naive_bayes import MultinomialNB  \n",
        "from sklearn.metrics import accuracy_score, confusion_matrix, classification_report\n",
        "from sklearn.ensemble import RandomForestClassifier\n",
        "from sklearn.metrics import classification_report\n",
        "from sklearn.preprocessing import StandardScaler\n",
        "from sklearn.tree import DecisionTreeClassifier\n",
        "from sklearn.metrics import confusion_matrix,accuracy_score\n",
        "from sklearn.multioutput import MultiOutputClassifier\n",
        "from sklearn import tree\n",
        "from sklearn.svm import SVC"
      ]
    },
    {
      "cell_type": "code",
      "source": [
        "dataset = pd.read_csv('https://raw.githubusercontent.com/MainakRepositor/Datasets-/master/soildataset.csv',error_bad_lines=False)\n",
        "dataset.head()"
      ],
      "metadata": {
        "colab": {
          "base_uri": "https://localhost:8080/",
          "height": 206
        },
        "id": "IH2EFruXco7g",
        "outputId": "a82578de-7dda-4d9e-890d-6b2a1654ad01"
      },
      "execution_count": 2,
      "outputs": [
        {
          "output_type": "execute_result",
          "data": {
            "text/html": [
              "\n",
              "  <div id=\"df-fc2f7a28-e586-4eb7-8035-ffd43bbd9e72\">\n",
              "    <div class=\"colab-df-container\">\n",
              "      <div>\n",
              "<style scoped>\n",
              "    .dataframe tbody tr th:only-of-type {\n",
              "        vertical-align: middle;\n",
              "    }\n",
              "\n",
              "    .dataframe tbody tr th {\n",
              "        vertical-align: top;\n",
              "    }\n",
              "\n",
              "    .dataframe thead th {\n",
              "        text-align: right;\n",
              "    }\n",
              "</style>\n",
              "<table border=\"1\" class=\"dataframe\">\n",
              "  <thead>\n",
              "    <tr style=\"text-align: right;\">\n",
              "      <th></th>\n",
              "      <th>Id</th>\n",
              "      <th>Nitrogen</th>\n",
              "      <th>Phosphorous</th>\n",
              "      <th>Potassium</th>\n",
              "      <th>Content of Nitrogen</th>\n",
              "      <th>Content of Phosphorous</th>\n",
              "      <th>Content of Potassium</th>\n",
              "    </tr>\n",
              "  </thead>\n",
              "  <tbody>\n",
              "    <tr>\n",
              "      <th>0</th>\n",
              "      <td>1</td>\n",
              "      <td>3.67</td>\n",
              "      <td>2.45</td>\n",
              "      <td>2.990</td>\n",
              "      <td>Low</td>\n",
              "      <td>Low</td>\n",
              "      <td>High</td>\n",
              "    </tr>\n",
              "    <tr>\n",
              "      <th>1</th>\n",
              "      <td>2</td>\n",
              "      <td>3.99</td>\n",
              "      <td>2.51</td>\n",
              "      <td>2.890</td>\n",
              "      <td>Medium</td>\n",
              "      <td>Low</td>\n",
              "      <td>High</td>\n",
              "    </tr>\n",
              "    <tr>\n",
              "      <th>2</th>\n",
              "      <td>3</td>\n",
              "      <td>4.31</td>\n",
              "      <td>2.57</td>\n",
              "      <td>2.019</td>\n",
              "      <td>High</td>\n",
              "      <td>Low</td>\n",
              "      <td>Low</td>\n",
              "    </tr>\n",
              "    <tr>\n",
              "      <th>3</th>\n",
              "      <td>4</td>\n",
              "      <td>3.53</td>\n",
              "      <td>2.63</td>\n",
              "      <td>3.040</td>\n",
              "      <td>Low</td>\n",
              "      <td>Low</td>\n",
              "      <td>High</td>\n",
              "    </tr>\n",
              "    <tr>\n",
              "      <th>4</th>\n",
              "      <td>5</td>\n",
              "      <td>3.56</td>\n",
              "      <td>2.69</td>\n",
              "      <td>2.880</td>\n",
              "      <td>Low</td>\n",
              "      <td>Low</td>\n",
              "      <td>High</td>\n",
              "    </tr>\n",
              "  </tbody>\n",
              "</table>\n",
              "</div>\n",
              "      <button class=\"colab-df-convert\" onclick=\"convertToInteractive('df-fc2f7a28-e586-4eb7-8035-ffd43bbd9e72')\"\n",
              "              title=\"Convert this dataframe to an interactive table.\"\n",
              "              style=\"display:none;\">\n",
              "        \n",
              "  <svg xmlns=\"http://www.w3.org/2000/svg\" height=\"24px\"viewBox=\"0 0 24 24\"\n",
              "       width=\"24px\">\n",
              "    <path d=\"M0 0h24v24H0V0z\" fill=\"none\"/>\n",
              "    <path d=\"M18.56 5.44l.94 2.06.94-2.06 2.06-.94-2.06-.94-.94-2.06-.94 2.06-2.06.94zm-11 1L8.5 8.5l.94-2.06 2.06-.94-2.06-.94L8.5 2.5l-.94 2.06-2.06.94zm10 10l.94 2.06.94-2.06 2.06-.94-2.06-.94-.94-2.06-.94 2.06-2.06.94z\"/><path d=\"M17.41 7.96l-1.37-1.37c-.4-.4-.92-.59-1.43-.59-.52 0-1.04.2-1.43.59L10.3 9.45l-7.72 7.72c-.78.78-.78 2.05 0 2.83L4 21.41c.39.39.9.59 1.41.59.51 0 1.02-.2 1.41-.59l7.78-7.78 2.81-2.81c.8-.78.8-2.07 0-2.86zM5.41 20L4 18.59l7.72-7.72 1.47 1.35L5.41 20z\"/>\n",
              "  </svg>\n",
              "      </button>\n",
              "      \n",
              "  <style>\n",
              "    .colab-df-container {\n",
              "      display:flex;\n",
              "      flex-wrap:wrap;\n",
              "      gap: 12px;\n",
              "    }\n",
              "\n",
              "    .colab-df-convert {\n",
              "      background-color: #E8F0FE;\n",
              "      border: none;\n",
              "      border-radius: 50%;\n",
              "      cursor: pointer;\n",
              "      display: none;\n",
              "      fill: #1967D2;\n",
              "      height: 32px;\n",
              "      padding: 0 0 0 0;\n",
              "      width: 32px;\n",
              "    }\n",
              "\n",
              "    .colab-df-convert:hover {\n",
              "      background-color: #E2EBFA;\n",
              "      box-shadow: 0px 1px 2px rgba(60, 64, 67, 0.3), 0px 1px 3px 1px rgba(60, 64, 67, 0.15);\n",
              "      fill: #174EA6;\n",
              "    }\n",
              "\n",
              "    [theme=dark] .colab-df-convert {\n",
              "      background-color: #3B4455;\n",
              "      fill: #D2E3FC;\n",
              "    }\n",
              "\n",
              "    [theme=dark] .colab-df-convert:hover {\n",
              "      background-color: #434B5C;\n",
              "      box-shadow: 0px 1px 3px 1px rgba(0, 0, 0, 0.15);\n",
              "      filter: drop-shadow(0px 1px 2px rgba(0, 0, 0, 0.3));\n",
              "      fill: #FFFFFF;\n",
              "    }\n",
              "  </style>\n",
              "\n",
              "      <script>\n",
              "        const buttonEl =\n",
              "          document.querySelector('#df-fc2f7a28-e586-4eb7-8035-ffd43bbd9e72 button.colab-df-convert');\n",
              "        buttonEl.style.display =\n",
              "          google.colab.kernel.accessAllowed ? 'block' : 'none';\n",
              "\n",
              "        async function convertToInteractive(key) {\n",
              "          const element = document.querySelector('#df-fc2f7a28-e586-4eb7-8035-ffd43bbd9e72');\n",
              "          const dataTable =\n",
              "            await google.colab.kernel.invokeFunction('convertToInteractive',\n",
              "                                                     [key], {});\n",
              "          if (!dataTable) return;\n",
              "\n",
              "          const docLinkHtml = 'Like what you see? Visit the ' +\n",
              "            '<a target=\"_blank\" href=https://colab.research.google.com/notebooks/data_table.ipynb>data table notebook</a>'\n",
              "            + ' to learn more about interactive tables.';\n",
              "          element.innerHTML = '';\n",
              "          dataTable['output_type'] = 'display_data';\n",
              "          await google.colab.output.renderOutput(dataTable, element);\n",
              "          const docLink = document.createElement('div');\n",
              "          docLink.innerHTML = docLinkHtml;\n",
              "          element.appendChild(docLink);\n",
              "        }\n",
              "      </script>\n",
              "    </div>\n",
              "  </div>\n",
              "  "
            ],
            "text/plain": [
              "   Id  Nitrogen  ...  Content of Phosphorous  Content of Potassium\n",
              "0   1      3.67  ...                     Low                  High\n",
              "1   2      3.99  ...                     Low                  High\n",
              "2   3      4.31  ...                     Low                   Low\n",
              "3   4      3.53  ...                     Low                  High\n",
              "4   5      3.56  ...                     Low                  High\n",
              "\n",
              "[5 rows x 7 columns]"
            ]
          },
          "metadata": {},
          "execution_count": 2
        }
      ]
    },
    {
      "cell_type": "code",
      "source": [
        "r,c = dataset.shape\n",
        "print(\"Number of rows = \",r)\n",
        "print(\"Number of columns = \",c)"
      ],
      "metadata": {
        "colab": {
          "base_uri": "https://localhost:8080/"
        },
        "id": "WXymlr5Rc0op",
        "outputId": "96494236-cac0-4ee8-8168-9dbe88a28978"
      },
      "execution_count": 3,
      "outputs": [
        {
          "output_type": "stream",
          "name": "stdout",
          "text": [
            "Number of rows =  150\n",
            "Number of columns =  7\n"
          ]
        }
      ]
    },
    {
      "cell_type": "code",
      "source": [
        "dataset.info()"
      ],
      "metadata": {
        "colab": {
          "base_uri": "https://localhost:8080/"
        },
        "id": "42XUJS7Dc84m",
        "outputId": "6e34bec0-2396-49ce-d691-6fee2813288f"
      },
      "execution_count": 4,
      "outputs": [
        {
          "output_type": "stream",
          "name": "stdout",
          "text": [
            "<class 'pandas.core.frame.DataFrame'>\n",
            "RangeIndex: 150 entries, 0 to 149\n",
            "Data columns (total 7 columns):\n",
            " #   Column                  Non-Null Count  Dtype  \n",
            "---  ------                  --------------  -----  \n",
            " 0   Id                      150 non-null    int64  \n",
            " 1   Nitrogen                150 non-null    float64\n",
            " 2   Phosphorous             150 non-null    float64\n",
            " 3   Potassium               150 non-null    float64\n",
            " 4   Content of Nitrogen     150 non-null    object \n",
            " 5   Content of Phosphorous  150 non-null    object \n",
            " 6   Content of Potassium    150 non-null    object \n",
            "dtypes: float64(3), int64(1), object(3)\n",
            "memory usage: 8.3+ KB\n"
          ]
        }
      ]
    },
    {
      "cell_type": "code",
      "source": [
        "Nitrogen=pd.DataFrame()\n",
        "Nitrogen['Value']=dataset['Nitrogen']\n",
        "Nitrogen['Label_Nitrogen']=LabelEncoder().fit_transform(dataset['Content of Nitrogen'])\n",
        "\n",
        "Phosphorous=pd.DataFrame()\n",
        "Phosphorous['Value']=dataset['Phosphorous']\n",
        "Phosphorous['Label_Phosphorous']=LabelEncoder().fit_transform(dataset['Content of Phosphorous'])\n",
        "\n",
        "Potassium=pd.DataFrame()\n",
        "Potassium['Value']=dataset['Potassium']\n",
        "Potassium['Label_Potassium']=LabelEncoder().fit_transform(dataset['Content of Potassium'])"
      ],
      "metadata": {
        "id": "9YWWqFYmc_sl"
      },
      "execution_count": 6,
      "outputs": []
    },
    {
      "cell_type": "code",
      "source": [
        "X = dataset.iloc[:,:-3].values\n",
        "y = Nitrogen.iloc[:,-1].values"
      ],
      "metadata": {
        "id": "dwvRUR8ddFjn"
      },
      "execution_count": 7,
      "outputs": []
    },
    {
      "cell_type": "code",
      "source": [
        "X_train,X_test,y_train,y_test = train_test_split(X,y,test_size=0.20,random_state=0)"
      ],
      "metadata": {
        "id": "b7dl9FfAdHf0"
      },
      "execution_count": 9,
      "outputs": []
    },
    {
      "cell_type": "code",
      "source": [
        "model = MultinomialNB()\n",
        "model.fit(X_train, y_train)"
      ],
      "metadata": {
        "colab": {
          "base_uri": "https://localhost:8080/"
        },
        "id": "6-R0LfVCdLty",
        "outputId": "50d0a7b8-b6b9-43ee-adf7-21e1054495b1"
      },
      "execution_count": 11,
      "outputs": [
        {
          "output_type": "execute_result",
          "data": {
            "text/plain": [
              "MultinomialNB()"
            ]
          },
          "metadata": {},
          "execution_count": 11
        }
      ]
    },
    {
      "cell_type": "code",
      "source": [
        "y_naive = model.predict(X_test)\n",
        "ac = accuracy_score(y_test, y_naive)\n",
        "cm = confusion_matrix(y_test, y_naive)\n",
        "print('Accuracy for Naive Bayes is: ',ac)"
      ],
      "metadata": {
        "colab": {
          "base_uri": "https://localhost:8080/"
        },
        "id": "IAez1BtadTMA",
        "outputId": "cef6b81f-4fb3-462e-c9d5-53b6280a78e3"
      },
      "execution_count": 13,
      "outputs": [
        {
          "output_type": "stream",
          "name": "stdout",
          "text": [
            "Accuracy for Naive Bayes is:  0.7\n"
          ]
        }
      ]
    },
    {
      "cell_type": "code",
      "source": [
        "rf = RandomForestClassifier(random_state=1)\n",
        "# Train the model on training data\n",
        "rf.fit(X_train, y_train)"
      ],
      "metadata": {
        "colab": {
          "base_uri": "https://localhost:8080/"
        },
        "id": "gCF5vM0gdbqU",
        "outputId": "836766f0-c73a-4c39-8f6e-4ebd04b6e9af"
      },
      "execution_count": 15,
      "outputs": [
        {
          "output_type": "execute_result",
          "data": {
            "text/plain": [
              "RandomForestClassifier(random_state=1)"
            ]
          },
          "metadata": {},
          "execution_count": 15
        }
      ]
    },
    {
      "cell_type": "code",
      "source": [
        "predictions = rf.predict(X_test)\n",
        "rf.score(X_test,predictions)"
      ],
      "metadata": {
        "colab": {
          "base_uri": "https://localhost:8080/"
        },
        "id": "wPIXNB9Pdh8i",
        "outputId": "a81a5195-cdce-4f30-ccbc-74afcbac87d3"
      },
      "execution_count": 16,
      "outputs": [
        {
          "output_type": "execute_result",
          "data": {
            "text/plain": [
              "1.0"
            ]
          },
          "metadata": {},
          "execution_count": 16
        }
      ]
    },
    {
      "cell_type": "code",
      "source": [
        "sc = StandardScaler()\n",
        "X_train_std = sc.fit_transform(X_train)\n",
        "X_test_std =sc.fit_transform(X_test)"
      ],
      "metadata": {
        "id": "nC4MA6_bdk8x"
      },
      "execution_count": 18,
      "outputs": []
    },
    {
      "cell_type": "code",
      "source": [
        "y_train_std=y_train\n",
        "classifier = DecisionTreeClassifier(criterion = 'entropy',random_state= 0)\n",
        "classifier.fit(X_train_std,y_train_std)"
      ],
      "metadata": {
        "colab": {
          "base_uri": "https://localhost:8080/"
        },
        "id": "8YY9TktWdqvf",
        "outputId": "0be36f20-ddab-4c81-8321-e85d5de6b54c"
      },
      "execution_count": 20,
      "outputs": [
        {
          "output_type": "execute_result",
          "data": {
            "text/plain": [
              "DecisionTreeClassifier(criterion='entropy', random_state=0)"
            ]
          },
          "metadata": {},
          "execution_count": 20
        }
      ]
    },
    {
      "cell_type": "code",
      "source": [
        "y_pred = classifier.predict(X_test_std)"
      ],
      "metadata": {
        "id": "ZQZDCZjmdxvB"
      },
      "execution_count": 21,
      "outputs": []
    },
    {
      "cell_type": "code",
      "source": [
        "cm = confusion_matrix(y_test, y_pred)\n",
        "print(\"Accuracy for Decision Tree:\",accuracy_score(y_test, y_pred))"
      ],
      "metadata": {
        "colab": {
          "base_uri": "https://localhost:8080/"
        },
        "id": "QYu4I4kpdzo6",
        "outputId": "fffe14e9-f06d-4f40-f971-795f6600bc82"
      },
      "execution_count": 23,
      "outputs": [
        {
          "output_type": "stream",
          "name": "stdout",
          "text": [
            "Accuracy for Decision Tree: 0.8\n"
          ]
        }
      ]
    },
    {
      "cell_type": "code",
      "source": [
        "text_representation = tree.export_text(classifier)\n",
        "print(text_representation)\n"
      ],
      "metadata": {
        "colab": {
          "base_uri": "https://localhost:8080/"
        },
        "id": "9fahw0xteBQw",
        "outputId": "12952aed-7bbb-4274-a333-ebd49f970440"
      },
      "execution_count": 24,
      "outputs": [
        {
          "output_type": "stream",
          "name": "stdout",
          "text": [
            "|--- feature_1 <= 0.36\n",
            "|   |--- feature_1 <= -0.63\n",
            "|   |   |--- feature_0 <= 1.07\n",
            "|   |   |   |--- class: 1\n",
            "|   |   |--- feature_0 >  1.07\n",
            "|   |   |   |--- class: 2\n",
            "|   |--- feature_1 >  -0.63\n",
            "|   |   |--- class: 2\n",
            "|--- feature_1 >  0.36\n",
            "|   |--- class: 0\n",
            "\n"
          ]
        }
      ]
    },
    {
      "cell_type": "code",
      "source": [
        "svm = SVC(kernel='rbf')\n",
        "svm.fit(X_train_std, y_train)\n",
        "svm_pred=svm.predict(X_test_std)"
      ],
      "metadata": {
        "id": "so0Xu85ReD9C"
      },
      "execution_count": 25,
      "outputs": []
    },
    {
      "cell_type": "code",
      "source": [
        "print('Accuracy for SVM is : {:.2f}'.format(svm.score(X_test_std, y_test)))"
      ],
      "metadata": {
        "colab": {
          "base_uri": "https://localhost:8080/"
        },
        "id": "Q_2ExzSZeGgs",
        "outputId": "dfc83e53-df92-4bd9-e776-b90f78388b67"
      },
      "execution_count": 26,
      "outputs": [
        {
          "output_type": "stream",
          "name": "stdout",
          "text": [
            "Accuracy for SVM is : 0.97\n"
          ]
        }
      ]
    },
    {
      "cell_type": "code",
      "source": [
        "print(\"Decision Tree:\")\n",
        "print(classification_report(y_test,y_pred))\n",
        "print(\"Naive Bayes:\")\n",
        "print(classification_report(y_test,y_naive))\n",
        "print(\"Random Forest:\")\n",
        "print(classification_report(y_test, predictions))\n",
        "print(\"Support Vector Machine:\")\n",
        "print(classification_report(y_test, svm_pred))"
      ],
      "metadata": {
        "colab": {
          "base_uri": "https://localhost:8080/"
        },
        "id": "q5iWNJOgeIl9",
        "outputId": "6cbe37a3-ddf2-4ecc-fd83-9808b8dc60bc"
      },
      "execution_count": 28,
      "outputs": [
        {
          "output_type": "stream",
          "name": "stdout",
          "text": [
            "Decision Tree:\n",
            "              precision    recall  f1-score   support\n",
            "\n",
            "           0       0.45      1.00      0.62         5\n",
            "           1       1.00      1.00      1.00         4\n",
            "           2       1.00      0.71      0.83        21\n",
            "\n",
            "    accuracy                           0.80        30\n",
            "   macro avg       0.82      0.90      0.82        30\n",
            "weighted avg       0.91      0.80      0.82        30\n",
            "\n",
            "Naive Bayes:\n",
            "              precision    recall  f1-score   support\n",
            "\n",
            "           0       0.80      0.80      0.80         5\n",
            "           1       0.17      0.25      0.20         4\n",
            "           2       0.84      0.76      0.80        21\n",
            "\n",
            "    accuracy                           0.70        30\n",
            "   macro avg       0.60      0.60      0.60        30\n",
            "weighted avg       0.75      0.70      0.72        30\n",
            "\n",
            "Random Forest:\n",
            "              precision    recall  f1-score   support\n",
            "\n",
            "           0       1.00      1.00      1.00         5\n",
            "           1       1.00      1.00      1.00         4\n",
            "           2       1.00      1.00      1.00        21\n",
            "\n",
            "    accuracy                           1.00        30\n",
            "   macro avg       1.00      1.00      1.00        30\n",
            "weighted avg       1.00      1.00      1.00        30\n",
            "\n",
            "Support Vector Machine:\n",
            "              precision    recall  f1-score   support\n",
            "\n",
            "           0       1.00      1.00      1.00         5\n",
            "           1       0.80      1.00      0.89         4\n",
            "           2       1.00      0.95      0.98        21\n",
            "\n",
            "    accuracy                           0.97        30\n",
            "   macro avg       0.93      0.98      0.95        30\n",
            "weighted avg       0.97      0.97      0.97        30\n",
            "\n"
          ]
        }
      ]
    },
    {
      "cell_type": "code",
      "source": [
        ""
      ],
      "metadata": {
        "id": "bj2a9RCueQwe"
      },
      "execution_count": null,
      "outputs": []
    }
  ]
}