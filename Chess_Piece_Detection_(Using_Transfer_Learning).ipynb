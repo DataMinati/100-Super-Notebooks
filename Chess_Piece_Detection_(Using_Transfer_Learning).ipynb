{
  "cells": [
    {
      "cell_type": "markdown",
      "metadata": {
        "id": "view-in-github",
        "colab_type": "text"
      },
      "source": [
        "<a href=\"https://colab.research.google.com/github/DataMinati/Super-Notebooks-100/blob/main/Chess_Piece_Detection_(Using_Transfer_Learning).ipynb\" target=\"_parent\"><img src=\"https://colab.research.google.com/assets/colab-badge.svg\" alt=\"Open In Colab\"/></a>"
      ]
    },
    {
      "cell_type": "markdown",
      "id": "d058b04c",
      "metadata": {
        "papermill": {
          "duration": 0.013083,
          "end_time": "2022-01-27T01:30:49.802051",
          "exception": false,
          "start_time": "2022-01-27T01:30:49.788968",
          "status": "completed"
        },
        "tags": [],
        "id": "d058b04c"
      },
      "source": [
        "# Import Necessary Libraries"
      ]
    },
    {
      "cell_type": "markdown",
      "source": [
        "### Data Source : https://www.kaggle.com/taranmarley/squeezenet-transfer-learning/data"
      ],
      "metadata": {
        "id": "XlcMWZfePULd"
      },
      "id": "XlcMWZfePULd"
    },
    {
      "cell_type": "code",
      "execution_count": null,
      "id": "882fb8b1",
      "metadata": {
        "execution": {
          "iopub.execute_input": "2022-01-27T01:30:49.831079Z",
          "iopub.status.busy": "2022-01-27T01:30:49.829944Z",
          "iopub.status.idle": "2022-01-27T01:30:51.070480Z",
          "shell.execute_reply": "2022-01-27T01:30:51.069587Z",
          "shell.execute_reply.started": "2022-01-26T16:37:21.173217Z"
        },
        "papermill": {
          "duration": 1.256542,
          "end_time": "2022-01-27T01:30:51.070677",
          "exception": false,
          "start_time": "2022-01-27T01:30:49.814135",
          "status": "completed"
        },
        "tags": [],
        "id": "882fb8b1"
      },
      "outputs": [],
      "source": [
        "import numpy as np\n",
        "import pandas as pd \n",
        "import torch\n",
        "from torch import optim\n",
        "import torch.nn as nn\n",
        "from PIL import Image\n",
        "import os"
      ]
    },
    {
      "cell_type": "markdown",
      "id": "4edc53c9",
      "metadata": {
        "papermill": {
          "duration": 0.01053,
          "end_time": "2022-01-27T01:30:51.092227",
          "exception": false,
          "start_time": "2022-01-27T01:30:51.081697",
          "status": "completed"
        },
        "tags": [],
        "id": "4edc53c9"
      },
      "source": [
        "# Create dataframe with class ids and filenames"
      ]
    },
    {
      "cell_type": "code",
      "execution_count": null,
      "id": "2920d119",
      "metadata": {
        "execution": {
          "iopub.execute_input": "2022-01-27T01:30:51.121280Z",
          "iopub.status.busy": "2022-01-27T01:30:51.120470Z",
          "iopub.status.idle": "2022-01-27T01:30:51.435606Z",
          "shell.execute_reply": "2022-01-27T01:30:51.436117Z",
          "shell.execute_reply.started": "2022-01-26T16:37:22.620745Z"
        },
        "papermill": {
          "duration": 0.333228,
          "end_time": "2022-01-27T01:30:51.436297",
          "exception": false,
          "start_time": "2022-01-27T01:30:51.103069",
          "status": "completed"
        },
        "tags": [],
        "id": "2920d119",
        "outputId": "9b394883-efcd-4021-b6ce-4ef8c768c175"
      },
      "outputs": [
        {
          "name": "stdout",
          "output_type": "stream",
          "text": [
            "                                             fileloc      filename  \\\n",
            "0  ../input/chess-pieces-detection-images-dataset...  00000030.jpg   \n",
            "1  ../input/chess-pieces-detection-images-dataset...  00000042.jpg   \n",
            "2  ../input/chess-pieces-detection-images-dataset...  00000027.jpg   \n",
            "3  ../input/chess-pieces-detection-images-dataset...  00000127.jpg   \n",
            "4  ../input/chess-pieces-detection-images-dataset...  00000113.jpg   \n",
            "\n",
            "        classid  int_class_id  \n",
            "0  KnightImages             0  \n",
            "1  KnightImages             0  \n",
            "2  KnightImages             0  \n",
            "3  KnightImages             0  \n",
            "4  KnightImages             0  \n"
          ]
        }
      ],
      "source": [
        "class_ids = [\"KnightImages\", \"PawnImages\", \"Queenimages\", \"RookImage\", \"bishopImages\"]\n",
        "\n",
        "y = []\n",
        "X = []\n",
        "filenames = []\n",
        "for class_id in class_ids:\n",
        "    for file in os.listdir(os.path.join(\"../input/chess-pieces-detection-images-dataset\", class_id)):\n",
        "        X.append(os.path.join(\"../input/chess-pieces-detection-images-dataset\", class_id, file))\n",
        "        y.append(class_id)\n",
        "        filenames.append(file)\n",
        "        \n",
        "df = pd.DataFrame(list(zip(X, filenames, y)), columns =['fileloc', 'filename', 'classid'])\n",
        "df[\"int_class_id\"] = df[\"classid\"].astype(\"category\").cat.codes\n",
        "print(df.head())"
      ]
    },
    {
      "cell_type": "markdown",
      "id": "5e715d56",
      "metadata": {
        "papermill": {
          "duration": 0.010668,
          "end_time": "2022-01-27T01:30:51.458336",
          "exception": false,
          "start_time": "2022-01-27T01:30:51.447668",
          "status": "completed"
        },
        "tags": [],
        "id": "5e715d56"
      },
      "source": [
        "# Create the Custom Dataset Class\n",
        "\n",
        "We need this to be able to load the image and label into the model we will create. So we will create a custom dataset to handle this"
      ]
    },
    {
      "cell_type": "code",
      "execution_count": null,
      "id": "8f45187a",
      "metadata": {
        "execution": {
          "iopub.execute_input": "2022-01-27T01:30:51.486849Z",
          "iopub.status.busy": "2022-01-27T01:30:51.485907Z",
          "iopub.status.idle": "2022-01-27T01:30:51.493328Z",
          "shell.execute_reply": "2022-01-27T01:30:51.493734Z",
          "shell.execute_reply.started": "2022-01-26T16:37:22.742794Z"
        },
        "papermill": {
          "duration": 0.021958,
          "end_time": "2022-01-27T01:30:51.493939",
          "exception": false,
          "start_time": "2022-01-27T01:30:51.471981",
          "status": "completed"
        },
        "tags": [],
        "id": "8f45187a"
      },
      "outputs": [],
      "source": [
        "from torch.utils.data import Dataset\n",
        "\n",
        "class CustomDataset(Dataset):\n",
        "  def __init__(self, X, y, BatchSize, transform):\n",
        "    super().__init__()\n",
        "    self.BatchSize = BatchSize\n",
        "    self.y = y\n",
        "    self.X = X\n",
        "    self.transform = transform\n",
        "    \n",
        "  def num_of_batches(self):\n",
        "    \"\"\"\n",
        "    Detect the total number of batches\n",
        "    \"\"\"\n",
        "    return math.floor(len(self.list_IDs) / self.BatchSize)\n",
        "\n",
        "  def __getitem__(self,idx):\n",
        "    class_id = self.y[idx]\n",
        "    img = Image.open(self.X[idx])\n",
        "    img = img.convert(\"RGBA\").convert(\"RGB\")\n",
        "    img = self.transform(img)\n",
        "    return img, torch.tensor(int(class_id))\n",
        "\n",
        "  def __len__(self):\n",
        "    return len(self.X)"
      ]
    },
    {
      "cell_type": "markdown",
      "id": "3468d8e2",
      "metadata": {
        "papermill": {
          "duration": 0.010588,
          "end_time": "2022-01-27T01:30:51.515321",
          "exception": false,
          "start_time": "2022-01-27T01:30:51.504733",
          "status": "completed"
        },
        "tags": [],
        "id": "3468d8e2"
      },
      "source": [
        "# Instantiate the Datasets\n",
        "\n",
        "We will form them into torch dataloaders to make the data easier to work with. We are also going to put in a minor amount of image augmentation in the train dataset."
      ]
    },
    {
      "cell_type": "code",
      "execution_count": null,
      "id": "4897e2b9",
      "metadata": {
        "execution": {
          "iopub.execute_input": "2022-01-27T01:30:51.541033Z",
          "iopub.status.busy": "2022-01-27T01:30:51.540085Z",
          "iopub.status.idle": "2022-01-27T01:30:52.767171Z",
          "shell.execute_reply": "2022-01-27T01:30:52.767656Z",
          "shell.execute_reply.started": "2022-01-26T16:37:22.760104Z"
        },
        "papermill": {
          "duration": 1.241639,
          "end_time": "2022-01-27T01:30:52.767842",
          "exception": false,
          "start_time": "2022-01-27T01:30:51.526203",
          "status": "completed"
        },
        "tags": [],
        "id": "4897e2b9"
      },
      "outputs": [],
      "source": [
        "from sklearn.model_selection import train_test_split\n",
        "from torch.utils.data import DataLoader\n",
        "from torchvision import transforms\n",
        "\n",
        "# Shuffle dataframe\n",
        "df = df.sample(frac=1)\n",
        "\n",
        "X = df.iloc[:,0]\n",
        "y = df.iloc[:,3]\n",
        "\n",
        "transform = transforms.Compose([\n",
        "                transforms.Resize([256,256]),\n",
        "                transforms.RandomRotation(20, fill=256),\n",
        "                transforms.ColorJitter(brightness=0.1, contrast=0.1, saturation=0.05, hue=0.05),\n",
        "                transforms.ToTensor(),\n",
        "                transforms.RandomAffine(degrees=0, translate=(0.025, 0.025), fill=256),\n",
        "                transforms.Normalize([0.5], [0.5])\n",
        "            ])\n",
        "\n",
        "test_transform = transforms.Compose([\n",
        "                transforms.Resize([256,256]),\n",
        "                transforms.ToTensor(),\n",
        "                transforms.Normalize((0.5,), (0.5,)),\n",
        "            ])\n",
        "\n",
        "train_ratio = 0.90\n",
        "validation_ratio = 0.05\n",
        "test_ratio = 0.05\n",
        "\n",
        "X_train, X_test, y_train, y_test = train_test_split(X, y, test_size=1 - train_ratio, stratify = y, random_state = 0)\n",
        "X_val, X_test, y_val, y_test = train_test_split(X_test, y_test, test_size=test_ratio/(test_ratio + validation_ratio), random_state = 0)\n",
        "\n",
        "dataset_stages = ['train', 'val', 'test']\n",
        "\n",
        "batch_size = 32\n",
        "image_datasets = {'train' : CustomDataset(X_train.values, y_train.values, batch_size, transform), 'val' : CustomDataset(X_val.values, y_val.values, batch_size, test_transform), 'test' : CustomDataset(X_test.values, y_test.values, batch_size, test_transform)}\n",
        "dataloaders = {x: DataLoader(image_datasets[x], batch_size=image_datasets[x].BatchSize,\n",
        "                                            shuffle=True, num_workers=0)\n",
        "            for x in dataset_stages}\n",
        "\n",
        "dataset_sizes = {x: len(image_datasets[x]) for x in ['train', 'val', 'test']}"
      ]
    },
    {
      "cell_type": "markdown",
      "id": "4d1b3b44",
      "metadata": {
        "papermill": {
          "duration": 0.010539,
          "end_time": "2022-01-27T01:30:52.792071",
          "exception": false,
          "start_time": "2022-01-27T01:30:52.781532",
          "status": "completed"
        },
        "tags": [],
        "id": "4d1b3b44"
      },
      "source": [
        "# Test image from dataset"
      ]
    },
    {
      "cell_type": "code",
      "execution_count": null,
      "id": "797a9b2a",
      "metadata": {
        "execution": {
          "iopub.execute_input": "2022-01-27T01:30:52.818955Z",
          "iopub.status.busy": "2022-01-27T01:30:52.818305Z",
          "iopub.status.idle": "2022-01-27T01:30:53.004010Z",
          "shell.execute_reply": "2022-01-27T01:30:53.004569Z",
          "shell.execute_reply.started": "2022-01-26T16:37:23.781999Z"
        },
        "papermill": {
          "duration": 0.201704,
          "end_time": "2022-01-27T01:30:53.004769",
          "exception": false,
          "start_time": "2022-01-27T01:30:52.803065",
          "status": "completed"
        },
        "tags": [],
        "id": "797a9b2a",
        "outputId": "340987ee-f86f-4fe0-8589-c7996cf7d624"
      },
      "outputs": [
        {
          "data": {
            "image/png": "[encoded data removed]",
            "text/plain": [
              "<PIL.Image.Image image mode=RGB size=256x256 at 0x7F8A887EFCD0>"
            ]
          },
          "metadata": {},
          "output_type": "display_data"
        }
      ],
      "source": [
        "nparray = image_datasets['train'][2][0].cpu().numpy() \n",
        "image = transforms.ToPILImage()(image_datasets['train'][2][0].cpu()).convert(\"RGB\")\n",
        "display(image)"
      ]
    },
    {
      "cell_type": "code",
      "execution_count": null,
      "id": "6ed26a71",
      "metadata": {
        "execution": {
          "iopub.execute_input": "2022-01-27T01:30:53.034142Z",
          "iopub.status.busy": "2022-01-27T01:30:53.033171Z",
          "iopub.status.idle": "2022-01-27T01:30:53.038266Z",
          "shell.execute_reply": "2022-01-27T01:30:53.038813Z",
          "shell.execute_reply.started": "2022-01-26T16:37:23.960492Z"
        },
        "papermill": {
          "duration": 0.021303,
          "end_time": "2022-01-27T01:30:53.038977",
          "exception": false,
          "start_time": "2022-01-27T01:30:53.017674",
          "status": "completed"
        },
        "tags": [],
        "id": "6ed26a71",
        "outputId": "77f9a081-5c24-459d-bdae-eaf28fc51546"
      },
      "outputs": [
        {
          "data": {
            "text/plain": [
              "' for i in range(0,10000):\\n    print(i)\\n    nparray = image_datasets[\\'train\\'][i][0].cpu().numpy() \\n    image = transforms.ToPILImage()(image_datasets[\\'train\\'][i][0].cpu()).convert(\"RGB\")\\n'"
            ]
          },
          "execution_count": 6,
          "metadata": {},
          "output_type": "execute_result"
        }
      ],
      "source": [
        "\"\"\" for i in range(0,10000):\n",
        "    print(i)\n",
        "    nparray = image_datasets['train'][i][0].cpu().numpy() \n",
        "    image = transforms.ToPILImage()(image_datasets['train'][i][0].cpu()).convert(\"RGB\")\n",
        "\"\"\""
      ]
    },
    {
      "cell_type": "markdown",
      "id": "4f972d32",
      "metadata": {
        "papermill": {
          "duration": 0.013216,
          "end_time": "2022-01-27T01:30:53.065080",
          "exception": false,
          "start_time": "2022-01-27T01:30:53.051864",
          "status": "completed"
        },
        "tags": [],
        "id": "4f972d32"
      },
      "source": [
        "# Create a Training Function"
      ]
    },
    {
      "cell_type": "code",
      "execution_count": null,
      "id": "7672e347",
      "metadata": {
        "execution": {
          "iopub.execute_input": "2022-01-27T01:30:53.105499Z",
          "iopub.status.busy": "2022-01-27T01:30:53.104534Z",
          "iopub.status.idle": "2022-01-27T01:30:53.107520Z",
          "shell.execute_reply": "2022-01-27T01:30:53.106924Z",
          "shell.execute_reply.started": "2022-01-26T16:37:23.969382Z"
        },
        "papermill": {
          "duration": 0.029565,
          "end_time": "2022-01-27T01:30:53.107655",
          "exception": false,
          "start_time": "2022-01-27T01:30:53.078090",
          "status": "completed"
        },
        "tags": [],
        "id": "7672e347"
      },
      "outputs": [],
      "source": [
        "import time\n",
        "\n",
        "device = torch.device(\"cuda:0\" if torch.cuda.is_available() else \"cpu\")\n",
        "\n",
        "def train_model(model, criterion, optimizer, scheduler, num_epochs=10):\n",
        "    since = time.time()\n",
        "    best_acc = 0.0\n",
        "\n",
        "    for epoch in range(num_epochs):\n",
        "        print('Epoch {}/{}'.format(epoch, num_epochs - 1))\n",
        "        print('-' * 10)\n",
        "        # Each epoch has a training and validation phase\n",
        "        for phase in ['train', 'val']:\n",
        "            if phase == 'train':\n",
        "                model.train()  # Set model to training mode\n",
        "            else:\n",
        "                model.eval()   # Set model to evaluate mode\n",
        "\n",
        "            running_loss = 0.0\n",
        "            running_corrects = 0\n",
        "            num_batches = 0\n",
        "            outputs = None\n",
        "            # Iterate over data.\n",
        "            for inputs, labels in dataloaders[phase]:\n",
        "                # Loading Bar\n",
        "                if (phase == 'train'):\n",
        "                    num_batches += 1\n",
        "                    percentage_complete = ((num_batches * batch_size) / (dataset_sizes[phase])) * 100\n",
        "                    percentage_complete = np.clip(percentage_complete, 0, 100)\n",
        "                    print(\"{:0.2f}\".format(percentage_complete), \"% complete\", end=\"\\r\")\n",
        "\n",
        "                inputs = inputs.to(device)\n",
        "                labels = labels.to(device)\n",
        "\n",
        "                # zero the parameter gradients\n",
        "                optimizer.zero_grad()\n",
        "                \n",
        "                # forward\n",
        "                # track history if only in train\n",
        "                with torch.set_grad_enabled(phase == 'train'):\n",
        "                    outputs = model(inputs)\n",
        "                    loss = criterion(outputs.float(), labels)\n",
        "\n",
        "                    # backward + optimize only if in training phase\n",
        "                    if phase == 'train':\n",
        "                        loss.backward()\n",
        "                        # TODO: try removal\n",
        "                        torch.nn.utils.clip_grad_norm_(model.parameters(), 1)\n",
        "                        optimizer.step()\n",
        "\n",
        "                # statistics\n",
        "                running_loss += loss.item() * inputs.size(0)\n",
        "                \n",
        "                predicted = torch.max(outputs.data, 1)[1] \n",
        "                running_correct = (predicted == labels).sum()\n",
        "                running_corrects += running_correct\n",
        "            if phase == 'train':\n",
        "                scheduler.step()\n",
        "\n",
        "            epoch_loss = running_loss / dataset_sizes[phase]\n",
        "            \n",
        "            epoch_acc = running_corrects / dataset_sizes[phase]\n",
        "            #epoch_acc = sum(epoch_acc) / len(epoch_acc)\n",
        "\n",
        "            print('{} Loss: {:.4f} Acc: {:.4f}'.format(\n",
        "                phase, epoch_loss, epoch_acc.item()))\n",
        "\n",
        "    time_elapsed = time.time() - since\n",
        "    print('Training complete in {:.0f}m {:.0f}s'.format(\n",
        "        time_elapsed // 60, time_elapsed % 60))\n",
        "    return model"
      ]
    },
    {
      "cell_type": "markdown",
      "id": "5179b72a",
      "metadata": {
        "papermill": {
          "duration": 0.012702,
          "end_time": "2022-01-27T01:30:53.133546",
          "exception": false,
          "start_time": "2022-01-27T01:30:53.120844",
          "status": "completed"
        },
        "tags": [],
        "id": "5179b72a"
      },
      "source": [
        "# Load up EfficientNet"
      ]
    },
    {
      "cell_type": "code",
      "execution_count": null,
      "id": "4c43933a",
      "metadata": {
        "execution": {
          "iopub.execute_input": "2022-01-27T01:30:53.164429Z",
          "iopub.status.busy": "2022-01-27T01:30:53.163819Z",
          "iopub.status.idle": "2022-01-27T01:30:53.165337Z",
          "shell.execute_reply": "2022-01-27T01:30:53.165729Z",
          "shell.execute_reply.started": "2022-01-26T16:37:24.028499Z"
        },
        "papermill": {
          "duration": 0.018964,
          "end_time": "2022-01-27T01:30:53.165920",
          "exception": false,
          "start_time": "2022-01-27T01:30:53.146956",
          "status": "completed"
        },
        "tags": [],
        "id": "4c43933a"
      },
      "outputs": [],
      "source": [
        "from torchvision import models\n",
        "from torch.optim import lr_scheduler"
      ]
    },
    {
      "cell_type": "code",
      "execution_count": null,
      "id": "6ed89b61",
      "metadata": {
        "execution": {
          "iopub.execute_input": "2022-01-27T01:30:53.199332Z",
          "iopub.status.busy": "2022-01-27T01:30:53.198315Z",
          "iopub.status.idle": "2022-01-27T01:30:54.764284Z",
          "shell.execute_reply": "2022-01-27T01:30:54.764817Z",
          "shell.execute_reply.started": "2022-01-26T16:37:24.040898Z"
        },
        "papermill": {
          "duration": 1.585791,
          "end_time": "2022-01-27T01:30:54.764990",
          "exception": false,
          "start_time": "2022-01-27T01:30:53.179199",
          "status": "completed"
        },
        "tags": [],
        "colab": {
          "referenced_widgets": [
            "f38627409f784822be0336b1a52bc75e"
          ]
        },
        "id": "6ed89b61",
        "outputId": "08dcedd6-00b0-4b5b-be91-ec350e862a56"
      },
      "outputs": [
        {
          "name": "stderr",
          "output_type": "stream",
          "text": [
            "Downloading: \"https://download.pytorch.org/models/squeezenet1_1-b8a52dc0.pth\" to /root/.cache/torch/hub/checkpoints/squeezenet1_1-b8a52dc0.pth\n"
          ]
        },
        {
          "data": {
            "application/vnd.jupyter.widget-view+json": {
              "model_id": "f38627409f784822be0336b1a52bc75e",
              "version_major": 2,
              "version_minor": 0
            },
            "text/plain": [
              "  0%|          | 0.00/4.73M [00:00<?, ?B/s]"
            ]
          },
          "metadata": {},
          "output_type": "display_data"
        }
      ],
      "source": [
        "\n",
        "model_ft = models.squeezenet1_1(pretrained=True)\n",
        "model_ft.classifier._modules[\"1\"] = nn.Conv2d(512, 5, kernel_size=(1, 1))\n",
        "model_ft.num_classes = 5\n",
        "for param in model_ft.parameters():\n",
        "    param.requires_grad = False\n",
        "for param in model_ft.classifier.parameters():\n",
        "    param.requires_grad = True"
      ]
    },
    {
      "cell_type": "code",
      "execution_count": null,
      "id": "8471b9f7",
      "metadata": {
        "execution": {
          "iopub.execute_input": "2022-01-27T01:30:54.796501Z",
          "iopub.status.busy": "2022-01-27T01:30:54.795527Z",
          "iopub.status.idle": "2022-01-27T01:42:30.231972Z",
          "shell.execute_reply": "2022-01-27T01:42:30.232444Z",
          "shell.execute_reply.started": "2022-01-26T16:37:24.324049Z"
        },
        "papermill": {
          "duration": 695.454013,
          "end_time": "2022-01-27T01:42:30.232858",
          "exception": false,
          "start_time": "2022-01-27T01:30:54.778845",
          "status": "completed"
        },
        "tags": [],
        "id": "8471b9f7",
        "outputId": "2582a39f-e757-47d8-ea43-d133e621dd07"
      },
      "outputs": [
        {
          "name": "stdout",
          "output_type": "stream",
          "text": [
            "Epoch 0/19\n",
            "----------\n",
            "train Loss: 41.5943 Acc: 0.1931\n",
            "val Loss: 1.5862 Acc: 0.2647\n",
            "Epoch 1/19\n",
            "----------\n",
            "train Loss: 2.7518 Acc: 0.2162\n",
            "val Loss: 1.5049 Acc: 0.3529\n",
            "Epoch 2/19\n",
            "----------\n",
            "train Loss: 1.5611 Acc: 0.2690\n",
            "val Loss: 1.6659 Acc: 0.3235\n",
            "Epoch 3/19\n",
            "----------\n",
            "train Loss: 1.5326 Acc: 0.3036\n",
            "val Loss: 1.4445 Acc: 0.4412\n",
            "Epoch 4/19\n",
            "----------\n",
            "train Loss: 1.4503 Acc: 0.3498\n",
            "val Loss: 1.3500 Acc: 0.4706\n",
            "Epoch 5/19\n",
            "----------\n",
            "train Loss: 1.3804 Acc: 0.3960\n",
            "val Loss: 1.3192 Acc: 0.5294\n",
            "Epoch 6/19\n",
            "----------\n",
            "train Loss: 1.3482 Acc: 0.4373\n",
            "val Loss: 1.0904 Acc: 0.6765\n",
            "Epoch 7/19\n",
            "----------\n",
            "train Loss: 1.2335 Acc: 0.4818\n",
            "val Loss: 1.0232 Acc: 0.7941\n",
            "Epoch 8/19\n",
            "----------\n",
            "train Loss: 1.2148 Acc: 0.5017\n",
            "val Loss: 0.9298 Acc: 0.7647\n",
            "Epoch 9/19\n",
            "----------\n",
            "train Loss: 1.1897 Acc: 0.5281\n",
            "val Loss: 0.8764 Acc: 0.7647\n",
            "Epoch 10/19\n",
            "----------\n",
            "train Loss: 1.1884 Acc: 0.5050\n",
            "val Loss: 0.8663 Acc: 0.7647\n",
            "Epoch 11/19\n",
            "----------\n",
            "train Loss: 1.1708 Acc: 0.5462\n",
            "val Loss: 0.8612 Acc: 0.7941\n",
            "Epoch 12/19\n",
            "----------\n",
            "train Loss: 1.1487 Acc: 0.5479\n",
            "val Loss: 0.8150 Acc: 0.7059\n",
            "Epoch 13/19\n",
            "----------\n",
            "train Loss: 1.1243 Acc: 0.5644\n",
            "val Loss: 0.7851 Acc: 0.7647\n",
            "Epoch 14/19\n",
            "----------\n",
            "train Loss: 1.0157 Acc: 0.6403\n",
            "val Loss: 0.7835 Acc: 0.7647\n",
            "Epoch 15/19\n",
            "----------\n",
            "train Loss: 1.0827 Acc: 0.5759\n",
            "val Loss: 0.7828 Acc: 0.7353\n",
            "Epoch 16/19\n",
            "----------\n",
            "train Loss: 1.0959 Acc: 0.6007\n",
            "val Loss: 0.7834 Acc: 0.7353\n",
            "Epoch 17/19\n",
            "----------\n",
            "train Loss: 1.1042 Acc: 0.5842\n",
            "val Loss: 0.7848 Acc: 0.7353\n",
            "Epoch 18/19\n",
            "----------\n",
            "train Loss: 1.0936 Acc: 0.5677\n",
            "val Loss: 0.7829 Acc: 0.7353\n",
            "Epoch 19/19\n",
            "----------\n",
            "train Loss: 1.0533 Acc: 0.5941\n",
            "val Loss: 0.7862 Acc: 0.7353\n",
            "Training complete in 11m 35s\n"
          ]
        }
      ],
      "source": [
        "criterion = nn.CrossEntropyLoss()\n",
        "\n",
        "optimizer_ft = optim.Adam(model_ft.parameters(), lr=0.01)\n",
        "\n",
        "exp_lr_scheduler = lr_scheduler.StepLR(optimizer_ft, step_size=7, gamma=0.1)\n",
        "\n",
        "model_ft = train_model(model_ft.to(device), criterion, optimizer_ft, exp_lr_scheduler, 20)"
      ]
    },
    {
      "cell_type": "markdown",
      "id": "50496c9d",
      "metadata": {
        "papermill": {
          "duration": 0.106801,
          "end_time": "2022-01-27T01:42:30.449810",
          "exception": false,
          "start_time": "2022-01-27T01:42:30.343009",
          "status": "completed"
        },
        "tags": [],
        "id": "50496c9d"
      },
      "source": [
        "# Run on Test Set"
      ]
    },
    {
      "cell_type": "code",
      "execution_count": null,
      "id": "6c76ac52",
      "metadata": {
        "execution": {
          "iopub.execute_input": "2022-01-27T01:42:30.675885Z",
          "iopub.status.busy": "2022-01-27T01:42:30.675253Z",
          "iopub.status.idle": "2022-01-27T01:42:32.295084Z",
          "shell.execute_reply": "2022-01-27T01:42:32.294536Z",
          "shell.execute_reply.started": "2022-01-26T16:43:23.954886Z"
        },
        "papermill": {
          "duration": 1.736126,
          "end_time": "2022-01-27T01:42:32.295249",
          "exception": false,
          "start_time": "2022-01-27T01:42:30.559123",
          "status": "completed"
        },
        "tags": [],
        "id": "6c76ac52",
        "outputId": "007d31cb-75eb-4718-d458-19bc7d4a7d56"
      },
      "outputs": [
        {
          "name": "stdout",
          "output_type": "stream",
          "text": [
            "Accuracy: 0.529411792755127\n"
          ]
        }
      ],
      "source": [
        "from sklearn.metrics import accuracy_score \n",
        "\n",
        "accuracy_scores = []\n",
        "\n",
        "running_corrects = 0\n",
        "outputs = None\n",
        "for inputs, labels in dataloaders['test']:\n",
        "    model_ft.eval()\n",
        "    \n",
        "    inputs = inputs.to(device)\n",
        "    labels = labels.to(device)\n",
        "\n",
        "    outputs = model_ft(inputs)\n",
        "    \n",
        "    predicted = torch.max(outputs.data, 1)[1] \n",
        "    running_correct = (predicted == labels).sum()\n",
        "    running_corrects += running_correct\n",
        "\n",
        "accuracy = running_corrects / dataset_sizes['test']\n",
        "print(\"Accuracy: \" + str(accuracy.item()))"
      ]
    }
  ],
  "metadata": {
    "kernelspec": {
      "display_name": "Python 3",
      "language": "python",
      "name": "python3"
    },
    "language_info": {
      "codemirror_mode": {
        "name": "ipython",
        "version": 3
      },
      "file_extension": ".py",
      "mimetype": "text/x-python",
      "name": "python",
      "nbconvert_exporter": "python",
      "pygments_lexer": "ipython3",
      "version": "3.7.12"
    },
    "papermill": {
      "default_parameters": {},
      "duration": 712.424434,
      "end_time": "2022-01-27T01:42:33.316892",
      "environment_variables": {},
      "exception": null,
      "input_path": "__notebook__.ipynb",
      "output_path": "__notebook__.ipynb",
      "parameters": {},
      "start_time": "2022-01-27T01:30:40.892458",
      "version": "2.3.3"
    },
    "widgets": {
      "application/vnd.jupyter.widget-state+json": {}
    },
    "colab": {
      "name": "Chess Piece Detection (Using Transfer Learning)",
      "provenance": [],
      "include_colab_link": true
    }
  },
  "nbformat": 4,
  "nbformat_minor": 5
}