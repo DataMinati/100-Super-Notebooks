{
  "nbformat": 4,
  "nbformat_minor": 0,
  "metadata": {
    "colab": {
      "name": "Laptop EDA and Price Prediction.ipynb",
      "provenance": [],
      "authorship_tag": "ABX9TyOjnDNgL9yQwWIo6kMi7go5",
      "include_colab_link": true
    },
    "kernelspec": {
      "name": "python3",
      "display_name": "Python 3"
    },
    "language_info": {
      "name": "python"
    }
  },
  "cells": [
    {
      "cell_type": "markdown",
      "metadata": {
        "id": "view-in-github",
        "colab_type": "text"
      },
      "source": [
        "<a href=\"https://colab.research.google.com/github/DataMinati/Super-Notebooks-1K/blob/main/Laptop_EDA_and_Price_Prediction.ipynb\" target=\"_parent\"><img src=\"https://colab.research.google.com/assets/colab-badge.svg\" alt=\"Open In Colab\"/></a>"
      ]
    },
    {
      "cell_type": "code",
      "metadata": {
        "id": "nEBf1mp3nSj1"
      },
      "source": [
        "import pandas as pd\n",
        "import numpy as np\n",
        "import matplotlib.pyplot as plt\n",
        "import seaborn as sns\n",
        "sns.set(style='darkgrid')"
      ],
      "execution_count": 1,
      "outputs": []
    },
    {
      "cell_type": "code",
      "metadata": {
        "colab": {
          "base_uri": "https://localhost:8080/",
          "height": 537
        },
        "id": "LkCobI9GnvDz",
        "outputId": "b7c4a05b-1911-4902-e4e9-004a3992be35"
      },
      "source": [
        "df = pd.read_csv('https://raw.githubusercontent.com/MainakRepositor/Datasets-/master/laptop_price.csv', encoding=\"ISO-8859-1\")\n",
        "df.head(10)"
      ],
      "execution_count": 2,
      "outputs": [
        {
          "output_type": "execute_result",
          "data": {
            "text/html": [
              "<div>\n",
              "<style scoped>\n",
              "    .dataframe tbody tr th:only-of-type {\n",
              "        vertical-align: middle;\n",
              "    }\n",
              "\n",
              "    .dataframe tbody tr th {\n",
              "        vertical-align: top;\n",
              "    }\n",
              "\n",
              "    .dataframe thead th {\n",
              "        text-align: right;\n",
              "    }\n",
              "</style>\n",
              "<table border=\"1\" class=\"dataframe\">\n",
              "  <thead>\n",
              "    <tr style=\"text-align: right;\">\n",
              "      <th></th>\n",
              "      <th>laptop_ID</th>\n",
              "      <th>Company</th>\n",
              "      <th>Product</th>\n",
              "      <th>TypeName</th>\n",
              "      <th>Inches</th>\n",
              "      <th>ScreenResolution</th>\n",
              "      <th>Cpu</th>\n",
              "      <th>Ram</th>\n",
              "      <th>Memory</th>\n",
              "      <th>Gpu</th>\n",
              "      <th>OpSys</th>\n",
              "      <th>Weight</th>\n",
              "      <th>Price_euros</th>\n",
              "    </tr>\n",
              "  </thead>\n",
              "  <tbody>\n",
              "    <tr>\n",
              "      <th>0</th>\n",
              "      <td>1</td>\n",
              "      <td>Apple</td>\n",
              "      <td>MacBook Pro</td>\n",
              "      <td>Ultrabook</td>\n",
              "      <td>13.3</td>\n",
              "      <td>IPS Panel Retina Display 2560x1600</td>\n",
              "      <td>Intel Core i5 2.3GHz</td>\n",
              "      <td>8GB</td>\n",
              "      <td>128GB SSD</td>\n",
              "      <td>Intel Iris Plus Graphics 640</td>\n",
              "      <td>macOS</td>\n",
              "      <td>1.37kg</td>\n",
              "      <td>1339.69</td>\n",
              "    </tr>\n",
              "    <tr>\n",
              "      <th>1</th>\n",
              "      <td>2</td>\n",
              "      <td>Apple</td>\n",
              "      <td>Macbook Air</td>\n",
              "      <td>Ultrabook</td>\n",
              "      <td>13.3</td>\n",
              "      <td>1440x900</td>\n",
              "      <td>Intel Core i5 1.8GHz</td>\n",
              "      <td>8GB</td>\n",
              "      <td>128GB Flash Storage</td>\n",
              "      <td>Intel HD Graphics 6000</td>\n",
              "      <td>macOS</td>\n",
              "      <td>1.34kg</td>\n",
              "      <td>898.94</td>\n",
              "    </tr>\n",
              "    <tr>\n",
              "      <th>2</th>\n",
              "      <td>3</td>\n",
              "      <td>HP</td>\n",
              "      <td>250 G6</td>\n",
              "      <td>Notebook</td>\n",
              "      <td>15.6</td>\n",
              "      <td>Full HD 1920x1080</td>\n",
              "      <td>Intel Core i5 7200U 2.5GHz</td>\n",
              "      <td>8GB</td>\n",
              "      <td>256GB SSD</td>\n",
              "      <td>Intel HD Graphics 620</td>\n",
              "      <td>No OS</td>\n",
              "      <td>1.86kg</td>\n",
              "      <td>575.00</td>\n",
              "    </tr>\n",
              "    <tr>\n",
              "      <th>3</th>\n",
              "      <td>4</td>\n",
              "      <td>Apple</td>\n",
              "      <td>MacBook Pro</td>\n",
              "      <td>Ultrabook</td>\n",
              "      <td>15.4</td>\n",
              "      <td>IPS Panel Retina Display 2880x1800</td>\n",
              "      <td>Intel Core i7 2.7GHz</td>\n",
              "      <td>16GB</td>\n",
              "      <td>512GB SSD</td>\n",
              "      <td>AMD Radeon Pro 455</td>\n",
              "      <td>macOS</td>\n",
              "      <td>1.83kg</td>\n",
              "      <td>2537.45</td>\n",
              "    </tr>\n",
              "    <tr>\n",
              "      <th>4</th>\n",
              "      <td>5</td>\n",
              "      <td>Apple</td>\n",
              "      <td>MacBook Pro</td>\n",
              "      <td>Ultrabook</td>\n",
              "      <td>13.3</td>\n",
              "      <td>IPS Panel Retina Display 2560x1600</td>\n",
              "      <td>Intel Core i5 3.1GHz</td>\n",
              "      <td>8GB</td>\n",
              "      <td>256GB SSD</td>\n",
              "      <td>Intel Iris Plus Graphics 650</td>\n",
              "      <td>macOS</td>\n",
              "      <td>1.37kg</td>\n",
              "      <td>1803.60</td>\n",
              "    </tr>\n",
              "    <tr>\n",
              "      <th>5</th>\n",
              "      <td>6</td>\n",
              "      <td>Acer</td>\n",
              "      <td>Aspire 3</td>\n",
              "      <td>Notebook</td>\n",
              "      <td>15.6</td>\n",
              "      <td>1366x768</td>\n",
              "      <td>AMD A9-Series 9420 3GHz</td>\n",
              "      <td>4GB</td>\n",
              "      <td>500GB HDD</td>\n",
              "      <td>AMD Radeon R5</td>\n",
              "      <td>Windows 10</td>\n",
              "      <td>2.1kg</td>\n",
              "      <td>400.00</td>\n",
              "    </tr>\n",
              "    <tr>\n",
              "      <th>6</th>\n",
              "      <td>7</td>\n",
              "      <td>Apple</td>\n",
              "      <td>MacBook Pro</td>\n",
              "      <td>Ultrabook</td>\n",
              "      <td>15.4</td>\n",
              "      <td>IPS Panel Retina Display 2880x1800</td>\n",
              "      <td>Intel Core i7 2.2GHz</td>\n",
              "      <td>16GB</td>\n",
              "      <td>256GB Flash Storage</td>\n",
              "      <td>Intel Iris Pro Graphics</td>\n",
              "      <td>Mac OS X</td>\n",
              "      <td>2.04kg</td>\n",
              "      <td>2139.97</td>\n",
              "    </tr>\n",
              "    <tr>\n",
              "      <th>7</th>\n",
              "      <td>8</td>\n",
              "      <td>Apple</td>\n",
              "      <td>Macbook Air</td>\n",
              "      <td>Ultrabook</td>\n",
              "      <td>13.3</td>\n",
              "      <td>1440x900</td>\n",
              "      <td>Intel Core i5 1.8GHz</td>\n",
              "      <td>8GB</td>\n",
              "      <td>256GB Flash Storage</td>\n",
              "      <td>Intel HD Graphics 6000</td>\n",
              "      <td>macOS</td>\n",
              "      <td>1.34kg</td>\n",
              "      <td>1158.70</td>\n",
              "    </tr>\n",
              "    <tr>\n",
              "      <th>8</th>\n",
              "      <td>9</td>\n",
              "      <td>Asus</td>\n",
              "      <td>ZenBook UX430UN</td>\n",
              "      <td>Ultrabook</td>\n",
              "      <td>14.0</td>\n",
              "      <td>Full HD 1920x1080</td>\n",
              "      <td>Intel Core i7 8550U 1.8GHz</td>\n",
              "      <td>16GB</td>\n",
              "      <td>512GB SSD</td>\n",
              "      <td>Nvidia GeForce MX150</td>\n",
              "      <td>Windows 10</td>\n",
              "      <td>1.3kg</td>\n",
              "      <td>1495.00</td>\n",
              "    </tr>\n",
              "    <tr>\n",
              "      <th>9</th>\n",
              "      <td>10</td>\n",
              "      <td>Acer</td>\n",
              "      <td>Swift 3</td>\n",
              "      <td>Ultrabook</td>\n",
              "      <td>14.0</td>\n",
              "      <td>IPS Panel Full HD 1920x1080</td>\n",
              "      <td>Intel Core i5 8250U 1.6GHz</td>\n",
              "      <td>8GB</td>\n",
              "      <td>256GB SSD</td>\n",
              "      <td>Intel UHD Graphics 620</td>\n",
              "      <td>Windows 10</td>\n",
              "      <td>1.6kg</td>\n",
              "      <td>770.00</td>\n",
              "    </tr>\n",
              "  </tbody>\n",
              "</table>\n",
              "</div>"
            ],
            "text/plain": [
              "   laptop_ID Company          Product  ...       OpSys  Weight Price_euros\n",
              "0          1   Apple      MacBook Pro  ...       macOS  1.37kg     1339.69\n",
              "1          2   Apple      Macbook Air  ...       macOS  1.34kg      898.94\n",
              "2          3      HP           250 G6  ...       No OS  1.86kg      575.00\n",
              "3          4   Apple      MacBook Pro  ...       macOS  1.83kg     2537.45\n",
              "4          5   Apple      MacBook Pro  ...       macOS  1.37kg     1803.60\n",
              "5          6    Acer         Aspire 3  ...  Windows 10   2.1kg      400.00\n",
              "6          7   Apple      MacBook Pro  ...    Mac OS X  2.04kg     2139.97\n",
              "7          8   Apple      Macbook Air  ...       macOS  1.34kg     1158.70\n",
              "8          9    Asus  ZenBook UX430UN  ...  Windows 10   1.3kg     1495.00\n",
              "9         10    Acer          Swift 3  ...  Windows 10   1.6kg      770.00\n",
              "\n",
              "[10 rows x 13 columns]"
            ]
          },
          "metadata": {},
          "execution_count": 2
        }
      ]
    },
    {
      "cell_type": "code",
      "metadata": {
        "colab": {
          "base_uri": "https://localhost:8080/"
        },
        "id": "b1KdngPzn_bh",
        "outputId": "93f49bb6-e6e3-4263-cdff-805f95d0c36b"
      },
      "source": [
        "r,c = df.shape\n",
        "print(\"Number of Laptop data = \",r)\n",
        "print(\"Number of Parameters  = \",c)"
      ],
      "execution_count": 3,
      "outputs": [
        {
          "output_type": "stream",
          "name": "stdout",
          "text": [
            "Number of Laptop data =  1303\n",
            "Number of Parameters  =  13\n"
          ]
        }
      ]
    },
    {
      "cell_type": "code",
      "metadata": {
        "colab": {
          "base_uri": "https://localhost:8080/"
        },
        "id": "vIQ2WYxMn73t",
        "outputId": "8acfdd42-3ff4-49f7-f01c-28cf9ce7e84a"
      },
      "source": [
        "df.info()"
      ],
      "execution_count": 4,
      "outputs": [
        {
          "output_type": "stream",
          "name": "stdout",
          "text": [
            "<class 'pandas.core.frame.DataFrame'>\n",
            "RangeIndex: 1303 entries, 0 to 1302\n",
            "Data columns (total 13 columns):\n",
            " #   Column            Non-Null Count  Dtype  \n",
            "---  ------            --------------  -----  \n",
            " 0   laptop_ID         1303 non-null   int64  \n",
            " 1   Company           1303 non-null   object \n",
            " 2   Product           1303 non-null   object \n",
            " 3   TypeName          1303 non-null   object \n",
            " 4   Inches            1303 non-null   float64\n",
            " 5   ScreenResolution  1303 non-null   object \n",
            " 6   Cpu               1303 non-null   object \n",
            " 7   Ram               1303 non-null   object \n",
            " 8   Memory            1303 non-null   object \n",
            " 9   Gpu               1303 non-null   object \n",
            " 10  OpSys             1303 non-null   object \n",
            " 11  Weight            1303 non-null   object \n",
            " 12  Price_euros       1303 non-null   float64\n",
            "dtypes: float64(2), int64(1), object(10)\n",
            "memory usage: 132.5+ KB\n"
          ]
        }
      ]
    },
    {
      "cell_type": "code",
      "metadata": {
        "colab": {
          "base_uri": "https://localhost:8080/",
          "height": 143
        },
        "id": "XZnxvOvooHev",
        "outputId": "d67d7bbd-e14f-4d8e-8524-9ded5ab09c7b"
      },
      "source": [
        "df.describe().T"
      ],
      "execution_count": 6,
      "outputs": [
        {
          "output_type": "execute_result",
          "data": {
            "text/html": [
              "<div>\n",
              "<style scoped>\n",
              "    .dataframe tbody tr th:only-of-type {\n",
              "        vertical-align: middle;\n",
              "    }\n",
              "\n",
              "    .dataframe tbody tr th {\n",
              "        vertical-align: top;\n",
              "    }\n",
              "\n",
              "    .dataframe thead th {\n",
              "        text-align: right;\n",
              "    }\n",
              "</style>\n",
              "<table border=\"1\" class=\"dataframe\">\n",
              "  <thead>\n",
              "    <tr style=\"text-align: right;\">\n",
              "      <th></th>\n",
              "      <th>count</th>\n",
              "      <th>mean</th>\n",
              "      <th>std</th>\n",
              "      <th>min</th>\n",
              "      <th>25%</th>\n",
              "      <th>50%</th>\n",
              "      <th>75%</th>\n",
              "      <th>max</th>\n",
              "    </tr>\n",
              "  </thead>\n",
              "  <tbody>\n",
              "    <tr>\n",
              "      <th>laptop_ID</th>\n",
              "      <td>1303.0</td>\n",
              "      <td>660.155794</td>\n",
              "      <td>381.172104</td>\n",
              "      <td>1.0</td>\n",
              "      <td>331.5</td>\n",
              "      <td>659.0</td>\n",
              "      <td>990.50</td>\n",
              "      <td>1320.0</td>\n",
              "    </tr>\n",
              "    <tr>\n",
              "      <th>Inches</th>\n",
              "      <td>1303.0</td>\n",
              "      <td>15.017191</td>\n",
              "      <td>1.426304</td>\n",
              "      <td>10.1</td>\n",
              "      <td>14.0</td>\n",
              "      <td>15.6</td>\n",
              "      <td>15.60</td>\n",
              "      <td>18.4</td>\n",
              "    </tr>\n",
              "    <tr>\n",
              "      <th>Price_euros</th>\n",
              "      <td>1303.0</td>\n",
              "      <td>1123.686992</td>\n",
              "      <td>699.009043</td>\n",
              "      <td>174.0</td>\n",
              "      <td>599.0</td>\n",
              "      <td>977.0</td>\n",
              "      <td>1487.88</td>\n",
              "      <td>6099.0</td>\n",
              "    </tr>\n",
              "  </tbody>\n",
              "</table>\n",
              "</div>"
            ],
            "text/plain": [
              "              count         mean         std  ...    50%      75%     max\n",
              "laptop_ID    1303.0   660.155794  381.172104  ...  659.0   990.50  1320.0\n",
              "Inches       1303.0    15.017191    1.426304  ...   15.6    15.60    18.4\n",
              "Price_euros  1303.0  1123.686992  699.009043  ...  977.0  1487.88  6099.0\n",
              "\n",
              "[3 rows x 8 columns]"
            ]
          },
          "metadata": {},
          "execution_count": 6
        }
      ]
    },
    {
      "cell_type": "code",
      "metadata": {
        "id": "26xBZXk_oKKT"
      },
      "source": [
        "df = df.rename(columns=str.lower)"
      ],
      "execution_count": 7,
      "outputs": []
    },
    {
      "cell_type": "code",
      "metadata": {
        "colab": {
          "base_uri": "https://localhost:8080/"
        },
        "id": "B8j5mapHoPA0",
        "outputId": "a7b4e07e-0093-4541-ba97-1eb4caa362e1"
      },
      "source": [
        "df.columns"
      ],
      "execution_count": 8,
      "outputs": [
        {
          "output_type": "execute_result",
          "data": {
            "text/plain": [
              "Index(['laptop_id', 'company', 'product', 'typename', 'inches',\n",
              "       'screenresolution', 'cpu', 'ram', 'memory', 'gpu', 'opsys', 'weight',\n",
              "       'price_euros'],\n",
              "      dtype='object')"
            ]
          },
          "metadata": {},
          "execution_count": 8
        }
      ]
    },
    {
      "cell_type": "code",
      "metadata": {
        "id": "UVfEbFZpoQ2-"
      },
      "source": [
        "df = df.rename(columns={'price_euros':'price'})"
      ],
      "execution_count": 9,
      "outputs": []
    },
    {
      "cell_type": "code",
      "metadata": {
        "id": "mNTfatMFob1X"
      },
      "source": [
        "df=df.drop('laptop_id', axis=1)"
      ],
      "execution_count": 14,
      "outputs": []
    },
    {
      "cell_type": "code",
      "metadata": {
        "colab": {
          "base_uri": "https://localhost:8080/"
        },
        "id": "G0LV5H5to6DN",
        "outputId": "ccda5602-c085-4d01-f631-350b092f2f49"
      },
      "source": [
        "df['screenresolution']"
      ],
      "execution_count": 15,
      "outputs": [
        {
          "output_type": "execute_result",
          "data": {
            "text/plain": [
              "0               IPS Panel Retina Display 2560x1600\n",
              "1                                         1440x900\n",
              "2                                Full HD 1920x1080\n",
              "3               IPS Panel Retina Display 2880x1800\n",
              "4               IPS Panel Retina Display 2560x1600\n",
              "                           ...                    \n",
              "1298     IPS Panel Full HD / Touchscreen 1920x1080\n",
              "1299    IPS Panel Quad HD+ / Touchscreen 3200x1800\n",
              "1300                                      1366x768\n",
              "1301                                      1366x768\n",
              "1302                                      1366x768\n",
              "Name: screenresolution, Length: 1303, dtype: object"
            ]
          },
          "metadata": {},
          "execution_count": 15
        }
      ]
    },
    {
      "cell_type": "code",
      "metadata": {
        "colab": {
          "base_uri": "https://localhost:8080/"
        },
        "id": "SI0g-s9yo7fG",
        "outputId": "bd9795a0-dde8-4c66-e898-0e95c2e69a70"
      },
      "source": [
        "df['resolution'] = df['screenresolution'].str.extract(r'(\\d+x\\d+)')\n",
        "df['screentype'] = df['screenresolution'].replace(r'(\\d+x\\d+)','',regex=True)\n",
        "df['screentype'] = df['screentype'].replace(r'(Full HD|Quad HD|Quad HD|\\+|/|4K Ultra HD)','',regex=True)\n",
        "df['screentype']"
      ],
      "execution_count": 16,
      "outputs": [
        {
          "output_type": "execute_result",
          "data": {
            "text/plain": [
              "0       IPS Panel Retina Display \n",
              "1                                \n",
              "2                                \n",
              "3       IPS Panel Retina Display \n",
              "4       IPS Panel Retina Display \n",
              "                  ...            \n",
              "1298     IPS Panel   Touchscreen \n",
              "1299     IPS Panel   Touchscreen \n",
              "1300                             \n",
              "1301                             \n",
              "1302                             \n",
              "Name: screentype, Length: 1303, dtype: object"
            ]
          },
          "metadata": {},
          "execution_count": 16
        }
      ]
    },
    {
      "cell_type": "code",
      "metadata": {
        "colab": {
          "base_uri": "https://localhost:8080/"
        },
        "id": "LgYBzStWo-K_",
        "outputId": "eaaff625-1f8b-42e8-df7c-0d9f10c94c1f"
      },
      "source": [
        "df['touchscreen'] = df['screentype'].str.extract(r'(Touchscreen)')\n",
        "df['screentype'] = df['screentype'].replace(r'(Touchscreen)','',regex=True)\n",
        "df['touchscreen'].value_counts()"
      ],
      "execution_count": 17,
      "outputs": [
        {
          "output_type": "execute_result",
          "data": {
            "text/plain": [
              "Touchscreen    192\n",
              "Name: touchscreen, dtype: int64"
            ]
          },
          "metadata": {},
          "execution_count": 17
        }
      ]
    },
    {
      "cell_type": "code",
      "metadata": {
        "colab": {
          "base_uri": "https://localhost:8080/"
        },
        "id": "-_kBe9EvpA7I",
        "outputId": "428d9f6d-4f9e-4cae-9384-c53a3768b059"
      },
      "source": [
        "df['touchscreen'] = df['touchscreen'].replace('Touchscreen',1)\n",
        "df['touchscreen'] = df['touchscreen'].replace(np.nan,0)\n",
        "df['touchscreen'].value_counts()"
      ],
      "execution_count": 18,
      "outputs": [
        {
          "output_type": "execute_result",
          "data": {
            "text/plain": [
              "0.0    1111\n",
              "1.0     192\n",
              "Name: touchscreen, dtype: int64"
            ]
          },
          "metadata": {},
          "execution_count": 18
        }
      ]
    },
    {
      "cell_type": "code",
      "metadata": {
        "colab": {
          "base_uri": "https://localhost:8080/"
        },
        "id": "b8PNYfWKpD05",
        "outputId": "c6f457c4-2c62-44dc-e6ec-6b5cb4ad825e"
      },
      "source": [
        "df['screentype'].value_counts()"
      ],
      "execution_count": 19,
      "outputs": [
        {
          "output_type": "execute_result",
          "data": {
            "text/plain": [
              "                             549\n",
              "                             314\n",
              "IPS Panel                    265\n",
              "                              75\n",
              "IPS Panel                     72\n",
              "IPS Panel Retina Display      17\n",
              "IPS Panel                     11\n",
              "Name: screentype, dtype: int64"
            ]
          },
          "metadata": {},
          "execution_count": 19
        }
      ]
    },
    {
      "cell_type": "code",
      "metadata": {
        "colab": {
          "base_uri": "https://localhost:8080/"
        },
        "id": "46aAMbFwpFY_",
        "outputId": "bdb3bfdf-84b5-478a-a94d-d51ba6576e61"
      },
      "source": [
        "df['screentype']=df['screentype'].replace(r' ','',regex=True)\n",
        "df['screentype'].value_counts()"
      ],
      "execution_count": 20,
      "outputs": [
        {
          "output_type": "execute_result",
          "data": {
            "text/plain": [
              "                         938\n",
              "IPSPanel                 348\n",
              "IPSPanelRetinaDisplay     17\n",
              "Name: screentype, dtype: int64"
            ]
          },
          "metadata": {},
          "execution_count": 20
        }
      ]
    },
    {
      "cell_type": "code",
      "metadata": {
        "colab": {
          "base_uri": "https://localhost:8080/"
        },
        "id": "j9lfE1YtpHbL",
        "outputId": "e6f690e3-4d78-495c-82b1-f22589b84546"
      },
      "source": [
        "df['screentype'] = df['screentype'].replace(r'^\\s*$', np.nan, regex=True)\n",
        "df['screentype'].value_counts()"
      ],
      "execution_count": 21,
      "outputs": [
        {
          "output_type": "execute_result",
          "data": {
            "text/plain": [
              "IPSPanel                 348\n",
              "IPSPanelRetinaDisplay     17\n",
              "Name: screentype, dtype: int64"
            ]
          },
          "metadata": {},
          "execution_count": 21
        }
      ]
    },
    {
      "cell_type": "code",
      "metadata": {
        "colab": {
          "base_uri": "https://localhost:8080/",
          "height": 414
        },
        "id": "pUwHdD3npJU-",
        "outputId": "57e965cf-6731-4413-8abf-792dd0e6db5e"
      },
      "source": [
        "df.head()"
      ],
      "execution_count": 22,
      "outputs": [
        {
          "output_type": "execute_result",
          "data": {
            "text/html": [
              "<div>\n",
              "<style scoped>\n",
              "    .dataframe tbody tr th:only-of-type {\n",
              "        vertical-align: middle;\n",
              "    }\n",
              "\n",
              "    .dataframe tbody tr th {\n",
              "        vertical-align: top;\n",
              "    }\n",
              "\n",
              "    .dataframe thead th {\n",
              "        text-align: right;\n",
              "    }\n",
              "</style>\n",
              "<table border=\"1\" class=\"dataframe\">\n",
              "  <thead>\n",
              "    <tr style=\"text-align: right;\">\n",
              "      <th></th>\n",
              "      <th>company</th>\n",
              "      <th>product</th>\n",
              "      <th>typename</th>\n",
              "      <th>inches</th>\n",
              "      <th>screenresolution</th>\n",
              "      <th>cpu</th>\n",
              "      <th>ram</th>\n",
              "      <th>memory</th>\n",
              "      <th>gpu</th>\n",
              "      <th>opsys</th>\n",
              "      <th>weight</th>\n",
              "      <th>price</th>\n",
              "      <th>resolution</th>\n",
              "      <th>screentype</th>\n",
              "      <th>touchscreen</th>\n",
              "    </tr>\n",
              "  </thead>\n",
              "  <tbody>\n",
              "    <tr>\n",
              "      <th>0</th>\n",
              "      <td>Apple</td>\n",
              "      <td>MacBook Pro</td>\n",
              "      <td>Ultrabook</td>\n",
              "      <td>13.3</td>\n",
              "      <td>IPS Panel Retina Display 2560x1600</td>\n",
              "      <td>Intel Core i5 2.3GHz</td>\n",
              "      <td>8GB</td>\n",
              "      <td>128GB SSD</td>\n",
              "      <td>Intel Iris Plus Graphics 640</td>\n",
              "      <td>macOS</td>\n",
              "      <td>1.37kg</td>\n",
              "      <td>1339.69</td>\n",
              "      <td>2560x1600</td>\n",
              "      <td>IPSPanelRetinaDisplay</td>\n",
              "      <td>0.0</td>\n",
              "    </tr>\n",
              "    <tr>\n",
              "      <th>1</th>\n",
              "      <td>Apple</td>\n",
              "      <td>Macbook Air</td>\n",
              "      <td>Ultrabook</td>\n",
              "      <td>13.3</td>\n",
              "      <td>1440x900</td>\n",
              "      <td>Intel Core i5 1.8GHz</td>\n",
              "      <td>8GB</td>\n",
              "      <td>128GB Flash Storage</td>\n",
              "      <td>Intel HD Graphics 6000</td>\n",
              "      <td>macOS</td>\n",
              "      <td>1.34kg</td>\n",
              "      <td>898.94</td>\n",
              "      <td>1440x900</td>\n",
              "      <td>NaN</td>\n",
              "      <td>0.0</td>\n",
              "    </tr>\n",
              "    <tr>\n",
              "      <th>2</th>\n",
              "      <td>HP</td>\n",
              "      <td>250 G6</td>\n",
              "      <td>Notebook</td>\n",
              "      <td>15.6</td>\n",
              "      <td>Full HD 1920x1080</td>\n",
              "      <td>Intel Core i5 7200U 2.5GHz</td>\n",
              "      <td>8GB</td>\n",
              "      <td>256GB SSD</td>\n",
              "      <td>Intel HD Graphics 620</td>\n",
              "      <td>No OS</td>\n",
              "      <td>1.86kg</td>\n",
              "      <td>575.00</td>\n",
              "      <td>1920x1080</td>\n",
              "      <td>NaN</td>\n",
              "      <td>0.0</td>\n",
              "    </tr>\n",
              "    <tr>\n",
              "      <th>3</th>\n",
              "      <td>Apple</td>\n",
              "      <td>MacBook Pro</td>\n",
              "      <td>Ultrabook</td>\n",
              "      <td>15.4</td>\n",
              "      <td>IPS Panel Retina Display 2880x1800</td>\n",
              "      <td>Intel Core i7 2.7GHz</td>\n",
              "      <td>16GB</td>\n",
              "      <td>512GB SSD</td>\n",
              "      <td>AMD Radeon Pro 455</td>\n",
              "      <td>macOS</td>\n",
              "      <td>1.83kg</td>\n",
              "      <td>2537.45</td>\n",
              "      <td>2880x1800</td>\n",
              "      <td>IPSPanelRetinaDisplay</td>\n",
              "      <td>0.0</td>\n",
              "    </tr>\n",
              "    <tr>\n",
              "      <th>4</th>\n",
              "      <td>Apple</td>\n",
              "      <td>MacBook Pro</td>\n",
              "      <td>Ultrabook</td>\n",
              "      <td>13.3</td>\n",
              "      <td>IPS Panel Retina Display 2560x1600</td>\n",
              "      <td>Intel Core i5 3.1GHz</td>\n",
              "      <td>8GB</td>\n",
              "      <td>256GB SSD</td>\n",
              "      <td>Intel Iris Plus Graphics 650</td>\n",
              "      <td>macOS</td>\n",
              "      <td>1.37kg</td>\n",
              "      <td>1803.60</td>\n",
              "      <td>2560x1600</td>\n",
              "      <td>IPSPanelRetinaDisplay</td>\n",
              "      <td>0.0</td>\n",
              "    </tr>\n",
              "  </tbody>\n",
              "</table>\n",
              "</div>"
            ],
            "text/plain": [
              "  company      product  ...             screentype  touchscreen\n",
              "0   Apple  MacBook Pro  ...  IPSPanelRetinaDisplay          0.0\n",
              "1   Apple  Macbook Air  ...                    NaN          0.0\n",
              "2      HP       250 G6  ...                    NaN          0.0\n",
              "3   Apple  MacBook Pro  ...  IPSPanelRetinaDisplay          0.0\n",
              "4   Apple  MacBook Pro  ...  IPSPanelRetinaDisplay          0.0\n",
              "\n",
              "[5 rows x 15 columns]"
            ]
          },
          "metadata": {},
          "execution_count": 22
        }
      ]
    },
    {
      "cell_type": "code",
      "metadata": {
        "colab": {
          "base_uri": "https://localhost:8080/",
          "height": 293
        },
        "id": "Jx6MRKFdpLD5",
        "outputId": "1c3447fd-e107-4159-b344-259084f6d8a6"
      },
      "source": [
        "df = df.drop('screenresolution', axis=1)\n",
        "df.head()"
      ],
      "execution_count": 23,
      "outputs": [
        {
          "output_type": "execute_result",
          "data": {
            "text/html": [
              "<div>\n",
              "<style scoped>\n",
              "    .dataframe tbody tr th:only-of-type {\n",
              "        vertical-align: middle;\n",
              "    }\n",
              "\n",
              "    .dataframe tbody tr th {\n",
              "        vertical-align: top;\n",
              "    }\n",
              "\n",
              "    .dataframe thead th {\n",
              "        text-align: right;\n",
              "    }\n",
              "</style>\n",
              "<table border=\"1\" class=\"dataframe\">\n",
              "  <thead>\n",
              "    <tr style=\"text-align: right;\">\n",
              "      <th></th>\n",
              "      <th>company</th>\n",
              "      <th>product</th>\n",
              "      <th>typename</th>\n",
              "      <th>inches</th>\n",
              "      <th>cpu</th>\n",
              "      <th>ram</th>\n",
              "      <th>memory</th>\n",
              "      <th>gpu</th>\n",
              "      <th>opsys</th>\n",
              "      <th>weight</th>\n",
              "      <th>price</th>\n",
              "      <th>resolution</th>\n",
              "      <th>screentype</th>\n",
              "      <th>touchscreen</th>\n",
              "    </tr>\n",
              "  </thead>\n",
              "  <tbody>\n",
              "    <tr>\n",
              "      <th>0</th>\n",
              "      <td>Apple</td>\n",
              "      <td>MacBook Pro</td>\n",
              "      <td>Ultrabook</td>\n",
              "      <td>13.3</td>\n",
              "      <td>Intel Core i5 2.3GHz</td>\n",
              "      <td>8GB</td>\n",
              "      <td>128GB SSD</td>\n",
              "      <td>Intel Iris Plus Graphics 640</td>\n",
              "      <td>macOS</td>\n",
              "      <td>1.37kg</td>\n",
              "      <td>1339.69</td>\n",
              "      <td>2560x1600</td>\n",
              "      <td>IPSPanelRetinaDisplay</td>\n",
              "      <td>0.0</td>\n",
              "    </tr>\n",
              "    <tr>\n",
              "      <th>1</th>\n",
              "      <td>Apple</td>\n",
              "      <td>Macbook Air</td>\n",
              "      <td>Ultrabook</td>\n",
              "      <td>13.3</td>\n",
              "      <td>Intel Core i5 1.8GHz</td>\n",
              "      <td>8GB</td>\n",
              "      <td>128GB Flash Storage</td>\n",
              "      <td>Intel HD Graphics 6000</td>\n",
              "      <td>macOS</td>\n",
              "      <td>1.34kg</td>\n",
              "      <td>898.94</td>\n",
              "      <td>1440x900</td>\n",
              "      <td>NaN</td>\n",
              "      <td>0.0</td>\n",
              "    </tr>\n",
              "    <tr>\n",
              "      <th>2</th>\n",
              "      <td>HP</td>\n",
              "      <td>250 G6</td>\n",
              "      <td>Notebook</td>\n",
              "      <td>15.6</td>\n",
              "      <td>Intel Core i5 7200U 2.5GHz</td>\n",
              "      <td>8GB</td>\n",
              "      <td>256GB SSD</td>\n",
              "      <td>Intel HD Graphics 620</td>\n",
              "      <td>No OS</td>\n",
              "      <td>1.86kg</td>\n",
              "      <td>575.00</td>\n",
              "      <td>1920x1080</td>\n",
              "      <td>NaN</td>\n",
              "      <td>0.0</td>\n",
              "    </tr>\n",
              "    <tr>\n",
              "      <th>3</th>\n",
              "      <td>Apple</td>\n",
              "      <td>MacBook Pro</td>\n",
              "      <td>Ultrabook</td>\n",
              "      <td>15.4</td>\n",
              "      <td>Intel Core i7 2.7GHz</td>\n",
              "      <td>16GB</td>\n",
              "      <td>512GB SSD</td>\n",
              "      <td>AMD Radeon Pro 455</td>\n",
              "      <td>macOS</td>\n",
              "      <td>1.83kg</td>\n",
              "      <td>2537.45</td>\n",
              "      <td>2880x1800</td>\n",
              "      <td>IPSPanelRetinaDisplay</td>\n",
              "      <td>0.0</td>\n",
              "    </tr>\n",
              "    <tr>\n",
              "      <th>4</th>\n",
              "      <td>Apple</td>\n",
              "      <td>MacBook Pro</td>\n",
              "      <td>Ultrabook</td>\n",
              "      <td>13.3</td>\n",
              "      <td>Intel Core i5 3.1GHz</td>\n",
              "      <td>8GB</td>\n",
              "      <td>256GB SSD</td>\n",
              "      <td>Intel Iris Plus Graphics 650</td>\n",
              "      <td>macOS</td>\n",
              "      <td>1.37kg</td>\n",
              "      <td>1803.60</td>\n",
              "      <td>2560x1600</td>\n",
              "      <td>IPSPanelRetinaDisplay</td>\n",
              "      <td>0.0</td>\n",
              "    </tr>\n",
              "  </tbody>\n",
              "</table>\n",
              "</div>"
            ],
            "text/plain": [
              "  company      product  ...             screentype  touchscreen\n",
              "0   Apple  MacBook Pro  ...  IPSPanelRetinaDisplay          0.0\n",
              "1   Apple  Macbook Air  ...                    NaN          0.0\n",
              "2      HP       250 G6  ...                    NaN          0.0\n",
              "3   Apple  MacBook Pro  ...  IPSPanelRetinaDisplay          0.0\n",
              "4   Apple  MacBook Pro  ...  IPSPanelRetinaDisplay          0.0\n",
              "\n",
              "[5 rows x 14 columns]"
            ]
          },
          "metadata": {},
          "execution_count": 23
        }
      ]
    },
    {
      "cell_type": "code",
      "metadata": {
        "colab": {
          "base_uri": "https://localhost:8080/"
        },
        "id": "0UWBgQlYpNQA",
        "outputId": "8dc41159-e321-4f71-cceb-b65e696b298b"
      },
      "source": [
        "df['resolution'].value_counts()"
      ],
      "execution_count": 24,
      "outputs": [
        {
          "output_type": "execute_result",
          "data": {
            "text/plain": [
              "1920x1080    841\n",
              "1366x768     308\n",
              "3840x2160     43\n",
              "3200x1800     27\n",
              "2560x1440     23\n",
              "1600x900      23\n",
              "2256x1504      6\n",
              "2560x1600      6\n",
              "2304x1440      6\n",
              "1920x1200      5\n",
              "2400x1600      4\n",
              "2880x1800      4\n",
              "1440x900       4\n",
              "2160x1440      2\n",
              "2736x1824      1\n",
              "Name: resolution, dtype: int64"
            ]
          },
          "metadata": {},
          "execution_count": 24
        }
      ]
    },
    {
      "cell_type": "code",
      "metadata": {
        "colab": {
          "base_uri": "https://localhost:8080/"
        },
        "id": "9aLF3BjFpPF_",
        "outputId": "fbd1dcde-7baf-45d7-95db-b91de3289f41"
      },
      "source": [
        "df['screentype'].value_counts()"
      ],
      "execution_count": 25,
      "outputs": [
        {
          "output_type": "execute_result",
          "data": {
            "text/plain": [
              "IPSPanel                 348\n",
              "IPSPanelRetinaDisplay     17\n",
              "Name: screentype, dtype: int64"
            ]
          },
          "metadata": {},
          "execution_count": 25
        }
      ]
    },
    {
      "cell_type": "code",
      "metadata": {
        "colab": {
          "base_uri": "https://localhost:8080/"
        },
        "id": "5jd_Z_SBpSsE",
        "outputId": "b758f743-638e-4f8a-86c1-870570167ac4"
      },
      "source": [
        "df['touchscreen'].value_counts()"
      ],
      "execution_count": 26,
      "outputs": [
        {
          "output_type": "execute_result",
          "data": {
            "text/plain": [
              "0.0    1111\n",
              "1.0     192\n",
              "Name: touchscreen, dtype: int64"
            ]
          },
          "metadata": {},
          "execution_count": 26
        }
      ]
    },
    {
      "cell_type": "code",
      "metadata": {
        "colab": {
          "base_uri": "https://localhost:8080/"
        },
        "id": "JZtooJHRpUJY",
        "outputId": "493c82d1-64d1-4dc5-9cae-db07c7896444"
      },
      "source": [
        "df['cpu']"
      ],
      "execution_count": 27,
      "outputs": [
        {
          "output_type": "execute_result",
          "data": {
            "text/plain": [
              "0                       Intel Core i5 2.3GHz\n",
              "1                       Intel Core i5 1.8GHz\n",
              "2                 Intel Core i5 7200U 2.5GHz\n",
              "3                       Intel Core i7 2.7GHz\n",
              "4                       Intel Core i5 3.1GHz\n",
              "                        ...                 \n",
              "1298              Intel Core i7 6500U 2.5GHz\n",
              "1299              Intel Core i7 6500U 2.5GHz\n",
              "1300    Intel Celeron Dual Core N3050 1.6GHz\n",
              "1301              Intel Core i7 6500U 2.5GHz\n",
              "1302    Intel Celeron Dual Core N3050 1.6GHz\n",
              "Name: cpu, Length: 1303, dtype: object"
            ]
          },
          "metadata": {},
          "execution_count": 27
        }
      ]
    },
    {
      "cell_type": "code",
      "metadata": {
        "colab": {
          "base_uri": "https://localhost:8080/"
        },
        "id": "rHOsyjUVpVlM",
        "outputId": "170a782d-1292-422a-9e43-5f18b9444799"
      },
      "source": [
        "df['cpu_freq'] = df['cpu'].str.extract(r'(\\d+(?:\\.\\d+)?GHz)') \n",
        "df['cpu_freq'].value_counts()"
      ],
      "execution_count": 28,
      "outputs": [
        {
          "output_type": "execute_result",
          "data": {
            "text/plain": [
              "2.5GHz     290\n",
              "2.8GHz     165\n",
              "2.7GHz     165\n",
              "1.6GHz     133\n",
              "2.3GHz      86\n",
              "1.8GHz      78\n",
              "2.6GHz      76\n",
              "2GHz        67\n",
              "1.1GHz      53\n",
              "2.4GHz      52\n",
              "2.9GHz      21\n",
              "2.0GHz      19\n",
              "3GHz        19\n",
              "1.2GHz      15\n",
              "1.44GHz     12\n",
              "2.2GHz      11\n",
              "1.5GHz      10\n",
              "1.3GHz       6\n",
              "3.6GHz       5\n",
              "0.9GHz       4\n",
              "2.50GHz      3\n",
              "3.1GHz       3\n",
              "2.1GHz       3\n",
              "1.9GHz       2\n",
              "2.70GHz      1\n",
              "1.60GHz      1\n",
              "1.0GHz       1\n",
              "3.2GHz       1\n",
              "1.92GHz      1\n",
              "Name: cpu_freq, dtype: int64"
            ]
          },
          "metadata": {},
          "execution_count": 28
        }
      ]
    },
    {
      "cell_type": "code",
      "metadata": {
        "colab": {
          "base_uri": "https://localhost:8080/",
          "height": 310
        },
        "id": "Fxn8ON0SpZFp",
        "outputId": "3e8f0ebb-8abf-40a2-e140-f5080fe658d9"
      },
      "source": [
        "df['cpu_freq'] = df['cpu_freq'].str.replace('GHz', '')\n",
        "df.rename(columns={'cpu_freq': 'cpu_freq(GHz)'}, inplace=True)\n",
        "df['cpu_freq(GHz)'] = df['cpu_freq(GHz)'].astype(float)\n",
        "df['cpu']= df['cpu'].str.replace(r'(\\d+(?:\\.\\d+)?GHz)', '', regex=True)\n",
        "df.head()"
      ],
      "execution_count": 30,
      "outputs": [
        {
          "output_type": "execute_result",
          "data": {
            "text/html": [
              "<div>\n",
              "<style scoped>\n",
              "    .dataframe tbody tr th:only-of-type {\n",
              "        vertical-align: middle;\n",
              "    }\n",
              "\n",
              "    .dataframe tbody tr th {\n",
              "        vertical-align: top;\n",
              "    }\n",
              "\n",
              "    .dataframe thead th {\n",
              "        text-align: right;\n",
              "    }\n",
              "</style>\n",
              "<table border=\"1\" class=\"dataframe\">\n",
              "  <thead>\n",
              "    <tr style=\"text-align: right;\">\n",
              "      <th></th>\n",
              "      <th>company</th>\n",
              "      <th>product</th>\n",
              "      <th>typename</th>\n",
              "      <th>inches</th>\n",
              "      <th>cpu</th>\n",
              "      <th>ram</th>\n",
              "      <th>memory</th>\n",
              "      <th>gpu</th>\n",
              "      <th>opsys</th>\n",
              "      <th>weight</th>\n",
              "      <th>price</th>\n",
              "      <th>resolution</th>\n",
              "      <th>screentype</th>\n",
              "      <th>touchscreen</th>\n",
              "      <th>cpu_freq(GHz)</th>\n",
              "    </tr>\n",
              "  </thead>\n",
              "  <tbody>\n",
              "    <tr>\n",
              "      <th>0</th>\n",
              "      <td>Apple</td>\n",
              "      <td>MacBook Pro</td>\n",
              "      <td>Ultrabook</td>\n",
              "      <td>13.3</td>\n",
              "      <td>Intel Core i5</td>\n",
              "      <td>8GB</td>\n",
              "      <td>128GB SSD</td>\n",
              "      <td>Intel Iris Plus Graphics 640</td>\n",
              "      <td>macOS</td>\n",
              "      <td>1.37kg</td>\n",
              "      <td>1339.69</td>\n",
              "      <td>2560x1600</td>\n",
              "      <td>IPSPanelRetinaDisplay</td>\n",
              "      <td>0.0</td>\n",
              "      <td>2.3</td>\n",
              "    </tr>\n",
              "    <tr>\n",
              "      <th>1</th>\n",
              "      <td>Apple</td>\n",
              "      <td>Macbook Air</td>\n",
              "      <td>Ultrabook</td>\n",
              "      <td>13.3</td>\n",
              "      <td>Intel Core i5</td>\n",
              "      <td>8GB</td>\n",
              "      <td>128GB Flash Storage</td>\n",
              "      <td>Intel HD Graphics 6000</td>\n",
              "      <td>macOS</td>\n",
              "      <td>1.34kg</td>\n",
              "      <td>898.94</td>\n",
              "      <td>1440x900</td>\n",
              "      <td>NaN</td>\n",
              "      <td>0.0</td>\n",
              "      <td>1.8</td>\n",
              "    </tr>\n",
              "    <tr>\n",
              "      <th>2</th>\n",
              "      <td>HP</td>\n",
              "      <td>250 G6</td>\n",
              "      <td>Notebook</td>\n",
              "      <td>15.6</td>\n",
              "      <td>Intel Core i5 7200U</td>\n",
              "      <td>8GB</td>\n",
              "      <td>256GB SSD</td>\n",
              "      <td>Intel HD Graphics 620</td>\n",
              "      <td>No OS</td>\n",
              "      <td>1.86kg</td>\n",
              "      <td>575.00</td>\n",
              "      <td>1920x1080</td>\n",
              "      <td>NaN</td>\n",
              "      <td>0.0</td>\n",
              "      <td>2.5</td>\n",
              "    </tr>\n",
              "    <tr>\n",
              "      <th>3</th>\n",
              "      <td>Apple</td>\n",
              "      <td>MacBook Pro</td>\n",
              "      <td>Ultrabook</td>\n",
              "      <td>15.4</td>\n",
              "      <td>Intel Core i7</td>\n",
              "      <td>16GB</td>\n",
              "      <td>512GB SSD</td>\n",
              "      <td>AMD Radeon Pro 455</td>\n",
              "      <td>macOS</td>\n",
              "      <td>1.83kg</td>\n",
              "      <td>2537.45</td>\n",
              "      <td>2880x1800</td>\n",
              "      <td>IPSPanelRetinaDisplay</td>\n",
              "      <td>0.0</td>\n",
              "      <td>2.7</td>\n",
              "    </tr>\n",
              "    <tr>\n",
              "      <th>4</th>\n",
              "      <td>Apple</td>\n",
              "      <td>MacBook Pro</td>\n",
              "      <td>Ultrabook</td>\n",
              "      <td>13.3</td>\n",
              "      <td>Intel Core i5</td>\n",
              "      <td>8GB</td>\n",
              "      <td>256GB SSD</td>\n",
              "      <td>Intel Iris Plus Graphics 650</td>\n",
              "      <td>macOS</td>\n",
              "      <td>1.37kg</td>\n",
              "      <td>1803.60</td>\n",
              "      <td>2560x1600</td>\n",
              "      <td>IPSPanelRetinaDisplay</td>\n",
              "      <td>0.0</td>\n",
              "      <td>3.1</td>\n",
              "    </tr>\n",
              "  </tbody>\n",
              "</table>\n",
              "</div>"
            ],
            "text/plain": [
              "  company      product  ... touchscreen  cpu_freq(GHz)\n",
              "0   Apple  MacBook Pro  ...         0.0            2.3\n",
              "1   Apple  Macbook Air  ...         0.0            1.8\n",
              "2      HP       250 G6  ...         0.0            2.5\n",
              "3   Apple  MacBook Pro  ...         0.0            2.7\n",
              "4   Apple  MacBook Pro  ...         0.0            3.1\n",
              "\n",
              "[5 rows x 15 columns]"
            ]
          },
          "metadata": {},
          "execution_count": 30
        }
      ]
    },
    {
      "cell_type": "code",
      "metadata": {
        "colab": {
          "base_uri": "https://localhost:8080/",
          "height": 380
        },
        "id": "6GU75AyEpfdk",
        "outputId": "806bd190-51f2-4983-e8d7-7d19fe67ecd1"
      },
      "source": [
        "df['ram'] = df['ram'].str.replace('GB', '')\n",
        "df.rename(columns={'ram': 'ram(GB)'}, inplace=True)\n",
        "df['ram(GB)'] = df['ram(GB)'].astype(int)\n",
        "df.head()"
      ],
      "execution_count": 31,
      "outputs": [
        {
          "output_type": "execute_result",
          "data": {
            "text/html": [
              "<div>\n",
              "<style scoped>\n",
              "    .dataframe tbody tr th:only-of-type {\n",
              "        vertical-align: middle;\n",
              "    }\n",
              "\n",
              "    .dataframe tbody tr th {\n",
              "        vertical-align: top;\n",
              "    }\n",
              "\n",
              "    .dataframe thead th {\n",
              "        text-align: right;\n",
              "    }\n",
              "</style>\n",
              "<table border=\"1\" class=\"dataframe\">\n",
              "  <thead>\n",
              "    <tr style=\"text-align: right;\">\n",
              "      <th></th>\n",
              "      <th>company</th>\n",
              "      <th>product</th>\n",
              "      <th>typename</th>\n",
              "      <th>inches</th>\n",
              "      <th>cpu</th>\n",
              "      <th>ram(GB)</th>\n",
              "      <th>memory</th>\n",
              "      <th>gpu</th>\n",
              "      <th>opsys</th>\n",
              "      <th>weight</th>\n",
              "      <th>price</th>\n",
              "      <th>resolution</th>\n",
              "      <th>screentype</th>\n",
              "      <th>touchscreen</th>\n",
              "      <th>cpu_freq(GHz)</th>\n",
              "    </tr>\n",
              "  </thead>\n",
              "  <tbody>\n",
              "    <tr>\n",
              "      <th>0</th>\n",
              "      <td>Apple</td>\n",
              "      <td>MacBook Pro</td>\n",
              "      <td>Ultrabook</td>\n",
              "      <td>13.3</td>\n",
              "      <td>Intel Core i5</td>\n",
              "      <td>8</td>\n",
              "      <td>128GB SSD</td>\n",
              "      <td>Intel Iris Plus Graphics 640</td>\n",
              "      <td>macOS</td>\n",
              "      <td>1.37kg</td>\n",
              "      <td>1339.69</td>\n",
              "      <td>2560x1600</td>\n",
              "      <td>IPSPanelRetinaDisplay</td>\n",
              "      <td>0.0</td>\n",
              "      <td>2.3</td>\n",
              "    </tr>\n",
              "    <tr>\n",
              "      <th>1</th>\n",
              "      <td>Apple</td>\n",
              "      <td>Macbook Air</td>\n",
              "      <td>Ultrabook</td>\n",
              "      <td>13.3</td>\n",
              "      <td>Intel Core i5</td>\n",
              "      <td>8</td>\n",
              "      <td>128GB Flash Storage</td>\n",
              "      <td>Intel HD Graphics 6000</td>\n",
              "      <td>macOS</td>\n",
              "      <td>1.34kg</td>\n",
              "      <td>898.94</td>\n",
              "      <td>1440x900</td>\n",
              "      <td>NaN</td>\n",
              "      <td>0.0</td>\n",
              "      <td>1.8</td>\n",
              "    </tr>\n",
              "    <tr>\n",
              "      <th>2</th>\n",
              "      <td>HP</td>\n",
              "      <td>250 G6</td>\n",
              "      <td>Notebook</td>\n",
              "      <td>15.6</td>\n",
              "      <td>Intel Core i5 7200U</td>\n",
              "      <td>8</td>\n",
              "      <td>256GB SSD</td>\n",
              "      <td>Intel HD Graphics 620</td>\n",
              "      <td>No OS</td>\n",
              "      <td>1.86kg</td>\n",
              "      <td>575.00</td>\n",
              "      <td>1920x1080</td>\n",
              "      <td>NaN</td>\n",
              "      <td>0.0</td>\n",
              "      <td>2.5</td>\n",
              "    </tr>\n",
              "    <tr>\n",
              "      <th>3</th>\n",
              "      <td>Apple</td>\n",
              "      <td>MacBook Pro</td>\n",
              "      <td>Ultrabook</td>\n",
              "      <td>15.4</td>\n",
              "      <td>Intel Core i7</td>\n",
              "      <td>16</td>\n",
              "      <td>512GB SSD</td>\n",
              "      <td>AMD Radeon Pro 455</td>\n",
              "      <td>macOS</td>\n",
              "      <td>1.83kg</td>\n",
              "      <td>2537.45</td>\n",
              "      <td>2880x1800</td>\n",
              "      <td>IPSPanelRetinaDisplay</td>\n",
              "      <td>0.0</td>\n",
              "      <td>2.7</td>\n",
              "    </tr>\n",
              "    <tr>\n",
              "      <th>4</th>\n",
              "      <td>Apple</td>\n",
              "      <td>MacBook Pro</td>\n",
              "      <td>Ultrabook</td>\n",
              "      <td>13.3</td>\n",
              "      <td>Intel Core i5</td>\n",
              "      <td>8</td>\n",
              "      <td>256GB SSD</td>\n",
              "      <td>Intel Iris Plus Graphics 650</td>\n",
              "      <td>macOS</td>\n",
              "      <td>1.37kg</td>\n",
              "      <td>1803.60</td>\n",
              "      <td>2560x1600</td>\n",
              "      <td>IPSPanelRetinaDisplay</td>\n",
              "      <td>0.0</td>\n",
              "      <td>3.1</td>\n",
              "    </tr>\n",
              "  </tbody>\n",
              "</table>\n",
              "</div>"
            ],
            "text/plain": [
              "  company      product  ... touchscreen  cpu_freq(GHz)\n",
              "0   Apple  MacBook Pro  ...         0.0            2.3\n",
              "1   Apple  Macbook Air  ...         0.0            1.8\n",
              "2      HP       250 G6  ...         0.0            2.5\n",
              "3   Apple  MacBook Pro  ...         0.0            2.7\n",
              "4   Apple  MacBook Pro  ...         0.0            3.1\n",
              "\n",
              "[5 rows x 15 columns]"
            ]
          },
          "metadata": {},
          "execution_count": 31
        }
      ]
    },
    {
      "cell_type": "code",
      "metadata": {
        "colab": {
          "base_uri": "https://localhost:8080/"
        },
        "id": "CAnvtxC1pmgE",
        "outputId": "99ee8eab-53cd-46eb-b8fa-307d59bcf782"
      },
      "source": [
        "df['memory']"
      ],
      "execution_count": 32,
      "outputs": [
        {
          "output_type": "execute_result",
          "data": {
            "text/plain": [
              "0                 128GB SSD\n",
              "1       128GB Flash Storage\n",
              "2                 256GB SSD\n",
              "3                 512GB SSD\n",
              "4                 256GB SSD\n",
              "               ...         \n",
              "1298              128GB SSD\n",
              "1299              512GB SSD\n",
              "1300     64GB Flash Storage\n",
              "1301                1TB HDD\n",
              "1302              500GB HDD\n",
              "Name: memory, Length: 1303, dtype: object"
            ]
          },
          "metadata": {},
          "execution_count": 32
        }
      ]
    },
    {
      "cell_type": "code",
      "metadata": {
        "colab": {
          "base_uri": "https://localhost:8080/"
        },
        "id": "tVTojzKQpocD",
        "outputId": "da0f3e77-4bb3-4095-d167-6e08b2c6aa03"
      },
      "source": [
        "df['memory'].value_counts()"
      ],
      "execution_count": 33,
      "outputs": [
        {
          "output_type": "execute_result",
          "data": {
            "text/plain": [
              "256GB SSD                        412\n",
              "1TB HDD                          223\n",
              "500GB HDD                        132\n",
              "512GB SSD                        118\n",
              "128GB SSD +  1TB HDD              94\n",
              "128GB SSD                         76\n",
              "256GB SSD +  1TB HDD              73\n",
              "32GB Flash Storage                38\n",
              "2TB HDD                           16\n",
              "64GB Flash Storage                15\n",
              "1TB SSD                           14\n",
              "512GB SSD +  1TB HDD              14\n",
              "256GB SSD +  2TB HDD              10\n",
              "1.0TB Hybrid                       9\n",
              "256GB Flash Storage                8\n",
              "16GB Flash Storage                 7\n",
              "32GB SSD                           6\n",
              "180GB SSD                          5\n",
              "128GB Flash Storage                4\n",
              "512GB SSD +  2TB HDD               3\n",
              "16GB SSD                           3\n",
              "512GB Flash Storage                2\n",
              "128GB SSD +  2TB HDD               2\n",
              "256GB SSD +  256GB SSD             2\n",
              "256GB SSD +  500GB HDD             2\n",
              "1TB SSD +  1TB HDD                 2\n",
              "508GB Hybrid                       1\n",
              "64GB SSD                           1\n",
              "8GB SSD                            1\n",
              "240GB SSD                          1\n",
              "256GB SSD +  1.0TB Hybrid          1\n",
              "512GB SSD +  1.0TB Hybrid          1\n",
              "32GB HDD                           1\n",
              "1TB HDD +  1TB HDD                 1\n",
              "128GB HDD                          1\n",
              "512GB SSD +  256GB SSD             1\n",
              "1.0TB HDD                          1\n",
              "64GB Flash Storage +  1TB HDD      1\n",
              "512GB SSD +  512GB SSD             1\n",
              "Name: memory, dtype: int64"
            ]
          },
          "metadata": {},
          "execution_count": 33
        }
      ]
    },
    {
      "cell_type": "code",
      "metadata": {
        "colab": {
          "base_uri": "https://localhost:8080/"
        },
        "id": "LntNAdVCpp6I",
        "outputId": "cb4bf44e-0eb7-424f-e8e5-f7aaf9a6d3f1"
      },
      "source": [
        "df['memory_1']=df['memory']\n",
        "df['memory_1']=df['memory_1'].str.replace('1.0TB','1TB', regex=True)\n",
        "df['memory_1']=df['memory_1'].str.replace('1TB','1000GB')\n",
        "df['memory_1']=df['memory_1'].str.replace('2TB','2000GB')\n",
        "df['memory_1']=df['memory_1'].str.replace('GB','')\n",
        "df['memory_1'].value_counts()"
      ],
      "execution_count": 34,
      "outputs": [
        {
          "output_type": "execute_result",
          "data": {
            "text/plain": [
              "256 SSD                         412\n",
              "1000 HDD                        224\n",
              "500 HDD                         132\n",
              "512 SSD                         118\n",
              "128 SSD +  1000 HDD              94\n",
              "128 SSD                          76\n",
              "256 SSD +  1000 HDD              73\n",
              "32 Flash Storage                 38\n",
              "2000 HDD                         16\n",
              "64 Flash Storage                 15\n",
              "512 SSD +  1000 HDD              14\n",
              "1000 SSD                         14\n",
              "256 SSD +  2000 HDD              10\n",
              "1000 Hybrid                       9\n",
              "256 Flash Storage                 8\n",
              "16 Flash Storage                  7\n",
              "32 SSD                            6\n",
              "180 SSD                           5\n",
              "128 Flash Storage                 4\n",
              "512 SSD +  2000 HDD               3\n",
              "16 SSD                            3\n",
              "1000 SSD +  1000 HDD              2\n",
              "512 Flash Storage                 2\n",
              "256 SSD +  256 SSD                2\n",
              "256 SSD +  500 HDD                2\n",
              "128 SSD +  2000 HDD               2\n",
              "32 HDD                            1\n",
              "256 SSD +  1000 Hybrid            1\n",
              "508 Hybrid                        1\n",
              "1000 HDD +  1000 HDD              1\n",
              "128 HDD                           1\n",
              "240 SSD                           1\n",
              "64 SSD                            1\n",
              "64 Flash Storage +  1000 HDD      1\n",
              "512 SSD +  512 SSD                1\n",
              "512 SSD +  256 SSD                1\n",
              "8 SSD                             1\n",
              "512 SSD +  1000 Hybrid            1\n",
              "Name: memory_1, dtype: int64"
            ]
          },
          "metadata": {},
          "execution_count": 34
        }
      ]
    },
    {
      "cell_type": "code",
      "metadata": {
        "colab": {
          "base_uri": "https://localhost:8080/"
        },
        "id": "1_J130UfprwG",
        "outputId": "229f7c89-1a79-4b7c-92a4-275f5b6aa02a"
      },
      "source": [
        "df['memory2']=df['memory_1'].str.replace(r' ','')\n",
        "df['memory2'].value_counts()"
      ],
      "execution_count": 35,
      "outputs": [
        {
          "output_type": "execute_result",
          "data": {
            "text/plain": [
              "256SSD                    412\n",
              "1000HDD                   224\n",
              "500HDD                    132\n",
              "512SSD                    118\n",
              "128SSD+1000HDD             94\n",
              "128SSD                     76\n",
              "256SSD+1000HDD             73\n",
              "32FlashStorage             38\n",
              "2000HDD                    16\n",
              "64FlashStorage             15\n",
              "1000SSD                    14\n",
              "512SSD+1000HDD             14\n",
              "256SSD+2000HDD             10\n",
              "1000Hybrid                  9\n",
              "256FlashStorage             8\n",
              "16FlashStorage              7\n",
              "32SSD                       6\n",
              "180SSD                      5\n",
              "128FlashStorage             4\n",
              "512SSD+2000HDD              3\n",
              "16SSD                       3\n",
              "256SSD+500HDD               2\n",
              "128SSD+2000HDD              2\n",
              "512FlashStorage             2\n",
              "1000SSD+1000HDD             2\n",
              "256SSD+256SSD               2\n",
              "1000HDD+1000HDD             1\n",
              "240SSD                      1\n",
              "8SSD                        1\n",
              "512SSD+1000Hybrid           1\n",
              "512SSD+512SSD               1\n",
              "512SSD+256SSD               1\n",
              "64SSD                       1\n",
              "256SSD+1000Hybrid           1\n",
              "64FlashStorage+1000HDD      1\n",
              "32HDD                       1\n",
              "508Hybrid                   1\n",
              "128HDD                      1\n",
              "Name: memory2, dtype: int64"
            ]
          },
          "metadata": {},
          "execution_count": 35
        }
      ]
    },
    {
      "cell_type": "code",
      "metadata": {
        "id": "6qvgoiKcpu2k"
      },
      "source": [
        "import regex as re\n",
        "memory_1=[]\n",
        "memory_2=[]\n",
        "for i in df['memory2']:\n",
        "    if len(re.findall(r'\\+',i))==1: # DOUBLE DRIVE\n",
        "        one=re.findall(r'(\\w+)',i)\n",
        "        memory_1.append(one[0])\n",
        "        memory_2.append(one[1])\n",
        "    else: # SINGLE DRIVE\n",
        "        one=re.findall(r'(\\w+)',i)\n",
        "        memory_1.append(one[0])\n",
        "        memory_2.append('NaN')"
      ],
      "execution_count": 36,
      "outputs": []
    },
    {
      "cell_type": "code",
      "metadata": {
        "id": "CAuIyd9npzHT"
      },
      "source": [
        "memory_1_gb=[]\n",
        "memory_1_type=[]\n",
        "for i in memory_1:\n",
        "    memory_1_type.append(re.findall(r'(\\D\\w+)',i)[0])\n",
        "    memory_1_gb.append(re.findall(r'(\\d+)',i)[0])"
      ],
      "execution_count": 37,
      "outputs": []
    },
    {
      "cell_type": "code",
      "metadata": {
        "id": "4fwMbyGhpzpC"
      },
      "source": [
        "memory_2_gb=[]\n",
        "memory_2_type=[]\n",
        "for i in memory_2:\n",
        "    if i != 'NaN':\n",
        "        memory_2_type.append(re.findall(r'(\\D\\w+)',i)[0])\n",
        "        memory_2_gb.append(re.findall(r'(\\d+)',i)[0])\n",
        "    else:\n",
        "        memory_2_type.append('NaN')\n",
        "        memory_2_gb.append(0)"
      ],
      "execution_count": 38,
      "outputs": []
    },
    {
      "cell_type": "code",
      "metadata": {
        "id": "gNJbn4QQp1pe"
      },
      "source": [
        "df['memory_1_sto(GB)'] = memory_1_gb\n",
        "df['memory_1_type'] = memory_1_type\n",
        "df['memory_2_sto(GB)'] = memory_2_gb\n",
        "df['memory_2_type'] = memory_2_type"
      ],
      "execution_count": 39,
      "outputs": []
    },
    {
      "cell_type": "code",
      "metadata": {
        "colab": {
          "base_uri": "https://localhost:8080/",
          "height": 452
        },
        "id": "2Au6yABAp3NS",
        "outputId": "aa77fb8d-f829-4bb7-d0e4-50735639a2fa"
      },
      "source": [
        "df['memory_1_sto(GB)'] = df['memory_1_sto(GB)'].astype(float)\n",
        "df['memory_2_sto(GB)'] = df['memory_2_sto(GB)'].astype(float)\n",
        "df.head()"
      ],
      "execution_count": 40,
      "outputs": [
        {
          "output_type": "execute_result",
          "data": {
            "text/html": [
              "<div>\n",
              "<style scoped>\n",
              "    .dataframe tbody tr th:only-of-type {\n",
              "        vertical-align: middle;\n",
              "    }\n",
              "\n",
              "    .dataframe tbody tr th {\n",
              "        vertical-align: top;\n",
              "    }\n",
              "\n",
              "    .dataframe thead th {\n",
              "        text-align: right;\n",
              "    }\n",
              "</style>\n",
              "<table border=\"1\" class=\"dataframe\">\n",
              "  <thead>\n",
              "    <tr style=\"text-align: right;\">\n",
              "      <th></th>\n",
              "      <th>company</th>\n",
              "      <th>product</th>\n",
              "      <th>typename</th>\n",
              "      <th>inches</th>\n",
              "      <th>cpu</th>\n",
              "      <th>ram(GB)</th>\n",
              "      <th>memory</th>\n",
              "      <th>gpu</th>\n",
              "      <th>opsys</th>\n",
              "      <th>weight</th>\n",
              "      <th>price</th>\n",
              "      <th>resolution</th>\n",
              "      <th>screentype</th>\n",
              "      <th>touchscreen</th>\n",
              "      <th>cpu_freq(GHz)</th>\n",
              "      <th>memory_1</th>\n",
              "      <th>memory2</th>\n",
              "      <th>memory_1_sto(GB)</th>\n",
              "      <th>memory_1_type</th>\n",
              "      <th>memory_2_sto(GB)</th>\n",
              "      <th>memory_2_type</th>\n",
              "    </tr>\n",
              "  </thead>\n",
              "  <tbody>\n",
              "    <tr>\n",
              "      <th>0</th>\n",
              "      <td>Apple</td>\n",
              "      <td>MacBook Pro</td>\n",
              "      <td>Ultrabook</td>\n",
              "      <td>13.3</td>\n",
              "      <td>Intel Core i5</td>\n",
              "      <td>8</td>\n",
              "      <td>128GB SSD</td>\n",
              "      <td>Intel Iris Plus Graphics 640</td>\n",
              "      <td>macOS</td>\n",
              "      <td>1.37kg</td>\n",
              "      <td>1339.69</td>\n",
              "      <td>2560x1600</td>\n",
              "      <td>IPSPanelRetinaDisplay</td>\n",
              "      <td>0.0</td>\n",
              "      <td>2.3</td>\n",
              "      <td>128 SSD</td>\n",
              "      <td>128SSD</td>\n",
              "      <td>128.0</td>\n",
              "      <td>SSD</td>\n",
              "      <td>0.0</td>\n",
              "      <td>NaN</td>\n",
              "    </tr>\n",
              "    <tr>\n",
              "      <th>1</th>\n",
              "      <td>Apple</td>\n",
              "      <td>Macbook Air</td>\n",
              "      <td>Ultrabook</td>\n",
              "      <td>13.3</td>\n",
              "      <td>Intel Core i5</td>\n",
              "      <td>8</td>\n",
              "      <td>128GB Flash Storage</td>\n",
              "      <td>Intel HD Graphics 6000</td>\n",
              "      <td>macOS</td>\n",
              "      <td>1.34kg</td>\n",
              "      <td>898.94</td>\n",
              "      <td>1440x900</td>\n",
              "      <td>NaN</td>\n",
              "      <td>0.0</td>\n",
              "      <td>1.8</td>\n",
              "      <td>128 Flash Storage</td>\n",
              "      <td>128FlashStorage</td>\n",
              "      <td>128.0</td>\n",
              "      <td>FlashStorage</td>\n",
              "      <td>0.0</td>\n",
              "      <td>NaN</td>\n",
              "    </tr>\n",
              "    <tr>\n",
              "      <th>2</th>\n",
              "      <td>HP</td>\n",
              "      <td>250 G6</td>\n",
              "      <td>Notebook</td>\n",
              "      <td>15.6</td>\n",
              "      <td>Intel Core i5 7200U</td>\n",
              "      <td>8</td>\n",
              "      <td>256GB SSD</td>\n",
              "      <td>Intel HD Graphics 620</td>\n",
              "      <td>No OS</td>\n",
              "      <td>1.86kg</td>\n",
              "      <td>575.00</td>\n",
              "      <td>1920x1080</td>\n",
              "      <td>NaN</td>\n",
              "      <td>0.0</td>\n",
              "      <td>2.5</td>\n",
              "      <td>256 SSD</td>\n",
              "      <td>256SSD</td>\n",
              "      <td>256.0</td>\n",
              "      <td>SSD</td>\n",
              "      <td>0.0</td>\n",
              "      <td>NaN</td>\n",
              "    </tr>\n",
              "    <tr>\n",
              "      <th>3</th>\n",
              "      <td>Apple</td>\n",
              "      <td>MacBook Pro</td>\n",
              "      <td>Ultrabook</td>\n",
              "      <td>15.4</td>\n",
              "      <td>Intel Core i7</td>\n",
              "      <td>16</td>\n",
              "      <td>512GB SSD</td>\n",
              "      <td>AMD Radeon Pro 455</td>\n",
              "      <td>macOS</td>\n",
              "      <td>1.83kg</td>\n",
              "      <td>2537.45</td>\n",
              "      <td>2880x1800</td>\n",
              "      <td>IPSPanelRetinaDisplay</td>\n",
              "      <td>0.0</td>\n",
              "      <td>2.7</td>\n",
              "      <td>512 SSD</td>\n",
              "      <td>512SSD</td>\n",
              "      <td>512.0</td>\n",
              "      <td>SSD</td>\n",
              "      <td>0.0</td>\n",
              "      <td>NaN</td>\n",
              "    </tr>\n",
              "    <tr>\n",
              "      <th>4</th>\n",
              "      <td>Apple</td>\n",
              "      <td>MacBook Pro</td>\n",
              "      <td>Ultrabook</td>\n",
              "      <td>13.3</td>\n",
              "      <td>Intel Core i5</td>\n",
              "      <td>8</td>\n",
              "      <td>256GB SSD</td>\n",
              "      <td>Intel Iris Plus Graphics 650</td>\n",
              "      <td>macOS</td>\n",
              "      <td>1.37kg</td>\n",
              "      <td>1803.60</td>\n",
              "      <td>2560x1600</td>\n",
              "      <td>IPSPanelRetinaDisplay</td>\n",
              "      <td>0.0</td>\n",
              "      <td>3.1</td>\n",
              "      <td>256 SSD</td>\n",
              "      <td>256SSD</td>\n",
              "      <td>256.0</td>\n",
              "      <td>SSD</td>\n",
              "      <td>0.0</td>\n",
              "      <td>NaN</td>\n",
              "    </tr>\n",
              "  </tbody>\n",
              "</table>\n",
              "</div>"
            ],
            "text/plain": [
              "  company      product   typename  ...  memory_1_type memory_2_sto(GB)  memory_2_type\n",
              "0   Apple  MacBook Pro  Ultrabook  ...            SSD              0.0            NaN\n",
              "1   Apple  Macbook Air  Ultrabook  ...   FlashStorage              0.0            NaN\n",
              "2      HP       250 G6   Notebook  ...            SSD              0.0            NaN\n",
              "3   Apple  MacBook Pro  Ultrabook  ...            SSD              0.0            NaN\n",
              "4   Apple  MacBook Pro  Ultrabook  ...            SSD              0.0            NaN\n",
              "\n",
              "[5 rows x 21 columns]"
            ]
          },
          "metadata": {},
          "execution_count": 40
        }
      ]
    },
    {
      "cell_type": "code",
      "metadata": {
        "colab": {
          "base_uri": "https://localhost:8080/",
          "height": 452
        },
        "id": "2NByrsLAp4tm",
        "outputId": "da4c7441-13d0-419f-e26d-e652fe366c9d"
      },
      "source": [
        "df=df.drop(['memory_1','memory2','memory'], axis=1)\n",
        "df = df.replace({'NaN': np.nan})\n",
        "df.head()"
      ],
      "execution_count": 41,
      "outputs": [
        {
          "output_type": "execute_result",
          "data": {
            "text/html": [
              "<div>\n",
              "<style scoped>\n",
              "    .dataframe tbody tr th:only-of-type {\n",
              "        vertical-align: middle;\n",
              "    }\n",
              "\n",
              "    .dataframe tbody tr th {\n",
              "        vertical-align: top;\n",
              "    }\n",
              "\n",
              "    .dataframe thead th {\n",
              "        text-align: right;\n",
              "    }\n",
              "</style>\n",
              "<table border=\"1\" class=\"dataframe\">\n",
              "  <thead>\n",
              "    <tr style=\"text-align: right;\">\n",
              "      <th></th>\n",
              "      <th>company</th>\n",
              "      <th>product</th>\n",
              "      <th>typename</th>\n",
              "      <th>inches</th>\n",
              "      <th>cpu</th>\n",
              "      <th>ram(GB)</th>\n",
              "      <th>gpu</th>\n",
              "      <th>opsys</th>\n",
              "      <th>weight</th>\n",
              "      <th>price</th>\n",
              "      <th>resolution</th>\n",
              "      <th>screentype</th>\n",
              "      <th>touchscreen</th>\n",
              "      <th>cpu_freq(GHz)</th>\n",
              "      <th>memory_1_sto(GB)</th>\n",
              "      <th>memory_1_type</th>\n",
              "      <th>memory_2_sto(GB)</th>\n",
              "      <th>memory_2_type</th>\n",
              "    </tr>\n",
              "  </thead>\n",
              "  <tbody>\n",
              "    <tr>\n",
              "      <th>0</th>\n",
              "      <td>Apple</td>\n",
              "      <td>MacBook Pro</td>\n",
              "      <td>Ultrabook</td>\n",
              "      <td>13.3</td>\n",
              "      <td>Intel Core i5</td>\n",
              "      <td>8</td>\n",
              "      <td>Intel Iris Plus Graphics 640</td>\n",
              "      <td>macOS</td>\n",
              "      <td>1.37kg</td>\n",
              "      <td>1339.69</td>\n",
              "      <td>2560x1600</td>\n",
              "      <td>IPSPanelRetinaDisplay</td>\n",
              "      <td>0.0</td>\n",
              "      <td>2.3</td>\n",
              "      <td>128.0</td>\n",
              "      <td>SSD</td>\n",
              "      <td>0.0</td>\n",
              "      <td>NaN</td>\n",
              "    </tr>\n",
              "    <tr>\n",
              "      <th>1</th>\n",
              "      <td>Apple</td>\n",
              "      <td>Macbook Air</td>\n",
              "      <td>Ultrabook</td>\n",
              "      <td>13.3</td>\n",
              "      <td>Intel Core i5</td>\n",
              "      <td>8</td>\n",
              "      <td>Intel HD Graphics 6000</td>\n",
              "      <td>macOS</td>\n",
              "      <td>1.34kg</td>\n",
              "      <td>898.94</td>\n",
              "      <td>1440x900</td>\n",
              "      <td>NaN</td>\n",
              "      <td>0.0</td>\n",
              "      <td>1.8</td>\n",
              "      <td>128.0</td>\n",
              "      <td>FlashStorage</td>\n",
              "      <td>0.0</td>\n",
              "      <td>NaN</td>\n",
              "    </tr>\n",
              "    <tr>\n",
              "      <th>2</th>\n",
              "      <td>HP</td>\n",
              "      <td>250 G6</td>\n",
              "      <td>Notebook</td>\n",
              "      <td>15.6</td>\n",
              "      <td>Intel Core i5 7200U</td>\n",
              "      <td>8</td>\n",
              "      <td>Intel HD Graphics 620</td>\n",
              "      <td>No OS</td>\n",
              "      <td>1.86kg</td>\n",
              "      <td>575.00</td>\n",
              "      <td>1920x1080</td>\n",
              "      <td>NaN</td>\n",
              "      <td>0.0</td>\n",
              "      <td>2.5</td>\n",
              "      <td>256.0</td>\n",
              "      <td>SSD</td>\n",
              "      <td>0.0</td>\n",
              "      <td>NaN</td>\n",
              "    </tr>\n",
              "    <tr>\n",
              "      <th>3</th>\n",
              "      <td>Apple</td>\n",
              "      <td>MacBook Pro</td>\n",
              "      <td>Ultrabook</td>\n",
              "      <td>15.4</td>\n",
              "      <td>Intel Core i7</td>\n",
              "      <td>16</td>\n",
              "      <td>AMD Radeon Pro 455</td>\n",
              "      <td>macOS</td>\n",
              "      <td>1.83kg</td>\n",
              "      <td>2537.45</td>\n",
              "      <td>2880x1800</td>\n",
              "      <td>IPSPanelRetinaDisplay</td>\n",
              "      <td>0.0</td>\n",
              "      <td>2.7</td>\n",
              "      <td>512.0</td>\n",
              "      <td>SSD</td>\n",
              "      <td>0.0</td>\n",
              "      <td>NaN</td>\n",
              "    </tr>\n",
              "    <tr>\n",
              "      <th>4</th>\n",
              "      <td>Apple</td>\n",
              "      <td>MacBook Pro</td>\n",
              "      <td>Ultrabook</td>\n",
              "      <td>13.3</td>\n",
              "      <td>Intel Core i5</td>\n",
              "      <td>8</td>\n",
              "      <td>Intel Iris Plus Graphics 650</td>\n",
              "      <td>macOS</td>\n",
              "      <td>1.37kg</td>\n",
              "      <td>1803.60</td>\n",
              "      <td>2560x1600</td>\n",
              "      <td>IPSPanelRetinaDisplay</td>\n",
              "      <td>0.0</td>\n",
              "      <td>3.1</td>\n",
              "      <td>256.0</td>\n",
              "      <td>SSD</td>\n",
              "      <td>0.0</td>\n",
              "      <td>NaN</td>\n",
              "    </tr>\n",
              "  </tbody>\n",
              "</table>\n",
              "</div>"
            ],
            "text/plain": [
              "  company      product   typename  ...  memory_1_type memory_2_sto(GB)  memory_2_type\n",
              "0   Apple  MacBook Pro  Ultrabook  ...            SSD              0.0            NaN\n",
              "1   Apple  Macbook Air  Ultrabook  ...   FlashStorage              0.0            NaN\n",
              "2      HP       250 G6   Notebook  ...            SSD              0.0            NaN\n",
              "3   Apple  MacBook Pro  Ultrabook  ...            SSD              0.0            NaN\n",
              "4   Apple  MacBook Pro  Ultrabook  ...            SSD              0.0            NaN\n",
              "\n",
              "[5 rows x 18 columns]"
            ]
          },
          "metadata": {},
          "execution_count": 41
        }
      ]
    },
    {
      "cell_type": "code",
      "metadata": {
        "colab": {
          "base_uri": "https://localhost:8080/"
        },
        "id": "IyjRBCBTp6hm",
        "outputId": "a7bbf589-13f3-4dff-d2e7-f24c0fd53160"
      },
      "source": [
        "df['weight'].value_counts()"
      ],
      "execution_count": 42,
      "outputs": [
        {
          "output_type": "execute_result",
          "data": {
            "text/plain": [
              "2.2kg      121\n",
              "2.1kg       58\n",
              "2.4kg       44\n",
              "2.3kg       41\n",
              "2.5kg       38\n",
              "          ... \n",
              "2.591kg      1\n",
              "3.8kg        1\n",
              "1.70kg       1\n",
              "1.19kg       1\n",
              "4.5kg        1\n",
              "Name: weight, Length: 179, dtype: int64"
            ]
          },
          "metadata": {},
          "execution_count": 42
        }
      ]
    },
    {
      "cell_type": "code",
      "metadata": {
        "colab": {
          "base_uri": "https://localhost:8080/"
        },
        "id": "jgZYoUiRp8Mz",
        "outputId": "d5bae4c4-a0ac-46f3-9763-dcde13894417"
      },
      "source": [
        "df['weight'].str.contains('kg').sum()"
      ],
      "execution_count": 43,
      "outputs": [
        {
          "output_type": "execute_result",
          "data": {
            "text/plain": [
              "1303"
            ]
          },
          "metadata": {},
          "execution_count": 43
        }
      ]
    },
    {
      "cell_type": "code",
      "metadata": {
        "colab": {
          "base_uri": "https://localhost:8080/",
          "height": 452
        },
        "id": "b8PORQwHp92-",
        "outputId": "e01ca8c0-6230-47ed-d798-6137002efbe7"
      },
      "source": [
        "df['weight'] = df['weight'].str.replace('kg','').astype(float)\n",
        "df.rename(columns={'weight': 'weight(kg)'}, inplace=True)\n",
        "df.head()"
      ],
      "execution_count": 44,
      "outputs": [
        {
          "output_type": "execute_result",
          "data": {
            "text/html": [
              "<div>\n",
              "<style scoped>\n",
              "    .dataframe tbody tr th:only-of-type {\n",
              "        vertical-align: middle;\n",
              "    }\n",
              "\n",
              "    .dataframe tbody tr th {\n",
              "        vertical-align: top;\n",
              "    }\n",
              "\n",
              "    .dataframe thead th {\n",
              "        text-align: right;\n",
              "    }\n",
              "</style>\n",
              "<table border=\"1\" class=\"dataframe\">\n",
              "  <thead>\n",
              "    <tr style=\"text-align: right;\">\n",
              "      <th></th>\n",
              "      <th>company</th>\n",
              "      <th>product</th>\n",
              "      <th>typename</th>\n",
              "      <th>inches</th>\n",
              "      <th>cpu</th>\n",
              "      <th>ram(GB)</th>\n",
              "      <th>gpu</th>\n",
              "      <th>opsys</th>\n",
              "      <th>weight(kg)</th>\n",
              "      <th>price</th>\n",
              "      <th>resolution</th>\n",
              "      <th>screentype</th>\n",
              "      <th>touchscreen</th>\n",
              "      <th>cpu_freq(GHz)</th>\n",
              "      <th>memory_1_sto(GB)</th>\n",
              "      <th>memory_1_type</th>\n",
              "      <th>memory_2_sto(GB)</th>\n",
              "      <th>memory_2_type</th>\n",
              "    </tr>\n",
              "  </thead>\n",
              "  <tbody>\n",
              "    <tr>\n",
              "      <th>0</th>\n",
              "      <td>Apple</td>\n",
              "      <td>MacBook Pro</td>\n",
              "      <td>Ultrabook</td>\n",
              "      <td>13.3</td>\n",
              "      <td>Intel Core i5</td>\n",
              "      <td>8</td>\n",
              "      <td>Intel Iris Plus Graphics 640</td>\n",
              "      <td>macOS</td>\n",
              "      <td>1.37</td>\n",
              "      <td>1339.69</td>\n",
              "      <td>2560x1600</td>\n",
              "      <td>IPSPanelRetinaDisplay</td>\n",
              "      <td>0.0</td>\n",
              "      <td>2.3</td>\n",
              "      <td>128.0</td>\n",
              "      <td>SSD</td>\n",
              "      <td>0.0</td>\n",
              "      <td>NaN</td>\n",
              "    </tr>\n",
              "    <tr>\n",
              "      <th>1</th>\n",
              "      <td>Apple</td>\n",
              "      <td>Macbook Air</td>\n",
              "      <td>Ultrabook</td>\n",
              "      <td>13.3</td>\n",
              "      <td>Intel Core i5</td>\n",
              "      <td>8</td>\n",
              "      <td>Intel HD Graphics 6000</td>\n",
              "      <td>macOS</td>\n",
              "      <td>1.34</td>\n",
              "      <td>898.94</td>\n",
              "      <td>1440x900</td>\n",
              "      <td>NaN</td>\n",
              "      <td>0.0</td>\n",
              "      <td>1.8</td>\n",
              "      <td>128.0</td>\n",
              "      <td>FlashStorage</td>\n",
              "      <td>0.0</td>\n",
              "      <td>NaN</td>\n",
              "    </tr>\n",
              "    <tr>\n",
              "      <th>2</th>\n",
              "      <td>HP</td>\n",
              "      <td>250 G6</td>\n",
              "      <td>Notebook</td>\n",
              "      <td>15.6</td>\n",
              "      <td>Intel Core i5 7200U</td>\n",
              "      <td>8</td>\n",
              "      <td>Intel HD Graphics 620</td>\n",
              "      <td>No OS</td>\n",
              "      <td>1.86</td>\n",
              "      <td>575.00</td>\n",
              "      <td>1920x1080</td>\n",
              "      <td>NaN</td>\n",
              "      <td>0.0</td>\n",
              "      <td>2.5</td>\n",
              "      <td>256.0</td>\n",
              "      <td>SSD</td>\n",
              "      <td>0.0</td>\n",
              "      <td>NaN</td>\n",
              "    </tr>\n",
              "    <tr>\n",
              "      <th>3</th>\n",
              "      <td>Apple</td>\n",
              "      <td>MacBook Pro</td>\n",
              "      <td>Ultrabook</td>\n",
              "      <td>15.4</td>\n",
              "      <td>Intel Core i7</td>\n",
              "      <td>16</td>\n",
              "      <td>AMD Radeon Pro 455</td>\n",
              "      <td>macOS</td>\n",
              "      <td>1.83</td>\n",
              "      <td>2537.45</td>\n",
              "      <td>2880x1800</td>\n",
              "      <td>IPSPanelRetinaDisplay</td>\n",
              "      <td>0.0</td>\n",
              "      <td>2.7</td>\n",
              "      <td>512.0</td>\n",
              "      <td>SSD</td>\n",
              "      <td>0.0</td>\n",
              "      <td>NaN</td>\n",
              "    </tr>\n",
              "    <tr>\n",
              "      <th>4</th>\n",
              "      <td>Apple</td>\n",
              "      <td>MacBook Pro</td>\n",
              "      <td>Ultrabook</td>\n",
              "      <td>13.3</td>\n",
              "      <td>Intel Core i5</td>\n",
              "      <td>8</td>\n",
              "      <td>Intel Iris Plus Graphics 650</td>\n",
              "      <td>macOS</td>\n",
              "      <td>1.37</td>\n",
              "      <td>1803.60</td>\n",
              "      <td>2560x1600</td>\n",
              "      <td>IPSPanelRetinaDisplay</td>\n",
              "      <td>0.0</td>\n",
              "      <td>3.1</td>\n",
              "      <td>256.0</td>\n",
              "      <td>SSD</td>\n",
              "      <td>0.0</td>\n",
              "      <td>NaN</td>\n",
              "    </tr>\n",
              "  </tbody>\n",
              "</table>\n",
              "</div>"
            ],
            "text/plain": [
              "  company      product   typename  ...  memory_1_type memory_2_sto(GB)  memory_2_type\n",
              "0   Apple  MacBook Pro  Ultrabook  ...            SSD              0.0            NaN\n",
              "1   Apple  Macbook Air  Ultrabook  ...   FlashStorage              0.0            NaN\n",
              "2      HP       250 G6   Notebook  ...            SSD              0.0            NaN\n",
              "3   Apple  MacBook Pro  Ultrabook  ...            SSD              0.0            NaN\n",
              "4   Apple  MacBook Pro  Ultrabook  ...            SSD              0.0            NaN\n",
              "\n",
              "[5 rows x 18 columns]"
            ]
          },
          "metadata": {},
          "execution_count": 44
        }
      ]
    },
    {
      "cell_type": "code",
      "metadata": {
        "colab": {
          "base_uri": "https://localhost:8080/"
        },
        "id": "FBBzJiNMqAZH",
        "outputId": "79946af3-43ed-4d7b-e287-2a07a74412fe"
      },
      "source": [
        "df['cpu_brand'] = df['cpu'].str.extract(r'^(\\w+)')\n",
        "df['cpu_brand'].value_counts()"
      ],
      "execution_count": 45,
      "outputs": [
        {
          "output_type": "execute_result",
          "data": {
            "text/plain": [
              "Intel      1240\n",
              "AMD          62\n",
              "Samsung       1\n",
              "Name: cpu_brand, dtype: int64"
            ]
          },
          "metadata": {},
          "execution_count": 45
        }
      ]
    },
    {
      "cell_type": "code",
      "metadata": {
        "colab": {
          "base_uri": "https://localhost:8080/",
          "height": 153
        },
        "id": "VTCp4szLqCkr",
        "outputId": "6061d41f-13ca-4ad8-8a08-e973e09b8843"
      },
      "source": [
        "df[df['cpu_brand']=='Samsung']"
      ],
      "execution_count": 46,
      "outputs": [
        {
          "output_type": "execute_result",
          "data": {
            "text/html": [
              "<div>\n",
              "<style scoped>\n",
              "    .dataframe tbody tr th:only-of-type {\n",
              "        vertical-align: middle;\n",
              "    }\n",
              "\n",
              "    .dataframe tbody tr th {\n",
              "        vertical-align: top;\n",
              "    }\n",
              "\n",
              "    .dataframe thead th {\n",
              "        text-align: right;\n",
              "    }\n",
              "</style>\n",
              "<table border=\"1\" class=\"dataframe\">\n",
              "  <thead>\n",
              "    <tr style=\"text-align: right;\">\n",
              "      <th></th>\n",
              "      <th>company</th>\n",
              "      <th>product</th>\n",
              "      <th>typename</th>\n",
              "      <th>inches</th>\n",
              "      <th>cpu</th>\n",
              "      <th>ram(GB)</th>\n",
              "      <th>gpu</th>\n",
              "      <th>opsys</th>\n",
              "      <th>weight(kg)</th>\n",
              "      <th>price</th>\n",
              "      <th>resolution</th>\n",
              "      <th>screentype</th>\n",
              "      <th>touchscreen</th>\n",
              "      <th>cpu_freq(GHz)</th>\n",
              "      <th>memory_1_sto(GB)</th>\n",
              "      <th>memory_1_type</th>\n",
              "      <th>memory_2_sto(GB)</th>\n",
              "      <th>memory_2_type</th>\n",
              "      <th>cpu_brand</th>\n",
              "    </tr>\n",
              "  </thead>\n",
              "  <tbody>\n",
              "    <tr>\n",
              "      <th>1191</th>\n",
              "      <td>Samsung</td>\n",
              "      <td>Chromebook Plus</td>\n",
              "      <td>2 in 1 Convertible</td>\n",
              "      <td>12.3</td>\n",
              "      <td>Samsung Cortex A72&amp;A53</td>\n",
              "      <td>4</td>\n",
              "      <td>ARM Mali T860 MP4</td>\n",
              "      <td>Chrome OS</td>\n",
              "      <td>1.15</td>\n",
              "      <td>659.0</td>\n",
              "      <td>2400x1600</td>\n",
              "      <td>IPSPanel</td>\n",
              "      <td>1.0</td>\n",
              "      <td>2.0</td>\n",
              "      <td>32.0</td>\n",
              "      <td>FlashStorage</td>\n",
              "      <td>0.0</td>\n",
              "      <td>NaN</td>\n",
              "      <td>Samsung</td>\n",
              "    </tr>\n",
              "  </tbody>\n",
              "</table>\n",
              "</div>"
            ],
            "text/plain": [
              "      company          product  ... memory_2_type  cpu_brand\n",
              "1191  Samsung  Chromebook Plus  ...           NaN    Samsung\n",
              "\n",
              "[1 rows x 19 columns]"
            ]
          },
          "metadata": {},
          "execution_count": 46
        }
      ]
    },
    {
      "cell_type": "code",
      "metadata": {
        "colab": {
          "base_uri": "https://localhost:8080/"
        },
        "id": "T5RySK8rqFFh",
        "outputId": "7b65b51a-6beb-4384-cad4-3e0924bcc462"
      },
      "source": [
        "df=df.drop(1191)\n",
        "df['gpu_brand'] = df['gpu'].str.extract(r'^(\\w+)')\n",
        "df['gpu_brand'].value_counts()"
      ],
      "execution_count": 47,
      "outputs": [
        {
          "output_type": "execute_result",
          "data": {
            "text/plain": [
              "Intel     722\n",
              "Nvidia    400\n",
              "AMD       180\n",
              "Name: gpu_brand, dtype: int64"
            ]
          },
          "metadata": {},
          "execution_count": 47
        }
      ]
    },
    {
      "cell_type": "code",
      "metadata": {
        "colab": {
          "base_uri": "https://localhost:8080/",
          "height": 69
        },
        "id": "eQE6sbOgqGzD",
        "outputId": "6a12ad9c-d5db-424c-c845-962168e4c9a2"
      },
      "source": [
        "df[df['gpu_brand']=='ARM']"
      ],
      "execution_count": 48,
      "outputs": [
        {
          "output_type": "execute_result",
          "data": {
            "text/html": [
              "<div>\n",
              "<style scoped>\n",
              "    .dataframe tbody tr th:only-of-type {\n",
              "        vertical-align: middle;\n",
              "    }\n",
              "\n",
              "    .dataframe tbody tr th {\n",
              "        vertical-align: top;\n",
              "    }\n",
              "\n",
              "    .dataframe thead th {\n",
              "        text-align: right;\n",
              "    }\n",
              "</style>\n",
              "<table border=\"1\" class=\"dataframe\">\n",
              "  <thead>\n",
              "    <tr style=\"text-align: right;\">\n",
              "      <th></th>\n",
              "      <th>company</th>\n",
              "      <th>product</th>\n",
              "      <th>typename</th>\n",
              "      <th>inches</th>\n",
              "      <th>cpu</th>\n",
              "      <th>ram(GB)</th>\n",
              "      <th>gpu</th>\n",
              "      <th>opsys</th>\n",
              "      <th>weight(kg)</th>\n",
              "      <th>price</th>\n",
              "      <th>resolution</th>\n",
              "      <th>screentype</th>\n",
              "      <th>touchscreen</th>\n",
              "      <th>cpu_freq(GHz)</th>\n",
              "      <th>memory_1_sto(GB)</th>\n",
              "      <th>memory_1_type</th>\n",
              "      <th>memory_2_sto(GB)</th>\n",
              "      <th>memory_2_type</th>\n",
              "      <th>cpu_brand</th>\n",
              "      <th>gpu_brand</th>\n",
              "    </tr>\n",
              "  </thead>\n",
              "  <tbody>\n",
              "  </tbody>\n",
              "</table>\n",
              "</div>"
            ],
            "text/plain": [
              "Empty DataFrame\n",
              "Columns: [company, product, typename, inches, cpu, ram(GB), gpu, opsys, weight(kg), price, resolution, screentype, touchscreen, cpu_freq(GHz), memory_1_sto(GB), memory_1_type, memory_2_sto(GB), memory_2_type, cpu_brand, gpu_brand]\n",
              "Index: []"
            ]
          },
          "metadata": {},
          "execution_count": 48
        }
      ]
    },
    {
      "cell_type": "code",
      "metadata": {
        "colab": {
          "base_uri": "https://localhost:8080/",
          "height": 452
        },
        "id": "gwVYtgV3qI8W",
        "outputId": "23acc5eb-d611-457d-969c-e3d90129059e"
      },
      "source": [
        "df.head()\n"
      ],
      "execution_count": 49,
      "outputs": [
        {
          "output_type": "execute_result",
          "data": {
            "text/html": [
              "<div>\n",
              "<style scoped>\n",
              "    .dataframe tbody tr th:only-of-type {\n",
              "        vertical-align: middle;\n",
              "    }\n",
              "\n",
              "    .dataframe tbody tr th {\n",
              "        vertical-align: top;\n",
              "    }\n",
              "\n",
              "    .dataframe thead th {\n",
              "        text-align: right;\n",
              "    }\n",
              "</style>\n",
              "<table border=\"1\" class=\"dataframe\">\n",
              "  <thead>\n",
              "    <tr style=\"text-align: right;\">\n",
              "      <th></th>\n",
              "      <th>company</th>\n",
              "      <th>product</th>\n",
              "      <th>typename</th>\n",
              "      <th>inches</th>\n",
              "      <th>cpu</th>\n",
              "      <th>ram(GB)</th>\n",
              "      <th>gpu</th>\n",
              "      <th>opsys</th>\n",
              "      <th>weight(kg)</th>\n",
              "      <th>price</th>\n",
              "      <th>resolution</th>\n",
              "      <th>screentype</th>\n",
              "      <th>touchscreen</th>\n",
              "      <th>cpu_freq(GHz)</th>\n",
              "      <th>memory_1_sto(GB)</th>\n",
              "      <th>memory_1_type</th>\n",
              "      <th>memory_2_sto(GB)</th>\n",
              "      <th>memory_2_type</th>\n",
              "      <th>cpu_brand</th>\n",
              "      <th>gpu_brand</th>\n",
              "    </tr>\n",
              "  </thead>\n",
              "  <tbody>\n",
              "    <tr>\n",
              "      <th>0</th>\n",
              "      <td>Apple</td>\n",
              "      <td>MacBook Pro</td>\n",
              "      <td>Ultrabook</td>\n",
              "      <td>13.3</td>\n",
              "      <td>Intel Core i5</td>\n",
              "      <td>8</td>\n",
              "      <td>Intel Iris Plus Graphics 640</td>\n",
              "      <td>macOS</td>\n",
              "      <td>1.37</td>\n",
              "      <td>1339.69</td>\n",
              "      <td>2560x1600</td>\n",
              "      <td>IPSPanelRetinaDisplay</td>\n",
              "      <td>0.0</td>\n",
              "      <td>2.3</td>\n",
              "      <td>128.0</td>\n",
              "      <td>SSD</td>\n",
              "      <td>0.0</td>\n",
              "      <td>NaN</td>\n",
              "      <td>Intel</td>\n",
              "      <td>Intel</td>\n",
              "    </tr>\n",
              "    <tr>\n",
              "      <th>1</th>\n",
              "      <td>Apple</td>\n",
              "      <td>Macbook Air</td>\n",
              "      <td>Ultrabook</td>\n",
              "      <td>13.3</td>\n",
              "      <td>Intel Core i5</td>\n",
              "      <td>8</td>\n",
              "      <td>Intel HD Graphics 6000</td>\n",
              "      <td>macOS</td>\n",
              "      <td>1.34</td>\n",
              "      <td>898.94</td>\n",
              "      <td>1440x900</td>\n",
              "      <td>NaN</td>\n",
              "      <td>0.0</td>\n",
              "      <td>1.8</td>\n",
              "      <td>128.0</td>\n",
              "      <td>FlashStorage</td>\n",
              "      <td>0.0</td>\n",
              "      <td>NaN</td>\n",
              "      <td>Intel</td>\n",
              "      <td>Intel</td>\n",
              "    </tr>\n",
              "    <tr>\n",
              "      <th>2</th>\n",
              "      <td>HP</td>\n",
              "      <td>250 G6</td>\n",
              "      <td>Notebook</td>\n",
              "      <td>15.6</td>\n",
              "      <td>Intel Core i5 7200U</td>\n",
              "      <td>8</td>\n",
              "      <td>Intel HD Graphics 620</td>\n",
              "      <td>No OS</td>\n",
              "      <td>1.86</td>\n",
              "      <td>575.00</td>\n",
              "      <td>1920x1080</td>\n",
              "      <td>NaN</td>\n",
              "      <td>0.0</td>\n",
              "      <td>2.5</td>\n",
              "      <td>256.0</td>\n",
              "      <td>SSD</td>\n",
              "      <td>0.0</td>\n",
              "      <td>NaN</td>\n",
              "      <td>Intel</td>\n",
              "      <td>Intel</td>\n",
              "    </tr>\n",
              "    <tr>\n",
              "      <th>3</th>\n",
              "      <td>Apple</td>\n",
              "      <td>MacBook Pro</td>\n",
              "      <td>Ultrabook</td>\n",
              "      <td>15.4</td>\n",
              "      <td>Intel Core i7</td>\n",
              "      <td>16</td>\n",
              "      <td>AMD Radeon Pro 455</td>\n",
              "      <td>macOS</td>\n",
              "      <td>1.83</td>\n",
              "      <td>2537.45</td>\n",
              "      <td>2880x1800</td>\n",
              "      <td>IPSPanelRetinaDisplay</td>\n",
              "      <td>0.0</td>\n",
              "      <td>2.7</td>\n",
              "      <td>512.0</td>\n",
              "      <td>SSD</td>\n",
              "      <td>0.0</td>\n",
              "      <td>NaN</td>\n",
              "      <td>Intel</td>\n",
              "      <td>AMD</td>\n",
              "    </tr>\n",
              "    <tr>\n",
              "      <th>4</th>\n",
              "      <td>Apple</td>\n",
              "      <td>MacBook Pro</td>\n",
              "      <td>Ultrabook</td>\n",
              "      <td>13.3</td>\n",
              "      <td>Intel Core i5</td>\n",
              "      <td>8</td>\n",
              "      <td>Intel Iris Plus Graphics 650</td>\n",
              "      <td>macOS</td>\n",
              "      <td>1.37</td>\n",
              "      <td>1803.60</td>\n",
              "      <td>2560x1600</td>\n",
              "      <td>IPSPanelRetinaDisplay</td>\n",
              "      <td>0.0</td>\n",
              "      <td>3.1</td>\n",
              "      <td>256.0</td>\n",
              "      <td>SSD</td>\n",
              "      <td>0.0</td>\n",
              "      <td>NaN</td>\n",
              "      <td>Intel</td>\n",
              "      <td>Intel</td>\n",
              "    </tr>\n",
              "  </tbody>\n",
              "</table>\n",
              "</div>"
            ],
            "text/plain": [
              "  company      product   typename  ...  memory_2_type cpu_brand  gpu_brand\n",
              "0   Apple  MacBook Pro  Ultrabook  ...            NaN     Intel      Intel\n",
              "1   Apple  Macbook Air  Ultrabook  ...            NaN     Intel      Intel\n",
              "2      HP       250 G6   Notebook  ...            NaN     Intel      Intel\n",
              "3   Apple  MacBook Pro  Ultrabook  ...            NaN     Intel        AMD\n",
              "4   Apple  MacBook Pro  Ultrabook  ...            NaN     Intel      Intel\n",
              "\n",
              "[5 rows x 20 columns]"
            ]
          },
          "metadata": {},
          "execution_count": 49
        }
      ]
    },
    {
      "cell_type": "code",
      "metadata": {
        "colab": {
          "base_uri": "https://localhost:8080/"
        },
        "id": "2Gn_AJAHqK6V",
        "outputId": "3e1efc7a-1894-4224-c4d8-cc135d1925d9"
      },
      "source": [
        "df.info()"
      ],
      "execution_count": 50,
      "outputs": [
        {
          "output_type": "stream",
          "name": "stdout",
          "text": [
            "<class 'pandas.core.frame.DataFrame'>\n",
            "Int64Index: 1302 entries, 0 to 1302\n",
            "Data columns (total 20 columns):\n",
            " #   Column            Non-Null Count  Dtype  \n",
            "---  ------            --------------  -----  \n",
            " 0   company           1302 non-null   object \n",
            " 1   product           1302 non-null   object \n",
            " 2   typename          1302 non-null   object \n",
            " 3   inches            1302 non-null   float64\n",
            " 4   cpu               1302 non-null   object \n",
            " 5   ram(GB)           1302 non-null   int64  \n",
            " 6   gpu               1302 non-null   object \n",
            " 7   opsys             1302 non-null   object \n",
            " 8   weight(kg)        1302 non-null   float64\n",
            " 9   price             1302 non-null   float64\n",
            " 10  resolution        1302 non-null   object \n",
            " 11  screentype        364 non-null    object \n",
            " 12  touchscreen       1302 non-null   float64\n",
            " 13  cpu_freq(GHz)     1302 non-null   float64\n",
            " 14  memory_1_sto(GB)  1302 non-null   float64\n",
            " 15  memory_1_type     1302 non-null   object \n",
            " 16  memory_2_sto(GB)  1302 non-null   float64\n",
            " 17  memory_2_type     208 non-null    object \n",
            " 18  cpu_brand         1302 non-null   object \n",
            " 19  gpu_brand         1302 non-null   object \n",
            "dtypes: float64(7), int64(1), object(12)\n",
            "memory usage: 213.6+ KB\n"
          ]
        }
      ]
    },
    {
      "cell_type": "code",
      "metadata": {
        "id": "NJXwITltv0XK"
      },
      "source": [
        "df.to_csv('laptop-clean.csv', index=False)"
      ],
      "execution_count": 51,
      "outputs": []
    },
    {
      "cell_type": "code",
      "metadata": {
        "colab": {
          "base_uri": "https://localhost:8080/",
          "height": 452
        },
        "id": "_sCakpU7wCZ0",
        "outputId": "da6e103e-927a-4d3c-e9e7-fb2e17afec7d"
      },
      "source": [
        "df1=pd.read_csv('laptop-clean.csv')\n",
        "df1.head()"
      ],
      "execution_count": 52,
      "outputs": [
        {
          "output_type": "execute_result",
          "data": {
            "text/html": [
              "<div>\n",
              "<style scoped>\n",
              "    .dataframe tbody tr th:only-of-type {\n",
              "        vertical-align: middle;\n",
              "    }\n",
              "\n",
              "    .dataframe tbody tr th {\n",
              "        vertical-align: top;\n",
              "    }\n",
              "\n",
              "    .dataframe thead th {\n",
              "        text-align: right;\n",
              "    }\n",
              "</style>\n",
              "<table border=\"1\" class=\"dataframe\">\n",
              "  <thead>\n",
              "    <tr style=\"text-align: right;\">\n",
              "      <th></th>\n",
              "      <th>company</th>\n",
              "      <th>product</th>\n",
              "      <th>typename</th>\n",
              "      <th>inches</th>\n",
              "      <th>cpu</th>\n",
              "      <th>ram(GB)</th>\n",
              "      <th>gpu</th>\n",
              "      <th>opsys</th>\n",
              "      <th>weight(kg)</th>\n",
              "      <th>price</th>\n",
              "      <th>resolution</th>\n",
              "      <th>screentype</th>\n",
              "      <th>touchscreen</th>\n",
              "      <th>cpu_freq(GHz)</th>\n",
              "      <th>memory_1_sto(GB)</th>\n",
              "      <th>memory_1_type</th>\n",
              "      <th>memory_2_sto(GB)</th>\n",
              "      <th>memory_2_type</th>\n",
              "      <th>cpu_brand</th>\n",
              "      <th>gpu_brand</th>\n",
              "    </tr>\n",
              "  </thead>\n",
              "  <tbody>\n",
              "    <tr>\n",
              "      <th>0</th>\n",
              "      <td>Apple</td>\n",
              "      <td>MacBook Pro</td>\n",
              "      <td>Ultrabook</td>\n",
              "      <td>13.3</td>\n",
              "      <td>Intel Core i5</td>\n",
              "      <td>8</td>\n",
              "      <td>Intel Iris Plus Graphics 640</td>\n",
              "      <td>macOS</td>\n",
              "      <td>1.37</td>\n",
              "      <td>1339.69</td>\n",
              "      <td>2560x1600</td>\n",
              "      <td>IPSPanelRetinaDisplay</td>\n",
              "      <td>0.0</td>\n",
              "      <td>2.3</td>\n",
              "      <td>128.0</td>\n",
              "      <td>SSD</td>\n",
              "      <td>0.0</td>\n",
              "      <td>NaN</td>\n",
              "      <td>Intel</td>\n",
              "      <td>Intel</td>\n",
              "    </tr>\n",
              "    <tr>\n",
              "      <th>1</th>\n",
              "      <td>Apple</td>\n",
              "      <td>Macbook Air</td>\n",
              "      <td>Ultrabook</td>\n",
              "      <td>13.3</td>\n",
              "      <td>Intel Core i5</td>\n",
              "      <td>8</td>\n",
              "      <td>Intel HD Graphics 6000</td>\n",
              "      <td>macOS</td>\n",
              "      <td>1.34</td>\n",
              "      <td>898.94</td>\n",
              "      <td>1440x900</td>\n",
              "      <td>NaN</td>\n",
              "      <td>0.0</td>\n",
              "      <td>1.8</td>\n",
              "      <td>128.0</td>\n",
              "      <td>FlashStorage</td>\n",
              "      <td>0.0</td>\n",
              "      <td>NaN</td>\n",
              "      <td>Intel</td>\n",
              "      <td>Intel</td>\n",
              "    </tr>\n",
              "    <tr>\n",
              "      <th>2</th>\n",
              "      <td>HP</td>\n",
              "      <td>250 G6</td>\n",
              "      <td>Notebook</td>\n",
              "      <td>15.6</td>\n",
              "      <td>Intel Core i5 7200U</td>\n",
              "      <td>8</td>\n",
              "      <td>Intel HD Graphics 620</td>\n",
              "      <td>No OS</td>\n",
              "      <td>1.86</td>\n",
              "      <td>575.00</td>\n",
              "      <td>1920x1080</td>\n",
              "      <td>NaN</td>\n",
              "      <td>0.0</td>\n",
              "      <td>2.5</td>\n",
              "      <td>256.0</td>\n",
              "      <td>SSD</td>\n",
              "      <td>0.0</td>\n",
              "      <td>NaN</td>\n",
              "      <td>Intel</td>\n",
              "      <td>Intel</td>\n",
              "    </tr>\n",
              "    <tr>\n",
              "      <th>3</th>\n",
              "      <td>Apple</td>\n",
              "      <td>MacBook Pro</td>\n",
              "      <td>Ultrabook</td>\n",
              "      <td>15.4</td>\n",
              "      <td>Intel Core i7</td>\n",
              "      <td>16</td>\n",
              "      <td>AMD Radeon Pro 455</td>\n",
              "      <td>macOS</td>\n",
              "      <td>1.83</td>\n",
              "      <td>2537.45</td>\n",
              "      <td>2880x1800</td>\n",
              "      <td>IPSPanelRetinaDisplay</td>\n",
              "      <td>0.0</td>\n",
              "      <td>2.7</td>\n",
              "      <td>512.0</td>\n",
              "      <td>SSD</td>\n",
              "      <td>0.0</td>\n",
              "      <td>NaN</td>\n",
              "      <td>Intel</td>\n",
              "      <td>AMD</td>\n",
              "    </tr>\n",
              "    <tr>\n",
              "      <th>4</th>\n",
              "      <td>Apple</td>\n",
              "      <td>MacBook Pro</td>\n",
              "      <td>Ultrabook</td>\n",
              "      <td>13.3</td>\n",
              "      <td>Intel Core i5</td>\n",
              "      <td>8</td>\n",
              "      <td>Intel Iris Plus Graphics 650</td>\n",
              "      <td>macOS</td>\n",
              "      <td>1.37</td>\n",
              "      <td>1803.60</td>\n",
              "      <td>2560x1600</td>\n",
              "      <td>IPSPanelRetinaDisplay</td>\n",
              "      <td>0.0</td>\n",
              "      <td>3.1</td>\n",
              "      <td>256.0</td>\n",
              "      <td>SSD</td>\n",
              "      <td>0.0</td>\n",
              "      <td>NaN</td>\n",
              "      <td>Intel</td>\n",
              "      <td>Intel</td>\n",
              "    </tr>\n",
              "  </tbody>\n",
              "</table>\n",
              "</div>"
            ],
            "text/plain": [
              "  company      product   typename  ...  memory_2_type cpu_brand  gpu_brand\n",
              "0   Apple  MacBook Pro  Ultrabook  ...            NaN     Intel      Intel\n",
              "1   Apple  Macbook Air  Ultrabook  ...            NaN     Intel      Intel\n",
              "2      HP       250 G6   Notebook  ...            NaN     Intel      Intel\n",
              "3   Apple  MacBook Pro  Ultrabook  ...            NaN     Intel        AMD\n",
              "4   Apple  MacBook Pro  Ultrabook  ...            NaN     Intel      Intel\n",
              "\n",
              "[5 rows x 20 columns]"
            ]
          },
          "metadata": {},
          "execution_count": 52
        }
      ]
    },
    {
      "cell_type": "code",
      "metadata": {
        "id": "QM0dbqmpwEn-"
      },
      "source": [
        "df_clean=df.copy()"
      ],
      "execution_count": 53,
      "outputs": []
    },
    {
      "cell_type": "code",
      "metadata": {
        "colab": {
          "base_uri": "https://localhost:8080/",
          "height": 716
        },
        "id": "36CgL3smwGlW",
        "outputId": "6015da71-8c8e-49f3-ddc3-afb067868cf5"
      },
      "source": [
        "ig, ax  = plt.subplots(figsize=(10,5))\n",
        "ax=sns.countplot(x='company', data=df)\n",
        "ax.set_xticklabels(ax.get_xticklabels(), rotation=80)"
      ],
      "execution_count": 54,
      "outputs": [
        {
          "output_type": "execute_result",
          "data": {
            "text/plain": [
              "[Text(0, 0, 'Apple'),\n",
              " Text(0, 0, 'HP'),\n",
              " Text(0, 0, 'Acer'),\n",
              " Text(0, 0, 'Asus'),\n",
              " Text(0, 0, 'Dell'),\n",
              " Text(0, 0, 'Lenovo'),\n",
              " Text(0, 0, 'Chuwi'),\n",
              " Text(0, 0, 'MSI'),\n",
              " Text(0, 0, 'Microsoft'),\n",
              " Text(0, 0, 'Toshiba'),\n",
              " Text(0, 0, 'Huawei'),\n",
              " Text(0, 0, 'Xiaomi'),\n",
              " Text(0, 0, 'Vero'),\n",
              " Text(0, 0, 'Razer'),\n",
              " Text(0, 0, 'Mediacom'),\n",
              " Text(0, 0, 'Samsung'),\n",
              " Text(0, 0, 'Google'),\n",
              " Text(0, 0, 'Fujitsu'),\n",
              " Text(0, 0, 'LG')]"
            ]
          },
          "metadata": {},
          "execution_count": 54
        },
        {
          "output_type": "display_data",
          "data": {
            "image/png": "[encoded data removed]",
            "text/plain": [
              "<Figure size 720x360 with 1 Axes>"
            ]
          },
          "metadata": {
            "needs_background": "light"
          }
        }
      ]
    },
    {
      "cell_type": "code",
      "metadata": {
        "colab": {
          "base_uri": "https://localhost:8080/"
        },
        "id": "m6Om5SjfwITF",
        "outputId": "df46ce8c-d2a7-4369-f190-e42cbb6f9cfb"
      },
      "source": [
        "df['company'].value_counts(ascending=True)"
      ],
      "execution_count": 55,
      "outputs": [
        {
          "output_type": "execute_result",
          "data": {
            "text/plain": [
              "Huawei         2\n",
              "Google         3\n",
              "Fujitsu        3\n",
              "LG             3\n",
              "Chuwi          3\n",
              "Xiaomi         4\n",
              "Vero           4\n",
              "Microsoft      6\n",
              "Mediacom       7\n",
              "Razer          7\n",
              "Samsung        8\n",
              "Apple         21\n",
              "Toshiba       48\n",
              "MSI           54\n",
              "Acer         103\n",
              "Asus         158\n",
              "HP           274\n",
              "Lenovo       297\n",
              "Dell         297\n",
              "Name: company, dtype: int64"
            ]
          },
          "metadata": {},
          "execution_count": 55
        }
      ]
    },
    {
      "cell_type": "code",
      "metadata": {
        "colab": {
          "base_uri": "https://localhost:8080/",
          "height": 532
        },
        "id": "ZM-07VlJwK4h",
        "outputId": "5a27027e-64a6-49a6-d778-bf4f2df8dccc"
      },
      "source": [
        "fig, ax  = plt.subplots(figsize=(10,5))\n",
        "ax=sns.countplot(x='typename', data=df)\n",
        "ax.set_xticklabels(ax.get_xticklabels(), rotation=80)"
      ],
      "execution_count": 56,
      "outputs": [
        {
          "output_type": "execute_result",
          "data": {
            "text/plain": [
              "[Text(0, 0, 'Ultrabook'),\n",
              " Text(0, 0, 'Notebook'),\n",
              " Text(0, 0, 'Netbook'),\n",
              " Text(0, 0, 'Gaming'),\n",
              " Text(0, 0, '2 in 1 Convertible'),\n",
              " Text(0, 0, 'Workstation')]"
            ]
          },
          "metadata": {},
          "execution_count": 56
        },
        {
          "output_type": "display_data",
          "data": {
            "image/png": "[encoded data removed]",
            "text/plain": [
              "<Figure size 720x360 with 1 Axes>"
            ]
          },
          "metadata": {
            "needs_background": "light"
          }
        }
      ]
    },
    {
      "cell_type": "code",
      "metadata": {
        "colab": {
          "base_uri": "https://localhost:8080/"
        },
        "id": "-PTe1ux_wN5g",
        "outputId": "6f0f784b-70ce-4d68-846f-50c5987c901c"
      },
      "source": [
        "print('Most laptops are notebooks, which make {}% of the total laptops'.format(np.round(len(df[df['typename']=='Notebook'])*100/len(df),2)))"
      ],
      "execution_count": 57,
      "outputs": [
        {
          "output_type": "stream",
          "name": "stdout",
          "text": [
            "Most laptops are notebooks, which make 55.84% of the total laptops\n"
          ]
        }
      ]
    },
    {
      "cell_type": "code",
      "metadata": {
        "colab": {
          "base_uri": "https://localhost:8080/",
          "height": 668
        },
        "id": "5rHWkP47wPVc",
        "outputId": "31ac26ae-d6da-4e29-c6b9-f4170c5c282f"
      },
      "source": [
        "fig, ax  = plt.subplots(figsize=(10,5))\n",
        "ax=sns.countplot(x='inches', data=df)\n",
        "ax.set_xticklabels(ax.get_xticklabels(), rotation=80)"
      ],
      "execution_count": 58,
      "outputs": [
        {
          "output_type": "execute_result",
          "data": {
            "text/plain": [
              "[Text(0, 0, '10.1'),\n",
              " Text(0, 0, '11.3'),\n",
              " Text(0, 0, '11.6'),\n",
              " Text(0, 0, '12.0'),\n",
              " Text(0, 0, '12.3'),\n",
              " Text(0, 0, '12.5'),\n",
              " Text(0, 0, '13.0'),\n",
              " Text(0, 0, '13.3'),\n",
              " Text(0, 0, '13.5'),\n",
              " Text(0, 0, '13.9'),\n",
              " Text(0, 0, '14.0'),\n",
              " Text(0, 0, '14.1'),\n",
              " Text(0, 0, '15.0'),\n",
              " Text(0, 0, '15.4'),\n",
              " Text(0, 0, '15.6'),\n",
              " Text(0, 0, '17.0'),\n",
              " Text(0, 0, '17.3'),\n",
              " Text(0, 0, '18.4')]"
            ]
          },
          "metadata": {},
          "execution_count": 58
        },
        {
          "output_type": "display_data",
          "data": {
            "image/png": "[encoded data removed]",
            "text/plain": [
              "<Figure size 720x360 with 1 Axes>"
            ]
          },
          "metadata": {
            "needs_background": "light"
          }
        }
      ]
    },
    {
      "cell_type": "code",
      "metadata": {
        "colab": {
          "base_uri": "https://localhost:8080/"
        },
        "id": "Wn4DgYaTwQup",
        "outputId": "2544b82e-9825-47a9-d530-ec2da9458552"
      },
      "source": [
        "print('Most laptops have 15.6 inches, which make {}% of the total laptops'.format(np.round(len(df[df['inches']==15.6])*100/len(df),2)))"
      ],
      "execution_count": 59,
      "outputs": [
        {
          "output_type": "stream",
          "name": "stdout",
          "text": [
            "Most laptops have 15.6 inches, which make 51.08% of the total laptops\n"
          ]
        }
      ]
    },
    {
      "cell_type": "code",
      "metadata": {
        "colab": {
          "base_uri": "https://localhost:8080/"
        },
        "id": "tHxN0TrnwSUv",
        "outputId": "e13ed56c-3d5c-4920-e7ea-b7a05eb341df"
      },
      "source": [
        "df['inches'].value_counts(ascending=True)"
      ],
      "execution_count": 60,
      "outputs": [
        {
          "output_type": "execute_result",
          "data": {
            "text/plain": [
              "11.3      1\n",
              "17.0      1\n",
              "14.1      1\n",
              "18.4      1\n",
              "13.0      2\n",
              "15.0      4\n",
              "10.1      4\n",
              "12.3      4\n",
              "15.4      4\n",
              "12.0      6\n",
              "13.5      6\n",
              "13.9      6\n",
              "11.6     33\n",
              "12.5     39\n",
              "17.3    164\n",
              "13.3    164\n",
              "14.0    197\n",
              "15.6    665\n",
              "Name: inches, dtype: int64"
            ]
          },
          "metadata": {},
          "execution_count": 60
        }
      ]
    },
    {
      "cell_type": "code",
      "metadata": {
        "colab": {
          "base_uri": "https://localhost:8080/",
          "height": 302
        },
        "id": "uEJgpO7uwTqc",
        "outputId": "e8d1ce5c-de52-40a3-ec9f-bc0e3e1bb75a"
      },
      "source": [
        "sns.boxplot(x='inches', data=df[(df['inches'] <=17.3) & (df['inches'] >= 11.6)])"
      ],
      "execution_count": 61,
      "outputs": [
        {
          "output_type": "execute_result",
          "data": {
            "text/plain": [
              "<matplotlib.axes._subplots.AxesSubplot at 0x7fb295ab9810>"
            ]
          },
          "metadata": {},
          "execution_count": 61
        },
        {
          "output_type": "display_data",
          "data": {
            "image/png": "[encoded data removed]",
            "text/plain": [
              "<Figure size 432x288 with 1 Axes>"
            ]
          },
          "metadata": {
            "needs_background": "light"
          }
        }
      ]
    },
    {
      "cell_type": "code",
      "metadata": {
        "colab": {
          "base_uri": "https://localhost:8080/"
        },
        "id": "AnasIuuzwV9E",
        "outputId": "2bef111f-08c2-4700-edcb-0da58f4ac522"
      },
      "source": [
        "df[(df['inches'] >17.3) | (df['inches'] < 11.6)].shape"
      ],
      "execution_count": 62,
      "outputs": [
        {
          "output_type": "execute_result",
          "data": {
            "text/plain": [
              "(6, 20)"
            ]
          },
          "metadata": {},
          "execution_count": 62
        }
      ]
    },
    {
      "cell_type": "code",
      "metadata": {
        "colab": {
          "base_uri": "https://localhost:8080/"
        },
        "id": "2OQR9NVTwYP5",
        "outputId": "8dd1071a-35d1-4001-efe6-01365d50db1b"
      },
      "source": [
        "df_clean = df_clean.loc[(df['inches'] <=17.3) & (df['inches'] >= 11.6)]\n",
        "print('We removed {} outliers!'.format(len(df)-len(df_clean)))"
      ],
      "execution_count": 63,
      "outputs": [
        {
          "output_type": "stream",
          "name": "stdout",
          "text": [
            "We removed 6 outliers!\n"
          ]
        }
      ]
    },
    {
      "cell_type": "code",
      "metadata": {
        "colab": {
          "base_uri": "https://localhost:8080/",
          "height": 302
        },
        "id": "1KlJGRg2wZ4x",
        "outputId": "c5fbd875-6fe7-4dbc-9b91-90c42d265f52"
      },
      "source": [
        "sns.boxplot(x='inches', data=df_clean)"
      ],
      "execution_count": 64,
      "outputs": [
        {
          "output_type": "execute_result",
          "data": {
            "text/plain": [
              "<matplotlib.axes._subplots.AxesSubplot at 0x7fb294f35c90>"
            ]
          },
          "metadata": {},
          "execution_count": 64
        },
        {
          "output_type": "display_data",
          "data": {
            "image/png": "[encoded data removed]",
            "text/plain": [
              "<Figure size 432x288 with 1 Axes>"
            ]
          },
          "metadata": {
            "needs_background": "light"
          }
        }
      ]
    },
    {
      "cell_type": "code",
      "metadata": {
        "colab": {
          "base_uri": "https://localhost:8080/",
          "height": 339
        },
        "id": "aCbqvjF0wbM1",
        "outputId": "e5ae99d1-4b43-4ac8-9aef-45ed84660ac3"
      },
      "source": [
        "fig, ax  = plt.subplots(figsize=(10,5))\n",
        "ax=sns.histplot(x='weight(kg)', data=df)"
      ],
      "execution_count": 65,
      "outputs": [
        {
          "output_type": "display_data",
          "data": {
            "image/png": "[encoded data removed]",
            "text/plain": [
              "<Figure size 720x360 with 1 Axes>"
            ]
          },
          "metadata": {
            "needs_background": "light"
          }
        }
      ]
    },
    {
      "cell_type": "code",
      "metadata": {
        "colab": {
          "base_uri": "https://localhost:8080/"
        },
        "id": "QZSs7ejiwcuQ",
        "outputId": "bd625259-6258-4074-b157-1cbc29c320ab"
      },
      "source": [
        "print('Average weight is: {} kg'.format(np.round(df['weight(kg)'].mean(),2)))\n",
        "print('Median weight size is: {} kg'.format(df['weight(kg)'].median()))\n",
        "print('Mode weight size is: {} kg'.format(df['weight(kg)'].mode()[0]))"
      ],
      "execution_count": 66,
      "outputs": [
        {
          "output_type": "stream",
          "name": "stdout",
          "text": [
            "Average weight is: 2.04 kg\n",
            "Median weight size is: 2.04 kg\n",
            "Mode weight size is: 2.2 kg\n"
          ]
        }
      ]
    },
    {
      "cell_type": "code",
      "metadata": {
        "colab": {
          "base_uri": "https://localhost:8080/"
        },
        "id": "YH8ddOBFwesu",
        "outputId": "58cfd21e-570c-4aff-84c2-e9459c98c6af"
      },
      "source": [
        "df.loc[df['weight(kg)'] > 3.5]['weight(kg)'].value_counts(ascending=True)"
      ],
      "execution_count": 67,
      "outputs": [
        {
          "output_type": "execute_result",
          "data": {
            "text/plain": [
              "4.50     1\n",
              "4.70     1\n",
              "4.33     1\n",
              "3.74     1\n",
              "4.40     1\n",
              "3.80     1\n",
              "3.52     1\n",
              "3.60     1\n",
              "3.58     2\n",
              "4.00     2\n",
              "4.20     3\n",
              "4.14     3\n",
              "4.60     4\n",
              "4.36     4\n",
              "4.30     4\n",
              "3.78     5\n",
              "4.42    11\n",
              "Name: weight(kg), dtype: int64"
            ]
          },
          "metadata": {},
          "execution_count": 67
        }
      ]
    },
    {
      "cell_type": "code",
      "metadata": {
        "colab": {
          "base_uri": "https://localhost:8080/",
          "height": 302
        },
        "id": "I9I0k2BBwgWJ",
        "outputId": "5a178eaa-183f-47cc-e93a-60a6ea240c1e"
      },
      "source": [
        "sns.boxplot(x='weight(kg)', data=df)"
      ],
      "execution_count": 68,
      "outputs": [
        {
          "output_type": "execute_result",
          "data": {
            "text/plain": [
              "<matplotlib.axes._subplots.AxesSubplot at 0x7fb294dfca50>"
            ]
          },
          "metadata": {},
          "execution_count": 68
        },
        {
          "output_type": "display_data",
          "data": {
            "image/png": "[encoded data removed]",
            "text/plain": [
              "<Figure size 432x288 with 1 Axes>"
            ]
          },
          "metadata": {
            "needs_background": "light"
          }
        }
      ]
    },
    {
      "cell_type": "code",
      "metadata": {
        "colab": {
          "base_uri": "https://localhost:8080/"
        },
        "id": "QXtHoRlMwh8T",
        "outputId": "1c75a683-f23b-457a-a2e8-cf755e60a5a9"
      },
      "source": [
        "df_clean = df_clean.loc[df['weight(kg)'] < 3.5]\n",
        "print('In total we removed {} outliers!'.format(len(df)-len(df_clean)))"
      ],
      "execution_count": 69,
      "outputs": [
        {
          "output_type": "stream",
          "name": "stdout",
          "text": [
            "In total we removed 51 outliers!\n"
          ]
        }
      ]
    },
    {
      "cell_type": "code",
      "metadata": {
        "colab": {
          "base_uri": "https://localhost:8080/",
          "height": 302
        },
        "id": "wG1lO8mtwkMI",
        "outputId": "da35ea4d-06da-4cda-de20-c44fe8166a91"
      },
      "source": [
        "sns.boxplot(x='weight(kg)', data=df_clean)"
      ],
      "execution_count": 70,
      "outputs": [
        {
          "output_type": "execute_result",
          "data": {
            "text/plain": [
              "<matplotlib.axes._subplots.AxesSubplot at 0x7fb294d66390>"
            ]
          },
          "metadata": {},
          "execution_count": 70
        },
        {
          "output_type": "display_data",
          "data": {
            "image/png": "[encoded data removed]",
            "text/plain": [
              "<Figure size 432x288 with 1 Axes>"
            ]
          },
          "metadata": {
            "needs_background": "light"
          }
        }
      ]
    },
    {
      "cell_type": "code",
      "metadata": {
        "colab": {
          "base_uri": "https://localhost:8080/",
          "height": 342
        },
        "id": "FfGVQp5lwlZI",
        "outputId": "be22eb80-0462-4d86-fc13-6782ace01b05"
      },
      "source": [
        "fig, ax  = plt.subplots(figsize=(10,5))\n",
        "ax=sns.histplot(x='price', data=df)"
      ],
      "execution_count": 71,
      "outputs": [
        {
          "output_type": "display_data",
          "data": {
            "image/png": "[encoded data removed]",
            "text/plain": [
              "<Figure size 720x360 with 1 Axes>"
            ]
          },
          "metadata": {
            "needs_background": "light"
          }
        }
      ]
    },
    {
      "cell_type": "code",
      "metadata": {
        "colab": {
          "base_uri": "https://localhost:8080/"
        },
        "id": "mqdZsSBfwmo5",
        "outputId": "ba29908b-2b69-4d47-a08b-b7301fc166f5"
      },
      "source": [
        "print('Average price is: {} euros '.format(np.round(df['price'].mean(),2)))\n",
        "print('Median price size is: {} euros '.format(df['price'].median()))\n",
        "print('Mode price size is: {} euros '.format(df['price'].mode()[0]))"
      ],
      "execution_count": 72,
      "outputs": [
        {
          "output_type": "stream",
          "name": "stdout",
          "text": [
            "Average price is: 1124.04 euros \n",
            "Median price size is: 978.0 euros \n",
            "Mode price size is: 1099.0 euros \n"
          ]
        }
      ]
    },
    {
      "cell_type": "code",
      "metadata": {
        "colab": {
          "base_uri": "https://localhost:8080/",
          "height": 339
        },
        "id": "ayr-W_bRwoE1",
        "outputId": "8e5595fa-b42e-4872-fccc-2c2cb44dc928"
      },
      "source": [
        "fig, ax  = plt.subplots(figsize=(10,5))\n",
        "ax=sns.boxplot(x='price', data=df)"
      ],
      "execution_count": 73,
      "outputs": [
        {
          "output_type": "display_data",
          "data": {
            "image/png": "[encoded data removed]",
            "text/plain": [
              "<Figure size 720x360 with 1 Axes>"
            ]
          },
          "metadata": {
            "needs_background": "light"
          }
        }
      ]
    },
    {
      "cell_type": "code",
      "metadata": {
        "colab": {
          "base_uri": "https://localhost:8080/",
          "height": 302
        },
        "id": "07WIdxKUwpxK",
        "outputId": "d2b39317-5ad9-45d9-b926-e225c4ee8349"
      },
      "source": [
        "sns.boxplot(x='typename', y='price', data=df[df['price']>3000], hue='cpu_brand')"
      ],
      "execution_count": 74,
      "outputs": [
        {
          "output_type": "execute_result",
          "data": {
            "text/plain": [
              "<matplotlib.axes._subplots.AxesSubplot at 0x7fb294b96510>"
            ]
          },
          "metadata": {},
          "execution_count": 74
        },
        {
          "output_type": "display_data",
          "data": {
            "image/png": "[encoded data removed]",
            "text/plain": [
              "<Figure size 432x288 with 1 Axes>"
            ]
          },
          "metadata": {
            "needs_background": "light"
          }
        }
      ]
    },
    {
      "cell_type": "code",
      "metadata": {
        "colab": {
          "base_uri": "https://localhost:8080/",
          "height": 337
        },
        "id": "Pf3ZLGvTwrKh",
        "outputId": "59aaa295-6089-4882-d6d2-6d1d2dd803e4"
      },
      "source": [
        "df[df['price']>4500]"
      ],
      "execution_count": 75,
      "outputs": [
        {
          "output_type": "execute_result",
          "data": {
            "text/html": [
              "<div>\n",
              "<style scoped>\n",
              "    .dataframe tbody tr th:only-of-type {\n",
              "        vertical-align: middle;\n",
              "    }\n",
              "\n",
              "    .dataframe tbody tr th {\n",
              "        vertical-align: top;\n",
              "    }\n",
              "\n",
              "    .dataframe thead th {\n",
              "        text-align: right;\n",
              "    }\n",
              "</style>\n",
              "<table border=\"1\" class=\"dataframe\">\n",
              "  <thead>\n",
              "    <tr style=\"text-align: right;\">\n",
              "      <th></th>\n",
              "      <th>company</th>\n",
              "      <th>product</th>\n",
              "      <th>typename</th>\n",
              "      <th>inches</th>\n",
              "      <th>cpu</th>\n",
              "      <th>ram(GB)</th>\n",
              "      <th>gpu</th>\n",
              "      <th>opsys</th>\n",
              "      <th>weight(kg)</th>\n",
              "      <th>price</th>\n",
              "      <th>resolution</th>\n",
              "      <th>screentype</th>\n",
              "      <th>touchscreen</th>\n",
              "      <th>cpu_freq(GHz)</th>\n",
              "      <th>memory_1_sto(GB)</th>\n",
              "      <th>memory_1_type</th>\n",
              "      <th>memory_2_sto(GB)</th>\n",
              "      <th>memory_2_type</th>\n",
              "      <th>cpu_brand</th>\n",
              "      <th>gpu_brand</th>\n",
              "    </tr>\n",
              "  </thead>\n",
              "  <tbody>\n",
              "    <tr>\n",
              "      <th>196</th>\n",
              "      <td>Razer</td>\n",
              "      <td>Blade Pro</td>\n",
              "      <td>Gaming</td>\n",
              "      <td>17.3</td>\n",
              "      <td>Intel Core i7 7820HK</td>\n",
              "      <td>32</td>\n",
              "      <td>Nvidia GeForce GTX 1080</td>\n",
              "      <td>Windows 10</td>\n",
              "      <td>3.49</td>\n",
              "      <td>6099.0</td>\n",
              "      <td>3840x2160</td>\n",
              "      <td>NaN</td>\n",
              "      <td>1.0</td>\n",
              "      <td>2.9</td>\n",
              "      <td>1000.0</td>\n",
              "      <td>SSD</td>\n",
              "      <td>0.0</td>\n",
              "      <td>NaN</td>\n",
              "      <td>Intel</td>\n",
              "      <td>Nvidia</td>\n",
              "    </tr>\n",
              "    <tr>\n",
              "      <th>610</th>\n",
              "      <td>Lenovo</td>\n",
              "      <td>Thinkpad P51</td>\n",
              "      <td>Notebook</td>\n",
              "      <td>15.6</td>\n",
              "      <td>Intel Xeon E3-1535M v6</td>\n",
              "      <td>32</td>\n",
              "      <td>Nvidia Quadro M2200M</td>\n",
              "      <td>Windows 10</td>\n",
              "      <td>2.50</td>\n",
              "      <td>4899.0</td>\n",
              "      <td>3840x2160</td>\n",
              "      <td>IPSPanel</td>\n",
              "      <td>0.0</td>\n",
              "      <td>3.1</td>\n",
              "      <td>1000.0</td>\n",
              "      <td>SSD</td>\n",
              "      <td>0.0</td>\n",
              "      <td>NaN</td>\n",
              "      <td>Intel</td>\n",
              "      <td>Nvidia</td>\n",
              "    </tr>\n",
              "    <tr>\n",
              "      <th>830</th>\n",
              "      <td>Razer</td>\n",
              "      <td>Blade Pro</td>\n",
              "      <td>Gaming</td>\n",
              "      <td>17.3</td>\n",
              "      <td>Intel Core i7 7820HK</td>\n",
              "      <td>32</td>\n",
              "      <td>Nvidia GeForce GTX 1080</td>\n",
              "      <td>Windows 10</td>\n",
              "      <td>3.49</td>\n",
              "      <td>5499.0</td>\n",
              "      <td>3840x2160</td>\n",
              "      <td>NaN</td>\n",
              "      <td>1.0</td>\n",
              "      <td>2.9</td>\n",
              "      <td>512.0</td>\n",
              "      <td>SSD</td>\n",
              "      <td>0.0</td>\n",
              "      <td>NaN</td>\n",
              "      <td>Intel</td>\n",
              "      <td>Nvidia</td>\n",
              "    </tr>\n",
              "  </tbody>\n",
              "</table>\n",
              "</div>"
            ],
            "text/plain": [
              "    company       product  typename  ...  memory_2_type cpu_brand  gpu_brand\n",
              "196   Razer     Blade Pro    Gaming  ...            NaN     Intel     Nvidia\n",
              "610  Lenovo  Thinkpad P51  Notebook  ...            NaN     Intel     Nvidia\n",
              "830   Razer     Blade Pro    Gaming  ...            NaN     Intel     Nvidia\n",
              "\n",
              "[3 rows x 20 columns]"
            ]
          },
          "metadata": {},
          "execution_count": 75
        }
      ]
    },
    {
      "cell_type": "code",
      "metadata": {
        "colab": {
          "base_uri": "https://localhost:8080/",
          "height": 339
        },
        "id": "3ClwFsmqwsdZ",
        "outputId": "ea491dc9-40a6-4ed0-d08b-a45a7fb5eee6"
      },
      "source": [
        "fig, ax  = plt.subplots(figsize=(10,5))\n",
        "ax=sns.histplot(x='price', data=df_clean)"
      ],
      "execution_count": 76,
      "outputs": [
        {
          "output_type": "display_data",
          "data": {
            "image/png": "[encoded data removed]",
            "text/plain": [
              "<Figure size 720x360 with 1 Axes>"
            ]
          },
          "metadata": {
            "needs_background": "light"
          }
        }
      ]
    },
    {
      "cell_type": "code",
      "metadata": {
        "colab": {
          "base_uri": "https://localhost:8080/",
          "height": 302
        },
        "id": "xD_O0y5pwtzd",
        "outputId": "13376528-8ecf-4686-8aa5-9c8385819c6a"
      },
      "source": [
        "sns.boxplot(x='price', data=df_clean)"
      ],
      "execution_count": 77,
      "outputs": [
        {
          "output_type": "execute_result",
          "data": {
            "text/plain": [
              "<matplotlib.axes._subplots.AxesSubplot at 0x7fb2949c71d0>"
            ]
          },
          "metadata": {},
          "execution_count": 77
        },
        {
          "output_type": "display_data",
          "data": {
            "image/png": "[encoded data removed]",
            "text/plain": [
              "<Figure size 432x288 with 1 Axes>"
            ]
          },
          "metadata": {
            "needs_background": "light"
          }
        }
      ]
    },
    {
      "cell_type": "code",
      "metadata": {
        "colab": {
          "base_uri": "https://localhost:8080/"
        },
        "id": "XYmAjMLnwvKt",
        "outputId": "184cd47f-6fa6-40b6-bf98-2629075f9759"
      },
      "source": [
        "def iqr_fence(x):\n",
        "    Q1 = x.quantile(0.25)\n",
        "    Q3 = x.quantile(0.75)\n",
        "    IQR = Q3 - Q1\n",
        "    Lower_Fence = Q1 - (1.5 * IQR)\n",
        "    Upper_Fence = Q3 + (1.5 * IQR)\n",
        "    u = max(x[x<Upper_Fence])\n",
        "    l = min(x[x>Lower_Fence])\n",
        "    print('Lower Fence:', l)\n",
        "    print('Higher Fence:', u)\n",
        "    return [u,l]\n",
        "iqr_fence(df_clean['price'])"
      ],
      "execution_count": 78,
      "outputs": [
        {
          "output_type": "stream",
          "name": "stdout",
          "text": [
            "Lower Fence: 174.0\n",
            "Higher Fence: 2599.0\n"
          ]
        },
        {
          "output_type": "execute_result",
          "data": {
            "text/plain": [
              "[2599.0, 174.0]"
            ]
          },
          "metadata": {},
          "execution_count": 78
        }
      ]
    },
    {
      "cell_type": "code",
      "metadata": {
        "colab": {
          "base_uri": "https://localhost:8080/"
        },
        "id": "48JE0VlEwxXP",
        "outputId": "589f8798-e82f-430f-dc8d-09f639c3d630"
      },
      "source": [
        "df_clean[df_clean['price'] >2599]['price'].value_counts(ascending=True)"
      ],
      "execution_count": 79,
      "outputs": [
        {
          "output_type": "execute_result",
          "data": {
            "text/plain": [
              "2858.00    1\n",
              "3949.40    1\n",
              "5499.00    1\n",
              "4389.00    1\n",
              "4899.00    1\n",
              "6099.00    1\n",
              "3499.00    1\n",
              "2680.00    1\n",
              "2620.00    1\n",
              "3100.00    1\n",
              "2649.00    1\n",
              "2774.63    1\n",
              "3299.00    1\n",
              "2999.00    1\n",
              "2799.00    1\n",
              "2625.00    1\n",
              "2712.00    1\n",
              "2639.00    1\n",
              "2884.86    1\n",
              "3055.00    1\n",
              "2824.00    1\n",
              "2813.75    1\n",
              "2968.00    2\n",
              "2899.00    2\n",
              "Name: price, dtype: int64"
            ]
          },
          "metadata": {},
          "execution_count": 79
        }
      ]
    },
    {
      "cell_type": "code",
      "metadata": {
        "colab": {
          "base_uri": "https://localhost:8080/"
        },
        "id": "Yyusd452wz0Q",
        "outputId": "2e9c6801-a4f8-4002-9dd2-ae3e8d9e3374"
      },
      "source": [
        "df_clean = df_clean.loc[df['price'] < 2599]\n",
        "print('In total we removed {} outliers!'.format(len(df)-len(df_clean)))"
      ],
      "execution_count": 80,
      "outputs": [
        {
          "output_type": "stream",
          "name": "stdout",
          "text": [
            "In total we removed 78 outliers!\n"
          ]
        }
      ]
    },
    {
      "cell_type": "code",
      "metadata": {
        "colab": {
          "base_uri": "https://localhost:8080/",
          "height": 302
        },
        "id": "Q9YYsLs2w9LM",
        "outputId": "2f909d1d-2c1f-47d5-bdf0-405486d3422e"
      },
      "source": [
        "sns.boxplot(x='price', data=df_clean)"
      ],
      "execution_count": 81,
      "outputs": [
        {
          "output_type": "execute_result",
          "data": {
            "text/plain": [
              "<matplotlib.axes._subplots.AxesSubplot at 0x7fb294b7de10>"
            ]
          },
          "metadata": {},
          "execution_count": 81
        },
        {
          "output_type": "display_data",
          "data": {
            "image/png": "[encoded data removed]",
            "text/plain": [
              "<Figure size 432x288 with 1 Axes>"
            ]
          },
          "metadata": {
            "needs_background": "light"
          }
        }
      ]
    },
    {
      "cell_type": "code",
      "metadata": {
        "colab": {
          "base_uri": "https://localhost:8080/",
          "height": 339
        },
        "id": "dOTBVGjcw-gU",
        "outputId": "2f1fcc28-7a59-4561-b2bc-394819aa635c"
      },
      "source": [
        "fig, ax  = plt.subplots(figsize=(10,5))\n",
        "ax=sns.kdeplot(x='ram(GB)', data=df)"
      ],
      "execution_count": 82,
      "outputs": [
        {
          "output_type": "display_data",
          "data": {
            "image/png": "[encoded data removed]",
            "text/plain": [
              "<Figure size 720x360 with 1 Axes>"
            ]
          },
          "metadata": {
            "needs_background": "light"
          }
        }
      ]
    },
    {
      "cell_type": "code",
      "metadata": {
        "colab": {
          "base_uri": "https://localhost:8080/"
        },
        "id": "AqH1XHUjxANg",
        "outputId": "1e3873f4-8b91-4cf9-d730-382179f20536"
      },
      "source": [
        "print('Most laptops have 8 GB RAM, which make {}% of the total laptops'.format(np.round(len(df[df['ram(GB)']==8])*100/len(df),2)))"
      ],
      "execution_count": 83,
      "outputs": [
        {
          "output_type": "stream",
          "name": "stdout",
          "text": [
            "Most laptops have 8 GB RAM, which make 47.54% of the total laptops\n"
          ]
        }
      ]
    },
    {
      "cell_type": "code",
      "metadata": {
        "colab": {
          "base_uri": "https://localhost:8080/"
        },
        "id": "ceGRSGUVxB_-",
        "outputId": "ecfec306-8bf2-4cb3-902c-45ba8d165b44"
      },
      "source": [
        "print('Average RAM is: {} GB '.format(np.round(df['ram(GB)'].mean(),2)))\n",
        "print('Median RAM size is: {} GB '.format(df['ram(GB)'].median()))\n",
        "print('Mode RAM size is: {} GB '.format(df['ram(GB)'].mode()[0]))"
      ],
      "execution_count": 84,
      "outputs": [
        {
          "output_type": "stream",
          "name": "stdout",
          "text": [
            "Average RAM is: 8.39 GB \n",
            "Median RAM size is: 8.0 GB \n",
            "Mode RAM size is: 8 GB \n"
          ]
        }
      ]
    },
    {
      "cell_type": "code",
      "metadata": {
        "colab": {
          "base_uri": "https://localhost:8080/",
          "height": 302
        },
        "id": "zAMVJ0dfxDYM",
        "outputId": "a6f72f90-53ba-4c9a-f4e6-d5283e44d109"
      },
      "source": [
        "sns.boxplot(x='ram(GB)', data=df)"
      ],
      "execution_count": 85,
      "outputs": [
        {
          "output_type": "execute_result",
          "data": {
            "text/plain": [
              "<matplotlib.axes._subplots.AxesSubplot at 0x7fb294ddc790>"
            ]
          },
          "metadata": {},
          "execution_count": 85
        },
        {
          "output_type": "display_data",
          "data": {
            "image/png": "[encoded data removed]",
            "text/plain": [
              "<Figure size 432x288 with 1 Axes>"
            ]
          },
          "metadata": {
            "needs_background": "light"
          }
        }
      ]
    },
    {
      "cell_type": "code",
      "metadata": {
        "colab": {
          "base_uri": "https://localhost:8080/"
        },
        "id": "cmoE7x02xE0V",
        "outputId": "b16750f3-c7e8-4c77-ef25-d8c8e674a59e"
      },
      "source": [
        "iqr_fence(df_clean['ram(GB)'])"
      ],
      "execution_count": 86,
      "outputs": [
        {
          "output_type": "stream",
          "name": "stdout",
          "text": [
            "Lower Fence: 2\n",
            "Higher Fence: 12\n"
          ]
        },
        {
          "output_type": "execute_result",
          "data": {
            "text/plain": [
              "[12, 2]"
            ]
          },
          "metadata": {},
          "execution_count": 86
        }
      ]
    },
    {
      "cell_type": "code",
      "metadata": {
        "colab": {
          "base_uri": "https://localhost:8080/"
        },
        "id": "d1nUFXYoxGQA",
        "outputId": "f4ead8eb-34a6-4f3f-9d7a-57d05c1156cf"
      },
      "source": [
        "df_clean['ram(GB)'].value_counts(ascending=True)"
      ],
      "execution_count": 87,
      "outputs": [
        {
          "output_type": "execute_result",
          "data": {
            "text/plain": [
              "24      1\n",
              "2      22\n",
              "12     23\n",
              "6      41\n",
              "16    156\n",
              "4     370\n",
              "8     611\n",
              "Name: ram(GB), dtype: int64"
            ]
          },
          "metadata": {},
          "execution_count": 87
        }
      ]
    },
    {
      "cell_type": "code",
      "metadata": {
        "colab": {
          "base_uri": "https://localhost:8080/"
        },
        "id": "_D34P40QxHub",
        "outputId": "428df16c-9425-44bc-829f-630c64b83c81"
      },
      "source": [
        "df_clean = df_clean.loc[df_clean['ram(GB)']<=16]\n",
        "print('In total we removed {} outliers!'.format(len(df)-len(df_clean)))"
      ],
      "execution_count": 88,
      "outputs": [
        {
          "output_type": "stream",
          "name": "stdout",
          "text": [
            "In total we removed 79 outliers!\n"
          ]
        }
      ]
    },
    {
      "cell_type": "code",
      "metadata": {
        "colab": {
          "base_uri": "https://localhost:8080/",
          "height": 302
        },
        "id": "7B6HW_5exJfj",
        "outputId": "cb8b4957-01e7-4877-932e-355f3cbb7bf3"
      },
      "source": [
        "sns.boxplot(x='ram(GB)', data=df_clean)"
      ],
      "execution_count": 89,
      "outputs": [
        {
          "output_type": "execute_result",
          "data": {
            "text/plain": [
              "<matplotlib.axes._subplots.AxesSubplot at 0x7fb294dfc550>"
            ]
          },
          "metadata": {},
          "execution_count": 89
        },
        {
          "output_type": "display_data",
          "data": {
            "image/png": "[encoded data removed]",
            "text/plain": [
              "<Figure size 432x288 with 1 Axes>"
            ]
          },
          "metadata": {
            "needs_background": "light"
          }
        }
      ]
    },
    {
      "cell_type": "code",
      "metadata": {
        "colab": {
          "base_uri": "https://localhost:8080/",
          "height": 302
        },
        "id": "7H6C5ioBxKr5",
        "outputId": "e682e520-bd2e-48d8-bd17-58934ad927f6"
      },
      "source": [
        "sns.histplot(x='cpu_freq(GHz)', data=df)"
      ],
      "execution_count": 90,
      "outputs": [
        {
          "output_type": "execute_result",
          "data": {
            "text/plain": [
              "<matplotlib.axes._subplots.AxesSubplot at 0x7fb2949ef510>"
            ]
          },
          "metadata": {},
          "execution_count": 90
        },
        {
          "output_type": "display_data",
          "data": {
            "image/png": "[encoded data removed]",
            "text/plain": [
              "<Figure size 432x288 with 1 Axes>"
            ]
          },
          "metadata": {
            "needs_background": "light"
          }
        }
      ]
    },
    {
      "cell_type": "code",
      "metadata": {
        "colab": {
          "base_uri": "https://localhost:8080/"
        },
        "id": "vClVCGePxMIc",
        "outputId": "0702afc7-0a14-47fe-9797-17bd5f238793"
      },
      "source": [
        "print('Average CPU frequency is: {} GHz '.format(np.round(df['cpu_freq(GHz)'].mean(),2)))\n",
        "print('Median RAM size is: {} GHz '.format(df['cpu_freq(GHz)'].median()))\n",
        "print('Mode RAM size is: {} GHz '.format(df['cpu_freq(GHz)'].mode()[0]))"
      ],
      "execution_count": 91,
      "outputs": [
        {
          "output_type": "stream",
          "name": "stdout",
          "text": [
            "Average CPU frequency is: 2.3 GHz \n",
            "Median RAM size is: 2.5 GHz \n",
            "Mode RAM size is: 2.5 GHz \n"
          ]
        }
      ]
    },
    {
      "cell_type": "code",
      "metadata": {
        "colab": {
          "base_uri": "https://localhost:8080/"
        },
        "id": "AlAvxKZwxNoC",
        "outputId": "ce217430-0f56-484a-c61c-4110c6d06662"
      },
      "source": [
        "print('Most laptops have 2.5 GHz CPU, which make {}% of the total laptops'.format(np.round(len(df[df['cpu_freq(GHz)']==2.5])*100/len(df),2)))"
      ],
      "execution_count": 92,
      "outputs": [
        {
          "output_type": "stream",
          "name": "stdout",
          "text": [
            "Most laptops have 2.5 GHz CPU, which make 22.5% of the total laptops\n"
          ]
        }
      ]
    },
    {
      "cell_type": "code",
      "metadata": {
        "colab": {
          "base_uri": "https://localhost:8080/",
          "height": 302
        },
        "id": "nIp-uKS1xOy-",
        "outputId": "be5aaab3-b4fb-492c-98f9-2abbf099ea3c"
      },
      "source": [
        "sns.boxplot(x='cpu_freq(GHz)', data=df)"
      ],
      "execution_count": 93,
      "outputs": [
        {
          "output_type": "execute_result",
          "data": {
            "text/plain": [
              "<matplotlib.axes._subplots.AxesSubplot at 0x7fb29296cbd0>"
            ]
          },
          "metadata": {},
          "execution_count": 93
        },
        {
          "output_type": "display_data",
          "data": {
            "image/png": "[encoded data removed]",
            "text/plain": [
              "<Figure size 432x288 with 1 Axes>"
            ]
          },
          "metadata": {
            "needs_background": "light"
          }
        }
      ]
    },
    {
      "cell_type": "code",
      "metadata": {
        "colab": {
          "base_uri": "https://localhost:8080/",
          "height": 420
        },
        "id": "Phr-q7GBxP4s",
        "outputId": "65ba797c-c1a3-43bc-c969-c19686894362"
      },
      "source": [
        "df.loc[df['cpu_freq(GHz)']<1]"
      ],
      "execution_count": 94,
      "outputs": [
        {
          "output_type": "execute_result",
          "data": {
            "text/html": [
              "<div>\n",
              "<style scoped>\n",
              "    .dataframe tbody tr th:only-of-type {\n",
              "        vertical-align: middle;\n",
              "    }\n",
              "\n",
              "    .dataframe tbody tr th {\n",
              "        vertical-align: top;\n",
              "    }\n",
              "\n",
              "    .dataframe thead th {\n",
              "        text-align: right;\n",
              "    }\n",
              "</style>\n",
              "<table border=\"1\" class=\"dataframe\">\n",
              "  <thead>\n",
              "    <tr style=\"text-align: right;\">\n",
              "      <th></th>\n",
              "      <th>company</th>\n",
              "      <th>product</th>\n",
              "      <th>typename</th>\n",
              "      <th>inches</th>\n",
              "      <th>cpu</th>\n",
              "      <th>ram(GB)</th>\n",
              "      <th>gpu</th>\n",
              "      <th>opsys</th>\n",
              "      <th>weight(kg)</th>\n",
              "      <th>price</th>\n",
              "      <th>resolution</th>\n",
              "      <th>screentype</th>\n",
              "      <th>touchscreen</th>\n",
              "      <th>cpu_freq(GHz)</th>\n",
              "      <th>memory_1_sto(GB)</th>\n",
              "      <th>memory_1_type</th>\n",
              "      <th>memory_2_sto(GB)</th>\n",
              "      <th>memory_2_type</th>\n",
              "      <th>cpu_brand</th>\n",
              "      <th>gpu_brand</th>\n",
              "    </tr>\n",
              "  </thead>\n",
              "  <tbody>\n",
              "    <tr>\n",
              "      <th>697</th>\n",
              "      <td>Asus</td>\n",
              "      <td>Chromebook Flip</td>\n",
              "      <td>2 in 1 Convertible</td>\n",
              "      <td>12.5</td>\n",
              "      <td>Intel Core M M3-6Y30</td>\n",
              "      <td>4</td>\n",
              "      <td>Intel HD Graphics 515</td>\n",
              "      <td>Chrome OS</td>\n",
              "      <td>1.2</td>\n",
              "      <td>669.0</td>\n",
              "      <td>1920x1080</td>\n",
              "      <td>NaN</td>\n",
              "      <td>1.0</td>\n",
              "      <td>0.9</td>\n",
              "      <td>64.0</td>\n",
              "      <td>FlashStorage</td>\n",
              "      <td>0.0</td>\n",
              "      <td>NaN</td>\n",
              "      <td>Intel</td>\n",
              "      <td>Intel</td>\n",
              "    </tr>\n",
              "    <tr>\n",
              "      <th>1261</th>\n",
              "      <td>Asus</td>\n",
              "      <td>ZenBook UX305CA-UBM1</td>\n",
              "      <td>Ultrabook</td>\n",
              "      <td>13.3</td>\n",
              "      <td>Intel Core M 6Y30</td>\n",
              "      <td>8</td>\n",
              "      <td>Intel HD Graphics 515</td>\n",
              "      <td>Windows 10</td>\n",
              "      <td>1.2</td>\n",
              "      <td>729.0</td>\n",
              "      <td>1920x1080</td>\n",
              "      <td>IPSPanel</td>\n",
              "      <td>0.0</td>\n",
              "      <td>0.9</td>\n",
              "      <td>512.0</td>\n",
              "      <td>SSD</td>\n",
              "      <td>0.0</td>\n",
              "      <td>NaN</td>\n",
              "      <td>Intel</td>\n",
              "      <td>Intel</td>\n",
              "    </tr>\n",
              "    <tr>\n",
              "      <th>1275</th>\n",
              "      <td>Asus</td>\n",
              "      <td>ZenBook UX305CA-UBM1</td>\n",
              "      <td>Ultrabook</td>\n",
              "      <td>13.3</td>\n",
              "      <td>Intel Core M 6Y30</td>\n",
              "      <td>8</td>\n",
              "      <td>Intel HD Graphics 515</td>\n",
              "      <td>Windows 10</td>\n",
              "      <td>1.2</td>\n",
              "      <td>729.0</td>\n",
              "      <td>1920x1080</td>\n",
              "      <td>IPSPanel</td>\n",
              "      <td>0.0</td>\n",
              "      <td>0.9</td>\n",
              "      <td>512.0</td>\n",
              "      <td>SSD</td>\n",
              "      <td>0.0</td>\n",
              "      <td>NaN</td>\n",
              "      <td>Intel</td>\n",
              "      <td>Intel</td>\n",
              "    </tr>\n",
              "    <tr>\n",
              "      <th>1289</th>\n",
              "      <td>Asus</td>\n",
              "      <td>ZenBook UX305CA-UBM1</td>\n",
              "      <td>Ultrabook</td>\n",
              "      <td>13.3</td>\n",
              "      <td>Intel Core M 6Y30</td>\n",
              "      <td>8</td>\n",
              "      <td>Intel HD Graphics 515</td>\n",
              "      <td>Windows 10</td>\n",
              "      <td>1.2</td>\n",
              "      <td>729.0</td>\n",
              "      <td>1920x1080</td>\n",
              "      <td>IPSPanel</td>\n",
              "      <td>0.0</td>\n",
              "      <td>0.9</td>\n",
              "      <td>512.0</td>\n",
              "      <td>SSD</td>\n",
              "      <td>0.0</td>\n",
              "      <td>NaN</td>\n",
              "      <td>Intel</td>\n",
              "      <td>Intel</td>\n",
              "    </tr>\n",
              "  </tbody>\n",
              "</table>\n",
              "</div>"
            ],
            "text/plain": [
              "     company               product  ... cpu_brand  gpu_brand\n",
              "697     Asus       Chromebook Flip  ...     Intel      Intel\n",
              "1261    Asus  ZenBook UX305CA-UBM1  ...     Intel      Intel\n",
              "1275    Asus  ZenBook UX305CA-UBM1  ...     Intel      Intel\n",
              "1289    Asus  ZenBook UX305CA-UBM1  ...     Intel      Intel\n",
              "\n",
              "[4 rows x 20 columns]"
            ]
          },
          "metadata": {},
          "execution_count": 94
        }
      ]
    },
    {
      "cell_type": "code",
      "metadata": {
        "colab": {
          "base_uri": "https://localhost:8080/"
        },
        "id": "DgcEFau3xQ_E",
        "outputId": "7d1e8e16-a763-4980-e72b-6cfa98b6ab1f"
      },
      "source": [
        "df_clean = df_clean.loc[df_clean['cpu_freq(GHz)']>=1]\n",
        "print('In total we removed {} outliers!'.format(len(df)-len(df_clean)))"
      ],
      "execution_count": 95,
      "outputs": [
        {
          "output_type": "stream",
          "name": "stdout",
          "text": [
            "In total we removed 83 outliers!\n"
          ]
        }
      ]
    },
    {
      "cell_type": "code",
      "metadata": {
        "colab": {
          "base_uri": "https://localhost:8080/",
          "height": 385
        },
        "id": "CkeQP_FOxTiK",
        "outputId": "6909c1ca-9875-4a46-e1d4-92b997cd3fc3"
      },
      "source": [
        "fig, ax  = plt.subplots(figsize=(8,5))\n",
        "ax=sns.countplot(x='memory_1_sto(GB)', data=df, hue='memory_1_type')\n",
        "ax.set_xticklabels(ax.get_xticklabels(), rotation=90);\n",
        "ax.set_xlabel('First Hard Drive memory storage (GB)')"
      ],
      "execution_count": 96,
      "outputs": [
        {
          "output_type": "execute_result",
          "data": {
            "text/plain": [
              "Text(0.5, 0, 'First Hard Drive memory storage (GB)')"
            ]
          },
          "metadata": {},
          "execution_count": 96
        },
        {
          "output_type": "display_data",
          "data": {
            "image/png": "[encoded data removed]",
            "text/plain": [
              "<Figure size 576x360 with 1 Axes>"
            ]
          },
          "metadata": {
            "needs_background": "light"
          }
        }
      ]
    },
    {
      "cell_type": "code",
      "metadata": {
        "colab": {
          "base_uri": "https://localhost:8080/",
          "height": 302
        },
        "id": "MsyJQtPRxV1K",
        "outputId": "367aa8ad-5bbc-4d7c-e20f-85b6751db5d9"
      },
      "source": [
        "sns.boxplot(x='memory_1_sto(GB)', data=df)"
      ],
      "execution_count": 97,
      "outputs": [
        {
          "output_type": "execute_result",
          "data": {
            "text/plain": [
              "<matplotlib.axes._subplots.AxesSubplot at 0x7fb292783710>"
            ]
          },
          "metadata": {},
          "execution_count": 97
        },
        {
          "output_type": "display_data",
          "data": {
            "image/png": "[encoded data removed]",
            "text/plain": [
              "<Figure size 432x288 with 1 Axes>"
            ]
          },
          "metadata": {
            "needs_background": "light"
          }
        }
      ]
    },
    {
      "cell_type": "code",
      "metadata": {
        "colab": {
          "base_uri": "https://localhost:8080/"
        },
        "id": "MFLb0ThLxXMt",
        "outputId": "5509afde-82e1-4db5-bb05-2a6d1709dd58"
      },
      "source": [
        "df.loc[df['memory_1_sto(GB)']> 750]['memory_1_sto(GB)'].value_counts()"
      ],
      "execution_count": 98,
      "outputs": [
        {
          "output_type": "execute_result",
          "data": {
            "text/plain": [
              "1000.0    250\n",
              "2000.0     16\n",
              "Name: memory_1_sto(GB), dtype: int64"
            ]
          },
          "metadata": {},
          "execution_count": 98
        }
      ]
    },
    {
      "cell_type": "code",
      "metadata": {
        "colab": {
          "base_uri": "https://localhost:8080/"
        },
        "id": "VSAwl7JfxYuc",
        "outputId": "849b04a9-50ca-40cc-8d66-68aaffd7e6b2"
      },
      "source": [
        "df_clean = df_clean.loc[df_clean['memory_1_sto(GB)'] <= 1000]\n",
        "print('In total we removed {} outliers!'.format(len(df)-len(df_clean)))"
      ],
      "execution_count": 99,
      "outputs": [
        {
          "output_type": "stream",
          "name": "stdout",
          "text": [
            "In total we removed 99 outliers!\n"
          ]
        }
      ]
    },
    {
      "cell_type": "code",
      "metadata": {
        "colab": {
          "base_uri": "https://localhost:8080/",
          "height": 385
        },
        "id": "tJ9gz_Z6xaKx",
        "outputId": "54624560-b110-42f8-be32-d0bd440847e8"
      },
      "source": [
        "fig, ax  = plt.subplots(figsize=(8,5))\n",
        "ax=sns.countplot(x='memory_2_sto(GB)', data=df, hue='memory_2_type')\n",
        "ax.set_xticklabels(ax.get_xticklabels(), rotation=90);\n",
        "ax.set_xlabel('Second Hard Drive memory storage (GB)')"
      ],
      "execution_count": 100,
      "outputs": [
        {
          "output_type": "execute_result",
          "data": {
            "text/plain": [
              "Text(0.5, 0, 'Second Hard Drive memory storage (GB)')"
            ]
          },
          "metadata": {},
          "execution_count": 100
        },
        {
          "output_type": "display_data",
          "data": {
            "image/png": "[encoded data removed]",
            "text/plain": [
              "<Figure size 576x360 with 1 Axes>"
            ]
          },
          "metadata": {
            "needs_background": "light"
          }
        }
      ]
    },
    {
      "cell_type": "code",
      "metadata": {
        "colab": {
          "base_uri": "https://localhost:8080/"
        },
        "id": "ew-lYIQ2xb1E",
        "outputId": "cae33f0c-6c88-4504-d82e-989a945d6dc3"
      },
      "source": [
        "df_clean.info()"
      ],
      "execution_count": 101,
      "outputs": [
        {
          "output_type": "stream",
          "name": "stdout",
          "text": [
            "<class 'pandas.core.frame.DataFrame'>\n",
            "Int64Index: 1203 entries, 0 to 1302\n",
            "Data columns (total 20 columns):\n",
            " #   Column            Non-Null Count  Dtype  \n",
            "---  ------            --------------  -----  \n",
            " 0   company           1203 non-null   object \n",
            " 1   product           1203 non-null   object \n",
            " 2   typename          1203 non-null   object \n",
            " 3   inches            1203 non-null   float64\n",
            " 4   cpu               1203 non-null   object \n",
            " 5   ram(GB)           1203 non-null   int64  \n",
            " 6   gpu               1203 non-null   object \n",
            " 7   opsys             1203 non-null   object \n",
            " 8   weight(kg)        1203 non-null   float64\n",
            " 9   price             1203 non-null   float64\n",
            " 10  resolution        1203 non-null   object \n",
            " 11  screentype        310 non-null    object \n",
            " 12  touchscreen       1203 non-null   float64\n",
            " 13  cpu_freq(GHz)     1203 non-null   float64\n",
            " 14  memory_1_sto(GB)  1203 non-null   float64\n",
            " 15  memory_1_type     1203 non-null   object \n",
            " 16  memory_2_sto(GB)  1203 non-null   float64\n",
            " 17  memory_2_type     165 non-null    object \n",
            " 18  cpu_brand         1203 non-null   object \n",
            " 19  gpu_brand         1203 non-null   object \n",
            "dtypes: float64(7), int64(1), object(12)\n",
            "memory usage: 197.4+ KB\n"
          ]
        }
      ]
    },
    {
      "cell_type": "code",
      "metadata": {
        "colab": {
          "base_uri": "https://localhost:8080/",
          "height": 452
        },
        "id": "I4g2F6zGxd_z",
        "outputId": "85b6adb1-9330-4297-819f-3e5723662691"
      },
      "source": [
        "df_clean.head()\n"
      ],
      "execution_count": 102,
      "outputs": [
        {
          "output_type": "execute_result",
          "data": {
            "text/html": [
              "<div>\n",
              "<style scoped>\n",
              "    .dataframe tbody tr th:only-of-type {\n",
              "        vertical-align: middle;\n",
              "    }\n",
              "\n",
              "    .dataframe tbody tr th {\n",
              "        vertical-align: top;\n",
              "    }\n",
              "\n",
              "    .dataframe thead th {\n",
              "        text-align: right;\n",
              "    }\n",
              "</style>\n",
              "<table border=\"1\" class=\"dataframe\">\n",
              "  <thead>\n",
              "    <tr style=\"text-align: right;\">\n",
              "      <th></th>\n",
              "      <th>company</th>\n",
              "      <th>product</th>\n",
              "      <th>typename</th>\n",
              "      <th>inches</th>\n",
              "      <th>cpu</th>\n",
              "      <th>ram(GB)</th>\n",
              "      <th>gpu</th>\n",
              "      <th>opsys</th>\n",
              "      <th>weight(kg)</th>\n",
              "      <th>price</th>\n",
              "      <th>resolution</th>\n",
              "      <th>screentype</th>\n",
              "      <th>touchscreen</th>\n",
              "      <th>cpu_freq(GHz)</th>\n",
              "      <th>memory_1_sto(GB)</th>\n",
              "      <th>memory_1_type</th>\n",
              "      <th>memory_2_sto(GB)</th>\n",
              "      <th>memory_2_type</th>\n",
              "      <th>cpu_brand</th>\n",
              "      <th>gpu_brand</th>\n",
              "    </tr>\n",
              "  </thead>\n",
              "  <tbody>\n",
              "    <tr>\n",
              "      <th>0</th>\n",
              "      <td>Apple</td>\n",
              "      <td>MacBook Pro</td>\n",
              "      <td>Ultrabook</td>\n",
              "      <td>13.3</td>\n",
              "      <td>Intel Core i5</td>\n",
              "      <td>8</td>\n",
              "      <td>Intel Iris Plus Graphics 640</td>\n",
              "      <td>macOS</td>\n",
              "      <td>1.37</td>\n",
              "      <td>1339.69</td>\n",
              "      <td>2560x1600</td>\n",
              "      <td>IPSPanelRetinaDisplay</td>\n",
              "      <td>0.0</td>\n",
              "      <td>2.3</td>\n",
              "      <td>128.0</td>\n",
              "      <td>SSD</td>\n",
              "      <td>0.0</td>\n",
              "      <td>NaN</td>\n",
              "      <td>Intel</td>\n",
              "      <td>Intel</td>\n",
              "    </tr>\n",
              "    <tr>\n",
              "      <th>1</th>\n",
              "      <td>Apple</td>\n",
              "      <td>Macbook Air</td>\n",
              "      <td>Ultrabook</td>\n",
              "      <td>13.3</td>\n",
              "      <td>Intel Core i5</td>\n",
              "      <td>8</td>\n",
              "      <td>Intel HD Graphics 6000</td>\n",
              "      <td>macOS</td>\n",
              "      <td>1.34</td>\n",
              "      <td>898.94</td>\n",
              "      <td>1440x900</td>\n",
              "      <td>NaN</td>\n",
              "      <td>0.0</td>\n",
              "      <td>1.8</td>\n",
              "      <td>128.0</td>\n",
              "      <td>FlashStorage</td>\n",
              "      <td>0.0</td>\n",
              "      <td>NaN</td>\n",
              "      <td>Intel</td>\n",
              "      <td>Intel</td>\n",
              "    </tr>\n",
              "    <tr>\n",
              "      <th>2</th>\n",
              "      <td>HP</td>\n",
              "      <td>250 G6</td>\n",
              "      <td>Notebook</td>\n",
              "      <td>15.6</td>\n",
              "      <td>Intel Core i5 7200U</td>\n",
              "      <td>8</td>\n",
              "      <td>Intel HD Graphics 620</td>\n",
              "      <td>No OS</td>\n",
              "      <td>1.86</td>\n",
              "      <td>575.00</td>\n",
              "      <td>1920x1080</td>\n",
              "      <td>NaN</td>\n",
              "      <td>0.0</td>\n",
              "      <td>2.5</td>\n",
              "      <td>256.0</td>\n",
              "      <td>SSD</td>\n",
              "      <td>0.0</td>\n",
              "      <td>NaN</td>\n",
              "      <td>Intel</td>\n",
              "      <td>Intel</td>\n",
              "    </tr>\n",
              "    <tr>\n",
              "      <th>3</th>\n",
              "      <td>Apple</td>\n",
              "      <td>MacBook Pro</td>\n",
              "      <td>Ultrabook</td>\n",
              "      <td>15.4</td>\n",
              "      <td>Intel Core i7</td>\n",
              "      <td>16</td>\n",
              "      <td>AMD Radeon Pro 455</td>\n",
              "      <td>macOS</td>\n",
              "      <td>1.83</td>\n",
              "      <td>2537.45</td>\n",
              "      <td>2880x1800</td>\n",
              "      <td>IPSPanelRetinaDisplay</td>\n",
              "      <td>0.0</td>\n",
              "      <td>2.7</td>\n",
              "      <td>512.0</td>\n",
              "      <td>SSD</td>\n",
              "      <td>0.0</td>\n",
              "      <td>NaN</td>\n",
              "      <td>Intel</td>\n",
              "      <td>AMD</td>\n",
              "    </tr>\n",
              "    <tr>\n",
              "      <th>4</th>\n",
              "      <td>Apple</td>\n",
              "      <td>MacBook Pro</td>\n",
              "      <td>Ultrabook</td>\n",
              "      <td>13.3</td>\n",
              "      <td>Intel Core i5</td>\n",
              "      <td>8</td>\n",
              "      <td>Intel Iris Plus Graphics 650</td>\n",
              "      <td>macOS</td>\n",
              "      <td>1.37</td>\n",
              "      <td>1803.60</td>\n",
              "      <td>2560x1600</td>\n",
              "      <td>IPSPanelRetinaDisplay</td>\n",
              "      <td>0.0</td>\n",
              "      <td>3.1</td>\n",
              "      <td>256.0</td>\n",
              "      <td>SSD</td>\n",
              "      <td>0.0</td>\n",
              "      <td>NaN</td>\n",
              "      <td>Intel</td>\n",
              "      <td>Intel</td>\n",
              "    </tr>\n",
              "  </tbody>\n",
              "</table>\n",
              "</div>"
            ],
            "text/plain": [
              "  company      product   typename  ...  memory_2_type cpu_brand  gpu_brand\n",
              "0   Apple  MacBook Pro  Ultrabook  ...            NaN     Intel      Intel\n",
              "1   Apple  Macbook Air  Ultrabook  ...            NaN     Intel      Intel\n",
              "2      HP       250 G6   Notebook  ...            NaN     Intel      Intel\n",
              "3   Apple  MacBook Pro  Ultrabook  ...            NaN     Intel        AMD\n",
              "4   Apple  MacBook Pro  Ultrabook  ...            NaN     Intel      Intel\n",
              "\n",
              "[5 rows x 20 columns]"
            ]
          },
          "metadata": {},
          "execution_count": 102
        }
      ]
    },
    {
      "cell_type": "code",
      "metadata": {
        "colab": {
          "base_uri": "https://localhost:8080/",
          "height": 372
        },
        "id": "R3pgjaPfxig9",
        "outputId": "e855757b-fa78-467b-8420-f1196292effb"
      },
      "source": [
        "fig, ax = plt.subplots(figsize=(10,5))\n",
        "sns.boxplot(x='cpu_freq(GHz)', y='price', data=df)\n",
        "ax.set_title('Price vs CPU_freq')"
      ],
      "execution_count": 103,
      "outputs": [
        {
          "output_type": "execute_result",
          "data": {
            "text/plain": [
              "Text(0.5, 1.0, 'Price vs CPU_freq')"
            ]
          },
          "metadata": {},
          "execution_count": 103
        },
        {
          "output_type": "display_data",
          "data": {
            "image/png": "[encoded data removed]",
            "text/plain": [
              "<Figure size 720x360 with 1 Axes>"
            ]
          },
          "metadata": {
            "needs_background": "light"
          }
        }
      ]
    },
    {
      "cell_type": "code",
      "metadata": {
        "colab": {
          "base_uri": "https://localhost:8080/",
          "height": 486
        },
        "id": "l6sqALKfxkYL",
        "outputId": "7f5fa357-b59b-48ec-9878-412e07d766b7"
      },
      "source": [
        "df[df['cpu_freq(GHz)']>3.5]"
      ],
      "execution_count": 104,
      "outputs": [
        {
          "output_type": "execute_result",
          "data": {
            "text/html": [
              "<div>\n",
              "<style scoped>\n",
              "    .dataframe tbody tr th:only-of-type {\n",
              "        vertical-align: middle;\n",
              "    }\n",
              "\n",
              "    .dataframe tbody tr th {\n",
              "        vertical-align: top;\n",
              "    }\n",
              "\n",
              "    .dataframe thead th {\n",
              "        text-align: right;\n",
              "    }\n",
              "</style>\n",
              "<table border=\"1\" class=\"dataframe\">\n",
              "  <thead>\n",
              "    <tr style=\"text-align: right;\">\n",
              "      <th></th>\n",
              "      <th>company</th>\n",
              "      <th>product</th>\n",
              "      <th>typename</th>\n",
              "      <th>inches</th>\n",
              "      <th>cpu</th>\n",
              "      <th>ram(GB)</th>\n",
              "      <th>gpu</th>\n",
              "      <th>opsys</th>\n",
              "      <th>weight(kg)</th>\n",
              "      <th>price</th>\n",
              "      <th>resolution</th>\n",
              "      <th>screentype</th>\n",
              "      <th>touchscreen</th>\n",
              "      <th>cpu_freq(GHz)</th>\n",
              "      <th>memory_1_sto(GB)</th>\n",
              "      <th>memory_1_type</th>\n",
              "      <th>memory_2_sto(GB)</th>\n",
              "      <th>memory_2_type</th>\n",
              "      <th>cpu_brand</th>\n",
              "      <th>gpu_brand</th>\n",
              "    </tr>\n",
              "  </thead>\n",
              "  <tbody>\n",
              "    <tr>\n",
              "      <th>341</th>\n",
              "      <td>Lenovo</td>\n",
              "      <td>IdeaPad 320-15ABR</td>\n",
              "      <td>Notebook</td>\n",
              "      <td>15.6</td>\n",
              "      <td>AMD A12-Series 9720P</td>\n",
              "      <td>12</td>\n",
              "      <td>AMD Radeon 530</td>\n",
              "      <td>Windows 10</td>\n",
              "      <td>2.2</td>\n",
              "      <td>899.00</td>\n",
              "      <td>1920x1080</td>\n",
              "      <td>NaN</td>\n",
              "      <td>0.0</td>\n",
              "      <td>3.6</td>\n",
              "      <td>2000.0</td>\n",
              "      <td>HDD</td>\n",
              "      <td>0.0</td>\n",
              "      <td>NaN</td>\n",
              "      <td>AMD</td>\n",
              "      <td>AMD</td>\n",
              "    </tr>\n",
              "    <tr>\n",
              "      <th>591</th>\n",
              "      <td>Lenovo</td>\n",
              "      <td>IdeaPad 320-15ABR</td>\n",
              "      <td>Notebook</td>\n",
              "      <td>15.6</td>\n",
              "      <td>AMD A12-Series 9720P</td>\n",
              "      <td>12</td>\n",
              "      <td>AMD Radeon 530</td>\n",
              "      <td>Windows 10</td>\n",
              "      <td>2.2</td>\n",
              "      <td>949.00</td>\n",
              "      <td>1920x1080</td>\n",
              "      <td>NaN</td>\n",
              "      <td>0.0</td>\n",
              "      <td>3.6</td>\n",
              "      <td>512.0</td>\n",
              "      <td>SSD</td>\n",
              "      <td>0.0</td>\n",
              "      <td>NaN</td>\n",
              "      <td>AMD</td>\n",
              "      <td>AMD</td>\n",
              "    </tr>\n",
              "    <tr>\n",
              "      <th>702</th>\n",
              "      <td>Lenovo</td>\n",
              "      <td>IdeaPad 320-15ABR</td>\n",
              "      <td>Notebook</td>\n",
              "      <td>15.6</td>\n",
              "      <td>AMD A12-Series 9720P</td>\n",
              "      <td>8</td>\n",
              "      <td>AMD Radeon R7</td>\n",
              "      <td>Windows 10</td>\n",
              "      <td>2.2</td>\n",
              "      <td>429.00</td>\n",
              "      <td>1366x768</td>\n",
              "      <td>NaN</td>\n",
              "      <td>0.0</td>\n",
              "      <td>3.6</td>\n",
              "      <td>1000.0</td>\n",
              "      <td>HDD</td>\n",
              "      <td>0.0</td>\n",
              "      <td>NaN</td>\n",
              "      <td>AMD</td>\n",
              "      <td>AMD</td>\n",
              "    </tr>\n",
              "    <tr>\n",
              "      <th>982</th>\n",
              "      <td>Lenovo</td>\n",
              "      <td>IdeaPad 320-15ABR</td>\n",
              "      <td>Notebook</td>\n",
              "      <td>15.6</td>\n",
              "      <td>AMD A12-Series 9720P</td>\n",
              "      <td>6</td>\n",
              "      <td>AMD Radeon 530</td>\n",
              "      <td>Windows 10</td>\n",
              "      <td>2.2</td>\n",
              "      <td>549.00</td>\n",
              "      <td>1920x1080</td>\n",
              "      <td>NaN</td>\n",
              "      <td>0.0</td>\n",
              "      <td>3.6</td>\n",
              "      <td>256.0</td>\n",
              "      <td>SSD</td>\n",
              "      <td>0.0</td>\n",
              "      <td>NaN</td>\n",
              "      <td>AMD</td>\n",
              "      <td>AMD</td>\n",
              "    </tr>\n",
              "    <tr>\n",
              "      <th>1240</th>\n",
              "      <td>Lenovo</td>\n",
              "      <td>IdeaPad 320-15ABR</td>\n",
              "      <td>Notebook</td>\n",
              "      <td>15.6</td>\n",
              "      <td>AMD A12-Series 9720P</td>\n",
              "      <td>6</td>\n",
              "      <td>AMD Radeon 530</td>\n",
              "      <td>Windows 10</td>\n",
              "      <td>2.2</td>\n",
              "      <td>597.57</td>\n",
              "      <td>1920x1080</td>\n",
              "      <td>NaN</td>\n",
              "      <td>0.0</td>\n",
              "      <td>3.6</td>\n",
              "      <td>256.0</td>\n",
              "      <td>SSD</td>\n",
              "      <td>0.0</td>\n",
              "      <td>NaN</td>\n",
              "      <td>AMD</td>\n",
              "      <td>AMD</td>\n",
              "    </tr>\n",
              "  </tbody>\n",
              "</table>\n",
              "</div>"
            ],
            "text/plain": [
              "     company            product  typename  ...  memory_2_type cpu_brand  gpu_brand\n",
              "341   Lenovo  IdeaPad 320-15ABR  Notebook  ...            NaN       AMD        AMD\n",
              "591   Lenovo  IdeaPad 320-15ABR  Notebook  ...            NaN       AMD        AMD\n",
              "702   Lenovo  IdeaPad 320-15ABR  Notebook  ...            NaN       AMD        AMD\n",
              "982   Lenovo  IdeaPad 320-15ABR  Notebook  ...            NaN       AMD        AMD\n",
              "1240  Lenovo  IdeaPad 320-15ABR  Notebook  ...            NaN       AMD        AMD\n",
              "\n",
              "[5 rows x 20 columns]"
            ]
          },
          "metadata": {},
          "execution_count": 104
        }
      ]
    },
    {
      "cell_type": "code",
      "metadata": {
        "colab": {
          "base_uri": "https://localhost:8080/",
          "height": 753
        },
        "id": "fk_hNtACxlys",
        "outputId": "4ca5cfc1-bd14-4063-b5d2-40de70b9e1f1"
      },
      "source": [
        "fig, ax = plt.subplots(figsize=(8,12))\n",
        "sns.boxplot(x='cpu_brand', y='price', data=df, hue='gpu_brand')\n",
        "ax.set_title('Price vs CPU brand by GPU brand')"
      ],
      "execution_count": 105,
      "outputs": [
        {
          "output_type": "execute_result",
          "data": {
            "text/plain": [
              "Text(0.5, 1.0, 'Price vs CPU brand by GPU brand')"
            ]
          },
          "metadata": {},
          "execution_count": 105
        },
        {
          "output_type": "display_data",
          "data": {
            "image/png": "[encoded data removed]",
            "text/plain": [
              "<Figure size 576x864 with 1 Axes>"
            ]
          },
          "metadata": {
            "needs_background": "light"
          }
        }
      ]
    },
    {
      "cell_type": "code",
      "metadata": {
        "colab": {
          "base_uri": "https://localhost:8080/",
          "height": 318
        },
        "id": "B_-DcucoxqPv",
        "outputId": "dc1b3d3c-8ea6-4146-98f1-72cfe216325d"
      },
      "source": [
        "fig, ax = plt.subplots(figsize=(10,4))\n",
        "sns.boxplot(x='cpu_brand', y='cpu_freq(GHz)', data=df, hue='gpu_brand')\n",
        "ax.set_title('CPU_freq vs CPU brand by GPU brand')"
      ],
      "execution_count": 106,
      "outputs": [
        {
          "output_type": "execute_result",
          "data": {
            "text/plain": [
              "Text(0.5, 1.0, 'CPU_freq vs CPU brand by GPU brand')"
            ]
          },
          "metadata": {},
          "execution_count": 106
        },
        {
          "output_type": "display_data",
          "data": {
            "image/png": "[encoded data removed]",
            "text/plain": [
              "<Figure size 720x288 with 1 Axes>"
            ]
          },
          "metadata": {
            "needs_background": "light"
          }
        }
      ]
    },
    {
      "cell_type": "code",
      "metadata": {
        "colab": {
          "base_uri": "https://localhost:8080/",
          "height": 445
        },
        "id": "dAYccSVSxu-9",
        "outputId": "76f3097a-0fc2-48c2-c7e5-29622223687e"
      },
      "source": [
        "fig, ax = plt.subplots(figsize=(11,4))\n",
        "sns.boxplot(x='gpu', y='price', data=df[df['gpu'].isin(df['gpu'].value_counts()[:15].index)])\n",
        "ax.set_title('Price of TOP 15 GPU')\n",
        "ax.set_xticklabels(ax.get_xticklabels(), rotation=90);"
      ],
      "execution_count": 107,
      "outputs": [
        {
          "output_type": "display_data",
          "data": {
            "image/png": "[encoded data removed]",
            "text/plain": [
              "<Figure size 792x288 with 1 Axes>"
            ]
          },
          "metadata": {
            "needs_background": "light"
          }
        }
      ]
    },
    {
      "cell_type": "code",
      "metadata": {
        "colab": {
          "base_uri": "https://localhost:8080/",
          "height": 729
        },
        "id": "rR9ackBTxyeZ",
        "outputId": "72fa4406-ac70-4242-f933-d0042f0ec798"
      },
      "source": [
        "fig, ax = plt.subplots(figsize=(11,4))\n",
        "sns.boxplot(x='cpu', y='price', data=df[df['cpu'].isin(df['cpu'].value_counts()[:15].index)])\n",
        "ax.set_title('Price of TOP 15 CPU')\n",
        "ax.set_xticklabels(ax.get_xticklabels(), rotation=90)"
      ],
      "execution_count": 108,
      "outputs": [
        {
          "output_type": "execute_result",
          "data": {
            "text/plain": [
              "[Text(0, 0, 'Intel Core i5 7200U '),\n",
              " Text(0, 0, 'Intel Core i7 8550U '),\n",
              " Text(0, 0, 'Intel Core i5 8250U '),\n",
              " Text(0, 0, 'Intel Core i3 6006U '),\n",
              " Text(0, 0, 'Intel Core i7 7500U '),\n",
              " Text(0, 0, 'Intel Core i3 7100U '),\n",
              " Text(0, 0, 'Intel Core i5 7300HQ '),\n",
              " Text(0, 0, 'Intel Celeron Dual Core N3350 '),\n",
              " Text(0, 0, 'Intel Core i7 7700HQ '),\n",
              " Text(0, 0, 'Intel Pentium Quad Core N4200 '),\n",
              " Text(0, 0, 'Intel Celeron Dual Core N3060 '),\n",
              " Text(0, 0, 'Intel Core i5 6200U '),\n",
              " Text(0, 0, 'Intel Core i7 6500U '),\n",
              " Text(0, 0, 'Intel Core i7 6600U '),\n",
              " Text(0, 0, 'Intel Core i7 6700HQ ')]"
            ]
          },
          "metadata": {},
          "execution_count": 108
        },
        {
          "output_type": "display_data",
          "data": {
            "image/png": "[encoded data removed]",
            "text/plain": [
              "<Figure size 792x288 with 1 Axes>"
            ]
          },
          "metadata": {
            "needs_background": "light"
          }
        }
      ]
    },
    {
      "cell_type": "code",
      "metadata": {
        "colab": {
          "base_uri": "https://localhost:8080/",
          "height": 678
        },
        "id": "x-4Q111Tx0Y7",
        "outputId": "8384fc46-df79-4887-a3e7-08ffa7015f1c"
      },
      "source": [
        "fig, ax = plt.subplots(figsize=(11,4))\n",
        "sns.boxplot(x='company', y='price', data=df)\n",
        "ax.set_title('Laptop price by company')\n",
        "ax.set_xticklabels(ax.get_xticklabels(), rotation=90)"
      ],
      "execution_count": 109,
      "outputs": [
        {
          "output_type": "execute_result",
          "data": {
            "text/plain": [
              "[Text(0, 0, 'Apple'),\n",
              " Text(0, 0, 'HP'),\n",
              " Text(0, 0, 'Acer'),\n",
              " Text(0, 0, 'Asus'),\n",
              " Text(0, 0, 'Dell'),\n",
              " Text(0, 0, 'Lenovo'),\n",
              " Text(0, 0, 'Chuwi'),\n",
              " Text(0, 0, 'MSI'),\n",
              " Text(0, 0, 'Microsoft'),\n",
              " Text(0, 0, 'Toshiba'),\n",
              " Text(0, 0, 'Huawei'),\n",
              " Text(0, 0, 'Xiaomi'),\n",
              " Text(0, 0, 'Vero'),\n",
              " Text(0, 0, 'Razer'),\n",
              " Text(0, 0, 'Mediacom'),\n",
              " Text(0, 0, 'Samsung'),\n",
              " Text(0, 0, 'Google'),\n",
              " Text(0, 0, 'Fujitsu'),\n",
              " Text(0, 0, 'LG')]"
            ]
          },
          "metadata": {},
          "execution_count": 109
        },
        {
          "output_type": "display_data",
          "data": {
            "image/png": "[encoded data removed]",
            "text/plain": [
              "<Figure size 792x288 with 1 Axes>"
            ]
          },
          "metadata": {
            "needs_background": "light"
          }
        }
      ]
    },
    {
      "cell_type": "code",
      "metadata": {
        "colab": {
          "base_uri": "https://localhost:8080/",
          "height": 397
        },
        "id": "hPOxftwBx4As",
        "outputId": "fd2ffb6f-73f6-4c5d-cfc3-600c0a84ed9b"
      },
      "source": [
        "sns.heatmap(df_clean.corr(), cmap='Blues_r', annot=True)\n",
        "plt.title('Correlation Matrix')"
      ],
      "execution_count": 110,
      "outputs": [
        {
          "output_type": "execute_result",
          "data": {
            "text/plain": [
              "Text(0.5, 1.0, 'Correlation Matrix')"
            ]
          },
          "metadata": {},
          "execution_count": 110
        },
        {
          "output_type": "display_data",
          "data": {
            "image/png": "[encoded data removed]",
            "text/plain": [
              "<Figure size 432x288 with 2 Axes>"
            ]
          },
          "metadata": {
            "needs_background": "light"
          }
        }
      ]
    },
    {
      "cell_type": "code",
      "metadata": {
        "colab": {
          "base_uri": "https://localhost:8080/",
          "height": 305
        },
        "id": "YK_e8Mvhx50r",
        "outputId": "7410f239-e9ec-4adb-967b-3d790bad8050"
      },
      "source": [
        "sns.histplot(x='price', data=df)"
      ],
      "execution_count": 111,
      "outputs": [
        {
          "output_type": "execute_result",
          "data": {
            "text/plain": [
              "<matplotlib.axes._subplots.AxesSubplot at 0x7fb294c1bad0>"
            ]
          },
          "metadata": {},
          "execution_count": 111
        },
        {
          "output_type": "display_data",
          "data": {
            "image/png": "[encoded data removed]",
            "text/plain": [
              "<Figure size 432x288 with 1 Axes>"
            ]
          },
          "metadata": {
            "needs_background": "light"
          }
        }
      ]
    },
    {
      "cell_type": "code",
      "metadata": {
        "colab": {
          "base_uri": "https://localhost:8080/",
          "height": 302
        },
        "id": "soV69Inex8RF",
        "outputId": "91ff7bda-d892-4fa4-9dbd-d9a540def37e"
      },
      "source": [
        "sns.histplot(x='price', data=df_clean)"
      ],
      "execution_count": 112,
      "outputs": [
        {
          "output_type": "execute_result",
          "data": {
            "text/plain": [
              "<matplotlib.axes._subplots.AxesSubplot at 0x7fb294bf1690>"
            ]
          },
          "metadata": {},
          "execution_count": 112
        },
        {
          "output_type": "display_data",
          "data": {
            "image/png": "[encoded data removed]",
            "text/plain": [
              "<Figure size 432x288 with 1 Axes>"
            ]
          },
          "metadata": {
            "needs_background": "light"
          }
        }
      ]
    },
    {
      "cell_type": "code",
      "metadata": {
        "id": "yaZAVZ1yx9pf"
      },
      "source": [
        "df1=df_clean.copy()"
      ],
      "execution_count": 113,
      "outputs": []
    },
    {
      "cell_type": "code",
      "metadata": {
        "id": "xVA8iHFOx-_7"
      },
      "source": [
        "df1['price']=np.log(df1['price'])\n",
        "df1=df1.fillna('NaN')"
      ],
      "execution_count": 114,
      "outputs": []
    },
    {
      "cell_type": "code",
      "metadata": {
        "colab": {
          "base_uri": "https://localhost:8080/"
        },
        "id": "zKU08qjIyAQf",
        "outputId": "735b8cec-0566-46e5-dd13-add89f06b396"
      },
      "source": [
        "from sklearn.preprocessing import LabelEncoder\n",
        "en = LabelEncoder()\n",
        "catCols =  ['company','product','typename','cpu','gpu','opsys','resolution','screentype','resolution','memory_1_type','memory_2_type','gpu_brand','cpu_brand']\n",
        "for cols in catCols:\n",
        "    df1[cols] = en.fit_transform(df1[cols])\n",
        "print('Dataframe encoded by OHE dimension : ', pd.get_dummies(df1, columns=catCols, drop_first=True).shape)"
      ],
      "execution_count": 115,
      "outputs": [
        {
          "output_type": "stream",
          "name": "stdout",
          "text": [
            "Dataframe encoded by OHE dimension :  (1203, 820)\n"
          ]
        }
      ]
    },
    {
      "cell_type": "code",
      "metadata": {
        "id": "8S000FxgyDNx"
      },
      "source": [
        "from sklearn.model_selection import train_test_split\n",
        "from sklearn.model_selection import GridSearchCV, RandomizedSearchCV\n",
        "from sklearn.preprocessing import MinMaxScaler, StandardScaler\n",
        "from sklearn.metrics import mean_squared_error\n",
        "from sklearn.metrics import r2_score"
      ],
      "execution_count": 117,
      "outputs": []
    },
    {
      "cell_type": "code",
      "metadata": {
        "id": "Adkk4Gc9yGxc"
      },
      "source": [
        "X=df1.drop('price', axis = 1).values\n",
        "y=df1['price'].values\n",
        "X_train, X_test, y_train, y_test = train_test_split(X, y, test_size = 0.3, random_state = 69)\n",
        "scaler = StandardScaler()\n",
        "scaler.fit(X_train)\n",
        "StandardScaler()\n",
        "X_train = scaler.transform(X_train)\n",
        "X_test = scaler.transform(X_test)   "
      ],
      "execution_count": 118,
      "outputs": []
    },
    {
      "cell_type": "code",
      "metadata": {
        "colab": {
          "base_uri": "https://localhost:8080/"
        },
        "id": "ZP5Wg3uVyJfW",
        "outputId": "49f9154c-e817-4747-c3c8-5fb988cbd2bf"
      },
      "source": [
        "#Random Forest\n",
        "from sklearn.ensemble import RandomForestRegressor\n",
        "rf = RandomForestRegressor(n_estimators=100, max_depth=100, max_features=15)\n",
        "rf.fit(X_train,y_train)"
      ],
      "execution_count": 119,
      "outputs": [
        {
          "output_type": "execute_result",
          "data": {
            "text/plain": [
              "RandomForestRegressor(bootstrap=True, ccp_alpha=0.0, criterion='mse',\n",
              "                      max_depth=100, max_features=15, max_leaf_nodes=None,\n",
              "                      max_samples=None, min_impurity_decrease=0.0,\n",
              "                      min_impurity_split=None, min_samples_leaf=1,\n",
              "                      min_samples_split=2, min_weight_fraction_leaf=0.0,\n",
              "                      n_estimators=100, n_jobs=None, oob_score=False,\n",
              "                      random_state=None, verbose=0, warm_start=False)"
            ]
          },
          "metadata": {},
          "execution_count": 119
        }
      ]
    },
    {
      "cell_type": "code",
      "metadata": {
        "colab": {
          "base_uri": "https://localhost:8080/"
        },
        "id": "VZ6OyGpoyMhD",
        "outputId": "17984cfb-7c13-4fb4-f0ca-b58f29565b18"
      },
      "source": [
        "y_pred_rf = rf.predict(X_test)\n",
        "mse_rf = mean_squared_error(y_test, y_pred_rf)\n",
        "print(\"RMSE using RF: \", np.sqrt(mse_rf))"
      ],
      "execution_count": 120,
      "outputs": [
        {
          "output_type": "stream",
          "name": "stdout",
          "text": [
            "RMSE using RF:  0.1666018930927349\n"
          ]
        }
      ]
    },
    {
      "cell_type": "code",
      "metadata": {
        "colab": {
          "base_uri": "https://localhost:8080/"
        },
        "id": "0VC-qYOdyOn3",
        "outputId": "cab79419-f67f-46af-ac4b-ecf7b66cd1be"
      },
      "source": [
        "print(\"RF R2 score :\", r2_score(y_test,y_pred_rf))"
      ],
      "execution_count": 121,
      "outputs": [
        {
          "output_type": "stream",
          "name": "stdout",
          "text": [
            "RF R2 score : 0.9148726508269085\n"
          ]
        }
      ]
    },
    {
      "cell_type": "code",
      "metadata": {
        "id": "xamWIOs-yQPr"
      },
      "source": [
        "feature_name_list=df1.drop('price', axis = 1).columns"
      ],
      "execution_count": 122,
      "outputs": []
    },
    {
      "cell_type": "code",
      "metadata": {
        "colab": {
          "base_uri": "https://localhost:8080/",
          "height": 332
        },
        "id": "5jHcrh2aySVF",
        "outputId": "7e624e9c-9d98-4e1b-ffb9-c83329958c89"
      },
      "source": [
        "rf.feature_names = feature_name_list\n",
        "plt.barh(rf.feature_names,rf.feature_importances_)\n",
        "plt.xticks(rotation=90);\n",
        "plt.title('Feature Importance by Random Forest')\n",
        "plt.xlabel('Feature Importance (%)')"
      ],
      "execution_count": 123,
      "outputs": [
        {
          "output_type": "execute_result",
          "data": {
            "text/plain": [
              "Text(0.5, 0, 'Feature Importance (%)')"
            ]
          },
          "metadata": {},
          "execution_count": 123
        },
        {
          "output_type": "display_data",
          "data": {
            "image/png": "[encoded data removed]",
            "text/plain": [
              "<Figure size 432x288 with 1 Axes>"
            ]
          },
          "metadata": {
            "needs_background": "light"
          }
        }
      ]
    },
    {
      "cell_type": "code",
      "metadata": {
        "colab": {
          "base_uri": "https://localhost:8080/"
        },
        "id": "PySowUNyyUdv",
        "outputId": "d2334d7c-8492-41c2-f543-c1997f875093"
      },
      "source": [
        "#XGBoost\n",
        "from xgboost import XGBRegressor\n",
        "xgb = XGBRegressor(n_estimators=400, learning_rate=0.24, max_depth=3)\n",
        "xgb.fit(X_train, y_train) \n",
        "y_pred_xgb = xgb.predict(X_test) \n",
        "mse_xgb = mean_squared_error(y_pred_xgb, y_test)\n",
        "print(\"RMSE:\" , np.sqrt(mse_xgb)) \n",
        "print(\"XGBoost R2 score :\", r2_score(y_test,y_pred_xgb))"
      ],
      "execution_count": 124,
      "outputs": [
        {
          "output_type": "stream",
          "name": "stdout",
          "text": [
            "[13:12:47] WARNING: /workspace/src/objective/regression_obj.cu:152: reg:linear is now deprecated in favor of reg:squarederror.\n",
            "RMSE: 0.1509831356616114\n",
            "XGBoost R2 score : 0.93008568172116\n"
          ]
        }
      ]
    },
    {
      "cell_type": "code",
      "metadata": {
        "id": "qCPtzYwkyXgv"
      },
      "source": [
        "xgb.feature_names = feature_name_list"
      ],
      "execution_count": 125,
      "outputs": []
    },
    {
      "cell_type": "code",
      "metadata": {
        "colab": {
          "base_uri": "https://localhost:8080/",
          "height": 372
        },
        "id": "QoMDWYDmyaVQ",
        "outputId": "57ab384b-2cf8-4fe6-e185-5896fcbe3a98"
      },
      "source": [
        "#Results Summary\n",
        "plt.figure(figsize = (7,5))\n",
        "plt.scatter(y_test, y_pred_rf, label='RF', color='red')\n",
        "plt.scatter(y_test, y_pred_xgb, label='XGBoost', color='blue')\n",
        "plt.xlabel('Y Test')\n",
        "plt.ylabel('Predicted Y')\n",
        "plt.title('RF vs XGBoost price regression (log-transformed)')\n",
        "plt.legend(loc='upper left')"
      ],
      "execution_count": 127,
      "outputs": [
        {
          "output_type": "execute_result",
          "data": {
            "text/plain": [
              "<matplotlib.legend.Legend at 0x7fb27b8efe50>"
            ]
          },
          "metadata": {},
          "execution_count": 127
        },
        {
          "output_type": "display_data",
          "data": {
            "image/png": "[encoded data removed]",
            "text/plain": [
              "<Figure size 504x360 with 1 Axes>"
            ]
          },
          "metadata": {
            "needs_background": "light"
          }
        }
      ]
    },
    {
      "cell_type": "code",
      "metadata": {
        "colab": {
          "base_uri": "https://localhost:8080/"
        },
        "id": "IzrzXHZTydTZ",
        "outputId": "b4cb8e6f-48df-477a-8fc3-d35b52eb1bc3"
      },
      "source": [
        "print(\"RMSE using RF: \", np.sqrt(mse_rf))\n",
        "print(\"RMSE using XGBoost: \", np.sqrt(mse_xgb))"
      ],
      "execution_count": 128,
      "outputs": [
        {
          "output_type": "stream",
          "name": "stdout",
          "text": [
            "RMSE using RF:  0.1666018930927349\n",
            "RMSE using XGBoost:  0.1509831356616114\n"
          ]
        }
      ]
    },
    {
      "cell_type": "code",
      "metadata": {
        "colab": {
          "base_uri": "https://localhost:8080/"
        },
        "id": "jibrT6-Hyiut",
        "outputId": "7594a4f5-65a7-480c-e7b3-571722c2e51b"
      },
      "source": [
        "print(\"R2 using Random Forest: \",  r2_score(y_test, y_pred_rf))\n",
        "print(\"R2 using XGBoost: \",  r2_score(y_test, y_pred_xgb))"
      ],
      "execution_count": 129,
      "outputs": [
        {
          "output_type": "stream",
          "name": "stdout",
          "text": [
            "R2 using Random Forest:  0.9148726508269085\n",
            "R2 using XGBoost:  0.93008568172116\n"
          ]
        }
      ]
    },
    {
      "cell_type": "code",
      "metadata": {
        "colab": {
          "base_uri": "https://localhost:8080/",
          "height": 372
        },
        "id": "SuLMFYTMykaT",
        "outputId": "0092ebdf-bdeb-4b93-cab5-93cf97110806"
      },
      "source": [
        "plt.figure(figsize=(10,5))\n",
        "plt.barh(rf.feature_names,rf.feature_importances_, alpha=0.5, label='RF', color='red')\n",
        "plt.barh(xgb.feature_names,xgb.feature_importances_, alpha=0.5, label='XGBoost', color='blue')\n",
        "plt.legend(loc='upper right');\n",
        "plt.title('Feature Importance for price prediction')\n",
        "plt.xlabel('Feature Importance (%)')"
      ],
      "execution_count": 131,
      "outputs": [
        {
          "output_type": "execute_result",
          "data": {
            "text/plain": [
              "Text(0.5, 0, 'Feature Importance (%)')"
            ]
          },
          "metadata": {},
          "execution_count": 131
        },
        {
          "output_type": "display_data",
          "data": {
            "image/png": "[encoded data removed]",
            "text/plain": [
              "<Figure size 720x360 with 1 Axes>"
            ]
          },
          "metadata": {
            "needs_background": "light"
          }
        }
      ]
    },
    {
      "cell_type": "code",
      "metadata": {
        "id": "z-KKFJTfyl80"
      },
      "source": [
        ""
      ],
      "execution_count": null,
      "outputs": []
    }
  ]
}