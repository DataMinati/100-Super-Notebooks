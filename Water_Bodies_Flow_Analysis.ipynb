{
  "cells": [
    {
      "cell_type": "markdown",
      "metadata": {
        "id": "view-in-github",
        "colab_type": "text"
      },
      "source": [
        "<a href=\"https://colab.research.google.com/github/DataMinati/Super-Notebooks-100/blob/main/Water_Bodies_Flow_Analysis.ipynb\" target=\"_parent\"><img src=\"https://colab.research.google.com/assets/colab-badge.svg\" alt=\"Open In Colab\"/></a>"
      ]
    },
    {
      "cell_type": "code",
      "execution_count": 1,
      "metadata": {
        "_cell_guid": "b1076dfc-b9ad-4769-8c92-a6c4dae69d19",
        "_uuid": "8f2839f25d086af736a60e9eeb907d3b93b6e0e5",
        "execution": {
          "iopub.execute_input": "2022-02-03T05:28:52.948523Z",
          "iopub.status.busy": "2022-02-03T05:28:52.947671Z",
          "iopub.status.idle": "2022-02-03T05:28:53.815258Z",
          "shell.execute_reply": "2022-02-03T05:28:53.814670Z",
          "shell.execute_reply.started": "2022-02-03T05:23:25.375539Z"
        },
        "papermill": {
          "duration": 0.915853,
          "end_time": "2022-02-03T05:28:53.815386",
          "exception": false,
          "start_time": "2022-02-03T05:28:52.899533",
          "status": "completed"
        },
        "tags": [],
        "id": "LeqcKe65uqP2"
      },
      "outputs": [],
      "source": [
        "import numpy as np # linear algebra\n",
        "import pandas as pd # data processing, CSV file I/O (e.g. pd.read_csv)\n",
        "import matplotlib.pyplot as plt\n",
        "import seaborn as sns\n",
        "import calendar\n",
        "from datetime import datetime as dt"
      ]
    },
    {
      "cell_type": "code",
      "execution_count": 2,
      "metadata": {
        "_cell_guid": "79c7e3d0-c299-4dcb-8224-4455121ee9b0",
        "_uuid": "d629ff2d2480ee46fbb7e2d37f6b5fab8052498a",
        "execution": {
          "iopub.execute_input": "2022-02-03T05:28:54.006528Z",
          "iopub.status.busy": "2022-02-03T05:28:54.005801Z",
          "iopub.status.idle": "2022-02-03T05:28:54.044879Z",
          "shell.execute_reply": "2022-02-03T05:28:54.045684Z",
          "shell.execute_reply.started": "2022-02-03T05:23:26.350957Z"
        },
        "papermill": {
          "duration": 0.092251,
          "end_time": "2022-02-03T05:28:54.045880",
          "exception": false,
          "start_time": "2022-02-03T05:28:53.953629",
          "status": "completed"
        },
        "tags": [],
        "colab": {
          "base_uri": "https://localhost:8080/"
        },
        "id": "aNeQEggUuqQV",
        "outputId": "ca61fae8-d999-4f4a-d4e9-35dbb576bc0b"
      },
      "outputs": [
        {
          "output_type": "stream",
          "name": "stdout",
          "text": [
            "<class 'pandas.core.frame.DataFrame'>\n",
            "RangeIndex: 6603 entries, 0 to 6602\n",
            "Data columns (total 9 columns):\n",
            " #   Column                Non-Null Count  Dtype  \n",
            "---  ------                --------------  -----  \n",
            " 0   Date                  6603 non-null   object \n",
            " 1   Rainfall_S_Piero      6026 non-null   float64\n",
            " 2   Rainfall_Mangona      6026 non-null   float64\n",
            " 3   Rainfall_S_Agata      6026 non-null   float64\n",
            " 4   Rainfall_Cavallina    6026 non-null   float64\n",
            " 5   Rainfall_Le_Croci     6026 non-null   float64\n",
            " 6   Temperature_Le_Croci  6025 non-null   float64\n",
            " 7   Lake_Level            6603 non-null   float64\n",
            " 8   Flow_Rate             6582 non-null   float64\n",
            "dtypes: float64(8), object(1)\n",
            "memory usage: 464.4+ KB\n"
          ]
        }
      ],
      "source": [
        "#Dowloading the data for Lake Bilancino \n",
        "lb= pd.read_csv('https://raw.githubusercontent.com/MainakRepositor/Datasets-/master/Lake_Bilancino.csv')\n",
        "lb.info()"
      ]
    },
    {
      "cell_type": "code",
      "execution_count": null,
      "metadata": {
        "execution": {
          "iopub.execute_input": "2022-02-03T05:28:54.143584Z",
          "iopub.status.busy": "2022-02-03T05:28:54.142896Z",
          "iopub.status.idle": "2022-02-03T05:28:54.183261Z",
          "shell.execute_reply": "2022-02-03T05:28:54.183802Z",
          "shell.execute_reply.started": "2022-02-03T05:23:26.406455Z"
        },
        "papermill": {
          "duration": 0.090392,
          "end_time": "2022-02-03T05:28:54.183950",
          "exception": false,
          "start_time": "2022-02-03T05:28:54.093558",
          "status": "completed"
        },
        "tags": [],
        "id": "JI7I69j4uqQa",
        "outputId": "444551b7-5662-4acd-9297-f5edddc04289"
      },
      "outputs": [
        {
          "data": {
            "text/html": [
              "<div>\n",
              "<style scoped>\n",
              "    .dataframe tbody tr th:only-of-type {\n",
              "        vertical-align: middle;\n",
              "    }\n",
              "\n",
              "    .dataframe tbody tr th {\n",
              "        vertical-align: top;\n",
              "    }\n",
              "\n",
              "    .dataframe thead th {\n",
              "        text-align: right;\n",
              "    }\n",
              "</style>\n",
              "<table border=\"1\" class=\"dataframe\">\n",
              "  <thead>\n",
              "    <tr style=\"text-align: right;\">\n",
              "      <th></th>\n",
              "      <th>Rainfall_S_Piero</th>\n",
              "      <th>Rainfall_Mangona</th>\n",
              "      <th>Rainfall_S_Agata</th>\n",
              "      <th>Rainfall_Cavallina</th>\n",
              "      <th>Rainfall_Le_Croci</th>\n",
              "      <th>Temperature_Le_Croci</th>\n",
              "      <th>Lake_Level</th>\n",
              "      <th>Flow_Rate</th>\n",
              "    </tr>\n",
              "  </thead>\n",
              "  <tbody>\n",
              "    <tr>\n",
              "      <th>count</th>\n",
              "      <td>6026.000000</td>\n",
              "      <td>6026.000000</td>\n",
              "      <td>6026.000000</td>\n",
              "      <td>6026.000000</td>\n",
              "      <td>6026.000000</td>\n",
              "      <td>6025.000000</td>\n",
              "      <td>6603.000000</td>\n",
              "      <td>6582.000000</td>\n",
              "    </tr>\n",
              "    <tr>\n",
              "      <th>mean</th>\n",
              "      <td>2.471225</td>\n",
              "      <td>3.340657</td>\n",
              "      <td>2.670063</td>\n",
              "      <td>2.674743</td>\n",
              "      <td>3.129871</td>\n",
              "      <td>14.530141</td>\n",
              "      <td>249.564091</td>\n",
              "      <td>2.760968</td>\n",
              "    </tr>\n",
              "    <tr>\n",
              "      <th>std</th>\n",
              "      <td>6.650012</td>\n",
              "      <td>8.903134</td>\n",
              "      <td>7.166643</td>\n",
              "      <td>7.655847</td>\n",
              "      <td>8.025121</td>\n",
              "      <td>6.944029</td>\n",
              "      <td>2.172558</td>\n",
              "      <td>4.073428</td>\n",
              "    </tr>\n",
              "    <tr>\n",
              "      <th>min</th>\n",
              "      <td>0.000000</td>\n",
              "      <td>0.000000</td>\n",
              "      <td>0.000000</td>\n",
              "      <td>0.000000</td>\n",
              "      <td>0.000000</td>\n",
              "      <td>-5.350000</td>\n",
              "      <td>243.530000</td>\n",
              "      <td>0.310000</td>\n",
              "    </tr>\n",
              "    <tr>\n",
              "      <th>25%</th>\n",
              "      <td>0.000000</td>\n",
              "      <td>0.000000</td>\n",
              "      <td>0.000000</td>\n",
              "      <td>0.000000</td>\n",
              "      <td>0.000000</td>\n",
              "      <td>9.000000</td>\n",
              "      <td>248.000000</td>\n",
              "      <td>0.600000</td>\n",
              "    </tr>\n",
              "    <tr>\n",
              "      <th>50%</th>\n",
              "      <td>0.000000</td>\n",
              "      <td>0.000000</td>\n",
              "      <td>0.000000</td>\n",
              "      <td>0.000000</td>\n",
              "      <td>0.000000</td>\n",
              "      <td>14.500000</td>\n",
              "      <td>250.200000</td>\n",
              "      <td>1.500000</td>\n",
              "    </tr>\n",
              "    <tr>\n",
              "      <th>75%</th>\n",
              "      <td>0.800000</td>\n",
              "      <td>1.400000</td>\n",
              "      <td>1.200000</td>\n",
              "      <td>0.600000</td>\n",
              "      <td>1.200000</td>\n",
              "      <td>20.100000</td>\n",
              "      <td>251.400000</td>\n",
              "      <td>3.000000</td>\n",
              "    </tr>\n",
              "    <tr>\n",
              "      <th>max</th>\n",
              "      <td>80.600000</td>\n",
              "      <td>110.000000</td>\n",
              "      <td>120.200000</td>\n",
              "      <td>113.600000</td>\n",
              "      <td>88.400000</td>\n",
              "      <td>34.000000</td>\n",
              "      <td>252.760000</td>\n",
              "      <td>74.650000</td>\n",
              "    </tr>\n",
              "  </tbody>\n",
              "</table>\n",
              "</div>"
            ],
            "text/plain": [
              "       Rainfall_S_Piero  Rainfall_Mangona  Rainfall_S_Agata  \\\n",
              "count       6026.000000       6026.000000       6026.000000   \n",
              "mean           2.471225          3.340657          2.670063   \n",
              "std            6.650012          8.903134          7.166643   \n",
              "min            0.000000          0.000000          0.000000   \n",
              "25%            0.000000          0.000000          0.000000   \n",
              "50%            0.000000          0.000000          0.000000   \n",
              "75%            0.800000          1.400000          1.200000   \n",
              "max           80.600000        110.000000        120.200000   \n",
              "\n",
              "       Rainfall_Cavallina  Rainfall_Le_Croci  Temperature_Le_Croci  \\\n",
              "count         6026.000000        6026.000000           6025.000000   \n",
              "mean             2.674743           3.129871             14.530141   \n",
              "std              7.655847           8.025121              6.944029   \n",
              "min              0.000000           0.000000             -5.350000   \n",
              "25%              0.000000           0.000000              9.000000   \n",
              "50%              0.000000           0.000000             14.500000   \n",
              "75%              0.600000           1.200000             20.100000   \n",
              "max            113.600000          88.400000             34.000000   \n",
              "\n",
              "        Lake_Level    Flow_Rate  \n",
              "count  6603.000000  6582.000000  \n",
              "mean    249.564091     2.760968  \n",
              "std       2.172558     4.073428  \n",
              "min     243.530000     0.310000  \n",
              "25%     248.000000     0.600000  \n",
              "50%     250.200000     1.500000  \n",
              "75%     251.400000     3.000000  \n",
              "max     252.760000    74.650000  "
            ]
          },
          "execution_count": 3,
          "metadata": {},
          "output_type": "execute_result"
        }
      ],
      "source": [
        "lb.describe()"
      ]
    },
    {
      "cell_type": "code",
      "execution_count": null,
      "metadata": {
        "execution": {
          "iopub.execute_input": "2022-02-03T05:28:54.284090Z",
          "iopub.status.busy": "2022-02-03T05:28:54.283050Z",
          "iopub.status.idle": "2022-02-03T05:28:54.286706Z",
          "shell.execute_reply": "2022-02-03T05:28:54.287220Z",
          "shell.execute_reply.started": "2022-02-03T05:23:26.462037Z"
        },
        "papermill": {
          "duration": 0.056583,
          "end_time": "2022-02-03T05:28:54.287368",
          "exception": false,
          "start_time": "2022-02-03T05:28:54.230785",
          "status": "completed"
        },
        "tags": [],
        "id": "nNDPe0WnuqQg",
        "outputId": "3e0a8a0e-2865-4b12-93fc-6e3c67266e7d"
      },
      "outputs": [
        {
          "data": {
            "text/plain": [
              "Index(['Date', 'Rainfall_S_Piero', 'Rainfall_Mangona', 'Rainfall_S_Agata',\n",
              "       'Rainfall_Cavallina', 'Rainfall_Le_Croci', 'Temperature_Le_Croci',\n",
              "       'Lake_Level', 'Flow_Rate'],\n",
              "      dtype='object')"
            ]
          },
          "execution_count": 4,
          "metadata": {},
          "output_type": "execute_result"
        }
      ],
      "source": [
        "#Checking the columns\n",
        "lb.columns"
      ]
    },
    {
      "cell_type": "code",
      "execution_count": null,
      "metadata": {
        "execution": {
          "iopub.execute_input": "2022-02-03T05:28:54.398024Z",
          "iopub.status.busy": "2022-02-03T05:28:54.397096Z",
          "iopub.status.idle": "2022-02-03T05:28:54.401363Z",
          "shell.execute_reply": "2022-02-03T05:28:54.401912Z",
          "shell.execute_reply.started": "2022-02-03T05:23:26.475559Z"
        },
        "papermill": {
          "duration": 0.066517,
          "end_time": "2022-02-03T05:28:54.402056",
          "exception": false,
          "start_time": "2022-02-03T05:28:54.335539",
          "status": "completed"
        },
        "tags": [],
        "id": "46CL_Oh0uqQj",
        "outputId": "d2edd110-6b61-4994-c39b-e4d158f55587"
      },
      "outputs": [
        {
          "data": {
            "text/html": [
              "<div>\n",
              "<style scoped>\n",
              "    .dataframe tbody tr th:only-of-type {\n",
              "        vertical-align: middle;\n",
              "    }\n",
              "\n",
              "    .dataframe tbody tr th {\n",
              "        vertical-align: top;\n",
              "    }\n",
              "\n",
              "    .dataframe thead th {\n",
              "        text-align: right;\n",
              "    }\n",
              "</style>\n",
              "<table border=\"1\" class=\"dataframe\">\n",
              "  <thead>\n",
              "    <tr style=\"text-align: right;\">\n",
              "      <th></th>\n",
              "      <th>Date</th>\n",
              "      <th>Rainfall_S_Piero</th>\n",
              "      <th>Rainfall_Mangona</th>\n",
              "      <th>Rainfall_S_Agata</th>\n",
              "      <th>Rainfall_Cavallina</th>\n",
              "      <th>Rainfall_Le_Croci</th>\n",
              "      <th>Temperature_Le_Croci</th>\n",
              "      <th>Lake_Level</th>\n",
              "      <th>Flow_Rate</th>\n",
              "    </tr>\n",
              "  </thead>\n",
              "  <tbody>\n",
              "    <tr>\n",
              "      <th>6598</th>\n",
              "      <td>26/06/2020</td>\n",
              "      <td>0.0</td>\n",
              "      <td>0.0</td>\n",
              "      <td>0.0</td>\n",
              "      <td>0.0</td>\n",
              "      <td>0.0</td>\n",
              "      <td>22.50</td>\n",
              "      <td>250.85</td>\n",
              "      <td>0.6</td>\n",
              "    </tr>\n",
              "    <tr>\n",
              "      <th>6599</th>\n",
              "      <td>27/06/2020</td>\n",
              "      <td>0.0</td>\n",
              "      <td>0.0</td>\n",
              "      <td>0.0</td>\n",
              "      <td>0.0</td>\n",
              "      <td>0.0</td>\n",
              "      <td>23.40</td>\n",
              "      <td>250.84</td>\n",
              "      <td>0.6</td>\n",
              "    </tr>\n",
              "    <tr>\n",
              "      <th>6600</th>\n",
              "      <td>28/06/2020</td>\n",
              "      <td>0.0</td>\n",
              "      <td>0.0</td>\n",
              "      <td>0.0</td>\n",
              "      <td>0.0</td>\n",
              "      <td>0.0</td>\n",
              "      <td>21.50</td>\n",
              "      <td>250.83</td>\n",
              "      <td>0.6</td>\n",
              "    </tr>\n",
              "    <tr>\n",
              "      <th>6601</th>\n",
              "      <td>29/06/2020</td>\n",
              "      <td>0.0</td>\n",
              "      <td>0.0</td>\n",
              "      <td>0.0</td>\n",
              "      <td>0.0</td>\n",
              "      <td>0.0</td>\n",
              "      <td>23.20</td>\n",
              "      <td>250.82</td>\n",
              "      <td>0.6</td>\n",
              "    </tr>\n",
              "    <tr>\n",
              "      <th>6602</th>\n",
              "      <td>30/06/2020</td>\n",
              "      <td>0.0</td>\n",
              "      <td>0.0</td>\n",
              "      <td>0.0</td>\n",
              "      <td>0.0</td>\n",
              "      <td>0.0</td>\n",
              "      <td>22.75</td>\n",
              "      <td>250.80</td>\n",
              "      <td>0.6</td>\n",
              "    </tr>\n",
              "  </tbody>\n",
              "</table>\n",
              "</div>"
            ],
            "text/plain": [
              "            Date  Rainfall_S_Piero  Rainfall_Mangona  Rainfall_S_Agata  \\\n",
              "6598  26/06/2020               0.0               0.0               0.0   \n",
              "6599  27/06/2020               0.0               0.0               0.0   \n",
              "6600  28/06/2020               0.0               0.0               0.0   \n",
              "6601  29/06/2020               0.0               0.0               0.0   \n",
              "6602  30/06/2020               0.0               0.0               0.0   \n",
              "\n",
              "      Rainfall_Cavallina  Rainfall_Le_Croci  Temperature_Le_Croci  Lake_Level  \\\n",
              "6598                 0.0                0.0                 22.50      250.85   \n",
              "6599                 0.0                0.0                 23.40      250.84   \n",
              "6600                 0.0                0.0                 21.50      250.83   \n",
              "6601                 0.0                0.0                 23.20      250.82   \n",
              "6602                 0.0                0.0                 22.75      250.80   \n",
              "\n",
              "      Flow_Rate  \n",
              "6598        0.6  \n",
              "6599        0.6  \n",
              "6600        0.6  \n",
              "6601        0.6  \n",
              "6602        0.6  "
            ]
          },
          "execution_count": 5,
          "metadata": {},
          "output_type": "execute_result"
        }
      ],
      "source": [
        "#Checking data of Lake Bilancino\n",
        "lb.tail()"
      ]
    },
    {
      "cell_type": "code",
      "execution_count": null,
      "metadata": {
        "execution": {
          "iopub.execute_input": "2022-02-03T05:28:54.610135Z",
          "iopub.status.busy": "2022-02-03T05:28:54.609490Z",
          "iopub.status.idle": "2022-02-03T05:28:54.623648Z",
          "shell.execute_reply": "2022-02-03T05:28:54.623040Z",
          "shell.execute_reply.started": "2022-02-03T05:23:26.499439Z"
        },
        "papermill": {
          "duration": 0.079348,
          "end_time": "2022-02-03T05:28:54.623759",
          "exception": false,
          "start_time": "2022-02-03T05:28:54.544411",
          "status": "completed"
        },
        "tags": [],
        "id": "Zu1TIlpauqQw",
        "outputId": "244df616-ff9e-4152-d66c-51176cee3b4a"
      },
      "outputs": [
        {
          "name": "stdout",
          "output_type": "stream",
          "text": [
            "<class 'pandas.core.frame.DataFrame'>\n",
            "RangeIndex: 6603 entries, 0 to 6602\n",
            "Data columns (total 11 columns):\n",
            " #   Column                Non-Null Count  Dtype         \n",
            "---  ------                --------------  -----         \n",
            " 0   Date                  6603 non-null   datetime64[ns]\n",
            " 1   Rainfall_S_Piero      6026 non-null   float64       \n",
            " 2   Rainfall_Mangona      6026 non-null   float64       \n",
            " 3   Rainfall_S_Agata      6026 non-null   float64       \n",
            " 4   Rainfall_Cavallina    6026 non-null   float64       \n",
            " 5   Rainfall_Le_Croci     6026 non-null   float64       \n",
            " 6   Temperature_Le_Croci  6025 non-null   float64       \n",
            " 7   Lake_Level            6603 non-null   float64       \n",
            " 8   Flow_Rate             6582 non-null   float64       \n",
            " 9   Year                  6603 non-null   int64         \n",
            " 10  Month                 6603 non-null   int64         \n",
            "dtypes: datetime64[ns](1), float64(8), int64(2)\n",
            "memory usage: 567.6 KB\n"
          ]
        }
      ],
      "source": [
        "lb['Date']= pd.to_datetime(lb['Date'])\n",
        "lb['Year']= lb['Date'].dt.year\n",
        "lb['Month']=lb['Date'].dt.month\n",
        "lb.info()\n"
      ]
    },
    {
      "cell_type": "code",
      "execution_count": null,
      "metadata": {
        "execution": {
          "iopub.execute_input": "2022-02-03T05:28:54.733609Z",
          "iopub.status.busy": "2022-02-03T05:28:54.732961Z",
          "iopub.status.idle": "2022-02-03T05:28:54.736781Z",
          "shell.execute_reply": "2022-02-03T05:28:54.736241Z",
          "shell.execute_reply.started": "2022-02-03T05:23:26.538372Z"
        },
        "papermill": {
          "duration": 0.06551,
          "end_time": "2022-02-03T05:28:54.736922",
          "exception": false,
          "start_time": "2022-02-03T05:28:54.671412",
          "status": "completed"
        },
        "tags": [],
        "id": "Q5ZZX5M4uqQ1",
        "outputId": "a1b3a423-fa1f-4e07-b9c7-c352d9f6b2c1"
      },
      "outputs": [
        {
          "data": {
            "text/html": [
              "<div>\n",
              "<style scoped>\n",
              "    .dataframe tbody tr th:only-of-type {\n",
              "        vertical-align: middle;\n",
              "    }\n",
              "\n",
              "    .dataframe tbody tr th {\n",
              "        vertical-align: top;\n",
              "    }\n",
              "\n",
              "    .dataframe thead th {\n",
              "        text-align: right;\n",
              "    }\n",
              "</style>\n",
              "<table border=\"1\" class=\"dataframe\">\n",
              "  <thead>\n",
              "    <tr style=\"text-align: right;\">\n",
              "      <th></th>\n",
              "      <th>Date</th>\n",
              "      <th>Rainfall_S_Piero</th>\n",
              "      <th>Rainfall_Mangona</th>\n",
              "      <th>Rainfall_S_Agata</th>\n",
              "      <th>Rainfall_Cavallina</th>\n",
              "      <th>Rainfall_Le_Croci</th>\n",
              "      <th>Temperature_Le_Croci</th>\n",
              "      <th>Lake_Level</th>\n",
              "      <th>Flow_Rate</th>\n",
              "      <th>Year</th>\n",
              "      <th>Month</th>\n",
              "    </tr>\n",
              "  </thead>\n",
              "  <tbody>\n",
              "    <tr>\n",
              "      <th>0</th>\n",
              "      <td>2002-03-06</td>\n",
              "      <td>NaN</td>\n",
              "      <td>NaN</td>\n",
              "      <td>NaN</td>\n",
              "      <td>NaN</td>\n",
              "      <td>NaN</td>\n",
              "      <td>NaN</td>\n",
              "      <td>249.43</td>\n",
              "      <td>0.31</td>\n",
              "      <td>2002</td>\n",
              "      <td>3</td>\n",
              "    </tr>\n",
              "    <tr>\n",
              "      <th>1</th>\n",
              "      <td>2002-04-06</td>\n",
              "      <td>NaN</td>\n",
              "      <td>NaN</td>\n",
              "      <td>NaN</td>\n",
              "      <td>NaN</td>\n",
              "      <td>NaN</td>\n",
              "      <td>NaN</td>\n",
              "      <td>249.43</td>\n",
              "      <td>0.31</td>\n",
              "      <td>2002</td>\n",
              "      <td>4</td>\n",
              "    </tr>\n",
              "    <tr>\n",
              "      <th>2</th>\n",
              "      <td>2002-05-06</td>\n",
              "      <td>NaN</td>\n",
              "      <td>NaN</td>\n",
              "      <td>NaN</td>\n",
              "      <td>NaN</td>\n",
              "      <td>NaN</td>\n",
              "      <td>NaN</td>\n",
              "      <td>249.43</td>\n",
              "      <td>0.31</td>\n",
              "      <td>2002</td>\n",
              "      <td>5</td>\n",
              "    </tr>\n",
              "    <tr>\n",
              "      <th>3</th>\n",
              "      <td>2002-06-06</td>\n",
              "      <td>NaN</td>\n",
              "      <td>NaN</td>\n",
              "      <td>NaN</td>\n",
              "      <td>NaN</td>\n",
              "      <td>NaN</td>\n",
              "      <td>NaN</td>\n",
              "      <td>249.43</td>\n",
              "      <td>0.31</td>\n",
              "      <td>2002</td>\n",
              "      <td>6</td>\n",
              "    </tr>\n",
              "    <tr>\n",
              "      <th>4</th>\n",
              "      <td>2002-07-06</td>\n",
              "      <td>NaN</td>\n",
              "      <td>NaN</td>\n",
              "      <td>NaN</td>\n",
              "      <td>NaN</td>\n",
              "      <td>NaN</td>\n",
              "      <td>NaN</td>\n",
              "      <td>249.44</td>\n",
              "      <td>0.31</td>\n",
              "      <td>2002</td>\n",
              "      <td>7</td>\n",
              "    </tr>\n",
              "  </tbody>\n",
              "</table>\n",
              "</div>"
            ],
            "text/plain": [
              "        Date  Rainfall_S_Piero  Rainfall_Mangona  Rainfall_S_Agata  \\\n",
              "0 2002-03-06               NaN               NaN               NaN   \n",
              "1 2002-04-06               NaN               NaN               NaN   \n",
              "2 2002-05-06               NaN               NaN               NaN   \n",
              "3 2002-06-06               NaN               NaN               NaN   \n",
              "4 2002-07-06               NaN               NaN               NaN   \n",
              "\n",
              "   Rainfall_Cavallina  Rainfall_Le_Croci  Temperature_Le_Croci  Lake_Level  \\\n",
              "0                 NaN                NaN                   NaN      249.43   \n",
              "1                 NaN                NaN                   NaN      249.43   \n",
              "2                 NaN                NaN                   NaN      249.43   \n",
              "3                 NaN                NaN                   NaN      249.43   \n",
              "4                 NaN                NaN                   NaN      249.44   \n",
              "\n",
              "   Flow_Rate  Year  Month  \n",
              "0       0.31  2002      3  \n",
              "1       0.31  2002      4  \n",
              "2       0.31  2002      5  \n",
              "3       0.31  2002      6  \n",
              "4       0.31  2002      7  "
            ]
          },
          "execution_count": 7,
          "metadata": {},
          "output_type": "execute_result"
        }
      ],
      "source": [
        "lb.head()"
      ]
    },
    {
      "cell_type": "code",
      "execution_count": null,
      "metadata": {
        "execution": {
          "iopub.execute_input": "2022-02-03T05:28:54.841672Z",
          "iopub.status.busy": "2022-02-03T05:28:54.841034Z",
          "iopub.status.idle": "2022-02-03T05:28:54.854054Z",
          "shell.execute_reply": "2022-02-03T05:28:54.854693Z",
          "shell.execute_reply.started": "2022-02-03T05:23:26.561176Z"
        },
        "papermill": {
          "duration": 0.067247,
          "end_time": "2022-02-03T05:28:54.854834",
          "exception": false,
          "start_time": "2022-02-03T05:28:54.787587",
          "status": "completed"
        },
        "tags": [],
        "id": "OgJDh0hRuqQ7",
        "outputId": "9e4b1e38-cd38-4adc-ec80-4561fec85378"
      },
      "outputs": [
        {
          "data": {
            "text/html": [
              "<div>\n",
              "<style scoped>\n",
              "    .dataframe tbody tr th:only-of-type {\n",
              "        vertical-align: middle;\n",
              "    }\n",
              "\n",
              "    .dataframe tbody tr th {\n",
              "        vertical-align: top;\n",
              "    }\n",
              "\n",
              "    .dataframe thead th {\n",
              "        text-align: right;\n",
              "    }\n",
              "</style>\n",
              "<table border=\"1\" class=\"dataframe\">\n",
              "  <thead>\n",
              "    <tr style=\"text-align: right;\">\n",
              "      <th></th>\n",
              "      <th>Year</th>\n",
              "      <th>Month</th>\n",
              "      <th>Lake_Level</th>\n",
              "    </tr>\n",
              "  </thead>\n",
              "  <tbody>\n",
              "    <tr>\n",
              "      <th>0</th>\n",
              "      <td>2002</td>\n",
              "      <td>1</td>\n",
              "      <td>249.158333</td>\n",
              "    </tr>\n",
              "    <tr>\n",
              "      <th>1</th>\n",
              "      <td>2002</td>\n",
              "      <td>2</td>\n",
              "      <td>249.143333</td>\n",
              "    </tr>\n",
              "    <tr>\n",
              "      <th>2</th>\n",
              "      <td>2002</td>\n",
              "      <td>3</td>\n",
              "      <td>249.172857</td>\n",
              "    </tr>\n",
              "    <tr>\n",
              "      <th>3</th>\n",
              "      <td>2002</td>\n",
              "      <td>4</td>\n",
              "      <td>249.148571</td>\n",
              "    </tr>\n",
              "    <tr>\n",
              "      <th>4</th>\n",
              "      <td>2002</td>\n",
              "      <td>5</td>\n",
              "      <td>249.130000</td>\n",
              "    </tr>\n",
              "  </tbody>\n",
              "</table>\n",
              "</div>"
            ],
            "text/plain": [
              "   Year  Month  Lake_Level\n",
              "0  2002      1  249.158333\n",
              "1  2002      2  249.143333\n",
              "2  2002      3  249.172857\n",
              "3  2002      4  249.148571\n",
              "4  2002      5  249.130000"
            ]
          },
          "execution_count": 8,
          "metadata": {},
          "output_type": "execute_result"
        }
      ],
      "source": [
        "#grouping by year and months\n",
        "Lake_level= lb.groupby([\"Year\", \"Month\"]).Lake_Level.mean().reset_index()\n",
        "Lake_level.head()"
      ]
    },
    {
      "cell_type": "code",
      "execution_count": null,
      "metadata": {
        "execution": {
          "iopub.execute_input": "2022-02-03T05:28:54.956103Z",
          "iopub.status.busy": "2022-02-03T05:28:54.955504Z",
          "iopub.status.idle": "2022-02-03T05:28:55.757694Z",
          "shell.execute_reply": "2022-02-03T05:28:55.758305Z",
          "shell.execute_reply.started": "2022-02-03T05:23:26.588860Z"
        },
        "papermill": {
          "duration": 0.854477,
          "end_time": "2022-02-03T05:28:55.758558",
          "exception": false,
          "start_time": "2022-02-03T05:28:54.904081",
          "status": "completed"
        },
        "tags": [],
        "id": "GjtDD-mDuqRB",
        "outputId": "93920c5f-d2a7-4b01-9011-c7dfd6d43b66"
      },
      "outputs": [
        {
          "data": {
            "text/plain": [
              "<matplotlib.axes._subplots.AxesSubplot at 0x7fafc28c0250>"
            ]
          },
          "execution_count": 9,
          "metadata": {},
          "output_type": "execute_result"
        },
        {
          "data": {
            "image/png": "[encoded data removed]",
            "text/plain": [
              "<Figure size 432x288 with 1 Axes>"
            ]
          },
          "metadata": {
            "needs_background": "light"
          },
          "output_type": "display_data"
        }
      ],
      "source": [
        "#plotting the lake level over the TS to see the variation over year\n",
        "sns.lineplot(data=Lake_level, x=\"Year\", y=\"Lake_Level\")"
      ]
    },
    {
      "cell_type": "code",
      "execution_count": null,
      "metadata": {
        "execution": {
          "iopub.execute_input": "2022-02-03T05:28:55.861972Z",
          "iopub.status.busy": "2022-02-03T05:28:55.861386Z",
          "iopub.status.idle": "2022-02-03T05:28:55.869504Z",
          "shell.execute_reply": "2022-02-03T05:28:55.870094Z",
          "shell.execute_reply.started": "2022-02-03T05:23:27.420516Z"
        },
        "papermill": {
          "duration": 0.061531,
          "end_time": "2022-02-03T05:28:55.870229",
          "exception": false,
          "start_time": "2022-02-03T05:28:55.808698",
          "status": "completed"
        },
        "tags": [],
        "id": "XwrClgRVuqRE",
        "outputId": "91347bf3-0522-42e4-9559-80f5e011cf25"
      },
      "outputs": [
        {
          "name": "stdout",
          "output_type": "stream",
          "text": [
            "     Year  Month  Lake_Level\n",
            "129  2012     10  244.520645\n"
          ]
        }
      ],
      "source": [
        "#min(lb['Lake_Level'])\n",
        "print(Lake_level[Lake_level.Lake_Level==Lake_level.Lake_Level.min()])"
      ]
    },
    {
      "cell_type": "code",
      "execution_count": null,
      "metadata": {
        "execution": {
          "iopub.execute_input": "2022-02-03T05:28:55.979784Z",
          "iopub.status.busy": "2022-02-03T05:28:55.979162Z",
          "iopub.status.idle": "2022-02-03T05:28:55.981995Z",
          "shell.execute_reply": "2022-02-03T05:28:55.981419Z",
          "shell.execute_reply.started": "2022-02-03T05:23:27.432236Z"
        },
        "papermill": {
          "duration": 0.061528,
          "end_time": "2022-02-03T05:28:55.982097",
          "exception": false,
          "start_time": "2022-02-03T05:28:55.920569",
          "status": "completed"
        },
        "tags": [],
        "id": "VocKDsW7uqRI",
        "outputId": "ccda8401-5f6e-4e91-87fc-b0067d9df423"
      },
      "outputs": [
        {
          "name": "stdout",
          "output_type": "stream",
          "text": [
            "    Year  Month  Lake_Level\n",
            "98  2010      3  251.582258\n"
          ]
        }
      ],
      "source": [
        "#max(lb['Lake_Level'])\n",
        "print(Lake_level[Lake_level.Lake_Level==Lake_level.Lake_Level.max()])"
      ]
    },
    {
      "cell_type": "code",
      "execution_count": null,
      "metadata": {
        "execution": {
          "iopub.execute_input": "2022-02-03T05:28:56.103338Z",
          "iopub.status.busy": "2022-02-03T05:28:56.102730Z",
          "iopub.status.idle": "2022-02-03T05:28:56.646721Z",
          "shell.execute_reply": "2022-02-03T05:28:56.645881Z",
          "shell.execute_reply.started": "2022-02-03T05:23:27.448141Z"
        },
        "papermill": {
          "duration": 0.601608,
          "end_time": "2022-02-03T05:28:56.646859",
          "exception": false,
          "start_time": "2022-02-03T05:28:56.045251",
          "status": "completed"
        },
        "tags": [],
        "id": "Iq9QwLP7uqRL",
        "outputId": "2893611e-a9dd-4134-d66a-4cd38c30193a"
      },
      "outputs": [
        {
          "data": {
            "text/plain": [
              "<matplotlib.axes._subplots.AxesSubplot at 0x7fafc0668f90>"
            ]
          },
          "execution_count": 12,
          "metadata": {},
          "output_type": "execute_result"
        },
        {
          "data": {
            "image/png": "[encoded data removed]",
            "text/plain": [
              "<Figure size 432x288 with 1 Axes>"
            ]
          },
          "metadata": {
            "needs_background": "light"
          },
          "output_type": "display_data"
        }
      ],
      "source": [
        "#plotting the lake level over the TS to see the variation over month\n",
        "sns.lineplot(data=Lake_level, x=\"Month\", y=\"Lake_Level\")"
      ]
    },
    {
      "cell_type": "markdown",
      "metadata": {
        "papermill": {
          "duration": 0.051788,
          "end_time": "2022-02-03T05:28:56.856485",
          "exception": false,
          "start_time": "2022-02-03T05:28:56.804697",
          "status": "completed"
        },
        "tags": [],
        "id": "wrUS46QxuqRP"
      },
      "source": [
        "**Checking the flow rate over Months and Years**"
      ]
    },
    {
      "cell_type": "code",
      "execution_count": null,
      "metadata": {
        "execution": {
          "iopub.execute_input": "2022-02-03T05:28:56.964636Z",
          "iopub.status.busy": "2022-02-03T05:28:56.963922Z",
          "iopub.status.idle": "2022-02-03T05:28:56.977352Z",
          "shell.execute_reply": "2022-02-03T05:28:56.978011Z",
          "shell.execute_reply.started": "2022-02-03T05:23:27.978906Z"
        },
        "papermill": {
          "duration": 0.068982,
          "end_time": "2022-02-03T05:28:56.978154",
          "exception": false,
          "start_time": "2022-02-03T05:28:56.909172",
          "status": "completed"
        },
        "tags": [],
        "id": "kFyPvCOeuqRQ",
        "outputId": "a55836ee-ae02-444c-8ba9-24a3771a90b4"
      },
      "outputs": [
        {
          "data": {
            "text/html": [
              "<div>\n",
              "<style scoped>\n",
              "    .dataframe tbody tr th:only-of-type {\n",
              "        vertical-align: middle;\n",
              "    }\n",
              "\n",
              "    .dataframe tbody tr th {\n",
              "        vertical-align: top;\n",
              "    }\n",
              "\n",
              "    .dataframe thead th {\n",
              "        text-align: right;\n",
              "    }\n",
              "</style>\n",
              "<table border=\"1\" class=\"dataframe\">\n",
              "  <thead>\n",
              "    <tr style=\"text-align: right;\">\n",
              "      <th></th>\n",
              "      <th>Year</th>\n",
              "      <th>Month</th>\n",
              "      <th>Flow_Rate</th>\n",
              "    </tr>\n",
              "  </thead>\n",
              "  <tbody>\n",
              "    <tr>\n",
              "      <th>0</th>\n",
              "      <td>2002</td>\n",
              "      <td>1</td>\n",
              "      <td>1.180000</td>\n",
              "    </tr>\n",
              "    <tr>\n",
              "      <th>1</th>\n",
              "      <td>2002</td>\n",
              "      <td>2</td>\n",
              "      <td>2.216667</td>\n",
              "    </tr>\n",
              "    <tr>\n",
              "      <th>2</th>\n",
              "      <td>2002</td>\n",
              "      <td>3</td>\n",
              "      <td>2.315714</td>\n",
              "    </tr>\n",
              "    <tr>\n",
              "      <th>3</th>\n",
              "      <td>2002</td>\n",
              "      <td>4</td>\n",
              "      <td>2.001429</td>\n",
              "    </tr>\n",
              "    <tr>\n",
              "      <th>4</th>\n",
              "      <td>2002</td>\n",
              "      <td>5</td>\n",
              "      <td>2.072857</td>\n",
              "    </tr>\n",
              "  </tbody>\n",
              "</table>\n",
              "</div>"
            ],
            "text/plain": [
              "   Year  Month  Flow_Rate\n",
              "0  2002      1   1.180000\n",
              "1  2002      2   2.216667\n",
              "2  2002      3   2.315714\n",
              "3  2002      4   2.001429\n",
              "4  2002      5   2.072857"
            ]
          },
          "execution_count": 13,
          "metadata": {},
          "output_type": "execute_result"
        }
      ],
      "source": [
        "flow_rate= lb.groupby([\"Year\",\"Month\"]).Flow_Rate.mean().reset_index()\n",
        "flow_rate.head()"
      ]
    },
    {
      "cell_type": "code",
      "execution_count": null,
      "metadata": {
        "execution": {
          "iopub.execute_input": "2022-02-03T05:28:57.093005Z",
          "iopub.status.busy": "2022-02-03T05:28:57.092303Z",
          "iopub.status.idle": "2022-02-03T05:28:57.805659Z",
          "shell.execute_reply": "2022-02-03T05:28:57.806133Z",
          "shell.execute_reply.started": "2022-02-03T05:23:27.995725Z"
        },
        "papermill": {
          "duration": 0.772203,
          "end_time": "2022-02-03T05:28:57.806268",
          "exception": false,
          "start_time": "2022-02-03T05:28:57.034065",
          "status": "completed"
        },
        "tags": [],
        "id": "GSclGJnBuqRS",
        "outputId": "522fe8b8-6d90-44c2-ce7c-9751571b31d5"
      },
      "outputs": [
        {
          "data": {
            "text/plain": [
              "<matplotlib.axes._subplots.AxesSubplot at 0x7fafc05e52d0>"
            ]
          },
          "execution_count": 14,
          "metadata": {},
          "output_type": "execute_result"
        },
        {
          "data": {
            "image/png": "[encoded data removed]",
            "text/plain": [
              "<Figure size 432x288 with 1 Axes>"
            ]
          },
          "metadata": {
            "needs_background": "light"
          },
          "output_type": "display_data"
        }
      ],
      "source": [
        "#Plotting the flow rate over the years (2002-2020)\n",
        "sns.lineplot(data=flow_rate,x=\"Year\",y= \"Flow_Rate\")"
      ]
    },
    {
      "cell_type": "code",
      "execution_count": null,
      "metadata": {
        "execution": {
          "iopub.execute_input": "2022-02-03T05:28:57.919346Z",
          "iopub.status.busy": "2022-02-03T05:28:57.918609Z",
          "iopub.status.idle": "2022-02-03T05:28:58.452249Z",
          "shell.execute_reply": "2022-02-03T05:28:58.452797Z",
          "shell.execute_reply.started": "2022-02-03T05:23:28.727438Z"
        },
        "papermill": {
          "duration": 0.592234,
          "end_time": "2022-02-03T05:28:58.452945",
          "exception": false,
          "start_time": "2022-02-03T05:28:57.860711",
          "status": "completed"
        },
        "tags": [],
        "id": "c-aGuR6suqRT",
        "outputId": "672dd462-1fe0-4a10-d6a8-2238e49a5e69"
      },
      "outputs": [
        {
          "data": {
            "text/plain": [
              "<matplotlib.axes._subplots.AxesSubplot at 0x7fafc0544f10>"
            ]
          },
          "execution_count": 15,
          "metadata": {},
          "output_type": "execute_result"
        },
        {
          "data": {
            "image/png": "[encoded data removed]",
            "text/plain": [
              "<Figure size 432x288 with 1 Axes>"
            ]
          },
          "metadata": {
            "needs_background": "light"
          },
          "output_type": "display_data"
        }
      ],
      "source": [
        "#Plotting the flow rate over the years (2002-2020)\n",
        "sns.lineplot(data=flow_rate,x=\"Month\",y= \"Flow_Rate\")"
      ]
    },
    {
      "cell_type": "markdown",
      "metadata": {
        "papermill": {
          "duration": 0.05529,
          "end_time": "2022-02-03T05:28:58.563696",
          "exception": false,
          "start_time": "2022-02-03T05:28:58.508406",
          "status": "completed"
        },
        "tags": [],
        "id": "xVoZ9j1HuqRU"
      },
      "source": [
        "**Finding the Month and year with extreme flow rate data**"
      ]
    },
    {
      "cell_type": "code",
      "execution_count": null,
      "metadata": {
        "execution": {
          "iopub.execute_input": "2022-02-03T05:28:58.678722Z",
          "iopub.status.busy": "2022-02-03T05:28:58.677645Z",
          "iopub.status.idle": "2022-02-03T05:28:58.686862Z",
          "shell.execute_reply": "2022-02-03T05:28:58.686239Z",
          "shell.execute_reply.started": "2022-02-03T05:23:29.255765Z"
        },
        "papermill": {
          "duration": 0.067908,
          "end_time": "2022-02-03T05:28:58.686971",
          "exception": false,
          "start_time": "2022-02-03T05:28:58.619063",
          "status": "completed"
        },
        "tags": [],
        "id": "fn57-fZcuqRV",
        "outputId": "96e17051-6ba6-4c7e-f43c-05d7c774127f"
      },
      "outputs": [
        {
          "name": "stdout",
          "output_type": "stream",
          "text": [
            "     Year  Month  Flow_Rate\n",
            "124  2012      5   0.543548\n"
          ]
        }
      ],
      "source": [
        "print(flow_rate[flow_rate.Flow_Rate==flow_rate.Flow_Rate.min()])"
      ]
    },
    {
      "cell_type": "code",
      "execution_count": null,
      "metadata": {
        "execution": {
          "iopub.execute_input": "2022-02-03T05:28:58.801945Z",
          "iopub.status.busy": "2022-02-03T05:28:58.801316Z",
          "iopub.status.idle": "2022-02-03T05:28:58.809988Z",
          "shell.execute_reply": "2022-02-03T05:28:58.810611Z",
          "shell.execute_reply.started": "2022-02-03T05:23:29.268166Z"
        },
        "papermill": {
          "duration": 0.067981,
          "end_time": "2022-02-03T05:28:58.810787",
          "exception": false,
          "start_time": "2022-02-03T05:28:58.742806",
          "status": "completed"
        },
        "tags": [],
        "id": "lAAS4aBquqRW",
        "outputId": "565d20b3-75f1-4229-c349-c57f1b2b651f"
      },
      "outputs": [
        {
          "name": "stdout",
          "output_type": "stream",
          "text": [
            "     Year  Month  Flow_Rate\n",
            "134  2013      3   11.73129\n"
          ]
        }
      ],
      "source": [
        "print(flow_rate[flow_rate.Flow_Rate==flow_rate.Flow_Rate.max()])"
      ]
    },
    {
      "cell_type": "markdown",
      "metadata": {
        "papermill": {
          "duration": 0.056111,
          "end_time": "2022-02-03T05:28:58.923401",
          "exception": false,
          "start_time": "2022-02-03T05:28:58.867290",
          "status": "completed"
        },
        "tags": [],
        "id": "MEytmTTMuqRY"
      },
      "source": [
        "Flow rate was minimum during May-2012 and Maximum during March 2013"
      ]
    },
    {
      "cell_type": "markdown",
      "metadata": {
        "papermill": {
          "duration": 0.057771,
          "end_time": "2022-02-03T05:28:59.037668",
          "exception": false,
          "start_time": "2022-02-03T05:28:58.979897",
          "status": "completed"
        },
        "tags": [],
        "id": "VbNNgGMPuqRZ"
      },
      "source": [
        "# **Rain fall and Temperature Variation over Month & year**"
      ]
    },
    {
      "cell_type": "code",
      "execution_count": null,
      "metadata": {
        "execution": {
          "iopub.execute_input": "2022-02-03T05:28:59.154835Z",
          "iopub.status.busy": "2022-02-03T05:28:59.154195Z",
          "iopub.status.idle": "2022-02-03T05:28:59.169937Z",
          "shell.execute_reply": "2022-02-03T05:28:59.170537Z",
          "shell.execute_reply.started": "2022-02-03T05:23:29.282475Z"
        },
        "papermill": {
          "duration": 0.076118,
          "end_time": "2022-02-03T05:28:59.170681",
          "exception": false,
          "start_time": "2022-02-03T05:28:59.094563",
          "status": "completed"
        },
        "tags": [],
        "id": "ZZaUaJu7uqRb",
        "outputId": "a81c786d-00d2-4529-8a08-ef1b399d92a0"
      },
      "outputs": [
        {
          "data": {
            "text/html": [
              "<div>\n",
              "<style scoped>\n",
              "    .dataframe tbody tr th:only-of-type {\n",
              "        vertical-align: middle;\n",
              "    }\n",
              "\n",
              "    .dataframe tbody tr th {\n",
              "        vertical-align: top;\n",
              "    }\n",
              "\n",
              "    .dataframe thead th {\n",
              "        text-align: right;\n",
              "    }\n",
              "</style>\n",
              "<table border=\"1\" class=\"dataframe\">\n",
              "  <thead>\n",
              "    <tr style=\"text-align: right;\">\n",
              "      <th></th>\n",
              "      <th>Year</th>\n",
              "      <th>Rainfall_S_Piero</th>\n",
              "      <th>Rainfall_Mangona</th>\n",
              "      <th>Rainfall_S_Agata</th>\n",
              "      <th>Rainfall_Cavallina</th>\n",
              "      <th>Rainfall_Le_Croci</th>\n",
              "    </tr>\n",
              "  </thead>\n",
              "  <tbody>\n",
              "    <tr>\n",
              "      <th>0</th>\n",
              "      <td>2002</td>\n",
              "      <td>NaN</td>\n",
              "      <td>NaN</td>\n",
              "      <td>NaN</td>\n",
              "      <td>NaN</td>\n",
              "      <td>NaN</td>\n",
              "    </tr>\n",
              "    <tr>\n",
              "      <th>1</th>\n",
              "      <td>2003</td>\n",
              "      <td>NaN</td>\n",
              "      <td>NaN</td>\n",
              "      <td>NaN</td>\n",
              "      <td>NaN</td>\n",
              "      <td>NaN</td>\n",
              "    </tr>\n",
              "    <tr>\n",
              "      <th>2</th>\n",
              "      <td>2004</td>\n",
              "      <td>2.387432</td>\n",
              "      <td>3.387432</td>\n",
              "      <td>2.214208</td>\n",
              "      <td>2.915301</td>\n",
              "      <td>3.053005</td>\n",
              "    </tr>\n",
              "    <tr>\n",
              "      <th>3</th>\n",
              "      <td>2005</td>\n",
              "      <td>2.574795</td>\n",
              "      <td>3.069041</td>\n",
              "      <td>2.974247</td>\n",
              "      <td>2.690411</td>\n",
              "      <td>3.058082</td>\n",
              "    </tr>\n",
              "    <tr>\n",
              "      <th>4</th>\n",
              "      <td>2006</td>\n",
              "      <td>2.031233</td>\n",
              "      <td>3.007671</td>\n",
              "      <td>2.193425</td>\n",
              "      <td>1.775890</td>\n",
              "      <td>2.558904</td>\n",
              "    </tr>\n",
              "  </tbody>\n",
              "</table>\n",
              "</div>"
            ],
            "text/plain": [
              "   Year  Rainfall_S_Piero  Rainfall_Mangona  Rainfall_S_Agata  \\\n",
              "0  2002               NaN               NaN               NaN   \n",
              "1  2003               NaN               NaN               NaN   \n",
              "2  2004          2.387432          3.387432          2.214208   \n",
              "3  2005          2.574795          3.069041          2.974247   \n",
              "4  2006          2.031233          3.007671          2.193425   \n",
              "\n",
              "   Rainfall_Cavallina  Rainfall_Le_Croci  \n",
              "0                 NaN                NaN  \n",
              "1                 NaN                NaN  \n",
              "2            2.915301           3.053005  \n",
              "3            2.690411           3.058082  \n",
              "4            1.775890           2.558904  "
            ]
          },
          "execution_count": 18,
          "metadata": {},
          "output_type": "execute_result"
        }
      ],
      "source": [
        "# Rain ditribution over the year\n",
        "rain_yearly= lb.groupby([\"Year\"])[['Rainfall_S_Piero', 'Rainfall_Mangona', 'Rainfall_S_Agata','Rainfall_Cavallina','Rainfall_Le_Croci']].mean().reset_index()\n",
        "rain_yearly.head()"
      ]
    },
    {
      "cell_type": "markdown",
      "metadata": {
        "papermill": {
          "duration": 0.057198,
          "end_time": "2022-02-03T05:28:59.286537",
          "exception": false,
          "start_time": "2022-02-03T05:28:59.229339",
          "status": "completed"
        },
        "tags": [],
        "id": "qNSknZ-suqRd"
      },
      "source": [
        "# **Plotting the rain pattern over the years**"
      ]
    },
    {
      "cell_type": "code",
      "execution_count": null,
      "metadata": {
        "execution": {
          "iopub.execute_input": "2022-02-03T05:28:59.418034Z",
          "iopub.status.busy": "2022-02-03T05:28:59.417355Z",
          "iopub.status.idle": "2022-02-03T05:28:59.613849Z",
          "shell.execute_reply": "2022-02-03T05:28:59.613202Z",
          "shell.execute_reply.started": "2022-02-03T05:23:29.304651Z"
        },
        "papermill": {
          "duration": 0.269399,
          "end_time": "2022-02-03T05:28:59.613964",
          "exception": false,
          "start_time": "2022-02-03T05:28:59.344565",
          "status": "completed"
        },
        "tags": [],
        "id": "lhuYzFRpuqRd",
        "outputId": "a8ece2f3-66ce-4d57-f899-b41b33eeea1e"
      },
      "outputs": [
        {
          "data": {
            "image/png": "[encoded data removed]",
            "text/plain": [
              "<Figure size 432x288 with 1 Axes>"
            ]
          },
          "metadata": {
            "needs_background": "light"
          },
          "output_type": "display_data"
        }
      ],
      "source": [
        "plt.plot( 'Year', 'Rainfall_S_Piero', data=rain_yearly, marker='', color='blue', linewidth=2)\n",
        "plt.plot( 'Year', 'Rainfall_Mangona', data=rain_yearly, marker='', color='red', linewidth=2)\n",
        "plt.plot( 'Year', 'Rainfall_S_Agata', data=rain_yearly, marker='', color='yellow', linewidth=2)\n",
        "plt.plot( 'Year', 'Rainfall_Cavallina', data=rain_yearly, marker='', color='black', linewidth=2)\n",
        "plt.plot( 'Year', 'Rainfall_Le_Croci', data=rain_yearly, marker='', color='olive', linewidth=2)\n",
        "plt.legend(bbox_to_anchor=(1.04,1), loc=\"upper left\")\n",
        "plt.xticks(rotation = 90)\n",
        "plt.grid()"
      ]
    },
    {
      "cell_type": "code",
      "execution_count": null,
      "metadata": {
        "execution": {
          "iopub.execute_input": "2022-02-03T05:28:59.739200Z",
          "iopub.status.busy": "2022-02-03T05:28:59.738544Z",
          "iopub.status.idle": "2022-02-03T05:28:59.750463Z",
          "shell.execute_reply": "2022-02-03T05:28:59.750996Z",
          "shell.execute_reply.started": "2022-02-03T05:23:29.534794Z"
        },
        "papermill": {
          "duration": 0.078211,
          "end_time": "2022-02-03T05:28:59.751148",
          "exception": false,
          "start_time": "2022-02-03T05:28:59.672937",
          "status": "completed"
        },
        "tags": [],
        "id": "pndvqQK0uqRf",
        "outputId": "8ed35e8b-8b02-484b-a5ee-c49f368ed11a"
      },
      "outputs": [
        {
          "data": {
            "text/html": [
              "<div>\n",
              "<style scoped>\n",
              "    .dataframe tbody tr th:only-of-type {\n",
              "        vertical-align: middle;\n",
              "    }\n",
              "\n",
              "    .dataframe tbody tr th {\n",
              "        vertical-align: top;\n",
              "    }\n",
              "\n",
              "    .dataframe thead th {\n",
              "        text-align: right;\n",
              "    }\n",
              "</style>\n",
              "<table border=\"1\" class=\"dataframe\">\n",
              "  <thead>\n",
              "    <tr style=\"text-align: right;\">\n",
              "      <th></th>\n",
              "      <th>Month</th>\n",
              "      <th>Rainfall_S_Piero</th>\n",
              "      <th>Rainfall_Mangona</th>\n",
              "      <th>Rainfall_S_Agata</th>\n",
              "      <th>Rainfall_Cavallina</th>\n",
              "      <th>Rainfall_Le_Croci</th>\n",
              "    </tr>\n",
              "  </thead>\n",
              "  <tbody>\n",
              "    <tr>\n",
              "      <th>0</th>\n",
              "      <td>1</td>\n",
              "      <td>3.200384</td>\n",
              "      <td>4.638004</td>\n",
              "      <td>3.177351</td>\n",
              "      <td>3.612668</td>\n",
              "      <td>4.254127</td>\n",
              "    </tr>\n",
              "    <tr>\n",
              "      <th>1</th>\n",
              "      <td>2</td>\n",
              "      <td>2.679158</td>\n",
              "      <td>3.578526</td>\n",
              "      <td>2.832421</td>\n",
              "      <td>2.949474</td>\n",
              "      <td>3.670737</td>\n",
              "    </tr>\n",
              "    <tr>\n",
              "      <th>2</th>\n",
              "      <td>3</td>\n",
              "      <td>2.137428</td>\n",
              "      <td>2.924376</td>\n",
              "      <td>2.381190</td>\n",
              "      <td>2.514012</td>\n",
              "      <td>2.829175</td>\n",
              "    </tr>\n",
              "    <tr>\n",
              "      <th>3</th>\n",
              "      <td>4</td>\n",
              "      <td>2.705159</td>\n",
              "      <td>3.553968</td>\n",
              "      <td>2.823016</td>\n",
              "      <td>2.771429</td>\n",
              "      <td>3.422619</td>\n",
              "    </tr>\n",
              "    <tr>\n",
              "      <th>4</th>\n",
              "      <td>5</td>\n",
              "      <td>2.682917</td>\n",
              "      <td>3.623033</td>\n",
              "      <td>2.938196</td>\n",
              "      <td>2.812668</td>\n",
              "      <td>3.493282</td>\n",
              "    </tr>\n",
              "  </tbody>\n",
              "</table>\n",
              "</div>"
            ],
            "text/plain": [
              "   Month  Rainfall_S_Piero  Rainfall_Mangona  Rainfall_S_Agata  \\\n",
              "0      1          3.200384          4.638004          3.177351   \n",
              "1      2          2.679158          3.578526          2.832421   \n",
              "2      3          2.137428          2.924376          2.381190   \n",
              "3      4          2.705159          3.553968          2.823016   \n",
              "4      5          2.682917          3.623033          2.938196   \n",
              "\n",
              "   Rainfall_Cavallina  Rainfall_Le_Croci  \n",
              "0            3.612668           4.254127  \n",
              "1            2.949474           3.670737  \n",
              "2            2.514012           2.829175  \n",
              "3            2.771429           3.422619  \n",
              "4            2.812668           3.493282  "
            ]
          },
          "execution_count": 20,
          "metadata": {},
          "output_type": "execute_result"
        }
      ],
      "source": [
        "#Rain distribution over the Months\n",
        "rain_monthly= lb.groupby([\"Month\"])[['Rainfall_S_Piero', 'Rainfall_Mangona', 'Rainfall_S_Agata','Rainfall_Cavallina','Rainfall_Le_Croci']].mean().reset_index()\n",
        "rain_monthly.head()"
      ]
    },
    {
      "cell_type": "code",
      "execution_count": null,
      "metadata": {
        "execution": {
          "iopub.execute_input": "2022-02-03T05:28:59.873646Z",
          "iopub.status.busy": "2022-02-03T05:28:59.872965Z",
          "iopub.status.idle": "2022-02-03T05:29:00.149195Z",
          "shell.execute_reply": "2022-02-03T05:29:00.148525Z",
          "shell.execute_reply.started": "2022-02-03T05:23:29.556580Z"
        },
        "papermill": {
          "duration": 0.33855,
          "end_time": "2022-02-03T05:29:00.149315",
          "exception": false,
          "start_time": "2022-02-03T05:28:59.810765",
          "status": "completed"
        },
        "tags": [],
        "id": "0mY7-93muqRh",
        "outputId": "f93f5997-311e-411b-ac99-7f47883900cc"
      },
      "outputs": [
        {
          "data": {
            "image/png": "[encoded data removed]",
            "text/plain": [
              "<Figure size 432x288 with 1 Axes>"
            ]
          },
          "metadata": {
            "needs_background": "light"
          },
          "output_type": "display_data"
        }
      ],
      "source": [
        "plt.plot( 'Month', 'Rainfall_S_Piero', data=rain_monthly, marker='', color='blue', linewidth=2)\n",
        "plt.plot( 'Month', 'Rainfall_Mangona', data=rain_monthly, marker='', color='red', linewidth=2)\n",
        "plt.plot( 'Month', 'Rainfall_S_Agata', data=rain_monthly, marker='', color='yellow', linewidth=2)\n",
        "plt.plot( 'Month', 'Rainfall_Cavallina', data=rain_monthly, marker='', color='black', linewidth=2)\n",
        "plt.plot( 'Month', 'Rainfall_Le_Croci', data=rain_monthly, marker='', color='olive', linewidth=2)\n",
        "plt.legend(bbox_to_anchor=(1.04,1), loc=\"upper left\")\n",
        "plt.xticks(rotation = 90)\n",
        "plt.grid()"
      ]
    },
    {
      "cell_type": "markdown",
      "metadata": {
        "papermill": {
          "duration": 0.061093,
          "end_time": "2022-02-03T05:29:00.273675",
          "exception": false,
          "start_time": "2022-02-03T05:29:00.212582",
          "status": "completed"
        },
        "tags": [],
        "id": "j5d0MA_7uqRj"
      },
      "source": [
        "**Observation**\n",
        "1. The above plot shows Mangona recieves the maximum rain and S_Piero recieves the minimum over the months in a year. \n",
        "2. July to August period is the relatively dry period where there is consistent minimum rain.\n",
        "3. September to February is the time when its raining to a decent level.\n"
      ]
    },
    {
      "cell_type": "code",
      "execution_count": null,
      "metadata": {
        "execution": {
          "iopub.execute_input": "2022-02-03T05:29:00.403709Z",
          "iopub.status.busy": "2022-02-03T05:29:00.403056Z",
          "iopub.status.idle": "2022-02-03T05:29:00.416184Z",
          "shell.execute_reply": "2022-02-03T05:29:00.415562Z",
          "shell.execute_reply.started": "2022-02-03T05:23:29.837288Z"
        },
        "papermill": {
          "duration": 0.081912,
          "end_time": "2022-02-03T05:29:00.416296",
          "exception": false,
          "start_time": "2022-02-03T05:29:00.334384",
          "status": "completed"
        },
        "tags": [],
        "id": "pfGfUbONuqRl",
        "outputId": "b46a8592-71ec-4c15-b42f-f80fc9d71b80"
      },
      "outputs": [
        {
          "data": {
            "text/html": [
              "<div>\n",
              "<style scoped>\n",
              "    .dataframe tbody tr th:only-of-type {\n",
              "        vertical-align: middle;\n",
              "    }\n",
              "\n",
              "    .dataframe tbody tr th {\n",
              "        vertical-align: top;\n",
              "    }\n",
              "\n",
              "    .dataframe thead th {\n",
              "        text-align: right;\n",
              "    }\n",
              "</style>\n",
              "<table border=\"1\" class=\"dataframe\">\n",
              "  <thead>\n",
              "    <tr style=\"text-align: right;\">\n",
              "      <th></th>\n",
              "      <th>Year</th>\n",
              "      <th>Month</th>\n",
              "      <th>Temperature_Le_Croci</th>\n",
              "    </tr>\n",
              "  </thead>\n",
              "  <tbody>\n",
              "    <tr>\n",
              "      <th>0</th>\n",
              "      <td>2002</td>\n",
              "      <td>1</td>\n",
              "      <td>NaN</td>\n",
              "    </tr>\n",
              "    <tr>\n",
              "      <th>1</th>\n",
              "      <td>2002</td>\n",
              "      <td>2</td>\n",
              "      <td>NaN</td>\n",
              "    </tr>\n",
              "    <tr>\n",
              "      <th>2</th>\n",
              "      <td>2002</td>\n",
              "      <td>3</td>\n",
              "      <td>NaN</td>\n",
              "    </tr>\n",
              "    <tr>\n",
              "      <th>3</th>\n",
              "      <td>2002</td>\n",
              "      <td>4</td>\n",
              "      <td>NaN</td>\n",
              "    </tr>\n",
              "    <tr>\n",
              "      <th>4</th>\n",
              "      <td>2002</td>\n",
              "      <td>5</td>\n",
              "      <td>NaN</td>\n",
              "    </tr>\n",
              "  </tbody>\n",
              "</table>\n",
              "</div>"
            ],
            "text/plain": [
              "   Year  Month  Temperature_Le_Croci\n",
              "0  2002      1                   NaN\n",
              "1  2002      2                   NaN\n",
              "2  2002      3                   NaN\n",
              "3  2002      4                   NaN\n",
              "4  2002      5                   NaN"
            ]
          },
          "execution_count": 22,
          "metadata": {},
          "output_type": "execute_result"
        }
      ],
      "source": [
        "temperature=lb.groupby([\"Year\",\"Month\"]).Temperature_Le_Croci.mean().reset_index()\n",
        "temperature.head()\n"
      ]
    },
    {
      "cell_type": "code",
      "execution_count": null,
      "metadata": {
        "execution": {
          "iopub.execute_input": "2022-02-03T05:29:00.559898Z",
          "iopub.status.busy": "2022-02-03T05:29:00.555083Z",
          "iopub.status.idle": "2022-02-03T05:29:00.963493Z",
          "shell.execute_reply": "2022-02-03T05:29:00.964067Z",
          "shell.execute_reply.started": "2022-02-03T05:23:29.857418Z"
        },
        "papermill": {
          "duration": 0.485997,
          "end_time": "2022-02-03T05:29:00.964221",
          "exception": false,
          "start_time": "2022-02-03T05:29:00.478224",
          "status": "completed"
        },
        "tags": [],
        "id": "8b9GN6SUuqRm",
        "outputId": "17fba123-288f-4b64-ff1a-b68a4448dbb1"
      },
      "outputs": [
        {
          "data": {
            "text/plain": [
              "<matplotlib.axes._subplots.AxesSubplot at 0x7fafc05e5310>"
            ]
          },
          "execution_count": 23,
          "metadata": {},
          "output_type": "execute_result"
        },
        {
          "data": {
            "image/png": "[encoded data removed]",
            "text/plain": [
              "<Figure size 432x288 with 1 Axes>"
            ]
          },
          "metadata": {
            "needs_background": "light"
          },
          "output_type": "display_data"
        }
      ],
      "source": [
        "# Plotting the temperature pattern over the Year and Months\n",
        "temperature[\"Year\"]=temperature[\"Year\"].astype(str)\n",
        "sns.lineplot(data=temperature, x=\"Month\", y=\"Temperature_Le_Croci\", hue=\"Year\")"
      ]
    },
    {
      "cell_type": "markdown",
      "metadata": {
        "papermill": {
          "duration": 0.063268,
          "end_time": "2022-02-03T05:29:01.092131",
          "exception": false,
          "start_time": "2022-02-03T05:29:01.028863",
          "status": "completed"
        },
        "tags": [],
        "id": "1bok_uZKuqRn"
      },
      "source": [
        "Temperature grdually increases from January and reches to peak during June to August and gradually decreases to minimum in January"
      ]
    },
    {
      "cell_type": "code",
      "execution_count": null,
      "metadata": {
        "execution": {
          "iopub.execute_input": "2022-02-03T05:29:01.222423Z",
          "iopub.status.busy": "2022-02-03T05:29:01.221785Z",
          "iopub.status.idle": "2022-02-03T05:29:01.229620Z",
          "shell.execute_reply": "2022-02-03T05:29:01.230164Z",
          "shell.execute_reply.started": "2022-02-03T05:23:30.317238Z"
        },
        "papermill": {
          "duration": 0.074453,
          "end_time": "2022-02-03T05:29:01.230303",
          "exception": false,
          "start_time": "2022-02-03T05:29:01.155850",
          "status": "completed"
        },
        "tags": [],
        "id": "XgwQwrgfuqRo",
        "outputId": "3c098af3-c765-42d8-8d4a-194b51abd1d7"
      },
      "outputs": [
        {
          "data": {
            "text/plain": [
              "Rainfall_S_Piero      577\n",
              "Rainfall_Mangona      577\n",
              "Rainfall_S_Agata      577\n",
              "Rainfall_Cavallina    577\n",
              "Rainfall_Le_Croci     577\n",
              "dtype: int64"
            ]
          },
          "execution_count": 24,
          "metadata": {},
          "output_type": "execute_result"
        }
      ],
      "source": [
        "#Counting the Null value in Rain fall columns\n",
        "lb[['Rainfall_S_Piero','Rainfall_Mangona', 'Rainfall_S_Agata','Rainfall_Cavallina','Rainfall_Le_Croci']].isnull().sum()"
      ]
    },
    {
      "cell_type": "code",
      "execution_count": null,
      "metadata": {
        "execution": {
          "iopub.execute_input": "2022-02-03T05:29:01.361862Z",
          "iopub.status.busy": "2022-02-03T05:29:01.361187Z",
          "iopub.status.idle": "2022-02-03T05:29:01.377023Z",
          "shell.execute_reply": "2022-02-03T05:29:01.376448Z",
          "shell.execute_reply.started": "2022-02-03T05:23:30.329679Z"
        },
        "papermill": {
          "duration": 0.082941,
          "end_time": "2022-02-03T05:29:01.377154",
          "exception": false,
          "start_time": "2022-02-03T05:29:01.294213",
          "status": "completed"
        },
        "tags": [],
        "id": "zkYzq-FKuqRp",
        "outputId": "91d7dec0-ef2f-402b-d8c2-3f58be547467"
      },
      "outputs": [
        {
          "name": "stdout",
          "output_type": "stream",
          "text": [
            "<class 'pandas.core.frame.DataFrame'>\n",
            "Int64Index: 6025 entries, 578 to 6602\n",
            "Data columns (total 11 columns):\n",
            " #   Column                Non-Null Count  Dtype         \n",
            "---  ------                --------------  -----         \n",
            " 0   Date                  6025 non-null   datetime64[ns]\n",
            " 1   Rainfall_S_Piero      6025 non-null   float64       \n",
            " 2   Rainfall_Mangona      6025 non-null   float64       \n",
            " 3   Rainfall_S_Agata      6025 non-null   float64       \n",
            " 4   Rainfall_Cavallina    6025 non-null   float64       \n",
            " 5   Rainfall_Le_Croci     6025 non-null   float64       \n",
            " 6   Temperature_Le_Croci  6025 non-null   float64       \n",
            " 7   Lake_Level            6025 non-null   float64       \n",
            " 8   Flow_Rate             6025 non-null   float64       \n",
            " 9   Year                  6025 non-null   int64         \n",
            " 10  Month                 6025 non-null   int64         \n",
            "dtypes: datetime64[ns](1), float64(8), int64(2)\n",
            "memory usage: 564.8 KB\n"
          ]
        }
      ],
      "source": [
        "# Dropping the rows with missing Rainfall values from Le_Croci\n",
        "lb1=lb.dropna(subset=[\"Rainfall_Le_Croci\",\"Temperature_Le_Croci\"])\n",
        "lb1.info()"
      ]
    },
    {
      "cell_type": "code",
      "execution_count": null,
      "metadata": {
        "execution": {
          "iopub.execute_input": "2022-02-03T05:29:01.522666Z",
          "iopub.status.busy": "2022-02-03T05:29:01.521970Z",
          "iopub.status.idle": "2022-02-03T05:29:01.525659Z",
          "shell.execute_reply": "2022-02-03T05:29:01.526230Z",
          "shell.execute_reply.started": "2022-02-03T05:23:30.352413Z"
        },
        "papermill": {
          "duration": 0.084966,
          "end_time": "2022-02-03T05:29:01.526371",
          "exception": false,
          "start_time": "2022-02-03T05:29:01.441405",
          "status": "completed"
        },
        "tags": [],
        "id": "0NbFk4wxuqRr",
        "outputId": "9b388d72-978a-47ca-c3b6-05aca56c0c74"
      },
      "outputs": [
        {
          "data": {
            "text/html": [
              "<div>\n",
              "<style scoped>\n",
              "    .dataframe tbody tr th:only-of-type {\n",
              "        vertical-align: middle;\n",
              "    }\n",
              "\n",
              "    .dataframe tbody tr th {\n",
              "        vertical-align: top;\n",
              "    }\n",
              "\n",
              "    .dataframe thead th {\n",
              "        text-align: right;\n",
              "    }\n",
              "</style>\n",
              "<table border=\"1\" class=\"dataframe\">\n",
              "  <thead>\n",
              "    <tr style=\"text-align: right;\">\n",
              "      <th></th>\n",
              "      <th>Date</th>\n",
              "      <th>Rainfall_S_Piero</th>\n",
              "      <th>Rainfall_Mangona</th>\n",
              "      <th>Rainfall_S_Agata</th>\n",
              "      <th>Rainfall_Cavallina</th>\n",
              "      <th>Rainfall_Le_Croci</th>\n",
              "      <th>Temperature_Le_Croci</th>\n",
              "      <th>Lake_Level</th>\n",
              "      <th>Flow_Rate</th>\n",
              "      <th>Year</th>\n",
              "      <th>Month</th>\n",
              "    </tr>\n",
              "  </thead>\n",
              "  <tbody>\n",
              "    <tr>\n",
              "      <th>578</th>\n",
              "      <td>2004-02-01</td>\n",
              "      <td>0.0</td>\n",
              "      <td>0.0</td>\n",
              "      <td>0.0</td>\n",
              "      <td>0.0</td>\n",
              "      <td>0.0</td>\n",
              "      <td>6.50</td>\n",
              "      <td>251.21</td>\n",
              "      <td>0.5</td>\n",
              "      <td>2004</td>\n",
              "      <td>2</td>\n",
              "    </tr>\n",
              "    <tr>\n",
              "      <th>579</th>\n",
              "      <td>2004-03-01</td>\n",
              "      <td>0.0</td>\n",
              "      <td>0.0</td>\n",
              "      <td>0.0</td>\n",
              "      <td>0.0</td>\n",
              "      <td>0.0</td>\n",
              "      <td>4.45</td>\n",
              "      <td>251.28</td>\n",
              "      <td>0.5</td>\n",
              "      <td>2004</td>\n",
              "      <td>3</td>\n",
              "    </tr>\n",
              "    <tr>\n",
              "      <th>580</th>\n",
              "      <td>2004-04-01</td>\n",
              "      <td>0.0</td>\n",
              "      <td>0.0</td>\n",
              "      <td>0.0</td>\n",
              "      <td>0.0</td>\n",
              "      <td>0.0</td>\n",
              "      <td>2.00</td>\n",
              "      <td>251.35</td>\n",
              "      <td>0.5</td>\n",
              "      <td>2004</td>\n",
              "      <td>4</td>\n",
              "    </tr>\n",
              "    <tr>\n",
              "      <th>581</th>\n",
              "      <td>2004-05-01</td>\n",
              "      <td>0.2</td>\n",
              "      <td>0.0</td>\n",
              "      <td>0.0</td>\n",
              "      <td>0.0</td>\n",
              "      <td>0.0</td>\n",
              "      <td>0.90</td>\n",
              "      <td>251.37</td>\n",
              "      <td>0.5</td>\n",
              "      <td>2004</td>\n",
              "      <td>5</td>\n",
              "    </tr>\n",
              "    <tr>\n",
              "      <th>582</th>\n",
              "      <td>2004-06-01</td>\n",
              "      <td>0.0</td>\n",
              "      <td>0.0</td>\n",
              "      <td>0.0</td>\n",
              "      <td>0.0</td>\n",
              "      <td>0.0</td>\n",
              "      <td>2.25</td>\n",
              "      <td>251.42</td>\n",
              "      <td>0.5</td>\n",
              "      <td>2004</td>\n",
              "      <td>6</td>\n",
              "    </tr>\n",
              "  </tbody>\n",
              "</table>\n",
              "</div>"
            ],
            "text/plain": [
              "          Date  Rainfall_S_Piero  Rainfall_Mangona  Rainfall_S_Agata  \\\n",
              "578 2004-02-01               0.0               0.0               0.0   \n",
              "579 2004-03-01               0.0               0.0               0.0   \n",
              "580 2004-04-01               0.0               0.0               0.0   \n",
              "581 2004-05-01               0.2               0.0               0.0   \n",
              "582 2004-06-01               0.0               0.0               0.0   \n",
              "\n",
              "     Rainfall_Cavallina  Rainfall_Le_Croci  Temperature_Le_Croci  Lake_Level  \\\n",
              "578                 0.0                0.0                  6.50      251.21   \n",
              "579                 0.0                0.0                  4.45      251.28   \n",
              "580                 0.0                0.0                  2.00      251.35   \n",
              "581                 0.0                0.0                  0.90      251.37   \n",
              "582                 0.0                0.0                  2.25      251.42   \n",
              "\n",
              "     Flow_Rate  Year  Month  \n",
              "578        0.5  2004      2  \n",
              "579        0.5  2004      3  \n",
              "580        0.5  2004      4  \n",
              "581        0.5  2004      5  \n",
              "582        0.5  2004      6  "
            ]
          },
          "execution_count": 26,
          "metadata": {},
          "output_type": "execute_result"
        }
      ],
      "source": [
        "lb1.head()"
      ]
    },
    {
      "cell_type": "markdown",
      "metadata": {
        "papermill": {
          "duration": 0.064394,
          "end_time": "2022-02-03T05:29:01.655740",
          "exception": false,
          "start_time": "2022-02-03T05:29:01.591346",
          "status": "completed"
        },
        "tags": [],
        "id": "Ax7muCVZuqRt"
      },
      "source": [
        "In general flow rate is a function of lake Level\n",
        "Q= f(H)\n"
      ]
    },
    {
      "cell_type": "markdown",
      "metadata": {
        "papermill": {
          "duration": 0.064576,
          "end_time": "2022-02-03T05:29:01.785769",
          "exception": false,
          "start_time": "2022-02-03T05:29:01.721193",
          "status": "completed"
        },
        "tags": [],
        "id": "5GIWfInDuqRu"
      },
      "source": [
        "**Preparing the data for modeling**"
      ]
    },
    {
      "cell_type": "code",
      "execution_count": null,
      "metadata": {
        "execution": {
          "iopub.execute_input": "2022-02-03T05:29:01.919686Z",
          "iopub.status.busy": "2022-02-03T05:29:01.919006Z",
          "iopub.status.idle": "2022-02-03T05:29:01.959689Z",
          "shell.execute_reply": "2022-02-03T05:29:01.959063Z",
          "shell.execute_reply.started": "2022-02-03T05:23:30.374514Z"
        },
        "papermill": {
          "duration": 0.108787,
          "end_time": "2022-02-03T05:29:01.959809",
          "exception": false,
          "start_time": "2022-02-03T05:29:01.851022",
          "status": "completed"
        },
        "tags": [],
        "id": "V3K_GNLXuqRv",
        "outputId": "6a66955f-37ba-43a0-e2d5-a9bb912b5a4a"
      },
      "outputs": [
        {
          "name": "stderr",
          "output_type": "stream",
          "text": [
            "/opt/conda/lib/python3.7/site-packages/ipykernel_launcher.py:1: SettingWithCopyWarning: \n",
            "A value is trying to be set on a copy of a slice from a DataFrame.\n",
            "Try using .loc[row_indexer,col_indexer] = value instead\n",
            "\n",
            "See the caveats in the documentation: https://pandas.pydata.org/pandas-docs/stable/user_guide/indexing.html#returning-a-view-versus-a-copy\n",
            "  \"\"\"Entry point for launching an IPython kernel.\n",
            "/opt/conda/lib/python3.7/site-packages/ipykernel_launcher.py:3: SettingWithCopyWarning: \n",
            "A value is trying to be set on a copy of a slice from a DataFrame.\n",
            "Try using .loc[row_indexer,col_indexer] = value instead\n",
            "\n",
            "See the caveats in the documentation: https://pandas.pydata.org/pandas-docs/stable/user_guide/indexing.html#returning-a-view-versus-a-copy\n",
            "  This is separate from the ipykernel package so we can avoid doing imports until\n",
            "/opt/conda/lib/python3.7/site-packages/ipykernel_launcher.py:4: SettingWithCopyWarning: \n",
            "A value is trying to be set on a copy of a slice from a DataFrame.\n",
            "Try using .loc[row_indexer,col_indexer] = value instead\n",
            "\n",
            "See the caveats in the documentation: https://pandas.pydata.org/pandas-docs/stable/user_guide/indexing.html#returning-a-view-versus-a-copy\n",
            "  after removing the cwd from sys.path.\n",
            "/opt/conda/lib/python3.7/site-packages/ipykernel_launcher.py:5: SettingWithCopyWarning: \n",
            "A value is trying to be set on a copy of a slice from a DataFrame.\n",
            "Try using .loc[row_indexer,col_indexer] = value instead\n",
            "\n",
            "See the caveats in the documentation: https://pandas.pydata.org/pandas-docs/stable/user_guide/indexing.html#returning-a-view-versus-a-copy\n",
            "  \"\"\"\n",
            "/opt/conda/lib/python3.7/site-packages/ipykernel_launcher.py:6: SettingWithCopyWarning: \n",
            "A value is trying to be set on a copy of a slice from a DataFrame.\n",
            "Try using .loc[row_indexer,col_indexer] = value instead\n",
            "\n",
            "See the caveats in the documentation: https://pandas.pydata.org/pandas-docs/stable/user_guide/indexing.html#returning-a-view-versus-a-copy\n",
            "  \n"
          ]
        },
        {
          "data": {
            "text/html": [
              "<div>\n",
              "<style scoped>\n",
              "    .dataframe tbody tr th:only-of-type {\n",
              "        vertical-align: middle;\n",
              "    }\n",
              "\n",
              "    .dataframe tbody tr th {\n",
              "        vertical-align: top;\n",
              "    }\n",
              "\n",
              "    .dataframe thead th {\n",
              "        text-align: right;\n",
              "    }\n",
              "</style>\n",
              "<table border=\"1\" class=\"dataframe\">\n",
              "  <thead>\n",
              "    <tr style=\"text-align: right;\">\n",
              "      <th></th>\n",
              "      <th>Date</th>\n",
              "      <th>Rainfall_S_Piero</th>\n",
              "      <th>Rainfall_Mangona</th>\n",
              "      <th>Rainfall_S_Agata</th>\n",
              "      <th>Rainfall_Cavallina</th>\n",
              "      <th>Rainfall_Le_Croci</th>\n",
              "      <th>Temperature_Le_Croci</th>\n",
              "      <th>Lake_Level</th>\n",
              "      <th>Flow_Rate</th>\n",
              "      <th>Year</th>\n",
              "      <th>Month</th>\n",
              "      <th>Rainfall_mean</th>\n",
              "      <th>Rainfall_median</th>\n",
              "      <th>Rainfall_min</th>\n",
              "      <th>Rainfall_max</th>\n",
              "      <th>Rainfall_net</th>\n",
              "    </tr>\n",
              "  </thead>\n",
              "  <tbody>\n",
              "    <tr>\n",
              "      <th>578</th>\n",
              "      <td>2004-02-01</td>\n",
              "      <td>0.0</td>\n",
              "      <td>0.0</td>\n",
              "      <td>0.0</td>\n",
              "      <td>0.0</td>\n",
              "      <td>0.0</td>\n",
              "      <td>6.50</td>\n",
              "      <td>251.21</td>\n",
              "      <td>0.5</td>\n",
              "      <td>2004</td>\n",
              "      <td>2</td>\n",
              "      <td>0.00</td>\n",
              "      <td>0.0</td>\n",
              "      <td>0.0</td>\n",
              "      <td>0.0</td>\n",
              "      <td>0.0</td>\n",
              "    </tr>\n",
              "    <tr>\n",
              "      <th>579</th>\n",
              "      <td>2004-03-01</td>\n",
              "      <td>0.0</td>\n",
              "      <td>0.0</td>\n",
              "      <td>0.0</td>\n",
              "      <td>0.0</td>\n",
              "      <td>0.0</td>\n",
              "      <td>4.45</td>\n",
              "      <td>251.28</td>\n",
              "      <td>0.5</td>\n",
              "      <td>2004</td>\n",
              "      <td>3</td>\n",
              "      <td>0.00</td>\n",
              "      <td>0.0</td>\n",
              "      <td>0.0</td>\n",
              "      <td>0.0</td>\n",
              "      <td>0.0</td>\n",
              "    </tr>\n",
              "    <tr>\n",
              "      <th>580</th>\n",
              "      <td>2004-04-01</td>\n",
              "      <td>0.0</td>\n",
              "      <td>0.0</td>\n",
              "      <td>0.0</td>\n",
              "      <td>0.0</td>\n",
              "      <td>0.0</td>\n",
              "      <td>2.00</td>\n",
              "      <td>251.35</td>\n",
              "      <td>0.5</td>\n",
              "      <td>2004</td>\n",
              "      <td>4</td>\n",
              "      <td>0.00</td>\n",
              "      <td>0.0</td>\n",
              "      <td>0.0</td>\n",
              "      <td>0.0</td>\n",
              "      <td>0.0</td>\n",
              "    </tr>\n",
              "    <tr>\n",
              "      <th>581</th>\n",
              "      <td>2004-05-01</td>\n",
              "      <td>0.2</td>\n",
              "      <td>0.0</td>\n",
              "      <td>0.0</td>\n",
              "      <td>0.0</td>\n",
              "      <td>0.0</td>\n",
              "      <td>0.90</td>\n",
              "      <td>251.37</td>\n",
              "      <td>0.5</td>\n",
              "      <td>2004</td>\n",
              "      <td>5</td>\n",
              "      <td>0.04</td>\n",
              "      <td>0.0</td>\n",
              "      <td>0.0</td>\n",
              "      <td>0.2</td>\n",
              "      <td>0.2</td>\n",
              "    </tr>\n",
              "    <tr>\n",
              "      <th>582</th>\n",
              "      <td>2004-06-01</td>\n",
              "      <td>0.0</td>\n",
              "      <td>0.0</td>\n",
              "      <td>0.0</td>\n",
              "      <td>0.0</td>\n",
              "      <td>0.0</td>\n",
              "      <td>2.25</td>\n",
              "      <td>251.42</td>\n",
              "      <td>0.5</td>\n",
              "      <td>2004</td>\n",
              "      <td>6</td>\n",
              "      <td>0.00</td>\n",
              "      <td>0.0</td>\n",
              "      <td>0.0</td>\n",
              "      <td>0.0</td>\n",
              "      <td>0.0</td>\n",
              "    </tr>\n",
              "  </tbody>\n",
              "</table>\n",
              "</div>"
            ],
            "text/plain": [
              "          Date  Rainfall_S_Piero  Rainfall_Mangona  Rainfall_S_Agata  \\\n",
              "578 2004-02-01               0.0               0.0               0.0   \n",
              "579 2004-03-01               0.0               0.0               0.0   \n",
              "580 2004-04-01               0.0               0.0               0.0   \n",
              "581 2004-05-01               0.2               0.0               0.0   \n",
              "582 2004-06-01               0.0               0.0               0.0   \n",
              "\n",
              "     Rainfall_Cavallina  Rainfall_Le_Croci  Temperature_Le_Croci  Lake_Level  \\\n",
              "578                 0.0                0.0                  6.50      251.21   \n",
              "579                 0.0                0.0                  4.45      251.28   \n",
              "580                 0.0                0.0                  2.00      251.35   \n",
              "581                 0.0                0.0                  0.90      251.37   \n",
              "582                 0.0                0.0                  2.25      251.42   \n",
              "\n",
              "     Flow_Rate  Year  Month  Rainfall_mean  Rainfall_median  Rainfall_min  \\\n",
              "578        0.5  2004      2           0.00              0.0           0.0   \n",
              "579        0.5  2004      3           0.00              0.0           0.0   \n",
              "580        0.5  2004      4           0.00              0.0           0.0   \n",
              "581        0.5  2004      5           0.04              0.0           0.0   \n",
              "582        0.5  2004      6           0.00              0.0           0.0   \n",
              "\n",
              "     Rainfall_max  Rainfall_net  \n",
              "578           0.0           0.0  \n",
              "579           0.0           0.0  \n",
              "580           0.0           0.0  \n",
              "581           0.2           0.2  \n",
              "582           0.0           0.0  "
            ]
          },
          "execution_count": 27,
          "metadata": {},
          "output_type": "execute_result"
        }
      ],
      "source": [
        "lb1['Rainfall_mean']=lb1[['Rainfall_S_Piero','Rainfall_Mangona', 'Rainfall_S_Agata','Rainfall_Cavallina','Rainfall_Le_Croci']].mean(axis = 1)\n",
        "#lb1['Rainfall_mean']=lb1.apply(lambda row:(row.Rainfall_S_Piero+ row.Rainfall_Mangona+row.Rainfall_S_Agata+row.Rainfall_Cavallina+row.Rainfall_Le_Croci)/5,axis=1)\n",
        "lb1['Rainfall_median']=lb1[['Rainfall_S_Piero','Rainfall_Mangona', 'Rainfall_S_Agata','Rainfall_Cavallina','Rainfall_Le_Croci']].median(axis = 1)\n",
        "lb1['Rainfall_min']=lb1[['Rainfall_S_Piero','Rainfall_Mangona', 'Rainfall_S_Agata','Rainfall_Cavallina','Rainfall_Le_Croci']].min(axis = 1)\n",
        "lb1['Rainfall_max']=lb1[['Rainfall_S_Piero','Rainfall_Mangona', 'Rainfall_S_Agata','Rainfall_Cavallina','Rainfall_Le_Croci']].max(axis = 1)\n",
        "lb1['Rainfall_net']=lb1[['Rainfall_S_Piero','Rainfall_Mangona', 'Rainfall_S_Agata','Rainfall_Cavallina','Rainfall_Le_Croci']].sum(axis = 1)\n",
        "lb1.head()"
      ]
    },
    {
      "cell_type": "code",
      "execution_count": null,
      "metadata": {
        "execution": {
          "iopub.execute_input": "2022-02-03T05:29:02.097346Z",
          "iopub.status.busy": "2022-02-03T05:29:02.096731Z",
          "iopub.status.idle": "2022-02-03T05:29:02.101854Z",
          "shell.execute_reply": "2022-02-03T05:29:02.102475Z",
          "shell.execute_reply.started": "2022-02-03T05:23:30.419897Z"
        },
        "papermill": {
          "duration": 0.077331,
          "end_time": "2022-02-03T05:29:02.102623",
          "exception": false,
          "start_time": "2022-02-03T05:29:02.025292",
          "status": "completed"
        },
        "tags": [],
        "id": "-bCt0Mz4uqRw",
        "outputId": "0ded0da1-89df-48d4-a53e-b22e7f5bf687"
      },
      "outputs": [
        {
          "name": "stderr",
          "output_type": "stream",
          "text": [
            "/opt/conda/lib/python3.7/site-packages/ipykernel_launcher.py:1: SettingWithCopyWarning: \n",
            "A value is trying to be set on a copy of a slice from a DataFrame.\n",
            "Try using .loc[row_indexer,col_indexer] = value instead\n",
            "\n",
            "See the caveats in the documentation: https://pandas.pydata.org/pandas-docs/stable/user_guide/indexing.html#returning-a-view-versus-a-copy\n",
            "  \"\"\"Entry point for launching an IPython kernel.\n"
          ]
        }
      ],
      "source": [
        "lb1['day_of_the_year'] = lb1['Date'].dt.dayofyear"
      ]
    },
    {
      "cell_type": "markdown",
      "metadata": {
        "papermill": {
          "duration": 0.065852,
          "end_time": "2022-02-03T05:29:02.234577",
          "exception": false,
          "start_time": "2022-02-03T05:29:02.168725",
          "status": "completed"
        },
        "tags": [],
        "id": "r4Mg8yE9uqRx"
      },
      "source": [
        "# **Heat map for checking the corelation between original & derived variables**"
      ]
    },
    {
      "cell_type": "code",
      "execution_count": null,
      "metadata": {
        "execution": {
          "iopub.execute_input": "2022-02-03T05:29:02.371831Z",
          "iopub.status.busy": "2022-02-03T05:29:02.371180Z",
          "iopub.status.idle": "2022-02-03T05:29:02.385817Z",
          "shell.execute_reply": "2022-02-03T05:29:02.386830Z",
          "shell.execute_reply.started": "2022-02-03T05:23:30.430822Z"
        },
        "papermill": {
          "duration": 0.086861,
          "end_time": "2022-02-03T05:29:02.387053",
          "exception": false,
          "start_time": "2022-02-03T05:29:02.300192",
          "status": "completed"
        },
        "tags": [],
        "id": "t1AvUi_suqRy",
        "outputId": "dda92ec1-7475-482a-8c82-c1112e5e9267"
      },
      "outputs": [
        {
          "name": "stdout",
          "output_type": "stream",
          "text": [
            "<class 'pandas.core.frame.DataFrame'>\n",
            "Int64Index: 6025 entries, 578 to 6602\n",
            "Data columns (total 17 columns):\n",
            " #   Column                Non-Null Count  Dtype         \n",
            "---  ------                --------------  -----         \n",
            " 0   Date                  6025 non-null   datetime64[ns]\n",
            " 1   Rainfall_S_Piero      6025 non-null   float64       \n",
            " 2   Rainfall_Mangona      6025 non-null   float64       \n",
            " 3   Rainfall_S_Agata      6025 non-null   float64       \n",
            " 4   Rainfall_Cavallina    6025 non-null   float64       \n",
            " 5   Rainfall_Le_Croci     6025 non-null   float64       \n",
            " 6   Temperature_Le_Croci  6025 non-null   float64       \n",
            " 7   Lake_Level            6025 non-null   float64       \n",
            " 8   Flow_Rate             6025 non-null   float64       \n",
            " 9   Year                  6025 non-null   int64         \n",
            " 10  Month                 6025 non-null   int64         \n",
            " 11  Rainfall_mean         6025 non-null   float64       \n",
            " 12  Rainfall_median       6025 non-null   float64       \n",
            " 13  Rainfall_min          6025 non-null   float64       \n",
            " 14  Rainfall_max          6025 non-null   float64       \n",
            " 15  Rainfall_net          6025 non-null   float64       \n",
            " 16  day_of_the_year       6025 non-null   int64         \n",
            "dtypes: datetime64[ns](1), float64(13), int64(3)\n",
            "memory usage: 847.3 KB\n"
          ]
        }
      ],
      "source": [
        "lb1.info()"
      ]
    },
    {
      "cell_type": "code",
      "execution_count": null,
      "metadata": {
        "execution": {
          "iopub.execute_input": "2022-02-03T05:29:02.522790Z",
          "iopub.status.busy": "2022-02-03T05:29:02.522136Z",
          "iopub.status.idle": "2022-02-03T05:29:02.527491Z",
          "shell.execute_reply": "2022-02-03T05:29:02.528043Z",
          "shell.execute_reply.started": "2022-02-03T05:23:30.452041Z"
        },
        "papermill": {
          "duration": 0.07404,
          "end_time": "2022-02-03T05:29:02.528183",
          "exception": false,
          "start_time": "2022-02-03T05:29:02.454143",
          "status": "completed"
        },
        "tags": [],
        "id": "XPtvw18tuqR2"
      },
      "outputs": [],
      "source": [
        "corr= lb1.drop(['Date'], axis=1)"
      ]
    },
    {
      "cell_type": "code",
      "execution_count": null,
      "metadata": {
        "execution": {
          "iopub.execute_input": "2022-02-03T05:29:02.664391Z",
          "iopub.status.busy": "2022-02-03T05:29:02.663799Z",
          "iopub.status.idle": "2022-02-03T05:33:05.765643Z",
          "shell.execute_reply": "2022-02-03T05:33:05.766171Z",
          "shell.execute_reply.started": "2022-02-03T05:23:30.461766Z"
        },
        "papermill": {
          "duration": 243.171752,
          "end_time": "2022-02-03T05:33:05.766333",
          "exception": false,
          "start_time": "2022-02-03T05:29:02.594581",
          "status": "completed"
        },
        "tags": [],
        "id": "qjC1cmy2uqR4",
        "outputId": "292b57b6-ca5f-4bd5-8eef-526dd471ec2e"
      },
      "outputs": [
        {
          "data": {
            "text/plain": [
              "<matplotlib.axes._subplots.AxesSubplot at 0x7fafc036b110>"
            ]
          },
          "execution_count": 31,
          "metadata": {},
          "output_type": "execute_result"
        },
        {
          "data": {
            "image/png": "[encoded data removed]",
            "text/plain": [
              "<Figure size 432x288 with 2 Axes>"
            ]
          },
          "metadata": {
            "needs_background": "light"
          },
          "output_type": "display_data"
        }
      ],
      "source": [
        "#plt.figure(figsize=(15, 15))\n",
        "\n",
        "sns.heatmap(corr, annot = True)"
      ]
    },
    {
      "cell_type": "code",
      "execution_count": null,
      "metadata": {
        "execution": {
          "iopub.execute_input": "2022-02-03T05:33:05.911293Z",
          "iopub.status.busy": "2022-02-03T05:33:05.910607Z",
          "iopub.status.idle": "2022-02-03T05:33:06.916876Z",
          "shell.execute_reply": "2022-02-03T05:33:06.917530Z",
          "shell.execute_reply.started": "2022-02-03T05:27:37.541708Z"
        },
        "papermill": {
          "duration": 1.081991,
          "end_time": "2022-02-03T05:33:06.917689",
          "exception": false,
          "start_time": "2022-02-03T05:33:05.835698",
          "status": "completed"
        },
        "tags": [],
        "id": "AaeWuWoEuqR5",
        "outputId": "d7231b1a-9aae-4ab2-c911-ffc6b7a8c122"
      },
      "outputs": [
        {
          "data": {
            "text/plain": [
              "<matplotlib.axes._subplots.AxesSubplot at 0x7faf8cfc0b50>"
            ]
          },
          "execution_count": 32,
          "metadata": {},
          "output_type": "execute_result"
        },
        {
          "data": {
            "image/png": "[encoded data removed]",
            "text/plain": [
              "<Figure size 432x288 with 1 Axes>"
            ]
          },
          "metadata": {
            "needs_background": "light"
          },
          "output_type": "display_data"
        }
      ],
      "source": [
        "#Rainfall and lake level trend\n",
        "comp=lb1[lb1[\"Year\"].isin([2018])]\n",
        "comp1=comp[[\"Lake_Level\",\"Rainfall_net\",\"Month\"]]\n",
        "sns.lineplot(data=comp1, x=\"Rainfall_net\", y=\"Lake_Level\")"
      ]
    },
    {
      "cell_type": "code",
      "execution_count": null,
      "metadata": {
        "execution": {
          "iopub.execute_input": "2022-02-03T05:33:07.065456Z",
          "iopub.status.busy": "2022-02-03T05:33:07.064777Z",
          "iopub.status.idle": "2022-02-03T05:33:07.228476Z",
          "shell.execute_reply": "2022-02-03T05:33:07.229044Z",
          "shell.execute_reply.started": "2022-02-03T05:27:38.576056Z"
        },
        "papermill": {
          "duration": 0.239551,
          "end_time": "2022-02-03T05:33:07.229192",
          "exception": false,
          "start_time": "2022-02-03T05:33:06.989641",
          "status": "completed"
        },
        "tags": [],
        "id": "2zkGm2VguqR6",
        "outputId": "d9dd543f-fc98-4f39-ec1f-249595755a8c"
      },
      "outputs": [
        {
          "data": {
            "image/png": "[encoded data removed]",
            "text/plain": [
              "<Figure size 432x288 with 1 Axes>"
            ]
          },
          "metadata": {
            "needs_background": "light"
          },
          "output_type": "display_data"
        }
      ],
      "source": [
        "plt.plot( 'Month','Lake_Level', data=comp1, marker='', color='blue', linewidth=2)\n",
        "#plt.plot( 'Month','Rainfall_mean', data=comp1, marker='', color='red', linewidth=2)\n",
        "plt.legend(bbox_to_anchor=(1.04,1), loc=\"upper left\")\n",
        "plt.xticks(rotation = 90)\n",
        "plt.grid()"
      ]
    },
    {
      "cell_type": "code",
      "execution_count": null,
      "metadata": {
        "execution": {
          "iopub.execute_input": "2022-02-03T05:33:07.387902Z",
          "iopub.status.busy": "2022-02-03T05:33:07.387175Z",
          "iopub.status.idle": "2022-02-03T05:33:07.391819Z",
          "shell.execute_reply": "2022-02-03T05:33:07.391287Z",
          "shell.execute_reply.started": "2022-02-03T05:27:38.752808Z"
        },
        "papermill": {
          "duration": 0.091101,
          "end_time": "2022-02-03T05:33:07.391940",
          "exception": false,
          "start_time": "2022-02-03T05:33:07.300839",
          "status": "completed"
        },
        "tags": [],
        "id": "2DKqxMqruqR7",
        "outputId": "17127f06-7b13-409c-d696-2eac48367003"
      },
      "outputs": [
        {
          "data": {
            "text/html": [
              "<div>\n",
              "<style scoped>\n",
              "    .dataframe tbody tr th:only-of-type {\n",
              "        vertical-align: middle;\n",
              "    }\n",
              "\n",
              "    .dataframe tbody tr th {\n",
              "        vertical-align: top;\n",
              "    }\n",
              "\n",
              "    .dataframe thead th {\n",
              "        text-align: right;\n",
              "    }\n",
              "</style>\n",
              "<table border=\"1\" class=\"dataframe\">\n",
              "  <thead>\n",
              "    <tr style=\"text-align: right;\">\n",
              "      <th></th>\n",
              "      <th>Year</th>\n",
              "      <th>Month</th>\n",
              "      <th>Temperature_Le_Croci</th>\n",
              "      <th>Rainfall_mean</th>\n",
              "      <th>day_of_the_year</th>\n",
              "      <th>Rainfall_median</th>\n",
              "      <th>Rainfall_net</th>\n",
              "    </tr>\n",
              "  </thead>\n",
              "  <tbody>\n",
              "    <tr>\n",
              "      <th>578</th>\n",
              "      <td>2004</td>\n",
              "      <td>2</td>\n",
              "      <td>6.50</td>\n",
              "      <td>0.00</td>\n",
              "      <td>32</td>\n",
              "      <td>0.0</td>\n",
              "      <td>0.0</td>\n",
              "    </tr>\n",
              "    <tr>\n",
              "      <th>579</th>\n",
              "      <td>2004</td>\n",
              "      <td>3</td>\n",
              "      <td>4.45</td>\n",
              "      <td>0.00</td>\n",
              "      <td>61</td>\n",
              "      <td>0.0</td>\n",
              "      <td>0.0</td>\n",
              "    </tr>\n",
              "    <tr>\n",
              "      <th>580</th>\n",
              "      <td>2004</td>\n",
              "      <td>4</td>\n",
              "      <td>2.00</td>\n",
              "      <td>0.00</td>\n",
              "      <td>92</td>\n",
              "      <td>0.0</td>\n",
              "      <td>0.0</td>\n",
              "    </tr>\n",
              "    <tr>\n",
              "      <th>581</th>\n",
              "      <td>2004</td>\n",
              "      <td>5</td>\n",
              "      <td>0.90</td>\n",
              "      <td>0.04</td>\n",
              "      <td>122</td>\n",
              "      <td>0.0</td>\n",
              "      <td>0.2</td>\n",
              "    </tr>\n",
              "    <tr>\n",
              "      <th>582</th>\n",
              "      <td>2004</td>\n",
              "      <td>6</td>\n",
              "      <td>2.25</td>\n",
              "      <td>0.00</td>\n",
              "      <td>153</td>\n",
              "      <td>0.0</td>\n",
              "      <td>0.0</td>\n",
              "    </tr>\n",
              "  </tbody>\n",
              "</table>\n",
              "</div>"
            ],
            "text/plain": [
              "     Year  Month  Temperature_Le_Croci  Rainfall_mean  day_of_the_year  \\\n",
              "578  2004      2                  6.50           0.00               32   \n",
              "579  2004      3                  4.45           0.00               61   \n",
              "580  2004      4                  2.00           0.00               92   \n",
              "581  2004      5                  0.90           0.04              122   \n",
              "582  2004      6                  2.25           0.00              153   \n",
              "\n",
              "     Rainfall_median  Rainfall_net  \n",
              "578              0.0           0.0  \n",
              "579              0.0           0.0  \n",
              "580              0.0           0.0  \n",
              "581              0.0           0.2  \n",
              "582              0.0           0.0  "
            ]
          },
          "execution_count": 34,
          "metadata": {},
          "output_type": "execute_result"
        }
      ],
      "source": [
        "X= lb1[[\"Year\",\"Month\",\"Temperature_Le_Croci\",\"Rainfall_mean\", \"day_of_the_year\",\"Rainfall_median\",\"Rainfall_net\"]]\n",
        "\n",
        "X.head()"
      ]
    },
    {
      "cell_type": "code",
      "execution_count": null,
      "metadata": {
        "execution": {
          "iopub.execute_input": "2022-02-03T05:33:07.548349Z",
          "iopub.status.busy": "2022-02-03T05:33:07.542668Z",
          "iopub.status.idle": "2022-02-03T05:33:07.552788Z",
          "shell.execute_reply": "2022-02-03T05:33:07.552215Z",
          "shell.execute_reply.started": "2022-02-03T05:27:38.779767Z"
        },
        "papermill": {
          "duration": 0.088434,
          "end_time": "2022-02-03T05:33:07.552924",
          "exception": false,
          "start_time": "2022-02-03T05:33:07.464490",
          "status": "completed"
        },
        "tags": [],
        "id": "2QdHxdNtuqR8",
        "outputId": "1d4ed68a-6050-47d1-cc79-7610935d034c"
      },
      "outputs": [
        {
          "name": "stdout",
          "output_type": "stream",
          "text": [
            "<class 'pandas.core.frame.DataFrame'>\n",
            "Int64Index: 6025 entries, 578 to 6602\n",
            "Data columns (total 7 columns):\n",
            " #   Column                Non-Null Count  Dtype  \n",
            "---  ------                --------------  -----  \n",
            " 0   Year                  6025 non-null   int64  \n",
            " 1   Month                 6025 non-null   int64  \n",
            " 2   Temperature_Le_Croci  6025 non-null   float64\n",
            " 3   Rainfall_mean         6025 non-null   float64\n",
            " 4   day_of_the_year       6025 non-null   int64  \n",
            " 5   Rainfall_median       6025 non-null   float64\n",
            " 6   Rainfall_net          6025 non-null   float64\n",
            "dtypes: float64(4), int64(3)\n",
            "memory usage: 376.6 KB\n"
          ]
        }
      ],
      "source": [
        "X.info()"
      ]
    },
    {
      "cell_type": "code",
      "execution_count": null,
      "metadata": {
        "execution": {
          "iopub.execute_input": "2022-02-03T05:33:07.708612Z",
          "iopub.status.busy": "2022-02-03T05:33:07.707677Z",
          "iopub.status.idle": "2022-02-03T05:33:07.711934Z",
          "shell.execute_reply": "2022-02-03T05:33:07.712413Z",
          "shell.execute_reply.started": "2022-02-03T05:27:38.796586Z"
        },
        "papermill": {
          "duration": 0.086992,
          "end_time": "2022-02-03T05:33:07.712600",
          "exception": false,
          "start_time": "2022-02-03T05:33:07.625608",
          "status": "completed"
        },
        "tags": [],
        "id": "QKAGAMCzuqR8",
        "outputId": "f259d0bb-64df-468e-98b1-9d55bb0e8109"
      },
      "outputs": [
        {
          "data": {
            "text/html": [
              "<div>\n",
              "<style scoped>\n",
              "    .dataframe tbody tr th:only-of-type {\n",
              "        vertical-align: middle;\n",
              "    }\n",
              "\n",
              "    .dataframe tbody tr th {\n",
              "        vertical-align: top;\n",
              "    }\n",
              "\n",
              "    .dataframe thead th {\n",
              "        text-align: right;\n",
              "    }\n",
              "</style>\n",
              "<table border=\"1\" class=\"dataframe\">\n",
              "  <thead>\n",
              "    <tr style=\"text-align: right;\">\n",
              "      <th></th>\n",
              "      <th>Lake_Level</th>\n",
              "    </tr>\n",
              "  </thead>\n",
              "  <tbody>\n",
              "    <tr>\n",
              "      <th>578</th>\n",
              "      <td>251.21</td>\n",
              "    </tr>\n",
              "    <tr>\n",
              "      <th>579</th>\n",
              "      <td>251.28</td>\n",
              "    </tr>\n",
              "    <tr>\n",
              "      <th>580</th>\n",
              "      <td>251.35</td>\n",
              "    </tr>\n",
              "    <tr>\n",
              "      <th>581</th>\n",
              "      <td>251.37</td>\n",
              "    </tr>\n",
              "    <tr>\n",
              "      <th>582</th>\n",
              "      <td>251.42</td>\n",
              "    </tr>\n",
              "  </tbody>\n",
              "</table>\n",
              "</div>"
            ],
            "text/plain": [
              "     Lake_Level\n",
              "578      251.21\n",
              "579      251.28\n",
              "580      251.35\n",
              "581      251.37\n",
              "582      251.42"
            ]
          },
          "execution_count": 36,
          "metadata": {},
          "output_type": "execute_result"
        }
      ],
      "source": [
        "y=lb1[[\"Lake_Level\"]]\n",
        "y.head()"
      ]
    },
    {
      "cell_type": "code",
      "execution_count": null,
      "metadata": {
        "execution": {
          "iopub.execute_input": "2022-02-03T05:33:07.868913Z",
          "iopub.status.busy": "2022-02-03T05:33:07.868216Z",
          "iopub.status.idle": "2022-02-03T05:33:07.871493Z",
          "shell.execute_reply": "2022-02-03T05:33:07.872209Z",
          "shell.execute_reply.started": "2022-02-03T05:27:38.813126Z"
        },
        "papermill": {
          "duration": 0.086754,
          "end_time": "2022-02-03T05:33:07.872450",
          "exception": false,
          "start_time": "2022-02-03T05:33:07.785696",
          "status": "completed"
        },
        "tags": [],
        "id": "vE-DJ4lXuqR9",
        "outputId": "9d0903f4-9307-44cc-9682-05182999155f"
      },
      "outputs": [
        {
          "name": "stdout",
          "output_type": "stream",
          "text": [
            "<class 'pandas.core.frame.DataFrame'>\n",
            "Int64Index: 6025 entries, 578 to 6602\n",
            "Data columns (total 1 columns):\n",
            " #   Column      Non-Null Count  Dtype  \n",
            "---  ------      --------------  -----  \n",
            " 0   Lake_Level  6025 non-null   float64\n",
            "dtypes: float64(1)\n",
            "memory usage: 94.1 KB\n"
          ]
        }
      ],
      "source": [
        "y.info()"
      ]
    },
    {
      "cell_type": "markdown",
      "metadata": {
        "papermill": {
          "duration": 0.073021,
          "end_time": "2022-02-03T05:33:08.019758",
          "exception": false,
          "start_time": "2022-02-03T05:33:07.946737",
          "status": "completed"
        },
        "tags": [],
        "id": "ak6y9OUeuqR-"
      },
      "source": [
        "# **Linear regression for Modeling**"
      ]
    },
    {
      "cell_type": "code",
      "execution_count": null,
      "metadata": {
        "execution": {
          "iopub.execute_input": "2022-02-03T05:33:08.172755Z",
          "iopub.status.busy": "2022-02-03T05:33:08.172069Z",
          "iopub.status.idle": "2022-02-03T05:33:08.439848Z",
          "shell.execute_reply": "2022-02-03T05:33:08.439243Z",
          "shell.execute_reply.started": "2022-02-03T05:27:38.830490Z"
        },
        "papermill": {
          "duration": 0.346161,
          "end_time": "2022-02-03T05:33:08.439980",
          "exception": false,
          "start_time": "2022-02-03T05:33:08.093819",
          "status": "completed"
        },
        "tags": [],
        "id": "uAVFnZKauqR_"
      },
      "outputs": [],
      "source": [
        "import sklearn\n",
        "from sklearn import datasets\n",
        "from sklearn.model_selection import train_test_split\n",
        "from sklearn.linear_model import LinearRegression\n",
        "from sklearn.metrics import r2_score"
      ]
    },
    {
      "cell_type": "markdown",
      "metadata": {
        "papermill": {
          "duration": 0.072889,
          "end_time": "2022-02-03T05:33:08.587760",
          "exception": false,
          "start_time": "2022-02-03T05:33:08.514871",
          "status": "completed"
        },
        "tags": [],
        "id": "IknKY4tDuqSA"
      },
      "source": [
        "**Create X_train, y_train, X_test and Y_test**"
      ]
    },
    {
      "cell_type": "code",
      "execution_count": null,
      "metadata": {
        "execution": {
          "iopub.execute_input": "2022-02-03T05:33:08.737400Z",
          "iopub.status.busy": "2022-02-03T05:33:08.736753Z",
          "iopub.status.idle": "2022-02-03T05:33:08.752024Z",
          "shell.execute_reply": "2022-02-03T05:33:08.751335Z",
          "shell.execute_reply.started": "2022-02-03T05:27:39.143941Z"
        },
        "papermill": {
          "duration": 0.091089,
          "end_time": "2022-02-03T05:33:08.752141",
          "exception": false,
          "start_time": "2022-02-03T05:33:08.661052",
          "status": "completed"
        },
        "tags": [],
        "id": "h89hQXkduqSB"
      },
      "outputs": [],
      "source": [
        "train = lb1[~lb1['Year'].isin([2017,2018,2019,2020])]\n",
        "test = lb1[lb1['Year'].isin([2018])]\n",
        "\n",
        "X_train = train[[\"Year\",\"Month\",\"Temperature_Le_Croci\",\"Rainfall_mean\",\"Rainfall_net\",\"day_of_the_year\"]]\n",
        "y_train = train[[\"Lake_Level\"]]\n",
        "\n",
        "X_test = test[[\"Year\",\"Month\",\"Temperature_Le_Croci\",\"Rainfall_mean\", \"Rainfall_net\",\"day_of_the_year\"]]\n",
        "y_test = test[[\"Lake_Level\"]]"
      ]
    },
    {
      "cell_type": "code",
      "execution_count": null,
      "metadata": {
        "execution": {
          "iopub.execute_input": "2022-02-03T05:33:08.906101Z",
          "iopub.status.busy": "2022-02-03T05:33:08.905401Z",
          "iopub.status.idle": "2022-02-03T05:33:08.907717Z",
          "shell.execute_reply": "2022-02-03T05:33:08.908227Z",
          "shell.execute_reply.started": "2022-02-03T05:27:39.164880Z"
        },
        "papermill": {
          "duration": 0.080833,
          "end_time": "2022-02-03T05:33:08.908405",
          "exception": false,
          "start_time": "2022-02-03T05:33:08.827572",
          "status": "completed"
        },
        "tags": [],
        "id": "RFMCoqT-uqSC"
      },
      "outputs": [],
      "source": [
        "#X_train, X_test,y_train, y_test= train_test_split(X, y, train_size=0.8 , random_state=100)\n",
        "lr= LinearRegression(normalize=True)"
      ]
    },
    {
      "cell_type": "code",
      "execution_count": null,
      "metadata": {
        "execution": {
          "iopub.execute_input": "2022-02-03T05:33:09.059501Z",
          "iopub.status.busy": "2022-02-03T05:33:09.058844Z",
          "iopub.status.idle": "2022-02-03T05:33:09.064024Z",
          "shell.execute_reply": "2022-02-03T05:33:09.064579Z",
          "shell.execute_reply.started": "2022-02-03T05:27:39.176273Z"
        },
        "papermill": {
          "duration": 0.083337,
          "end_time": "2022-02-03T05:33:09.064739",
          "exception": false,
          "start_time": "2022-02-03T05:33:08.981402",
          "status": "completed"
        },
        "tags": [],
        "id": "1uw60JIwuqSE",
        "outputId": "86081fd6-a99e-43a1-a54e-fad346c18321"
      },
      "outputs": [
        {
          "data": {
            "text/plain": [
              "(4748, 1)"
            ]
          },
          "execution_count": 41,
          "metadata": {},
          "output_type": "execute_result"
        }
      ],
      "source": [
        "y_train.shape"
      ]
    },
    {
      "cell_type": "code",
      "execution_count": null,
      "metadata": {
        "execution": {
          "iopub.execute_input": "2022-02-03T05:33:09.217629Z",
          "iopub.status.busy": "2022-02-03T05:33:09.216611Z",
          "iopub.status.idle": "2022-02-03T05:33:09.222127Z",
          "shell.execute_reply": "2022-02-03T05:33:09.222659Z",
          "shell.execute_reply.started": "2022-02-03T05:27:39.193016Z"
        },
        "papermill": {
          "duration": 0.083514,
          "end_time": "2022-02-03T05:33:09.222807",
          "exception": false,
          "start_time": "2022-02-03T05:33:09.139293",
          "status": "completed"
        },
        "tags": [],
        "id": "j-71FdRZuqSF",
        "outputId": "66e6b43d-47ba-4f4b-8c53-4ac77c50ba27"
      },
      "outputs": [
        {
          "data": {
            "text/plain": [
              "(365, 1)"
            ]
          },
          "execution_count": 42,
          "metadata": {},
          "output_type": "execute_result"
        }
      ],
      "source": [
        "y_test.shape"
      ]
    },
    {
      "cell_type": "code",
      "execution_count": null,
      "metadata": {
        "execution": {
          "iopub.execute_input": "2022-02-03T05:33:09.378584Z",
          "iopub.status.busy": "2022-02-03T05:33:09.377502Z",
          "iopub.status.idle": "2022-02-03T05:33:09.383102Z",
          "shell.execute_reply": "2022-02-03T05:33:09.383570Z",
          "shell.execute_reply.started": "2022-02-03T05:27:39.205340Z"
        },
        "papermill": {
          "duration": 0.08526,
          "end_time": "2022-02-03T05:33:09.383720",
          "exception": false,
          "start_time": "2022-02-03T05:33:09.298460",
          "status": "completed"
        },
        "tags": [],
        "id": "tYrr_IJcuqSG",
        "outputId": "4f342008-ee8f-4e3c-9b22-fa98fffdd2f4"
      },
      "outputs": [
        {
          "data": {
            "text/plain": [
              "(4748, 6)"
            ]
          },
          "execution_count": 43,
          "metadata": {},
          "output_type": "execute_result"
        }
      ],
      "source": [
        "X_train.shape"
      ]
    },
    {
      "cell_type": "code",
      "execution_count": null,
      "metadata": {
        "execution": {
          "iopub.execute_input": "2022-02-03T05:33:09.538422Z",
          "iopub.status.busy": "2022-02-03T05:33:09.537408Z",
          "iopub.status.idle": "2022-02-03T05:33:09.542895Z",
          "shell.execute_reply": "2022-02-03T05:33:09.543345Z",
          "shell.execute_reply.started": "2022-02-03T05:27:39.219918Z"
        },
        "papermill": {
          "duration": 0.084436,
          "end_time": "2022-02-03T05:33:09.543513",
          "exception": false,
          "start_time": "2022-02-03T05:33:09.459077",
          "status": "completed"
        },
        "tags": [],
        "id": "h-gmX698uqSI",
        "outputId": "598dcf48-d6e5-49f9-baa4-bfd243d073ed"
      },
      "outputs": [
        {
          "data": {
            "text/plain": [
              "(365, 6)"
            ]
          },
          "execution_count": 44,
          "metadata": {},
          "output_type": "execute_result"
        }
      ],
      "source": [
        "X_test.shape"
      ]
    },
    {
      "cell_type": "code",
      "execution_count": null,
      "metadata": {
        "execution": {
          "iopub.execute_input": "2022-02-03T05:33:09.697188Z",
          "iopub.status.busy": "2022-02-03T05:33:09.696107Z",
          "iopub.status.idle": "2022-02-03T05:33:09.739323Z",
          "shell.execute_reply": "2022-02-03T05:33:09.739903Z",
          "shell.execute_reply.started": "2022-02-03T05:27:39.235952Z"
        },
        "papermill": {
          "duration": 0.122026,
          "end_time": "2022-02-03T05:33:09.740058",
          "exception": false,
          "start_time": "2022-02-03T05:33:09.618032",
          "status": "completed"
        },
        "tags": [],
        "id": "__5cYtwouqSJ",
        "outputId": "1515b682-f069-452f-e379-4d573b8ab0ad"
      },
      "outputs": [
        {
          "data": {
            "text/plain": [
              "LinearRegression(normalize=True)"
            ]
          },
          "execution_count": 45,
          "metadata": {},
          "output_type": "execute_result"
        }
      ],
      "source": [
        "lr.fit(X_train,y_train)"
      ]
    },
    {
      "cell_type": "code",
      "execution_count": null,
      "metadata": {
        "execution": {
          "iopub.execute_input": "2022-02-03T05:33:09.894795Z",
          "iopub.status.busy": "2022-02-03T05:33:09.893769Z",
          "iopub.status.idle": "2022-02-03T05:33:09.900630Z",
          "shell.execute_reply": "2022-02-03T05:33:09.901190Z",
          "shell.execute_reply.started": "2022-02-03T05:27:39.288984Z"
        },
        "papermill": {
          "duration": 0.08623,
          "end_time": "2022-02-03T05:33:09.901343",
          "exception": false,
          "start_time": "2022-02-03T05:33:09.815113",
          "status": "completed"
        },
        "tags": [],
        "id": "oB6Psrm1uqSK"
      },
      "outputs": [],
      "source": [
        "y_pred= lr.predict(X_test)"
      ]
    },
    {
      "cell_type": "markdown",
      "metadata": {
        "papermill": {
          "duration": 0.075165,
          "end_time": "2022-02-03T05:33:10.052135",
          "exception": false,
          "start_time": "2022-02-03T05:33:09.976970",
          "status": "completed"
        },
        "tags": [],
        "id": "IrGGf3KAuqSL"
      },
      "source": [
        "**Evaluate the model by comparing the predictions with the actual labels**"
      ]
    },
    {
      "cell_type": "code",
      "execution_count": null,
      "metadata": {
        "execution": {
          "iopub.execute_input": "2022-02-03T05:33:10.205657Z",
          "iopub.status.busy": "2022-02-03T05:33:10.204960Z",
          "iopub.status.idle": "2022-02-03T05:33:10.211048Z",
          "shell.execute_reply": "2022-02-03T05:33:10.211552Z",
          "shell.execute_reply.started": "2022-02-03T05:27:39.297961Z"
        },
        "papermill": {
          "duration": 0.084062,
          "end_time": "2022-02-03T05:33:10.211711",
          "exception": false,
          "start_time": "2022-02-03T05:33:10.127649",
          "status": "completed"
        },
        "tags": [],
        "id": "PVSRrnvPuqSM"
      },
      "outputs": [],
      "source": [
        "r_squared = r2_score(y_test, y_pred)"
      ]
    },
    {
      "cell_type": "code",
      "execution_count": null,
      "metadata": {
        "execution": {
          "iopub.execute_input": "2022-02-03T05:33:10.364077Z",
          "iopub.status.busy": "2022-02-03T05:33:10.363466Z",
          "iopub.status.idle": "2022-02-03T05:33:10.368013Z",
          "shell.execute_reply": "2022-02-03T05:33:10.368543Z",
          "shell.execute_reply.started": "2022-02-03T05:27:39.316937Z"
        },
        "papermill": {
          "duration": 0.082523,
          "end_time": "2022-02-03T05:33:10.368690",
          "exception": false,
          "start_time": "2022-02-03T05:33:10.286167",
          "status": "completed"
        },
        "tags": [],
        "id": "Uwc2_Is_uqSN",
        "outputId": "5b1b2601-71cb-4556-eb4e-e5b143bf709b"
      },
      "outputs": [
        {
          "data": {
            "text/plain": [
              "0.11786511830489876"
            ]
          },
          "execution_count": 48,
          "metadata": {},
          "output_type": "execute_result"
        }
      ],
      "source": [
        "r_squared"
      ]
    },
    {
      "cell_type": "markdown",
      "metadata": {
        "papermill": {
          "duration": 0.075562,
          "end_time": "2022-02-03T05:33:10.519803",
          "exception": false,
          "start_time": "2022-02-03T05:33:10.444241",
          "status": "completed"
        },
        "tags": [],
        "id": "Cz-Jv2tVuqSO"
      },
      "source": [
        "# **Random forest for Modeling**"
      ]
    },
    {
      "cell_type": "code",
      "execution_count": null,
      "metadata": {
        "execution": {
          "iopub.execute_input": "2022-02-03T05:33:10.674786Z",
          "iopub.status.busy": "2022-02-03T05:33:10.674071Z",
          "iopub.status.idle": "2022-02-03T05:33:12.415074Z",
          "shell.execute_reply": "2022-02-03T05:33:12.414141Z",
          "shell.execute_reply.started": "2022-02-03T05:27:39.330121Z"
        },
        "papermill": {
          "duration": 1.819819,
          "end_time": "2022-02-03T05:33:12.415203",
          "exception": false,
          "start_time": "2022-02-03T05:33:10.595384",
          "status": "completed"
        },
        "tags": [],
        "id": "49KlMrWpuqSP",
        "outputId": "2793a382-f333-4962-e7dd-75902ea7e984"
      },
      "outputs": [
        {
          "name": "stderr",
          "output_type": "stream",
          "text": [
            "/opt/conda/lib/python3.7/site-packages/ipykernel_launcher.py:3: DataConversionWarning: A column-vector y was passed when a 1d array was expected. Please change the shape of y to (n_samples,), for example using ravel().\n",
            "  This is separate from the ipykernel package so we can avoid doing imports until\n"
          ]
        }
      ],
      "source": [
        "from sklearn.ensemble import RandomForestRegressor\n",
        "regr = RandomForestRegressor(max_depth=100, random_state=0)\n",
        "regr.fit(X_train, y_train)\n",
        "y_pred = regr.predict(X_test)"
      ]
    },
    {
      "cell_type": "code",
      "execution_count": null,
      "metadata": {
        "execution": {
          "iopub.execute_input": "2022-02-03T05:33:12.570748Z",
          "iopub.status.busy": "2022-02-03T05:33:12.569747Z",
          "iopub.status.idle": "2022-02-03T05:33:12.577645Z",
          "shell.execute_reply": "2022-02-03T05:33:12.578097Z",
          "shell.execute_reply.started": "2022-02-03T05:27:41.064763Z"
        },
        "papermill": {
          "duration": 0.087128,
          "end_time": "2022-02-03T05:33:12.578249",
          "exception": false,
          "start_time": "2022-02-03T05:33:12.491121",
          "status": "completed"
        },
        "tags": [],
        "id": "9P763SduuqSQ",
        "outputId": "718af3a4-8c7c-4d1a-e845-e8d81209c24b"
      },
      "outputs": [
        {
          "data": {
            "text/plain": [
              "0.6974756195045533"
            ]
          },
          "execution_count": 50,
          "metadata": {},
          "output_type": "execute_result"
        }
      ],
      "source": [
        "r_squared = r2_score(y_test, y_pred)\n",
        "r_squared"
      ]
    }
  ],
  "metadata": {
    "kernelspec": {
      "display_name": "Python 3",
      "language": "python",
      "name": "python3"
    },
    "language_info": {
      "codemirror_mode": {
        "name": "ipython",
        "version": 3
      },
      "file_extension": ".py",
      "mimetype": "text/x-python",
      "name": "python",
      "nbconvert_exporter": "python",
      "pygments_lexer": "ipython3",
      "version": "3.7.6"
    },
    "papermill": {
      "duration": 264.270315,
      "end_time": "2022-02-03T05:33:12.761168",
      "environment_variables": {},
      "exception": null,
      "input_path": "__notebook__.ipynb",
      "output_path": "__notebook__.ipynb",
      "parameters": {},
      "start_time": "2022-02-03T05:28:48.490853",
      "version": "2.1.0"
    },
    "colab": {
      "name": "Water Bodies Flow Analysis",
      "provenance": [],
      "include_colab_link": true
    }
  },
  "nbformat": 4,
  "nbformat_minor": 0
}