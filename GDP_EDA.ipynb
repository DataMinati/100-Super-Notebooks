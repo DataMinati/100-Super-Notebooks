{
  "nbformat": 4,
  "nbformat_minor": 0,
  "metadata": {
    "colab": {
      "name": "GDP EDA.ipynb",
      "provenance": [],
      "authorship_tag": "ABX9TyMMd+X2eLqh9NQc1lhozR1K",
      "include_colab_link": true
    },
    "kernelspec": {
      "name": "python3",
      "display_name": "Python 3"
    },
    "language_info": {
      "name": "python"
    }
  },
  "cells": [
    {
      "cell_type": "markdown",
      "metadata": {
        "id": "view-in-github",
        "colab_type": "text"
      },
      "source": [
        "<a href=\"https://colab.research.google.com/github/DataMinati/Super-Notebooks-1K/blob/main/GDP_EDA.ipynb\" target=\"_parent\"><img src=\"https://colab.research.google.com/assets/colab-badge.svg\" alt=\"Open In Colab\"/></a>"
      ]
    },
    {
      "cell_type": "markdown",
      "source": [
        "## 1. Importing the necessary packages"
      ],
      "metadata": {
        "id": "-74ppC5XEzB3"
      }
    },
    {
      "cell_type": "code",
      "execution_count": 1,
      "metadata": {
        "colab": {
          "base_uri": "https://localhost:8080/"
        },
        "id": "CPLsQSkDD5FU",
        "outputId": "32f3d111-5795-4c08-b9a4-bee35bba424d"
      },
      "outputs": [
        {
          "output_type": "stream",
          "name": "stdout",
          "text": [
            "All the necessary packages have been included successfully!\n"
          ]
        }
      ],
      "source": [
        "import numpy as np\n",
        "import pandas as pd\n",
        "import matplotlib.pyplot as plt\n",
        "import seaborn as sns\n",
        "import sklearn\n",
        "sns.set_style('darkgrid')\n",
        "plt.style.use(\"fivethirtyeight\")\n",
        "%matplotlib inline\n",
        "print(\"All the necessary packages have been included successfully!\")"
      ]
    },
    {
      "cell_type": "markdown",
      "source": [
        "## 2. Adding Table Formatters"
      ],
      "metadata": {
        "id": "Ajwh82MbE4gp"
      }
    },
    {
      "cell_type": "code",
      "source": [
        "from google.colab import data_table\n",
        "from vega_datasets import data\n",
        "\n",
        "data_table.enable_dataframe_formatter()"
      ],
      "metadata": {
        "id": "rM_gUYc1EZ9q"
      },
      "execution_count": 3,
      "outputs": []
    },
    {
      "cell_type": "markdown",
      "source": [
        "## 3. Loading and displaying the data"
      ],
      "metadata": {
        "id": "p3I1I2xkE9e7"
      }
    },
    {
      "cell_type": "code",
      "source": [
        "url = 'https://raw.githubusercontent.com/MainakRepositor/Datasets-/master/GDP.csv'\n",
        "df = pd.read_csv(url,error_bad_lines=False)\n",
        "\n",
        "df.head(10)"
      ],
      "metadata": {
        "colab": {
          "base_uri": "https://localhost:8080/",
          "height": 305
        },
        "id": "CdhiaNTXD9_c",
        "outputId": "81843c87-3765-4852-a685-8265b07255ef"
      },
      "execution_count": 4,
      "outputs": [
        {
          "output_type": "execute_result",
          "data": {
            "application/vnd.google.colaboratory.module+javascript": "\n      import \"https://ssl.gstatic.com/colaboratory/data_table/a6224c040fa35dcf/data_table.js\";\n\n      window.createDataTable({\n        data: [[{\n            'v': 0,\n            'f': \"0\",\n        },\n{\n            'v': 1960,\n            'f': \"1960\",\n        },\n{\n            'v': 1,\n            'f': \"1\",\n        },\n\"the United States\",\n\"America\",\n{\n            'v': 543300000000,\n            'f': \"543300000000\",\n        },\n{\n            'v': 0.4684827009771657,\n            'f': \"0.4684827009771657\",\n        }],\n [{\n            'v': 1,\n            'f': \"1\",\n        },\n{\n            'v': 1960,\n            'f': \"1960\",\n        },\n{\n            'v': 2,\n            'f': \"2\",\n        },\n\"United Kingdom\",\n\"Europe\",\n{\n            'v': 73233967692,\n            'f': \"73233967692\",\n        },\n{\n            'v': 0.06314899132638073,\n            'f': \"0.06314899132638073\",\n        }],\n [{\n            'v': 2,\n            'f': \"2\",\n        },\n{\n            'v': 1960,\n            'f': \"1960\",\n        },\n{\n            'v': 3,\n            'f': \"3\",\n        },\n\"France\",\n\"Europe\",\n{\n            'v': 62225478000,\n            'f': \"62225478000\",\n        },\n{\n            'v': 0.053656469727655434,\n            'f': \"0.053656469727655434\",\n        }],\n [{\n            'v': 3,\n            'f': \"3\",\n        },\n{\n            'v': 1960,\n            'f': \"1960\",\n        },\n{\n            'v': 4,\n            'f': \"4\",\n        },\n\"China\",\n\"Asia\",\n{\n            'v': 59716467625,\n            'f': \"59716467625\",\n        },\n{\n            'v': 0.051492972659259104,\n            'f': \"0.051492972659259104\",\n        }],\n [{\n            'v': 4,\n            'f': \"4\",\n        },\n{\n            'v': 1960,\n            'f': \"1960\",\n        },\n{\n            'v': 5,\n            'f': \"5\",\n        },\n\"Japan\",\n\"Asia\",\n{\n            'v': 44307342950,\n            'f': \"44307342950\",\n        },\n{\n            'v': 0.038205823114922835,\n            'f': \"0.038205823114922835\",\n        }],\n [{\n            'v': 5,\n            'f': \"5\",\n        },\n{\n            'v': 1960,\n            'f': \"1960\",\n        },\n{\n            'v': 6,\n            'f': \"6\",\n        },\n\"Canada\",\n\"America\",\n{\n            'v': 40461721692,\n            'f': \"40461721692\",\n        },\n{\n            'v': 0.034889778509947615,\n            'f': \"0.034889778509947615\",\n        }],\n [{\n            'v': 6,\n            'f': \"6\",\n        },\n{\n            'v': 1960,\n            'f': \"1960\",\n        },\n{\n            'v': 7,\n            'f': \"7\",\n        },\n\"Italy\",\n\"Europe\",\n{\n            'v': 40385288344,\n            'f': \"40385288344\",\n        },\n{\n            'v': 0.034823870721772066,\n            'f': \"0.034823870721772066\",\n        }],\n [{\n            'v': 7,\n            'f': \"7\",\n        },\n{\n            'v': 1960,\n            'f': \"1960\",\n        },\n{\n            'v': 8,\n            'f': \"8\",\n        },\n\"India\",\n\"Asia\",\n{\n            'v': 37029883875,\n            'f': \"37029883875\",\n        },\n{\n            'v': 0.03193053564261144,\n            'f': \"0.03193053564261144\",\n        }],\n [{\n            'v': 8,\n            'f': \"8\",\n        },\n{\n            'v': 1960,\n            'f': \"1960\",\n        },\n{\n            'v': 9,\n            'f': \"9\",\n        },\n\"Australia\",\n\"Oceania\",\n{\n            'v': 18577668271,\n            'f': \"18577668271\",\n        },\n{\n            'v': 0.01601935617422395,\n            'f': \"0.01601935617422395\",\n        }],\n [{\n            'v': 9,\n            'f': \"9\",\n        },\n{\n            'v': 1960,\n            'f': \"1960\",\n        },\n{\n            'v': 10,\n            'f': \"10\",\n        },\n\"Sweden\",\n\"Europe\",\n{\n            'v': 15822585033,\n            'f': \"15822585033\",\n        },\n{\n            'v': 0.013643672690411774,\n            'f': \"0.013643672690411774\",\n        }]],\n        columns: [[\"number\", \"index\"], [\"number\", \"year\"], [\"number\", \"rank\"], [\"string\", \"country\"], [\"string\", \"state\"], [\"number\", \"gdp\"], [\"number\", \"gdp_percent\"]],\n        columnOptions: [{\"width\": \"1px\", \"className\": \"index_column\"}],\n        rowsPerPage: 25,\n        helpUrl: \"https://colab.research.google.com/notebooks/data_table.ipynb\",\n        suppressOutputScrolling: true,\n        minimumWidth: undefined,\n      });\n    ",
            "text/html": [
              "\n",
              "  <div id=\"df-87553e31-cc3e-467f-88e5-00c24e2a8bed\">\n",
              "    <div class=\"colab-df-container\">\n",
              "      <div>\n",
              "<style scoped>\n",
              "    .dataframe tbody tr th:only-of-type {\n",
              "        vertical-align: middle;\n",
              "    }\n",
              "\n",
              "    .dataframe tbody tr th {\n",
              "        vertical-align: top;\n",
              "    }\n",
              "\n",
              "    .dataframe thead th {\n",
              "        text-align: right;\n",
              "    }\n",
              "</style>\n",
              "<table border=\"1\" class=\"dataframe\">\n",
              "  <thead>\n",
              "    <tr style=\"text-align: right;\">\n",
              "      <th></th>\n",
              "      <th>year</th>\n",
              "      <th>rank</th>\n",
              "      <th>country</th>\n",
              "      <th>state</th>\n",
              "      <th>gdp</th>\n",
              "      <th>gdp_percent</th>\n",
              "    </tr>\n",
              "  </thead>\n",
              "  <tbody>\n",
              "    <tr>\n",
              "      <th>0</th>\n",
              "      <td>1960</td>\n",
              "      <td>1</td>\n",
              "      <td>the United States</td>\n",
              "      <td>America</td>\n",
              "      <td>543300000000</td>\n",
              "      <td>0.468483</td>\n",
              "    </tr>\n",
              "    <tr>\n",
              "      <th>1</th>\n",
              "      <td>1960</td>\n",
              "      <td>2</td>\n",
              "      <td>United Kingdom</td>\n",
              "      <td>Europe</td>\n",
              "      <td>73233967692</td>\n",
              "      <td>0.063149</td>\n",
              "    </tr>\n",
              "    <tr>\n",
              "      <th>2</th>\n",
              "      <td>1960</td>\n",
              "      <td>3</td>\n",
              "      <td>France</td>\n",
              "      <td>Europe</td>\n",
              "      <td>62225478000</td>\n",
              "      <td>0.053656</td>\n",
              "    </tr>\n",
              "    <tr>\n",
              "      <th>3</th>\n",
              "      <td>1960</td>\n",
              "      <td>4</td>\n",
              "      <td>China</td>\n",
              "      <td>Asia</td>\n",
              "      <td>59716467625</td>\n",
              "      <td>0.051493</td>\n",
              "    </tr>\n",
              "    <tr>\n",
              "      <th>4</th>\n",
              "      <td>1960</td>\n",
              "      <td>5</td>\n",
              "      <td>Japan</td>\n",
              "      <td>Asia</td>\n",
              "      <td>44307342950</td>\n",
              "      <td>0.038206</td>\n",
              "    </tr>\n",
              "    <tr>\n",
              "      <th>5</th>\n",
              "      <td>1960</td>\n",
              "      <td>6</td>\n",
              "      <td>Canada</td>\n",
              "      <td>America</td>\n",
              "      <td>40461721692</td>\n",
              "      <td>0.034890</td>\n",
              "    </tr>\n",
              "    <tr>\n",
              "      <th>6</th>\n",
              "      <td>1960</td>\n",
              "      <td>7</td>\n",
              "      <td>Italy</td>\n",
              "      <td>Europe</td>\n",
              "      <td>40385288344</td>\n",
              "      <td>0.034824</td>\n",
              "    </tr>\n",
              "    <tr>\n",
              "      <th>7</th>\n",
              "      <td>1960</td>\n",
              "      <td>8</td>\n",
              "      <td>India</td>\n",
              "      <td>Asia</td>\n",
              "      <td>37029883875</td>\n",
              "      <td>0.031931</td>\n",
              "    </tr>\n",
              "    <tr>\n",
              "      <th>8</th>\n",
              "      <td>1960</td>\n",
              "      <td>9</td>\n",
              "      <td>Australia</td>\n",
              "      <td>Oceania</td>\n",
              "      <td>18577668271</td>\n",
              "      <td>0.016019</td>\n",
              "    </tr>\n",
              "    <tr>\n",
              "      <th>9</th>\n",
              "      <td>1960</td>\n",
              "      <td>10</td>\n",
              "      <td>Sweden</td>\n",
              "      <td>Europe</td>\n",
              "      <td>15822585033</td>\n",
              "      <td>0.013644</td>\n",
              "    </tr>\n",
              "  </tbody>\n",
              "</table>\n",
              "</div>\n",
              "      <button class=\"colab-df-convert\" onclick=\"convertToInteractive('df-87553e31-cc3e-467f-88e5-00c24e2a8bed')\"\n",
              "              title=\"Convert this dataframe to an interactive table.\"\n",
              "              style=\"display:none;\">\n",
              "        \n",
              "  <svg xmlns=\"http://www.w3.org/2000/svg\" height=\"24px\"viewBox=\"0 0 24 24\"\n",
              "       width=\"24px\">\n",
              "    <path d=\"M0 0h24v24H0V0z\" fill=\"none\"/>\n",
              "    <path d=\"M18.56 5.44l.94 2.06.94-2.06 2.06-.94-2.06-.94-.94-2.06-.94 2.06-2.06.94zm-11 1L8.5 8.5l.94-2.06 2.06-.94-2.06-.94L8.5 2.5l-.94 2.06-2.06.94zm10 10l.94 2.06.94-2.06 2.06-.94-2.06-.94-.94-2.06-.94 2.06-2.06.94z\"/><path d=\"M17.41 7.96l-1.37-1.37c-.4-.4-.92-.59-1.43-.59-.52 0-1.04.2-1.43.59L10.3 9.45l-7.72 7.72c-.78.78-.78 2.05 0 2.83L4 21.41c.39.39.9.59 1.41.59.51 0 1.02-.2 1.41-.59l7.78-7.78 2.81-2.81c.8-.78.8-2.07 0-2.86zM5.41 20L4 18.59l7.72-7.72 1.47 1.35L5.41 20z\"/>\n",
              "  </svg>\n",
              "      </button>\n",
              "      \n",
              "  <style>\n",
              "    .colab-df-container {\n",
              "      display:flex;\n",
              "      flex-wrap:wrap;\n",
              "      gap: 12px;\n",
              "    }\n",
              "\n",
              "    .colab-df-convert {\n",
              "      background-color: #E8F0FE;\n",
              "      border: none;\n",
              "      border-radius: 50%;\n",
              "      cursor: pointer;\n",
              "      display: none;\n",
              "      fill: #1967D2;\n",
              "      height: 32px;\n",
              "      padding: 0 0 0 0;\n",
              "      width: 32px;\n",
              "    }\n",
              "\n",
              "    .colab-df-convert:hover {\n",
              "      background-color: #E2EBFA;\n",
              "      box-shadow: 0px 1px 2px rgba(60, 64, 67, 0.3), 0px 1px 3px 1px rgba(60, 64, 67, 0.15);\n",
              "      fill: #174EA6;\n",
              "    }\n",
              "\n",
              "    [theme=dark] .colab-df-convert {\n",
              "      background-color: #3B4455;\n",
              "      fill: #D2E3FC;\n",
              "    }\n",
              "\n",
              "    [theme=dark] .colab-df-convert:hover {\n",
              "      background-color: #434B5C;\n",
              "      box-shadow: 0px 1px 3px 1px rgba(0, 0, 0, 0.15);\n",
              "      filter: drop-shadow(0px 1px 2px rgba(0, 0, 0, 0.3));\n",
              "      fill: #FFFFFF;\n",
              "    }\n",
              "  </style>\n",
              "\n",
              "      <script>\n",
              "        const buttonEl =\n",
              "          document.querySelector('#df-87553e31-cc3e-467f-88e5-00c24e2a8bed button.colab-df-convert');\n",
              "        buttonEl.style.display =\n",
              "          google.colab.kernel.accessAllowed ? 'block' : 'none';\n",
              "\n",
              "        async function convertToInteractive(key) {\n",
              "          const element = document.querySelector('#df-87553e31-cc3e-467f-88e5-00c24e2a8bed');\n",
              "          const dataTable =\n",
              "            await google.colab.kernel.invokeFunction('convertToInteractive',\n",
              "                                                     [key], {});\n",
              "          if (!dataTable) return;\n",
              "\n",
              "          const docLinkHtml = 'Like what you see? Visit the ' +\n",
              "            '<a target=\"_blank\" href=https://colab.research.google.com/notebooks/data_table.ipynb>data table notebook</a>'\n",
              "            + ' to learn more about interactive tables.';\n",
              "          element.innerHTML = '';\n",
              "          dataTable['output_type'] = 'display_data';\n",
              "          await google.colab.output.renderOutput(dataTable, element);\n",
              "          const docLink = document.createElement('div');\n",
              "          docLink.innerHTML = docLinkHtml;\n",
              "          element.appendChild(docLink);\n",
              "        }\n",
              "      </script>\n",
              "    </div>\n",
              "  </div>\n",
              "  "
            ],
            "text/plain": [
              "   year  rank            country    state           gdp  gdp_percent\n",
              "0  1960     1  the United States  America  543300000000     0.468483\n",
              "1  1960     2     United Kingdom   Europe   73233967692     0.063149\n",
              "2  1960     3             France   Europe   62225478000     0.053656\n",
              "3  1960     4              China     Asia   59716467625     0.051493\n",
              "4  1960     5              Japan     Asia   44307342950     0.038206\n",
              "5  1960     6             Canada  America   40461721692     0.034890\n",
              "6  1960     7              Italy   Europe   40385288344     0.034824\n",
              "7  1960     8              India     Asia   37029883875     0.031931\n",
              "8  1960     9          Australia  Oceania   18577668271     0.016019\n",
              "9  1960    10             Sweden   Europe   15822585033     0.013644"
            ]
          },
          "metadata": {},
          "execution_count": 4
        }
      ]
    },
    {
      "cell_type": "markdown",
      "source": [
        "## 4. Display the dataframe information"
      ],
      "metadata": {
        "id": "sb-05_G3FBj-"
      }
    },
    {
      "cell_type": "code",
      "source": [
        "df.info()"
      ],
      "metadata": {
        "colab": {
          "base_uri": "https://localhost:8080/"
        },
        "id": "wmyr0qCtEIMd",
        "outputId": "abe4138c-fbee-4f2c-f2c7-20353d0cffc3"
      },
      "execution_count": 5,
      "outputs": [
        {
          "output_type": "stream",
          "name": "stdout",
          "text": [
            "<class 'pandas.core.frame.DataFrame'>\n",
            "RangeIndex: 10134 entries, 0 to 10133\n",
            "Data columns (total 6 columns):\n",
            " #   Column       Non-Null Count  Dtype  \n",
            "---  ------       --------------  -----  \n",
            " 0   year         10134 non-null  int64  \n",
            " 1   rank         10134 non-null  int64  \n",
            " 2   country      10134 non-null  object \n",
            " 3   state        10134 non-null  object \n",
            " 4   gdp          10134 non-null  int64  \n",
            " 5   gdp_percent  10134 non-null  float64\n",
            "dtypes: float64(1), int64(3), object(2)\n",
            "memory usage: 475.2+ KB\n"
          ]
        }
      ]
    },
    {
      "cell_type": "markdown",
      "source": [
        "## 5. Check for NULL values"
      ],
      "metadata": {
        "id": "BGenHaz2FFBa"
      }
    },
    {
      "cell_type": "code",
      "source": [
        "print(df.isnull().values.any())"
      ],
      "metadata": {
        "colab": {
          "base_uri": "https://localhost:8080/"
        },
        "id": "MkWjcQymEfhi",
        "outputId": "e43783cd-83eb-4cce-9623-d86b4de2c2a9"
      },
      "execution_count": 6,
      "outputs": [
        {
          "output_type": "stream",
          "name": "stdout",
          "text": [
            "False\n"
          ]
        }
      ]
    },
    {
      "cell_type": "markdown",
      "source": [
        "## 6. Summarizing the entire dataset"
      ],
      "metadata": {
        "id": "N9Q8rWRiFHwu"
      }
    },
    {
      "cell_type": "code",
      "source": [
        "df.describe(include='all').T"
      ],
      "metadata": {
        "colab": {
          "base_uri": "https://localhost:8080/",
          "height": 234
        },
        "id": "flz_te6mEhcV",
        "outputId": "0c9f1080-14b8-436d-a166-1e4720038bfd"
      },
      "execution_count": 7,
      "outputs": [
        {
          "output_type": "execute_result",
          "data": {
            "application/vnd.google.colaboratory.module+javascript": "\n      import \"https://ssl.gstatic.com/colaboratory/data_table/a6224c040fa35dcf/data_table.js\";\n\n      window.createDataTable({\n        data: [[\"year\",\n{\n            'v': 10134.0,\n            'f': \"10134.0\",\n        },\n{\n            'v': NaN,\n            'f': \"NaN\",\n        },\nNaN,\n{\n            'v': NaN,\n            'f': \"NaN\",\n        },\n{\n            'v': 1993.5792382080126,\n            'f': \"1993.5792382080126\",\n        },\n{\n            'v': 16.841719871980548,\n            'f': \"16.841719871980548\",\n        },\n{\n            'v': 1960.0,\n            'f': \"1960.0\",\n        },\n{\n            'v': 1980.0,\n            'f': \"1980.0\",\n        },\n{\n            'v': 1995.0,\n            'f': \"1995.0\",\n        },\n{\n            'v': 2008.0,\n            'f': \"2008.0\",\n        },\n{\n            'v': 2020.0,\n            'f': \"2020.0\",\n        }],\n [\"rank\",\n{\n            'v': 10134.0,\n            'f': \"10134.0\",\n        },\n{\n            'v': NaN,\n            'f': \"NaN\",\n        },\nNaN,\n{\n            'v': NaN,\n            'f': \"NaN\",\n        },\n{\n            'v': 87.35306887704756,\n            'f': \"87.35306887704756\",\n        },\n{\n            'v': 53.68899434743653,\n            'f': \"53.68899434743653\",\n        },\n{\n            'v': 1.0,\n            'f': \"1.0\",\n        },\n{\n            'v': 42.0,\n            'f': \"42.0\",\n        },\n{\n            'v': 84.0,\n            'f': \"84.0\",\n        },\n{\n            'v': 128.0,\n            'f': \"128.0\",\n        },\n{\n            'v': 206.0,\n            'f': \"206.0\",\n        }],\n [\"country\",\n{\n            'v': 10134,\n            'f': \"10134\",\n        },\n{\n            'v': 209,\n            'f': \"209\",\n        },\n\"Dominica\",\n{\n            'v': 105,\n            'f': \"105\",\n        },\n{\n            'v': NaN,\n            'f': \"NaN\",\n        },\n{\n            'v': NaN,\n            'f': \"NaN\",\n        },\n{\n            'v': NaN,\n            'f': \"NaN\",\n        },\n{\n            'v': NaN,\n            'f': \"NaN\",\n        },\n{\n            'v': NaN,\n            'f': \"NaN\",\n        },\n{\n            'v': NaN,\n            'f': \"NaN\",\n        },\n{\n            'v': NaN,\n            'f': \"NaN\",\n        }],\n [\"state\",\n{\n            'v': 10134,\n            'f': \"10134\",\n        },\n{\n            'v': 5,\n            'f': \"5\",\n        },\n\"Africa\",\n{\n            'v': 2854,\n            'f': \"2854\",\n        },\n{\n            'v': NaN,\n            'f': \"NaN\",\n        },\n{\n            'v': NaN,\n            'f': \"NaN\",\n        },\n{\n            'v': NaN,\n            'f': \"NaN\",\n        },\n{\n            'v': NaN,\n            'f': \"NaN\",\n        },\n{\n            'v': NaN,\n            'f': \"NaN\",\n        },\n{\n            'v': NaN,\n            'f': \"NaN\",\n        },\n{\n            'v': NaN,\n            'f': \"NaN\",\n        }],\n [\"gdp\",\n{\n            'v': 10134.0,\n            'f': \"10134.0\",\n        },\n{\n            'v': NaN,\n            'f': \"NaN\",\n        },\nNaN,\n{\n            'v': NaN,\n            'f': \"NaN\",\n        },\n{\n            'v': 177358395462.17416,\n            'f': \"177358395462.17416\",\n        },\n{\n            'v': 952288816102.7578,\n            'f': \"952288816102.7578\",\n        },\n{\n            'v': 8824447.0,\n            'f': \"8824447.0\",\n        },\n{\n            'v': 1380725319.75,\n            'f': \"1380725319.75\",\n        },\n{\n            'v': 7559956503.5,\n            'f': \"7559956503.5\",\n        },\n{\n            'v': 49956624572.75,\n            'f': \"49956624572.75\",\n        },\n{\n            'v': 21433224697000.0,\n            'f': \"21433224697000.0\",\n        }],\n [\"gdp_percent\",\n{\n            'v': 10134.0,\n            'f': \"10134.0\",\n        },\n{\n            'v': NaN,\n            'f': \"NaN\",\n        },\nNaN,\n{\n            'v': NaN,\n            'f': \"NaN\",\n        },\n{\n            'v': 0.00601934083283995,\n            'f': \"0.00601934083283995\",\n        },\n{\n            'v': 0.027480222166207942,\n            'f': \"0.027480222166207942\",\n        },\n{\n            'v': 3.5506826058563017e-07,\n            'f': \"3.5506826058563017e-07\",\n        },\n{\n            'v': 8.875238670091025e-05,\n            'f': \"8.875238670091025e-05\",\n        },\n{\n            'v': 0.00036502132502835925,\n            'f': \"0.00036502132502835925\",\n        },\n{\n            'v': 0.0024997415006963323,\n            'f': \"0.0024997415006963323\",\n        },\n{\n            'v': 0.4684827009771657,\n            'f': \"0.4684827009771657\",\n        }]],\n        columns: [[\"string\", \"index\"], [\"number\", \"count\"], [\"number\", \"unique\"], [\"string\", \"top\"], [\"number\", \"freq\"], [\"number\", \"mean\"], [\"number\", \"std\"], [\"number\", \"min\"], [\"number\", \"25%\"], [\"number\", \"50%\"], [\"number\", \"75%\"], [\"number\", \"max\"]],\n        columnOptions: [{\"width\": \"1px\", \"className\": \"index_column\"}],\n        rowsPerPage: 25,\n        helpUrl: \"https://colab.research.google.com/notebooks/data_table.ipynb\",\n        suppressOutputScrolling: true,\n        minimumWidth: undefined,\n      });\n    ",
            "text/html": [
              "\n",
              "  <div id=\"df-372c577a-f447-4085-afef-1469eeb7d94d\">\n",
              "    <div class=\"colab-df-container\">\n",
              "      <div>\n",
              "<style scoped>\n",
              "    .dataframe tbody tr th:only-of-type {\n",
              "        vertical-align: middle;\n",
              "    }\n",
              "\n",
              "    .dataframe tbody tr th {\n",
              "        vertical-align: top;\n",
              "    }\n",
              "\n",
              "    .dataframe thead th {\n",
              "        text-align: right;\n",
              "    }\n",
              "</style>\n",
              "<table border=\"1\" class=\"dataframe\">\n",
              "  <thead>\n",
              "    <tr style=\"text-align: right;\">\n",
              "      <th></th>\n",
              "      <th>count</th>\n",
              "      <th>unique</th>\n",
              "      <th>top</th>\n",
              "      <th>freq</th>\n",
              "      <th>mean</th>\n",
              "      <th>std</th>\n",
              "      <th>min</th>\n",
              "      <th>25%</th>\n",
              "      <th>50%</th>\n",
              "      <th>75%</th>\n",
              "      <th>max</th>\n",
              "    </tr>\n",
              "  </thead>\n",
              "  <tbody>\n",
              "    <tr>\n",
              "      <th>year</th>\n",
              "      <td>10134</td>\n",
              "      <td>NaN</td>\n",
              "      <td>NaN</td>\n",
              "      <td>NaN</td>\n",
              "      <td>1993.58</td>\n",
              "      <td>16.8417</td>\n",
              "      <td>1960</td>\n",
              "      <td>1980</td>\n",
              "      <td>1995</td>\n",
              "      <td>2008</td>\n",
              "      <td>2020</td>\n",
              "    </tr>\n",
              "    <tr>\n",
              "      <th>rank</th>\n",
              "      <td>10134</td>\n",
              "      <td>NaN</td>\n",
              "      <td>NaN</td>\n",
              "      <td>NaN</td>\n",
              "      <td>87.3531</td>\n",
              "      <td>53.689</td>\n",
              "      <td>1</td>\n",
              "      <td>42</td>\n",
              "      <td>84</td>\n",
              "      <td>128</td>\n",
              "      <td>206</td>\n",
              "    </tr>\n",
              "    <tr>\n",
              "      <th>country</th>\n",
              "      <td>10134</td>\n",
              "      <td>209</td>\n",
              "      <td>Dominica</td>\n",
              "      <td>105</td>\n",
              "      <td>NaN</td>\n",
              "      <td>NaN</td>\n",
              "      <td>NaN</td>\n",
              "      <td>NaN</td>\n",
              "      <td>NaN</td>\n",
              "      <td>NaN</td>\n",
              "      <td>NaN</td>\n",
              "    </tr>\n",
              "    <tr>\n",
              "      <th>state</th>\n",
              "      <td>10134</td>\n",
              "      <td>5</td>\n",
              "      <td>Africa</td>\n",
              "      <td>2854</td>\n",
              "      <td>NaN</td>\n",
              "      <td>NaN</td>\n",
              "      <td>NaN</td>\n",
              "      <td>NaN</td>\n",
              "      <td>NaN</td>\n",
              "      <td>NaN</td>\n",
              "      <td>NaN</td>\n",
              "    </tr>\n",
              "    <tr>\n",
              "      <th>gdp</th>\n",
              "      <td>10134</td>\n",
              "      <td>NaN</td>\n",
              "      <td>NaN</td>\n",
              "      <td>NaN</td>\n",
              "      <td>1.77358e+11</td>\n",
              "      <td>9.52289e+11</td>\n",
              "      <td>8.82445e+06</td>\n",
              "      <td>1.38073e+09</td>\n",
              "      <td>7.55996e+09</td>\n",
              "      <td>4.99566e+10</td>\n",
              "      <td>2.14332e+13</td>\n",
              "    </tr>\n",
              "    <tr>\n",
              "      <th>gdp_percent</th>\n",
              "      <td>10134</td>\n",
              "      <td>NaN</td>\n",
              "      <td>NaN</td>\n",
              "      <td>NaN</td>\n",
              "      <td>0.00601934</td>\n",
              "      <td>0.0274802</td>\n",
              "      <td>3.55068e-07</td>\n",
              "      <td>8.87524e-05</td>\n",
              "      <td>0.000365021</td>\n",
              "      <td>0.00249974</td>\n",
              "      <td>0.468483</td>\n",
              "    </tr>\n",
              "  </tbody>\n",
              "</table>\n",
              "</div>\n",
              "      <button class=\"colab-df-convert\" onclick=\"convertToInteractive('df-372c577a-f447-4085-afef-1469eeb7d94d')\"\n",
              "              title=\"Convert this dataframe to an interactive table.\"\n",
              "              style=\"display:none;\">\n",
              "        \n",
              "  <svg xmlns=\"http://www.w3.org/2000/svg\" height=\"24px\"viewBox=\"0 0 24 24\"\n",
              "       width=\"24px\">\n",
              "    <path d=\"M0 0h24v24H0V0z\" fill=\"none\"/>\n",
              "    <path d=\"M18.56 5.44l.94 2.06.94-2.06 2.06-.94-2.06-.94-.94-2.06-.94 2.06-2.06.94zm-11 1L8.5 8.5l.94-2.06 2.06-.94-2.06-.94L8.5 2.5l-.94 2.06-2.06.94zm10 10l.94 2.06.94-2.06 2.06-.94-2.06-.94-.94-2.06-.94 2.06-2.06.94z\"/><path d=\"M17.41 7.96l-1.37-1.37c-.4-.4-.92-.59-1.43-.59-.52 0-1.04.2-1.43.59L10.3 9.45l-7.72 7.72c-.78.78-.78 2.05 0 2.83L4 21.41c.39.39.9.59 1.41.59.51 0 1.02-.2 1.41-.59l7.78-7.78 2.81-2.81c.8-.78.8-2.07 0-2.86zM5.41 20L4 18.59l7.72-7.72 1.47 1.35L5.41 20z\"/>\n",
              "  </svg>\n",
              "      </button>\n",
              "      \n",
              "  <style>\n",
              "    .colab-df-container {\n",
              "      display:flex;\n",
              "      flex-wrap:wrap;\n",
              "      gap: 12px;\n",
              "    }\n",
              "\n",
              "    .colab-df-convert {\n",
              "      background-color: #E8F0FE;\n",
              "      border: none;\n",
              "      border-radius: 50%;\n",
              "      cursor: pointer;\n",
              "      display: none;\n",
              "      fill: #1967D2;\n",
              "      height: 32px;\n",
              "      padding: 0 0 0 0;\n",
              "      width: 32px;\n",
              "    }\n",
              "\n",
              "    .colab-df-convert:hover {\n",
              "      background-color: #E2EBFA;\n",
              "      box-shadow: 0px 1px 2px rgba(60, 64, 67, 0.3), 0px 1px 3px 1px rgba(60, 64, 67, 0.15);\n",
              "      fill: #174EA6;\n",
              "    }\n",
              "\n",
              "    [theme=dark] .colab-df-convert {\n",
              "      background-color: #3B4455;\n",
              "      fill: #D2E3FC;\n",
              "    }\n",
              "\n",
              "    [theme=dark] .colab-df-convert:hover {\n",
              "      background-color: #434B5C;\n",
              "      box-shadow: 0px 1px 3px 1px rgba(0, 0, 0, 0.15);\n",
              "      filter: drop-shadow(0px 1px 2px rgba(0, 0, 0, 0.3));\n",
              "      fill: #FFFFFF;\n",
              "    }\n",
              "  </style>\n",
              "\n",
              "      <script>\n",
              "        const buttonEl =\n",
              "          document.querySelector('#df-372c577a-f447-4085-afef-1469eeb7d94d button.colab-df-convert');\n",
              "        buttonEl.style.display =\n",
              "          google.colab.kernel.accessAllowed ? 'block' : 'none';\n",
              "\n",
              "        async function convertToInteractive(key) {\n",
              "          const element = document.querySelector('#df-372c577a-f447-4085-afef-1469eeb7d94d');\n",
              "          const dataTable =\n",
              "            await google.colab.kernel.invokeFunction('convertToInteractive',\n",
              "                                                     [key], {});\n",
              "          if (!dataTable) return;\n",
              "\n",
              "          const docLinkHtml = 'Like what you see? Visit the ' +\n",
              "            '<a target=\"_blank\" href=https://colab.research.google.com/notebooks/data_table.ipynb>data table notebook</a>'\n",
              "            + ' to learn more about interactive tables.';\n",
              "          element.innerHTML = '';\n",
              "          dataTable['output_type'] = 'display_data';\n",
              "          await google.colab.output.renderOutput(dataTable, element);\n",
              "          const docLink = document.createElement('div');\n",
              "          docLink.innerHTML = docLinkHtml;\n",
              "          element.appendChild(docLink);\n",
              "        }\n",
              "      </script>\n",
              "    </div>\n",
              "  </div>\n",
              "  "
            ],
            "text/plain": [
              "             count unique       top  ...          50%          75%          max\n",
              "year         10134    NaN       NaN  ...         1995         2008         2020\n",
              "rank         10134    NaN       NaN  ...           84          128          206\n",
              "country      10134    209  Dominica  ...          NaN          NaN          NaN\n",
              "state        10134      5    Africa  ...          NaN          NaN          NaN\n",
              "gdp          10134    NaN       NaN  ...  7.55996e+09  4.99566e+10  2.14332e+13\n",
              "gdp_percent  10134    NaN       NaN  ...  0.000365021   0.00249974     0.468483\n",
              "\n",
              "[6 rows x 11 columns]"
            ]
          },
          "metadata": {},
          "execution_count": 7
        }
      ]
    },
    {
      "cell_type": "markdown",
      "source": [
        "## 7. Displaying statistical insights"
      ],
      "metadata": {
        "id": "8uF-75UqFMbI"
      }
    },
    {
      "cell_type": "code",
      "source": [
        "print(\"Mean GDP =\",df['gdp'].mean())\n",
        "print(\"Median GDP =\",df['gdp'].median())\n",
        "print(\"Mean GDP % =\",df['gdp_percent'].mean())\n",
        "print(\"Median GDP % =\",df['gdp_percent'].median())"
      ],
      "metadata": {
        "colab": {
          "base_uri": "https://localhost:8080/"
        },
        "id": "lce0AVpdEjSB",
        "outputId": "2d25b60a-c1b9-429f-d337-935bb3a1acb9"
      },
      "execution_count": 8,
      "outputs": [
        {
          "output_type": "stream",
          "name": "stdout",
          "text": [
            "Mean GDP = 177358395462.17416\n",
            "Median GDP = 7559956503.5\n",
            "Mean GDP % = 0.00601934083283995\n",
            "Median GDP % = 0.00036502132502835925\n"
          ]
        }
      ]
    },
    {
      "cell_type": "markdown",
      "source": [
        "## 8. Visualization of Insights"
      ],
      "metadata": {
        "id": "gvQq0ZZwFQOG"
      }
    },
    {
      "cell_type": "code",
      "source": [
        "fig=plt.figure(figsize=(14,5))\n",
        "tmp = df[['year','state','gdp']].groupby(['year','state']).mean().reset_index()\n",
        "sns.barplot(data=tmp,x='year',y='gdp',hue='state')\n",
        "plt.title('Mean for state GDP from 1960 to 2020')\n",
        "plt.show()"
      ],
      "metadata": {
        "colab": {
          "base_uri": "https://localhost:8080/",
          "height": 350
        },
        "id": "7EoN9nSpEovd",
        "outputId": "1913df14-beac-4102-b557-ccafe86f2ead"
      },
      "execution_count": 9,
      "outputs": [
        {
          "output_type": "display_data",
          "data": {
            "image/png": "[encoded data removed]",
            "text/plain": [
              "<Figure size 1008x360 with 1 Axes>"
            ]
          },
          "metadata": {
            "needs_background": "light"
          }
        }
      ]
    },
    {
      "cell_type": "code",
      "source": [
        "countries = list(df[df['year']==2020][df['rank']<=10]['country'].unique())\n",
        "tmp = df.copy()\n",
        "tmp['top10'] = tmp['country'].apply(lambda x:x in countries)\n",
        "tmp = tmp[tmp['top10']==True].sort_values('year')\n",
        "fig = plt.figure(figsize=(15,7))\n",
        "sns.lineplot(data=tmp,x='year',y='gdp',hue='country')\n",
        "plt.title('Top10 GDP countries in 2020',color=\"skyblue\",size=40)\n",
        "tmp['gdp_growth'] = tmp['gdp'] - tmp['gdp'].shift(1)\n",
        "plt.legend()\n",
        "plt.title(\"Top Rising GDPs in 2020\")\n",
        "plt.show()"
      ],
      "metadata": {
        "colab": {
          "base_uri": "https://localhost:8080/",
          "height": 494
        },
        "id": "WRvv-MIDErEU",
        "outputId": "5ff9a7fa-ef92-473f-f5d5-f7ac3acc42c6"
      },
      "execution_count": 10,
      "outputs": [
        {
          "output_type": "stream",
          "name": "stderr",
          "text": [
            "/usr/local/lib/python3.7/dist-packages/ipykernel_launcher.py:1: UserWarning: Boolean Series key will be reindexed to match DataFrame index.\n",
            "  \"\"\"Entry point for launching an IPython kernel.\n"
          ]
        },
        {
          "output_type": "display_data",
          "data": {
            "image/png": "[encoded data removed]",
            "text/plain": [
              "<Figure size 1080x504 with 1 Axes>"
            ]
          },
          "metadata": {
            "needs_background": "light"
          }
        }
      ]
    },
    {
      "cell_type": "code",
      "source": [
        ""
      ],
      "metadata": {
        "id": "6YL9q442Eu3j"
      },
      "execution_count": null,
      "outputs": []
    }
  ]
}