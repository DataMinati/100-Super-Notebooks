{
  "metadata": {
    "kernelspec": {
      "language": "python",
      "display_name": "Python 3",
      "name": "python3"
    },
    "language_info": {
      "name": "python",
      "version": "3.7.10",
      "mimetype": "text/x-python",
      "codemirror_mode": {
        "name": "ipython",
        "version": 3
      },
      "pygments_lexer": "ipython3",
      "nbconvert_exporter": "python",
      "file_extension": ".py"
    },
    "colab": {
      "name": "Maize leaf disease prediction",
      "provenance": [],
      "include_colab_link": true
    }
  },
  "nbformat_minor": 0,
  "nbformat": 4,
  "cells": [
    {
      "cell_type": "markdown",
      "metadata": {
        "id": "view-in-github",
        "colab_type": "text"
      },
      "source": [
        "<a href=\"https://colab.research.google.com/github/DataMinati/Super-Notebooks-100/blob/main/Maize_leaf_disease_prediction.ipynb\" target=\"_parent\"><img src=\"https://colab.research.google.com/assets/colab-badge.svg\" alt=\"Open In Colab\"/></a>"
      ]
    },
    {
      "cell_type": "markdown",
      "source": [
        "Import neccessary packages"
      ],
      "metadata": {
        "_uuid": "1020827e241ac87ffdf8e0f8762a6885bdc28fbc",
        "id": "uIIiTYmQRaoc"
      }
    },
    {
      "cell_type": "code",
      "source": [
        "import numpy as np\n",
        "import pickle\n",
        "import cv2\n",
        "from os import listdir\n",
        "from sklearn.preprocessing import LabelBinarizer\n",
        "from keras.models import Sequential\n",
        "from keras.layers.normalization import BatchNormalization\n",
        "from keras.layers.convolutional import Conv2D\n",
        "from keras.layers.convolutional import MaxPooling2D\n",
        "from keras.layers.core import Activation, Flatten, Dropout, Dense\n",
        "from keras import backend as K\n",
        "from keras.preprocessing.image import ImageDataGenerator\n",
        "from keras.optimizers import SGD,RMSprop,Adam, Adadelta\n",
        "from keras.preprocessing import image\n",
        "from keras.preprocessing.image import img_to_array\n",
        "from sklearn.preprocessing import MultiLabelBinarizer\n",
        "from sklearn.model_selection import train_test_split\n",
        "import matplotlib.pyplot as plt\n",
        "\n",
        "import os\n",
        "from keras.callbacks import EarlyStopping, ModelCheckpoint\n",
        "from subprocess import check_output\n",
        "print(check_output([\"ls\", \"../input/corndieases/corn disease\"]).decode(\"utf8\"))\n"
      ],
      "metadata": {
        "_cell_guid": "b1076dfc-b9ad-4769-8c92-a6c4dae69d19",
        "_uuid": "8f2839f25d086af736a60e9eeb907d3b93b6e0e5",
        "execution": {
          "iopub.status.busy": "2021-07-12T10:27:53.701848Z",
          "iopub.execute_input": "2021-07-12T10:27:53.702724Z",
          "iopub.status.idle": "2021-07-12T10:28:00.389562Z",
          "shell.execute_reply.started": "2021-07-12T10:27:53.702600Z",
          "shell.execute_reply": "2021-07-12T10:28:00.387404Z"
        },
        "trusted": true,
        "id": "zvyP7mSVRaoh",
        "outputId": "33fc980b-4673-4762-f06b-0361b1c9cf9d"
      },
      "execution_count": null,
      "outputs": [
        {
          "name": "stdout",
          "text": " healthy\nCercospora leaf spot Gray leaf spot\nCommon rust\nNorthern Leaf Blight\n\n",
          "output_type": "stream"
        }
      ]
    },
    {
      "cell_type": "code",
      "source": [
        "import os\n",
        "print(os.listdir(\"../input/corndieases/corn disease\"))"
      ],
      "metadata": {
        "execution": {
          "iopub.status.busy": "2021-07-12T10:28:00.393003Z",
          "iopub.execute_input": "2021-07-12T10:28:00.393551Z",
          "iopub.status.idle": "2021-07-12T10:28:00.402869Z",
          "shell.execute_reply.started": "2021-07-12T10:28:00.393501Z",
          "shell.execute_reply": "2021-07-12T10:28:00.401136Z"
        },
        "trusted": true,
        "id": "cj-ZAUBrRaok",
        "outputId": "f8947fc0-0e1c-4958-8216-d5b71c64461e"
      },
      "execution_count": null,
      "outputs": [
        {
          "name": "stdout",
          "text": "['Northern Leaf Blight', 'Common rust', ' healthy', 'Cercospora leaf spot Gray leaf spot']\n",
          "output_type": "stream"
        }
      ]
    },
    {
      "cell_type": "code",
      "source": [
        "n = 224"
      ],
      "metadata": {
        "execution": {
          "iopub.status.busy": "2021-07-12T10:28:00.406625Z",
          "iopub.execute_input": "2021-07-12T10:28:00.407062Z",
          "iopub.status.idle": "2021-07-12T10:28:00.412743Z",
          "shell.execute_reply.started": "2021-07-12T10:28:00.407020Z",
          "shell.execute_reply": "2021-07-12T10:28:00.411205Z"
        },
        "trusted": true,
        "id": "IoVL6nt6Raok"
      },
      "execution_count": null,
      "outputs": []
    },
    {
      "cell_type": "code",
      "source": [
        "EPOCHS = 50\n",
        "\n",
        "INIT_LR = 1e-4\n",
        "BS = 64\n",
        "default_image_size = tuple((n, n))\n",
        "image_size = 0\n",
        "directory_root = '../input/corndieases/'\n",
        "width=n\n",
        "height=n\n",
        "depth=3"
      ],
      "metadata": {
        "_uuid": "7c3354a78e21a1a62ad0c4689d0ab3238fb760d4",
        "execution": {
          "iopub.status.busy": "2021-07-12T10:28:00.415285Z",
          "iopub.execute_input": "2021-07-12T10:28:00.415855Z",
          "iopub.status.idle": "2021-07-12T10:28:00.425340Z",
          "shell.execute_reply.started": "2021-07-12T10:28:00.415768Z",
          "shell.execute_reply": "2021-07-12T10:28:00.424058Z"
        },
        "trusted": true,
        "id": "YNghgOaiRaol"
      },
      "execution_count": null,
      "outputs": []
    },
    {
      "cell_type": "markdown",
      "source": [
        "Function to convert images to array"
      ],
      "metadata": {
        "_uuid": "2bf7ac0a0b805946f844a48e55d5281403e53f57",
        "id": "i6AFOLVFRaol"
      }
    },
    {
      "cell_type": "code",
      "source": [
        "def convert_image_to_array(image_dir):\n",
        "    try:\n",
        "        image = cv2.imread(image_dir)\n",
        "        if image is not None :\n",
        "            image = cv2.resize(image, default_image_size)   \n",
        "            return img_to_array(image)\n",
        "        else :\n",
        "            return np.array([])\n",
        "    except Exception as e:\n",
        "        print(f\"Error : {e}\")\n",
        "        return None"
      ],
      "metadata": {
        "_uuid": "c9c3e60b13ace6c8f3e54336e12f9970fde438a3",
        "execution": {
          "iopub.status.busy": "2021-07-12T10:50:49.425515Z",
          "iopub.execute_input": "2021-07-12T10:50:49.425858Z",
          "iopub.status.idle": "2021-07-12T10:50:49.432393Z",
          "shell.execute_reply.started": "2021-07-12T10:50:49.425830Z",
          "shell.execute_reply": "2021-07-12T10:50:49.430435Z"
        },
        "trusted": true,
        "id": "3DUhBWm_Raom"
      },
      "execution_count": null,
      "outputs": []
    },
    {
      "cell_type": "markdown",
      "source": [
        "Fetch images from directory"
      ],
      "metadata": {
        "_uuid": "24d42b87fad54a9556f78357ce673cc5152468c1",
        "id": "f8WAHM12Raon"
      }
    },
    {
      "cell_type": "code",
      "source": [
        "image_list, label_list = [], []\n",
        "try:\n",
        "    print(\"[INFO] Loading images ...\")\n",
        "    root_dir = listdir(directory_root)\n",
        "    for directory in root_dir :\n",
        "        # remove .DS_Store from list\n",
        "        if directory == \".DS_Store\" :\n",
        "            root_dir.remove(directory)\n",
        "\n",
        "    for plant_folder in root_dir :\n",
        "        plant_disease_folder_list = listdir(f\"{directory_root}/{plant_folder}\")\n",
        "        \n",
        "        for disease_folder in plant_disease_folder_list :\n",
        "            # remove .DS_Store from list\n",
        "            if disease_folder == \".DS_Store\" :\n",
        "                plant_disease_folder_list.remove(disease_folder)\n",
        "\n",
        "        for plant_disease_folder in plant_disease_folder_list:\n",
        "            print(f\"[INFO] Processing {plant_disease_folder} ...\")\n",
        "            plant_disease_image_list = listdir(f\"{directory_root}/{plant_folder}/{plant_disease_folder}/\")\n",
        "                \n",
        "            for single_plant_disease_image in plant_disease_image_list :\n",
        "                if single_plant_disease_image == \".DS_Store\" :\n",
        "                    plant_disease_image_list.remove(single_plant_disease_image)\n",
        "\n",
        "            for image in plant_disease_image_list:\n",
        "                image_directory = f\"{directory_root}/{plant_folder}/{plant_disease_folder}/{image}\"\n",
        "                if image_directory.endswith(\".jpg\") == True or image_directory.endswith(\".JPG\") == True:\n",
        "                    image_list.append(convert_image_to_array(image_directory))\n",
        "                    label_list.append(plant_disease_folder)\n",
        "    print(\"[INFO] Image loading completed\")  \n",
        "except Exception as e:\n",
        "    print(f\"Error : {e}\")"
      ],
      "metadata": {
        "_uuid": "bb8d4c343314028f52ae3c3a840478a834a16c95",
        "execution": {
          "iopub.status.busy": "2021-07-12T10:50:51.732946Z",
          "iopub.execute_input": "2021-07-12T10:50:51.733413Z",
          "iopub.status.idle": "2021-07-12T10:51:22.963167Z",
          "shell.execute_reply.started": "2021-07-12T10:50:51.733356Z",
          "shell.execute_reply": "2021-07-12T10:51:22.961944Z"
        },
        "trusted": true,
        "id": "7osJIOKvRaon",
        "outputId": "f5e474cc-46ee-4afb-d84d-3b598a13cbf1"
      },
      "execution_count": null,
      "outputs": [
        {
          "name": "stdout",
          "text": "[INFO] Loading images ...\n[INFO] Processing Northern Leaf Blight ...\n[INFO] Processing Common rust ...\n[INFO] Processing  healthy ...\n[INFO] Processing Cercospora leaf spot Gray leaf spot ...\n[INFO] Image loading completed\n",
          "output_type": "stream"
        }
      ]
    },
    {
      "cell_type": "markdown",
      "source": [
        "Get Size of Processed Image"
      ],
      "metadata": {
        "_uuid": "35c4b76d33e0263523e479657580104532f81d6e",
        "id": "H_ySNLOERaoo"
      }
    },
    {
      "cell_type": "code",
      "source": [
        "image_size = len(image_list)\n",
        "print(image_size)"
      ],
      "metadata": {
        "_uuid": "6ee1ad9c422f112ec2862699b5c0f68b8d658123",
        "execution": {
          "iopub.status.busy": "2021-07-12T10:51:22.965351Z",
          "iopub.execute_input": "2021-07-12T10:51:22.966073Z",
          "iopub.status.idle": "2021-07-12T10:51:22.972823Z",
          "shell.execute_reply.started": "2021-07-12T10:51:22.966028Z",
          "shell.execute_reply": "2021-07-12T10:51:22.971165Z"
        },
        "trusted": true,
        "id": "1n0CLZqXRaop",
        "outputId": "c1dacbe4-df87-49d7-b9d6-7b94080cfa59"
      },
      "execution_count": null,
      "outputs": [
        {
          "name": "stdout",
          "text": "4365\n",
          "output_type": "stream"
        }
      ]
    },
    {
      "cell_type": "markdown",
      "source": [
        "Transform Image Labels uisng [Scikit Learn](http://scikit-learn.org/)'s LabelBinarizer"
      ],
      "metadata": {
        "_uuid": "905b41b226f3fd82a88e67821eb42a07f24b31f7",
        "id": "4p30ck_rRaop"
      }
    },
    {
      "cell_type": "code",
      "source": [
        "label_binarizer = LabelBinarizer()\n",
        "image_labels = label_binarizer.fit_transform(label_list)\n",
        "pickle.dump(label_binarizer,open('label_transform.pkl', 'wb'))\n",
        "n_classes = len(label_binarizer.classes_)"
      ],
      "metadata": {
        "_uuid": "904ff893fe14f5060dd9e7be2ccf96ec793597e5",
        "execution": {
          "iopub.status.busy": "2021-07-12T10:51:22.975797Z",
          "iopub.execute_input": "2021-07-12T10:51:22.976489Z",
          "iopub.status.idle": "2021-07-12T10:51:23.003343Z",
          "shell.execute_reply.started": "2021-07-12T10:51:22.976445Z",
          "shell.execute_reply": "2021-07-12T10:51:23.002328Z"
        },
        "trusted": true,
        "id": "bckGoZzjRaop"
      },
      "execution_count": null,
      "outputs": []
    },
    {
      "cell_type": "markdown",
      "source": [
        "Print the classes"
      ],
      "metadata": {
        "_uuid": "f860c29a1d714f06d25e6a0c5bca94739e5d24cc",
        "id": "O4N5XCTRRaoq"
      }
    },
    {
      "cell_type": "code",
      "source": [
        "print(label_binarizer.classes_)"
      ],
      "metadata": {
        "_uuid": "0f876397c40c3c8aa09772a92fd60481fc9ba268",
        "execution": {
          "iopub.status.busy": "2021-07-12T10:51:23.005223Z",
          "iopub.execute_input": "2021-07-12T10:51:23.005699Z",
          "iopub.status.idle": "2021-07-12T10:51:23.011509Z",
          "shell.execute_reply.started": "2021-07-12T10:51:23.005658Z",
          "shell.execute_reply": "2021-07-12T10:51:23.010154Z"
        },
        "trusted": true,
        "id": "OrG5j6joRaoq",
        "outputId": "cc558822-bd0f-4c86-a92f-41e4759f50d0"
      },
      "execution_count": null,
      "outputs": [
        {
          "name": "stdout",
          "text": "[' healthy' 'Cercospora leaf spot Gray leaf spot' 'Common rust'\n 'Northern Leaf Blight']\n",
          "output_type": "stream"
        }
      ]
    },
    {
      "cell_type": "code",
      "source": [
        "np_image_list = np.array(image_list, dtype=np.float32) / 255.0"
      ],
      "metadata": {
        "_uuid": "6cd9c977b3d164a5570a0c24fdd8624adb9d56b8",
        "execution": {
          "iopub.status.busy": "2021-07-12T10:51:23.013426Z",
          "iopub.execute_input": "2021-07-12T10:51:23.014398Z",
          "iopub.status.idle": "2021-07-12T10:51:27.380128Z",
          "shell.execute_reply.started": "2021-07-12T10:51:23.014354Z",
          "shell.execute_reply": "2021-07-12T10:51:27.378920Z"
        },
        "trusted": true,
        "id": "kxEHFuHARaor"
      },
      "execution_count": null,
      "outputs": []
    },
    {
      "cell_type": "code",
      "source": [
        "print(\"[INFO] Spliting data to train, test\")\n",
        "x_train, x_test, y_train, y_test = train_test_split(np_image_list, image_labels, test_size=0.2, random_state = 42) "
      ],
      "metadata": {
        "_uuid": "9f4829560fdfa218cee18c1cfb2eb9452ef180e5",
        "execution": {
          "iopub.status.busy": "2021-07-12T10:51:27.383199Z",
          "iopub.execute_input": "2021-07-12T10:51:27.383617Z",
          "iopub.status.idle": "2021-07-12T10:51:28.375927Z",
          "shell.execute_reply.started": "2021-07-12T10:51:27.383575Z",
          "shell.execute_reply": "2021-07-12T10:51:28.374860Z"
        },
        "trusted": true,
        "id": "Ymg-woSVRaor",
        "outputId": "eb60ddaa-c3e5-4760-baa0-edaeeeb518cc"
      },
      "execution_count": null,
      "outputs": [
        {
          "name": "stdout",
          "text": "[INFO] Spliting data to train, test\n",
          "output_type": "stream"
        }
      ]
    },
    {
      "cell_type": "markdown",
      "source": [
        "# Taking 200 images seperate for final testing"
      ],
      "metadata": {
        "id": "-dk1_IWuRaor"
      }
    },
    {
      "cell_type": "code",
      "source": [
        "x_test_final = x_test[-200:]\n",
        "y_test_final = y_test[-200:]\n",
        "\n",
        "x_test = x_test[:-200]\n",
        "y_test = y_test[:-200]"
      ],
      "metadata": {
        "execution": {
          "iopub.status.busy": "2021-07-12T10:51:28.377509Z",
          "iopub.execute_input": "2021-07-12T10:51:28.377979Z",
          "iopub.status.idle": "2021-07-12T10:51:28.385627Z",
          "shell.execute_reply.started": "2021-07-12T10:51:28.377906Z",
          "shell.execute_reply": "2021-07-12T10:51:28.384135Z"
        },
        "trusted": true,
        "id": "atbJog5TRaos"
      },
      "execution_count": null,
      "outputs": []
    },
    {
      "cell_type": "code",
      "source": [
        "aug = ImageDataGenerator(\n",
        "    rotation_range=25, width_shift_range=0.1,\n",
        "    height_shift_range=0.1, shear_range=0.2, \n",
        "    zoom_range=0.2,horizontal_flip=True, \n",
        "    fill_mode=\"nearest\")"
      ],
      "metadata": {
        "_uuid": "eec8afa64e676d52c814fc8e096955a60f13b6c5",
        "execution": {
          "iopub.status.busy": "2021-07-12T10:51:28.389604Z",
          "iopub.execute_input": "2021-07-12T10:51:28.390456Z",
          "iopub.status.idle": "2021-07-12T10:51:28.400513Z",
          "shell.execute_reply.started": "2021-07-12T10:51:28.390351Z",
          "shell.execute_reply": "2021-07-12T10:51:28.398875Z"
        },
        "trusted": true,
        "id": "UErNVlMoRaos"
      },
      "execution_count": null,
      "outputs": []
    },
    {
      "cell_type": "code",
      "source": [
        "from keras import layers\n",
        "from keras.models import Model\n",
        "\n",
        "from keras.applications import VGG16"
      ],
      "metadata": {
        "_cell_guid": "79c7e3d0-c299-4dcb-8224-4455121ee9b0",
        "_uuid": "d629ff2d2480ee46fbb7e2d37f6b5fab8052498a",
        "execution": {
          "iopub.status.busy": "2021-07-12T10:51:28.402848Z",
          "iopub.execute_input": "2021-07-12T10:51:28.403692Z",
          "iopub.status.idle": "2021-07-12T10:51:28.413324Z",
          "shell.execute_reply.started": "2021-07-12T10:51:28.403649Z",
          "shell.execute_reply": "2021-07-12T10:51:28.411845Z"
        },
        "trusted": true,
        "id": "z8xBnZBkRaos"
      },
      "execution_count": null,
      "outputs": []
    },
    {
      "cell_type": "code",
      "source": [
        "def return_model():\n",
        "    pretrained_model = VGG16(include_top=False,weights=\"imagenet\", input_shape=(n, n,3))\n",
        "    \n",
        "    new_model = Sequential()\n",
        "    new_model.add(pretrained_model)\n",
        "    \n",
        "    new_model.add(Flatten())\n",
        "    new_model.add(Dense(256,activation='relu'))\n",
        "    new_model.add(Dropout(0.25))\n",
        "    new_model.add(Dense(4,activation='softmax'))\n",
        "\n",
        "    \n",
        "    \n",
        "    opt = Adam(lr=INIT_LR, decay=INIT_LR / EPOCHS)\n",
        "    # distribution\n",
        "    new_model.compile(loss=\"categorical_crossentropy\", optimizer=opt,metrics=[\"accuracy\"])\n",
        "    return new_model"
      ],
      "metadata": {
        "execution": {
          "iopub.status.busy": "2021-07-12T10:28:47.526532Z",
          "iopub.execute_input": "2021-07-12T10:28:47.527074Z",
          "iopub.status.idle": "2021-07-12T10:28:47.538426Z",
          "shell.execute_reply.started": "2021-07-12T10:28:47.527029Z",
          "shell.execute_reply": "2021-07-12T10:28:47.537304Z"
        },
        "trusted": true,
        "id": "IsvS-ndERaos"
      },
      "execution_count": null,
      "outputs": []
    },
    {
      "cell_type": "markdown",
      "source": [
        "Model Summary"
      ],
      "metadata": {
        "_uuid": "53b13c03e4cea6dc2453a84e254b806ebeed2d99",
        "id": "-QOknTxbRaot"
      }
    },
    {
      "cell_type": "code",
      "source": [
        "model = return_model()\n",
        "model.summary()"
      ],
      "metadata": {
        "_uuid": "1e1523a834fbf872940171fbdefb3dcce2b5f31b",
        "execution": {
          "iopub.status.busy": "2021-07-12T10:28:47.540081Z",
          "iopub.execute_input": "2021-07-12T10:28:47.540990Z",
          "iopub.status.idle": "2021-07-12T10:28:51.314044Z",
          "shell.execute_reply.started": "2021-07-12T10:28:47.540944Z",
          "shell.execute_reply": "2021-07-12T10:28:51.313012Z"
        },
        "trusted": true,
        "id": "_R8EiJORRaot",
        "outputId": "7d0cbb2c-58ab-49d2-f2ef-ea2af5916759"
      },
      "execution_count": null,
      "outputs": [
        {
          "name": "stdout",
          "text": "Downloading data from https://storage.googleapis.com/tensorflow/keras-applications/vgg16/vgg16_weights_tf_dim_ordering_tf_kernels_notop.h5\n58892288/58889256 [==============================] - 1s 0us/step\nModel: \"sequential\"\n_________________________________________________________________\nLayer (type)                 Output Shape              Param #   \n=================================================================\nvgg16 (Functional)           (None, 7, 7, 512)         14714688  \n_________________________________________________________________\nflatten (Flatten)            (None, 25088)             0         \n_________________________________________________________________\ndense (Dense)                (None, 256)               6422784   \n_________________________________________________________________\ndropout (Dropout)            (None, 256)               0         \n_________________________________________________________________\ndense_1 (Dense)              (None, 4)                 1028      \n=================================================================\nTotal params: 21,138,500\nTrainable params: 21,138,500\nNon-trainable params: 0\n_________________________________________________________________\n",
          "output_type": "stream"
        }
      ]
    },
    {
      "cell_type": "code",
      "source": [
        "from keras.utils.vis_utils import plot_model\n",
        "\n",
        "plot_model(model, to_file='model_plot.png', show_shapes=True, show_layer_names=True)"
      ],
      "metadata": {
        "execution": {
          "iopub.status.busy": "2021-07-12T10:28:51.316391Z",
          "iopub.execute_input": "2021-07-12T10:28:51.316799Z",
          "iopub.status.idle": "2021-07-12T10:28:51.949946Z",
          "shell.execute_reply.started": "2021-07-12T10:28:51.316758Z",
          "shell.execute_reply": "2021-07-12T10:28:51.948680Z"
        },
        "trusted": true,
        "id": "CFPkeX0FRaot",
        "outputId": "537a9e7e-a684-408f-9611-887323b91bb2"
      },
      "execution_count": null,
      "outputs": [
        {
          "execution_count": 17,
          "output_type": "execute_result",
          "data": {
            "image/png": "[encoded data removed]",
            "text/plain": "<IPython.core.display.Image object>"
          },
          "metadata": {}
        }
      ]
    },
    {
      "cell_type": "code",
      "source": [
        "#opt = Adam(lr=INIT_LR, decay=INIT_LR / EPOCHS)\n",
        "# distribution\n",
        "#model.compile(loss=\"binary_crossentropy\", optimizer=opt,metrics=[\"accuracy\"])\n",
        "# train the network\n",
        "print(\"[INFO] training network...\")"
      ],
      "metadata": {
        "_uuid": "b21dffee32c325136b4ea23ac511049723f34a24",
        "execution": {
          "iopub.status.busy": "2021-07-12T10:28:51.951698Z",
          "iopub.execute_input": "2021-07-12T10:28:51.952190Z",
          "iopub.status.idle": "2021-07-12T10:28:51.958591Z",
          "shell.execute_reply.started": "2021-07-12T10:28:51.952128Z",
          "shell.execute_reply": "2021-07-12T10:28:51.956849Z"
        },
        "trusted": true,
        "id": "Dm2zakKGRaot",
        "outputId": "223ede62-b66c-430c-d456-30005f727955"
      },
      "execution_count": null,
      "outputs": [
        {
          "name": "stdout",
          "text": "[INFO] training network...\n",
          "output_type": "stream"
        }
      ]
    },
    {
      "cell_type": "markdown",
      "source": [
        "# Adding Callback"
      ],
      "metadata": {
        "id": "kg-W6d-dRaou"
      }
    },
    {
      "cell_type": "code",
      "source": [
        "from keras import callbacks\n",
        "file_path = \"weights_best_.hdf5\"\n",
        "checkpoint = ModelCheckpoint(file_path, monitor='val_loss', verbose=0, save_best_only=True, mode='min')\n",
        "early = EarlyStopping(monitor=\"val_loss\", mode=\"min\", patience=3)\n",
        "callbacks_list = [checkpoint, early]"
      ],
      "metadata": {
        "execution": {
          "iopub.status.busy": "2021-07-12T10:28:51.960621Z",
          "iopub.execute_input": "2021-07-12T10:28:51.961496Z",
          "iopub.status.idle": "2021-07-12T10:28:51.971832Z",
          "shell.execute_reply.started": "2021-07-12T10:28:51.961435Z",
          "shell.execute_reply": "2021-07-12T10:28:51.970506Z"
        },
        "trusted": true,
        "id": "EyjxJFKORaou"
      },
      "execution_count": null,
      "outputs": []
    },
    {
      "cell_type": "code",
      "source": [
        "history = model.fit_generator(\n",
        "    aug.flow(x_train, y_train, batch_size=BS),\n",
        "    validation_data=(x_test, y_test),\n",
        "    steps_per_epoch=len(x_train) // BS,\n",
        "    epochs=EPOCHS, verbose=1,\n",
        "    callbacks = callbacks_list \n",
        "    )"
      ],
      "metadata": {
        "_uuid": "1a13efc5ded339fc3c0d9e61041e8ca555362db0",
        "execution": {
          "iopub.status.busy": "2021-07-12T10:28:51.973707Z",
          "iopub.execute_input": "2021-07-12T10:28:51.974400Z",
          "iopub.status.idle": "2021-07-12T10:37:02.792252Z",
          "shell.execute_reply.started": "2021-07-12T10:28:51.974132Z",
          "shell.execute_reply": "2021-07-12T10:37:02.790926Z"
        },
        "trusted": true,
        "id": "AepP1cjjRaou",
        "outputId": "5912502e-7f12-4577-c1c1-07e0977b59c0"
      },
      "execution_count": null,
      "outputs": [
        {
          "name": "stderr",
          "text": "/opt/conda/lib/python3.7/site-packages/tensorflow/python/keras/engine/training.py:1844: UserWarning: `Model.fit_generator` is deprecated and will be removed in a future version. Please use `Model.fit`, which supports generators.\n  warnings.warn('`Model.fit_generator` is deprecated and '\n",
          "output_type": "stream"
        },
        {
          "name": "stdout",
          "text": "Epoch 1/50\n54/54 [==============================] - 69s 1s/step - loss: 0.8428 - accuracy: 0.6275 - val_loss: 0.1969 - val_accuracy: 0.9212\nEpoch 2/50\n54/54 [==============================] - 47s 871ms/step - loss: 0.2299 - accuracy: 0.9126 - val_loss: 0.2198 - val_accuracy: 0.9034\nEpoch 3/50\n54/54 [==============================] - 46s 858ms/step - loss: 0.1760 - accuracy: 0.9316 - val_loss: 0.0973 - val_accuracy: 0.9658\nEpoch 4/50\n54/54 [==============================] - 46s 846ms/step - loss: 0.1260 - accuracy: 0.9538 - val_loss: 0.1216 - val_accuracy: 0.9599\nEpoch 5/50\n54/54 [==============================] - 46s 848ms/step - loss: 0.1103 - accuracy: 0.9595 - val_loss: 0.0947 - val_accuracy: 0.9584\nEpoch 6/50\n54/54 [==============================] - 47s 865ms/step - loss: 0.1034 - accuracy: 0.9659 - val_loss: 0.0860 - val_accuracy: 0.9733\nEpoch 7/50\n54/54 [==============================] - 46s 849ms/step - loss: 0.0913 - accuracy: 0.9636 - val_loss: 0.0828 - val_accuracy: 0.9747\nEpoch 8/50\n54/54 [==============================] - 46s 844ms/step - loss: 0.0769 - accuracy: 0.9735 - val_loss: 0.1985 - val_accuracy: 0.9094\nEpoch 9/50\n54/54 [==============================] - 47s 861ms/step - loss: 0.1473 - accuracy: 0.9484 - val_loss: 0.0987 - val_accuracy: 0.9643\nEpoch 10/50\n54/54 [==============================] - 46s 851ms/step - loss: 0.0846 - accuracy: 0.9728 - val_loss: 0.0929 - val_accuracy: 0.9733\n",
          "output_type": "stream"
        }
      ]
    },
    {
      "cell_type": "markdown",
      "source": [
        "Plot the train and val curve"
      ],
      "metadata": {
        "_uuid": "1495fea08b37e4d4293f975ba30e6c1fc7a85ed9",
        "id": "00ubbQfZRaou"
      }
    },
    {
      "cell_type": "code",
      "source": [
        "acc = history.history['accuracy']\n",
        "val_acc = history.history['val_accuracy']\n",
        "loss = history.history['loss']\n",
        "val_loss = history.history['val_loss']\n",
        "epochs = range(1, len(acc) + 1)\n",
        "\n",
        "#Train and validation accuracy\n",
        "plt.plot(epochs, acc, 'b-o', label='Training accurarcy')\n",
        "plt.plot(epochs, val_acc, 'r-o', label='Validation accurarcy')\n",
        "plt.title('Training and Validation accurarcy')\n",
        "plt.xlabel('Epochs')\n",
        "plt.ylabel('Accuracy')\n",
        "plt.legend()\n",
        "\n",
        "plt.figure()\n",
        "#Train and validation loss\n",
        "plt.plot(epochs, loss, 'b-o', label='Training loss')\n",
        "plt.plot(epochs, val_loss, 'r-o', label='Validation loss')\n",
        "plt.title('Training and Validation loss')\n",
        "plt.xlabel('Epochs')\n",
        "plt.ylabel('Loss')\n",
        "plt.legend()\n",
        "plt.show()"
      ],
      "metadata": {
        "_uuid": "0af5e0f23657a4effc2d21cf8e840e81f42ec8e7",
        "execution": {
          "iopub.status.busy": "2021-07-12T10:37:02.794097Z",
          "iopub.execute_input": "2021-07-12T10:37:02.794676Z",
          "iopub.status.idle": "2021-07-12T10:37:03.191928Z",
          "shell.execute_reply.started": "2021-07-12T10:37:02.794617Z",
          "shell.execute_reply": "2021-07-12T10:37:03.190411Z"
        },
        "trusted": true,
        "id": "DIPXyYOGRaov",
        "outputId": "4b161e29-8751-484a-8664-f95e0c404250"
      },
      "execution_count": null,
      "outputs": [
        {
          "output_type": "display_data",
          "data": {
            "text/plain": "<Figure size 432x288 with 1 Axes>",
            "image/png": "[encoded data removed]"
          },
          "metadata": {
            "needs_background": "light"
          }
        },
        {
          "output_type": "display_data",
          "data": {
            "text/plain": "<Figure size 432x288 with 1 Axes>",
            "image/png": "[encoded data removed]"
          },
          "metadata": {
            "needs_background": "light"
          }
        }
      ]
    },
    {
      "cell_type": "code",
      "source": [
        "from matplotlib.ticker import MaxNLocator\n",
        "\n",
        "ax = plt.figure().gca()\n",
        "ax.xaxis.set_major_locator(MaxNLocator(integer=True))\n",
        "plt.margins(x=0)\n",
        "\n",
        "# Plot training & validation accuracy values\n",
        "plt.plot(history.history['accuracy'])\n",
        "plt.title('Model accuracy')\n",
        "plt.ylabel('Accuracy')\n",
        "plt.xlabel('Epoch')\n",
        "plt.legend(['Train'], loc='upper left')\n",
        "plt.show()"
      ],
      "metadata": {
        "execution": {
          "iopub.status.busy": "2021-07-12T10:37:03.193785Z",
          "iopub.execute_input": "2021-07-12T10:37:03.194282Z",
          "iopub.status.idle": "2021-07-12T10:37:03.376309Z",
          "shell.execute_reply.started": "2021-07-12T10:37:03.194203Z",
          "shell.execute_reply": "2021-07-12T10:37:03.375257Z"
        },
        "trusted": true,
        "id": "C5RNRjMSRaov",
        "outputId": "29ab43d8-a8cc-4f84-86d4-dfdf3ed0d8df"
      },
      "execution_count": null,
      "outputs": [
        {
          "output_type": "display_data",
          "data": {
            "text/plain": "<Figure size 432x288 with 1 Axes>",
            "image/png": "[encoded data removed]"
          },
          "metadata": {
            "needs_background": "light"
          }
        }
      ]
    },
    {
      "cell_type": "code",
      "source": [
        "from matplotlib.ticker import MaxNLocator\n",
        "\n",
        "ax = plt.figure().gca()\n",
        "ax.xaxis.set_major_locator(MaxNLocator(integer=True))\n",
        "plt.margins(x=0)\n",
        "\n",
        "# Plot training & validation loss values\n",
        "plt.plot(history.history['loss'])\n",
        "plt.title('Model loss')\n",
        "plt.ylabel('Loss')\n",
        "plt.xlabel('Epoch')\n",
        "plt.legend(['Train', 'Test'], loc='upper left')\n",
        "plt.show()\n",
        "\n"
      ],
      "metadata": {
        "execution": {
          "iopub.status.busy": "2021-07-12T10:37:03.381390Z",
          "iopub.execute_input": "2021-07-12T10:37:03.381724Z",
          "iopub.status.idle": "2021-07-12T10:37:03.559461Z",
          "shell.execute_reply.started": "2021-07-12T10:37:03.381694Z",
          "shell.execute_reply": "2021-07-12T10:37:03.557977Z"
        },
        "trusted": true,
        "id": "BP197fAPRaov",
        "outputId": "c8639aba-cba3-489e-8e13-a3a64cbe3a73"
      },
      "execution_count": null,
      "outputs": [
        {
          "output_type": "display_data",
          "data": {
            "text/plain": "<Figure size 432x288 with 1 Axes>",
            "image/png": "[encoded data removed]"
          },
          "metadata": {
            "needs_background": "light"
          }
        }
      ]
    },
    {
      "cell_type": "markdown",
      "source": [
        "Model Accuracy"
      ],
      "metadata": {
        "_uuid": "9ca1a4489bd624c69a13cd37c0c2306ac8de55c2",
        "id": "NwzavT5yRaov"
      }
    },
    {
      "cell_type": "code",
      "source": [
        "print(\"[INFO] Calculating model accuracy\")\n",
        "scores = model.evaluate(x_test_final, y_test_final)\n",
        "print(f\"Test Accuracy: {scores[1]*100}\")"
      ],
      "metadata": {
        "_uuid": "bb44f3d0b7e2862bc7d1a032612ebfd48212c1fe",
        "execution": {
          "iopub.status.busy": "2021-07-12T10:37:03.562022Z",
          "iopub.execute_input": "2021-07-12T10:37:03.562533Z",
          "iopub.status.idle": "2021-07-12T10:37:04.965852Z",
          "shell.execute_reply.started": "2021-07-12T10:37:03.562490Z",
          "shell.execute_reply": "2021-07-12T10:37:04.964579Z"
        },
        "trusted": true,
        "id": "vJ-bHdF9Raov",
        "outputId": "c68f7477-3d97-4fca-e245-a2f83300fb87"
      },
      "execution_count": null,
      "outputs": [
        {
          "name": "stdout",
          "text": "[INFO] Calculating model accuracy\n7/7 [==============================] - 1s 196ms/step - loss: 0.1633 - accuracy: 0.9550\nTest Accuracy: 95.49999833106995\n",
          "output_type": "stream"
        }
      ]
    },
    {
      "cell_type": "markdown",
      "source": [
        "Save model using Pickle"
      ],
      "metadata": {
        "_uuid": "2a1f759db8afe933e62fe4cf8332cb303bb11be8",
        "id": "eOO8Qjh_Raow"
      }
    },
    {
      "cell_type": "code",
      "source": [
        "#Model Save\n",
        "model.save_weights('model_weights.h5')\n",
        "model.save('model_keras.h5')"
      ],
      "metadata": {
        "_uuid": "5cdf06adf492d79ed28fbdc36e02ad7489c7b33e",
        "execution": {
          "iopub.status.busy": "2021-07-12T10:37:04.967647Z",
          "iopub.execute_input": "2021-07-12T10:37:04.968163Z",
          "iopub.status.idle": "2021-07-12T10:37:05.553452Z",
          "shell.execute_reply.started": "2021-07-12T10:37:04.968102Z",
          "shell.execute_reply": "2021-07-12T10:37:05.552375Z"
        },
        "trusted": true,
        "id": "uQg_iVqFRaow"
      },
      "execution_count": null,
      "outputs": []
    },
    {
      "cell_type": "markdown",
      "source": [
        "# Confusion Matrix"
      ],
      "metadata": {
        "id": "RzIL9gH1Raow"
      }
    },
    {
      "cell_type": "code",
      "source": [
        "from sklearn.metrics import confusion_matrix\n",
        "y_pred = model.predict(x_test_final)\n",
        "\n",
        "#getting labels\n",
        "y_pred_labels = np.argmax(y_pred,axis = 1)\n",
        "y_true = np.argmax(y_test_final,axis = 1)"
      ],
      "metadata": {
        "execution": {
          "iopub.status.busy": "2021-07-12T10:51:39.323789Z",
          "iopub.execute_input": "2021-07-12T10:51:39.324217Z",
          "iopub.status.idle": "2021-07-12T10:51:39.833991Z",
          "shell.execute_reply.started": "2021-07-12T10:51:39.324185Z",
          "shell.execute_reply": "2021-07-12T10:51:39.832856Z"
        },
        "trusted": true,
        "id": "Sn_h-L3SRaow"
      },
      "execution_count": null,
      "outputs": []
    },
    {
      "cell_type": "code",
      "source": [
        "#Creating a confusion matrix\n",
        "from sklearn.metrics import confusion_matrix\n",
        "\n",
        "cm = confusion_matrix(y_true,y_pred_labels)\n",
        "cm = cm.astype('float') / cm.sum(axis=1)[:, np.newaxis]"
      ],
      "metadata": {
        "execution": {
          "iopub.status.busy": "2021-07-12T10:51:52.734019Z",
          "iopub.execute_input": "2021-07-12T10:51:52.734414Z",
          "iopub.status.idle": "2021-07-12T10:51:52.741937Z",
          "shell.execute_reply.started": "2021-07-12T10:51:52.734383Z",
          "shell.execute_reply": "2021-07-12T10:51:52.740436Z"
        },
        "trusted": true,
        "id": "uEARwWgDRaow"
      },
      "execution_count": null,
      "outputs": []
    },
    {
      "cell_type": "markdown",
      "source": [
        "# Change the class name as per your desire"
      ],
      "metadata": {
        "id": "wAHT3gWcRaox"
      }
    },
    {
      "cell_type": "code",
      "source": [
        "label_binarizer.classes_"
      ],
      "metadata": {
        "execution": {
          "iopub.status.busy": "2021-07-12T10:51:53.017006Z",
          "iopub.execute_input": "2021-07-12T10:51:53.017429Z",
          "iopub.status.idle": "2021-07-12T10:51:53.024518Z",
          "shell.execute_reply.started": "2021-07-12T10:51:53.017397Z",
          "shell.execute_reply": "2021-07-12T10:51:53.023176Z"
        },
        "trusted": true,
        "id": "3ZlS-7TgRaox",
        "outputId": "6b51b8ae-a2c3-4a00-b9b3-642b0b792c4c"
      },
      "execution_count": null,
      "outputs": [
        {
          "execution_count": 105,
          "output_type": "execute_result",
          "data": {
            "text/plain": "array([' healthy', 'Cercospora leaf spot Gray leaf spot', 'Common rust',\n       'Northern Leaf Blight'], dtype='<U35')"
          },
          "metadata": {}
        }
      ]
    },
    {
      "cell_type": "markdown",
      "source": [
        "1. Corn_(maize)___Cercospora_leaf_spot Gray_leaf_spot\n",
        "2. Corn_(maize)___Common_rust_\n",
        "3. Corn_(maize)___healthy\n",
        "4. Corn_(maize)___Northern_Leaf_Blight\n"
      ],
      "metadata": {
        "id": "Rojf5mkiRaox"
      }
    },
    {
      "cell_type": "markdown",
      "source": [
        "# Change name in the label"
      ],
      "metadata": {
        "id": "MmEdxWm9Raox"
      }
    },
    {
      "cell_type": "code",
      "source": [
        "label = ['Corn_(maize)___healthy','Corn_(maize)___Cercospora_leaf_spot Gray_leaf_spot', 'Corn_(maize)___Common_rust_','Corn_(maize)___Northern_Leaf_Blight']\n",
        "label = np.array(label)"
      ],
      "metadata": {
        "execution": {
          "iopub.status.busy": "2021-07-12T10:51:54.905843Z",
          "iopub.execute_input": "2021-07-12T10:51:54.906204Z",
          "iopub.status.idle": "2021-07-12T10:51:54.914002Z",
          "shell.execute_reply.started": "2021-07-12T10:51:54.906175Z",
          "shell.execute_reply": "2021-07-12T10:51:54.912795Z"
        },
        "trusted": true,
        "id": "qb2NsBz2Raox"
      },
      "execution_count": null,
      "outputs": []
    },
    {
      "cell_type": "code",
      "source": [
        "import pandas as pd\n",
        "import seaborn as sns\n",
        "\n",
        "from sklearn.metrics import accuracy_score, confusion_matrix, precision_recall_fscore_support, roc_curve, auc\n",
        "from itertools import cycle\n",
        "\n",
        "#Transform to df for easier plotting\n",
        "cm_df = pd.DataFrame(cm, index = label,\n",
        "                     columns = label\n",
        "                    )\n",
        "\n",
        "\n",
        "plt.figure(figsize = (6,6))\n",
        "sns.heatmap(cm_df, annot = True,cmap='Blues',cbar=False)\n",
        "plt.title('Corn Infection Classification (VGG16)')\n",
        "plt.ylabel('True Label')\n",
        "plt.xlabel('Prediction label')\n",
        "plt.show()"
      ],
      "metadata": {
        "execution": {
          "iopub.status.busy": "2021-07-12T10:51:59.236132Z",
          "iopub.execute_input": "2021-07-12T10:51:59.236671Z",
          "iopub.status.idle": "2021-07-12T10:51:59.554360Z",
          "shell.execute_reply.started": "2021-07-12T10:51:59.236619Z",
          "shell.execute_reply": "2021-07-12T10:51:59.553166Z"
        },
        "trusted": true,
        "id": "0gaGKNZzRaox",
        "outputId": "1b59c55a-b006-4624-b22b-4d57f050c897"
      },
      "execution_count": null,
      "outputs": [
        {
          "output_type": "display_data",
          "data": {
            "text/plain": "<Figure size 432x432 with 1 Axes>",
            "image/png": "[encoded data removed]"
          },
          "metadata": {
            "needs_background": "light"
          }
        }
      ]
    },
    {
      "cell_type": "markdown",
      "source": [
        "# ROC Curve\n"
      ],
      "metadata": {
        "id": "2Zv_0IwFRaoy"
      }
    },
    {
      "cell_type": "code",
      "source": [
        "new_label = label\n",
        "new_class = 4"
      ],
      "metadata": {
        "execution": {
          "iopub.status.busy": "2021-07-12T10:52:01.196222Z",
          "iopub.execute_input": "2021-07-12T10:52:01.196654Z",
          "iopub.status.idle": "2021-07-12T10:52:01.201746Z",
          "shell.execute_reply.started": "2021-07-12T10:52:01.196625Z",
          "shell.execute_reply": "2021-07-12T10:52:01.199729Z"
        },
        "trusted": true,
        "id": "d61mAroaRaoy"
      },
      "execution_count": null,
      "outputs": []
    },
    {
      "cell_type": "code",
      "source": [
        "label.shape"
      ],
      "metadata": {
        "execution": {
          "iopub.status.busy": "2021-07-12T10:52:02.447006Z",
          "iopub.execute_input": "2021-07-12T10:52:02.447356Z",
          "iopub.status.idle": "2021-07-12T10:52:02.456877Z",
          "shell.execute_reply.started": "2021-07-12T10:52:02.447326Z",
          "shell.execute_reply": "2021-07-12T10:52:02.455614Z"
        },
        "trusted": true,
        "id": "8TNeV2L1Raoy",
        "outputId": "445353a8-0a71-463b-d120-f5f92403394b"
      },
      "execution_count": null,
      "outputs": [
        {
          "execution_count": 109,
          "output_type": "execute_result",
          "data": {
            "text/plain": "(4,)"
          },
          "metadata": {}
        }
      ]
    },
    {
      "cell_type": "code",
      "source": [
        "#ravel flatten the array into single vector\n",
        "y_pred_ravel = y_pred.ravel()\n",
        "lw = 2"
      ],
      "metadata": {
        "execution": {
          "iopub.status.busy": "2021-07-12T10:52:02.757781Z",
          "iopub.execute_input": "2021-07-12T10:52:02.758155Z",
          "iopub.status.idle": "2021-07-12T10:52:02.763299Z",
          "shell.execute_reply.started": "2021-07-12T10:52:02.758094Z",
          "shell.execute_reply": "2021-07-12T10:52:02.761732Z"
        },
        "trusted": true,
        "id": "w7Qmuve5Raoy"
      },
      "execution_count": null,
      "outputs": []
    },
    {
      "cell_type": "code",
      "source": [
        "plt.rcParams[\"figure.figsize\"] = [8,6]\n",
        "\n",
        "fpr = dict()\n",
        "tpr = dict()\n",
        "roc_auc = dict()\n",
        "\n",
        "for i in range(new_class):\n",
        "    fpr[i], tpr[i], _ = roc_curve(y_test_final[:,i], y_pred[:,i])\n",
        "    roc_auc[i] = auc(fpr[i], tpr[i])\n",
        "    \n",
        "colors = cycle(['red', 'green','black'])\n",
        "for i, color in zip(range(new_class), colors):\n",
        "    plt.plot(fpr[i], tpr[i], color=color, lw=lw,\n",
        "             label='ROC curve of class {0}'''.format(label[i]))\n",
        "    \n",
        "plt.plot([0, 1], [0, 1], 'k--', lw=lw)\n",
        "plt.xlim([0, 1.0])\n",
        "plt.ylim([0.0, 1.05])\n",
        "plt.xlabel('False Positive Rate')\n",
        "plt.ylabel('True Positive Rate')\n",
        "plt.title('Receiver Operating Characteristic')\n",
        "plt.legend(loc=\"lower right\")\n",
        "\n",
        "plt.show()\n"
      ],
      "metadata": {
        "execution": {
          "iopub.status.busy": "2021-07-12T10:56:03.058730Z",
          "iopub.execute_input": "2021-07-12T10:56:03.059164Z",
          "iopub.status.idle": "2021-07-12T10:56:03.288346Z",
          "shell.execute_reply.started": "2021-07-12T10:56:03.059119Z",
          "shell.execute_reply": "2021-07-12T10:56:03.286813Z"
        },
        "trusted": true,
        "id": "rm_poQPfRaoy",
        "outputId": "19b2c0ef-a6c4-4578-b0d0-fa4423b83c92"
      },
      "execution_count": null,
      "outputs": [
        {
          "output_type": "display_data",
          "data": {
            "text/plain": "<Figure size 576x432 with 1 Axes>",
            "image/png": "[encoded data removed]"
          },
          "metadata": {
            "needs_background": "light"
          }
        }
      ]
    },
    {
      "cell_type": "code",
      "source": [
        "y_pred_probs = model.predict(x_test_final)\n",
        "y_pred_classes = np.argmax(y_pred_probs, axis=1)\n",
        "\n",
        "# reduce to 1d array\n",
        "yhat_probs = y_pred_probs[:,0]\n",
        "yhat_classes = y_pred_classes\n",
        "\n",
        "y_test_final = np.argmax(y_test_final, axis=1)"
      ],
      "metadata": {
        "execution": {
          "iopub.status.busy": "2021-07-12T10:56:11.436679Z",
          "iopub.execute_input": "2021-07-12T10:56:11.437218Z",
          "iopub.status.idle": "2021-07-12T10:56:11.936054Z",
          "shell.execute_reply.started": "2021-07-12T10:56:11.437160Z",
          "shell.execute_reply": "2021-07-12T10:56:11.934756Z"
        },
        "trusted": true,
        "id": "mvhfpN6iRaoy"
      },
      "execution_count": null,
      "outputs": []
    },
    {
      "cell_type": "code",
      "source": [
        "from sklearn.metrics import classification_report\n",
        "\n",
        "print(classification_report(y_test_final, yhat_classes))"
      ],
      "metadata": {
        "execution": {
          "iopub.status.busy": "2021-07-12T10:56:15.228127Z",
          "iopub.execute_input": "2021-07-12T10:56:15.228535Z",
          "iopub.status.idle": "2021-07-12T10:56:15.244717Z",
          "shell.execute_reply.started": "2021-07-12T10:56:15.228504Z",
          "shell.execute_reply": "2021-07-12T10:56:15.243521Z"
        },
        "trusted": true,
        "id": "Z0Q0t6I_Raoz",
        "outputId": "65696276-903b-4659-84ed-24caaec3ef32"
      },
      "execution_count": null,
      "outputs": [
        {
          "name": "stdout",
          "text": "              precision    recall  f1-score   support\n\n           0       1.00      1.00      1.00        59\n           1       0.80      1.00      0.89        35\n           2       1.00      1.00      1.00        55\n           3       1.00      0.82      0.90        51\n\n    accuracy                           0.95       200\n   macro avg       0.95      0.96      0.95       200\nweighted avg       0.96      0.95      0.96       200\n\n",
          "output_type": "stream"
        }
      ]
    }
  ]
}