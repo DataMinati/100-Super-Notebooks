{
  "cells": [
    {
      "cell_type": "markdown",
      "metadata": {
        "id": "view-in-github",
        "colab_type": "text"
      },
      "source": [
        "<a href=\"https://colab.research.google.com/github/DataMinati/Super-Notebooks-100/blob/main/Drug_Classification.ipynb\" target=\"_parent\"><img src=\"https://colab.research.google.com/assets/colab-badge.svg\" alt=\"Open In Colab\"/></a>"
      ]
    },
    {
      "cell_type": "code",
      "execution_count": 7,
      "metadata": {
        "_cell_guid": "b1076dfc-b9ad-4769-8c92-a6c4dae69d19",
        "_uuid": "8f2839f25d086af736a60e9eeb907d3b93b6e0e5",
        "execution": {
          "iopub.execute_input": "2021-01-01T13:53:51.148615Z",
          "iopub.status.busy": "2021-01-01T13:53:51.147898Z",
          "iopub.status.idle": "2021-01-01T13:53:52.290754Z",
          "shell.execute_reply": "2021-01-01T13:53:52.290163Z"
        },
        "papermill": {
          "duration": 1.203593,
          "end_time": "2021-01-01T13:53:52.290879",
          "exception": false,
          "start_time": "2021-01-01T13:53:51.087286",
          "status": "completed"
        },
        "tags": [],
        "id": "dCWjh9L2_imA"
      },
      "outputs": [],
      "source": [
        "import numpy as np\n",
        "import pandas as pd \n",
        "import seaborn as sns\n",
        "import matplotlib.pyplot as plt\n",
        "import warnings\n",
        "warnings.filterwarnings(\"ignore\")\n",
        "from sklearn.model_selection import GridSearchCV\n",
        "from sklearn.model_selection import cross_val_score"
      ]
    },
    {
      "cell_type": "markdown",
      "metadata": {
        "papermill": {
          "duration": 0.05281,
          "end_time": "2021-01-01T13:53:52.397515",
          "exception": false,
          "start_time": "2021-01-01T13:53:52.344705",
          "status": "completed"
        },
        "tags": [],
        "id": "5L01TX3n_imC"
      },
      "source": [
        "<a id='1'></a>\n",
        "# Read Data and PreCheck"
      ]
    },
    {
      "cell_type": "code",
      "execution_count": 8,
      "metadata": {
        "_cell_guid": "79c7e3d0-c299-4dcb-8224-4455121ee9b0",
        "_uuid": "d629ff2d2480ee46fbb7e2d37f6b5fab8052498a",
        "execution": {
          "iopub.execute_input": "2021-01-01T13:53:52.509391Z",
          "iopub.status.busy": "2021-01-01T13:53:52.508701Z",
          "iopub.status.idle": "2021-01-01T13:53:52.522141Z",
          "shell.execute_reply": "2021-01-01T13:53:52.521522Z"
        },
        "papermill": {
          "duration": 0.07165,
          "end_time": "2021-01-01T13:53:52.522253",
          "exception": false,
          "start_time": "2021-01-01T13:53:52.450603",
          "status": "completed"
        },
        "tags": [],
        "id": "1fYa31fT_imD"
      },
      "outputs": [],
      "source": [
        "df = pd.read_csv(\"https://raw.githubusercontent.com/MainakRepositor/Datasets-/master/drug200.csv\")"
      ]
    },
    {
      "cell_type": "code",
      "execution_count": 9,
      "metadata": {
        "execution": {
          "iopub.execute_input": "2021-01-01T13:53:52.644783Z",
          "iopub.status.busy": "2021-01-01T13:53:52.644055Z",
          "iopub.status.idle": "2021-01-01T13:53:52.654313Z",
          "shell.execute_reply": "2021-01-01T13:53:52.653687Z"
        },
        "papermill": {
          "duration": 0.078763,
          "end_time": "2021-01-01T13:53:52.654423",
          "exception": false,
          "start_time": "2021-01-01T13:53:52.575660",
          "status": "completed"
        },
        "tags": [],
        "colab": {
          "base_uri": "https://localhost:8080/",
          "height": 206
        },
        "id": "clLhN5Qn_imD",
        "outputId": "9ae370a4-4e8d-4bd3-80a7-8fb41542155f"
      },
      "outputs": [
        {
          "output_type": "execute_result",
          "data": {
            "text/html": [
              "\n",
              "  <div id=\"df-9c97eb0b-aca6-48a8-ab72-4ca58179dcee\">\n",
              "    <div class=\"colab-df-container\">\n",
              "      <div>\n",
              "<style scoped>\n",
              "    .dataframe tbody tr th:only-of-type {\n",
              "        vertical-align: middle;\n",
              "    }\n",
              "\n",
              "    .dataframe tbody tr th {\n",
              "        vertical-align: top;\n",
              "    }\n",
              "\n",
              "    .dataframe thead th {\n",
              "        text-align: right;\n",
              "    }\n",
              "</style>\n",
              "<table border=\"1\" class=\"dataframe\">\n",
              "  <thead>\n",
              "    <tr style=\"text-align: right;\">\n",
              "      <th></th>\n",
              "      <th>Age</th>\n",
              "      <th>Sex</th>\n",
              "      <th>BP</th>\n",
              "      <th>Cholesterol</th>\n",
              "      <th>Na_to_K</th>\n",
              "      <th>Drug</th>\n",
              "    </tr>\n",
              "  </thead>\n",
              "  <tbody>\n",
              "    <tr>\n",
              "      <th>0</th>\n",
              "      <td>23</td>\n",
              "      <td>F</td>\n",
              "      <td>HIGH</td>\n",
              "      <td>HIGH</td>\n",
              "      <td>25.355</td>\n",
              "      <td>DrugY</td>\n",
              "    </tr>\n",
              "    <tr>\n",
              "      <th>1</th>\n",
              "      <td>47</td>\n",
              "      <td>M</td>\n",
              "      <td>LOW</td>\n",
              "      <td>HIGH</td>\n",
              "      <td>13.093</td>\n",
              "      <td>drugC</td>\n",
              "    </tr>\n",
              "    <tr>\n",
              "      <th>2</th>\n",
              "      <td>47</td>\n",
              "      <td>M</td>\n",
              "      <td>LOW</td>\n",
              "      <td>HIGH</td>\n",
              "      <td>10.114</td>\n",
              "      <td>drugC</td>\n",
              "    </tr>\n",
              "    <tr>\n",
              "      <th>3</th>\n",
              "      <td>28</td>\n",
              "      <td>F</td>\n",
              "      <td>NORMAL</td>\n",
              "      <td>HIGH</td>\n",
              "      <td>7.798</td>\n",
              "      <td>drugX</td>\n",
              "    </tr>\n",
              "    <tr>\n",
              "      <th>4</th>\n",
              "      <td>61</td>\n",
              "      <td>F</td>\n",
              "      <td>LOW</td>\n",
              "      <td>HIGH</td>\n",
              "      <td>18.043</td>\n",
              "      <td>DrugY</td>\n",
              "    </tr>\n",
              "  </tbody>\n",
              "</table>\n",
              "</div>\n",
              "      <button class=\"colab-df-convert\" onclick=\"convertToInteractive('df-9c97eb0b-aca6-48a8-ab72-4ca58179dcee')\"\n",
              "              title=\"Convert this dataframe to an interactive table.\"\n",
              "              style=\"display:none;\">\n",
              "        \n",
              "  <svg xmlns=\"http://www.w3.org/2000/svg\" height=\"24px\"viewBox=\"0 0 24 24\"\n",
              "       width=\"24px\">\n",
              "    <path d=\"M0 0h24v24H0V0z\" fill=\"none\"/>\n",
              "    <path d=\"M18.56 5.44l.94 2.06.94-2.06 2.06-.94-2.06-.94-.94-2.06-.94 2.06-2.06.94zm-11 1L8.5 8.5l.94-2.06 2.06-.94-2.06-.94L8.5 2.5l-.94 2.06-2.06.94zm10 10l.94 2.06.94-2.06 2.06-.94-2.06-.94-.94-2.06-.94 2.06-2.06.94z\"/><path d=\"M17.41 7.96l-1.37-1.37c-.4-.4-.92-.59-1.43-.59-.52 0-1.04.2-1.43.59L10.3 9.45l-7.72 7.72c-.78.78-.78 2.05 0 2.83L4 21.41c.39.39.9.59 1.41.59.51 0 1.02-.2 1.41-.59l7.78-7.78 2.81-2.81c.8-.78.8-2.07 0-2.86zM5.41 20L4 18.59l7.72-7.72 1.47 1.35L5.41 20z\"/>\n",
              "  </svg>\n",
              "      </button>\n",
              "      \n",
              "  <style>\n",
              "    .colab-df-container {\n",
              "      display:flex;\n",
              "      flex-wrap:wrap;\n",
              "      gap: 12px;\n",
              "    }\n",
              "\n",
              "    .colab-df-convert {\n",
              "      background-color: #E8F0FE;\n",
              "      border: none;\n",
              "      border-radius: 50%;\n",
              "      cursor: pointer;\n",
              "      display: none;\n",
              "      fill: #1967D2;\n",
              "      height: 32px;\n",
              "      padding: 0 0 0 0;\n",
              "      width: 32px;\n",
              "    }\n",
              "\n",
              "    .colab-df-convert:hover {\n",
              "      background-color: #E2EBFA;\n",
              "      box-shadow: 0px 1px 2px rgba(60, 64, 67, 0.3), 0px 1px 3px 1px rgba(60, 64, 67, 0.15);\n",
              "      fill: #174EA6;\n",
              "    }\n",
              "\n",
              "    [theme=dark] .colab-df-convert {\n",
              "      background-color: #3B4455;\n",
              "      fill: #D2E3FC;\n",
              "    }\n",
              "\n",
              "    [theme=dark] .colab-df-convert:hover {\n",
              "      background-color: #434B5C;\n",
              "      box-shadow: 0px 1px 3px 1px rgba(0, 0, 0, 0.15);\n",
              "      filter: drop-shadow(0px 1px 2px rgba(0, 0, 0, 0.3));\n",
              "      fill: #FFFFFF;\n",
              "    }\n",
              "  </style>\n",
              "\n",
              "      <script>\n",
              "        const buttonEl =\n",
              "          document.querySelector('#df-9c97eb0b-aca6-48a8-ab72-4ca58179dcee button.colab-df-convert');\n",
              "        buttonEl.style.display =\n",
              "          google.colab.kernel.accessAllowed ? 'block' : 'none';\n",
              "\n",
              "        async function convertToInteractive(key) {\n",
              "          const element = document.querySelector('#df-9c97eb0b-aca6-48a8-ab72-4ca58179dcee');\n",
              "          const dataTable =\n",
              "            await google.colab.kernel.invokeFunction('convertToInteractive',\n",
              "                                                     [key], {});\n",
              "          if (!dataTable) return;\n",
              "\n",
              "          const docLinkHtml = 'Like what you see? Visit the ' +\n",
              "            '<a target=\"_blank\" href=https://colab.research.google.com/notebooks/data_table.ipynb>data table notebook</a>'\n",
              "            + ' to learn more about interactive tables.';\n",
              "          element.innerHTML = '';\n",
              "          dataTable['output_type'] = 'display_data';\n",
              "          await google.colab.output.renderOutput(dataTable, element);\n",
              "          const docLink = document.createElement('div');\n",
              "          docLink.innerHTML = docLinkHtml;\n",
              "          element.appendChild(docLink);\n",
              "        }\n",
              "      </script>\n",
              "    </div>\n",
              "  </div>\n",
              "  "
            ],
            "text/plain": [
              "   Age Sex      BP Cholesterol  Na_to_K   Drug\n",
              "0   23   F    HIGH        HIGH   25.355  DrugY\n",
              "1   47   M     LOW        HIGH   13.093  drugC\n",
              "2   47   M     LOW        HIGH   10.114  drugC\n",
              "3   28   F  NORMAL        HIGH    7.798  drugX\n",
              "4   61   F     LOW        HIGH   18.043  DrugY"
            ]
          },
          "metadata": {},
          "execution_count": 9
        }
      ],
      "source": [
        "df.head()"
      ]
    },
    {
      "cell_type": "code",
      "execution_count": 10,
      "metadata": {
        "execution": {
          "iopub.execute_input": "2021-01-01T13:53:52.780430Z",
          "iopub.status.busy": "2021-01-01T13:53:52.779375Z",
          "iopub.status.idle": "2021-01-01T13:53:52.796676Z",
          "shell.execute_reply": "2021-01-01T13:53:52.795715Z"
        },
        "papermill": {
          "duration": 0.088401,
          "end_time": "2021-01-01T13:53:52.796817",
          "exception": false,
          "start_time": "2021-01-01T13:53:52.708416",
          "status": "completed"
        },
        "tags": [],
        "colab": {
          "base_uri": "https://localhost:8080/",
          "height": 300
        },
        "id": "pPb6bWdu_imD",
        "outputId": "071a3c4e-6052-457b-837d-3be4977b2830"
      },
      "outputs": [
        {
          "output_type": "execute_result",
          "data": {
            "text/html": [
              "\n",
              "  <div id=\"df-5437d8f1-62f5-4389-84c4-0b5d9cf3e1e3\">\n",
              "    <div class=\"colab-df-container\">\n",
              "      <div>\n",
              "<style scoped>\n",
              "    .dataframe tbody tr th:only-of-type {\n",
              "        vertical-align: middle;\n",
              "    }\n",
              "\n",
              "    .dataframe tbody tr th {\n",
              "        vertical-align: top;\n",
              "    }\n",
              "\n",
              "    .dataframe thead th {\n",
              "        text-align: right;\n",
              "    }\n",
              "</style>\n",
              "<table border=\"1\" class=\"dataframe\">\n",
              "  <thead>\n",
              "    <tr style=\"text-align: right;\">\n",
              "      <th></th>\n",
              "      <th>Age</th>\n",
              "      <th>Na_to_K</th>\n",
              "    </tr>\n",
              "  </thead>\n",
              "  <tbody>\n",
              "    <tr>\n",
              "      <th>count</th>\n",
              "      <td>200.000000</td>\n",
              "      <td>200.000000</td>\n",
              "    </tr>\n",
              "    <tr>\n",
              "      <th>mean</th>\n",
              "      <td>44.315000</td>\n",
              "      <td>16.084485</td>\n",
              "    </tr>\n",
              "    <tr>\n",
              "      <th>std</th>\n",
              "      <td>16.544315</td>\n",
              "      <td>7.223956</td>\n",
              "    </tr>\n",
              "    <tr>\n",
              "      <th>min</th>\n",
              "      <td>15.000000</td>\n",
              "      <td>6.269000</td>\n",
              "    </tr>\n",
              "    <tr>\n",
              "      <th>25%</th>\n",
              "      <td>31.000000</td>\n",
              "      <td>10.445500</td>\n",
              "    </tr>\n",
              "    <tr>\n",
              "      <th>50%</th>\n",
              "      <td>45.000000</td>\n",
              "      <td>13.936500</td>\n",
              "    </tr>\n",
              "    <tr>\n",
              "      <th>75%</th>\n",
              "      <td>58.000000</td>\n",
              "      <td>19.380000</td>\n",
              "    </tr>\n",
              "    <tr>\n",
              "      <th>max</th>\n",
              "      <td>74.000000</td>\n",
              "      <td>38.247000</td>\n",
              "    </tr>\n",
              "  </tbody>\n",
              "</table>\n",
              "</div>\n",
              "      <button class=\"colab-df-convert\" onclick=\"convertToInteractive('df-5437d8f1-62f5-4389-84c4-0b5d9cf3e1e3')\"\n",
              "              title=\"Convert this dataframe to an interactive table.\"\n",
              "              style=\"display:none;\">\n",
              "        \n",
              "  <svg xmlns=\"http://www.w3.org/2000/svg\" height=\"24px\"viewBox=\"0 0 24 24\"\n",
              "       width=\"24px\">\n",
              "    <path d=\"M0 0h24v24H0V0z\" fill=\"none\"/>\n",
              "    <path d=\"M18.56 5.44l.94 2.06.94-2.06 2.06-.94-2.06-.94-.94-2.06-.94 2.06-2.06.94zm-11 1L8.5 8.5l.94-2.06 2.06-.94-2.06-.94L8.5 2.5l-.94 2.06-2.06.94zm10 10l.94 2.06.94-2.06 2.06-.94-2.06-.94-.94-2.06-.94 2.06-2.06.94z\"/><path d=\"M17.41 7.96l-1.37-1.37c-.4-.4-.92-.59-1.43-.59-.52 0-1.04.2-1.43.59L10.3 9.45l-7.72 7.72c-.78.78-.78 2.05 0 2.83L4 21.41c.39.39.9.59 1.41.59.51 0 1.02-.2 1.41-.59l7.78-7.78 2.81-2.81c.8-.78.8-2.07 0-2.86zM5.41 20L4 18.59l7.72-7.72 1.47 1.35L5.41 20z\"/>\n",
              "  </svg>\n",
              "      </button>\n",
              "      \n",
              "  <style>\n",
              "    .colab-df-container {\n",
              "      display:flex;\n",
              "      flex-wrap:wrap;\n",
              "      gap: 12px;\n",
              "    }\n",
              "\n",
              "    .colab-df-convert {\n",
              "      background-color: #E8F0FE;\n",
              "      border: none;\n",
              "      border-radius: 50%;\n",
              "      cursor: pointer;\n",
              "      display: none;\n",
              "      fill: #1967D2;\n",
              "      height: 32px;\n",
              "      padding: 0 0 0 0;\n",
              "      width: 32px;\n",
              "    }\n",
              "\n",
              "    .colab-df-convert:hover {\n",
              "      background-color: #E2EBFA;\n",
              "      box-shadow: 0px 1px 2px rgba(60, 64, 67, 0.3), 0px 1px 3px 1px rgba(60, 64, 67, 0.15);\n",
              "      fill: #174EA6;\n",
              "    }\n",
              "\n",
              "    [theme=dark] .colab-df-convert {\n",
              "      background-color: #3B4455;\n",
              "      fill: #D2E3FC;\n",
              "    }\n",
              "\n",
              "    [theme=dark] .colab-df-convert:hover {\n",
              "      background-color: #434B5C;\n",
              "      box-shadow: 0px 1px 3px 1px rgba(0, 0, 0, 0.15);\n",
              "      filter: drop-shadow(0px 1px 2px rgba(0, 0, 0, 0.3));\n",
              "      fill: #FFFFFF;\n",
              "    }\n",
              "  </style>\n",
              "\n",
              "      <script>\n",
              "        const buttonEl =\n",
              "          document.querySelector('#df-5437d8f1-62f5-4389-84c4-0b5d9cf3e1e3 button.colab-df-convert');\n",
              "        buttonEl.style.display =\n",
              "          google.colab.kernel.accessAllowed ? 'block' : 'none';\n",
              "\n",
              "        async function convertToInteractive(key) {\n",
              "          const element = document.querySelector('#df-5437d8f1-62f5-4389-84c4-0b5d9cf3e1e3');\n",
              "          const dataTable =\n",
              "            await google.colab.kernel.invokeFunction('convertToInteractive',\n",
              "                                                     [key], {});\n",
              "          if (!dataTable) return;\n",
              "\n",
              "          const docLinkHtml = 'Like what you see? Visit the ' +\n",
              "            '<a target=\"_blank\" href=https://colab.research.google.com/notebooks/data_table.ipynb>data table notebook</a>'\n",
              "            + ' to learn more about interactive tables.';\n",
              "          element.innerHTML = '';\n",
              "          dataTable['output_type'] = 'display_data';\n",
              "          await google.colab.output.renderOutput(dataTable, element);\n",
              "          const docLink = document.createElement('div');\n",
              "          docLink.innerHTML = docLinkHtml;\n",
              "          element.appendChild(docLink);\n",
              "        }\n",
              "      </script>\n",
              "    </div>\n",
              "  </div>\n",
              "  "
            ],
            "text/plain": [
              "              Age     Na_to_K\n",
              "count  200.000000  200.000000\n",
              "mean    44.315000   16.084485\n",
              "std     16.544315    7.223956\n",
              "min     15.000000    6.269000\n",
              "25%     31.000000   10.445500\n",
              "50%     45.000000   13.936500\n",
              "75%     58.000000   19.380000\n",
              "max     74.000000   38.247000"
            ]
          },
          "metadata": {},
          "execution_count": 10
        }
      ],
      "source": [
        "df.describe()"
      ]
    },
    {
      "cell_type": "code",
      "execution_count": 11,
      "metadata": {
        "execution": {
          "iopub.execute_input": "2021-01-01T13:53:52.916009Z",
          "iopub.status.busy": "2021-01-01T13:53:52.915191Z",
          "iopub.status.idle": "2021-01-01T13:53:52.919560Z",
          "shell.execute_reply": "2021-01-01T13:53:52.919057Z"
        },
        "papermill": {
          "duration": 0.067342,
          "end_time": "2021-01-01T13:53:52.919704",
          "exception": false,
          "start_time": "2021-01-01T13:53:52.852362",
          "status": "completed"
        },
        "tags": [],
        "colab": {
          "base_uri": "https://localhost:8080/"
        },
        "id": "RCQFHWD3_imE",
        "outputId": "2a981b5b-05d2-48c6-ecc0-a6e898b2e8e4"
      },
      "outputs": [
        {
          "output_type": "execute_result",
          "data": {
            "text/plain": [
              "Age            0\n",
              "Sex            0\n",
              "BP             0\n",
              "Cholesterol    0\n",
              "Na_to_K        0\n",
              "Drug           0\n",
              "dtype: int64"
            ]
          },
          "metadata": {},
          "execution_count": 11
        }
      ],
      "source": [
        "df.isnull().sum()"
      ]
    },
    {
      "cell_type": "code",
      "execution_count": 12,
      "metadata": {
        "execution": {
          "iopub.execute_input": "2021-01-01T13:53:53.035977Z",
          "iopub.status.busy": "2021-01-01T13:53:53.035310Z",
          "iopub.status.idle": "2021-01-01T13:53:53.039320Z",
          "shell.execute_reply": "2021-01-01T13:53:53.039939Z"
        },
        "papermill": {
          "duration": 0.065222,
          "end_time": "2021-01-01T13:53:53.040075",
          "exception": false,
          "start_time": "2021-01-01T13:53:52.974853",
          "status": "completed"
        },
        "tags": [],
        "colab": {
          "base_uri": "https://localhost:8080/"
        },
        "id": "clIbEzM9_imE",
        "outputId": "205a606e-ffd1-46d0-b500-8abc6c728090"
      },
      "outputs": [
        {
          "output_type": "execute_result",
          "data": {
            "text/plain": [
              "Age            0\n",
              "Sex            0\n",
              "BP             0\n",
              "Cholesterol    0\n",
              "Na_to_K        0\n",
              "Drug           0\n",
              "dtype: int64"
            ]
          },
          "metadata": {},
          "execution_count": 12
        }
      ],
      "source": [
        "df.isna().sum()"
      ]
    },
    {
      "cell_type": "markdown",
      "metadata": {
        "papermill": {
          "duration": 0.055996,
          "end_time": "2021-01-01T13:53:53.262061",
          "exception": false,
          "start_time": "2021-01-01T13:53:53.206065",
          "status": "completed"
        },
        "tags": [],
        "id": "pSOhTexA_imF"
      },
      "source": [
        "<a id='2'></a>\n",
        "# Variable Description\n",
        "\n",
        "* Age: Age of patient\n",
        "* Sex: Gender of patient\n",
        "* BP: Blood pressure of patient\n",
        "* Cholesterol: Cholesterol of patient\n",
        "* Na_to_K: Sodium to Potassium Ratio in Blood \n",
        "* Drug: Drug Type"
      ]
    },
    {
      "cell_type": "code",
      "execution_count": 13,
      "metadata": {
        "execution": {
          "iopub.execute_input": "2021-01-01T13:53:53.377984Z",
          "iopub.status.busy": "2021-01-01T13:53:53.377272Z",
          "iopub.status.idle": "2021-01-01T13:53:53.390245Z",
          "shell.execute_reply": "2021-01-01T13:53:53.391154Z"
        },
        "papermill": {
          "duration": 0.073554,
          "end_time": "2021-01-01T13:53:53.391365",
          "exception": false,
          "start_time": "2021-01-01T13:53:53.317811",
          "status": "completed"
        },
        "tags": [],
        "colab": {
          "base_uri": "https://localhost:8080/"
        },
        "id": "USTiCZlJ_imG",
        "outputId": "e31e068e-ff97-4457-f2a4-510bd4f295c4"
      },
      "outputs": [
        {
          "output_type": "stream",
          "name": "stdout",
          "text": [
            "<class 'pandas.core.frame.DataFrame'>\n",
            "RangeIndex: 200 entries, 0 to 199\n",
            "Data columns (total 6 columns):\n",
            " #   Column       Non-Null Count  Dtype  \n",
            "---  ------       --------------  -----  \n",
            " 0   Age          200 non-null    int64  \n",
            " 1   Sex          200 non-null    object \n",
            " 2   BP           200 non-null    object \n",
            " 3   Cholesterol  200 non-null    object \n",
            " 4   Na_to_K      200 non-null    float64\n",
            " 5   Drug         200 non-null    object \n",
            "dtypes: float64(1), int64(1), object(4)\n",
            "memory usage: 9.5+ KB\n"
          ]
        }
      ],
      "source": [
        "df.info()"
      ]
    },
    {
      "cell_type": "markdown",
      "metadata": {
        "papermill": {
          "duration": 0.057526,
          "end_time": "2021-01-01T13:53:53.506554",
          "exception": false,
          "start_time": "2021-01-01T13:53:53.449028",
          "status": "completed"
        },
        "tags": [],
        "id": "KfXGt4Qt_imG"
      },
      "source": [
        "* float64(1): Na_to_K\n",
        "* int64(1): Age\n",
        "* object(4): Sex, BP, Cholesterol, Drug"
      ]
    },
    {
      "cell_type": "markdown",
      "metadata": {
        "papermill": {
          "duration": 0.056461,
          "end_time": "2021-01-01T13:53:53.619757",
          "exception": false,
          "start_time": "2021-01-01T13:53:53.563296",
          "status": "completed"
        },
        "tags": [],
        "id": "k6YT9EAG_imG"
      },
      "source": [
        "<a id='3'></a>\n",
        "## Univariate Variable Analysis"
      ]
    },
    {
      "cell_type": "markdown",
      "metadata": {
        "papermill": {
          "duration": 0.056572,
          "end_time": "2021-01-01T13:53:53.732363",
          "exception": false,
          "start_time": "2021-01-01T13:53:53.675791",
          "status": "completed"
        },
        "tags": [],
        "id": "kI3v-6y6_imH"
      },
      "source": [
        "<a id='4'></a>\n",
        "### Age Variable"
      ]
    },
    {
      "cell_type": "code",
      "execution_count": 14,
      "metadata": {
        "execution": {
          "iopub.execute_input": "2021-01-01T13:53:53.854870Z",
          "iopub.status.busy": "2021-01-01T13:53:53.854172Z",
          "iopub.status.idle": "2021-01-01T13:53:53.859660Z",
          "shell.execute_reply": "2021-01-01T13:53:53.860447Z"
        },
        "papermill": {
          "duration": 0.070193,
          "end_time": "2021-01-01T13:53:53.860651",
          "exception": false,
          "start_time": "2021-01-01T13:53:53.790458",
          "status": "completed"
        },
        "tags": [],
        "colab": {
          "base_uri": "https://localhost:8080/"
        },
        "id": "F6qy0L07_imH",
        "outputId": "00804fa4-8c6d-4afb-c868-b122c99f5e81"
      },
      "outputs": [
        {
          "output_type": "stream",
          "name": "stdout",
          "text": [
            "Max Age: 74\n",
            "Min Age: 15\n"
          ]
        }
      ],
      "source": [
        "print(\"Max Age:\", df.Age.max())\n",
        "print(\"Min Age:\", df.Age.min())"
      ]
    },
    {
      "cell_type": "code",
      "execution_count": 15,
      "metadata": {
        "execution": {
          "iopub.execute_input": "2021-01-01T13:53:53.982721Z",
          "iopub.status.busy": "2021-01-01T13:53:53.982008Z",
          "iopub.status.idle": "2021-01-01T13:53:54.200340Z",
          "shell.execute_reply": "2021-01-01T13:53:54.199629Z"
        },
        "papermill": {
          "duration": 0.281926,
          "end_time": "2021-01-01T13:53:54.200449",
          "exception": false,
          "start_time": "2021-01-01T13:53:53.918523",
          "status": "completed"
        },
        "tags": [],
        "colab": {
          "base_uri": "https://localhost:8080/",
          "height": 334
        },
        "id": "7cgHyZd__imH",
        "outputId": "2795b053-e9b3-4ac9-8fc8-8a66682f3f21"
      },
      "outputs": [
        {
          "output_type": "display_data",
          "data": {
            "image/png": "[encoded data removed]",
            "text/plain": [
              "<Figure size 648x360 with 1 Axes>"
            ]
          },
          "metadata": {
            "needs_background": "light"
          }
        }
      ],
      "source": [
        "# Age distribution\n",
        "plt.figure(figsize = (9,5))\n",
        "sns.distplot(df.Age)\n",
        "plt.show()"
      ]
    },
    {
      "cell_type": "markdown",
      "metadata": {
        "papermill": {
          "duration": 0.057472,
          "end_time": "2021-01-01T13:53:54.315918",
          "exception": false,
          "start_time": "2021-01-01T13:53:54.258446",
          "status": "completed"
        },
        "tags": [],
        "id": "RGFxjQQe_imI"
      },
      "source": [
        "* Age range is between 15 and 74."
      ]
    },
    {
      "cell_type": "markdown",
      "metadata": {
        "papermill": {
          "duration": 0.057075,
          "end_time": "2021-01-01T13:53:54.430627",
          "exception": false,
          "start_time": "2021-01-01T13:53:54.373552",
          "status": "completed"
        },
        "tags": [],
        "id": "PEZ-WH_f_imI"
      },
      "source": [
        "<a id='5'></a>\n",
        "### Sex Variable"
      ]
    },
    {
      "cell_type": "code",
      "execution_count": 16,
      "metadata": {
        "execution": {
          "iopub.execute_input": "2021-01-01T13:53:54.553290Z",
          "iopub.status.busy": "2021-01-01T13:53:54.552550Z",
          "iopub.status.idle": "2021-01-01T13:53:54.557254Z",
          "shell.execute_reply": "2021-01-01T13:53:54.556581Z"
        },
        "papermill": {
          "duration": 0.069281,
          "end_time": "2021-01-01T13:53:54.557367",
          "exception": false,
          "start_time": "2021-01-01T13:53:54.488086",
          "status": "completed"
        },
        "tags": [],
        "colab": {
          "base_uri": "https://localhost:8080/"
        },
        "id": "68VDM-oc_imI",
        "outputId": "512a5575-eb4b-4f5b-d9b4-21c96535970f"
      },
      "outputs": [
        {
          "output_type": "execute_result",
          "data": {
            "text/plain": [
              "M    104\n",
              "F     96\n",
              "Name: Sex, dtype: int64"
            ]
          },
          "metadata": {},
          "execution_count": 16
        }
      ],
      "source": [
        "df.Sex.value_counts()"
      ]
    },
    {
      "cell_type": "code",
      "execution_count": 17,
      "metadata": {
        "execution": {
          "iopub.execute_input": "2021-01-01T13:53:54.691040Z",
          "iopub.status.busy": "2021-01-01T13:53:54.688752Z",
          "iopub.status.idle": "2021-01-01T13:53:54.797954Z",
          "shell.execute_reply": "2021-01-01T13:53:54.798760Z"
        },
        "papermill": {
          "duration": 0.18353,
          "end_time": "2021-01-01T13:53:54.798987",
          "exception": false,
          "start_time": "2021-01-01T13:53:54.615457",
          "status": "completed"
        },
        "tags": [],
        "colab": {
          "base_uri": "https://localhost:8080/",
          "height": 334
        },
        "id": "Nax2uh6g_imJ",
        "outputId": "28eba41c-71d1-4888-87c5-9a1537a49c34"
      },
      "outputs": [
        {
          "output_type": "display_data",
          "data": {
            "image/png": "[encoded data removed]",
            "text/plain": [
              "<Figure size 648x360 with 1 Axes>"
            ]
          },
          "metadata": {
            "needs_background": "light"
          }
        }
      ],
      "source": [
        "# Sex Distribution\n",
        "plt.figure(figsize=(9,5))\n",
        "sns.countplot(x = df.Sex)\n",
        "plt.show()"
      ]
    },
    {
      "cell_type": "markdown",
      "metadata": {
        "papermill": {
          "duration": 0.068769,
          "end_time": "2021-01-01T13:53:54.934054",
          "exception": false,
          "start_time": "2021-01-01T13:53:54.865285",
          "status": "completed"
        },
        "tags": [],
        "id": "vmsl5qwX_imJ"
      },
      "source": [
        "* The ratio of gender seems balanced in the data\n",
        "* This is a categorical variable. It would be better if we apply label encoder to avoid any error during model implementation."
      ]
    },
    {
      "cell_type": "markdown",
      "metadata": {
        "papermill": {
          "duration": 0.05847,
          "end_time": "2021-01-01T13:53:55.055626",
          "exception": false,
          "start_time": "2021-01-01T13:53:54.997156",
          "status": "completed"
        },
        "tags": [],
        "id": "tUGJS9TJ_imK"
      },
      "source": [
        "<a id='6'></a>\n",
        "### BP Variable"
      ]
    },
    {
      "cell_type": "code",
      "execution_count": 18,
      "metadata": {
        "execution": {
          "iopub.execute_input": "2021-01-01T13:53:55.180682Z",
          "iopub.status.busy": "2021-01-01T13:53:55.180014Z",
          "iopub.status.idle": "2021-01-01T13:53:55.184505Z",
          "shell.execute_reply": "2021-01-01T13:53:55.184008Z"
        },
        "papermill": {
          "duration": 0.070169,
          "end_time": "2021-01-01T13:53:55.184620",
          "exception": false,
          "start_time": "2021-01-01T13:53:55.114451",
          "status": "completed"
        },
        "tags": [],
        "colab": {
          "base_uri": "https://localhost:8080/"
        },
        "id": "dynpD0S3_imK",
        "outputId": "8ab815ff-5759-4ef3-b82d-fed4ceadc9fc"
      },
      "outputs": [
        {
          "output_type": "execute_result",
          "data": {
            "text/plain": [
              "HIGH      77\n",
              "LOW       64\n",
              "NORMAL    59\n",
              "Name: BP, dtype: int64"
            ]
          },
          "metadata": {},
          "execution_count": 18
        }
      ],
      "source": [
        "df.BP.value_counts()"
      ]
    },
    {
      "cell_type": "code",
      "execution_count": 19,
      "metadata": {
        "execution": {
          "iopub.execute_input": "2021-01-01T13:53:55.319349Z",
          "iopub.status.busy": "2021-01-01T13:53:55.317253Z",
          "iopub.status.idle": "2021-01-01T13:53:55.437139Z",
          "shell.execute_reply": "2021-01-01T13:53:55.436434Z"
        },
        "papermill": {
          "duration": 0.193165,
          "end_time": "2021-01-01T13:53:55.437264",
          "exception": false,
          "start_time": "2021-01-01T13:53:55.244099",
          "status": "completed"
        },
        "tags": [],
        "colab": {
          "base_uri": "https://localhost:8080/",
          "height": 335
        },
        "id": "2Hufhk8o_imK",
        "outputId": "c4c29612-596e-4ffb-e675-c391a9b4f170"
      },
      "outputs": [
        {
          "output_type": "display_data",
          "data": {
            "image/png": "[encoded data removed]",
            "text/plain": [
              "<Figure size 648x360 with 1 Axes>"
            ]
          },
          "metadata": {
            "needs_background": "light"
          }
        }
      ],
      "source": [
        "plt.figure(figsize = (9,5))\n",
        "sns.countplot(df.BP)\n",
        "plt.show()"
      ]
    },
    {
      "cell_type": "markdown",
      "metadata": {
        "papermill": {
          "duration": 0.059496,
          "end_time": "2021-01-01T13:53:55.566309",
          "exception": false,
          "start_time": "2021-01-01T13:53:55.506813",
          "status": "completed"
        },
        "tags": [],
        "id": "y67CfVzB_imL"
      },
      "source": [
        "<a id='7'></a>\n",
        "### Cholesterol Variable"
      ]
    },
    {
      "cell_type": "code",
      "execution_count": 20,
      "metadata": {
        "execution": {
          "iopub.execute_input": "2021-01-01T13:53:55.695934Z",
          "iopub.status.busy": "2021-01-01T13:53:55.694954Z",
          "iopub.status.idle": "2021-01-01T13:53:55.699974Z",
          "shell.execute_reply": "2021-01-01T13:53:55.699376Z"
        },
        "papermill": {
          "duration": 0.073184,
          "end_time": "2021-01-01T13:53:55.700097",
          "exception": false,
          "start_time": "2021-01-01T13:53:55.626913",
          "status": "completed"
        },
        "tags": [],
        "colab": {
          "base_uri": "https://localhost:8080/"
        },
        "id": "2OiaiXot_imO",
        "outputId": "0151fd0d-540d-4a8a-bebd-2e91ca658394"
      },
      "outputs": [
        {
          "output_type": "execute_result",
          "data": {
            "text/plain": [
              "HIGH      103\n",
              "NORMAL     97\n",
              "Name: Cholesterol, dtype: int64"
            ]
          },
          "metadata": {},
          "execution_count": 20
        }
      ],
      "source": [
        "df.Cholesterol.value_counts()"
      ]
    },
    {
      "cell_type": "code",
      "execution_count": 21,
      "metadata": {
        "execution": {
          "iopub.execute_input": "2021-01-01T13:53:55.839892Z",
          "iopub.status.busy": "2021-01-01T13:53:55.838839Z",
          "iopub.status.idle": "2021-01-01T13:53:55.945903Z",
          "shell.execute_reply": "2021-01-01T13:53:55.946458Z"
        },
        "papermill": {
          "duration": 0.185317,
          "end_time": "2021-01-01T13:53:55.946609",
          "exception": false,
          "start_time": "2021-01-01T13:53:55.761292",
          "status": "completed"
        },
        "tags": [],
        "colab": {
          "base_uri": "https://localhost:8080/",
          "height": 334
        },
        "id": "fYdxpPz6_imP",
        "outputId": "7ef41b5b-7296-4c39-ee70-4408843fa51b"
      },
      "outputs": [
        {
          "output_type": "display_data",
          "data": {
            "image/png": "[encoded data removed]",
            "text/plain": [
              "<Figure size 648x360 with 1 Axes>"
            ]
          },
          "metadata": {
            "needs_background": "light"
          }
        }
      ],
      "source": [
        "plt.figure(figsize = (9,5))\n",
        "sns.countplot(df.Cholesterol)\n",
        "plt.show()"
      ]
    },
    {
      "cell_type": "markdown",
      "metadata": {
        "papermill": {
          "duration": 0.062409,
          "end_time": "2021-01-01T13:53:56.072553",
          "exception": false,
          "start_time": "2021-01-01T13:53:56.010144",
          "status": "completed"
        },
        "tags": [],
        "id": "DIP3L6Fg_imP"
      },
      "source": [
        "* Cholesterol is a balanced data. \n",
        "* It is categorical and label encoder will apply on it."
      ]
    },
    {
      "cell_type": "markdown",
      "metadata": {
        "papermill": {
          "duration": 0.06265,
          "end_time": "2021-01-01T13:53:56.198368",
          "exception": false,
          "start_time": "2021-01-01T13:53:56.135718",
          "status": "completed"
        },
        "tags": [],
        "id": "k4SO2wXx_imP"
      },
      "source": [
        "<a id='8'></a>\n",
        "### Na_to_K Variable"
      ]
    },
    {
      "cell_type": "code",
      "execution_count": 22,
      "metadata": {
        "execution": {
          "iopub.execute_input": "2021-01-01T13:53:56.332323Z",
          "iopub.status.busy": "2021-01-01T13:53:56.331504Z",
          "iopub.status.idle": "2021-01-01T13:53:56.335706Z",
          "shell.execute_reply": "2021-01-01T13:53:56.336317Z"
        },
        "papermill": {
          "duration": 0.074694,
          "end_time": "2021-01-01T13:53:56.336456",
          "exception": false,
          "start_time": "2021-01-01T13:53:56.261762",
          "status": "completed"
        },
        "tags": [],
        "colab": {
          "base_uri": "https://localhost:8080/"
        },
        "id": "q2YWBuag_imP",
        "outputId": "fc2552db-3a0a-4d74-f42a-76f031d34f85"
      },
      "outputs": [
        {
          "output_type": "stream",
          "name": "stdout",
          "text": [
            "Max Na_to_K: 38.247\n",
            "Min Na_to_K: 6.269\n",
            "Mean Na_to_K: 16.08448499999999\n"
          ]
        }
      ],
      "source": [
        "print(\"Max Na_to_K:\",df.Na_to_K.max())\n",
        "print(\"Min Na_to_K:\",df.Na_to_K.min())\n",
        "print(\"Mean Na_to_K:\",df.Na_to_K.mean())"
      ]
    },
    {
      "cell_type": "code",
      "execution_count": 23,
      "metadata": {
        "execution": {
          "iopub.execute_input": "2021-01-01T13:53:56.477281Z",
          "iopub.status.busy": "2021-01-01T13:53:56.472177Z",
          "iopub.status.idle": "2021-01-01T13:53:56.630160Z",
          "shell.execute_reply": "2021-01-01T13:53:56.629609Z"
        },
        "papermill": {
          "duration": 0.231793,
          "end_time": "2021-01-01T13:53:56.630288",
          "exception": false,
          "start_time": "2021-01-01T13:53:56.398495",
          "status": "completed"
        },
        "tags": [],
        "colab": {
          "base_uri": "https://localhost:8080/",
          "height": 335
        },
        "id": "l15dvbyO_imQ",
        "outputId": "c2ba7b15-0f14-4d2d-d7e9-4d67dac4c79c"
      },
      "outputs": [
        {
          "output_type": "display_data",
          "data": {
            "image/png": "[encoded data removed]",
            "text/plain": [
              "<Figure size 648x360 with 1 Axes>"
            ]
          },
          "metadata": {
            "needs_background": "light"
          }
        }
      ],
      "source": [
        "plt.figure(figsize = (9,5))\n",
        "sns.distplot(df.Na_to_K)\n",
        "plt.show()"
      ]
    },
    {
      "cell_type": "markdown",
      "metadata": {
        "papermill": {
          "duration": 0.062612,
          "end_time": "2021-01-01T13:53:56.756310",
          "exception": false,
          "start_time": "2021-01-01T13:53:56.693698",
          "status": "completed"
        },
        "tags": [],
        "id": "-HcOqMqe_imQ"
      },
      "source": [
        "<a id='9'></a>\n",
        "### Drug Variable"
      ]
    },
    {
      "cell_type": "code",
      "execution_count": 24,
      "metadata": {
        "execution": {
          "iopub.execute_input": "2021-01-01T13:53:56.892865Z",
          "iopub.status.busy": "2021-01-01T13:53:56.891789Z",
          "iopub.status.idle": "2021-01-01T13:53:56.895758Z",
          "shell.execute_reply": "2021-01-01T13:53:56.895250Z"
        },
        "papermill": {
          "duration": 0.0751,
          "end_time": "2021-01-01T13:53:56.895878",
          "exception": false,
          "start_time": "2021-01-01T13:53:56.820778",
          "status": "completed"
        },
        "tags": [],
        "colab": {
          "base_uri": "https://localhost:8080/"
        },
        "id": "JOteX6kv_imR",
        "outputId": "ffdb1f56-2bee-4f40-f5ff-450f8691baf6"
      },
      "outputs": [
        {
          "output_type": "execute_result",
          "data": {
            "text/plain": [
              "DrugY    91\n",
              "drugX    54\n",
              "drugA    23\n",
              "drugC    16\n",
              "drugB    16\n",
              "Name: Drug, dtype: int64"
            ]
          },
          "metadata": {},
          "execution_count": 24
        }
      ],
      "source": [
        "df.Drug.value_counts()"
      ]
    },
    {
      "cell_type": "code",
      "execution_count": 25,
      "metadata": {
        "execution": {
          "iopub.execute_input": "2021-01-01T13:53:57.120200Z",
          "iopub.status.busy": "2021-01-01T13:53:57.032688Z",
          "iopub.status.idle": "2021-01-01T13:53:57.234582Z",
          "shell.execute_reply": "2021-01-01T13:53:57.233935Z"
        },
        "papermill": {
          "duration": 0.275339,
          "end_time": "2021-01-01T13:53:57.234712",
          "exception": false,
          "start_time": "2021-01-01T13:53:56.959373",
          "status": "completed"
        },
        "tags": [],
        "colab": {
          "base_uri": "https://localhost:8080/",
          "height": 334
        },
        "id": "6fm6mSC3_imR",
        "outputId": "10b0d820-9dc3-4f2d-98e7-f62c0c68f318"
      },
      "outputs": [
        {
          "output_type": "display_data",
          "data": {
            "image/png": "[encoded data removed]",
            "text/plain": [
              "<Figure size 648x360 with 1 Axes>"
            ]
          },
          "metadata": {
            "needs_background": "light"
          }
        }
      ],
      "source": [
        "plt.figure(figsize = (9,5))\n",
        "sns.countplot(df.Drug)\n",
        "plt.show()"
      ]
    },
    {
      "cell_type": "markdown",
      "metadata": {
        "papermill": {
          "duration": 0.064243,
          "end_time": "2021-01-01T13:53:57.364096",
          "exception": false,
          "start_time": "2021-01-01T13:53:57.299853",
          "status": "completed"
        },
        "tags": [],
        "id": "X6A8z_fD_imR"
      },
      "source": [
        "* Drug is target column and you can see that it is unbalanced dataset. Using K Fold cross-validation would be better for reliable results."
      ]
    },
    {
      "cell_type": "markdown",
      "metadata": {
        "papermill": {
          "duration": 0.112296,
          "end_time": "2021-01-01T13:53:57.540508",
          "exception": false,
          "start_time": "2021-01-01T13:53:57.428212",
          "status": "completed"
        },
        "tags": [],
        "id": "QwoXSYD1_imR"
      },
      "source": [
        "<a id='10'></a>\n",
        "# Basic Data Analysis\n",
        "\n",
        "* Age -- Drug\n",
        "* Sex -- Drug\n",
        "* BP -- Drug\n",
        "* Cholesterol -- Drug"
      ]
    },
    {
      "cell_type": "markdown",
      "metadata": {
        "papermill": {
          "duration": 0.063505,
          "end_time": "2021-01-01T13:53:57.667974",
          "exception": false,
          "start_time": "2021-01-01T13:53:57.604469",
          "status": "completed"
        },
        "tags": [],
        "id": "MntnYN9u_imS"
      },
      "source": [
        "<a id='11'></a>\n",
        "## Age -- Drug"
      ]
    },
    {
      "cell_type": "code",
      "execution_count": 26,
      "metadata": {
        "execution": {
          "iopub.execute_input": "2021-01-01T13:53:57.799845Z",
          "iopub.status.busy": "2021-01-01T13:53:57.799124Z",
          "iopub.status.idle": "2021-01-01T13:53:58.035047Z",
          "shell.execute_reply": "2021-01-01T13:53:58.035589Z"
        },
        "papermill": {
          "duration": 0.304062,
          "end_time": "2021-01-01T13:53:58.035759",
          "exception": false,
          "start_time": "2021-01-01T13:53:57.731697",
          "status": "completed"
        },
        "tags": [],
        "colab": {
          "base_uri": "https://localhost:8080/",
          "height": 350
        },
        "id": "qxQCjoil_imS",
        "outputId": "8dd9f77c-8a9b-473c-9e73-957a20bb4671"
      },
      "outputs": [
        {
          "output_type": "display_data",
          "data": {
            "image/png": "[encoded data removed]",
            "text/plain": [
              "<Figure size 648x360 with 1 Axes>"
            ]
          },
          "metadata": {
            "needs_background": "light"
          }
        }
      ],
      "source": [
        "plt.figure(figsize = (9,5))\n",
        "sns.swarmplot(x = \"Drug\", y = \"Age\",data = df)\n",
        "plt.legend(df.Drug.value_counts().index)\n",
        "plt.title(\"Age -- Drug\")\n",
        "plt.show()"
      ]
    },
    {
      "cell_type": "code",
      "execution_count": 27,
      "metadata": {
        "execution": {
          "iopub.execute_input": "2021-01-01T13:53:58.174991Z",
          "iopub.status.busy": "2021-01-01T13:53:58.174179Z",
          "iopub.status.idle": "2021-01-01T13:53:58.179410Z",
          "shell.execute_reply": "2021-01-01T13:53:58.178519Z"
        },
        "papermill": {
          "duration": 0.078084,
          "end_time": "2021-01-01T13:53:58.179569",
          "exception": false,
          "start_time": "2021-01-01T13:53:58.101485",
          "status": "completed"
        },
        "tags": [],
        "colab": {
          "base_uri": "https://localhost:8080/"
        },
        "id": "7sQu2fwW_imS",
        "outputId": "85bbf6fd-636b-4c59-f4d3-dacd97b90a38"
      },
      "outputs": [
        {
          "output_type": "stream",
          "name": "stdout",
          "text": [
            "Minimum Age of DrugB 51\n",
            "Maximum Age of DrugA 50\n"
          ]
        }
      ],
      "source": [
        "print(\"Minimum Age of DrugB\",df.Age[df.Drug == \"drugB\"].min())\n",
        "print(\"Maximum Age of DrugA\",df.Age[df.Drug == \"drugA\"].max())"
      ]
    },
    {
      "cell_type": "markdown",
      "metadata": {
        "papermill": {
          "duration": 0.067688,
          "end_time": "2021-01-01T13:53:58.314170",
          "exception": false,
          "start_time": "2021-01-01T13:53:58.246482",
          "status": "completed"
        },
        "tags": [],
        "id": "NL1QbpSE_imT"
      },
      "source": [
        "* DrugB is taken only by older than 51 years old. \n",
        "* DrugA is taken only by younger than 50 years old. "
      ]
    },
    {
      "cell_type": "markdown",
      "metadata": {
        "papermill": {
          "duration": 0.066256,
          "end_time": "2021-01-01T13:53:58.447432",
          "exception": false,
          "start_time": "2021-01-01T13:53:58.381176",
          "status": "completed"
        },
        "tags": [],
        "id": "ygwVOyhh_imT"
      },
      "source": [
        "<a id='12'></a>\n",
        "## Sex -- Drug"
      ]
    },
    {
      "cell_type": "code",
      "execution_count": 28,
      "metadata": {
        "execution": {
          "iopub.execute_input": "2021-01-01T13:53:58.597320Z",
          "iopub.status.busy": "2021-01-01T13:53:58.596337Z",
          "iopub.status.idle": "2021-01-01T13:53:58.601377Z",
          "shell.execute_reply": "2021-01-01T13:53:58.600838Z"
        },
        "papermill": {
          "duration": 0.087072,
          "end_time": "2021-01-01T13:53:58.601489",
          "exception": false,
          "start_time": "2021-01-01T13:53:58.514417",
          "status": "completed"
        },
        "tags": [],
        "colab": {
          "base_uri": "https://localhost:8080/",
          "height": 363
        },
        "id": "J6hz8YIr_imT",
        "outputId": "2dfc333f-2da6-41b1-9ef4-caca3946fb88"
      },
      "outputs": [
        {
          "output_type": "execute_result",
          "data": {
            "text/html": [
              "\n",
              "  <div id=\"df-fb5aa988-bc54-4ba0-956a-2068af35883c\">\n",
              "    <div class=\"colab-df-container\">\n",
              "      <div>\n",
              "<style scoped>\n",
              "    .dataframe tbody tr th:only-of-type {\n",
              "        vertical-align: middle;\n",
              "    }\n",
              "\n",
              "    .dataframe tbody tr th {\n",
              "        vertical-align: top;\n",
              "    }\n",
              "\n",
              "    .dataframe thead th {\n",
              "        text-align: right;\n",
              "    }\n",
              "</style>\n",
              "<table border=\"1\" class=\"dataframe\">\n",
              "  <thead>\n",
              "    <tr style=\"text-align: right;\">\n",
              "      <th></th>\n",
              "      <th>Drug</th>\n",
              "      <th>Sex</th>\n",
              "      <th>Count</th>\n",
              "    </tr>\n",
              "  </thead>\n",
              "  <tbody>\n",
              "    <tr>\n",
              "      <th>0</th>\n",
              "      <td>DrugY</td>\n",
              "      <td>F</td>\n",
              "      <td>47</td>\n",
              "    </tr>\n",
              "    <tr>\n",
              "      <th>1</th>\n",
              "      <td>DrugY</td>\n",
              "      <td>M</td>\n",
              "      <td>44</td>\n",
              "    </tr>\n",
              "    <tr>\n",
              "      <th>2</th>\n",
              "      <td>drugA</td>\n",
              "      <td>F</td>\n",
              "      <td>9</td>\n",
              "    </tr>\n",
              "    <tr>\n",
              "      <th>3</th>\n",
              "      <td>drugA</td>\n",
              "      <td>M</td>\n",
              "      <td>14</td>\n",
              "    </tr>\n",
              "    <tr>\n",
              "      <th>4</th>\n",
              "      <td>drugB</td>\n",
              "      <td>F</td>\n",
              "      <td>6</td>\n",
              "    </tr>\n",
              "    <tr>\n",
              "      <th>5</th>\n",
              "      <td>drugB</td>\n",
              "      <td>M</td>\n",
              "      <td>10</td>\n",
              "    </tr>\n",
              "    <tr>\n",
              "      <th>6</th>\n",
              "      <td>drugC</td>\n",
              "      <td>F</td>\n",
              "      <td>7</td>\n",
              "    </tr>\n",
              "    <tr>\n",
              "      <th>7</th>\n",
              "      <td>drugC</td>\n",
              "      <td>M</td>\n",
              "      <td>9</td>\n",
              "    </tr>\n",
              "    <tr>\n",
              "      <th>8</th>\n",
              "      <td>drugX</td>\n",
              "      <td>F</td>\n",
              "      <td>27</td>\n",
              "    </tr>\n",
              "    <tr>\n",
              "      <th>9</th>\n",
              "      <td>drugX</td>\n",
              "      <td>M</td>\n",
              "      <td>27</td>\n",
              "    </tr>\n",
              "  </tbody>\n",
              "</table>\n",
              "</div>\n",
              "      <button class=\"colab-df-convert\" onclick=\"convertToInteractive('df-fb5aa988-bc54-4ba0-956a-2068af35883c')\"\n",
              "              title=\"Convert this dataframe to an interactive table.\"\n",
              "              style=\"display:none;\">\n",
              "        \n",
              "  <svg xmlns=\"http://www.w3.org/2000/svg\" height=\"24px\"viewBox=\"0 0 24 24\"\n",
              "       width=\"24px\">\n",
              "    <path d=\"M0 0h24v24H0V0z\" fill=\"none\"/>\n",
              "    <path d=\"M18.56 5.44l.94 2.06.94-2.06 2.06-.94-2.06-.94-.94-2.06-.94 2.06-2.06.94zm-11 1L8.5 8.5l.94-2.06 2.06-.94-2.06-.94L8.5 2.5l-.94 2.06-2.06.94zm10 10l.94 2.06.94-2.06 2.06-.94-2.06-.94-.94-2.06-.94 2.06-2.06.94z\"/><path d=\"M17.41 7.96l-1.37-1.37c-.4-.4-.92-.59-1.43-.59-.52 0-1.04.2-1.43.59L10.3 9.45l-7.72 7.72c-.78.78-.78 2.05 0 2.83L4 21.41c.39.39.9.59 1.41.59.51 0 1.02-.2 1.41-.59l7.78-7.78 2.81-2.81c.8-.78.8-2.07 0-2.86zM5.41 20L4 18.59l7.72-7.72 1.47 1.35L5.41 20z\"/>\n",
              "  </svg>\n",
              "      </button>\n",
              "      \n",
              "  <style>\n",
              "    .colab-df-container {\n",
              "      display:flex;\n",
              "      flex-wrap:wrap;\n",
              "      gap: 12px;\n",
              "    }\n",
              "\n",
              "    .colab-df-convert {\n",
              "      background-color: #E8F0FE;\n",
              "      border: none;\n",
              "      border-radius: 50%;\n",
              "      cursor: pointer;\n",
              "      display: none;\n",
              "      fill: #1967D2;\n",
              "      height: 32px;\n",
              "      padding: 0 0 0 0;\n",
              "      width: 32px;\n",
              "    }\n",
              "\n",
              "    .colab-df-convert:hover {\n",
              "      background-color: #E2EBFA;\n",
              "      box-shadow: 0px 1px 2px rgba(60, 64, 67, 0.3), 0px 1px 3px 1px rgba(60, 64, 67, 0.15);\n",
              "      fill: #174EA6;\n",
              "    }\n",
              "\n",
              "    [theme=dark] .colab-df-convert {\n",
              "      background-color: #3B4455;\n",
              "      fill: #D2E3FC;\n",
              "    }\n",
              "\n",
              "    [theme=dark] .colab-df-convert:hover {\n",
              "      background-color: #434B5C;\n",
              "      box-shadow: 0px 1px 3px 1px rgba(0, 0, 0, 0.15);\n",
              "      filter: drop-shadow(0px 1px 2px rgba(0, 0, 0, 0.3));\n",
              "      fill: #FFFFFF;\n",
              "    }\n",
              "  </style>\n",
              "\n",
              "      <script>\n",
              "        const buttonEl =\n",
              "          document.querySelector('#df-fb5aa988-bc54-4ba0-956a-2068af35883c button.colab-df-convert');\n",
              "        buttonEl.style.display =\n",
              "          google.colab.kernel.accessAllowed ? 'block' : 'none';\n",
              "\n",
              "        async function convertToInteractive(key) {\n",
              "          const element = document.querySelector('#df-fb5aa988-bc54-4ba0-956a-2068af35883c');\n",
              "          const dataTable =\n",
              "            await google.colab.kernel.invokeFunction('convertToInteractive',\n",
              "                                                     [key], {});\n",
              "          if (!dataTable) return;\n",
              "\n",
              "          const docLinkHtml = 'Like what you see? Visit the ' +\n",
              "            '<a target=\"_blank\" href=https://colab.research.google.com/notebooks/data_table.ipynb>data table notebook</a>'\n",
              "            + ' to learn more about interactive tables.';\n",
              "          element.innerHTML = '';\n",
              "          dataTable['output_type'] = 'display_data';\n",
              "          await google.colab.output.renderOutput(dataTable, element);\n",
              "          const docLink = document.createElement('div');\n",
              "          docLink.innerHTML = docLinkHtml;\n",
              "          element.appendChild(docLink);\n",
              "        }\n",
              "      </script>\n",
              "    </div>\n",
              "  </div>\n",
              "  "
            ],
            "text/plain": [
              "    Drug Sex  Count\n",
              "0  DrugY   F     47\n",
              "1  DrugY   M     44\n",
              "2  drugA   F      9\n",
              "3  drugA   M     14\n",
              "4  drugB   F      6\n",
              "5  drugB   M     10\n",
              "6  drugC   F      7\n",
              "7  drugC   M      9\n",
              "8  drugX   F     27\n",
              "9  drugX   M     27"
            ]
          },
          "metadata": {},
          "execution_count": 28
        }
      ],
      "source": [
        "df_Sex_Drug = df.groupby([\"Drug\",\"Sex\"]).size().reset_index(name = \"Count\")\n",
        "df_Sex_Drug"
      ]
    },
    {
      "cell_type": "code",
      "execution_count": 29,
      "metadata": {
        "execution": {
          "iopub.execute_input": "2021-01-01T13:53:58.741083Z",
          "iopub.status.busy": "2021-01-01T13:53:58.740016Z",
          "iopub.status.idle": "2021-01-01T13:53:58.928833Z",
          "shell.execute_reply": "2021-01-01T13:53:58.928216Z"
        },
        "papermill": {
          "duration": 0.260438,
          "end_time": "2021-01-01T13:53:58.928951",
          "exception": false,
          "start_time": "2021-01-01T13:53:58.668513",
          "status": "completed"
        },
        "tags": [],
        "colab": {
          "base_uri": "https://localhost:8080/",
          "height": 350
        },
        "id": "8UhtvVnJ_imT",
        "outputId": "72411ef1-3606-4325-8ca3-2c2407c4b8a4"
      },
      "outputs": [
        {
          "output_type": "display_data",
          "data": {
            "image/png": "[encoded data removed]",
            "text/plain": [
              "<Figure size 648x360 with 1 Axes>"
            ]
          },
          "metadata": {
            "needs_background": "light"
          }
        }
      ],
      "source": [
        "\n",
        "plt.figure(figsize = (9,5))\n",
        "sns.barplot(x = \"Drug\",y=\"Count\", hue = \"Sex\",data = df_Sex_Drug)\n",
        "plt.title(\"Sex -- Drug\")\n",
        "plt.show()"
      ]
    },
    {
      "cell_type": "markdown",
      "metadata": {
        "papermill": {
          "duration": 0.066955,
          "end_time": "2021-01-01T13:53:59.063786",
          "exception": false,
          "start_time": "2021-01-01T13:53:58.996831",
          "status": "completed"
        },
        "tags": [],
        "id": "ijAs4DQS_imU"
      },
      "source": [
        "* Male people get drugA, drugB and drugC more than male people.\n",
        "* Female people get DrugY more than female people.\n",
        "* drugX seems equal for male and female people.\n",
        "* According to this graph, Sex feature is not an important feature for classification."
      ]
    },
    {
      "cell_type": "markdown",
      "metadata": {
        "papermill": {
          "duration": 0.067509,
          "end_time": "2021-01-01T13:53:59.198942",
          "exception": false,
          "start_time": "2021-01-01T13:53:59.131433",
          "status": "completed"
        },
        "tags": [],
        "id": "_UW_yxpn_imU"
      },
      "source": [
        "<a id='13'></a>\n",
        "## BP -- Drug"
      ]
    },
    {
      "cell_type": "code",
      "execution_count": 30,
      "metadata": {
        "execution": {
          "iopub.execute_input": "2021-01-01T13:53:59.351032Z",
          "iopub.status.busy": "2021-01-01T13:53:59.349935Z",
          "iopub.status.idle": "2021-01-01T13:53:59.355340Z",
          "shell.execute_reply": "2021-01-01T13:53:59.354810Z"
        },
        "papermill": {
          "duration": 0.088839,
          "end_time": "2021-01-01T13:53:59.355459",
          "exception": false,
          "start_time": "2021-01-01T13:53:59.266620",
          "status": "completed"
        },
        "tags": [],
        "colab": {
          "base_uri": "https://localhost:8080/",
          "height": 0
        },
        "id": "BM54jUdD_imU",
        "outputId": "f252a69c-dbe2-4e9a-9755-86d36f3f6163"
      },
      "outputs": [
        {
          "output_type": "execute_result",
          "data": {
            "text/html": [
              "\n",
              "  <div id=\"df-3e0a6140-bbe3-48d8-ad4e-5bf005ab310e\">\n",
              "    <div class=\"colab-df-container\">\n",
              "      <div>\n",
              "<style scoped>\n",
              "    .dataframe tbody tr th:only-of-type {\n",
              "        vertical-align: middle;\n",
              "    }\n",
              "\n",
              "    .dataframe tbody tr th {\n",
              "        vertical-align: top;\n",
              "    }\n",
              "\n",
              "    .dataframe thead th {\n",
              "        text-align: right;\n",
              "    }\n",
              "</style>\n",
              "<table border=\"1\" class=\"dataframe\">\n",
              "  <thead>\n",
              "    <tr style=\"text-align: right;\">\n",
              "      <th></th>\n",
              "      <th>Drug</th>\n",
              "      <th>BP</th>\n",
              "      <th>Count</th>\n",
              "    </tr>\n",
              "  </thead>\n",
              "  <tbody>\n",
              "    <tr>\n",
              "      <th>0</th>\n",
              "      <td>DrugY</td>\n",
              "      <td>HIGH</td>\n",
              "      <td>38</td>\n",
              "    </tr>\n",
              "    <tr>\n",
              "      <th>1</th>\n",
              "      <td>DrugY</td>\n",
              "      <td>LOW</td>\n",
              "      <td>30</td>\n",
              "    </tr>\n",
              "    <tr>\n",
              "      <th>2</th>\n",
              "      <td>DrugY</td>\n",
              "      <td>NORMAL</td>\n",
              "      <td>23</td>\n",
              "    </tr>\n",
              "    <tr>\n",
              "      <th>3</th>\n",
              "      <td>drugA</td>\n",
              "      <td>HIGH</td>\n",
              "      <td>23</td>\n",
              "    </tr>\n",
              "    <tr>\n",
              "      <th>4</th>\n",
              "      <td>drugB</td>\n",
              "      <td>HIGH</td>\n",
              "      <td>16</td>\n",
              "    </tr>\n",
              "    <tr>\n",
              "      <th>5</th>\n",
              "      <td>drugC</td>\n",
              "      <td>LOW</td>\n",
              "      <td>16</td>\n",
              "    </tr>\n",
              "    <tr>\n",
              "      <th>6</th>\n",
              "      <td>drugX</td>\n",
              "      <td>LOW</td>\n",
              "      <td>18</td>\n",
              "    </tr>\n",
              "    <tr>\n",
              "      <th>7</th>\n",
              "      <td>drugX</td>\n",
              "      <td>NORMAL</td>\n",
              "      <td>36</td>\n",
              "    </tr>\n",
              "  </tbody>\n",
              "</table>\n",
              "</div>\n",
              "      <button class=\"colab-df-convert\" onclick=\"convertToInteractive('df-3e0a6140-bbe3-48d8-ad4e-5bf005ab310e')\"\n",
              "              title=\"Convert this dataframe to an interactive table.\"\n",
              "              style=\"display:none;\">\n",
              "        \n",
              "  <svg xmlns=\"http://www.w3.org/2000/svg\" height=\"24px\"viewBox=\"0 0 24 24\"\n",
              "       width=\"24px\">\n",
              "    <path d=\"M0 0h24v24H0V0z\" fill=\"none\"/>\n",
              "    <path d=\"M18.56 5.44l.94 2.06.94-2.06 2.06-.94-2.06-.94-.94-2.06-.94 2.06-2.06.94zm-11 1L8.5 8.5l.94-2.06 2.06-.94-2.06-.94L8.5 2.5l-.94 2.06-2.06.94zm10 10l.94 2.06.94-2.06 2.06-.94-2.06-.94-.94-2.06-.94 2.06-2.06.94z\"/><path d=\"M17.41 7.96l-1.37-1.37c-.4-.4-.92-.59-1.43-.59-.52 0-1.04.2-1.43.59L10.3 9.45l-7.72 7.72c-.78.78-.78 2.05 0 2.83L4 21.41c.39.39.9.59 1.41.59.51 0 1.02-.2 1.41-.59l7.78-7.78 2.81-2.81c.8-.78.8-2.07 0-2.86zM5.41 20L4 18.59l7.72-7.72 1.47 1.35L5.41 20z\"/>\n",
              "  </svg>\n",
              "      </button>\n",
              "      \n",
              "  <style>\n",
              "    .colab-df-container {\n",
              "      display:flex;\n",
              "      flex-wrap:wrap;\n",
              "      gap: 12px;\n",
              "    }\n",
              "\n",
              "    .colab-df-convert {\n",
              "      background-color: #E8F0FE;\n",
              "      border: none;\n",
              "      border-radius: 50%;\n",
              "      cursor: pointer;\n",
              "      display: none;\n",
              "      fill: #1967D2;\n",
              "      height: 32px;\n",
              "      padding: 0 0 0 0;\n",
              "      width: 32px;\n",
              "    }\n",
              "\n",
              "    .colab-df-convert:hover {\n",
              "      background-color: #E2EBFA;\n",
              "      box-shadow: 0px 1px 2px rgba(60, 64, 67, 0.3), 0px 1px 3px 1px rgba(60, 64, 67, 0.15);\n",
              "      fill: #174EA6;\n",
              "    }\n",
              "\n",
              "    [theme=dark] .colab-df-convert {\n",
              "      background-color: #3B4455;\n",
              "      fill: #D2E3FC;\n",
              "    }\n",
              "\n",
              "    [theme=dark] .colab-df-convert:hover {\n",
              "      background-color: #434B5C;\n",
              "      box-shadow: 0px 1px 3px 1px rgba(0, 0, 0, 0.15);\n",
              "      filter: drop-shadow(0px 1px 2px rgba(0, 0, 0, 0.3));\n",
              "      fill: #FFFFFF;\n",
              "    }\n",
              "  </style>\n",
              "\n",
              "      <script>\n",
              "        const buttonEl =\n",
              "          document.querySelector('#df-3e0a6140-bbe3-48d8-ad4e-5bf005ab310e button.colab-df-convert');\n",
              "        buttonEl.style.display =\n",
              "          google.colab.kernel.accessAllowed ? 'block' : 'none';\n",
              "\n",
              "        async function convertToInteractive(key) {\n",
              "          const element = document.querySelector('#df-3e0a6140-bbe3-48d8-ad4e-5bf005ab310e');\n",
              "          const dataTable =\n",
              "            await google.colab.kernel.invokeFunction('convertToInteractive',\n",
              "                                                     [key], {});\n",
              "          if (!dataTable) return;\n",
              "\n",
              "          const docLinkHtml = 'Like what you see? Visit the ' +\n",
              "            '<a target=\"_blank\" href=https://colab.research.google.com/notebooks/data_table.ipynb>data table notebook</a>'\n",
              "            + ' to learn more about interactive tables.';\n",
              "          element.innerHTML = '';\n",
              "          dataTable['output_type'] = 'display_data';\n",
              "          await google.colab.output.renderOutput(dataTable, element);\n",
              "          const docLink = document.createElement('div');\n",
              "          docLink.innerHTML = docLinkHtml;\n",
              "          element.appendChild(docLink);\n",
              "        }\n",
              "      </script>\n",
              "    </div>\n",
              "  </div>\n",
              "  "
            ],
            "text/plain": [
              "    Drug      BP  Count\n",
              "0  DrugY    HIGH     38\n",
              "1  DrugY     LOW     30\n",
              "2  DrugY  NORMAL     23\n",
              "3  drugA    HIGH     23\n",
              "4  drugB    HIGH     16\n",
              "5  drugC     LOW     16\n",
              "6  drugX     LOW     18\n",
              "7  drugX  NORMAL     36"
            ]
          },
          "metadata": {},
          "execution_count": 30
        }
      ],
      "source": [
        "df_BP_Drug = df.groupby([\"Drug\",\"BP\"]).size().reset_index(name = \"Count\")\n",
        "df_BP_Drug"
      ]
    },
    {
      "cell_type": "code",
      "execution_count": 31,
      "metadata": {
        "execution": {
          "iopub.execute_input": "2021-01-01T13:53:59.517450Z",
          "iopub.status.busy": "2021-01-01T13:53:59.515942Z",
          "iopub.status.idle": "2021-01-01T13:53:59.732173Z",
          "shell.execute_reply": "2021-01-01T13:53:59.731620Z"
        },
        "papermill": {
          "duration": 0.308462,
          "end_time": "2021-01-01T13:53:59.732287",
          "exception": false,
          "start_time": "2021-01-01T13:53:59.423825",
          "status": "completed"
        },
        "tags": [],
        "colab": {
          "base_uri": "https://localhost:8080/",
          "height": 0
        },
        "id": "nStZ8rI2_imV",
        "outputId": "613a477c-e6a3-4068-f95a-89b8ca03e1db"
      },
      "outputs": [
        {
          "output_type": "display_data",
          "data": {
            "image/png": "[encoded data removed]",
            "text/plain": [
              "<Figure size 648x360 with 1 Axes>"
            ]
          },
          "metadata": {
            "needs_background": "light"
          }
        }
      ],
      "source": [
        "plt.figure(figsize = (9,5))\n",
        "sns.barplot(x = \"Drug\",y=\"Count\", hue = \"BP\",data = df_BP_Drug)\n",
        "plt.title(\"BP -- Drug\")\n",
        "plt.show()"
      ]
    },
    {
      "cell_type": "markdown",
      "metadata": {
        "papermill": {
          "duration": 0.069278,
          "end_time": "2021-01-01T13:53:59.870338",
          "exception": false,
          "start_time": "2021-01-01T13:53:59.801060",
          "status": "completed"
        },
        "tags": [],
        "id": "bPH2oiJD_imV"
      },
      "source": [
        "* drugA and drugB are got only by people who have HIGH blood pressure.\n",
        "* drugC is got by people who have LOW blood pressure.\n",
        "* drugX is got by people who have HIGH blood pressure.\n",
        "* BP is an important feature for classification."
      ]
    },
    {
      "cell_type": "markdown",
      "metadata": {
        "papermill": {
          "duration": 0.069005,
          "end_time": "2021-01-01T13:54:00.008178",
          "exception": false,
          "start_time": "2021-01-01T13:53:59.939173",
          "status": "completed"
        },
        "tags": [],
        "id": "_b61A7wb_imV"
      },
      "source": [
        "<a id='14'></a>\n",
        "## Na_to_K -- Drug"
      ]
    },
    {
      "cell_type": "code",
      "execution_count": 32,
      "metadata": {
        "execution": {
          "iopub.execute_input": "2021-01-01T13:54:00.155794Z",
          "iopub.status.busy": "2021-01-01T13:54:00.154737Z",
          "iopub.status.idle": "2021-01-01T13:54:00.351320Z",
          "shell.execute_reply": "2021-01-01T13:54:00.350649Z"
        },
        "papermill": {
          "duration": 0.27426,
          "end_time": "2021-01-01T13:54:00.351451",
          "exception": false,
          "start_time": "2021-01-01T13:54:00.077191",
          "status": "completed"
        },
        "tags": [],
        "colab": {
          "base_uri": "https://localhost:8080/",
          "height": 350
        },
        "id": "goOBreEP_imW",
        "outputId": "d540f848-b216-4357-be6e-3ca34c2ae7f6"
      },
      "outputs": [
        {
          "output_type": "display_data",
          "data": {
            "image/png": "[encoded data removed]",
            "text/plain": [
              "<Figure size 648x360 with 1 Axes>"
            ]
          },
          "metadata": {
            "needs_background": "light"
          }
        }
      ],
      "source": [
        "plt.figure(figsize = (9,5))\n",
        "sns.swarmplot(x = \"Drug\", y = \"Na_to_K\",data = df)\n",
        "plt.title(\"Na_to_K -- Drug\")\n",
        "plt.show()"
      ]
    },
    {
      "cell_type": "code",
      "execution_count": 33,
      "metadata": {
        "execution": {
          "iopub.execute_input": "2021-01-01T13:54:00.504477Z",
          "iopub.status.busy": "2021-01-01T13:54:00.503588Z",
          "iopub.status.idle": "2021-01-01T13:54:00.507472Z",
          "shell.execute_reply": "2021-01-01T13:54:00.506848Z"
        },
        "papermill": {
          "duration": 0.082648,
          "end_time": "2021-01-01T13:54:00.507582",
          "exception": false,
          "start_time": "2021-01-01T13:54:00.424934",
          "status": "completed"
        },
        "tags": [],
        "colab": {
          "base_uri": "https://localhost:8080/"
        },
        "id": "r5jg9yJ4_imW",
        "outputId": "3881b297-92bb-4abe-dda0-19984bad0e6a"
      },
      "outputs": [
        {
          "output_type": "stream",
          "name": "stdout",
          "text": [
            "Minimum Na_to_K for DrugY: 15.015\n"
          ]
        }
      ],
      "source": [
        "print(\"Minimum Na_to_K for DrugY:\",df.Na_to_K[df.Drug == \"DrugY\"].min())"
      ]
    },
    {
      "cell_type": "markdown",
      "metadata": {
        "papermill": {
          "duration": 0.070586,
          "end_time": "2021-01-01T13:54:00.649547",
          "exception": false,
          "start_time": "2021-01-01T13:54:00.578961",
          "status": "completed"
        },
        "tags": [],
        "id": "795HqGXH_imW"
      },
      "source": [
        "* People who have Na_to_K ratio is bigger than 15, get DrugY.\n",
        "* We can create a new feature from here."
      ]
    },
    {
      "cell_type": "markdown",
      "metadata": {
        "papermill": {
          "duration": 0.071075,
          "end_time": "2021-01-01T13:54:00.792430",
          "exception": false,
          "start_time": "2021-01-01T13:54:00.721355",
          "status": "completed"
        },
        "tags": [],
        "id": "DFZvQGY9_imW"
      },
      "source": [
        "<a id='15'></a>\n",
        "## Cholesterol -- Drug"
      ]
    },
    {
      "cell_type": "code",
      "execution_count": 34,
      "metadata": {
        "execution": {
          "iopub.execute_input": "2021-01-01T13:54:00.952415Z",
          "iopub.status.busy": "2021-01-01T13:54:00.948524Z",
          "iopub.status.idle": "2021-01-01T13:54:00.957208Z",
          "shell.execute_reply": "2021-01-01T13:54:00.956599Z"
        },
        "papermill": {
          "duration": 0.092399,
          "end_time": "2021-01-01T13:54:00.957323",
          "exception": false,
          "start_time": "2021-01-01T13:54:00.864924",
          "status": "completed"
        },
        "tags": [],
        "colab": {
          "base_uri": "https://localhost:8080/",
          "height": 331
        },
        "id": "wnrXbBsI_imX",
        "outputId": "3511d68b-b3ed-4fec-9c8e-21beacbec82e"
      },
      "outputs": [
        {
          "output_type": "execute_result",
          "data": {
            "text/html": [
              "\n",
              "  <div id=\"df-8f3981e1-786d-47a3-98f4-f6cbbf80d315\">\n",
              "    <div class=\"colab-df-container\">\n",
              "      <div>\n",
              "<style scoped>\n",
              "    .dataframe tbody tr th:only-of-type {\n",
              "        vertical-align: middle;\n",
              "    }\n",
              "\n",
              "    .dataframe tbody tr th {\n",
              "        vertical-align: top;\n",
              "    }\n",
              "\n",
              "    .dataframe thead th {\n",
              "        text-align: right;\n",
              "    }\n",
              "</style>\n",
              "<table border=\"1\" class=\"dataframe\">\n",
              "  <thead>\n",
              "    <tr style=\"text-align: right;\">\n",
              "      <th></th>\n",
              "      <th>Drug</th>\n",
              "      <th>Cholesterol</th>\n",
              "      <th>Count</th>\n",
              "    </tr>\n",
              "  </thead>\n",
              "  <tbody>\n",
              "    <tr>\n",
              "      <th>0</th>\n",
              "      <td>DrugY</td>\n",
              "      <td>HIGH</td>\n",
              "      <td>47</td>\n",
              "    </tr>\n",
              "    <tr>\n",
              "      <th>1</th>\n",
              "      <td>DrugY</td>\n",
              "      <td>NORMAL</td>\n",
              "      <td>44</td>\n",
              "    </tr>\n",
              "    <tr>\n",
              "      <th>2</th>\n",
              "      <td>drugA</td>\n",
              "      <td>HIGH</td>\n",
              "      <td>12</td>\n",
              "    </tr>\n",
              "    <tr>\n",
              "      <th>3</th>\n",
              "      <td>drugA</td>\n",
              "      <td>NORMAL</td>\n",
              "      <td>11</td>\n",
              "    </tr>\n",
              "    <tr>\n",
              "      <th>4</th>\n",
              "      <td>drugB</td>\n",
              "      <td>HIGH</td>\n",
              "      <td>8</td>\n",
              "    </tr>\n",
              "    <tr>\n",
              "      <th>5</th>\n",
              "      <td>drugB</td>\n",
              "      <td>NORMAL</td>\n",
              "      <td>8</td>\n",
              "    </tr>\n",
              "    <tr>\n",
              "      <th>6</th>\n",
              "      <td>drugC</td>\n",
              "      <td>HIGH</td>\n",
              "      <td>16</td>\n",
              "    </tr>\n",
              "    <tr>\n",
              "      <th>7</th>\n",
              "      <td>drugX</td>\n",
              "      <td>HIGH</td>\n",
              "      <td>20</td>\n",
              "    </tr>\n",
              "    <tr>\n",
              "      <th>8</th>\n",
              "      <td>drugX</td>\n",
              "      <td>NORMAL</td>\n",
              "      <td>34</td>\n",
              "    </tr>\n",
              "  </tbody>\n",
              "</table>\n",
              "</div>\n",
              "      <button class=\"colab-df-convert\" onclick=\"convertToInteractive('df-8f3981e1-786d-47a3-98f4-f6cbbf80d315')\"\n",
              "              title=\"Convert this dataframe to an interactive table.\"\n",
              "              style=\"display:none;\">\n",
              "        \n",
              "  <svg xmlns=\"http://www.w3.org/2000/svg\" height=\"24px\"viewBox=\"0 0 24 24\"\n",
              "       width=\"24px\">\n",
              "    <path d=\"M0 0h24v24H0V0z\" fill=\"none\"/>\n",
              "    <path d=\"M18.56 5.44l.94 2.06.94-2.06 2.06-.94-2.06-.94-.94-2.06-.94 2.06-2.06.94zm-11 1L8.5 8.5l.94-2.06 2.06-.94-2.06-.94L8.5 2.5l-.94 2.06-2.06.94zm10 10l.94 2.06.94-2.06 2.06-.94-2.06-.94-.94-2.06-.94 2.06-2.06.94z\"/><path d=\"M17.41 7.96l-1.37-1.37c-.4-.4-.92-.59-1.43-.59-.52 0-1.04.2-1.43.59L10.3 9.45l-7.72 7.72c-.78.78-.78 2.05 0 2.83L4 21.41c.39.39.9.59 1.41.59.51 0 1.02-.2 1.41-.59l7.78-7.78 2.81-2.81c.8-.78.8-2.07 0-2.86zM5.41 20L4 18.59l7.72-7.72 1.47 1.35L5.41 20z\"/>\n",
              "  </svg>\n",
              "      </button>\n",
              "      \n",
              "  <style>\n",
              "    .colab-df-container {\n",
              "      display:flex;\n",
              "      flex-wrap:wrap;\n",
              "      gap: 12px;\n",
              "    }\n",
              "\n",
              "    .colab-df-convert {\n",
              "      background-color: #E8F0FE;\n",
              "      border: none;\n",
              "      border-radius: 50%;\n",
              "      cursor: pointer;\n",
              "      display: none;\n",
              "      fill: #1967D2;\n",
              "      height: 32px;\n",
              "      padding: 0 0 0 0;\n",
              "      width: 32px;\n",
              "    }\n",
              "\n",
              "    .colab-df-convert:hover {\n",
              "      background-color: #E2EBFA;\n",
              "      box-shadow: 0px 1px 2px rgba(60, 64, 67, 0.3), 0px 1px 3px 1px rgba(60, 64, 67, 0.15);\n",
              "      fill: #174EA6;\n",
              "    }\n",
              "\n",
              "    [theme=dark] .colab-df-convert {\n",
              "      background-color: #3B4455;\n",
              "      fill: #D2E3FC;\n",
              "    }\n",
              "\n",
              "    [theme=dark] .colab-df-convert:hover {\n",
              "      background-color: #434B5C;\n",
              "      box-shadow: 0px 1px 3px 1px rgba(0, 0, 0, 0.15);\n",
              "      filter: drop-shadow(0px 1px 2px rgba(0, 0, 0, 0.3));\n",
              "      fill: #FFFFFF;\n",
              "    }\n",
              "  </style>\n",
              "\n",
              "      <script>\n",
              "        const buttonEl =\n",
              "          document.querySelector('#df-8f3981e1-786d-47a3-98f4-f6cbbf80d315 button.colab-df-convert');\n",
              "        buttonEl.style.display =\n",
              "          google.colab.kernel.accessAllowed ? 'block' : 'none';\n",
              "\n",
              "        async function convertToInteractive(key) {\n",
              "          const element = document.querySelector('#df-8f3981e1-786d-47a3-98f4-f6cbbf80d315');\n",
              "          const dataTable =\n",
              "            await google.colab.kernel.invokeFunction('convertToInteractive',\n",
              "                                                     [key], {});\n",
              "          if (!dataTable) return;\n",
              "\n",
              "          const docLinkHtml = 'Like what you see? Visit the ' +\n",
              "            '<a target=\"_blank\" href=https://colab.research.google.com/notebooks/data_table.ipynb>data table notebook</a>'\n",
              "            + ' to learn more about interactive tables.';\n",
              "          element.innerHTML = '';\n",
              "          dataTable['output_type'] = 'display_data';\n",
              "          await google.colab.output.renderOutput(dataTable, element);\n",
              "          const docLink = document.createElement('div');\n",
              "          docLink.innerHTML = docLinkHtml;\n",
              "          element.appendChild(docLink);\n",
              "        }\n",
              "      </script>\n",
              "    </div>\n",
              "  </div>\n",
              "  "
            ],
            "text/plain": [
              "    Drug Cholesterol  Count\n",
              "0  DrugY        HIGH     47\n",
              "1  DrugY      NORMAL     44\n",
              "2  drugA        HIGH     12\n",
              "3  drugA      NORMAL     11\n",
              "4  drugB        HIGH      8\n",
              "5  drugB      NORMAL      8\n",
              "6  drugC        HIGH     16\n",
              "7  drugX        HIGH     20\n",
              "8  drugX      NORMAL     34"
            ]
          },
          "metadata": {},
          "execution_count": 34
        }
      ],
      "source": [
        "df_CH_Drug = df.groupby([\"Drug\",\"Cholesterol\"]).size().reset_index(name = \"Count\")\n",
        "df_CH_Drug"
      ]
    },
    {
      "cell_type": "code",
      "execution_count": 35,
      "metadata": {
        "execution": {
          "iopub.execute_input": "2021-01-01T13:54:01.126698Z",
          "iopub.status.busy": "2021-01-01T13:54:01.117716Z",
          "iopub.status.idle": "2021-01-01T13:54:01.305116Z",
          "shell.execute_reply": "2021-01-01T13:54:01.304424Z"
        },
        "papermill": {
          "duration": 0.268592,
          "end_time": "2021-01-01T13:54:01.305253",
          "exception": false,
          "start_time": "2021-01-01T13:54:01.036661",
          "status": "completed"
        },
        "tags": [],
        "colab": {
          "base_uri": "https://localhost:8080/",
          "height": 350
        },
        "id": "hWoA7OEh_imX",
        "outputId": "b3efb79f-9290-4835-84fd-eee8ded44b48"
      },
      "outputs": [
        {
          "output_type": "display_data",
          "data": {
            "image/png": "[encoded data removed]",
            "text/plain": [
              "<Figure size 648x360 with 1 Axes>"
            ]
          },
          "metadata": {
            "needs_background": "light"
          }
        }
      ],
      "source": [
        "plt.figure(figsize = (9,5))\n",
        "sns.barplot(x = \"Drug\",y=\"Count\", hue = \"Cholesterol\",data = df_CH_Drug)\n",
        "plt.title(\"Cholesterol -- Drug\")\n",
        "plt.show()"
      ]
    },
    {
      "cell_type": "markdown",
      "metadata": {
        "papermill": {
          "duration": 0.072596,
          "end_time": "2021-01-01T13:54:01.450925",
          "exception": false,
          "start_time": "2021-01-01T13:54:01.378329",
          "status": "completed"
        },
        "tags": [],
        "id": "l9e-Qzl6_imX"
      },
      "source": [
        "* drugC is got by people who have HIGH cholesterol.\n",
        "* Cholesterol is an important feature to classify drugC"
      ]
    },
    {
      "cell_type": "markdown",
      "metadata": {
        "papermill": {
          "duration": 0.072739,
          "end_time": "2021-01-01T13:54:01.596761",
          "exception": false,
          "start_time": "2021-01-01T13:54:01.524022",
          "status": "completed"
        },
        "tags": [],
        "id": "VYKGX4w3_imX"
      },
      "source": [
        "<a id='16'></a>\n",
        "## Na_to_K -- BP -- Drug"
      ]
    },
    {
      "cell_type": "code",
      "execution_count": 36,
      "metadata": {
        "execution": {
          "iopub.execute_input": "2021-01-01T13:54:01.752426Z",
          "iopub.status.busy": "2021-01-01T13:54:01.748433Z",
          "iopub.status.idle": "2021-01-01T13:54:02.095571Z",
          "shell.execute_reply": "2021-01-01T13:54:02.095032Z"
        },
        "papermill": {
          "duration": 0.426301,
          "end_time": "2021-01-01T13:54:02.095728",
          "exception": false,
          "start_time": "2021-01-01T13:54:01.669427",
          "status": "completed"
        },
        "tags": [],
        "colab": {
          "base_uri": "https://localhost:8080/",
          "height": 350
        },
        "id": "4Yu4NL_5_imY",
        "outputId": "84d6352c-e619-46d1-cf74-e32e09b420e4"
      },
      "outputs": [
        {
          "output_type": "display_data",
          "data": {
            "image/png": "[encoded data removed]",
            "text/plain": [
              "<Figure size 648x360 with 1 Axes>"
            ]
          },
          "metadata": {
            "needs_background": "light"
          }
        }
      ],
      "source": [
        "plt.figure(figsize = (9,5))\n",
        "sns.swarmplot(x = \"Drug\", y = \"Na_to_K\",hue=\"BP\",data = df)\n",
        "plt.legend()\n",
        "plt.title(\"Na_to_K -- BP -- Drug\")\n",
        "plt.show()"
      ]
    },
    {
      "cell_type": "markdown",
      "metadata": {
        "papermill": {
          "duration": 0.073476,
          "end_time": "2021-01-01T13:54:02.243337",
          "exception": false,
          "start_time": "2021-01-01T13:54:02.169861",
          "status": "completed"
        },
        "tags": [],
        "id": "40nQwIag_imY"
      },
      "source": [
        "* If people have HIGH blood pressure and Na_to_K ratio is lower than 15 , they get drugA and drugB only.\n",
        "* If people have LOW blood pressure and Na_to_K ratio is lower than 15 , they get drugC only."
      ]
    },
    {
      "cell_type": "markdown",
      "metadata": {
        "papermill": {
          "duration": 0.07403,
          "end_time": "2021-01-01T13:54:02.392097",
          "exception": false,
          "start_time": "2021-01-01T13:54:02.318067",
          "status": "completed"
        },
        "tags": [],
        "id": "d_fJfgOy_imY"
      },
      "source": [
        "<a id='17'></a>\n",
        "# Preparing Data and Feature Engineering"
      ]
    },
    {
      "cell_type": "markdown",
      "metadata": {
        "papermill": {
          "duration": 0.073422,
          "end_time": "2021-01-01T13:54:02.540340",
          "exception": false,
          "start_time": "2021-01-01T13:54:02.466918",
          "status": "completed"
        },
        "tags": [],
        "id": "R360m5BJ_imZ"
      },
      "source": [
        "<a id='18'></a>\n",
        "## Create New Features"
      ]
    },
    {
      "cell_type": "markdown",
      "metadata": {
        "papermill": {
          "duration": 0.073368,
          "end_time": "2021-01-01T13:54:02.687534",
          "exception": false,
          "start_time": "2021-01-01T13:54:02.614166",
          "status": "completed"
        },
        "tags": [],
        "id": "w1gxBsAS_imZ"
      },
      "source": [
        "<a id='19'></a>\n",
        "### Na_to_K_Bigger_Than_15 \n",
        "\n",
        "If Na_to_K is bigger than 15, it is always drugY."
      ]
    },
    {
      "cell_type": "code",
      "execution_count": 37,
      "metadata": {
        "execution": {
          "iopub.execute_input": "2021-01-01T13:54:02.856191Z",
          "iopub.status.busy": "2021-01-01T13:54:02.855252Z",
          "iopub.status.idle": "2021-01-01T13:54:02.859677Z",
          "shell.execute_reply": "2021-01-01T13:54:02.860219Z"
        },
        "papermill": {
          "duration": 0.098345,
          "end_time": "2021-01-01T13:54:02.860363",
          "exception": false,
          "start_time": "2021-01-01T13:54:02.762018",
          "status": "completed"
        },
        "tags": [],
        "colab": {
          "base_uri": "https://localhost:8080/",
          "height": 206
        },
        "id": "ACwyplnX_imZ",
        "outputId": "7ca462bb-cf14-4dd8-8d35-d12af8b32caf"
      },
      "outputs": [
        {
          "output_type": "execute_result",
          "data": {
            "text/html": [
              "\n",
              "  <div id=\"df-54b05f15-ef7d-44ca-9ca3-890c570ed625\">\n",
              "    <div class=\"colab-df-container\">\n",
              "      <div>\n",
              "<style scoped>\n",
              "    .dataframe tbody tr th:only-of-type {\n",
              "        vertical-align: middle;\n",
              "    }\n",
              "\n",
              "    .dataframe tbody tr th {\n",
              "        vertical-align: top;\n",
              "    }\n",
              "\n",
              "    .dataframe thead th {\n",
              "        text-align: right;\n",
              "    }\n",
              "</style>\n",
              "<table border=\"1\" class=\"dataframe\">\n",
              "  <thead>\n",
              "    <tr style=\"text-align: right;\">\n",
              "      <th></th>\n",
              "      <th>Age</th>\n",
              "      <th>Sex</th>\n",
              "      <th>BP</th>\n",
              "      <th>Cholesterol</th>\n",
              "      <th>Na_to_K</th>\n",
              "      <th>Drug</th>\n",
              "      <th>Na_to_K_Bigger_Than_15</th>\n",
              "    </tr>\n",
              "  </thead>\n",
              "  <tbody>\n",
              "    <tr>\n",
              "      <th>0</th>\n",
              "      <td>23</td>\n",
              "      <td>F</td>\n",
              "      <td>HIGH</td>\n",
              "      <td>HIGH</td>\n",
              "      <td>25.355</td>\n",
              "      <td>DrugY</td>\n",
              "      <td>1</td>\n",
              "    </tr>\n",
              "    <tr>\n",
              "      <th>1</th>\n",
              "      <td>47</td>\n",
              "      <td>M</td>\n",
              "      <td>LOW</td>\n",
              "      <td>HIGH</td>\n",
              "      <td>13.093</td>\n",
              "      <td>drugC</td>\n",
              "      <td>0</td>\n",
              "    </tr>\n",
              "    <tr>\n",
              "      <th>2</th>\n",
              "      <td>47</td>\n",
              "      <td>M</td>\n",
              "      <td>LOW</td>\n",
              "      <td>HIGH</td>\n",
              "      <td>10.114</td>\n",
              "      <td>drugC</td>\n",
              "      <td>0</td>\n",
              "    </tr>\n",
              "    <tr>\n",
              "      <th>3</th>\n",
              "      <td>28</td>\n",
              "      <td>F</td>\n",
              "      <td>NORMAL</td>\n",
              "      <td>HIGH</td>\n",
              "      <td>7.798</td>\n",
              "      <td>drugX</td>\n",
              "      <td>0</td>\n",
              "    </tr>\n",
              "    <tr>\n",
              "      <th>4</th>\n",
              "      <td>61</td>\n",
              "      <td>F</td>\n",
              "      <td>LOW</td>\n",
              "      <td>HIGH</td>\n",
              "      <td>18.043</td>\n",
              "      <td>DrugY</td>\n",
              "      <td>1</td>\n",
              "    </tr>\n",
              "  </tbody>\n",
              "</table>\n",
              "</div>\n",
              "      <button class=\"colab-df-convert\" onclick=\"convertToInteractive('df-54b05f15-ef7d-44ca-9ca3-890c570ed625')\"\n",
              "              title=\"Convert this dataframe to an interactive table.\"\n",
              "              style=\"display:none;\">\n",
              "        \n",
              "  <svg xmlns=\"http://www.w3.org/2000/svg\" height=\"24px\"viewBox=\"0 0 24 24\"\n",
              "       width=\"24px\">\n",
              "    <path d=\"M0 0h24v24H0V0z\" fill=\"none\"/>\n",
              "    <path d=\"M18.56 5.44l.94 2.06.94-2.06 2.06-.94-2.06-.94-.94-2.06-.94 2.06-2.06.94zm-11 1L8.5 8.5l.94-2.06 2.06-.94-2.06-.94L8.5 2.5l-.94 2.06-2.06.94zm10 10l.94 2.06.94-2.06 2.06-.94-2.06-.94-.94-2.06-.94 2.06-2.06.94z\"/><path d=\"M17.41 7.96l-1.37-1.37c-.4-.4-.92-.59-1.43-.59-.52 0-1.04.2-1.43.59L10.3 9.45l-7.72 7.72c-.78.78-.78 2.05 0 2.83L4 21.41c.39.39.9.59 1.41.59.51 0 1.02-.2 1.41-.59l7.78-7.78 2.81-2.81c.8-.78.8-2.07 0-2.86zM5.41 20L4 18.59l7.72-7.72 1.47 1.35L5.41 20z\"/>\n",
              "  </svg>\n",
              "      </button>\n",
              "      \n",
              "  <style>\n",
              "    .colab-df-container {\n",
              "      display:flex;\n",
              "      flex-wrap:wrap;\n",
              "      gap: 12px;\n",
              "    }\n",
              "\n",
              "    .colab-df-convert {\n",
              "      background-color: #E8F0FE;\n",
              "      border: none;\n",
              "      border-radius: 50%;\n",
              "      cursor: pointer;\n",
              "      display: none;\n",
              "      fill: #1967D2;\n",
              "      height: 32px;\n",
              "      padding: 0 0 0 0;\n",
              "      width: 32px;\n",
              "    }\n",
              "\n",
              "    .colab-df-convert:hover {\n",
              "      background-color: #E2EBFA;\n",
              "      box-shadow: 0px 1px 2px rgba(60, 64, 67, 0.3), 0px 1px 3px 1px rgba(60, 64, 67, 0.15);\n",
              "      fill: #174EA6;\n",
              "    }\n",
              "\n",
              "    [theme=dark] .colab-df-convert {\n",
              "      background-color: #3B4455;\n",
              "      fill: #D2E3FC;\n",
              "    }\n",
              "\n",
              "    [theme=dark] .colab-df-convert:hover {\n",
              "      background-color: #434B5C;\n",
              "      box-shadow: 0px 1px 3px 1px rgba(0, 0, 0, 0.15);\n",
              "      filter: drop-shadow(0px 1px 2px rgba(0, 0, 0, 0.3));\n",
              "      fill: #FFFFFF;\n",
              "    }\n",
              "  </style>\n",
              "\n",
              "      <script>\n",
              "        const buttonEl =\n",
              "          document.querySelector('#df-54b05f15-ef7d-44ca-9ca3-890c570ed625 button.colab-df-convert');\n",
              "        buttonEl.style.display =\n",
              "          google.colab.kernel.accessAllowed ? 'block' : 'none';\n",
              "\n",
              "        async function convertToInteractive(key) {\n",
              "          const element = document.querySelector('#df-54b05f15-ef7d-44ca-9ca3-890c570ed625');\n",
              "          const dataTable =\n",
              "            await google.colab.kernel.invokeFunction('convertToInteractive',\n",
              "                                                     [key], {});\n",
              "          if (!dataTable) return;\n",
              "\n",
              "          const docLinkHtml = 'Like what you see? Visit the ' +\n",
              "            '<a target=\"_blank\" href=https://colab.research.google.com/notebooks/data_table.ipynb>data table notebook</a>'\n",
              "            + ' to learn more about interactive tables.';\n",
              "          element.innerHTML = '';\n",
              "          dataTable['output_type'] = 'display_data';\n",
              "          await google.colab.output.renderOutput(dataTable, element);\n",
              "          const docLink = document.createElement('div');\n",
              "          docLink.innerHTML = docLinkHtml;\n",
              "          element.appendChild(docLink);\n",
              "        }\n",
              "      </script>\n",
              "    </div>\n",
              "  </div>\n",
              "  "
            ],
            "text/plain": [
              "   Age Sex      BP Cholesterol  Na_to_K   Drug  Na_to_K_Bigger_Than_15\n",
              "0   23   F    HIGH        HIGH   25.355  DrugY                       1\n",
              "1   47   M     LOW        HIGH   13.093  drugC                       0\n",
              "2   47   M     LOW        HIGH   10.114  drugC                       0\n",
              "3   28   F  NORMAL        HIGH    7.798  drugX                       0\n",
              "4   61   F     LOW        HIGH   18.043  DrugY                       1"
            ]
          },
          "metadata": {},
          "execution_count": 37
        }
      ],
      "source": [
        "df['Na_to_K_Bigger_Than_15'] = [1 if i >=15.015 else 0 for i in df.Na_to_K]\n",
        "df.head()"
      ]
    },
    {
      "cell_type": "code",
      "execution_count": 38,
      "metadata": {
        "execution": {
          "iopub.execute_input": "2021-01-01T13:54:03.024803Z",
          "iopub.status.busy": "2021-01-01T13:54:03.024104Z",
          "iopub.status.idle": "2021-01-01T13:54:03.028733Z",
          "shell.execute_reply": "2021-01-01T13:54:03.028183Z"
        },
        "papermill": {
          "duration": 0.093086,
          "end_time": "2021-01-01T13:54:03.028866",
          "exception": false,
          "start_time": "2021-01-01T13:54:02.935780",
          "status": "completed"
        },
        "tags": [],
        "colab": {
          "base_uri": "https://localhost:8080/",
          "height": 206
        },
        "id": "bZ3QQaL-_imZ",
        "outputId": "17d1686c-c1e3-4381-a6bd-36a50ab14b87"
      },
      "outputs": [
        {
          "output_type": "execute_result",
          "data": {
            "text/html": [
              "\n",
              "  <div id=\"df-286ee1f5-c58f-46d1-b0a9-522aaebcfaf2\">\n",
              "    <div class=\"colab-df-container\">\n",
              "      <div>\n",
              "<style scoped>\n",
              "    .dataframe tbody tr th:only-of-type {\n",
              "        vertical-align: middle;\n",
              "    }\n",
              "\n",
              "    .dataframe tbody tr th {\n",
              "        vertical-align: top;\n",
              "    }\n",
              "\n",
              "    .dataframe thead th {\n",
              "        text-align: right;\n",
              "    }\n",
              "</style>\n",
              "<table border=\"1\" class=\"dataframe\">\n",
              "  <thead>\n",
              "    <tr style=\"text-align: right;\">\n",
              "      <th></th>\n",
              "      <th>Drug</th>\n",
              "      <th>Na_to_K_Bigger_Than_15</th>\n",
              "      <th>Count</th>\n",
              "    </tr>\n",
              "  </thead>\n",
              "  <tbody>\n",
              "    <tr>\n",
              "      <th>0</th>\n",
              "      <td>DrugY</td>\n",
              "      <td>1</td>\n",
              "      <td>91</td>\n",
              "    </tr>\n",
              "    <tr>\n",
              "      <th>1</th>\n",
              "      <td>drugA</td>\n",
              "      <td>0</td>\n",
              "      <td>23</td>\n",
              "    </tr>\n",
              "    <tr>\n",
              "      <th>2</th>\n",
              "      <td>drugB</td>\n",
              "      <td>0</td>\n",
              "      <td>16</td>\n",
              "    </tr>\n",
              "    <tr>\n",
              "      <th>3</th>\n",
              "      <td>drugC</td>\n",
              "      <td>0</td>\n",
              "      <td>16</td>\n",
              "    </tr>\n",
              "    <tr>\n",
              "      <th>4</th>\n",
              "      <td>drugX</td>\n",
              "      <td>0</td>\n",
              "      <td>54</td>\n",
              "    </tr>\n",
              "  </tbody>\n",
              "</table>\n",
              "</div>\n",
              "      <button class=\"colab-df-convert\" onclick=\"convertToInteractive('df-286ee1f5-c58f-46d1-b0a9-522aaebcfaf2')\"\n",
              "              title=\"Convert this dataframe to an interactive table.\"\n",
              "              style=\"display:none;\">\n",
              "        \n",
              "  <svg xmlns=\"http://www.w3.org/2000/svg\" height=\"24px\"viewBox=\"0 0 24 24\"\n",
              "       width=\"24px\">\n",
              "    <path d=\"M0 0h24v24H0V0z\" fill=\"none\"/>\n",
              "    <path d=\"M18.56 5.44l.94 2.06.94-2.06 2.06-.94-2.06-.94-.94-2.06-.94 2.06-2.06.94zm-11 1L8.5 8.5l.94-2.06 2.06-.94-2.06-.94L8.5 2.5l-.94 2.06-2.06.94zm10 10l.94 2.06.94-2.06 2.06-.94-2.06-.94-.94-2.06-.94 2.06-2.06.94z\"/><path d=\"M17.41 7.96l-1.37-1.37c-.4-.4-.92-.59-1.43-.59-.52 0-1.04.2-1.43.59L10.3 9.45l-7.72 7.72c-.78.78-.78 2.05 0 2.83L4 21.41c.39.39.9.59 1.41.59.51 0 1.02-.2 1.41-.59l7.78-7.78 2.81-2.81c.8-.78.8-2.07 0-2.86zM5.41 20L4 18.59l7.72-7.72 1.47 1.35L5.41 20z\"/>\n",
              "  </svg>\n",
              "      </button>\n",
              "      \n",
              "  <style>\n",
              "    .colab-df-container {\n",
              "      display:flex;\n",
              "      flex-wrap:wrap;\n",
              "      gap: 12px;\n",
              "    }\n",
              "\n",
              "    .colab-df-convert {\n",
              "      background-color: #E8F0FE;\n",
              "      border: none;\n",
              "      border-radius: 50%;\n",
              "      cursor: pointer;\n",
              "      display: none;\n",
              "      fill: #1967D2;\n",
              "      height: 32px;\n",
              "      padding: 0 0 0 0;\n",
              "      width: 32px;\n",
              "    }\n",
              "\n",
              "    .colab-df-convert:hover {\n",
              "      background-color: #E2EBFA;\n",
              "      box-shadow: 0px 1px 2px rgba(60, 64, 67, 0.3), 0px 1px 3px 1px rgba(60, 64, 67, 0.15);\n",
              "      fill: #174EA6;\n",
              "    }\n",
              "\n",
              "    [theme=dark] .colab-df-convert {\n",
              "      background-color: #3B4455;\n",
              "      fill: #D2E3FC;\n",
              "    }\n",
              "\n",
              "    [theme=dark] .colab-df-convert:hover {\n",
              "      background-color: #434B5C;\n",
              "      box-shadow: 0px 1px 3px 1px rgba(0, 0, 0, 0.15);\n",
              "      filter: drop-shadow(0px 1px 2px rgba(0, 0, 0, 0.3));\n",
              "      fill: #FFFFFF;\n",
              "    }\n",
              "  </style>\n",
              "\n",
              "      <script>\n",
              "        const buttonEl =\n",
              "          document.querySelector('#df-286ee1f5-c58f-46d1-b0a9-522aaebcfaf2 button.colab-df-convert');\n",
              "        buttonEl.style.display =\n",
              "          google.colab.kernel.accessAllowed ? 'block' : 'none';\n",
              "\n",
              "        async function convertToInteractive(key) {\n",
              "          const element = document.querySelector('#df-286ee1f5-c58f-46d1-b0a9-522aaebcfaf2');\n",
              "          const dataTable =\n",
              "            await google.colab.kernel.invokeFunction('convertToInteractive',\n",
              "                                                     [key], {});\n",
              "          if (!dataTable) return;\n",
              "\n",
              "          const docLinkHtml = 'Like what you see? Visit the ' +\n",
              "            '<a target=\"_blank\" href=https://colab.research.google.com/notebooks/data_table.ipynb>data table notebook</a>'\n",
              "            + ' to learn more about interactive tables.';\n",
              "          element.innerHTML = '';\n",
              "          dataTable['output_type'] = 'display_data';\n",
              "          await google.colab.output.renderOutput(dataTable, element);\n",
              "          const docLink = document.createElement('div');\n",
              "          docLink.innerHTML = docLinkHtml;\n",
              "          element.appendChild(docLink);\n",
              "        }\n",
              "      </script>\n",
              "    </div>\n",
              "  </div>\n",
              "  "
            ],
            "text/plain": [
              "    Drug  Na_to_K_Bigger_Than_15  Count\n",
              "0  DrugY                       1     91\n",
              "1  drugA                       0     23\n",
              "2  drugB                       0     16\n",
              "3  drugC                       0     16\n",
              "4  drugX                       0     54"
            ]
          },
          "metadata": {},
          "execution_count": 38
        }
      ],
      "source": [
        "df_NaK15 = df.groupby([\"Drug\",\"Na_to_K_Bigger_Than_15\"]).size().reset_index(name = \"Count\")\n",
        "df_NaK15"
      ]
    },
    {
      "cell_type": "code",
      "execution_count": 39,
      "metadata": {
        "execution": {
          "iopub.execute_input": "2021-01-01T13:54:03.188823Z",
          "iopub.status.busy": "2021-01-01T13:54:03.187514Z",
          "iopub.status.idle": "2021-01-01T13:54:03.399869Z",
          "shell.execute_reply": "2021-01-01T13:54:03.399342Z"
        },
        "papermill": {
          "duration": 0.296021,
          "end_time": "2021-01-01T13:54:03.399986",
          "exception": false,
          "start_time": "2021-01-01T13:54:03.103965",
          "status": "completed"
        },
        "tags": [],
        "colab": {
          "base_uri": "https://localhost:8080/",
          "height": 350
        },
        "id": "7jZUsZmb_imZ",
        "outputId": "6ea213f3-9ac8-4d8e-e668-d70a8f903e74"
      },
      "outputs": [
        {
          "output_type": "display_data",
          "data": {
            "image/png": "[encoded data removed]",
            "text/plain": [
              "<Figure size 648x360 with 1 Axes>"
            ]
          },
          "metadata": {
            "needs_background": "light"
          }
        }
      ],
      "source": [
        "plt.figure(figsize = (9,5))\n",
        "sns.barplot(x = \"Drug\",y=\"Count\", hue = \"Na_to_K_Bigger_Than_15\",data = df_NaK15)\n",
        "plt.title(\"Na_to_K_Bigger_Than_15 -- Drug\")\n",
        "plt.show()"
      ]
    },
    {
      "cell_type": "markdown",
      "metadata": {
        "papermill": {
          "duration": 0.075625,
          "end_time": "2021-01-01T13:54:03.552798",
          "exception": false,
          "start_time": "2021-01-01T13:54:03.477173",
          "status": "completed"
        },
        "tags": [],
        "id": "S_NrjN0a_ima"
      },
      "source": [
        "* Na_to_K_Bigger_Than_15 feature will be important feature to drugY classification."
      ]
    },
    {
      "cell_type": "markdown",
      "metadata": {
        "papermill": {
          "duration": 0.075446,
          "end_time": "2021-01-01T13:54:03.704747",
          "exception": false,
          "start_time": "2021-01-01T13:54:03.629301",
          "status": "completed"
        },
        "tags": [],
        "id": "-iQ_Mhto_ima"
      },
      "source": [
        "<a id='20'></a>\n",
        "## Label Encoding\n",
        "\n",
        "We will convert from object to int64\n",
        "\n",
        "* Sex\n",
        "* BP\n",
        "* Cholesterol\n",
        "* Na_to_K\n",
        "* Na_to_K_Bigger_Than_15"
      ]
    },
    {
      "cell_type": "code",
      "execution_count": 40,
      "metadata": {
        "execution": {
          "iopub.execute_input": "2021-01-01T13:54:03.864660Z",
          "iopub.status.busy": "2021-01-01T13:54:03.863851Z",
          "iopub.status.idle": "2021-01-01T13:54:03.866938Z",
          "shell.execute_reply": "2021-01-01T13:54:03.866366Z"
        },
        "papermill": {
          "duration": 0.086108,
          "end_time": "2021-01-01T13:54:03.867050",
          "exception": false,
          "start_time": "2021-01-01T13:54:03.780942",
          "status": "completed"
        },
        "tags": [],
        "id": "0TdCnvKJ_ima"
      },
      "outputs": [],
      "source": [
        "from sklearn.preprocessing import LabelEncoder\n",
        "\n",
        "def label_encoder(y):\n",
        "    le = LabelEncoder()\n",
        "    df[y] = le.fit_transform(df[y])"
      ]
    },
    {
      "cell_type": "code",
      "execution_count": 41,
      "metadata": {
        "execution": {
          "iopub.execute_input": "2021-01-01T13:54:04.032186Z",
          "iopub.status.busy": "2021-01-01T13:54:04.031273Z",
          "iopub.status.idle": "2021-01-01T13:54:04.034436Z",
          "shell.execute_reply": "2021-01-01T13:54:04.033889Z"
        },
        "papermill": {
          "duration": 0.088854,
          "end_time": "2021-01-01T13:54:04.034548",
          "exception": false,
          "start_time": "2021-01-01T13:54:03.945694",
          "status": "completed"
        },
        "tags": [],
        "id": "IBtRTrMZ_ima"
      },
      "outputs": [],
      "source": [
        "label_list = [\"Sex\",\"BP\",\"Cholesterol\",\"Na_to_K\",\"Na_to_K_Bigger_Than_15\",\"Drug\"]\n",
        "\n",
        "for l in label_list:\n",
        "    label_encoder(l)"
      ]
    },
    {
      "cell_type": "code",
      "execution_count": 42,
      "metadata": {
        "execution": {
          "iopub.execute_input": "2021-01-01T13:54:04.200165Z",
          "iopub.status.busy": "2021-01-01T13:54:04.199491Z",
          "iopub.status.idle": "2021-01-01T13:54:04.203937Z",
          "shell.execute_reply": "2021-01-01T13:54:04.203352Z"
        },
        "papermill": {
          "duration": 0.092345,
          "end_time": "2021-01-01T13:54:04.204080",
          "exception": false,
          "start_time": "2021-01-01T13:54:04.111735",
          "status": "completed"
        },
        "tags": [],
        "colab": {
          "base_uri": "https://localhost:8080/",
          "height": 206
        },
        "id": "Z-qTsXLg_imb",
        "outputId": "15b41dd8-4d36-48eb-de9c-03b84864bdd4"
      },
      "outputs": [
        {
          "output_type": "execute_result",
          "data": {
            "text/html": [
              "\n",
              "  <div id=\"df-5f811ef6-34ef-4a01-9856-3d6567103da3\">\n",
              "    <div class=\"colab-df-container\">\n",
              "      <div>\n",
              "<style scoped>\n",
              "    .dataframe tbody tr th:only-of-type {\n",
              "        vertical-align: middle;\n",
              "    }\n",
              "\n",
              "    .dataframe tbody tr th {\n",
              "        vertical-align: top;\n",
              "    }\n",
              "\n",
              "    .dataframe thead th {\n",
              "        text-align: right;\n",
              "    }\n",
              "</style>\n",
              "<table border=\"1\" class=\"dataframe\">\n",
              "  <thead>\n",
              "    <tr style=\"text-align: right;\">\n",
              "      <th></th>\n",
              "      <th>Age</th>\n",
              "      <th>Sex</th>\n",
              "      <th>BP</th>\n",
              "      <th>Cholesterol</th>\n",
              "      <th>Na_to_K</th>\n",
              "      <th>Drug</th>\n",
              "      <th>Na_to_K_Bigger_Than_15</th>\n",
              "    </tr>\n",
              "  </thead>\n",
              "  <tbody>\n",
              "    <tr>\n",
              "      <th>0</th>\n",
              "      <td>23</td>\n",
              "      <td>0</td>\n",
              "      <td>0</td>\n",
              "      <td>0</td>\n",
              "      <td>167</td>\n",
              "      <td>0</td>\n",
              "      <td>1</td>\n",
              "    </tr>\n",
              "    <tr>\n",
              "      <th>1</th>\n",
              "      <td>47</td>\n",
              "      <td>1</td>\n",
              "      <td>1</td>\n",
              "      <td>0</td>\n",
              "      <td>89</td>\n",
              "      <td>3</td>\n",
              "      <td>0</td>\n",
              "    </tr>\n",
              "    <tr>\n",
              "      <th>2</th>\n",
              "      <td>47</td>\n",
              "      <td>1</td>\n",
              "      <td>1</td>\n",
              "      <td>0</td>\n",
              "      <td>43</td>\n",
              "      <td>3</td>\n",
              "      <td>0</td>\n",
              "    </tr>\n",
              "    <tr>\n",
              "      <th>3</th>\n",
              "      <td>28</td>\n",
              "      <td>0</td>\n",
              "      <td>2</td>\n",
              "      <td>0</td>\n",
              "      <td>10</td>\n",
              "      <td>4</td>\n",
              "      <td>0</td>\n",
              "    </tr>\n",
              "    <tr>\n",
              "      <th>4</th>\n",
              "      <td>61</td>\n",
              "      <td>0</td>\n",
              "      <td>1</td>\n",
              "      <td>0</td>\n",
              "      <td>133</td>\n",
              "      <td>0</td>\n",
              "      <td>1</td>\n",
              "    </tr>\n",
              "  </tbody>\n",
              "</table>\n",
              "</div>\n",
              "      <button class=\"colab-df-convert\" onclick=\"convertToInteractive('df-5f811ef6-34ef-4a01-9856-3d6567103da3')\"\n",
              "              title=\"Convert this dataframe to an interactive table.\"\n",
              "              style=\"display:none;\">\n",
              "        \n",
              "  <svg xmlns=\"http://www.w3.org/2000/svg\" height=\"24px\"viewBox=\"0 0 24 24\"\n",
              "       width=\"24px\">\n",
              "    <path d=\"M0 0h24v24H0V0z\" fill=\"none\"/>\n",
              "    <path d=\"M18.56 5.44l.94 2.06.94-2.06 2.06-.94-2.06-.94-.94-2.06-.94 2.06-2.06.94zm-11 1L8.5 8.5l.94-2.06 2.06-.94-2.06-.94L8.5 2.5l-.94 2.06-2.06.94zm10 10l.94 2.06.94-2.06 2.06-.94-2.06-.94-.94-2.06-.94 2.06-2.06.94z\"/><path d=\"M17.41 7.96l-1.37-1.37c-.4-.4-.92-.59-1.43-.59-.52 0-1.04.2-1.43.59L10.3 9.45l-7.72 7.72c-.78.78-.78 2.05 0 2.83L4 21.41c.39.39.9.59 1.41.59.51 0 1.02-.2 1.41-.59l7.78-7.78 2.81-2.81c.8-.78.8-2.07 0-2.86zM5.41 20L4 18.59l7.72-7.72 1.47 1.35L5.41 20z\"/>\n",
              "  </svg>\n",
              "      </button>\n",
              "      \n",
              "  <style>\n",
              "    .colab-df-container {\n",
              "      display:flex;\n",
              "      flex-wrap:wrap;\n",
              "      gap: 12px;\n",
              "    }\n",
              "\n",
              "    .colab-df-convert {\n",
              "      background-color: #E8F0FE;\n",
              "      border: none;\n",
              "      border-radius: 50%;\n",
              "      cursor: pointer;\n",
              "      display: none;\n",
              "      fill: #1967D2;\n",
              "      height: 32px;\n",
              "      padding: 0 0 0 0;\n",
              "      width: 32px;\n",
              "    }\n",
              "\n",
              "    .colab-df-convert:hover {\n",
              "      background-color: #E2EBFA;\n",
              "      box-shadow: 0px 1px 2px rgba(60, 64, 67, 0.3), 0px 1px 3px 1px rgba(60, 64, 67, 0.15);\n",
              "      fill: #174EA6;\n",
              "    }\n",
              "\n",
              "    [theme=dark] .colab-df-convert {\n",
              "      background-color: #3B4455;\n",
              "      fill: #D2E3FC;\n",
              "    }\n",
              "\n",
              "    [theme=dark] .colab-df-convert:hover {\n",
              "      background-color: #434B5C;\n",
              "      box-shadow: 0px 1px 3px 1px rgba(0, 0, 0, 0.15);\n",
              "      filter: drop-shadow(0px 1px 2px rgba(0, 0, 0, 0.3));\n",
              "      fill: #FFFFFF;\n",
              "    }\n",
              "  </style>\n",
              "\n",
              "      <script>\n",
              "        const buttonEl =\n",
              "          document.querySelector('#df-5f811ef6-34ef-4a01-9856-3d6567103da3 button.colab-df-convert');\n",
              "        buttonEl.style.display =\n",
              "          google.colab.kernel.accessAllowed ? 'block' : 'none';\n",
              "\n",
              "        async function convertToInteractive(key) {\n",
              "          const element = document.querySelector('#df-5f811ef6-34ef-4a01-9856-3d6567103da3');\n",
              "          const dataTable =\n",
              "            await google.colab.kernel.invokeFunction('convertToInteractive',\n",
              "                                                     [key], {});\n",
              "          if (!dataTable) return;\n",
              "\n",
              "          const docLinkHtml = 'Like what you see? Visit the ' +\n",
              "            '<a target=\"_blank\" href=https://colab.research.google.com/notebooks/data_table.ipynb>data table notebook</a>'\n",
              "            + ' to learn more about interactive tables.';\n",
              "          element.innerHTML = '';\n",
              "          dataTable['output_type'] = 'display_data';\n",
              "          await google.colab.output.renderOutput(dataTable, element);\n",
              "          const docLink = document.createElement('div');\n",
              "          docLink.innerHTML = docLinkHtml;\n",
              "          element.appendChild(docLink);\n",
              "        }\n",
              "      </script>\n",
              "    </div>\n",
              "  </div>\n",
              "  "
            ],
            "text/plain": [
              "   Age  Sex  BP  Cholesterol  Na_to_K  Drug  Na_to_K_Bigger_Than_15\n",
              "0   23    0   0            0      167     0                       1\n",
              "1   47    1   1            0       89     3                       0\n",
              "2   47    1   1            0       43     3                       0\n",
              "3   28    0   2            0       10     4                       0\n",
              "4   61    0   1            0      133     0                       1"
            ]
          },
          "metadata": {},
          "execution_count": 42
        }
      ],
      "source": [
        "df.head()"
      ]
    },
    {
      "cell_type": "markdown",
      "metadata": {
        "papermill": {
          "duration": 0.078603,
          "end_time": "2021-01-01T13:54:04.360825",
          "exception": false,
          "start_time": "2021-01-01T13:54:04.282222",
          "status": "completed"
        },
        "tags": [],
        "id": "ikn7YW-6_imb"
      },
      "source": [
        "<a id='21'></a>\n",
        "## Train Test Split"
      ]
    },
    {
      "cell_type": "code",
      "execution_count": 43,
      "metadata": {
        "execution": {
          "iopub.execute_input": "2021-01-01T13:54:04.518425Z",
          "iopub.status.busy": "2021-01-01T13:54:04.517802Z",
          "iopub.status.idle": "2021-01-01T13:54:04.531270Z",
          "shell.execute_reply": "2021-01-01T13:54:04.530595Z"
        },
        "papermill": {
          "duration": 0.093451,
          "end_time": "2021-01-01T13:54:04.531383",
          "exception": false,
          "start_time": "2021-01-01T13:54:04.437932",
          "status": "completed"
        },
        "tags": [],
        "colab": {
          "base_uri": "https://localhost:8080/"
        },
        "id": "xDaWF0jF_imb",
        "outputId": "11338edc-1954-47ca-8a60-ced0ceb17148"
      },
      "outputs": [
        {
          "output_type": "stream",
          "name": "stdout",
          "text": [
            "x_train shape: (160, 6)\n",
            "x_test shape: (40, 6)\n",
            "y_train shape: (160, 1)\n",
            "y_test shape: (40, 1)\n"
          ]
        }
      ],
      "source": [
        "from sklearn.model_selection import train_test_split\n",
        "\n",
        "x = df.drop([\"Drug\"],axis=1)\n",
        "y = df.Drug\n",
        "\n",
        "x_train, x_test, y_train, y_test = train_test_split(x,y,test_size = 0.2, random_state = 42, shuffle = True)\n",
        "\n",
        "y_train = y_train.values.reshape(-1,1)\n",
        "y_test = y_test.values.reshape(-1,1)\n",
        "\n",
        "print(\"x_train shape:\",x_train.shape)\n",
        "print(\"x_test shape:\",x_test.shape)\n",
        "print(\"y_train shape:\",y_train.shape)\n",
        "print(\"y_test shape:\",y_test.shape)"
      ]
    },
    {
      "cell_type": "markdown",
      "metadata": {
        "papermill": {
          "duration": 0.077672,
          "end_time": "2021-01-01T13:54:04.686798",
          "exception": false,
          "start_time": "2021-01-01T13:54:04.609126",
          "status": "completed"
        },
        "tags": [],
        "id": "w7GbmlVg_imb"
      },
      "source": [
        "Data was splitted as 80% train data and 20% test data."
      ]
    },
    {
      "cell_type": "markdown",
      "metadata": {
        "papermill": {
          "duration": 0.080772,
          "end_time": "2021-01-01T13:54:04.845353",
          "exception": false,
          "start_time": "2021-01-01T13:54:04.764581",
          "status": "completed"
        },
        "tags": [],
        "id": "nIdhda-k_imc"
      },
      "source": [
        "<a id='22'></a>\n",
        "# Model Implementation\n",
        "\n",
        "I will try three models and compare their results. For all models, I apply GridSearchCV method to find best score. Also, to be sure our models performance are random, I will use 5 Fold Cross Validation method."
      ]
    },
    {
      "cell_type": "code",
      "execution_count": 44,
      "metadata": {
        "execution": {
          "iopub.execute_input": "2021-01-01T13:54:05.011942Z",
          "iopub.status.busy": "2021-01-01T13:54:05.011171Z",
          "iopub.status.idle": "2021-01-01T13:54:05.013624Z",
          "shell.execute_reply": "2021-01-01T13:54:05.014150Z"
        },
        "papermill": {
          "duration": 0.087695,
          "end_time": "2021-01-01T13:54:05.014300",
          "exception": false,
          "start_time": "2021-01-01T13:54:04.926605",
          "status": "completed"
        },
        "tags": [],
        "id": "39D-2_of_imc"
      },
      "outputs": [],
      "source": [
        "# To store results of models\n",
        "result_dict_train = {}\n",
        "result_dict_test = {}"
      ]
    },
    {
      "cell_type": "markdown",
      "metadata": {
        "papermill": {
          "duration": 0.076949,
          "end_time": "2021-01-01T13:54:05.168781",
          "exception": false,
          "start_time": "2021-01-01T13:54:05.091832",
          "status": "completed"
        },
        "tags": [],
        "id": "eA-BsYPR_imc"
      },
      "source": [
        "<a id='23'></a>\n",
        "## KNN Classifier\n",
        "\n",
        "To find best score of KNN model, I will try different value of n_neighbors, p, and weights parameters. If you are not sure about what these parameters are you can check my another kernel [Understanding Parameters of KNN](http://www.kaggle.com/gorkemgunay/understanding-parameters-of-knn)"
      ]
    },
    {
      "cell_type": "markdown",
      "metadata": {
        "papermill": {
          "duration": 0.077743,
          "end_time": "2021-01-01T13:54:05.323948",
          "exception": false,
          "start_time": "2021-01-01T13:54:05.246205",
          "status": "completed"
        },
        "tags": [],
        "id": "gfU22pxe_imc"
      },
      "source": [
        "<a id='24'></a>\n",
        "### Default Parameters"
      ]
    },
    {
      "cell_type": "code",
      "execution_count": 45,
      "metadata": {
        "execution": {
          "iopub.execute_input": "2021-01-01T13:54:05.482649Z",
          "iopub.status.busy": "2021-01-01T13:54:05.481983Z",
          "iopub.status.idle": "2021-01-01T13:54:05.695673Z",
          "shell.execute_reply": "2021-01-01T13:54:05.696727Z"
        },
        "papermill": {
          "duration": 0.295737,
          "end_time": "2021-01-01T13:54:05.696946",
          "exception": false,
          "start_time": "2021-01-01T13:54:05.401209",
          "status": "completed"
        },
        "tags": [],
        "colab": {
          "base_uri": "https://localhost:8080/"
        },
        "id": "CZ8ehakI_imc",
        "outputId": "78226e54-934f-418d-c1d3-580ffa253567"
      },
      "outputs": [
        {
          "output_type": "stream",
          "name": "stdout",
          "text": [
            "Train Score: 0.59375\n",
            "Test Score: 0.65\n"
          ]
        }
      ],
      "source": [
        "from sklearn.neighbors import KNeighborsClassifier\n",
        "\n",
        "knn = KNeighborsClassifier()\n",
        "accuracies = cross_val_score(knn, x_train, y_train, cv=5)\n",
        "knn.fit(x_train,y_train)\n",
        "\n",
        "print(\"Train Score:\",np.mean(accuracies))\n",
        "print(\"Test Score:\",knn.score(x_test,y_test))"
      ]
    },
    {
      "cell_type": "code",
      "execution_count": 46,
      "metadata": {
        "execution": {
          "iopub.execute_input": "2021-01-01T13:54:05.877054Z",
          "iopub.status.busy": "2021-01-01T13:54:05.876327Z",
          "iopub.status.idle": "2021-01-01T13:54:05.884014Z",
          "shell.execute_reply": "2021-01-01T13:54:05.883224Z"
        },
        "papermill": {
          "duration": 0.10852,
          "end_time": "2021-01-01T13:54:05.884173",
          "exception": false,
          "start_time": "2021-01-01T13:54:05.775653",
          "status": "completed"
        },
        "tags": [],
        "id": "rbTRAIXO_imd"
      },
      "outputs": [],
      "source": [
        "result_dict_train[\"KNN Default Train Score\"] = np.mean(accuracies)\n",
        "result_dict_test[\"KNN Default Test Score\"] = knn.score(x_test,y_test)"
      ]
    },
    {
      "cell_type": "markdown",
      "metadata": {
        "papermill": {
          "duration": 0.07839,
          "end_time": "2021-01-01T13:54:06.053568",
          "exception": false,
          "start_time": "2021-01-01T13:54:05.975178",
          "status": "completed"
        },
        "tags": [],
        "id": "X3uuvVAs_imd"
      },
      "source": [
        "<a id='25'></a>\n",
        "### GridSearchCV"
      ]
    },
    {
      "cell_type": "code",
      "execution_count": 47,
      "metadata": {
        "execution": {
          "iopub.execute_input": "2021-01-01T13:54:06.214303Z",
          "iopub.status.busy": "2021-01-01T13:54:06.213666Z",
          "iopub.status.idle": "2021-01-01T13:54:21.124526Z",
          "shell.execute_reply": "2021-01-01T13:54:21.123963Z"
        },
        "papermill": {
          "duration": 14.992265,
          "end_time": "2021-01-01T13:54:21.124674",
          "exception": false,
          "start_time": "2021-01-01T13:54:06.132409",
          "status": "completed"
        },
        "tags": [],
        "colab": {
          "base_uri": "https://localhost:8080/"
        },
        "id": "bXM3Lnkk_imd",
        "outputId": "0a7bc3e5-6ef9-4814-ee01-1997df481ce5"
      },
      "outputs": [
        {
          "output_type": "stream",
          "name": "stdout",
          "text": [
            "Hyperparameters: {'n_neighbors': 10, 'p': 1, 'weights': 'distance'}\n",
            "Train Score: 0.75625\n",
            "Test Score: 0.7\n"
          ]
        }
      ],
      "source": [
        "grid = {'n_neighbors':np.arange(1,120),\n",
        "        'p':np.arange(1,3),\n",
        "        'weights':['uniform','distance']\n",
        "       }\n",
        "\n",
        "knn = KNeighborsClassifier(algorithm = \"auto\")\n",
        "knn_cv = GridSearchCV(knn,grid,cv=5)\n",
        "knn_cv.fit(x_train,y_train)\n",
        "\n",
        "print(\"Hyperparameters:\",knn_cv.best_params_)\n",
        "print(\"Train Score:\",knn_cv.best_score_)\n",
        "print(\"Test Score:\",knn_cv.score(x_test,y_test))"
      ]
    },
    {
      "cell_type": "code",
      "execution_count": 48,
      "metadata": {
        "execution": {
          "iopub.execute_input": "2021-01-01T13:54:21.292187Z",
          "iopub.status.busy": "2021-01-01T13:54:21.291159Z",
          "iopub.status.idle": "2021-01-01T13:54:21.295782Z",
          "shell.execute_reply": "2021-01-01T13:54:21.296285Z"
        },
        "papermill": {
          "duration": 0.091357,
          "end_time": "2021-01-01T13:54:21.296439",
          "exception": false,
          "start_time": "2021-01-01T13:54:21.205082",
          "status": "completed"
        },
        "tags": [],
        "id": "RBU3HyLt_imd"
      },
      "outputs": [],
      "source": [
        "result_dict_train[\"KNN GridSearch Train Score\"] = knn_cv.best_score_\n",
        "result_dict_test[\"KNN GridSearch Test Score\"] = knn_cv.score(x_test,y_test)"
      ]
    },
    {
      "cell_type": "markdown",
      "metadata": {
        "papermill": {
          "duration": 0.078545,
          "end_time": "2021-01-01T13:54:21.454622",
          "exception": false,
          "start_time": "2021-01-01T13:54:21.376077",
          "status": "completed"
        },
        "tags": [],
        "id": "4S8ug1PR_ime"
      },
      "source": [
        "<a id='26'></a>\n",
        "# Random Forest\n",
        "\n",
        "\n",
        "To find best score of Random Forest model, I will try different value of n_estimators and criterion parameters."
      ]
    },
    {
      "cell_type": "markdown",
      "metadata": {
        "papermill": {
          "duration": 0.089649,
          "end_time": "2021-01-01T13:54:21.632988",
          "exception": false,
          "start_time": "2021-01-01T13:54:21.543339",
          "status": "completed"
        },
        "tags": [],
        "id": "QoiNQrAc_ime"
      },
      "source": [
        "<a id='27'></a>\n",
        "### Default Parameters"
      ]
    },
    {
      "cell_type": "code",
      "execution_count": 49,
      "metadata": {
        "execution": {
          "iopub.execute_input": "2021-01-01T13:54:21.811697Z",
          "iopub.status.busy": "2021-01-01T13:54:21.810910Z",
          "iopub.status.idle": "2021-01-01T13:54:23.129528Z",
          "shell.execute_reply": "2021-01-01T13:54:23.130113Z"
        },
        "papermill": {
          "duration": 1.409596,
          "end_time": "2021-01-01T13:54:23.130266",
          "exception": false,
          "start_time": "2021-01-01T13:54:21.720670",
          "status": "completed"
        },
        "tags": [],
        "colab": {
          "base_uri": "https://localhost:8080/"
        },
        "id": "1Cr6nMCv_ime",
        "outputId": "f40e9e6c-cde9-4778-e200-ff5125647513"
      },
      "outputs": [
        {
          "output_type": "stream",
          "name": "stdout",
          "text": [
            "Train Score: 0.98125\n",
            "Test Score: 0.975\n"
          ]
        }
      ],
      "source": [
        "from sklearn.ensemble import RandomForestClassifier\n",
        "\n",
        "rfc = RandomForestClassifier(random_state = 42)\n",
        "accuracies = cross_val_score(rfc, x_train, y_train, cv=5)\n",
        "rfc.fit(x_train,y_train)\n",
        "\n",
        "print(\"Train Score:\",np.mean(accuracies))\n",
        "print(\"Test Score:\",rfc.score(x_test,y_test))"
      ]
    },
    {
      "cell_type": "code",
      "execution_count": 50,
      "metadata": {
        "execution": {
          "iopub.execute_input": "2021-01-01T13:54:23.306292Z",
          "iopub.status.busy": "2021-01-01T13:54:23.305020Z",
          "iopub.status.idle": "2021-01-01T13:54:23.315491Z",
          "shell.execute_reply": "2021-01-01T13:54:23.314835Z"
        },
        "papermill": {
          "duration": 0.105582,
          "end_time": "2021-01-01T13:54:23.315602",
          "exception": false,
          "start_time": "2021-01-01T13:54:23.210020",
          "status": "completed"
        },
        "tags": [],
        "id": "AUgW3BDs_ime"
      },
      "outputs": [],
      "source": [
        "result_dict_train[\"Random Forest Default Train Score\"] = np.mean(accuracies)\n",
        "result_dict_test[\"Random Forest Default Test Score\"] = rfc.score(x_test,y_test)"
      ]
    },
    {
      "cell_type": "markdown",
      "metadata": {
        "papermill": {
          "duration": 0.080248,
          "end_time": "2021-01-01T13:54:23.475507",
          "exception": false,
          "start_time": "2021-01-01T13:54:23.395259",
          "status": "completed"
        },
        "tags": [],
        "id": "ZKh4Gsln_imf"
      },
      "source": [
        "<a id='28'></a>\n",
        "### GridSearchCV"
      ]
    },
    {
      "cell_type": "code",
      "execution_count": 51,
      "metadata": {
        "execution": {
          "iopub.execute_input": "2021-01-01T13:54:23.654477Z",
          "iopub.status.busy": "2021-01-01T13:54:23.649007Z",
          "iopub.status.idle": "2021-01-01T13:55:54.258855Z",
          "shell.execute_reply": "2021-01-01T13:55:54.259400Z"
        },
        "papermill": {
          "duration": 90.704271,
          "end_time": "2021-01-01T13:55:54.259552",
          "exception": false,
          "start_time": "2021-01-01T13:54:23.555281",
          "status": "completed"
        },
        "tags": [],
        "colab": {
          "base_uri": "https://localhost:8080/"
        },
        "id": "8R2HtJZa_imf",
        "outputId": "3c5166d4-5253-4af2-8f68-7d4ba43250a7"
      },
      "outputs": [
        {
          "output_type": "stream",
          "name": "stdout",
          "text": [
            "Hyperparameters: {'criterion': 'entropy', 'n_estimators': 100}\n",
            "Train Score: 0.9875\n",
            "Test Score: 0.975\n"
          ]
        }
      ],
      "source": [
        "grid = {'n_estimators':np.arange(100,1000,100),\n",
        "        'criterion':['gini','entropy']\n",
        "       }\n",
        "\n",
        "rf = RandomForestClassifier(random_state = 42)\n",
        "rf_cv = GridSearchCV(rf,grid,cv=5)\n",
        "rf_cv.fit(x_train,y_train)\n",
        "\n",
        "print(\"Hyperparameters:\",rf_cv.best_params_)\n",
        "print(\"Train Score:\",rf_cv.best_score_)\n",
        "print(\"Test Score:\",rf_cv.score(x_test,y_test))"
      ]
    },
    {
      "cell_type": "code",
      "execution_count": 52,
      "metadata": {
        "execution": {
          "iopub.execute_input": "2021-01-01T13:55:54.425573Z",
          "iopub.status.busy": "2021-01-01T13:55:54.424949Z",
          "iopub.status.idle": "2021-01-01T13:55:54.442359Z",
          "shell.execute_reply": "2021-01-01T13:55:54.441729Z"
        },
        "papermill": {
          "duration": 0.100947,
          "end_time": "2021-01-01T13:55:54.442482",
          "exception": false,
          "start_time": "2021-01-01T13:55:54.341535",
          "status": "completed"
        },
        "tags": [],
        "id": "oLzncIoD_imf"
      },
      "outputs": [],
      "source": [
        "result_dict_train[\"Random Forest GridSearch Train Score\"] = rf_cv.best_score_\n",
        "result_dict_test[\"Random Forest GridSearch Test Score\"] = rf_cv.score(x_test,y_test)"
      ]
    },
    {
      "cell_type": "markdown",
      "metadata": {
        "papermill": {
          "duration": 0.080604,
          "end_time": "2021-01-01T13:55:54.604551",
          "exception": false,
          "start_time": "2021-01-01T13:55:54.523947",
          "status": "completed"
        },
        "tags": [],
        "id": "NRH1n7Fj_imf"
      },
      "source": [
        "<a id='29'></a>\n",
        "# SVM Classifier\n",
        "\n",
        "To find best score of SVM model, I will try different value of C, kernel, degree and gamma parameters. The easy way to do this is GridSearchCV method. If you are not sure about what these parameters are you can check my another kernel [Understanding Parameters of SVM](https://www.kaggle.com/gorkemgunay/understanding-parameters-of-svm)"
      ]
    },
    {
      "cell_type": "markdown",
      "metadata": {
        "papermill": {
          "duration": 0.081012,
          "end_time": "2021-01-01T13:55:54.766065",
          "exception": false,
          "start_time": "2021-01-01T13:55:54.685053",
          "status": "completed"
        },
        "tags": [],
        "id": "e3bX39pI_img"
      },
      "source": [
        "<a id='30'></a>\n",
        "### Default Parameters"
      ]
    },
    {
      "cell_type": "code",
      "execution_count": 53,
      "metadata": {
        "execution": {
          "iopub.execute_input": "2021-01-01T13:55:54.934240Z",
          "iopub.status.busy": "2021-01-01T13:55:54.933568Z",
          "iopub.status.idle": "2021-01-01T13:55:54.979354Z",
          "shell.execute_reply": "2021-01-01T13:55:54.978755Z"
        },
        "papermill": {
          "duration": 0.13063,
          "end_time": "2021-01-01T13:55:54.979466",
          "exception": false,
          "start_time": "2021-01-01T13:55:54.848836",
          "status": "completed"
        },
        "tags": [],
        "colab": {
          "base_uri": "https://localhost:8080/"
        },
        "id": "M_flBznn_img",
        "outputId": "a9369459-1938-4b87-af2c-23d769f87522"
      },
      "outputs": [
        {
          "output_type": "stream",
          "name": "stdout",
          "text": [
            "Train Score: 0.7125\n",
            "Test Score: 0.65\n"
          ]
        }
      ],
      "source": [
        "from sklearn.svm import SVC\n",
        "svc = SVC(random_state = 42)\n",
        "accuracies = cross_val_score(svc, x_train, y_train, cv=5)\n",
        "svc.fit(x_train,y_train)\n",
        "\n",
        "print(\"Train Score:\",np.mean(accuracies))\n",
        "print(\"Test Score:\",svc.score(x_test,y_test))"
      ]
    },
    {
      "cell_type": "code",
      "execution_count": 54,
      "metadata": {
        "execution": {
          "iopub.execute_input": "2021-01-01T13:55:55.148558Z",
          "iopub.status.busy": "2021-01-01T13:55:55.147554Z",
          "iopub.status.idle": "2021-01-01T13:55:55.151660Z",
          "shell.execute_reply": "2021-01-01T13:55:55.151118Z"
        },
        "papermill": {
          "duration": 0.091263,
          "end_time": "2021-01-01T13:55:55.151801",
          "exception": false,
          "start_time": "2021-01-01T13:55:55.060538",
          "status": "completed"
        },
        "tags": [],
        "id": "s0JESV7z_img"
      },
      "outputs": [],
      "source": [
        "result_dict_train[\"SVM Default Train Score\"] = np.mean(accuracies)\n",
        "result_dict_test[\"SVM Default Test Score\"] = svc.score(x_test,y_test)"
      ]
    },
    {
      "cell_type": "markdown",
      "metadata": {
        "papermill": {
          "duration": 0.080856,
          "end_time": "2021-01-01T13:55:55.315425",
          "exception": false,
          "start_time": "2021-01-01T13:55:55.234569",
          "status": "completed"
        },
        "tags": [],
        "id": "9ccUuKeY_img"
      },
      "source": [
        "<a id='31'></a>\n",
        "### GridSearchCV"
      ]
    },
    {
      "cell_type": "code",
      "execution_count": 55,
      "metadata": {
        "execution": {
          "iopub.execute_input": "2021-01-01T13:55:55.488871Z",
          "iopub.status.busy": "2021-01-01T13:55:55.488171Z",
          "iopub.status.idle": "2021-01-01T13:56:04.721278Z",
          "shell.execute_reply": "2021-01-01T13:56:04.720424Z"
        },
        "papermill": {
          "duration": 9.32334,
          "end_time": "2021-01-01T13:56:04.721410",
          "exception": false,
          "start_time": "2021-01-01T13:55:55.398070",
          "status": "completed"
        },
        "tags": [],
        "colab": {
          "base_uri": "https://localhost:8080/"
        },
        "id": "zSr0U8-L_imh",
        "outputId": "60ed2f84-063a-4edc-c329-a4575509655c"
      },
      "outputs": [
        {
          "output_type": "stream",
          "name": "stdout",
          "text": [
            "Best Parameters: {'C': 1, 'degree': 1, 'gamma': 0.01, 'kernel': 'linear'}\n",
            "Train Score: 0.9875\n",
            "Test Score: 0.975\n"
          ]
        }
      ],
      "source": [
        "grid = {\n",
        "    'C':[0.01,0.1,1,10],\n",
        "    'kernel' : [\"linear\",\"poly\",\"rbf\",\"sigmoid\"],\n",
        "    'degree' : [1,3,5,7],\n",
        "    'gamma' : [0.01,1]\n",
        "}\n",
        "\n",
        "svm  = SVC ();\n",
        "svm_cv = GridSearchCV(svm, grid, cv = 5)\n",
        "svm_cv.fit(x_train,y_train)\n",
        "print(\"Best Parameters:\",svm_cv.best_params_)\n",
        "print(\"Train Score:\",svm_cv.best_score_)\n",
        "print(\"Test Score:\",svm_cv.score(x_test,y_test))\n"
      ]
    },
    {
      "cell_type": "code",
      "execution_count": 56,
      "metadata": {
        "execution": {
          "iopub.execute_input": "2021-01-01T13:56:04.895051Z",
          "iopub.status.busy": "2021-01-01T13:56:04.894391Z",
          "iopub.status.idle": "2021-01-01T13:56:04.897209Z",
          "shell.execute_reply": "2021-01-01T13:56:04.897692Z"
        },
        "papermill": {
          "duration": 0.093853,
          "end_time": "2021-01-01T13:56:04.897840",
          "exception": false,
          "start_time": "2021-01-01T13:56:04.803987",
          "status": "completed"
        },
        "tags": [],
        "id": "fqiiw99N_imh"
      },
      "outputs": [],
      "source": [
        "result_dict_train[\"SVM GridSearch Train Score\"] = svm_cv.best_score_\n",
        "result_dict_test[\"SVM GridSearch Test Score\"] = svm_cv.score(x_test,y_test)"
      ]
    },
    {
      "cell_type": "markdown",
      "metadata": {
        "papermill": {
          "duration": 0.082173,
          "end_time": "2021-01-01T13:56:05.062399",
          "exception": false,
          "start_time": "2021-01-01T13:56:04.980226",
          "status": "completed"
        },
        "tags": [],
        "id": "Tj3HVSs5_imh"
      },
      "source": [
        "<a id='32'></a>\n",
        "# Conclusion"
      ]
    },
    {
      "cell_type": "code",
      "execution_count": 57,
      "metadata": {
        "execution": {
          "iopub.execute_input": "2021-01-01T13:56:05.231617Z",
          "iopub.status.busy": "2021-01-01T13:56:05.230981Z",
          "iopub.status.idle": "2021-01-01T13:56:05.241740Z",
          "shell.execute_reply": "2021-01-01T13:56:05.242289Z"
        },
        "papermill": {
          "duration": 0.097927,
          "end_time": "2021-01-01T13:56:05.242444",
          "exception": false,
          "start_time": "2021-01-01T13:56:05.144517",
          "status": "completed"
        },
        "tags": [],
        "colab": {
          "base_uri": "https://localhost:8080/",
          "height": 237
        },
        "id": "mIP6llke_imh",
        "outputId": "b4573526-b743-417f-a370-6b146e3f12ba"
      },
      "outputs": [
        {
          "output_type": "execute_result",
          "data": {
            "text/html": [
              "\n",
              "  <div id=\"df-0bc1fcbb-4339-4a5f-a164-49cb5118533c\">\n",
              "    <div class=\"colab-df-container\">\n",
              "      <div>\n",
              "<style scoped>\n",
              "    .dataframe tbody tr th:only-of-type {\n",
              "        vertical-align: middle;\n",
              "    }\n",
              "\n",
              "    .dataframe tbody tr th {\n",
              "        vertical-align: top;\n",
              "    }\n",
              "\n",
              "    .dataframe thead th {\n",
              "        text-align: right;\n",
              "    }\n",
              "</style>\n",
              "<table border=\"1\" class=\"dataframe\">\n",
              "  <thead>\n",
              "    <tr style=\"text-align: right;\">\n",
              "      <th></th>\n",
              "      <th>Score</th>\n",
              "    </tr>\n",
              "  </thead>\n",
              "  <tbody>\n",
              "    <tr>\n",
              "      <th>KNN Default Train Score</th>\n",
              "      <td>0.59375</td>\n",
              "    </tr>\n",
              "    <tr>\n",
              "      <th>KNN GridSearch Train Score</th>\n",
              "      <td>0.75625</td>\n",
              "    </tr>\n",
              "    <tr>\n",
              "      <th>Random Forest Default Train Score</th>\n",
              "      <td>0.98125</td>\n",
              "    </tr>\n",
              "    <tr>\n",
              "      <th>Random Forest GridSearch Train Score</th>\n",
              "      <td>0.98750</td>\n",
              "    </tr>\n",
              "    <tr>\n",
              "      <th>SVM Default Train Score</th>\n",
              "      <td>0.71250</td>\n",
              "    </tr>\n",
              "    <tr>\n",
              "      <th>SVM GridSearch Train Score</th>\n",
              "      <td>0.98750</td>\n",
              "    </tr>\n",
              "  </tbody>\n",
              "</table>\n",
              "</div>\n",
              "      <button class=\"colab-df-convert\" onclick=\"convertToInteractive('df-0bc1fcbb-4339-4a5f-a164-49cb5118533c')\"\n",
              "              title=\"Convert this dataframe to an interactive table.\"\n",
              "              style=\"display:none;\">\n",
              "        \n",
              "  <svg xmlns=\"http://www.w3.org/2000/svg\" height=\"24px\"viewBox=\"0 0 24 24\"\n",
              "       width=\"24px\">\n",
              "    <path d=\"M0 0h24v24H0V0z\" fill=\"none\"/>\n",
              "    <path d=\"M18.56 5.44l.94 2.06.94-2.06 2.06-.94-2.06-.94-.94-2.06-.94 2.06-2.06.94zm-11 1L8.5 8.5l.94-2.06 2.06-.94-2.06-.94L8.5 2.5l-.94 2.06-2.06.94zm10 10l.94 2.06.94-2.06 2.06-.94-2.06-.94-.94-2.06-.94 2.06-2.06.94z\"/><path d=\"M17.41 7.96l-1.37-1.37c-.4-.4-.92-.59-1.43-.59-.52 0-1.04.2-1.43.59L10.3 9.45l-7.72 7.72c-.78.78-.78 2.05 0 2.83L4 21.41c.39.39.9.59 1.41.59.51 0 1.02-.2 1.41-.59l7.78-7.78 2.81-2.81c.8-.78.8-2.07 0-2.86zM5.41 20L4 18.59l7.72-7.72 1.47 1.35L5.41 20z\"/>\n",
              "  </svg>\n",
              "      </button>\n",
              "      \n",
              "  <style>\n",
              "    .colab-df-container {\n",
              "      display:flex;\n",
              "      flex-wrap:wrap;\n",
              "      gap: 12px;\n",
              "    }\n",
              "\n",
              "    .colab-df-convert {\n",
              "      background-color: #E8F0FE;\n",
              "      border: none;\n",
              "      border-radius: 50%;\n",
              "      cursor: pointer;\n",
              "      display: none;\n",
              "      fill: #1967D2;\n",
              "      height: 32px;\n",
              "      padding: 0 0 0 0;\n",
              "      width: 32px;\n",
              "    }\n",
              "\n",
              "    .colab-df-convert:hover {\n",
              "      background-color: #E2EBFA;\n",
              "      box-shadow: 0px 1px 2px rgba(60, 64, 67, 0.3), 0px 1px 3px 1px rgba(60, 64, 67, 0.15);\n",
              "      fill: #174EA6;\n",
              "    }\n",
              "\n",
              "    [theme=dark] .colab-df-convert {\n",
              "      background-color: #3B4455;\n",
              "      fill: #D2E3FC;\n",
              "    }\n",
              "\n",
              "    [theme=dark] .colab-df-convert:hover {\n",
              "      background-color: #434B5C;\n",
              "      box-shadow: 0px 1px 3px 1px rgba(0, 0, 0, 0.15);\n",
              "      filter: drop-shadow(0px 1px 2px rgba(0, 0, 0, 0.3));\n",
              "      fill: #FFFFFF;\n",
              "    }\n",
              "  </style>\n",
              "\n",
              "      <script>\n",
              "        const buttonEl =\n",
              "          document.querySelector('#df-0bc1fcbb-4339-4a5f-a164-49cb5118533c button.colab-df-convert');\n",
              "        buttonEl.style.display =\n",
              "          google.colab.kernel.accessAllowed ? 'block' : 'none';\n",
              "\n",
              "        async function convertToInteractive(key) {\n",
              "          const element = document.querySelector('#df-0bc1fcbb-4339-4a5f-a164-49cb5118533c');\n",
              "          const dataTable =\n",
              "            await google.colab.kernel.invokeFunction('convertToInteractive',\n",
              "                                                     [key], {});\n",
              "          if (!dataTable) return;\n",
              "\n",
              "          const docLinkHtml = 'Like what you see? Visit the ' +\n",
              "            '<a target=\"_blank\" href=https://colab.research.google.com/notebooks/data_table.ipynb>data table notebook</a>'\n",
              "            + ' to learn more about interactive tables.';\n",
              "          element.innerHTML = '';\n",
              "          dataTable['output_type'] = 'display_data';\n",
              "          await google.colab.output.renderOutput(dataTable, element);\n",
              "          const docLink = document.createElement('div');\n",
              "          docLink.innerHTML = docLinkHtml;\n",
              "          element.appendChild(docLink);\n",
              "        }\n",
              "      </script>\n",
              "    </div>\n",
              "  </div>\n",
              "  "
            ],
            "text/plain": [
              "                                        Score\n",
              "KNN Default Train Score               0.59375\n",
              "KNN GridSearch Train Score            0.75625\n",
              "Random Forest Default Train Score     0.98125\n",
              "Random Forest GridSearch Train Score  0.98750\n",
              "SVM Default Train Score               0.71250\n",
              "SVM GridSearch Train Score            0.98750"
            ]
          },
          "metadata": {},
          "execution_count": 57
        }
      ],
      "source": [
        "df_result_train = pd.DataFrame.from_dict(result_dict_train,orient = \"index\",columns=[\"Score\"])\n",
        "df_result_train"
      ]
    },
    {
      "cell_type": "code",
      "execution_count": 58,
      "metadata": {
        "execution": {
          "iopub.execute_input": "2021-01-01T13:56:05.420973Z",
          "iopub.status.busy": "2021-01-01T13:56:05.420010Z",
          "iopub.status.idle": "2021-01-01T13:56:05.424515Z",
          "shell.execute_reply": "2021-01-01T13:56:05.423888Z"
        },
        "papermill": {
          "duration": 0.098805,
          "end_time": "2021-01-01T13:56:05.424623",
          "exception": false,
          "start_time": "2021-01-01T13:56:05.325818",
          "status": "completed"
        },
        "tags": [],
        "colab": {
          "base_uri": "https://localhost:8080/",
          "height": 237
        },
        "id": "XCbc7yrd_imi",
        "outputId": "dc1c051a-7cc7-4eee-f200-8cde182de656"
      },
      "outputs": [
        {
          "output_type": "execute_result",
          "data": {
            "text/html": [
              "\n",
              "  <div id=\"df-5bc55c88-320e-415f-a79e-c7a66814e512\">\n",
              "    <div class=\"colab-df-container\">\n",
              "      <div>\n",
              "<style scoped>\n",
              "    .dataframe tbody tr th:only-of-type {\n",
              "        vertical-align: middle;\n",
              "    }\n",
              "\n",
              "    .dataframe tbody tr th {\n",
              "        vertical-align: top;\n",
              "    }\n",
              "\n",
              "    .dataframe thead th {\n",
              "        text-align: right;\n",
              "    }\n",
              "</style>\n",
              "<table border=\"1\" class=\"dataframe\">\n",
              "  <thead>\n",
              "    <tr style=\"text-align: right;\">\n",
              "      <th></th>\n",
              "      <th>Score</th>\n",
              "    </tr>\n",
              "  </thead>\n",
              "  <tbody>\n",
              "    <tr>\n",
              "      <th>KNN Default Test Score</th>\n",
              "      <td>0.650</td>\n",
              "    </tr>\n",
              "    <tr>\n",
              "      <th>KNN GridSearch Test Score</th>\n",
              "      <td>0.700</td>\n",
              "    </tr>\n",
              "    <tr>\n",
              "      <th>Random Forest Default Test Score</th>\n",
              "      <td>0.975</td>\n",
              "    </tr>\n",
              "    <tr>\n",
              "      <th>Random Forest GridSearch Test Score</th>\n",
              "      <td>0.975</td>\n",
              "    </tr>\n",
              "    <tr>\n",
              "      <th>SVM Default Test Score</th>\n",
              "      <td>0.650</td>\n",
              "    </tr>\n",
              "    <tr>\n",
              "      <th>SVM GridSearch Test Score</th>\n",
              "      <td>0.975</td>\n",
              "    </tr>\n",
              "  </tbody>\n",
              "</table>\n",
              "</div>\n",
              "      <button class=\"colab-df-convert\" onclick=\"convertToInteractive('df-5bc55c88-320e-415f-a79e-c7a66814e512')\"\n",
              "              title=\"Convert this dataframe to an interactive table.\"\n",
              "              style=\"display:none;\">\n",
              "        \n",
              "  <svg xmlns=\"http://www.w3.org/2000/svg\" height=\"24px\"viewBox=\"0 0 24 24\"\n",
              "       width=\"24px\">\n",
              "    <path d=\"M0 0h24v24H0V0z\" fill=\"none\"/>\n",
              "    <path d=\"M18.56 5.44l.94 2.06.94-2.06 2.06-.94-2.06-.94-.94-2.06-.94 2.06-2.06.94zm-11 1L8.5 8.5l.94-2.06 2.06-.94-2.06-.94L8.5 2.5l-.94 2.06-2.06.94zm10 10l.94 2.06.94-2.06 2.06-.94-2.06-.94-.94-2.06-.94 2.06-2.06.94z\"/><path d=\"M17.41 7.96l-1.37-1.37c-.4-.4-.92-.59-1.43-.59-.52 0-1.04.2-1.43.59L10.3 9.45l-7.72 7.72c-.78.78-.78 2.05 0 2.83L4 21.41c.39.39.9.59 1.41.59.51 0 1.02-.2 1.41-.59l7.78-7.78 2.81-2.81c.8-.78.8-2.07 0-2.86zM5.41 20L4 18.59l7.72-7.72 1.47 1.35L5.41 20z\"/>\n",
              "  </svg>\n",
              "      </button>\n",
              "      \n",
              "  <style>\n",
              "    .colab-df-container {\n",
              "      display:flex;\n",
              "      flex-wrap:wrap;\n",
              "      gap: 12px;\n",
              "    }\n",
              "\n",
              "    .colab-df-convert {\n",
              "      background-color: #E8F0FE;\n",
              "      border: none;\n",
              "      border-radius: 50%;\n",
              "      cursor: pointer;\n",
              "      display: none;\n",
              "      fill: #1967D2;\n",
              "      height: 32px;\n",
              "      padding: 0 0 0 0;\n",
              "      width: 32px;\n",
              "    }\n",
              "\n",
              "    .colab-df-convert:hover {\n",
              "      background-color: #E2EBFA;\n",
              "      box-shadow: 0px 1px 2px rgba(60, 64, 67, 0.3), 0px 1px 3px 1px rgba(60, 64, 67, 0.15);\n",
              "      fill: #174EA6;\n",
              "    }\n",
              "\n",
              "    [theme=dark] .colab-df-convert {\n",
              "      background-color: #3B4455;\n",
              "      fill: #D2E3FC;\n",
              "    }\n",
              "\n",
              "    [theme=dark] .colab-df-convert:hover {\n",
              "      background-color: #434B5C;\n",
              "      box-shadow: 0px 1px 3px 1px rgba(0, 0, 0, 0.15);\n",
              "      filter: drop-shadow(0px 1px 2px rgba(0, 0, 0, 0.3));\n",
              "      fill: #FFFFFF;\n",
              "    }\n",
              "  </style>\n",
              "\n",
              "      <script>\n",
              "        const buttonEl =\n",
              "          document.querySelector('#df-5bc55c88-320e-415f-a79e-c7a66814e512 button.colab-df-convert');\n",
              "        buttonEl.style.display =\n",
              "          google.colab.kernel.accessAllowed ? 'block' : 'none';\n",
              "\n",
              "        async function convertToInteractive(key) {\n",
              "          const element = document.querySelector('#df-5bc55c88-320e-415f-a79e-c7a66814e512');\n",
              "          const dataTable =\n",
              "            await google.colab.kernel.invokeFunction('convertToInteractive',\n",
              "                                                     [key], {});\n",
              "          if (!dataTable) return;\n",
              "\n",
              "          const docLinkHtml = 'Like what you see? Visit the ' +\n",
              "            '<a target=\"_blank\" href=https://colab.research.google.com/notebooks/data_table.ipynb>data table notebook</a>'\n",
              "            + ' to learn more about interactive tables.';\n",
              "          element.innerHTML = '';\n",
              "          dataTable['output_type'] = 'display_data';\n",
              "          await google.colab.output.renderOutput(dataTable, element);\n",
              "          const docLink = document.createElement('div');\n",
              "          docLink.innerHTML = docLinkHtml;\n",
              "          element.appendChild(docLink);\n",
              "        }\n",
              "      </script>\n",
              "    </div>\n",
              "  </div>\n",
              "  "
            ],
            "text/plain": [
              "                                     Score\n",
              "KNN Default Test Score               0.650\n",
              "KNN GridSearch Test Score            0.700\n",
              "Random Forest Default Test Score     0.975\n",
              "Random Forest GridSearch Test Score  0.975\n",
              "SVM Default Test Score               0.650\n",
              "SVM GridSearch Test Score            0.975"
            ]
          },
          "metadata": {},
          "execution_count": 58
        }
      ],
      "source": [
        "df_result_test = pd.DataFrame.from_dict(result_dict_test,orient = \"index\",columns=[\"Score\"])\n",
        "df_result_test"
      ]
    },
    {
      "cell_type": "code",
      "execution_count": 59,
      "metadata": {
        "execution": {
          "iopub.execute_input": "2021-01-01T13:56:05.607497Z",
          "iopub.status.busy": "2021-01-01T13:56:05.605479Z",
          "iopub.status.idle": "2021-01-01T13:56:05.913352Z",
          "shell.execute_reply": "2021-01-01T13:56:05.912729Z"
        },
        "papermill": {
          "duration": 0.405083,
          "end_time": "2021-01-01T13:56:05.913460",
          "exception": false,
          "start_time": "2021-01-01T13:56:05.508377",
          "status": "completed"
        },
        "tags": [],
        "colab": {
          "base_uri": "https://localhost:8080/",
          "height": 495
        },
        "id": "5hPkSZ83_imi",
        "outputId": "67d969d3-8a83-46ea-f29e-13211d5b2207"
      },
      "outputs": [
        {
          "output_type": "display_data",
          "data": {
            "image/png": "[encoded data removed]",
            "text/plain": [
              "<Figure size 1440x360 with 2 Axes>"
            ]
          },
          "metadata": {
            "needs_background": "light"
          }
        }
      ],
      "source": [
        "fig,ax = plt.subplots(1,2,figsize=(20,5))\n",
        "sns.barplot(x = df_result_train.index,y = df_result_train.Score,ax = ax[0])\n",
        "sns.barplot(x = df_result_test.index,y = df_result_test.Score,ax = ax[1])\n",
        "ax[0].set_xticklabels(df_result_train.index,rotation = 75)\n",
        "ax[1].set_xticklabels(df_result_test.index,rotation = 75)\n",
        "plt.show()"
      ]
    },
    {
      "cell_type": "markdown",
      "metadata": {
        "papermill": {
          "duration": 0.08512,
          "end_time": "2021-01-01T13:56:06.083623",
          "exception": false,
          "start_time": "2021-01-01T13:56:05.998503",
          "status": "completed"
        },
        "tags": [],
        "id": "aH2DPLJ6_imi"
      },
      "source": [
        "* Random Forest classifier  and SVM classifier (after hyperparameter tuning) have a good scores.\n",
        "* KNN classifier has worst score in three clasifiers."
      ]
    }
  ],
  "metadata": {
    "kernelspec": {
      "display_name": "Python 3",
      "language": "python",
      "name": "python3"
    },
    "language_info": {
      "codemirror_mode": {
        "name": "ipython",
        "version": 3
      },
      "file_extension": ".py",
      "mimetype": "text/x-python",
      "name": "python",
      "nbconvert_exporter": "python",
      "pygments_lexer": "ipython3",
      "version": "3.7.6"
    },
    "papermill": {
      "duration": 139.967883,
      "end_time": "2021-01-01T13:56:06.277794",
      "environment_variables": {},
      "exception": null,
      "input_path": "__notebook__.ipynb",
      "output_path": "__notebook__.ipynb",
      "parameters": {},
      "start_time": "2021-01-01T13:53:46.309911",
      "version": "2.1.0"
    },
    "colab": {
      "name": "Drug Classification",
      "provenance": [],
      "include_colab_link": true
    }
  },
  "nbformat": 4,
  "nbformat_minor": 0
}