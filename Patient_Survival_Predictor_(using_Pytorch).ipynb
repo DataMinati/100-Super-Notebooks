{
  "cells": [
    {
      "cell_type": "markdown",
      "metadata": {
        "id": "view-in-github",
        "colab_type": "text"
      },
      "source": [
        "<a href=\"https://colab.research.google.com/github/DataMinati/Super-Notebooks-100/blob/main/Patient_Survival_Predictor_(using_Pytorch).ipynb\" target=\"_parent\"><img src=\"https://colab.research.google.com/assets/colab-badge.svg\" alt=\"Open In Colab\"/></a>"
      ]
    },
    {
      "cell_type": "markdown",
      "id": "ee7eb627",
      "metadata": {
        "papermill": {
          "duration": 0.021409,
          "end_time": "2022-01-27T11:15:45.960275",
          "exception": false,
          "start_time": "2022-01-27T11:15:45.938866",
          "status": "completed"
        },
        "tags": [],
        "id": "ee7eb627"
      },
      "source": [
        "# **Dependency**"
      ]
    },
    {
      "cell_type": "code",
      "execution_count": 1,
      "id": "67342560",
      "metadata": {
        "_cell_guid": "b1076dfc-b9ad-4769-8c92-a6c4dae69d19",
        "_uuid": "8f2839f25d086af736a60e9eeb907d3b93b6e0e5",
        "execution": {
          "iopub.execute_input": "2022-01-27T11:15:46.010000Z",
          "iopub.status.busy": "2022-01-27T11:15:46.008679Z",
          "iopub.status.idle": "2022-01-27T11:15:47.043294Z",
          "shell.execute_reply": "2022-01-27T11:15:47.042700Z",
          "shell.execute_reply.started": "2022-01-27T11:00:47.541216Z"
        },
        "papermill": {
          "duration": 1.060057,
          "end_time": "2022-01-27T11:15:47.043488",
          "exception": false,
          "start_time": "2022-01-27T11:15:45.983431",
          "status": "completed"
        },
        "tags": [],
        "id": "67342560"
      },
      "outputs": [],
      "source": [
        "import os\n",
        "import numpy as np # linear algebra\n",
        "import pandas as pd # data processing, CSV file I/O (e.g. pd.read_csv)\n",
        "from sklearn.preprocessing import StandardScaler\n",
        "from sklearn.model_selection import train_test_split\n",
        "import matplotlib.pyplot as plt\n"
      ]
    },
    {
      "cell_type": "markdown",
      "id": "df2ae2cf",
      "metadata": {
        "papermill": {
          "duration": 0.019355,
          "end_time": "2022-01-27T11:15:47.083235",
          "exception": false,
          "start_time": "2022-01-27T11:15:47.063880",
          "status": "completed"
        },
        "tags": [],
        "id": "df2ae2cf"
      },
      "source": [
        "# **Code Block - Preprocessing**"
      ]
    },
    {
      "cell_type": "code",
      "execution_count": 2,
      "id": "924a2eb8",
      "metadata": {
        "execution": {
          "iopub.execute_input": "2022-01-27T11:15:47.142231Z",
          "iopub.status.busy": "2022-01-27T11:15:47.141245Z",
          "iopub.status.idle": "2022-01-27T11:15:47.144033Z",
          "shell.execute_reply": "2022-01-27T11:15:47.143595Z",
          "shell.execute_reply.started": "2022-01-27T11:00:48.559141Z"
        },
        "papermill": {
          "duration": 0.041598,
          "end_time": "2022-01-27T11:15:47.144173",
          "exception": false,
          "start_time": "2022-01-27T11:15:47.102575",
          "status": "completed"
        },
        "tags": [],
        "id": "924a2eb8"
      },
      "outputs": [],
      "source": [
        "# solve_missing {'drop' , 'mean', 'median'}\n",
        "def clean_data(dataframe, \n",
        "               solve_missing : str ='drop', \n",
        "               solve_missing_cat : str = 'drop',\n",
        "               drop_list : list = [], \n",
        "               category_list : list = []): \n",
        "    df = dataframe.drop_duplicates()\n",
        "    df = df.drop(drop_list, axis=1)\n",
        "    if solve_missing == 'drop' or solve_missing_cat == 'drop':\n",
        "        df = df.dropna()\n",
        "        object_dtype = list(df.select_dtypes(include='object').columns)\n",
        "        for col in df.columns:\n",
        "            if col in category_list or col in object_dtype:\n",
        "                df[col] = df[col].astype('category')\n",
        "    else:\n",
        "        object_dtype = list(df.select_dtypes(include='object').columns)\n",
        "        for col in df.columns:\n",
        "            if col in category_list or col in object_dtype:\n",
        "                df[col] = df[col].astype('category')\n",
        "                if solve_missing_cat == 'mode':\n",
        "                    df[col] = df[col].fillna(df[col].mode()[0], inplace=False)\n",
        "            else:\n",
        "                if solve_missing == 'mean':\n",
        "                    df[col] = df[col].fillna(df[col].mean(), inplace=False)\n",
        "                else:\n",
        "                    df[col] = df[col].fillna(df[col].median(), inplace=False)\n",
        "    return df\n",
        "\n",
        "def split_xy(dataframe, label : str):\n",
        "    return dataframe.drop(labels=label, axis=1), dataframe[label]\n",
        "\n",
        "def encode(df):\n",
        "    category_dtype = list(df.select_dtypes(include='category').columns)\n",
        "    cat = pd.get_dummies(df, columns = category_dtype, drop_first = True)\n",
        "    for col in cat.columns:\n",
        "        if cat[col].dtype == np.uint8:\n",
        "            cat[col] = cat[col].astype('category')\n",
        "    return cat\n",
        "\n",
        "def scale(features : tuple):\n",
        "    trainFeatures, valFeatures, testFeatures = features # type pandas DataFrame\n",
        "    scaler = StandardScaler()\n",
        "    category_dtype = list(trainFeatures.select_dtypes(include='category').columns)\n",
        "    continuous_dtype = list(filter(lambda c: c not in category_dtype, trainFeatures.columns))\n",
        "    # SCALING\n",
        "    scaler.fit(trainFeatures[continuous_dtype])\n",
        "    cont_xtrain = scaler.transform(trainFeatures[continuous_dtype])\n",
        "    cont_xval = scaler.transform(valFeatures[continuous_dtype])\n",
        "    cont_xtest = scaler.transform(testFeatures[continuous_dtype])\n",
        "    # ENCODING\n",
        "    cat_xtrain = trainFeatures[category_dtype]\n",
        "    cat_xval = valFeatures[category_dtype]\n",
        "    cat_xtest = testFeatures[category_dtype]\n",
        "    print(cat_xtrain.shape, cat_xval.shape, cat_xtrain.shape)\n",
        "    xtrain = np.concatenate((cont_xtrain, cat_xtrain), axis=1)\n",
        "    xval = np.concatenate((cont_xval, cat_xval), axis=1)\n",
        "    xtest = np.concatenate((cont_xtest, cat_xtest), axis=1)\n",
        "    return scaler, xtrain, xval, xtest"
      ]
    },
    {
      "cell_type": "markdown",
      "id": "04357cc7",
      "metadata": {
        "papermill": {
          "duration": 0.021563,
          "end_time": "2022-01-27T11:15:47.188202",
          "exception": false,
          "start_time": "2022-01-27T11:15:47.166639",
          "status": "completed"
        },
        "tags": [],
        "id": "04357cc7"
      },
      "source": [
        "# **Data Loading**"
      ]
    },
    {
      "cell_type": "code",
      "execution_count": 6,
      "id": "62d15f10",
      "metadata": {
        "execution": {
          "iopub.execute_input": "2022-01-27T11:15:47.235992Z",
          "iopub.status.busy": "2022-01-27T11:15:47.235244Z",
          "iopub.status.idle": "2022-01-27T11:15:48.611868Z",
          "shell.execute_reply": "2022-01-27T11:15:48.610814Z",
          "shell.execute_reply.started": "2022-01-27T11:00:48.581083Z"
        },
        "papermill": {
          "duration": 1.403214,
          "end_time": "2022-01-27T11:15:48.612018",
          "exception": false,
          "start_time": "2022-01-27T11:15:47.208804",
          "status": "completed"
        },
        "tags": [],
        "colab": {
          "base_uri": "https://localhost:8080/",
          "height": 466
        },
        "id": "62d15f10",
        "outputId": "a8b6d8be-cd0f-412c-ab67-760f339682fa"
      },
      "outputs": [
        {
          "output_type": "display_data",
          "data": {
            "image/png": "[encoded data removed]",
            "text/plain": [
              "<Figure size 720x576 with 1 Axes>"
            ]
          },
          "metadata": {}
        }
      ],
      "source": [
        "df = pd.read_csv('https://raw.githubusercontent.com/MainakRepositor/Datasets-/master/patient_survival.csv')\n",
        "TARGET = 'hospital_death'\n",
        "\n",
        "#df.info()\n",
        "plt.figure(figsize=(10,8))\n",
        "unique_labels = np.unique(df[TARGET])\n",
        "plt.pie(np.array([len(df[df[TARGET]==label]) for label in unique_labels ]), labels = list(unique_labels), autopct='%1.1f%%')\n",
        "plt.show()"
      ]
    },
    {
      "cell_type": "code",
      "execution_count": 7,
      "id": "32607f1c",
      "metadata": {
        "execution": {
          "iopub.execute_input": "2022-01-27T11:15:48.658311Z",
          "iopub.status.busy": "2022-01-27T11:15:48.657397Z",
          "iopub.status.idle": "2022-01-27T11:15:49.520933Z",
          "shell.execute_reply": "2022-01-27T11:15:49.520376Z",
          "shell.execute_reply.started": "2022-01-27T11:00:49.997285Z"
        },
        "papermill": {
          "duration": 0.887737,
          "end_time": "2022-01-27T11:15:49.521077",
          "exception": false,
          "start_time": "2022-01-27T11:15:48.633340",
          "status": "completed"
        },
        "tags": [],
        "colab": {
          "base_uri": "https://localhost:8080/",
          "height": 496
        },
        "id": "32607f1c",
        "outputId": "a58f8884-72ec-4d12-ffec-671f2b74bd7d"
      },
      "outputs": [
        {
          "output_type": "display_data",
          "data": {
            "image/png": "[encoded data removed]",
            "text/plain": [
              "<Figure size 432x288 with 1 Axes>"
            ]
          },
          "metadata": {}
        },
        {
          "output_type": "display_data",
          "data": {
            "image/png": "[encoded data removed]",
            "text/plain": [
              "<Figure size 432x288 with 1 Axes>"
            ]
          },
          "metadata": {
            "needs_background": "light"
          }
        }
      ],
      "source": [
        "category_list = ['elective_surgery', 'ethnicity', 'icu_admit_source', 'icu_stay_type', 'icu_type', 'apache_3j_bodysystem', 'apache_2_bodysystem', \n",
        "                 'aids', 'cirrhosis', 'diabetes_mellitus', 'hepatic_failure', 'immunosuppression', 'leukemia', 'lymphoma', 'solid_tumor_with_metastasis', 'hospital_death']\n",
        "drop_list = ['encounter_id', 'patient_id', 'hospital_id', 'Unnamed: 83']\n",
        "\n",
        "clean_df = clean_data(df, 'mean', 'mode', drop_list, category_list)\n",
        "plt.pie(np.array([len(clean_df[clean_df[TARGET]==label]) for label in unique_labels ]), labels = list(unique_labels), autopct='%1.1f%%')\n",
        "plt.show()\n",
        "plt.bar(list(unique_labels), [len(clean_df[clean_df[TARGET]==label]) for label in unique_labels ], color = ['cyan', 'green'])\n",
        "plt.show()"
      ]
    },
    {
      "cell_type": "code",
      "execution_count": null,
      "id": "1f538980",
      "metadata": {
        "execution": {
          "iopub.execute_input": "2022-01-27T11:15:49.606868Z",
          "iopub.status.busy": "2022-01-27T11:15:49.605046Z",
          "iopub.status.idle": "2022-01-27T11:15:51.385334Z",
          "shell.execute_reply": "2022-01-27T11:15:51.384797Z",
          "shell.execute_reply.started": "2022-01-27T11:00:51.054375Z"
        },
        "papermill": {
          "duration": 1.84308,
          "end_time": "2022-01-27T11:15:51.385510",
          "exception": false,
          "start_time": "2022-01-27T11:15:49.542430",
          "status": "completed"
        },
        "tags": [],
        "id": "1f538980",
        "outputId": "3250a225-750a-4d63-ba93-8aa52cbd6239"
      },
      "outputs": [
        {
          "name": "stdout",
          "output_type": "stream",
          "text": [
            "Encoded Features Shape : (91713, 111)\n",
            "(45856, 47) (18343, 47) (45856, 47)\n"
          ]
        }
      ],
      "source": [
        "features, labels = split_xy(clean_df, TARGET)\n",
        "VAL_SIZE = 0.2\n",
        "TEST_SIZE = 0.3\n",
        "encoded_features = encode(features)\n",
        "print('Encoded Features Shape : {}'.format(encoded_features.shape))\n",
        "# split all samples to train and test with respect to the ratio of each class\n",
        "X_train, X_test, ytrain, ytest = train_test_split(encoded_features, labels, test_size = (VAL_SIZE+TEST_SIZE), stratify = labels)\n",
        "# split test sample to test and validation with respect to the ratio of each class\n",
        "X_test, X_val, ytest, yval = train_test_split(X_test, ytest, test_size = VAL_SIZE/(VAL_SIZE+TEST_SIZE), stratify = ytest)\n",
        "# scale continous variables with standard scaler\n",
        "scaler, xtrain, xval, xtest = scale((X_train, X_val, X_test))\n",
        "#print(scaler.mean_)\n",
        "#print(scaler.var_)\n",
        "#print(xtrain.shape, ytrain.shape)\n",
        "#print(xval.shape, yval.shape)\n",
        "#print(xtest.shape, ytest.shape)\n",
        "# convert features to numpy array format\n",
        "xtrain = np.array(xtrain, dtype='float32')\n",
        "xval = np.array(xval, dtype='float32')\n",
        "xtest = np.array(xtest, dtype='float32')\n",
        "ytrain = np.array(ytrain, dtype='float32')\n",
        "yval = np.array(yval, dtype='float32')\n",
        "ytest = np.array(ytest, dtype='float32')"
      ]
    },
    {
      "cell_type": "markdown",
      "id": "20caefd8",
      "metadata": {
        "papermill": {
          "duration": 0.023244,
          "end_time": "2022-01-27T11:15:51.431346",
          "exception": false,
          "start_time": "2022-01-27T11:15:51.408102",
          "status": "completed"
        },
        "tags": [],
        "id": "20caefd8"
      },
      "source": [
        "# **Model**"
      ]
    },
    {
      "cell_type": "code",
      "execution_count": null,
      "id": "2ebed76d",
      "metadata": {
        "execution": {
          "iopub.execute_input": "2022-01-27T11:15:51.482898Z",
          "iopub.status.busy": "2022-01-27T11:15:51.482195Z",
          "iopub.status.idle": "2022-01-27T11:15:52.572118Z",
          "shell.execute_reply": "2022-01-27T11:15:52.571561Z",
          "shell.execute_reply.started": "2022-01-27T11:00:52.946783Z"
        },
        "papermill": {
          "duration": 1.116493,
          "end_time": "2022-01-27T11:15:52.572274",
          "exception": false,
          "start_time": "2022-01-27T11:15:51.455781",
          "status": "completed"
        },
        "tags": [],
        "id": "2ebed76d"
      },
      "outputs": [],
      "source": [
        "import torch\n",
        "# locate device\n",
        "device = torch.device(\"cuda\" if torch.cuda.is_available() else \"cpu\")"
      ]
    },
    {
      "cell_type": "code",
      "execution_count": null,
      "id": "428aa385",
      "metadata": {
        "execution": {
          "iopub.execute_input": "2022-01-27T11:15:52.627207Z",
          "iopub.status.busy": "2022-01-27T11:15:52.626610Z",
          "iopub.status.idle": "2022-01-27T11:15:52.628833Z",
          "shell.execute_reply": "2022-01-27T11:15:52.629363Z",
          "shell.execute_reply.started": "2022-01-27T11:00:54.106539Z"
        },
        "papermill": {
          "duration": 0.034467,
          "end_time": "2022-01-27T11:15:52.629529",
          "exception": false,
          "start_time": "2022-01-27T11:15:52.595062",
          "status": "completed"
        },
        "tags": [],
        "id": "428aa385"
      },
      "outputs": [],
      "source": [
        "import torch.nn.functional as F\n",
        "import torch.nn as nn\n",
        "#from torch.autograd import Variable\n",
        "\n",
        "class Model(nn.Module):\n",
        "    def __init__(self, input_dim, output_dim):\n",
        "        super(Model, self).__init__()\n",
        "        self.layer1 = nn.Linear(input_dim, 1024)\n",
        "        self.gnorm1 = nn.GroupNorm(32, 1024)\n",
        "        \n",
        "        self.layer2 = nn.Linear(1024, 512)\n",
        "        self.gnorm2 = nn.GroupNorm(16, 512)\n",
        "        \n",
        "        self.layer3 = nn.Linear(512, 128)\n",
        "        self.gnorm3 = nn.GroupNorm(4, 128)\n",
        "        self.layer4 = nn.Linear(128, output_dim)\n",
        "        \n",
        "    def forward(self, x):\n",
        "        x = F.relu(self.gnorm1(self.layer1(x)))\n",
        "        x = F.relu(self.gnorm2(self.layer2(x)))\n",
        "        x = F.relu(self.gnorm3(self.layer3(x)))\n",
        "        x = torch.sigmoid(self.layer4(x))\n",
        "        return x"
      ]
    },
    {
      "cell_type": "markdown",
      "id": "4b2e386e",
      "metadata": {
        "papermill": {
          "duration": 0.022626,
          "end_time": "2022-01-27T11:15:52.674580",
          "exception": false,
          "start_time": "2022-01-27T11:15:52.651954",
          "status": "completed"
        },
        "tags": [],
        "id": "4b2e386e"
      },
      "source": [
        "# **Code Block - Convert Dataset to PyTorch Compatible Dataset**"
      ]
    },
    {
      "cell_type": "code",
      "execution_count": null,
      "id": "8d9d0096",
      "metadata": {
        "execution": {
          "iopub.execute_input": "2022-01-27T11:15:52.726354Z",
          "iopub.status.busy": "2022-01-27T11:15:52.725690Z",
          "iopub.status.idle": "2022-01-27T11:15:52.727500Z",
          "shell.execute_reply": "2022-01-27T11:15:52.727971Z",
          "shell.execute_reply.started": "2022-01-27T11:00:54.119808Z"
        },
        "papermill": {
          "duration": 0.031282,
          "end_time": "2022-01-27T11:15:52.728126",
          "exception": false,
          "start_time": "2022-01-27T11:15:52.696844",
          "status": "completed"
        },
        "tags": [],
        "id": "8d9d0096"
      },
      "outputs": [],
      "source": [
        "from torch.utils.data import Dataset, DataLoader\n",
        "\n",
        "class CustomDataset(Dataset):\n",
        "    def __init__(self, x, y, device):\n",
        "        self._x = x\n",
        "        self._y = y\n",
        "        self._device = device\n",
        "\n",
        "    def __len__(self):\n",
        "        return len(self._x)\n",
        "\n",
        "    def __getitem__(self, idx):\n",
        "        X, Y = self._x[idx], self._y[idx].ravel()\n",
        "        return torch.as_tensor(X, dtype=torch.float32, device=self._device), torch.as_tensor(Y, dtype=torch.float32, device=self._device)"
      ]
    },
    {
      "cell_type": "code",
      "execution_count": null,
      "id": "81e77ab3",
      "metadata": {
        "execution": {
          "iopub.execute_input": "2022-01-27T11:15:52.780947Z",
          "iopub.status.busy": "2022-01-27T11:15:52.779981Z",
          "iopub.status.idle": "2022-01-27T11:15:52.782099Z",
          "shell.execute_reply": "2022-01-27T11:15:52.782688Z",
          "shell.execute_reply.started": "2022-01-27T11:00:54.128147Z"
        },
        "papermill": {
          "duration": 0.031891,
          "end_time": "2022-01-27T11:15:52.782850",
          "exception": false,
          "start_time": "2022-01-27T11:15:52.750959",
          "status": "completed"
        },
        "tags": [],
        "id": "81e77ab3"
      },
      "outputs": [],
      "source": [
        "# batch size of train, validation, test don't have to be the same\n",
        "TRAIN_BATCH_SIZE, VAL_BATCH_SIZE, TEST_BATCH_SIZE = 256, 256, 1\n",
        "\n",
        "train_dataset = CustomDataset(xtrain, ytrain, device)\n",
        "val_dataset = CustomDataset(xval, yval, device)\n",
        "test_dataset = CustomDataset(xtest, ytest, device)\n",
        "\n",
        "train_loader = DataLoader(train_dataset, batch_size=TRAIN_BATCH_SIZE, shuffle=True)\n",
        "val_loader = DataLoader(val_dataset, batch_size=VAL_BATCH_SIZE, shuffle=False)\n",
        "test_loader = DataLoader(test_dataset, batch_size=TEST_BATCH_SIZE, shuffle=False)"
      ]
    },
    {
      "cell_type": "markdown",
      "id": "2a8f2b4d",
      "metadata": {
        "papermill": {
          "duration": 0.022198,
          "end_time": "2022-01-27T11:15:52.827302",
          "exception": false,
          "start_time": "2022-01-27T11:15:52.805104",
          "status": "completed"
        },
        "tags": [],
        "id": "2a8f2b4d"
      },
      "source": [
        "# **Declare Metrics to Monitor and Load to Device**"
      ]
    },
    {
      "cell_type": "code",
      "execution_count": null,
      "id": "f8619013",
      "metadata": {
        "execution": {
          "iopub.execute_input": "2022-01-27T11:15:52.875929Z",
          "iopub.status.busy": "2022-01-27T11:15:52.874991Z",
          "iopub.status.idle": "2022-01-27T11:16:00.012114Z",
          "shell.execute_reply": "2022-01-27T11:16:00.011555Z",
          "shell.execute_reply.started": "2022-01-27T11:00:54.144941Z"
        },
        "papermill": {
          "duration": 7.162482,
          "end_time": "2022-01-27T11:16:00.012276",
          "exception": false,
          "start_time": "2022-01-27T11:15:52.849794",
          "status": "completed"
        },
        "tags": [],
        "id": "f8619013"
      },
      "outputs": [],
      "source": [
        "# unable to import F1Score\n",
        "from torchmetrics import Accuracy, MeanSquaredError, Precision, Recall\n",
        "if torch.cuda.is_available():\n",
        "    loss_fn   = nn.BCELoss().cuda()\n",
        "    metrics = [\n",
        "        {'name': 'Accuracy', 'fn' : Accuracy().cuda(), 'type' : 'int'},\n",
        "        {'name': 'MeanSquaredError', 'fn': MeanSquaredError().cuda(), 'type' : 'float'},\n",
        "        {'name': 'Precision', 'fn': Precision().cuda(), 'type': 'int'},\n",
        "        {'name': 'Recall', 'fn': Recall().cuda(), 'type':'int'}\n",
        "    ]\n",
        "else:\n",
        "    loss_fn = nn.BCELoss().cpu()\n",
        "    metrics = [\n",
        "        {'name': 'Accuracy', 'fn' : Accuracy().cpu(), 'type' : 'int'},\n",
        "        {'name': 'MeanSquaredError', 'fn': MeanSquaredError().cpu(), 'type' : 'float'},\n",
        "        {'name': 'Precision', 'fn': Precision().cpu(), 'type' : 'int'},\n",
        "        {'name': 'Recall', 'fn': Recall().cpu(), 'type' : 'int'}\n",
        "    ]"
      ]
    },
    {
      "cell_type": "code",
      "execution_count": null,
      "id": "391dc047",
      "metadata": {
        "execution": {
          "iopub.execute_input": "2022-01-27T11:16:00.067387Z",
          "iopub.status.busy": "2022-01-27T11:16:00.066762Z",
          "iopub.status.idle": "2022-01-27T11:16:00.102463Z",
          "shell.execute_reply": "2022-01-27T11:16:00.101898Z",
          "shell.execute_reply.started": "2022-01-27T11:01:01.849620Z"
        },
        "papermill": {
          "duration": 0.067391,
          "end_time": "2022-01-27T11:16:00.102612",
          "exception": false,
          "start_time": "2022-01-27T11:16:00.035221",
          "status": "completed"
        },
        "tags": [],
        "id": "391dc047"
      },
      "outputs": [],
      "source": [
        "model     = Model(xtrain.shape[-1], 1)\n",
        "model.to(device)\n",
        "optimizer = torch.optim.Adam(model.parameters(), lr=0.000001)"
      ]
    },
    {
      "cell_type": "code",
      "execution_count": null,
      "id": "d3cab7ae",
      "metadata": {
        "execution": {
          "iopub.execute_input": "2022-01-27T11:16:00.195589Z",
          "iopub.status.busy": "2022-01-27T11:16:00.194866Z",
          "iopub.status.idle": "2022-01-27T11:16:00.225425Z",
          "shell.execute_reply": "2022-01-27T11:16:00.224841Z",
          "shell.execute_reply.started": "2022-01-27T11:01:01.896952Z"
        },
        "papermill": {
          "duration": 0.056023,
          "end_time": "2022-01-27T11:16:00.225598",
          "exception": false,
          "start_time": "2022-01-27T11:16:00.169575",
          "status": "completed"
        },
        "tags": [],
        "id": "d3cab7ae"
      },
      "outputs": [],
      "source": [
        "def L1(params, device, l1 = 0.0001):\n",
        "    reg = torch.tensor(0., device=device)\n",
        "    for param in params:\n",
        "        reg += torch.sum(torch.abs(param))\n",
        "    return l1 * reg\n",
        "\n",
        "def L2(params, device, l2 = 0.0001):\n",
        "    reg = torch.tensor(0., device=device)\n",
        "    for param in params:\n",
        "        reg += torch.sum(torch.pow(param, 2))\n",
        "    return l2 * reg\n",
        "\n",
        "def train_loop(dataloader, valloader, model, loss_fn, optimizer, max_iter, metrics : dict, device):\n",
        "    model.train()\n",
        "    history = dict()\n",
        "    history['Loss'] = []\n",
        "    history['val_Loss'] = []\n",
        "    for m in metrics:\n",
        "        history[m['name']] = []\n",
        "        history['val_{}'.format(m['name'])] = []\n",
        "    size = len(dataloader.dataset)\n",
        "    for itr in range(max_iter):\n",
        "        real_time = dict()\n",
        "        real_time['Loss'] = []\n",
        "        for m in metrics:\n",
        "            real_time[m['name']] = []\n",
        "        for batch, (X, y) in enumerate(dataloader):\n",
        "            # Compute prediction and loss\n",
        "            X.to(device)\n",
        "            y.to(device)\n",
        "            pred = model(X)\n",
        "            loss = loss_fn(pred, y)\n",
        "            loss += L2(model.parameters(), device) + L1(model.parameters(), device)\n",
        "            # Backpropagation\n",
        "            optimizer.zero_grad()\n",
        "            loss.backward()\n",
        "            optimizer.step()\n",
        "            # compute metrics\n",
        "            real_time['Loss'].append(loss.item())\n",
        "            for m in metrics:\n",
        "                if m['type'] == 'float':\n",
        "                    real_time[m['name']].append(m['fn'](pred, y).item())\n",
        "                else:\n",
        "                    real_time[m['name']].append(m['fn'](pred, y.type(torch.uint8)).item())\n",
        "        history['Loss'].append(np.mean(real_time['Loss']))\n",
        "        for m in metrics:\n",
        "            history[m['name']].append(np.mean(real_time[m['name']]))\n",
        "            print(f\"{m['name']}: {np.mean(real_time[m['name']]):>8f}\", end='\\t')\n",
        "        print('')\n",
        "        epoch_loss = np.mean(real_time['Loss'])\n",
        "        print(f\"Loss: {epoch_loss:>7f} [{itr:>5d}/{max_iter:>5d}]\")\n",
        "        print('Val', end = '\\t')\n",
        "        tmp = dict()\n",
        "        tmp['Loss'] = []\n",
        "        for m in metrics:\n",
        "            tmp[m['name']] = []\n",
        "        model.eval()\n",
        "        with torch.no_grad():\n",
        "            for X, y in valloader:\n",
        "                X.to(device)\n",
        "                y.to(device)\n",
        "                pred = model(X)\n",
        "                test_loss = loss_fn(pred, y)\n",
        "                tmp['Loss'].append(test_loss.item())\n",
        "                for m in metrics:\n",
        "                    if m['type'] == 'float':\n",
        "                        tmp[m['name']].append(m['fn'](pred, y).item())\n",
        "                    else:\n",
        "                        tmp[m['name']].append(m['fn'](pred, y.type(torch.uint8)).item())\n",
        "        for k, v in tmp.items():\n",
        "            print(f\"{k}: {np.mean(v):>8f}\", end='\\t')\n",
        "            history['val_{}'.format(k)].append(np.mean(v))\n",
        "        print('###END')\n",
        "        #torch.save(model, f'./model_E{itr:>5d}.pt')\n",
        "    return history\n",
        "\n",
        "def test_loop(dataloader, model, loss_fn, metrics : dict, device):\n",
        "    score = dict()\n",
        "    tmp = dict()\n",
        "    tmp['Loss'] = []\n",
        "    for m in metrics:\n",
        "        tmp[m['name']] = []\n",
        "    model.eval()\n",
        "    with torch.no_grad():\n",
        "        for X, y in dataloader:\n",
        "            X.to(device)\n",
        "            y.to(device)\n",
        "            pred = model(X)\n",
        "            test_loss = loss_fn(pred, y)\n",
        "            tmp['Loss'].append(test_loss.item())\n",
        "            for m in metrics:\n",
        "                if m['type'] == 'float':\n",
        "                    tmp[m['name']].append(m['fn'](pred, y).item())\n",
        "                else:\n",
        "                    tmp[m['name']].append(m['fn'](pred, y.type(torch.uint8)).item())\n",
        "    for k, v in tmp.items():\n",
        "        print(f\"{k}: {np.mean(v):>8f}\", end='\\t')\n",
        "        score[k] = np.mean(v)\n",
        "    return score\n",
        "\n",
        "def predict(dataloader, model, device):\n",
        "    ypred = []\n",
        "    model.eval()\n",
        "    with torch.no_grad():\n",
        "        for X, y in dataloader:\n",
        "            X.to(device)\n",
        "            pred = model(X)\n",
        "            ypred.append([torch.ravel(pred), torch.ravel(y)])\n",
        "    return ypred"
      ]
    },
    {
      "cell_type": "markdown",
      "id": "76b53600",
      "metadata": {
        "papermill": {
          "duration": 0.021713,
          "end_time": "2022-01-27T11:16:00.270078",
          "exception": false,
          "start_time": "2022-01-27T11:16:00.248365",
          "status": "completed"
        },
        "tags": [],
        "id": "76b53600"
      },
      "source": [
        "# **Train**"
      ]
    },
    {
      "cell_type": "code",
      "execution_count": null,
      "id": "93b858d8",
      "metadata": {
        "execution": {
          "iopub.execute_input": "2022-01-27T11:16:00.320672Z",
          "iopub.status.busy": "2022-01-27T11:16:00.319943Z",
          "iopub.status.idle": "2022-01-27T11:20:59.920149Z",
          "shell.execute_reply": "2022-01-27T11:20:59.919543Z",
          "shell.execute_reply.started": "2022-01-27T11:01:01.931474Z"
        },
        "papermill": {
          "duration": 299.628171,
          "end_time": "2022-01-27T11:20:59.920307",
          "exception": false,
          "start_time": "2022-01-27T11:16:00.292136",
          "status": "completed"
        },
        "tags": [],
        "id": "93b858d8",
        "outputId": "d203a5c9-cfda-46f9-a25f-c39589a5cbe7"
      },
      "outputs": [
        {
          "name": "stdout",
          "output_type": "stream",
          "text": [
            "Accuracy: 0.815408\tMeanSquaredError: 0.189324\tPrecision: 0.064894\tRecall: 0.112541\t\n",
            "Loss: 2.464778 [    0/   50]\n",
            "Val\tLoss: 0.454103\tAccuracy: 0.913712\tMeanSquaredError: 0.135534\tPrecision: 0.013889\tRecall: 0.000661\t###END\n",
            "Accuracy: 0.913520\tMeanSquaredError: 0.111507\tPrecision: 0.000000\tRecall: 0.000000\t\n",
            "Loss: 2.290220 [    1/   50]\n",
            "Val\tLoss: 0.350884\tAccuracy: 0.913712\tMeanSquaredError: 0.094809\tPrecision: 0.000000\tRecall: 0.000000\t###END\n",
            "Accuracy: 0.914128\tMeanSquaredError: 0.087392\tPrecision: 0.000000\tRecall: 0.000000\t\n",
            "Loss: 2.220771 [    2/   50]\n",
            "Val\tLoss: 0.309750\tAccuracy: 0.913712\tMeanSquaredError: 0.082276\tPrecision: 0.000000\tRecall: 0.000000\t###END\n",
            "Accuracy: 0.913824\tMeanSquaredError: 0.079618\tPrecision: 0.000000\tRecall: 0.000000\t\n",
            "Loss: 2.190453 [    3/   50]\n",
            "Val\tLoss: 0.289990\tAccuracy: 0.913712\tMeanSquaredError: 0.077393\tPrecision: 0.000000\tRecall: 0.000000\t###END\n",
            "Accuracy: 0.913368\tMeanSquaredError: 0.076355\tPrecision: 0.000000\tRecall: 0.000000\t\n",
            "Loss: 2.173694 [    4/   50]\n",
            "Val\tLoss: 0.277724\tAccuracy: 0.913712\tMeanSquaredError: 0.074631\tPrecision: 0.000000\tRecall: 0.000000\t###END\n",
            "Accuracy: 0.912912\tMeanSquaredError: 0.074377\tPrecision: 0.000000\tRecall: 0.000000\t\n",
            "Loss: 2.161742 [    5/   50]\n",
            "Val\tLoss: 0.268509\tAccuracy: 0.913712\tMeanSquaredError: 0.072539\tPrecision: 0.000000\tRecall: 0.000000\t###END\n",
            "Accuracy: 0.914128\tMeanSquaredError: 0.071596\tPrecision: 0.000000\tRecall: 0.000000\t\n",
            "Loss: 2.148708 [    6/   50]\n",
            "Val\tLoss: 0.260881\tAccuracy: 0.913712\tMeanSquaredError: 0.070702\tPrecision: 0.000000\tRecall: 0.000000\t###END\n",
            "Accuracy: 0.913976\tMeanSquaredError: 0.070052\tPrecision: 0.000000\tRecall: 0.000000\t\n",
            "Loss: 2.139280 [    7/   50]\n",
            "Val\tLoss: 0.254372\tAccuracy: 0.913712\tMeanSquaredError: 0.069113\tPrecision: 0.000000\tRecall: 0.000000\t###END\n",
            "Accuracy: 0.913672\tMeanSquaredError: 0.068786\tPrecision: 0.000000\tRecall: 0.000000\t\n",
            "Loss: 2.131003 [    8/   50]\n",
            "Val\tLoss: 0.248870\tAccuracy: 0.913983\tMeanSquaredError: 0.067722\tPrecision: 0.069444\tRecall: 0.003195\t###END\n",
            "Accuracy: 0.914214\tMeanSquaredError: 0.067423\tPrecision: 0.100000\tRecall: 0.004811\t\n",
            "Loss: 2.122707 [    9/   50]\n",
            "Val\tLoss: 0.244210\tAccuracy: 0.914689\tMeanSquaredError: 0.066471\tPrecision: 0.270833\tRecall: 0.012778\t###END\n",
            "Accuracy: 0.914562\tMeanSquaredError: 0.066610\tPrecision: 0.312963\tRecall: 0.018482\t\n",
            "Loss: 2.116061 [   10/   50]\n",
            "Val\tLoss: 0.240329\tAccuracy: 0.916074\tMeanSquaredError: 0.065487\tPrecision: 0.504630\tRecall: 0.033617\t###END\n",
            "Accuracy: 0.916450\tMeanSquaredError: 0.065501\tPrecision: 0.522407\tRecall: 0.044382\t\n",
            "Loss: 2.108705 [   11/   50]\n",
            "Val\tLoss: 0.237029\tAccuracy: 0.917539\tMeanSquaredError: 0.064616\tPrecision: 0.648843\tRecall: 0.061395\t###END\n",
            "Accuracy: 0.917556\tMeanSquaredError: 0.064902\tPrecision: 0.637526\tRecall: 0.070743\t\n",
            "Loss: 2.102764 [   12/   50]\n",
            "Val\tLoss: 0.234237\tAccuracy: 0.918544\tMeanSquaredError: 0.063939\tPrecision: 0.715278\tRecall: 0.079365\t###END\n",
            "Accuracy: 0.918446\tMeanSquaredError: 0.064117\tPrecision: 0.671396\tRecall: 0.097912\t\n",
            "Loss: 2.096311 [   13/   50]\n",
            "Val\tLoss: 0.231824\tAccuracy: 0.919058\tMeanSquaredError: 0.063325\tPrecision: 0.696627\tRecall: 0.100586\t###END\n",
            "Accuracy: 0.918533\tMeanSquaredError: 0.063907\tPrecision: 0.678380\tRecall: 0.109296\t\n",
            "Loss: 2.091338 [   14/   50]\n",
            "Val\tLoss: 0.229741\tAccuracy: 0.920172\tMeanSquaredError: 0.062818\tPrecision: 0.710483\tRecall: 0.121005\t###END\n",
            "Accuracy: 0.919184\tMeanSquaredError: 0.063396\tPrecision: 0.661077\tRecall: 0.124159\t\n",
            "Loss: 2.085841 [   15/   50]\n",
            "Val\tLoss: 0.227969\tAccuracy: 0.921148\tMeanSquaredError: 0.062390\tPrecision: 0.719252\tRecall: 0.141576\t###END\n",
            "Accuracy: 0.919748\tMeanSquaredError: 0.062816\tPrecision: 0.644370\tRecall: 0.142977\t\n",
            "Loss: 2.079830 [   16/   50]\n",
            "Val\tLoss: 0.226376\tAccuracy: 0.921582\tMeanSquaredError: 0.062017\tPrecision: 0.712296\tRecall: 0.154518\t###END\n",
            "Accuracy: 0.920573\tMeanSquaredError: 0.062400\tPrecision: 0.661244\tRecall: 0.155138\t\n",
            "Loss: 2.074300 [   17/   50]\n",
            "Val\tLoss: 0.224973\tAccuracy: 0.921825\tMeanSquaredError: 0.061695\tPrecision: 0.700959\tRecall: 0.166039\t###END\n",
            "Accuracy: 0.919596\tMeanSquaredError: 0.062765\tPrecision: 0.629719\tRecall: 0.162847\t\n",
            "Loss: 2.070838 [   18/   50]\n",
            "Val\tLoss: 0.223729\tAccuracy: 0.922396\tMeanSquaredError: 0.061406\tPrecision: 0.698692\tRecall: 0.178783\t###END\n",
            "Accuracy: 0.920595\tMeanSquaredError: 0.062093\tPrecision: 0.650674\tRecall: 0.181567\t\n",
            "Loss: 2.064971 [   19/   50]\n",
            "Val\tLoss: 0.222630\tAccuracy: 0.922559\tMeanSquaredError: 0.061154\tPrecision: 0.692560\tRecall: 0.185394\t###END\n",
            "Accuracy: 0.920595\tMeanSquaredError: 0.061860\tPrecision: 0.641919\tRecall: 0.185566\t\n",
            "Loss: 2.059848 [   20/   50]\n",
            "Val\tLoss: 0.221664\tAccuracy: 0.923210\tMeanSquaredError: 0.060939\tPrecision: 0.703557\tRecall: 0.198112\t###END\n",
            "Accuracy: 0.920312\tMeanSquaredError: 0.062049\tPrecision: 0.624500\tRecall: 0.189750\t\n",
            "Loss: 2.056056 [   21/   50]\n",
            "Val\tLoss: 0.220799\tAccuracy: 0.923318\tMeanSquaredError: 0.060742\tPrecision: 0.693390\tRecall: 0.205024\t###END\n",
            "Accuracy: 0.920898\tMeanSquaredError: 0.061455\tPrecision: 0.638154\tRecall: 0.202994\t\n",
            "Loss: 2.050066 [   22/   50]\n",
            "Val\tLoss: 0.220025\tAccuracy: 0.923210\tMeanSquaredError: 0.060574\tPrecision: 0.689762\tRecall: 0.207074\t###END\n",
            "Accuracy: 0.921159\tMeanSquaredError: 0.061393\tPrecision: 0.629296\tRecall: 0.209116\t\n",
            "Loss: 2.045572 [   23/   50]\n",
            "Val\tLoss: 0.219336\tAccuracy: 0.923210\tMeanSquaredError: 0.060439\tPrecision: 0.689290\tRecall: 0.209724\t###END\n",
            "Accuracy: 0.921332\tMeanSquaredError: 0.061113\tPrecision: 0.636479\tRecall: 0.205885\t\n",
            "Loss: 2.040567 [   24/   50]\n",
            "Val\tLoss: 0.218692\tAccuracy: 0.923427\tMeanSquaredError: 0.060284\tPrecision: 0.676406\tRecall: 0.218937\t###END\n",
            "Accuracy: 0.922092\tMeanSquaredError: 0.060895\tPrecision: 0.643258\tRecall: 0.219106\t\n",
            "Loss: 2.035524 [   25/   50]\n",
            "Val\tLoss: 0.218111\tAccuracy: 0.923644\tMeanSquaredError: 0.060174\tPrecision: 0.680915\tRecall: 0.220088\t###END\n",
            "Accuracy: 0.922526\tMeanSquaredError: 0.060694\tPrecision: 0.642023\tRecall: 0.227693\t\n",
            "Loss: 2.030823 [   26/   50]\n",
            "Val\tLoss: 0.217572\tAccuracy: 0.924024\tMeanSquaredError: 0.060059\tPrecision: 0.683274\tRecall: 0.224960\t###END\n",
            "Accuracy: 0.922743\tMeanSquaredError: 0.060581\tPrecision: 0.644632\tRecall: 0.227713\t\n",
            "Loss: 2.026135 [   27/   50]\n",
            "Val\tLoss: 0.217070\tAccuracy: 0.924132\tMeanSquaredError: 0.059938\tPrecision: 0.676924\tRecall: 0.232688\t###END\n",
            "Accuracy: 0.922114\tMeanSquaredError: 0.060744\tPrecision: 0.631345\tRecall: 0.223651\t\n",
            "Loss: 2.022205 [   28/   50]\n",
            "Val\tLoss: 0.216607\tAccuracy: 0.924053\tMeanSquaredError: 0.059822\tPrecision: 0.671178\tRecall: 0.239280\t###END\n",
            "Accuracy: 0.922700\tMeanSquaredError: 0.060362\tPrecision: 0.634311\tRecall: 0.237581\t\n",
            "Loss: 2.016844 [   29/   50]\n",
            "Val\tLoss: 0.216148\tAccuracy: 0.924053\tMeanSquaredError: 0.059731\tPrecision: 0.669929\tRecall: 0.239297\t###END\n",
            "Accuracy: 0.922461\tMeanSquaredError: 0.060358\tPrecision: 0.648318\tRecall: 0.238552\t\n",
            "Loss: 2.012468 [   30/   50]\n",
            "Val\tLoss: 0.215744\tAccuracy: 0.924161\tMeanSquaredError: 0.059654\tPrecision: 0.671591\tRecall: 0.240861\t###END\n",
            "Accuracy: 0.922852\tMeanSquaredError: 0.060140\tPrecision: 0.644004\tRecall: 0.236680\t\n",
            "Loss: 2.007574 [   31/   50]\n",
            "Val\tLoss: 0.215373\tAccuracy: 0.924324\tMeanSquaredError: 0.059572\tPrecision: 0.670153\tRecall: 0.246056\t###END\n",
            "Accuracy: 0.923286\tMeanSquaredError: 0.059858\tPrecision: 0.631782\tRecall: 0.243009\t\n",
            "Loss: 2.002512 [   32/   50]\n",
            "Val\tLoss: 0.215015\tAccuracy: 0.924161\tMeanSquaredError: 0.059511\tPrecision: 0.669676\tRecall: 0.243587\t###END\n",
            "Accuracy: 0.922635\tMeanSquaredError: 0.060006\tPrecision: 0.638244\tRecall: 0.244780\t\n",
            "Loss: 1.998660 [   33/   50]\n",
            "Val\tLoss: 0.214665\tAccuracy: 0.924378\tMeanSquaredError: 0.059437\tPrecision: 0.671896\tRecall: 0.245288\t###END\n",
            "Accuracy: 0.922938\tMeanSquaredError: 0.059833\tPrecision: 0.634943\tRecall: 0.242495\t\n",
            "Loss: 1.993989 [   34/   50]\n",
            "Val\tLoss: 0.214336\tAccuracy: 0.924487\tMeanSquaredError: 0.059365\tPrecision: 0.670616\tRecall: 0.250700\t###END\n",
            "Accuracy: 0.923459\tMeanSquaredError: 0.059448\tPrecision: 0.649895\tRecall: 0.248957\t\n",
            "Loss: 1.988564 [   35/   50]\n",
            "Val\tLoss: 0.214013\tAccuracy: 0.924649\tMeanSquaredError: 0.059296\tPrecision: 0.669991\tRecall: 0.254353\t###END\n",
            "Accuracy: 0.923090\tMeanSquaredError: 0.059816\tPrecision: 0.637427\tRecall: 0.253966\t\n",
            "Loss: 1.985493 [   36/   50]\n",
            "Val\tLoss: 0.213725\tAccuracy: 0.924812\tMeanSquaredError: 0.059253\tPrecision: 0.673591\tRecall: 0.253120\t###END\n",
            "Accuracy: 0.923503\tMeanSquaredError: 0.059407\tPrecision: 0.633291\tRecall: 0.248591\t\n",
            "Loss: 1.979971 [   37/   50]\n",
            "Val\tLoss: 0.213422\tAccuracy: 0.924921\tMeanSquaredError: 0.059170\tPrecision: 0.669547\tRecall: 0.261331\t###END\n",
            "Accuracy: 0.923329\tMeanSquaredError: 0.059442\tPrecision: 0.644132\tRecall: 0.250282\t\n",
            "Loss: 1.975938 [   38/   50]\n",
            "Val\tLoss: 0.213144\tAccuracy: 0.925029\tMeanSquaredError: 0.059118\tPrecision: 0.669963\tRecall: 0.262099\t###END\n",
            "Accuracy: 0.923177\tMeanSquaredError: 0.059597\tPrecision: 0.639379\tRecall: 0.254874\t\n",
            "Loss: 1.972192 [   39/   50]\n",
            "Val\tLoss: 0.212863\tAccuracy: 0.925517\tMeanSquaredError: 0.059053\tPrecision: 0.677094\tRecall: 0.265548\t###END\n",
            "Accuracy: 0.923394\tMeanSquaredError: 0.059443\tPrecision: 0.645817\tRecall: 0.256379\t\n",
            "Loss: 1.967679 [   40/   50]\n",
            "Val\tLoss: 0.212611\tAccuracy: 0.925680\tMeanSquaredError: 0.059000\tPrecision: 0.678319\tRecall: 0.269515\t###END\n",
            "Accuracy: 0.924262\tMeanSquaredError: 0.058810\tPrecision: 0.637209\tRecall: 0.256563\t\n",
            "Loss: 1.961726 [   41/   50]\n",
            "Val\tLoss: 0.212355\tAccuracy: 0.925734\tMeanSquaredError: 0.058953\tPrecision: 0.676948\tRecall: 0.271295\t###END\n",
            "Accuracy: 0.924023\tMeanSquaredError: 0.058882\tPrecision: 0.646745\tRecall: 0.257657\t\n",
            "Loss: 1.957852 [   42/   50]\n",
            "Val\tLoss: 0.212106\tAccuracy: 0.925680\tMeanSquaredError: 0.058895\tPrecision: 0.671929\tRecall: 0.274603\t###END\n",
            "Accuracy: 0.924392\tMeanSquaredError: 0.058764\tPrecision: 0.641833\tRecall: 0.261255\t\n",
            "Loss: 1.953484 [   43/   50]\n",
            "Val\tLoss: 0.211864\tAccuracy: 0.926006\tMeanSquaredError: 0.058861\tPrecision: 0.680067\tRecall: 0.271608\t###END\n",
            "Accuracy: 0.924197\tMeanSquaredError: 0.058940\tPrecision: 0.658513\tRecall: 0.262244\t\n",
            "Loss: 1.949910 [   44/   50]\n",
            "Val\tLoss: 0.211622\tAccuracy: 0.926223\tMeanSquaredError: 0.058806\tPrecision: 0.679257\tRecall: 0.276701\t###END\n",
            "Accuracy: 0.924219\tMeanSquaredError: 0.058750\tPrecision: 0.652384\tRecall: 0.264002\t\n",
            "Loss: 1.945312 [   45/   50]\n",
            "Val\tLoss: 0.211388\tAccuracy: 0.926223\tMeanSquaredError: 0.058748\tPrecision: 0.676050\tRecall: 0.279219\t###END\n",
            "Accuracy: 0.924284\tMeanSquaredError: 0.058627\tPrecision: 0.650540\tRecall: 0.264136\t\n",
            "Loss: 1.941009 [   46/   50]\n",
            "Val\tLoss: 0.211173\tAccuracy: 0.926223\tMeanSquaredError: 0.058708\tPrecision: 0.675987\tRecall: 0.279290\t###END\n",
            "Accuracy: 0.924870\tMeanSquaredError: 0.058341\tPrecision: 0.652057\tRecall: 0.267514\t\n",
            "Loss: 1.936180 [   47/   50]\n",
            "Val\tLoss: 0.210963\tAccuracy: 0.926168\tMeanSquaredError: 0.058667\tPrecision: 0.676044\tRecall: 0.278734\t###END\n",
            "Accuracy: 0.925022\tMeanSquaredError: 0.058246\tPrecision: 0.661546\tRecall: 0.270708\t\n",
            "Loss: 1.931963 [   48/   50]\n",
            "Val\tLoss: 0.210755\tAccuracy: 0.926223\tMeanSquaredError: 0.058633\tPrecision: 0.676886\tRecall: 0.278734\t###END\n",
            "Accuracy: 0.924436\tMeanSquaredError: 0.058491\tPrecision: 0.656856\tRecall: 0.266947\t\n",
            "Loss: 1.928626 [   49/   50]\n",
            "Val\tLoss: 0.210535\tAccuracy: 0.926223\tMeanSquaredError: 0.058581\tPrecision: 0.675772\tRecall: 0.280509\t###END\n"
          ]
        }
      ],
      "source": [
        "EPOCHS = 50\n",
        "train_history = train_loop(train_loader, val_loader, model, loss_fn, optimizer, EPOCHS, metrics, device)"
      ]
    },
    {
      "cell_type": "markdown",
      "id": "ee22952c",
      "metadata": {
        "papermill": {
          "duration": 0.052082,
          "end_time": "2022-01-27T11:21:00.027902",
          "exception": false,
          "start_time": "2022-01-27T11:20:59.975820",
          "status": "completed"
        },
        "tags": [],
        "id": "ee22952c"
      },
      "source": [
        "# **Evaluate**"
      ]
    },
    {
      "cell_type": "code",
      "execution_count": null,
      "id": "2ce1b7ed",
      "metadata": {
        "execution": {
          "iopub.execute_input": "2022-01-27T11:21:00.139761Z",
          "iopub.status.busy": "2022-01-27T11:21:00.139006Z",
          "iopub.status.idle": "2022-01-27T11:22:24.669551Z",
          "shell.execute_reply": "2022-01-27T11:22:24.670086Z",
          "shell.execute_reply.started": "2022-01-27T11:06:17.896834Z"
        },
        "papermill": {
          "duration": 84.588724,
          "end_time": "2022-01-27T11:22:24.670254",
          "exception": false,
          "start_time": "2022-01-27T11:21:00.081530",
          "status": "completed"
        },
        "tags": [],
        "id": "2ce1b7ed",
        "outputId": "cf65838f-6bec-41fd-b3bd-99196dab1fec"
      },
      "outputs": [
        {
          "name": "stdout",
          "output_type": "stream",
          "text": [
            "Loss: 0.209250\tAccuracy: 0.925747\tMeanSquaredError: 0.058181\tPrecision: 0.024133\tRecall: 0.024133\t"
          ]
        }
      ],
      "source": [
        "score = test_loop(test_loader, model, loss_fn, metrics, device)"
      ]
    },
    {
      "cell_type": "code",
      "execution_count": null,
      "id": "43273426",
      "metadata": {
        "execution": {
          "iopub.execute_input": "2022-01-27T11:22:24.785676Z",
          "iopub.status.busy": "2022-01-27T11:22:24.784670Z",
          "iopub.status.idle": "2022-01-27T11:22:35.997694Z",
          "shell.execute_reply": "2022-01-27T11:22:35.998375Z",
          "shell.execute_reply.started": "2022-01-27T11:07:45.144669Z"
        },
        "papermill": {
          "duration": 11.273047,
          "end_time": "2022-01-27T11:22:35.998609",
          "exception": false,
          "start_time": "2022-01-27T11:22:24.725562",
          "status": "completed"
        },
        "tags": [],
        "id": "43273426",
        "outputId": "58a18a3f-15e8-43ab-de3c-92e8ae6d7e5b"
      },
      "outputs": [
        {
          "data": {
            "image/png": "[encoded data removed]",
            "text/plain": [
              "<Figure size 432x288 with 1 Axes>"
            ]
          },
          "metadata": {
            "needs_background": "light"
          },
          "output_type": "display_data"
        },
        {
          "name": "stdout",
          "output_type": "stream",
          "text": [
            "Confusion Matrix\n",
            "[[25139     0]\n",
            " [ 2375     0]]\n"
          ]
        }
      ],
      "source": [
        "from sklearn.metrics import confusion_matrix, plot_confusion_matrix\n",
        "\n",
        "ypred = predict(test_loader, model, device)\n",
        "ypred_np = np.array(ypred, dtype='int64')\n",
        "predictions, gt = ypred_np[:,0], ypred_np[:,1]\n",
        "\n",
        "cfm = confusion_matrix(gt, predictions)\n",
        "plt.imshow(cfm, cmap='cool', interpolation='nearest')\n",
        "plt.show()\n",
        "\n",
        "print('Confusion Matrix')\n",
        "print(cfm)"
      ]
    },
    {
      "cell_type": "markdown",
      "id": "c1623624",
      "metadata": {
        "papermill": {
          "duration": 0.052598,
          "end_time": "2022-01-27T11:22:36.105612",
          "exception": false,
          "start_time": "2022-01-27T11:22:36.053014",
          "status": "completed"
        },
        "tags": [],
        "id": "c1623624"
      },
      "source": [
        "# **Analysis**"
      ]
    },
    {
      "cell_type": "code",
      "execution_count": null,
      "id": "fb64fd1b",
      "metadata": {
        "execution": {
          "iopub.execute_input": "2022-01-27T11:22:36.214410Z",
          "iopub.status.busy": "2022-01-27T11:22:36.213749Z",
          "iopub.status.idle": "2022-01-27T11:22:36.216635Z",
          "shell.execute_reply": "2022-01-27T11:22:36.217093Z",
          "shell.execute_reply.started": "2022-01-27T11:07:56.331344Z"
        },
        "papermill": {
          "duration": 0.058882,
          "end_time": "2022-01-27T11:22:36.217235",
          "exception": false,
          "start_time": "2022-01-27T11:22:36.158353",
          "status": "completed"
        },
        "tags": [],
        "id": "fb64fd1b"
      },
      "outputs": [],
      "source": [
        "import matplotlib.pyplot as plt"
      ]
    },
    {
      "cell_type": "code",
      "execution_count": null,
      "id": "df344151",
      "metadata": {
        "execution": {
          "iopub.execute_input": "2022-01-27T11:22:36.325856Z",
          "iopub.status.busy": "2022-01-27T11:22:36.325203Z",
          "iopub.status.idle": "2022-01-27T11:22:37.137751Z",
          "shell.execute_reply": "2022-01-27T11:22:37.137214Z",
          "shell.execute_reply.started": "2022-01-27T11:07:56.337495Z"
        },
        "papermill": {
          "duration": 0.867502,
          "end_time": "2022-01-27T11:22:37.137893",
          "exception": false,
          "start_time": "2022-01-27T11:22:36.270391",
          "status": "completed"
        },
        "tags": [],
        "id": "df344151",
        "outputId": "68578d3c-340e-440c-f559-6363e9468099"
      },
      "outputs": [
        {
          "name": "stdout",
          "output_type": "stream",
          "text": [
            "5\n"
          ]
        },
        {
          "data": {
            "text/plain": [
              "Text(0, 0.5, 'Loss')"
            ]
          },
          "execution_count": 17,
          "metadata": {},
          "output_type": "execute_result"
        },
        {
          "data": {
            "image/png": "[encoded data removed]",
            "text/plain": [
              "<Figure size 1152x2160 with 5 Axes>"
            ]
          },
          "metadata": {
            "needs_background": "light"
          },
          "output_type": "display_data"
        }
      ],
      "source": [
        "fig = plt.gcf()\n",
        "fig.set_size_inches(16, 30)\n",
        "plt.figure(1)\n",
        "\n",
        "nplot = len(train_history.keys()) // 2\n",
        "print(nplot)\n",
        "for idx, m in enumerate(metrics, 0):\n",
        "    plt.subplot(nplot*100+10+idx+1)\n",
        "    plt.plot([i+1 for i in range(len(train_history[m['name']]))], train_history[m['name']], color='black', linewidth=1)\n",
        "    plt.plot([i+1 for i in range(len(train_history[m['name']]))], train_history['val_{}'.format(m['name'])], color='blue', linewidth=1)\n",
        "    ax = plt.gca()\n",
        "    ax.set_ylabel(m['name'])\n",
        "plt.subplot(nplot*100+10+nplot)\n",
        "plt.plot([i+1 for i in range(len(train_history['Loss']))], train_history['Loss'], color='black', linewidth=1)\n",
        "plt.plot([i+1 for i in range(len(train_history['val_Loss']))], train_history['val_Loss'], color='blue', linewidth=1)\n",
        "ax = plt.gca()\n",
        "ax.set_ylabel('Loss')\n"
      ]
    }
  ],
  "metadata": {
    "kernelspec": {
      "display_name": "Python 3",
      "language": "python",
      "name": "python3"
    },
    "language_info": {
      "codemirror_mode": {
        "name": "ipython",
        "version": 3
      },
      "file_extension": ".py",
      "mimetype": "text/x-python",
      "name": "python",
      "nbconvert_exporter": "python",
      "pygments_lexer": "ipython3",
      "version": "3.7.12"
    },
    "papermill": {
      "default_parameters": {},
      "duration": 423.669638,
      "end_time": "2022-01-27T11:22:40.427480",
      "environment_variables": {},
      "exception": null,
      "input_path": "__notebook__.ipynb",
      "output_path": "__notebook__.ipynb",
      "parameters": {},
      "start_time": "2022-01-27T11:15:36.757842",
      "version": "2.3.3"
    },
    "colab": {
      "name": "Patient Survival Predictor (using Pytorch)",
      "provenance": [],
      "collapsed_sections": [],
      "include_colab_link": true
    }
  },
  "nbformat": 4,
  "nbformat_minor": 5
}