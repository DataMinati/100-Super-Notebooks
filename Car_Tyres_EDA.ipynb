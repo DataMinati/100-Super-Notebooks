{
  "nbformat": 4,
  "nbformat_minor": 0,
  "metadata": {
    "colab": {
      "name": "Car Tyres EDA.ipynb",
      "provenance": [],
      "authorship_tag": "ABX9TyN0suR9xXQa/dUjdwBibwZd",
      "include_colab_link": true
    },
    "kernelspec": {
      "name": "python3",
      "display_name": "Python 3"
    },
    "language_info": {
      "name": "python"
    }
  },
  "cells": [
    {
      "cell_type": "markdown",
      "metadata": {
        "id": "view-in-github",
        "colab_type": "text"
      },
      "source": [
        "<a href=\"https://colab.research.google.com/github/DataMinati/Super-Notebooks-1K/blob/main/Car_Tyres_EDA.ipynb\" target=\"_parent\"><img src=\"https://colab.research.google.com/assets/colab-badge.svg\" alt=\"Open In Colab\"/></a>"
      ]
    },
    {
      "cell_type": "markdown",
      "source": [
        "## 1. Importing the necessary libraries"
      ],
      "metadata": {
        "id": "67qsOZaFfm5o"
      }
    },
    {
      "cell_type": "code",
      "execution_count": 69,
      "metadata": {
        "id": "5ayOU3TrXZBx"
      },
      "outputs": [],
      "source": [
        "import pandas as pd\n",
        "import numpy as np\n",
        "import matplotlib.pyplot as plt\n",
        "import seaborn as sns\n",
        "import warnings\n",
        "warnings.filterwarnings('ignore')"
      ]
    },
    {
      "cell_type": "markdown",
      "source": [
        "## 2. Advanced visualization tools"
      ],
      "metadata": {
        "id": "mDpPmt-FfrhV"
      }
    },
    {
      "cell_type": "code",
      "source": [
        "#color palette for this notebook\n",
        "colors = [\"#495867\",\"#577399\",\"#7CB4B8\",\"#50723C\",\"#D19C1D\",\"#FFBE0B\",\"#FF9F1C\",\"#FE5F55\",\"#5D2A42\",\"#b23a48\"]\n",
        "palette = sns.color_palette(palette = colors)\n",
        "sns.palplot(palette, size =1)\n",
        "plt.show()"
      ],
      "metadata": {
        "colab": {
          "base_uri": "https://localhost:8080/",
          "height": 85
        },
        "id": "rwSTu0SUakqd",
        "outputId": "4c96e149-f704-4abc-d449-f110988aa064"
      },
      "execution_count": 70,
      "outputs": [
        {
          "output_type": "display_data",
          "data": {
            "image/png": "[encoded data removed]",
            "text/plain": [
              "<Figure size 720x72 with 1 Axes>"
            ]
          },
          "metadata": {}
        }
      ]
    },
    {
      "cell_type": "markdown",
      "source": [
        "## Uploading and reading the dataset"
      ],
      "metadata": {
        "id": "TZj2AG4ofvrq"
      }
    },
    {
      "cell_type": "code",
      "source": [
        "url = 'https://raw.githubusercontent.com/MainakRepositor/Datasets-/master/Car_Tyres_Dataset.csv'\n",
        "df = pd.read_csv(url,error_bad_lines=False)\n",
        "\n",
        "df.head(10)"
      ],
      "metadata": {
        "colab": {
          "base_uri": "https://localhost:8080/",
          "height": 363
        },
        "id": "LuWx2PCdZ-Ow",
        "outputId": "3d9c8445-03f8-4ab7-b9b7-0d1d5a1efd37"
      },
      "execution_count": 71,
      "outputs": [
        {
          "output_type": "execute_result",
          "data": {
            "text/html": [
              "\n",
              "  <div id=\"df-1f13797e-5856-4b2e-853a-d183ff3ff781\">\n",
              "    <div class=\"colab-df-container\">\n",
              "      <div>\n",
              "<style scoped>\n",
              "    .dataframe tbody tr th:only-of-type {\n",
              "        vertical-align: middle;\n",
              "    }\n",
              "\n",
              "    .dataframe tbody tr th {\n",
              "        vertical-align: top;\n",
              "    }\n",
              "\n",
              "    .dataframe thead th {\n",
              "        text-align: right;\n",
              "    }\n",
              "</style>\n",
              "<table border=\"1\" class=\"dataframe\">\n",
              "  <thead>\n",
              "    <tr style=\"text-align: right;\">\n",
              "      <th></th>\n",
              "      <th>Brand</th>\n",
              "      <th>Model</th>\n",
              "      <th>Submodel</th>\n",
              "      <th>Tyre Brand</th>\n",
              "      <th>Serial No.</th>\n",
              "      <th>Type</th>\n",
              "      <th>Load Index</th>\n",
              "      <th>Size</th>\n",
              "      <th>Selling Price</th>\n",
              "      <th>Original Price</th>\n",
              "      <th>Rating</th>\n",
              "    </tr>\n",
              "  </thead>\n",
              "  <tbody>\n",
              "    <tr>\n",
              "      <th>0</th>\n",
              "      <td>Maruti</td>\n",
              "      <td>Swift Dzire</td>\n",
              "      <td>LDI (Diesel)</td>\n",
              "      <td>JKTyre</td>\n",
              "      <td>Taximaxx</td>\n",
              "      <td>Tubeless</td>\n",
              "      <td>85</td>\n",
              "      <td>165/80 R 14</td>\n",
              "      <td>3,255</td>\n",
              "      <td>3,255</td>\n",
              "      <td>5.0</td>\n",
              "    </tr>\n",
              "    <tr>\n",
              "      <th>1</th>\n",
              "      <td>Maruti</td>\n",
              "      <td>Swift Dzire</td>\n",
              "      <td>LDI (Diesel)</td>\n",
              "      <td>CEAT</td>\n",
              "      <td>Milage X3</td>\n",
              "      <td>Tubeless</td>\n",
              "      <td>85</td>\n",
              "      <td>165/80 R 14</td>\n",
              "      <td>3,406</td>\n",
              "      <td>3,406</td>\n",
              "      <td>4.0</td>\n",
              "    </tr>\n",
              "    <tr>\n",
              "      <th>2</th>\n",
              "      <td>Maruti</td>\n",
              "      <td>Swift Dzire</td>\n",
              "      <td>LDI (Diesel)</td>\n",
              "      <td>Apollo</td>\n",
              "      <td>Amazer 4G Life</td>\n",
              "      <td>Tubeless</td>\n",
              "      <td>85</td>\n",
              "      <td>165/80 R 14</td>\n",
              "      <td>3,490</td>\n",
              "      <td>4,319</td>\n",
              "      <td>4.5</td>\n",
              "    </tr>\n",
              "    <tr>\n",
              "      <th>3</th>\n",
              "      <td>Maruti</td>\n",
              "      <td>Swift Dzire</td>\n",
              "      <td>LDI (Diesel)</td>\n",
              "      <td>Continental</td>\n",
              "      <td>Comfort Contact CC6</td>\n",
              "      <td>Tubeless</td>\n",
              "      <td>85</td>\n",
              "      <td>165/80 R 14</td>\n",
              "      <td>4,484</td>\n",
              "      <td>4,244</td>\n",
              "      <td>NaN</td>\n",
              "    </tr>\n",
              "    <tr>\n",
              "      <th>4</th>\n",
              "      <td>Maruti</td>\n",
              "      <td>Swift Dzire</td>\n",
              "      <td>LDI (Diesel)</td>\n",
              "      <td>GoodYear</td>\n",
              "      <td>Assurance Duraplus 2</td>\n",
              "      <td>Tubeless</td>\n",
              "      <td>85</td>\n",
              "      <td>165/80 R 14</td>\n",
              "      <td>3,025</td>\n",
              "      <td>3,025</td>\n",
              "      <td>4.2</td>\n",
              "    </tr>\n",
              "    <tr>\n",
              "      <th>5</th>\n",
              "      <td>Maruti</td>\n",
              "      <td>Swift Dzire</td>\n",
              "      <td>LDI (Diesel)</td>\n",
              "      <td>JKTyre</td>\n",
              "      <td>Tornado</td>\n",
              "      <td>Tubeless</td>\n",
              "      <td>85</td>\n",
              "      <td>165/80 R 14</td>\n",
              "      <td>3,103</td>\n",
              "      <td>3,103</td>\n",
              "      <td>4.3</td>\n",
              "    </tr>\n",
              "    <tr>\n",
              "      <th>6</th>\n",
              "      <td>Maruti</td>\n",
              "      <td>Swift Dzire</td>\n",
              "      <td>LDI (Diesel)</td>\n",
              "      <td>Firestone</td>\n",
              "      <td>FR500</td>\n",
              "      <td>Tubeless</td>\n",
              "      <td>85</td>\n",
              "      <td>165/80 R 14</td>\n",
              "      <td>3,135</td>\n",
              "      <td>3,135</td>\n",
              "      <td>NaN</td>\n",
              "    </tr>\n",
              "    <tr>\n",
              "      <th>7</th>\n",
              "      <td>Maruti</td>\n",
              "      <td>Swift Dzire</td>\n",
              "      <td>LDI (Diesel)</td>\n",
              "      <td>JKTyre</td>\n",
              "      <td>Elanzo Touring</td>\n",
              "      <td>Tubeless</td>\n",
              "      <td>85</td>\n",
              "      <td>165/80 R 14</td>\n",
              "      <td>3,255</td>\n",
              "      <td>3,255</td>\n",
              "      <td>4.1</td>\n",
              "    </tr>\n",
              "    <tr>\n",
              "      <th>8</th>\n",
              "      <td>Maruti</td>\n",
              "      <td>Swift Dzire</td>\n",
              "      <td>LDI (Diesel)</td>\n",
              "      <td>BridgeStone</td>\n",
              "      <td>B-Series B290</td>\n",
              "      <td>Tubeless</td>\n",
              "      <td>85</td>\n",
              "      <td>165/80 R 14</td>\n",
              "      <td>4,250</td>\n",
              "      <td>4,250</td>\n",
              "      <td>3.7</td>\n",
              "    </tr>\n",
              "    <tr>\n",
              "      <th>9</th>\n",
              "      <td>Maruti</td>\n",
              "      <td>Swift Dzire</td>\n",
              "      <td>LDI (Diesel)</td>\n",
              "      <td>BridgeStone</td>\n",
              "      <td>Turanza T005</td>\n",
              "      <td>Tubeless</td>\n",
              "      <td>85</td>\n",
              "      <td>165/80 R 14</td>\n",
              "      <td>4,272</td>\n",
              "      <td>4,272</td>\n",
              "      <td>3.8</td>\n",
              "    </tr>\n",
              "  </tbody>\n",
              "</table>\n",
              "</div>\n",
              "      <button class=\"colab-df-convert\" onclick=\"convertToInteractive('df-1f13797e-5856-4b2e-853a-d183ff3ff781')\"\n",
              "              title=\"Convert this dataframe to an interactive table.\"\n",
              "              style=\"display:none;\">\n",
              "        \n",
              "  <svg xmlns=\"http://www.w3.org/2000/svg\" height=\"24px\"viewBox=\"0 0 24 24\"\n",
              "       width=\"24px\">\n",
              "    <path d=\"M0 0h24v24H0V0z\" fill=\"none\"/>\n",
              "    <path d=\"M18.56 5.44l.94 2.06.94-2.06 2.06-.94-2.06-.94-.94-2.06-.94 2.06-2.06.94zm-11 1L8.5 8.5l.94-2.06 2.06-.94-2.06-.94L8.5 2.5l-.94 2.06-2.06.94zm10 10l.94 2.06.94-2.06 2.06-.94-2.06-.94-.94-2.06-.94 2.06-2.06.94z\"/><path d=\"M17.41 7.96l-1.37-1.37c-.4-.4-.92-.59-1.43-.59-.52 0-1.04.2-1.43.59L10.3 9.45l-7.72 7.72c-.78.78-.78 2.05 0 2.83L4 21.41c.39.39.9.59 1.41.59.51 0 1.02-.2 1.41-.59l7.78-7.78 2.81-2.81c.8-.78.8-2.07 0-2.86zM5.41 20L4 18.59l7.72-7.72 1.47 1.35L5.41 20z\"/>\n",
              "  </svg>\n",
              "      </button>\n",
              "      \n",
              "  <style>\n",
              "    .colab-df-container {\n",
              "      display:flex;\n",
              "      flex-wrap:wrap;\n",
              "      gap: 12px;\n",
              "    }\n",
              "\n",
              "    .colab-df-convert {\n",
              "      background-color: #E8F0FE;\n",
              "      border: none;\n",
              "      border-radius: 50%;\n",
              "      cursor: pointer;\n",
              "      display: none;\n",
              "      fill: #1967D2;\n",
              "      height: 32px;\n",
              "      padding: 0 0 0 0;\n",
              "      width: 32px;\n",
              "    }\n",
              "\n",
              "    .colab-df-convert:hover {\n",
              "      background-color: #E2EBFA;\n",
              "      box-shadow: 0px 1px 2px rgba(60, 64, 67, 0.3), 0px 1px 3px 1px rgba(60, 64, 67, 0.15);\n",
              "      fill: #174EA6;\n",
              "    }\n",
              "\n",
              "    [theme=dark] .colab-df-convert {\n",
              "      background-color: #3B4455;\n",
              "      fill: #D2E3FC;\n",
              "    }\n",
              "\n",
              "    [theme=dark] .colab-df-convert:hover {\n",
              "      background-color: #434B5C;\n",
              "      box-shadow: 0px 1px 3px 1px rgba(0, 0, 0, 0.15);\n",
              "      filter: drop-shadow(0px 1px 2px rgba(0, 0, 0, 0.3));\n",
              "      fill: #FFFFFF;\n",
              "    }\n",
              "  </style>\n",
              "\n",
              "      <script>\n",
              "        const buttonEl =\n",
              "          document.querySelector('#df-1f13797e-5856-4b2e-853a-d183ff3ff781 button.colab-df-convert');\n",
              "        buttonEl.style.display =\n",
              "          google.colab.kernel.accessAllowed ? 'block' : 'none';\n",
              "\n",
              "        async function convertToInteractive(key) {\n",
              "          const element = document.querySelector('#df-1f13797e-5856-4b2e-853a-d183ff3ff781');\n",
              "          const dataTable =\n",
              "            await google.colab.kernel.invokeFunction('convertToInteractive',\n",
              "                                                     [key], {});\n",
              "          if (!dataTable) return;\n",
              "\n",
              "          const docLinkHtml = 'Like what you see? Visit the ' +\n",
              "            '<a target=\"_blank\" href=https://colab.research.google.com/notebooks/data_table.ipynb>data table notebook</a>'\n",
              "            + ' to learn more about interactive tables.';\n",
              "          element.innerHTML = '';\n",
              "          dataTable['output_type'] = 'display_data';\n",
              "          await google.colab.output.renderOutput(dataTable, element);\n",
              "          const docLink = document.createElement('div');\n",
              "          docLink.innerHTML = docLinkHtml;\n",
              "          element.appendChild(docLink);\n",
              "        }\n",
              "      </script>\n",
              "    </div>\n",
              "  </div>\n",
              "  "
            ],
            "text/plain": [
              "   Brand         Model      Submodel  ... Selling Price Original Price Rating\n",
              "0  Maruti  Swift Dzire  LDI (Diesel)  ...         3,255          3,255    5.0\n",
              "1  Maruti  Swift Dzire  LDI (Diesel)  ...         3,406          3,406    4.0\n",
              "2  Maruti  Swift Dzire  LDI (Diesel)  ...         3,490          4,319    4.5\n",
              "3  Maruti  Swift Dzire  LDI (Diesel)  ...         4,484          4,244    NaN\n",
              "4  Maruti  Swift Dzire  LDI (Diesel)  ...         3,025          3,025    4.2\n",
              "5  Maruti  Swift Dzire  LDI (Diesel)  ...         3,103          3,103    4.3\n",
              "6  Maruti  Swift Dzire  LDI (Diesel)  ...         3,135          3,135    NaN\n",
              "7  Maruti  Swift Dzire  LDI (Diesel)  ...         3,255          3,255    4.1\n",
              "8  Maruti  Swift Dzire  LDI (Diesel)  ...         4,250          4,250    3.7\n",
              "9  Maruti  Swift Dzire  LDI (Diesel)  ...         4,272          4,272    3.8\n",
              "\n",
              "[10 rows x 11 columns]"
            ]
          },
          "metadata": {},
          "execution_count": 71
        }
      ]
    },
    {
      "cell_type": "markdown",
      "source": [
        "## 4. Data Exploration"
      ],
      "metadata": {
        "id": "dCsJhwDDfzES"
      }
    },
    {
      "cell_type": "code",
      "source": [
        "df_row_count, df_column_count = df.shape\n",
        "print('Total number of rows:', df_row_count)\n",
        "print('Total number of columns:', df_column_count)"
      ],
      "metadata": {
        "colab": {
          "base_uri": "https://localhost:8080/"
        },
        "id": "XQ7tWA1zaJdg",
        "outputId": "15d4c00e-19dc-478a-c289-ed8a502a3b3c"
      },
      "execution_count": 72,
      "outputs": [
        {
          "output_type": "stream",
          "name": "stdout",
          "text": [
            "Total number of rows: 4350\n",
            "Total number of columns: 11\n"
          ]
        }
      ]
    },
    {
      "cell_type": "code",
      "source": [
        "df.info()"
      ],
      "metadata": {
        "colab": {
          "base_uri": "https://localhost:8080/"
        },
        "id": "bqBucSW9aRJF",
        "outputId": "680a4b34-1b92-4334-ee8a-a38ce9aa8b30"
      },
      "execution_count": 73,
      "outputs": [
        {
          "output_type": "stream",
          "name": "stdout",
          "text": [
            "<class 'pandas.core.frame.DataFrame'>\n",
            "RangeIndex: 4350 entries, 0 to 4349\n",
            "Data columns (total 11 columns):\n",
            " #   Column          Non-Null Count  Dtype  \n",
            "---  ------          --------------  -----  \n",
            " 0   Brand           4350 non-null   object \n",
            " 1   Model           4350 non-null   object \n",
            " 2   Submodel        4350 non-null   object \n",
            " 3   Tyre Brand      4350 non-null   object \n",
            " 4   Serial No.      4350 non-null   object \n",
            " 5   Type            4350 non-null   object \n",
            " 6   Load Index      4350 non-null   int64  \n",
            " 7   Size            4350 non-null   object \n",
            " 8   Selling Price   4350 non-null   object \n",
            " 9   Original Price  4350 non-null   object \n",
            " 10  Rating          2248 non-null   float64\n",
            "dtypes: float64(1), int64(1), object(9)\n",
            "memory usage: 374.0+ KB\n"
          ]
        }
      ]
    },
    {
      "cell_type": "code",
      "source": [
        "df.describe().T"
      ],
      "metadata": {
        "colab": {
          "base_uri": "https://localhost:8080/",
          "height": 112
        },
        "id": "NHD_pv9JaOHS",
        "outputId": "0f2609c0-a7ed-4b51-8a21-a73e2abc81ed"
      },
      "execution_count": 74,
      "outputs": [
        {
          "output_type": "execute_result",
          "data": {
            "text/html": [
              "\n",
              "  <div id=\"df-9af15bd3-b9f8-4573-9680-24aff9de1c6a\">\n",
              "    <div class=\"colab-df-container\">\n",
              "      <div>\n",
              "<style scoped>\n",
              "    .dataframe tbody tr th:only-of-type {\n",
              "        vertical-align: middle;\n",
              "    }\n",
              "\n",
              "    .dataframe tbody tr th {\n",
              "        vertical-align: top;\n",
              "    }\n",
              "\n",
              "    .dataframe thead th {\n",
              "        text-align: right;\n",
              "    }\n",
              "</style>\n",
              "<table border=\"1\" class=\"dataframe\">\n",
              "  <thead>\n",
              "    <tr style=\"text-align: right;\">\n",
              "      <th></th>\n",
              "      <th>count</th>\n",
              "      <th>mean</th>\n",
              "      <th>std</th>\n",
              "      <th>min</th>\n",
              "      <th>25%</th>\n",
              "      <th>50%</th>\n",
              "      <th>75%</th>\n",
              "      <th>max</th>\n",
              "    </tr>\n",
              "  </thead>\n",
              "  <tbody>\n",
              "    <tr>\n",
              "      <th>Load Index</th>\n",
              "      <td>4350.0</td>\n",
              "      <td>84.101609</td>\n",
              "      <td>6.716769</td>\n",
              "      <td>69.0</td>\n",
              "      <td>79.0</td>\n",
              "      <td>86.0</td>\n",
              "      <td>88.0</td>\n",
              "      <td>106.0</td>\n",
              "    </tr>\n",
              "    <tr>\n",
              "      <th>Rating</th>\n",
              "      <td>2248.0</td>\n",
              "      <td>4.297598</td>\n",
              "      <td>0.698433</td>\n",
              "      <td>1.9</td>\n",
              "      <td>4.0</td>\n",
              "      <td>4.3</td>\n",
              "      <td>5.0</td>\n",
              "      <td>5.0</td>\n",
              "    </tr>\n",
              "  </tbody>\n",
              "</table>\n",
              "</div>\n",
              "      <button class=\"colab-df-convert\" onclick=\"convertToInteractive('df-9af15bd3-b9f8-4573-9680-24aff9de1c6a')\"\n",
              "              title=\"Convert this dataframe to an interactive table.\"\n",
              "              style=\"display:none;\">\n",
              "        \n",
              "  <svg xmlns=\"http://www.w3.org/2000/svg\" height=\"24px\"viewBox=\"0 0 24 24\"\n",
              "       width=\"24px\">\n",
              "    <path d=\"M0 0h24v24H0V0z\" fill=\"none\"/>\n",
              "    <path d=\"M18.56 5.44l.94 2.06.94-2.06 2.06-.94-2.06-.94-.94-2.06-.94 2.06-2.06.94zm-11 1L8.5 8.5l.94-2.06 2.06-.94-2.06-.94L8.5 2.5l-.94 2.06-2.06.94zm10 10l.94 2.06.94-2.06 2.06-.94-2.06-.94-.94-2.06-.94 2.06-2.06.94z\"/><path d=\"M17.41 7.96l-1.37-1.37c-.4-.4-.92-.59-1.43-.59-.52 0-1.04.2-1.43.59L10.3 9.45l-7.72 7.72c-.78.78-.78 2.05 0 2.83L4 21.41c.39.39.9.59 1.41.59.51 0 1.02-.2 1.41-.59l7.78-7.78 2.81-2.81c.8-.78.8-2.07 0-2.86zM5.41 20L4 18.59l7.72-7.72 1.47 1.35L5.41 20z\"/>\n",
              "  </svg>\n",
              "      </button>\n",
              "      \n",
              "  <style>\n",
              "    .colab-df-container {\n",
              "      display:flex;\n",
              "      flex-wrap:wrap;\n",
              "      gap: 12px;\n",
              "    }\n",
              "\n",
              "    .colab-df-convert {\n",
              "      background-color: #E8F0FE;\n",
              "      border: none;\n",
              "      border-radius: 50%;\n",
              "      cursor: pointer;\n",
              "      display: none;\n",
              "      fill: #1967D2;\n",
              "      height: 32px;\n",
              "      padding: 0 0 0 0;\n",
              "      width: 32px;\n",
              "    }\n",
              "\n",
              "    .colab-df-convert:hover {\n",
              "      background-color: #E2EBFA;\n",
              "      box-shadow: 0px 1px 2px rgba(60, 64, 67, 0.3), 0px 1px 3px 1px rgba(60, 64, 67, 0.15);\n",
              "      fill: #174EA6;\n",
              "    }\n",
              "\n",
              "    [theme=dark] .colab-df-convert {\n",
              "      background-color: #3B4455;\n",
              "      fill: #D2E3FC;\n",
              "    }\n",
              "\n",
              "    [theme=dark] .colab-df-convert:hover {\n",
              "      background-color: #434B5C;\n",
              "      box-shadow: 0px 1px 3px 1px rgba(0, 0, 0, 0.15);\n",
              "      filter: drop-shadow(0px 1px 2px rgba(0, 0, 0, 0.3));\n",
              "      fill: #FFFFFF;\n",
              "    }\n",
              "  </style>\n",
              "\n",
              "      <script>\n",
              "        const buttonEl =\n",
              "          document.querySelector('#df-9af15bd3-b9f8-4573-9680-24aff9de1c6a button.colab-df-convert');\n",
              "        buttonEl.style.display =\n",
              "          google.colab.kernel.accessAllowed ? 'block' : 'none';\n",
              "\n",
              "        async function convertToInteractive(key) {\n",
              "          const element = document.querySelector('#df-9af15bd3-b9f8-4573-9680-24aff9de1c6a');\n",
              "          const dataTable =\n",
              "            await google.colab.kernel.invokeFunction('convertToInteractive',\n",
              "                                                     [key], {});\n",
              "          if (!dataTable) return;\n",
              "\n",
              "          const docLinkHtml = 'Like what you see? Visit the ' +\n",
              "            '<a target=\"_blank\" href=https://colab.research.google.com/notebooks/data_table.ipynb>data table notebook</a>'\n",
              "            + ' to learn more about interactive tables.';\n",
              "          element.innerHTML = '';\n",
              "          dataTable['output_type'] = 'display_data';\n",
              "          await google.colab.output.renderOutput(dataTable, element);\n",
              "          const docLink = document.createElement('div');\n",
              "          docLink.innerHTML = docLinkHtml;\n",
              "          element.appendChild(docLink);\n",
              "        }\n",
              "      </script>\n",
              "    </div>\n",
              "  </div>\n",
              "  "
            ],
            "text/plain": [
              "             count       mean       std   min   25%   50%   75%    max\n",
              "Load Index  4350.0  84.101609  6.716769  69.0  79.0  86.0  88.0  106.0\n",
              "Rating      2248.0   4.297598  0.698433   1.9   4.0   4.3   5.0    5.0"
            ]
          },
          "metadata": {},
          "execution_count": 74
        }
      ]
    },
    {
      "cell_type": "markdown",
      "source": [
        "## 5. Null Removable"
      ],
      "metadata": {
        "id": "ySX_10BdgB65"
      }
    },
    {
      "cell_type": "code",
      "source": [
        "df.isna().sum()"
      ],
      "metadata": {
        "colab": {
          "base_uri": "https://localhost:8080/"
        },
        "id": "0QC7XH1qaTmp",
        "outputId": "51acdcc0-b4fc-4377-c0d1-aba238d02e32"
      },
      "execution_count": 75,
      "outputs": [
        {
          "output_type": "execute_result",
          "data": {
            "text/plain": [
              "Brand                0\n",
              "Model                0\n",
              "Submodel             0\n",
              "Tyre Brand           0\n",
              "Serial No.           0\n",
              "Type                 0\n",
              "Load Index           0\n",
              "Size                 0\n",
              "Selling Price        0\n",
              "Original Price       0\n",
              "Rating            2102\n",
              "dtype: int64"
            ]
          },
          "metadata": {},
          "execution_count": 75
        }
      ]
    },
    {
      "cell_type": "code",
      "source": [
        "df.columns = df.columns.str.replace('[#,@,&,,]', '')"
      ],
      "metadata": {
        "id": "LjJW9Uv2cy5N"
      },
      "execution_count": 76,
      "outputs": []
    },
    {
      "cell_type": "code",
      "source": [
        "#replace NaN values\n",
        "df=df.fillna(0)\n",
        "df.iloc[:5]"
      ],
      "metadata": {
        "colab": {
          "base_uri": "https://localhost:8080/",
          "height": 206
        },
        "id": "Z3LnQnqZaXMC",
        "outputId": "7a71e934-2973-4294-bdfb-88d996e366e6"
      },
      "execution_count": 77,
      "outputs": [
        {
          "output_type": "execute_result",
          "data": {
            "text/html": [
              "\n",
              "  <div id=\"df-539b8264-004c-4bcc-a1b8-d2528cc8c2dd\">\n",
              "    <div class=\"colab-df-container\">\n",
              "      <div>\n",
              "<style scoped>\n",
              "    .dataframe tbody tr th:only-of-type {\n",
              "        vertical-align: middle;\n",
              "    }\n",
              "\n",
              "    .dataframe tbody tr th {\n",
              "        vertical-align: top;\n",
              "    }\n",
              "\n",
              "    .dataframe thead th {\n",
              "        text-align: right;\n",
              "    }\n",
              "</style>\n",
              "<table border=\"1\" class=\"dataframe\">\n",
              "  <thead>\n",
              "    <tr style=\"text-align: right;\">\n",
              "      <th></th>\n",
              "      <th>Brand</th>\n",
              "      <th>Model</th>\n",
              "      <th>Submodel</th>\n",
              "      <th>Tyre Brand</th>\n",
              "      <th>Serial No.</th>\n",
              "      <th>Type</th>\n",
              "      <th>Load Index</th>\n",
              "      <th>Size</th>\n",
              "      <th>Selling Price</th>\n",
              "      <th>Original Price</th>\n",
              "      <th>Rating</th>\n",
              "    </tr>\n",
              "  </thead>\n",
              "  <tbody>\n",
              "    <tr>\n",
              "      <th>0</th>\n",
              "      <td>Maruti</td>\n",
              "      <td>Swift Dzire</td>\n",
              "      <td>LDI (Diesel)</td>\n",
              "      <td>JKTyre</td>\n",
              "      <td>Taximaxx</td>\n",
              "      <td>Tubeless</td>\n",
              "      <td>85</td>\n",
              "      <td>165/80 R 14</td>\n",
              "      <td>3,255</td>\n",
              "      <td>3,255</td>\n",
              "      <td>5.0</td>\n",
              "    </tr>\n",
              "    <tr>\n",
              "      <th>1</th>\n",
              "      <td>Maruti</td>\n",
              "      <td>Swift Dzire</td>\n",
              "      <td>LDI (Diesel)</td>\n",
              "      <td>CEAT</td>\n",
              "      <td>Milage X3</td>\n",
              "      <td>Tubeless</td>\n",
              "      <td>85</td>\n",
              "      <td>165/80 R 14</td>\n",
              "      <td>3,406</td>\n",
              "      <td>3,406</td>\n",
              "      <td>4.0</td>\n",
              "    </tr>\n",
              "    <tr>\n",
              "      <th>2</th>\n",
              "      <td>Maruti</td>\n",
              "      <td>Swift Dzire</td>\n",
              "      <td>LDI (Diesel)</td>\n",
              "      <td>Apollo</td>\n",
              "      <td>Amazer 4G Life</td>\n",
              "      <td>Tubeless</td>\n",
              "      <td>85</td>\n",
              "      <td>165/80 R 14</td>\n",
              "      <td>3,490</td>\n",
              "      <td>4,319</td>\n",
              "      <td>4.5</td>\n",
              "    </tr>\n",
              "    <tr>\n",
              "      <th>3</th>\n",
              "      <td>Maruti</td>\n",
              "      <td>Swift Dzire</td>\n",
              "      <td>LDI (Diesel)</td>\n",
              "      <td>Continental</td>\n",
              "      <td>Comfort Contact CC6</td>\n",
              "      <td>Tubeless</td>\n",
              "      <td>85</td>\n",
              "      <td>165/80 R 14</td>\n",
              "      <td>4,484</td>\n",
              "      <td>4,244</td>\n",
              "      <td>0.0</td>\n",
              "    </tr>\n",
              "    <tr>\n",
              "      <th>4</th>\n",
              "      <td>Maruti</td>\n",
              "      <td>Swift Dzire</td>\n",
              "      <td>LDI (Diesel)</td>\n",
              "      <td>GoodYear</td>\n",
              "      <td>Assurance Duraplus 2</td>\n",
              "      <td>Tubeless</td>\n",
              "      <td>85</td>\n",
              "      <td>165/80 R 14</td>\n",
              "      <td>3,025</td>\n",
              "      <td>3,025</td>\n",
              "      <td>4.2</td>\n",
              "    </tr>\n",
              "  </tbody>\n",
              "</table>\n",
              "</div>\n",
              "      <button class=\"colab-df-convert\" onclick=\"convertToInteractive('df-539b8264-004c-4bcc-a1b8-d2528cc8c2dd')\"\n",
              "              title=\"Convert this dataframe to an interactive table.\"\n",
              "              style=\"display:none;\">\n",
              "        \n",
              "  <svg xmlns=\"http://www.w3.org/2000/svg\" height=\"24px\"viewBox=\"0 0 24 24\"\n",
              "       width=\"24px\">\n",
              "    <path d=\"M0 0h24v24H0V0z\" fill=\"none\"/>\n",
              "    <path d=\"M18.56 5.44l.94 2.06.94-2.06 2.06-.94-2.06-.94-.94-2.06-.94 2.06-2.06.94zm-11 1L8.5 8.5l.94-2.06 2.06-.94-2.06-.94L8.5 2.5l-.94 2.06-2.06.94zm10 10l.94 2.06.94-2.06 2.06-.94-2.06-.94-.94-2.06-.94 2.06-2.06.94z\"/><path d=\"M17.41 7.96l-1.37-1.37c-.4-.4-.92-.59-1.43-.59-.52 0-1.04.2-1.43.59L10.3 9.45l-7.72 7.72c-.78.78-.78 2.05 0 2.83L4 21.41c.39.39.9.59 1.41.59.51 0 1.02-.2 1.41-.59l7.78-7.78 2.81-2.81c.8-.78.8-2.07 0-2.86zM5.41 20L4 18.59l7.72-7.72 1.47 1.35L5.41 20z\"/>\n",
              "  </svg>\n",
              "      </button>\n",
              "      \n",
              "  <style>\n",
              "    .colab-df-container {\n",
              "      display:flex;\n",
              "      flex-wrap:wrap;\n",
              "      gap: 12px;\n",
              "    }\n",
              "\n",
              "    .colab-df-convert {\n",
              "      background-color: #E8F0FE;\n",
              "      border: none;\n",
              "      border-radius: 50%;\n",
              "      cursor: pointer;\n",
              "      display: none;\n",
              "      fill: #1967D2;\n",
              "      height: 32px;\n",
              "      padding: 0 0 0 0;\n",
              "      width: 32px;\n",
              "    }\n",
              "\n",
              "    .colab-df-convert:hover {\n",
              "      background-color: #E2EBFA;\n",
              "      box-shadow: 0px 1px 2px rgba(60, 64, 67, 0.3), 0px 1px 3px 1px rgba(60, 64, 67, 0.15);\n",
              "      fill: #174EA6;\n",
              "    }\n",
              "\n",
              "    [theme=dark] .colab-df-convert {\n",
              "      background-color: #3B4455;\n",
              "      fill: #D2E3FC;\n",
              "    }\n",
              "\n",
              "    [theme=dark] .colab-df-convert:hover {\n",
              "      background-color: #434B5C;\n",
              "      box-shadow: 0px 1px 3px 1px rgba(0, 0, 0, 0.15);\n",
              "      filter: drop-shadow(0px 1px 2px rgba(0, 0, 0, 0.3));\n",
              "      fill: #FFFFFF;\n",
              "    }\n",
              "  </style>\n",
              "\n",
              "      <script>\n",
              "        const buttonEl =\n",
              "          document.querySelector('#df-539b8264-004c-4bcc-a1b8-d2528cc8c2dd button.colab-df-convert');\n",
              "        buttonEl.style.display =\n",
              "          google.colab.kernel.accessAllowed ? 'block' : 'none';\n",
              "\n",
              "        async function convertToInteractive(key) {\n",
              "          const element = document.querySelector('#df-539b8264-004c-4bcc-a1b8-d2528cc8c2dd');\n",
              "          const dataTable =\n",
              "            await google.colab.kernel.invokeFunction('convertToInteractive',\n",
              "                                                     [key], {});\n",
              "          if (!dataTable) return;\n",
              "\n",
              "          const docLinkHtml = 'Like what you see? Visit the ' +\n",
              "            '<a target=\"_blank\" href=https://colab.research.google.com/notebooks/data_table.ipynb>data table notebook</a>'\n",
              "            + ' to learn more about interactive tables.';\n",
              "          element.innerHTML = '';\n",
              "          dataTable['output_type'] = 'display_data';\n",
              "          await google.colab.output.renderOutput(dataTable, element);\n",
              "          const docLink = document.createElement('div');\n",
              "          docLink.innerHTML = docLinkHtml;\n",
              "          element.appendChild(docLink);\n",
              "        }\n",
              "      </script>\n",
              "    </div>\n",
              "  </div>\n",
              "  "
            ],
            "text/plain": [
              "   Brand         Model      Submodel  ... Selling Price Original Price Rating\n",
              "0  Maruti  Swift Dzire  LDI (Diesel)  ...         3,255          3,255    5.0\n",
              "1  Maruti  Swift Dzire  LDI (Diesel)  ...         3,406          3,406    4.0\n",
              "2  Maruti  Swift Dzire  LDI (Diesel)  ...         3,490          4,319    4.5\n",
              "3  Maruti  Swift Dzire  LDI (Diesel)  ...         4,484          4,244    0.0\n",
              "4  Maruti  Swift Dzire  LDI (Diesel)  ...         3,025          3,025    4.2\n",
              "\n",
              "[5 rows x 11 columns]"
            ]
          },
          "metadata": {},
          "execution_count": 77
        }
      ]
    },
    {
      "cell_type": "code",
      "source": [
        "print (\"Unique values are:\\n\")\n",
        "print(df.nunique())"
      ],
      "metadata": {
        "colab": {
          "base_uri": "https://localhost:8080/"
        },
        "id": "x4fV3GPcaZQ3",
        "outputId": "19149fe0-30d2-4cc6-a5d3-1bc9ad857eed"
      },
      "execution_count": 78,
      "outputs": [
        {
          "output_type": "stream",
          "name": "stdout",
          "text": [
            "Unique values are:\n",
            "\n",
            "Brand               1\n",
            "Model              34\n",
            "Submodel          178\n",
            "Tyre Brand         16\n",
            "Serial No.        114\n",
            "Type                2\n",
            "Load Index         27\n",
            "Size               47\n",
            "Selling Price     368\n",
            "Original Price    371\n",
            "Rating             23\n",
            "dtype: int64\n"
          ]
        }
      ]
    },
    {
      "cell_type": "code",
      "source": [
        "# count of products by Resolution\n",
        "df['Model'].groupby(df['Type']).count().sort_values(ascending=False)"
      ],
      "metadata": {
        "colab": {
          "base_uri": "https://localhost:8080/"
        },
        "id": "sCftJ8wxabao",
        "outputId": "c4919f1f-03d0-4614-eb70-3ad1c2e96595"
      },
      "execution_count": 79,
      "outputs": [
        {
          "output_type": "execute_result",
          "data": {
            "text/plain": [
              "Type\n",
              "Tubeless    4061\n",
              "Tube         289\n",
              "Name: Model, dtype: int64"
            ]
          },
          "metadata": {},
          "execution_count": 79
        }
      ]
    },
    {
      "cell_type": "markdown",
      "source": [
        "## 6. Data Visualization"
      ],
      "metadata": {
        "id": "nov96uUjgPtT"
      }
    },
    {
      "cell_type": "code",
      "source": [
        "# Tyre Type distribution\n",
        "labels = 'Tubeless', 'Tube'\n",
        "sizes = [4061,289]\n",
        "fig, ax = plt.subplots(figsize=(6, 5))\n",
        "fig.set_facecolor('white')\n",
        "ax.pie(sizes, labels=labels, colors=[\"#577399\",\"#FDCA40\"],autopct='%1.1f%%',startangle=60,textprops={'color':'black','fontsize':12.5})\n",
        "ax.axis('equal')\n",
        "plt.show()"
      ],
      "metadata": {
        "colab": {
          "base_uri": "https://localhost:8080/",
          "height": 303
        },
        "id": "aEmzwMdQaoDb",
        "outputId": "1945ef8f-cb0f-4d54-9a65-9faa235676cf"
      },
      "execution_count": 80,
      "outputs": [
        {
          "output_type": "display_data",
          "data": {
            "image/png": "[encoded data removed]",
            "text/plain": [
              "<Figure size 432x360 with 1 Axes>"
            ]
          },
          "metadata": {}
        }
      ]
    },
    {
      "cell_type": "code",
      "source": [
        "# count of products by Resolution\n",
        "df['Model'].groupby(df['Tyre Brand']).count().sort_values(ascending=False)"
      ],
      "metadata": {
        "colab": {
          "base_uri": "https://localhost:8080/"
        },
        "id": "TF5dEkdpaqLu",
        "outputId": "fd2065b6-1fd2-47bd-c073-19cb9636f82d"
      },
      "execution_count": 81,
      "outputs": [
        {
          "output_type": "execute_result",
          "data": {
            "text/plain": [
              "Tyre Brand\n",
              "BridgeStone    610\n",
              "GoodYear       501\n",
              "CEAT           449\n",
              "JKTyre         445\n",
              "Apollo         400\n",
              "Yokohama       379\n",
              "Continental    339\n",
              "Falken         269\n",
              "MRF            263\n",
              "Firestone      171\n",
              "UltraMile      149\n",
              "Michelin       130\n",
              "Pirelli        104\n",
              "Hankook         65\n",
              "Kumho           57\n",
              "Maxxis          19\n",
              "Name: Model, dtype: int64"
            ]
          },
          "metadata": {},
          "execution_count": 81
        }
      ]
    },
    {
      "cell_type": "code",
      "source": [
        "sns.set_style('white')\n",
        "plt.figure(figsize=(10,7))\n",
        "sns.countplot(y=\"Tyre Brand\", hue=\"Type\", data=df, palette=[\"#7CB4B8\",\"#FE5F55\"],order=df[\"Tyre Brand\"].value_counts().iloc[:5].index)\n",
        "plt.show()"
      ],
      "metadata": {
        "colab": {
          "base_uri": "https://localhost:8080/",
          "height": 442
        },
        "id": "wE4iDNWoat8n",
        "outputId": "98e09a00-de87-4501-9af1-00c234c100fb"
      },
      "execution_count": 82,
      "outputs": [
        {
          "output_type": "display_data",
          "data": {
            "image/png": "[encoded data removed]",
            "text/plain": [
              "<Figure size 720x504 with 1 Axes>"
            ]
          },
          "metadata": {}
        }
      ]
    },
    {
      "cell_type": "code",
      "source": [
        "sns.set_style('white')\n",
        "plt.figure(figsize=(10,7))\n",
        "sns.countplot(y=\"Model\", hue=\"Type\", data=df, palette=[\"#50723C\",\"#FFBE0B\"],order=df[\"Model\"].value_counts().iloc[:5].index)\n",
        "plt.show()"
      ],
      "metadata": {
        "colab": {
          "base_uri": "https://localhost:8080/",
          "height": 442
        },
        "id": "eRe_grD3ayKT",
        "outputId": "6cc8728d-f1ba-4a12-c19e-340190439f66"
      },
      "execution_count": 83,
      "outputs": [
        {
          "output_type": "display_data",
          "data": {
            "image/png": "[encoded data removed]",
            "text/plain": [
              "<Figure size 720x504 with 1 Axes>"
            ]
          },
          "metadata": {}
        }
      ]
    },
    {
      "cell_type": "code",
      "source": [
        "sns.set_style('white')\n",
        "plt.figure(figsize=(20,7))\n",
        "sns.countplot(y=\"Model\", hue=\"Tyre Brand\", data=df, palette=colors,order=df[\"Model\"].value_counts().iloc[:1].index)\n",
        "plt.show()"
      ],
      "metadata": {
        "colab": {
          "base_uri": "https://localhost:8080/",
          "height": 442
        },
        "id": "lK7XefJ7bPPS",
        "outputId": "00f02a7f-43f9-43ae-b98c-c52230a46401"
      },
      "execution_count": 84,
      "outputs": [
        {
          "output_type": "display_data",
          "data": {
            "image/png": "[encoded data removed]",
            "text/plain": [
              "<Figure size 1440x504 with 1 Axes>"
            ]
          },
          "metadata": {}
        }
      ]
    },
    {
      "cell_type": "markdown",
      "source": [
        "## 7. Statistical Filtering"
      ],
      "metadata": {
        "id": "eELK_et7gS7f"
      }
    },
    {
      "cell_type": "code",
      "source": [
        "round(df.groupby('Tyre Brand')['Rating'].mean().sort_values(ascending=False),1)"
      ],
      "metadata": {
        "colab": {
          "base_uri": "https://localhost:8080/"
        },
        "id": "MjrqG4SjbY3z",
        "outputId": "e9286d35-9c55-4f37-c8f3-221d32994a66"
      },
      "execution_count": 85,
      "outputs": [
        {
          "output_type": "execute_result",
          "data": {
            "text/plain": [
              "Tyre Brand\n",
              "CEAT           3.4\n",
              "Michelin       3.3\n",
              "BridgeStone    3.2\n",
              "Pirelli        3.0\n",
              "MRF            2.8\n",
              "Apollo         2.8\n",
              "Yokohama       2.3\n",
              "GoodYear       2.0\n",
              "JKTyre         1.8\n",
              "UltraMile      1.7\n",
              "Falken         1.5\n",
              "Continental    0.7\n",
              "Firestone      0.2\n",
              "Maxxis         0.0\n",
              "Kumho          0.0\n",
              "Hankook        0.0\n",
              "Name: Rating, dtype: float64"
            ]
          },
          "metadata": {},
          "execution_count": 85
        }
      ]
    },
    {
      "cell_type": "code",
      "source": [
        "df.info()"
      ],
      "metadata": {
        "colab": {
          "base_uri": "https://localhost:8080/"
        },
        "id": "DQpgGdnOdjjc",
        "outputId": "ef7df765-49b3-4976-e29e-6a1b6d329255"
      },
      "execution_count": 86,
      "outputs": [
        {
          "output_type": "stream",
          "name": "stdout",
          "text": [
            "<class 'pandas.core.frame.DataFrame'>\n",
            "RangeIndex: 4350 entries, 0 to 4349\n",
            "Data columns (total 11 columns):\n",
            " #   Column          Non-Null Count  Dtype  \n",
            "---  ------          --------------  -----  \n",
            " 0   Brand           4350 non-null   object \n",
            " 1   Model           4350 non-null   object \n",
            " 2   Submodel        4350 non-null   object \n",
            " 3   Tyre Brand      4350 non-null   object \n",
            " 4   Serial No.      4350 non-null   object \n",
            " 5   Type            4350 non-null   object \n",
            " 6   Load Index      4350 non-null   int64  \n",
            " 7   Size            4350 non-null   object \n",
            " 8   Selling Price   4350 non-null   object \n",
            " 9   Original Price  4350 non-null   object \n",
            " 10  Rating          4350 non-null   float64\n",
            "dtypes: float64(1), int64(1), object(9)\n",
            "memory usage: 374.0+ KB\n"
          ]
        }
      ]
    },
    {
      "cell_type": "code",
      "source": [
        "df[\"Selling Price\"] = df[\"Selling Price\"].str.replace(\",\",\"\")\n",
        "df[\"Original Price\"] = df[\"Original Price\"].str.replace(\",\",\"\")"
      ],
      "metadata": {
        "id": "6z7GEA6deSli"
      },
      "execution_count": 92,
      "outputs": []
    },
    {
      "cell_type": "code",
      "source": [
        "df[\"Rating\"] = df[\"Rating\"].astype(float)\n",
        "df[\"Selling Price\"] = df[\"Selling Price\"].astype(float)\n",
        "df[\"Original Price\"] = df[\"Original Price\"].astype(float)"
      ],
      "metadata": {
        "id": "-WSeHRucd6xt"
      },
      "execution_count": 93,
      "outputs": []
    },
    {
      "cell_type": "code",
      "source": [
        "df_p=df[(df[\"Rating\"]>= 4.0) & (df[\"Selling Price\"]>= 5000)]\n",
        "df_p.iloc[:5]"
      ],
      "metadata": {
        "colab": {
          "base_uri": "https://localhost:8080/",
          "height": 206
        },
        "id": "NjwSp5p3dC-_",
        "outputId": "8592efe1-eaf2-48b7-a77b-7441c0dc4680"
      },
      "execution_count": 94,
      "outputs": [
        {
          "output_type": "execute_result",
          "data": {
            "text/html": [
              "\n",
              "  <div id=\"df-63db33ac-21ed-4272-b51e-5f9837e7d059\">\n",
              "    <div class=\"colab-df-container\">\n",
              "      <div>\n",
              "<style scoped>\n",
              "    .dataframe tbody tr th:only-of-type {\n",
              "        vertical-align: middle;\n",
              "    }\n",
              "\n",
              "    .dataframe tbody tr th {\n",
              "        vertical-align: top;\n",
              "    }\n",
              "\n",
              "    .dataframe thead th {\n",
              "        text-align: right;\n",
              "    }\n",
              "</style>\n",
              "<table border=\"1\" class=\"dataframe\">\n",
              "  <thead>\n",
              "    <tr style=\"text-align: right;\">\n",
              "      <th></th>\n",
              "      <th>Brand</th>\n",
              "      <th>Model</th>\n",
              "      <th>Submodel</th>\n",
              "      <th>Tyre Brand</th>\n",
              "      <th>Serial No.</th>\n",
              "      <th>Type</th>\n",
              "      <th>Load Index</th>\n",
              "      <th>Size</th>\n",
              "      <th>Selling Price</th>\n",
              "      <th>Original Price</th>\n",
              "      <th>Rating</th>\n",
              "    </tr>\n",
              "  </thead>\n",
              "  <tbody>\n",
              "    <tr>\n",
              "      <th>33</th>\n",
              "      <td>Maruti</td>\n",
              "      <td>Swift Dzire</td>\n",
              "      <td>ZDI (Diesel)</td>\n",
              "      <td>Apollo</td>\n",
              "      <td>Amazer 4G Life</td>\n",
              "      <td>Tubeless</td>\n",
              "      <td>88</td>\n",
              "      <td>185/70 R 15</td>\n",
              "      <td>5429.0</td>\n",
              "      <td>5429.0</td>\n",
              "      <td>4.0</td>\n",
              "    </tr>\n",
              "    <tr>\n",
              "      <th>34</th>\n",
              "      <td>Maruti</td>\n",
              "      <td>Swift Dzire</td>\n",
              "      <td>ZDI (Diesel)</td>\n",
              "      <td>Apollo</td>\n",
              "      <td>Ainac 4G</td>\n",
              "      <td>Tubeless</td>\n",
              "      <td>88</td>\n",
              "      <td>185/70 R 16</td>\n",
              "      <td>5359.0</td>\n",
              "      <td>5359.0</td>\n",
              "      <td>5.0</td>\n",
              "    </tr>\n",
              "    <tr>\n",
              "      <th>42</th>\n",
              "      <td>Maruti</td>\n",
              "      <td>Swift Dzire</td>\n",
              "      <td>ZDI (Diesel)</td>\n",
              "      <td>Apollo</td>\n",
              "      <td>Ainac 4G</td>\n",
              "      <td>Tubeless</td>\n",
              "      <td>88</td>\n",
              "      <td>185/70 R 24</td>\n",
              "      <td>5359.0</td>\n",
              "      <td>5359.0</td>\n",
              "      <td>5.0</td>\n",
              "    </tr>\n",
              "    <tr>\n",
              "      <th>43</th>\n",
              "      <td>Maruti</td>\n",
              "      <td>Swift Dzire</td>\n",
              "      <td>ZDI (Diesel)</td>\n",
              "      <td>Apollo</td>\n",
              "      <td>Amazer 4G Life</td>\n",
              "      <td>Tubeless</td>\n",
              "      <td>88</td>\n",
              "      <td>185/70 R 25</td>\n",
              "      <td>5429.0</td>\n",
              "      <td>5429.0</td>\n",
              "      <td>4.0</td>\n",
              "    </tr>\n",
              "    <tr>\n",
              "      <th>46</th>\n",
              "      <td>Maruti</td>\n",
              "      <td>Swift Dzire</td>\n",
              "      <td>ZDI (Petrol) New</td>\n",
              "      <td>Apollo</td>\n",
              "      <td>Ainac 4G</td>\n",
              "      <td>Tubeless</td>\n",
              "      <td>88</td>\n",
              "      <td>185/70 R 28</td>\n",
              "      <td>5359.0</td>\n",
              "      <td>5359.0</td>\n",
              "      <td>5.0</td>\n",
              "    </tr>\n",
              "  </tbody>\n",
              "</table>\n",
              "</div>\n",
              "      <button class=\"colab-df-convert\" onclick=\"convertToInteractive('df-63db33ac-21ed-4272-b51e-5f9837e7d059')\"\n",
              "              title=\"Convert this dataframe to an interactive table.\"\n",
              "              style=\"display:none;\">\n",
              "        \n",
              "  <svg xmlns=\"http://www.w3.org/2000/svg\" height=\"24px\"viewBox=\"0 0 24 24\"\n",
              "       width=\"24px\">\n",
              "    <path d=\"M0 0h24v24H0V0z\" fill=\"none\"/>\n",
              "    <path d=\"M18.56 5.44l.94 2.06.94-2.06 2.06-.94-2.06-.94-.94-2.06-.94 2.06-2.06.94zm-11 1L8.5 8.5l.94-2.06 2.06-.94-2.06-.94L8.5 2.5l-.94 2.06-2.06.94zm10 10l.94 2.06.94-2.06 2.06-.94-2.06-.94-.94-2.06-.94 2.06-2.06.94z\"/><path d=\"M17.41 7.96l-1.37-1.37c-.4-.4-.92-.59-1.43-.59-.52 0-1.04.2-1.43.59L10.3 9.45l-7.72 7.72c-.78.78-.78 2.05 0 2.83L4 21.41c.39.39.9.59 1.41.59.51 0 1.02-.2 1.41-.59l7.78-7.78 2.81-2.81c.8-.78.8-2.07 0-2.86zM5.41 20L4 18.59l7.72-7.72 1.47 1.35L5.41 20z\"/>\n",
              "  </svg>\n",
              "      </button>\n",
              "      \n",
              "  <style>\n",
              "    .colab-df-container {\n",
              "      display:flex;\n",
              "      flex-wrap:wrap;\n",
              "      gap: 12px;\n",
              "    }\n",
              "\n",
              "    .colab-df-convert {\n",
              "      background-color: #E8F0FE;\n",
              "      border: none;\n",
              "      border-radius: 50%;\n",
              "      cursor: pointer;\n",
              "      display: none;\n",
              "      fill: #1967D2;\n",
              "      height: 32px;\n",
              "      padding: 0 0 0 0;\n",
              "      width: 32px;\n",
              "    }\n",
              "\n",
              "    .colab-df-convert:hover {\n",
              "      background-color: #E2EBFA;\n",
              "      box-shadow: 0px 1px 2px rgba(60, 64, 67, 0.3), 0px 1px 3px 1px rgba(60, 64, 67, 0.15);\n",
              "      fill: #174EA6;\n",
              "    }\n",
              "\n",
              "    [theme=dark] .colab-df-convert {\n",
              "      background-color: #3B4455;\n",
              "      fill: #D2E3FC;\n",
              "    }\n",
              "\n",
              "    [theme=dark] .colab-df-convert:hover {\n",
              "      background-color: #434B5C;\n",
              "      box-shadow: 0px 1px 3px 1px rgba(0, 0, 0, 0.15);\n",
              "      filter: drop-shadow(0px 1px 2px rgba(0, 0, 0, 0.3));\n",
              "      fill: #FFFFFF;\n",
              "    }\n",
              "  </style>\n",
              "\n",
              "      <script>\n",
              "        const buttonEl =\n",
              "          document.querySelector('#df-63db33ac-21ed-4272-b51e-5f9837e7d059 button.colab-df-convert');\n",
              "        buttonEl.style.display =\n",
              "          google.colab.kernel.accessAllowed ? 'block' : 'none';\n",
              "\n",
              "        async function convertToInteractive(key) {\n",
              "          const element = document.querySelector('#df-63db33ac-21ed-4272-b51e-5f9837e7d059');\n",
              "          const dataTable =\n",
              "            await google.colab.kernel.invokeFunction('convertToInteractive',\n",
              "                                                     [key], {});\n",
              "          if (!dataTable) return;\n",
              "\n",
              "          const docLinkHtml = 'Like what you see? Visit the ' +\n",
              "            '<a target=\"_blank\" href=https://colab.research.google.com/notebooks/data_table.ipynb>data table notebook</a>'\n",
              "            + ' to learn more about interactive tables.';\n",
              "          element.innerHTML = '';\n",
              "          dataTable['output_type'] = 'display_data';\n",
              "          await google.colab.output.renderOutput(dataTable, element);\n",
              "          const docLink = document.createElement('div');\n",
              "          docLink.innerHTML = docLinkHtml;\n",
              "          element.appendChild(docLink);\n",
              "        }\n",
              "      </script>\n",
              "    </div>\n",
              "  </div>\n",
              "  "
            ],
            "text/plain": [
              "    Brand         Model  ... Original Price Rating\n",
              "33  Maruti  Swift Dzire  ...         5429.0    4.0\n",
              "34  Maruti  Swift Dzire  ...         5359.0    5.0\n",
              "42  Maruti  Swift Dzire  ...         5359.0    5.0\n",
              "43  Maruti  Swift Dzire  ...         5429.0    4.0\n",
              "46  Maruti  Swift Dzire  ...         5359.0    5.0\n",
              "\n",
              "[5 rows x 11 columns]"
            ]
          },
          "metadata": {},
          "execution_count": 94
        }
      ]
    },
    {
      "cell_type": "code",
      "source": [
        "# Rating vs Tyre Brand\n",
        "fig, ax = plt.subplots(figsize=(15,6))\n",
        "ax = sns.barplot(y='Selling Price', x='Tyre Brand', data=df_p, hue='Rating',palette=colors)\n"
      ],
      "metadata": {
        "colab": {
          "base_uri": "https://localhost:8080/",
          "height": 388
        },
        "id": "vQ_oKd3OdRhQ",
        "outputId": "371d77d7-c5e7-4793-ad0f-d217d2c7539a"
      },
      "execution_count": 95,
      "outputs": [
        {
          "output_type": "display_data",
          "data": {
            "image/png": "[encoded data removed]",
            "text/plain": [
              "<Figure size 1080x432 with 1 Axes>"
            ]
          },
          "metadata": {}
        }
      ]
    },
    {
      "cell_type": "code",
      "source": [
        "df.groupby('Tyre Brand')['Selling Price'].mean().sort_values(ascending=False).apply(np.ceil)"
      ],
      "metadata": {
        "colab": {
          "base_uri": "https://localhost:8080/"
        },
        "id": "pR0VXx5MfcL4",
        "outputId": "2094dc0f-906e-460a-a151-08a91060f2e9"
      },
      "execution_count": 96,
      "outputs": [
        {
          "output_type": "execute_result",
          "data": {
            "text/plain": [
              "Tyre Brand\n",
              "Pirelli        7359.0\n",
              "Michelin       6893.0\n",
              "Maxxis         6232.0\n",
              "Yokohama       6120.0\n",
              "Continental    5250.0\n",
              "BridgeStone    5190.0\n",
              "Falken         5066.0\n",
              "Hankook        4980.0\n",
              "Kumho          4650.0\n",
              "Apollo         4631.0\n",
              "UltraMile      4475.0\n",
              "CEAT           4130.0\n",
              "GoodYear       4011.0\n",
              "MRF            3718.0\n",
              "JKTyre         3602.0\n",
              "Firestone      3484.0\n",
              "Name: Selling Price, dtype: float64"
            ]
          },
          "metadata": {},
          "execution_count": 96
        }
      ]
    },
    {
      "cell_type": "code",
      "source": [
        "#Box plot to denote average selling prices\n",
        "fig, ax = plt.subplots(figsize=(20,3))\n",
        "ax = sns.boxplot(x=\"Tyre Brand\", y=\"Original Price\", data=df, palette=colors)"
      ],
      "metadata": {
        "colab": {
          "base_uri": "https://localhost:8080/",
          "height": 225
        },
        "id": "FcAT2_vrffaA",
        "outputId": "fefa66a6-a538-48ef-bbef-190011a5c278"
      },
      "execution_count": 97,
      "outputs": [
        {
          "output_type": "display_data",
          "data": {
            "image/png": "[encoded data removed]",
            "text/plain": [
              "<Figure size 1440x216 with 1 Axes>"
            ]
          },
          "metadata": {}
        }
      ]
    },
    {
      "cell_type": "code",
      "source": [
        ""
      ],
      "metadata": {
        "id": "MJZwZrbhfjy1"
      },
      "execution_count": null,
      "outputs": []
    }
  ]
}