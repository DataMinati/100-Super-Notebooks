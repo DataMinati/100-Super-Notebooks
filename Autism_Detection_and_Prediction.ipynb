{
  "cells": [
    {
      "cell_type": "markdown",
      "metadata": {
        "id": "view-in-github",
        "colab_type": "text"
      },
      "source": [
        "<a href=\"https://colab.research.google.com/github/DataMinati/100-Super-Notebooks/blob/main/Autism_Detection_and_Prediction.ipynb\" target=\"_parent\"><img src=\"https://colab.research.google.com/assets/colab-badge.svg\" alt=\"Open In Colab\"/></a>"
      ]
    },
    {
      "cell_type": "code",
      "execution_count": null,
      "id": "d535b95c",
      "metadata": {
        "_cell_guid": "b1076dfc-b9ad-4769-8c92-a6c4dae69d19",
        "_uuid": "8f2839f25d086af736a60e9eeb907d3b93b6e0e5",
        "execution": {
          "iopub.execute_input": "2022-01-31T00:29:45.267873Z",
          "iopub.status.busy": "2022-01-31T00:29:45.266992Z",
          "iopub.status.idle": "2022-01-31T00:29:46.294550Z",
          "shell.execute_reply": "2022-01-31T00:29:46.295088Z",
          "shell.execute_reply.started": "2022-01-31T00:23:01.666322Z"
        },
        "papermill": {
          "duration": 1.059457,
          "end_time": "2022-01-31T00:29:46.295374",
          "exception": false,
          "start_time": "2022-01-31T00:29:45.235917",
          "status": "completed"
        },
        "tags": [],
        "id": "d535b95c"
      },
      "outputs": [],
      "source": [
        "import pandas as pd\n",
        "import numpy as np\n",
        "import matplotlib.pylab as plt\n",
        "import seaborn as sns\n",
        "\n",
        "plt.style.use('ggplot')\n",
        "plt.rcParams['figure.figsize'] = [12, 8]\n",
        "pd.set_option('display.max_columns', None)"
      ]
    },
    {
      "cell_type": "code",
      "execution_count": null,
      "id": "17a96276",
      "metadata": {
        "execution": {
          "iopub.execute_input": "2022-01-31T00:29:47.116876Z",
          "iopub.status.busy": "2022-01-31T00:29:47.116110Z",
          "iopub.status.idle": "2022-01-31T00:29:47.174815Z",
          "shell.execute_reply": "2022-01-31T00:29:47.175338Z",
          "shell.execute_reply.started": "2022-01-31T00:23:02.480211Z"
        },
        "papermill": {
          "duration": 0.086424,
          "end_time": "2022-01-31T00:29:47.175504",
          "exception": false,
          "start_time": "2022-01-31T00:29:47.089080",
          "status": "completed"
        },
        "tags": [],
        "id": "17a96276",
        "outputId": "2634fa92-3e34-43d5-98a1-0114491647aa"
      },
      "outputs": [
        {
          "data": {
            "text/html": [
              "<div>\n",
              "<style scoped>\n",
              "    .dataframe tbody tr th:only-of-type {\n",
              "        vertical-align: middle;\n",
              "    }\n",
              "\n",
              "    .dataframe tbody tr th {\n",
              "        vertical-align: top;\n",
              "    }\n",
              "\n",
              "    .dataframe thead th {\n",
              "        text-align: right;\n",
              "    }\n",
              "</style>\n",
              "<table border=\"1\" class=\"dataframe\">\n",
              "  <thead>\n",
              "    <tr style=\"text-align: right;\">\n",
              "      <th></th>\n",
              "      <th>ID</th>\n",
              "      <th>A1_Score</th>\n",
              "      <th>A2_Score</th>\n",
              "      <th>A3_Score</th>\n",
              "      <th>A4_Score</th>\n",
              "      <th>A5_Score</th>\n",
              "      <th>A6_Score</th>\n",
              "      <th>A7_Score</th>\n",
              "      <th>A8_Score</th>\n",
              "      <th>A9_Score</th>\n",
              "      <th>A10_Score</th>\n",
              "      <th>age</th>\n",
              "      <th>gender</th>\n",
              "      <th>ethnicity</th>\n",
              "      <th>jaundice</th>\n",
              "      <th>austim</th>\n",
              "      <th>contry_of_res</th>\n",
              "      <th>used_app_before</th>\n",
              "      <th>result</th>\n",
              "      <th>age_desc</th>\n",
              "      <th>relation</th>\n",
              "      <th>Class/ASD</th>\n",
              "    </tr>\n",
              "  </thead>\n",
              "  <tbody>\n",
              "    <tr>\n",
              "      <th>0</th>\n",
              "      <td>1</td>\n",
              "      <td>1</td>\n",
              "      <td>0</td>\n",
              "      <td>1</td>\n",
              "      <td>1</td>\n",
              "      <td>1</td>\n",
              "      <td>1</td>\n",
              "      <td>0</td>\n",
              "      <td>1</td>\n",
              "      <td>1</td>\n",
              "      <td>1</td>\n",
              "      <td>18.605397</td>\n",
              "      <td>f</td>\n",
              "      <td>White-European</td>\n",
              "      <td>no</td>\n",
              "      <td>no</td>\n",
              "      <td>United States</td>\n",
              "      <td>no</td>\n",
              "      <td>7.819715</td>\n",
              "      <td>18 and more</td>\n",
              "      <td>Self</td>\n",
              "      <td>0</td>\n",
              "    </tr>\n",
              "    <tr>\n",
              "      <th>1</th>\n",
              "      <td>2</td>\n",
              "      <td>0</td>\n",
              "      <td>0</td>\n",
              "      <td>0</td>\n",
              "      <td>0</td>\n",
              "      <td>0</td>\n",
              "      <td>0</td>\n",
              "      <td>0</td>\n",
              "      <td>0</td>\n",
              "      <td>0</td>\n",
              "      <td>1</td>\n",
              "      <td>13.829369</td>\n",
              "      <td>f</td>\n",
              "      <td>South Asian</td>\n",
              "      <td>no</td>\n",
              "      <td>no</td>\n",
              "      <td>Australia</td>\n",
              "      <td>no</td>\n",
              "      <td>10.544296</td>\n",
              "      <td>18 and more</td>\n",
              "      <td>?</td>\n",
              "      <td>0</td>\n",
              "    </tr>\n",
              "    <tr>\n",
              "      <th>2</th>\n",
              "      <td>3</td>\n",
              "      <td>1</td>\n",
              "      <td>1</td>\n",
              "      <td>1</td>\n",
              "      <td>1</td>\n",
              "      <td>1</td>\n",
              "      <td>1</td>\n",
              "      <td>0</td>\n",
              "      <td>0</td>\n",
              "      <td>1</td>\n",
              "      <td>1</td>\n",
              "      <td>14.679893</td>\n",
              "      <td>f</td>\n",
              "      <td>White-European</td>\n",
              "      <td>no</td>\n",
              "      <td>no</td>\n",
              "      <td>United Kingdom</td>\n",
              "      <td>no</td>\n",
              "      <td>13.167506</td>\n",
              "      <td>18 and more</td>\n",
              "      <td>Self</td>\n",
              "      <td>1</td>\n",
              "    </tr>\n",
              "    <tr>\n",
              "      <th>3</th>\n",
              "      <td>4</td>\n",
              "      <td>0</td>\n",
              "      <td>0</td>\n",
              "      <td>0</td>\n",
              "      <td>1</td>\n",
              "      <td>0</td>\n",
              "      <td>0</td>\n",
              "      <td>0</td>\n",
              "      <td>0</td>\n",
              "      <td>0</td>\n",
              "      <td>0</td>\n",
              "      <td>61.035288</td>\n",
              "      <td>f</td>\n",
              "      <td>South Asian</td>\n",
              "      <td>no</td>\n",
              "      <td>no</td>\n",
              "      <td>New Zealand</td>\n",
              "      <td>no</td>\n",
              "      <td>1.530098</td>\n",
              "      <td>18 and more</td>\n",
              "      <td>?</td>\n",
              "      <td>0</td>\n",
              "    </tr>\n",
              "    <tr>\n",
              "      <th>4</th>\n",
              "      <td>5</td>\n",
              "      <td>0</td>\n",
              "      <td>0</td>\n",
              "      <td>0</td>\n",
              "      <td>0</td>\n",
              "      <td>1</td>\n",
              "      <td>0</td>\n",
              "      <td>0</td>\n",
              "      <td>0</td>\n",
              "      <td>1</td>\n",
              "      <td>1</td>\n",
              "      <td>14.256686</td>\n",
              "      <td>m</td>\n",
              "      <td>Black</td>\n",
              "      <td>no</td>\n",
              "      <td>yes</td>\n",
              "      <td>Italy</td>\n",
              "      <td>no</td>\n",
              "      <td>7.949723</td>\n",
              "      <td>18 and more</td>\n",
              "      <td>Self</td>\n",
              "      <td>0</td>\n",
              "    </tr>\n",
              "    <tr>\n",
              "      <th>...</th>\n",
              "      <td>...</td>\n",
              "      <td>...</td>\n",
              "      <td>...</td>\n",
              "      <td>...</td>\n",
              "      <td>...</td>\n",
              "      <td>...</td>\n",
              "      <td>...</td>\n",
              "      <td>...</td>\n",
              "      <td>...</td>\n",
              "      <td>...</td>\n",
              "      <td>...</td>\n",
              "      <td>...</td>\n",
              "      <td>...</td>\n",
              "      <td>...</td>\n",
              "      <td>...</td>\n",
              "      <td>...</td>\n",
              "      <td>...</td>\n",
              "      <td>...</td>\n",
              "      <td>...</td>\n",
              "      <td>...</td>\n",
              "      <td>...</td>\n",
              "      <td>...</td>\n",
              "    </tr>\n",
              "    <tr>\n",
              "      <th>795</th>\n",
              "      <td>796</td>\n",
              "      <td>1</td>\n",
              "      <td>1</td>\n",
              "      <td>1</td>\n",
              "      <td>1</td>\n",
              "      <td>1</td>\n",
              "      <td>1</td>\n",
              "      <td>1</td>\n",
              "      <td>1</td>\n",
              "      <td>1</td>\n",
              "      <td>1</td>\n",
              "      <td>42.084907</td>\n",
              "      <td>f</td>\n",
              "      <td>White-European</td>\n",
              "      <td>no</td>\n",
              "      <td>yes</td>\n",
              "      <td>United States</td>\n",
              "      <td>no</td>\n",
              "      <td>13.390868</td>\n",
              "      <td>18 and more</td>\n",
              "      <td>Self</td>\n",
              "      <td>1</td>\n",
              "    </tr>\n",
              "    <tr>\n",
              "      <th>796</th>\n",
              "      <td>797</td>\n",
              "      <td>1</td>\n",
              "      <td>1</td>\n",
              "      <td>0</td>\n",
              "      <td>0</td>\n",
              "      <td>1</td>\n",
              "      <td>0</td>\n",
              "      <td>0</td>\n",
              "      <td>0</td>\n",
              "      <td>1</td>\n",
              "      <td>1</td>\n",
              "      <td>17.669291</td>\n",
              "      <td>f</td>\n",
              "      <td>Asian</td>\n",
              "      <td>no</td>\n",
              "      <td>no</td>\n",
              "      <td>New Zealand</td>\n",
              "      <td>no</td>\n",
              "      <td>9.454201</td>\n",
              "      <td>18 and more</td>\n",
              "      <td>Self</td>\n",
              "      <td>0</td>\n",
              "    </tr>\n",
              "    <tr>\n",
              "      <th>797</th>\n",
              "      <td>798</td>\n",
              "      <td>0</td>\n",
              "      <td>0</td>\n",
              "      <td>0</td>\n",
              "      <td>0</td>\n",
              "      <td>0</td>\n",
              "      <td>0</td>\n",
              "      <td>1</td>\n",
              "      <td>0</td>\n",
              "      <td>1</td>\n",
              "      <td>1</td>\n",
              "      <td>18.242557</td>\n",
              "      <td>m</td>\n",
              "      <td>White-European</td>\n",
              "      <td>yes</td>\n",
              "      <td>no</td>\n",
              "      <td>Jordan</td>\n",
              "      <td>no</td>\n",
              "      <td>6.805509</td>\n",
              "      <td>18 and more</td>\n",
              "      <td>Self</td>\n",
              "      <td>1</td>\n",
              "    </tr>\n",
              "    <tr>\n",
              "      <th>798</th>\n",
              "      <td>799</td>\n",
              "      <td>1</td>\n",
              "      <td>1</td>\n",
              "      <td>1</td>\n",
              "      <td>1</td>\n",
              "      <td>1</td>\n",
              "      <td>1</td>\n",
              "      <td>0</td>\n",
              "      <td>1</td>\n",
              "      <td>1</td>\n",
              "      <td>1</td>\n",
              "      <td>19.241473</td>\n",
              "      <td>f</td>\n",
              "      <td>Middle Eastern</td>\n",
              "      <td>no</td>\n",
              "      <td>yes</td>\n",
              "      <td>United States</td>\n",
              "      <td>no</td>\n",
              "      <td>3.682732</td>\n",
              "      <td>18 and more</td>\n",
              "      <td>Relative</td>\n",
              "      <td>0</td>\n",
              "    </tr>\n",
              "    <tr>\n",
              "      <th>799</th>\n",
              "      <td>800</td>\n",
              "      <td>1</td>\n",
              "      <td>0</td>\n",
              "      <td>0</td>\n",
              "      <td>1</td>\n",
              "      <td>1</td>\n",
              "      <td>0</td>\n",
              "      <td>0</td>\n",
              "      <td>1</td>\n",
              "      <td>1</td>\n",
              "      <td>1</td>\n",
              "      <td>32.170098</td>\n",
              "      <td>f</td>\n",
              "      <td>Asian</td>\n",
              "      <td>no</td>\n",
              "      <td>no</td>\n",
              "      <td>New Zealand</td>\n",
              "      <td>no</td>\n",
              "      <td>12.060168</td>\n",
              "      <td>18 and more</td>\n",
              "      <td>Self</td>\n",
              "      <td>0</td>\n",
              "    </tr>\n",
              "  </tbody>\n",
              "</table>\n",
              "<p>800 rows × 22 columns</p>\n",
              "</div>"
            ],
            "text/plain": [
              "      ID  A1_Score  A2_Score  A3_Score  A4_Score  A5_Score  A6_Score  \\\n",
              "0      1         1         0         1         1         1         1   \n",
              "1      2         0         0         0         0         0         0   \n",
              "2      3         1         1         1         1         1         1   \n",
              "3      4         0         0         0         1         0         0   \n",
              "4      5         0         0         0         0         1         0   \n",
              "..   ...       ...       ...       ...       ...       ...       ...   \n",
              "795  796         1         1         1         1         1         1   \n",
              "796  797         1         1         0         0         1         0   \n",
              "797  798         0         0         0         0         0         0   \n",
              "798  799         1         1         1         1         1         1   \n",
              "799  800         1         0         0         1         1         0   \n",
              "\n",
              "     A7_Score  A8_Score  A9_Score  A10_Score        age gender  \\\n",
              "0           0         1         1          1  18.605397      f   \n",
              "1           0         0         0          1  13.829369      f   \n",
              "2           0         0         1          1  14.679893      f   \n",
              "3           0         0         0          0  61.035288      f   \n",
              "4           0         0         1          1  14.256686      m   \n",
              "..        ...       ...       ...        ...        ...    ...   \n",
              "795         1         1         1          1  42.084907      f   \n",
              "796         0         0         1          1  17.669291      f   \n",
              "797         1         0         1          1  18.242557      m   \n",
              "798         0         1         1          1  19.241473      f   \n",
              "799         0         1         1          1  32.170098      f   \n",
              "\n",
              "           ethnicity jaundice austim   contry_of_res used_app_before  \\\n",
              "0     White-European       no     no   United States              no   \n",
              "1        South Asian       no     no       Australia              no   \n",
              "2     White-European       no     no  United Kingdom              no   \n",
              "3        South Asian       no     no     New Zealand              no   \n",
              "4              Black       no    yes           Italy              no   \n",
              "..               ...      ...    ...             ...             ...   \n",
              "795   White-European       no    yes   United States              no   \n",
              "796            Asian       no     no     New Zealand              no   \n",
              "797   White-European      yes     no          Jordan              no   \n",
              "798  Middle Eastern        no    yes   United States              no   \n",
              "799            Asian       no     no     New Zealand              no   \n",
              "\n",
              "        result     age_desc  relation  Class/ASD  \n",
              "0     7.819715  18 and more      Self          0  \n",
              "1    10.544296  18 and more         ?          0  \n",
              "2    13.167506  18 and more      Self          1  \n",
              "3     1.530098  18 and more         ?          0  \n",
              "4     7.949723  18 and more      Self          0  \n",
              "..         ...          ...       ...        ...  \n",
              "795  13.390868  18 and more      Self          1  \n",
              "796   9.454201  18 and more      Self          0  \n",
              "797   6.805509  18 and more      Self          1  \n",
              "798   3.682732  18 and more  Relative          0  \n",
              "799  12.060168  18 and more      Self          0  \n",
              "\n",
              "[800 rows x 22 columns]"
            ]
          },
          "execution_count": 3,
          "metadata": {},
          "output_type": "execute_result"
        }
      ],
      "source": [
        "train = pd.read_csv('../input/autism-prediction/Autism-prediction/train.csv')\n",
        "test = pd.read_csv('../input/autism-prediction/Autism-prediction/test.csv')\n",
        "train"
      ]
    },
    {
      "cell_type": "code",
      "execution_count": null,
      "id": "fe674f9c",
      "metadata": {
        "execution": {
          "iopub.execute_input": "2022-01-31T00:29:47.247076Z",
          "iopub.status.busy": "2022-01-31T00:29:47.245922Z",
          "iopub.status.idle": "2022-01-31T00:29:47.250893Z",
          "shell.execute_reply": "2022-01-31T00:29:47.250377Z",
          "shell.execute_reply.started": "2022-01-31T00:23:02.526228Z"
        },
        "papermill": {
          "duration": 0.052432,
          "end_time": "2022-01-31T00:29:47.251030",
          "exception": false,
          "start_time": "2022-01-31T00:29:47.198598",
          "status": "completed"
        },
        "tags": [],
        "id": "fe674f9c",
        "outputId": "a982d348-3305-48c6-a8c5-f8fc3d5a9fcd"
      },
      "outputs": [
        {
          "name": "stdout",
          "output_type": "stream",
          "text": [
            "<class 'pandas.core.frame.DataFrame'>\n",
            "RangeIndex: 800 entries, 0 to 799\n",
            "Data columns (total 22 columns):\n",
            " #   Column           Non-Null Count  Dtype  \n",
            "---  ------           --------------  -----  \n",
            " 0   ID               800 non-null    int64  \n",
            " 1   A1_Score         800 non-null    int64  \n",
            " 2   A2_Score         800 non-null    int64  \n",
            " 3   A3_Score         800 non-null    int64  \n",
            " 4   A4_Score         800 non-null    int64  \n",
            " 5   A5_Score         800 non-null    int64  \n",
            " 6   A6_Score         800 non-null    int64  \n",
            " 7   A7_Score         800 non-null    int64  \n",
            " 8   A8_Score         800 non-null    int64  \n",
            " 9   A9_Score         800 non-null    int64  \n",
            " 10  A10_Score        800 non-null    int64  \n",
            " 11  age              800 non-null    float64\n",
            " 12  gender           800 non-null    object \n",
            " 13  ethnicity        800 non-null    object \n",
            " 14  jaundice         800 non-null    object \n",
            " 15  austim           800 non-null    object \n",
            " 16  contry_of_res    800 non-null    object \n",
            " 17  used_app_before  800 non-null    object \n",
            " 18  result           800 non-null    float64\n",
            " 19  age_desc         800 non-null    object \n",
            " 20  relation         800 non-null    object \n",
            " 21  Class/ASD        800 non-null    int64  \n",
            "dtypes: float64(2), int64(12), object(8)\n",
            "memory usage: 137.6+ KB\n"
          ]
        }
      ],
      "source": [
        "train.info()"
      ]
    },
    {
      "cell_type": "markdown",
      "id": "8bd91714",
      "metadata": {
        "papermill": {
          "duration": 0.023565,
          "end_time": "2022-01-31T00:29:47.298519",
          "exception": false,
          "start_time": "2022-01-31T00:29:47.274954",
          "status": "completed"
        },
        "tags": [],
        "id": "8bd91714"
      },
      "source": [
        "## EDA"
      ]
    },
    {
      "cell_type": "code",
      "execution_count": null,
      "id": "609c70c8",
      "metadata": {
        "execution": {
          "iopub.execute_input": "2022-01-31T00:29:47.352393Z",
          "iopub.status.busy": "2022-01-31T00:29:47.351437Z",
          "iopub.status.idle": "2022-01-31T00:29:47.355121Z",
          "shell.execute_reply": "2022-01-31T00:29:47.354593Z",
          "shell.execute_reply.started": "2022-01-31T00:23:02.545670Z"
        },
        "papermill": {
          "duration": 0.033454,
          "end_time": "2022-01-31T00:29:47.355255",
          "exception": false,
          "start_time": "2022-01-31T00:29:47.321801",
          "status": "completed"
        },
        "tags": [],
        "id": "609c70c8",
        "outputId": "015c1fc1-e5cd-4fc0-d121-7f3bf8ca2b05"
      },
      "outputs": [
        {
          "data": {
            "text/plain": [
              "0    615\n",
              "1    185\n",
              "Name: Class/ASD, dtype: int64"
            ]
          },
          "execution_count": 5,
          "metadata": {},
          "output_type": "execute_result"
        }
      ],
      "source": [
        "train['Class/ASD'].value_counts()"
      ]
    },
    {
      "cell_type": "code",
      "execution_count": null,
      "id": "ddf2e24b",
      "metadata": {
        "execution": {
          "iopub.execute_input": "2022-01-31T00:29:47.410519Z",
          "iopub.status.busy": "2022-01-31T00:29:47.409852Z",
          "iopub.status.idle": "2022-01-31T00:29:47.413350Z",
          "shell.execute_reply": "2022-01-31T00:29:47.412769Z",
          "shell.execute_reply.started": "2022-01-31T00:23:02.556102Z"
        },
        "papermill": {
          "duration": 0.034321,
          "end_time": "2022-01-31T00:29:47.413476",
          "exception": false,
          "start_time": "2022-01-31T00:29:47.379155",
          "status": "completed"
        },
        "tags": [],
        "id": "ddf2e24b",
        "outputId": "ea6bce1e-16ff-4af9-b123-fd5e5df3cc1a"
      },
      "outputs": [
        {
          "data": {
            "text/plain": [
              "0    0.76875\n",
              "1    0.23125\n",
              "Name: Class/ASD, dtype: float64"
            ]
          },
          "execution_count": 6,
          "metadata": {},
          "output_type": "execute_result"
        }
      ],
      "source": [
        "train['Class/ASD'].value_counts(normalize=True)"
      ]
    },
    {
      "cell_type": "markdown",
      "id": "f54015b4",
      "metadata": {
        "papermill": {
          "duration": 0.02473,
          "end_time": "2022-01-31T00:29:47.461938",
          "exception": false,
          "start_time": "2022-01-31T00:29:47.437208",
          "status": "completed"
        },
        "tags": [],
        "id": "f54015b4"
      },
      "source": [
        "The target is imbalanced.   "
      ]
    },
    {
      "cell_type": "code",
      "execution_count": null,
      "id": "85857929",
      "metadata": {
        "execution": {
          "iopub.execute_input": "2022-01-31T00:29:47.523076Z",
          "iopub.status.busy": "2022-01-31T00:29:47.522253Z",
          "iopub.status.idle": "2022-01-31T00:29:47.855772Z",
          "shell.execute_reply": "2022-01-31T00:29:47.855230Z",
          "shell.execute_reply.started": "2022-01-31T00:23:02.569359Z"
        },
        "papermill": {
          "duration": 0.370439,
          "end_time": "2022-01-31T00:29:47.855923",
          "exception": false,
          "start_time": "2022-01-31T00:29:47.485484",
          "status": "completed"
        },
        "tags": [],
        "id": "85857929",
        "outputId": "b8423256-fe46-4bb0-bae6-6b579ef2ca5b"
      },
      "outputs": [
        {
          "data": {
            "image/png": "[encoded data removed]",
            "text/plain": [
              "<Figure size 864x576 with 1 Axes>"
            ]
          },
          "metadata": {},
          "output_type": "display_data"
        }
      ],
      "source": [
        "score_features = train.filter(regex='A[0-9]_', axis=1).columns.tolist()\n",
        "train.groupby('Class/ASD')[score_features].mean().T.plot.bar()\n",
        "plt.title('Mean score based on Autism Spectrum Quotient (AQ) 10 item screening tool')\n",
        "plt.xticks(ticks=range(len(score_features)), labels=[x.split('_')[0] for x in score_features], rotation=0);"
      ]
    },
    {
      "cell_type": "code",
      "execution_count": null,
      "id": "18f511d2",
      "metadata": {
        "execution": {
          "iopub.execute_input": "2022-01-31T00:29:47.910459Z",
          "iopub.status.busy": "2022-01-31T00:29:47.909660Z",
          "iopub.status.idle": "2022-01-31T00:29:47.916780Z",
          "shell.execute_reply": "2022-01-31T00:29:47.917296Z",
          "shell.execute_reply.started": "2022-01-31T00:23:02.906841Z"
        },
        "papermill": {
          "duration": 0.035762,
          "end_time": "2022-01-31T00:29:47.917458",
          "exception": false,
          "start_time": "2022-01-31T00:29:47.881696",
          "status": "completed"
        },
        "tags": [],
        "id": "18f511d2",
        "outputId": "a1049a13-fcf2-4ec1-9d5d-37ee3fdb4854"
      },
      "outputs": [
        {
          "data": {
            "text/plain": [
              "A1_Score\n",
              "0    0.086826\n",
              "1    0.334764\n",
              "Name: Class/ASD, dtype: float64"
            ]
          },
          "execution_count": 8,
          "metadata": {},
          "output_type": "execute_result"
        }
      ],
      "source": [
        "train.groupby('A1_Score')['Class/ASD'].mean()"
      ]
    },
    {
      "cell_type": "markdown",
      "id": "fe1f77d5",
      "metadata": {
        "papermill": {
          "duration": 0.024797,
          "end_time": "2022-01-31T00:29:47.967538",
          "exception": false,
          "start_time": "2022-01-31T00:29:47.942741",
          "status": "completed"
        },
        "tags": [],
        "id": "fe1f77d5"
      },
      "source": [
        "Seems that patients with higher scores are more likely to have autism.    "
      ]
    },
    {
      "cell_type": "code",
      "execution_count": null,
      "id": "e30e4a6d",
      "metadata": {
        "execution": {
          "iopub.execute_input": "2022-01-31T00:29:48.022192Z",
          "iopub.status.busy": "2022-01-31T00:29:48.021520Z",
          "iopub.status.idle": "2022-01-31T00:29:48.328128Z",
          "shell.execute_reply": "2022-01-31T00:29:48.327609Z",
          "shell.execute_reply.started": "2022-01-31T00:23:02.918758Z"
        },
        "papermill": {
          "duration": 0.335396,
          "end_time": "2022-01-31T00:29:48.328299",
          "exception": false,
          "start_time": "2022-01-31T00:29:47.992903",
          "status": "completed"
        },
        "tags": [],
        "id": "e30e4a6d",
        "outputId": "6cb777a5-4de5-4bd2-b63c-3f8ba24b58b9"
      },
      "outputs": [
        {
          "data": {
            "image/png": "[encoded data removed]",
            "text/plain": [
              "<Figure size 864x576 with 1 Axes>"
            ]
          },
          "metadata": {},
          "output_type": "display_data"
        }
      ],
      "source": [
        "sns.kdeplot(x='age', data=train[train['Class/ASD'] == 0], shade=True, label='No autism')\n",
        "sns.kdeplot(x='age', data=train[train['Class/ASD'] == 1], shade=True, label='Autism')\n",
        "plt.title('Age of the patient in years')\n",
        "plt.legend();"
      ]
    },
    {
      "cell_type": "markdown",
      "id": "7dd1357b",
      "metadata": {
        "papermill": {
          "duration": 0.025833,
          "end_time": "2022-01-31T00:29:48.382625",
          "exception": false,
          "start_time": "2022-01-31T00:29:48.356792",
          "status": "completed"
        },
        "tags": [],
        "id": "7dd1357b"
      },
      "source": [
        "The difference appears when the age becomes larger.      "
      ]
    },
    {
      "cell_type": "code",
      "execution_count": null,
      "id": "25189c1a",
      "metadata": {
        "execution": {
          "iopub.execute_input": "2022-01-31T00:29:48.438322Z",
          "iopub.status.busy": "2022-01-31T00:29:48.437645Z",
          "iopub.status.idle": "2022-01-31T00:29:48.720543Z",
          "shell.execute_reply": "2022-01-31T00:29:48.721030Z",
          "shell.execute_reply.started": "2022-01-31T00:23:03.210587Z"
        },
        "papermill": {
          "duration": 0.312341,
          "end_time": "2022-01-31T00:29:48.721270",
          "exception": false,
          "start_time": "2022-01-31T00:29:48.408929",
          "status": "completed"
        },
        "tags": [],
        "id": "25189c1a",
        "outputId": "cae65671-1d98-49a1-ad68-75fdfcd7a2c4"
      },
      "outputs": [
        {
          "data": {
            "image/png": "[encoded data removed]",
            "text/plain": [
              "<Figure size 864x576 with 1 Axes>"
            ]
          },
          "metadata": {},
          "output_type": "display_data"
        }
      ],
      "source": [
        "sns.kdeplot(x='result', data=train[train['Class/ASD'] == 0], shade=True, label='No autism')\n",
        "sns.kdeplot(x='result', data=train[train['Class/ASD'] == 1], shade=True, label='Autism')\n",
        "plt.title('Score for AQ1-10 screening test')\n",
        "plt.legend();"
      ]
    },
    {
      "cell_type": "markdown",
      "id": "feb679b5",
      "metadata": {
        "papermill": {
          "duration": 0.029335,
          "end_time": "2022-01-31T00:29:48.779996",
          "exception": false,
          "start_time": "2022-01-31T00:29:48.750661",
          "status": "completed"
        },
        "tags": [],
        "id": "feb679b5"
      },
      "source": [
        "The distribution of result for pacients without autism is pretty simetric, with mean close to 5. In the other way, most of the pacients with autism shows bigger result values.     "
      ]
    },
    {
      "cell_type": "code",
      "execution_count": null,
      "id": "0080d366",
      "metadata": {
        "execution": {
          "iopub.execute_input": "2022-01-31T00:29:48.863434Z",
          "iopub.status.busy": "2022-01-31T00:29:48.845090Z",
          "iopub.status.idle": "2022-01-31T00:29:49.119698Z",
          "shell.execute_reply": "2022-01-31T00:29:49.119187Z",
          "shell.execute_reply.started": "2022-01-31T00:23:03.526923Z"
        },
        "papermill": {
          "duration": 0.310347,
          "end_time": "2022-01-31T00:29:49.119836",
          "exception": false,
          "start_time": "2022-01-31T00:29:48.809489",
          "status": "completed"
        },
        "tags": [],
        "id": "0080d366",
        "outputId": "f6cce8c6-a008-41fe-f3c0-32d97db71051"
      },
      "outputs": [
        {
          "data": {
            "image/png": "[encoded data removed]",
            "text/plain": [
              "<Figure size 864x576 with 1 Axes>"
            ]
          },
          "metadata": {},
          "output_type": "display_data"
        }
      ],
      "source": [
        "train.groupby('ethnicity')['Class/ASD'].mean().sort_values().plot.bar()\n",
        "plt.title('Ethnicity of the patient')\n",
        "plt.xticks(rotation=30);"
      ]
    },
    {
      "cell_type": "markdown",
      "id": "7d7e8b9e",
      "metadata": {
        "execution": {
          "iopub.execute_input": "2022-01-31T00:07:16.387491Z",
          "iopub.status.busy": "2022-01-31T00:07:16.387190Z",
          "iopub.status.idle": "2022-01-31T00:07:16.393867Z",
          "shell.execute_reply": "2022-01-31T00:07:16.392815Z",
          "shell.execute_reply.started": "2022-01-31T00:07:16.387457Z"
        },
        "papermill": {
          "duration": 0.029762,
          "end_time": "2022-01-31T00:29:49.179566",
          "exception": false,
          "start_time": "2022-01-31T00:29:49.149804",
          "status": "completed"
        },
        "tags": [],
        "id": "7d7e8b9e"
      },
      "source": [
        "Curious that half of White-European in this dataset was observed with autism.  "
      ]
    },
    {
      "cell_type": "code",
      "execution_count": null,
      "id": "bb273aa9",
      "metadata": {
        "execution": {
          "iopub.execute_input": "2022-01-31T00:29:49.263204Z",
          "iopub.status.busy": "2022-01-31T00:29:49.262162Z",
          "iopub.status.idle": "2022-01-31T00:29:49.445238Z",
          "shell.execute_reply": "2022-01-31T00:29:49.445729Z",
          "shell.execute_reply.started": "2022-01-31T00:23:03.816315Z"
        },
        "papermill": {
          "duration": 0.236318,
          "end_time": "2022-01-31T00:29:49.445895",
          "exception": false,
          "start_time": "2022-01-31T00:29:49.209577",
          "status": "completed"
        },
        "tags": [],
        "id": "bb273aa9",
        "outputId": "6333b665-6d1d-4dac-bf30-84fea101498d"
      },
      "outputs": [
        {
          "data": {
            "image/png": "[encoded data removed]",
            "text/plain": [
              "<Figure size 864x576 with 1 Axes>"
            ]
          },
          "metadata": {},
          "output_type": "display_data"
        }
      ],
      "source": [
        "train.groupby('austim')['Class/ASD'].mean().sort_values().plot.bar()\n",
        "plt.title('Whether an immediate family member has been diagnosed with autism')\n",
        "plt.xticks(rotation=0);"
      ]
    },
    {
      "cell_type": "markdown",
      "id": "d181a4ce",
      "metadata": {
        "papermill": {
          "duration": 0.029989,
          "end_time": "2022-01-31T00:29:49.505752",
          "exception": false,
          "start_time": "2022-01-31T00:29:49.475763",
          "status": "completed"
        },
        "tags": [],
        "id": "d181a4ce"
      },
      "source": [
        "Patients with an immediate family that has autism seems to be more likely to has autism as well.   "
      ]
    },
    {
      "cell_type": "code",
      "execution_count": null,
      "id": "df7884f9",
      "metadata": {
        "execution": {
          "iopub.execute_input": "2022-01-31T00:29:49.589156Z",
          "iopub.status.busy": "2022-01-31T00:29:49.586844Z",
          "iopub.status.idle": "2022-01-31T00:29:49.801713Z",
          "shell.execute_reply": "2022-01-31T00:29:49.802248Z",
          "shell.execute_reply.started": "2022-01-31T00:23:04.037232Z"
        },
        "papermill": {
          "duration": 0.266479,
          "end_time": "2022-01-31T00:29:49.802428",
          "exception": false,
          "start_time": "2022-01-31T00:29:49.535949",
          "status": "completed"
        },
        "tags": [],
        "id": "df7884f9",
        "outputId": "27ca4e6f-a6a2-428c-bfa0-ea04d7212fd2"
      },
      "outputs": [
        {
          "data": {
            "image/png": "[encoded data removed]",
            "text/plain": [
              "<Figure size 864x576 with 1 Axes>"
            ]
          },
          "metadata": {},
          "output_type": "display_data"
        }
      ],
      "source": [
        "train.groupby('relation')['Class/ASD'].mean().sort_values().plot.bar()\n",
        "plt.title('Relation of patient who completed the test')\n",
        "plt.xticks(rotation=0);"
      ]
    },
    {
      "cell_type": "code",
      "execution_count": null,
      "id": "17cf6882",
      "metadata": {
        "execution": {
          "iopub.execute_input": "2022-01-31T00:29:49.868974Z",
          "iopub.status.busy": "2022-01-31T00:29:49.867914Z",
          "iopub.status.idle": "2022-01-31T00:29:50.076037Z",
          "shell.execute_reply": "2022-01-31T00:29:50.076580Z",
          "shell.execute_reply.started": "2022-01-31T00:23:04.284463Z"
        },
        "papermill": {
          "duration": 0.242887,
          "end_time": "2022-01-31T00:29:50.076761",
          "exception": false,
          "start_time": "2022-01-31T00:29:49.833874",
          "status": "completed"
        },
        "tags": [],
        "id": "17cf6882",
        "outputId": "016a1bd7-5a31-49a5-fbc3-b15a903ca39b"
      },
      "outputs": [
        {
          "data": {
            "image/png": "[encoded data removed]",
            "text/plain": [
              "<Figure size 864x576 with 1 Axes>"
            ]
          },
          "metadata": {},
          "output_type": "display_data"
        }
      ],
      "source": [
        "train.groupby('jaundice')['Class/ASD'].mean().sort_values().plot.bar()\n",
        "plt.title('Whether the patient had jaundice at the time of birth')\n",
        "plt.xticks(rotation=0);"
      ]
    },
    {
      "cell_type": "markdown",
      "id": "ea7411f9",
      "metadata": {
        "papermill": {
          "duration": 0.03272,
          "end_time": "2022-01-31T00:29:50.142143",
          "exception": false,
          "start_time": "2022-01-31T00:29:50.109423",
          "status": "completed"
        },
        "tags": [],
        "id": "ea7411f9"
      },
      "source": [
        "## Training"
      ]
    },
    {
      "cell_type": "code",
      "execution_count": null,
      "id": "a7a38715",
      "metadata": {
        "execution": {
          "iopub.execute_input": "2022-01-31T00:29:50.212445Z",
          "iopub.status.busy": "2022-01-31T00:29:50.211814Z",
          "iopub.status.idle": "2022-01-31T00:29:50.444209Z",
          "shell.execute_reply": "2022-01-31T00:29:50.444690Z",
          "shell.execute_reply.started": "2022-01-31T00:23:04.505681Z"
        },
        "papermill": {
          "duration": 0.270704,
          "end_time": "2022-01-31T00:29:50.444878",
          "exception": false,
          "start_time": "2022-01-31T00:29:50.174174",
          "status": "completed"
        },
        "tags": [],
        "id": "a7a38715"
      },
      "outputs": [],
      "source": [
        "from sklearn.model_selection import StratifiedKFold\n",
        "from sklearn.linear_model import LogisticRegression\n",
        "from sklearn import metrics"
      ]
    },
    {
      "cell_type": "code",
      "execution_count": null,
      "id": "e5b99a1a",
      "metadata": {
        "execution": {
          "iopub.execute_input": "2022-01-31T00:29:50.513213Z",
          "iopub.status.busy": "2022-01-31T00:29:50.512551Z",
          "iopub.status.idle": "2022-01-31T00:29:50.522030Z",
          "shell.execute_reply": "2022-01-31T00:29:50.522689Z",
          "shell.execute_reply.started": "2022-01-31T00:23:04.549252Z"
        },
        "papermill": {
          "duration": 0.045329,
          "end_time": "2022-01-31T00:29:50.522869",
          "exception": false,
          "start_time": "2022-01-31T00:29:50.477540",
          "status": "completed"
        },
        "tags": [],
        "id": "e5b99a1a"
      },
      "outputs": [],
      "source": [
        "# encode binary\n",
        "binary_map = {'no': 0, 'yes': 1}\n",
        "train['jaundice'] = train['jaundice'].map(binary_map)\n",
        "train['austim'] = train['austim'].map(binary_map)\n",
        "test['jaundice'] = test['jaundice'].map(binary_map)\n",
        "test['austim'] = test['austim'].map(binary_map)"
      ]
    },
    {
      "cell_type": "code",
      "execution_count": null,
      "id": "0e36aa65",
      "metadata": {
        "execution": {
          "iopub.execute_input": "2022-01-31T00:29:50.602914Z",
          "iopub.status.busy": "2022-01-31T00:29:50.601824Z",
          "iopub.status.idle": "2022-01-31T00:29:50.809810Z",
          "shell.execute_reply": "2022-01-31T00:29:50.809020Z",
          "shell.execute_reply.started": "2022-01-31T00:23:04.565133Z"
        },
        "papermill": {
          "duration": 0.254397,
          "end_time": "2022-01-31T00:29:50.809992",
          "exception": false,
          "start_time": "2022-01-31T00:29:50.555595",
          "status": "completed"
        },
        "tags": [],
        "id": "0e36aa65",
        "outputId": "220879c8-1ba4-4407-a4d8-379183e348e7"
      },
      "outputs": [
        {
          "name": "stdout",
          "output_type": "stream",
          "text": [
            "FOLD: 0\n",
            "              precision    recall  f1-score   support\n",
            "\n",
            "           0       0.92      0.90      0.91       123\n",
            "           1       0.69      0.73      0.71        37\n",
            "\n",
            "    accuracy                           0.86       160\n",
            "   macro avg       0.80      0.82      0.81       160\n",
            "weighted avg       0.87      0.86      0.86       160\n",
            "\n",
            "AUC: 0.9026587563172929\n",
            "\n",
            "FOLD: 1\n",
            "              precision    recall  f1-score   support\n",
            "\n",
            "           0       0.89      0.95      0.92       123\n",
            "           1       0.79      0.62      0.70        37\n",
            "\n",
            "    accuracy                           0.88       160\n",
            "   macro avg       0.84      0.79      0.81       160\n",
            "weighted avg       0.87      0.88      0.87       160\n",
            "\n",
            "AUC: 0.931223906833663\n",
            "\n",
            "FOLD: 2\n",
            "              precision    recall  f1-score   support\n",
            "\n",
            "           0       0.90      0.93      0.92       123\n",
            "           1       0.75      0.65      0.70        37\n",
            "\n",
            "    accuracy                           0.87       160\n",
            "   macro avg       0.82      0.79      0.81       160\n",
            "weighted avg       0.86      0.87      0.87       160\n",
            "\n",
            "AUC: 0.911008569545155\n",
            "\n",
            "FOLD: 3\n",
            "              precision    recall  f1-score   support\n",
            "\n",
            "           0       0.88      0.93      0.91       123\n",
            "           1       0.73      0.59      0.66        37\n",
            "\n",
            "    accuracy                           0.86       160\n",
            "   macro avg       0.81      0.76      0.78       160\n",
            "weighted avg       0.85      0.86      0.85       160\n",
            "\n",
            "AUC: 0.895187870797627\n",
            "\n",
            "FOLD: 4\n",
            "              precision    recall  f1-score   support\n",
            "\n",
            "           0       0.91      0.92      0.91       123\n",
            "           1       0.72      0.70      0.71        37\n",
            "\n",
            "    accuracy                           0.87       160\n",
            "   macro avg       0.82      0.81      0.81       160\n",
            "weighted avg       0.87      0.87      0.87       160\n",
            "\n",
            "AUC: 0.9244122170951439\n",
            "\n",
            "------------------------------\n",
            "Mean: 0.9128982641177764\n",
            "Std: 0.013345237287090157\n"
          ]
        }
      ],
      "source": [
        "features = [\n",
        "    *score_features,\n",
        "    'age',\n",
        "    'jaundice',\n",
        "    'austim',\n",
        "    'result'\n",
        "]\n",
        "\n",
        "aucs = []\n",
        "df_sub = test[['ID']].copy()\n",
        "\n",
        "n_splits = 5\n",
        "kf = StratifiedKFold(n_splits=5, shuffle=True, random_state=42)\n",
        "for fold, (tr, val) in enumerate(kf.split(train[features], train['Class/ASD'])):\n",
        "    print('FOLD:', fold)\n",
        "    \n",
        "    # split\n",
        "    X_train = train.loc[tr, features]\n",
        "    y_train = train.loc[tr, 'Class/ASD']\n",
        "    X_val = train.loc[val, features]\n",
        "    y_val = train.loc[val, 'Class/ASD']\n",
        "    X_test = test[features]\n",
        "    \n",
        "    # fit\n",
        "    model = LogisticRegression(\n",
        "        random_state=1\n",
        "    )\n",
        "    model.fit(X_train, y_train)\n",
        "    \n",
        "    # predict\n",
        "    preds = model.predict(X_val)\n",
        "    probs = model.predict_proba(X_val)[:, 1]\n",
        "    \n",
        "    # predict on test set\n",
        "    df_sub[f'fold_{fold}'] = model.predict_proba(X_test)[:, 1]\n",
        "    \n",
        "    # metrics\n",
        "    report = metrics.classification_report(y_val, preds)\n",
        "    auc = metrics.roc_auc_score(y_val, probs)\n",
        "    aucs.append(auc)\n",
        "    print(report)\n",
        "    print('AUC:', auc)\n",
        "    print()\n",
        "    \n",
        "print('-' * 30)\n",
        "print('Mean:', np.mean(aucs))\n",
        "print('Std:', np.std(aucs))"
      ]
    },
    {
      "cell_type": "markdown",
      "id": "c07028ed",
      "metadata": {
        "execution": {
          "iopub.execute_input": "2022-01-31T00:23:09.684421Z",
          "iopub.status.busy": "2022-01-31T00:23:09.684109Z",
          "iopub.status.idle": "2022-01-31T00:23:09.704658Z",
          "shell.execute_reply": "2022-01-31T00:23:09.703804Z",
          "shell.execute_reply.started": "2022-01-31T00:23:09.684390Z"
        },
        "papermill": {
          "duration": 0.031705,
          "end_time": "2022-01-31T00:29:50.874628",
          "exception": false,
          "start_time": "2022-01-31T00:29:50.842923",
          "status": "completed"
        },
        "tags": [],
        "id": "c07028ed"
      },
      "source": [
        "## Checking submission"
      ]
    },
    {
      "cell_type": "code",
      "execution_count": null,
      "id": "c7bbd65c",
      "metadata": {
        "execution": {
          "iopub.execute_input": "2022-01-31T00:29:50.943139Z",
          "iopub.status.busy": "2022-01-31T00:29:50.942120Z",
          "iopub.status.idle": "2022-01-31T00:29:50.960688Z",
          "shell.execute_reply": "2022-01-31T00:29:50.960198Z",
          "shell.execute_reply.started": "2022-01-31T00:24:04.642269Z"
        },
        "papermill": {
          "duration": 0.053432,
          "end_time": "2022-01-31T00:29:50.960836",
          "exception": false,
          "start_time": "2022-01-31T00:29:50.907404",
          "status": "completed"
        },
        "tags": [],
        "id": "c7bbd65c",
        "outputId": "a336cbf4-a596-4218-c3c5-fee9d59c0392"
      },
      "outputs": [
        {
          "data": {
            "text/html": [
              "<div>\n",
              "<style scoped>\n",
              "    .dataframe tbody tr th:only-of-type {\n",
              "        vertical-align: middle;\n",
              "    }\n",
              "\n",
              "    .dataframe tbody tr th {\n",
              "        vertical-align: top;\n",
              "    }\n",
              "\n",
              "    .dataframe thead th {\n",
              "        text-align: right;\n",
              "    }\n",
              "</style>\n",
              "<table border=\"1\" class=\"dataframe\">\n",
              "  <thead>\n",
              "    <tr style=\"text-align: right;\">\n",
              "      <th></th>\n",
              "      <th>ID</th>\n",
              "      <th>fold_0</th>\n",
              "      <th>fold_1</th>\n",
              "      <th>fold_2</th>\n",
              "      <th>fold_3</th>\n",
              "      <th>fold_4</th>\n",
              "      <th>Class/ASD</th>\n",
              "    </tr>\n",
              "  </thead>\n",
              "  <tbody>\n",
              "    <tr>\n",
              "      <th>0</th>\n",
              "      <td>1</td>\n",
              "      <td>0.005694</td>\n",
              "      <td>0.008954</td>\n",
              "      <td>0.009089</td>\n",
              "      <td>0.004857</td>\n",
              "      <td>0.008417</td>\n",
              "      <td>0.007402</td>\n",
              "    </tr>\n",
              "    <tr>\n",
              "      <th>1</th>\n",
              "      <td>2</td>\n",
              "      <td>0.029838</td>\n",
              "      <td>0.043144</td>\n",
              "      <td>0.051574</td>\n",
              "      <td>0.028707</td>\n",
              "      <td>0.049595</td>\n",
              "      <td>0.040572</td>\n",
              "    </tr>\n",
              "    <tr>\n",
              "      <th>2</th>\n",
              "      <td>3</td>\n",
              "      <td>0.028773</td>\n",
              "      <td>0.075092</td>\n",
              "      <td>0.076516</td>\n",
              "      <td>0.025263</td>\n",
              "      <td>0.061484</td>\n",
              "      <td>0.053426</td>\n",
              "    </tr>\n",
              "    <tr>\n",
              "      <th>3</th>\n",
              "      <td>4</td>\n",
              "      <td>0.549361</td>\n",
              "      <td>0.476600</td>\n",
              "      <td>0.575546</td>\n",
              "      <td>0.510669</td>\n",
              "      <td>0.555295</td>\n",
              "      <td>0.533494</td>\n",
              "    </tr>\n",
              "    <tr>\n",
              "      <th>4</th>\n",
              "      <td>5</td>\n",
              "      <td>0.232060</td>\n",
              "      <td>0.245349</td>\n",
              "      <td>0.194136</td>\n",
              "      <td>0.216777</td>\n",
              "      <td>0.248313</td>\n",
              "      <td>0.227327</td>\n",
              "    </tr>\n",
              "    <tr>\n",
              "      <th>...</th>\n",
              "      <td>...</td>\n",
              "      <td>...</td>\n",
              "      <td>...</td>\n",
              "      <td>...</td>\n",
              "      <td>...</td>\n",
              "      <td>...</td>\n",
              "      <td>...</td>\n",
              "    </tr>\n",
              "    <tr>\n",
              "      <th>195</th>\n",
              "      <td>196</td>\n",
              "      <td>0.034926</td>\n",
              "      <td>0.030876</td>\n",
              "      <td>0.042468</td>\n",
              "      <td>0.016397</td>\n",
              "      <td>0.035786</td>\n",
              "      <td>0.032091</td>\n",
              "    </tr>\n",
              "    <tr>\n",
              "      <th>196</th>\n",
              "      <td>197</td>\n",
              "      <td>0.415449</td>\n",
              "      <td>0.341393</td>\n",
              "      <td>0.414766</td>\n",
              "      <td>0.348219</td>\n",
              "      <td>0.410564</td>\n",
              "      <td>0.386078</td>\n",
              "    </tr>\n",
              "    <tr>\n",
              "      <th>197</th>\n",
              "      <td>198</td>\n",
              "      <td>0.438488</td>\n",
              "      <td>0.483360</td>\n",
              "      <td>0.508910</td>\n",
              "      <td>0.501542</td>\n",
              "      <td>0.546994</td>\n",
              "      <td>0.495859</td>\n",
              "    </tr>\n",
              "    <tr>\n",
              "      <th>198</th>\n",
              "      <td>199</td>\n",
              "      <td>0.876511</td>\n",
              "      <td>0.883451</td>\n",
              "      <td>0.876939</td>\n",
              "      <td>0.888970</td>\n",
              "      <td>0.881677</td>\n",
              "      <td>0.881509</td>\n",
              "    </tr>\n",
              "    <tr>\n",
              "      <th>199</th>\n",
              "      <td>200</td>\n",
              "      <td>0.302420</td>\n",
              "      <td>0.411316</td>\n",
              "      <td>0.401278</td>\n",
              "      <td>0.449799</td>\n",
              "      <td>0.351293</td>\n",
              "      <td>0.383221</td>\n",
              "    </tr>\n",
              "  </tbody>\n",
              "</table>\n",
              "<p>200 rows × 7 columns</p>\n",
              "</div>"
            ],
            "text/plain": [
              "      ID    fold_0    fold_1    fold_2    fold_3    fold_4  Class/ASD\n",
              "0      1  0.005694  0.008954  0.009089  0.004857  0.008417   0.007402\n",
              "1      2  0.029838  0.043144  0.051574  0.028707  0.049595   0.040572\n",
              "2      3  0.028773  0.075092  0.076516  0.025263  0.061484   0.053426\n",
              "3      4  0.549361  0.476600  0.575546  0.510669  0.555295   0.533494\n",
              "4      5  0.232060  0.245349  0.194136  0.216777  0.248313   0.227327\n",
              "..   ...       ...       ...       ...       ...       ...        ...\n",
              "195  196  0.034926  0.030876  0.042468  0.016397  0.035786   0.032091\n",
              "196  197  0.415449  0.341393  0.414766  0.348219  0.410564   0.386078\n",
              "197  198  0.438488  0.483360  0.508910  0.501542  0.546994   0.495859\n",
              "198  199  0.876511  0.883451  0.876939  0.888970  0.881677   0.881509\n",
              "199  200  0.302420  0.411316  0.401278  0.449799  0.351293   0.383221\n",
              "\n",
              "[200 rows x 7 columns]"
            ]
          },
          "execution_count": 18,
          "metadata": {},
          "output_type": "execute_result"
        }
      ],
      "source": [
        "df_sub['Class/ASD'] = df_sub.filter(regex='fold_', axis=1).mean(axis=1)\n",
        "df_sub"
      ]
    },
    {
      "cell_type": "code",
      "execution_count": null,
      "id": "215ddbe2",
      "metadata": {
        "execution": {
          "iopub.execute_input": "2022-01-31T00:29:51.053641Z",
          "iopub.status.busy": "2022-01-31T00:29:51.033272Z",
          "iopub.status.idle": "2022-01-31T00:29:51.342609Z",
          "shell.execute_reply": "2022-01-31T00:29:51.341908Z",
          "shell.execute_reply.started": "2022-01-31T00:27:34.722841Z"
        },
        "papermill": {
          "duration": 0.348673,
          "end_time": "2022-01-31T00:29:51.342753",
          "exception": false,
          "start_time": "2022-01-31T00:29:50.994080",
          "status": "completed"
        },
        "tags": [],
        "id": "215ddbe2",
        "outputId": "3266157d-b096-49ee-84e9-52684a26b22c"
      },
      "outputs": [
        {
          "data": {
            "image/png": "[encoded data removed]",
            "text/plain": [
              "<Figure size 864x576 with 1 Axes>"
            ]
          },
          "metadata": {},
          "output_type": "display_data"
        }
      ],
      "source": [
        "train['Class/ASD'].plot.hist(density=True, alpha=0.5, label='Train')\n",
        "df_sub['Class/ASD'].plot.hist(density=True, alpha=0.5, label='Predictions')\n",
        "plt.legend()\n",
        "plt.ylabel('Density');"
      ]
    },
    {
      "cell_type": "markdown",
      "id": "b69f0e0e",
      "metadata": {
        "papermill": {
          "duration": 0.034126,
          "end_time": "2022-01-31T00:29:51.410598",
          "exception": false,
          "start_time": "2022-01-31T00:29:51.376472",
          "status": "completed"
        },
        "tags": [],
        "id": "b69f0e0e"
      },
      "source": [
        "We expect more density on the negative label (no autism) due the target imbalance that was observed in the training set, so this seems ok.   "
      ]
    },
    {
      "cell_type": "code",
      "execution_count": null,
      "id": "9c33558b",
      "metadata": {
        "execution": {
          "iopub.execute_input": "2022-01-31T00:29:51.483100Z",
          "iopub.status.busy": "2022-01-31T00:29:51.482054Z",
          "iopub.status.idle": "2022-01-31T00:29:51.491024Z",
          "shell.execute_reply": "2022-01-31T00:29:51.491609Z",
          "shell.execute_reply.started": "2022-01-31T00:26:25.664122Z"
        },
        "papermill": {
          "duration": 0.047093,
          "end_time": "2022-01-31T00:29:51.491779",
          "exception": false,
          "start_time": "2022-01-31T00:29:51.444686",
          "status": "completed"
        },
        "tags": [],
        "id": "9c33558b"
      },
      "outputs": [],
      "source": [
        "df_sub[['ID', 'Class/ASD']].to_csv('submission.csv', index=False)"
      ]
    },
    {
      "cell_type": "code",
      "execution_count": null,
      "id": "9d744b2b",
      "metadata": {
        "execution": {
          "iopub.execute_input": "2022-01-31T00:29:51.563736Z",
          "iopub.status.busy": "2022-01-31T00:29:51.562779Z",
          "iopub.status.idle": "2022-01-31T00:29:52.264986Z",
          "shell.execute_reply": "2022-01-31T00:29:52.265550Z",
          "shell.execute_reply.started": "2022-01-31T00:26:31.301978Z"
        },
        "papermill": {
          "duration": 0.740227,
          "end_time": "2022-01-31T00:29:52.265725",
          "exception": false,
          "start_time": "2022-01-31T00:29:51.525498",
          "status": "completed"
        },
        "tags": [],
        "id": "9d744b2b",
        "outputId": "b6ab5af7-d5e7-40f1-bc1c-1d10a42100af"
      },
      "outputs": [
        {
          "name": "stdout",
          "output_type": "stream",
          "text": [
            "ID,Class/ASD\r\n",
            "1,0.007402232552477675\r\n",
            "2,0.04057158017656111\r\n",
            "3,0.05342554470995049\r\n",
            "4,0.5334940515810971\r\n",
            "5,0.22732722853224363\r\n",
            "6,0.01357434894805854\r\n",
            "7,0.8310881951518665\r\n",
            "8,0.01449512083249376\r\n",
            "9,0.020087077791285407\r\n"
          ]
        }
      ],
      "source": [
        "!head submission.csv"
      ]
    }
  ],
  "metadata": {
    "kernelspec": {
      "display_name": "Python 3",
      "language": "python",
      "name": "python3"
    },
    "language_info": {
      "codemirror_mode": {
        "name": "ipython",
        "version": 3
      },
      "file_extension": ".py",
      "mimetype": "text/x-python",
      "name": "python",
      "nbconvert_exporter": "python",
      "pygments_lexer": "ipython3",
      "version": "3.7.12"
    },
    "papermill": {
      "default_parameters": {},
      "duration": 17.546277,
      "end_time": "2022-01-31T00:29:53.113245",
      "environment_variables": {},
      "exception": null,
      "input_path": "__notebook__.ipynb",
      "output_path": "__notebook__.ipynb",
      "parameters": {},
      "start_time": "2022-01-31T00:29:35.566968",
      "version": "2.3.3"
    },
    "colab": {
      "name": "Autism Detection and Prediction",
      "provenance": [],
      "include_colab_link": true
    }
  },
  "nbformat": 4,
  "nbformat_minor": 5
}