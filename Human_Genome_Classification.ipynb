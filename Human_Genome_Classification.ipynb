{
  "nbformat": 4,
  "nbformat_minor": 0,
  "metadata": {
    "colab": {
      "name": "Human Genome Classification",
      "provenance": [],
      "authorship_tag": "ABX9TyNEAlW4SDjdF6E+spIpl33a",
      "include_colab_link": true
    },
    "kernelspec": {
      "name": "python3",
      "display_name": "Python 3"
    },
    "language_info": {
      "name": "python"
    }
  },
  "cells": [
    {
      "cell_type": "markdown",
      "metadata": {
        "id": "view-in-github",
        "colab_type": "text"
      },
      "source": [
        "<a href=\"https://colab.research.google.com/github/DataMinati/Super-Notebooks-100/blob/main/Human_Genome_Classification.ipynb\" target=\"_parent\"><img src=\"https://colab.research.google.com/assets/colab-badge.svg\" alt=\"Open In Colab\"/></a>"
      ]
    },
    {
      "cell_type": "code",
      "source": [
        "!pip install Bio"
      ],
      "metadata": {
        "colab": {
          "base_uri": "https://localhost:8080/"
        },
        "id": "XJZn28xP79YX",
        "outputId": "7f20e88f-bad8-4a8e-b464-619900b12090"
      },
      "execution_count": 2,
      "outputs": [
        {
          "output_type": "stream",
          "name": "stdout",
          "text": [
            "Collecting Bio\n",
            "  Downloading bio-1.3.3-py3-none-any.whl (271 kB)\n",
            "\u001b[?25l\r\u001b[K     |█▏                              | 10 kB 25.1 MB/s eta 0:00:01\r\u001b[K     |██▍                             | 20 kB 11.6 MB/s eta 0:00:01\r\u001b[K     |███▋                            | 30 kB 9.0 MB/s eta 0:00:01\r\u001b[K     |████▉                           | 40 kB 8.1 MB/s eta 0:00:01\r\u001b[K     |██████                          | 51 kB 5.0 MB/s eta 0:00:01\r\u001b[K     |███████▎                        | 61 kB 5.2 MB/s eta 0:00:01\r\u001b[K     |████████▍                       | 71 kB 5.3 MB/s eta 0:00:01\r\u001b[K     |█████████▋                      | 81 kB 6.0 MB/s eta 0:00:01\r\u001b[K     |██████████▉                     | 92 kB 4.7 MB/s eta 0:00:01\r\u001b[K     |████████████                    | 102 kB 5.1 MB/s eta 0:00:01\r\u001b[K     |█████████████▎                  | 112 kB 5.1 MB/s eta 0:00:01\r\u001b[K     |██████████████▌                 | 122 kB 5.1 MB/s eta 0:00:01\r\u001b[K     |███████████████▊                | 133 kB 5.1 MB/s eta 0:00:01\r\u001b[K     |████████████████▉               | 143 kB 5.1 MB/s eta 0:00:01\r\u001b[K     |██████████████████              | 153 kB 5.1 MB/s eta 0:00:01\r\u001b[K     |███████████████████▎            | 163 kB 5.1 MB/s eta 0:00:01\r\u001b[K     |████████████████████▌           | 174 kB 5.1 MB/s eta 0:00:01\r\u001b[K     |█████████████████████▊          | 184 kB 5.1 MB/s eta 0:00:01\r\u001b[K     |███████████████████████         | 194 kB 5.1 MB/s eta 0:00:01\r\u001b[K     |████████████████████████▏       | 204 kB 5.1 MB/s eta 0:00:01\r\u001b[K     |█████████████████████████▎      | 215 kB 5.1 MB/s eta 0:00:01\r\u001b[K     |██████████████████████████▌     | 225 kB 5.1 MB/s eta 0:00:01\r\u001b[K     |███████████████████████████▊    | 235 kB 5.1 MB/s eta 0:00:01\r\u001b[K     |█████████████████████████████   | 245 kB 5.1 MB/s eta 0:00:01\r\u001b[K     |██████████████████████████████▏ | 256 kB 5.1 MB/s eta 0:00:01\r\u001b[K     |███████████████████████████████▍| 266 kB 5.1 MB/s eta 0:00:01\r\u001b[K     |████████████████████████████████| 271 kB 5.1 MB/s \n",
            "\u001b[?25hRequirement already satisfied: requests in /usr/local/lib/python3.7/dist-packages (from Bio) (2.23.0)\n",
            "Requirement already satisfied: tqdm in /usr/local/lib/python3.7/dist-packages (from Bio) (4.62.3)\n",
            "Collecting mygene\n",
            "  Downloading mygene-3.2.2-py2.py3-none-any.whl (5.4 kB)\n",
            "Collecting biopython>=1.79\n",
            "  Downloading biopython-1.79-cp37-cp37m-manylinux_2_5_x86_64.manylinux1_x86_64.whl (2.3 MB)\n",
            "\u001b[K     |████████████████████████████████| 2.3 MB 65.6 MB/s \n",
            "\u001b[?25hRequirement already satisfied: numpy in /usr/local/lib/python3.7/dist-packages (from biopython>=1.79->Bio) (1.19.5)\n",
            "Collecting biothings-client>=0.2.6\n",
            "  Downloading biothings_client-0.2.6-py2.py3-none-any.whl (37 kB)\n",
            "Requirement already satisfied: certifi>=2017.4.17 in /usr/local/lib/python3.7/dist-packages (from requests->Bio) (2021.10.8)\n",
            "Requirement already satisfied: chardet<4,>=3.0.2 in /usr/local/lib/python3.7/dist-packages (from requests->Bio) (3.0.4)\n",
            "Requirement already satisfied: urllib3!=1.25.0,!=1.25.1,<1.26,>=1.21.1 in /usr/local/lib/python3.7/dist-packages (from requests->Bio) (1.24.3)\n",
            "Requirement already satisfied: idna<3,>=2.5 in /usr/local/lib/python3.7/dist-packages (from requests->Bio) (2.10)\n",
            "Installing collected packages: biothings-client, mygene, biopython, Bio\n",
            "Successfully installed Bio-1.3.3 biopython-1.79 biothings-client-0.2.6 mygene-3.2.2\n"
          ]
        }
      ]
    },
    {
      "cell_type": "code",
      "execution_count": 3,
      "metadata": {
        "id": "t8UhmFDM7wjw"
      },
      "outputs": [],
      "source": [
        "import pandas as pd\n",
        "import numpy as np\n",
        "import Bio\n",
        "import matplotlib.pyplot as plt\n",
        "%matplotlib inline\n",
        "import seaborn as sns\n",
        "sns.set()"
      ]
    },
    {
      "cell_type": "code",
      "source": [
        "data = pd.read_table('https://raw.githubusercontent.com/MainakRepositor/Datasets-/master/human_genome.txt')\n",
        "data.head()"
      ],
      "metadata": {
        "colab": {
          "base_uri": "https://localhost:8080/",
          "height": 206
        },
        "id": "r64PHhLW73dt",
        "outputId": "3d8c672e-882a-4437-9ee0-811368cd9459"
      },
      "execution_count": 6,
      "outputs": [
        {
          "output_type": "execute_result",
          "data": {
            "text/html": [
              "\n",
              "  <div id=\"df-25e8e510-f7cd-44d8-b02f-bd92801db3a7\">\n",
              "    <div class=\"colab-df-container\">\n",
              "      <div>\n",
              "<style scoped>\n",
              "    .dataframe tbody tr th:only-of-type {\n",
              "        vertical-align: middle;\n",
              "    }\n",
              "\n",
              "    .dataframe tbody tr th {\n",
              "        vertical-align: top;\n",
              "    }\n",
              "\n",
              "    .dataframe thead th {\n",
              "        text-align: right;\n",
              "    }\n",
              "</style>\n",
              "<table border=\"1\" class=\"dataframe\">\n",
              "  <thead>\n",
              "    <tr style=\"text-align: right;\">\n",
              "      <th></th>\n",
              "      <th>sequence</th>\n",
              "      <th>class</th>\n",
              "    </tr>\n",
              "  </thead>\n",
              "  <tbody>\n",
              "    <tr>\n",
              "      <th>0</th>\n",
              "      <td>ATGCCCCAACTAAATACTACCGTATGGCCCACCATAATTACCCCCA...</td>\n",
              "      <td>4</td>\n",
              "    </tr>\n",
              "    <tr>\n",
              "      <th>1</th>\n",
              "      <td>ATGAACGAAAATCTGTTCGCTTCATTCATTGCCCCCACAATCCTAG...</td>\n",
              "      <td>4</td>\n",
              "    </tr>\n",
              "    <tr>\n",
              "      <th>2</th>\n",
              "      <td>ATGTGTGGCATTTGGGCGCTGTTTGGCAGTGATGATTGCCTTTCTG...</td>\n",
              "      <td>3</td>\n",
              "    </tr>\n",
              "    <tr>\n",
              "      <th>3</th>\n",
              "      <td>ATGTGTGGCATTTGGGCGCTGTTTGGCAGTGATGATTGCCTTTCTG...</td>\n",
              "      <td>3</td>\n",
              "    </tr>\n",
              "    <tr>\n",
              "      <th>4</th>\n",
              "      <td>ATGCAACAGCATTTTGAATTTGAATACCAGACCAAAGTGGATGGTG...</td>\n",
              "      <td>3</td>\n",
              "    </tr>\n",
              "  </tbody>\n",
              "</table>\n",
              "</div>\n",
              "      <button class=\"colab-df-convert\" onclick=\"convertToInteractive('df-25e8e510-f7cd-44d8-b02f-bd92801db3a7')\"\n",
              "              title=\"Convert this dataframe to an interactive table.\"\n",
              "              style=\"display:none;\">\n",
              "        \n",
              "  <svg xmlns=\"http://www.w3.org/2000/svg\" height=\"24px\"viewBox=\"0 0 24 24\"\n",
              "       width=\"24px\">\n",
              "    <path d=\"M0 0h24v24H0V0z\" fill=\"none\"/>\n",
              "    <path d=\"M18.56 5.44l.94 2.06.94-2.06 2.06-.94-2.06-.94-.94-2.06-.94 2.06-2.06.94zm-11 1L8.5 8.5l.94-2.06 2.06-.94-2.06-.94L8.5 2.5l-.94 2.06-2.06.94zm10 10l.94 2.06.94-2.06 2.06-.94-2.06-.94-.94-2.06-.94 2.06-2.06.94z\"/><path d=\"M17.41 7.96l-1.37-1.37c-.4-.4-.92-.59-1.43-.59-.52 0-1.04.2-1.43.59L10.3 9.45l-7.72 7.72c-.78.78-.78 2.05 0 2.83L4 21.41c.39.39.9.59 1.41.59.51 0 1.02-.2 1.41-.59l7.78-7.78 2.81-2.81c.8-.78.8-2.07 0-2.86zM5.41 20L4 18.59l7.72-7.72 1.47 1.35L5.41 20z\"/>\n",
              "  </svg>\n",
              "      </button>\n",
              "      \n",
              "  <style>\n",
              "    .colab-df-container {\n",
              "      display:flex;\n",
              "      flex-wrap:wrap;\n",
              "      gap: 12px;\n",
              "    }\n",
              "\n",
              "    .colab-df-convert {\n",
              "      background-color: #E8F0FE;\n",
              "      border: none;\n",
              "      border-radius: 50%;\n",
              "      cursor: pointer;\n",
              "      display: none;\n",
              "      fill: #1967D2;\n",
              "      height: 32px;\n",
              "      padding: 0 0 0 0;\n",
              "      width: 32px;\n",
              "    }\n",
              "\n",
              "    .colab-df-convert:hover {\n",
              "      background-color: #E2EBFA;\n",
              "      box-shadow: 0px 1px 2px rgba(60, 64, 67, 0.3), 0px 1px 3px 1px rgba(60, 64, 67, 0.15);\n",
              "      fill: #174EA6;\n",
              "    }\n",
              "\n",
              "    [theme=dark] .colab-df-convert {\n",
              "      background-color: #3B4455;\n",
              "      fill: #D2E3FC;\n",
              "    }\n",
              "\n",
              "    [theme=dark] .colab-df-convert:hover {\n",
              "      background-color: #434B5C;\n",
              "      box-shadow: 0px 1px 3px 1px rgba(0, 0, 0, 0.15);\n",
              "      filter: drop-shadow(0px 1px 2px rgba(0, 0, 0, 0.3));\n",
              "      fill: #FFFFFF;\n",
              "    }\n",
              "  </style>\n",
              "\n",
              "      <script>\n",
              "        const buttonEl =\n",
              "          document.querySelector('#df-25e8e510-f7cd-44d8-b02f-bd92801db3a7 button.colab-df-convert');\n",
              "        buttonEl.style.display =\n",
              "          google.colab.kernel.accessAllowed ? 'block' : 'none';\n",
              "\n",
              "        async function convertToInteractive(key) {\n",
              "          const element = document.querySelector('#df-25e8e510-f7cd-44d8-b02f-bd92801db3a7');\n",
              "          const dataTable =\n",
              "            await google.colab.kernel.invokeFunction('convertToInteractive',\n",
              "                                                     [key], {});\n",
              "          if (!dataTable) return;\n",
              "\n",
              "          const docLinkHtml = 'Like what you see? Visit the ' +\n",
              "            '<a target=\"_blank\" href=https://colab.research.google.com/notebooks/data_table.ipynb>data table notebook</a>'\n",
              "            + ' to learn more about interactive tables.';\n",
              "          element.innerHTML = '';\n",
              "          dataTable['output_type'] = 'display_data';\n",
              "          await google.colab.output.renderOutput(dataTable, element);\n",
              "          const docLink = document.createElement('div');\n",
              "          docLink.innerHTML = docLinkHtml;\n",
              "          element.appendChild(docLink);\n",
              "        }\n",
              "      </script>\n",
              "    </div>\n",
              "  </div>\n",
              "  "
            ],
            "text/plain": [
              "                                            sequence  class\n",
              "0  ATGCCCCAACTAAATACTACCGTATGGCCCACCATAATTACCCCCA...      4\n",
              "1  ATGAACGAAAATCTGTTCGCTTCATTCATTGCCCCCACAATCCTAG...      4\n",
              "2  ATGTGTGGCATTTGGGCGCTGTTTGGCAGTGATGATTGCCTTTCTG...      3\n",
              "3  ATGTGTGGCATTTGGGCGCTGTTTGGCAGTGATGATTGCCTTTCTG...      3\n",
              "4  ATGCAACAGCATTTTGAATTTGAATACCAGACCAAAGTGGATGGTG...      3"
            ]
          },
          "metadata": {},
          "execution_count": 6
        }
      ]
    },
    {
      "cell_type": "code",
      "source": [
        "data.info()"
      ],
      "metadata": {
        "colab": {
          "base_uri": "https://localhost:8080/"
        },
        "id": "t4JT3sN08JIa",
        "outputId": "cf2394a1-3db5-4a3f-9037-97e54cd5cea5"
      },
      "execution_count": 7,
      "outputs": [
        {
          "output_type": "stream",
          "name": "stdout",
          "text": [
            "<class 'pandas.core.frame.DataFrame'>\n",
            "RangeIndex: 4380 entries, 0 to 4379\n",
            "Data columns (total 2 columns):\n",
            " #   Column    Non-Null Count  Dtype \n",
            "---  ------    --------------  ----- \n",
            " 0   sequence  4380 non-null   object\n",
            " 1   class     4380 non-null   int64 \n",
            "dtypes: int64(1), object(1)\n",
            "memory usage: 68.6+ KB\n"
          ]
        }
      ]
    },
    {
      "cell_type": "code",
      "source": [
        "data.shape"
      ],
      "metadata": {
        "colab": {
          "base_uri": "https://localhost:8080/"
        },
        "id": "EbvdX7Lh8SDJ",
        "outputId": "e9325e0b-509f-4da3-e996-3c46f9fe5f6f"
      },
      "execution_count": 8,
      "outputs": [
        {
          "output_type": "execute_result",
          "data": {
            "text/plain": [
              "(4380, 2)"
            ]
          },
          "metadata": {},
          "execution_count": 8
        }
      ]
    },
    {
      "cell_type": "code",
      "source": [
        "data['class'].value_counts().sort_index().plot.bar()\n",
        "plt.title(\"Gene Family\")\n",
        "plt.show()"
      ],
      "metadata": {
        "colab": {
          "base_uri": "https://localhost:8080/",
          "height": 281
        },
        "id": "Sr2_e7Vb8TsK",
        "outputId": "f177a388-8580-4018-9377-b9bfc7198685"
      },
      "execution_count": 9,
      "outputs": [
        {
          "output_type": "display_data",
          "data": {
            "image/png": "[encoded data removed]",
            "text/plain": [
              "<Figure size 432x288 with 1 Axes>"
            ]
          },
          "metadata": {}
        }
      ]
    },
    {
      "cell_type": "code",
      "source": [
        "display(data[\"sequence\"][0])\n",
        "\n",
        "print(f'length of Sequence 1 : {len(data[\"sequence\"][0])}')"
      ],
      "metadata": {
        "colab": {
          "base_uri": "https://localhost:8080/",
          "height": 70
        },
        "id": "vbbuE76r8XCZ",
        "outputId": "5c354cee-c39c-4381-be04-20b3c3f782de"
      },
      "execution_count": 10,
      "outputs": [
        {
          "output_type": "display_data",
          "data": {
            "application/vnd.google.colaboratory.intrinsic+json": {
              "type": "string"
            },
            "text/plain": [
              "'ATGCCCCAACTAAATACTACCGTATGGCCCACCATAATTACCCCCATACTCCTTACACTATTCCTCATCACCCAACTAAAAATATTAAACACAAACTACCACCTACCTCCCTCACCAAAGCCCATAAAAATAAAAAATTATAACAAACCCTGAGAACCAAAATGAACGAAAATCTGTTCGCTTCATTCATTGCCCCCACAATCCTAG'"
            ]
          },
          "metadata": {}
        },
        {
          "output_type": "stream",
          "name": "stdout",
          "text": [
            "length of Sequence 1 : 207\n"
          ]
        }
      ]
    },
    {
      "cell_type": "code",
      "source": [
        "from Bio.Seq import Seq\n",
        "my_seq = Seq(data[\"sequence\"][0])\n",
        "print(my_seq)"
      ],
      "metadata": {
        "colab": {
          "base_uri": "https://localhost:8080/"
        },
        "id": "YPOn8Uiy8dCL",
        "outputId": "a94a75aa-449d-4f1d-f2d7-674ab8283ac4"
      },
      "execution_count": 11,
      "outputs": [
        {
          "output_type": "stream",
          "name": "stdout",
          "text": [
            "ATGCCCCAACTAAATACTACCGTATGGCCCACCATAATTACCCCCATACTCCTTACACTATTCCTCATCACCCAACTAAAAATATTAAACACAAACTACCACCTACCTCCCTCACCAAAGCCCATAAAAATAAAAAATTATAACAAACCCTGAGAACCAAAATGAACGAAAATCTGTTCGCTTCATTCATTGCCCCCACAATCCTAG\n"
          ]
        }
      ]
    },
    {
      "cell_type": "code",
      "source": [
        "print(f\" Complement : {my_seq.complement()} \\n\")\n",
        "print(f\"Reverse Complement :  {my_seq.reverse_complement()} \" )"
      ],
      "metadata": {
        "colab": {
          "base_uri": "https://localhost:8080/"
        },
        "id": "Jc65XccF8fzj",
        "outputId": "af3b04f4-babc-4d4a-fbd1-45df0983ce70"
      },
      "execution_count": 12,
      "outputs": [
        {
          "output_type": "stream",
          "name": "stdout",
          "text": [
            " Complement : TACGGGGTTGATTTATGATGGCATACCGGGTGGTATTAATGGGGGTATGAGGAATGTGATAAGGAGTAGTGGGTTGATTTTTATAATTTGTGTTTGATGGTGGATGGAGGGAGTGGTTTCGGGTATTTTTATTTTTTAATATTGTTTGGGACTCTTGGTTTTACTTGCTTTTAGACAAGCGAAGTAAGTAACGGGGGTGTTAGGATC \n",
            "\n",
            "Reverse Complement :  CTAGGATTGTGGGGGCAATGAATGAAGCGAACAGATTTTCGTTCATTTTGGTTCTCAGGGTTTGTTATAATTTTTTATTTTTATGGGCTTTGGTGAGGGAGGTAGGTGGTAGTTTGTGTTTAATATTTTTAGTTGGGTGATGAGGAATAGTGTAAGGAGTATGGGGGTAATTATGGTGGGCCATACGGTAGTATTTAGTTGGGGCAT \n"
          ]
        }
      ]
    },
    {
      "cell_type": "code",
      "source": [
        "from Bio.SeqUtils import GC\n",
        "print(\"GC% :\\t\" + str(GC(my_seq)))"
      ],
      "metadata": {
        "colab": {
          "base_uri": "https://localhost:8080/"
        },
        "id": "L4OhC9RA8inO",
        "outputId": "a31da463-dde2-403b-abd8-0293c5b4d755"
      },
      "execution_count": 13,
      "outputs": [
        {
          "output_type": "stream",
          "name": "stdout",
          "text": [
            "GC% :\t39.61352657004831\n"
          ]
        }
      ]
    },
    {
      "cell_type": "code",
      "source": [
        "data[\"length\"] = data.sequence.apply(lambda x : len(x))"
      ],
      "metadata": {
        "id": "iKAZVzGi8lR1"
      },
      "execution_count": 14,
      "outputs": []
    },
    {
      "cell_type": "code",
      "source": [
        "plt.figure(figsize=(8,8));\n",
        "plt.hist(data[\"length\"],bins=50)\n",
        "plt.title(\"Distribution of Length of DNA Sequence\");"
      ],
      "metadata": {
        "colab": {
          "base_uri": "https://localhost:8080/",
          "height": 501
        },
        "id": "AMfVzMAT8pem",
        "outputId": "6ad23850-56d4-479b-84ea-3b326dc8471d"
      },
      "execution_count": 15,
      "outputs": [
        {
          "output_type": "display_data",
          "data": {
            "image/png": "[encoded data removed]",
            "text/plain": [
              "<Figure size 576x576 with 1 Axes>"
            ]
          },
          "metadata": {}
        }
      ]
    },
    {
      "cell_type": "code",
      "source": [
        "def getKmers(sequence, size=6):\n",
        "    return [sequence[x:x+size].upper() for x in range(len(sequence) - size + 1)]"
      ],
      "metadata": {
        "id": "ZlOiQVYc8vo5"
      },
      "execution_count": 16,
      "outputs": []
    },
    {
      "cell_type": "code",
      "source": [
        "data['words'] = data.apply(lambda x: getKmers(x['sequence']), axis=1)"
      ],
      "metadata": {
        "id": "9AEPyc2_8ySH"
      },
      "execution_count": 17,
      "outputs": []
    },
    {
      "cell_type": "code",
      "source": [
        "data.head()"
      ],
      "metadata": {
        "colab": {
          "base_uri": "https://localhost:8080/",
          "height": 206
        },
        "id": "bRlhLMGL81yg",
        "outputId": "dde93c9e-f0f1-4429-85f8-5e0d6c795841"
      },
      "execution_count": 18,
      "outputs": [
        {
          "output_type": "execute_result",
          "data": {
            "text/html": [
              "\n",
              "  <div id=\"df-cef5f4b5-7aba-4a60-868a-009fc7e8b316\">\n",
              "    <div class=\"colab-df-container\">\n",
              "      <div>\n",
              "<style scoped>\n",
              "    .dataframe tbody tr th:only-of-type {\n",
              "        vertical-align: middle;\n",
              "    }\n",
              "\n",
              "    .dataframe tbody tr th {\n",
              "        vertical-align: top;\n",
              "    }\n",
              "\n",
              "    .dataframe thead th {\n",
              "        text-align: right;\n",
              "    }\n",
              "</style>\n",
              "<table border=\"1\" class=\"dataframe\">\n",
              "  <thead>\n",
              "    <tr style=\"text-align: right;\">\n",
              "      <th></th>\n",
              "      <th>sequence</th>\n",
              "      <th>class</th>\n",
              "      <th>length</th>\n",
              "      <th>words</th>\n",
              "    </tr>\n",
              "  </thead>\n",
              "  <tbody>\n",
              "    <tr>\n",
              "      <th>0</th>\n",
              "      <td>ATGCCCCAACTAAATACTACCGTATGGCCCACCATAATTACCCCCA...</td>\n",
              "      <td>4</td>\n",
              "      <td>207</td>\n",
              "      <td>[ATGCCC, TGCCCC, GCCCCA, CCCCAA, CCCAAC, CCAAC...</td>\n",
              "    </tr>\n",
              "    <tr>\n",
              "      <th>1</th>\n",
              "      <td>ATGAACGAAAATCTGTTCGCTTCATTCATTGCCCCCACAATCCTAG...</td>\n",
              "      <td>4</td>\n",
              "      <td>681</td>\n",
              "      <td>[ATGAAC, TGAACG, GAACGA, AACGAA, ACGAAA, CGAAA...</td>\n",
              "    </tr>\n",
              "    <tr>\n",
              "      <th>2</th>\n",
              "      <td>ATGTGTGGCATTTGGGCGCTGTTTGGCAGTGATGATTGCCTTTCTG...</td>\n",
              "      <td>3</td>\n",
              "      <td>1686</td>\n",
              "      <td>[ATGTGT, TGTGTG, GTGTGG, TGTGGC, GTGGCA, TGGCA...</td>\n",
              "    </tr>\n",
              "    <tr>\n",
              "      <th>3</th>\n",
              "      <td>ATGTGTGGCATTTGGGCGCTGTTTGGCAGTGATGATTGCCTTTCTG...</td>\n",
              "      <td>3</td>\n",
              "      <td>1206</td>\n",
              "      <td>[ATGTGT, TGTGTG, GTGTGG, TGTGGC, GTGGCA, TGGCA...</td>\n",
              "    </tr>\n",
              "    <tr>\n",
              "      <th>4</th>\n",
              "      <td>ATGCAACAGCATTTTGAATTTGAATACCAGACCAAAGTGGATGGTG...</td>\n",
              "      <td>3</td>\n",
              "      <td>1437</td>\n",
              "      <td>[ATGCAA, TGCAAC, GCAACA, CAACAG, AACAGC, ACAGC...</td>\n",
              "    </tr>\n",
              "  </tbody>\n",
              "</table>\n",
              "</div>\n",
              "      <button class=\"colab-df-convert\" onclick=\"convertToInteractive('df-cef5f4b5-7aba-4a60-868a-009fc7e8b316')\"\n",
              "              title=\"Convert this dataframe to an interactive table.\"\n",
              "              style=\"display:none;\">\n",
              "        \n",
              "  <svg xmlns=\"http://www.w3.org/2000/svg\" height=\"24px\"viewBox=\"0 0 24 24\"\n",
              "       width=\"24px\">\n",
              "    <path d=\"M0 0h24v24H0V0z\" fill=\"none\"/>\n",
              "    <path d=\"M18.56 5.44l.94 2.06.94-2.06 2.06-.94-2.06-.94-.94-2.06-.94 2.06-2.06.94zm-11 1L8.5 8.5l.94-2.06 2.06-.94-2.06-.94L8.5 2.5l-.94 2.06-2.06.94zm10 10l.94 2.06.94-2.06 2.06-.94-2.06-.94-.94-2.06-.94 2.06-2.06.94z\"/><path d=\"M17.41 7.96l-1.37-1.37c-.4-.4-.92-.59-1.43-.59-.52 0-1.04.2-1.43.59L10.3 9.45l-7.72 7.72c-.78.78-.78 2.05 0 2.83L4 21.41c.39.39.9.59 1.41.59.51 0 1.02-.2 1.41-.59l7.78-7.78 2.81-2.81c.8-.78.8-2.07 0-2.86zM5.41 20L4 18.59l7.72-7.72 1.47 1.35L5.41 20z\"/>\n",
              "  </svg>\n",
              "      </button>\n",
              "      \n",
              "  <style>\n",
              "    .colab-df-container {\n",
              "      display:flex;\n",
              "      flex-wrap:wrap;\n",
              "      gap: 12px;\n",
              "    }\n",
              "\n",
              "    .colab-df-convert {\n",
              "      background-color: #E8F0FE;\n",
              "      border: none;\n",
              "      border-radius: 50%;\n",
              "      cursor: pointer;\n",
              "      display: none;\n",
              "      fill: #1967D2;\n",
              "      height: 32px;\n",
              "      padding: 0 0 0 0;\n",
              "      width: 32px;\n",
              "    }\n",
              "\n",
              "    .colab-df-convert:hover {\n",
              "      background-color: #E2EBFA;\n",
              "      box-shadow: 0px 1px 2px rgba(60, 64, 67, 0.3), 0px 1px 3px 1px rgba(60, 64, 67, 0.15);\n",
              "      fill: #174EA6;\n",
              "    }\n",
              "\n",
              "    [theme=dark] .colab-df-convert {\n",
              "      background-color: #3B4455;\n",
              "      fill: #D2E3FC;\n",
              "    }\n",
              "\n",
              "    [theme=dark] .colab-df-convert:hover {\n",
              "      background-color: #434B5C;\n",
              "      box-shadow: 0px 1px 3px 1px rgba(0, 0, 0, 0.15);\n",
              "      filter: drop-shadow(0px 1px 2px rgba(0, 0, 0, 0.3));\n",
              "      fill: #FFFFFF;\n",
              "    }\n",
              "  </style>\n",
              "\n",
              "      <script>\n",
              "        const buttonEl =\n",
              "          document.querySelector('#df-cef5f4b5-7aba-4a60-868a-009fc7e8b316 button.colab-df-convert');\n",
              "        buttonEl.style.display =\n",
              "          google.colab.kernel.accessAllowed ? 'block' : 'none';\n",
              "\n",
              "        async function convertToInteractive(key) {\n",
              "          const element = document.querySelector('#df-cef5f4b5-7aba-4a60-868a-009fc7e8b316');\n",
              "          const dataTable =\n",
              "            await google.colab.kernel.invokeFunction('convertToInteractive',\n",
              "                                                     [key], {});\n",
              "          if (!dataTable) return;\n",
              "\n",
              "          const docLinkHtml = 'Like what you see? Visit the ' +\n",
              "            '<a target=\"_blank\" href=https://colab.research.google.com/notebooks/data_table.ipynb>data table notebook</a>'\n",
              "            + ' to learn more about interactive tables.';\n",
              "          element.innerHTML = '';\n",
              "          dataTable['output_type'] = 'display_data';\n",
              "          await google.colab.output.renderOutput(dataTable, element);\n",
              "          const docLink = document.createElement('div');\n",
              "          docLink.innerHTML = docLinkHtml;\n",
              "          element.appendChild(docLink);\n",
              "        }\n",
              "      </script>\n",
              "    </div>\n",
              "  </div>\n",
              "  "
            ],
            "text/plain": [
              "                                            sequence  ...                                              words\n",
              "0  ATGCCCCAACTAAATACTACCGTATGGCCCACCATAATTACCCCCA...  ...  [ATGCCC, TGCCCC, GCCCCA, CCCCAA, CCCAAC, CCAAC...\n",
              "1  ATGAACGAAAATCTGTTCGCTTCATTCATTGCCCCCACAATCCTAG...  ...  [ATGAAC, TGAACG, GAACGA, AACGAA, ACGAAA, CGAAA...\n",
              "2  ATGTGTGGCATTTGGGCGCTGTTTGGCAGTGATGATTGCCTTTCTG...  ...  [ATGTGT, TGTGTG, GTGTGG, TGTGGC, GTGGCA, TGGCA...\n",
              "3  ATGTGTGGCATTTGGGCGCTGTTTGGCAGTGATGATTGCCTTTCTG...  ...  [ATGTGT, TGTGTG, GTGTGG, TGTGGC, GTGGCA, TGGCA...\n",
              "4  ATGCAACAGCATTTTGAATTTGAATACCAGACCAAAGTGGATGGTG...  ...  [ATGCAA, TGCAAC, GCAACA, CAACAG, AACAGC, ACAGC...\n",
              "\n",
              "[5 rows x 4 columns]"
            ]
          },
          "metadata": {},
          "execution_count": 18
        }
      ]
    },
    {
      "cell_type": "code",
      "source": [
        "data[\"in_string\"] = data[\"words\"].apply(lambda x:  ' '.join(x))"
      ],
      "metadata": {
        "id": "Roxj1vK584it"
      },
      "execution_count": 19,
      "outputs": []
    },
    {
      "cell_type": "code",
      "source": [
        "data[[\"words\",\"in_string\"]]"
      ],
      "metadata": {
        "colab": {
          "base_uri": "https://localhost:8080/",
          "height": 423
        },
        "id": "Cqsljwwn87-Z",
        "outputId": "b182d89d-5a8d-4c8e-9deb-55bf2b2d8de0"
      },
      "execution_count": 20,
      "outputs": [
        {
          "output_type": "execute_result",
          "data": {
            "text/html": [
              "\n",
              "  <div id=\"df-75e04009-ef8a-4900-885e-95b1e000e2db\">\n",
              "    <div class=\"colab-df-container\">\n",
              "      <div>\n",
              "<style scoped>\n",
              "    .dataframe tbody tr th:only-of-type {\n",
              "        vertical-align: middle;\n",
              "    }\n",
              "\n",
              "    .dataframe tbody tr th {\n",
              "        vertical-align: top;\n",
              "    }\n",
              "\n",
              "    .dataframe thead th {\n",
              "        text-align: right;\n",
              "    }\n",
              "</style>\n",
              "<table border=\"1\" class=\"dataframe\">\n",
              "  <thead>\n",
              "    <tr style=\"text-align: right;\">\n",
              "      <th></th>\n",
              "      <th>words</th>\n",
              "      <th>in_string</th>\n",
              "    </tr>\n",
              "  </thead>\n",
              "  <tbody>\n",
              "    <tr>\n",
              "      <th>0</th>\n",
              "      <td>[ATGCCC, TGCCCC, GCCCCA, CCCCAA, CCCAAC, CCAAC...</td>\n",
              "      <td>ATGCCC TGCCCC GCCCCA CCCCAA CCCAAC CCAACT CAAC...</td>\n",
              "    </tr>\n",
              "    <tr>\n",
              "      <th>1</th>\n",
              "      <td>[ATGAAC, TGAACG, GAACGA, AACGAA, ACGAAA, CGAAA...</td>\n",
              "      <td>ATGAAC TGAACG GAACGA AACGAA ACGAAA CGAAAA GAAA...</td>\n",
              "    </tr>\n",
              "    <tr>\n",
              "      <th>2</th>\n",
              "      <td>[ATGTGT, TGTGTG, GTGTGG, TGTGGC, GTGGCA, TGGCA...</td>\n",
              "      <td>ATGTGT TGTGTG GTGTGG TGTGGC GTGGCA TGGCAT GGCA...</td>\n",
              "    </tr>\n",
              "    <tr>\n",
              "      <th>3</th>\n",
              "      <td>[ATGTGT, TGTGTG, GTGTGG, TGTGGC, GTGGCA, TGGCA...</td>\n",
              "      <td>ATGTGT TGTGTG GTGTGG TGTGGC GTGGCA TGGCAT GGCA...</td>\n",
              "    </tr>\n",
              "    <tr>\n",
              "      <th>4</th>\n",
              "      <td>[ATGCAA, TGCAAC, GCAACA, CAACAG, AACAGC, ACAGC...</td>\n",
              "      <td>ATGCAA TGCAAC GCAACA CAACAG AACAGC ACAGCA CAGC...</td>\n",
              "    </tr>\n",
              "    <tr>\n",
              "      <th>...</th>\n",
              "      <td>...</td>\n",
              "      <td>...</td>\n",
              "    </tr>\n",
              "    <tr>\n",
              "      <th>4375</th>\n",
              "      <td>[ATGGAA, TGGAAG, GGAAGA, GAAGAT, AAGATT, AGATT...</td>\n",
              "      <td>ATGGAA TGGAAG GGAAGA GAAGAT AAGATT AGATTT GATT...</td>\n",
              "    </tr>\n",
              "    <tr>\n",
              "      <th>4376</th>\n",
              "      <td>[ATGCAG, TGCAGT, GCAGTC, CAGTCC, AGTCCT, GTCCT...</td>\n",
              "      <td>ATGCAG TGCAGT GCAGTC CAGTCC AGTCCT GTCCTT TCCT...</td>\n",
              "    </tr>\n",
              "    <tr>\n",
              "      <th>4377</th>\n",
              "      <td>[ATGCAG, TGCAGT, GCAGTC, CAGTCC, AGTCCT, GTCCT...</td>\n",
              "      <td>ATGCAG TGCAGT GCAGTC CAGTCC AGTCCT GTCCTT TCCT...</td>\n",
              "    </tr>\n",
              "    <tr>\n",
              "      <th>4378</th>\n",
              "      <td>[ATGGGG, TGGGGC, GGGGCA, GGGCAC, GGCACC, GCACC...</td>\n",
              "      <td>ATGGGG TGGGGC GGGGCA GGGCAC GGCACC GCACCT CACC...</td>\n",
              "    </tr>\n",
              "    <tr>\n",
              "      <th>4379</th>\n",
              "      <td>[ATGCAG, TGCAGT, GCAGTC, CAGTCC, AGTCCT, GTCCT...</td>\n",
              "      <td>ATGCAG TGCAGT GCAGTC CAGTCC AGTCCT GTCCTT TCCT...</td>\n",
              "    </tr>\n",
              "  </tbody>\n",
              "</table>\n",
              "<p>4380 rows × 2 columns</p>\n",
              "</div>\n",
              "      <button class=\"colab-df-convert\" onclick=\"convertToInteractive('df-75e04009-ef8a-4900-885e-95b1e000e2db')\"\n",
              "              title=\"Convert this dataframe to an interactive table.\"\n",
              "              style=\"display:none;\">\n",
              "        \n",
              "  <svg xmlns=\"http://www.w3.org/2000/svg\" height=\"24px\"viewBox=\"0 0 24 24\"\n",
              "       width=\"24px\">\n",
              "    <path d=\"M0 0h24v24H0V0z\" fill=\"none\"/>\n",
              "    <path d=\"M18.56 5.44l.94 2.06.94-2.06 2.06-.94-2.06-.94-.94-2.06-.94 2.06-2.06.94zm-11 1L8.5 8.5l.94-2.06 2.06-.94-2.06-.94L8.5 2.5l-.94 2.06-2.06.94zm10 10l.94 2.06.94-2.06 2.06-.94-2.06-.94-.94-2.06-.94 2.06-2.06.94z\"/><path d=\"M17.41 7.96l-1.37-1.37c-.4-.4-.92-.59-1.43-.59-.52 0-1.04.2-1.43.59L10.3 9.45l-7.72 7.72c-.78.78-.78 2.05 0 2.83L4 21.41c.39.39.9.59 1.41.59.51 0 1.02-.2 1.41-.59l7.78-7.78 2.81-2.81c.8-.78.8-2.07 0-2.86zM5.41 20L4 18.59l7.72-7.72 1.47 1.35L5.41 20z\"/>\n",
              "  </svg>\n",
              "      </button>\n",
              "      \n",
              "  <style>\n",
              "    .colab-df-container {\n",
              "      display:flex;\n",
              "      flex-wrap:wrap;\n",
              "      gap: 12px;\n",
              "    }\n",
              "\n",
              "    .colab-df-convert {\n",
              "      background-color: #E8F0FE;\n",
              "      border: none;\n",
              "      border-radius: 50%;\n",
              "      cursor: pointer;\n",
              "      display: none;\n",
              "      fill: #1967D2;\n",
              "      height: 32px;\n",
              "      padding: 0 0 0 0;\n",
              "      width: 32px;\n",
              "    }\n",
              "\n",
              "    .colab-df-convert:hover {\n",
              "      background-color: #E2EBFA;\n",
              "      box-shadow: 0px 1px 2px rgba(60, 64, 67, 0.3), 0px 1px 3px 1px rgba(60, 64, 67, 0.15);\n",
              "      fill: #174EA6;\n",
              "    }\n",
              "\n",
              "    [theme=dark] .colab-df-convert {\n",
              "      background-color: #3B4455;\n",
              "      fill: #D2E3FC;\n",
              "    }\n",
              "\n",
              "    [theme=dark] .colab-df-convert:hover {\n",
              "      background-color: #434B5C;\n",
              "      box-shadow: 0px 1px 3px 1px rgba(0, 0, 0, 0.15);\n",
              "      filter: drop-shadow(0px 1px 2px rgba(0, 0, 0, 0.3));\n",
              "      fill: #FFFFFF;\n",
              "    }\n",
              "  </style>\n",
              "\n",
              "      <script>\n",
              "        const buttonEl =\n",
              "          document.querySelector('#df-75e04009-ef8a-4900-885e-95b1e000e2db button.colab-df-convert');\n",
              "        buttonEl.style.display =\n",
              "          google.colab.kernel.accessAllowed ? 'block' : 'none';\n",
              "\n",
              "        async function convertToInteractive(key) {\n",
              "          const element = document.querySelector('#df-75e04009-ef8a-4900-885e-95b1e000e2db');\n",
              "          const dataTable =\n",
              "            await google.colab.kernel.invokeFunction('convertToInteractive',\n",
              "                                                     [key], {});\n",
              "          if (!dataTable) return;\n",
              "\n",
              "          const docLinkHtml = 'Like what you see? Visit the ' +\n",
              "            '<a target=\"_blank\" href=https://colab.research.google.com/notebooks/data_table.ipynb>data table notebook</a>'\n",
              "            + ' to learn more about interactive tables.';\n",
              "          element.innerHTML = '';\n",
              "          dataTable['output_type'] = 'display_data';\n",
              "          await google.colab.output.renderOutput(dataTable, element);\n",
              "          const docLink = document.createElement('div');\n",
              "          docLink.innerHTML = docLinkHtml;\n",
              "          element.appendChild(docLink);\n",
              "        }\n",
              "      </script>\n",
              "    </div>\n",
              "  </div>\n",
              "  "
            ],
            "text/plain": [
              "                                                  words                                          in_string\n",
              "0     [ATGCCC, TGCCCC, GCCCCA, CCCCAA, CCCAAC, CCAAC...  ATGCCC TGCCCC GCCCCA CCCCAA CCCAAC CCAACT CAAC...\n",
              "1     [ATGAAC, TGAACG, GAACGA, AACGAA, ACGAAA, CGAAA...  ATGAAC TGAACG GAACGA AACGAA ACGAAA CGAAAA GAAA...\n",
              "2     [ATGTGT, TGTGTG, GTGTGG, TGTGGC, GTGGCA, TGGCA...  ATGTGT TGTGTG GTGTGG TGTGGC GTGGCA TGGCAT GGCA...\n",
              "3     [ATGTGT, TGTGTG, GTGTGG, TGTGGC, GTGGCA, TGGCA...  ATGTGT TGTGTG GTGTGG TGTGGC GTGGCA TGGCAT GGCA...\n",
              "4     [ATGCAA, TGCAAC, GCAACA, CAACAG, AACAGC, ACAGC...  ATGCAA TGCAAC GCAACA CAACAG AACAGC ACAGCA CAGC...\n",
              "...                                                 ...                                                ...\n",
              "4375  [ATGGAA, TGGAAG, GGAAGA, GAAGAT, AAGATT, AGATT...  ATGGAA TGGAAG GGAAGA GAAGAT AAGATT AGATTT GATT...\n",
              "4376  [ATGCAG, TGCAGT, GCAGTC, CAGTCC, AGTCCT, GTCCT...  ATGCAG TGCAGT GCAGTC CAGTCC AGTCCT GTCCTT TCCT...\n",
              "4377  [ATGCAG, TGCAGT, GCAGTC, CAGTCC, AGTCCT, GTCCT...  ATGCAG TGCAGT GCAGTC CAGTCC AGTCCT GTCCTT TCCT...\n",
              "4378  [ATGGGG, TGGGGC, GGGGCA, GGGCAC, GGCACC, GCACC...  ATGGGG TGGGGC GGGGCA GGGCAC GGCACC GCACCT CACC...\n",
              "4379  [ATGCAG, TGCAGT, GCAGTC, CAGTCC, AGTCCT, GTCCT...  ATGCAG TGCAGT GCAGTC CAGTCC AGTCCT GTCCTT TCCT...\n",
              "\n",
              "[4380 rows x 2 columns]"
            ]
          },
          "metadata": {},
          "execution_count": 20
        }
      ]
    },
    {
      "cell_type": "code",
      "source": [
        "y=data.loc[:,'class'].values"
      ],
      "metadata": {
        "id": "-qenSoRq9Tmj"
      },
      "execution_count": 21,
      "outputs": []
    },
    {
      "cell_type": "code",
      "source": [
        "from sklearn.feature_extraction.text import CountVectorizer\n",
        "cv = CountVectorizer(ngram_range=(4,4))\n",
        "X = cv.fit_transform(data[\"in_string\"])"
      ],
      "metadata": {
        "id": "N8OMXdwF9W1g"
      },
      "execution_count": 22,
      "outputs": []
    },
    {
      "cell_type": "code",
      "source": [
        "print(X.shape)"
      ],
      "metadata": {
        "colab": {
          "base_uri": "https://localhost:8080/"
        },
        "id": "kbErlBN19ZqH",
        "outputId": "4c7f851e-1f21-417e-cdd6-c57ff7710673"
      },
      "execution_count": 23,
      "outputs": [
        {
          "output_type": "stream",
          "name": "stdout",
          "text": [
            "(4380, 232414)\n"
          ]
        }
      ]
    },
    {
      "cell_type": "code",
      "source": [
        "i=0\n",
        "for key,value in cv.vocabulary_.items():\n",
        "    print(f\"{key} : {value}\")\n",
        "    i+=1\n",
        "    if i>10:break"
      ],
      "metadata": {
        "colab": {
          "base_uri": "https://localhost:8080/"
        },
        "id": "2TgwtCfs9d9E",
        "outputId": "c5f4237e-db8c-49ae-9811-1247b2e2b625"
      },
      "execution_count": 24,
      "outputs": [
        {
          "output_type": "stream",
          "name": "stdout",
          "text": [
            "atgccc tgcccc gcccca ccccaa : 52803\n",
            "tgcccc gcccca ccccaa cccaac : 207969\n",
            "gcccca ccccaa cccaac ccaact : 136621\n",
            "ccccaa cccaac ccaact caacta : 79202\n",
            "cccaac ccaact caacta aactaa : 78295\n",
            "ccaact caacta aactaa actaaa : 74681\n",
            "caacta aactaa actaaa ctaaat : 60650\n",
            "aactaa actaaa ctaaat taaata : 6563\n",
            "actaaa ctaaat taaata aaatac : 25724\n",
            "ctaaat taaata aaatac aatact : 101750\n",
            "taaata aaatac aatact atacta : 176196\n"
          ]
        }
      ]
    },
    {
      "cell_type": "code",
      "source": [
        "from sklearn.model_selection import StratifiedKFold,cross_val_score,cross_val_predict\n",
        "from sklearn.tree import DecisionTreeClassifier\n",
        "from sklearn.svm import SVC\n",
        "from sklearn.ensemble import RandomForestClassifier\n",
        "from sklearn.naive_bayes import MultinomialNB\n",
        "from sklearn.metrics import *"
      ],
      "metadata": {
        "id": "oURLdcKO9gRX"
      },
      "execution_count": 25,
      "outputs": []
    },
    {
      "cell_type": "code",
      "source": [
        "def get_metrics(y_test, y_predicted):\n",
        "    accuracy = accuracy_score(y_test, y_predicted)\n",
        "    precision = precision_score(y_test, y_predicted, average='weighted')\n",
        "    recall = recall_score(y_test, y_predicted, average='weighted')\n",
        "    f1 = f1_score(y_test, y_predicted, average='weighted')\n",
        "    return accuracy, precision, recall, f1\n",
        "print(\"Decision Classifier :\")\n",
        "for i,(train_index,val_index)  in enumerate(StratifiedKFold(n_splits=5,shuffle=True,random_state=42).split(X,y)):\n",
        "    dt =DecisionTreeClassifier()\n",
        "    dt.fit(X[train_index],y[train_index])\n",
        "    pred=dt.predict(X[val_index])\n",
        "    accuracy, precision, recall, f1 = get_metrics(y[val_index], pred)\n",
        "    print(str(i)+\" Iteration : Accuracy = %.5f     F1_Score = %.5f\" % (accuracy, f1))"
      ],
      "metadata": {
        "colab": {
          "base_uri": "https://localhost:8080/"
        },
        "id": "YVaRM5aB9iw0",
        "outputId": "0c3911e9-349e-4f4d-c5fe-1bcc59c4b6d6"
      },
      "execution_count": 26,
      "outputs": [
        {
          "output_type": "stream",
          "name": "stdout",
          "text": [
            "Decision Classifier :\n",
            "0 Iteration : Accuracy = 0.81393     F1_Score = 0.81654\n",
            "1 Iteration : Accuracy = 0.81621     F1_Score = 0.81867\n",
            "2 Iteration : Accuracy = 0.80251     F1_Score = 0.80681\n",
            "3 Iteration : Accuracy = 0.80137     F1_Score = 0.80663\n",
            "4 Iteration : Accuracy = 0.80251     F1_Score = 0.80641\n"
          ]
        }
      ]
    },
    {
      "cell_type": "code",
      "source": [
        "print(\"Random Forest Classifier :\")\n",
        "for i,(train_index,val_index)  in enumerate(StratifiedKFold(n_splits=5,shuffle=True,random_state=42).split(X,y)):\n",
        "    rf = RandomForestClassifier(n_jobs=-1)\n",
        "    rf.fit(X[train_index],y[train_index])\n",
        "    pred=rf.predict(X[val_index])\n",
        "    accuracy, precision, recall, f1 = get_metrics(y[val_index], pred)\n",
        "    print(str(i)+\" Iteration : Accuracy = %.5f     F1_Score = %.5f\" % (accuracy, f1))"
      ],
      "metadata": {
        "colab": {
          "base_uri": "https://localhost:8080/"
        },
        "id": "xXJ6TOxo9m-1",
        "outputId": "02fddc3f-3338-4f51-c8ff-952a0eed9e83"
      },
      "execution_count": 27,
      "outputs": [
        {
          "output_type": "stream",
          "name": "stdout",
          "text": [
            "Random Forest Classifier :\n",
            "0 Iteration : Accuracy = 0.90982     F1_Score = 0.91078\n",
            "1 Iteration : Accuracy = 0.92352     F1_Score = 0.92431\n",
            "2 Iteration : Accuracy = 0.88584     F1_Score = 0.89193\n",
            "3 Iteration : Accuracy = 0.91553     F1_Score = 0.91645\n",
            "4 Iteration : Accuracy = 0.91096     F1_Score = 0.91273\n"
          ]
        }
      ]
    },
    {
      "cell_type": "code",
      "source": [
        "print(\"Naive Bayes Classifier :\")\n",
        "for i,(train_index,val_index)  in enumerate(StratifiedKFold(n_splits=5,shuffle=True,random_state=42).split(X,y)):\n",
        "    classifier = MultinomialNB(alpha=0.1)\n",
        "    classifier.fit(X[train_index],y[train_index])\n",
        "    pred=classifier.predict(X[val_index])\n",
        "    accuracy, precision, recall, f1 = get_metrics(y[val_index], pred)\n",
        "    print(str(i)+\" Iteration : Accuracy = %.5f    F1_Score = %.5f\" % (accuracy, f1))"
      ],
      "metadata": {
        "colab": {
          "base_uri": "https://localhost:8080/"
        },
        "id": "ZXVPUXN89_CS",
        "outputId": "15984086-ced8-44ab-b826-0310fcc147d3"
      },
      "execution_count": 28,
      "outputs": [
        {
          "output_type": "stream",
          "name": "stdout",
          "text": [
            "Naive Bayes Classifier :\n",
            "0 Iteration : Accuracy = 0.98059    F1_Score = 0.98061\n",
            "1 Iteration : Accuracy = 0.98059    F1_Score = 0.98066\n",
            "2 Iteration : Accuracy = 0.97603    F1_Score = 0.97606\n",
            "3 Iteration : Accuracy = 0.97717    F1_Score = 0.97722\n",
            "4 Iteration : Accuracy = 0.97717    F1_Score = 0.97715\n"
          ]
        }
      ]
    },
    {
      "cell_type": "code",
      "source": [
        "#scores ={\"Naive Bayes\":98.059  ,\"Random Forest\":91.4 ,\"Decision Tree\": 81.5}\n",
        "plt.figure(figsize=(10,5))\n",
        "scores=[\"Naive Bayes\",\"Random Forest\",\"Decision Tree\"]\n",
        "accscore=[98.059,91.4,81.5]\n",
        "f1score=[98.061,91.5,81.1]\n",
        "w=0.3\n",
        "bar1=np.arange(len(scores))\n",
        "bar2=[i+w for i in bar1]\n",
        "\n",
        "plt.bar(bar1,accscore,w,label=\"accuracy\")\n",
        "plt.bar(bar2,f1score,w,label=\"f1score\")\n",
        "plt.xticks(bar1, scores)\n",
        "plt.legend()\n",
        "plt.title(\"Comparision Between Models\")\n",
        "plt.show()"
      ],
      "metadata": {
        "colab": {
          "base_uri": "https://localhost:8080/",
          "height": 338
        },
        "id": "XDhAZvry9_lJ",
        "outputId": "dbc377a8-8201-4094-d1c1-d038f6bef6af"
      },
      "execution_count": 29,
      "outputs": [
        {
          "output_type": "display_data",
          "data": {
            "image/png": "[encoded data removed]",
            "text/plain": [
              "<Figure size 720x360 with 1 Axes>"
            ]
          },
          "metadata": {}
        }
      ]
    },
    {
      "cell_type": "code",
      "source": [
        "from sklearn.model_selection import train_test_split\n",
        "X_train, X_test, y_train, y_test = train_test_split(X, \n",
        "                                                    y, \n",
        "                                                    test_size = 0.20, \n",
        "                                                    random_state=42)\n",
        "nb_ =MultinomialNB(alpha=0.01)\n",
        "nb_.fit(X_train, y_train)\n",
        "\n",
        "y_pred = nb_.predict(X_test)\n",
        "print(pd.crosstab(pd.Series(y_test, name='Actual'), pd.Series(y_pred, name='Predicted')))"
      ],
      "metadata": {
        "colab": {
          "base_uri": "https://localhost:8080/"
        },
        "id": "E4FqDMUM-B_4",
        "outputId": "9e84093f-de9a-45d4-b768-49e979ef3b35"
      },
      "execution_count": 30,
      "outputs": [
        {
          "output_type": "stream",
          "name": "stdout",
          "text": [
            "Predicted   0    1   2    3    4   5    6\n",
            "Actual                                   \n",
            "0          99    0   0    0    0   0    3\n",
            "1           0  100   0    0    0   0    6\n",
            "2           0    0  78    0    0   0    0\n",
            "3           0    0   0  122    0   0    3\n",
            "4           0    0   0    0  143   0    6\n",
            "5           0    0   0    0    0  51    0\n",
            "6           0    0   0    0    0   0  265\n"
          ]
        }
      ]
    },
    {
      "cell_type": "code",
      "source": [
        "import pickle\n",
        "\n",
        "filename = 'finalized_model.sav'\n",
        "pickle.dump(nb_, open(filename, 'wb'))\n",
        "plt.figure(figsize=(7,6))\n",
        "sns.heatmap(pd.crosstab(pd.Series(y_test, name='Actual'), pd.Series(y_pred, name='Predicted')),cmap=\"YlGnBu\",annot=True,fmt='d')"
      ],
      "metadata": {
        "colab": {
          "base_uri": "https://localhost:8080/",
          "height": 412
        },
        "id": "-ntkoNLW-D2r",
        "outputId": "77a733cd-8790-4e0e-b8d8-c65fd5cfb804"
      },
      "execution_count": 31,
      "outputs": [
        {
          "output_type": "execute_result",
          "data": {
            "text/plain": [
              "<matplotlib.axes._subplots.AxesSubplot at 0x7fa18907cf90>"
            ]
          },
          "metadata": {},
          "execution_count": 31
        },
        {
          "output_type": "display_data",
          "data": {
            "image/png": "[encoded data removed]",
            "text/plain": [
              "<Figure size 504x432 with 2 Axes>"
            ]
          },
          "metadata": {}
        }
      ]
    },
    {
      "cell_type": "code",
      "source": [
        ""
      ],
      "metadata": {
        "id": "2MaOUJdn-RDk"
      },
      "execution_count": null,
      "outputs": []
    }
  ]
}