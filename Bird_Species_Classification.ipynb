{
  "cells": [
    {
      "cell_type": "markdown",
      "metadata": {
        "id": "view-in-github",
        "colab_type": "text"
      },
      "source": [
        "<a href=\"https://colab.research.google.com/github/DataMinati/Super-Notebooks-100/blob/main/Bird_Species_Classification.ipynb\" target=\"_parent\"><img src=\"https://colab.research.google.com/assets/colab-badge.svg\" alt=\"Open In Colab\"/></a>"
      ]
    },
    {
      "cell_type": "code",
      "execution_count": null,
      "metadata": {
        "id": "s4NgWP2-xCv9",
        "outputId": "c41efc27-7a43-4fef-b12c-0607d385d2b0"
      },
      "outputs": [
        {
          "name": "stderr",
          "output_type": "stream",
          "text": [
            "Using TensorFlow backend.\n"
          ]
        }
      ],
      "source": [
        "#import libraries\n",
        "import keras\n",
        "import numpy as np\n",
        "from keras.preprocessing.image import ImageDataGenerator\n",
        "from keras.applications.vgg16 import preprocess_input"
      ]
    },
    {
      "cell_type": "markdown",
      "metadata": {
        "id": "Gq67kwxDn23w"
      },
      "source": [
        "# **1.) Data-Preprocessing**"
      ]
    },
    {
      "cell_type": "code",
      "execution_count": null,
      "metadata": {
        "id": "Q0pgoWtwn23w",
        "outputId": "f93cc211-b117-45e6-9732-af11a0362777"
      },
      "outputs": [
        {
          "name": "stdout",
          "output_type": "stream",
          "text": [
            "Found 27503 images belonging to 200 classes.\n",
            "Found 1000 images belonging to 200 classes.\n",
            "Found 1000 images belonging to 200 classes.\n"
          ]
        }
      ],
      "source": [
        "#Creating generator for Training DataSet\n",
        "train_datagen = ImageDataGenerator(\n",
        "        preprocessing_function=preprocess_input,\n",
        "        shear_range=0.1,\n",
        "        zoom_range=0.1,\n",
        "        horizontal_flip=True)\n",
        "train_generator = train_datagen.flow_from_directory(\n",
        "        '../input/100-bird-species/train',\n",
        "        target_size=(224, 224),\n",
        "        batch_size=64,\n",
        "        class_mode='categorical')\n",
        "\n",
        "#Creating generator for Validation DataSet\n",
        "val_datagen = ImageDataGenerator(preprocessing_function=preprocess_input)\n",
        "val_generator = val_datagen.flow_from_directory(\n",
        "        '../input/100-bird-species/valid',\n",
        "        target_size=(224, 224),\n",
        "        batch_size=32,\n",
        "        class_mode='categorical')\n",
        "\n",
        "#Creating generator for Test DataSet\n",
        "test_datagen = ImageDataGenerator(preprocessing_function=preprocess_input)\n",
        "test_generator = test_datagen.flow_from_directory(\n",
        "        '../input/100-bird-species/test',\n",
        "        target_size=(224, 224),\n",
        "        batch_size=32,\n",
        "        class_mode='categorical')"
      ]
    },
    {
      "cell_type": "markdown",
      "metadata": {
        "id": "kh9LvEIGn23y"
      },
      "source": [
        "# **2.) Build and Train CNN (VGG16)** "
      ]
    },
    {
      "cell_type": "code",
      "execution_count": null,
      "metadata": {
        "id": "F_uiqQOmn23z",
        "outputId": "36ff75fa-fee4-46c2-9c02-d824216d64c3"
      },
      "outputs": [
        {
          "name": "stdout",
          "output_type": "stream",
          "text": [
            "Downloading data from https://github.com/fchollet/deep-learning-models/releases/download/v0.1/vgg16_weights_tf_dim_ordering_tf_kernels_notop.h5\n",
            "58892288/58889256 [==============================] - 5s 0us/step\n"
          ]
        }
      ],
      "source": [
        "#instantiate a base model with pre-trained weigts.\n",
        "base_model=keras.applications.VGG16(\n",
        "    include_top=False,\n",
        "    weights=\"imagenet\",\n",
        "    input_shape=(224,224,3))"
      ]
    },
    {
      "cell_type": "code",
      "execution_count": null,
      "metadata": {
        "id": "0HyWW6f8n231"
      },
      "outputs": [],
      "source": [
        "#freeze the base model\n",
        "base_model.trainable = False"
      ]
    },
    {
      "cell_type": "code",
      "execution_count": null,
      "metadata": {
        "id": "RVGXjxWmn233"
      },
      "outputs": [],
      "source": [
        "#Create new model on top\n",
        "from keras.models import Sequential\n",
        "from keras.layers import Dense,Flatten,Dropout\n",
        "model=Sequential()\n",
        "model.add(base_model)\n",
        "model.add(Flatten())\n",
        "model.add(Dense(2048,activation='relu',kernel_initializer='he_normal'))\n",
        "model.add(Dropout(0.35))\n",
        "model.add(Dense(2048,activation='relu',kernel_initializer='he_normal'))\n",
        "model.add(Dropout(0.35))\n",
        "model.add(Dense(200,activation='softmax',kernel_initializer='glorot_normal'))"
      ]
    },
    {
      "cell_type": "code",
      "execution_count": null,
      "metadata": {
        "id": "MWG0lxc63gdS",
        "outputId": "e9a78bcc-86c6-42bc-c2b0-f7c6d1c176c1"
      },
      "outputs": [
        {
          "name": "stdout",
          "output_type": "stream",
          "text": [
            "Model: \"sequential_1\"\n",
            "_________________________________________________________________\n",
            "Layer (type)                 Output Shape              Param #   \n",
            "=================================================================\n",
            "vgg16 (Model)                (None, 7, 7, 512)         14714688  \n",
            "_________________________________________________________________\n",
            "flatten_1 (Flatten)          (None, 25088)             0         \n",
            "_________________________________________________________________\n",
            "dense_1 (Dense)              (None, 2048)              51382272  \n",
            "_________________________________________________________________\n",
            "dropout_1 (Dropout)          (None, 2048)              0         \n",
            "_________________________________________________________________\n",
            "dense_2 (Dense)              (None, 2048)              4196352   \n",
            "_________________________________________________________________\n",
            "dropout_2 (Dropout)          (None, 2048)              0         \n",
            "_________________________________________________________________\n",
            "dense_3 (Dense)              (None, 200)               409800    \n",
            "=================================================================\n",
            "Total params: 70,703,112\n",
            "Trainable params: 55,988,424\n",
            "Non-trainable params: 14,714,688\n",
            "_________________________________________________________________\n"
          ]
        }
      ],
      "source": [
        "model.summary()"
      ]
    },
    {
      "cell_type": "code",
      "execution_count": null,
      "metadata": {
        "id": "Orxrryghn238",
        "outputId": "6cb696e8-d0ca-4f09-def6-11656f8e5a26"
      },
      "outputs": [
        {
          "name": "stdout",
          "output_type": "stream",
          "text": [
            "Epoch 1/40\n",
            "430/430 [==============================] - 432s 1s/step - loss: 9.2624 - accuracy: 0.0733 - val_loss: 4.5225 - val_accuracy: 0.3290\n",
            "Epoch 2/40\n",
            "430/430 [==============================] - 382s 888ms/step - loss: 3.6967 - accuracy: 0.2902 - val_loss: 0.9933 - val_accuracy: 0.5950\n",
            "Epoch 3/40\n",
            "430/430 [==============================] - 383s 891ms/step - loss: 2.5594 - accuracy: 0.4823 - val_loss: 1.4507 - val_accuracy: 0.7640\n",
            "Epoch 4/40\n",
            "429/430 [============================>.] - ETA: 0s - loss: 1.9496 - accuracy: 0.5989Epoch 4/40\n",
            "430/430 [==============================] - 379s 882ms/step - loss: 1.9486 - accuracy: 0.5990 - val_loss: 0.4771 - val_accuracy: 0.8220\n",
            "Epoch 5/40\n",
            "430/430 [==============================] - 377s 878ms/step - loss: 1.5885 - accuracy: 0.6733 - val_loss: 0.3302 - val_accuracy: 0.8510\n",
            "Epoch 6/40\n",
            "430/430 [==============================] - 382s 889ms/step - loss: 1.3758 - accuracy: 0.7158 - val_loss: 0.8113 - val_accuracy: 0.8800\n",
            "Epoch 7/40\n",
            "430/430 [==============================] - 372s 865ms/step - loss: 1.1941 - accuracy: 0.7545 - val_loss: 0.5361 - val_accuracy: 0.8970\n",
            "Epoch 8/40\n",
            "430/430 [==============================] - 380s 884ms/step - loss: 1.1153 - accuracy: 0.7761 - val_loss: 0.0287 - val_accuracy: 0.8960\n",
            "Epoch 9/40\n",
            "430/430 [==============================] - 384s 893ms/step - loss: 1.0177 - accuracy: 0.7978 - val_loss: 0.1097 - val_accuracy: 0.9030\n",
            "Epoch 10/40\n",
            "430/430 [==============================] - 405s 942ms/step - loss: 0.9470 - accuracy: 0.8125 - val_loss: 1.1405 - val_accuracy: 0.9160\n",
            "Epoch 11/40\n",
            "Epoch 10/40\n",
            "430/430 [==============================] - 399s 928ms/step - loss: 0.8854 - accuracy: 0.8282 - val_loss: 0.9482 - val_accuracy: 0.9110\n",
            "Epoch 12/40\n",
            "430/430 [==============================] - 395s 920ms/step - loss: 0.8692 - accuracy: 0.8356 - val_loss: 0.0887 - val_accuracy: 0.9160\n",
            "Epoch 13/40\n",
            "430/430 [==============================] - 388s 903ms/step - loss: 0.8410 - accuracy: 0.8448 - val_loss: 0.1159 - val_accuracy: 0.9110\n",
            "Epoch 14/40\n",
            "430/430 [==============================] - 406s 944ms/step - loss: 0.7625 - accuracy: 0.8598 - val_loss: 0.3082 - val_accuracy: 0.9090\n",
            "Epoch 15/40\n",
            "430/430 [==============================] - 373s 867ms/step - loss: 0.7256 - accuracy: 0.8655 - val_loss: 0.0000e+00 - val_accuracy: 0.9280\n",
            "Epoch 15/40\n",
            "Epoch 16/40\n",
            "430/430 [==============================] - 388s 901ms/step - loss: 0.6971 - accuracy: 0.8746 - val_loss: 0.1621 - val_accuracy: 0.9250\n",
            "Epoch 17/40\n",
            "430/430 [==============================] - 389s 904ms/step - loss: 0.6927 - accuracy: 0.8784 - val_loss: 0.8463 - val_accuracy: 0.9310\n",
            "Epoch 18/40\n",
            "430/430 [==============================] - 384s 893ms/step - loss: 0.6620 - accuracy: 0.8814 - val_loss: 0.4081 - val_accuracy: 0.9340\n",
            "Epoch 19/40\n",
            "430/430 [==============================] - 389s 905ms/step - loss: 0.6328 - accuracy: 0.8908 - val_loss: 0.0000e+00 - val_accuracy: 0.9400\n",
            "Epoch 20/40\n",
            "430/430 [==============================] - 380s 884ms/step - loss: 0.6050 - accuracy: 0.8943 - val_loss: 0.0194 - val_accuracy: 0.9320\n",
            "Epoch 21/40\n",
            "430/430 [==============================] - 379s 881ms/step - loss: 0.5799 - accuracy: 0.9014 - val_loss: 0.6879 - val_accuracy: 0.9400\n",
            "Epoch 21/40\n",
            "Epoch 22/40\n",
            "430/430 [==============================] - 381s 886ms/step - loss: 0.5812 - accuracy: 0.9039 - val_loss: 0.1534 - val_accuracy: 0.9330\n",
            "Epoch 23/40\n",
            "Epoch 22/40\n",
            "430/430 [==============================] - 376s 875ms/step - loss: 0.5510 - accuracy: 0.9072 - val_loss: 0.6119 - val_accuracy: 0.9410\n",
            "Epoch 24/40\n",
            "430/430 [==============================] - 391s 909ms/step - loss: 0.5602 - accuracy: 0.9086 - val_loss: 0.0874 - val_accuracy: 0.9290\n",
            "Epoch 25/40\n",
            "430/430 [==============================] - 436s 1s/step - loss: 0.4979 - accuracy: 0.9160 - val_loss: 0.0016 - val_accuracy: 0.9440\n",
            "Epoch 26/40\n",
            "430/430 [==============================] - 433s 1s/step - loss: 0.4824 - accuracy: 0.9192 - val_loss: 4.5577e-04 - val_accuracy: 0.9410\n",
            "Epoch 27/40\n",
            "430/430 [==============================] - 403s 938ms/step - loss: 0.4728 - accuracy: 0.9230 - val_loss: 0.1236 - val_accuracy: 0.9430\n",
            "Epoch 28/40\n",
            "430/430 [==============================] - 414s 964ms/step - loss: 0.4715 - accuracy: 0.9245 - val_loss: 2.3139e-05 - val_accuracy: 0.9390\n",
            "Epoch 29/40\n",
            "430/430 [==============================] - 443s 1s/step - loss: 0.4667 - accuracy: 0.9264 - val_loss: 0.4228 - val_accuracy: 0.9440\n",
            "Epoch 30/40\n",
            "430/430 [==============================] - 437s 1s/step - loss: 0.4660 - accuracy: 0.9292 - val_loss: 1.5522e-04 - val_accuracy: 0.9440\n",
            "Epoch 31/40\n",
            "430/430 [==============================] - 390s 906ms/step - loss: 0.4415 - accuracy: 0.9319 - val_loss: 2.1177 - val_accuracy: 0.9370\n",
            "Epoch 32/40\n",
            "430/430 [==============================] - 375s 872ms/step - loss: 0.4362 - accuracy: 0.9304 - val_loss: 0.0387 - val_accuracy: 0.9450\n",
            "Epoch 33/40\n",
            "430/430 [==============================] - 391s 910ms/step - loss: 0.4315 - accuracy: 0.9332 - val_loss: 0.0451 - val_accuracy: 0.9470\n",
            "Epoch 34/40\n",
            "430/430 [==============================] - 378s 878ms/step - loss: 0.3877 - accuracy: 0.9391 - val_loss: 0.1167 - val_accuracy: 0.9380\n",
            "Epoch 35/40\n",
            "430/430 [==============================] - 385s 895ms/step - loss: 0.3860 - accuracy: 0.9400 - val_loss: 0.9480 - val_accuracy: 0.9450\n",
            "Epoch 36/40\n",
            "Epoch 35/40\n",
            "430/430 [==============================] - 389s 905ms/step - loss: 0.3869 - accuracy: 0.9397 - val_loss: 0.0244 - val_accuracy: 0.9510\n",
            "Epoch 37/40\n",
            "430/430 [==============================] - 386s 899ms/step - loss: 0.4191 - accuracy: 0.9395 - val_loss: 8.9407e-08 - val_accuracy: 0.9470\n",
            "\n",
            "Epoch 38/40\n",
            "430/430 [==============================] - 390s 907ms/step - loss: 0.3654 - accuracy: 0.9444 - val_loss: 4.0534 - val_accuracy: 0.9490\n",
            "Epoch 39/40\n",
            "430/430 [==============================] - 386s 897ms/step - loss: 0.3736 - accuracy: 0.9424 - val_loss: 1.9462 - val_accuracy: 0.9470\n",
            "Epoch 40/40\n",
            "430/430 [==============================] - 388s 902ms/step - loss: 0.3440 - accuracy: 0.9472 - val_loss: 0.0000e+00 - val_accuracy: 0.9480\n"
          ]
        }
      ],
      "source": [
        "#Train the model on new data.\n",
        "model.compile(optimizer=keras.optimizers.Adam(1e-4),loss='categorical_crossentropy',metrics=['accuracy'])\n",
        "history=model.fit(train_generator,epochs=40,validation_data=val_generator,workers=10,use_multiprocessing=True)"
      ]
    },
    {
      "cell_type": "code",
      "execution_count": null,
      "metadata": {
        "id": "ZHe5DHbtxCwP",
        "outputId": "bc26bbd6-aada-4685-98ca-1efc772e7f5c"
      },
      "outputs": [
        {
          "data": {
            "image/png": "[encoded data removed]",
            "text/plain": [
              "<Figure size 432x288 with 1 Axes>"
            ]
          },
          "metadata": {
            "needs_background": "light"
          },
          "output_type": "display_data"
        },
        {
          "data": {
            "image/png": "[encoded data removed]",
            "text/plain": [
              "<Figure size 432x288 with 1 Axes>"
            ]
          },
          "metadata": {
            "needs_background": "light"
          },
          "output_type": "display_data"
        }
      ],
      "source": [
        "#Some visualizations\n",
        "import matplotlib.pyplot as plt\n",
        "#Loss\n",
        "plt.plot(history.history['loss'],label='loss')\n",
        "plt.plot(history.history['val_loss'],label='val_loss')\n",
        "plt.legend()\n",
        "plt.show()\n",
        "#Accuracy\n",
        "plt.plot(history.history['accuracy'],label='acc')\n",
        "plt.plot(history.history['val_accuracy'],label='val_acc')\n",
        "plt.legend()\n",
        "plt.show()"
      ]
    },
    {
      "cell_type": "markdown",
      "metadata": {
        "id": "DTPjcCErxCwX"
      },
      "source": [
        "# **Fine-Tuning**"
      ]
    },
    {
      "cell_type": "code",
      "execution_count": null,
      "metadata": {
        "id": "_vPLBfMAxCwX"
      },
      "outputs": [],
      "source": [
        "base_model=model.layers[0]"
      ]
    },
    {
      "cell_type": "code",
      "execution_count": null,
      "metadata": {
        "id": "6jPE1ZDzxCwa",
        "outputId": "a1c0649a-6b69-453a-c158-0ef26b748550"
      },
      "outputs": [
        {
          "name": "stdout",
          "output_type": "stream",
          "text": [
            "Model: \"vgg16\"\n",
            "_________________________________________________________________\n",
            "Layer (type)                 Output Shape              Param #   \n",
            "=================================================================\n",
            "input_1 (InputLayer)         (None, 224, 224, 3)       0         \n",
            "_________________________________________________________________\n",
            "block1_conv1 (Conv2D)        (None, 224, 224, 64)      1792      \n",
            "_________________________________________________________________\n",
            "block1_conv2 (Conv2D)        (None, 224, 224, 64)      36928     \n",
            "_________________________________________________________________\n",
            "block1_pool (MaxPooling2D)   (None, 112, 112, 64)      0         \n",
            "_________________________________________________________________\n",
            "block2_conv1 (Conv2D)        (None, 112, 112, 128)     73856     \n",
            "_________________________________________________________________\n",
            "block2_conv2 (Conv2D)        (None, 112, 112, 128)     147584    \n",
            "_________________________________________________________________\n",
            "block2_pool (MaxPooling2D)   (None, 56, 56, 128)       0         \n",
            "_________________________________________________________________\n",
            "block3_conv1 (Conv2D)        (None, 56, 56, 256)       295168    \n",
            "_________________________________________________________________\n",
            "block3_conv2 (Conv2D)        (None, 56, 56, 256)       590080    \n",
            "_________________________________________________________________\n",
            "block3_conv3 (Conv2D)        (None, 56, 56, 256)       590080    \n",
            "_________________________________________________________________\n",
            "block3_pool (MaxPooling2D)   (None, 28, 28, 256)       0         \n",
            "_________________________________________________________________\n",
            "block4_conv1 (Conv2D)        (None, 28, 28, 512)       1180160   \n",
            "_________________________________________________________________\n",
            "block4_conv2 (Conv2D)        (None, 28, 28, 512)       2359808   \n",
            "_________________________________________________________________\n",
            "block4_conv3 (Conv2D)        (None, 28, 28, 512)       2359808   \n",
            "_________________________________________________________________\n",
            "block4_pool (MaxPooling2D)   (None, 14, 14, 512)       0         \n",
            "_________________________________________________________________\n",
            "block5_conv1 (Conv2D)        (None, 14, 14, 512)       2359808   \n",
            "_________________________________________________________________\n",
            "block5_conv2 (Conv2D)        (None, 14, 14, 512)       2359808   \n",
            "_________________________________________________________________\n",
            "block5_conv3 (Conv2D)        (None, 14, 14, 512)       2359808   \n",
            "_________________________________________________________________\n",
            "block5_pool (MaxPooling2D)   (None, 7, 7, 512)         0         \n",
            "=================================================================\n",
            "Total params: 14,714,688\n",
            "Trainable params: 12,979,200\n",
            "Non-trainable params: 1,735,488\n",
            "_________________________________________________________________\n",
            "Model: \"sequential_1\"\n",
            "_________________________________________________________________\n",
            "Layer (type)                 Output Shape              Param #   \n",
            "=================================================================\n",
            "vgg16 (Model)                (None, 7, 7, 512)         14714688  \n",
            "_________________________________________________________________\n",
            "flatten_1 (Flatten)          (None, 25088)             0         \n",
            "_________________________________________________________________\n",
            "dense_1 (Dense)              (None, 2048)              51382272  \n",
            "_________________________________________________________________\n",
            "dropout_1 (Dropout)          (None, 2048)              0         \n",
            "_________________________________________________________________\n",
            "dense_2 (Dense)              (None, 2048)              4196352   \n",
            "_________________________________________________________________\n",
            "dropout_2 (Dropout)          (None, 2048)              0         \n",
            "_________________________________________________________________\n",
            "dense_3 (Dense)              (None, 200)               409800    \n",
            "=================================================================\n",
            "Total params: 57,723,912\n",
            "Trainable params: 55,988,424\n",
            "Non-trainable params: 1,735,488\n",
            "_________________________________________________________________\n"
          ]
        },
        {
          "name": "stderr",
          "output_type": "stream",
          "text": [
            "/opt/conda/lib/python3.7/site-packages/keras/engine/training.py:297: UserWarning: Discrepancy between trainable weights and collected trainable weights, did you set `model.trainable` without calling `model.compile` after ?\n",
            "  'Discrepancy between trainable weights and collected trainable'\n"
          ]
        }
      ],
      "source": [
        "#Un-Freezing last 2 blocks(i.e. block4 and 5)\n",
        "\n",
        "base_model.trainable = True\n",
        "\n",
        "set_trainable = False\n",
        "for layer in base_model.layers:\n",
        "    if layer.name == 'block4_conv1':\n",
        "        set_trainable = True\n",
        "    if set_trainable:\n",
        "        layer.trainable = True\n",
        "    else:\n",
        "        layer.trainable = False\n",
        "        \n",
        "base_model.summary()\n",
        "model.summary()"
      ]
    },
    {
      "cell_type": "code",
      "execution_count": null,
      "metadata": {
        "id": "KSY3OvKqxCwc"
      },
      "outputs": [],
      "source": [
        "model.compile(optimizer=keras.optimizers.Adam(1e-5),loss='categorical_crossentropy',metrics=['accuracy'])"
      ]
    },
    {
      "cell_type": "code",
      "execution_count": null,
      "metadata": {
        "id": "aptqmo9mzRC1",
        "outputId": "20b9176b-95d9-4f3b-85bb-89436e9a98b3"
      },
      "outputs": [
        {
          "name": "stdout",
          "output_type": "stream",
          "text": [
            "Epoch 1/30\n",
            "429/430 [============================>.] - ETA: 0s - loss: 0.2145 - accuracy: 0.9520Epoch 1/30\n",
            "Epoch 1/30\n",
            "430/430 [==============================] - 386s 897ms/step - loss: 0.2145 - accuracy: 0.9520 - val_loss: 0.0045 - val_accuracy: 0.9600\n",
            "Epoch 2/30\n",
            "430/430 [==============================] - 374s 869ms/step - loss: 0.1541 - accuracy: 0.9617 - val_loss: 3.4204e-04 - val_accuracy: 0.9530\n",
            "Epoch 3/30\n",
            "Epoch 2/30\n",
            "430/430 [==============================] - 373s 868ms/step - loss: 0.1412 - accuracy: 0.9641 - val_loss: 5.9605e-08 - val_accuracy: 0.9590\n",
            "Epoch 4/30\n",
            "430/430 [==============================] - 377s 876ms/step - loss: 0.1330 - accuracy: 0.9649 - val_loss: 0.0363 - val_accuracy: 0.9550\n",
            "Epoch 5/30\n",
            "430/430 [==============================] - 375s 872ms/step - loss: 0.1203 - accuracy: 0.9691 - val_loss: 0.0000e+00 - val_accuracy: 0.9520\n",
            "Epoch 6/30\n",
            "430/430 [==============================] - 381s 885ms/step - loss: 0.1060 - accuracy: 0.9721 - val_loss: 0.0018 - val_accuracy: 0.9580\n",
            "Epoch 7/30\n",
            "430/430 [==============================] - 380s 884ms/step - loss: 0.1072 - accuracy: 0.9716 - val_loss: 1.4856e-05 - val_accuracy: 0.9610\n",
            "Epoch 8/30\n",
            "430/430 [==============================] - 380s 884ms/step - loss: 0.1024 - accuracy: 0.9733 - val_loss: 1.3053e-05 - val_accuracy: 0.9590\n",
            "Epoch 9/30\n",
            "430/430 [==============================] - 383s 891ms/step - loss: 0.0961 - accuracy: 0.9743 - val_loss: 3.8916e-05 - val_accuracy: 0.9540\n",
            "Epoch 10/30\n",
            "430/430 [==============================] - 369s 859ms/step - loss: 0.0923 - accuracy: 0.9764 - val_loss: 1.4156e-04 - val_accuracy: 0.9590\n",
            "Epoch 10/30\n",
            "Epoch 11/30\n",
            "430/430 [==============================] - 366s 852ms/step - loss: 0.0927 - accuracy: 0.9747 - val_loss: 2.0726e-05 - val_accuracy: 0.9590\n",
            "Epoch 12/30\n",
            "430/430 [==============================] - 392s 911ms/step - loss: 0.0857 - accuracy: 0.9767 - val_loss: 0.1688 - val_accuracy: 0.9600\n",
            "Epoch 13/30\n",
            "430/430 [==============================] - 383s 890ms/step - loss: 0.0865 - accuracy: 0.9760 - val_loss: 0.2664 - val_accuracy: 0.9590\n",
            "Epoch 14/30\n",
            "430/430 [==============================] - 387s 899ms/step - loss: 0.0830 - accuracy: 0.9780 - val_loss: 0.0776 - val_accuracy: 0.9580\n",
            "Epoch 15/30\n",
            "430/430 [==============================] - 380s 883ms/step - loss: 0.0752 - accuracy: 0.9801 - val_loss: 0.0031 - val_accuracy: 0.9590\n",
            "Epoch 16/30\n",
            "430/430 [==============================] - 384s 893ms/step - loss: 0.0778 - accuracy: 0.9788 - val_loss: 0.3385 - val_accuracy: 0.9570\n",
            "Epoch 17/30\n",
            "430/430 [==============================] - 379s 881ms/step - loss: 0.0767 - accuracy: 0.9800 - val_loss: 1.0877e-05 - val_accuracy: 0.9550\n",
            "Epoch 18/30\n",
            "430/430 [==============================] - 377s 876ms/step - loss: 0.0641 - accuracy: 0.9824 - val_loss: 3.8867e-04 - val_accuracy: 0.9610\n",
            "Epoch 19/30\n",
            "430/430 [==============================] - 385s 895ms/step - loss: 0.0652 - accuracy: 0.9817 - val_loss: 0.0000e+00 - val_accuracy: 0.9620\n",
            "Epoch 20/30\n",
            "430/430 [==============================] - 388s 903ms/step - loss: 0.0646 - accuracy: 0.9826 - val_loss: 0.3888 - val_accuracy: 0.9620\n",
            "Epoch 21/30\n",
            "430/430 [==============================] - 381s 885ms/step - loss: 0.0645 - accuracy: 0.9821 - val_loss: 0.0558 - val_accuracy: 0.9600\n",
            "Epoch 22/30\n",
            "430/430 [==============================] - 380s 885ms/step - loss: 0.0670 - accuracy: 0.9814 - val_loss: 8.4936e-07 - val_accuracy: 0.9620\n",
            "Epoch 23/30\n",
            "430/430 [==============================] - 382s 889ms/step - loss: 0.0560 - accuracy: 0.9845 - val_loss: 0.0044 - val_accuracy: 0.9630\n",
            "Epoch 24/30\n",
            "430/430 [==============================] - 382s 889ms/step - loss: 0.0602 - accuracy: 0.9836 - val_loss: 1.1629e-04 - val_accuracy: 0.9570\n",
            "Epoch 25/30\n",
            "430/430 [==============================] - 375s 871ms/step - loss: 0.0568 - accuracy: 0.9838 - val_loss: 0.4430 - val_accuracy: 0.9620\n",
            "Epoch 26/30\n",
            "430/430 [==============================] - 364s 845ms/step - loss: 0.0579 - accuracy: 0.9844 - val_loss: 5.2749e-06 - val_accuracy: 0.9550\n",
            "Epoch 27/30\n",
            "430/430 [==============================] - 373s 868ms/step - loss: 0.0619 - accuracy: 0.9834 - val_loss: 0.7090 - val_accuracy: 0.9590\n",
            "Epoch 28/30\n",
            "430/430 [==============================] - 401s 933ms/step - loss: 0.0491 - accuracy: 0.9867 - val_loss: 5.5134e-07 - val_accuracy: 0.9610\n",
            "Epoch 29/30\n",
            "430/430 [==============================] - 390s 908ms/step - loss: 0.0517 - accuracy: 0.9855 - val_loss: 0.8714 - val_accuracy: 0.9580\n",
            "Epoch 30/30\n",
            "430/430 [==============================] - 402s 934ms/step - loss: 0.0498 - accuracy: 0.9860 - val_loss: 0.0135 - val_accuracy: 0.9630\n"
          ]
        }
      ],
      "source": [
        "#Lets fine-tune finally....\n",
        "history=model.fit(train_generator,epochs=30,validation_data=val_generator,workers=10,use_multiprocessing=True)"
      ]
    },
    {
      "cell_type": "code",
      "execution_count": null,
      "metadata": {
        "id": "__V1X4vxxCwi",
        "outputId": "7722442f-28f2-4fb5-8080-1a48952b591a"
      },
      "outputs": [
        {
          "name": "stdout",
          "output_type": "stream",
          "text": [
            "Epoch 1/10\n",
            "429/430 [============================>.] - ETA: 0s - loss: 0.0397 - accuracy: 0.9889Epoch 1/10\n",
            "430/430 [==============================] - 407s 947ms/step - loss: 0.0396 - accuracy: 0.9889 - val_loss: 0.5046 - val_accuracy: 0.9640\n",
            "Epoch 2/10\n",
            "430/430 [==============================] - 398s 925ms/step - loss: 0.0334 - accuracy: 0.9901 - val_loss: 0.0027 - val_accuracy: 0.9650\n",
            "Epoch 3/10\n",
            "430/430 [==============================] - 397s 924ms/step - loss: 0.0369 - accuracy: 0.9893 - val_loss: 1.5199e-06 - val_accuracy: 0.9650\n",
            "Epoch 4/10\n",
            "430/430 [==============================] - 386s 898ms/step - loss: 0.0347 - accuracy: 0.9900 - val_loss: 6.4520e-06 - val_accuracy: 0.9660\n",
            "Epoch 5/10\n",
            "430/430 [==============================] - 386s 898ms/step - loss: 0.0337 - accuracy: 0.9898 - val_loss: 0.0000e+00 - val_accuracy: 0.9610\n",
            "Epoch 6/10\n",
            "430/430 [==============================] - 393s 913ms/step - loss: 0.0339 - accuracy: 0.9904 - val_loss: 0.0015 - val_accuracy: 0.9630\n",
            "Epoch 7/10\n",
            "430/430 [==============================] - 400s 930ms/step - loss: 0.0304 - accuracy: 0.9911 - val_loss: 0.4562 - val_accuracy: 0.9640\n",
            "Epoch 8/10\n",
            "430/430 [==============================] - 375s 873ms/step - loss: 0.0286 - accuracy: 0.9915 - val_loss: 3.6383e-05 - val_accuracy: 0.9650\n",
            "Epoch 9/10\n",
            "Epoch 8/10\n",
            "430/430 [==============================] - 395s 919ms/step - loss: 0.0301 - accuracy: 0.9908 - val_loss: 0.0018 - val_accuracy: 0.9650\n",
            "Epoch 10/10\n",
            "430/430 [==============================] - 396s 921ms/step - loss: 0.0305 - accuracy: 0.9908 - val_loss: 8.5977e-06 - val_accuracy: 0.9660\n"
          ]
        }
      ],
      "source": [
        "#few more epochs with low l_rate\n",
        "model.compile(optimizer=keras.optimizers.Adam(1e-6),loss='categorical_crossentropy',metrics=['accuracy'])\n",
        "history=model.fit(train_generator,epochs=10,validation_data=val_generator,workers=10,use_multiprocessing=True)"
      ]
    },
    {
      "cell_type": "code",
      "execution_count": null,
      "metadata": {
        "id": "cAOwTcuo-pE8"
      },
      "outputs": [],
      "source": [
        "model.save(\"model_fine_tuned\")"
      ]
    },
    {
      "cell_type": "markdown",
      "metadata": {
        "id": "eGqNL7H5kGf8"
      },
      "source": [
        "# 3.) Evaluation on Test Set"
      ]
    },
    {
      "cell_type": "code",
      "execution_count": null,
      "metadata": {
        "id": "ZXULYEZOkJXD",
        "outputId": "debc3e1c-fbbc-4d14-9de4-8c0e608bb442"
      },
      "outputs": [
        {
          "name": "stdout",
          "output_type": "stream",
          "text": [
            "32/32 [==============================] - 6s 187ms/step\n"
          ]
        },
        {
          "data": {
            "text/plain": [
              "[1.349977628706256e-05, 0.9909999966621399]"
            ]
          },
          "execution_count": 15,
          "metadata": {},
          "output_type": "execute_result"
        }
      ],
      "source": [
        "model.evaluate(test_generator,use_multiprocessing=True,workers=10)"
      ]
    }
  ],
  "metadata": {
    "kernelspec": {
      "display_name": "Python 3",
      "language": "python",
      "name": "python3"
    },
    "language_info": {
      "codemirror_mode": {
        "name": "ipython",
        "version": 3
      },
      "file_extension": ".py",
      "mimetype": "text/x-python",
      "name": "python",
      "nbconvert_exporter": "python",
      "pygments_lexer": "ipython3",
      "version": "3.7.6"
    },
    "colab": {
      "name": "Bird Species Classification",
      "provenance": [],
      "include_colab_link": true
    }
  },
  "nbformat": 4,
  "nbformat_minor": 0
}