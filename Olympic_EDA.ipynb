{
  "nbformat": 4,
  "nbformat_minor": 0,
  "metadata": {
    "colab": {
      "name": "Olympic EDA.ipynb",
      "provenance": [],
      "authorship_tag": "ABX9TyM+qpyzIJbKTIofvLUZZDRa",
      "include_colab_link": true
    },
    "kernelspec": {
      "name": "python3",
      "display_name": "Python 3"
    },
    "language_info": {
      "name": "python"
    }
  },
  "cells": [
    {
      "cell_type": "markdown",
      "metadata": {
        "id": "view-in-github",
        "colab_type": "text"
      },
      "source": [
        "<a href=\"https://colab.research.google.com/github/DataMinati/Super-Notebooks-1K/blob/main/Olympic_EDA.ipynb\" target=\"_parent\"><img src=\"https://colab.research.google.com/assets/colab-badge.svg\" alt=\"Open In Colab\"/></a>"
      ]
    },
    {
      "cell_type": "markdown",
      "metadata": {
        "id": "_2LVxej3Uv-z"
      },
      "source": [
        "## AIM OF ANALYSIS:\n",
        "\n",
        "### Analysis of Athletes informations in Tokyo 2021\n",
        "\n",
        "1.Which country competes in olympics the most athletes?\n",
        "\n",
        "2.Which country competes in olympics the least athletes?\n",
        "\n",
        "3.Which Olympic game where the most athletes compete?\n",
        "\n",
        "4.Which Olympic game where the least athletes compete?\n",
        "\n",
        "----------------------------------------------------\n",
        "\n",
        "### Analysis of Teams informations in Tokyo 2021\n",
        "\n",
        "1.How many teams participate in each Olympic game?\n",
        "\n",
        "2.What are the Men teams participate in Football game?\n",
        "\n",
        "3.What are the Women teams participate in Football game?\n",
        "\n",
        "4.What are the Men teams participate in Baskitball game?\n",
        "\n",
        "5.What are the Women teams participate in Baskitball game?\n",
        "\n",
        "6.What are the Men teams participate in Volleyball game?\n",
        "\n",
        "7.What are the Women teams participate in Volleyball game?\n",
        "\n",
        "8.What are the Men teams participate in Handball game?\n",
        "\n",
        "9.What are the Women teams participate in Handball game?\n",
        "\n",
        "10.What are the Men teams participate in Hockey game?\n",
        "\n",
        "11.What are the Women teams participate in Hockey game?\n",
        "\n",
        "------------------------------------------------------\n",
        "\n",
        "### Analysis of Coaches informations in Tokyo 2021\n",
        "\n",
        "1.What are the most participating countries by number of Coaches?\n",
        "\n",
        "2.What are the least participating countries by number of Coaches?\n",
        "\n",
        "3.How many of Coaches participate in each olympic game?\n",
        "\n",
        "4.How many of Coaches by each Country participate in Football game?\n",
        "\n",
        "5.How many of Coaches by each Country participate in Baskitball game?\n",
        "\n",
        "6.How many of Coaches by each Country participate in Volleyball game?\n",
        "\n",
        "7.How many of Coaches by each Country participate in Handball game?\n",
        "\n",
        "8.How many of Coaches by each Country participate in Swimming game?\n",
        "\n",
        "-----------------------------------------------------\n",
        "\n",
        "### Analysis of Athletes by Gender informations in Tokyo 2021\n",
        "\n",
        "1.Which Olympic Games the most participation by females?\n",
        "\n",
        "2.Which Olympic Games the least participation by females?\n",
        "\n",
        "3.Which Olympic Games the most participation by males?\n",
        "\n",
        "4.Which Olympic Games the least participation by males?\n",
        "\n",
        "5.Which Olympic Games the most percentage participation by male?\n",
        "\n",
        "6.Which Olympic Games the most percentage participation by female?\n",
        "\n",
        "7.Which Olympic Games the least percentage participation by female?\n",
        "\n",
        "8.Which Olympic Games the most percentage participation by male?\n",
        "\n",
        "9.Which Olympic Games the least percentage participation by male?\n",
        "\n",
        "10.Which Olympic Games the most participation by both genders?\n",
        "\n",
        "11.Which Olympic Games the least participation by both genders?\n",
        "\n",
        "-----------------------------------------------------\n",
        "\n",
        "### Analysis of Medals by Countriy informations in Tokyo 2021\n",
        "\n",
        "1.Which countries acheved the most gold medals?\n",
        "\n",
        "2.Which countries acheved the least gold medals?\n",
        "\n",
        "3.Which countries acheved the most bronze medals?\n",
        "\n",
        "4.Which countries acheved the least bronze medals?\n",
        "\n",
        "5.Which countries acheved the most total medals?\n",
        "\n",
        "6.Which countries acheved the least total medals?\n",
        "\n",
        "-----------------------------------------------------\n",
        "\n",
        "\n"
      ]
    },
    {
      "cell_type": "markdown",
      "metadata": {
        "id": "H18nuejQWMqb"
      },
      "source": [
        "### Importing the libraries"
      ]
    },
    {
      "cell_type": "code",
      "metadata": {
        "id": "r9Gf-Pn0UsxX"
      },
      "source": [
        "import os\n",
        "import pandas as pd\n",
        "import matplotlib.pyplot as plt\n",
        "import seaborn as sns\n",
        "plt.rcParams[\"figure.figsize\"] = (10,5)\n",
        "%matplotlib inline"
      ],
      "execution_count": 77,
      "outputs": []
    },
    {
      "cell_type": "code",
      "metadata": {
        "id": "Xm-vSN_pWO7V"
      },
      "source": [
        "Athletes = pd.read_csv('https://raw.githubusercontent.com/MainakRepositor/Datasets-/master/Tokyo-Olympics/Athletes.csv',error_bad_lines=False)\n",
        "Teams = pd.read_csv('https://raw.githubusercontent.com/MainakRepositor/Datasets-/master/Tokyo-Olympics/Teams.csv',encoding = \"ISO-8859-1\")\n",
        "Coaches = pd.read_csv('https://raw.githubusercontent.com/MainakRepositor/Datasets-/master/Tokyo-Olympics/Coaches.csv',error_bad_lines=False)\n",
        "Medals = pd.read_csv('https://raw.githubusercontent.com/MainakRepositor/Datasets-/master/Tokyo-Olympics/Medals.csv',error_bad_lines=False)\n",
        "Gender = pd.read_csv('https://raw.githubusercontent.com/MainakRepositor/Datasets-/master/Tokyo-Olympics/Gender.csv',error_bad_lines=False)"
      ],
      "execution_count": 78,
      "outputs": []
    },
    {
      "cell_type": "code",
      "metadata": {
        "colab": {
          "base_uri": "https://localhost:8080/"
        },
        "id": "cfYAMUkMXDXg",
        "outputId": "a5d94771-7932-40e8-d557-3b5098cd64ca"
      },
      "source": [
        "Athletes.shape"
      ],
      "execution_count": 79,
      "outputs": [
        {
          "output_type": "execute_result",
          "data": {
            "text/plain": [
              "(11085, 3)"
            ]
          },
          "metadata": {},
          "execution_count": 79
        }
      ]
    },
    {
      "cell_type": "code",
      "metadata": {
        "colab": {
          "base_uri": "https://localhost:8080/",
          "height": 202
        },
        "id": "i7nISzWdakFD",
        "outputId": "6eb79d48-3334-4955-cb5e-0ddf9b459ea9"
      },
      "source": [
        "Athletes.head()"
      ],
      "execution_count": 80,
      "outputs": [
        {
          "output_type": "execute_result",
          "data": {
            "text/html": [
              "<div>\n",
              "<style scoped>\n",
              "    .dataframe tbody tr th:only-of-type {\n",
              "        vertical-align: middle;\n",
              "    }\n",
              "\n",
              "    .dataframe tbody tr th {\n",
              "        vertical-align: top;\n",
              "    }\n",
              "\n",
              "    .dataframe thead th {\n",
              "        text-align: right;\n",
              "    }\n",
              "</style>\n",
              "<table border=\"1\" class=\"dataframe\">\n",
              "  <thead>\n",
              "    <tr style=\"text-align: right;\">\n",
              "      <th></th>\n",
              "      <th>Name</th>\n",
              "      <th>Country</th>\n",
              "      <th>Play</th>\n",
              "    </tr>\n",
              "  </thead>\n",
              "  <tbody>\n",
              "    <tr>\n",
              "      <th>0</th>\n",
              "      <td>AALERUD Katrine</td>\n",
              "      <td>Norway</td>\n",
              "      <td>Cycling Road</td>\n",
              "    </tr>\n",
              "    <tr>\n",
              "      <th>1</th>\n",
              "      <td>ABAD Nestor</td>\n",
              "      <td>Spain</td>\n",
              "      <td>Artistic Gymnastics</td>\n",
              "    </tr>\n",
              "    <tr>\n",
              "      <th>2</th>\n",
              "      <td>ABAGNALE Giovanni</td>\n",
              "      <td>Italy</td>\n",
              "      <td>Rowing</td>\n",
              "    </tr>\n",
              "    <tr>\n",
              "      <th>3</th>\n",
              "      <td>ABALDE Alberto</td>\n",
              "      <td>Spain</td>\n",
              "      <td>Basketball</td>\n",
              "    </tr>\n",
              "    <tr>\n",
              "      <th>4</th>\n",
              "      <td>ABALDE Tamara</td>\n",
              "      <td>Spain</td>\n",
              "      <td>Basketball</td>\n",
              "    </tr>\n",
              "  </tbody>\n",
              "</table>\n",
              "</div>"
            ],
            "text/plain": [
              "                Name Country                 Play\n",
              "0    AALERUD Katrine  Norway         Cycling Road\n",
              "1        ABAD Nestor   Spain  Artistic Gymnastics\n",
              "2  ABAGNALE Giovanni   Italy               Rowing\n",
              "3     ABALDE Alberto   Spain           Basketball\n",
              "4      ABALDE Tamara   Spain           Basketball"
            ]
          },
          "metadata": {},
          "execution_count": 80
        }
      ]
    },
    {
      "cell_type": "code",
      "metadata": {
        "colab": {
          "base_uri": "https://localhost:8080/"
        },
        "id": "Sx9mF-pIanK_",
        "outputId": "616e3ebf-a27e-45dc-ee13-7ed86e25bebb"
      },
      "source": [
        "# Country with most number of competitors\n",
        "Athletes.groupby('Country')['Name'].count().sort_values(ascending=False).head(15)"
      ],
      "execution_count": 81,
      "outputs": [
        {
          "output_type": "execute_result",
          "data": {
            "text/plain": [
              "Country\n",
              "United States of America      615\n",
              "Japan                         586\n",
              "Australia                     470\n",
              "People's Republic of China    401\n",
              "Germany                       400\n",
              "France                        377\n",
              "Canada                        368\n",
              "Great Britain                 366\n",
              "Italy                         356\n",
              "Spain                         324\n",
              "ROC                           318\n",
              "Brazil                        291\n",
              "Netherlands                   274\n",
              "Republic of Korea             223\n",
              "New Zealand                   202\n",
              "Name: Name, dtype: int64"
            ]
          },
          "metadata": {},
          "execution_count": 81
        }
      ]
    },
    {
      "cell_type": "code",
      "metadata": {
        "colab": {
          "base_uri": "https://localhost:8080/",
          "height": 374
        },
        "id": "rd4zq_OTavcz",
        "outputId": "7b26e8ea-c0e0-4b43-d407-497d28ae42dd"
      },
      "source": [
        "Athletes.groupby('Country')['Name'].count().sort_values(ascending=False).head(15).plot(legend=False,kind='barh',\n",
        "                                                                        colormap='BuPu_r',\n",
        "                                                                        figsize=(8,6),title='')\n",
        "plt.show()"
      ],
      "execution_count": 82,
      "outputs": [
        {
          "output_type": "display_data",
          "data": {
            "image/png": "[encoded data removed]",
            "text/plain": [
              "<Figure size 576x432 with 1 Axes>"
            ]
          },
          "metadata": {
            "needs_background": "light"
          }
        }
      ]
    },
    {
      "cell_type": "code",
      "metadata": {
        "colab": {
          "base_uri": "https://localhost:8080/"
        },
        "id": "h4YGPh0Wa2-1",
        "outputId": "5aa70cd6-9afc-4284-cd27-2ca27984f50a"
      },
      "source": [
        "# Country with least number of competitors\n",
        "Athletes.groupby('Country')['Name'].count().sort_values(ascending=False).tail(15)"
      ],
      "execution_count": 83,
      "outputs": [
        {
          "output_type": "execute_result",
          "data": {
            "text/plain": [
              "Country\n",
              "Marshall Islands                 2\n",
              "Mauritania                       2\n",
              "Bermuda                          2\n",
              "Andorra                          2\n",
              "Vanuatu                          2\n",
              "United Republic of Tanzania      2\n",
              "Tuvalu                           2\n",
              "South Sudan                      2\n",
              "Myanmar                          2\n",
              "Nauru                            2\n",
              "Saint Kitts and Nevis            2\n",
              "Brunei Darussalam                2\n",
              "Lesotho                          2\n",
              "St Vincent and the Grenadines    2\n",
              "Dominica                         2\n",
              "Name: Name, dtype: int64"
            ]
          },
          "metadata": {},
          "execution_count": 83
        }
      ]
    },
    {
      "cell_type": "code",
      "metadata": {
        "colab": {
          "base_uri": "https://localhost:8080/"
        },
        "id": "Nxm84_z7bD6e",
        "outputId": "f2c2b6a1-b5f2-40dd-f5cc-4fab8cad4a1d"
      },
      "source": [
        "# Most participated sport\n",
        "Athletes.groupby('Play')['Name'].count().sort_values(ascending=False).head(15)"
      ],
      "execution_count": 84,
      "outputs": [
        {
          "output_type": "execute_result",
          "data": {
            "text/plain": [
              "Play\n",
              "Athletics       2068\n",
              "Swimming         743\n",
              "Football         567\n",
              "Rowing           496\n",
              "Hockey           406\n",
              "Judo             373\n",
              "Handball         343\n",
              "Shooting         342\n",
              "Sailing          336\n",
              "Rugby Sevens     283\n",
              "Basketball       280\n",
              "Wrestling        279\n",
              "Volleyball       274\n",
              "Boxing           270\n",
              "Water Polo       269\n",
              "Name: Name, dtype: int64"
            ]
          },
          "metadata": {},
          "execution_count": 84
        }
      ]
    },
    {
      "cell_type": "code",
      "metadata": {
        "colab": {
          "base_uri": "https://localhost:8080/",
          "height": 374
        },
        "id": "HeH1X2jtbKD5",
        "outputId": "97a1314f-025b-4de1-dbc4-1ff349a46ff5"
      },
      "source": [
        "Athletes.groupby('Play')['Name'].count().sort_values(ascending=False).head(15).plot(legend=False,kind='barh',\n",
        "                                                                        colormap='ocean',\n",
        "                                                                        figsize=(8,6),title='')\n",
        "plt.show()"
      ],
      "execution_count": 85,
      "outputs": [
        {
          "output_type": "display_data",
          "data": {
            "image/png": "[encoded data removed]",
            "text/plain": [
              "<Figure size 576x432 with 1 Axes>"
            ]
          },
          "metadata": {
            "needs_background": "light"
          }
        }
      ]
    },
    {
      "cell_type": "code",
      "metadata": {
        "colab": {
          "base_uri": "https://localhost:8080/"
        },
        "id": "BNjvovWCbOW0",
        "outputId": "df108cd1-b053-4e95-e3b4-39ccf9371912"
      },
      "source": [
        "# Least athletes competed\n",
        "Athletes.groupby('Play')['Name'].count().sort_values(ascending=False).tail(15)"
      ],
      "execution_count": 86,
      "outputs": [
        {
          "output_type": "execute_result",
          "data": {
            "text/plain": [
              "Play\n",
              "Artistic Swimming        98\n",
              "Rhythmic Gymnastics      95\n",
              "Beach Volleyball         90\n",
              "Canoe Slalom             78\n",
              "Skateboarding            77\n",
              "Karate                   77\n",
              "Cycling Mountain Bike    74\n",
              "Modern Pentathlon        69\n",
              "3x3 Basketball           62\n",
              "Marathon Swimming        49\n",
              "Cycling BMX Racing       43\n",
              "Surfing                  38\n",
              "Sport Climbing           37\n",
              "Trampoline Gymnastics    31\n",
              "Cycling BMX Freestyle    19\n",
              "Name: Name, dtype: int64"
            ]
          },
          "metadata": {},
          "execution_count": 86
        }
      ]
    },
    {
      "cell_type": "code",
      "metadata": {
        "colab": {
          "base_uri": "https://localhost:8080/"
        },
        "id": "oCUINTxObVyx",
        "outputId": "0e4886eb-5ad3-4398-eee0-5cfa95e193a4"
      },
      "source": [
        "Teams.shape"
      ],
      "execution_count": 87,
      "outputs": [
        {
          "output_type": "execute_result",
          "data": {
            "text/plain": [
              "(743, 3)"
            ]
          },
          "metadata": {},
          "execution_count": 87
        }
      ]
    },
    {
      "cell_type": "code",
      "metadata": {
        "colab": {
          "base_uri": "https://localhost:8080/",
          "height": 202
        },
        "id": "6VkoZIHAbZ9m",
        "outputId": "4462fe91-4b33-491f-fcbe-5448f7ae780d"
      },
      "source": [
        "Teams.head()"
      ],
      "execution_count": 88,
      "outputs": [
        {
          "output_type": "execute_result",
          "data": {
            "text/html": [
              "<div>\n",
              "<style scoped>\n",
              "    .dataframe tbody tr th:only-of-type {\n",
              "        vertical-align: middle;\n",
              "    }\n",
              "\n",
              "    .dataframe tbody tr th {\n",
              "        vertical-align: top;\n",
              "    }\n",
              "\n",
              "    .dataframe thead th {\n",
              "        text-align: right;\n",
              "    }\n",
              "</style>\n",
              "<table border=\"1\" class=\"dataframe\">\n",
              "  <thead>\n",
              "    <tr style=\"text-align: right;\">\n",
              "      <th></th>\n",
              "      <th>Name</th>\n",
              "      <th>Play</th>\n",
              "      <th>Event</th>\n",
              "    </tr>\n",
              "  </thead>\n",
              "  <tbody>\n",
              "    <tr>\n",
              "      <th>0</th>\n",
              "      <td>Belgium</td>\n",
              "      <td>3x3 Basketball</td>\n",
              "      <td>Men</td>\n",
              "    </tr>\n",
              "    <tr>\n",
              "      <th>1</th>\n",
              "      <td>China</td>\n",
              "      <td>3x3 Basketball</td>\n",
              "      <td>Men</td>\n",
              "    </tr>\n",
              "    <tr>\n",
              "      <th>2</th>\n",
              "      <td>China</td>\n",
              "      <td>3x3 Basketball</td>\n",
              "      <td>Women</td>\n",
              "    </tr>\n",
              "    <tr>\n",
              "      <th>3</th>\n",
              "      <td>France</td>\n",
              "      <td>3x3 Basketball</td>\n",
              "      <td>Women</td>\n",
              "    </tr>\n",
              "    <tr>\n",
              "      <th>4</th>\n",
              "      <td>Italy</td>\n",
              "      <td>3x3 Basketball</td>\n",
              "      <td>Women</td>\n",
              "    </tr>\n",
              "  </tbody>\n",
              "</table>\n",
              "</div>"
            ],
            "text/plain": [
              "      Name            Play  Event\n",
              "0  Belgium  3x3 Basketball    Men\n",
              "1    China  3x3 Basketball    Men\n",
              "2    China  3x3 Basketball  Women\n",
              "3   France  3x3 Basketball  Women\n",
              "4    Italy  3x3 Basketball  Women"
            ]
          },
          "metadata": {},
          "execution_count": 88
        }
      ]
    },
    {
      "cell_type": "code",
      "metadata": {
        "colab": {
          "base_uri": "https://localhost:8080/"
        },
        "id": "3H0i69FNbbyB",
        "outputId": "53b2c5a4-ada9-4adf-d2f9-892ff1b8e7a3"
      },
      "source": [
        "Teams['Play'].unique()"
      ],
      "execution_count": 89,
      "outputs": [
        {
          "output_type": "execute_result",
          "data": {
            "text/plain": [
              "array(['3x3 Basketball', 'Archery', 'Artistic Gymnastics',\n",
              "       'Artistic Swimming', 'Athletics', 'Baseball/Softball',\n",
              "       'Basketball', 'Beach Volleyball', 'Cycling Track', 'Fencing',\n",
              "       'Football', 'Handball', 'Hockey', 'Rhythmic Gymnastics',\n",
              "       'Rugby Sevens', 'Swimming', 'Table Tennis', 'Triathlon',\n",
              "       'Volleyball', 'Water Polo'], dtype=object)"
            ]
          },
          "metadata": {},
          "execution_count": 89
        }
      ]
    },
    {
      "cell_type": "code",
      "metadata": {
        "colab": {
          "base_uri": "https://localhost:8080/"
        },
        "id": "ffqcwkHwbdjB",
        "outputId": "2efc64e4-33b6-495c-dd03-df7254b9b230"
      },
      "source": [
        "# Teams in each olympic games\n",
        "Teams.groupby('Play')['Name'].count().sort_values(ascending=False)"
      ],
      "execution_count": 90,
      "outputs": [
        {
          "output_type": "execute_result",
          "data": {
            "text/plain": [
              "Play\n",
              "Swimming               113\n",
              "Athletics               79\n",
              "Cycling Track           64\n",
              "Archery                 53\n",
              "Fencing                 52\n",
              "Table Tennis            48\n",
              "Beach Volleyball        48\n",
              "Artistic Swimming       32\n",
              "Football                28\n",
              "Rugby Sevens            24\n",
              "Artistic Gymnastics     24\n",
              "Hockey                  24\n",
              "Handball                24\n",
              "Volleyball              24\n",
              "Basketball              24\n",
              "Water Polo              22\n",
              "Triathlon               18\n",
              "3x3 Basketball          16\n",
              "Rhythmic Gymnastics     14\n",
              "Baseball/Softball       12\n",
              "Name: Name, dtype: int64"
            ]
          },
          "metadata": {},
          "execution_count": 90
        }
      ]
    },
    {
      "cell_type": "code",
      "metadata": {
        "colab": {
          "base_uri": "https://localhost:8080/",
          "height": 390
        },
        "id": "m1l-QPKdbhbY",
        "outputId": "cf9ad2d0-c6d7-4610-af99-1e7e6026096c"
      },
      "source": [
        "Teams.groupby('Play')['Name'].count().sort_values(ascending=False).plot(legend=False,kind='barh',\n",
        "                                                                        colormap='Accent_r',\n",
        "                                                                        figsize=(8,6),title='number of teams per play')\n",
        "plt.show()"
      ],
      "execution_count": 91,
      "outputs": [
        {
          "output_type": "display_data",
          "data": {
            "image/png": "[encoded data removed]",
            "text/plain": [
              "<Figure size 576x432 with 1 Axes>"
            ]
          },
          "metadata": {
            "needs_background": "light"
          }
        }
      ]
    },
    {
      "cell_type": "code",
      "metadata": {
        "colab": {
          "base_uri": "https://localhost:8080/",
          "height": 540
        },
        "id": "v78Zw1MtbljA",
        "outputId": "e84fcb9b-1f80-4867-945d-363a87abf336"
      },
      "source": [
        "# Men teams in Football\n",
        "Teams[(Teams['Play']=='Football') & (Teams['Event']=='Men')]"
      ],
      "execution_count": 92,
      "outputs": [
        {
          "output_type": "execute_result",
          "data": {
            "text/html": [
              "<div>\n",
              "<style scoped>\n",
              "    .dataframe tbody tr th:only-of-type {\n",
              "        vertical-align: middle;\n",
              "    }\n",
              "\n",
              "    .dataframe tbody tr th {\n",
              "        vertical-align: top;\n",
              "    }\n",
              "\n",
              "    .dataframe thead th {\n",
              "        text-align: right;\n",
              "    }\n",
              "</style>\n",
              "<table border=\"1\" class=\"dataframe\">\n",
              "  <thead>\n",
              "    <tr style=\"text-align: right;\">\n",
              "      <th></th>\n",
              "      <th>Name</th>\n",
              "      <th>Play</th>\n",
              "      <th>Event</th>\n",
              "    </tr>\n",
              "  </thead>\n",
              "  <tbody>\n",
              "    <tr>\n",
              "      <th>404</th>\n",
              "      <td>Argentina</td>\n",
              "      <td>Football</td>\n",
              "      <td>Men</td>\n",
              "    </tr>\n",
              "    <tr>\n",
              "      <th>405</th>\n",
              "      <td>Australia</td>\n",
              "      <td>Football</td>\n",
              "      <td>Men</td>\n",
              "    </tr>\n",
              "    <tr>\n",
              "      <th>407</th>\n",
              "      <td>Brazil</td>\n",
              "      <td>Football</td>\n",
              "      <td>Men</td>\n",
              "    </tr>\n",
              "    <tr>\n",
              "      <th>412</th>\n",
              "      <td>Cï¿½ï¿½te dï¿</td>\n",
              "      <td>Football</td>\n",
              "      <td>Men</td>\n",
              "    </tr>\n",
              "    <tr>\n",
              "      <th>413</th>\n",
              "      <td>Egypt</td>\n",
              "      <td>Football</td>\n",
              "      <td>Men</td>\n",
              "    </tr>\n",
              "    <tr>\n",
              "      <th>414</th>\n",
              "      <td>France</td>\n",
              "      <td>Football</td>\n",
              "      <td>Men</td>\n",
              "    </tr>\n",
              "    <tr>\n",
              "      <th>415</th>\n",
              "      <td>Germany</td>\n",
              "      <td>Football</td>\n",
              "      <td>Men</td>\n",
              "    </tr>\n",
              "    <tr>\n",
              "      <th>417</th>\n",
              "      <td>Honduras</td>\n",
              "      <td>Football</td>\n",
              "      <td>Men</td>\n",
              "    </tr>\n",
              "    <tr>\n",
              "      <th>418</th>\n",
              "      <td>Japan</td>\n",
              "      <td>Football</td>\n",
              "      <td>Men</td>\n",
              "    </tr>\n",
              "    <tr>\n",
              "      <th>420</th>\n",
              "      <td>Mexico</td>\n",
              "      <td>Football</td>\n",
              "      <td>Men</td>\n",
              "    </tr>\n",
              "    <tr>\n",
              "      <th>422</th>\n",
              "      <td>New Zealand</td>\n",
              "      <td>Football</td>\n",
              "      <td>Men</td>\n",
              "    </tr>\n",
              "    <tr>\n",
              "      <th>424</th>\n",
              "      <td>Republic of Korea</td>\n",
              "      <td>Football</td>\n",
              "      <td>Men</td>\n",
              "    </tr>\n",
              "    <tr>\n",
              "      <th>425</th>\n",
              "      <td>Romania</td>\n",
              "      <td>Football</td>\n",
              "      <td>Men</td>\n",
              "    </tr>\n",
              "    <tr>\n",
              "      <th>426</th>\n",
              "      <td>Saudi Arabia</td>\n",
              "      <td>Football</td>\n",
              "      <td>Men</td>\n",
              "    </tr>\n",
              "    <tr>\n",
              "      <th>427</th>\n",
              "      <td>South Africa</td>\n",
              "      <td>Football</td>\n",
              "      <td>Men</td>\n",
              "    </tr>\n",
              "    <tr>\n",
              "      <th>428</th>\n",
              "      <td>Spain</td>\n",
              "      <td>Football</td>\n",
              "      <td>Men</td>\n",
              "    </tr>\n",
              "  </tbody>\n",
              "</table>\n",
              "</div>"
            ],
            "text/plain": [
              "                  Name      Play Event\n",
              "404          Argentina  Football   Men\n",
              "405          Australia  Football   Men\n",
              "407             Brazil  Football   Men\n",
              "412      Cï¿½ï¿½te dï¿  Football   Men\n",
              "413              Egypt  Football   Men\n",
              "414             France  Football   Men\n",
              "415            Germany  Football   Men\n",
              "417           Honduras  Football   Men\n",
              "418              Japan  Football   Men\n",
              "420             Mexico  Football   Men\n",
              "422        New Zealand  Football   Men\n",
              "424  Republic of Korea  Football   Men\n",
              "425            Romania  Football   Men\n",
              "426       Saudi Arabia  Football   Men\n",
              "427       South Africa  Football   Men\n",
              "428              Spain  Football   Men"
            ]
          },
          "metadata": {},
          "execution_count": 92
        }
      ]
    },
    {
      "cell_type": "code",
      "metadata": {
        "colab": {
          "base_uri": "https://localhost:8080/",
          "height": 417
        },
        "id": "djP2zMbKbq7y",
        "outputId": "8bf4e657-bc2e-4767-d754-9251a6fd6667"
      },
      "source": [
        "# Women teams in Football\n",
        "Teams[(Teams['Play']=='Football') & (Teams['Event']=='Women')]"
      ],
      "execution_count": 93,
      "outputs": [
        {
          "output_type": "execute_result",
          "data": {
            "text/html": [
              "<div>\n",
              "<style scoped>\n",
              "    .dataframe tbody tr th:only-of-type {\n",
              "        vertical-align: middle;\n",
              "    }\n",
              "\n",
              "    .dataframe tbody tr th {\n",
              "        vertical-align: top;\n",
              "    }\n",
              "\n",
              "    .dataframe thead th {\n",
              "        text-align: right;\n",
              "    }\n",
              "</style>\n",
              "<table border=\"1\" class=\"dataframe\">\n",
              "  <thead>\n",
              "    <tr style=\"text-align: right;\">\n",
              "      <th></th>\n",
              "      <th>Name</th>\n",
              "      <th>Play</th>\n",
              "      <th>Event</th>\n",
              "    </tr>\n",
              "  </thead>\n",
              "  <tbody>\n",
              "    <tr>\n",
              "      <th>406</th>\n",
              "      <td>Australia</td>\n",
              "      <td>Football</td>\n",
              "      <td>Women</td>\n",
              "    </tr>\n",
              "    <tr>\n",
              "      <th>408</th>\n",
              "      <td>Brazil</td>\n",
              "      <td>Football</td>\n",
              "      <td>Women</td>\n",
              "    </tr>\n",
              "    <tr>\n",
              "      <th>409</th>\n",
              "      <td>Canada</td>\n",
              "      <td>Football</td>\n",
              "      <td>Women</td>\n",
              "    </tr>\n",
              "    <tr>\n",
              "      <th>410</th>\n",
              "      <td>Chile</td>\n",
              "      <td>Football</td>\n",
              "      <td>Women</td>\n",
              "    </tr>\n",
              "    <tr>\n",
              "      <th>411</th>\n",
              "      <td>China</td>\n",
              "      <td>Football</td>\n",
              "      <td>Women</td>\n",
              "    </tr>\n",
              "    <tr>\n",
              "      <th>416</th>\n",
              "      <td>Great Britain</td>\n",
              "      <td>Football</td>\n",
              "      <td>Women</td>\n",
              "    </tr>\n",
              "    <tr>\n",
              "      <th>419</th>\n",
              "      <td>Japan</td>\n",
              "      <td>Football</td>\n",
              "      <td>Women</td>\n",
              "    </tr>\n",
              "    <tr>\n",
              "      <th>421</th>\n",
              "      <td>Netherlands</td>\n",
              "      <td>Football</td>\n",
              "      <td>Women</td>\n",
              "    </tr>\n",
              "    <tr>\n",
              "      <th>423</th>\n",
              "      <td>New Zealand</td>\n",
              "      <td>Football</td>\n",
              "      <td>Women</td>\n",
              "    </tr>\n",
              "    <tr>\n",
              "      <th>429</th>\n",
              "      <td>Sweden</td>\n",
              "      <td>Football</td>\n",
              "      <td>Women</td>\n",
              "    </tr>\n",
              "    <tr>\n",
              "      <th>430</th>\n",
              "      <td>United States</td>\n",
              "      <td>Football</td>\n",
              "      <td>Women</td>\n",
              "    </tr>\n",
              "    <tr>\n",
              "      <th>431</th>\n",
              "      <td>Zambia</td>\n",
              "      <td>Football</td>\n",
              "      <td>Women</td>\n",
              "    </tr>\n",
              "  </tbody>\n",
              "</table>\n",
              "</div>"
            ],
            "text/plain": [
              "              Name      Play  Event\n",
              "406      Australia  Football  Women\n",
              "408         Brazil  Football  Women\n",
              "409         Canada  Football  Women\n",
              "410          Chile  Football  Women\n",
              "411          China  Football  Women\n",
              "416  Great Britain  Football  Women\n",
              "419          Japan  Football  Women\n",
              "421    Netherlands  Football  Women\n",
              "423    New Zealand  Football  Women\n",
              "429         Sweden  Football  Women\n",
              "430  United States  Football  Women\n",
              "431         Zambia  Football  Women"
            ]
          },
          "metadata": {},
          "execution_count": 93
        }
      ]
    },
    {
      "cell_type": "code",
      "metadata": {
        "colab": {
          "base_uri": "https://localhost:8080/",
          "height": 417
        },
        "id": "uY488pd2bynq",
        "outputId": "48f77f92-9738-47f3-f6bd-b46a9a5ff253"
      },
      "source": [
        "# Men teams in Basketball\n",
        "Teams[(Teams['Play']=='Basketball') & (Teams['Event']=='Men')]"
      ],
      "execution_count": 94,
      "outputs": [
        {
          "output_type": "execute_result",
          "data": {
            "text/html": [
              "<div>\n",
              "<style scoped>\n",
              "    .dataframe tbody tr th:only-of-type {\n",
              "        vertical-align: middle;\n",
              "    }\n",
              "\n",
              "    .dataframe tbody tr th {\n",
              "        vertical-align: top;\n",
              "    }\n",
              "\n",
              "    .dataframe thead th {\n",
              "        text-align: right;\n",
              "    }\n",
              "</style>\n",
              "<table border=\"1\" class=\"dataframe\">\n",
              "  <thead>\n",
              "    <tr style=\"text-align: right;\">\n",
              "      <th></th>\n",
              "      <th>Name</th>\n",
              "      <th>Play</th>\n",
              "      <th>Event</th>\n",
              "    </tr>\n",
              "  </thead>\n",
              "  <tbody>\n",
              "    <tr>\n",
              "      <th>216</th>\n",
              "      <td>Argentina</td>\n",
              "      <td>Basketball</td>\n",
              "      <td>Men</td>\n",
              "    </tr>\n",
              "    <tr>\n",
              "      <th>217</th>\n",
              "      <td>Australia</td>\n",
              "      <td>Basketball</td>\n",
              "      <td>Men</td>\n",
              "    </tr>\n",
              "    <tr>\n",
              "      <th>222</th>\n",
              "      <td>Czech Republic</td>\n",
              "      <td>Basketball</td>\n",
              "      <td>Men</td>\n",
              "    </tr>\n",
              "    <tr>\n",
              "      <th>223</th>\n",
              "      <td>France</td>\n",
              "      <td>Basketball</td>\n",
              "      <td>Men</td>\n",
              "    </tr>\n",
              "    <tr>\n",
              "      <th>225</th>\n",
              "      <td>Germany</td>\n",
              "      <td>Basketball</td>\n",
              "      <td>Men</td>\n",
              "    </tr>\n",
              "    <tr>\n",
              "      <th>226</th>\n",
              "      <td>Islamic Rep. of Iran</td>\n",
              "      <td>Basketball</td>\n",
              "      <td>Men</td>\n",
              "    </tr>\n",
              "    <tr>\n",
              "      <th>227</th>\n",
              "      <td>Italy</td>\n",
              "      <td>Basketball</td>\n",
              "      <td>Men</td>\n",
              "    </tr>\n",
              "    <tr>\n",
              "      <th>228</th>\n",
              "      <td>Japan</td>\n",
              "      <td>Basketball</td>\n",
              "      <td>Men</td>\n",
              "    </tr>\n",
              "    <tr>\n",
              "      <th>230</th>\n",
              "      <td>Nigeria</td>\n",
              "      <td>Basketball</td>\n",
              "      <td>Men</td>\n",
              "    </tr>\n",
              "    <tr>\n",
              "      <th>235</th>\n",
              "      <td>Slovenia</td>\n",
              "      <td>Basketball</td>\n",
              "      <td>Men</td>\n",
              "    </tr>\n",
              "    <tr>\n",
              "      <th>236</th>\n",
              "      <td>Spain</td>\n",
              "      <td>Basketball</td>\n",
              "      <td>Men</td>\n",
              "    </tr>\n",
              "    <tr>\n",
              "      <th>238</th>\n",
              "      <td>United States</td>\n",
              "      <td>Basketball</td>\n",
              "      <td>Men</td>\n",
              "    </tr>\n",
              "  </tbody>\n",
              "</table>\n",
              "</div>"
            ],
            "text/plain": [
              "                     Name        Play Event\n",
              "216             Argentina  Basketball   Men\n",
              "217             Australia  Basketball   Men\n",
              "222        Czech Republic  Basketball   Men\n",
              "223                France  Basketball   Men\n",
              "225               Germany  Basketball   Men\n",
              "226  Islamic Rep. of Iran  Basketball   Men\n",
              "227                 Italy  Basketball   Men\n",
              "228                 Japan  Basketball   Men\n",
              "230               Nigeria  Basketball   Men\n",
              "235              Slovenia  Basketball   Men\n",
              "236                 Spain  Basketball   Men\n",
              "238         United States  Basketball   Men"
            ]
          },
          "metadata": {},
          "execution_count": 94
        }
      ]
    },
    {
      "cell_type": "code",
      "metadata": {
        "colab": {
          "base_uri": "https://localhost:8080/",
          "height": 417
        },
        "id": "SdNBnPmUb3s2",
        "outputId": "8caa08c4-52d1-4d4f-eed5-7b688f7f61d7"
      },
      "source": [
        "# Women teams in Basketball\n",
        "Teams[(Teams['Play']=='Basketball') & (Teams['Event']=='Women')]"
      ],
      "execution_count": 95,
      "outputs": [
        {
          "output_type": "execute_result",
          "data": {
            "text/html": [
              "<div>\n",
              "<style scoped>\n",
              "    .dataframe tbody tr th:only-of-type {\n",
              "        vertical-align: middle;\n",
              "    }\n",
              "\n",
              "    .dataframe tbody tr th {\n",
              "        vertical-align: top;\n",
              "    }\n",
              "\n",
              "    .dataframe thead th {\n",
              "        text-align: right;\n",
              "    }\n",
              "</style>\n",
              "<table border=\"1\" class=\"dataframe\">\n",
              "  <thead>\n",
              "    <tr style=\"text-align: right;\">\n",
              "      <th></th>\n",
              "      <th>Name</th>\n",
              "      <th>Play</th>\n",
              "      <th>Event</th>\n",
              "    </tr>\n",
              "  </thead>\n",
              "  <tbody>\n",
              "    <tr>\n",
              "      <th>218</th>\n",
              "      <td>Australia</td>\n",
              "      <td>Basketball</td>\n",
              "      <td>Women</td>\n",
              "    </tr>\n",
              "    <tr>\n",
              "      <th>219</th>\n",
              "      <td>Belgium</td>\n",
              "      <td>Basketball</td>\n",
              "      <td>Women</td>\n",
              "    </tr>\n",
              "    <tr>\n",
              "      <th>220</th>\n",
              "      <td>Canada</td>\n",
              "      <td>Basketball</td>\n",
              "      <td>Women</td>\n",
              "    </tr>\n",
              "    <tr>\n",
              "      <th>221</th>\n",
              "      <td>China</td>\n",
              "      <td>Basketball</td>\n",
              "      <td>Women</td>\n",
              "    </tr>\n",
              "    <tr>\n",
              "      <th>224</th>\n",
              "      <td>France</td>\n",
              "      <td>Basketball</td>\n",
              "      <td>Women</td>\n",
              "    </tr>\n",
              "    <tr>\n",
              "      <th>229</th>\n",
              "      <td>Japan</td>\n",
              "      <td>Basketball</td>\n",
              "      <td>Women</td>\n",
              "    </tr>\n",
              "    <tr>\n",
              "      <th>231</th>\n",
              "      <td>Nigeria</td>\n",
              "      <td>Basketball</td>\n",
              "      <td>Women</td>\n",
              "    </tr>\n",
              "    <tr>\n",
              "      <th>232</th>\n",
              "      <td>Puerto Rico</td>\n",
              "      <td>Basketball</td>\n",
              "      <td>Women</td>\n",
              "    </tr>\n",
              "    <tr>\n",
              "      <th>233</th>\n",
              "      <td>Republic of Korea</td>\n",
              "      <td>Basketball</td>\n",
              "      <td>Women</td>\n",
              "    </tr>\n",
              "    <tr>\n",
              "      <th>234</th>\n",
              "      <td>Serbia</td>\n",
              "      <td>Basketball</td>\n",
              "      <td>Women</td>\n",
              "    </tr>\n",
              "    <tr>\n",
              "      <th>237</th>\n",
              "      <td>Spain</td>\n",
              "      <td>Basketball</td>\n",
              "      <td>Women</td>\n",
              "    </tr>\n",
              "    <tr>\n",
              "      <th>239</th>\n",
              "      <td>United States</td>\n",
              "      <td>Basketball</td>\n",
              "      <td>Women</td>\n",
              "    </tr>\n",
              "  </tbody>\n",
              "</table>\n",
              "</div>"
            ],
            "text/plain": [
              "                  Name        Play  Event\n",
              "218          Australia  Basketball  Women\n",
              "219            Belgium  Basketball  Women\n",
              "220             Canada  Basketball  Women\n",
              "221              China  Basketball  Women\n",
              "224             France  Basketball  Women\n",
              "229              Japan  Basketball  Women\n",
              "231            Nigeria  Basketball  Women\n",
              "232        Puerto Rico  Basketball  Women\n",
              "233  Republic of Korea  Basketball  Women\n",
              "234             Serbia  Basketball  Women\n",
              "237              Spain  Basketball  Women\n",
              "239      United States  Basketball  Women"
            ]
          },
          "metadata": {},
          "execution_count": 95
        }
      ]
    },
    {
      "cell_type": "code",
      "metadata": {
        "colab": {
          "base_uri": "https://localhost:8080/",
          "height": 417
        },
        "id": "RtuY5d1cb8T7",
        "outputId": "945f21e3-01d3-4b3f-f9da-3290d278729f"
      },
      "source": [
        "# Men teams in Volleyball\n",
        "Teams[(Teams['Play']=='Volleyball') & (Teams['Event']=='Men')]"
      ],
      "execution_count": 96,
      "outputs": [
        {
          "output_type": "execute_result",
          "data": {
            "text/html": [
              "<div>\n",
              "<style scoped>\n",
              "    .dataframe tbody tr th:only-of-type {\n",
              "        vertical-align: middle;\n",
              "    }\n",
              "\n",
              "    .dataframe tbody tr th {\n",
              "        vertical-align: top;\n",
              "    }\n",
              "\n",
              "    .dataframe thead th {\n",
              "        text-align: right;\n",
              "    }\n",
              "</style>\n",
              "<table border=\"1\" class=\"dataframe\">\n",
              "  <thead>\n",
              "    <tr style=\"text-align: right;\">\n",
              "      <th></th>\n",
              "      <th>Name</th>\n",
              "      <th>Play</th>\n",
              "      <th>Event</th>\n",
              "    </tr>\n",
              "  </thead>\n",
              "  <tbody>\n",
              "    <tr>\n",
              "      <th>697</th>\n",
              "      <td>Argentina</td>\n",
              "      <td>Volleyball</td>\n",
              "      <td>Men</td>\n",
              "    </tr>\n",
              "    <tr>\n",
              "      <th>699</th>\n",
              "      <td>Brazil</td>\n",
              "      <td>Volleyball</td>\n",
              "      <td>Men</td>\n",
              "    </tr>\n",
              "    <tr>\n",
              "      <th>701</th>\n",
              "      <td>Canada</td>\n",
              "      <td>Volleyball</td>\n",
              "      <td>Men</td>\n",
              "    </tr>\n",
              "    <tr>\n",
              "      <th>704</th>\n",
              "      <td>France</td>\n",
              "      <td>Volleyball</td>\n",
              "      <td>Men</td>\n",
              "    </tr>\n",
              "    <tr>\n",
              "      <th>705</th>\n",
              "      <td>Islamic Rep. of Iran</td>\n",
              "      <td>Volleyball</td>\n",
              "      <td>Men</td>\n",
              "    </tr>\n",
              "    <tr>\n",
              "      <th>706</th>\n",
              "      <td>Italy</td>\n",
              "      <td>Volleyball</td>\n",
              "      <td>Men</td>\n",
              "    </tr>\n",
              "    <tr>\n",
              "      <th>708</th>\n",
              "      <td>Japan</td>\n",
              "      <td>Volleyball</td>\n",
              "      <td>Men</td>\n",
              "    </tr>\n",
              "    <tr>\n",
              "      <th>711</th>\n",
              "      <td>Poland</td>\n",
              "      <td>Volleyball</td>\n",
              "      <td>Men</td>\n",
              "    </tr>\n",
              "    <tr>\n",
              "      <th>713</th>\n",
              "      <td>ROC</td>\n",
              "      <td>Volleyball</td>\n",
              "      <td>Men</td>\n",
              "    </tr>\n",
              "    <tr>\n",
              "      <th>716</th>\n",
              "      <td>Tunisia</td>\n",
              "      <td>Volleyball</td>\n",
              "      <td>Men</td>\n",
              "    </tr>\n",
              "    <tr>\n",
              "      <th>718</th>\n",
              "      <td>United States</td>\n",
              "      <td>Volleyball</td>\n",
              "      <td>Men</td>\n",
              "    </tr>\n",
              "    <tr>\n",
              "      <th>720</th>\n",
              "      <td>Venezuela</td>\n",
              "      <td>Volleyball</td>\n",
              "      <td>Men</td>\n",
              "    </tr>\n",
              "  </tbody>\n",
              "</table>\n",
              "</div>"
            ],
            "text/plain": [
              "                     Name        Play Event\n",
              "697             Argentina  Volleyball   Men\n",
              "699                Brazil  Volleyball   Men\n",
              "701                Canada  Volleyball   Men\n",
              "704                France  Volleyball   Men\n",
              "705  Islamic Rep. of Iran  Volleyball   Men\n",
              "706                 Italy  Volleyball   Men\n",
              "708                 Japan  Volleyball   Men\n",
              "711                Poland  Volleyball   Men\n",
              "713                   ROC  Volleyball   Men\n",
              "716               Tunisia  Volleyball   Men\n",
              "718         United States  Volleyball   Men\n",
              "720             Venezuela  Volleyball   Men"
            ]
          },
          "metadata": {},
          "execution_count": 96
        }
      ]
    },
    {
      "cell_type": "code",
      "metadata": {
        "colab": {
          "base_uri": "https://localhost:8080/",
          "height": 417
        },
        "id": "bIS7aEtScAvJ",
        "outputId": "428a72b3-a95d-4a0f-c28a-dbc115718f9a"
      },
      "source": [
        "# Women teams in Volleyball\n",
        "Teams[(Teams['Play']=='Volleyball') & (Teams['Event']=='Women')]"
      ],
      "execution_count": 97,
      "outputs": [
        {
          "output_type": "execute_result",
          "data": {
            "text/html": [
              "<div>\n",
              "<style scoped>\n",
              "    .dataframe tbody tr th:only-of-type {\n",
              "        vertical-align: middle;\n",
              "    }\n",
              "\n",
              "    .dataframe tbody tr th {\n",
              "        vertical-align: top;\n",
              "    }\n",
              "\n",
              "    .dataframe thead th {\n",
              "        text-align: right;\n",
              "    }\n",
              "</style>\n",
              "<table border=\"1\" class=\"dataframe\">\n",
              "  <thead>\n",
              "    <tr style=\"text-align: right;\">\n",
              "      <th></th>\n",
              "      <th>Name</th>\n",
              "      <th>Play</th>\n",
              "      <th>Event</th>\n",
              "    </tr>\n",
              "  </thead>\n",
              "  <tbody>\n",
              "    <tr>\n",
              "      <th>698</th>\n",
              "      <td>Argentina</td>\n",
              "      <td>Volleyball</td>\n",
              "      <td>Women</td>\n",
              "    </tr>\n",
              "    <tr>\n",
              "      <th>700</th>\n",
              "      <td>Brazil</td>\n",
              "      <td>Volleyball</td>\n",
              "      <td>Women</td>\n",
              "    </tr>\n",
              "    <tr>\n",
              "      <th>702</th>\n",
              "      <td>China</td>\n",
              "      <td>Volleyball</td>\n",
              "      <td>Women</td>\n",
              "    </tr>\n",
              "    <tr>\n",
              "      <th>703</th>\n",
              "      <td>Dominican Rep.</td>\n",
              "      <td>Volleyball</td>\n",
              "      <td>Women</td>\n",
              "    </tr>\n",
              "    <tr>\n",
              "      <th>707</th>\n",
              "      <td>Italy</td>\n",
              "      <td>Volleyball</td>\n",
              "      <td>Women</td>\n",
              "    </tr>\n",
              "    <tr>\n",
              "      <th>709</th>\n",
              "      <td>Japan</td>\n",
              "      <td>Volleyball</td>\n",
              "      <td>Women</td>\n",
              "    </tr>\n",
              "    <tr>\n",
              "      <th>710</th>\n",
              "      <td>Kenya</td>\n",
              "      <td>Volleyball</td>\n",
              "      <td>Women</td>\n",
              "    </tr>\n",
              "    <tr>\n",
              "      <th>712</th>\n",
              "      <td>Republic of Korea</td>\n",
              "      <td>Volleyball</td>\n",
              "      <td>Women</td>\n",
              "    </tr>\n",
              "    <tr>\n",
              "      <th>714</th>\n",
              "      <td>ROC</td>\n",
              "      <td>Volleyball</td>\n",
              "      <td>Women</td>\n",
              "    </tr>\n",
              "    <tr>\n",
              "      <th>715</th>\n",
              "      <td>Serbia</td>\n",
              "      <td>Volleyball</td>\n",
              "      <td>Women</td>\n",
              "    </tr>\n",
              "    <tr>\n",
              "      <th>717</th>\n",
              "      <td>Turkey</td>\n",
              "      <td>Volleyball</td>\n",
              "      <td>Women</td>\n",
              "    </tr>\n",
              "    <tr>\n",
              "      <th>719</th>\n",
              "      <td>United States</td>\n",
              "      <td>Volleyball</td>\n",
              "      <td>Women</td>\n",
              "    </tr>\n",
              "  </tbody>\n",
              "</table>\n",
              "</div>"
            ],
            "text/plain": [
              "                  Name        Play  Event\n",
              "698          Argentina  Volleyball  Women\n",
              "700             Brazil  Volleyball  Women\n",
              "702              China  Volleyball  Women\n",
              "703     Dominican Rep.  Volleyball  Women\n",
              "707              Italy  Volleyball  Women\n",
              "709              Japan  Volleyball  Women\n",
              "710              Kenya  Volleyball  Women\n",
              "712  Republic of Korea  Volleyball  Women\n",
              "714                ROC  Volleyball  Women\n",
              "715             Serbia  Volleyball  Women\n",
              "717             Turkey  Volleyball  Women\n",
              "719      United States  Volleyball  Women"
            ]
          },
          "metadata": {},
          "execution_count": 97
        }
      ]
    },
    {
      "cell_type": "code",
      "metadata": {
        "colab": {
          "base_uri": "https://localhost:8080/",
          "height": 417
        },
        "id": "q1MXJ4rscE1f",
        "outputId": "fc53d9e1-30a1-492e-abe4-a414bb042406"
      },
      "source": [
        "# Men teams in Hockey\n",
        "Teams[(Teams['Play']=='Hockey') & (Teams['Event']=='Men')]"
      ],
      "execution_count": 98,
      "outputs": [
        {
          "output_type": "execute_result",
          "data": {
            "text/html": [
              "<div>\n",
              "<style scoped>\n",
              "    .dataframe tbody tr th:only-of-type {\n",
              "        vertical-align: middle;\n",
              "    }\n",
              "\n",
              "    .dataframe tbody tr th {\n",
              "        vertical-align: top;\n",
              "    }\n",
              "\n",
              "    .dataframe thead th {\n",
              "        text-align: right;\n",
              "    }\n",
              "</style>\n",
              "<table border=\"1\" class=\"dataframe\">\n",
              "  <thead>\n",
              "    <tr style=\"text-align: right;\">\n",
              "      <th></th>\n",
              "      <th>Name</th>\n",
              "      <th>Play</th>\n",
              "      <th>Event</th>\n",
              "    </tr>\n",
              "  </thead>\n",
              "  <tbody>\n",
              "    <tr>\n",
              "      <th>456</th>\n",
              "      <td>Argentina</td>\n",
              "      <td>Hockey</td>\n",
              "      <td>Men</td>\n",
              "    </tr>\n",
              "    <tr>\n",
              "      <th>458</th>\n",
              "      <td>Australia</td>\n",
              "      <td>Hockey</td>\n",
              "      <td>Men</td>\n",
              "    </tr>\n",
              "    <tr>\n",
              "      <th>460</th>\n",
              "      <td>Belgium</td>\n",
              "      <td>Hockey</td>\n",
              "      <td>Men</td>\n",
              "    </tr>\n",
              "    <tr>\n",
              "      <th>461</th>\n",
              "      <td>Canada</td>\n",
              "      <td>Hockey</td>\n",
              "      <td>Men</td>\n",
              "    </tr>\n",
              "    <tr>\n",
              "      <th>463</th>\n",
              "      <td>Germany</td>\n",
              "      <td>Hockey</td>\n",
              "      <td>Men</td>\n",
              "    </tr>\n",
              "    <tr>\n",
              "      <th>465</th>\n",
              "      <td>Great Britain</td>\n",
              "      <td>Hockey</td>\n",
              "      <td>Men</td>\n",
              "    </tr>\n",
              "    <tr>\n",
              "      <th>467</th>\n",
              "      <td>India</td>\n",
              "      <td>Hockey</td>\n",
              "      <td>Men</td>\n",
              "    </tr>\n",
              "    <tr>\n",
              "      <th>470</th>\n",
              "      <td>Japan</td>\n",
              "      <td>Hockey</td>\n",
              "      <td>Men</td>\n",
              "    </tr>\n",
              "    <tr>\n",
              "      <th>472</th>\n",
              "      <td>Netherlands</td>\n",
              "      <td>Hockey</td>\n",
              "      <td>Men</td>\n",
              "    </tr>\n",
              "    <tr>\n",
              "      <th>474</th>\n",
              "      <td>New Zealand</td>\n",
              "      <td>Hockey</td>\n",
              "      <td>Men</td>\n",
              "    </tr>\n",
              "    <tr>\n",
              "      <th>476</th>\n",
              "      <td>South Africa</td>\n",
              "      <td>Hockey</td>\n",
              "      <td>Men</td>\n",
              "    </tr>\n",
              "    <tr>\n",
              "      <th>478</th>\n",
              "      <td>Spain</td>\n",
              "      <td>Hockey</td>\n",
              "      <td>Men</td>\n",
              "    </tr>\n",
              "  </tbody>\n",
              "</table>\n",
              "</div>"
            ],
            "text/plain": [
              "              Name    Play Event\n",
              "456      Argentina  Hockey   Men\n",
              "458      Australia  Hockey   Men\n",
              "460        Belgium  Hockey   Men\n",
              "461         Canada  Hockey   Men\n",
              "463        Germany  Hockey   Men\n",
              "465  Great Britain  Hockey   Men\n",
              "467          India  Hockey   Men\n",
              "470          Japan  Hockey   Men\n",
              "472    Netherlands  Hockey   Men\n",
              "474    New Zealand  Hockey   Men\n",
              "476   South Africa  Hockey   Men\n",
              "478          Spain  Hockey   Men"
            ]
          },
          "metadata": {},
          "execution_count": 98
        }
      ]
    },
    {
      "cell_type": "code",
      "metadata": {
        "colab": {
          "base_uri": "https://localhost:8080/",
          "height": 417
        },
        "id": "vgWKNztVcME5",
        "outputId": "f0d53a68-d90e-472b-b3d1-feedec03af07"
      },
      "source": [
        "# Women teams in Hockey\n",
        "Teams[(Teams['Play']=='Hockey') & (Teams['Event']=='Women')]"
      ],
      "execution_count": 99,
      "outputs": [
        {
          "output_type": "execute_result",
          "data": {
            "text/html": [
              "<div>\n",
              "<style scoped>\n",
              "    .dataframe tbody tr th:only-of-type {\n",
              "        vertical-align: middle;\n",
              "    }\n",
              "\n",
              "    .dataframe tbody tr th {\n",
              "        vertical-align: top;\n",
              "    }\n",
              "\n",
              "    .dataframe thead th {\n",
              "        text-align: right;\n",
              "    }\n",
              "</style>\n",
              "<table border=\"1\" class=\"dataframe\">\n",
              "  <thead>\n",
              "    <tr style=\"text-align: right;\">\n",
              "      <th></th>\n",
              "      <th>Name</th>\n",
              "      <th>Play</th>\n",
              "      <th>Event</th>\n",
              "    </tr>\n",
              "  </thead>\n",
              "  <tbody>\n",
              "    <tr>\n",
              "      <th>457</th>\n",
              "      <td>Argentina</td>\n",
              "      <td>Hockey</td>\n",
              "      <td>Women</td>\n",
              "    </tr>\n",
              "    <tr>\n",
              "      <th>459</th>\n",
              "      <td>Australia</td>\n",
              "      <td>Hockey</td>\n",
              "      <td>Women</td>\n",
              "    </tr>\n",
              "    <tr>\n",
              "      <th>462</th>\n",
              "      <td>China</td>\n",
              "      <td>Hockey</td>\n",
              "      <td>Women</td>\n",
              "    </tr>\n",
              "    <tr>\n",
              "      <th>464</th>\n",
              "      <td>Germany</td>\n",
              "      <td>Hockey</td>\n",
              "      <td>Women</td>\n",
              "    </tr>\n",
              "    <tr>\n",
              "      <th>466</th>\n",
              "      <td>Great Britain</td>\n",
              "      <td>Hockey</td>\n",
              "      <td>Women</td>\n",
              "    </tr>\n",
              "    <tr>\n",
              "      <th>468</th>\n",
              "      <td>India</td>\n",
              "      <td>Hockey</td>\n",
              "      <td>Women</td>\n",
              "    </tr>\n",
              "    <tr>\n",
              "      <th>469</th>\n",
              "      <td>Ireland</td>\n",
              "      <td>Hockey</td>\n",
              "      <td>Women</td>\n",
              "    </tr>\n",
              "    <tr>\n",
              "      <th>471</th>\n",
              "      <td>Japan</td>\n",
              "      <td>Hockey</td>\n",
              "      <td>Women</td>\n",
              "    </tr>\n",
              "    <tr>\n",
              "      <th>473</th>\n",
              "      <td>Netherlands</td>\n",
              "      <td>Hockey</td>\n",
              "      <td>Women</td>\n",
              "    </tr>\n",
              "    <tr>\n",
              "      <th>475</th>\n",
              "      <td>New Zealand</td>\n",
              "      <td>Hockey</td>\n",
              "      <td>Women</td>\n",
              "    </tr>\n",
              "    <tr>\n",
              "      <th>477</th>\n",
              "      <td>South Africa</td>\n",
              "      <td>Hockey</td>\n",
              "      <td>Women</td>\n",
              "    </tr>\n",
              "    <tr>\n",
              "      <th>479</th>\n",
              "      <td>Spain</td>\n",
              "      <td>Hockey</td>\n",
              "      <td>Women</td>\n",
              "    </tr>\n",
              "  </tbody>\n",
              "</table>\n",
              "</div>"
            ],
            "text/plain": [
              "              Name    Play  Event\n",
              "457      Argentina  Hockey  Women\n",
              "459      Australia  Hockey  Women\n",
              "462          China  Hockey  Women\n",
              "464        Germany  Hockey  Women\n",
              "466  Great Britain  Hockey  Women\n",
              "468          India  Hockey  Women\n",
              "469        Ireland  Hockey  Women\n",
              "471          Japan  Hockey  Women\n",
              "473    Netherlands  Hockey  Women\n",
              "475    New Zealand  Hockey  Women\n",
              "477   South Africa  Hockey  Women\n",
              "479          Spain  Hockey  Women"
            ]
          },
          "metadata": {},
          "execution_count": 99
        }
      ]
    },
    {
      "cell_type": "code",
      "metadata": {
        "colab": {
          "base_uri": "https://localhost:8080/"
        },
        "id": "QjS08y5KcU33",
        "outputId": "508c9ad3-7afc-4d97-b407-7db9bf37c9a7"
      },
      "source": [
        "Coaches.shape"
      ],
      "execution_count": 100,
      "outputs": [
        {
          "output_type": "execute_result",
          "data": {
            "text/plain": [
              "(394, 3)"
            ]
          },
          "metadata": {},
          "execution_count": 100
        }
      ]
    },
    {
      "cell_type": "code",
      "metadata": {
        "colab": {
          "base_uri": "https://localhost:8080/",
          "height": 202
        },
        "id": "DIY0ggbzcQ50",
        "outputId": "d9d39100-a619-4134-97e5-be16858b67fb"
      },
      "source": [
        "Coaches.head()"
      ],
      "execution_count": 101,
      "outputs": [
        {
          "output_type": "execute_result",
          "data": {
            "text/html": [
              "<div>\n",
              "<style scoped>\n",
              "    .dataframe tbody tr th:only-of-type {\n",
              "        vertical-align: middle;\n",
              "    }\n",
              "\n",
              "    .dataframe tbody tr th {\n",
              "        vertical-align: top;\n",
              "    }\n",
              "\n",
              "    .dataframe thead th {\n",
              "        text-align: right;\n",
              "    }\n",
              "</style>\n",
              "<table border=\"1\" class=\"dataframe\">\n",
              "  <thead>\n",
              "    <tr style=\"text-align: right;\">\n",
              "      <th></th>\n",
              "      <th>Name</th>\n",
              "      <th>Country</th>\n",
              "      <th>Play</th>\n",
              "    </tr>\n",
              "  </thead>\n",
              "  <tbody>\n",
              "    <tr>\n",
              "      <th>0</th>\n",
              "      <td>ABDELMAGID Wael</td>\n",
              "      <td>Egypt</td>\n",
              "      <td>Football</td>\n",
              "    </tr>\n",
              "    <tr>\n",
              "      <th>1</th>\n",
              "      <td>ABE Junya</td>\n",
              "      <td>Japan</td>\n",
              "      <td>Volleyball</td>\n",
              "    </tr>\n",
              "    <tr>\n",
              "      <th>2</th>\n",
              "      <td>ABE Katsuhiko</td>\n",
              "      <td>Japan</td>\n",
              "      <td>Basketball</td>\n",
              "    </tr>\n",
              "    <tr>\n",
              "      <th>3</th>\n",
              "      <td>ADAMA Cherif</td>\n",
              "      <td>Cote d'Ivoir</td>\n",
              "      <td>Football</td>\n",
              "    </tr>\n",
              "    <tr>\n",
              "      <th>4</th>\n",
              "      <td>AGEBA Yuya</td>\n",
              "      <td>Japan</td>\n",
              "      <td>Volleyball</td>\n",
              "    </tr>\n",
              "  </tbody>\n",
              "</table>\n",
              "</div>"
            ],
            "text/plain": [
              "              Name       Country        Play\n",
              "0  ABDELMAGID Wael         Egypt    Football\n",
              "1        ABE Junya         Japan  Volleyball\n",
              "2    ABE Katsuhiko         Japan  Basketball\n",
              "3     ADAMA Cherif  Cote d'Ivoir    Football\n",
              "4       AGEBA Yuya         Japan  Volleyball"
            ]
          },
          "metadata": {},
          "execution_count": 101
        }
      ]
    },
    {
      "cell_type": "code",
      "metadata": {
        "colab": {
          "base_uri": "https://localhost:8080/"
        },
        "id": "_53_7fG_cUAK",
        "outputId": "07e3f14c-87b1-467e-94d4-c8649b800e11"
      },
      "source": [
        "# Coaches of the most participating countries\n",
        "Coaches.groupby('Country')['Name'].count().sort_values(ascending=False).head(15)"
      ],
      "execution_count": 102,
      "outputs": [
        {
          "output_type": "execute_result",
          "data": {
            "text/plain": [
              "Country\n",
              "Japan                         35\n",
              "United States of America      28\n",
              "Spain                         28\n",
              "Australia                     22\n",
              "Canada                        16\n",
              "Italy                         14\n",
              "Egypt                         12\n",
              "South Africa                  12\n",
              "People's Republic of China    12\n",
              "ROC                           12\n",
              "Argentina                     11\n",
              "Venezuela                     10\n",
              "Netherlands                   10\n",
              "France                        10\n",
              "Germany                        9\n",
              "Name: Name, dtype: int64"
            ]
          },
          "metadata": {},
          "execution_count": 102
        }
      ]
    },
    {
      "cell_type": "code",
      "metadata": {
        "colab": {
          "base_uri": "https://localhost:8080/",
          "height": 390
        },
        "id": "wkNCkAsqcdNd",
        "outputId": "5e947390-ce6e-407f-dfb1-f078819361d6"
      },
      "source": [
        "Coaches.groupby('Country')['Name'].count().sort_values(ascending=False).head(15).plot(legend=False,kind='barh',\n",
        "                                                                        colormap='CMRmap',\n",
        "                                                                        figsize=(8,6),title='number of Coachs per Nation')\n",
        "plt.show()"
      ],
      "execution_count": 103,
      "outputs": [
        {
          "output_type": "display_data",
          "data": {
            "image/png": "[encoded data removed]",
            "text/plain": [
              "<Figure size 576x432 with 1 Axes>"
            ]
          },
          "metadata": {
            "needs_background": "light"
          }
        }
      ]
    },
    {
      "cell_type": "code",
      "metadata": {
        "colab": {
          "base_uri": "https://localhost:8080/"
        },
        "id": "j0JagCwTcg3H",
        "outputId": "f9269730-c82f-43fe-f6fa-b2087f15ce5d"
      },
      "source": [
        "# Coaches of least participating countries\n",
        "Coaches.groupby('Country')['Name'].count().sort_values(ascending=False).tail(15)"
      ],
      "execution_count": 104,
      "outputs": [
        {
          "output_type": "execute_result",
          "data": {
            "text/plain": [
              "Country\n",
              "Montenegro                  2\n",
              "Islamic Republic of Iran    2\n",
              "San Marino                  2\n",
              "Turkey                      1\n",
              "Tunisia                     1\n",
              "Slovakia                    1\n",
              "Bahrain                     1\n",
              "Belarus                     1\n",
              "Honduras                    1\n",
              "Cambodia                    1\n",
              "Portugal                    1\n",
              "Cote d'Ivoir                1\n",
              "Croatia                     1\n",
              "Liechtenstein               1\n",
              "Angola                      1\n",
              "Name: Name, dtype: int64"
            ]
          },
          "metadata": {},
          "execution_count": 104
        }
      ]
    },
    {
      "cell_type": "code",
      "metadata": {
        "colab": {
          "base_uri": "https://localhost:8080/"
        },
        "id": "MBQU8L0Hcm9d",
        "outputId": "4979c294-1c9e-42fc-a695-363fa144cabb"
      },
      "source": [
        "# Coaches participating in Olympics\n",
        "Coaches.groupby('Play')['Name'].count().sort_values(ascending=False)"
      ],
      "execution_count": 105,
      "outputs": [
        {
          "output_type": "execute_result",
          "data": {
            "text/plain": [
              "Play\n",
              "Basketball           74\n",
              "Artistic Swimming    69\n",
              "Football             59\n",
              "Volleyball           45\n",
              "Hockey               45\n",
              "Handball             29\n",
              "Baseball/Softball    26\n",
              "Rugby Sevens         25\n",
              "Water Polo           22\n",
              "Name: Name, dtype: int64"
            ]
          },
          "metadata": {},
          "execution_count": 105
        }
      ]
    },
    {
      "cell_type": "code",
      "metadata": {
        "colab": {
          "base_uri": "https://localhost:8080/",
          "height": 390
        },
        "id": "TrmqJK3hcsNv",
        "outputId": "dbbabf14-e8be-491a-f94a-59cdc0feb754"
      },
      "source": [
        "Coaches.groupby('Play')['Name'].count().sort_values(ascending=False).plot(legend=False,kind='barh',\n",
        "                                                                        colormap='Greens_r',\n",
        "                                                                        figsize=(8,6),title='number of Coachs per Nation')\n",
        "plt.show()"
      ],
      "execution_count": 106,
      "outputs": [
        {
          "output_type": "display_data",
          "data": {
            "image/png": "[encoded data removed]",
            "text/plain": [
              "<Figure size 576x432 with 1 Axes>"
            ]
          },
          "metadata": {
            "needs_background": "light"
          }
        }
      ]
    },
    {
      "cell_type": "code",
      "metadata": {
        "colab": {
          "base_uri": "https://localhost:8080/"
        },
        "id": "qrNSLhsycv_9",
        "outputId": "3a1ce55f-08bc-42bc-e4bd-9e2aade48962"
      },
      "source": [
        "# Coaches in Football\n",
        "Football_coatches=Coaches[Coaches['Play']=='Football'].drop(['Play'],axis=1)\n",
        "Football_coatches.groupby('Country')['Name'].count().sort_values(ascending=False)"
      ],
      "execution_count": 107,
      "outputs": [
        {
          "output_type": "execute_result",
          "data": {
            "text/plain": [
              "Country\n",
              "Japan                         6\n",
              "Chile                         6\n",
              "Egypt                         5\n",
              "Spain                         4\n",
              "South Africa                  4\n",
              "C����                         4\n",
              "United States of America      3\n",
              "Mexico                        2\n",
              "Australia                     2\n",
              "Brazil                        2\n",
              "Germany                       2\n",
              "Zambia                        2\n",
              "New Zealand                   2\n",
              "Republic of Korea             2\n",
              "Romania                       2\n",
              "Saudi Arabia                  2\n",
              "Netherlands                   1\n",
              "Honduras                      1\n",
              "Great Britain                 1\n",
              "France                        1\n",
              "People's Republic of China    1\n",
              "Cote d'Ivoir                  1\n",
              "Canada                        1\n",
              "Sweden                        1\n",
              "Argentina                     1\n",
              "Name: Name, dtype: int64"
            ]
          },
          "metadata": {},
          "execution_count": 107
        }
      ]
    },
    {
      "cell_type": "code",
      "metadata": {
        "colab": {
          "base_uri": "https://localhost:8080/",
          "height": 374
        },
        "id": "a0PFe75Vc1zn",
        "outputId": "fa247be0-2848-4243-9091-4f98858da91c"
      },
      "source": [
        "Football_coatches.groupby('Country')['Name'].count().sort_values(ascending=False).plot(legend=False,kind='barh',\n",
        "                                                                        colormap='PRGn',\n",
        "                                                                        figsize=(8,6),title='')\n",
        "plt.show()"
      ],
      "execution_count": 108,
      "outputs": [
        {
          "output_type": "display_data",
          "data": {
            "image/png": "[encoded data removed]",
            "text/plain": [
              "<Figure size 576x432 with 1 Axes>"
            ]
          },
          "metadata": {
            "needs_background": "light"
          }
        }
      ]
    },
    {
      "cell_type": "code",
      "metadata": {
        "colab": {
          "base_uri": "https://localhost:8080/"
        },
        "id": "Fci46IS6c43T",
        "outputId": "4afc78b0-d6a2-44e6-fb9b-e026424a79a3"
      },
      "source": [
        "# Basketball coaches in Olympics\n",
        "Basketball_coatches=Coaches[Coaches['Play']=='Basketball'].drop(['Play'],axis=1)\n",
        "Basketball_coatches.groupby('Country')['Name'].count().sort_values(ascending=False)"
      ],
      "execution_count": 109,
      "outputs": [
        {
          "output_type": "execute_result",
          "data": {
            "text/plain": [
              "Country\n",
              "Spain                         10\n",
              "Nigeria                        9\n",
              "United States of America       9\n",
              "Venezuela                      6\n",
              "Australia                      5\n",
              "Japan                          5\n",
              "France                         4\n",
              "Dominican Republic             4\n",
              "Slovenia                       3\n",
              "Puerto Rico                    3\n",
              "Belgium                        3\n",
              "Serbia                         2\n",
              "People's Republic of China     2\n",
              "Germany                        2\n",
              "Czech Republic                 2\n",
              "Canada                         1\n",
              "Italy                          1\n",
              "Islamic Republic of Iran       1\n",
              "Republic of Korea              1\n",
              "Argentina                      1\n",
              "Name: Name, dtype: int64"
            ]
          },
          "metadata": {},
          "execution_count": 109
        }
      ]
    },
    {
      "cell_type": "code",
      "metadata": {
        "colab": {
          "base_uri": "https://localhost:8080/",
          "height": 374
        },
        "id": "hKGwDzR3c9-s",
        "outputId": "2441fec8-0a6e-4e55-ce61-5905d334cead"
      },
      "source": [
        "Basketball_coatches.groupby('Country')['Name'].count().sort_values(ascending=False).plot(legend=False,kind='barh',\n",
        "                                                                        colormap='Paired_r',\n",
        "                                                                        figsize=(8,6),title='')\n",
        "plt.show()"
      ],
      "execution_count": 110,
      "outputs": [
        {
          "output_type": "display_data",
          "data": {
            "image/png": "[encoded data removed]",
            "text/plain": [
              "<Figure size 576x432 with 1 Axes>"
            ]
          },
          "metadata": {
            "needs_background": "light"
          }
        }
      ]
    },
    {
      "cell_type": "code",
      "metadata": {
        "colab": {
          "base_uri": "https://localhost:8080/"
        },
        "id": "D38aLfpldAWj",
        "outputId": "2f53fd0b-0f69-4caa-f363-4ddb9a0c1ae7"
      },
      "source": [
        "# Volleyball coaches in Olympics\n",
        "Volleyball_coatches=Coaches[Coaches['Play']=='Volleyball'].drop(['Play'],axis=1)\n",
        "Volleyball_coatches.groupby('Country')['Name'].count().sort_values(ascending=False)"
      ],
      "execution_count": 111,
      "outputs": [
        {
          "output_type": "execute_result",
          "data": {
            "text/plain": [
              "Country\n",
              "ROC                           5\n",
              "Japan                         5\n",
              "United States of America      5\n",
              "Venezuela                     4\n",
              "Argentina                     4\n",
              "Poland                        3\n",
              "People's Republic of China    3\n",
              "Italy                         3\n",
              "Kenya                         3\n",
              "Brazil                        2\n",
              "Republic of Korea             1\n",
              "Serbia                        1\n",
              "Tunisia                       1\n",
              "Turkey                        1\n",
              "Islamic Republic of Iran      1\n",
              "France                        1\n",
              "Dominican Republic            1\n",
              "Canada                        1\n",
              "Name: Name, dtype: int64"
            ]
          },
          "metadata": {},
          "execution_count": 111
        }
      ]
    },
    {
      "cell_type": "code",
      "metadata": {
        "colab": {
          "base_uri": "https://localhost:8080/",
          "height": 374
        },
        "id": "HlSSIA1xdFvI",
        "outputId": "8004ce7d-b1e3-41f0-eb0a-d32e5e1450f8"
      },
      "source": [
        "Volleyball_coatches.groupby('Country')['Name'].count().sort_values(ascending=False).plot(legend=False,kind='barh',\n",
        "                                                                        colormap='PiYG',\n",
        "                                                                        figsize=(8,6),title='')\n",
        "plt.show()"
      ],
      "execution_count": 112,
      "outputs": [
        {
          "output_type": "display_data",
          "data": {
            "image/png": "[encoded data removed]",
            "text/plain": [
              "<Figure size 576x432 with 1 Axes>"
            ]
          },
          "metadata": {
            "needs_background": "light"
          }
        }
      ]
    },
    {
      "cell_type": "code",
      "metadata": {
        "colab": {
          "base_uri": "https://localhost:8080/"
        },
        "id": "ePpLGN2ydIvL",
        "outputId": "d0cfb55c-8b45-4305-ae01-b573f7710f04"
      },
      "source": [
        "# Swimming coaches in Olympics\n",
        "Swimming_coatches=Coaches[Coaches['Play']=='Artistic Swimming'].drop(['Play'],axis=1)\n",
        "Swimming_coatches.groupby('Country')['Name'].count().sort_values(ascending=False)"
      ],
      "execution_count": 113,
      "outputs": [
        {
          "output_type": "execute_result",
          "data": {
            "text/plain": [
              "Country\n",
              "Spain                         8\n",
              "Italy                         7\n",
              "Egypt                         6\n",
              "Greece                        5\n",
              "Canada                        4\n",
              "ROC                           4\n",
              "Ukraine                       4\n",
              "Japan                         4\n",
              "Austria                       3\n",
              "People's Republic of China    3\n",
              "Colombia                      2\n",
              "Great Britain                 2\n",
              "Mexico                        2\n",
              "San Marino                    2\n",
              "Australia                     2\n",
              "Cambodia                      1\n",
              "Belarus                       1\n",
              "United States of America      1\n",
              "France                        1\n",
              "Israel                        1\n",
              "Kazakhstan                    1\n",
              "Liechtenstein                 1\n",
              "Netherlands                   1\n",
              "Serbia                        1\n",
              "Slovakia                      1\n",
              "Argentina                     1\n",
              "Name: Name, dtype: int64"
            ]
          },
          "metadata": {},
          "execution_count": 113
        }
      ]
    },
    {
      "cell_type": "code",
      "metadata": {
        "colab": {
          "base_uri": "https://localhost:8080/",
          "height": 374
        },
        "id": "71iUFi4fdadc",
        "outputId": "2b876230-146c-4060-822c-96f6071761b3"
      },
      "source": [
        "Swimming_coatches.groupby('Country')['Name'].count().sort_values(ascending=False).plot(legend=False,kind='barh',\n",
        "                                                                        colormap='vlag_r',\n",
        "                                                                        figsize=(8,6),title='')\n",
        "plt.show()"
      ],
      "execution_count": 114,
      "outputs": [
        {
          "output_type": "display_data",
          "data": {
            "image/png": "[encoded data removed]",
            "text/plain": [
              "<Figure size 576x432 with 1 Axes>"
            ]
          },
          "metadata": {
            "needs_background": "light"
          }
        }
      ]
    },
    {
      "cell_type": "code",
      "metadata": {
        "colab": {
          "base_uri": "https://localhost:8080/"
        },
        "id": "zeslY_DfdhKo",
        "outputId": "70c38e88-c4a6-4c58-d3b6-d71d42c193c3"
      },
      "source": [
        "Gender.shape"
      ],
      "execution_count": 115,
      "outputs": [
        {
          "output_type": "execute_result",
          "data": {
            "text/plain": [
              "(46, 4)"
            ]
          },
          "metadata": {},
          "execution_count": 115
        }
      ]
    },
    {
      "cell_type": "code",
      "metadata": {
        "colab": {
          "base_uri": "https://localhost:8080/",
          "height": 202
        },
        "id": "4GWpZFj9dc1i",
        "outputId": "6a0bc55c-7ed2-4225-af86-b3ae0a635425"
      },
      "source": [
        "Gender.head()"
      ],
      "execution_count": 116,
      "outputs": [
        {
          "output_type": "execute_result",
          "data": {
            "text/html": [
              "<div>\n",
              "<style scoped>\n",
              "    .dataframe tbody tr th:only-of-type {\n",
              "        vertical-align: middle;\n",
              "    }\n",
              "\n",
              "    .dataframe tbody tr th {\n",
              "        vertical-align: top;\n",
              "    }\n",
              "\n",
              "    .dataframe thead th {\n",
              "        text-align: right;\n",
              "    }\n",
              "</style>\n",
              "<table border=\"1\" class=\"dataframe\">\n",
              "  <thead>\n",
              "    <tr style=\"text-align: right;\">\n",
              "      <th></th>\n",
              "      <th>Play</th>\n",
              "      <th>Female</th>\n",
              "      <th>Male</th>\n",
              "      <th>Total</th>\n",
              "    </tr>\n",
              "  </thead>\n",
              "  <tbody>\n",
              "    <tr>\n",
              "      <th>0</th>\n",
              "      <td>3x3 Basketball</td>\n",
              "      <td>32</td>\n",
              "      <td>32</td>\n",
              "      <td>64</td>\n",
              "    </tr>\n",
              "    <tr>\n",
              "      <th>1</th>\n",
              "      <td>Archery</td>\n",
              "      <td>64</td>\n",
              "      <td>64</td>\n",
              "      <td>128</td>\n",
              "    </tr>\n",
              "    <tr>\n",
              "      <th>2</th>\n",
              "      <td>Artistic Gymnastics</td>\n",
              "      <td>98</td>\n",
              "      <td>98</td>\n",
              "      <td>196</td>\n",
              "    </tr>\n",
              "    <tr>\n",
              "      <th>3</th>\n",
              "      <td>Artistic Swimming</td>\n",
              "      <td>105</td>\n",
              "      <td>0</td>\n",
              "      <td>105</td>\n",
              "    </tr>\n",
              "    <tr>\n",
              "      <th>4</th>\n",
              "      <td>Athletics</td>\n",
              "      <td>969</td>\n",
              "      <td>1072</td>\n",
              "      <td>2041</td>\n",
              "    </tr>\n",
              "  </tbody>\n",
              "</table>\n",
              "</div>"
            ],
            "text/plain": [
              "                  Play  Female  Male  Total\n",
              "0       3x3 Basketball      32    32     64\n",
              "1              Archery      64    64    128\n",
              "2  Artistic Gymnastics      98    98    196\n",
              "3    Artistic Swimming     105     0    105\n",
              "4            Athletics     969  1072   2041"
            ]
          },
          "metadata": {},
          "execution_count": 116
        }
      ]
    },
    {
      "cell_type": "code",
      "metadata": {
        "id": "O3DUlkspdjQE"
      },
      "source": [
        "Gender['Female_%']=(Gender['Female'] / Gender['Total']) * 100\n",
        "Gender['Male_%']=(Gender['Male'] / Gender['Total']) * 100"
      ],
      "execution_count": 117,
      "outputs": []
    },
    {
      "cell_type": "code",
      "metadata": {
        "colab": {
          "base_uri": "https://localhost:8080/",
          "height": 202
        },
        "id": "j-7RLgagdqIM",
        "outputId": "4831d73b-8045-4b5b-fed7-9f2a12462b09"
      },
      "source": [
        "Gender.head()"
      ],
      "execution_count": 118,
      "outputs": [
        {
          "output_type": "execute_result",
          "data": {
            "text/html": [
              "<div>\n",
              "<style scoped>\n",
              "    .dataframe tbody tr th:only-of-type {\n",
              "        vertical-align: middle;\n",
              "    }\n",
              "\n",
              "    .dataframe tbody tr th {\n",
              "        vertical-align: top;\n",
              "    }\n",
              "\n",
              "    .dataframe thead th {\n",
              "        text-align: right;\n",
              "    }\n",
              "</style>\n",
              "<table border=\"1\" class=\"dataframe\">\n",
              "  <thead>\n",
              "    <tr style=\"text-align: right;\">\n",
              "      <th></th>\n",
              "      <th>Play</th>\n",
              "      <th>Female</th>\n",
              "      <th>Male</th>\n",
              "      <th>Total</th>\n",
              "      <th>Female_%</th>\n",
              "      <th>Male_%</th>\n",
              "    </tr>\n",
              "  </thead>\n",
              "  <tbody>\n",
              "    <tr>\n",
              "      <th>0</th>\n",
              "      <td>3x3 Basketball</td>\n",
              "      <td>32</td>\n",
              "      <td>32</td>\n",
              "      <td>64</td>\n",
              "      <td>50.000000</td>\n",
              "      <td>50.000000</td>\n",
              "    </tr>\n",
              "    <tr>\n",
              "      <th>1</th>\n",
              "      <td>Archery</td>\n",
              "      <td>64</td>\n",
              "      <td>64</td>\n",
              "      <td>128</td>\n",
              "      <td>50.000000</td>\n",
              "      <td>50.000000</td>\n",
              "    </tr>\n",
              "    <tr>\n",
              "      <th>2</th>\n",
              "      <td>Artistic Gymnastics</td>\n",
              "      <td>98</td>\n",
              "      <td>98</td>\n",
              "      <td>196</td>\n",
              "      <td>50.000000</td>\n",
              "      <td>50.000000</td>\n",
              "    </tr>\n",
              "    <tr>\n",
              "      <th>3</th>\n",
              "      <td>Artistic Swimming</td>\n",
              "      <td>105</td>\n",
              "      <td>0</td>\n",
              "      <td>105</td>\n",
              "      <td>100.000000</td>\n",
              "      <td>0.000000</td>\n",
              "    </tr>\n",
              "    <tr>\n",
              "      <th>4</th>\n",
              "      <td>Athletics</td>\n",
              "      <td>969</td>\n",
              "      <td>1072</td>\n",
              "      <td>2041</td>\n",
              "      <td>47.476727</td>\n",
              "      <td>52.523273</td>\n",
              "    </tr>\n",
              "  </tbody>\n",
              "</table>\n",
              "</div>"
            ],
            "text/plain": [
              "                  Play  Female  Male  Total    Female_%     Male_%\n",
              "0       3x3 Basketball      32    32     64   50.000000  50.000000\n",
              "1              Archery      64    64    128   50.000000  50.000000\n",
              "2  Artistic Gymnastics      98    98    196   50.000000  50.000000\n",
              "3    Artistic Swimming     105     0    105  100.000000   0.000000\n",
              "4            Athletics     969  1072   2041   47.476727  52.523273"
            ]
          },
          "metadata": {},
          "execution_count": 118
        }
      ]
    },
    {
      "cell_type": "code",
      "metadata": {
        "colab": {
          "base_uri": "https://localhost:8080/",
          "height": 356
        },
        "id": "YdD32772dshH",
        "outputId": "90117478-5371-48ac-a9a8-043bb128d32f"
      },
      "source": [
        "# Games participated most by the female candidates\n",
        "female=Gender.sort_values(['Female'], ascending=False).drop(['Male','Total','Female_%','Male_%'],axis=1).head(10)\n",
        "female"
      ],
      "execution_count": 119,
      "outputs": [
        {
          "output_type": "execute_result",
          "data": {
            "text/html": [
              "<div>\n",
              "<style scoped>\n",
              "    .dataframe tbody tr th:only-of-type {\n",
              "        vertical-align: middle;\n",
              "    }\n",
              "\n",
              "    .dataframe tbody tr th {\n",
              "        vertical-align: top;\n",
              "    }\n",
              "\n",
              "    .dataframe thead th {\n",
              "        text-align: right;\n",
              "    }\n",
              "</style>\n",
              "<table border=\"1\" class=\"dataframe\">\n",
              "  <thead>\n",
              "    <tr style=\"text-align: right;\">\n",
              "      <th></th>\n",
              "      <th>Play</th>\n",
              "      <th>Female</th>\n",
              "    </tr>\n",
              "  </thead>\n",
              "  <tbody>\n",
              "    <tr>\n",
              "      <th>4</th>\n",
              "      <td>Athletics</td>\n",
              "      <td>969</td>\n",
              "    </tr>\n",
              "    <tr>\n",
              "      <th>36</th>\n",
              "      <td>Swimming</td>\n",
              "      <td>361</td>\n",
              "    </tr>\n",
              "    <tr>\n",
              "      <th>20</th>\n",
              "      <td>Football</td>\n",
              "      <td>264</td>\n",
              "    </tr>\n",
              "    <tr>\n",
              "      <th>29</th>\n",
              "      <td>Rowing</td>\n",
              "      <td>257</td>\n",
              "    </tr>\n",
              "    <tr>\n",
              "      <th>24</th>\n",
              "      <td>Judo</td>\n",
              "      <td>192</td>\n",
              "    </tr>\n",
              "    <tr>\n",
              "      <th>23</th>\n",
              "      <td>Hockey</td>\n",
              "      <td>192</td>\n",
              "    </tr>\n",
              "    <tr>\n",
              "      <th>32</th>\n",
              "      <td>Shooting</td>\n",
              "      <td>178</td>\n",
              "    </tr>\n",
              "    <tr>\n",
              "      <th>31</th>\n",
              "      <td>Sailing</td>\n",
              "      <td>175</td>\n",
              "    </tr>\n",
              "    <tr>\n",
              "      <th>22</th>\n",
              "      <td>Handball</td>\n",
              "      <td>168</td>\n",
              "    </tr>\n",
              "    <tr>\n",
              "      <th>30</th>\n",
              "      <td>Rugby Sevens</td>\n",
              "      <td>146</td>\n",
              "    </tr>\n",
              "  </tbody>\n",
              "</table>\n",
              "</div>"
            ],
            "text/plain": [
              "            Play  Female\n",
              "4      Athletics     969\n",
              "36      Swimming     361\n",
              "20      Football     264\n",
              "29        Rowing     257\n",
              "24          Judo     192\n",
              "23        Hockey     192\n",
              "32      Shooting     178\n",
              "31       Sailing     175\n",
              "22      Handball     168\n",
              "30  Rugby Sevens     146"
            ]
          },
          "metadata": {},
          "execution_count": 119
        }
      ]
    },
    {
      "cell_type": "code",
      "metadata": {
        "colab": {
          "base_uri": "https://localhost:8080/",
          "height": 279
        },
        "id": "2CjAwEMXd2Dc",
        "outputId": "1496fa07-20be-4fc7-a032-1af965d6f3aa"
      },
      "source": [
        "sns.barplot(y='Play', x='Female' , data=female.sort_values(['Female']),palette=\"gnuplot2_r\")\n",
        "plt.show()"
      ],
      "execution_count": 120,
      "outputs": [
        {
          "output_type": "display_data",
          "data": {
            "image/png": "[encoded data removed]",
            "text/plain": [
              "<Figure size 432x288 with 1 Axes>"
            ]
          },
          "metadata": {
            "needs_background": "light"
          }
        }
      ]
    },
    {
      "cell_type": "code",
      "metadata": {
        "colab": {
          "base_uri": "https://localhost:8080/",
          "height": 356
        },
        "id": "fhC246QZd6td",
        "outputId": "5b1266c1-d9c3-4a21-99e8-e441ea4e7fd2"
      },
      "source": [
        "# Games least paritcipated by the females\n",
        "female2=Gender.sort_values(['Female'], ascending=False).drop(['Male','Total','Female_%','Male_%'],axis=1).tail(10)\n",
        "female2"
      ],
      "execution_count": 121,
      "outputs": [
        {
          "output_type": "execute_result",
          "data": {
            "text/html": [
              "<div>\n",
              "<style scoped>\n",
              "    .dataframe tbody tr th:only-of-type {\n",
              "        vertical-align: middle;\n",
              "    }\n",
              "\n",
              "    .dataframe tbody tr th {\n",
              "        vertical-align: top;\n",
              "    }\n",
              "\n",
              "    .dataframe thead th {\n",
              "        text-align: right;\n",
              "    }\n",
              "</style>\n",
              "<table border=\"1\" class=\"dataframe\">\n",
              "  <thead>\n",
              "    <tr style=\"text-align: right;\">\n",
              "      <th></th>\n",
              "      <th>Play</th>\n",
              "      <th>Female</th>\n",
              "    </tr>\n",
              "  </thead>\n",
              "  <tbody>\n",
              "    <tr>\n",
              "      <th>25</th>\n",
              "      <td>Karate</td>\n",
              "      <td>40</td>\n",
              "    </tr>\n",
              "    <tr>\n",
              "      <th>14</th>\n",
              "      <td>Cycling Mountain Bike</td>\n",
              "      <td>38</td>\n",
              "    </tr>\n",
              "    <tr>\n",
              "      <th>27</th>\n",
              "      <td>Modern Pentathlon</td>\n",
              "      <td>36</td>\n",
              "    </tr>\n",
              "    <tr>\n",
              "      <th>0</th>\n",
              "      <td>3x3 Basketball</td>\n",
              "      <td>32</td>\n",
              "    </tr>\n",
              "    <tr>\n",
              "      <th>26</th>\n",
              "      <td>Marathon Swimming</td>\n",
              "      <td>25</td>\n",
              "    </tr>\n",
              "    <tr>\n",
              "      <th>13</th>\n",
              "      <td>Cycling BMX Racing</td>\n",
              "      <td>24</td>\n",
              "    </tr>\n",
              "    <tr>\n",
              "      <th>35</th>\n",
              "      <td>Surfing</td>\n",
              "      <td>20</td>\n",
              "    </tr>\n",
              "    <tr>\n",
              "      <th>34</th>\n",
              "      <td>Sport Climbing</td>\n",
              "      <td>20</td>\n",
              "    </tr>\n",
              "    <tr>\n",
              "      <th>40</th>\n",
              "      <td>Trampoline Gymnastics</td>\n",
              "      <td>16</td>\n",
              "    </tr>\n",
              "    <tr>\n",
              "      <th>12</th>\n",
              "      <td>Cycling BMX Freestyle</td>\n",
              "      <td>10</td>\n",
              "    </tr>\n",
              "  </tbody>\n",
              "</table>\n",
              "</div>"
            ],
            "text/plain": [
              "                     Play  Female\n",
              "25                 Karate      40\n",
              "14  Cycling Mountain Bike      38\n",
              "27      Modern Pentathlon      36\n",
              "0          3x3 Basketball      32\n",
              "26      Marathon Swimming      25\n",
              "13     Cycling BMX Racing      24\n",
              "35                Surfing      20\n",
              "34         Sport Climbing      20\n",
              "40  Trampoline Gymnastics      16\n",
              "12  Cycling BMX Freestyle      10"
            ]
          },
          "metadata": {},
          "execution_count": 121
        }
      ]
    },
    {
      "cell_type": "code",
      "metadata": {
        "colab": {
          "base_uri": "https://localhost:8080/",
          "height": 279
        },
        "id": "iGTNLQ9EeWqt",
        "outputId": "b4fa6ceb-8585-4c49-d38e-43938b4f42c9"
      },
      "source": [
        "sns.barplot(y='Play', x='Female' , data=female2.sort_values(['Female']),palette=\"inferno_r\")\n",
        "plt.show()"
      ],
      "execution_count": 122,
      "outputs": [
        {
          "output_type": "display_data",
          "data": {
            "image/png": "[encoded data removed]",
            "text/plain": [
              "<Figure size 432x288 with 1 Axes>"
            ]
          },
          "metadata": {
            "needs_background": "light"
          }
        }
      ]
    },
    {
      "cell_type": "code",
      "metadata": {
        "colab": {
          "base_uri": "https://localhost:8080/",
          "height": 356
        },
        "id": "-AwB4TDnechy",
        "outputId": "f77506b4-60aa-4f41-95ff-b6c7c0e3139c"
      },
      "source": [
        "# Games most participated by Males\n",
        "male=Gender.sort_values(['Male'], ascending=False).drop(['Female','Total','Female_%','Male_%'],axis=1).head(10)\n",
        "male"
      ],
      "execution_count": 123,
      "outputs": [
        {
          "output_type": "execute_result",
          "data": {
            "text/html": [
              "<div>\n",
              "<style scoped>\n",
              "    .dataframe tbody tr th:only-of-type {\n",
              "        vertical-align: middle;\n",
              "    }\n",
              "\n",
              "    .dataframe tbody tr th {\n",
              "        vertical-align: top;\n",
              "    }\n",
              "\n",
              "    .dataframe thead th {\n",
              "        text-align: right;\n",
              "    }\n",
              "</style>\n",
              "<table border=\"1\" class=\"dataframe\">\n",
              "  <thead>\n",
              "    <tr style=\"text-align: right;\">\n",
              "      <th></th>\n",
              "      <th>Play</th>\n",
              "      <th>Male</th>\n",
              "    </tr>\n",
              "  </thead>\n",
              "  <tbody>\n",
              "    <tr>\n",
              "      <th>4</th>\n",
              "      <td>Athletics</td>\n",
              "      <td>1072</td>\n",
              "    </tr>\n",
              "    <tr>\n",
              "      <th>36</th>\n",
              "      <td>Swimming</td>\n",
              "      <td>418</td>\n",
              "    </tr>\n",
              "    <tr>\n",
              "      <th>20</th>\n",
              "      <td>Football</td>\n",
              "      <td>344</td>\n",
              "    </tr>\n",
              "    <tr>\n",
              "      <th>29</th>\n",
              "      <td>Rowing</td>\n",
              "      <td>265</td>\n",
              "    </tr>\n",
              "    <tr>\n",
              "      <th>24</th>\n",
              "      <td>Judo</td>\n",
              "      <td>201</td>\n",
              "    </tr>\n",
              "    <tr>\n",
              "      <th>45</th>\n",
              "      <td>Wrestling</td>\n",
              "      <td>193</td>\n",
              "    </tr>\n",
              "    <tr>\n",
              "      <th>23</th>\n",
              "      <td>Hockey</td>\n",
              "      <td>192</td>\n",
              "    </tr>\n",
              "    <tr>\n",
              "      <th>9</th>\n",
              "      <td>Boxing</td>\n",
              "      <td>187</td>\n",
              "    </tr>\n",
              "    <tr>\n",
              "      <th>32</th>\n",
              "      <td>Shooting</td>\n",
              "      <td>178</td>\n",
              "    </tr>\n",
              "    <tr>\n",
              "      <th>31</th>\n",
              "      <td>Sailing</td>\n",
              "      <td>175</td>\n",
              "    </tr>\n",
              "  </tbody>\n",
              "</table>\n",
              "</div>"
            ],
            "text/plain": [
              "         Play  Male\n",
              "4   Athletics  1072\n",
              "36   Swimming   418\n",
              "20   Football   344\n",
              "29     Rowing   265\n",
              "24       Judo   201\n",
              "45  Wrestling   193\n",
              "23     Hockey   192\n",
              "9      Boxing   187\n",
              "32   Shooting   178\n",
              "31    Sailing   175"
            ]
          },
          "metadata": {},
          "execution_count": 123
        }
      ]
    },
    {
      "cell_type": "code",
      "metadata": {
        "colab": {
          "base_uri": "https://localhost:8080/",
          "height": 279
        },
        "id": "N0JoSWEieipv",
        "outputId": "04639d87-f9f8-4db1-ac72-028dc2383176"
      },
      "source": [
        "sns.barplot(y='Play', x='Male' , data=male.sort_values(['Male']),palette=\"terrain_r\")\n",
        "plt.show()"
      ],
      "execution_count": 124,
      "outputs": [
        {
          "output_type": "display_data",
          "data": {
            "image/png": "[encoded data removed]",
            "text/plain": [
              "<Figure size 432x288 with 1 Axes>"
            ]
          },
          "metadata": {
            "needs_background": "light"
          }
        }
      ]
    },
    {
      "cell_type": "code",
      "metadata": {
        "colab": {
          "base_uri": "https://localhost:8080/",
          "height": 356
        },
        "id": "shLYZV-LemFA",
        "outputId": "d65ce0a4-5bbf-455f-dadc-50e7796df8a9"
      },
      "source": [
        "# Games participated least by Males\n",
        "male2=Gender.sort_values(['Male'], ascending=False).drop(['Female','Total','Female_%','Male_%'],axis=1).tail(10)\n",
        "male2"
      ],
      "execution_count": 125,
      "outputs": [
        {
          "output_type": "execute_result",
          "data": {
            "text/html": [
              "<div>\n",
              "<style scoped>\n",
              "    .dataframe tbody tr th:only-of-type {\n",
              "        vertical-align: middle;\n",
              "    }\n",
              "\n",
              "    .dataframe tbody tr th {\n",
              "        vertical-align: top;\n",
              "    }\n",
              "\n",
              "    .dataframe thead th {\n",
              "        text-align: right;\n",
              "    }\n",
              "</style>\n",
              "<table border=\"1\" class=\"dataframe\">\n",
              "  <thead>\n",
              "    <tr style=\"text-align: right;\">\n",
              "      <th></th>\n",
              "      <th>Play</th>\n",
              "      <th>Male</th>\n",
              "    </tr>\n",
              "  </thead>\n",
              "  <tbody>\n",
              "    <tr>\n",
              "      <th>27</th>\n",
              "      <td>Modern Pentathlon</td>\n",
              "      <td>36</td>\n",
              "    </tr>\n",
              "    <tr>\n",
              "      <th>0</th>\n",
              "      <td>3x3 Basketball</td>\n",
              "      <td>32</td>\n",
              "    </tr>\n",
              "    <tr>\n",
              "      <th>26</th>\n",
              "      <td>Marathon Swimming</td>\n",
              "      <td>25</td>\n",
              "    </tr>\n",
              "    <tr>\n",
              "      <th>13</th>\n",
              "      <td>Cycling BMX Racing</td>\n",
              "      <td>24</td>\n",
              "    </tr>\n",
              "    <tr>\n",
              "      <th>35</th>\n",
              "      <td>Surfing</td>\n",
              "      <td>20</td>\n",
              "    </tr>\n",
              "    <tr>\n",
              "      <th>34</th>\n",
              "      <td>Sport Climbing</td>\n",
              "      <td>20</td>\n",
              "    </tr>\n",
              "    <tr>\n",
              "      <th>40</th>\n",
              "      <td>Trampoline Gymnastics</td>\n",
              "      <td>16</td>\n",
              "    </tr>\n",
              "    <tr>\n",
              "      <th>12</th>\n",
              "      <td>Cycling BMX Freestyle</td>\n",
              "      <td>9</td>\n",
              "    </tr>\n",
              "    <tr>\n",
              "      <th>3</th>\n",
              "      <td>Artistic Swimming</td>\n",
              "      <td>0</td>\n",
              "    </tr>\n",
              "    <tr>\n",
              "      <th>28</th>\n",
              "      <td>Rhythmic Gymnastics</td>\n",
              "      <td>0</td>\n",
              "    </tr>\n",
              "  </tbody>\n",
              "</table>\n",
              "</div>"
            ],
            "text/plain": [
              "                     Play  Male\n",
              "27      Modern Pentathlon    36\n",
              "0          3x3 Basketball    32\n",
              "26      Marathon Swimming    25\n",
              "13     Cycling BMX Racing    24\n",
              "35                Surfing    20\n",
              "34         Sport Climbing    20\n",
              "40  Trampoline Gymnastics    16\n",
              "12  Cycling BMX Freestyle     9\n",
              "3       Artistic Swimming     0\n",
              "28    Rhythmic Gymnastics     0"
            ]
          },
          "metadata": {},
          "execution_count": 125
        }
      ]
    },
    {
      "cell_type": "code",
      "metadata": {
        "colab": {
          "base_uri": "https://localhost:8080/",
          "height": 296
        },
        "id": "U9IR0SRketo2",
        "outputId": "15f0807a-bd64-4bc7-b578-962faca0a5b9"
      },
      "source": [
        "sns.barplot(y='Play', x='Male' , data=male2.sort_values(['Male']),palette=\"tab20c_r\")"
      ],
      "execution_count": 126,
      "outputs": [
        {
          "output_type": "execute_result",
          "data": {
            "text/plain": [
              "<matplotlib.axes._subplots.AxesSubplot at 0x7f04582e3190>"
            ]
          },
          "metadata": {},
          "execution_count": 126
        },
        {
          "output_type": "display_data",
          "data": {
            "image/png": "[encoded data removed]",
            "text/plain": [
              "<Figure size 432x288 with 1 Axes>"
            ]
          },
          "metadata": {
            "needs_background": "light"
          }
        }
      ]
    },
    {
      "cell_type": "code",
      "metadata": {
        "colab": {
          "base_uri": "https://localhost:8080/",
          "height": 356
        },
        "id": "fKbDQM0fewfp",
        "outputId": "e69e3ffe-e46f-476e-af40-e64d41c08c48"
      },
      "source": [
        "# Most participated games\n",
        "both_genders=Gender.sort_values(['Total'], ascending=False).drop(['Female','Male_%','Male','Female_%'],axis=1).head(10)\n",
        "both_genders"
      ],
      "execution_count": 127,
      "outputs": [
        {
          "output_type": "execute_result",
          "data": {
            "text/html": [
              "<div>\n",
              "<style scoped>\n",
              "    .dataframe tbody tr th:only-of-type {\n",
              "        vertical-align: middle;\n",
              "    }\n",
              "\n",
              "    .dataframe tbody tr th {\n",
              "        vertical-align: top;\n",
              "    }\n",
              "\n",
              "    .dataframe thead th {\n",
              "        text-align: right;\n",
              "    }\n",
              "</style>\n",
              "<table border=\"1\" class=\"dataframe\">\n",
              "  <thead>\n",
              "    <tr style=\"text-align: right;\">\n",
              "      <th></th>\n",
              "      <th>Play</th>\n",
              "      <th>Total</th>\n",
              "    </tr>\n",
              "  </thead>\n",
              "  <tbody>\n",
              "    <tr>\n",
              "      <th>4</th>\n",
              "      <td>Athletics</td>\n",
              "      <td>2041</td>\n",
              "    </tr>\n",
              "    <tr>\n",
              "      <th>36</th>\n",
              "      <td>Swimming</td>\n",
              "      <td>779</td>\n",
              "    </tr>\n",
              "    <tr>\n",
              "      <th>20</th>\n",
              "      <td>Football</td>\n",
              "      <td>608</td>\n",
              "    </tr>\n",
              "    <tr>\n",
              "      <th>29</th>\n",
              "      <td>Rowing</td>\n",
              "      <td>522</td>\n",
              "    </tr>\n",
              "    <tr>\n",
              "      <th>24</th>\n",
              "      <td>Judo</td>\n",
              "      <td>393</td>\n",
              "    </tr>\n",
              "    <tr>\n",
              "      <th>23</th>\n",
              "      <td>Hockey</td>\n",
              "      <td>384</td>\n",
              "    </tr>\n",
              "    <tr>\n",
              "      <th>32</th>\n",
              "      <td>Shooting</td>\n",
              "      <td>356</td>\n",
              "    </tr>\n",
              "    <tr>\n",
              "      <th>31</th>\n",
              "      <td>Sailing</td>\n",
              "      <td>350</td>\n",
              "    </tr>\n",
              "    <tr>\n",
              "      <th>22</th>\n",
              "      <td>Handball</td>\n",
              "      <td>336</td>\n",
              "    </tr>\n",
              "    <tr>\n",
              "      <th>30</th>\n",
              "      <td>Rugby Sevens</td>\n",
              "      <td>297</td>\n",
              "    </tr>\n",
              "  </tbody>\n",
              "</table>\n",
              "</div>"
            ],
            "text/plain": [
              "            Play  Total\n",
              "4      Athletics   2041\n",
              "36      Swimming    779\n",
              "20      Football    608\n",
              "29        Rowing    522\n",
              "24          Judo    393\n",
              "23        Hockey    384\n",
              "32      Shooting    356\n",
              "31       Sailing    350\n",
              "22      Handball    336\n",
              "30  Rugby Sevens    297"
            ]
          },
          "metadata": {},
          "execution_count": 127
        }
      ]
    },
    {
      "cell_type": "code",
      "metadata": {
        "colab": {
          "base_uri": "https://localhost:8080/",
          "height": 279
        },
        "id": "iguW5_G7e8UJ",
        "outputId": "c0b5be5f-7b12-4322-d4f8-ab17bfb38eec"
      },
      "source": [
        "# Most participated games\n",
        "sns.barplot(y='Play', x='Total' , data=both_genders.sort_values(['Total']),palette=\"Greys\")\n",
        "plt.show()"
      ],
      "execution_count": 128,
      "outputs": [
        {
          "output_type": "display_data",
          "data": {
            "image/png": "[encoded data removed]",
            "text/plain": [
              "<Figure size 432x288 with 1 Axes>"
            ]
          },
          "metadata": {
            "needs_background": "light"
          }
        }
      ]
    },
    {
      "cell_type": "code",
      "metadata": {
        "colab": {
          "base_uri": "https://localhost:8080/",
          "height": 356
        },
        "id": "WiQzGYmtfAeY",
        "outputId": "d6794190-3da3-4662-f86a-7e9da239be03"
      },
      "source": [
        "# Least participated games\n",
        "both_genders2=Gender.sort_values(['Total'], ascending=False).drop(['Female','Male_%','Male','Female_%'],axis=1).tail(10)\n",
        "both_genders2"
      ],
      "execution_count": 129,
      "outputs": [
        {
          "output_type": "execute_result",
          "data": {
            "text/html": [
              "<div>\n",
              "<style scoped>\n",
              "    .dataframe tbody tr th:only-of-type {\n",
              "        vertical-align: middle;\n",
              "    }\n",
              "\n",
              "    .dataframe tbody tr th {\n",
              "        vertical-align: top;\n",
              "    }\n",
              "\n",
              "    .dataframe thead th {\n",
              "        text-align: right;\n",
              "    }\n",
              "</style>\n",
              "<table border=\"1\" class=\"dataframe\">\n",
              "  <thead>\n",
              "    <tr style=\"text-align: right;\">\n",
              "      <th></th>\n",
              "      <th>Play</th>\n",
              "      <th>Total</th>\n",
              "    </tr>\n",
              "  </thead>\n",
              "  <tbody>\n",
              "    <tr>\n",
              "      <th>33</th>\n",
              "      <td>Skateboarding</td>\n",
              "      <td>80</td>\n",
              "    </tr>\n",
              "    <tr>\n",
              "      <th>14</th>\n",
              "      <td>Cycling Mountain Bike</td>\n",
              "      <td>76</td>\n",
              "    </tr>\n",
              "    <tr>\n",
              "      <th>27</th>\n",
              "      <td>Modern Pentathlon</td>\n",
              "      <td>72</td>\n",
              "    </tr>\n",
              "    <tr>\n",
              "      <th>0</th>\n",
              "      <td>3x3 Basketball</td>\n",
              "      <td>64</td>\n",
              "    </tr>\n",
              "    <tr>\n",
              "      <th>26</th>\n",
              "      <td>Marathon Swimming</td>\n",
              "      <td>50</td>\n",
              "    </tr>\n",
              "    <tr>\n",
              "      <th>13</th>\n",
              "      <td>Cycling BMX Racing</td>\n",
              "      <td>48</td>\n",
              "    </tr>\n",
              "    <tr>\n",
              "      <th>34</th>\n",
              "      <td>Sport Climbing</td>\n",
              "      <td>40</td>\n",
              "    </tr>\n",
              "    <tr>\n",
              "      <th>35</th>\n",
              "      <td>Surfing</td>\n",
              "      <td>40</td>\n",
              "    </tr>\n",
              "    <tr>\n",
              "      <th>40</th>\n",
              "      <td>Trampoline Gymnastics</td>\n",
              "      <td>32</td>\n",
              "    </tr>\n",
              "    <tr>\n",
              "      <th>12</th>\n",
              "      <td>Cycling BMX Freestyle</td>\n",
              "      <td>19</td>\n",
              "    </tr>\n",
              "  </tbody>\n",
              "</table>\n",
              "</div>"
            ],
            "text/plain": [
              "                     Play  Total\n",
              "33          Skateboarding     80\n",
              "14  Cycling Mountain Bike     76\n",
              "27      Modern Pentathlon     72\n",
              "0          3x3 Basketball     64\n",
              "26      Marathon Swimming     50\n",
              "13     Cycling BMX Racing     48\n",
              "34         Sport Climbing     40\n",
              "35                Surfing     40\n",
              "40  Trampoline Gymnastics     32\n",
              "12  Cycling BMX Freestyle     19"
            ]
          },
          "metadata": {},
          "execution_count": 129
        }
      ]
    },
    {
      "cell_type": "code",
      "metadata": {
        "colab": {
          "base_uri": "https://localhost:8080/",
          "height": 279
        },
        "id": "f_34uNMCgjxX",
        "outputId": "34ef1660-2949-40a6-a421-e3169f85bd03"
      },
      "source": [
        "sns.barplot(y='Play', x='Total' , data=both_genders2.sort_values(['Total']),palette=\"Greens\")\n",
        "plt.show()"
      ],
      "execution_count": 130,
      "outputs": [
        {
          "output_type": "display_data",
          "data": {
            "image/png": "[encoded data removed]",
            "text/plain": [
              "<Figure size 432x288 with 1 Axes>"
            ]
          },
          "metadata": {
            "needs_background": "light"
          }
        }
      ]
    },
    {
      "cell_type": "code",
      "metadata": {
        "colab": {
          "base_uri": "https://localhost:8080/"
        },
        "id": "jclf72HXguYW",
        "outputId": "fb07e0aa-5aa3-4bd6-cf1b-32020b31f34d"
      },
      "source": [
        "Medals.shape"
      ],
      "execution_count": 131,
      "outputs": [
        {
          "output_type": "execute_result",
          "data": {
            "text/plain": [
              "(93, 5)"
            ]
          },
          "metadata": {},
          "execution_count": 131
        }
      ]
    },
    {
      "cell_type": "code",
      "metadata": {
        "colab": {
          "base_uri": "https://localhost:8080/",
          "height": 202
        },
        "id": "uw4TLLpkgott",
        "outputId": "27a8fc68-50f8-470c-fc51-a1f46f937ae3"
      },
      "source": [
        "Medals.head()"
      ],
      "execution_count": 132,
      "outputs": [
        {
          "output_type": "execute_result",
          "data": {
            "text/html": [
              "<div>\n",
              "<style scoped>\n",
              "    .dataframe tbody tr th:only-of-type {\n",
              "        vertical-align: middle;\n",
              "    }\n",
              "\n",
              "    .dataframe tbody tr th {\n",
              "        vertical-align: top;\n",
              "    }\n",
              "\n",
              "    .dataframe thead th {\n",
              "        text-align: right;\n",
              "    }\n",
              "</style>\n",
              "<table border=\"1\" class=\"dataframe\">\n",
              "  <thead>\n",
              "    <tr style=\"text-align: right;\">\n",
              "      <th></th>\n",
              "      <th>Team</th>\n",
              "      <th>Gold</th>\n",
              "      <th>Silver</th>\n",
              "      <th>Bronze</th>\n",
              "      <th>Total</th>\n",
              "    </tr>\n",
              "  </thead>\n",
              "  <tbody>\n",
              "    <tr>\n",
              "      <th>0</th>\n",
              "      <td>Argentina</td>\n",
              "      <td>0</td>\n",
              "      <td>1</td>\n",
              "      <td>2</td>\n",
              "      <td>3</td>\n",
              "    </tr>\n",
              "    <tr>\n",
              "      <th>1</th>\n",
              "      <td>Armenia</td>\n",
              "      <td>0</td>\n",
              "      <td>2</td>\n",
              "      <td>2</td>\n",
              "      <td>4</td>\n",
              "    </tr>\n",
              "    <tr>\n",
              "      <th>2</th>\n",
              "      <td>Australia</td>\n",
              "      <td>17</td>\n",
              "      <td>7</td>\n",
              "      <td>22</td>\n",
              "      <td>46</td>\n",
              "    </tr>\n",
              "    <tr>\n",
              "      <th>3</th>\n",
              "      <td>Austria</td>\n",
              "      <td>1</td>\n",
              "      <td>1</td>\n",
              "      <td>5</td>\n",
              "      <td>7</td>\n",
              "    </tr>\n",
              "    <tr>\n",
              "      <th>4</th>\n",
              "      <td>Azerbaijan</td>\n",
              "      <td>0</td>\n",
              "      <td>3</td>\n",
              "      <td>4</td>\n",
              "      <td>7</td>\n",
              "    </tr>\n",
              "  </tbody>\n",
              "</table>\n",
              "</div>"
            ],
            "text/plain": [
              "         Team  Gold  Silver  Bronze  Total\n",
              "0   Argentina     0       1       2      3\n",
              "1     Armenia     0       2       2      4\n",
              "2   Australia    17       7      22     46\n",
              "3     Austria     1       1       5      7\n",
              "4  Azerbaijan     0       3       4      7"
            ]
          },
          "metadata": {},
          "execution_count": 132
        }
      ]
    },
    {
      "cell_type": "code",
      "metadata": {
        "colab": {
          "base_uri": "https://localhost:8080/",
          "height": 356
        },
        "id": "6bjwVvCcgwcp",
        "outputId": "d5395d76-3736-46ed-850d-f83320d4564e"
      },
      "source": [
        "# Countries with most gold medals\n",
        "Med_Go=Medals.sort_values(['Gold'], ascending=False).drop(['Silver','Bronze','Total'],axis=1).head(10)\n",
        "Med_Go"
      ],
      "execution_count": 133,
      "outputs": [
        {
          "output_type": "execute_result",
          "data": {
            "text/html": [
              "<div>\n",
              "<style scoped>\n",
              "    .dataframe tbody tr th:only-of-type {\n",
              "        vertical-align: middle;\n",
              "    }\n",
              "\n",
              "    .dataframe tbody tr th {\n",
              "        vertical-align: top;\n",
              "    }\n",
              "\n",
              "    .dataframe thead th {\n",
              "        text-align: right;\n",
              "    }\n",
              "</style>\n",
              "<table border=\"1\" class=\"dataframe\">\n",
              "  <thead>\n",
              "    <tr style=\"text-align: right;\">\n",
              "      <th></th>\n",
              "      <th>Team</th>\n",
              "      <th>Gold</th>\n",
              "    </tr>\n",
              "  </thead>\n",
              "  <tbody>\n",
              "    <tr>\n",
              "      <th>90</th>\n",
              "      <td>United States of America</td>\n",
              "      <td>39</td>\n",
              "    </tr>\n",
              "    <tr>\n",
              "      <th>15</th>\n",
              "      <td>China</td>\n",
              "      <td>38</td>\n",
              "    </tr>\n",
              "    <tr>\n",
              "      <th>46</th>\n",
              "      <td>Japan</td>\n",
              "      <td>27</td>\n",
              "    </tr>\n",
              "    <tr>\n",
              "      <th>34</th>\n",
              "      <td>Great Britain</td>\n",
              "      <td>22</td>\n",
              "    </tr>\n",
              "    <tr>\n",
              "      <th>72</th>\n",
              "      <td>ROC</td>\n",
              "      <td>20</td>\n",
              "    </tr>\n",
              "    <tr>\n",
              "      <th>2</th>\n",
              "      <td>Australia</td>\n",
              "      <td>17</td>\n",
              "    </tr>\n",
              "    <tr>\n",
              "      <th>44</th>\n",
              "      <td>Italy</td>\n",
              "      <td>10</td>\n",
              "    </tr>\n",
              "    <tr>\n",
              "      <th>32</th>\n",
              "      <td>Germany</td>\n",
              "      <td>10</td>\n",
              "    </tr>\n",
              "    <tr>\n",
              "      <th>30</th>\n",
              "      <td>France</td>\n",
              "      <td>10</td>\n",
              "    </tr>\n",
              "    <tr>\n",
              "      <th>60</th>\n",
              "      <td>Netherlands</td>\n",
              "      <td>10</td>\n",
              "    </tr>\n",
              "  </tbody>\n",
              "</table>\n",
              "</div>"
            ],
            "text/plain": [
              "                        Team  Gold\n",
              "90  United States of America    39\n",
              "15                     China    38\n",
              "46                     Japan    27\n",
              "34             Great Britain    22\n",
              "72                       ROC    20\n",
              "2                  Australia    17\n",
              "44                     Italy    10\n",
              "32                   Germany    10\n",
              "30                    France    10\n",
              "60               Netherlands    10"
            ]
          },
          "metadata": {},
          "execution_count": 133
        }
      ]
    },
    {
      "cell_type": "code",
      "metadata": {
        "colab": {
          "base_uri": "https://localhost:8080/",
          "height": 279
        },
        "id": "S_sZnU1Og0ws",
        "outputId": "b1079c8c-16bd-42e8-8bcf-9a12216b9f62"
      },
      "source": [
        "sns.barplot(y='Team', x='Gold' , data=Med_Go.sort_values(['Gold']),palette=\"RdGy\")\n",
        "plt.show()"
      ],
      "execution_count": 134,
      "outputs": [
        {
          "output_type": "display_data",
          "data": {
            "image/png": "[encoded data removed]",
            "text/plain": [
              "<Figure size 432x288 with 1 Axes>"
            ]
          },
          "metadata": {
            "needs_background": "light"
          }
        }
      ]
    },
    {
      "cell_type": "code",
      "metadata": {
        "colab": {
          "base_uri": "https://localhost:8080/",
          "height": 663
        },
        "id": "5UByLxdgg4Qm",
        "outputId": "749a8ef7-b468-447a-9c2d-25c10690c77f"
      },
      "source": [
        "# Least Gold medals\n",
        "Medals.sort_values(['Gold'], ascending=False).drop(['Silver','Bronze','Total'],axis=1).tail(20)"
      ],
      "execution_count": 135,
      "outputs": [
        {
          "output_type": "execute_result",
          "data": {
            "text/html": [
              "<div>\n",
              "<style scoped>\n",
              "    .dataframe tbody tr th:only-of-type {\n",
              "        vertical-align: middle;\n",
              "    }\n",
              "\n",
              "    .dataframe tbody tr th {\n",
              "        vertical-align: top;\n",
              "    }\n",
              "\n",
              "    .dataframe thead th {\n",
              "        text-align: right;\n",
              "    }\n",
              "</style>\n",
              "<table border=\"1\" class=\"dataframe\">\n",
              "  <thead>\n",
              "    <tr style=\"text-align: right;\">\n",
              "      <th></th>\n",
              "      <th>Team</th>\n",
              "      <th>Gold</th>\n",
              "    </tr>\n",
              "  </thead>\n",
              "  <tbody>\n",
              "    <tr>\n",
              "      <th>4</th>\n",
              "      <td>Azerbaijan</td>\n",
              "      <td>0</td>\n",
              "    </tr>\n",
              "    <tr>\n",
              "      <th>13</th>\n",
              "      <td>Burkina Faso</td>\n",
              "      <td>0</td>\n",
              "    </tr>\n",
              "    <tr>\n",
              "      <th>29</th>\n",
              "      <td>Finland</td>\n",
              "      <td>0</td>\n",
              "    </tr>\n",
              "    <tr>\n",
              "      <th>75</th>\n",
              "      <td>Saudi Arabia</td>\n",
              "      <td>0</td>\n",
              "    </tr>\n",
              "    <tr>\n",
              "      <th>63</th>\n",
              "      <td>North Macedonia</td>\n",
              "      <td>0</td>\n",
              "    </tr>\n",
              "    <tr>\n",
              "      <th>56</th>\n",
              "      <td>Mexico</td>\n",
              "      <td>0</td>\n",
              "    </tr>\n",
              "    <tr>\n",
              "      <th>57</th>\n",
              "      <td>Mongolia</td>\n",
              "      <td>0</td>\n",
              "    </tr>\n",
              "    <tr>\n",
              "      <th>59</th>\n",
              "      <td>Namibia</td>\n",
              "      <td>0</td>\n",
              "    </tr>\n",
              "    <tr>\n",
              "      <th>52</th>\n",
              "      <td>Kyrgyzstan</td>\n",
              "      <td>0</td>\n",
              "    </tr>\n",
              "    <tr>\n",
              "      <th>51</th>\n",
              "      <td>Kuwait</td>\n",
              "      <td>0</td>\n",
              "    </tr>\n",
              "    <tr>\n",
              "      <th>62</th>\n",
              "      <td>Nigeria</td>\n",
              "      <td>0</td>\n",
              "    </tr>\n",
              "    <tr>\n",
              "      <th>48</th>\n",
              "      <td>Kazakhstan</td>\n",
              "      <td>0</td>\n",
              "    </tr>\n",
              "    <tr>\n",
              "      <th>74</th>\n",
              "      <td>San Marino</td>\n",
              "      <td>0</td>\n",
              "    </tr>\n",
              "    <tr>\n",
              "      <th>47</th>\n",
              "      <td>Jordan</td>\n",
              "      <td>0</td>\n",
              "    </tr>\n",
              "    <tr>\n",
              "      <th>1</th>\n",
              "      <td>Armenia</td>\n",
              "      <td>0</td>\n",
              "    </tr>\n",
              "    <tr>\n",
              "      <th>36</th>\n",
              "      <td>Grenada</td>\n",
              "      <td>0</td>\n",
              "    </tr>\n",
              "    <tr>\n",
              "      <th>71</th>\n",
              "      <td>Republic of Moldova</td>\n",
              "      <td>0</td>\n",
              "    </tr>\n",
              "    <tr>\n",
              "      <th>33</th>\n",
              "      <td>Ghana</td>\n",
              "      <td>0</td>\n",
              "    </tr>\n",
              "    <tr>\n",
              "      <th>55</th>\n",
              "      <td>Malaysia</td>\n",
              "      <td>0</td>\n",
              "    </tr>\n",
              "    <tr>\n",
              "      <th>0</th>\n",
              "      <td>Argentina</td>\n",
              "      <td>0</td>\n",
              "    </tr>\n",
              "  </tbody>\n",
              "</table>\n",
              "</div>"
            ],
            "text/plain": [
              "                   Team  Gold\n",
              "4            Azerbaijan     0\n",
              "13         Burkina Faso     0\n",
              "29              Finland     0\n",
              "75         Saudi Arabia     0\n",
              "63      North Macedonia     0\n",
              "56               Mexico     0\n",
              "57             Mongolia     0\n",
              "59              Namibia     0\n",
              "52           Kyrgyzstan     0\n",
              "51               Kuwait     0\n",
              "62              Nigeria     0\n",
              "48           Kazakhstan     0\n",
              "74           San Marino     0\n",
              "47               Jordan     0\n",
              "1               Armenia     0\n",
              "36              Grenada     0\n",
              "71  Republic of Moldova     0\n",
              "33                Ghana     0\n",
              "55             Malaysia     0\n",
              "0             Argentina     0"
            ]
          },
          "metadata": {},
          "execution_count": 135
        }
      ]
    },
    {
      "cell_type": "code",
      "metadata": {
        "colab": {
          "base_uri": "https://localhost:8080/",
          "height": 356
        },
        "id": "q5mgTrnRg9zV",
        "outputId": "e67d8fde-88f9-4101-ec9a-47b1009ae1ca"
      },
      "source": [
        "# Countries with most silvers\n",
        "Med_Sil=Medals.sort_values(['Silver'], ascending=False).drop(['Gold','Bronze','Total'],axis=1).head(10)\n",
        "Med_Sil"
      ],
      "execution_count": 136,
      "outputs": [
        {
          "output_type": "execute_result",
          "data": {
            "text/html": [
              "<div>\n",
              "<style scoped>\n",
              "    .dataframe tbody tr th:only-of-type {\n",
              "        vertical-align: middle;\n",
              "    }\n",
              "\n",
              "    .dataframe tbody tr th {\n",
              "        vertical-align: top;\n",
              "    }\n",
              "\n",
              "    .dataframe thead th {\n",
              "        text-align: right;\n",
              "    }\n",
              "</style>\n",
              "<table border=\"1\" class=\"dataframe\">\n",
              "  <thead>\n",
              "    <tr style=\"text-align: right;\">\n",
              "      <th></th>\n",
              "      <th>Team</th>\n",
              "      <th>Silver</th>\n",
              "    </tr>\n",
              "  </thead>\n",
              "  <tbody>\n",
              "    <tr>\n",
              "      <th>90</th>\n",
              "      <td>United States of America</td>\n",
              "      <td>41</td>\n",
              "    </tr>\n",
              "    <tr>\n",
              "      <th>15</th>\n",
              "      <td>China</td>\n",
              "      <td>32</td>\n",
              "    </tr>\n",
              "    <tr>\n",
              "      <th>72</th>\n",
              "      <td>ROC</td>\n",
              "      <td>28</td>\n",
              "    </tr>\n",
              "    <tr>\n",
              "      <th>34</th>\n",
              "      <td>Great Britain</td>\n",
              "      <td>21</td>\n",
              "    </tr>\n",
              "    <tr>\n",
              "      <th>46</th>\n",
              "      <td>Japan</td>\n",
              "      <td>14</td>\n",
              "    </tr>\n",
              "    <tr>\n",
              "      <th>30</th>\n",
              "      <td>France</td>\n",
              "      <td>12</td>\n",
              "    </tr>\n",
              "    <tr>\n",
              "      <th>60</th>\n",
              "      <td>Netherlands</td>\n",
              "      <td>12</td>\n",
              "    </tr>\n",
              "    <tr>\n",
              "      <th>32</th>\n",
              "      <td>Germany</td>\n",
              "      <td>11</td>\n",
              "    </tr>\n",
              "    <tr>\n",
              "      <th>44</th>\n",
              "      <td>Italy</td>\n",
              "      <td>10</td>\n",
              "    </tr>\n",
              "    <tr>\n",
              "      <th>80</th>\n",
              "      <td>Spain</td>\n",
              "      <td>8</td>\n",
              "    </tr>\n",
              "  </tbody>\n",
              "</table>\n",
              "</div>"
            ],
            "text/plain": [
              "                        Team  Silver\n",
              "90  United States of America      41\n",
              "15                     China      32\n",
              "72                       ROC      28\n",
              "34             Great Britain      21\n",
              "46                     Japan      14\n",
              "30                    France      12\n",
              "60               Netherlands      12\n",
              "32                   Germany      11\n",
              "44                     Italy      10\n",
              "80                     Spain       8"
            ]
          },
          "metadata": {},
          "execution_count": 136
        }
      ]
    },
    {
      "cell_type": "code",
      "metadata": {
        "colab": {
          "base_uri": "https://localhost:8080/",
          "height": 279
        },
        "id": "cAYUERL2hC3H",
        "outputId": "6529d065-ed2e-4a6d-eabd-98418e9dbc95"
      },
      "source": [
        "sns.barplot(y='Team', x='Silver' , data=Med_Sil.sort_values(['Silver']),palette=\"RdPu\")\n",
        "plt.show()"
      ],
      "execution_count": 137,
      "outputs": [
        {
          "output_type": "display_data",
          "data": {
            "image/png": "[encoded data removed]",
            "text/plain": [
              "<Figure size 432x288 with 1 Axes>"
            ]
          },
          "metadata": {
            "needs_background": "light"
          }
        }
      ]
    },
    {
      "cell_type": "code",
      "metadata": {
        "colab": {
          "base_uri": "https://localhost:8080/",
          "height": 663
        },
        "id": "1vZeFRzxhIrN",
        "outputId": "31df817e-a679-410a-c169-d19813681673"
      },
      "source": [
        "# Least silver medals\n",
        "Medals.sort_values(['Silver'], ascending=False).drop(['Gold','Bronze','Total'],axis=1).tail(20)"
      ],
      "execution_count": 138,
      "outputs": [
        {
          "output_type": "execute_result",
          "data": {
            "text/html": [
              "<div>\n",
              "<style scoped>\n",
              "    .dataframe tbody tr th:only-of-type {\n",
              "        vertical-align: middle;\n",
              "    }\n",
              "\n",
              "    .dataframe tbody tr th {\n",
              "        vertical-align: top;\n",
              "    }\n",
              "\n",
              "    .dataframe thead th {\n",
              "        text-align: right;\n",
              "    }\n",
              "</style>\n",
              "<table border=\"1\" class=\"dataframe\">\n",
              "  <thead>\n",
              "    <tr style=\"text-align: right;\">\n",
              "      <th></th>\n",
              "      <th>Team</th>\n",
              "      <th>Silver</th>\n",
              "    </tr>\n",
              "  </thead>\n",
              "  <tbody>\n",
              "    <tr>\n",
              "      <th>28</th>\n",
              "      <td>Fiji</td>\n",
              "      <td>0</td>\n",
              "    </tr>\n",
              "    <tr>\n",
              "      <th>9</th>\n",
              "      <td>Bermuda</td>\n",
              "      <td>0</td>\n",
              "    </tr>\n",
              "    <tr>\n",
              "      <th>51</th>\n",
              "      <td>Kuwait</td>\n",
              "      <td>0</td>\n",
              "    </tr>\n",
              "    <tr>\n",
              "      <th>26</th>\n",
              "      <td>Estonia</td>\n",
              "      <td>0</td>\n",
              "    </tr>\n",
              "    <tr>\n",
              "      <th>33</th>\n",
              "      <td>Ghana</td>\n",
              "      <td>0</td>\n",
              "    </tr>\n",
              "    <tr>\n",
              "      <th>36</th>\n",
              "      <td>Grenada</td>\n",
              "      <td>0</td>\n",
              "    </tr>\n",
              "    <tr>\n",
              "      <th>41</th>\n",
              "      <td>Ireland</td>\n",
              "      <td>0</td>\n",
              "    </tr>\n",
              "    <tr>\n",
              "      <th>43</th>\n",
              "      <td>Israel</td>\n",
              "      <td>0</td>\n",
              "    </tr>\n",
              "    <tr>\n",
              "      <th>48</th>\n",
              "      <td>Kazakhstan</td>\n",
              "      <td>0</td>\n",
              "    </tr>\n",
              "    <tr>\n",
              "      <th>50</th>\n",
              "      <td>Kosovo</td>\n",
              "      <td>0</td>\n",
              "    </tr>\n",
              "    <tr>\n",
              "      <th>53</th>\n",
              "      <td>Latvia</td>\n",
              "      <td>0</td>\n",
              "    </tr>\n",
              "    <tr>\n",
              "      <th>71</th>\n",
              "      <td>Republic of Moldova</td>\n",
              "      <td>0</td>\n",
              "    </tr>\n",
              "    <tr>\n",
              "      <th>56</th>\n",
              "      <td>Mexico</td>\n",
              "      <td>0</td>\n",
              "    </tr>\n",
              "    <tr>\n",
              "      <th>58</th>\n",
              "      <td>Morocco</td>\n",
              "      <td>0</td>\n",
              "    </tr>\n",
              "    <tr>\n",
              "      <th>29</th>\n",
              "      <td>Finland</td>\n",
              "      <td>0</td>\n",
              "    </tr>\n",
              "    <tr>\n",
              "      <th>13</th>\n",
              "      <td>Burkina Faso</td>\n",
              "      <td>0</td>\n",
              "    </tr>\n",
              "    <tr>\n",
              "      <th>68</th>\n",
              "      <td>Puerto Rico</td>\n",
              "      <td>0</td>\n",
              "    </tr>\n",
              "    <tr>\n",
              "      <th>69</th>\n",
              "      <td>Qatar</td>\n",
              "      <td>0</td>\n",
              "    </tr>\n",
              "    <tr>\n",
              "      <th>10</th>\n",
              "      <td>Botswana</td>\n",
              "      <td>0</td>\n",
              "    </tr>\n",
              "    <tr>\n",
              "      <th>18</th>\n",
              "      <td>Cote d'Ivoir</td>\n",
              "      <td>0</td>\n",
              "    </tr>\n",
              "  </tbody>\n",
              "</table>\n",
              "</div>"
            ],
            "text/plain": [
              "                   Team  Silver\n",
              "28                 Fiji       0\n",
              "9               Bermuda       0\n",
              "51               Kuwait       0\n",
              "26              Estonia       0\n",
              "33                Ghana       0\n",
              "36              Grenada       0\n",
              "41              Ireland       0\n",
              "43               Israel       0\n",
              "48           Kazakhstan       0\n",
              "50               Kosovo       0\n",
              "53               Latvia       0\n",
              "71  Republic of Moldova       0\n",
              "56               Mexico       0\n",
              "58              Morocco       0\n",
              "29              Finland       0\n",
              "13         Burkina Faso       0\n",
              "68          Puerto Rico       0\n",
              "69                Qatar       0\n",
              "10             Botswana       0\n",
              "18         Cote d'Ivoir       0"
            ]
          },
          "metadata": {},
          "execution_count": 138
        }
      ]
    },
    {
      "cell_type": "code",
      "metadata": {
        "colab": {
          "base_uri": "https://localhost:8080/",
          "height": 356
        },
        "id": "GgMCUqzlhsFl",
        "outputId": "24b0ab72-59d3-4c9e-f698-aac466e9bc9d"
      },
      "source": [
        "# Bronze medals won\n",
        "Med_Bro=Medals.sort_values(['Bronze'], ascending=False).drop(['Gold','Silver','Total'],axis=1).head(10)\n",
        "Med_Bro"
      ],
      "execution_count": 139,
      "outputs": [
        {
          "output_type": "execute_result",
          "data": {
            "text/html": [
              "<div>\n",
              "<style scoped>\n",
              "    .dataframe tbody tr th:only-of-type {\n",
              "        vertical-align: middle;\n",
              "    }\n",
              "\n",
              "    .dataframe tbody tr th {\n",
              "        vertical-align: top;\n",
              "    }\n",
              "\n",
              "    .dataframe thead th {\n",
              "        text-align: right;\n",
              "    }\n",
              "</style>\n",
              "<table border=\"1\" class=\"dataframe\">\n",
              "  <thead>\n",
              "    <tr style=\"text-align: right;\">\n",
              "      <th></th>\n",
              "      <th>Team</th>\n",
              "      <th>Bronze</th>\n",
              "    </tr>\n",
              "  </thead>\n",
              "  <tbody>\n",
              "    <tr>\n",
              "      <th>90</th>\n",
              "      <td>United States of America</td>\n",
              "      <td>33</td>\n",
              "    </tr>\n",
              "    <tr>\n",
              "      <th>72</th>\n",
              "      <td>ROC</td>\n",
              "      <td>23</td>\n",
              "    </tr>\n",
              "    <tr>\n",
              "      <th>2</th>\n",
              "      <td>Australia</td>\n",
              "      <td>22</td>\n",
              "    </tr>\n",
              "    <tr>\n",
              "      <th>34</th>\n",
              "      <td>Great Britain</td>\n",
              "      <td>22</td>\n",
              "    </tr>\n",
              "    <tr>\n",
              "      <th>44</th>\n",
              "      <td>Italy</td>\n",
              "      <td>20</td>\n",
              "    </tr>\n",
              "    <tr>\n",
              "      <th>15</th>\n",
              "      <td>China</td>\n",
              "      <td>18</td>\n",
              "    </tr>\n",
              "    <tr>\n",
              "      <th>46</th>\n",
              "      <td>Japan</td>\n",
              "      <td>17</td>\n",
              "    </tr>\n",
              "    <tr>\n",
              "      <th>32</th>\n",
              "      <td>Germany</td>\n",
              "      <td>16</td>\n",
              "    </tr>\n",
              "    <tr>\n",
              "      <th>60</th>\n",
              "      <td>Netherlands</td>\n",
              "      <td>14</td>\n",
              "    </tr>\n",
              "    <tr>\n",
              "      <th>89</th>\n",
              "      <td>Ukraine</td>\n",
              "      <td>12</td>\n",
              "    </tr>\n",
              "  </tbody>\n",
              "</table>\n",
              "</div>"
            ],
            "text/plain": [
              "                        Team  Bronze\n",
              "90  United States of America      33\n",
              "72                       ROC      23\n",
              "2                  Australia      22\n",
              "34             Great Britain      22\n",
              "44                     Italy      20\n",
              "15                     China      18\n",
              "46                     Japan      17\n",
              "32                   Germany      16\n",
              "60               Netherlands      14\n",
              "89                   Ukraine      12"
            ]
          },
          "metadata": {},
          "execution_count": 139
        }
      ]
    },
    {
      "cell_type": "code",
      "metadata": {
        "colab": {
          "base_uri": "https://localhost:8080/",
          "height": 279
        },
        "id": "v4E0gMJmhwO7",
        "outputId": "a98844c9-d4ac-40dc-83db-e8154854442c"
      },
      "source": [
        "sns.barplot(y='Team', x='Bronze' , data=Med_Bro.sort_values(['Bronze']),palette=\"RdBu_r\")\n",
        "plt.show()"
      ],
      "execution_count": 140,
      "outputs": [
        {
          "output_type": "display_data",
          "data": {
            "image/png": "[encoded data removed]",
            "text/plain": [
              "<Figure size 432x288 with 1 Axes>"
            ]
          },
          "metadata": {
            "needs_background": "light"
          }
        }
      ]
    },
    {
      "cell_type": "code",
      "metadata": {
        "colab": {
          "base_uri": "https://localhost:8080/",
          "height": 663
        },
        "id": "q15l15nqh1Yj",
        "outputId": "3ce9f1fa-cdbf-42d5-d566-3a4d78dd2a3f"
      },
      "source": [
        "# Least bronze\n",
        "Medals.sort_values(['Bronze'], ascending=False).drop(['Gold','Silver','Total'],axis=1).tail(20)"
      ],
      "execution_count": 141,
      "outputs": [
        {
          "output_type": "execute_result",
          "data": {
            "text/html": [
              "<div>\n",
              "<style scoped>\n",
              "    .dataframe tbody tr th:only-of-type {\n",
              "        vertical-align: middle;\n",
              "    }\n",
              "\n",
              "    .dataframe tbody tr th {\n",
              "        vertical-align: top;\n",
              "    }\n",
              "\n",
              "    .dataframe thead th {\n",
              "        text-align: right;\n",
              "    }\n",
              "</style>\n",
              "<table border=\"1\" class=\"dataframe\">\n",
              "  <thead>\n",
              "    <tr style=\"text-align: right;\">\n",
              "      <th></th>\n",
              "      <th>Team</th>\n",
              "      <th>Bronze</th>\n",
              "    </tr>\n",
              "  </thead>\n",
              "  <tbody>\n",
              "    <tr>\n",
              "      <th>33</th>\n",
              "      <td>Ghana</td>\n",
              "      <td>1</td>\n",
              "    </tr>\n",
              "    <tr>\n",
              "      <th>31</th>\n",
              "      <td>Georgia</td>\n",
              "      <td>1</td>\n",
              "    </tr>\n",
              "    <tr>\n",
              "      <th>88</th>\n",
              "      <td>Uganda</td>\n",
              "      <td>1</td>\n",
              "    </tr>\n",
              "    <tr>\n",
              "      <th>6</th>\n",
              "      <td>Bahrain</td>\n",
              "      <td>0</td>\n",
              "    </tr>\n",
              "    <tr>\n",
              "      <th>85</th>\n",
              "      <td>Tunisia</td>\n",
              "      <td>0</td>\n",
              "    </tr>\n",
              "    <tr>\n",
              "      <th>5</th>\n",
              "      <td>Bahamas</td>\n",
              "      <td>0</td>\n",
              "    </tr>\n",
              "    <tr>\n",
              "      <th>9</th>\n",
              "      <td>Bermuda</td>\n",
              "      <td>0</td>\n",
              "    </tr>\n",
              "    <tr>\n",
              "      <th>87</th>\n",
              "      <td>Turkmenistan</td>\n",
              "      <td>0</td>\n",
              "    </tr>\n",
              "    <tr>\n",
              "      <th>68</th>\n",
              "      <td>Puerto Rico</td>\n",
              "      <td>0</td>\n",
              "    </tr>\n",
              "    <tr>\n",
              "      <th>81</th>\n",
              "      <td>Sweden</td>\n",
              "      <td>0</td>\n",
              "    </tr>\n",
              "    <tr>\n",
              "      <th>79</th>\n",
              "      <td>South Africa</td>\n",
              "      <td>0</td>\n",
              "    </tr>\n",
              "    <tr>\n",
              "      <th>75</th>\n",
              "      <td>Saudi Arabia</td>\n",
              "      <td>0</td>\n",
              "    </tr>\n",
              "    <tr>\n",
              "      <th>73</th>\n",
              "      <td>Romania</td>\n",
              "      <td>0</td>\n",
              "    </tr>\n",
              "    <tr>\n",
              "      <th>24</th>\n",
              "      <td>Ecuador</td>\n",
              "      <td>0</td>\n",
              "    </tr>\n",
              "    <tr>\n",
              "      <th>63</th>\n",
              "      <td>North Macedonia</td>\n",
              "      <td>0</td>\n",
              "    </tr>\n",
              "    <tr>\n",
              "      <th>59</th>\n",
              "      <td>Namibia</td>\n",
              "      <td>0</td>\n",
              "    </tr>\n",
              "    <tr>\n",
              "      <th>58</th>\n",
              "      <td>Morocco</td>\n",
              "      <td>0</td>\n",
              "    </tr>\n",
              "    <tr>\n",
              "      <th>54</th>\n",
              "      <td>Lithuania</td>\n",
              "      <td>0</td>\n",
              "    </tr>\n",
              "    <tr>\n",
              "      <th>50</th>\n",
              "      <td>Kosovo</td>\n",
              "      <td>0</td>\n",
              "    </tr>\n",
              "    <tr>\n",
              "      <th>92</th>\n",
              "      <td>Venezuela</td>\n",
              "      <td>0</td>\n",
              "    </tr>\n",
              "  </tbody>\n",
              "</table>\n",
              "</div>"
            ],
            "text/plain": [
              "               Team  Bronze\n",
              "33            Ghana       1\n",
              "31          Georgia       1\n",
              "88           Uganda       1\n",
              "6           Bahrain       0\n",
              "85          Tunisia       0\n",
              "5           Bahamas       0\n",
              "9           Bermuda       0\n",
              "87     Turkmenistan       0\n",
              "68      Puerto Rico       0\n",
              "81           Sweden       0\n",
              "79     South Africa       0\n",
              "75     Saudi Arabia       0\n",
              "73          Romania       0\n",
              "24          Ecuador       0\n",
              "63  North Macedonia       0\n",
              "59          Namibia       0\n",
              "58          Morocco       0\n",
              "54        Lithuania       0\n",
              "50           Kosovo       0\n",
              "92        Venezuela       0"
            ]
          },
          "metadata": {},
          "execution_count": 141
        }
      ]
    },
    {
      "cell_type": "code",
      "metadata": {
        "colab": {
          "base_uri": "https://localhost:8080/",
          "height": 356
        },
        "id": "gQkzk7xAh4U1",
        "outputId": "02d6a41e-e4cc-4896-91fa-4e3b4b63882f"
      },
      "source": [
        "# Most medals won\n",
        "Med_Total=Medals.sort_values(['Total'], ascending=False).drop(['Gold','Silver','Bronze'],axis=1).head(10)\n",
        "Med_Total"
      ],
      "execution_count": 142,
      "outputs": [
        {
          "output_type": "execute_result",
          "data": {
            "text/html": [
              "<div>\n",
              "<style scoped>\n",
              "    .dataframe tbody tr th:only-of-type {\n",
              "        vertical-align: middle;\n",
              "    }\n",
              "\n",
              "    .dataframe tbody tr th {\n",
              "        vertical-align: top;\n",
              "    }\n",
              "\n",
              "    .dataframe thead th {\n",
              "        text-align: right;\n",
              "    }\n",
              "</style>\n",
              "<table border=\"1\" class=\"dataframe\">\n",
              "  <thead>\n",
              "    <tr style=\"text-align: right;\">\n",
              "      <th></th>\n",
              "      <th>Team</th>\n",
              "      <th>Total</th>\n",
              "    </tr>\n",
              "  </thead>\n",
              "  <tbody>\n",
              "    <tr>\n",
              "      <th>90</th>\n",
              "      <td>United States of America</td>\n",
              "      <td>113</td>\n",
              "    </tr>\n",
              "    <tr>\n",
              "      <th>15</th>\n",
              "      <td>China</td>\n",
              "      <td>88</td>\n",
              "    </tr>\n",
              "    <tr>\n",
              "      <th>72</th>\n",
              "      <td>ROC</td>\n",
              "      <td>71</td>\n",
              "    </tr>\n",
              "    <tr>\n",
              "      <th>34</th>\n",
              "      <td>Great Britain</td>\n",
              "      <td>65</td>\n",
              "    </tr>\n",
              "    <tr>\n",
              "      <th>46</th>\n",
              "      <td>Japan</td>\n",
              "      <td>58</td>\n",
              "    </tr>\n",
              "    <tr>\n",
              "      <th>2</th>\n",
              "      <td>Australia</td>\n",
              "      <td>46</td>\n",
              "    </tr>\n",
              "    <tr>\n",
              "      <th>44</th>\n",
              "      <td>Italy</td>\n",
              "      <td>40</td>\n",
              "    </tr>\n",
              "    <tr>\n",
              "      <th>32</th>\n",
              "      <td>Germany</td>\n",
              "      <td>37</td>\n",
              "    </tr>\n",
              "    <tr>\n",
              "      <th>60</th>\n",
              "      <td>Netherlands</td>\n",
              "      <td>36</td>\n",
              "    </tr>\n",
              "    <tr>\n",
              "      <th>30</th>\n",
              "      <td>France</td>\n",
              "      <td>33</td>\n",
              "    </tr>\n",
              "  </tbody>\n",
              "</table>\n",
              "</div>"
            ],
            "text/plain": [
              "                        Team  Total\n",
              "90  United States of America    113\n",
              "15                     China     88\n",
              "72                       ROC     71\n",
              "34             Great Britain     65\n",
              "46                     Japan     58\n",
              "2                  Australia     46\n",
              "44                     Italy     40\n",
              "32                   Germany     37\n",
              "60               Netherlands     36\n",
              "30                    France     33"
            ]
          },
          "metadata": {},
          "execution_count": 142
        }
      ]
    },
    {
      "cell_type": "code",
      "metadata": {
        "colab": {
          "base_uri": "https://localhost:8080/",
          "height": 279
        },
        "id": "Apr8e0o2h7WC",
        "outputId": "decac319-8aaa-4349-a0d6-423b5b502c01"
      },
      "source": [
        "sns.barplot(y='Team', x='Total' , data=Med_Total.sort_values(['Total']),palette=\"OrRd\")\n",
        "plt.show()"
      ],
      "execution_count": 143,
      "outputs": [
        {
          "output_type": "display_data",
          "data": {
            "image/png": "[encoded data removed]",
            "text/plain": [
              "<Figure size 432x288 with 1 Axes>"
            ]
          },
          "metadata": {
            "needs_background": "light"
          }
        }
      ]
    },
    {
      "cell_type": "code",
      "metadata": {
        "colab": {
          "base_uri": "https://localhost:8080/",
          "height": 663
        },
        "id": "u9-IktLCh903",
        "outputId": "637b0fcd-36b0-4c29-88a1-a8f4473f61a6"
      },
      "source": [
        "# Least medals won\n",
        "Medals.sort_values(['Total'], ascending=False).drop(['Gold','Silver','Bronze'],axis=1).tail(20)"
      ],
      "execution_count": 144,
      "outputs": [
        {
          "output_type": "execute_result",
          "data": {
            "text/html": [
              "<div>\n",
              "<style scoped>\n",
              "    .dataframe tbody tr th:only-of-type {\n",
              "        vertical-align: middle;\n",
              "    }\n",
              "\n",
              "    .dataframe tbody tr th {\n",
              "        vertical-align: top;\n",
              "    }\n",
              "\n",
              "    .dataframe thead th {\n",
              "        text-align: right;\n",
              "    }\n",
              "</style>\n",
              "<table border=\"1\" class=\"dataframe\">\n",
              "  <thead>\n",
              "    <tr style=\"text-align: right;\">\n",
              "      <th></th>\n",
              "      <th>Team</th>\n",
              "      <th>Total</th>\n",
              "    </tr>\n",
              "  </thead>\n",
              "  <tbody>\n",
              "    <tr>\n",
              "      <th>85</th>\n",
              "      <td>Tunisia</td>\n",
              "      <td>2</td>\n",
              "    </tr>\n",
              "    <tr>\n",
              "      <th>50</th>\n",
              "      <td>Kosovo</td>\n",
              "      <td>2</td>\n",
              "    </tr>\n",
              "    <tr>\n",
              "      <th>62</th>\n",
              "      <td>Nigeria</td>\n",
              "      <td>2</td>\n",
              "    </tr>\n",
              "    <tr>\n",
              "      <th>10</th>\n",
              "      <td>Botswana</td>\n",
              "      <td>1</td>\n",
              "    </tr>\n",
              "    <tr>\n",
              "      <th>6</th>\n",
              "      <td>Bahrain</td>\n",
              "      <td>1</td>\n",
              "    </tr>\n",
              "    <tr>\n",
              "      <th>13</th>\n",
              "      <td>Burkina Faso</td>\n",
              "      <td>1</td>\n",
              "    </tr>\n",
              "    <tr>\n",
              "      <th>9</th>\n",
              "      <td>Bermuda</td>\n",
              "      <td>1</td>\n",
              "    </tr>\n",
              "    <tr>\n",
              "      <th>83</th>\n",
              "      <td>Syrian Arab Republic</td>\n",
              "      <td>1</td>\n",
              "    </tr>\n",
              "    <tr>\n",
              "      <th>87</th>\n",
              "      <td>Turkmenistan</td>\n",
              "      <td>1</td>\n",
              "    </tr>\n",
              "    <tr>\n",
              "      <th>54</th>\n",
              "      <td>Lithuania</td>\n",
              "      <td>1</td>\n",
              "    </tr>\n",
              "    <tr>\n",
              "      <th>18</th>\n",
              "      <td>Cote d'Ivoir</td>\n",
              "      <td>1</td>\n",
              "    </tr>\n",
              "    <tr>\n",
              "      <th>75</th>\n",
              "      <td>Saudi Arabia</td>\n",
              "      <td>1</td>\n",
              "    </tr>\n",
              "    <tr>\n",
              "      <th>71</th>\n",
              "      <td>Republic of Moldova</td>\n",
              "      <td>1</td>\n",
              "    </tr>\n",
              "    <tr>\n",
              "      <th>36</th>\n",
              "      <td>Grenada</td>\n",
              "      <td>1</td>\n",
              "    </tr>\n",
              "    <tr>\n",
              "      <th>68</th>\n",
              "      <td>Puerto Rico</td>\n",
              "      <td>1</td>\n",
              "    </tr>\n",
              "    <tr>\n",
              "      <th>63</th>\n",
              "      <td>North Macedonia</td>\n",
              "      <td>1</td>\n",
              "    </tr>\n",
              "    <tr>\n",
              "      <th>51</th>\n",
              "      <td>Kuwait</td>\n",
              "      <td>1</td>\n",
              "    </tr>\n",
              "    <tr>\n",
              "      <th>59</th>\n",
              "      <td>Namibia</td>\n",
              "      <td>1</td>\n",
              "    </tr>\n",
              "    <tr>\n",
              "      <th>58</th>\n",
              "      <td>Morocco</td>\n",
              "      <td>1</td>\n",
              "    </tr>\n",
              "    <tr>\n",
              "      <th>33</th>\n",
              "      <td>Ghana</td>\n",
              "      <td>1</td>\n",
              "    </tr>\n",
              "  </tbody>\n",
              "</table>\n",
              "</div>"
            ],
            "text/plain": [
              "                    Team  Total\n",
              "85               Tunisia      2\n",
              "50                Kosovo      2\n",
              "62               Nigeria      2\n",
              "10              Botswana      1\n",
              "6                Bahrain      1\n",
              "13          Burkina Faso      1\n",
              "9                Bermuda      1\n",
              "83  Syrian Arab Republic      1\n",
              "87          Turkmenistan      1\n",
              "54             Lithuania      1\n",
              "18          Cote d'Ivoir      1\n",
              "75          Saudi Arabia      1\n",
              "71   Republic of Moldova      1\n",
              "36               Grenada      1\n",
              "68           Puerto Rico      1\n",
              "63       North Macedonia      1\n",
              "51                Kuwait      1\n",
              "59               Namibia      1\n",
              "58               Morocco      1\n",
              "33                 Ghana      1"
            ]
          },
          "metadata": {},
          "execution_count": 144
        }
      ]
    },
    {
      "cell_type": "code",
      "metadata": {
        "id": "1LgxuPNHiCRX"
      },
      "source": [
        ""
      ],
      "execution_count": null,
      "outputs": []
    }
  ]
}