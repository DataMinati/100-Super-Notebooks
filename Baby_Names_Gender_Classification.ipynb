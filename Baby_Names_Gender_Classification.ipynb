{
  "nbformat": 4,
  "nbformat_minor": 0,
  "metadata": {
    "colab": {
      "name": "Baby_Names Gender Classification.ipynb",
      "provenance": [],
      "authorship_tag": "ABX9TyPW8BCCZeNa+29R26NprUgq",
      "include_colab_link": true
    },
    "kernelspec": {
      "name": "python3",
      "display_name": "Python 3"
    },
    "language_info": {
      "name": "python"
    }
  },
  "cells": [
    {
      "cell_type": "markdown",
      "metadata": {
        "id": "view-in-github",
        "colab_type": "text"
      },
      "source": [
        "<a href=\"https://colab.research.google.com/github/DataMinati/Super-Notebooks-1K/blob/main/Baby_Names_Gender_Classification.ipynb\" target=\"_parent\"><img src=\"https://colab.research.google.com/assets/colab-badge.svg\" alt=\"Open In Colab\"/></a>"
      ]
    },
    {
      "cell_type": "code",
      "metadata": {
        "id": "Th3_HP157D3k"
      },
      "source": [
        "import numpy as np\n",
        "import pandas as pd\n",
        "import matplotlib.pyplot as plt"
      ],
      "execution_count": 1,
      "outputs": []
    },
    {
      "cell_type": "code",
      "metadata": {
        "colab": {
          "base_uri": "https://localhost:8080/",
          "height": 206
        },
        "id": "uvFt4hUo7YVm",
        "outputId": "cf28bdaa-72cb-4a36-a529-7e49caa2b86b"
      },
      "source": [
        "url = 'https://raw.githubusercontent.com/MainakRepositor/Datasets-/master/baby_names.csv'\n",
        "df = pd.read_csv(url,error_bad_lines=False)\n",
        "df.head()"
      ],
      "execution_count": 2,
      "outputs": [
        {
          "output_type": "execute_result",
          "data": {
            "text/html": [
              "<div>\n",
              "<style scoped>\n",
              "    .dataframe tbody tr th:only-of-type {\n",
              "        vertical-align: middle;\n",
              "    }\n",
              "\n",
              "    .dataframe tbody tr th {\n",
              "        vertical-align: top;\n",
              "    }\n",
              "\n",
              "    .dataframe thead th {\n",
              "        text-align: right;\n",
              "    }\n",
              "</style>\n",
              "<table border=\"1\" class=\"dataframe\">\n",
              "  <thead>\n",
              "    <tr style=\"text-align: right;\">\n",
              "      <th></th>\n",
              "      <th>Unnamed: 0</th>\n",
              "      <th>State</th>\n",
              "      <th>Sex</th>\n",
              "      <th>Year</th>\n",
              "      <th>Name</th>\n",
              "      <th>Count</th>\n",
              "    </tr>\n",
              "  </thead>\n",
              "  <tbody>\n",
              "    <tr>\n",
              "      <th>0</th>\n",
              "      <td>0</td>\n",
              "      <td>GA</td>\n",
              "      <td>F</td>\n",
              "      <td>1910</td>\n",
              "      <td>Mary</td>\n",
              "      <td>841</td>\n",
              "    </tr>\n",
              "    <tr>\n",
              "      <th>1</th>\n",
              "      <td>1</td>\n",
              "      <td>GA</td>\n",
              "      <td>F</td>\n",
              "      <td>1910</td>\n",
              "      <td>Annie</td>\n",
              "      <td>553</td>\n",
              "    </tr>\n",
              "    <tr>\n",
              "      <th>2</th>\n",
              "      <td>2</td>\n",
              "      <td>GA</td>\n",
              "      <td>F</td>\n",
              "      <td>1910</td>\n",
              "      <td>Mattie</td>\n",
              "      <td>320</td>\n",
              "    </tr>\n",
              "    <tr>\n",
              "      <th>3</th>\n",
              "      <td>3</td>\n",
              "      <td>GA</td>\n",
              "      <td>F</td>\n",
              "      <td>1910</td>\n",
              "      <td>Ruby</td>\n",
              "      <td>279</td>\n",
              "    </tr>\n",
              "    <tr>\n",
              "      <th>4</th>\n",
              "      <td>4</td>\n",
              "      <td>GA</td>\n",
              "      <td>F</td>\n",
              "      <td>1910</td>\n",
              "      <td>Willie</td>\n",
              "      <td>275</td>\n",
              "    </tr>\n",
              "  </tbody>\n",
              "</table>\n",
              "</div>"
            ],
            "text/plain": [
              "   Unnamed: 0 State Sex  Year    Name  Count\n",
              "0           0    GA   F  1910    Mary    841\n",
              "1           1    GA   F  1910   Annie    553\n",
              "2           2    GA   F  1910  Mattie    320\n",
              "3           3    GA   F  1910    Ruby    279\n",
              "4           4    GA   F  1910  Willie    275"
            ]
          },
          "metadata": {},
          "execution_count": 2
        }
      ]
    },
    {
      "cell_type": "code",
      "metadata": {
        "id": "ShTbWKO18v-B"
      },
      "source": [
        "all_categories = ['F', 'M']\n",
        "category_lines = {\"F\" : df.Name[df.Sex == 'F'].tolist(), \"M\" : df.Name[df.Sex == 'M'].tolist()}\n",
        "n_categories = 2\n",
        "\n",
        "import string\n",
        "\n",
        "all_letters = string.ascii_letters + \" .,;'\"\n",
        "n_letters = len(all_letters)"
      ],
      "execution_count": 3,
      "outputs": []
    },
    {
      "cell_type": "code",
      "metadata": {
        "id": "yggJ-X3D81dC"
      },
      "source": [
        "## Creating the Model\n",
        "import torch\n",
        "\n",
        "# Find letter index from all_letters, e.g. \"a\" = 0\n",
        "def letterToIndex(letter):\n",
        "    return all_letters.find(letter)\n",
        "\n",
        "# Just for demonstration, turn a letter into a <1 x n_letters> Tensor\n",
        "def letterToTensor(letter):\n",
        "    tensor = torch.zeros(1, n_letters)\n",
        "    tensor[0][letterToIndex(letter)] = 1\n",
        "    return tensor\n",
        "\n",
        "# Turn a line into a <line_length x 1 x n_letters>,\n",
        "# or an array of one-hot letter vectors\n",
        "def lineToTensor(line):\n",
        "    tensor = torch.zeros(len(line), 1, n_letters)\n",
        "    for li, letter in enumerate(line):\n",
        "        tensor[li][0][letterToIndex(letter)] = 1\n",
        "    return tensor"
      ],
      "execution_count": 4,
      "outputs": []
    },
    {
      "cell_type": "code",
      "metadata": {
        "colab": {
          "base_uri": "https://localhost:8080/"
        },
        "id": "6caS9S1U85K5",
        "outputId": "3046373b-eaf6-4e73-bc2a-72373bfeeec6"
      },
      "source": [
        "letterToIndex(\"n\")"
      ],
      "execution_count": 5,
      "outputs": [
        {
          "output_type": "execute_result",
          "data": {
            "text/plain": [
              "13"
            ]
          },
          "metadata": {},
          "execution_count": 5
        }
      ]
    },
    {
      "cell_type": "code",
      "metadata": {
        "colab": {
          "base_uri": "https://localhost:8080/"
        },
        "id": "YQOZD1ub88aR",
        "outputId": "d854b0ad-9dc5-4b70-b3ee-21f4f5ef049b"
      },
      "source": [
        "letterToTensor(\"n\")"
      ],
      "execution_count": 6,
      "outputs": [
        {
          "output_type": "execute_result",
          "data": {
            "text/plain": [
              "tensor([[0., 0., 0., 0., 0., 0., 0., 0., 0., 0., 0., 0., 0., 1., 0., 0., 0., 0.,\n",
              "         0., 0., 0., 0., 0., 0., 0., 0., 0., 0., 0., 0., 0., 0., 0., 0., 0., 0.,\n",
              "         0., 0., 0., 0., 0., 0., 0., 0., 0., 0., 0., 0., 0., 0., 0., 0., 0., 0.,\n",
              "         0., 0., 0.]])"
            ]
          },
          "metadata": {},
          "execution_count": 6
        }
      ]
    },
    {
      "cell_type": "code",
      "metadata": {
        "colab": {
          "base_uri": "https://localhost:8080/"
        },
        "id": "e1GGAkXG898T",
        "outputId": "a5c211b3-d570-405b-ab3f-851f3969cf04"
      },
      "source": [
        "lineToTensor(\"name\"), lineToTensor(\"name\").size()"
      ],
      "execution_count": 7,
      "outputs": [
        {
          "output_type": "execute_result",
          "data": {
            "text/plain": [
              "(tensor([[[0., 0., 0., 0., 0., 0., 0., 0., 0., 0., 0., 0., 0., 1., 0., 0., 0.,\n",
              "           0., 0., 0., 0., 0., 0., 0., 0., 0., 0., 0., 0., 0., 0., 0., 0., 0.,\n",
              "           0., 0., 0., 0., 0., 0., 0., 0., 0., 0., 0., 0., 0., 0., 0., 0., 0.,\n",
              "           0., 0., 0., 0., 0., 0.]],\n",
              " \n",
              "         [[1., 0., 0., 0., 0., 0., 0., 0., 0., 0., 0., 0., 0., 0., 0., 0., 0.,\n",
              "           0., 0., 0., 0., 0., 0., 0., 0., 0., 0., 0., 0., 0., 0., 0., 0., 0.,\n",
              "           0., 0., 0., 0., 0., 0., 0., 0., 0., 0., 0., 0., 0., 0., 0., 0., 0.,\n",
              "           0., 0., 0., 0., 0., 0.]],\n",
              " \n",
              "         [[0., 0., 0., 0., 0., 0., 0., 0., 0., 0., 0., 0., 1., 0., 0., 0., 0.,\n",
              "           0., 0., 0., 0., 0., 0., 0., 0., 0., 0., 0., 0., 0., 0., 0., 0., 0.,\n",
              "           0., 0., 0., 0., 0., 0., 0., 0., 0., 0., 0., 0., 0., 0., 0., 0., 0.,\n",
              "           0., 0., 0., 0., 0., 0.]],\n",
              " \n",
              "         [[0., 0., 0., 0., 1., 0., 0., 0., 0., 0., 0., 0., 0., 0., 0., 0., 0.,\n",
              "           0., 0., 0., 0., 0., 0., 0., 0., 0., 0., 0., 0., 0., 0., 0., 0., 0.,\n",
              "           0., 0., 0., 0., 0., 0., 0., 0., 0., 0., 0., 0., 0., 0., 0., 0., 0.,\n",
              "           0., 0., 0., 0., 0., 0.]]]), torch.Size([4, 1, 57]))"
            ]
          },
          "metadata": {},
          "execution_count": 7
        }
      ]
    },
    {
      "cell_type": "code",
      "metadata": {
        "id": "0o5XmNKN8_Ot"
      },
      "source": [
        "## Creating Model Arch\n",
        "import torch.nn as nn\n",
        "\n",
        "class RNN(nn.Module):\n",
        "    def __init__(self, input_size, hidden_size, output_size):\n",
        "        super(RNN, self).__init__()\n",
        "        \n",
        "        self.hidden_size = hidden_size\n",
        "        # in linear Layer :  Input @ linear_layer shape\n",
        "        self.i2h = nn.Linear(input_size + hidden_size, hidden_size)\n",
        "        self.i2o = nn.Linear(input_size + hidden_size, output_size)\n",
        "        self.softmax = nn.LogSoftmax(dim=1)\n",
        "        \n",
        "    def forward(self, input, hidden):\n",
        "        combined = torch.cat((input, hidden), dim=1)\n",
        "        hidden = self.i2h(combined)\n",
        "        output = self.i2o(combined)\n",
        "        output = self.softmax(output)\n",
        "        \n",
        "        return output, hidden\n",
        "    \n",
        "    def initHidden(self):\n",
        "        return torch.zeros(1, self.hidden_size)\n",
        "    \n",
        "n_hidden = 128\n",
        "rnn = RNN(n_letters, n_hidden, n_categories)"
      ],
      "execution_count": 8,
      "outputs": []
    },
    {
      "cell_type": "code",
      "metadata": {
        "colab": {
          "base_uri": "https://localhost:8080/"
        },
        "id": "zTpBCVmz9FYa",
        "outputId": "c497e437-bb2f-448b-e211-d6468a41f138"
      },
      "source": [
        "x = torch.zeros(2,3)\n",
        "x2 = torch.ones(2,3)\n",
        "\n",
        "torch.cat((x, x2), dim=0), torch.cat((x, x2), dim=1)"
      ],
      "execution_count": 9,
      "outputs": [
        {
          "output_type": "execute_result",
          "data": {
            "text/plain": [
              "(tensor([[0., 0., 0.],\n",
              "         [0., 0., 0.],\n",
              "         [1., 1., 1.],\n",
              "         [1., 1., 1.]]), tensor([[0., 0., 0., 1., 1., 1.],\n",
              "         [0., 0., 0., 1., 1., 1.]]))"
            ]
          },
          "metadata": {},
          "execution_count": 9
        }
      ]
    },
    {
      "cell_type": "code",
      "metadata": {
        "id": "9CSC3CgU9HQO"
      },
      "source": [
        "input = letterToTensor('A')\n",
        "hidden = torch.zeros(1, n_hidden)\n",
        "output, next_hidden = rnn(input, hidden)"
      ],
      "execution_count": 10,
      "outputs": []
    },
    {
      "cell_type": "code",
      "metadata": {
        "colab": {
          "base_uri": "https://localhost:8080/"
        },
        "id": "Rab3arN39I5f",
        "outputId": "2c8bc6a7-07b9-45cd-ede1-290d8c37507f"
      },
      "source": [
        "input = lineToTensor('Albert')\n",
        "hidden = torch.zeros(1, n_hidden)\n",
        "\n",
        "output, next_hidden = rnn(input[0], hidden)\n",
        "print(output)"
      ],
      "execution_count": 11,
      "outputs": [
        {
          "output_type": "stream",
          "name": "stdout",
          "text": [
            "tensor([[-0.7960, -0.5999]], grad_fn=<LogSoftmaxBackward>)\n"
          ]
        }
      ]
    },
    {
      "cell_type": "code",
      "metadata": {
        "colab": {
          "base_uri": "https://localhost:8080/"
        },
        "id": "N8RJNAxy9K4J",
        "outputId": "18644c14-ae23-48ed-eb55-4a2242eae7b2"
      },
      "source": [
        "# Training\n",
        "def categoryFromOutput(output):\n",
        "    top_n, top_i = output.topk(1)\n",
        "    category_i = top_i[0].item()\n",
        "    return all_categories[category_i], category_i\n",
        "\n",
        "print(categoryFromOutput(output))"
      ],
      "execution_count": 12,
      "outputs": [
        {
          "output_type": "stream",
          "name": "stdout",
          "text": [
            "('M', 1)\n"
          ]
        }
      ]
    },
    {
      "cell_type": "code",
      "metadata": {
        "colab": {
          "base_uri": "https://localhost:8080/"
        },
        "id": "IgYOQ6KO9Njh",
        "outputId": "6a9497f0-86a5-43be-acbf-9db66742e084"
      },
      "source": [
        "import random\n",
        "\n",
        "def randomChoice(l):\n",
        "    return l[random.randint(0, len(l) - 1)]\n",
        "\n",
        "def randomTrainingExample():\n",
        "    category = randomChoice(all_categories)\n",
        "    line = randomChoice(category_lines[category])\n",
        "    category_tensor = torch.tensor([all_categories.index(category)], dtype=torch.long)\n",
        "    line_tensor = lineToTensor(line)\n",
        "    return category, line, category_tensor, line_tensor\n",
        "\n",
        "for i in range(10):\n",
        "    category, line, category_tensor, line_tensor = randomTrainingExample()\n",
        "    print('category =', category, '/ line =', line)"
      ],
      "execution_count": 13,
      "outputs": [
        {
          "output_type": "stream",
          "name": "stdout",
          "text": [
            "category = F / line = Lorie\n",
            "category = F / line = Virginia\n",
            "category = M / line = Ralph\n",
            "category = F / line = Emmy\n",
            "category = M / line = Brandon\n",
            "category = M / line = Cedrick\n",
            "category = F / line = Lena\n",
            "category = M / line = Wayne\n",
            "category = M / line = Stuart\n",
            "category = M / line = Walter\n"
          ]
        }
      ]
    },
    {
      "cell_type": "code",
      "metadata": {
        "id": "rYkPJEpw9Qzg"
      },
      "source": [
        "criterion = nn.NLLLoss()"
      ],
      "execution_count": 14,
      "outputs": []
    },
    {
      "cell_type": "code",
      "metadata": {
        "id": "kpHX7VLV9SwL"
      },
      "source": [
        "learning_rate = 0.005 # If you set this too high, it might explode. If too low, it might not learn\n",
        "\n",
        "def train(category_tensor, line_tensor):\n",
        "    hidden = rnn.initHidden()\n",
        "\n",
        "    rnn.zero_grad()\n",
        "\n",
        "    for i in range(line_tensor.size()[0]):\n",
        "        output, hidden = rnn(line_tensor[i], hidden)\n",
        "\n",
        "    loss = criterion(output, category_tensor)\n",
        "    loss.backward()\n",
        "\n",
        "    # Add parameters' gradients to their values, multiplied by learning rate\n",
        "    for p in rnn.parameters():\n",
        "        p.data.add_(p.grad.data, alpha=-learning_rate)\n",
        "        # this method doc : https://pytorch.org/docs/stable/generated/torch.Tensor.add.html#torch.Tensor.add\n",
        "\n",
        "    return output, loss.item()"
      ],
      "execution_count": 15,
      "outputs": []
    },
    {
      "cell_type": "code",
      "metadata": {
        "colab": {
          "base_uri": "https://localhost:8080/"
        },
        "id": "joDAQag_9Ul0",
        "outputId": "2e570893-bbfd-49fa-ced1-f2c3e3e79b33"
      },
      "source": [
        "import time\n",
        "import math\n",
        "\n",
        "n_iters = 2000000\n",
        "print_every = 5000\n",
        "plot_every = 1000\n",
        "\n",
        "\n",
        "\n",
        "# Keep track of losses for plotting\n",
        "current_loss = 0\n",
        "all_losses = []\n",
        "\n",
        "def timeSince(since):\n",
        "    now = time.time()\n",
        "    s = now - since\n",
        "    m = math.floor(s / 60)\n",
        "    s -= m * 60\n",
        "    return '%dm %ds' % (m, s)\n",
        "\n",
        "start = time.time()\n",
        "\n",
        "for iter in range(1, n_iters + 1):\n",
        "    category, line, category_tensor, line_tensor = randomTrainingExample()\n",
        "    output, loss = train(category_tensor, line_tensor)\n",
        "    current_loss += loss\n",
        "\n",
        "    # Print iter number, loss, name and guess\n",
        "    if iter % print_every == 0:\n",
        "        guess, guess_i = categoryFromOutput(output)\n",
        "        correct = '✓' if guess == category else '✗ (%s)' % category\n",
        "        print('%d %d%% (%s) %.4f %s / %s %s' % (iter, iter / n_iters * 100, timeSince(start), loss, line, guess, correct))\n",
        "\n",
        "    # Add current loss avg to list of losses\n",
        "    if iter % plot_every == 0:\n",
        "        all_losses.append(current_loss / plot_every)\n",
        "        current_loss = 0\n"
      ],
      "execution_count": 16,
      "outputs": [
        {
          "output_type": "stream",
          "name": "stdout",
          "text": [
            "5000 0% (0m 5s) 0.5897 Wendy / F ✓\n",
            "10000 0% (0m 9s) 0.5681 Aubrey / M ✓\n",
            "15000 0% (0m 14s) 0.6040 Malcolm / M ✓\n",
            "20000 1% (0m 19s) 0.5665 Murry / M ✓\n",
            "25000 1% (0m 24s) 0.3806 Evonne / F ✓\n",
            "30000 1% (0m 29s) 0.2895 Randy / M ✓\n",
            "35000 1% (0m 33s) 0.1267 Karl / M ✓\n",
            "40000 2% (0m 38s) 0.1903 Deshawn / M ✓\n",
            "45000 2% (0m 43s) 0.0612 Brad / M ✓\n",
            "50000 2% (0m 47s) 0.2320 Darnell / M ✓\n",
            "55000 2% (0m 52s) 0.0668 Dameon / M ✓\n",
            "60000 3% (0m 57s) 0.1240 Raymond / M ✓\n",
            "65000 3% (1m 1s) 0.2327 Edgar / M ✓\n",
            "70000 3% (1m 6s) 0.0236 Nita / F ✓\n",
            "75000 3% (1m 11s) 0.0162 Jayda / F ✓\n",
            "80000 4% (1m 15s) 0.3509 Emanuel / M ✓\n",
            "85000 4% (1m 20s) 0.3410 Kelsi / F ✓\n",
            "90000 4% (1m 25s) 0.1906 Johnnie / F ✓\n",
            "95000 4% (1m 29s) 0.2921 Abygail / F ✓\n",
            "100000 5% (1m 34s) 0.0202 Lisa / F ✓\n",
            "105000 5% (1m 39s) 0.8323 May / M ✗ (F)\n",
            "110000 5% (1m 43s) 0.1851 Jadarius / M ✓\n",
            "115000 5% (1m 48s) 0.5926 Christin / F ✓\n",
            "120000 6% (1m 53s) 0.0589 Brenton / M ✓\n",
            "125000 6% (1m 57s) 0.0045 Malinda / F ✓\n",
            "130000 6% (2m 2s) 0.0242 Della / F ✓\n",
            "135000 6% (2m 7s) 0.0038 Kaylea / F ✓\n",
            "140000 7% (2m 11s) 0.2577 Sam / M ✓\n",
            "145000 7% (2m 16s) 0.3610 Lynn / M ✓\n",
            "150000 7% (2m 21s) 0.0534 Flora / F ✓\n",
            "155000 7% (2m 25s) 0.2690 Darian / M ✓\n",
            "160000 8% (2m 30s) 0.1750 Wade / M ✓\n",
            "165000 8% (2m 35s) 0.1724 Nadine / F ✓\n",
            "170000 8% (2m 39s) 0.2867 Nannie / F ✓\n",
            "175000 8% (2m 44s) 0.3611 Jaylah / F ✓\n",
            "180000 9% (2m 49s) 0.6706 Karley / F ✓\n",
            "185000 9% (2m 53s) 0.0163 Ada / F ✓\n",
            "190000 9% (2m 58s) 1.2300 Marion / M ✗ (F)\n",
            "195000 9% (3m 3s) 1.0092 Remy / F ✗ (M)\n",
            "200000 10% (3m 7s) 0.5357 Cerenity / F ✓\n",
            "205000 10% (3m 12s) 0.5507 Sophie / F ✓\n",
            "210000 10% (3m 16s) 0.0601 Gerald / M ✓\n",
            "215000 10% (3m 21s) 0.3051 Sherlyn / F ✓\n",
            "220000 11% (3m 26s) 0.7467 Beth / M ✗ (F)\n",
            "225000 11% (3m 30s) 0.0081 Cynthia / F ✓\n",
            "230000 11% (3m 35s) 2.3693 Laverne / F ✗ (M)\n",
            "235000 11% (3m 40s) 0.1653 Glen / M ✓\n",
            "240000 12% (3m 44s) 0.1015 Cameron / M ✓\n",
            "245000 12% (3m 49s) 0.1730 Carol / M ✓\n",
            "250000 12% (3m 53s) 0.0140 Jada / F ✓\n",
            "255000 12% (3m 58s) 0.2056 Iva / F ✓\n",
            "260000 13% (4m 3s) 0.0035 Latina / F ✓\n",
            "265000 13% (4m 7s) 0.0723 August / M ✓\n",
            "270000 13% (4m 12s) 0.2438 James / M ✓\n",
            "275000 13% (4m 17s) 0.0837 Davis / M ✓\n",
            "280000 14% (4m 21s) 1.1253 Jesse / F ✗ (M)\n",
            "285000 14% (4m 26s) 0.2446 Forrest / M ✓\n",
            "290000 14% (4m 31s) 0.8118 Gene / F ✗ (M)\n",
            "295000 14% (4m 35s) 0.0229 Yasmine / F ✓\n",
            "300000 15% (4m 40s) 0.7863 Maddison / M ✗ (F)\n",
            "305000 15% (4m 45s) 0.5880 Florence / F ✓\n",
            "310000 15% (4m 49s) 0.8919 Connie / F ✗ (M)\n",
            "315000 15% (4m 54s) 0.2473 Alice / F ✓\n",
            "320000 16% (4m 59s) 1.1810 Denice / M ✗ (F)\n",
            "325000 16% (5m 3s) 1.7144 Daryl / F ✗ (M)\n",
            "330000 16% (5m 8s) 1.6182 Lucy / M ✗ (F)\n",
            "335000 16% (5m 13s) 0.0071 Rena / F ✓\n",
            "340000 17% (5m 17s) 0.2099 Claire / F ✓\n",
            "345000 17% (5m 22s) 0.0656 Landon / M ✓\n",
            "350000 17% (5m 26s) 0.1312 Rehan / M ✓\n",
            "355000 17% (5m 31s) 0.4355 Ginger / F ✓\n",
            "360000 18% (5m 36s) 0.1501 Earl / M ✓\n",
            "365000 18% (5m 40s) 1.8172 Isabel / M ✗ (F)\n",
            "370000 18% (5m 45s) 0.0084 Gloria / F ✓\n",
            "375000 18% (5m 49s) 1.4586 James / M ✗ (F)\n",
            "380000 19% (5m 54s) 0.4058 Monty / M ✓\n",
            "385000 19% (5m 58s) 0.1381 Quincy / M ✓\n",
            "390000 19% (6m 3s) 0.0046 Johanna / F ✓\n",
            "395000 19% (6m 8s) 1.0813 Susan / M ✗ (F)\n",
            "400000 20% (6m 12s) 0.0343 Vada / F ✓\n",
            "405000 20% (6m 17s) 0.0139 Patience / F ✓\n",
            "410000 20% (6m 21s) 0.3295 Joel / M ✓\n",
            "415000 20% (6m 26s) 0.1278 Constance / F ✓\n",
            "420000 21% (6m 31s) 0.0931 Charlotte / F ✓\n",
            "425000 21% (6m 35s) 0.2835 Demarion / M ✓\n",
            "430000 21% (6m 40s) 0.9763 Zaire / F ✗ (M)\n",
            "435000 21% (6m 45s) 0.7899 Gracen / M ✗ (F)\n",
            "440000 22% (6m 49s) 0.0249 Madeline / F ✓\n",
            "445000 22% (6m 54s) 0.0034 Ayana / F ✓\n",
            "450000 22% (6m 58s) 0.0966 Quincy / M ✓\n",
            "455000 22% (7m 3s) 0.2657 Jasper / M ✓\n",
            "460000 23% (7m 7s) 0.1608 Elton / M ✓\n",
            "465000 23% (7m 12s) 0.8672 Heath / F ✗ (M)\n",
            "470000 23% (7m 17s) 0.1094 Alvis / M ✓\n",
            "475000 23% (7m 21s) 0.3647 Sterling / M ✓\n",
            "480000 24% (7m 26s) 0.0081 Davon / M ✓\n",
            "485000 24% (7m 30s) 0.0096 Carla / F ✓\n",
            "490000 24% (7m 35s) 0.0063 Mia / F ✓\n",
            "495000 24% (7m 39s) 2.2389 Bev / M ✗ (F)\n",
            "500000 25% (7m 44s) 0.7293 Leatrice / M ✗ (F)\n",
            "505000 25% (7m 49s) 0.0005 Aarya / F ✓\n",
            "510000 25% (7m 53s) 0.1327 Brenden / M ✓\n",
            "515000 25% (7m 58s) 0.0337 Kaleigh / F ✓\n",
            "520000 26% (8m 3s) 0.0798 Angie / F ✓\n",
            "525000 26% (8m 7s) 0.3373 Yash / M ✓\n",
            "530000 26% (8m 12s) 0.1378 Preston / M ✓\n",
            "535000 26% (8m 16s) 0.0588 Breana / F ✓\n",
            "540000 27% (8m 21s) 0.2365 Nylah / F ✓\n",
            "545000 27% (8m 26s) 0.2585 Moses / M ✓\n",
            "550000 27% (8m 30s) 0.5787 Jannie / F ✓\n",
            "555000 27% (8m 35s) 0.3876 Francis / M ✓\n",
            "560000 28% (8m 40s) 0.0850 Elouise / F ✓\n",
            "565000 28% (8m 44s) 0.7827 Monte / F ✗ (M)\n",
            "570000 28% (8m 49s) 0.1896 Rickey / M ✓\n",
            "575000 28% (8m 53s) 0.1616 Temple / F ✓\n",
            "580000 28% (8m 58s) 0.2254 Morris / M ✓\n",
            "585000 29% (9m 3s) 0.2967 Garry / M ✓\n",
            "590000 29% (9m 7s) 0.5040 Jamie / F ✓\n",
            "595000 29% (9m 12s) 0.3629 Kinley / F ✓\n",
            "600000 30% (9m 17s) 0.3667 Daylen / M ✓\n",
            "605000 30% (9m 21s) 0.1960 Alvin / M ✓\n",
            "610000 30% (9m 26s) 0.2317 Hollis / M ✓\n",
            "615000 30% (9m 31s) 1.2648 Chandler / M ✗ (F)\n",
            "620000 31% (9m 35s) 0.0654 Scott / M ✓\n",
            "625000 31% (9m 40s) 1.2665 Winnie / M ✗ (F)\n",
            "630000 31% (9m 45s) 0.0006 Malaysia / F ✓\n",
            "635000 31% (9m 49s) 0.0408 Devan / M ✓\n",
            "640000 32% (9m 54s) 0.0520 Willa / F ✓\n",
            "645000 32% (9m 59s) 0.5142 Jacky / M ✓\n",
            "650000 32% (10m 3s) 0.6497 Emmalynn / F ✓\n",
            "655000 32% (10m 8s) 0.0409 Zackary / M ✓\n",
            "660000 33% (10m 13s) 0.4499 Shawn / M ✓\n",
            "665000 33% (10m 17s) 0.0133 Deena / F ✓\n",
            "670000 33% (10m 22s) 0.0140 Liana / F ✓\n",
            "675000 33% (10m 27s) 1.5575 Emmy / M ✗ (F)\n",
            "680000 34% (10m 32s) 0.1394 Herschel / M ✓\n",
            "685000 34% (10m 36s) 0.0136 Lorenzo / M ✓\n",
            "690000 34% (10m 41s) 0.0194 Erick / M ✓\n",
            "695000 34% (10m 46s) 0.1258 Pattie / F ✓\n",
            "700000 35% (10m 51s) 0.0026 Jamya / F ✓\n",
            "705000 35% (10m 55s) 3.5688 London / M ✗ (F)\n",
            "710000 35% (11m 0s) 0.7660 Therese / M ✗ (F)\n",
            "715000 35% (11m 5s) 0.4019 Bernice / F ✓\n",
            "720000 36% (11m 10s) 0.0318 Olivia / F ✓\n",
            "725000 36% (11m 14s) 0.0215 Victoria / F ✓\n",
            "730000 36% (11m 19s) 0.0160 Hero / M ✓\n",
            "735000 36% (11m 24s) 0.2567 Tonie / F ✓\n",
            "740000 37% (11m 29s) 1.5824 Maximilian / F ✗ (M)\n",
            "745000 37% (11m 33s) 0.0335 Sonia / F ✓\n",
            "750000 37% (11m 38s) 0.0096 Rosanna / F ✓\n",
            "755000 37% (11m 43s) 0.7455 Harley / F ✗ (M)\n",
            "760000 38% (11m 48s) 0.3283 Tavaris / M ✓\n",
            "765000 38% (11m 52s) 0.0338 Edmund / M ✓\n",
            "770000 38% (11m 57s) 0.4003 Cadance / F ✓\n",
            "775000 38% (12m 2s) 0.0166 Diana / F ✓\n",
            "780000 39% (12m 6s) 0.0256 Roderick / M ✓\n",
            "785000 39% (12m 11s) 0.0209 Kisha / F ✓\n",
            "790000 39% (12m 16s) 0.0068 Cornelia / F ✓\n",
            "795000 39% (12m 20s) 0.5038 Audrey / F ✓\n",
            "800000 40% (12m 25s) 0.0872 Oscar / M ✓\n",
            "805000 40% (12m 30s) 0.1959 Alene / F ✓\n",
            "810000 40% (12m 35s) 1.3111 Jaiden / M ✗ (F)\n",
            "815000 40% (12m 39s) 0.3210 Sunny / F ✓\n",
            "820000 41% (12m 44s) 0.4710 Carley / F ✓\n",
            "825000 41% (12m 49s) 0.1015 Susannah / F ✓\n",
            "830000 41% (12m 53s) 0.2438 Carter / M ✓\n",
            "835000 41% (12m 58s) 0.1179 Jaime / F ✓\n",
            "840000 42% (13m 2s) 0.0113 Bernard / M ✓\n",
            "845000 42% (13m 7s) 0.5741 Clayton / M ✓\n",
            "850000 42% (13m 12s) 0.2381 Ulysses / M ✓\n",
            "855000 42% (13m 16s) 0.5221 Iris / F ✓\n",
            "860000 43% (13m 21s) 0.8584 Miguel / F ✗ (M)\n",
            "865000 43% (13m 26s) 1.0610 Carey / F ✗ (M)\n",
            "870000 43% (13m 30s) 0.0429 Brooklynn / F ✓\n",
            "875000 43% (13m 35s) 0.1072 Sherman / M ✓\n",
            "880000 44% (13m 40s) 0.5446 Jody / F ✓\n",
            "885000 44% (13m 44s) 2.3213 Remi / F ✗ (M)\n",
            "890000 44% (13m 49s) 0.3542 Lorine / F ✓\n",
            "895000 44% (13m 53s) 2.5693 Tess / M ✗ (F)\n",
            "900000 45% (13m 58s) 0.1071 Deidra / F ✓\n",
            "905000 45% (14m 3s) 0.2564 General / M ✓\n",
            "910000 45% (14m 7s) 0.0071 Bradford / M ✓\n",
            "915000 45% (14m 12s) 2.2548 Meadow / M ✗ (F)\n",
            "920000 46% (14m 17s) 0.0423 Marcus / M ✓\n",
            "925000 46% (14m 21s) 0.2297 Rileigh / F ✓\n",
            "930000 46% (14m 26s) 0.1967 Jeffrey / M ✓\n",
            "935000 46% (14m 31s) 0.2003 Andrew / M ✓\n",
            "940000 47% (14m 36s) 0.0029 Sheyla / F ✓\n",
            "945000 47% (14m 40s) 0.0197 Amanda / F ✓\n",
            "950000 47% (14m 45s) 0.1211 Baxter / M ✓\n",
            "955000 47% (14m 50s) 0.4864 Beau / M ✓\n",
            "960000 48% (14m 55s) 0.3378 Fannie / F ✓\n",
            "965000 48% (14m 59s) 0.6305 Ruben / M ✓\n",
            "970000 48% (15m 4s) 0.3366 Avalyn / F ✓\n",
            "975000 48% (15m 9s) 0.8987 Jammie / M ✗ (F)\n",
            "980000 49% (15m 14s) 0.1270 Lowell / M ✓\n",
            "985000 49% (15m 18s) 0.4493 Davonte / M ✓\n",
            "990000 49% (15m 23s) 0.1489 Mariah / F ✓\n",
            "995000 49% (15m 28s) 0.4390 Steve / M ✓\n",
            "1000000 50% (15m 32s) 0.0238 Arnold / M ✓\n",
            "1005000 50% (15m 37s) 0.6869 Eddie / M ✓\n",
            "1010000 50% (15m 41s) 0.3077 Edwin / M ✓\n",
            "1015000 50% (15m 46s) 0.0871 Justin / M ✓\n",
            "1020000 51% (15m 51s) 0.2025 Cameron / M ✓\n",
            "1025000 51% (15m 55s) 0.0838 Lamar / M ✓\n",
            "1030000 51% (16m 0s) 0.4623 Toinette / F ✓\n",
            "1035000 51% (16m 5s) 0.1610 Boyd / M ✓\n",
            "1040000 52% (16m 9s) 0.5367 Mathew / M ✓\n",
            "1045000 52% (16m 14s) 0.1139 Grayson / M ✓\n",
            "1050000 52% (16m 19s) 0.3196 Donte / M ✓\n",
            "1055000 52% (16m 23s) 0.0099 Patrick / M ✓\n",
            "1060000 53% (16m 28s) 1.1524 Tommie / M ✗ (F)\n",
            "1065000 53% (16m 33s) 0.4404 Allen / M ✓\n",
            "1070000 53% (16m 38s) 0.0771 Will / M ✓\n",
            "1075000 53% (16m 43s) 0.0326 Antonio / M ✓\n",
            "1080000 54% (16m 47s) 0.0590 Millard / M ✓\n",
            "1085000 54% (16m 52s) 0.0427 Demetrius / M ✓\n",
            "1090000 54% (16m 57s) 0.1881 Barbara / F ✓\n",
            "1095000 54% (17m 2s) 0.0054 Richard / M ✓\n",
            "1100000 55% (17m 7s) 0.0050 Lashonda / F ✓\n",
            "1105000 55% (17m 11s) 0.0710 Dillon / M ✓\n",
            "1110000 55% (17m 16s) 0.4030 Robbie / F ✓\n",
            "1115000 55% (17m 21s) 4.1958 Dakarai / F ✗ (M)\n",
            "1120000 56% (17m 26s) 0.1459 Kevin / M ✓\n",
            "1125000 56% (17m 30s) 0.3281 Kennedy / F ✓\n",
            "1130000 56% (17m 35s) 0.0168 Warner / M ✓\n",
            "1135000 56% (17m 40s) 0.8146 Andrae / F ✗ (M)\n",
            "1140000 56% (17m 44s) 0.0295 Jacqueline / F ✓\n",
            "1145000 57% (17m 49s) 0.5013 Uriah / M ✓\n",
            "1150000 57% (17m 54s) 0.0017 Alicia / F ✓\n",
            "1155000 57% (17m 59s) 0.0022 Shelia / F ✓\n",
            "1160000 57% (18m 3s) 0.5993 Amie / F ✓\n",
            "1165000 58% (18m 8s) 0.0973 Mackenzie / F ✓\n",
            "1170000 58% (18m 13s) 0.2322 Staci / F ✓\n",
            "1175000 58% (18m 18s) 0.4332 Ellis / M ✓\n",
            "1180000 59% (18m 23s) 0.0668 Kaylynn / F ✓\n",
            "1185000 59% (18m 28s) 0.0069 Belinda / F ✓\n",
            "1190000 59% (18m 33s) 0.0744 Cordarius / M ✓\n",
            "1195000 59% (18m 37s) 0.0417 Natalie / F ✓\n",
            "1200000 60% (18m 42s) 0.1464 Allene / F ✓\n",
            "1205000 60% (18m 47s) 0.2221 Logan / M ✓\n",
            "1210000 60% (18m 52s) 0.2334 Darlene / F ✓\n",
            "1215000 60% (18m 56s) 0.2734 Emanuel / M ✓\n",
            "1220000 61% (19m 1s) 0.1163 Jaquana / F ✓\n",
            "1225000 61% (19m 6s) 0.2190 Curtis / M ✓\n",
            "1230000 61% (19m 10s) 0.0174 Diana / F ✓\n",
            "1235000 61% (19m 15s) 0.0247 Roland / M ✓\n",
            "1240000 62% (19m 20s) 0.0710 Fulton / M ✓\n",
            "1245000 62% (19m 24s) 1.5873 Rachael / M ✗ (F)\n",
            "1250000 62% (19m 29s) 0.0953 Amara / F ✓\n",
            "1255000 62% (19m 34s) 0.0549 Adrienne / F ✓\n",
            "1260000 63% (19m 38s) 0.8407 Beau / F ✗ (M)\n",
            "1265000 63% (19m 43s) 2.1067 Doris / M ✗ (F)\n",
            "1270000 63% (19m 48s) 0.5699 Erin / M ✓\n",
            "1275000 63% (19m 52s) 0.3984 Toni / F ✓\n",
            "1280000 64% (19m 57s) 0.1190 Nellie / F ✓\n",
            "1285000 64% (20m 2s) 0.4932 Callan / M ✓\n",
            "1290000 64% (20m 6s) 0.2061 Clarine / F ✓\n",
            "1295000 64% (20m 11s) 0.0115 Oswald / M ✓\n",
            "1300000 65% (20m 16s) 1.6308 Jewel / M ✗ (F)\n",
            "1305000 65% (20m 21s) 0.2738 Jamil / M ✓\n",
            "1310000 65% (20m 25s) 0.0557 Elva / F ✓\n",
            "1315000 65% (20m 30s) 0.0720 Dominic / M ✓\n",
            "1320000 66% (20m 35s) 0.0381 Bertha / F ✓\n",
            "1325000 66% (20m 39s) 0.0025 Mina / F ✓\n",
            "1330000 66% (20m 44s) 0.0105 Melissa / F ✓\n",
            "1335000 66% (20m 49s) 1.0600 Connie / F ✗ (M)\n",
            "1340000 67% (20m 53s) 0.0511 Brent / M ✓\n",
            "1345000 67% (20m 58s) 0.0893 Stellan / M ✓\n",
            "1350000 67% (21m 2s) 0.1468 Selene / F ✓\n",
            "1355000 67% (21m 7s) 0.0306 Dena / F ✓\n",
            "1360000 68% (21m 12s) 0.0448 Catherine / F ✓\n",
            "1365000 68% (21m 16s) 0.0738 Santiago / M ✓\n",
            "1370000 68% (21m 21s) 0.2493 Kim / M ✓\n",
            "1375000 68% (21m 26s) 0.6890 Maurice / M ✓\n",
            "1380000 69% (21m 30s) 0.2874 Lily / F ✓\n",
            "1385000 69% (21m 35s) 0.5118 Maurice / M ✓\n",
            "1390000 69% (21m 40s) 0.0709 Alex / M ✓\n",
            "1395000 69% (21m 44s) 0.0930 Louis / M ✓\n",
            "1400000 70% (21m 49s) 0.0387 Bridgette / F ✓\n",
            "1405000 70% (21m 54s) 1.2437 Robbie / F ✗ (M)\n",
            "1410000 70% (21m 58s) 0.3892 Jeanne / F ✓\n",
            "1415000 70% (22m 3s) 0.2878 Milton / M ✓\n",
            "1420000 71% (22m 8s) 0.0018 Alonzo / M ✓\n",
            "1425000 71% (22m 13s) 0.3145 Brittny / F ✓\n",
            "1430000 71% (22m 17s) 0.0155 Jacqueline / F ✓\n",
            "1435000 71% (22m 22s) 0.0095 Marcia / F ✓\n",
            "1440000 72% (22m 27s) 0.3856 Isaiah / M ✓\n",
            "1445000 72% (22m 31s) 0.2475 Lillian / F ✓\n",
            "1450000 72% (22m 36s) 0.0599 Raymond / M ✓\n",
            "1455000 72% (22m 41s) 0.2099 Zayden / M ✓\n",
            "1460000 73% (22m 45s) 0.4182 Ashlee / F ✓\n",
            "1465000 73% (22m 50s) 0.8305 Lou / M ✗ (F)\n",
            "1470000 73% (22m 55s) 0.1626 Octavia / F ✓\n",
            "1475000 73% (22m 59s) 0.7973 Eddie / F ✗ (M)\n",
            "1480000 74% (23m 4s) 1.6302 Blair / M ✗ (F)\n",
            "1485000 74% (23m 9s) 0.9274 Tyrique / F ✗ (M)\n",
            "1490000 74% (23m 13s) 0.2086 Cohen / M ✓\n",
            "1495000 74% (23m 18s) 0.3075 Kacey / F ✓\n",
            "1500000 75% (23m 23s) 0.1589 Kyron / M ✓\n",
            "1505000 75% (23m 28s) 0.0036 Sabrina / F ✓\n",
            "1510000 75% (23m 32s) 0.0217 Ophelia / F ✓\n",
            "1515000 75% (23m 37s) 0.3970 April / F ✓\n",
            "1520000 76% (23m 42s) 0.1444 Elise / F ✓\n",
            "1525000 76% (23m 46s) 0.9584 Bennie / F ✗ (M)\n",
            "1530000 76% (23m 51s) 0.4161 Soren / M ✓\n",
            "1535000 76% (23m 56s) 0.0162 Markus / M ✓\n",
            "1540000 77% (24m 0s) 0.2608 Jacoby / M ✓\n",
            "1545000 77% (24m 5s) 1.0640 Olive / M ✗ (F)\n",
            "1550000 77% (24m 10s) 0.0417 Geraldine / F ✓\n",
            "1555000 77% (24m 14s) 0.4077 Mindy / F ✓\n",
            "1560000 78% (24m 19s) 0.3021 Rickey / M ✓\n",
            "1565000 78% (24m 24s) 0.0708 Lenora / F ✓\n",
            "1570000 78% (24m 28s) 0.6742 Rory / M ✓\n",
            "1575000 78% (24m 33s) 0.0778 Kermit / M ✓\n",
            "1580000 79% (24m 38s) 0.2308 Miley / F ✓\n",
            "1585000 79% (24m 43s) 0.0272 Lula / F ✓\n",
            "1590000 79% (24m 47s) 0.1820 Hailey / F ✓\n",
            "1595000 79% (24m 52s) 0.0012 Ayanna / F ✓\n",
            "1600000 80% (24m 57s) 0.0794 Garfield / M ✓\n",
            "1605000 80% (25m 2s) 0.2781 Rose / F ✓\n",
            "1610000 80% (25m 6s) 0.2256 Simone / F ✓\n",
            "1615000 80% (25m 11s) 0.0397 Bryleigh / F ✓\n",
            "1620000 81% (25m 16s) 1.1694 Lyle / F ✗ (M)\n",
            "1625000 81% (25m 20s) 0.6145 Nasir / M ✓\n",
            "1630000 81% (25m 25s) 0.0756 Lorraine / F ✓\n",
            "1635000 81% (25m 30s) 1.2134 Payton / M ✗ (F)\n",
            "1640000 82% (25m 35s) 0.4051 Betty / M ✓\n",
            "1645000 82% (25m 39s) 0.1123 Lillian / F ✓\n",
            "1650000 82% (25m 44s) 2.4085 Otha / F ✗ (M)\n",
            "1655000 82% (25m 48s) 0.3751 Sylas / M ✓\n",
            "1660000 83% (25m 53s) 1.4805 Dominique / M ✗ (F)\n",
            "1665000 83% (25m 58s) 0.5484 Rayan / M ✓\n",
            "1670000 83% (26m 2s) 0.1095 Darrel / M ✓\n",
            "1675000 83% (26m 7s) 0.2249 Norris / M ✓\n",
            "1680000 84% (26m 12s) 0.4469 Rose / F ✓\n",
            "1685000 84% (26m 16s) 0.0931 Michelle / F ✓\n",
            "1690000 84% (26m 21s) 0.0070 Alissa / F ✓\n",
            "1695000 84% (26m 26s) 0.0276 Arnold / M ✓\n",
            "1700000 85% (26m 30s) 0.0184 Dorothea / F ✓\n",
            "1705000 85% (26m 35s) 0.0006 Aniya / F ✓\n",
            "1710000 85% (26m 40s) 0.0831 Dennis / M ✓\n",
            "1715000 85% (26m 44s) 0.4043 Madisen / F ✓\n",
            "1720000 86% (26m 49s) 0.1974 Jacoby / M ✓\n",
            "1725000 86% (26m 54s) 1.5985 Lane / F ✗ (M)\n",
            "1730000 86% (26m 58s) 0.4511 Addie / F ✓\n",
            "1735000 86% (27m 3s) 0.1499 Vivienne / F ✓\n",
            "1740000 87% (27m 8s) 0.6472 Maxim / M ✓\n",
            "1745000 87% (27m 12s) 1.4551 Zane / F ✗ (M)\n",
            "1750000 87% (27m 17s) 0.0172 Anna / F ✓\n",
            "1755000 87% (27m 22s) 0.2233 Shirley / F ✓\n",
            "1760000 88% (27m 26s) 0.1256 Andrew / M ✓\n",
            "1765000 88% (27m 31s) 1.3122 Daniel / M ✗ (F)\n",
            "1770000 88% (27m 36s) 0.7240 Lynnette / M ✗ (F)\n",
            "1775000 88% (27m 40s) 1.3791 Eli / F ✗ (M)\n",
            "1780000 89% (27m 45s) 0.4914 Milton / M ✓\n",
            "1785000 89% (27m 50s) 0.1475 Theodore / M ✓\n",
            "1790000 89% (27m 54s) 0.0742 Baron / M ✓\n",
            "1795000 89% (27m 59s) 0.0347 Rakeem / M ✓\n",
            "1800000 90% (28m 4s) 0.0835 Travis / M ✓\n",
            "1805000 90% (28m 8s) 0.0383 Furman / M ✓\n",
            "1810000 90% (28m 13s) 0.1176 Luciano / M ✓\n",
            "1815000 90% (28m 17s) 0.0301 Dena / F ✓\n",
            "1820000 91% (28m 22s) 2.7556 Avis / M ✗ (F)\n",
            "1825000 91% (28m 27s) 0.0391 Scott / M ✓\n",
            "1830000 91% (28m 31s) 0.0628 Elva / F ✓\n",
            "1835000 91% (28m 36s) 0.5277 Skylar / M ✓\n",
            "1840000 92% (28m 41s) 0.5590 Maurice / M ✓\n",
            "1845000 92% (28m 45s) 0.4523 Allan / M ✓\n",
            "1850000 92% (28m 50s) 0.0920 Destinee / F ✓\n",
            "1855000 92% (28m 55s) 0.2531 Jimmy / M ✓\n",
            "1860000 93% (28m 59s) 0.0186 Martika / F ✓\n",
            "1865000 93% (29m 4s) 0.0065 Loretta / F ✓\n",
            "1870000 93% (29m 9s) 0.6573 Mitzi / F ✓\n",
            "1875000 93% (29m 14s) 0.1917 Elsie / F ✓\n",
            "1880000 94% (29m 18s) 0.0609 Sheldon / M ✓\n",
            "1885000 94% (29m 23s) 0.0080 Craig / M ✓\n",
            "1890000 94% (29m 27s) 0.4453 Alberto / M ✓\n",
            "1895000 94% (29m 32s) 0.8726 Queen / M ✗ (F)\n",
            "1900000 95% (29m 37s) 0.0724 Emma / F ✓\n",
            "1905000 95% (29m 41s) 0.5777 Leroy / M ✓\n",
            "1910000 95% (29m 46s) 0.4333 Margaret / F ✓\n",
            "1915000 95% (29m 51s) 2.7885 Brynn / M ✗ (F)\n",
            "1920000 96% (29m 55s) 1.0098 Jere / F ✗ (M)\n",
            "1925000 96% (30m 0s) 0.0350 Wilmer / M ✓\n",
            "1930000 96% (30m 4s) 0.3428 Noah / M ✓\n",
            "1935000 96% (30m 9s) 0.6908 Ashly / F ✓\n",
            "1940000 97% (30m 14s) 0.7010 Lesley / M ✗ (F)\n",
            "1945000 97% (30m 18s) 0.4711 Danyell / F ✓\n",
            "1950000 97% (30m 23s) 0.3977 Chimere / F ✓\n",
            "1955000 97% (30m 27s) 0.0064 Shabria / F ✓\n",
            "1960000 98% (30m 32s) 0.1015 Kylan / M ✓\n",
            "1965000 98% (30m 37s) 0.0181 Ted / M ✓\n",
            "1970000 98% (30m 42s) 0.2133 Aaron / M ✓\n",
            "1975000 98% (30m 46s) 0.1237 Braxton / M ✓\n",
            "1980000 99% (30m 51s) 0.0438 Jacob / M ✓\n",
            "1985000 99% (30m 56s) 0.1674 Jeffrey / M ✓\n",
            "1990000 99% (31m 0s) 0.1051 Stefanie / F ✓\n",
            "1995000 99% (31m 5s) 0.0204 Victoria / F ✓\n",
            "2000000 100% (31m 9s) 0.0162 Erick / M ✓\n"
          ]
        }
      ]
    },
    {
      "cell_type": "code",
      "metadata": {
        "colab": {
          "base_uri": "https://localhost:8080/",
          "height": 284
        },
        "id": "BgMxI15l9ZYU",
        "outputId": "c2cdaca2-7c33-42c8-cd60-089bfd491396"
      },
      "source": [
        "import matplotlib.ticker as ticker\n",
        "\n",
        "plt.figure()\n",
        "plt.plot(all_losses)"
      ],
      "execution_count": 17,
      "outputs": [
        {
          "output_type": "execute_result",
          "data": {
            "text/plain": [
              "[<matplotlib.lines.Line2D at 0x7f3183e9dd50>]"
            ]
          },
          "metadata": {},
          "execution_count": 17
        },
        {
          "output_type": "display_data",
          "data": {
            "image/png": "[encoded data removed]",
            "text/plain": [
              "<Figure size 432x288 with 1 Axes>"
            ]
          },
          "metadata": {
            "needs_background": "light"
          }
        }
      ]
    },
    {
      "cell_type": "code",
      "metadata": {
        "colab": {
          "base_uri": "https://localhost:8080/",
          "height": 267
        },
        "id": "6k3MOoSeE_Lh",
        "outputId": "f2f8bf84-637b-4c89-982e-55cadfe31b0c"
      },
      "source": [
        "# Keep track of correct guesses in a confusion matrix\n",
        "confusion = torch.zeros(n_categories, n_categories)\n",
        "n_confusion = 10000\n",
        "\n",
        "# Just return an output given a line\n",
        "def evaluate(line_tensor):\n",
        "    hidden = rnn.initHidden()\n",
        "\n",
        "    for i in range(line_tensor.size()[0]):\n",
        "        output, hidden = rnn(line_tensor[i], hidden)\n",
        "\n",
        "    return output\n",
        "\n",
        "# Go through a bunch of examples and record which are correctly guessed\n",
        "for i in range(n_confusion):\n",
        "    category, line, category_tensor, line_tensor = randomTrainingExample()\n",
        "    output = evaluate(line_tensor)\n",
        "    guess, guess_i = categoryFromOutput(output)\n",
        "    category_i = all_categories.index(category)\n",
        "    confusion[category_i][guess_i] += 1\n",
        "\n",
        "# Normalize by dividing every row by its sum\n",
        "for i in range(n_categories):\n",
        "    confusion[i] = confusion[i] / confusion[i].sum()\n",
        "\n",
        "# Set up plot\n",
        "fig = plt.figure()\n",
        "ax = fig.add_subplot(111)\n",
        "cax = ax.matshow(confusion.numpy())\n",
        "fig.colorbar(cax)\n",
        "\n",
        "# Set up axes\n",
        "ax.set_xticklabels([''] + all_categories, rotation=90)\n",
        "ax.set_yticklabels([''] + all_categories)\n",
        "\n",
        "# Force label at every tick\n",
        "ax.xaxis.set_major_locator(ticker.MultipleLocator(1))\n",
        "ax.yaxis.set_major_locator(ticker.MultipleLocator(1))\n",
        "\n",
        "# sphinx_gallery_thumbnail_number = 2\n",
        "plt.show()\n"
      ],
      "execution_count": 18,
      "outputs": [
        {
          "output_type": "display_data",
          "data": {
            "image/png": "[encoded data removed]",
            "text/plain": [
              "<Figure size 432x288 with 2 Axes>"
            ]
          },
          "metadata": {
            "needs_background": "light"
          }
        }
      ]
    },
    {
      "cell_type": "code",
      "metadata": {
        "colab": {
          "base_uri": "https://localhost:8080/"
        },
        "id": "1EFY-aYrFFKW",
        "outputId": "ad586b53-0e82-4a9e-dc75-356dc57b2505"
      },
      "source": [
        "def predict(input_line, n_predictions=2):\n",
        "    print('\\n> %s' % input_line)\n",
        "    with torch.no_grad():\n",
        "        output = evaluate(lineToTensor(input_line))\n",
        "        print(output)\n",
        "        # Get top N categories\n",
        "        topv, topi = output.topk(n_predictions, 1, True)\n",
        "        predictions = []\n",
        "\n",
        "        for i in range(n_predictions):\n",
        "            value = topv[0][i].item()\n",
        "            category_index = topi[0][i].item()\n",
        "            print('(%.2f) %s' % (value, all_categories[category_index]))\n",
        "            predictions.append([value, all_categories[category_index]])\n",
        "\n",
        "predict('Dovesky')\n",
        "predict('Jackson')\n",
        "predict('Satoshi')\n",
        "predict('Mohammad')\n",
        "predict('Masoud')\n",
        "predict(\"Kate\")"
      ],
      "execution_count": 19,
      "outputs": [
        {
          "output_type": "stream",
          "name": "stdout",
          "text": [
            "\n",
            "> Dovesky\n",
            "tensor([[-0.9058, -0.5179]])\n",
            "(-0.52) M\n",
            "(-0.91) F\n",
            "\n",
            "> Jackson\n",
            "tensor([[-4.1664, -0.0156]])\n",
            "(-0.02) M\n",
            "(-4.17) F\n",
            "\n",
            "> Satoshi\n",
            "tensor([[-0.0933, -2.4180]])\n",
            "(-0.09) F\n",
            "(-2.42) M\n",
            "\n",
            "> Mohammad\n",
            "tensor([[-2.9330, -0.0547]])\n",
            "(-0.05) M\n",
            "(-2.93) F\n",
            "\n",
            "> Masoud\n",
            "tensor([[-4.4782, -0.0114]])\n",
            "(-0.01) M\n",
            "(-4.48) F\n",
            "\n",
            "> Kate\n",
            "tensor([[-0.6928, -0.6935]])\n",
            "(-0.69) F\n",
            "(-0.69) M\n"
          ]
        }
      ]
    },
    {
      "cell_type": "code",
      "metadata": {
        "id": "jGZd9tJRFLNG"
      },
      "source": [
        ""
      ],
      "execution_count": null,
      "outputs": []
    }
  ]
}