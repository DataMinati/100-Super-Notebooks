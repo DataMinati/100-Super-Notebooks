{
  "nbformat": 4,
  "nbformat_minor": 0,
  "metadata": {
    "colab": {
      "name": "A/B Test Food Marketing.ipynb",
      "provenance": [],
      "authorship_tag": "ABX9TyP/CzW9yUa067C/91heLc/0",
      "include_colab_link": true
    },
    "kernelspec": {
      "name": "python3",
      "display_name": "Python 3"
    },
    "language_info": {
      "name": "python"
    }
  },
  "cells": [
    {
      "cell_type": "markdown",
      "metadata": {
        "id": "view-in-github",
        "colab_type": "text"
      },
      "source": [
        "<a href=\"https://colab.research.google.com/github/DataMinati/Super-Notebooks-1K/blob/main/A_B_Test_Food_Marketing.ipynb\" target=\"_parent\"><img src=\"https://colab.research.google.com/assets/colab-badge.svg\" alt=\"Open In Colab\"/></a>"
      ]
    },
    {
      "cell_type": "code",
      "metadata": {
        "id": "NH9z0QaXvTot"
      },
      "source": [
        "import os\n",
        "import numpy as np\n",
        "import pandas as pd\n",
        "import random\n",
        "import matplotlib.pyplot as plt\n",
        "import plotly.express as px\n",
        "import seaborn as sns\n",
        "\n",
        "from contextlib import contextmanager\n",
        "from time import time\n",
        "from tqdm import tqdm\n",
        "import lightgbm as lgbm\n",
        "\n",
        "from tensorflow.keras.utils import to_categorical\n",
        "from sklearn.metrics import classification_report, log_loss, accuracy_score\n",
        "from sklearn.metrics import mean_squared_error\n",
        "from sklearn.model_selection import KFold"
      ],
      "execution_count": 2,
      "outputs": []
    },
    {
      "cell_type": "code",
      "metadata": {
        "colab": {
          "base_uri": "https://localhost:8080/",
          "height": 423
        },
        "id": "rjg1P7Vwva32",
        "outputId": "2c5c6e66-d53c-4908-c5b0-7d8d301b641e"
      },
      "source": [
        "url = 'https://raw.githubusercontent.com/MainakRepositor/Datasets-/master/WA_Marketing-Campaign.csv'\n",
        "data0 = pd.read_csv(url,error_bad_lines=False)\n",
        "data0"
      ],
      "execution_count": 3,
      "outputs": [
        {
          "output_type": "execute_result",
          "data": {
            "text/html": [
              "<div>\n",
              "<style scoped>\n",
              "    .dataframe tbody tr th:only-of-type {\n",
              "        vertical-align: middle;\n",
              "    }\n",
              "\n",
              "    .dataframe tbody tr th {\n",
              "        vertical-align: top;\n",
              "    }\n",
              "\n",
              "    .dataframe thead th {\n",
              "        text-align: right;\n",
              "    }\n",
              "</style>\n",
              "<table border=\"1\" class=\"dataframe\">\n",
              "  <thead>\n",
              "    <tr style=\"text-align: right;\">\n",
              "      <th></th>\n",
              "      <th>MarketID</th>\n",
              "      <th>MarketSize</th>\n",
              "      <th>LocationID</th>\n",
              "      <th>AgeOfStore</th>\n",
              "      <th>Promotion</th>\n",
              "      <th>week</th>\n",
              "      <th>SalesInThousands</th>\n",
              "    </tr>\n",
              "  </thead>\n",
              "  <tbody>\n",
              "    <tr>\n",
              "      <th>0</th>\n",
              "      <td>1</td>\n",
              "      <td>Medium</td>\n",
              "      <td>1</td>\n",
              "      <td>4</td>\n",
              "      <td>3</td>\n",
              "      <td>1</td>\n",
              "      <td>33.73</td>\n",
              "    </tr>\n",
              "    <tr>\n",
              "      <th>1</th>\n",
              "      <td>1</td>\n",
              "      <td>Medium</td>\n",
              "      <td>1</td>\n",
              "      <td>4</td>\n",
              "      <td>3</td>\n",
              "      <td>2</td>\n",
              "      <td>35.67</td>\n",
              "    </tr>\n",
              "    <tr>\n",
              "      <th>2</th>\n",
              "      <td>1</td>\n",
              "      <td>Medium</td>\n",
              "      <td>1</td>\n",
              "      <td>4</td>\n",
              "      <td>3</td>\n",
              "      <td>3</td>\n",
              "      <td>29.03</td>\n",
              "    </tr>\n",
              "    <tr>\n",
              "      <th>3</th>\n",
              "      <td>1</td>\n",
              "      <td>Medium</td>\n",
              "      <td>1</td>\n",
              "      <td>4</td>\n",
              "      <td>3</td>\n",
              "      <td>4</td>\n",
              "      <td>39.25</td>\n",
              "    </tr>\n",
              "    <tr>\n",
              "      <th>4</th>\n",
              "      <td>1</td>\n",
              "      <td>Medium</td>\n",
              "      <td>2</td>\n",
              "      <td>5</td>\n",
              "      <td>2</td>\n",
              "      <td>1</td>\n",
              "      <td>27.81</td>\n",
              "    </tr>\n",
              "    <tr>\n",
              "      <th>...</th>\n",
              "      <td>...</td>\n",
              "      <td>...</td>\n",
              "      <td>...</td>\n",
              "      <td>...</td>\n",
              "      <td>...</td>\n",
              "      <td>...</td>\n",
              "      <td>...</td>\n",
              "    </tr>\n",
              "    <tr>\n",
              "      <th>543</th>\n",
              "      <td>10</td>\n",
              "      <td>Large</td>\n",
              "      <td>919</td>\n",
              "      <td>2</td>\n",
              "      <td>1</td>\n",
              "      <td>4</td>\n",
              "      <td>64.34</td>\n",
              "    </tr>\n",
              "    <tr>\n",
              "      <th>544</th>\n",
              "      <td>10</td>\n",
              "      <td>Large</td>\n",
              "      <td>920</td>\n",
              "      <td>14</td>\n",
              "      <td>2</td>\n",
              "      <td>1</td>\n",
              "      <td>50.20</td>\n",
              "    </tr>\n",
              "    <tr>\n",
              "      <th>545</th>\n",
              "      <td>10</td>\n",
              "      <td>Large</td>\n",
              "      <td>920</td>\n",
              "      <td>14</td>\n",
              "      <td>2</td>\n",
              "      <td>2</td>\n",
              "      <td>45.75</td>\n",
              "    </tr>\n",
              "    <tr>\n",
              "      <th>546</th>\n",
              "      <td>10</td>\n",
              "      <td>Large</td>\n",
              "      <td>920</td>\n",
              "      <td>14</td>\n",
              "      <td>2</td>\n",
              "      <td>3</td>\n",
              "      <td>44.29</td>\n",
              "    </tr>\n",
              "    <tr>\n",
              "      <th>547</th>\n",
              "      <td>10</td>\n",
              "      <td>Large</td>\n",
              "      <td>920</td>\n",
              "      <td>14</td>\n",
              "      <td>2</td>\n",
              "      <td>4</td>\n",
              "      <td>49.41</td>\n",
              "    </tr>\n",
              "  </tbody>\n",
              "</table>\n",
              "<p>548 rows × 7 columns</p>\n",
              "</div>"
            ],
            "text/plain": [
              "     MarketID MarketSize  LocationID  ...  Promotion  week  SalesInThousands\n",
              "0           1     Medium           1  ...          3     1             33.73\n",
              "1           1     Medium           1  ...          3     2             35.67\n",
              "2           1     Medium           1  ...          3     3             29.03\n",
              "3           1     Medium           1  ...          3     4             39.25\n",
              "4           1     Medium           2  ...          2     1             27.81\n",
              "..        ...        ...         ...  ...        ...   ...               ...\n",
              "543        10      Large         919  ...          1     4             64.34\n",
              "544        10      Large         920  ...          2     1             50.20\n",
              "545        10      Large         920  ...          2     2             45.75\n",
              "546        10      Large         920  ...          2     3             44.29\n",
              "547        10      Large         920  ...          2     4             49.41\n",
              "\n",
              "[548 rows x 7 columns]"
            ]
          },
          "metadata": {},
          "execution_count": 3
        }
      ]
    },
    {
      "cell_type": "code",
      "metadata": {
        "colab": {
          "base_uri": "https://localhost:8080/",
          "height": 423
        },
        "id": "Xw8xvxPQwGs_",
        "outputId": "07c28fc5-9be9-49c3-c5f7-3abdea9668b6"
      },
      "source": [
        "df=data0\n",
        "from sklearn.preprocessing import LabelEncoder\n",
        "for c in df.columns:\n",
        "    if df[c].dtype=='object': \n",
        "        df[c] = df[c].fillna('NAN')\n",
        "        lbl = LabelEncoder()\n",
        "        lbl.fit(list(df[c].values))\n",
        "        df[c] = lbl.transform(df[c].values)\n",
        "data1=df\n",
        "data1"
      ],
      "execution_count": 4,
      "outputs": [
        {
          "output_type": "execute_result",
          "data": {
            "text/html": [
              "<div>\n",
              "<style scoped>\n",
              "    .dataframe tbody tr th:only-of-type {\n",
              "        vertical-align: middle;\n",
              "    }\n",
              "\n",
              "    .dataframe tbody tr th {\n",
              "        vertical-align: top;\n",
              "    }\n",
              "\n",
              "    .dataframe thead th {\n",
              "        text-align: right;\n",
              "    }\n",
              "</style>\n",
              "<table border=\"1\" class=\"dataframe\">\n",
              "  <thead>\n",
              "    <tr style=\"text-align: right;\">\n",
              "      <th></th>\n",
              "      <th>MarketID</th>\n",
              "      <th>MarketSize</th>\n",
              "      <th>LocationID</th>\n",
              "      <th>AgeOfStore</th>\n",
              "      <th>Promotion</th>\n",
              "      <th>week</th>\n",
              "      <th>SalesInThousands</th>\n",
              "    </tr>\n",
              "  </thead>\n",
              "  <tbody>\n",
              "    <tr>\n",
              "      <th>0</th>\n",
              "      <td>1</td>\n",
              "      <td>1</td>\n",
              "      <td>1</td>\n",
              "      <td>4</td>\n",
              "      <td>3</td>\n",
              "      <td>1</td>\n",
              "      <td>33.73</td>\n",
              "    </tr>\n",
              "    <tr>\n",
              "      <th>1</th>\n",
              "      <td>1</td>\n",
              "      <td>1</td>\n",
              "      <td>1</td>\n",
              "      <td>4</td>\n",
              "      <td>3</td>\n",
              "      <td>2</td>\n",
              "      <td>35.67</td>\n",
              "    </tr>\n",
              "    <tr>\n",
              "      <th>2</th>\n",
              "      <td>1</td>\n",
              "      <td>1</td>\n",
              "      <td>1</td>\n",
              "      <td>4</td>\n",
              "      <td>3</td>\n",
              "      <td>3</td>\n",
              "      <td>29.03</td>\n",
              "    </tr>\n",
              "    <tr>\n",
              "      <th>3</th>\n",
              "      <td>1</td>\n",
              "      <td>1</td>\n",
              "      <td>1</td>\n",
              "      <td>4</td>\n",
              "      <td>3</td>\n",
              "      <td>4</td>\n",
              "      <td>39.25</td>\n",
              "    </tr>\n",
              "    <tr>\n",
              "      <th>4</th>\n",
              "      <td>1</td>\n",
              "      <td>1</td>\n",
              "      <td>2</td>\n",
              "      <td>5</td>\n",
              "      <td>2</td>\n",
              "      <td>1</td>\n",
              "      <td>27.81</td>\n",
              "    </tr>\n",
              "    <tr>\n",
              "      <th>...</th>\n",
              "      <td>...</td>\n",
              "      <td>...</td>\n",
              "      <td>...</td>\n",
              "      <td>...</td>\n",
              "      <td>...</td>\n",
              "      <td>...</td>\n",
              "      <td>...</td>\n",
              "    </tr>\n",
              "    <tr>\n",
              "      <th>543</th>\n",
              "      <td>10</td>\n",
              "      <td>0</td>\n",
              "      <td>919</td>\n",
              "      <td>2</td>\n",
              "      <td>1</td>\n",
              "      <td>4</td>\n",
              "      <td>64.34</td>\n",
              "    </tr>\n",
              "    <tr>\n",
              "      <th>544</th>\n",
              "      <td>10</td>\n",
              "      <td>0</td>\n",
              "      <td>920</td>\n",
              "      <td>14</td>\n",
              "      <td>2</td>\n",
              "      <td>1</td>\n",
              "      <td>50.20</td>\n",
              "    </tr>\n",
              "    <tr>\n",
              "      <th>545</th>\n",
              "      <td>10</td>\n",
              "      <td>0</td>\n",
              "      <td>920</td>\n",
              "      <td>14</td>\n",
              "      <td>2</td>\n",
              "      <td>2</td>\n",
              "      <td>45.75</td>\n",
              "    </tr>\n",
              "    <tr>\n",
              "      <th>546</th>\n",
              "      <td>10</td>\n",
              "      <td>0</td>\n",
              "      <td>920</td>\n",
              "      <td>14</td>\n",
              "      <td>2</td>\n",
              "      <td>3</td>\n",
              "      <td>44.29</td>\n",
              "    </tr>\n",
              "    <tr>\n",
              "      <th>547</th>\n",
              "      <td>10</td>\n",
              "      <td>0</td>\n",
              "      <td>920</td>\n",
              "      <td>14</td>\n",
              "      <td>2</td>\n",
              "      <td>4</td>\n",
              "      <td>49.41</td>\n",
              "    </tr>\n",
              "  </tbody>\n",
              "</table>\n",
              "<p>548 rows × 7 columns</p>\n",
              "</div>"
            ],
            "text/plain": [
              "     MarketID  MarketSize  LocationID  ...  Promotion  week  SalesInThousands\n",
              "0           1           1           1  ...          3     1             33.73\n",
              "1           1           1           1  ...          3     2             35.67\n",
              "2           1           1           1  ...          3     3             29.03\n",
              "3           1           1           1  ...          3     4             39.25\n",
              "4           1           1           2  ...          2     1             27.81\n",
              "..        ...         ...         ...  ...        ...   ...               ...\n",
              "543        10           0         919  ...          1     4             64.34\n",
              "544        10           0         920  ...          2     1             50.20\n",
              "545        10           0         920  ...          2     2             45.75\n",
              "546        10           0         920  ...          2     3             44.29\n",
              "547        10           0         920  ...          2     4             49.41\n",
              "\n",
              "[548 rows x 7 columns]"
            ]
          },
          "metadata": {},
          "execution_count": 4
        }
      ]
    },
    {
      "cell_type": "code",
      "metadata": {
        "colab": {
          "base_uri": "https://localhost:8080/"
        },
        "id": "iOWXdtDEwJ7-",
        "outputId": "106e84ac-ea2f-491b-ca2a-a7be71d6b01b"
      },
      "source": [
        "print(data1.columns.tolist())"
      ],
      "execution_count": 5,
      "outputs": [
        {
          "output_type": "stream",
          "name": "stdout",
          "text": [
            "['MarketID', 'MarketSize', 'LocationID', 'AgeOfStore', 'Promotion', 'week', 'SalesInThousands']\n"
          ]
        }
      ]
    },
    {
      "cell_type": "code",
      "metadata": {
        "colab": {
          "base_uri": "https://localhost:8080/"
        },
        "id": "q92og95OwNF0",
        "outputId": "42816c2e-8bb6-471e-a058-3fcf31fccf83"
      },
      "source": [
        "target=['SalesInThousands']\n",
        "dataY=data1[target[0]]\n",
        "dataX=data1.drop(target,axis=1)\n",
        "print(dataY[0:5].T)\n",
        "print()\n",
        "print(dataX[0:5].T)"
      ],
      "execution_count": 6,
      "outputs": [
        {
          "output_type": "stream",
          "name": "stdout",
          "text": [
            "0    33.73\n",
            "1    35.67\n",
            "2    29.03\n",
            "3    39.25\n",
            "4    27.81\n",
            "Name: SalesInThousands, dtype: float64\n",
            "\n",
            "            0  1  2  3  4\n",
            "MarketID    1  1  1  1  1\n",
            "MarketSize  1  1  1  1  1\n",
            "LocationID  1  1  1  1  2\n",
            "AgeOfStore  4  4  4  4  5\n",
            "Promotion   3  3  3  3  2\n",
            "week        1  2  3  4  1\n"
          ]
        }
      ]
    },
    {
      "cell_type": "code",
      "metadata": {
        "colab": {
          "base_uri": "https://localhost:8080/"
        },
        "id": "17XuNvlEwQCe",
        "outputId": "e3cfc1e2-a5d3-4648-8a48-0cddad6cd96f"
      },
      "source": [
        "N=list(range(len(dataX)))\n",
        "random.seed(2021)\n",
        "random.shuffle(N)\n",
        "n=len(dataX)\n",
        "trainX=dataX.loc[N[0:(n//4)*3]]\n",
        "trainY=dataY.loc[N[0:(n//4)*3]]\n",
        "testX=dataX.loc[N[(n//4)*3:]]\n",
        "testY=dataY.loc[N[(n//4)*3:]]\n",
        "print(len(dataX))\n",
        "print(len(trainX))\n",
        "print(len(testX))"
      ],
      "execution_count": 7,
      "outputs": [
        {
          "output_type": "stream",
          "name": "stdout",
          "text": [
            "548\n",
            "411\n",
            "137\n"
          ]
        }
      ]
    },
    {
      "cell_type": "code",
      "metadata": {
        "colab": {
          "base_uri": "https://localhost:8080/"
        },
        "id": "tASGYg97wSmZ",
        "outputId": "6257ed64-4589-4468-d172-2f6b5089ea5a"
      },
      "source": [
        "df_columns = list(dataX.columns)\n",
        "print(df_columns)"
      ],
      "execution_count": 8,
      "outputs": [
        {
          "output_type": "stream",
          "name": "stdout",
          "text": [
            "['MarketID', 'MarketSize', 'LocationID', 'AgeOfStore', 'Promotion', 'week']\n"
          ]
        }
      ]
    },
    {
      "cell_type": "code",
      "metadata": {
        "colab": {
          "base_uri": "https://localhost:8080/"
        },
        "id": "YFdwpx8-wVXj",
        "outputId": "70079eb8-9c31-48bd-d328-b8a96455cd18"
      },
      "source": [
        "def create_numeric_feature(input_df):\n",
        "    use_columns = df_columns \n",
        "    return input_df[use_columns].copy()\n",
        "from contextlib import contextmanager\n",
        "from time import time\n",
        "\n",
        "class Timer:\n",
        "    def __init__(self, logger=None, format_str='{:.3f}[s]', prefix=None, suffix=None, sep=' '):\n",
        "\n",
        "        if prefix: format_str = str(prefix) + sep + format_str\n",
        "        if suffix: format_str = format_str + sep + str(suffix)\n",
        "        self.format_str = format_str\n",
        "        self.logger = logger\n",
        "        self.start = None\n",
        "        self.end = None\n",
        "\n",
        "    @property\n",
        "    def duration(self):\n",
        "        if self.end is None:\n",
        "            return 0\n",
        "        return self.end - self.start\n",
        "\n",
        "    def __enter__(self):\n",
        "        self.start = time()\n",
        "\n",
        "    def __exit__(self, exc_type, exc_val, exc_tb):\n",
        "        self.end = time()\n",
        "        out_str = self.format_str.format(self.duration)\n",
        "        if self.logger:\n",
        "            self.logger.info(out_str)\n",
        "        else:\n",
        "            print(out_str)\n",
        "from tqdm import tqdm\n",
        "\n",
        "def to_feature(input_df):\n",
        "\n",
        "    processors = [\n",
        "        create_numeric_feature,\n",
        "    ]\n",
        "    \n",
        "    out_df = pd.DataFrame()\n",
        "    \n",
        "    for func in tqdm(processors, total=len(processors)):\n",
        "        with Timer(prefix='create' + func.__name__ + ' '):\n",
        "            _df = func(input_df)\n",
        "\n",
        "        assert len(_df) == len(input_df), func.__name__\n",
        "        out_df = pd.concat([out_df, _df], axis=1)\n",
        "        \n",
        "    return out_df\n",
        "train_feat_df = to_feature(trainX)\n",
        "test_feat_df = to_feature(testX)"
      ],
      "execution_count": 9,
      "outputs": [
        {
          "output_type": "stream",
          "name": "stderr",
          "text": [
            "100%|██████████| 1/1 [00:00<00:00, 205.96it/s]\n"
          ]
        },
        {
          "output_type": "stream",
          "name": "stdout",
          "text": [
            "createcreate_numeric_feature  0.002[s]\n"
          ]
        },
        {
          "output_type": "stream",
          "name": "stderr",
          "text": [
            "100%|██████████| 1/1 [00:00<00:00, 238.49it/s]"
          ]
        },
        {
          "output_type": "stream",
          "name": "stdout",
          "text": [
            "createcreate_numeric_feature  0.002[s]\n"
          ]
        },
        {
          "output_type": "stream",
          "name": "stderr",
          "text": [
            "\n"
          ]
        }
      ]
    },
    {
      "cell_type": "code",
      "metadata": {
        "id": "9bkksxhFwars"
      },
      "source": [
        "import lightgbm as lgbm\n",
        "from sklearn.metrics import mean_squared_error\n",
        "\n",
        "def fit_lgbm(X, y, cv, \n",
        "             params: dict=None, \n",
        "             verbose: int=50):\n",
        "\n",
        "    if params is None:\n",
        "        params = {}\n",
        "\n",
        "    models = []\n",
        "    oof_pred = np.zeros_like(y, dtype=np.float)\n",
        "\n",
        "    for i, (idx_train, idx_valid) in enumerate(cv): \n",
        "        x_train, y_train = X[idx_train], y[idx_train]\n",
        "        x_valid, y_valid = X[idx_valid], y[idx_valid]\n",
        "\n",
        "        clf = lgbm.LGBMRegressor(**params)\n",
        "        \n",
        "        with Timer(prefix='fit fold={} '.format(i)):\n",
        "            clf.fit(x_train, y_train, \n",
        "                    eval_set=[(x_valid, y_valid)],  \n",
        "                    early_stopping_rounds=100,\n",
        "                    verbose=verbose)\n",
        "\n",
        "        pred_i = clf.predict(x_valid)\n",
        "        oof_pred[idx_valid] = pred_i\n",
        "        models.append(clf)\n",
        "        print(f'Fold {i} RMSLE: {mean_squared_error(y_valid, pred_i) ** .5:.4f}')\n",
        "        print()\n",
        "\n",
        "    score = mean_squared_error(y, oof_pred) ** .5\n",
        "    print('-' * 50)\n",
        "    print('FINISHED | Whole RMSLE: {:.4f}'.format(score))\n",
        "    return oof_pred, models\n",
        "params = {\n",
        "    'objective': 'rmse', \n",
        "    'learning_rate': .1,\n",
        "    'reg_lambda': 1.,\n",
        "    'reg_alpha': .1,\n",
        "    'max_depth': 5, \n",
        "    'n_estimators': 10000, \n",
        "    'colsample_bytree': .5, \n",
        "    'min_child_samples': 10,\n",
        "    'subsample_freq': 3,\n",
        "    'subsample': .9,\n",
        "    'importance_type': 'gain', \n",
        "    'random_state': 71,\n",
        "    'num_leaves': 62\n",
        "}\n",
        "y = trainY\n"
      ],
      "execution_count": 11,
      "outputs": []
    },
    {
      "cell_type": "code",
      "metadata": {
        "colab": {
          "base_uri": "https://localhost:8080/"
        },
        "id": "DWq1Fpp4wf-7",
        "outputId": "2a5f576d-5b56-417f-c8fb-c36282254b4b"
      },
      "source": [
        "print(y.shape)"
      ],
      "execution_count": 12,
      "outputs": [
        {
          "output_type": "stream",
          "name": "stdout",
          "text": [
            "(411,)\n"
          ]
        }
      ]
    },
    {
      "cell_type": "code",
      "metadata": {
        "colab": {
          "base_uri": "https://localhost:8080/",
          "height": 423
        },
        "id": "LIhjQ17Zwi4E",
        "outputId": "57ef7726-b6fd-47cc-fb5e-ec2e3a5bf1d7"
      },
      "source": [
        "ydf=pd.DataFrame(y)\n",
        "ydf"
      ],
      "execution_count": 13,
      "outputs": [
        {
          "output_type": "execute_result",
          "data": {
            "text/html": [
              "<div>\n",
              "<style scoped>\n",
              "    .dataframe tbody tr th:only-of-type {\n",
              "        vertical-align: middle;\n",
              "    }\n",
              "\n",
              "    .dataframe tbody tr th {\n",
              "        vertical-align: top;\n",
              "    }\n",
              "\n",
              "    .dataframe thead th {\n",
              "        text-align: right;\n",
              "    }\n",
              "</style>\n",
              "<table border=\"1\" class=\"dataframe\">\n",
              "  <thead>\n",
              "    <tr style=\"text-align: right;\">\n",
              "      <th></th>\n",
              "      <th>SalesInThousands</th>\n",
              "    </tr>\n",
              "  </thead>\n",
              "  <tbody>\n",
              "    <tr>\n",
              "      <th>121</th>\n",
              "      <td>87.90</td>\n",
              "    </tr>\n",
              "    <tr>\n",
              "      <th>242</th>\n",
              "      <td>54.37</td>\n",
              "    </tr>\n",
              "    <tr>\n",
              "      <th>183</th>\n",
              "      <td>52.88</td>\n",
              "    </tr>\n",
              "    <tr>\n",
              "      <th>216</th>\n",
              "      <td>48.18</td>\n",
              "    </tr>\n",
              "    <tr>\n",
              "      <th>151</th>\n",
              "      <td>75.61</td>\n",
              "    </tr>\n",
              "    <tr>\n",
              "      <th>...</th>\n",
              "      <td>...</td>\n",
              "    </tr>\n",
              "    <tr>\n",
              "      <th>245</th>\n",
              "      <td>62.63</td>\n",
              "    </tr>\n",
              "    <tr>\n",
              "      <th>260</th>\n",
              "      <td>24.75</td>\n",
              "    </tr>\n",
              "    <tr>\n",
              "      <th>527</th>\n",
              "      <td>66.10</td>\n",
              "    </tr>\n",
              "    <tr>\n",
              "      <th>307</th>\n",
              "      <td>30.81</td>\n",
              "    </tr>\n",
              "    <tr>\n",
              "      <th>18</th>\n",
              "      <td>37.47</td>\n",
              "    </tr>\n",
              "  </tbody>\n",
              "</table>\n",
              "<p>411 rows × 1 columns</p>\n",
              "</div>"
            ],
            "text/plain": [
              "     SalesInThousands\n",
              "121             87.90\n",
              "242             54.37\n",
              "183             52.88\n",
              "216             48.18\n",
              "151             75.61\n",
              "..                ...\n",
              "245             62.63\n",
              "260             24.75\n",
              "527             66.10\n",
              "307             30.81\n",
              "18              37.47\n",
              "\n",
              "[411 rows x 1 columns]"
            ]
          },
          "metadata": {},
          "execution_count": 13
        }
      ]
    },
    {
      "cell_type": "code",
      "metadata": {
        "colab": {
          "base_uri": "https://localhost:8080/",
          "height": 967
        },
        "id": "YJ0v5Qbxwlba",
        "outputId": "7a3357d2-9d55-479d-e9e4-8af9f139a79e"
      },
      "source": [
        "from sklearn.model_selection import KFold\n",
        "\n",
        "for i in range(1):\n",
        "    fold = KFold(n_splits=5, shuffle=True, random_state=71)\n",
        "    ydfi=ydf.iloc[:,i]\n",
        "    y=np.array(ydfi)\n",
        "    cv = list(fold.split(train_feat_df, y))\n",
        "    oof, models = fit_lgbm(train_feat_df.values, y, cv, params=params, verbose=500)\n",
        "    \n",
        "    fig,ax = plt.subplots(figsize=(6,6))\n",
        "    ax.set_title(target[i],fontsize=20)\n",
        "    ax.set_ylabel('Predicted Train '+target[i],fontsize=12)\n",
        "    ax.set_xlabel('Actual Train '+target[i],fontsize=12)\n",
        "    ax.scatter(y,oof)"
      ],
      "execution_count": 14,
      "outputs": [
        {
          "output_type": "stream",
          "name": "stdout",
          "text": [
            "Training until validation scores don't improve for 100 rounds.\n",
            "Early stopping, best iteration is:\n",
            "[82]\tvalid_0's rmse: 4.96795\n",
            "fit fold=0  0.067[s]\n",
            "Fold 0 RMSLE: 4.9679\n",
            "\n",
            "Training until validation scores don't improve for 100 rounds.\n",
            "Early stopping, best iteration is:\n",
            "[61]\tvalid_0's rmse: 5.61006\n",
            "fit fold=1  0.036[s]\n",
            "Fold 1 RMSLE: 5.6101\n",
            "\n",
            "Training until validation scores don't improve for 100 rounds.\n",
            "Early stopping, best iteration is:\n",
            "[49]\tvalid_0's rmse: 6.04694\n",
            "fit fold=2  0.034[s]\n",
            "Fold 2 RMSLE: 6.0469\n",
            "\n",
            "Training until validation scores don't improve for 100 rounds.\n",
            "Early stopping, best iteration is:\n",
            "[31]\tvalid_0's rmse: 5.44903\n",
            "fit fold=3  0.030[s]\n",
            "Fold 3 RMSLE: 5.4490\n",
            "\n",
            "Training until validation scores don't improve for 100 rounds.\n",
            "Early stopping, best iteration is:\n",
            "[66]\tvalid_0's rmse: 5.46162\n",
            "fit fold=4  0.037[s]\n",
            "Fold 4 RMSLE: 5.4616\n",
            "\n",
            "--------------------------------------------------\n",
            "FINISHED | Whole RMSLE: 5.5167\n"
          ]
        },
        {
          "output_type": "display_data",
          "data": {
            "image/png": "[encoded data removed]",
            "text/plain": [
              "<Figure size 432x432 with 1 Axes>"
            ]
          },
          "metadata": {
            "needs_background": "light"
          }
        }
      ]
    },
    {
      "cell_type": "code",
      "metadata": {
        "colab": {
          "base_uri": "https://localhost:8080/",
          "height": 1000
        },
        "id": "xXP32wwdwnxj",
        "outputId": "8de1f7e3-ae9d-48fd-c6e7-3c72daf120f4"
      },
      "source": [
        "def visualize_importance(models, feat_train_df):\n",
        "\n",
        "    feature_importance_df = pd.DataFrame()\n",
        "    for i, model in enumerate(models):\n",
        "        _df = pd.DataFrame()\n",
        "        _df['feature_importance'] = model.feature_importances_\n",
        "        _df['column'] = feat_train_df.columns\n",
        "        _df['fold'] = i + 1\n",
        "        feature_importance_df = pd.concat([feature_importance_df, _df], \n",
        "                                          axis=0, ignore_index=True)\n",
        "\n",
        "    order = feature_importance_df.groupby('column')\\\n",
        "        .sum()[['feature_importance']]\\\n",
        "        .sort_values('feature_importance', ascending=False).index[:50]\n",
        "\n",
        "    fig, ax = plt.subplots(figsize=(8, max(6, len(order) * .25)))\n",
        "    sns.boxenplot(data=feature_importance_df, \n",
        "                  x='feature_importance', \n",
        "                  y='column', \n",
        "                  order=order, \n",
        "                  ax=ax, \n",
        "                  palette='viridis', \n",
        "                  orient='h')\n",
        "    \n",
        "    ax.tick_params(axis='x', rotation=0)\n",
        "    #ax.set_title('Importance')\n",
        "    ax.grid()\n",
        "    fig.tight_layout()\n",
        "    \n",
        "    return fig,ax\n",
        "\n",
        "#fig, ax = visualize_importance(models, train_feat_df)\n",
        "for i in range(1):\n",
        "    fold = KFold(n_splits=5, shuffle=True, random_state=71)\n",
        "    ydfi=ydf.iloc[:,i]\n",
        "    y=np.array(ydfi)\n",
        "    cv = list(fold.split(train_feat_df, y))\n",
        "    oof, models = fit_lgbm(train_feat_df.values, y, cv, params=params, verbose=500)\n",
        "    fig, ax = visualize_importance(models, train_feat_df)\n",
        "    ax.set_title(target[i]+' Imortance',fontsize=20)"
      ],
      "execution_count": 15,
      "outputs": [
        {
          "output_type": "stream",
          "name": "stdout",
          "text": [
            "Training until validation scores don't improve for 100 rounds.\n",
            "Early stopping, best iteration is:\n",
            "[82]\tvalid_0's rmse: 4.96795\n",
            "fit fold=0  0.066[s]\n",
            "Fold 0 RMSLE: 4.9679\n",
            "\n",
            "Training until validation scores don't improve for 100 rounds.\n",
            "Early stopping, best iteration is:\n",
            "[61]\tvalid_0's rmse: 5.61006\n",
            "fit fold=1  0.037[s]\n",
            "Fold 1 RMSLE: 5.6101\n",
            "\n",
            "Training until validation scores don't improve for 100 rounds.\n",
            "Early stopping, best iteration is:\n",
            "[49]\tvalid_0's rmse: 6.04694\n",
            "fit fold=2  0.041[s]\n",
            "Fold 2 RMSLE: 6.0469\n",
            "\n",
            "Training until validation scores don't improve for 100 rounds.\n",
            "Early stopping, best iteration is:\n",
            "[31]\tvalid_0's rmse: 5.44903\n",
            "fit fold=3  0.029[s]\n",
            "Fold 3 RMSLE: 5.4490\n",
            "\n",
            "Training until validation scores don't improve for 100 rounds.\n",
            "Early stopping, best iteration is:\n",
            "[66]\tvalid_0's rmse: 5.46162\n",
            "fit fold=4  0.040[s]\n",
            "Fold 4 RMSLE: 5.4616\n",
            "\n",
            "--------------------------------------------------\n",
            "FINISHED | Whole RMSLE: 5.5167\n"
          ]
        },
        {
          "output_type": "display_data",
          "data": {
            "image/png": "[encoded data removed]",
            "text/plain": [
              "<Figure size 576x432 with 1 Axes>"
            ]
          },
          "metadata": {
            "needs_background": "light"
          }
        }
      ]
    },
    {
      "cell_type": "code",
      "metadata": {
        "colab": {
          "base_uri": "https://localhost:8080/"
        },
        "id": "6pJHhdZwwsik",
        "outputId": "d5a7e108-cfdc-43fd-c6ca-8cef5489b727"
      },
      "source": [
        "pred0 = np.array([model.predict(test_feat_df.values) for model in models])\n",
        "PRED = pred0[4]\n",
        "PRED[0:5]"
      ],
      "execution_count": 16,
      "outputs": [
        {
          "output_type": "execute_result",
          "data": {
            "text/plain": [
              "array([53.92580309, 44.40388593, 35.80356852, 29.46083145, 59.29976295])"
            ]
          },
          "metadata": {},
          "execution_count": 16
        }
      ]
    },
    {
      "cell_type": "code",
      "metadata": {
        "colab": {
          "base_uri": "https://localhost:8080/"
        },
        "id": "ToZO-w-fwwkJ",
        "outputId": "d48ac5b3-7d78-435f-b0ea-174762ffb4d5"
      },
      "source": [
        "ANS=np.array(testY)\n",
        "ANS[0:5]"
      ],
      "execution_count": 17,
      "outputs": [
        {
          "output_type": "execute_result",
          "data": {
            "text/plain": [
              "array([49.3 , 42.59, 39.25, 23.35, 61.59])"
            ]
          },
          "metadata": {},
          "execution_count": 17
        }
      ]
    },
    {
      "cell_type": "code",
      "metadata": {
        "colab": {
          "base_uri": "https://localhost:8080/",
          "height": 483
        },
        "id": "0f0Bdp1cwy_h",
        "outputId": "eea3421e-9bbe-495c-c081-816d48bd9d96"
      },
      "source": [
        "fig, ax = plt.subplots(figsize=(8,8))\n",
        "sns.histplot(PRED, label='Predicted Test '+target[0], ax=ax, color='black',bins=30)\n",
        "sns.histplot(oof, label='Predict Train '+target[0], ax=ax, color='C1',bins=30)\n",
        "ax.legend()\n",
        "ax.grid()"
      ],
      "execution_count": 18,
      "outputs": [
        {
          "output_type": "display_data",
          "data": {
            "image/png": "[encoded data removed]",
            "text/plain": [
              "<Figure size 576x576 with 1 Axes>"
            ]
          },
          "metadata": {
            "needs_background": "light"
          }
        }
      ]
    },
    {
      "cell_type": "code",
      "metadata": {
        "colab": {
          "base_uri": "https://localhost:8080/",
          "height": 429
        },
        "id": "OhiZQmciw1Z9",
        "outputId": "807480e8-21e4-454d-8d42-a99a56eb6d0f"
      },
      "source": [
        "fig,ax = plt.subplots(figsize=(6,6))\n",
        "ax.set_title(target[0],fontsize=20)\n",
        "ax.set_xlabel('Actual Test '+target[0],fontsize=12)\n",
        "ax.set_ylabel('Predicted Test '+target[0],fontsize=12)\n",
        "ax.scatter(ANS,PRED)"
      ],
      "execution_count": 19,
      "outputs": [
        {
          "output_type": "execute_result",
          "data": {
            "text/plain": [
              "<matplotlib.collections.PathCollection at 0x7f2e0c8d8710>"
            ]
          },
          "metadata": {},
          "execution_count": 19
        },
        {
          "output_type": "display_data",
          "data": {
            "image/png": "[encoded data removed]",
            "text/plain": [
              "<Figure size 432x432 with 1 Axes>"
            ]
          },
          "metadata": {
            "needs_background": "light"
          }
        }
      ]
    },
    {
      "cell_type": "code",
      "metadata": {
        "colab": {
          "base_uri": "https://localhost:8080/",
          "height": 429
        },
        "id": "bu5KyfTjw3tY",
        "outputId": "2a5fad55-678e-43f9-da43-5dc1c4e841ab"
      },
      "source": [
        "fig,ax = plt.subplots(figsize=(6,6))\n",
        "ax.set_title('Promotion vs '+target[0],fontsize=20)\n",
        "ax.set_xlabel('Promotion Type',fontsize=12)\n",
        "ax.set_ylabel(target[0],fontsize=12)\n",
        "ax.scatter(data1['Promotion'],data1[target[0]])"
      ],
      "execution_count": 20,
      "outputs": [
        {
          "output_type": "execute_result",
          "data": {
            "text/plain": [
              "<matplotlib.collections.PathCollection at 0x7f2e0c83e990>"
            ]
          },
          "metadata": {},
          "execution_count": 20
        },
        {
          "output_type": "display_data",
          "data": {
            "image/png": "[encoded data removed]",
            "text/plain": [
              "<Figure size 432x432 with 1 Axes>"
            ]
          },
          "metadata": {
            "needs_background": "light"
          }
        }
      ]
    },
    {
      "cell_type": "code",
      "metadata": {
        "id": "tIK2ch6Zw51_"
      },
      "source": [
        ""
      ],
      "execution_count": null,
      "outputs": []
    }
  ]
}